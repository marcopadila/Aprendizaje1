{
 "cells": [
  {
   "cell_type": "markdown",
   "metadata": {},
   "source": [
    "# Taller Práctico Clase 9: Reducción de Dimensionalidad\n",
    "\n",
    "**Objetivo:** En este taller, aplicaremos y compararemos las tres técnicas de reducción de dimensionalidad vistas en clase: PCA (Análisis de Componentes Principales), t-SNE y UMAP. \n",
    "\n",
    "**Dataset:** Usaremos el dataset `digits` de Scikit-learn, que contiene imágenes de 8x8 píxeles de dígitos escritos a mano (0-9). Cada imagen está \"aplanada\" en un vector de 64 características (dimensiones), lo que lo convierte en un excelente candidato para la reducción de dimensionalidad y la visualización."
   ]
  },
  {
   "cell_type": "markdown",
   "metadata": {},
   "source": [
    "## 1. Configuración e Importación de Librerías"
   ]
  },
  {
   "cell_type": "code",
   "execution_count": 20,
   "metadata": {},
   "outputs": [],
   "source": [
    "# Librerías para manipulación de datos\n",
    "import numpy as np\n",
    "import pandas as pd\n",
    "\n",
    "# Librerías para visualización\n",
    "import plotly.express as px\n",
    "import matplotlib.pyplot as plt\n",
    "\n",
    "# Scikit-learn para carga de datos, preprocesamiento y modelos\n",
    "from sklearn.datasets import load_digits\n",
    "from sklearn.preprocessing import StandardScaler\n",
    "from sklearn.decomposition import PCA\n",
    "from sklearn.manifold import TSNE\n",
    "\n",
    "# UMAP (es necesario instalarlo: pip install umap-learn)\n",
    "import umap\n",
    "\n",
    "# Configuraciones adicionales\n",
    "pd.options.plotting.backend = 'plotly'"
   ]
  },
  {
   "cell_type": "markdown",
   "metadata": {},
   "source": [
    "## 2. Carga y Exploración del Dataset"
   ]
  },
  {
   "cell_type": "code",
   "execution_count": 21,
   "metadata": {},
   "outputs": [
    {
     "name": "stdout",
     "output_type": "stream",
     "text": [
      "Forma de la matriz de características (X): (1797, 64)\n",
      "Forma del vector de etiquetas (y): (1797,)\n"
     ]
    }
   ],
   "source": [
    "# Cargamos el dataset de dígitos\n",
    "digits = load_digits()\n",
    "\n",
    "# X tiene los datos de las imágenes (las características)\n",
    "X = digits.data\n",
    "\n",
    "# y contiene las etiquetas verdaderas (el dígito del 0 al 9)\n",
    "y = digits.target\n",
    "\n",
    "print(f\"Forma de la matriz de características (X): {X.shape}\")\n",
    "print(f\"Forma del vector de etiquetas (y): {y.shape}\")"
   ]
  },
  {
   "cell_type": "markdown",
   "metadata": {},
   "source": [
    "Cada imagen tiene 64 píxeles (8x8), que actúan como nuestras características. Tenemos 1797 imágenes en total.\n",
    "\n",
    "Para tener una idea de cómo se ven los datos, podemos visualizar algunas de las imágenes."
   ]
  },
  {
   "cell_type": "code",
   "execution_count": 22,
   "metadata": {},
   "outputs": [
    {
     "data": {
      "text/plain": [
       "array([[ 0.,  0.,  5., 13.,  9.,  1.,  0.,  0.],\n",
       "       [ 0.,  0., 13., 15., 10., 15.,  5.,  0.],\n",
       "       [ 0.,  3., 15.,  2.,  0., 11.,  8.,  0.],\n",
       "       [ 0.,  4., 12.,  0.,  0.,  8.,  8.,  0.],\n",
       "       [ 0.,  5.,  8.,  0.,  0.,  9.,  8.,  0.],\n",
       "       [ 0.,  4., 11.,  0.,  1., 12.,  7.,  0.],\n",
       "       [ 0.,  2., 14.,  5., 10., 12.,  0.,  0.],\n",
       "       [ 0.,  0.,  6., 13., 10.,  0.,  0.,  0.]])"
      ]
     },
     "execution_count": 22,
     "metadata": {},
     "output_type": "execute_result"
    }
   ],
   "source": [
    "digits.images[0]"
   ]
  },
  {
   "cell_type": "code",
   "execution_count": 23,
   "metadata": {},
   "outputs": [
    {
     "data": {
      "text/plain": [
       "array([[ 0.,  0.,  5., ...,  0.,  0.,  0.],\n",
       "       [ 0.,  0.,  0., ..., 10.,  0.,  0.],\n",
       "       [ 0.,  0.,  0., ..., 16.,  9.,  0.],\n",
       "       ...,\n",
       "       [ 0.,  0.,  1., ...,  6.,  0.,  0.],\n",
       "       [ 0.,  0.,  2., ..., 12.,  0.,  0.],\n",
       "       [ 0.,  0., 10., ..., 12.,  1.,  0.]])"
      ]
     },
     "execution_count": 23,
     "metadata": {},
     "output_type": "execute_result"
    }
   ],
   "source": [
    "digits.data"
   ]
  },
  {
   "cell_type": "code",
   "execution_count": 24,
   "metadata": {},
   "outputs": [
    {
     "data": {
      "image/png": "[encoded data removed]",
      "text/plain": [
       "<Figure size 750x300 with 10 Axes>"
      ]
     },
     "metadata": {},
     "output_type": "display_data"
    }
   ],
   "source": [
    "plt.figure(figsize=(7.5, 3))\n",
    "for index, (image, label) in enumerate(zip(digits.images[:10], digits.target[:10])):\n",
    "    plt.subplot(2, 5, index + 1)\n",
    "    plt.imshow(image, cmap=plt.cm.gray_r, interpolation='nearest')\n",
    "    plt.axis('off')\n",
    "    plt.title('Label: %i' % label)\n",
    "plt.show()"
   ]
  },
  {
   "cell_type": "markdown",
   "metadata": {},
   "source": [
    "## 3. Preprocesamiento: Escalado de Datos\n",
    "\n",
    "Como vimos en la teoría, PCA es sensible a la escala de las características. Aunque en este caso todos los píxeles están en una escala similar (0-16), es una buena práctica estandarizar los datos para que tengan media 0 y desviación estándar 1. Esto asegura que cada característica contribuya por igual al análisis."
   ]
  },
  {
   "cell_type": "code",
   "execution_count": 25,
   "metadata": {},
   "outputs": [],
   "source": [
    "scaler = StandardScaler()\n",
    "X_scaled = scaler.fit_transform(X)"
   ]
  },
  {
   "cell_type": "markdown",
   "metadata": {},
   "source": [
    "## 4. Análisis de Componentes Principales (PCA)\n",
    "\n",
    "Comenzaremos aplicando PCA para reducir la dimensionalidad de 64 a 2 componentes para poder visualizar los datos en un gráfico de dispersión."
   ]
  },
  {
   "cell_type": "markdown",
   "metadata": {},
   "source": [
    "### 4.1. Varianza Explicada\n",
    "\n",
    "Antes de reducir a 2D, es útil ajustar PCA con todos los componentes posibles para ver cuánta varianza explica cada uno. El **Scree Plot** nos ayudará a decidir cuántos componentes son \"suficientes\"."
   ]
  },
  {
   "cell_type": "code",
   "execution_count": 26,
   "metadata": {},
   "outputs": [
    {
     "data": {
      "application/vnd.plotly.v1+json": {
       "config": {
        "plotlyServerURL": "https://plot.ly"
       },
       "data": [
        {
         "fillpattern": {
          "shape": ""
         },
         "hovertemplate": "Número de Componentes Principales=%{x}<br>Varianza Explicada Acumulada=%{y}<extra></extra>",
         "legendgroup": "",
         "line": {
          "color": "#636efa"
         },
         "marker": {
          "symbol": "circle"
         },
         "mode": "lines",
         "name": "",
         "orientation": "v",
         "showlegend": false,
         "stackgroup": "1",
         "type": "scatter",
         "x": {
          "bdata": "AQIDBAUGBwgJCgsMDQ4PEBESExQVFhcYGRobHB0eHyAhIiMkJSYnKCkqKywtLi8wMTIzNDU2Nzg5Ojs8PT4/QA==",
          "dtype": "i1"
         },
         "xaxis": "x",
         "y": {
          "bdata": "N2fTGIzOvj8SuktsPaTLP5BgpCSnOdM/VEM9IFpi1z9kjtrLo37aP3lSZ8sUMd0/e8Qzu/O23z/i4uFVIvHgP6YKX5a/5uE/R0E1I/DW4j9I/JHT0rrjP4egv5bvjeQ/jiBpKFRI5T9dDpeAx/7lPxt1lqcnsOY/4A9Oo/ZM5z/dUSKPat7nP+0KllybZOg/c7najmPn6D+GdCkpYmHpPx/WqSHPz+k/Gfg1dwE46j/zztPYgpfqP9hExE0n7uo/viRjKQ0+6z+Qjtn/bYvrPwOqDbYg0us/XQssYqoW7D/dkzA5A1jsPxi/2Nwplew/XStcbJrQ7D/v6ZLaSAntP3DeSk/aPu0/A0o6tFhz7T+icIDtyqPtPwDOUBKV0u0/LWr/h3r97T9B+cfE8iTuP4xsgvMdSu4/UPM9Uchs7j/d3g/eC47uP9vC5FaTru4/Usy9i8fL7j/gk/1esufuP0KCi5ONAu8/A17rYwgc7z+9kbtArDPvP4nRKadSSu8/SDoI8o1f7z8EGxVpw3LvP805qpakhO8/RWkkV1KV7z/8o3yIVqXvPy91LwBbtO8/YtN8Fx3C7z8raQF1Us/vP/DP7UNt2+8/TE1g537m7z9wk990vvDvP6jlFR09+e8/AAAAAAAA8D8AAAAAAADwPwAAAAAAAPA/AAAAAAAA8D8=",
          "dtype": "f8"
         },
         "yaxis": "y"
        }
       ],
       "layout": {
        "annotations": [
         {
          "arrowhead": 1,
          "showarrow": true,
          "text": "90% de Varianza Explicada",
          "x": 30,
          "y": 0.9
         }
        ],
        "legend": {
         "tracegroupgap": 0
        },
        "shapes": [
         {
          "line": {
           "color": "red",
           "dash": "dash"
          },
          "type": "line",
          "x0": 0,
          "x1": 1,
          "xref": "x domain",
          "y0": 0.9,
          "y1": 0.9,
          "yref": "y"
         }
        ],
        "template": {
         "data": {
          "bar": [
           {
            "error_x": {
             "color": "#2a3f5f"
            },
            "error_y": {
             "color": "#2a3f5f"
            },
            "marker": {
             "line": {
              "color": "#E5ECF6",
              "width": 0.5
             },
             "pattern": {
              "fillmode": "overlay",
              "size": 10,
              "solidity": 0.2
             }
            },
            "type": "bar"
           }
          ],
          "barpolar": [
           {
            "marker": {
             "line": {
              "color": "#E5ECF6",
              "width": 0.5
             },
             "pattern": {
              "fillmode": "overlay",
              "size": 10,
              "solidity": 0.2
             }
            },
            "type": "barpolar"
           }
          ],
          "carpet": [
           {
            "aaxis": {
             "endlinecolor": "#2a3f5f",
             "gridcolor": "white",
             "linecolor": "white",
             "minorgridcolor": "white",
             "startlinecolor": "#2a3f5f"
            },
            "baxis": {
             "endlinecolor": "#2a3f5f",
             "gridcolor": "white",
             "linecolor": "white",
             "minorgridcolor": "white",
             "startlinecolor": "#2a3f5f"
            },
            "type": "carpet"
           }
          ],
          "choropleth": [
           {
            "colorbar": {
             "outlinewidth": 0,
             "ticks": ""
            },
            "type": "choropleth"
           }
          ],
          "contour": [
           {
            "colorbar": {
             "outlinewidth": 0,
             "ticks": ""
            },
            "colorscale": [
             [
              0,
              "#0d0887"
             ],
             [
              0.1111111111111111,
              "#46039f"
             ],
             [
              0.2222222222222222,
              "#7201a8"
             ],
             [
              0.3333333333333333,
              "#9c179e"
             ],
             [
              0.4444444444444444,
              "#bd3786"
             ],
             [
              0.5555555555555556,
              "#d8576b"
             ],
             [
              0.6666666666666666,
              "#ed7953"
             ],
             [
              0.7777777777777778,
              "#fb9f3a"
             ],
             [
              0.8888888888888888,
              "#fdca26"
             ],
             [
              1,
              "#f0f921"
             ]
            ],
            "type": "contour"
           }
          ],
          "contourcarpet": [
           {
            "colorbar": {
             "outlinewidth": 0,
             "ticks": ""
            },
            "type": "contourcarpet"
           }
          ],
          "heatmap": [
           {
            "colorbar": {
             "outlinewidth": 0,
             "ticks": ""
            },
            "colorscale": [
             [
              0,
              "#0d0887"
             ],
             [
              0.1111111111111111,
              "#46039f"
             ],
             [
              0.2222222222222222,
              "#7201a8"
             ],
             [
              0.3333333333333333,
              "#9c179e"
             ],
             [
              0.4444444444444444,
              "#bd3786"
             ],
             [
              0.5555555555555556,
              "#d8576b"
             ],
             [
              0.6666666666666666,
              "#ed7953"
             ],
             [
              0.7777777777777778,
              "#fb9f3a"
             ],
             [
              0.8888888888888888,
              "#fdca26"
             ],
             [
              1,
              "#f0f921"
             ]
            ],
            "type": "heatmap"
           }
          ],
          "histogram": [
           {
            "marker": {
             "pattern": {
              "fillmode": "overlay",
              "size": 10,
              "solidity": 0.2
             }
            },
            "type": "histogram"
           }
          ],
          "histogram2d": [
           {
            "colorbar": {
             "outlinewidth": 0,
             "ticks": ""
            },
            "colorscale": [
             [
              0,
              "#0d0887"
             ],
             [
              0.1111111111111111,
              "#46039f"
             ],
             [
              0.2222222222222222,
              "#7201a8"
             ],
             [
              0.3333333333333333,
              "#9c179e"
             ],
             [
              0.4444444444444444,
              "#bd3786"
             ],
             [
              0.5555555555555556,
              "#d8576b"
             ],
             [
              0.6666666666666666,
              "#ed7953"
             ],
             [
              0.7777777777777778,
              "#fb9f3a"
             ],
             [
              0.8888888888888888,
              "#fdca26"
             ],
             [
              1,
              "#f0f921"
             ]
            ],
            "type": "histogram2d"
           }
          ],
          "histogram2dcontour": [
           {
            "colorbar": {
             "outlinewidth": 0,
             "ticks": ""
            },
            "colorscale": [
             [
              0,
              "#0d0887"
             ],
             [
              0.1111111111111111,
              "#46039f"
             ],
             [
              0.2222222222222222,
              "#7201a8"
             ],
             [
              0.3333333333333333,
              "#9c179e"
             ],
             [
              0.4444444444444444,
              "#bd3786"
             ],
             [
              0.5555555555555556,
              "#d8576b"
             ],
             [
              0.6666666666666666,
              "#ed7953"
             ],
             [
              0.7777777777777778,
              "#fb9f3a"
             ],
             [
              0.8888888888888888,
              "#fdca26"
             ],
             [
              1,
              "#f0f921"
             ]
            ],
            "type": "histogram2dcontour"
           }
          ],
          "mesh3d": [
           {
            "colorbar": {
             "outlinewidth": 0,
             "ticks": ""
            },
            "type": "mesh3d"
           }
          ],
          "parcoords": [
           {
            "line": {
             "colorbar": {
              "outlinewidth": 0,
              "ticks": ""
             }
            },
            "type": "parcoords"
           }
          ],
          "pie": [
           {
            "automargin": true,
            "type": "pie"
           }
          ],
          "scatter": [
           {
            "fillpattern": {
             "fillmode": "overlay",
             "size": 10,
             "solidity": 0.2
            },
            "type": "scatter"
           }
          ],
          "scatter3d": [
           {
            "line": {
             "colorbar": {
              "outlinewidth": 0,
              "ticks": ""
             }
            },
            "marker": {
             "colorbar": {
              "outlinewidth": 0,
              "ticks": ""
             }
            },
            "type": "scatter3d"
           }
          ],
          "scattercarpet": [
           {
            "marker": {
             "colorbar": {
              "outlinewidth": 0,
              "ticks": ""
             }
            },
            "type": "scattercarpet"
           }
          ],
          "scattergeo": [
           {
            "marker": {
             "colorbar": {
              "outlinewidth": 0,
              "ticks": ""
             }
            },
            "type": "scattergeo"
           }
          ],
          "scattergl": [
           {
            "marker": {
             "colorbar": {
              "outlinewidth": 0,
              "ticks": ""
             }
            },
            "type": "scattergl"
           }
          ],
          "scattermap": [
           {
            "marker": {
             "colorbar": {
              "outlinewidth": 0,
              "ticks": ""
             }
            },
            "type": "scattermap"
           }
          ],
          "scattermapbox": [
           {
            "marker": {
             "colorbar": {
              "outlinewidth": 0,
              "ticks": ""
             }
            },
            "type": "scattermapbox"
           }
          ],
          "scatterpolar": [
           {
            "marker": {
             "colorbar": {
              "outlinewidth": 0,
              "ticks": ""
             }
            },
            "type": "scatterpolar"
           }
          ],
          "scatterpolargl": [
           {
            "marker": {
             "colorbar": {
              "outlinewidth": 0,
              "ticks": ""
             }
            },
            "type": "scatterpolargl"
           }
          ],
          "scatterternary": [
           {
            "marker": {
             "colorbar": {
              "outlinewidth": 0,
              "ticks": ""
             }
            },
            "type": "scatterternary"
           }
          ],
          "surface": [
           {
            "colorbar": {
             "outlinewidth": 0,
             "ticks": ""
            },
            "colorscale": [
             [
              0,
              "#0d0887"
             ],
             [
              0.1111111111111111,
              "#46039f"
             ],
             [
              0.2222222222222222,
              "#7201a8"
             ],
             [
              0.3333333333333333,
              "#9c179e"
             ],
             [
              0.4444444444444444,
              "#bd3786"
             ],
             [
              0.5555555555555556,
              "#d8576b"
             ],
             [
              0.6666666666666666,
              "#ed7953"
             ],
             [
              0.7777777777777778,
              "#fb9f3a"
             ],
             [
              0.8888888888888888,
              "#fdca26"
             ],
             [
              1,
              "#f0f921"
             ]
            ],
            "type": "surface"
           }
          ],
          "table": [
           {
            "cells": {
             "fill": {
              "color": "#EBF0F8"
             },
             "line": {
              "color": "white"
             }
            },
            "header": {
             "fill": {
              "color": "#C8D4E3"
             },
             "line": {
              "color": "white"
             }
            },
            "type": "table"
           }
          ]
         },
         "layout": {
          "annotationdefaults": {
           "arrowcolor": "#2a3f5f",
           "arrowhead": 0,
           "arrowwidth": 1
          },
          "autotypenumbers": "strict",
          "coloraxis": {
           "colorbar": {
            "outlinewidth": 0,
            "ticks": ""
           }
          },
          "colorscale": {
           "diverging": [
            [
             0,
             "#8e0152"
            ],
            [
             0.1,
             "#c51b7d"
            ],
            [
             0.2,
             "#de77ae"
            ],
            [
             0.3,
             "#f1b6da"
            ],
            [
             0.4,
             "#fde0ef"
            ],
            [
             0.5,
             "#f7f7f7"
            ],
            [
             0.6,
             "#e6f5d0"
            ],
            [
             0.7,
             "#b8e186"
            ],
            [
             0.8,
             "#7fbc41"
            ],
            [
             0.9,
             "#4d9221"
            ],
            [
             1,
             "#276419"
            ]
           ],
           "sequential": [
            [
             0,
             "#0d0887"
            ],
            [
             0.1111111111111111,
             "#46039f"
            ],
            [
             0.2222222222222222,
             "#7201a8"
            ],
            [
             0.3333333333333333,
             "#9c179e"
            ],
            [
             0.4444444444444444,
             "#bd3786"
            ],
            [
             0.5555555555555556,
             "#d8576b"
            ],
            [
             0.6666666666666666,
             "#ed7953"
            ],
            [
             0.7777777777777778,
             "#fb9f3a"
            ],
            [
             0.8888888888888888,
             "#fdca26"
            ],
            [
             1,
             "#f0f921"
            ]
           ],
           "sequentialminus": [
            [
             0,
             "#0d0887"
            ],
            [
             0.1111111111111111,
             "#46039f"
            ],
            [
             0.2222222222222222,
             "#7201a8"
            ],
            [
             0.3333333333333333,
             "#9c179e"
            ],
            [
             0.4444444444444444,
             "#bd3786"
            ],
            [
             0.5555555555555556,
             "#d8576b"
            ],
            [
             0.6666666666666666,
             "#ed7953"
            ],
            [
             0.7777777777777778,
             "#fb9f3a"
            ],
            [
             0.8888888888888888,
             "#fdca26"
            ],
            [
             1,
             "#f0f921"
            ]
           ]
          },
          "colorway": [
           "#636efa",
           "#EF553B",
           "#00cc96",
           "#ab63fa",
           "#FFA15A",
           "#19d3f3",
           "#FF6692",
           "#B6E880",
           "#FF97FF",
           "#FECB52"
          ],
          "font": {
           "color": "#2a3f5f"
          },
          "geo": {
           "bgcolor": "white",
           "lakecolor": "white",
           "landcolor": "#E5ECF6",
           "showlakes": true,
           "showland": true,
           "subunitcolor": "white"
          },
          "hoverlabel": {
           "align": "left"
          },
          "hovermode": "closest",
          "mapbox": {
           "style": "light"
          },
          "paper_bgcolor": "white",
          "plot_bgcolor": "#E5ECF6",
          "polar": {
           "angularaxis": {
            "gridcolor": "white",
            "linecolor": "white",
            "ticks": ""
           },
           "bgcolor": "#E5ECF6",
           "radialaxis": {
            "gridcolor": "white",
            "linecolor": "white",
            "ticks": ""
           }
          },
          "scene": {
           "xaxis": {
            "backgroundcolor": "#E5ECF6",
            "gridcolor": "white",
            "gridwidth": 2,
            "linecolor": "white",
            "showbackground": true,
            "ticks": "",
            "zerolinecolor": "white"
           },
           "yaxis": {
            "backgroundcolor": "#E5ECF6",
            "gridcolor": "white",
            "gridwidth": 2,
            "linecolor": "white",
            "showbackground": true,
            "ticks": "",
            "zerolinecolor": "white"
           },
           "zaxis": {
            "backgroundcolor": "#E5ECF6",
            "gridcolor": "white",
            "gridwidth": 2,
            "linecolor": "white",
            "showbackground": true,
            "ticks": "",
            "zerolinecolor": "white"
           }
          },
          "shapedefaults": {
           "line": {
            "color": "#2a3f5f"
           }
          },
          "ternary": {
           "aaxis": {
            "gridcolor": "white",
            "linecolor": "white",
            "ticks": ""
           },
           "baxis": {
            "gridcolor": "white",
            "linecolor": "white",
            "ticks": ""
           },
           "bgcolor": "#E5ECF6",
           "caxis": {
            "gridcolor": "white",
            "linecolor": "white",
            "ticks": ""
           }
          },
          "title": {
           "x": 0.05
          },
          "xaxis": {
           "automargin": true,
           "gridcolor": "white",
           "linecolor": "white",
           "ticks": "",
           "title": {
            "standoff": 15
           },
           "zerolinecolor": "white",
           "zerolinewidth": 2
          },
          "yaxis": {
           "automargin": true,
           "gridcolor": "white",
           "linecolor": "white",
           "ticks": "",
           "title": {
            "standoff": 15
           },
           "zerolinecolor": "white",
           "zerolinewidth": 2
          }
         }
        },
        "title": {
         "text": "Scree Plot: Varianza Explicada por los Componentes Principales"
        },
        "xaxis": {
         "anchor": "y",
         "domain": [
          0,
          1
         ],
         "title": {
          "text": "Número de Componentes Principales"
         }
        },
        "yaxis": {
         "anchor": "x",
         "domain": [
          0,
          1
         ],
         "range": [
          0,
          1.05
         ],
         "title": {
          "text": "Varianza Explicada Acumulada"
         }
        }
       }
      }
     },
     "metadata": {},
     "output_type": "display_data"
    }
   ],
   "source": [
    "# Ajustamos PCA sin especificar n_components para mantenerlos todos\n",
    "pca_full = PCA()\n",
    "pca_full.fit(X_scaled)\n",
    "\n",
    "# Calculamos la varianza explicada acumulada\n",
    "cumulative_variance = np.cumsum(pca_full.explained_variance_ratio_)\n",
    "\n",
    "# Creamos el Scree Plot\n",
    "fig = px.area(x=range(1, cumulative_variance.shape[0] + 1),\n",
    "              y=cumulative_variance,\n",
    "              labels={\"x\": \"Número de Componentes Principales\", \"y\": \"Varianza Explicada Acumulada\"},\n",
    "              title=\"Scree Plot: Varianza Explicada por los Componentes Principales\")\n",
    "fig.update_layout(yaxis_range=[0,1.05])\n",
    "fig.add_hline(y=0.9, line_dash=\"dash\", line_color=\"red\")\n",
    "fig.add_annotation(x=30, y=0.9, text=\"90% de Varianza Explicada\", showarrow=True, arrowhead=1)\n",
    "fig.show()"
   ]
  },
  {
   "cell_type": "markdown",
   "metadata": {},
   "source": [
    "**Interpretación:** Podemos ver que con aproximadamente 10 componentes ya capturamos más del 60% de la varianza, y con unos 30 componentes, superamos el 90%. Esto nos dice que hay mucha redundancia en los 64 píxeles y que podemos representar los datos con mucha menos información sin una pérdida masiva.\n",
    "\n",
    "Ahora, vamos a reducir a solo 2 componentes para la visualización."
   ]
  },
  {
   "cell_type": "markdown",
   "metadata": {},
   "source": [
    "### 4.2. Reducción a 2D y Visualización"
   ]
  },
  {
   "cell_type": "code",
   "execution_count": 39,
   "metadata": {},
   "outputs": [
    {
     "data": {
      "application/vnd.plotly.v1+json": {
       "config": {
        "plotlyServerURL": "https://plot.ly"
       },
       "data": [
        {
         "hovertemplate": "label=0<br>PC1=%{x}<br>PC2=%{y}<extra></extra>",
         "legendgroup": "0",
         "marker": {
          "color": "#636efa",
          "symbol": "circle"
         },
         "mode": "markers",
         "name": "0",
         "showlegend": true,
         "type": "scattergl",
         "x": {
          "bdata": "G4g0gJ6g/r8qsNAmswcLwJwkWW/kAwDAAiDNEDqA+L9WYSzm5NX7v7HvJop2kPm/jD9vC0I+979KmHHPnEgGwGqcpu8k3vW/mxIdnQ8Ypb+nn6A1T+3nv9+UPJ/xtP6/k7ZOWlkV/b8mD9+aPvL1v3/zmf0G1v2/YlWMbiJT8r/oD5WcgdsGwPcI/Xzd5/2/RFcS7rCY9b8B4Y4gefwFwPcU8EE0bQXAhfomEtfW+b9p8RRDpnAMwKlYgOer3QPAuXgCXAmq979LJKDLgwMCwBtUfTWLwQXAKLqppJ5s/79sOZUmN8fzv1kp7Te63QPAS1uhSqTv87+J8hw/v7v2v/fqVZ9xqPW/JQrT+cmb+b9miyjbNx71v5mMrGXOGQXAd+qwMaXG8L8/eiRzLPT3vyMyuUcIz/S/ttIKqf5Ksb8KSvCr1HX8v47tQDT6MP6/BxeC040cBcAsjr8LK7/tv8oM8E0Xyfm/euLbXL50/784vZpzPBHnv/mcjoiWpv6/xT+VhEsq/789iimUZkjev0U8RzaTcfq/JbUdENALAcCWGF6jQezyv1qE24yDGQHAkYVM4F258b+4hW9CIcD6v39lnwo1Sum/pLjqe4lh9L9R6szNK9jzv5iZJmjGUgnAalPuq7mi+L/MPnjycgvlvxtBqh/huPS/2+VSdMqe7b9kEDrZR835v59OSEuNXALAfcEn6gqc9r8QmIUSGnAHwAGaaShK/v+/NCINdU15/L+X9UVoFGcHwP1D2vOhJva/AyFuC9s9D8BGos/Bo+EKwINqv1QDnAPAs2NVNEgn/b+5re2qch76v5YabW3E4AHAViBQKgEq+L8e0zObaHf5v7lqfzMctwHAeGiRy3NhAsCCUdRnZN4CwOe/eBjM1QDAbui9J1yKCcBvX2TsfGf/v8Z+sOEAhgXA38gjl8VfCsAIHwm5d9Xwv3DzInQyVfG/D9XdEPd1B8DA9t7jUNrovzDs2NBOdd+/TPSVGFoo87+8uT9Mo0TnvzvABOqvSfW/mLrYiUoi2j+EJwydchzwv+wN4MRvF4S/NzlJ0IFS4r+KraJvklDhPxzvMSbXrv2/7SfJfjY3+r+pFq/EPvXgvxpvqN1um8G/ck14SMx2AMDmkpdQz136v/0ZdGufLOU/nHM0xsiF6b/XKEyOxmvmv2WzNlhSmALAclCYs09Y9b+HNYW2YaD1v9V7KJMzofG/38vjWqiv8b9e0HugNgQCwBNW96V5tv+/pqz7s2rv5r/DNkaDQ6gEwIVJ21WOCOm/FeQ6rEMYAMCg4qh+F47xvynTq/enCAHA7H9nIBsO779tC+WcEDj2v3PLRU6rM/O/WBTOkAi88r831cHrgojyvw4HISst9wXAhK3g/AIyAMD9FdHq8q3vv1ZPq5O8egHA4q7uEHO4BMBIWFH0E+gEwLtwXFcQvve/5hLK22nvAMDl9qCaTUvxv/nWkK9gzem/9te9eyp7/L/NAMVQqLUDwFY65NaS4uG/ZUDnvyfi5L9DEXmUXNz3vxMfKPH6ZfG/duHLKxjx87+mGd1hLSP6v+8zYe5i4uy/pI8fAjV1479yAmUb7nLxv4TPLc3VyuW/l7/9Cg6l/L+nR+rOLdPuvxDjML/vgvW/jqv0y3wSBcALp2l/zaf/vzdO7gIWxPq/LK1mr8vWBsDseAYSp/P2v2HsVwJPAQHAL4FTMRNe7b+rWrorHpQCwLg1isRHUArAMPvr1lw7AsCoa4baMd4JwOReDzgheAHAwkRckJZ06b9qW2dOROnnv8QHjF+krPO/Db9dmG2P879ibfSIyFkHwJVuHCxAD/W/JhR4caez/b+6J+c4i4v8vyWZppZLlPa/cPjI/7z/9b+cBGKMdLzWvzk4fNMAJfC/uMOCsshiA8A=",
          "dtype": "f8"
         },
         "xaxis": "x",
         "y": {
          "bdata": "R+6+4EaL7r+k3pPaqrrfvwDstieuHfW//5hTHgWP+7/AyGZT6Drbv1p861259wXA3XGDHb+8B8CypaMRi8Xyv5GkfxW6egPAItdBweOdCsDK0SaOOVcIwEsDdyQYSQ7AAD5Yphl4BcBUkEpjF3YEwOBrBKchbPm/CH431GLSDcDJCWYS18/2v9w8YydSqPm/Dd8lS5QOCMB++aP0Q/P9vzJ84ZNU+wbAMXO+UW70BsCm06R7mEIBwAMSdHxU3wzA+Jq8z+KVBcBlEUcpvAwHwFI+2CRTbey/E5MCW+8yAsB7XiRYbRj2v7WO7VMkace/0QpQOkPGzb/8Gg19kk8EwCIy1L5IRgPAHr+N3/tU/L+vreIjwxz7vyGGq9cqqPq/UWGfDvQx9L80W+BQIcUHwOt40PJDHgnAhZTFl3H2CMCaTG3i1H8BwNEI6QtI0gPAJqNuj+hS8b8M8lgywmoAwKOVMAW7iArAttS69nUcAsDFl4+agCQEwAVxvfsA1Oa/2xIiQMVl/b+bs2aXnDEQwAONAL5/+wbA1z13tR+v+r/UKlzCl0n2vwmbfkXvmvm/kFU9QDBZ079JE15kpdfvv5j9FhTS1QHAGPH/YlDnAcB3166r02ALwMoSY/eQ+N+/8jzSW6s5/b+mTul3dkLjv6ja9eU41ey/Bqn80rSd0T+x3DeXjUX3v8nL6WZcI/6/Bww7VJeWxT9VD16O80T9v4Gaj85qPvW/fA1oyDOcAsBf8dW0O6wDwMbrZ0XBb9m/b+hesCl84L83WLeVE8L4v9lDs3VCO+2/pVtLE1O8A8DP4Kmm0L0DwJiXEQXL//G/ggNvfm4x8L8GOE/WaXv9v5rzwcbCt+a/DYu7ogHdA8BkLovfp038vxyGdJohDf2/5lOCSIeZ0r+hwdfgNhjuv8QgpV2Syfm/6pVxrS0g2b/JqRSqgIL+v4pXX2uOwfi/eReT+o91+79ZKMel1l0CwJFpKIUX1/+/I51IoyvvAcDCHqWROvH7v15lqiY6zQHATKIhPjzIAMDzNnpbz2/xv4YIGutnZgnAMInHCqEX/b+oSdasKy4AwPNw+MrHvfe/GgB+MzLyBsA9/c0MuI0MwNuuWfjZFAbA6EWsivi/DMDQIJ6yRfgKwHjqCDSIGg3AuEFU0mWuBsAv3bOW00D/v1/PMM2ZRwvAqsZR58RrEMDviORnHLz5v5D+TaHm+QrAJ0R0yCoC/L/TcGc1UPbuv/+zOrgDvfa//sJPT7htvj/PFeBUfT/kv/DbP08Bwua/FtvloXLU0r8cyX/84zbfv6S/Yw8Zm5u/abFV6p923z8lEH1lMeyhPxO1M4JV7/+/lFAdBUT/8j9oAdtm71EKwP7YEDFCeQPA4iRl5F6sC8DMuNeHkekNwPcyliOk7uy/ttf8ehVUB8Au48V/G6sEwBT4Uc7ioPq/nPEQVRN39L9uTj+op8D4v2nuhEzHqwXAPbLikxdBBcDVC2tI7KH5v3El7nsqafm/q9rOLjAu/L+zwETLGTL5v4iN7prDnAXAH0q2nxpiBcAgXie7h1QCwBD4w6kZdwHAVTT+h+tzDMDzYQYHMFMDwEnqr95oFQzAhiE1LwHz+79iNkPB64oIwPlt+xi3Yvm/6qZqgsArA8Dnl0yhp1YEwAX/tbifePu/k3BnCTtW4b/DmzxAKzYGwKC6qtpPPwDAeOqoQyWU1r9FQAPSn+wHwKoboxZ7gAPAYwKJNXypCMCNzeYR3P79v69NCBe5NPG/E5yFj5vJA8BOLGb1VSkGwL6k9m0DvAjABY+7YwwLAsDG8mvAXAQCwOOl7ZCnmf+/KlKlJwsSAcB7wvMLOEf1vxhtdPqL8/u/wj8M0deo97/kJpA/kY0CwB/oLQSEmwrAfmrtQq/f9r8=",
          "dtype": "f8"
         },
         "yaxis": "y"
        },
        {
         "hovertemplate": "label=1<br>PC1=%{x}<br>PC2=%{y}<extra></extra>",
         "legendgroup": "1",
         "marker": {
          "color": "#EF553B",
          "symbol": "circle"
         },
         "mode": "markers",
         "name": "1",
         "showlegend": true,
         "type": "scattergl",
         "x": {
          "bdata": "iNq+Ru3Y4r/pNETKuoEAwDBS2lc4Hvu/BbQnuv7Y/7+rIkYfnib9vx0qmgWrygPA6ZotWT8lAsAb2qMEhUz1v9LCtz1hf/6/UskBHoPR/79TyU8ohMX5v1QHhSzFwvS/4rfJNHh//b/ie5xuJNULwETplvpbGwrAMD3NzsTJBMCFw2vmiWIKwMQNvqOn5gvAFGkYb8JhBsBOqxF2R70EwCzw4RuGjArAcn/MHtuQ/L93wMnO3owHwOQZpEF6YATAzByZSYnABMDgh9RVTQ4QwJh8UA9OxNa/753XfGAs+b+yQTtpxfL/v9HG2o8BQto/YvyzjjAd4b/IkEUbkwkEwCW91OcRaKq/fkKDbItJ6L/h64N4CUTjv16A8Qn8nuO/B7mqs4VZ1j81ZjTD37LTP+vvQibiocM/jGLqM2MwAsAUjjLmS671v9+xbIgqZQbA96u9STGO/7+594H5ITXzvylPx8wgefs/2FKqr2zp+798w/Ovctf2v2HZtMR+aQHABFH4GM169L+gpDmIFxr4vxWqmxNz//G/YCGXx9vWA8B2Ai8KrjIFQDNbKeNqzAJA+JwtMwKuA0CaCFLE6Yf/P/2099p8EO4/niiaCFS+/j8wsThwX+HpP8X32GS8Xvk/d4cWSz+3/D8CKAJ3+ST0P7QjohWveARARVeN/Gps1z/G99PbSwT3PwNPF1mL2OG/ffcik4lzwD+9qMQZpVXmv39I6M4OQPq/qJOaP9aq/r/tE4eni2qfP0OuVK0TE/m/TDvaB/dP6L/DNYpYnsC5P2bfIDea3cg/dGIZnyUg7b/1LBtpo7QAwHP0emLp7fa/UR6bYWwy8D+pS6gXP2TlPyJujDb8hpS/Q73rOH3267/gj5fpFg/jP17pBdgFTAlAGQj4hZj7wD/y0JQStXb6P2WMTb4qtba/J4PDmQz1wz/P1aQST7vSPww612vt3uQ/G4mMXTEe97/0bZHuGegDQJws5XSAjwtAzMYn82198T+56h+e3gQDQPzUTlswuQVAb5er/z4NAUBNM2zvJ6oDQBiH3kacXgRAPbd4dM/3AkDzIBh5bBIGQAIThddPl/g/eelwZFEqAEDPRRNeEtwDQOmPtly/0+i/4t4n1t7K0b+H4PYK/S7VP5dNTOUDZrg/YZ3tTDTjx7/zfScMgJX0vw+Nc/KMLdU//8FA3LFcwj9v5P89z5XhP+eCZdWT5Og/Py90EogOx7+6OThodWDcv3RVprPLcdQ/Vvw0mS9a/b8qXbyoTi4FwFh9lVGf5NG/ug1IB71l3D9F220WWhzyv10kw8T6jdQ/aysJljkE5T86kR0Co/HjP2iBPemsguE/Neu71qsk0D/s4u+8DMZrvyjKt9tKGFg/dczZi2He2j8eFUwF+K0BwFNFqpziueS/JqmmzuuABcCzb2uyJEWgPyvBmmL3iuI/tTozP6PJBsC+FllYUBnlP7QGv5L0fQHAPMnP/YbF3T9Cui+nhODiP1V1PZb9quM/vSHrUKal2D8v2E2woXm3PyKEHP4a4/W/eZZPSzkK/L+SpFuvUTj/v41lv2SPiQbAD0i7M9GEAsA55IcV9pv0vxDAgVUY/v2/dmT7iHM7A8DmA+RBY931v6CT38y39v2/h8N8r1CR+r+Khx3kKM0EwEAMZZ9nZQDALEjAFcBj47/OqSb5wgLfP6hpbXo9PvC/fWuS/RkAwj8ZB4XxcWCgP+IjpcddqvG/WYSand7917/ZqXFbiDG6v2lcG7RAN8Q/Hzr97z3Wwb+dH2NCG+ehPwt84+cpSrg/10mGNmo8or+GgCtZSzDOP6naRZ1pbQDAfdBEzOfMwT+aP7lay65yPzre+jNMOOK/WCD6CnaX0T8dSox9fQucP4KQX1WNbfG/EXmVd94i4r+mbpXIxTnEP36NbKaxU++/GWO0lD0Z9L9KPD6yG2rovw==",
          "dtype": "f8"
         },
         "xaxis": "x",
         "y": {
          "bdata": "Jiok0Z2W7T+TP2h5KCIAQElB1KRkmgBARtxWIb7a9T/QgxwPOwj5P513ayA82v8/4NzdWX2O7z+vhaljX8YEQN5SelKQowBAk5hLpFUFBEBLWtJRTl7rP+XLuafMRMS/E0IDwxmyAEBneicKtc4HQGCj3Hlb5wdATyHzAzY7BkAPeiaKJSAGQGW4zaTV/P8/SRNXP0UDBUB3P37ux4v4Pz+51jfGUAhAZbQQDQEbAEBS6aXF4SsEQM9VTeQkC/w/kJmkcMwgA0CuwMrIduUFQL/1pp2AtuY/CSJtOnfA+D/XOJtPzgTwP5HqAt2Jo9a/V0qW+9UFhL9zWeJ6HmoAQJOwEJdBtNU/wqbQSSgM/T+p7sZCI6P0Pws6/AxCR+4/XTCBXSKEr78znhZvDu75P+xMwX88bN+/WM40Bafn+z+EU2Jq7Z/zP8nl4hjalPw/0GyZw28n8z/DE6FgddXjP6jSP/weNwHA/7AyCvYP+j8xXW7+/y7tP31aqKSuX90/SzBZXENM9j8MVxC7TbcAQP4BfHZCh9o/OijJmuRz9D/ogC3nnbMLwIIWGoTq7QXAzNpNVSaYCMBy/uChYG8PwMNFGpdkDBDA7oGiQWhoDsBc526f8tcSwLjlczhSNg/A1gC0FBImC8Cn5qhkzPMMwChligXo+w7AJe64/ECl2b+cV9irXNYDwNrU8cQdNwBAg4nFC//Lbj/ZLd18axbtv9eOQB1Wog1AsrWhdDJvCEAMlT6o8fkAQAq9F12txdQ/aq9VzcK8CUAjWQK7bmb1P2vEyJ7mCuk/drUqU1n/7T+sS9E7sVj7P8PdCphvAARA6z/o9Pwa9j/11k/7L234P3ibfZoY+f8/hq7mQwwF4r/7gv9xwMHiPybSgDUiWQbAewJJJsGmAEANVKTqCBXsv6Z/BKf06uU/rDFTT/Xl9j+inrYDAj/tP3g8USvenfQ/AOHGOSUoDED8dV6Yt0sEwGP4WvXbRQXA+QvzShZQBMC+AcCseoILwFYqvBsbOAzAeC0fn1kGCsBnCF2LAfUGwO44qgoHdwvASKZDUGEpBsDE0Ux+/58HwLDVwDrFCgHAaB69u0HcCMDCl0mGToAJwFhP+5uQrf8/dXOA+eWz2z8iH4xtKf3mP0EFPrQcJ+w/cR9koVJy4D+CHtL8j0Pav0Nazxf+AvE/mHBCaQpd0j/vFOcJ+/7vP5YxRQbsqfw/WpFbqZ858j8N4xjXZBzGv57uBfnektU/gGY9lgU79z/gP3HGCbPzP4In7sjGIdI/50/7WHH+8z/ZBO/WUI/0Pw5aqVaPRfQ/NmkCjuuiob+ollSHyiH2P56+1p6cF/s/nc9u9tRr6z82s8vVSnLSP7zV6wky3uu/HSts9EWO+b8B8wBbH67zP9KP73M9XOg/AdqtH0JJ8z8xoSzX9zHmP7QWgoo9OvE/aqRmG3us5z+41Z9pE7bxPzgS8jRjcfA/XJg1Cmwv6z+miqhlPH35P+2OoO/0SNM/tukl7S9r2z+GpFgICJi/P1z1UflTGvY/PQIEzNrJ8D9A0gQmScDzP85Ss3D/mOs/edwmvNuz8D9hgCj5fomsvxITfu7W3OE/R2nzX18j7D/0PwErAg36P3gc+4qTg+0/WNnjmJdf9D+P5kSohAHvP4BZcADe1QNAKQHGLmae9j9gAef6puzhPzC+X2wFyNq/o25aED6J8j8qIjqrA0XuP+KlAfCSpOI/ic8YQ/AF1j/q3wwuKHPhP3quj1qSr/I/GpupY9gR8T98HosOC/rvP+7HmRXbDvc/b/aCo4M09T86T/k6IFznv2IvwBHEZfE/PtViiPOp6b8BBM0nYonav1Y3FnGkMeg/DclPqVfI1j+BCPVXlrLtP0tDnHEdAdQ/lF7ZiVk3/z+Vn6fIPnb+P0PnD0HZYNa/dhVPn3MD3j8Rj6ksuZbkPw==",
          "dtype": "f8"
         },
         "yaxis": "y"
        },
        {
         "hovertemplate": "label=2<br>PC1=%{x}<br>PC2=%{y}<extra></extra>",
         "legendgroup": "2",
         "marker": {
          "color": "#00cc96",
          "symbol": "circle"
         },
         "mode": "markers",
         "name": "2",
         "showlegend": true,
         "type": "scattergl",
         "x": {
          "bdata": "74EQ6CbV9L8DVI5z//3+P5Wlneqj6ghAf8ANrWzb5b8yoxnV/o4AwNl1WfZzOQnAHWLxH4+B978oEIrKhbT2v8D67FBW1gjA/lCvRBhuEECs8jU63u/4P9pPSkJNNu6/a6BuoIZM6D/X1qyW9j0UQF/qZVD2kgtAQuFg7XIQBUDkvDsqloAOQLLqg0shXg5A+OJIG4EsCEAan/o7P9UIQL9peTST7PU/lEidKYHaAUBZvn2AWgILQE2VEu9A3hBAOgemtpydEECQZpeT0vICQM4RbcZLOg1AfO1AxpmfEUD5EVH2hXETQJ86DCkbzxdARLEDw5eWCUCfIeqqmqAQQCRf6bfXwBdAFW0f2DPXE0BnTfwKo74WQOq1+UJmmRBAffQMz9kfDkAtLIWJS4gVQEUq+jhXARpA6bw8Tz7qC0AxFpp0fmICQH2MG++YuQhAXRMI/S3rD0DOysdXUVcMQEe8HCtZjw1AFN6xcYSnBUBrD1zJCuEGQAX3OTE/VA1AtEbCjdaoCUC4j8ZQZYIQQF8A6U6rWxFA/fcZ16JG4r8odd31GyzxP085Zn+oDgBAgEVxIJ+cAkA09sKUxYwLQH3CintTtwVA5rcABW2sDEBkybXF9IUGQHjowot6BxBAMgVHmbTuEUAbNtwLXr0QQANE5zUPjxFAl5oGUN6VFUC2JbV5pt4HQI+/cqSE5RFAP+GKnwBNCkCIs20/vNYNQLpMG86pPghAiY9D5HJbBkCoRUZpAjb2P0wYKxgnm/M/2SfM/ZT1BEC5/hJQd7ADQFFp0gAFThBAymRnyiiOCkDr/M79kT8KQMMvOs9ISQ5AbCQcsxUKFUCP0V/42ykbQNMBUH2WLxZAEitKQsJ1DkBtWHZrf5sRQN4Uhm+yDRNAHzEOi2BYEkBFD7IZ9tEVQKtlatTrVBRALpjzHwa1+j/nuWs888UXQBpg34CpUuq/P9ohsPTpDECGGuApoxAVQMIDtlTbvBdAn3Dqh1hrGEDf7xor2XEZQCcsA5P0DhFApAoqV0HUD0CgF6AbZDsSQHjDWX/iKRBAt5t0f+PNGUCke2ToZzIMQCX4eiCqGAhAmWTkxvC9GUDV6wbCpCIWQEJOGPakMQdAE88hWjT3EECZVB4bQKAMQJoV6oERCwxATt8zDoeXCkAjaQqSjpMNQHbNcCSn3xdARa9FRbOeGECRCwzH20sDQJg6/NOwEAVAohkE9/Y7GEDmf+RMgcASQD5OLCMG8RJAOpiHwAoiFEC6JtajKHoQQIlGMemTuhlAQR4G+r5MF0CFV74P9foXQHBpW/8Uqg1AK+hXn+MtE0AqyflF3oUTQO3RfKOQgBZA/MnM9y/9G0AVaMuY24z9Pyuu18CZqQJAUTnDDjbY9j/IcttmJX4FQN9U2jzggPc/qNnCIFsOAUAr70CZkyoDQHaBJtZWOhRAi2Tt8Tk36z+sRc05koUJQJwyvr7F8AVA7kYbdtHQCkC6Ndmx0tUPQIc+ZGF68hFAxnZ1uvvNFUAmsbSkhuYbQAGoivTS2RdAZHXq/ZzdEkDu71YA77IaQKK9VfOmrhRAhHtcqbuKF0BZ1X49n6gaQJ/N2NiYhRhAJVPyV/JqGkCUF9J8WmARQBjv6UfX4xNAR1p/GUyRAUDWd7jTvJTYP6hzvRPzrPc/ICxdSSYv5D+vhDjwjGYaQGYK03tAic4/f1WDtZOaE0AMVg2N3Hf6P7r4bC+plRRA+zb4TWN2B0A35gNxEzUBQBdRVybT3xJAxwVAdLsX/z+1eeCNCqAEQNIriYNxdw1ALnQu6R3KG0CUGJC6dQoWQHq+AQZz5xFAxs4o/RM/FUCYsrQNnvgTQOTIdTyJOwZAj7V6aSSNFEDcc19zihcRQKhixUBYGAlA",
          "dtype": "f8"
         },
         "xaxis": "x",
         "y": {
          "bdata": "1n2eXdJM1L+8x6b8Pwv9vw+d5x6R8fC/nqRwN6Cz4T/JGXoskFjyP1SgnM2okPw/EYGOK5md0z+kdx9nixbrP49WT57XZgZAzQ8oXAUKCcAb25HLWqHzv7jE3e5fCOs/adA9Pl00xD95tE08ccX0vw/tOvlpvLK/GNEqul328j9PrEEeDVblv+ibkVXZ08y/jKj/iFkG/7+VYfRCsoT4vya3Ys6Wr/Y/AX9Jd4dfsb+pD4+xHhDyvwHJd8aYfgXAHIPvNlEpAMD7PghvmwvSvzdwaOU0s/O//lSxmYPQ97+j5sq+sV/qvxZQIzuvNfu/ct1OhauS4r+1tnu7q5DXvxoHE24YN/2/4IzChZsD47/xaBFvKerpvw+kJj1/v5C/2cI5Reox3b9HnZlZXQnpvxDo1LUGGPC/u5016JMs9b/uWM7qsjv+v0NpanXL7Pi/mLLDbH6rAsAiX9H9Eo3hv4XimRxiGuq/yV1ztF1y3b8itwWQHTb5v4En6B/l5/K/rnWRE9Ld/L8lTHg/c4L7v7r909yxhfO/52nfmwRP8z+g4a4ah/jqv4fuQ9V37uu/oc4ZotB9/b9jwg/NV5/iv7VP234uFgHAZEdHgMlW4b9y5rwpOOX5v9Dc+Q/mCADAJ5hmA3cl+r+uykLMeboOwE3d3xTSzQLAgHeaXBYOz79jwnLRVqD8v720o3DPduS/dCO+byjg8b/H3CG5Ue/bv4cr7TahB+I/ZmWsHZM40z9sJ6feZRn2P96rLo7BGuE/tKNP9tA39j9dxwSzDWLsvy0+2Rkkc/y/BTmH8F/J5j/+XBA7bq3UP3mmT8fL3bo//eRTeFvT57/qVXLV4231v/+5QiPLmPS/3cUev9sJsr99BqrBXLIFwL8mZG/2N+S/C6bFXyXY77+xm9jq0lH8vwaxmra0jQHAWon0pqdqAkCUrL47/Bn6v4C7oVujBw9AjXyTaMacmj/UatnY+nXtv4pYnwOD/QfAbQvV2tZ857//24l2xJXgv1Idq0+S7P6/yCY90so68b8Gy00lSVLzv1zWCA9Eb/i/30nY0+ep7r+zh0E+O33qvwqP5SYgQO2/pQ6hz7j66b+mFRVMPksDwD/9vm15LOq/sOCcfO298b+IM+2NvDbhP5D+1qPuOei/kKG8II5v8b8J9rdBsRfrP+fmHLav0v2/pywNEy/C+b/U5b0+9wX1v8+NPIR3cve/FL8n5IWA9b+wwtOhbzDmv+FDUCHMKvo/3ZFZui7b2j/nA5cwR5TRP235wtMfeOu/yqKOlwhMyb8IrUxfG9TfP/G9BYMBRvA/LIHXn6RU5T9Yfi0PbX36v72DX80SeNa/sP9IyyFT5j8DDoNmyK/aP9MrpS4aKgDA4NSUuAiR8D+W7/ndWV3zPwNxzmR5oMg/ATVAs7E26r87GUyE7EjGPwfSSjpRqbE/tqIDeA4i578h2CynYerwv6UOTCaDbOO/ony1vtJT5r8RONfUGNTkv5G+4L/63P+/iW/kMZxx/79g9BqFybn6v7D8nYAS9tE/Mxh37Wij6b/jpLkA2pxuP+p0tbaBKOG/5MVvoFhw578j5xXtzK3kv4cVZsGmofm/0xgbMSc+5L+ptPepOmjqP2aItS1BBNS/6g0HD5cr979IM5ICaq7qv1ZvPqwZ1dm//GanpEdE978+3O7DnZ7gv/EHJedDh+S/uNII0qBE+7/E63XHT/X7v4E9RHy/H/C/e+JtL7HSCMD4Ig+ErcfnP2aEC/HtEOm/ZyT/LSni4r9YsnQkdqriPylWUhV0jQTAWRT88lMj6L/1svJ/epX3v73Yp5i0CwXA9BlhJYKZ9D9Np+XFJvnfP5I11wo9+8s/DVtDfE10yL+F9XJthbH1v8nab2tSlva/",
          "dtype": "f8"
         },
         "yaxis": "y"
        },
        {
         "hovertemplate": "label=3<br>PC1=%{x}<br>PC2=%{y}<extra></extra>",
         "legendgroup": "3",
         "marker": {
          "color": "#ab63fa",
          "symbol": "circle"
         },
         "mode": "markers",
         "name": "3",
         "showlegend": true,
         "type": "scattergl",
         "x": {
          "bdata": "5boukYkqCECVEEVbihAKQKPwa/C8gvc/MEf5OJooBEBKX6/w7dAIQA+RpUquUwVAbZfyeZC+BEBs0mDaDocPQPxdsXnJegRAaQkTyKnQAkCz/0bPaEUSQL3a9G9eIwxA0I88CXR+EEA6ThFbrLcJQJWS2yMD7xJA7F9wB8TXAUBu3jyzYagJQAxc0j3wLg5AjlJmcLRXCkCepGUaM3D5P8jhzs0u2QxAgve46eEhCEAb+7axKD7+Pyjd1+Y4PQZAXPYAlhkV/j8hX/McdtfCv+1NvfZtFg1AxPW6GBuoAkAdIej8WxULQG1WBPN0JAZAoeHJRvBgE0BCH8nG3tf/P9zupyVvzxBAzFGhzFe9C0ArkybgBTAIQAJYz3eEwAlAt/CXiR9tEUCUorxymgoQQLRY/TLL0QRAOnGCSnRxDEDWUqL5lK/+PxiBsgSKxw1ALZ1b2rcowL+nZtzanLoKQB+WO+XTuvM/iDKgLRmc+j87PHwE7W/5P4sNgTbFI/0/nhxr1a8RAkD4SGYw/5UDQI7YnjzIvgtAUbv3YPzkEEA1bZgrYQr8PxOCXYoy4fQ/FIxv/I+NA0COlG9MsWMAQCJe3WxuWwJAvll/lLCRAkAueHrg/gD3P72VXbWTEus/rnFfEmYW7j+80/j33pQFQH7Rl3Ojr+o/qm9v8CKj4T+A/IkV+csGQCt8B1noGAJACFgOH5X99T9IQ+w4ukX9P55RukdnbQNA+e38uyGqxb/1qZKhvGn/PyJKCPUR5whAquDwc0ZvBEAmSvwmKRsJQLlIr3bytQBAWMowBw21BEDz/qxwcNvzP9g3K5DjXv0/HhKdYTQZC0CzZHzgTsAAQKf1h3Z1OA9AKPGyG39mD0BP/cVKg/sIQBQ9Kn21sAZAR6Vs6OU/BkArLY0hOKW7P6KtRhbATPE/JbQtgMBOBUCaVgq740YPQCLZEyg6jwRALJrTFWfbAEDxa4RgI7v/P1xlTojT2gFAuPEeG5vrAkA/1HzX++gOQPAPDjVD/QVAMhuKXzqYB0Af4XWf2OgCQD08uunGKe4/mrx1IFZNAUBzpEXhs2Pev23ekurXQAZAvu+JdkSqrj9oit4wrKMCQC3Jtft0VQRApMMQgG+bBkBuBPf4FGgLQKIlQHz2iAhAg/FnJqODBkAvSJhZYmsVQNyDr0RB4QhA6kfpyVmfEkA5cinexcwRQJdIfq3UxRBAqbCkM90GEECe4Clvtt+8P5jm/9lGiA9AU9uxcrdTE0DnyvV8XwISQORbNRWpyAdA0a8CRR6UCkB86ncgb/oHQIrbnSjZyAhAsrNgUCtkC0Bv4C/U8HUEQJK60o+RPAtAqqVkPDDBEEB5k4dpv9QCQILySmxnaRRA0Y5TuyW1CUDWmR9A5CgUQJVYNPupKxhAN+bhUwp/AUD4MMrJWlwSQGMzt9nGHgxACGfUeZKXAkBPxpo6u2D/Pxcdcf4mYQhAj5Wmm9yiCkBCJh9JwdMNQGuE1ba8dAxADBGPnNzBEED6yJxapFkDQEF38Apn1BFAfOSXQrBGBkC9fal/lZMKQEpeI36F1A5AqdssBI9dCUApzC6+zN4RQAyPmeKUQgpA9PMTyj1REEC70Yf9e+gOQGrm80I0vwtApbVsPgK2CkDHDSiDJ0UMQIj9wac+jwNAeSpdBbeCDUB+MHAJp334P0VLgRgYde8/5Nun1i1jDEBhy4mqF2kMQPfYf2TqCApAoKUIHA1kCkDdXBRv7vv2PzmYrn/+IQNAtRjCLfltC0B+r5GFB5f2P/qVUQv7KwBAZDTriCwAA0CMku8aTjoBQIOE5i1aeP0/qbchfjjSAECzAaNXAZoLQNi5OzjBxsc/3IfaPoYc8j9uRUiG3P7dP/leYfKwYNu/2aEfRhOB9D9FJ2jHtV/2PxMGygEXPf8/x7EfeqN//T88b6CEHYX2P/Vlyh1qhApA",
          "dtype": "f8"
         },
         "xaxis": "x",
         "y": {
          "bdata": "TtKHmvvM67+MUTcPaDEBQHfcOrp5SA9ASCVpRS55v78kaZ4ih5z1P/NV91wvotY/34H27tdF7T8W/dAaba0CQNN3hRIPBAZAs6Bu2bO9/j8NCNlpB+INQOig5AfJeQdASu0ZGl2GEUA5I1UnseARQCQizv3INP0/mN+scvxlDkB1wdNH0qAEQIkgn9QgLvk/vuNVoPDd8D9zZMWeWucMQCW782EOQ/s/JKUHGCDlBUDyi9XcoPQCQC39m3333AJAjAFgfPqKEkCFF+yTE40TQFqv0iopyOq/nUsUn/zY0T9LhJsQNYjUPwvM4FMxu8o/41AYiOCr5b8xehL8dHb4P7+N01rW4+Y/uaA3XadL3z8xUay2as7JP/cOG+1QCfk/6Wd150hC17+pPVjMxFbzv2oafBSiA9E/mbcyskhr9T/fqzT+nOr3P9GJ9+VrRfm/Hy6Oe72P/L98NL9unp3uvymoRKhcweC/QA3mM5f0/b/Nwf/y56vrv3INMx7pQ/q/UzEsCqGd/78q0rlT27/7v6eYcZEu8QDAS+jXaX/R87+5E1nVwTDuv9A0sUCXd/2/IZwxU5LS079Zut7lyQTwv+tHSg9wuva/la4Z7ONIAcAOtx+WSbvxPz8By/YIvOm/m2agUIAW87/GhgJteC8FwIPNMg6zfOW/83zWqFc96L+lNMAu2vnqvwN0v8y7m/S/sq2WWcDa4j8vGEykt4jkv6W9uB0ui8k/s01HIFxY8j+N+opSfLTmP+LdtxOFYuc/ylm1tQUf1T8qa6L8CI73PxZEjhMMWPU/jXRhZu+qbL+HeXTETqDSP40R5q/309a/BAehBQVG8D/QKcFK2Ancv/paOo0Oh9E/F4IFDWBKvj8oX1ayecbjPysn2C01Jec/oCZYYYdW5T9e70Pb32EQQEDBIhTDLgdAHVKTfh6F5z/ByYU2N7K+P6PE4YTEj94/EfQofC3E2L/q22AE24DkP5v3utgXlfS/Xd/MqRAN7r8G1HC9hcrnv++nRld+r/i/6i0rgYet8L9tS/9nwgXlv3vcAVy7NPa/Hq6MwduKBcB3aNkQNj36v52cT4Jom/K/fRhN4SmY+L/yzCyT92Xev+73SkuY1wLAHgyMeycG1j8mV5JsX+/gvzjKF1RWwuw/8Ni2o/Yl9z8++T8BkJnLvxgiy1X9sQFAzjqZya5D3794HNQKf7XgP7+2WKxihMC/UNaZde6/6D+hmulyn10RQNdeELKWl+M/oweLpz3X5z83EDCbmqnrv+apnUZku/U/3iUfHW131T9KVSi/mUYWQGQcoVmZVOo/7aL73N0fAkDaigXjN/QHQGWFDoLgRgJABIOqiaNgDkDqzN9WBzT/P+cC1P+bkOq/UsxChAH10j+3pTqkHocQQBLsJVWTzP4/VsVEpv5N+j8U1UKxuAnwvzD+mK0Ox+O/CEhuqGDS8D+/HxqMhjPpP2GG5iy7RcW/95854xz67b+R+c+Xwfaxv8K9gDQN8gBAbALaTzjB47+skYq5QDzov2AGsprT5NG/2MDfb0G96r8gK0gigALyv+gdhNkQHtq/4cd1i9Qmx79AQyGePfD0v1IoCHzrIvq/9vsXkEmV378Q7v2a02DAPy31O0pcjt2/Y5ZxKOidzT8skLTjoknWvwTGZBDqEeq/TI152o0Knr9y5v2hQKn2P2wyWnNCAQhAQ4WUbg1+/T+fj0ndv30PQDC9tV8T9AVARe62DfbCEED9jm7S9sMIQFHtZPOtZQRAkckDHp8pBEBoWxYi8FTxPxOSVb4ZzvE/7ddKtQbe9z/oWZQbuOnoP464jwwBeuO/WugpdJFf+z9srBaCeZDMPxZ2NsQS3BVAusxbDfMGBECNMQVsNZwMQMYyVKbAJQDAbaISsj8gC0COh681j74QQPiDyzvS5wZAezAEjV4h3b8d2mpw0RDeP9gGzm1JK/g/",
          "dtype": "f8"
         },
         "yaxis": "y"
        },
        {
         "hovertemplate": "label=4<br>PC1=%{x}<br>PC2=%{y}<extra></extra>",
         "legendgroup": "4",
         "marker": {
          "color": "#FFA15A",
          "symbol": "circle"
         },
         "mode": "markers",
         "name": "4",
         "showlegend": true,
         "type": "scattergl",
         "x": {
          "bdata": "Tz5E0KQdEsCCGyHqwNUVwFHU0sVpAxDAMz5HPsHpEsAFopoCroIVwEUi4mWQ5gjA7Qw2hsZAAcDaKHb54h4RwGe8OTNKzhHA66LT9cBDBsAPywFYIiIKwK+3pZ/SmgfA9t0uLonJEcCqQ297i14PwFJjiG1VlQvA+zNnR4SmEMAMp+q4wOgIwFjYcMpPgwzAoS2szBRABcASK9+ZWBgQwJ4zOhdPMRHAh+mKGK4rBsC0aGUR8mkPwEifLiRojA/AqfSJorBFD8BlZJ9TFfYMwPKACK/AIhLAn1sNXYU8C8D+eAmGyIMTwKkZgUQy3hPAgK3mcpQfDMAtS74zF8MPwKYTsb1TNxjAt6opra5REMAEcgJbW30UwM0F+lQ22xLAYLrn9n1sEsAuyLuj1QUUwEimdFwK/grAiAI3LfC0CsAZMlt8H9gQwObAcRpwqA/AE2OjY0GuEcAr1Saliw0LwPPolcn/bBDAT/1k1gFZEMA0aMFGv0cOwOzvPyEpgBDAty1B2wsfEcDJj9UQ+FMRwIaih9Fi8QXASUnvVEbHCcBF5Wy0c/kAwMjli/ASjw3Av5CuRJxkDsDvOjKIhmUSwILRk45BpP6/swF6YpJaBcDcm4M2Pw0RwKO5qcDlzxDAfSTVHIpQDcCi0OB4G38VwFwzaF9mmAHAzLH3K0hPCcAgYtO8BwQTwNz0svWVvRXAKlQn7mVPFMDw8MejheERwGtrNKcaKhLAm6sAEi0vEsACDkUO7mwUwDdE3+mdqQ/AnYCQy9yfAMBddnGQtQQJwC4sq3wMUBnAvw8Qoq0lGMDtJu3YBTkNwGSS9WcsyQ/A4QNP1ev3EsAx/lKodgUWwDpL5ByNhxbA1Df0CvNaFsDbi5EcYwISwFrDoMyEbRnACVBiSdB3GMCWKPdGc8IQwPxMJGAPexLAPJXsYGmDFMBiEeprJiEUwK9D9SnesxXAVkDLrSjPGsCCRNCA4NIgwHXpXgUpAhrA1goZLh0WGMBjPuY2pN4UwDzD5iizRhjA0RBHqMypIMBVYy55eIEdwJtERx5KghrASv+OuMhgGcBuF3/cX6YdwEUI5C/jHRvAJmXeCPQBG8DeTgX+00sYwJv2P8wOQCDAU2MukLCpFMC/QUwOEvcjwOK+qfLZtxLAUn3w1mQf9r97ZkDH5vwRwOvpeymwFxLAxfswObdEE8CV0MiBMOMWwLUql7aFYxPA22JAVXQFFMBEGcPShxsQwMFUcsF+xRPAe/Tcn+wjG8AasQH3kcAQwDTHT6SDxRrAvnvt6akeF8AqXybJi2kZwJiqlJWqDhbA16zBVHKNFsBalJGX9ccXwHRtDeqSWBbAC5QEGlkuHcB7FBGsTCQXwNAF5LSj3QbAcKzqV+OpEcB2v7vY3tgQwKTz90ZWCAnAsV+bde26FMDiA3gfHD4SwINIaA4TWxfAQWdOVxakFcBVCgAT+WwSwI9mXvwsjRXAVdR2XcY5FsBC7ZlM7XQWwDGbPOLfNBbAZ23QuYaVGMAVmwgPC9YJwIxgUm4/CRLANok6Cxo/E8D3qw2V7OIXwEhVhX78lBDAB5Xz0lu/FMBIWJjhTTUUwOGDMzjivhTAaRODGBZGEcDxBHXRO0YVwBho9fygRgvAtIZYDIG9EsDZomTWKvYTwM4OPsSpQA7A8As8zdhRDcDontKC0IoIwASHtH3uixLAZapT9Id6A8CrAk2ErvgAQAw9jx0xQPE/UuqWDxSpEsD0K1sjy1AQwBFH8ybwlhDAKWJT0tSlAcCvvn1XuqcCQL3BRChFThPAmpB8xAHwDsDALF2izKgVwLx1EqAgNBbAl6t16U57HcCIsW0/K+UbwPWLdKcm7xfAtOcs7oHuGsDdlgq3QNcZwO3FzQiU1RPAQE6+Bj5tFMD4IaBCs5kXwH8rTjRzGBnAT8CaGh7WGcA=",
          "dtype": "f8"
         },
         "xaxis": "x",
         "y": {
          "bdata": "Ib68xOR+8b/dihxRS7yZP6RKYp0wn9S/suYZMk/E07+7grkD9lL/v/qTP7UpTc6/EcNM+1izzj/GIB+mJGXlv2MdZ+XCSOq/rDEZU3wR079U9hop6evZv+TNMJ9D6eY/UB95NDH43b8CAORHRSTzP05wLo2+xta/Kct2sOZK4T+SJqUe91/wv4mjXndv6a4//EQIkQgX5b+7g0ObOp/tv2nuTZu9Nsq/EUaBsNWO7r/aFr6Y4ZLdP64TQM58UsE/lWSiNTryqT8uTwYolYjIP6SneU0T+dO/U8eJyTFd4L9/uHcypEjxv5/H4jFuF/G/HPSQEu8S/L/JBAaIUz/Dv3Y9vo/V/fu/3yuLcGdG+T8XQY/2gn4GwASzZD27juC/P/RmvNo4878FmoNFGAzIv5ZV4Tzfleu/AAcxcKyL5b+5zlvRaN7Fv88n2XwCsuU/9b4sj8sX4r/t5mdle8Xmv7PZ0Zz3WcQ/+VXSw1vo4r+cmk4jOD/Qv6GKMWlmA9w/crPpET+s37+yxCA8hwLPP2bdNUN46uS/5uzGg46P57+gwJcziUHOPwq/RoRx/vu/9Lyf6nFklb8iulaTejPZv2XHZDWCPce/cjTWVkTW5r8W2lDdt2vbv/VuKHhA1Mw/dES+wSsn7L+aP/J4DCGyP9iStveSUem/vJtbGkNR5T9tYU5e8OXOP1KUXzsuHeC/9sV2rVYM5z/9Ozpb4Hz1P4VmaUWUqPY/RNzYCR/W1b90xzKBJJrav/gt79Qc1tM/GKfOmB0mAkBUspvv54byv7mJbLmB3RlAFU9jDsu34z8snd1Q2vwJQE5RW11g0AbA5SkvU52x8r83jNE/G1X/v3Y9Ij86xPS/S+L2kuBs8b+U+dEIpYf7v5M2o0Q8OwDAtfm9WJO5CMBaYNdtUA0BwMKywjzDr/O/4GHzTASg9r8jO+3gBgQHwBQ/NXHA5gbAR1K4R9tM+r/F+slSXgH5v/eYVG3Cx80/1YL8+J257j+MxHk9WYnAP1J345Df8vE/mVmBOg7bBMCEg5rWXtMEQNTjtz3Zruk/k9jCSJWP2b+oCnc5zgT5P/XzOo0lyxdA94udxDv/BEACoiLNPuEIQAxRTXyzRRFAirbrcbAF5j+nQNY/7Q0UQFS6otHLS/U/vhaSWwd9BEBVCkxaCjj0P/XnLjOSDvc/T8O3LqF9dr+vJnNxwnH0v7kt2BB69fk/Kf52D6oAuL+vsosawPT3P0HBK6juY8e/uskAzcIY9b+GR6r+r7bqvxebZTau+vO/3wEINt4aB8AK8hiOdvunvyg31wnMGuS/nSRZWZYW8L8CJ045/uL2vxtn0QKrDuS/dhGq4isb5L/NIGETnIn/v9QuZk7MNNS/MhHqYmkiA8AmgQIXwIUIwJ+UpBQnM/m/4wiG77aXAMDaRElnqPkCwK4SVJUSqfS/e25s75MN9L+SZiNIZzUCwILh/Qt8+OO/rses9hHaBcDkfKfofbYEwGdPD3361QDAOe1GpUNN+b+QcOEjVB/3v05zg72+Vvq/6UL7+e387b9YcXmnI6Xmv1qZx8wHG/m/eATMWZa46b/05u9FT4n3v8zzKlHNcOq/r/9tBxon778HezzaZe/5v3qx5Mvb7b+/5/VipaRj+b8PF5XpHtfkv9WS9xzERsy/RS4woYHnyr+cS9h/DevVv1UGHzQps+G/MFxugM1h4z/ji9QMhLf9P2eU32U0u/o/dPD5gVzE+L/5AvzJYD7gvy0qX8xwruG/4essruTa4T/kQWW1GOz9P+iCYcTvAti/ajCzwq50xT8gymlldITrvzywfZSZCuS/J12VI/kyCUC/80DyAGP0P63i/+4Lk/C/hccx7xGZ9b90wPHtS8oBwPoD2XjfjfK/2/X9bE2B0r9t0I9kJF37v8Iokq/NZP2/LmzM3bWt9b8=",
          "dtype": "f8"
         },
         "yaxis": "y"
        },
        {
         "hovertemplate": "label=5<br>PC1=%{x}<br>PC2=%{y}<extra></extra>",
         "legendgroup": "5",
         "marker": {
          "color": "#19d3f3",
          "symbol": "circle"
         },
         "mode": "markers",
         "name": "5",
         "showlegend": true,
         "type": "scattergl",
         "x": {
          "bdata": "oewtKorU9D/kvBC1KwQPQH9px+A3HNg/jGt65JoH/T/WE6sz9eUKQMBPKB5U7ABAIbpDCidv7z+w4g5Fa9P/PwAw37w/3vQ/ITO4xi4d9T9EgV5l0j/4P1qq2N9A+glAFWzQM24c6j8eblwkE5gRQBusBvrmxRBAsM51Vby9/j9tveiFmIEKQJsKv6oK4xBA/hjsjb7/BkC35uNMmMkRQBTz//WwnAtAKynQ2GWLDUAHiOSR2joHQFA2nLg2Ivc/QfgJ6JGrBECKWgp8By8HQK3BsgBpofQ/u2tbi88QA0DxHFs5sp/0P/vs8wtORNQ/+iAdhTWJ9j8ZRgCGKbH9P3mjOq+NKOM/M1tRcIVu4D8BIdrQx/rYP68s6HD6etk/MRJKKCJnBEAQ6/QBEusBQAJ+L+7/xg9A1RscKDH57T8fQyEg9IXfP3ahxivphcS/o5uPyMdJBEDZN4qihWXyP0LlwOxCKNg/rm0KPep78L9qC2qWYkb6v+kbC8k6u+I/0HKFNWvdAUDsoGN9nRT7P9y9ET+LnfE/hDKgAfAG+b9lGvshfUTrv6OuTILQ++w/gLEBEr5L/D+KT9Cmu771P9M8rsoMces/iRfbItuWtD8qCMwBqvD2P+GobQu0ofY/jb77waYl0D9Sm+SwKMXiP45CDMcZgPc/6Pjonpne9r/jl5mKrC0AQPUn8xqGpvW/TjStVMqj8j9cbdLKx9/9P8cBhPYGcg7AA+QntD5M2T9Hcqu8rEe2v/a4qJKzvuM/co6Yoo3o979CYl+O+6MCwGTL6/u0APk/5j3K0a2L8D8LLJfGFMrkPyfeDkJISQVAv7oqWeWLCUDYPKNRNREFQDKHgOCuHw1AZsl1BvnD/j/zEbACoL26vyNAwH6lsQVA5qv1K81d+T/JxvtEI0L0Pwr1mHzDXAhA9XTk4CA5AUCM13A9WWQHQFCJjABNLQNAEYv2KWN2CkDFl+nqoYb9P1AqDhgQjgRAFrIiqpb3/z/3m+i343kFQI9GnwR0EvY/+Em/zBtlCkAdS1LB/4cQQB2jIx7TKQBAxFhCNO31/z/TMlTT5dwGQBIYIloDP/k/1Gw2ia/T8z+TwFBUSAYPQEj+pof90eU/4DyNEWPi9z+lLoJgsFLjvzDWNdtf/9W/UHYmuQ7V2z9kgjs7RCbzvyt1D+9cP/g/FnwSClXt/r9cHsdSQLT4P330BrRf5f4/zrhVeD4H9L9GiBRIRxj0Px7OF4zffPq/XMvHAkPg1D9AmfDZF1b+Pwl1K6+8bRFAO9s9yCFc7j+6LxKkSzgHQGEEgBegLRBAJmKfj99B/788sS/w1QAtP/g/9H3Yi/g/cb4UNdvtE0D7Z3EnieUBQKnUj26h4AJAnB6XtUhMFkDyt2BQTfrvP0aRTeNwlBBAcjkVa4aC3r8qoApvzBMEQD5p5g/Lb9w/htPhK3YJ+z+6doIiCS3zP/OBvXtUDKI/xXihgmhj7L8Jh8xOnhDbv0lW81A/5PI/rYRcPkFclj/9sQmIGbQEQMD/ZAJ7Rfs/vrH6YfGa9j8Y7waSutcBQAHdD37yOPs/SMlk1hzuBkDpl6lznaO0P32NMKVVFAFAIpVNwgabvz/oxR3LJCfhPxs3pr4bvPk/b170W1GV+T/x7Gb+CZHuP4b3em6q8fs/mOfRxuIl9T+bkG+72DnVvwSHDLNnovI/M8dNU4zBAUBPrp7s6nEUQBbvIUnsx8+/7FP9qK53DECgT45pi1n+PxTjKCPixde/prBhmAv//D9GgUwpsoP8P/7p8EvZSdK/Q1PxnDJB1j8bMGWSgsO2P9vDGt9y+OW/IMT3mV/nAsD2D1D28b7Cv1GPxLniFPS/SH41Tr3t5T8CWnK7vqnvv37Fhhm1OeK/hxt4DJ/c/r+KFo+L8V7hP3foRHDn0+A/HX1NO8EY+b+m2XWKFaXHPw==",
          "dtype": "f8"
         },
         "xaxis": "x",
         "y": {
          "bdata": "32eD5/Re8r/StCNbwtoEQB+drWLEzeA/9mBC5NuqA0BVSTQ1r7YHQIVRdLKTSABAdBC5D6Rj8j+shDScuzIEQASb08b2i9m/p2ChPsgp6D+0BNXW7ljyPxTG1HBB5ARANnvnwF2o6j8sdWCKRHwEQAvHAJ6GNgRA+iJAua0m8D+CzIAW84MAQIqQcY+28QhAnCaJQdL8/j8DF1SBevcBQF4epwDKmQRAkXD5IwwOAECTG6vw5ib+P4uQ8uzmTug/NrwoB0+aAEDEs9+7c3QBQGv5DVYbo82/0uZOQINdDkCz8NgN/PbuP1gySLHNgvE/CX+29f7B+L+sBt698voBwAGxQl0wSvg/7h5SKQFM47/ZOUD9ynnyPxnU2k8SWMO/4rsYGXfu9D/XX4e0u5rlv0rOYBNztwhAxPNH+/vtBEDYTnYsmxEDQPYC547/3wRA8vzoYqOb9j/ej54i1tv0P3D5mjcRp/8/j3QgYVdzCEBYEkP+vLMCQNzYj01oQv8/s2p6xXqY/z/qZLg4nIH7P81R6A62DQJAvTuKbtFFAEAbIQ+qHtHxP/ekJlNpMtG/mnbx9Tzc8j8KZ6PG0g4EQADjJkPOoum/rYgG5Yz24j8a5ZPSZDjkP37nV/AeMNs/lSkG09ya0b95PQAjUA7nv195s3p50u8/xogJxuxeBkARs34skFTUPywvSDC/9vs/dEdFwPAMxz8J/GsaeLTfPyVYUMv/ds0/k++7oZl9AkAUnSuPqWb3P7PDp+EgugBAh3QoZNomu78VqP3uJLHwP16n48PqMPC/9s57Mgv5CUAsnlijiznyP0/7jGp5ReE/3qc5TNafD0AnpmvPZB7/P5MkAeWqpQFAG/eTkBH7EEDAwCxpWx8FQCFKs2f7Ww5AiiccAG9kC0BumaJqYmgBQGsUioxXAghATLwEBBG4B0AuyYFGvfYAQH0rPf+CNQ1ACDufgDiNAUCv3w5JtrvsP75Fuqd56/K/kdxWvlDCAMCC4npFLLIAwHBS/BPLnqQ/jFXeyIOZ9r8lGGc6SmsHwGt7qU9kJ9C/Jcti9Yg68r/zcYqTdxz3P9fOZIntHfK//hiKzd/ZAMDr6yLdx5LZv8dTJXgT/gZAqcIhAgPiCEBJHm5aw4H5P1TprKkj4PQ/0AkkTyn88j+9JOa/aSz7P2OPTkVUZvc/5NhhkdUd7z9AWld9wLwCQGL+nPEj9OM/EpKmvwnG8L+KkQOo1/r4PxGEAj9GqtO/Xqv2xhxd979Kp3T68lXzv2/xG6FL2AVAyluF0syO6T8Ap204DOAMQNP9Dc8gAAtAdQX4QBmg4L/z5OsXAt33P5cdC/OgLc2/Ev799gf3BECIdTFG/X7zPyPBDUm7/uI/bpE4gt/PBkBUedtGCELrv5FXKQYJ3Po/tgu1GC4w0T+KI+YrSt7HPwEQe+F8g+C/xMz/hgHz+z8zw1ZOIurQPyi3YHYAeP6//Nd699Nq9L/qoWRT+CS9PwHOeL8hm/M/TNdHsPyU/r+TrheJJ14AQNeiNVz+MfM/FMdKCkHV678qsqAMEjgCwBDiKxXOE9y/8Cg2fxvpxD/GtW5g4oewPzphBiH5uuW/pL+XecWG4L9m1yoa/0vZv0H9NrvGMMk/Z9g/eGgK87/dq4FbuJ7sv032h2C5YvE/v9WvYx1m8D97Mwu1n2XXP9TF8C5LWvk/96iaop8VAUBszZaVITUGQECWPsFYWvI/rk3VJ1sY8j93cAbGcLH7Py9b+zbP6bQ/ww9xC2Kz5z9hiTxKviD7P859MLUyvdM/dsYw9+C95j+bsj0MtijmP7IM3uPmWuM/BURYC+cat7+WkL5neAu+P3Ky3Wlv9Po/buHE5U759z8Ird+YoAfwP/dFCwkUtPE/f/fVqdtx5L/40heICY3fvxvReShqefK/mBifFBQS3L/9Mn4Mb5Tzvw==",
          "dtype": "f8"
         },
         "yaxis": "y"
        },
        {
         "hovertemplate": "label=6<br>PC1=%{x}<br>PC2=%{y}<extra></extra>",
         "legendgroup": "6",
         "marker": {
          "color": "#FF6692",
          "symbol": "circle"
         },
         "mode": "markers",
         "name": "6",
         "showlegend": true,
         "type": "scattergl",
         "x": {
          "bdata": "T2Kc+5Ly9r/Rx99utnvtvwNAtO9tlvS/Yrr61ln8+789fFQHWbL8v1fjPsHUdvu/9oewN85c8r9L8cRC0OG7vwToE3dTPfC/9TucuMZN9r+zAL6teEj0vwC9n1wr5gHAP6RQKdnb8r8vivK1olXiv270JQlJl/u/6cImTxRY5L+hP5xHkrbxvymVcRBzDdK/zaw/5WG6AcC7y5bsgCbuv/A2ZAgPG/i/4SBZpxEV5b/2dl11Epbzv5O9eDHSJv+/xKTYct1J2r8k9DOXKgLwv2sgWheeHvm/Q5CnGfLg7r8n+7chkKLyvyvXVILGPLO/dk6ag7WT4r80ZCLNO/Dgv7GkcJKgXPC/FQAcPrM5/b9hTSCk6Ifiv/KFo/062fG/ZwwzzY8H9r++SlzqUP72v8X8lKm/TwTAqdkG6eBcAsAGF5+/5m8BwN852yxs1ALARzL0In+W8r9+u+cWgnADwEN8bBFtNPy/+uRU+1HdAMAv6xn7Rhj9vwDEVsC80/S/gsI3dRf+AMBUlE6uJZAEwPHlEwSiiQfAomFz4/to679wxW5q6jb1vx1Vw7Eg+PG//6ey/MBS7b+m2eZ/ijn3v8DUVOU4sPu/b+z9IsICAcDuq4GXDCz9v3OajJ4EpQDALbJV7gwN/b/1X7zxyvX5v1/zAZiVpvK/x2ZIBuCwAcDgp+KNYVfov/jK6aF2Rfm/6KHIAqJK7r/7NO8D4bL+v6Un6Uz39OK/sqA58vPd8r+E8SMNus3qvy3nfXYlh+q/aqgkZsIE9783cXXIakXwvxYrt3iX2Om/jEXaGrOS/r98kgXLfV7xvwIIifre4Pq/0NQ9z8pr/r8vYh7rQhEAwMEeBeGMNe6/F9fh78aQ+L8p9pGKhEUBwLPlwXhPie+/5DMqzXsJAsDG6JtlQjwCwJGCrS8LIvS/ZoL7fgJD9L9KBBfZMWgAwA41yZh8DPy/mDQZh4W/9L/Ed40ZSK73vyMXorZlfNy/EaXcCpjf9L/okWn815Lmv3XvLyJDGvu/XNgPyHfe8b+1RNwlpznnvxkXnsjSr+a/1K16MJyK9r/pJiPZsBwCwH0MH/2Z6O+/hiPhiZ34/b8RfkaFobq2v9w01bUgbfC/GFku3fut+L+i7BWgOSH6vy+aRdcfnuy/OgMXBYC0xr9+hftnMQX0v0vFht8yieK/B1URExmO8r851hrupvvVv3kpecPfYOS/H5EhqDRD7L/NdQqXJPHxv8f50E9mH9E/cJWBlRWS+b82Z2QENdHyv+URjeo2euO/ZcDmitCw8b/9E35nQwrxv8AXrv7/yO+/0KsInpUy7r+poVWhI/X1vwURnC0GIPS/u0mPch9f8L/sEjJOcDbxvx4oCunTMvC/ja/ZnyTE278wWYV1fKi5P64S2kOpyKe/1hyqi1y7zL/2/A4d0gr2v1bySMOqhO+/esBa/Uq39L9+AKfqwE3wv11mLj1QJfS/4BjBd4s217+Gtics4Dbjv0FHRxmHqu6/uvLiCntc878/Y4p47P3xv2uzWIarDu6/zkZgQ0rq679OInWqMcP5v1Xa7i1/lfq/Xa1BBnYg9L/ZSIveudPtv4snFx53YfK/MTO8z486AcB/NwqqLM/0v2MdjFhhxfO/KNPJRHrM/L/5C3fFDjb9v6Sb+C9jWvC/Je9yE275/L9em8ZJTjr/v5iBKzAIJO+/cQwM2D7f+L+GcW1tA3f+vxo2x6ATuwHAVT/fPvxs/L8R8Zno1Bn8v1/Q4W6nC/e/5FHJoQNT+7/rPhd+BY78v2n9ryB3KPq/76qwx+BW87/2jbdtbij3v4pN6ptG1QDA01zQobNv578v7gPcwVX/v2aue4kAyvK/2PYkHdgI6b9UILuGBTrtv5RUmAnx5f2/C5Ls1Cnt/r+i4OMdicvwvyL6hOKUBgHAv547za7+9b8=",
          "dtype": "f8"
         },
         "xaxis": "x",
         "y": {
          "bdata": "YrKYd6qpB8BZ+dr5ERkKwM1S4FJrwQ/AhVPkOeY0B8Cfe9ttvicQwJYLesvqCxHAASgP9FRKEsDHT5bmzhcTwAUUU9GzIBDAUeMjcJgACcDrqZE+qN33vzoh+l4ZOf6/Yo8P/BfbAsAXGQnd80wTwP0R65MCgQ7AUQDHjr/IEMBadO2lcD0SwEwvCcAlMBHAFfD9Dh6yC8CQnt9Dc+8QwGnCp3LA6hHAAhMrQPhNE8AHaARCml0MwInmS9JT8Q7Agr+3gFfAE8BlhyxyEHEQwH6Qqzc22w/AnSmS4RxrEsDQXRdBzkUNwCUmyByM6w/AThtgzLoEEsBrCdyjq8oPwCKI8+as+BPAGJ9Wqn3KCsBEfYEvSwwSwPg+AiFykQ7AV/zv//DWEcCe1nmJI8sQwL7oQqTAwQjAZ0Q5UoU7AMBuODVAjiYJwDnXYcybLva/HIy5V5IcBsA49/CxCiYQwBN9jcAv2AbAKV/vf1RTDcCAQwnOKaQNwILhZDQ/dQ/Ae2pE18sJDMDrQotkQDUMwDLkj7tIzbk/uRl72haPDMBt+O5gpTUIwE8UbK9ZyxHAHney7Z9sB8Ax3OFZ5aQBwJTAmpRljQbAjUNueP03DMDGBWwD5tIEwGztM25PHQLAU6FX2f5GAcC7zekinz4PwMSRdCASXxDAZYTpimYbCMAX9EOs55kSwLmmCfoichHAX8dwbwyZEMAhyJKzdCwWwNfbNJkjDxLAHICqwAXuEcDY/I1zrkkRwNlkESkbQxHAIvPR5C7LEMCKRWqtlfcUwMame0XiahPAVOfbQdRREsD4vn/ZeAERwBbm0eaBBw/AL+mows1xCcBQUPocEaIFwFZtkgQdvBHA3edP3EjXC8B4y/wRqfgMwJGprZV94RDA5cwDCRl9CsAvIu4mOdARwBw+WqrtOhDAHitc68ekEMDxlkHdybEDwKDHPJJHWhDAaKQvNZpaEMBNIJhR7OIQwG5rIeLxkg7AgAkJqi0aEsCEALHxU0cQwDq7CKWhihDATbfNMeaKEcDqlHKPQFgPwAAH4+qEFxHArUZLPZi2EMAPsP8aVJUMwMXhTPwYsBHA9Ab3EePHDsAcN6h6B3gSwLmi/l+qxhLAEyGfTzo1EMAwnFGsGEENwIVFDv1pCwvAKTVV5JAoE8BPAyg0VDIQwDOWqUouKBjA4LZntwebFcCj241VpS8WwO94jYckiBDAmp3Be1BVCsBB5ubJsh0SwOx4+77RXg/AqnbamHlcD8BgndQ0IrkRwELGSYBFsBfAxDgCzixfFMDMtPcNyeYQwEw5gJBtbhLAb1FhUezYEcDiZwMnR2oKwJSxdT6ciw/AOcHiXubMEcDyEm1K07AOwDhH/KGqNBfAWvS4V5fmEcARH66ljKoRwJPS+TuasRnAeBNJjvB6F8AuZlMPTXANwA9Id0O6OwnAf+ZjwgCIC8AqxsMjUPENwNbllql8OwPAsYRYE4SzGsDv9qdVRWoIwGoHcuJWRwjAg8HTQbHEEcBxVToNw8UQwCb09+9oTRHArkWRIt/eEcA+NBnfwhcKwIvv2o3eQRPA/GY4F3C6EMDR93KPhXwRwJX3klNLchTAr2Xhn23FEMD0CowxVgwSwMld+WHurhHAlWfpZtWkEcDHR5He1FIRwPj3YEgXbP2/INF7fUhKA8BSbbfMd9D2vwzgm3c1uQ/A012D2pElB8CZ/jI98ZwMwJ5h118AzAHAoCYB/HNQCsBU7xiJdeEKwItsTrWrPgLAchOB3KLWD8AZRsr6ld72v39FKAMnDPi/pHRXv8daEcC6aKnyKoUOwKbFKR5WNxHAjkaXNNp+EsD++gfrLhAOwJv/IQB5VQrAYivYHphVEMAmXQUW3sASwFv0QH8VjxDA/U19nczIDcDC9qSQLaIRwCCtgUM0lAbAe/WetsurEcA=",
          "dtype": "f8"
         },
         "yaxis": "y"
        },
        {
         "hovertemplate": "label=7<br>PC1=%{x}<br>PC2=%{y}<extra></extra>",
         "legendgroup": "7",
         "marker": {
          "color": "#B6E880",
          "symbol": "circle"
         },
         "mode": "markers",
         "name": "7",
         "showlegend": true,
         "type": "scattergl",
         "x": {
          "bdata": "e3zIwNmn47+UWAO4NqX2v5BI9n8QvQ7Aw+KF0VFZA8DDMFlFh0Thv1cfAdqI/AnAjiloxIS+9r/KwY0+v3Dxv1gOJ3lbJwrA7+Y2lphWsL+I/BeeSEz8v7lbE1bptOS/YFZO0RYd4r/ukpKEPMTgvzniu1xJeNu/XRn0REvm4r+U0V4PO0X5v4X46CmZGO2/Ffi9DY66oD9+0uFO/pytPyuuN+uD2NO/fdqEVcYG0T93RFWpkHHsv27FCiBOaMw/G6yUN4cR1L/gMbQWVeb7v91sNU7d5OC/8u6EKnbyDMDNx1CJUKHjP0OI6hPQ7P6/LCud7/P69r9SpDChGvoMwBSj3qK30tu/VuJRr7ET4L8FfJzduMLtP1hfs089Bcy/+OD7Z6R+3b8QHcoiE4IDwOVdgZn3vQbAP8ocA8vqDMCzL5V2WIEQwETkTa3xYBLAfjpiclIv7L+aafEZZ/cFwIy3dukHPRbAFc17bpcoFcB5cOmNuffbv0iC4nPM7/a/JOpbhvAHEsBlg6cZQfYJwAx+KOq3+fS/Di76asj98D+BIPPSClriP3UdltXuIv6/0xbSLvDH978BZDWahlLkvx8CYm39NtM/zcdzh4ch/b+5DU90oLPfP0EnOQngDuG/sY0cOSjC3b9y4GkY4uW/P4Bwyz3mnfU/AWjBGfEa27/y07HrBSXnv+GMxh6SHAXAhOGl9mYiHMDAQE2Ud3MbwIyIUcdHwRHAbqn1mQJgBMAlOZzeYLUDwCNdwiujqgbA+OxaQzZ9HcC5/AvXuF8NwA4yJq/PWQ3ABxlRvLJ1FMBYiJjR2XDVvzbve8TRrtC/O9CdHgz45j/ppQzG2GzuP4fjewHgRgFAbq4YX3/24r9hXzwedintP4tG4uGDquo/3+peotHW3z+hQTb+llL4v2/6RgbJR+U/dkQ71FWS2z9a/3QDS/3NP123BUxJnO0/x51pb1Be/r+Dx96jpYjlP0JJjn/74/O/nG738Ump5r998snxvnUAwMFfbNm/59G//k0ttlfv7L/LRimAxRTVv1mOt6Oii/m/t2WELssRAsCfjgTdzOHBv5ylI6PDueO/xChgQ7bd0D+R3Ocuff7av4iKgHhpDc6/tkKP7SMD4T/A9FqFhS7HP1xQd6fd0d0/S3sDAElA8T8byhFNALDUP1UxHnVhedu/c9/bGGRe3L/9LrgldyTQP3yoClluZeM/VzAA4+Ul5T98qSKwpI3ePzP3ERvubem/+z0FYqwwAMBtP68h73HmP7UsnlRjLus/OtW1YC11vT8aeW27a7zKv3QdimKEF/U/61gqmkc66z+Ztbt4i2LvP4OxYwLXePM/agkJumt7+L9IUEU9jETYv40GestQAAVAaCKi3nvXzT+waM2wGDXxP4F2Wn2hl8U/sjwMFaC99z+kszjCvwL0P1MUKIh3ytc/NBRcfQe79z+86v1/zCn9P2C1/VgQy9a/ZH0ndiiZ9j/aEPM94nnxv7kXLaXaFZI/r8H1ZbfCAsB+MmZPHRgHwM8jB0gQJv6/CpNa+nyL5r+12cYAP2v7v0KKiYDiaxDA4U53R9U79L8mG7VtWlbwv2/JXjgyJeS/M9XMRQXo8r/xPswsk+z6v4iN1Y5ULQDAVTNtPjwFAMBQ070AjAQNQPZNOYJFEPk/Xi9rCBAuwr9qZOspyFkBQHH0lfV+/9Q/HLs4NJFvCkBL/BgrpiHMv8GWDWqCnABAxGgB846SDkCWVV67SuH8v4taJome68u/q0jp8+reC0ChCXGjzDHQv+0riVscMgjAZLhVR9/y6b/zeP3Wje8CwOnSDzC0rQTAPeC1t8fw7r+4qnM1GTP1v819oVxL6Pq/7iFd5J00AMDpi2ii+rjov4RxxGoCt9s/kJfwxOGN+b+PtcFsbdatvw==",
          "dtype": "f8"
         },
         "xaxis": "x",
         "y": {
          "bdata": "/a78w0bZFUBkl10pjEX/PyXQXfFt0wtAxKjtZU6UBUBswZCrXgYSQPrn+0AFkRFA7EddYy0PAUC4i6MEUZ8NQLuVOeRGuQZAka+LOSXoBUCSTTVfyzcDQKPGvlnLRAdAXFW6UZeGDkA2oHxIhbkEQP6ubAQDswBA7nRJKLkR+D82HYyOkQ8YQPOfQVjRIxJAZUkE8uHhBkB2mTF8wg30P+9R8XdsawpAk9dhzWxa8T9rYk50f9AUQLCEdGVu/ARAi/JYUmRJ9T99X+GlxMwgQPZfTXQMhAVA8C7DJfRfHkAQ0++zdlsGQFjr+yDzeBJAAeyCuJkvFUAwmCmTHo4hQCrGDTfmZgRAMBTm3mxpA0CJyD2h47v/PxHYq9S3UO4/gvvQ1/DoBUBHbzLTP28OQKU8hXyjnxVAqfwCwbPxGEBZY2ApcD0bQOkPk/u6uRZAyBoMkaCyGUCdGyuRLdQVQFU+smzNux9AIUAWxrn8GECO/iNyJqcUQNr1PSh23ghASm9fXsxKIEDzmFIPULkVQBDS+TRGKBNAmGNpNqnrBkBz6EqzRZkSQPaiZ3mr9BZA6ebBPueUCUCe6lzOWwwSQJo571cBZQpA2w7sN66UGEAnNn17eWcMQGI3w6sP8RBA6/7n6onfBkDQcvf2qDQNQFsJgCC5ZwFArdR+9XhRFEBrK5khMmMQQD/f1j2jJhtA2GFTHNm4I0BlXsMLndEaQH/M651TlhRAJTEAgSR3EkBGb1MLHAwUQDIa/ecHNRFAn9A2N0LTIUCaE0Pz2n8RQBX4iIqYEBNAE/t4PneTEEAHkrb3u0IOQJenckh92gxAuXreAsnUCECFcM/EmfwKQKwZXkfXPwNA1UdlNalSD0CUGrpCTMPrP9TBg2fqPAtAnSM7dWASBUCrEKv2vMYVQIOImkteXwFAgWBFn2v5AkB44v5/2+MGQLxvY9Nk+AhABBeanNcgC0DUGtu3AssDQOcg12GiaxFA2HQbtwgeCEDnpU20qAYUQEU4fN/QFwdAOrRzddBiEkAUH3oqROwOQM1QizKDxw5ABLGmM6WlGEAEmS1tDv4OQDEvgj5RIQhAZ9XtV2xiDUBTrUSqMO0PQOWTiOJ4CAdA5pd4lqgkD0DgP26BUeYDQJ+LwRNfRg5A2BytwuA8EUDiw8EbSNcJQPFQ1AWu/gpAq5ah0cZ8BEC4gS1LO8wZQBGy44mmZgJAiyBQTcXSFEBmZDh+dIEPQBnwB+MwQRJAHgmxb9hNGEDWTtNvL/cJQHWWQ44GLxFANcaNbckhDEDDIQHm494MQG2cawIyjApAZXBjF3RtA0C4RVpwVCAGQPBSkq7jywxA7sIPUZKYFkBeRm5TzIwaQFVl7IOWXAdA5/9qqe1jEEDbPGcKpIkRQNvFG1kPTw5AxUkGlVbZC0C+IPWiIwIOQL/U64DG2gpAI4hmfVY6EECZ0ZBxAz/9P4sx6P4v2whAzIcQLxS9AUC60qaONfkQQALSAXKT5Q1AK8p8s3XiD0B93L+6DDMVQOjw0hxHQBNAcg3nKPd4D0DTrbiUXnn+P/7ypWo3OxlAGBcvdkyhEkCcpvr+Z/YKQCDY99BLsQlAogKrFSSwDUAhQghf5gUOQAlYVNg0mRJASipI1ng1EEBLlY2D494CQJcemvks/gZA6006eamNBkDPi/tVhfv/P1SXgDBjSeM/bF+vDoiBA0BfZM5vde4CQLhUClEi4eQ/4iuXCOgiCUCuCLoWPKoDQMPHAyxVGP8/8BDYf+UqAkDmC/E9XHESQHiKXh9ymAtAeoJq1FzyEUC6+KWJZ1USQOFrADeR0RRA10J+5kzvAUCg/a99Kd33P2hP6h5BCtk/rU/Zo0W/8D9BsAH3Vf4NQLeU+ntnuglApj3bPKm0EkDBWwg9c6b/Pw==",
          "dtype": "f8"
         },
         "yaxis": "y"
        },
        {
         "hovertemplate": "label=8<br>PC1=%{x}<br>PC2=%{y}<extra></extra>",
         "legendgroup": "8",
         "marker": {
          "color": "#FF97FF",
          "symbol": "circle"
         },
         "mode": "markers",
         "name": "8",
         "showlegend": true,
         "type": "scattergl",
         "x": {
          "bdata": "WyxuakGT8T/TEXAzEabtP6Xu3X4WUcU/SeNhnEAX0D8mvfwXtJv5P2Jjdyh7yde/SgqLWkQFAUCZVyzZ9ZXsP4Hqc0HgFJY/TpZCz2vB3D/531NF7o37P2P4bMTy29Y/6Nm/4o1G6D9/6uEg3lDlP2h4JvvUKNM/HZKgBS/Z6b/qi8j9NcPSv1xp9A/do9M/Qwj9WBh09T+/Ah76Rw35PwqxraYnOOC/yWTNM6syxL/a2kevH+a9PzsoHm3BjOQ/JRSDBRN+qb+mjkvJSyNxv0BLtEl+vO4/f8YHH38RwT/uMQIDzdrmv4tBnZ+N5tE/MqqqlA+9xz/InX6wm4zwPyvUXvFPfvU/B4+6KiMkvD9cvSjipDT5P85so6A6w/0/gBt0mOhayz+bABvMbUqkP/TI8TcuwPS/UUPxylTm4z/cAX5dG4T0v0NIWg6OFug/2cHq76RA7j+AYAADUU/Wv9f+hvMu+My/hujw4oH6fz+c3TV42YfpP5ubWFxZsdo/+h2goUDZnr9vfKdgMKquv4a/ljputuw/7GFSHOU8/L++cB46UiXLv8fzNLqyrPE/ms0ZtVgaAMCSaUPN7enIP1QzhXvTPuS/Xp9UOsgf3L8exJ/CBCfDv1g7NLd94/y/t+TRz+LLAMB8jr9fMKLbvwEwCAqvd9u/Ha3S7bfM+L9r5mCM3fj1P0I491TzseY/HhR/0tEp5z/gvkoZEFb8PwBAj6Nkaes/TAUhKYus5z8jQoXjmenwP+rnleXClvI/DfowodQV+L/HQwtW50jeP/m81rw3J8U/OH+C+24j6z9HOcbX157OvxQeZgRZ0vQ/V8vY3mpY/r8Q9j0Gx/3zvwhdDbGPcOs/2t1thecKkL9+Y4xhkc76v6EPJzjkgfA/po3YoFQ76j87PtEK9F/ov7outUJxqOy/bOuXY/wv1z9fxVuE6T/Tvy5TwCMZwcG/9Ux6QFZd/j9/98wTocsEQFe+Wm2kXgVAy1u2W5q/BUC/7Nu+AEzwP4TWAANznQVArAibk6Hf8D89t0Hvh3/WP4R1mN6VwwZABSoyIgIH8j+IcHSgTb4DQPfmN3QRt9O/ZLoGSIOaA0BGwgftWA4FQMQhVcyDOgRARzhrEVAG4j/O91aQ/FYFQK857jwJigNA7RbuLNZe+z8dnLhX1/X3P27wuqww+vw/nunzPasl8j/7AOVSL0v9P+TXoPdEwANARCDlc3+gD0C2vilJIeD/P/Q5ZXOkngNAQ2WNExSEBECEdk3zS8XwP5kKpIiIafg/PAi6GRBBCkBL8UsJKIUCQLg09qcGYxBA2HO6WPE4+z9RzVwV+AX/P7DG/CZWm/0/PNkjKi6SAUAfu6FEE8HuPzjsxPdLDQhATixBuip9t78Jfp9/4lThPyWkWmQbHtQ/6yvbW4Zg+T/9N79WiNDiP2JKhg1G5fw/GGci32ME+j/UmXj4QIfjPwkLq68wjPM/cc1RA9j68z/+n3qKTnXzPwJYcEW2Vt0/YvMbVejy9D/ldGxAtoLZv41dMEOFM86/blw0hI9VBcBlGWq1lyXcv7/Szj4LWeO/YUFyxuKR9799bKUZoy/4v10TzLoVu6m/lwBu84O0AMDZZSVTOyLhv2MXJ5xewfi/EXMAvXlezj9CfvqllqgIwNVwZOGf2PK/PZWF81Po4D9zjC4wQNzwvyAyuCTgn/+/nhrTJjZH879yu1qzndH+vwriu7UvpQFAWEbAhieYBkBiDp3EsK/7Pwvw3I0pOeg/fOqAGo86BUBP508CiLP7P+Uw9g3RC+A/y1RDP+j76T8rwqmVVqj2Pz4EIh/NhvM/vBb+xsuG3T9YhhedjVzwvzQXUnuMH/Q/",
          "dtype": "f8"
         },
         "xaxis": "x",
         "y": {
          "bdata": "/S+znWxO5b+1rQ0ILgYCQJ/UAfU95O0/hGAHz31UAUCTERiTwUvwP+MKxbi34/c/AygF0qfe5T9nlksrhA3yPwtoX0ThtuY/6VPoIALP+D8ZIgxX5We2P4wM22ShrPU/WuxY9KvW6T8CeX2rCI6nPxitsujvHOy/UWZWtrdp4j+cGW9QQerRP12NDu1Yhmm/QzCKWZNN6r/hDJOyl6PXP1FLu2MJAPW/aTy9zmO+5T+nQQPRxoHDP4dI6xuO0NG/GmeGQW2G4r8+gUVfK0HRP/9yRROCCrO/3G1SlTwr9j9UZ/6fQu/7P2+Nf7d8DuU/QdxN13Zr8z/c1saJqOzRP9r6dNji9+m/9b0jjldx7j+zuM0Dyi3QP+LT8aJj3Pq/VumFZibK9D/0fCMnZ0kCQBSspL8t+/k/+6GjW2Mv+T+Bh3NJv//Rv89/khC53cI/ZVwu5Sgc0D/6wQNj2hnlPwboY+3kmvw/LfO39tG41L/Y2AsAGjX4v0KJPMfZsfI/7NC8JiVlAkB9642rMtBrv69zCXLbyPc/ln4tZlE18z+bZ2Dh4r7yv/eHd8gQfei/7j2r4c2F0z8vZKM7o8Lsv7HtcjGw/ei/SAOwwEbu8L/wZZ3gsR/sv4Wo2Tb0buU/117Nyv7S7T8nuyjkUDfLv2Sq6B+h0d+/SFCYHEL+5j9SjZhfVK7Uv1TEEbFJfsK/jyRiabzx3b8Q42WDIG3Wv8ZQ3jXbv+I/fw6IMBuf7j/teLvln4rlvydQ7T+zauA/zlRfqOJY8j8V+jX3z+qHP3fMGWrBHOO/vKEVF4628r9STTc9OI7cP/0K2of4zATAPrKJ7XM3vj/+aUGw3gLaP6AO1WPR7ea/XGTtJZue4T/+UmDDO5zpP7AdMxYkpuk/Eo/0gyJf879i2dgjRn33P+eX/qoAcfo/nGrqqDyi+L8wKoRY3uXHP3GD7m4bbPu/Ajb4eKbTrj8WLz9rkanuvwY5I9dXnPK/0OER705n5b+Ox8OU8lLLP6SFUFyFFPC/gumRF1jY4j+cIs7S203Dv0GqxX+rGAHAk1fD3joVwz8W/hiFRiHTv9LW3gfOR/s/yuyGTH7iAkA0GvbIzhncvy6uqi7G1Ni/3y2HOzRh7j/3ojt5CnQDQJbr/vu0fOE/6O9PeG2/5j9k7ud1dP77P7RpsHylnM2/1FTKd9FpBkCCEVJdHY3wPyL0zG37kNU/WOiKbmmf0b/qINutT97rP33C6e4rbwNA+KODAH/4/D9BBUXeNBsCQEWiEEKZJf8/KlG06Dc1CUDg/Bi5mZMAQCXSZAY1rem/+uflnuXz+D/8i7I7cyD7Pyzp41oRpgRA3ZSeJkyq7D8yfAfu7DnjP+YX9IzD6eE/R7DkTtM2AUCvTBGxiz//Py1tMemGC+4/DIttl+Lx8j8AGmCYarDXv8vtOMItivs/uRFsU6ig9j+w9G09qOH0P/g870mbZ+A/7L6Tq7cm/j8wrhvYm07aPwrAUqVaAO0/s4d0+ceQ4L+Baf27zg7sP7kkNRDZRPE/hh9o+zav7T+2BSQi6+v3P3y1YBCkQQJAojTPRHUt/j9w2egqj1X7P/HkjmtbWQJAMnHIU/GzC0DXrYcJ8C/zP6e6oqxsC8i/ONIVIOBT5D/mtqVSa/LxPzlV5AeSdc2/dt+uFLQc6T8PyRb+h6fwPxCsRoL0gdk/9npfo9JE7z+g+7A+KQABQEEATaOIhus/OK0RUwrt4T+1PsrKHRHYv0E0PHe3zfS/CjHzJ6Fy7j+wPPptlQ4CQEhu/RYnuuK/t+mS7R859z91ZxBf9oDwv08eI7Rq9fQ/4tPoL3bR+D/y0eJNvu7Cv6SCTSob0gHA",
          "dtype": "f8"
         },
         "yaxis": "y"
        },
        {
         "hovertemplate": "label=9<br>PC1=%{x}<br>PC2=%{y}<extra></extra>",
         "legendgroup": "9",
         "marker": {
          "color": "#FECB52",
          "symbol": "circle"
         },
         "mode": "markers",
         "name": "9",
         "showlegend": true,
         "type": "scattergl",
         "x": {
          "bdata": "zivnkww34T+Dw+uZu/cCQJmynLWKHQBAq6yM/wu59j99K7ekt2AJQFXtKyZRtwhAlD+GJWbaAEApCXBeH7sIQEurxHU0L/s/WVh7V8wA9D+OhNV7nq7XP5KrF+u50wFAXdQss9+rwD/3KB5zyHD0P6pU/QRYHfM/82S/nBQf7z+6XfWSPwvUPwjMwIihW9E/in0uV9ib+j/LQRzsiB7pP64mhq8IwfY/NI6wNKFA+z+deujQGGjmP2y4fi0Urcc/In/AWb3f37+71YEwLarSP+oQebqwnX4/fcGcsaINAEAoBW0YTN3lP8NwxPKRy+o/3fwU48058T9iMLvZTcHyv+AiInJ/mNs/Iy4CndE35L+0cL34jMnbPy9chGwjIwrABwOFxNrfEMBVd8ix06n5vxx+vYPpFvk/QFf0wnz58T81mu6kBuPkP0/7/Jibb9o/To/olAvKAkDSVW1tflMDQGwvVzYlzgNALKKhJ15q9T+hNvY1HHTwP9zsHrIuku4/mzD67m5d5D98F6TDGdTvv5BOCdwADPE/ssT61ohO0b91XR2iRv/nv1E1tPIMKgFArriji5Aovz+k8ORpljfxP0kvw9q8x9Y/y6LYlose6b/kjPUSPEACQAqJ8ToRgN4/C7CfXUnq1D+8RpyoUnH/PwqJLQ7dP+w/kbSGtG6Z3z/8UQ6hVXsVwCb/3HKPKRHA7TuMphznDMCQzC8GtfkRwHLjkVftVQnAzb93EsxYEMBy55u+kT4PwG4/inp/DAfAvqLEwWgeDMD+To4s+M8TwC2+jGxMoxXAcDWbn3k+FcBITZc9kEUQwGde7wehDvs/Dc8Ylxl98b9Rzs1AhSKVP1Y3QAYOruU/TcFE8lUT+T/R3b5D2JXQPwVMyp4C7MA/XhtopWLb1D9NM93WL0y6v3r5jb21dtw/JTAzJBYQ8L+bq4lrZkj0vzVHt+kgvvE/wg73HUbzBEBwBft22wwFQCf9EYQM+QpAAMup+whPBUClhWrPFDv3P46lfS8xwgNANFAXPtxf/z94L9b8TqQGQN4anCznj/E/IQc2QX0hEEDhU3rNRJL2PztBlJchBv4/s2wo3/GFDEDGw5XwZPn/P28JP+pxIfM/5UGQ9YwL+j/CcFmhuyvoP8x1NGCVtwJAVSWhyYsd0D/IYnUgy9LpP2KLZmrJLQFA+ersde80+z9N3TsEijX9P08Oz4p8kf4/cRaHOqnuzT+D8ozhg4n/P0kNN2BWnvM/OJpH2ShN9z+8qcTagprGP0NqSTxn3f4/GoBmdbFZ6D+zOWdP0a8EQMzA2DEJjPA/VBZFiDWt0T8lnDFj674BQMvbkOgY8wFAGrmFxM2n/T8EN0i8r2H8P/jgogrFXuQ/KZLj3EhuBkClI/PkPQECQOYhHzeDGQBAubZnnEvq8T/kJ20lAOPkP9sc93Hxx+Y/WwunKpQRzz9NIOCeZyv/Py6ZG6/Nvfs/OntmsGw06z9GsOGuSdb4PwjCTj5hyeC/C4225QVL/j+CrPJPKjX5P2xI5ee4DwRAsngw3WPcC0B6Xg7J/rvzP+i391i3XwtA4VydN5vDBUAS8b3EAF8RQPQ70i1K2es/ehLOJSFhD0BHJUT4kV4CQCktdmk2nMI/XN/9f4hv7T8L/Wn4sYgJwJdPk/xisATASU2N7g0QFsC7FNS1cAoNwMMSha64Ife/YW4GKOoF/z/UO9fbN5wFwOP4+nDGQe8/iiuIdu1p8r+MW2ta6NvxP3juADFe4vc/g1HYJo/xAUCltDJ8hHLmv2ukPsMmqwVAffDMFnCT+z9Qx8debWz2P9BGbtF+ROg/tfwT5+qV/z+M/OGCCXP7P7QK9XgxPANA5nH1jnJmAECfihQug4j2P3SnOUpEBv0/2YM0GTzE5j+u3w68aLW6v5mNF62FN/G/",
          "dtype": "f8"
         },
         "xaxis": "x",
         "y": {
          "bdata": "mhr6VDjh6L/7bO6vj3QHwJkmI1LHAwPAea974OYEAcBcKfXXfVoGwK1TH4wMKdy/+u35bwyoBUDJHUM45Yj2v6R/csW/ZKs/v+fCxk9V+r/XhlYvPgMBwDUF1VLz3vA/PLf4yWEh0b+0k13XBxr3v2SWw90Gldu/HSblSTBi5b/ZQsKhBfPmv72zhA+TA+e/fLF9cgwb+78dGeINq+vyv6ClI54J3+Y/mcUBhdeq5z95rXl0sF3ovwVQq7VD8+K/yxLSHG7cyL8nXbb38gcHQLIfUpKs7RFAXwsrjc2L0j9UCCOf8z7vv3erPMGFM/k/ZOO4giOr378sa15oDOcQQCAhleegIAxAXHC+SDO/C0AatH0kuOMOQJhNmEAwMxBARLcbk0T/BkBkH3IxEtQJQC0Z8sAP0ro/5A0dAiDq+L9X08hv8SDyv0+r62Gcqe2/lwyYALWj978X1oJHIsviv8a+02C5Us6/8E8a4cBe37/l5eIt35XuvxBiQD8w4f6/NDlxYZpz87/Vl2pdYvQBQPvYSGt4euC/2LGc5wW1pj/MGzwyYRbGPwOjVdOlmfS/O3K9HW+S/j9wlm98Im7wP3EUOwHXmNm/Hc1CYOeO8z80tXk/AuLJP+ErKBCBnOe/q4iEokVY77/DN5YEa7bZv1ZykO24c/E/EkmwZACN8b+74kmYm/sTQMQbeAPc8AlAR5BqHOzBBkBBOPQ8O2QFQGcFHqgJsg5A1irlWlDaBUBkftKb9ikNQKrQ8V7+RwBAoKFitFZ/B0CxoegH6PIRQBKvl9L8qBNAc7nTz0ikEUC3ZJY5WukTQM+Wv9eO5Pe/k7NpTV+qu78VCX6luaYBwJAp1df6ttW/eCEVZSyfAcAmdDEuPiTrP6JcTHhg6fC/aehSGtkG1r+GEnJJB13pP2/g5UVVmui/UajGvhJ84D8Udp8zQm7EP03uy9lBt7a/iL5MTsdjAMBlIdXkIbP4v47neNAw3em/6CVYus9Z2z/dFMF9quniv/MD0MKy0Pe/XBqk1tnT+L/ukRdi5SX3v75bCD1x7/m/rCdTAdXq+7+RoUaVwqLzv39Tv+cpVPG/mutGC02Y67/MAjuN1BLiP9B7sq/yMt+/LfVFOJ4G8L8r6OjMpOX3P48HKxtao/a/UfBdkSUS8j+b5kvxAJ7zv5ncxbuikf8//asE7sCXAcB9ccr5IsrOP1otR2wAnuQ/Zc5+SZTD8r+CO/DJQR/3Pzi+vNamSu+/wDREt0/hCsAwI6cMwA7fvz/sJFv9xsK/23gt44uf2T8XrBb0xnfiv3gRAo0WIeu/uBt3EDyX9T+agiD5NG3jP2rpCAc+HvU/z7W18MWv9D8ONQgux+DOv7IBkHi5YfU/rZ02aWlrAMAffZJWtrfTv9g0YrrbTdA/cWp2LBMmlj8oV0yPSCjov3F2m/ywba2/6Zgu5NqP5r+PNpg/qVHEv3eOeFcTyPK/YGV99spF8z/JGBrxjT/3PzNM9I+9PfE/z+DNNKXb0j+kMs1+K2jeP0ZRTAOLYte/7yv/4GSo2L+hLpIjtYLTP0xQSXBRcuS/YAVIwUp/8b84DHUkUouJP4IRymwD8Mg/gRWbSrSV5L+7jouo1TrJvw43aR7igANAXhUg3M2Y+D+6j8jAt1ECQGOWLRVZrBRAswAFRVeBIUBhDkHKygUUQC2ZTOb60QxAMY9mxzaECkCV8d4lV4wMQNk7DUurcvW//riDIwpiDEDfS/ypdsXxv10NhR8+5tI/2Sf6L6whAEASZIXja9QOQANyCYoKiuW/EN9N+GZLzD8bzomDh/jqv8otY/9Xz7o/CdvQ0cbL7z8GJn0B78rpP1vXjMaXNPG/N0SkN3qW3b90K0u1thvSP+AHARoBK/M/6AOZ2dE20D/E0+6nUFLQP9zq6Z/EYNi/",
          "dtype": "f8"
         },
         "yaxis": "y"
        }
       ],
       "layout": {
        "legend": {
         "title": {
          "text": "label"
         },
         "tracegroupgap": 0
        },
        "template": {
         "data": {
          "bar": [
           {
            "error_x": {
             "color": "#2a3f5f"
            },
            "error_y": {
             "color": "#2a3f5f"
            },
            "marker": {
             "line": {
              "color": "#E5ECF6",
              "width": 0.5
             },
             "pattern": {
              "fillmode": "overlay",
              "size": 10,
              "solidity": 0.2
             }
            },
            "type": "bar"
           }
          ],
          "barpolar": [
           {
            "marker": {
             "line": {
              "color": "#E5ECF6",
              "width": 0.5
             },
             "pattern": {
              "fillmode": "overlay",
              "size": 10,
              "solidity": 0.2
             }
            },
            "type": "barpolar"
           }
          ],
          "carpet": [
           {
            "aaxis": {
             "endlinecolor": "#2a3f5f",
             "gridcolor": "white",
             "linecolor": "white",
             "minorgridcolor": "white",
             "startlinecolor": "#2a3f5f"
            },
            "baxis": {
             "endlinecolor": "#2a3f5f",
             "gridcolor": "white",
             "linecolor": "white",
             "minorgridcolor": "white",
             "startlinecolor": "#2a3f5f"
            },
            "type": "carpet"
           }
          ],
          "choropleth": [
           {
            "colorbar": {
             "outlinewidth": 0,
             "ticks": ""
            },
            "type": "choropleth"
           }
          ],
          "contour": [
           {
            "colorbar": {
             "outlinewidth": 0,
             "ticks": ""
            },
            "colorscale": [
             [
              0,
              "#0d0887"
             ],
             [
              0.1111111111111111,
              "#46039f"
             ],
             [
              0.2222222222222222,
              "#7201a8"
             ],
             [
              0.3333333333333333,
              "#9c179e"
             ],
             [
              0.4444444444444444,
              "#bd3786"
             ],
             [
              0.5555555555555556,
              "#d8576b"
             ],
             [
              0.6666666666666666,
              "#ed7953"
             ],
             [
              0.7777777777777778,
              "#fb9f3a"
             ],
             [
              0.8888888888888888,
              "#fdca26"
             ],
             [
              1,
              "#f0f921"
             ]
            ],
            "type": "contour"
           }
          ],
          "contourcarpet": [
           {
            "colorbar": {
             "outlinewidth": 0,
             "ticks": ""
            },
            "type": "contourcarpet"
           }
          ],
          "heatmap": [
           {
            "colorbar": {
             "outlinewidth": 0,
             "ticks": ""
            },
            "colorscale": [
             [
              0,
              "#0d0887"
             ],
             [
              0.1111111111111111,
              "#46039f"
             ],
             [
              0.2222222222222222,
              "#7201a8"
             ],
             [
              0.3333333333333333,
              "#9c179e"
             ],
             [
              0.4444444444444444,
              "#bd3786"
             ],
             [
              0.5555555555555556,
              "#d8576b"
             ],
             [
              0.6666666666666666,
              "#ed7953"
             ],
             [
              0.7777777777777778,
              "#fb9f3a"
             ],
             [
              0.8888888888888888,
              "#fdca26"
             ],
             [
              1,
              "#f0f921"
             ]
            ],
            "type": "heatmap"
           }
          ],
          "histogram": [
           {
            "marker": {
             "pattern": {
              "fillmode": "overlay",
              "size": 10,
              "solidity": 0.2
             }
            },
            "type": "histogram"
           }
          ],
          "histogram2d": [
           {
            "colorbar": {
             "outlinewidth": 0,
             "ticks": ""
            },
            "colorscale": [
             [
              0,
              "#0d0887"
             ],
             [
              0.1111111111111111,
              "#46039f"
             ],
             [
              0.2222222222222222,
              "#7201a8"
             ],
             [
              0.3333333333333333,
              "#9c179e"
             ],
             [
              0.4444444444444444,
              "#bd3786"
             ],
             [
              0.5555555555555556,
              "#d8576b"
             ],
             [
              0.6666666666666666,
              "#ed7953"
             ],
             [
              0.7777777777777778,
              "#fb9f3a"
             ],
             [
              0.8888888888888888,
              "#fdca26"
             ],
             [
              1,
              "#f0f921"
             ]
            ],
            "type": "histogram2d"
           }
          ],
          "histogram2dcontour": [
           {
            "colorbar": {
             "outlinewidth": 0,
             "ticks": ""
            },
            "colorscale": [
             [
              0,
              "#0d0887"
             ],
             [
              0.1111111111111111,
              "#46039f"
             ],
             [
              0.2222222222222222,
              "#7201a8"
             ],
             [
              0.3333333333333333,
              "#9c179e"
             ],
             [
              0.4444444444444444,
              "#bd3786"
             ],
             [
              0.5555555555555556,
              "#d8576b"
             ],
             [
              0.6666666666666666,
              "#ed7953"
             ],
             [
              0.7777777777777778,
              "#fb9f3a"
             ],
             [
              0.8888888888888888,
              "#fdca26"
             ],
             [
              1,
              "#f0f921"
             ]
            ],
            "type": "histogram2dcontour"
           }
          ],
          "mesh3d": [
           {
            "colorbar": {
             "outlinewidth": 0,
             "ticks": ""
            },
            "type": "mesh3d"
           }
          ],
          "parcoords": [
           {
            "line": {
             "colorbar": {
              "outlinewidth": 0,
              "ticks": ""
             }
            },
            "type": "parcoords"
           }
          ],
          "pie": [
           {
            "automargin": true,
            "type": "pie"
           }
          ],
          "scatter": [
           {
            "fillpattern": {
             "fillmode": "overlay",
             "size": 10,
             "solidity": 0.2
            },
            "type": "scatter"
           }
          ],
          "scatter3d": [
           {
            "line": {
             "colorbar": {
              "outlinewidth": 0,
              "ticks": ""
             }
            },
            "marker": {
             "colorbar": {
              "outlinewidth": 0,
              "ticks": ""
             }
            },
            "type": "scatter3d"
           }
          ],
          "scattercarpet": [
           {
            "marker": {
             "colorbar": {
              "outlinewidth": 0,
              "ticks": ""
             }
            },
            "type": "scattercarpet"
           }
          ],
          "scattergeo": [
           {
            "marker": {
             "colorbar": {
              "outlinewidth": 0,
              "ticks": ""
             }
            },
            "type": "scattergeo"
           }
          ],
          "scattergl": [
           {
            "marker": {
             "colorbar": {
              "outlinewidth": 0,
              "ticks": ""
             }
            },
            "type": "scattergl"
           }
          ],
          "scattermap": [
           {
            "marker": {
             "colorbar": {
              "outlinewidth": 0,
              "ticks": ""
             }
            },
            "type": "scattermap"
           }
          ],
          "scattermapbox": [
           {
            "marker": {
             "colorbar": {
              "outlinewidth": 0,
              "ticks": ""
             }
            },
            "type": "scattermapbox"
           }
          ],
          "scatterpolar": [
           {
            "marker": {
             "colorbar": {
              "outlinewidth": 0,
              "ticks": ""
             }
            },
            "type": "scatterpolar"
           }
          ],
          "scatterpolargl": [
           {
            "marker": {
             "colorbar": {
              "outlinewidth": 0,
              "ticks": ""
             }
            },
            "type": "scatterpolargl"
           }
          ],
          "scatterternary": [
           {
            "marker": {
             "colorbar": {
              "outlinewidth": 0,
              "ticks": ""
             }
            },
            "type": "scatterternary"
           }
          ],
          "surface": [
           {
            "colorbar": {
             "outlinewidth": 0,
             "ticks": ""
            },
            "colorscale": [
             [
              0,
              "#0d0887"
             ],
             [
              0.1111111111111111,
              "#46039f"
             ],
             [
              0.2222222222222222,
              "#7201a8"
             ],
             [
              0.3333333333333333,
              "#9c179e"
             ],
             [
              0.4444444444444444,
              "#bd3786"
             ],
             [
              0.5555555555555556,
              "#d8576b"
             ],
             [
              0.6666666666666666,
              "#ed7953"
             ],
             [
              0.7777777777777778,
              "#fb9f3a"
             ],
             [
              0.8888888888888888,
              "#fdca26"
             ],
             [
              1,
              "#f0f921"
             ]
            ],
            "type": "surface"
           }
          ],
          "table": [
           {
            "cells": {
             "fill": {
              "color": "#EBF0F8"
             },
             "line": {
              "color": "white"
             }
            },
            "header": {
             "fill": {
              "color": "#C8D4E3"
             },
             "line": {
              "color": "white"
             }
            },
            "type": "table"
           }
          ]
         },
         "layout": {
          "annotationdefaults": {
           "arrowcolor": "#2a3f5f",
           "arrowhead": 0,
           "arrowwidth": 1
          },
          "autotypenumbers": "strict",
          "coloraxis": {
           "colorbar": {
            "outlinewidth": 0,
            "ticks": ""
           }
          },
          "colorscale": {
           "diverging": [
            [
             0,
             "#8e0152"
            ],
            [
             0.1,
             "#c51b7d"
            ],
            [
             0.2,
             "#de77ae"
            ],
            [
             0.3,
             "#f1b6da"
            ],
            [
             0.4,
             "#fde0ef"
            ],
            [
             0.5,
             "#f7f7f7"
            ],
            [
             0.6,
             "#e6f5d0"
            ],
            [
             0.7,
             "#b8e186"
            ],
            [
             0.8,
             "#7fbc41"
            ],
            [
             0.9,
             "#4d9221"
            ],
            [
             1,
             "#276419"
            ]
           ],
           "sequential": [
            [
             0,
             "#0d0887"
            ],
            [
             0.1111111111111111,
             "#46039f"
            ],
            [
             0.2222222222222222,
             "#7201a8"
            ],
            [
             0.3333333333333333,
             "#9c179e"
            ],
            [
             0.4444444444444444,
             "#bd3786"
            ],
            [
             0.5555555555555556,
             "#d8576b"
            ],
            [
             0.6666666666666666,
             "#ed7953"
            ],
            [
             0.7777777777777778,
             "#fb9f3a"
            ],
            [
             0.8888888888888888,
             "#fdca26"
            ],
            [
             1,
             "#f0f921"
            ]
           ],
           "sequentialminus": [
            [
             0,
             "#0d0887"
            ],
            [
             0.1111111111111111,
             "#46039f"
            ],
            [
             0.2222222222222222,
             "#7201a8"
            ],
            [
             0.3333333333333333,
             "#9c179e"
            ],
            [
             0.4444444444444444,
             "#bd3786"
            ],
            [
             0.5555555555555556,
             "#d8576b"
            ],
            [
             0.6666666666666666,
             "#ed7953"
            ],
            [
             0.7777777777777778,
             "#fb9f3a"
            ],
            [
             0.8888888888888888,
             "#fdca26"
            ],
            [
             1,
             "#f0f921"
            ]
           ]
          },
          "colorway": [
           "#636efa",
           "#EF553B",
           "#00cc96",
           "#ab63fa",
           "#FFA15A",
           "#19d3f3",
           "#FF6692",
           "#B6E880",
           "#FF97FF",
           "#FECB52"
          ],
          "font": {
           "color": "#2a3f5f"
          },
          "geo": {
           "bgcolor": "white",
           "lakecolor": "white",
           "landcolor": "#E5ECF6",
           "showlakes": true,
           "showland": true,
           "subunitcolor": "white"
          },
          "hoverlabel": {
           "align": "left"
          },
          "hovermode": "closest",
          "mapbox": {
           "style": "light"
          },
          "paper_bgcolor": "white",
          "plot_bgcolor": "#E5ECF6",
          "polar": {
           "angularaxis": {
            "gridcolor": "white",
            "linecolor": "white",
            "ticks": ""
           },
           "bgcolor": "#E5ECF6",
           "radialaxis": {
            "gridcolor": "white",
            "linecolor": "white",
            "ticks": ""
           }
          },
          "scene": {
           "xaxis": {
            "backgroundcolor": "#E5ECF6",
            "gridcolor": "white",
            "gridwidth": 2,
            "linecolor": "white",
            "showbackground": true,
            "ticks": "",
            "zerolinecolor": "white"
           },
           "yaxis": {
            "backgroundcolor": "#E5ECF6",
            "gridcolor": "white",
            "gridwidth": 2,
            "linecolor": "white",
            "showbackground": true,
            "ticks": "",
            "zerolinecolor": "white"
           },
           "zaxis": {
            "backgroundcolor": "#E5ECF6",
            "gridcolor": "white",
            "gridwidth": 2,
            "linecolor": "white",
            "showbackground": true,
            "ticks": "",
            "zerolinecolor": "white"
           }
          },
          "shapedefaults": {
           "line": {
            "color": "#2a3f5f"
           }
          },
          "ternary": {
           "aaxis": {
            "gridcolor": "white",
            "linecolor": "white",
            "ticks": ""
           },
           "baxis": {
            "gridcolor": "white",
            "linecolor": "white",
            "ticks": ""
           },
           "bgcolor": "#E5ECF6",
           "caxis": {
            "gridcolor": "white",
            "linecolor": "white",
            "ticks": ""
           }
          },
          "title": {
           "x": 0.05
          },
          "xaxis": {
           "automargin": true,
           "gridcolor": "white",
           "linecolor": "white",
           "ticks": "",
           "title": {
            "standoff": 15
           },
           "zerolinecolor": "white",
           "zerolinewidth": 2
          },
          "yaxis": {
           "automargin": true,
           "gridcolor": "white",
           "linecolor": "white",
           "ticks": "",
           "title": {
            "standoff": 15
           },
           "zerolinecolor": "white",
           "zerolinewidth": 2
          }
         }
        },
        "title": {
         "text": "Visualización del Dataset Digits con PCA (2 Componentes)"
        },
        "xaxis": {
         "anchor": "y",
         "domain": [
          0,
          1
         ],
         "title": {
          "text": "PC1"
         }
        },
        "yaxis": {
         "anchor": "x",
         "domain": [
          0,
          1
         ],
         "title": {
          "text": "PC2"
         }
        }
       }
      }
     },
     "metadata": {},
     "output_type": "display_data"
    }
   ],
   "source": [
    "# Aplicamos PCA para reducir a 2 dimensiones\n",
    "pca_2d = PCA(n_components=2)\n",
    "X_pca = pca_2d.fit_transform(X_scaled)\n",
    "\n",
    "# Creamos un DataFrame para facilitar la visualización con Plotly\n",
    "df_pca = pd.DataFrame(data=X_pca, columns=['PC1', 'PC2'])\n",
    "df_pca['label'] = y.astype(str) # Convertimos la etiqueta a string para colores discretos\n",
    "\n",
    "# Visualizamos\n",
    "fig = px.scatter(df_pca, x='PC1', y='PC2', color='label',\n",
    "                 title='Visualización del Dataset Digits con PCA (2 Componentes)',\n",
    "                 labels={'color': 'Dígito'})\n",
    "fig.show()"
   ]
  },
  {
   "cell_type": "markdown",
   "metadata": {},
   "source": [
    "**Análisis de PCA:** PCA logra una separación decente para algunos dígitos (como el 0, 4 y 6), pero muchos otros se superponen significativamente. Esto es esperado, ya que PCA está limitado a proyecciones lineales."
   ]
  },
  {
   "cell_type": "markdown",
   "metadata": {},
   "source": [
    "## 5. t-SNE (t-distributed Stochastic Neighbor Embedding)\n",
    "\n",
    "Ahora, aplicaremos t-SNE, una técnica no lineal, para ver si podemos obtener una mejor separación visual de los clusters de dígitos."
   ]
  },
  {
   "cell_type": "code",
   "execution_count": 28,
   "metadata": {},
   "outputs": [
    {
     "data": {
      "application/vnd.plotly.v1+json": {
       "config": {
        "plotlyServerURL": "https://plot.ly"
       },
       "data": [
        {
         "hovertemplate": "label=0<br>TSNE1=%{x}<br>TSNE2=%{y}<extra></extra>",
         "legendgroup": "0",
         "marker": {
          "color": "#636efa",
          "symbol": "circle"
         },
         "mode": "markers",
         "name": "0",
         "showlegend": true,
         "type": "scattergl",
         "x": {
          "bdata": "oxSOwb37ecFQVY7BYRqOwQX8fcF8SprBI3KiwXmdisGYm5XBLLuwwbCHp8EvEJzBdDKTwTQqmMH5MIjBOhyjwbKafsES3IvBvwuowT3/i8GaIJHB0hGbwfgxh8GAqpzBJ1qnwRxWlsFccnzB/3ifwQDEjMExyX7BEVuJwfj1mcG/iJnBxHyUwQCSj8GhFHvBhpqIwR49o8EV86HBfSeuwbOQocEttZjBLuiAwf4prsEnD6TB3tScwbUDn8FGEInBsz6XwXPip8F4r6DBP42UwXQhi8Fl+5XBH2SNwa4UisF9kKLBlUiTwVAJrsHlyIDBZuGRwS1Xm8F6eobBC/uGwS44ksEpO3nBA6F+wcOGfMGD7IXBGsGbwcFmj8G/+YTBphSEweGNiMF/v4LBTuCTwbspl8ED/4rBHx2VwTfKpcHOR4DBm0uVwSGZj8H83mnBf4VvwbgldMFroIXBJeGAwfQAl8FL7JDBDJhqwXSCnsHWFZzB8lSXwatFnMFmXZjBdQKhwTvJlMHsl6/BSvubwdg/o8HClI7BhvKbwcKlrcGXb6LBQ46iwVNxr8G5MbTBItmpwYSAncGcAqrBOWqtwb8RkMH2qaTBr/aRwXO/icGYs4bBurqAwROcicE2Lo7BgLWJwcVbg8EKM3/B4wKAwTB/g8G635PBTL97wao9r8F5RY7BoXiZwZM9sMGvPYLBKC2VwcRXk8HAmZHBvAmHwX07kMF44pvBzOaSwcutgsGl9ZvB3V2gwZ2omMHA9aTBIX+iweewnMGHg53BCJSuweTssMGiL7HBv4iYwTXCpsGot5XBqg6PwSg7ksEWA4nBetaAwejgksGc84TBWOBnwQSsmMFDTovB0uimwaDZicGkYYrBHLykwa2on8GLXavBl7qRwWUOgMEfxbbBZ3yLwdp0eMGUEKnBSnCJwQUnq8HbpZvBsPyAwQ==",
          "dtype": "f4"
         },
         "xaxis": "x",
         "y": {
          "bdata": "Dqq+wREMtMF+R5rB267MwX90osGxdq7BDcagwewymcEhIZfBjpKpwWXdsMHUMJPBmduYwWlBqcFkQ5/BMQaZwf5AqMGCyKzBfc+1wR5Yk8H/J5nB65yewVf5mcFgwZTBs++zwYIjncHmRrfB0omtwdL1s8ExGrvBY13Kwb7KssG6dbfBw0m2wX/rrMH4VLTBfUy0wfvipsHTQqjBu2OswfQGscEJEqDBrDuiwQHbr8E0C7HB/MufwUV8vcFLWKvBoCzBwVXonsHn05rBBJixwQjKrsHM7LfBfHbEwapur8HvcbvBJ7euwbr3vsFztLfBVNOQwenix8E8fa7BOWHSwa4gtMFkpq/B01nJwWOwq8E8QrPBJ32rwV3PocHQMrnBSQmTwTU0osEudqrB+HKpwZlDoMGl66fB2ibMwTsExsFrPb3B4+y2wRdNtcFYG6rBITiywTPSvsHWI6XB+tGdwfZNw8F2+MDB59G2wcrrvcGETbrBOASuwSIJxMH8/L/BrgTFwZe6zMF21LHB/ATEwaChycE/m7vBofGpwV2jnME1S7nBpLSewU6blsF5gZbBwynBwf2YusGqtr7B5LW/wR+avcHbGbfBEjCxwVNTv8GTMcDBIzTIwaYXzMHy3tPBsPHNwYNlxsHJPcnBMQbKwW2DxsH5Y47BkSHNwaJVnMHln6LBdBulwZVyusGcR5XBR0ulwYpYo8GjpsjBoue0wZAEv8FtLKXB3XmhwR2al8Faqr3BMbmmwUqat8FBoKjBnESrwRsWscH4vrHBad65wUxlvMH8+LjByj+0wcXSqMH+uLvB92eiwZ54nMGhmKPBoeSJwW2OqsF2vYvBaVO9waswksFK5Y7Bs+2/wbpSmcGSKrHBcPitwYQ2o8HP26XBCRC5wccqp8GdkbHBKwi7wboIoMHwI63Bfse5walJqMESyJDBYUyowQ==",
          "dtype": "f4"
         },
         "yaxis": "y"
        },
        {
         "hovertemplate": "label=1<br>TSNE1=%{x}<br>TSNE2=%{y}<extra></extra>",
         "legendgroup": "1",
         "marker": {
          "color": "#EF553B",
          "symbol": "circle"
         },
         "mode": "markers",
         "name": "1",
         "showlegend": true,
         "type": "scattergl",
         "x": {
          "bdata": "f80zwT0NicCeTHPAPaaXwGXqksBi2YTAKxOZwEgCi8C8jqvAkouWwABwNsGgYi3BfZ+FwMJQ0b8bjlvAF4ApwAOnI8DD3xzA/9VJwJ+plsAjsi3AqC2fwGVQJsAQsGPA0sWLwFQ/ScCiahjBbBC6wItSB8F8/xHBHZ8cwSCUm8Cjlh7BX+YPwQmT0MBzNR7BWcguwfk/MMF6+xPBfgHsv5dDgcDhoF/Ak3ZmwDiIgsB1k5E/DLtdwI2BkMBBIaLALoGOwLU1Z8ChMnbArTRVwN2X6z6zM5U/34bfPQyZx747L5a/GncdP0uHWr+kLpC/85pkv+X6Wb8RIZe/+Bf8wFrKBT+qdRDBST4NwSEHFcGvNv7AFuz9wEfoH8HDagzBqjwfwSvcFcFeGAvBih0IwR8wCcECqgfBd5IywQvWMcFgzyTBsHflwAcDBcGdwNk/qkH8wMS5DcExUhDB1rsiwZXjH8H24yPBjJwIwVzasD857KA/eUnYP/guCT/NUE0/vqxFP7HDHD9qYy0/Ss2qP3quUj9fTTQ/ST4xP9nyej8TwfTABjwFwcFDK8GwR/XAGhImwURnHMHKMDDB2t8cwZjMK8Ea6+zAjfUcwVhAKsEiQyPBO2uXwMZoksApkDHBfR0TwdGFLsFZE0DBaW0dwS3CK8HvfDHBaoIgwZDuHcEb6yjBQdwIQFJ8CMB3oTDBpgIowDAaPcF1xDfBXCFqwJXnLMHI5ZPAdNw4wd+AOsGKATjBSF4twVavNME+RQ7AcDzivw+PN8Ccvsy/a8u6vxuzob8ujJW/bmZIvxL3+L/u3DLApOPUv/DYnb8Bf2C/0XE6wUtFJsEjBibBYnZAwZUAN8GY+DLBb2wzwQIBOsF/20bBDMlDwVtMNMHk6D3BdWQ/wRlPAcFDXQTB5/0NwTXI/8CgHArBOxECwcrH+MCQgObAtksNwb/Z98DpbgzBItvqwA787cA=",
          "dtype": "f4"
         },
         "xaxis": "x",
         "y": {
          "bdata": "D4qfQLKTxsAZjarAMwHDwJVUmsAKoKvAWEqOwPMcqsC9iKnA/1jDwIb4iEBAzAtB5GjZwJ2208DwruDAGijlwCPEy8A9F+HAPEyzwCfF2cBYBdDAXyznwG4D6MBQSLvAKL7UwMUy08DcBuVApFbHwJY4XEAFxg5BoZWZQF435MC6CfdANUxvQO1jucBiKMpAbuv2QFlUykARISJB9bOjwCdWWcAfxonAOKifwNhFZsCg1dpBGcOgwOM4asBN8XTAu6+0wMr3ccBndWXAtx2PwPt2z0HbrtZBo5HZQZG11UHkIdhB1rvXQcay1EEgmNhByZ7YQXjV20HKwdRBmUMJQT6eykHdpdVA6rkQQfYiE0ETf6RAlmKnQPDutUBbDfJAcf6sQGTRKkGwjSlBz7IBQZeAyEBG075AX2zdQNW6ukChnMNAP9MCQaiWBEEv39tBM8XEQFnUHEG+/utA8dX1QK8F+EB+rd5AqUmuQOn+2UE0OdlBLX3eQbSBy0GpgtFBR9PTQZF0zUGIGdBB22bZQW4M0UHLJ9JBhMnNQZ601UFXPMdAAWjiQIQZ5kAp9PVAmgz3QMHHHkEAvOVATXULQU/11kCDFOJASBXUQCTdCUHPmwNBOjGBwChzk8AaIUJAY/naQAHnHEDtMOtApVkKQeZo4UCK8jFA+m8BQVW5AkHvYx9BXblSwFSEecAZXTtAjZbswNTy70ANqdhAq5yUwBc61EAHgIvAute9QOt61kArnOhADZ0BQVXjBEEV7oTA8wiawLwOpcAYIMPAfF3EwM/mmsCn1aDAXgSrwIluhcAEkqfAuoizwOIxvsBOraDA0K71QAXQFUHuJSFBbzjXQGzm/0DdDhZB8IT4QKRz+UAdDeZArGnYQO+x4kBg8NNAVCXRQCzDFEEUPtdAEosQQdp5C0EH0eZAuegWQVoCAEEc2AFB7sWjQOWf3kC4GgRB0XT6QKaj8EA=",
          "dtype": "f4"
         },
         "yaxis": "y"
        },
        {
         "hovertemplate": "label=2<br>TSNE1=%{x}<br>TSNE2=%{y}<extra></extra>",
         "legendgroup": "2",
         "marker": {
          "color": "#00cc96",
          "symbol": "circle"
         },
         "mode": "markers",
         "name": "2",
         "showlegend": true,
         "type": "scattergl",
         "x": {
          "bdata": "yqXpwE9ToECSv7tAJUbuwKU84cAim93AALbrwODm48BzjN3AACYmQeGLDEF9F+3AgPvvwMV/KUG1dQZBJ+afQP/e4EBSTfRARf4NQUz79EBeB5VAMrnSQOPI50C0XhhBff80QY5j0ECYPfFA0Ej4QESQHEGUtzJB7GHpQCrG8EALqxpBPicAQcm1KEG0dvhAiNX1QBa6LEHTbiFBoIa/QCoop0CdcvVAzsBaQBgN4EB7I+JAzGa3QPp8w0CBm/ZA6rAEQTnbCUFfnwFBDSBAwdMVIkCVZsdAy4B3QLLuakGGA1NAM1VmQBedVUBNHitABkrrQBYxK0BpZTZA4tn9QMAqHkAcXQpBR6LSQO3z60BR5q5ACiXIQOQyDUAEQhRAdse2QGwnzEA9pzRBFzXkQEnD2kBAmu5A/XUdQY3TLUHwokFBWfHjQAz4RkFQajlB/7cVQd2tTkEur0JBzE1/QPgIUEFspTBBJpT2QGJ7FEEOYkBBIIoPQZIiGEFMQRZAZryCQHBAbkBfLxdAjPgzQVittkCdKj5ADpIlQUDWD0EHs5pAyH5DQIl0O0Bw8WJAQyKlQJu6IEAPLIlAMOAYQQeumEAgqOk/73AiQZ6uhUCSZARBo4G5QNaP7EAASzhBz2sGQSyjEkGOuodA1AwJQc3+OkGPFTNBty18QR6nO0D9GKU/7BRQQOWZEkBGoeQ/hUilP8/nB0D4u9tARZjDP3kFLEAASQtAZ0NLQO+hGEBnPAdB/tUmQSKvMkE1WjNBfl8HQWyeOUEfPiFBqhcmQZG6LEFfAUNBHAMkQWVSqUAxuh5BWEamQEk+oUCNsp1AK2+rPw1rFEGDIM0/RLIVQaW+4r+nnh5B5vbQQGZiUEC6wAFBaX8BQZhWAkH/KA5BbcA9QVJjQkELKyJBuSZGQX77EEEKwr1AsME2QTonA0GcM/pA",
          "dtype": "f4"
         },
         "xaxis": "x",
         "y": {
          "bdata": "4t9APxVSwUEGKrdByjORPwiKSD6w9Hk9cFkUPweiEb7dXtm+a/avQTmxjEGVmYk/DImnP/MMrUGqZ5NBkxWeQUZApUGLsp9BLg/GQd2htkFZI5tBU1ygQUOAo0HX/MVBLGCwQaFKpEEJG65B+VOuQWG0pUFdAalBEByhQYuOqkE2cK1B/82pQSFopkH/v59BuMCqQWG0pUFj7rJB5jq8QfofxkGYcr5BDFjHQZ1Yu0Eef71B9QrCQa8dwEFBd7lBZFzBQUAhukHsvr1BR4p3wc3nuUE9qq1BqNXOQbk5g0ERDs5BsWC3QfZ5zUGeZslBI/auQa6X10E8ks1BLcetQaMkzEGIoJlB4z6WQdVdmkFz9JRBnzCVQV8GFkH6JhVBpfOTQTcpl0GjbKFB/pSXQZqXlkF0U5lB/G2pQYFJtEEfzKhBPPGgQayRrkHJxaVBkj6+QWtIqkFCB7JBK2mcQUpjq0EJYxLBqNOWQSgvqkFLcrdBDnuxQSPbtUHBhMVBTIK7QRT1ukEebcVB28e4QYxluEH+k7xBPK65QfHgs0EB+7FBB3y7Qf5gtUH167dBFujGQSMusUG8Br9ByLK7QRvKtUHzV8VBEhixQSROuEH9VZpBpTmnQWDimUEL7KhBNYuqQUPNqUFYj6BBKiCeQY/NpUFWJ6RBp6h0Qbr4sEHdTsdBaQSoQXSVsEE7b7BBV3vEQY05tUGlzrhBi3SsQSXmvkEy7bRB7Fi4QekIvEFnHb1BXdTAQaUku0Fcvr5Bpoy9QYdPvkGcar9B5+O8QeLFvUFav7hBeeu4QShOpUG/C79BqMK4QV5byUERr8hBYWSIvyVwtEFQTa9BRcCcQd0p0EH02a9B68/OQV9EqEFAr7dBON+PQYHkjUG8oMZBSJm7QSYzt0EXQsRBeu7BQQpCoUEIe5xB4na+QSM8vUHoEcVB",
          "dtype": "f4"
         },
         "yaxis": "y"
        },
        {
         "hovertemplate": "label=3<br>TSNE1=%{x}<br>TSNE2=%{y}<extra></extra>",
         "legendgroup": "3",
         "marker": {
          "color": "#ab63fa",
          "symbol": "circle"
         },
         "mode": "markers",
         "name": "3",
         "showlegend": true,
         "type": "scattergl",
         "x": {
          "bdata": "qDoxQe3vFkF/Yp1A7sENQab75ECgGwNB7moCQQ4gFkGXAxJBgvj6QJm5I0E6/RNBhSEiQTFgGkGDzihB330VQfy09UDKJSZBk10ZQZ7VrEDphxRB4ugUQZgbBUFC0A5BzqkTQUyfiEDBvDFB/JkiQTJDCEGwARtBXLM3QXhD9kAB7CBBdy4iQa4pHkE3evlAc6wyQbY5N0FeI/hAlsbiQBZ810CesjxBtUg6QRpOz0B8KsVA4Xk5QVLqMUFMVDtBrZo7QanjO0EE+0hBGIw7QYLG/ECoLJFAuI5yQMXQUED56pFA+iOYQCDPpUC822NA5maBQNjibECc5GBA8PtdQOisjUAGfYhAKQ0hQbVmJEH54CJBeaKPQDadGkHUeBxBqYMQQR/iF0F0WB5BmvYYQcpBSEE3lUZBnpQjQZvVSkHPvhtB1XoeQVka4kCfNeFACXjhQOf3h0DF65dA2aP3QNukKkHVywhBmNYHQVn2wUBAl85ATBvkQGl3MUG5HdFAN6IMQXf63ECgFjhBvjpKQdS9OUGW6spA42U6QdRG1kBIbEtBkxfvQGsH5UB6nudArvzgQNkibUFrHNlAAbgQQeZEA0GDn/5AjHD6QJWVF0HAwvBAKuYBQfDXEEFdYeFATsTzQLaFHEDiofxANG7aQMJUsUDuiihBsqAhQawZ0kD5Un5BdKz5QK77KEFWsDRByx7XQJlmNUFDUAdBWpHHQLweHEEXrAxB0r8RQXd+BUGMWt9AVecWQVijHUF/DQlBpd81Qd7KLEGnti1BjucAQej4NEFkIQ9BfE0rQXfADUEGRhVBH/UZQc4LAkGd0gFBjRcTQTLfxkC9sp5Ak5ffQAyEe0Do4FZAjCpwQJiqdEBOahdAUYPiQABu0kBT+KxAkgzLQM2w2UAEFVVBBE9oQBOmZUH3yxZAmGpVQHnkREA5cHFBPFxZQM9odkDjbbBAopAkQY0YZEFOyRpB",
          "dtype": "f4"
         },
         "xaxis": "x",
         "y": {
          "bdata": "hJYhQUwxU0ET6SpBDTE6QUIARUGLYj9BxN1GQWI0XkF++V9Bba9LQUQHbkGHxmBBRBB7QXZobUF+jmBBoxhsQdGERUH7WltBN7RZQR/qJUFsSkxBXjhhQThhVEE6iFRBvj9qQYk3KEFVEB5B4tkVQQKSHEFcFhRBRaw2QatyLEHzTiVB5W0nQUJdF0HwRi5B5iQ/QUtDQUFoqxdBn9IvQSYJKEFgZhVBC9zYvwwdaUF0am1BergEQTcdA0HHggdBGpMPQYAUE0EKNw5BndY3QVvWd0EZuNJAmo3aQBCmz0A/ot1APUDJQDDuE0ERRrZAr1vQQLT20UFAQNhA6bbJQOmB30BKJttAV90BQYJv6kAp8g1B980JQZd07ECf+AlBX+n4QBNCKkHoEf1A507/QBFgJkF21SRBVd4mQcnQM0GvajVBX5k7QQZ3VkEaRVlB509bQSqGLUHTCjdBxUInQXK5Q0HMhjVBOBk8QaIHO0GRnAJB3RRrQQ0qL0H8MXNBWFsuQVFqbEHIiPq+nu3tQPWoib9wjgNBP67Tv18MakHOLvJAMhoHQXF1/UCQrAtBVIwOQVHRgUGmYRZBa40EQRUSAkHKNgBByOUAQTxNEcEr4/ZAeBkCQWHrC0ExIBlBbGTyQOX1ZUG0FOhAfJEwQVPJKkERB1ZB66NpQc4EOkHnRGhBcNkeQSvmbkFb4l5B1UQaQcQdKUFaAw9BIqdBQXFQ5EBpjeZAEvXmQLDVHUGARDhBr44cQUG47kDChAxBg3kUQYKdG0FuUT9BcmMmQRzMK0HerxtBqaguQbnFKkFacChBQLUnQYwJKkH48hFBPzYuQRnzREFn3CJBz444Qd5hZEFwwV1B4aRnQWYiWkEC8k9BlfxDQejpRkEqw01B6VBBQUofQUFbxS9B8hpRQXDWN0FmFGRBHONDQZnYQ0GR0gnAQvJKQTxPQkG7iDhBEXIdQXlvMkEbAElB",
          "dtype": "f4"
         },
         "yaxis": "y"
        },
        {
         "hovertemplate": "label=4<br>TSNE1=%{x}<br>TSNE2=%{y}<extra></extra>",
         "legendgroup": "4",
         "marker": {
          "color": "#FFA15A",
          "symbol": "circle"
         },
         "mode": "markers",
         "name": "4",
         "showlegend": true,
         "type": "scattergl",
         "x": {
          "bdata": "0ISjwJggX8DTIJnAnFdrwJR0rsCLwwfA3QUFQNaspMCfHaHADa/evxCwGMCY9du/kvBkwBochMBvJfjA3izdwEDwBMFuXePA1OoFwd/B+cBgJPDA+9EFwdjv4sDsVc/A0un1wFLlG8DwxknA+3NAwOtTjMAKPV3AnfeDwMzXP8CcVqTA9Y5Kv66+7MBfMnbAd5ZuwJo8aMDrN/vAWDvJwCpP3MC/yrzAz0viwN4z18BPmaDAsb7pwJxf0cAu5azAKlHKwBPHp8By6QHBcQ+ZwIc1YMAHg83ALhibwNcGhMBpeW7AHw6hwJYAq8Bv6aHAZ1DpwKbslMAFJpzAYV2LwKJ+1sAwDeDArty0wO1nuMCMAiLATmDVwCjT2MA6gpLAhwkEQQQNPMHbe0BAAU7zwGBsAEEzIejAGsvIwN+bI8EoxdDAB8bAwEAby8C1PtPAivMswe/CDcF0ds/AxLTHwOZMHMFMgxzB+KSuwIksKcG5m1vAotzSvt9aR8C6IVfAoA84wSOlpj8yfjW/diKIwBls3z7lUItAUupfP39QMD97KyxA0Umkv71yJ0B27+q+U2m1PjLra7/bHGu/uAoowCuGjsDujfc8x689wEfQpb/JWVfAXj/IwFHOicBdFqDAqqX2wG+9ZsBOmaLApLqUwHfRuMCAd+PAZXfsvvAqucBl+fi/dxsPwf+pFMEhzRjB2eAHwZxQC8FJ7/TADej7wKILD8G6vYXARG3owOIg38DRTsvAYwX5wA2xoMDv6sTAYlCnwLNTrcAIv8TALW+swE3lycCF1KvALxCiwGm5wcDpu1/AJli6wB9SwMCBsCvAUvwmwAQ5LsA9NnrAcWolwNBkoD6ai6Y+6R6LwBbERMD7r0nAU6szwGWGpz7jOWzAt6HHwOvEocD0q5/AdOtrQDElTj0k4RzBU84cwTi48MB5h5rARdahwLaTHMFYsNTA2wbAwA==",
          "dtype": "f4"
         },
         "xaxis": "x",
         "y": {
          "bdata": "NVdFwdMAZcEO6yvBFXtxwcrZWMEGb33B8iBXwNr5OMF1kzjBq/qMwZMLgsGvmoXBh8B0wSqYN8HvTjnBdqg1wVj4MMEs+CfBo0kewXpzOMHWUzbBO3AewSZiK8HOVyLB7n45wYQvhcHv7IHBW3CMwXBYeMG35YTBlQaSweTKg8GcoXnB8mh+wd5KecGAvXjBnfmIwanjbsE+yyPB3hCRwVNNM8FNQTfBkg1OwZBbLcGboSbBBTpPwaolOsEjEijB5uouwYfiLMEAByHBLYuXwQGVmcFv2I7BuD6PwdrxiMF15pjBqFuYwY3zksEye5XBQlqSwSlChMHg2JvBh0mZwUL0OsFQDUPBzkYcwf7ePcHmhGjBi8I3wU2xQcFyyZfBe4QswaSdfMHJS4LBdy+OwdXuLMERfInB5pR6wbqAisFWjG/BOSWCwerKh8EkpWTBOVCKweGrbcFz44fBqhNpwbk/iMFnmobB9+lewV+iisEU8kzB2PxmwWprSMG73UvBqQuGwWonWMHEGlTBUNRXwW70XMFUaWLBYdZewRHKXsH4A4LBN35wwYvRgcGjqHDBEJGEwSxxdMFWQnrBkPJ7wQlHZ8H5AmfBGqR3wYTJgMHvtHrBs2dfwVQRj8Hy+ljBERNpwZwEaMEeWV7BvYhrwbqWecH2nW3BdtVgwcamYcFjtI7BFPdmwY+eZsF80WTBIC5nwQuQY8F5N3fBoaB6wS5GZMFRyHHB74JdwQzIXsGXmFjBpVx6wdmimcFea4zB+rqOwdeXbcFWho/BuaiFwW0uhMGu1o/BAkGNwQyeiMEQGZTBXeWMwbf1eMGHRIfBbd2EwUC8ksGC/YXBwZKRwTBBREHq6ENBV0uHwbArh8HvhYPBzwOWwfhgQkHJr4XB8sURwf7jeMGjGGjBlS5SwWi2WsHuW4LBsXCCwenHbsG5mEnBc9tHwaWmhMFVXmHBvdZpwQ==",
          "dtype": "f4"
         },
         "yaxis": "y"
        },
        {
         "hovertemplate": "label=5<br>TSNE1=%{x}<br>TSNE2=%{y}<extra></extra>",
         "legendgroup": "5",
         "marker": {
          "color": "#19d3f3",
          "symbol": "circle"
         },
         "mode": "markers",
         "name": "5",
         "showlegend": true,
         "type": "scattergl",
         "x": {
          "bdata": "QaMvQRmYuUEhJbRBZ2aiQX4DtUEPbapB1TumQZNZokEqqIVB3xmsQXScsEHvK7pBeZaHQcw9v0F9fbZBbL3IQciHt0GzK8RBV3+9QU1nukEG8bxBwJTFQS3zukGdf7pBuQjBQTquvEFSDYxBZbmqQW3plkHZZ5JBfRKKQZDXakEfPpRBXz2BQRUxlEGFGopBrg+lQWSth0Ebyb5BvYGVQQW0nkER9ZtBb0OQQYsVn0HPpIlBP56YQQGKlkFxm51Bg0qbQecbn0ExK7NBEt+ZQfFVkkECAIFBI3iGQQlOmUFiI3tByOeDQX4fh0Gmq41BQi2CQepgeEG6yo5BV9KWQVdWgUGyFp5BMgm1Qedft0HSQ6dBkA28QVH1t0GvFrZBKV+lQTPNpUH3TJJBfMywQZKwvkEJqMtB/IiyQd9vwEF7MsFBmPumQf5Vt0E3D7BBqwmyQSqPqEHSG7NBQguhQXrav0EijqdBDRnAQeiAj0Gq2G9BZKpLQdv7ZEH0GIlBMtpiQf3nYUGr6oVBXLlwQYmUmkG+hGRB2LhgQVZUgUHWwrVBE3moQWi7lUGIn7JBbpm9QfTZtEHlf6JBCZulQfZLvUFRnq1BQN6iQXRSu0GsQadBPmqWQdJWkkFwmcJBxLOgQVFapEFa+rZBVFOiQQ/1uEFbq5hB86nCQYYSu0HZPsxBBNK+QRwXhEGFVapBKvqkQVn3pkFQYadBzsOgQV59pEGpkJxBLgSywY2bsEGYYq1BwnqbQdhznkHvqYZBLgKAQSIiaUF8TYBB+Y6CQRzhgUGLZnhBHDB/QakZikHgD3pBPhdTQTtPhkHvuJlBSLfAQRAewkFppb1BBafHQQWQw0En/8FBb1PHQZAowUEFCa9BPRXEQab9rUGTpMFBBWXBQcYkkEGJDZdBRTWWQcy/oEHSzplBru+eQfHGlUF6kpFBTmqVQfQAikHLdZBB1nWWQaC6jEE=",
          "dtype": "f4"
         },
         "xaxis": "x",
         "y": {
          "bdata": "dzGvQHmOE0GSa5dAu/aDQB1TGkGOoAlBxe0LQTIVgUB2EwVBnmUZQDlUi0DYefxAqWcEQWnqC0F+ORJBDZH5QCE8DkGwix5Bx+zzQI9/GEEPBgJBr8EJQRMN/0ChTM5AJ7oLQeBhDUFp02xASgDgQOROSUAvrFpAOy0uv/datL6Va2BA8G5nQWaDRkB6lN0/CrtfQNLan76jcAZBT+GvQNkYuEB6crRAT5SnQHwTpUAiA8RAn/q2QGqYFkCDrqJAogzrQLtf00C1BapA/hu4QIbv2z+23ANAgb00QDu6fUBtGuo/CvoCQHUwH0CfoCxAjHbsP8pVJ0AQ9CZA2dvZPx52VUAYcX0/D7eGQKXFj0DuQMq/OUujQCDplkBbqaJAbBH1vsGzE7+qTy+/Agm6QLSkl0C5IPlAgofkQKwa5UBqL/pAsF3tQAbgsUDCjNZAghW9QMGp80DR4PdAuNzfQE2r7EBWNslAX7juQAuYP0CDkB1AhgH5PzCLwT9c8SxA+vkkQEueQUB4uDVAgeLvP+mKh0C2GPI/X5H1P3zegUAFwYBAEI2TQEd4E0DH5DNAfWVRQMPTL0AAL1RAyDgLP3wPukC5djlARsiLPutDfEA5kb8+rARCv6s3SL/SBw9BQhYYQB7b2ECMhwBB7XslvzrImUDWZ/W+bbUdQXWA3kA+Zv1AGcEgQTB3Ij8UbiJBCaUjPzCGWUDqVcc/VOpuQMlVB0DdxiO/iDNQPyBU1j976yBAZu6Tv96zaUBqaj5AF/ePP+q2uL6W0Z4/iQ11QJaCiT9rVihAeoIvP2ERxD77tilA3/3kPwkqhT9k/TtAfxukQDWBmUDuc3tA+5NzQAPcJUHZOaNAccQNQUCpo0C5kN8/s5F2QJzN60CymY9AHrJ9QKpOnj8xxWk/0Z0UP2Rt0j8b9gxA/D5bQEEeiD9CONk/CrgTP0kyxz/AnLU+sRr7PhSGoD8=",
          "dtype": "f4"
         },
         "yaxis": "y"
        },
        {
         "hovertemplate": "label=6<br>TSNE1=%{x}<br>TSNE2=%{y}<extra></extra>",
         "legendgroup": "6",
         "marker": {
          "color": "#FF6692",
          "symbol": "circle"
         },
         "mode": "markers",
         "name": "6",
         "showlegend": true,
         "type": "scattergl",
         "x": {
          "bdata": "yd2ZwQYBqMFzrZ7Boe+dwdqLpMFh2arB5ry7wQBjysFyVJ3B6Lmdwew1kMG10JjBCMmQwX/swcG9LaPB9wGmwQcjx8Fj/rzBGP2fwRhDu8FYqr3B227FwbDbocGEdq/BS7XEwTR2w8F627rB2FHJwYGSrcG6aNDB1oK+wXvKucEV6LfB69SnwTNZycGq+K7BTni/wcE4uMHCxY/B6VeLwVPlk8Hs2orBcByuwek3lcEbzI7BKKmWwcFGpcE0bZvBG9WQwUanmcGpiZDBI/KowWlPssE9l7HBBwurwW+CpcHnjq3B09CpwZNMs8HEOK3BmFakwWobqcFF1KnBiqqnwRK7wMFeOcPBQNXDwcSHxMEyDMzBHlHJwf4kvcGVY9HB6nPEweanvMFWAcjB4xmzwb0vscHEaNPB5VzXwR7ElcHawtLBAaCdwQ2Wm8GuWtTB/3rUwVncu8G5SZbBpxaywRb7l8GMhsPB+wHIwWuDzMFJsczB2Di6wdZ6ycEN37bBTc/AwSocw8FfjMXBQsKvwbnMtMHEbMTBFcHFwTigzcERUs3BdKS4wcmQpsG+PKTBx8u+wfGprcFcjrjBfwK8wUFNvMH6abrBp3ubwUJtv8FZec7B4YKswS6ss8FhnrfBKX2vwYHGr8E7cKbB9aGnwVN1rcExca3BSkKywcIJqMGT+LTBs9yywSCZrsHEjbTB6fyzwZA0m8HIa5nBSmeYwSFxoMGkGKTByqK0wezXpMGXwZ/B5BiwwYljx8F7bszBtk7NwRdTtcFuTcvBsBLGwaoyz8Fjm7zBY3bLwYRtxcF2I7fBqpW4we1vr8EUkZnBOdeawQACj8G9X6HBxASfwanFo8FokpXB9CWhwdKwnsHvDp/BtgytwZlhkMFmTpLBbye8wW63vMGU3rjBOpK9wajztcEyxp3Buna+wS/bxsHAEKTB8MafwZ9xrMHIz5fBjci7wQ==",
          "dtype": "f4"
         },
         "xaxis": "x",
         "y": {
          "bdata": "5fmEvzMZrsAXpB2/ZgtMwDBJfL8eWzzATZ7UwMn7xb1lSJ+/+/oFwN4ZsT5jS7c+0EmKvwF0t78Ti4LAzmcSwKXqTr97tDq/iasSwBi0Tr+TL5q/kn/JvVdHPcBFgg/ADbs8wErQGcAdJ0PAaoNNv/sbWsBUvSjAqQRiwPklWMAaKb7AeAZswMWCHMCUmGHAPLYowFxbeMBElkLAEX1fwApMaMDYPXbAV/wTwNK9cMAk3kPAYCh/wPwL0796SYjAMAOOwPMnS8BoHvo/A4ipv+4Cs7+AJKC/lLNXPtD0jD/Rp0M/OkNGv2WE+j2xDkg/b/GOP779l7+/3Yy/05osPwqTkMDfmX3AmrRqwAIbWr8SuuC+20AAwE+7lMD6tKq/Yx11wIRG2MDgxyHA+OmswCCxqMCSsp/Ac7mswMkgasCQIWLAYskgwMx6OcDRe1rAprerwMcUm7+W9JbAfwkvwPxXKcCyCcO/K/u2v3H0jL8W8Pm/ipMawPHxlb9jzBzA+uI3wGj35b/rY/2/0nyVwKp9XMB6eBXAR19EwBzJAcC4SUrAeBtswA+wisDpMdy/rruswGs7oMCXg/DAQQXfwLE208Cx96bAlN0evkCvX8BlDw3A2B4DvmUIo8AQkfTAW3/9wGtClMDyvCrA0n0QwGIvhMCUAKDA5BrFwJbcHsD1BQPBdIcLwco10cACthHBpB8PwQRKZsBHBm/AmziRwMH2XcCFa5jAEawRwaXZosAKfsDAP/UEwaQtL8AhRznAkegewOlvAMDut13AcyUfwEL1nb9k5BHAqGNRwDkzXcDyHjPAw9c0wNRaZsATzsTAiFOYwLsOsL+WaXjA+4qiwHmGfsCyWgjAYyiXwKTnpsBZ437AkgrEwDmJ0b9pHxq/HW2NPXyt97/u9iG+1SrdvkZJqr/oA8g+UvFqvw6+grwnvXS+1MK+vyI4Cb9Xe8S/P0Lhvw==",
          "dtype": "f4"
         },
         "yaxis": "y"
        },
        {
         "hovertemplate": "label=7<br>TSNE1=%{x}<br>TSNE2=%{y}<extra></extra>",
         "legendgroup": "7",
         "marker": {
          "color": "#B6E880",
          "symbol": "circle"
         },
         "mode": "markers",
         "name": "7",
         "showlegend": true,
         "type": "scattergl",
         "x": {
          "bdata": "GcRUQXfJU0H93x5BYS5IQcECb0Emuy1BEIZVQS3ZZ0EBSSJBsjxaQTa0TUH9e2BBtbBWQRNhaUH6YmxBddaEQVZNK0FyDS9BSEBzQWfokEFGYI5BrieKQR74RkGX8oJBY36GQW8l10CXD3VBnBzKQL6CekFTYidBsE0wQShAs0AlVEtBeH1XQW/QfkEkgoJBjlZXQdC7MkHqisFAsb7AQHWXs0CEAbxAbdDhQIYfwkCTnaJAJzimQN7KAUGhbcpA6MmuQBzkxkAnGwBBwweOQe8xbUF2giVBEZpRQZL6YUH62YNBhTIZQQKfeEGW+WpBNhRuQXDtaEGblIpB8UtfQUTuX0EXFRJBh22LQCkEKUDa31ZAn0U2QdHKMUH77ypBa9yKQDFIKkG8+idBnNQjQa3Ma0G4o05BLZlzQZu8dUFwAohBpu5JQd0ai0ERdmhBnh5mQSGBQ0GhC4RB/cVwQVoMZkHZA4FBzakcQfG+PEHVWyVBaJo3Qf1bEUFa6jhBYI4jQYlEQ0HfXyVBbjLbQNCONkF8gzRBbudIQVQtNEGrdk5BHXYtQbD+VUHSSjJB2p8HQd6xgkGZNAlBewBIQU/y90ABcoBBSHz5QGcwgEEb10pBlgEdQen6hkELm3dBBeVxQa4kfEEUJYdB2DSJQWKUeUHRA4ZBMXI7QXlIRkGKH5dBHgBQQVAsXkGBZEFBZrpwQRlrZEF8S4NBChF/QWnliEHGWktBWCONQacYOUG+zW1BdSolQVpxGkGVVx9BAy06QdbFP0HRC+RAHPMoQbqOP0FUnEJBIu43QQRWIEHhMCNBPyQiQcG8mUEDW41BpEh9Qaw8lUFwo5lBALaUQX1WhkEqrpJBkr+ZQSpnaUGQQIRBH6nDQQrsY0H88jlBgmFqQbjmHkG+CyxBjGd3QefZ0kB1+4RBOiKAQfSzWkFOfYJBMAxNQVV+hEE=",
          "dtype": "f4"
         },
         "xaxis": "x",
         "y": {
          "bdata": "m1kmwc1Ca8GcIi3Bxq9KwbkML8GZiELBX2dnwecnRsGwcjHBNbdswVDMVMEYaFzBXnpVwfCcasFV2nLBj8Z4wTfXQcFm1FrBUR1kwYEobcFRxCzBCXVywWH5OcGhLVfB4dtzwQQDb8HAOVHBsyZswU2HVsGS+VbB1YY6wc6OasF4mW7BSwNwwXo/asG2037BkShswZjBTsHpTlLBTjhcwYE4ZMGwCVTBQ3Jmwa4EU8HFrWfBNflZwQKNWcF69vTA8ZdnwSlMV8Fa9FjBvzkuwYFiNsHeqT3BkeNZwZqQNcEBqjPBVM9EwWQ+QcGDNTnBsnVewThXTMFRcknB51M0wf6XP8GUCETByINlwTbHU8H3XxzBJrg0wdiVNcFJnjPBDCRkwX/TLcEpNS7BtI8rwSIKRcF7pWTBnBFYwcp0YcF/72PBssJcwdnlb8G492XBRR5twQWFN8GUVGrBiO1wwQ/OZ8H8O0rBXeZswYqsfcEOwmrBGNl6wQvLYcFXy3vB91ZywVx+Y8GAXnLBdFtuwQJddMF8bG7B17pzwevyccHglH/BtU2BwbgIe8ECVYXB3XKFwYivPsEgkIbBJnOBwW69esGsNGHBU/99wYlONMER9ETBStE8wVbfOsGfeTbBEo9DwWImLcGS9TrBs45DwRAhTcGeczDB2B4xwTczJcGI2z/BtiZTwQxYTMHwqFzBiMhJwaGtVsFLxzjBSe42wQ/RZMERA2DBc2hdwRWpP8Ffkj/BeohdwZQ1VsG5ul/B2SFjwQ5BbMHvJVzBlVhcwR3BV8Ga9WXBRbNgwc4dYcFwJFbB1aJewUbCN8FjsjLBNzBcwfoDSsGR1VDB3dVNwTC4SsGrhl7B+Tk+wYvsVsHc11jBaW0yQWXLPcGCn0vBskc3wRXWecE2ZDjBr2tvwRJRMcGm137BicV/waOyVMGGt0TB0aM6wcMJYME=",
          "dtype": "f4"
         },
         "yaxis": "y"
        },
        {
         "hovertemplate": "label=8<br>TSNE1=%{x}<br>TSNE2=%{y}<extra></extra>",
         "legendgroup": "8",
         "marker": {
          "color": "#FF97FF",
          "symbol": "circle"
         },
         "mode": "markers",
         "name": "8",
         "showlegend": true,
         "type": "scattergl",
         "x": {
          "bdata": "k5wfwDbEg8DQKofAepaewJvrX8Bw06TAW/6jwFhGqMCG76rA7+vJwADXwcDon7vAMpAfwXo8VcDrZCjAiyDIwPFRZ8DAcunAkiZWwId438BMM5fAz9LRwG1kpcDOcqzAlX6YwEo1jsDzn50/D9ucv8b9l78CLADAVQOGv25ZpT//HX0/RUIVwORRXr4PIiNASVpnv5yFrr8A0Zu+s8NKwPkV6j8vGci+VajVvjVwtj/nUJe/oR2DP4mnKkABbiHArzg8wB5SUr8WpUC+PCjIwM7LoMBAmYnAudTBwHZJl8CAj47AH0CXwCbJmcArk8PAY7XCwADemcBNwZfAeXa+wHCgUD7a5A6/OiMKPjCcQ79hye2+SQSHv8Rv0j975CfAaLC4wGJLUD+M/LzA5LnwvQ254L+pkCPAWzinwCiit8ABl9E/YCvCPxqNjD/pGHvA1YwgwOyQOL4D2K89WmcIwEMM6777mTPAzqVDPzBavD8XNaE/wnCFP4mh7r1aKOo/T3XwPpOBvj+oYb4/z27RPwQCRj/F1xK/VnAbwDfRq7/y2Eu/SEpgwBfLG8BktGy/awuJv/9PPL/VDJs+qdIQwHE81L9B6b2/Sxl/QSqVosC/wZXA/Slnv+v8jsDV+yI/d9tmv3gSVsDpTHFB9x2owCllccD63oLAnoNnwBLjksCNi3xBA2WRwDnGmsBtgq7AxAOWwDyjhMDJfWzAhkFuwBoqwcALiKLAgax8wHme2D97jrY/zLnzPw/XrD6W5Oo9vqeYvzNsiD97CjM/qGJYP87pKz9FEsA+avlWP+YL/D6lOijBBn/SwCSvzcC3DKjA70GSwBIrrcAJALbALLy8wJBPucArWTLAB3rYvwlfRMD9kuK/t6S8v1Mmgr9Bek/AbD1gwPssV8CDcM/AyLfkwGiVnMAEyFTA",
          "dtype": "f4"
         },
         "xaxis": "x",
         "y": {
          "bdata": "RBPIQNIIMkFmEPhAtXlCQaDuJ0EHD+lAkiAbQVS5NkEppf5AwJ7yQL9UzECBMT5BvcQSQSxBC0E1JdVAE4rXQM1XDUFhxiBB0PPNQLKkJUHO9IFAZyTeQI+O0UBDyMNAuFeEQJ0C90Cv8K9AaIMSQWtiEUFMXiBB7g7SQLTAmEBixr1A/QwOQfiz5kAEauhA5GHDQEWSEUHIP19ApK4bQdAgF0C3IqFATSCtQLi7TUCqQJtAl6XGQFb1mUDEDf9AX/XuQLryiUBLR6VABfv9PxGpJEDzgStARwoBQNZYCkBD3us/INrvP4b+CUATkAdAa/7UP6Cf5z92su4/pb73P18oz0DjZwNBJTjNQAZW8UCqDepAroACQXWdpkBKp+9ALwMRQWWXqUBDmh1BimnOQE92AUFff4BADe2PwORnB0EG84tA//YvQKrs7z9i7cVAh3KGQJJ1iT+/p58/3l0TQArIkT8OoYJAIdHmQEHy4ED/mfRA8qncQF8NrkAIl9lAUOOzQCLedkAjzfdA9VmXQMLb1kAvTRZB8Ec2QVRNaUGdZ2JB97rjQEjKNkHtaWFBJiRdQXkWI0HEJn1BzTxSQZEtbEGfWGpBTGtoQWvJMEEVbC5By8c1QSLbREHXVCxBd4EzQSR2MUGeE4BBtJsuQcCaPEGUWi5BU/stQaGDC0GOp3RBnEIeQfYJBUGDoPVAGWYTQetS2kCQKSpBnz0iQWr0B0EfyxhBscYsQWgfh0A7w4RAtqiSQGXHZUCDOl9A+WBLwGqVM0BO1SlAmVrbP/Oi7T9jiRpAn9+oP8ezMkCNKGlAaghHQbwlgkD9xIBA5ksWQctkk0DkC4ZAKBeoQDCMnkBVR05BlRhIQYUyTkH+UMtAbkxBQXcoJEG5fQ9Bq6EAQa0EYUElry1B3bDGQG1510Dy32JB",
          "dtype": "f4"
         },
         "yaxis": "y"
        },
        {
         "hovertemplate": "label=9<br>TSNE1=%{x}<br>TSNE2=%{y}<extra></extra>",
         "legendgroup": "9",
         "marker": {
          "color": "#FECB52",
          "symbol": "circle"
         },
         "mode": "markers",
         "name": "9",
         "showlegend": true,
         "type": "scattergl",
         "x": {
          "bdata": "+2QsQQmoSEHbz0VBZddIQZ9IUkHT0hNBPXEUP3jbNUGmURNBA1g3QcoxN0HPBd1A0soFQZdKLkGpwh9B3iksQfb1MkGPayVBqhk0QZX9KEE/KQBBVsnyQJZFLEHjWKxAOkhiQLk46UDH8/dAumMMQTf5LUFuoMtAEMzMQOPf3UD7EvZANJ7vQLdX60AFhgJAeDCzP4y05UCgBQpB4YcjQRmAIUGPv7JAQsuxQI4kAkEu4vlA2wq0QK/80kAVeK1AGZXUQI6EzUDnydhAPRKOQP7jskD0+ppAoSERwFln/EBFzYFAaIy+QLegzED2f4tAFIWHQFg8EkF4KuNAuH4cQQKo2j97pHk/sa2QP6Q9Lz/Hu+s+N+ltPwM4hT/IT4y/ZUWgPT+WmT85jfA/rfvRPzIo2j/+kidBeLR5QIqLIEHZUwdBYWWdQPE96EBSyR1B6m3UQNKdAUG45CFBb/zgQF9c2UC5/gtBJ0w7QaKGGEEOWCpB0P0OQe2XGkE77SdBErk0QVY8OEFYYiVBnKIeQb+VFkF78URBt5cTQXK7V0H5BlFBLzhVQbfWw0CbZ1BBLC3BQENGUUFX39y+nJ5RQUupCkHMd/tAFM9WQVLS40CGlatADL2zwZhnpEAfH+5A20n3QGw04UCt/CNBHT3ZQMSC0UDDYe9AmhHqQJD9DEEnGstA6tUZQYvLBUFqCulAvDsAQc72AUEi7qlAvLUrQcHZBUEbKhFBXePnQP+75kBQQ79ADA0LQaDFB0G27xRBTngTQYOKBkEzbBlBXUUpQYEGH0GjPgVBj6kfQVlk+UBDLvtA3PT9QDUuST/sCTlAJqqgQIhMH0DDhLJAqK7HQRL/CEDNtjBBn7HeQCeqNUF1abNAFcPIQVkY3EB4hQtBcUX9QHKKLEFkyA1B1GYIQY0mBkH4x/dABdoNQZmP5kALIOtApswbQZ8d6UAd82ZA",
          "dtype": "f4"
         },
         "xaxis": "x",
         "y": {
          "bdata": "qXi2QDXjq0DMYa5ApACpQAu9y0CfPnhAjkc6QY9iq0AAuKZAH9tsQMZ6mD/dg7pAyHfbv+eBbUDYTZxAG+aUQOnjlkAjF+I+1AFVQHA0oUDBZZxAJlGTQLlSnkAz9NE//H/MP5bM68Bp6f7AhtDAP7hLOj+0YpNAPIUpP2CnA8GJD/7A+4v3wGfdAcF0yAHB0ZwDwXH2+cDpiLy/kDo6P7rW1D5j4Mk/kCERQHpHMkBNGT1A9r8OQClrEUBKDA1A3Xz8P5cG47+wNAtAt94uQHfA9L4NB4BAyqYSQaJh2b9IK21AkWJov1GXZEBjmFRADZ9mQFOQJkA9ezi/dNQgPEhRNMFxuwXBRQsBweaWBMGOVOzA1NcCwZHMA8EDNu/ACzj3wNp1DsEc/B3BWf8ywUw5BsE1/AVAg4UDv7BIyL4W4PS/+sa/QK//Vb9cGT2+hUsNQJjZ1r8C3NU+ZEfpv5ki5r8nhJm/i38NQNfrHUDQkyJAaYnIP0FLsj/6XxpAjI/QP0fxDkB/e68//w0zQDGHnT/unEFAP382QCDlEEHCm4JAZlJjQBK0qEAog4hADfCfQDYafkA7ISdB8YWTQCa5qkCoa7tASIWfQA67ukB0Ra8/LkYQwQAytz+YCDxA0b+YP/wrUkCXTo5ASuWJQEMsXUCczYdA/cOJQEE5nz/NhZVA5A4IQMShQ0CxTT5AGtO+P/zs5D8/LmFAu0IUP+5zY0DsQTs/+Y5jP8uDRT90I5K/vEkIQH4VDz/xiCNAj7VkQJvndj8SJHhA9Fc6QBelb0Df4Is/bllTQMp4EkALrhu+nV8hPohJ9sAccgfB3vdpwdc0DcFFTAHBmH9sQEse/sC3K88/vvoDwVHBf0CsEUVBRCJ5QNzVBsFQzC1AT0ttQHlmFED+1oJAoOmRQMFMgkDI+TxAHZl2QCOaDUCWo3JAtiKuQD9xyD8lmb0/",
          "dtype": "f4"
         },
         "yaxis": "y"
        }
       ],
       "layout": {
        "legend": {
         "title": {
          "text": "label"
         },
         "tracegroupgap": 0
        },
        "template": {
         "data": {
          "bar": [
           {
            "error_x": {
             "color": "#2a3f5f"
            },
            "error_y": {
             "color": "#2a3f5f"
            },
            "marker": {
             "line": {
              "color": "#E5ECF6",
              "width": 0.5
             },
             "pattern": {
              "fillmode": "overlay",
              "size": 10,
              "solidity": 0.2
             }
            },
            "type": "bar"
           }
          ],
          "barpolar": [
           {
            "marker": {
             "line": {
              "color": "#E5ECF6",
              "width": 0.5
             },
             "pattern": {
              "fillmode": "overlay",
              "size": 10,
              "solidity": 0.2
             }
            },
            "type": "barpolar"
           }
          ],
          "carpet": [
           {
            "aaxis": {
             "endlinecolor": "#2a3f5f",
             "gridcolor": "white",
             "linecolor": "white",
             "minorgridcolor": "white",
             "startlinecolor": "#2a3f5f"
            },
            "baxis": {
             "endlinecolor": "#2a3f5f",
             "gridcolor": "white",
             "linecolor": "white",
             "minorgridcolor": "white",
             "startlinecolor": "#2a3f5f"
            },
            "type": "carpet"
           }
          ],
          "choropleth": [
           {
            "colorbar": {
             "outlinewidth": 0,
             "ticks": ""
            },
            "type": "choropleth"
           }
          ],
          "contour": [
           {
            "colorbar": {
             "outlinewidth": 0,
             "ticks": ""
            },
            "colorscale": [
             [
              0,
              "#0d0887"
             ],
             [
              0.1111111111111111,
              "#46039f"
             ],
             [
              0.2222222222222222,
              "#7201a8"
             ],
             [
              0.3333333333333333,
              "#9c179e"
             ],
             [
              0.4444444444444444,
              "#bd3786"
             ],
             [
              0.5555555555555556,
              "#d8576b"
             ],
             [
              0.6666666666666666,
              "#ed7953"
             ],
             [
              0.7777777777777778,
              "#fb9f3a"
             ],
             [
              0.8888888888888888,
              "#fdca26"
             ],
             [
              1,
              "#f0f921"
             ]
            ],
            "type": "contour"
           }
          ],
          "contourcarpet": [
           {
            "colorbar": {
             "outlinewidth": 0,
             "ticks": ""
            },
            "type": "contourcarpet"
           }
          ],
          "heatmap": [
           {
            "colorbar": {
             "outlinewidth": 0,
             "ticks": ""
            },
            "colorscale": [
             [
              0,
              "#0d0887"
             ],
             [
              0.1111111111111111,
              "#46039f"
             ],
             [
              0.2222222222222222,
              "#7201a8"
             ],
             [
              0.3333333333333333,
              "#9c179e"
             ],
             [
              0.4444444444444444,
              "#bd3786"
             ],
             [
              0.5555555555555556,
              "#d8576b"
             ],
             [
              0.6666666666666666,
              "#ed7953"
             ],
             [
              0.7777777777777778,
              "#fb9f3a"
             ],
             [
              0.8888888888888888,
              "#fdca26"
             ],
             [
              1,
              "#f0f921"
             ]
            ],
            "type": "heatmap"
           }
          ],
          "histogram": [
           {
            "marker": {
             "pattern": {
              "fillmode": "overlay",
              "size": 10,
              "solidity": 0.2
             }
            },
            "type": "histogram"
           }
          ],
          "histogram2d": [
           {
            "colorbar": {
             "outlinewidth": 0,
             "ticks": ""
            },
            "colorscale": [
             [
              0,
              "#0d0887"
             ],
             [
              0.1111111111111111,
              "#46039f"
             ],
             [
              0.2222222222222222,
              "#7201a8"
             ],
             [
              0.3333333333333333,
              "#9c179e"
             ],
             [
              0.4444444444444444,
              "#bd3786"
             ],
             [
              0.5555555555555556,
              "#d8576b"
             ],
             [
              0.6666666666666666,
              "#ed7953"
             ],
             [
              0.7777777777777778,
              "#fb9f3a"
             ],
             [
              0.8888888888888888,
              "#fdca26"
             ],
             [
              1,
              "#f0f921"
             ]
            ],
            "type": "histogram2d"
           }
          ],
          "histogram2dcontour": [
           {
            "colorbar": {
             "outlinewidth": 0,
             "ticks": ""
            },
            "colorscale": [
             [
              0,
              "#0d0887"
             ],
             [
              0.1111111111111111,
              "#46039f"
             ],
             [
              0.2222222222222222,
              "#7201a8"
             ],
             [
              0.3333333333333333,
              "#9c179e"
             ],
             [
              0.4444444444444444,
              "#bd3786"
             ],
             [
              0.5555555555555556,
              "#d8576b"
             ],
             [
              0.6666666666666666,
              "#ed7953"
             ],
             [
              0.7777777777777778,
              "#fb9f3a"
             ],
             [
              0.8888888888888888,
              "#fdca26"
             ],
             [
              1,
              "#f0f921"
             ]
            ],
            "type": "histogram2dcontour"
           }
          ],
          "mesh3d": [
           {
            "colorbar": {
             "outlinewidth": 0,
             "ticks": ""
            },
            "type": "mesh3d"
           }
          ],
          "parcoords": [
           {
            "line": {
             "colorbar": {
              "outlinewidth": 0,
              "ticks": ""
             }
            },
            "type": "parcoords"
           }
          ],
          "pie": [
           {
            "automargin": true,
            "type": "pie"
           }
          ],
          "scatter": [
           {
            "fillpattern": {
             "fillmode": "overlay",
             "size": 10,
             "solidity": 0.2
            },
            "type": "scatter"
           }
          ],
          "scatter3d": [
           {
            "line": {
             "colorbar": {
              "outlinewidth": 0,
              "ticks": ""
             }
            },
            "marker": {
             "colorbar": {
              "outlinewidth": 0,
              "ticks": ""
             }
            },
            "type": "scatter3d"
           }
          ],
          "scattercarpet": [
           {
            "marker": {
             "colorbar": {
              "outlinewidth": 0,
              "ticks": ""
             }
            },
            "type": "scattercarpet"
           }
          ],
          "scattergeo": [
           {
            "marker": {
             "colorbar": {
              "outlinewidth": 0,
              "ticks": ""
             }
            },
            "type": "scattergeo"
           }
          ],
          "scattergl": [
           {
            "marker": {
             "colorbar": {
              "outlinewidth": 0,
              "ticks": ""
             }
            },
            "type": "scattergl"
           }
          ],
          "scattermap": [
           {
            "marker": {
             "colorbar": {
              "outlinewidth": 0,
              "ticks": ""
             }
            },
            "type": "scattermap"
           }
          ],
          "scattermapbox": [
           {
            "marker": {
             "colorbar": {
              "outlinewidth": 0,
              "ticks": ""
             }
            },
            "type": "scattermapbox"
           }
          ],
          "scatterpolar": [
           {
            "marker": {
             "colorbar": {
              "outlinewidth": 0,
              "ticks": ""
             }
            },
            "type": "scatterpolar"
           }
          ],
          "scatterpolargl": [
           {
            "marker": {
             "colorbar": {
              "outlinewidth": 0,
              "ticks": ""
             }
            },
            "type": "scatterpolargl"
           }
          ],
          "scatterternary": [
           {
            "marker": {
             "colorbar": {
              "outlinewidth": 0,
              "ticks": ""
             }
            },
            "type": "scatterternary"
           }
          ],
          "surface": [
           {
            "colorbar": {
             "outlinewidth": 0,
             "ticks": ""
            },
            "colorscale": [
             [
              0,
              "#0d0887"
             ],
             [
              0.1111111111111111,
              "#46039f"
             ],
             [
              0.2222222222222222,
              "#7201a8"
             ],
             [
              0.3333333333333333,
              "#9c179e"
             ],
             [
              0.4444444444444444,
              "#bd3786"
             ],
             [
              0.5555555555555556,
              "#d8576b"
             ],
             [
              0.6666666666666666,
              "#ed7953"
             ],
             [
              0.7777777777777778,
              "#fb9f3a"
             ],
             [
              0.8888888888888888,
              "#fdca26"
             ],
             [
              1,
              "#f0f921"
             ]
            ],
            "type": "surface"
           }
          ],
          "table": [
           {
            "cells": {
             "fill": {
              "color": "#EBF0F8"
             },
             "line": {
              "color": "white"
             }
            },
            "header": {
             "fill": {
              "color": "#C8D4E3"
             },
             "line": {
              "color": "white"
             }
            },
            "type": "table"
           }
          ]
         },
         "layout": {
          "annotationdefaults": {
           "arrowcolor": "#2a3f5f",
           "arrowhead": 0,
           "arrowwidth": 1
          },
          "autotypenumbers": "strict",
          "coloraxis": {
           "colorbar": {
            "outlinewidth": 0,
            "ticks": ""
           }
          },
          "colorscale": {
           "diverging": [
            [
             0,
             "#8e0152"
            ],
            [
             0.1,
             "#c51b7d"
            ],
            [
             0.2,
             "#de77ae"
            ],
            [
             0.3,
             "#f1b6da"
            ],
            [
             0.4,
             "#fde0ef"
            ],
            [
             0.5,
             "#f7f7f7"
            ],
            [
             0.6,
             "#e6f5d0"
            ],
            [
             0.7,
             "#b8e186"
            ],
            [
             0.8,
             "#7fbc41"
            ],
            [
             0.9,
             "#4d9221"
            ],
            [
             1,
             "#276419"
            ]
           ],
           "sequential": [
            [
             0,
             "#0d0887"
            ],
            [
             0.1111111111111111,
             "#46039f"
            ],
            [
             0.2222222222222222,
             "#7201a8"
            ],
            [
             0.3333333333333333,
             "#9c179e"
            ],
            [
             0.4444444444444444,
             "#bd3786"
            ],
            [
             0.5555555555555556,
             "#d8576b"
            ],
            [
             0.6666666666666666,
             "#ed7953"
            ],
            [
             0.7777777777777778,
             "#fb9f3a"
            ],
            [
             0.8888888888888888,
             "#fdca26"
            ],
            [
             1,
             "#f0f921"
            ]
           ],
           "sequentialminus": [
            [
             0,
             "#0d0887"
            ],
            [
             0.1111111111111111,
             "#46039f"
            ],
            [
             0.2222222222222222,
             "#7201a8"
            ],
            [
             0.3333333333333333,
             "#9c179e"
            ],
            [
             0.4444444444444444,
             "#bd3786"
            ],
            [
             0.5555555555555556,
             "#d8576b"
            ],
            [
             0.6666666666666666,
             "#ed7953"
            ],
            [
             0.7777777777777778,
             "#fb9f3a"
            ],
            [
             0.8888888888888888,
             "#fdca26"
            ],
            [
             1,
             "#f0f921"
            ]
           ]
          },
          "colorway": [
           "#636efa",
           "#EF553B",
           "#00cc96",
           "#ab63fa",
           "#FFA15A",
           "#19d3f3",
           "#FF6692",
           "#B6E880",
           "#FF97FF",
           "#FECB52"
          ],
          "font": {
           "color": "#2a3f5f"
          },
          "geo": {
           "bgcolor": "white",
           "lakecolor": "white",
           "landcolor": "#E5ECF6",
           "showlakes": true,
           "showland": true,
           "subunitcolor": "white"
          },
          "hoverlabel": {
           "align": "left"
          },
          "hovermode": "closest",
          "mapbox": {
           "style": "light"
          },
          "paper_bgcolor": "white",
          "plot_bgcolor": "#E5ECF6",
          "polar": {
           "angularaxis": {
            "gridcolor": "white",
            "linecolor": "white",
            "ticks": ""
           },
           "bgcolor": "#E5ECF6",
           "radialaxis": {
            "gridcolor": "white",
            "linecolor": "white",
            "ticks": ""
           }
          },
          "scene": {
           "xaxis": {
            "backgroundcolor": "#E5ECF6",
            "gridcolor": "white",
            "gridwidth": 2,
            "linecolor": "white",
            "showbackground": true,
            "ticks": "",
            "zerolinecolor": "white"
           },
           "yaxis": {
            "backgroundcolor": "#E5ECF6",
            "gridcolor": "white",
            "gridwidth": 2,
            "linecolor": "white",
            "showbackground": true,
            "ticks": "",
            "zerolinecolor": "white"
           },
           "zaxis": {
            "backgroundcolor": "#E5ECF6",
            "gridcolor": "white",
            "gridwidth": 2,
            "linecolor": "white",
            "showbackground": true,
            "ticks": "",
            "zerolinecolor": "white"
           }
          },
          "shapedefaults": {
           "line": {
            "color": "#2a3f5f"
           }
          },
          "ternary": {
           "aaxis": {
            "gridcolor": "white",
            "linecolor": "white",
            "ticks": ""
           },
           "baxis": {
            "gridcolor": "white",
            "linecolor": "white",
            "ticks": ""
           },
           "bgcolor": "#E5ECF6",
           "caxis": {
            "gridcolor": "white",
            "linecolor": "white",
            "ticks": ""
           }
          },
          "title": {
           "x": 0.05
          },
          "xaxis": {
           "automargin": true,
           "gridcolor": "white",
           "linecolor": "white",
           "ticks": "",
           "title": {
            "standoff": 15
           },
           "zerolinecolor": "white",
           "zerolinewidth": 2
          },
          "yaxis": {
           "automargin": true,
           "gridcolor": "white",
           "linecolor": "white",
           "ticks": "",
           "title": {
            "standoff": 15
           },
           "zerolinecolor": "white",
           "zerolinewidth": 2
          }
         }
        },
        "title": {
         "text": "Visualización del Dataset Digits con t-SNE"
        },
        "xaxis": {
         "anchor": "y",
         "domain": [
          0,
          1
         ],
         "title": {
          "text": "TSNE1"
         }
        },
        "yaxis": {
         "anchor": "x",
         "domain": [
          0,
          1
         ],
         "title": {
          "text": "TSNE2"
         }
        }
       }
      }
     },
     "metadata": {},
     "output_type": "display_data"
    }
   ],
   "source": [
    "# Aplicamos t-SNE. Perplexity es un hiperparámetro importante.\n",
    "tsne = TSNE(n_components=2, perplexity=100, random_state=1)\n",
    "X_tsne = tsne.fit_transform(X_scaled)\n",
    "\n",
    "# Creamos el DataFrame para Plotly\n",
    "df_tsne = pd.DataFrame(data=X_tsne, columns=['TSNE1', 'TSNE2'])\n",
    "df_tsne['label'] = y.astype(str)\n",
    "\n",
    "# Visualizamos\n",
    "fig = px.scatter(df_tsne, x='TSNE1', y='TSNE2', color='label',\n",
    "                 title='Visualización del Dataset Digits con t-SNE',\n",
    "                 labels={'color': 'Dígito'})\n",
    "fig.show()"
   ]
  },
  {
   "cell_type": "markdown",
   "metadata": {},
   "source": [
    "**Análisis de t-SNE:** ¡El resultado es drásticamente mejor! t-SNE logra formar clusters muy definidos y separados para cada dígito. Esto demuestra el poder de los métodos no lineales para visualizar estructuras de datos complejas. Recordemos la advertencia: las distancias entre los clusters en t-SNE no son necesariamente significativas."
   ]
  },
  {
   "cell_type": "markdown",
   "metadata": {},
   "source": [
    "## 6. UMAP (Uniform Manifold Approximation and Projection)\n",
    "\n",
    "Finalmente, probaremos UMAP, la alternativa moderna a t-SNE."
   ]
  },
  {
   "cell_type": "code",
   "execution_count": 29,
   "metadata": {},
   "outputs": [
    {
     "data": {
      "application/vnd.plotly.v1+json": {
       "config": {
        "plotlyServerURL": "https://plot.ly"
       },
       "data": [
        {
         "hovertemplate": "label=0<br>UMAP1=%{x}<br>UMAP2=%{y}<extra></extra>",
         "legendgroup": "0",
         "marker": {
          "color": "#636efa",
          "symbol": "circle"
         },
         "mode": "markers",
         "name": "0",
         "showlegend": true,
         "type": "scattergl",
         "x": {
          "bdata": "FUuPQYAKjUFarY9BK8aOQXm0jUGaf5BBSreSQasYj0HiNJBBBiyUQTdYlEFri5BBcAqQQQ9JkEGGao5BRoGSQYF4jUEdKI5BgbKUQRnjjkFJVJBBEEeSQejmjkEqr5BBTiaUQYG5kEHT64xB+GySQZ18jkHs1oxBgOSMQd4xkEG0ho9BHlCPQbpDj0FITI1BCqOOQegokkE7x5JBsX6UQYtmlEF+TZJBsrSNQWo4kkGx+ZNB4oaSQRPFkUHj841BTG+RQcifk0GfP5NBK0CPQWNQjkEiGI9BoxOPQa8UjkEVeZJBwbePQe9tlUF1QY1B6A+PQUuNkEEkOY5B8KuOQV5Zj0FtCY1BbqiMQYB7jUGrzI5BL3STQfZQj0HQoo1B9b6OQVpYjkFXeo1B5vGOQYWHkEHOMo5BCPSNQXZ3lEHvBo1Brb+OQf1tjkF33YxBAIaMQU8sj0HB+Y1B8SiOQewXkUGuk49B/UmOQYEakUGf7ZBBc/aQQUAVkUEl5JBBwdiRQdfbjkFPQ5JBjWSRQWi5kUGLp45BZbiSQYZ9kkFND5JBBIWSQeJrkkEqu5JBajWVQQNzkUFFQJVBJV6VQQTNjkGp+ZJBal6PQSLtjkElBI9BTdOMQduUjUG3h45BM4yNQZIAjUFHwIxBOeCMQQ3ajEFg6o5B+cOMQdwDkkFyKY9BDOGQQXNglUHOO45B4PGPQV5HkEHD6Y9BmjWOQeLtjkEFh5BBly+QQWi2jkFeppFBRlGTQW76jkFs8pJBH6mSQVsnkkHt3pFB42KVQRpNlUH2hpVB75GRQWX9kkEL+ZBBjdqOQcByj0GNY45BymSOQYr/j0H4VY5BFraOQdotkEHY845BXTKVQZq9jkEU+41BtWCTQZzakkFQqpNB9ZiPQUMFjUHSKpNBtquOQe7hjUHoUJNBQt+QQazEk0Fa4I9BwBSNQQ==",
          "dtype": "f4"
         },
         "xaxis": "x",
         "y": {
          "bdata": "aB4QQExTIUBCOE9AEJYIQBw3Q0BdGC1AsLdEQOvNUkCKzk1AkYYxQObAMEBc4k1AJI1NQJH/KkCiIj1ACK5FQPvCPUD3ky9Agg4uQOfbVUDH1FBAU0RHQDvJVUBeKU9AvuMoQJixTUB1Qx5A5mEsQONrH0BbiBxAOQcLQKOfJkDKJSFA3g4dQNirI0CFSiRAeigdQM0QNkB3vDVALxMwQBFUK0AcZ0lAqHw8QHZ0G0B6YzJAKkVHQFSEGUDoFDdA20ESQA8KOUBW6DpAMjknQOsYMkCBQx9A1T4pQMRQLUAzXiZACBcuQOAnJkCtsCdALOQ6QHKmI0AGDjFARBUqQMETKEBBwi5AOHQHQPm0PkD1hyJA0mM6QAF8SUC+dilAtuRTQMVGTkCagDpAxegkQBhjR0Ac3TdA4bwWQHqKHUCWUhxAj48eQLQsIEDeNDFAL8ImQNe6DkBTCUBAR+JPQNLvE0BeaRFANfIcQNZjIEAPNCBAtgUsQKcGF0C2ZhJAOXEaQN5WFUDfbyJAwC4RQGeNG0DSBxdAxmtBQKHqOEDjySVAjG1CQKY7REB64j5AMOkmQOTYIUDdTihAaIcmQKo9GECpGTZAgTAqQLtsEEDe1hFAw1AJQLxjCkDucQlAgl4HQLHnCkB5QwdAxFQHQJd3CUBHliJAg9MGQCliMkBveTpA4WVAQNDJJUBz71BAb1hBQLECSEAs3wpAoxAjQHJAD0DShUBAL4hEQDxoUED06BpAbnNBQEM3IEAJ1TdANU0xQF0ZK0BAuC5AUqAoQHEnJ0DVcSdA2IwkQHVmNUCjJhVA3rxNQHAZUEA/1jtA5m5TQJtlN0AIdFRA5RIYQFTmUkC/gFZAWnkmQH59U0DiKi1AquQ0QFapQ0DJmzRAzqwVQPbQQUBXIx9AAn8VQIJUPEB/0CxAVjAbQKNBMUCH9U9AaAc9QA==",
          "dtype": "f4"
         },
         "yaxis": "y"
        },
        {
         "hovertemplate": "label=1<br>UMAP1=%{x}<br>UMAP2=%{y}<extra></extra>",
         "legendgroup": "1",
         "marker": {
          "color": "#EF553B",
          "symbol": "circle"
         },
         "mode": "markers",
         "name": "1",
         "showlegend": true,
         "type": "scattergl",
         "x": {
          "bdata": "i3aRwNCjrcCvgKjA9gWtwHZEpcAUu6fAHLmhwGuYqMB0TafAS+OswIvSnsClXYXAOfWvwPu6rcCpIa/A91+xwGu3rcB/tbDAGECowOVIsMCXa67AkY+wwAuNsMC2hKjAGyGvwHiBq8D0aoDAKGOvwIhOd8Cmu3LADSt/wCApsMBjqIXAiXyCwBZ3sMC0ooPAkEyOwHwDkMDCcHfAWmmpwGkYocC9U6XAHamnwLfHocD2/63AYw2nwD/wocB6MKHAzJyqwPySo8AOSqPAqpmlwGItr8AnNK7AMyaswFKerMAlVKnAUautwI78qcCsF6rA9WupwJtkqMBG66nAo6hswBH/r8ArWHfAzv9xwGCPd8DljHLAuIZxwBmqg8DG8XLAhHSDwKydcsDgi3LA0XVvwMbUa8CUCHDAWuOQwGYbj8CbsYXA6/ZqwG1+csCSQ63AHeJ0wFYpdMCtE4HAU6yFwOdihMAu14zA6oJ3wC/ErsCu463A9r2twBIqr8Ap8K/AJ8evwBS5r8AsJrHAIx+uwPdOr8AkQK/AmF+vwAmNr8DQJG7AxkxwwKzmjsDEZ3PA522JwLHCdsD6fY/AS9R/wLqajsAUUnXAzdSDwChqhMCJv4PASLCgwElmo8DaNZXAya53wHL3nMCZzpHAy0SBwCb0kMCBqJXAgQuFwOBggsCpo4LAeuGTwMOsqMCSWpbAPH2wwIoykcCunJLAYJSlwNgokMDqZKHABzWQwExIksDDApDAGVGJwApWjMCFLKjA6lmpwE22qMCm0azAAk2swHfaqcCnUarAjgCrwEz2qMA+gqjAP26qwNfYqsA6UqrA5taOwPIAhMCTX4HAWOySwD2ij8Au94TAr2WOwLIkj8ByaJPA/GCTwB7ikcAC7pLAxvSSwJyTcMCtemzASH5ywFyja8D7zHTAO9hxwMRpdsBdNW3Afox4wL6Wc8CuAHPArKFswOnVbMA=",
          "dtype": "f4"
         },
         "xaxis": "x",
         "y": {
          "bdata": "/8lbQNCu3D+ZYtY/BGbfP4yY6T8iD9w/T371P9RB3D+nTu4/HeHhP97XCEBv/lhAS/rYP6xFrj/0sck/pgfAPyRvuD9qRrY/qOfHPyRd2z+tlrw/pQDjP971vD+KJss/h0/ZP/UNyT8jzGVAulbmPxFya0B7aFxA86twQCfN3D9AJVxALj5sQJJG9j+dEm5A+TlnQEPzbUAe6FNAlTajPxF76j8CUdM/4+rKPyMw5z+2fCJBAEbOP4hQ8T8B+PQ/VwfcP2SX3D8a+ts/e5bPP8tRIkEbsyJBHjUhQbhtIUEpTB9BwRwiQU3sH0Hd1R9BnY4fQdkHH0HgzR9BqrlkQIbzIUFVpmRAiF5ZQBnfU0BIZmxAmbJsQCuZckC7M1xAYTNyQJ31WECdxVhAyrVeQArzYUBarmRAXpNsQOykcUDSVHBA6lhrQN4KXkA8+SFB0G5yQLS6VUB2bmNALxtbQDjOW0AY/m1ApopxQNuQIkE2UiJByWUiQcomIkFo5iJBUusiQUFvIkHNhiNBobIiQY+TIkEPjSJB51MiQa3tIkFJHXJAcQ5tQHiwaEBCBWtAVN1fQKRrV0BwAGlAqKZSQM+iakBzjG1Aa7dtQABDV0BnrldARDv6P9t17T9ENR9AAVpyQKuwCUAo4WtAJ+dUQHkvbUBdPR1AM7VYQLXRVUAjbFRAXO0fQAcFpj+j5RtAXkK6P+rRakBrhG5ANGLQP11cbkCo3vY/xw9xQP0dbkDFGmpAfvZbQEi8XkBTxaU/7wCiP0PyuT/VT6g/Q7OhPzilmT8gO50/U6ubP7jmnz862bs/2TShPxIAnD9AJZo/S1hmQGs6T0CDVVJAk55uQAxHZkBXO1NAdvRlQGHpZkCj6m5A/R1uQDtba0AXb25Aj9xuQFPWWkARLmhASO5VQEbUXkDOM25Ay61ZQCP3aECcpWpAl4J0QADGbUCGpWBAi19rQLgnbUA=",
          "dtype": "f4"
         },
         "yaxis": "y"
        },
        {
         "hovertemplate": "label=2<br>UMAP1=%{x}<br>UMAP2=%{y}<extra></extra>",
         "legendgroup": "2",
         "marker": {
          "color": "#00cc96",
          "symbol": "circle"
         },
         "mode": "markers",
         "name": "2",
         "showlegend": true,
         "type": "scattergl",
         "x": {
          "bdata": "81QzwHLIlsAgJpPA2ew0wGQKM8AG4jHAVHI1wAJgNMCVfTLA/pt2wOZCgMB0oTXAsPo1wPBvb8AlxoHAcciPwFEWhcCjs4HAQNl+wNeXhMDCBJHAPn2DwNGSgsDc+HjAH5tuwKEwhcBRSYfALNaFwI6rdMB2p2jAG4WDwI6+hcACIHPANKmFwOVma8DQkYTAFhuGwMCPacB142vAQHqTwHYQl8Ds1oXAdTWiwDIqicDvyIfA/xeVwN/0kcCrP4XAAEODwG6Xg8AVUITAnJo4wOXTpcBuI4jAOrOiwBVmi8AA26TAyVWkwKzOpMArbaXAxGWHwNBcp8AxnqXA/IyGwJuXpcBHU4bAiTuHwI0Ph8B/8YvAhaaIwOYmi8AgEI7ArkaKwIWxhsBm4GPAT36GwITIhsANh4XAYW5zwF1fasDZ0GLAZYGDwF3ZYMD5GWTAbZB8wL8HYsB7+l3A/FqSwKMRY8A2WH8+XvmEwMRodcAnjWLAkSx6wDhBc8DOIKXAiQihwFU8o8AekKXAbQBlwMhrlsD9iKXADRprwKGoesByApbAYX+mwPObpsCPc6TAlfOZwKFTpsAeSKHAJ45wwN2KmcDnnqjAfpNxwJQIosDtz4bAgSuOwKmth8D202LAah+FwJ6jfMC2O5LALIWEwNp3Y8CcuGPApObDPnqqpsD5K6rAfO+hwCISp8AuK6fAWTKqwMAUp8BrwYnANuOlwCNqp8DD26bA22ylwCyepsDvxYLAC8FxwDiaZcDMOmnAC5iCwGGUZMCjlG/A+UhswLQPacBTRGDAAFtrwDLukMCaKXLAAo+XwOfum8ArTprAkYikwGT2d8C7BKbAvwiGwPUIqMAeinLA6aiOwMzcocDcn4XA+baBwLcUgsCyF4DAIDBiwM+sX8B0X3DAVU9nwDiFgcB1q4fAhdFlwMyLhcC+s4PA",
          "dtype": "f4"
         },
         "xaxis": "x",
         "y": {
          "bdata": "iuaiQFkSDkFZAgxBPgSkQE8OokA2Z6FAVKGjQNzcokD3ZKFAX4UKQeQl90AKT6RA12ilQBWsB0GQEvxAHxUBQf7BAEGJFQBB+s0LQTKjCUGxIgBB1z/+QMMO/0BZpwtB/VEKQbU0AEFJKgVBzeUEQWE4BkGGjgVB9rz/QNqMBEHqxQdBHXoEQV0qBUFaMQBBrUMEQSy7BEHAMgpBFmwNQVFTDkGPuw1BjksTQYd1DEE4TwxBvHQNQed7DUGo0gxBha4NQR0oDUGfiQ1B3YSoQBv6D0FtmwRBwFoUQc5nBUFb7xJByLEPQYNvEkF4mxNBuWsFQTvlGEFSPRNBiAIFQaa7EkH4/fxAFwf9QGTH/UDPSv5A2wz9QJUb/EDwO/xA7kn8QO7L/UBtdgRBf0X8QKXE/EACl/xA6DgFQfmkCkGT6gVBQPz+QKPcB0FMZwVBFLsNQUPlBkFpgQlBUUABQZc9B0FrMNc+X4n7QCIzB0Ep2gtBpP0IQXFICkH6KRNBG0oQQduyD0EHIBNBmiINQRkODUE3XRBBuhENQe/4CUFi3ApBy14QQRBHD0H2VQ9BXWcPQYT0DkF4mRBBum8NQfBeDUFkZhVBIEEIQe6fD0HzXf1Aq8UCQRv3+0CLmQVBuZADQYYjBkHqugJBuTQAQdVRBUGI6wRBn5EXQJlWDkG/+xdBgB8LQR+WDkEaqA5BN38XQXnKD0GOCwpBK+INQQ9GEUH8fw9Ba6wPQTxLEEECog1B/j4OQbO1DUF6ZQ1BX6YNQV3VDUEwKA5B2eENQaXeDUHujAxBk0sNQVKwA0FwQA5BY3oMQRyVDkHYsA5BsQgOQfjXCUGEHQ5B70L+QMRbHUFqtgdBE4gMQUdKC0HkEQ1B0Zb5QAX6+UB07wxBwh8NQbdkC0Hv7Q5BdbAOQV5mA0FfLP1ApfMNQWGtDUH02Q1B",
          "dtype": "f4"
         },
         "yaxis": "y"
        },
        {
         "hovertemplate": "label=3<br>UMAP1=%{x}<br>UMAP2=%{y}<extra></extra>",
         "legendgroup": "3",
         "marker": {
          "color": "#ab63fa",
          "symbol": "circle"
         },
         "mode": "markers",
         "name": "3",
         "showlegend": true,
         "type": "scattergl",
         "x": {
          "bdata": "Cvm0P8aiOT8g5Bg/BYaAP1ZpRD9r62c/r2BZP5u0PD8jYkM/x4VRP5xyKz/KbDo/9xz2PvDIOj8rJkE/6Y8vP5wGMD945UE/A/pCP5h1Kz8670k/wt49P6GQXD+GK0k/ccUzP20dwj4D3Mw/V5qUP9mxhT/taYw/fr+2P1k+aj84w5g/yYebP3/ikz+5SGk/1yexP0ufuD/wwoc/gapCP6hrWD9mktw/94fTP0S91D/QeNw/ApbhPwi42j8lguM/Kd/eP2Q23j+hns4/VR7DP/Jk3j/5IEg9e5pWu/kKzL3LmyE9yvlZPC3+Hz/nNVO8wEBnPHY9pcCKAcc6N6LzvM89cjzhGrC8+7d/P7LTdD9boYg/o/QUPzEKZz97tX4/NHpaP6zBiD9oBnI/rzdrP0Cusj82zbo/HVCTP0TftT+C8J0/emGcP3Hqmz+Dq6A/GtCYP4/3DT+W6Bw/5HhlP3eYsj8L1Ik/RlegPxpPTD8+u70/UeDHP3Mqwj+ZRNE/JJHAPzJUzD8PJ8o/l8vSP7UazT9MSL0/xLnPP9Ogyj+vic4/3rNlP+BJYD9VBFM/aFsyP2ru2z5+Jyc/RUN8PyDSUD8muFE/7nhLP7xAjT6qhU4/2qpNP72qhD91nUQ/ZUtFP2shwj73NTU/Q6s+P2EKKT8llDU//ZA3P7uBNj+bv9k+IPR9P6h4PD8MmkM/rOY0Pxkmwj+qO4Y/+QRaPwMSYz8NeGU/lJ6CP4hCjT9YsTA/1eqXP/J6dD+WcmI/DnTaPxuD2D9Pz7k/hDSKP4ahwj8mBa8/5UXNP8lLuz9Zka0/5T2XP90MmD85sJk/EVGdP3+dSD/Vcz8/L2gwP3k32j6cPPM+d026PnQQXT5/oSPAYSo1PzNNSj993Vw/eSFDP8GEVD+hJrg/UJjdPl96qT+A3Kg+WM7APqibpj6Mrs0/5OW1PqvCxj4aByU/pc6XP4JKqT+4GFE/",
          "dtype": "f4"
         },
         "xaxis": "x",
         "y": {
          "bdata": "DEiNP3h0iz7T/BY/pQJKP+9JGT8BMSw/qnwUP4xFMT5RokQ+S7oXP9qWCj6AMDA+/+AcPipXIz6ptTs+KMERPrlK6z443VM+JXw9PuiGHT9EF1g+5uwYPg2P6z50pHE+hDcsPugI7D5i6JE/Y0OKP7PUrD+WypQ/qkZpP5okfD+OfpU//j2KP3eRkT9HVXc/SzFgP91dYT9Qpaw/fA1EPzlVgD/AcZ0/kSHJP6PArT9T7bk/CzmkP792oD/oOKE/sfuaP0LGnD9HBpg/1U1+P4tQnj9htFNAatpVQLIZWUB4KlRAVf5VQMKOhT9+t1ZAwFlVQH0qE0GPJFZAj3xXQHF9VEB2Q1dAhdOiP9NlqT8UT5o/oQaaP+zCqT/3IqY/uni3P1h1ij9FSqs/dcSvP3cDeD+Ia3Y/c3mLP9rDbD8thW8/ORldPxQrdD+wrms/aj9zP1yWQT8dxic/0x14Px2iUD8iBmA/NVd2P7iePD+Uz8A/KXqzP1i+jT8FRrM/GHeyP6xgtD9/X+A/aUfEP56M4D+3gL8/zYPKP5ctuD8kML4/QyDCPzcixj9p1rg/8herP9xWEkDM4JM/kvqxP/aFuz9wYMA/A7DBPzFrsz7jdcM/6YG8P9VOsT8UGJQ/JGDFP+YbfT4mSLI/efk1P711PD/gZK4++01HPogSKz9sghNA3rSdP9rdJz6d4ok+6FGTP3Dqnj86Ia4/X3hCP4JAmD9Y+7I/mHixP/x4oD+rOiM/RbGYPzKZrD+YE7Y/YiqPPyfXoD/WD3A/8uyTP0YMkj+p27c/d4akP1Qwqj+wRZg//NmUP/Mumz/aPLo/4HeMP8vpMD9Tblo/dL0cPzjDeT6cedk+IQtjPg5EVj4IM2tAvIwaP1aBJj/sjDg/db8xP+vJOT9yll8/vFPFPl1tRz9mmqQ+Vm3PPr9IvT7Sp4c/DMu3Pp3/4z71SBw/HU6LP2p+TD8Q0ac+",
          "dtype": "f4"
         },
         "yaxis": "y"
        },
        {
         "hovertemplate": "label=4<br>UMAP1=%{x}<br>UMAP2=%{y}<extra></extra>",
         "legendgroup": "4",
         "marker": {
          "color": "#FFA15A",
          "symbol": "circle"
         },
         "mode": "markers",
         "name": "4",
         "showlegend": true,
         "type": "scattergl",
         "x": {
          "bdata": "3xeVvhC+lL+JGMG9X0WUv/N9Kb8rb6u/CcqUwD92Qr4z7TG+DBmvv6Mnsr95xK+/8W+Xv32nPr0cWv49P9O3PQk1Ez5u6bA9ozsvPvC49j3mqjQ+qdoKPuSf3T2nj+89q6rpPQjotb9rmLK/X4a0v7C9ib9hOLG/fhibv3WctL90pIO/Ehnxv8IoCr+6FJe/E8irv/H5lb8f2eY9P1sGvyYyjD1VjVQ9jPALvgXb2T1O70u9hi05vuQZqj24OSk8HMq4PQmLFL14APk9DM2Pvy7srL8TBzC/xb2Cv3eCmb9OuKq/u5CKv4fifr8AEIO/fpM2v/sWnL/SuI+/WZ2Vvyn3zD1IsYI9k50QPdS/xLzdoX2/c3qrPTZ3nD0HupG/xnaiwBx9K7+8qnPA7Kk1v1C3xr/zoCC/xnH+vuDJ9L7RkRe/uv0vv5gxGb8ICgy/PzPyvqTXwr7zpSS/AEgZv5Ce776z+tq+8yIcv4kV7b7byyu/x/oHwDOzLL8nuie/pu7tvl6uH8BAowjAAYEpv5okFsDQ323A5asawA8TGsBfSy3AnkD1v1ASL8BuJQLAYRsywNZy97+p4fK/Xrq0v9cThL+PuQ3AWmKnv4Sd2r+TvKK/DqMRv1w7i7/6Cxq/ubMWv5bSlb9oLHG/xLV5v7V5Or8Imxy/7ioKwLQiQb+6H7G/0Eq9vrexy76LrcG+mVrSviVBwL5hAh+/UJYkv1kMvr4VPIu/h+cav9FoIL9hAR6/vxwqv9dHi78XdUO/s7Fsv5JVOr/Ue0S/1jFTv7JbK7+ht2y/YtB0vyrROr950a+/h8VJv4a16L6Fl7e/GDO4v5K1ub+g2Ky/WIe9vzVKIMCUTCDApXSnv71Ltb/4A7e/Ov23v8UUIMBT26u/Yq8Yvlojbb++j3+/C7hpwOayEsAqavC+r7T+vtnrFr9ezuK+LQK3vpMe8L61bAu/fK8avw==",
          "dtype": "f4"
         },
         "xaxis": "x",
         "y": {
          "bdata": "z1nWwDxG1MBOsNrA9b/UwDXL18Aym9jAF2UeQNxT2sBNmtnAZkzawNdk2sBtodrA6JjVwI+Q5MBGGOnAgInnwLH158D6kOjAJV/nwDHF6MDCAenA1JrnwJOP6MA5rOXApMfowOza2sCVpdvA4yjgwFIW1sDYV9zAcC/pwOuO28DOjtrATXjKwI1v3MBBKtbAyN7fwO8z1MDOn+jAUxTuwFhA6MBzZOTA0lzqwFQw58Crv9vAYDvrwGEM6MCjAN/A6M7lwJem3MACCOjAV6zwwHJ868AbWe/Axp3vwC7L48B6KevAaY3wwOEn8cDC3/DAkKHuwKIU3cAhZfHAVp3wwHDX6MAPnOjAbszfwLe65MBkydvA0OLowARk6MDa/O/AfcnZwL7v7MBa67TAKyvtwLMR58APH+3ARKrpwGys38CLc97A/o/twA5m7cAdrtfAbnLewCnm28B2dO3AK0rfwLJM4MAM9tvAwm3VwEWQ3cAfAdLA5YLDwASs0cCC3tHAdTvewFwRvMCkq8LAx6XTwLj8vsBwCbHANoW9wD6DvcDFKbnA+sHIwI37uMDQLcbA0k19wO2syMCS9cnAhpPXwBKp1MAinsHA0iLVwGD7z8AOztbAL7LXwP9u7cAw3tTADv7ZwF2508CgKNXAH4vVwEJV2sCn6NjAfqrCwCdr2MBp997AcJDZwC912cBqEdrAX2DYwPH92MAtINnAt0TZwBIr2cB4fdTAqlzZwArh2cCmudnADFbawPcs8cBaR+/ADCvxwDld4MDbeu/AJsbuwGxv7cCUqPDAXS7wwMU+78CLKunAUU7wwCye6sBKC93AEJzbwP995MBJad3AHDvkwNiiTUDG8ktAQqzewC3s28DMytvA0TrowGuUS0C0VN3Avr3VwJja18DbtNXAvMGuwMWcv8AtjdrA0THbwIsC2MAFp9XAeyjVwPQl28ChvtfAFqLZwA==",
          "dtype": "f4"
         },
         "yaxis": "y"
        },
        {
         "hovertemplate": "label=5<br>UMAP1=%{x}<br>UMAP2=%{y}<extra></extra>",
         "legendgroup": "5",
         "marker": {
          "color": "#19d3f3",
          "symbol": "circle"
         },
         "mode": "markers",
         "name": "5",
         "showlegend": true,
         "type": "scattergl",
         "x": {
          "bdata": "EfU0QFFygkAP22ZAPPx3QO7VgUBa9ntAoktzQKlzdkDYv2NAXeZkQAAeZ0BaSH9AWmVoQALOgUCufoFAzC59QNkogUDXq4JAczqAQKL3gUDPooBAcj6BQIwUgEBpfXhAsLGAQOhugUBosIBAeLV2QNgZfUDyb35A28JnQB6DbUAOV39AKmbMPpObf0BaEHVAR4d0QEb5bEDRX39AbuKBQL0+gUAXQ4FAywWCQHuVfkCPIYVAAqGBQDxVgEBXHX9Axw+BQJa3gEDSCGdAodKAQAO7dUCQ8H5AUDKAQCUMe0AH6npAnOp8QDVyfkArwX1A7HN7QE8gf0Anyn1AhoF5QP/dgEBmIW9AWZxiQJJAYkA/O2ZAxLFgQGYYY0AfTmVAtGJjQGdSZUAIZWRAPQ1tQDHxXkBblntA8ql7QK0dfkD5mIBAvft4QOWVZED0JHpAwn1rQEdheED/U3lAAxZ/QPUffkCeKXxAfFx+QKHzf0C9fHlAcUheQGdAdUDiwH1ATBl4QGg8eED21X9AgUl1QNlcfEBy1npAxDd2QDhDgUAl82JA5+NvQCwOfUCnpmRAHLxXQClfZUAtj3VAdRRlQERLaUDynGdAQiBkQLtdXkAK62FAfg9jQMaUZEANB4JAuKNqQBwcgEBp435AtJZhQOFnYkAG4mRAqBWDQB5+eUACvn5AWzCDQLtOdUAqeoFAB0VlQImpdEA1JWRA4Xp3QLAscEBboGBAHEL+QJ/6ZEDD4GVAeapiQO1DeEBwc4BA95p0QCsrbkCfsnZAISuCQEskdUAJHoFA4vhzQLCsckDOCX9AsIFtQIBZdkCXNXZAz1xdQFXhXkDewllAFRRUQGXlgkCbc15A2+KAQPIcXEDDc2NAsVNVQHhveECFs1tA3JFWQBOackCUEWxAPiZvQEFtb0BozHtAFS55QGsdcEBXvnZAI8dtQJEUdkC0fGpAYgttQKtmbkA=",
          "dtype": "f4"
         },
         "xaxis": "x",
         "y": {
          "bdata": "PxElQFor4kB9bNBA9DW4QOSO3EAOrtRA1X/RQF08uEDB0L1AQ02+QE07x0AF/d5ATvPBQMyn4kDYv+BAWXHhQJwJ4EAcjuRAXrrgQDjd4UBeA+BAPwvjQCyz30CsRtpAJnDiQGEi4UAqs6lAcCXRQLJasEBDqq5AYo2lQBebmUA4ua9AQQoYQBF2r0BebKRA/WK4QIRipEChxuBAlHq6QAfnwEA5mb9ALLG1QJhAvEDY8blAAMm9QOuOsUCVvbxAR1nGQLOgxUCH6c5AHti9QEoYqkBLI6FAFQ2iQBVxsUAjqJxAUJ2jQFAmpUDI3apAJeShQFL/nkDcEapAz/SrQOsho0B25LNAtzDMQA8D0ECft7BAXzjQQA/kz0B0OdBAQoWxQGiosUBqs6pA8nfPQCKX0EDAaOFAKcrUQBRC30CAdOFA7PfPQFs60EC/P9NAFyHQQD6C0kB6adZA29PKQM4V3kBWosxAliXfQLZ2q0DeLJpAXXJvQMwGmEDLG6NA3cuWQLfblUA8JKNA5gCZQKM4s0B0y5dApbmVQELCpUBMGcxAEN3GQFlArkDy/cNAZ2rNQFXYxUCxk7hAp1C0QKGk0EC3Cb9A3IKxQNNxzkA2GrVAhHKpQMGoqED2oONA/SmzQAI9zEC/tN1A4RevQK8y0EC9465AbCrlQKUT3EC2JeJAsWTkQLWSnkDJZapALJSxQAizskDu6bZAcCG4QK6Ws0BWWa9Ab8RvQaTov0CjEMBAIbuoQBV/tkDIhqNAe/OdQOADmUBPXZ1ApZKlQBpcnUBnap5ANImeQNL/p0Drn59AZCyKQG1Fo0AoG7RASGzRQB9r0UCdgc5AAw/QQAcj5UAEFdFA8dfjQJjj0EDP475ABoDPQCpU00APj9BAjRfPQOTvpkC/A6tA+8SpQGcQsECdA7BARZS2QAL6qUAfCqhA1XypQLTgpECaAalAgpqqQJJvpkA=",
          "dtype": "f4"
         },
         "yaxis": "y"
        },
        {
         "hovertemplate": "label=6<br>UMAP1=%{x}<br>UMAP2=%{y}<extra></extra>",
         "legendgroup": "6",
         "marker": {
          "color": "#FF6692",
          "symbol": "circle"
         },
         "mode": "markers",
         "name": "6",
         "showlegend": true,
         "type": "scattergl",
         "x": {
          "bdata": "lPznQIVK40DKCe1ANTDjQGrU8ECV7+tAbTvjQAxpBEFC5ehA/NvmQBOgc8CCBe1AJpPlQK9HA0F/zOdAy6XnQMLcBEGX0wJBOvnpQLKzAkFGMgNBVxsFQe/p5ECczPlADeMBQQmdAkGYr/tAp/cEQabA8UANfAJBdPz+QAg6/UCPD+VA6wvjQOL4AkFTXfFA8K4BQW62/EBgVPNAQKHyQKUk70BDt/FA4FD8QEnM70DgmPZANJ/vQPV48kCfHu5A9LjuQPP/7kBmXkTA2UL3QKcX/kBrZP5APXL5QDiI+EBNUftAnaz4QARQ/0C0OftAsKf4QIRS+ED91fRAzD/5QKW69UDxHP5AEtT9QP+tA0Gc7ANBHvMDQWaJ8kCBrARBhmn/QIBv4kDUqQJBqdbkQDfP40Cvwv1Aa9cAQR+I7kDwZwJBmpnqQKcS7kAJ+AJBy1L+QAfLAkEfJe5AE8n7QLrx5EBiQgRBZsQEQb09BUFcSQRBMX4BQeYLBUFJf/5Ao1ACQUVkBEFGeQRB6IvmQLdo/kA3jQJBuNsBQQKYA0Ew7AJBSH79QBY840AnhPBA653rQDzE5EC9VeFABj7iQBip40B4WudAacftQKnh/0BvZQRB49T4QB8T5UDsseBAo2bgQGEe50DBM+5Abp7wQNKU6UBVOOZAO8TjQNeH8EDgbN9A/u3eQMs14kAQet9A6A7fQMml7UCb5+1AhX/rQBiv60C4EONAgIPfQGSZ5EARoeRAZgXgQOIYAkF5VwJBS1QDQZls/kDrZgJBCW8CQcvfBEFPIAJBlhwCQSVTAUE5vftAnZH8QF6D8ECgJuFA2SHiQLff5EA3rOdAoXHhQEGV40BC4ONARG7iQP0L40Dnd+JAHp/iQDSW5ECuOelAruICQfYKAEEFBwJBWjIDQSuaAEHoDvBAtR0DQVA1BUEqK/FAYVfrQNz09kDWrOZAFgcBQQ==",
          "dtype": "f4"
         },
         "xaxis": "x",
         "y": {
          "bdata": "4j9sQWe7dkEwk2tBNG9wQXKna0FlV3BBkpl7QfV6dkGlMW1B1UVuQRpBUEDKuWlBx61sQa6JdUFVCHRBpI1vQVwHdkGuOXNBbIBuQXn2c0GBAnZBXv10QcXpb0GASHRBq4Z7QWCKekH0dXZBdMB2Qa5edUGEcXtBunh5QRupd0FmeXtB8fZxQTIQfEGg3HVBQDV6QXMed0GtrnJBUm9yQQuEckGk1nFBNSFzQcuQckG6+HNBr15yQZoabUEvfXJBD4ZyQWi4cUHJjG1A1PlrQSXicEEvSG5BU11rQZJya0H1g2tBRcBrQQAscEG9WWxBGF1rQeKwa0GMdmxBFbVqQdlde0GKG3tBG3F6Qa1jdkFjdndBEOh6QS4Xe0H5knpBKKp6Qa4ofEHDZHtB3o94QYybeEE+OXxBkbh8QQTFckFjv3xBUG5vQdC/cUGWRntB/dV7QaHqdUFwEnRBd152QR/nbkEtzXdB9g94QSM+eEEx2npB1392QZgLeEFJo3RBVld4QROueEH9gHhBHJ13QbGqdkEZlHpB1Wx6QRI6e0HG83tBuDR3QQrAc0FVgG1BKld7QQ+wd0FMIH1BmEl8QZEqfEGVOHtBiI5qQXGceUFYbHtBCGdrQXBWeEE2J31Bajd9QZtWeEH4SG9BvDttQepSdkH42HdBFAd7Qb7zbkF7BX5Bh0d+QXz8eUG+9X1BylV+Qf0IckGmDXJBimxzQQ48cUHR7XRB2vh9QfcHdUG9Y3NBC5x9QfGnekHRUnxBdOJ7QZJockGOqHtBhNB6QbQBekGQ8ndB0ll7QRMfekFAFHdBT0J3Qa3kdkFqT3NBrSZyQfS6bEF7nnJB+I1yQeIuckHHmm5BvLRzQdW2ckE+aHBBKth4QYY5bUGXqWxBZLlyQamrd0FFfnJB0/5zQYefdEG2wGtBByR0QYvGdUEZP2tBbcVsQc5oa0EqTW1BfJF2QQ==",
          "dtype": "f4"
         },
         "yaxis": "y"
        },
        {
         "hovertemplate": "label=7<br>UMAP1=%{x}<br>UMAP2=%{y}<extra></extra>",
         "legendgroup": "7",
         "marker": {
          "color": "#B6E880",
          "symbol": "circle"
         },
         "mode": "markers",
         "name": "7",
         "showlegend": true,
         "type": "scattergl",
         "x": {
          "bdata": "+G6fwC7RqMCzSJHAKciiwGMipMAGtpLAN/mowOW5pMCAgJLAPyepwN5OpcAORqrAv6GjwEXXrcDDq6/ApTKzwKvWksCHeZvAAHquwHETtMCe6avAdmazwEiulcCEeLHAMSizwIxHgMBEE6zAy998wPiircAD0JXAWnORwHZ3d8DDXKfA+DCpwGorssBCiLPANAGpwPRbl8A2HHrAvz95wEnndsAEq3XAXwWDwFITd8CKOnfA0ERywB1Ui8ByQDXAfPJ3wMwKfcAB/4jANdCswBZKo8DlT5DApDumwBfrosCQA6nAAaeOwBWap8DAsKPAaqaswF9IpcCyVq3AHxqiwG+Oo8AK9YzAj9twwFiMRcAAPljALHyRwLVIkMAV65DAXKtvwP3NkMBNUZDApzKQwE6ZpMAdl6bA4zOswLVTrMC/0bHAHQOlwEyss8CIO63AiBOtwHexl8BFd7LAlTqvwLTIrMBy/6zAVyqXwJN4osB9KZjANL6ewK53lMCiBqDAA9+ZwJ2toMACJJrAtw9/wCuRn8C3J5/A0XagwDpVnsBD2J/A9qWcwBo7p8AfrZ3AyTqbwBsdq8BhMZ3AOPCgwA+OicB1MK7ANCGNwKnKqMAYTZ3AS1SPwBRsrMDNH6fATbOlwLjJpcClu6vA/pyswJ1YqMBbLKrAj7WSwDBXlMAQrq3Aa32kwK/KpMBsZKTAa5CkwOQxpsCPnajAkoupwIX1ssCDpKbAtSywwFjEk8BcSaTAHwOWwEQTlMDyvZTA6zqhwKFKpMBmm4fAgdaWwKhSo8D++6TAsYqhwJxBlsAaX5bAfhWWwGaDrsDcmqzAemKswMeCrsBVUK/ApeGuwFa2rcBTbbLAT32uwAaPqsCIvLDAOCODQMnfosAr0JrAWtmiwAo+mcA0/JDAhamwwAq5ssBgebPAGLmywNyHqMB3UajANmCbwGZcssA=",
          "dtype": "f4"
         },
         "xaxis": "x",
         "y": {
          "bdata": "eUbYwKtXxsCnq8vAe0HJwMXA38CttcrAaK3GwC272cADIMrA7QbHwBXCx8Bous3AprTKwM3Sz8AXO9DA8qnWwGPHy8DPfrrAMTfRwHOI2cB+iOLA2ELXwJlVz8AoH9nAkhTWwFzqtMA9uNfA0bCzwPZL2MCE8bbAKBnLwJuUssCkMsTAKVXGwJeF1sDHmdTAFdTGwL4cxMDDPrDA6kmywPE8ssBudLDAm4mzwGwVsMCVo7LAuMSwwMtltMBpxnzASYCywO8ts8APPbPAg03jwH4Q3sD6+snA9MTHwPIi3MDxZuPAMpzFwNc73cCfPdzAgE7RwOzI2MAQ+eDA/z3bwP0N28AAc8TALYqxwKBjsMBr+qLA203MwLL4ysCcbczAhr2xwMbvy8AGd8vAMonLwP/e2sAi7sTA+kPXwMzF0sAPq9jA3YjFwO7W18Cg2M3Ac+TNwHM8zsB0zdbAzuHPwOYMzsCZ3dzAbtW1wO/MvMC4cLXAu/24wKNntcDJHbrAu220wGivvMBLxrTA/M+zwHKTucBeWrrA3Vm8wMm5uMBwgr3AneS3wONKwsC9NrnAnW23wCOx3cCBR7jAo+q6wNRft8AK0dbAsgS2wF/I48BzpMvAAa3JwLaA48D4LOHAttbbwDJi4cDFoOTAJw/iwLrA2sBl8+XAB3LNwFiMzsCLDefA3pDIwH1OzsAGD8LAzt3ZwPBWzsBR3uPAe+njwJhH2MCU5MTAi5DVwJILzMA+LdvA3wO2wOgltsCQ3bbAEYe9wA8uwMB8XbXASMO2wPapwcAoaMLAHTm+wJMotsBxcbbAle61wE7B5sCZwOPA6eXYwFYV5cCd++XA/fzkwIGh4MDRRdrAzkrnwDn41cBzctnA00bmQM4p28DsYcjAtajcwGVptcA9BMzA3UXUwOBZ0MAeZtbAIqjUwDwf0MDl993AGGXOwMMi18A=",
          "dtype": "f4"
         },
         "yaxis": "y"
        },
        {
         "hovertemplate": "label=8<br>UMAP1=%{x}<br>UMAP2=%{y}<extra></extra>",
         "legendgroup": "8",
         "marker": {
          "color": "#FF97FF",
          "symbol": "circle"
         },
         "mode": "markers",
         "name": "8",
         "showlegend": true,
         "type": "scattergl",
         "x": {
          "bdata": "q6EOwIKEK8BGBCbAtJgrwL9AIMDumS/Ar9AnwK/TLsBS/THAeNA2wCRTNcBjsTrAyY6BwGufF8CR6ALA+UM2wIqMGMAL3kHAtR8YwG16P8AFnSjAFnA7wDbqLMDnSSrAWYUqwOalK8A+y7a/0gcVwCSWD8B1vQPAs4Dkv6w/q78RdMu/2h4NwCJS5788k7y/4XvFv8SbEMBRZKO/4tQbwCZ1h7+Uwdm/on7Pv8zJmb9qqcu/AFnSv3lmsL/Quva/zC3/v9UhuL/XVcK/d3AvwNsUJcBb2SLASK4uwO1sJcC1liTAP6UlwMOMJsCPVCvAEN8twP1OJcBZ0CXA20AswBEy2r9T4QLAfVvYv1J+A8DpOu6/1sgLwPtDrr/ZrBPAZd41wJ2Nw79ngSrAFunjvw3DGsB866G/BE+iwOsbNMAbcqS/9D2Qv5O3h78Pyi7AmzKiv/imiL8EE4y/ap3jPxo5ib9LT6S/cmTRv4MByL8mBdW/VgnMvxpWv785AMK/3tHCvxEdnr/4+NC/cFCfvzelzr/zkRPAh6oiwDIQCMAGJfy//TcawNlzJMC5kgPARloEwI/oFMCPkee/8KwZwP0gEMCqpgrANs/FPva8KsCpfCnAuM4VwNyqKcDuLx/AjWwWwMh5J8B67cc+SosxwHLCIsA/yinAZx8rwONKH8AvSLw+QwQnwIH0KMCdSDLAyCEowMMAHcB3qyvAC9IlwA/gNcCElynASbgnwOo9nr8yeJu/IbOlv/MdnL9ExZy/XAuMv4Kfkr/DXpO/UQeHvyzxhr/VyY2/phGGv1j7jb9NKZPAxuo/wLwlOsBRaCzA3mwnwIdHLsCr/DPADpc0wJZMM8DoIh7A8cwYwInPGMBl+uy/E6cWwN78F8BKQRnAuaI3wJeoE8BauELA/Z9NwLimMMBOCAvA",
          "dtype": "f4"
         },
         "xaxis": "x",
         "y": {
          "bdata": "xPeBQI7EbEB7BntA41drQJI6eUC/F35ArsdfQIGPYUAI5nVAxEN0QChlgUBNsWRA3QVWQAzpfEDLYnlAE0+EQFC8fUBYd2tAhdGDQCIBaUB8kJFAitJ/QGT0g0A0m4VARrqPQPbhe0DjsnBA03heQMnZYUBL53xAugBzQPkEbUDzZXNAxA9yQP0Pb0CvZHBAYSpqQFw/YkAZwGhAtPF0QIHrYEB4gnFAA8t0QL4QaUAsd25ASuV1QAUZb0BHLHRA5HByQC0Db0BeM3JAo0ebQPsGmkDXEZlAaxqdQBZUmkBBe5pA9JmaQEf2mkA+XZpA0DadQG+GmkDVzppA+oycQBhod0BtpGdA6eR4QJebaEBymWtADi9kQBg8bkBc2GlAEqdxQEaGcEBgn19A/79/QMihYEAPFYBAVf7xP7igbkBT53FA1/lkQIHHYEDQdXxAgzd+QMwYYUBQG2NAMruhP8+JYUCqjIBARcZwQFQtdUAJ43RAw79zQMw7c0DN+nJAablwQG6La0ACjnVAeqRrQIq7dEAjNmBArPNjQKz2fkD1YnxAAs2BQFOVZEBnM39AYZV+QNiZXkBkFn5AXbB7QI8ifEDfzn5AYUcXQEg5YEDoqGdA+0NfQGCGakBtoVJAHHVbQIFbakAbkRZA+vliQD/DdEBiQmxAc6drQID+Y0AcahhAay5sQC9TeEDRI3pASMVhQKCMfEAWAW5Auv10QCzQZUDQzF1AJelvQD4na0CEZ2lAYjNvQFL9Z0BkEmhAKA9iQDYiZUCv1mVA6wJhQFHUYEA6cmNAIvhfQOIKY0BEhyJAWwZeQAaOg0AI5I5Af45gQOGHjEDEF4lAApmGQNzShkB5Qn1AQilzQMp1gUAedn1AzQVeQOt1XECO/oFAaed3QAT7f0DA1XdAjzR6QOEffkDYEIBA",
          "dtype": "f4"
         },
         "yaxis": "y"
        },
        {
         "hovertemplate": "label=9<br>UMAP1=%{x}<br>UMAP2=%{y}<extra></extra>",
         "legendgroup": "9",
         "marker": {
          "color": "#FECB52",
          "symbol": "circle"
         },
         "mode": "markers",
         "name": "9",
         "showlegend": true,
         "type": "scattergl",
         "x": {
          "bdata": "hjc8QLzHP0Ar+TtAfKk8QE4rPkAaIF1AB/4fwEurNEAoUEtAAyY4QDyAOkBnPElAHghHQGXPOkBKnThAQnI3QIFNNECfcjpA0eM6QEbaOUDpRFFA0hRQQOikN0BuJlFAVaJBQHufM8CQ/TLAm15bQLEQO0B9YlNAAvRoQG/bNsCzxjLA3/UywCyzNMBXVErAQVFLwJZ5NMBl9UVAo7M8QLnOPUC3AUtAK+VRQI6SXEDBa11ACYlRQHf/U0AtNlBA8tZUQO5ZVUAa4lJAlklqQBm0ZUDYI2hAfOoTwGOvSkDKQWpAwiJhQDlIb0AxN2pA5RloQKyBWEBM31dAeCZAQPnGQsDljUvAnMRKwOwCSsCFOUrAfo5KwNU+SsCvvErAjCpJwBDLTMAYjVHAUHxFwMN3TMCAv0RAbWBHQGKfO0AKHkVAUHV0PQD0UUBeTT5APohNQKg6SEC5HzxAYoBNQBIMVUByUklAyAFPQAKDY0CkOFtAEUFiQKFKWEDB8lBAyX9MQOuDUECQakxAiP5lQGwHXkB1fF9AKxVjQBaJqD+/+U5AiUpTQHCQT0CJq09A88RWQL7IUEAtKhbAAWdKQNTNREAYBUJA1LFLQAz3Q0ByRVpAW5zeQLWSWUAzlGtAe+NgQEjXbkBXmTxADYZWQBLAbUBKy1xAFNpXQIbmW0B7vFRADl9kQPf3akB/lm5A7fxiQDS4SEDXQm9A/Lk5QAh/VED+6VJAPpZmQFyVZkCiuWJArfpiQII5XED5Ol1AMRBeQG+lXkCmtl1AhuhTQDVSX0D6GF5AkUpcQCAwXkClRFxAatBeQBrjScCoD07Aq0p1wEsRTcAGAjfANmNUQOMBScCEAzlAJzg2wOg6NkDTIlg/6M1SQOU+NsAgWmNANX9ZQM/YP0AnSElAf1ZaQEYXXUByg1tAbQ1GQF24WECTJVlAn6Y3QAg2TEDDq0VA",
          "dtype": "f4"
         },
         "xaxis": "x",
         "y": {
          "bdata": "yIslQB6WQUCjQT1Ah/BAQIJSSkCzky9AOa9LQDdGKkCf6xVA1HQ4QO7iOEDyeRZAcVYGQNcQMUCI8SFA55gnQP0iK0A+rjFATLs3QHZqJEAi6BhAIzgYQCb3J0BIyCdAHPcfQD7sesDnAHzAWw0TQLkUNkBRYBlAyEU0QNksfsBTXXrApIJ6wOY3fMB+EpvAxmOcwBQ2fMASAgVAOvcyQATLM0CPZy9AnH8wQEJvLUAcWCxAp2otQL7yK0A/GTBAwpIrQGgeB0BgUihA8AAxQC7bJUDdNjtAG/5wQFbECEAMzjVAzb8OQMo2LEAhMjRAdm04QAmIOEAajRBAMhEzQI9tqMBS05zAJoacwGIZncAoW5vAxCOcwMtxm8C7yJrAKQCbwLwen8Din6TAr5KjwBcpnMByZjpAdykZQKiQN0Da+ARAXEhUQHDFCUAOPTVAV8QjQHJPB0AlADZA/1QHQOAjB0BKEwVACOZFQFEkOkB810RArg0cQO28MED8B0JAfahFQMVpSEDMNDxA8Z0+QDZRIUA7JkNAZJA5QF9Klz9ak1NAf2diQJU+FkCIqlFAhlETQAVCV0DsUVpANOBQQE0ZG0D55CBAtSZTQCHKGkDVbSxAhYB+QT9JKkD1SChA84IWQJTcLEA4GSNAYfEXQDi1K0AuJxZAIKUYQBMoD0Dx9BlAmR02QAP3KUDKCSZA3HcXQNCGJECJiTBA/B0xQJliI0BlOyVA9MMXQPiCGUCupgtAhQEVQE/gC0B7DDlAQPg1QN/JDUDvATZA3EdCQIUnPUC3bhBAtwBAQMvJK0D1cwdATfMLQMxXm8AlBJvAryyywKnpm8BPm3/A+AHQQFsqmcBMpThAcvB9wDbtL0AsPkk/4RvQQCHyfcA3tThA5lkgQE1TOUBIIRZAHPsOQITPDEA8dyxAZuMkQI8BKkBOKx9A29oTQFekGEAknyBA",
          "dtype": "f4"
         },
         "yaxis": "y"
        }
       ],
       "layout": {
        "legend": {
         "title": {
          "text": "label"
         },
         "tracegroupgap": 0
        },
        "template": {
         "data": {
          "bar": [
           {
            "error_x": {
             "color": "#2a3f5f"
            },
            "error_y": {
             "color": "#2a3f5f"
            },
            "marker": {
             "line": {
              "color": "#E5ECF6",
              "width": 0.5
             },
             "pattern": {
              "fillmode": "overlay",
              "size": 10,
              "solidity": 0.2
             }
            },
            "type": "bar"
           }
          ],
          "barpolar": [
           {
            "marker": {
             "line": {
              "color": "#E5ECF6",
              "width": 0.5
             },
             "pattern": {
              "fillmode": "overlay",
              "size": 10,
              "solidity": 0.2
             }
            },
            "type": "barpolar"
           }
          ],
          "carpet": [
           {
            "aaxis": {
             "endlinecolor": "#2a3f5f",
             "gridcolor": "white",
             "linecolor": "white",
             "minorgridcolor": "white",
             "startlinecolor": "#2a3f5f"
            },
            "baxis": {
             "endlinecolor": "#2a3f5f",
             "gridcolor": "white",
             "linecolor": "white",
             "minorgridcolor": "white",
             "startlinecolor": "#2a3f5f"
            },
            "type": "carpet"
           }
          ],
          "choropleth": [
           {
            "colorbar": {
             "outlinewidth": 0,
             "ticks": ""
            },
            "type": "choropleth"
           }
          ],
          "contour": [
           {
            "colorbar": {
             "outlinewidth": 0,
             "ticks": ""
            },
            "colorscale": [
             [
              0,
              "#0d0887"
             ],
             [
              0.1111111111111111,
              "#46039f"
             ],
             [
              0.2222222222222222,
              "#7201a8"
             ],
             [
              0.3333333333333333,
              "#9c179e"
             ],
             [
              0.4444444444444444,
              "#bd3786"
             ],
             [
              0.5555555555555556,
              "#d8576b"
             ],
             [
              0.6666666666666666,
              "#ed7953"
             ],
             [
              0.7777777777777778,
              "#fb9f3a"
             ],
             [
              0.8888888888888888,
              "#fdca26"
             ],
             [
              1,
              "#f0f921"
             ]
            ],
            "type": "contour"
           }
          ],
          "contourcarpet": [
           {
            "colorbar": {
             "outlinewidth": 0,
             "ticks": ""
            },
            "type": "contourcarpet"
           }
          ],
          "heatmap": [
           {
            "colorbar": {
             "outlinewidth": 0,
             "ticks": ""
            },
            "colorscale": [
             [
              0,
              "#0d0887"
             ],
             [
              0.1111111111111111,
              "#46039f"
             ],
             [
              0.2222222222222222,
              "#7201a8"
             ],
             [
              0.3333333333333333,
              "#9c179e"
             ],
             [
              0.4444444444444444,
              "#bd3786"
             ],
             [
              0.5555555555555556,
              "#d8576b"
             ],
             [
              0.6666666666666666,
              "#ed7953"
             ],
             [
              0.7777777777777778,
              "#fb9f3a"
             ],
             [
              0.8888888888888888,
              "#fdca26"
             ],
             [
              1,
              "#f0f921"
             ]
            ],
            "type": "heatmap"
           }
          ],
          "histogram": [
           {
            "marker": {
             "pattern": {
              "fillmode": "overlay",
              "size": 10,
              "solidity": 0.2
             }
            },
            "type": "histogram"
           }
          ],
          "histogram2d": [
           {
            "colorbar": {
             "outlinewidth": 0,
             "ticks": ""
            },
            "colorscale": [
             [
              0,
              "#0d0887"
             ],
             [
              0.1111111111111111,
              "#46039f"
             ],
             [
              0.2222222222222222,
              "#7201a8"
             ],
             [
              0.3333333333333333,
              "#9c179e"
             ],
             [
              0.4444444444444444,
              "#bd3786"
             ],
             [
              0.5555555555555556,
              "#d8576b"
             ],
             [
              0.6666666666666666,
              "#ed7953"
             ],
             [
              0.7777777777777778,
              "#fb9f3a"
             ],
             [
              0.8888888888888888,
              "#fdca26"
             ],
             [
              1,
              "#f0f921"
             ]
            ],
            "type": "histogram2d"
           }
          ],
          "histogram2dcontour": [
           {
            "colorbar": {
             "outlinewidth": 0,
             "ticks": ""
            },
            "colorscale": [
             [
              0,
              "#0d0887"
             ],
             [
              0.1111111111111111,
              "#46039f"
             ],
             [
              0.2222222222222222,
              "#7201a8"
             ],
             [
              0.3333333333333333,
              "#9c179e"
             ],
             [
              0.4444444444444444,
              "#bd3786"
             ],
             [
              0.5555555555555556,
              "#d8576b"
             ],
             [
              0.6666666666666666,
              "#ed7953"
             ],
             [
              0.7777777777777778,
              "#fb9f3a"
             ],
             [
              0.8888888888888888,
              "#fdca26"
             ],
             [
              1,
              "#f0f921"
             ]
            ],
            "type": "histogram2dcontour"
           }
          ],
          "mesh3d": [
           {
            "colorbar": {
             "outlinewidth": 0,
             "ticks": ""
            },
            "type": "mesh3d"
           }
          ],
          "parcoords": [
           {
            "line": {
             "colorbar": {
              "outlinewidth": 0,
              "ticks": ""
             }
            },
            "type": "parcoords"
           }
          ],
          "pie": [
           {
            "automargin": true,
            "type": "pie"
           }
          ],
          "scatter": [
           {
            "fillpattern": {
             "fillmode": "overlay",
             "size": 10,
             "solidity": 0.2
            },
            "type": "scatter"
           }
          ],
          "scatter3d": [
           {
            "line": {
             "colorbar": {
              "outlinewidth": 0,
              "ticks": ""
             }
            },
            "marker": {
             "colorbar": {
              "outlinewidth": 0,
              "ticks": ""
             }
            },
            "type": "scatter3d"
           }
          ],
          "scattercarpet": [
           {
            "marker": {
             "colorbar": {
              "outlinewidth": 0,
              "ticks": ""
             }
            },
            "type": "scattercarpet"
           }
          ],
          "scattergeo": [
           {
            "marker": {
             "colorbar": {
              "outlinewidth": 0,
              "ticks": ""
             }
            },
            "type": "scattergeo"
           }
          ],
          "scattergl": [
           {
            "marker": {
             "colorbar": {
              "outlinewidth": 0,
              "ticks": ""
             }
            },
            "type": "scattergl"
           }
          ],
          "scattermap": [
           {
            "marker": {
             "colorbar": {
              "outlinewidth": 0,
              "ticks": ""
             }
            },
            "type": "scattermap"
           }
          ],
          "scattermapbox": [
           {
            "marker": {
             "colorbar": {
              "outlinewidth": 0,
              "ticks": ""
             }
            },
            "type": "scattermapbox"
           }
          ],
          "scatterpolar": [
           {
            "marker": {
             "colorbar": {
              "outlinewidth": 0,
              "ticks": ""
             }
            },
            "type": "scatterpolar"
           }
          ],
          "scatterpolargl": [
           {
            "marker": {
             "colorbar": {
              "outlinewidth": 0,
              "ticks": ""
             }
            },
            "type": "scatterpolargl"
           }
          ],
          "scatterternary": [
           {
            "marker": {
             "colorbar": {
              "outlinewidth": 0,
              "ticks": ""
             }
            },
            "type": "scatterternary"
           }
          ],
          "surface": [
           {
            "colorbar": {
             "outlinewidth": 0,
             "ticks": ""
            },
            "colorscale": [
             [
              0,
              "#0d0887"
             ],
             [
              0.1111111111111111,
              "#46039f"
             ],
             [
              0.2222222222222222,
              "#7201a8"
             ],
             [
              0.3333333333333333,
              "#9c179e"
             ],
             [
              0.4444444444444444,
              "#bd3786"
             ],
             [
              0.5555555555555556,
              "#d8576b"
             ],
             [
              0.6666666666666666,
              "#ed7953"
             ],
             [
              0.7777777777777778,
              "#fb9f3a"
             ],
             [
              0.8888888888888888,
              "#fdca26"
             ],
             [
              1,
              "#f0f921"
             ]
            ],
            "type": "surface"
           }
          ],
          "table": [
           {
            "cells": {
             "fill": {
              "color": "#EBF0F8"
             },
             "line": {
              "color": "white"
             }
            },
            "header": {
             "fill": {
              "color": "#C8D4E3"
             },
             "line": {
              "color": "white"
             }
            },
            "type": "table"
           }
          ]
         },
         "layout": {
          "annotationdefaults": {
           "arrowcolor": "#2a3f5f",
           "arrowhead": 0,
           "arrowwidth": 1
          },
          "autotypenumbers": "strict",
          "coloraxis": {
           "colorbar": {
            "outlinewidth": 0,
            "ticks": ""
           }
          },
          "colorscale": {
           "diverging": [
            [
             0,
             "#8e0152"
            ],
            [
             0.1,
             "#c51b7d"
            ],
            [
             0.2,
             "#de77ae"
            ],
            [
             0.3,
             "#f1b6da"
            ],
            [
             0.4,
             "#fde0ef"
            ],
            [
             0.5,
             "#f7f7f7"
            ],
            [
             0.6,
             "#e6f5d0"
            ],
            [
             0.7,
             "#b8e186"
            ],
            [
             0.8,
             "#7fbc41"
            ],
            [
             0.9,
             "#4d9221"
            ],
            [
             1,
             "#276419"
            ]
           ],
           "sequential": [
            [
             0,
             "#0d0887"
            ],
            [
             0.1111111111111111,
             "#46039f"
            ],
            [
             0.2222222222222222,
             "#7201a8"
            ],
            [
             0.3333333333333333,
             "#9c179e"
            ],
            [
             0.4444444444444444,
             "#bd3786"
            ],
            [
             0.5555555555555556,
             "#d8576b"
            ],
            [
             0.6666666666666666,
             "#ed7953"
            ],
            [
             0.7777777777777778,
             "#fb9f3a"
            ],
            [
             0.8888888888888888,
             "#fdca26"
            ],
            [
             1,
             "#f0f921"
            ]
           ],
           "sequentialminus": [
            [
             0,
             "#0d0887"
            ],
            [
             0.1111111111111111,
             "#46039f"
            ],
            [
             0.2222222222222222,
             "#7201a8"
            ],
            [
             0.3333333333333333,
             "#9c179e"
            ],
            [
             0.4444444444444444,
             "#bd3786"
            ],
            [
             0.5555555555555556,
             "#d8576b"
            ],
            [
             0.6666666666666666,
             "#ed7953"
            ],
            [
             0.7777777777777778,
             "#fb9f3a"
            ],
            [
             0.8888888888888888,
             "#fdca26"
            ],
            [
             1,
             "#f0f921"
            ]
           ]
          },
          "colorway": [
           "#636efa",
           "#EF553B",
           "#00cc96",
           "#ab63fa",
           "#FFA15A",
           "#19d3f3",
           "#FF6692",
           "#B6E880",
           "#FF97FF",
           "#FECB52"
          ],
          "font": {
           "color": "#2a3f5f"
          },
          "geo": {
           "bgcolor": "white",
           "lakecolor": "white",
           "landcolor": "#E5ECF6",
           "showlakes": true,
           "showland": true,
           "subunitcolor": "white"
          },
          "hoverlabel": {
           "align": "left"
          },
          "hovermode": "closest",
          "mapbox": {
           "style": "light"
          },
          "paper_bgcolor": "white",
          "plot_bgcolor": "#E5ECF6",
          "polar": {
           "angularaxis": {
            "gridcolor": "white",
            "linecolor": "white",
            "ticks": ""
           },
           "bgcolor": "#E5ECF6",
           "radialaxis": {
            "gridcolor": "white",
            "linecolor": "white",
            "ticks": ""
           }
          },
          "scene": {
           "xaxis": {
            "backgroundcolor": "#E5ECF6",
            "gridcolor": "white",
            "gridwidth": 2,
            "linecolor": "white",
            "showbackground": true,
            "ticks": "",
            "zerolinecolor": "white"
           },
           "yaxis": {
            "backgroundcolor": "#E5ECF6",
            "gridcolor": "white",
            "gridwidth": 2,
            "linecolor": "white",
            "showbackground": true,
            "ticks": "",
            "zerolinecolor": "white"
           },
           "zaxis": {
            "backgroundcolor": "#E5ECF6",
            "gridcolor": "white",
            "gridwidth": 2,
            "linecolor": "white",
            "showbackground": true,
            "ticks": "",
            "zerolinecolor": "white"
           }
          },
          "shapedefaults": {
           "line": {
            "color": "#2a3f5f"
           }
          },
          "ternary": {
           "aaxis": {
            "gridcolor": "white",
            "linecolor": "white",
            "ticks": ""
           },
           "baxis": {
            "gridcolor": "white",
            "linecolor": "white",
            "ticks": ""
           },
           "bgcolor": "#E5ECF6",
           "caxis": {
            "gridcolor": "white",
            "linecolor": "white",
            "ticks": ""
           }
          },
          "title": {
           "x": 0.05
          },
          "xaxis": {
           "automargin": true,
           "gridcolor": "white",
           "linecolor": "white",
           "ticks": "",
           "title": {
            "standoff": 15
           },
           "zerolinecolor": "white",
           "zerolinewidth": 2
          },
          "yaxis": {
           "automargin": true,
           "gridcolor": "white",
           "linecolor": "white",
           "ticks": "",
           "title": {
            "standoff": 15
           },
           "zerolinecolor": "white",
           "zerolinewidth": 2
          }
         }
        },
        "title": {
         "text": "Visualización del Dataset Digits con UMAP"
        },
        "xaxis": {
         "anchor": "y",
         "domain": [
          0,
          1
         ],
         "title": {
          "text": "UMAP1"
         }
        },
        "yaxis": {
         "anchor": "x",
         "domain": [
          0,
          1
         ],
         "title": {
          "text": "UMAP2"
         }
        }
       }
      }
     },
     "metadata": {},
     "output_type": "display_data"
    }
   ],
   "source": [
    "# Aplicamos UMAP. n_neighbors y min_dist son hiperparámetros clave.\n",
    "reducer = umap.UMAP(n_neighbors=15, min_dist=0.0, n_components=2)\n",
    "X_umap = reducer.fit_transform(X_scaled)\n",
    "\n",
    "# Creamos el DataFrame para Plotly\n",
    "df_umap = pd.DataFrame(data=X_umap, columns=['UMAP1', 'UMAP2'])\n",
    "df_umap['label'] = y.astype(str)\n",
    "\n",
    "# Visualizamos\n",
    "fig = px.scatter(df_umap, x='UMAP1', y='UMAP2', color='label',\n",
    "                 title='Visualización del Dataset Digits con UMAP',\n",
    "                 labels={'color': 'Dígito'})\n",
    "fig.show()"
   ]
  },
  {
   "cell_type": "markdown",
   "metadata": {},
   "source": [
    "## 7. Conclusiones del Taller\n",
    "\n",
    "- **PCA** es una herramienta rápida y útil para una reducción de dimensionalidad lineal. Es excelente como paso de preprocesamiento, pero puede no ser la mejor para la visualización de estructuras complejas.\n",
    "- **t-SNE** es excepcional para revelar la estructura de clusters locales en los datos, produciendo visualizaciones muy claras y separadas.\n",
    "- **UMAP** ofrece resultados de visualización de alta calidad, a menudo comparables o superiores a los de t-SNE, pero con la ventaja de ser significativamente más rápido y, a menudo, preservar mejor la estructura global de los datos."
   ]
  },
  {
   "cell_type": "markdown",
   "metadata": {},
   "source": [
    "**Análisis de UMAP:** UMAP también produce una excelente separación de los clusters, similar a t-SNE. A menudo, UMAP es mucho más rápido que t-SNE (aunque en este dataset pequeño la diferencia no es tan notable) y puede preservar mejor la estructura global de los datos. Observa cómo algunos clusters (como el '4' y el '7') pueden aparecer más cercanos entre sí, lo que podría reflejar una mayor similitud intrínseca."
   ]
  },
  {
   "cell_type": "markdown",
   "metadata": {},
   "source": [
    "---"
   ]
  },
  {
   "cell_type": "markdown",
   "metadata": {},
   "source": [
    "## ✍️ Ejercicios Propuestos\n",
    "\n",
    "1.  **Varianza en PCA:** ¿Cuántos componentes principales son necesarios para explicar el 95% de la varianza en el dataset `digits`? Vuelve a ejecutar el análisis del Scree Plot y encuentra el número exacto.\n",
    "\n",
    "2.  **Experimenta con t-SNE:** Modifica el hiperparámetro `perplexity` en el modelo t-SNE a valores más bajos (ej. 5) y más altos (ej. 200). ¿Cómo cambia la visualización? ¿Qué parece controlar este parámetro?\n",
    "\n",
    "3.  **Experimenta con UMAP:** Modifica el hiperparámetro `n_neighbors` en el modelo UMAP a valores más bajos (ej. 5) y más altos (ej. 50). ¿Cómo afecta esto a la separación de los clusters y a la estructura global?\n",
    "\n",
    "4.  **Visualización 3D:** Adapta el código de PCA, t-SNE y UMAP para reducir los datos a 3 componentes (`n_components=3`). Utiliza `plotly.express.scatter_3d` para crear visualizaciones tridimensionales. ¿Añade la tercera dimensión una mejor perspectiva?\n",
    "\n",
    "5.  **Impacto en un Clasificador:** Entrena un modelo simple, como `LogisticRegression` de Scikit-learn, sobre los datos originales escalados (`X_scaled`). Luego, entrena el mismo modelo sobre los datos reducidos por PCA (usando suficientes componentes para capturar el 95% de la varianza). Compara el tiempo de entrenamiento y la precisión (accuracy) de ambos modelos. ¿Qué observas?\n",
    "\n",
    "6.  **Interpretando los Componentes Principales:** El objeto `pca_2d` contiene los `components_` (loadings). Cada componente es un vector de 64 elementos. \"Reforma\" (`reshape`) el primer componente principal a una imagen de 8x8 y visualízalo con `plt.imshow`. ¿Qué parece representar este componente? ¿Qué píxeles son los más importantes?\n",
    "\n",
    "7.  **Aplicación a otro Dataset:** Carga el dataset `load_wine` de Scikit-learn. Este dataset tiene 13 características. Aplica PCA, t-SNE y UMAP para visualizar las 3 clases de vinos. ¿Cuál técnica funciona mejor para separar las clases?\n",
    "le? ¿Por qué?\n"
   ]
  },
  {
   "cell_type": "markdown",
   "metadata": {},
   "source": [
    "**Observación sobre el punto 5:**\n",
    "En mi PC observé los siguientes datos de accuracy y tiempo, como para darles una referencia:\n",
    "\n",
    "| Métrica                     | Modelo Original | Modelo con PCA |\n",
    "|-----------------------------|----------------|---------------|\n",
    "| Número de Características   | 64             | 39            |\n",
    "| Tiempo de Entrenamiento     | 0.0340         | 0.0062        |\n",
    "| Precisión (Accuracy)        | 0.9796         | 0.9630        |"
   ]
  },
  {
   "cell_type": "markdown",
   "metadata": {},
   "source": [
    "### Ejercicio 1: Varianza en PCA. Cuanto componentes son necesarios para explicar el 95% de la varianza en digits?"
   ]
  },
  {
   "cell_type": "markdown",
   "metadata": {},
   "source": [
    "#### Parece que aprox 40 componentes. "
   ]
  },
  {
   "cell_type": "code",
   "execution_count": 11,
   "metadata": {},
   "outputs": [
    {
     "data": {
      "application/vnd.plotly.v1+json": {
       "config": {
        "plotlyServerURL": "https://plot.ly"
       },
       "data": [
        {
         "fillpattern": {
          "shape": ""
         },
         "hovertemplate": "Número de Componentes Principales=%{x}<br>Varianza Explicada Acumulada=%{y}<extra></extra>",
         "legendgroup": "",
         "line": {
          "color": "#636efa"
         },
         "marker": {
          "symbol": "circle"
         },
         "mode": "lines",
         "name": "",
         "orientation": "v",
         "showlegend": false,
         "stackgroup": "1",
         "type": "scatter",
         "x": {
          "bdata": "AQIDBAUGBwgJCgsMDQ4PEBESExQVFhcYGRobHB0eHyAhIiMkJSYnKCkqKywtLi8wMTIzNDU2Nzg5Ojs8PT4/QA==",
          "dtype": "i1"
         },
         "xaxis": "x",
         "y": {
          "bdata": "N2fTGIzOvj8SuktsPaTLP5BgpCSnOdM/VEM9IFpi1z9kjtrLo37aP3lSZ8sUMd0/e8Qzu/O23z/i4uFVIvHgP6YKX5a/5uE/R0E1I/DW4j9I/JHT0rrjP4egv5bvjeQ/jiBpKFRI5T9dDpeAx/7lPxt1lqcnsOY/4A9Oo/ZM5z/dUSKPat7nP+0KllybZOg/c7najmPn6D+GdCkpYmHpPx/WqSHPz+k/Gfg1dwE46j/zztPYgpfqP9hExE0n7uo/viRjKQ0+6z+Qjtn/bYvrPwOqDbYg0us/XQssYqoW7D/dkzA5A1jsPxi/2Nwplew/XStcbJrQ7D/v6ZLaSAntP3DeSk/aPu0/A0o6tFhz7T+icIDtyqPtPwDOUBKV0u0/LWr/h3r97T9B+cfE8iTuP4xsgvMdSu4/UPM9Uchs7j/d3g/eC47uP9vC5FaTru4/Usy9i8fL7j/gk/1esufuP0KCi5ONAu8/A17rYwgc7z+9kbtArDPvP4nRKadSSu8/SDoI8o1f7z8EGxVpw3LvP805qpakhO8/RWkkV1KV7z/8o3yIVqXvPy91LwBbtO8/YtN8Fx3C7z8raQF1Us/vP/DP7UNt2+8/TE1g537m7z9wk990vvDvP6jlFR09+e8/AAAAAAAA8D8AAAAAAADwPwAAAAAAAPA/AAAAAAAA8D8=",
          "dtype": "f8"
         },
         "yaxis": "y"
        }
       ],
       "layout": {
        "annotations": [
         {
          "arrowhead": 1,
          "showarrow": true,
          "text": "95% de Varianza Explicada",
          "x": 40,
          "y": 0.95
         }
        ],
        "legend": {
         "tracegroupgap": 0
        },
        "shapes": [
         {
          "line": {
           "color": "red",
           "dash": "dash"
          },
          "type": "line",
          "x0": 0,
          "x1": 1,
          "xref": "x domain",
          "y0": 0.9,
          "y1": 0.9,
          "yref": "y"
         }
        ],
        "template": {
         "data": {
          "bar": [
           {
            "error_x": {
             "color": "#2a3f5f"
            },
            "error_y": {
             "color": "#2a3f5f"
            },
            "marker": {
             "line": {
              "color": "#E5ECF6",
              "width": 0.5
             },
             "pattern": {
              "fillmode": "overlay",
              "size": 10,
              "solidity": 0.2
             }
            },
            "type": "bar"
           }
          ],
          "barpolar": [
           {
            "marker": {
             "line": {
              "color": "#E5ECF6",
              "width": 0.5
             },
             "pattern": {
              "fillmode": "overlay",
              "size": 10,
              "solidity": 0.2
             }
            },
            "type": "barpolar"
           }
          ],
          "carpet": [
           {
            "aaxis": {
             "endlinecolor": "#2a3f5f",
             "gridcolor": "white",
             "linecolor": "white",
             "minorgridcolor": "white",
             "startlinecolor": "#2a3f5f"
            },
            "baxis": {
             "endlinecolor": "#2a3f5f",
             "gridcolor": "white",
             "linecolor": "white",
             "minorgridcolor": "white",
             "startlinecolor": "#2a3f5f"
            },
            "type": "carpet"
           }
          ],
          "choropleth": [
           {
            "colorbar": {
             "outlinewidth": 0,
             "ticks": ""
            },
            "type": "choropleth"
           }
          ],
          "contour": [
           {
            "colorbar": {
             "outlinewidth": 0,
             "ticks": ""
            },
            "colorscale": [
             [
              0,
              "#0d0887"
             ],
             [
              0.1111111111111111,
              "#46039f"
             ],
             [
              0.2222222222222222,
              "#7201a8"
             ],
             [
              0.3333333333333333,
              "#9c179e"
             ],
             [
              0.4444444444444444,
              "#bd3786"
             ],
             [
              0.5555555555555556,
              "#d8576b"
             ],
             [
              0.6666666666666666,
              "#ed7953"
             ],
             [
              0.7777777777777778,
              "#fb9f3a"
             ],
             [
              0.8888888888888888,
              "#fdca26"
             ],
             [
              1,
              "#f0f921"
             ]
            ],
            "type": "contour"
           }
          ],
          "contourcarpet": [
           {
            "colorbar": {
             "outlinewidth": 0,
             "ticks": ""
            },
            "type": "contourcarpet"
           }
          ],
          "heatmap": [
           {
            "colorbar": {
             "outlinewidth": 0,
             "ticks": ""
            },
            "colorscale": [
             [
              0,
              "#0d0887"
             ],
             [
              0.1111111111111111,
              "#46039f"
             ],
             [
              0.2222222222222222,
              "#7201a8"
             ],
             [
              0.3333333333333333,
              "#9c179e"
             ],
             [
              0.4444444444444444,
              "#bd3786"
             ],
             [
              0.5555555555555556,
              "#d8576b"
             ],
             [
              0.6666666666666666,
              "#ed7953"
             ],
             [
              0.7777777777777778,
              "#fb9f3a"
             ],
             [
              0.8888888888888888,
              "#fdca26"
             ],
             [
              1,
              "#f0f921"
             ]
            ],
            "type": "heatmap"
           }
          ],
          "histogram": [
           {
            "marker": {
             "pattern": {
              "fillmode": "overlay",
              "size": 10,
              "solidity": 0.2
             }
            },
            "type": "histogram"
           }
          ],
          "histogram2d": [
           {
            "colorbar": {
             "outlinewidth": 0,
             "ticks": ""
            },
            "colorscale": [
             [
              0,
              "#0d0887"
             ],
             [
              0.1111111111111111,
              "#46039f"
             ],
             [
              0.2222222222222222,
              "#7201a8"
             ],
             [
              0.3333333333333333,
              "#9c179e"
             ],
             [
              0.4444444444444444,
              "#bd3786"
             ],
             [
              0.5555555555555556,
              "#d8576b"
             ],
             [
              0.6666666666666666,
              "#ed7953"
             ],
             [
              0.7777777777777778,
              "#fb9f3a"
             ],
             [
              0.8888888888888888,
              "#fdca26"
             ],
             [
              1,
              "#f0f921"
             ]
            ],
            "type": "histogram2d"
           }
          ],
          "histogram2dcontour": [
           {
            "colorbar": {
             "outlinewidth": 0,
             "ticks": ""
            },
            "colorscale": [
             [
              0,
              "#0d0887"
             ],
             [
              0.1111111111111111,
              "#46039f"
             ],
             [
              0.2222222222222222,
              "#7201a8"
             ],
             [
              0.3333333333333333,
              "#9c179e"
             ],
             [
              0.4444444444444444,
              "#bd3786"
             ],
             [
              0.5555555555555556,
              "#d8576b"
             ],
             [
              0.6666666666666666,
              "#ed7953"
             ],
             [
              0.7777777777777778,
              "#fb9f3a"
             ],
             [
              0.8888888888888888,
              "#fdca26"
             ],
             [
              1,
              "#f0f921"
             ]
            ],
            "type": "histogram2dcontour"
           }
          ],
          "mesh3d": [
           {
            "colorbar": {
             "outlinewidth": 0,
             "ticks": ""
            },
            "type": "mesh3d"
           }
          ],
          "parcoords": [
           {
            "line": {
             "colorbar": {
              "outlinewidth": 0,
              "ticks": ""
             }
            },
            "type": "parcoords"
           }
          ],
          "pie": [
           {
            "automargin": true,
            "type": "pie"
           }
          ],
          "scatter": [
           {
            "fillpattern": {
             "fillmode": "overlay",
             "size": 10,
             "solidity": 0.2
            },
            "type": "scatter"
           }
          ],
          "scatter3d": [
           {
            "line": {
             "colorbar": {
              "outlinewidth": 0,
              "ticks": ""
             }
            },
            "marker": {
             "colorbar": {
              "outlinewidth": 0,
              "ticks": ""
             }
            },
            "type": "scatter3d"
           }
          ],
          "scattercarpet": [
           {
            "marker": {
             "colorbar": {
              "outlinewidth": 0,
              "ticks": ""
             }
            },
            "type": "scattercarpet"
           }
          ],
          "scattergeo": [
           {
            "marker": {
             "colorbar": {
              "outlinewidth": 0,
              "ticks": ""
             }
            },
            "type": "scattergeo"
           }
          ],
          "scattergl": [
           {
            "marker": {
             "colorbar": {
              "outlinewidth": 0,
              "ticks": ""
             }
            },
            "type": "scattergl"
           }
          ],
          "scattermap": [
           {
            "marker": {
             "colorbar": {
              "outlinewidth": 0,
              "ticks": ""
             }
            },
            "type": "scattermap"
           }
          ],
          "scattermapbox": [
           {
            "marker": {
             "colorbar": {
              "outlinewidth": 0,
              "ticks": ""
             }
            },
            "type": "scattermapbox"
           }
          ],
          "scatterpolar": [
           {
            "marker": {
             "colorbar": {
              "outlinewidth": 0,
              "ticks": ""
             }
            },
            "type": "scatterpolar"
           }
          ],
          "scatterpolargl": [
           {
            "marker": {
             "colorbar": {
              "outlinewidth": 0,
              "ticks": ""
             }
            },
            "type": "scatterpolargl"
           }
          ],
          "scatterternary": [
           {
            "marker": {
             "colorbar": {
              "outlinewidth": 0,
              "ticks": ""
             }
            },
            "type": "scatterternary"
           }
          ],
          "surface": [
           {
            "colorbar": {
             "outlinewidth": 0,
             "ticks": ""
            },
            "colorscale": [
             [
              0,
              "#0d0887"
             ],
             [
              0.1111111111111111,
              "#46039f"
             ],
             [
              0.2222222222222222,
              "#7201a8"
             ],
             [
              0.3333333333333333,
              "#9c179e"
             ],
             [
              0.4444444444444444,
              "#bd3786"
             ],
             [
              0.5555555555555556,
              "#d8576b"
             ],
             [
              0.6666666666666666,
              "#ed7953"
             ],
             [
              0.7777777777777778,
              "#fb9f3a"
             ],
             [
              0.8888888888888888,
              "#fdca26"
             ],
             [
              1,
              "#f0f921"
             ]
            ],
            "type": "surface"
           }
          ],
          "table": [
           {
            "cells": {
             "fill": {
              "color": "#EBF0F8"
             },
             "line": {
              "color": "white"
             }
            },
            "header": {
             "fill": {
              "color": "#C8D4E3"
             },
             "line": {
              "color": "white"
             }
            },
            "type": "table"
           }
          ]
         },
         "layout": {
          "annotationdefaults": {
           "arrowcolor": "#2a3f5f",
           "arrowhead": 0,
           "arrowwidth": 1
          },
          "autotypenumbers": "strict",
          "coloraxis": {
           "colorbar": {
            "outlinewidth": 0,
            "ticks": ""
           }
          },
          "colorscale": {
           "diverging": [
            [
             0,
             "#8e0152"
            ],
            [
             0.1,
             "#c51b7d"
            ],
            [
             0.2,
             "#de77ae"
            ],
            [
             0.3,
             "#f1b6da"
            ],
            [
             0.4,
             "#fde0ef"
            ],
            [
             0.5,
             "#f7f7f7"
            ],
            [
             0.6,
             "#e6f5d0"
            ],
            [
             0.7,
             "#b8e186"
            ],
            [
             0.8,
             "#7fbc41"
            ],
            [
             0.9,
             "#4d9221"
            ],
            [
             1,
             "#276419"
            ]
           ],
           "sequential": [
            [
             0,
             "#0d0887"
            ],
            [
             0.1111111111111111,
             "#46039f"
            ],
            [
             0.2222222222222222,
             "#7201a8"
            ],
            [
             0.3333333333333333,
             "#9c179e"
            ],
            [
             0.4444444444444444,
             "#bd3786"
            ],
            [
             0.5555555555555556,
             "#d8576b"
            ],
            [
             0.6666666666666666,
             "#ed7953"
            ],
            [
             0.7777777777777778,
             "#fb9f3a"
            ],
            [
             0.8888888888888888,
             "#fdca26"
            ],
            [
             1,
             "#f0f921"
            ]
           ],
           "sequentialminus": [
            [
             0,
             "#0d0887"
            ],
            [
             0.1111111111111111,
             "#46039f"
            ],
            [
             0.2222222222222222,
             "#7201a8"
            ],
            [
             0.3333333333333333,
             "#9c179e"
            ],
            [
             0.4444444444444444,
             "#bd3786"
            ],
            [
             0.5555555555555556,
             "#d8576b"
            ],
            [
             0.6666666666666666,
             "#ed7953"
            ],
            [
             0.7777777777777778,
             "#fb9f3a"
            ],
            [
             0.8888888888888888,
             "#fdca26"
            ],
            [
             1,
             "#f0f921"
            ]
           ]
          },
          "colorway": [
           "#636efa",
           "#EF553B",
           "#00cc96",
           "#ab63fa",
           "#FFA15A",
           "#19d3f3",
           "#FF6692",
           "#B6E880",
           "#FF97FF",
           "#FECB52"
          ],
          "font": {
           "color": "#2a3f5f"
          },
          "geo": {
           "bgcolor": "white",
           "lakecolor": "white",
           "landcolor": "#E5ECF6",
           "showlakes": true,
           "showland": true,
           "subunitcolor": "white"
          },
          "hoverlabel": {
           "align": "left"
          },
          "hovermode": "closest",
          "mapbox": {
           "style": "light"
          },
          "paper_bgcolor": "white",
          "plot_bgcolor": "#E5ECF6",
          "polar": {
           "angularaxis": {
            "gridcolor": "white",
            "linecolor": "white",
            "ticks": ""
           },
           "bgcolor": "#E5ECF6",
           "radialaxis": {
            "gridcolor": "white",
            "linecolor": "white",
            "ticks": ""
           }
          },
          "scene": {
           "xaxis": {
            "backgroundcolor": "#E5ECF6",
            "gridcolor": "white",
            "gridwidth": 2,
            "linecolor": "white",
            "showbackground": true,
            "ticks": "",
            "zerolinecolor": "white"
           },
           "yaxis": {
            "backgroundcolor": "#E5ECF6",
            "gridcolor": "white",
            "gridwidth": 2,
            "linecolor": "white",
            "showbackground": true,
            "ticks": "",
            "zerolinecolor": "white"
           },
           "zaxis": {
            "backgroundcolor": "#E5ECF6",
            "gridcolor": "white",
            "gridwidth": 2,
            "linecolor": "white",
            "showbackground": true,
            "ticks": "",
            "zerolinecolor": "white"
           }
          },
          "shapedefaults": {
           "line": {
            "color": "#2a3f5f"
           }
          },
          "ternary": {
           "aaxis": {
            "gridcolor": "white",
            "linecolor": "white",
            "ticks": ""
           },
           "baxis": {
            "gridcolor": "white",
            "linecolor": "white",
            "ticks": ""
           },
           "bgcolor": "#E5ECF6",
           "caxis": {
            "gridcolor": "white",
            "linecolor": "white",
            "ticks": ""
           }
          },
          "title": {
           "x": 0.05
          },
          "xaxis": {
           "automargin": true,
           "gridcolor": "white",
           "linecolor": "white",
           "ticks": "",
           "title": {
            "standoff": 15
           },
           "zerolinecolor": "white",
           "zerolinewidth": 2
          },
          "yaxis": {
           "automargin": true,
           "gridcolor": "white",
           "linecolor": "white",
           "ticks": "",
           "title": {
            "standoff": 15
           },
           "zerolinecolor": "white",
           "zerolinewidth": 2
          }
         }
        },
        "title": {
         "text": "Scree Plot: Varianza Explicada por los Componentes Principales"
        },
        "xaxis": {
         "anchor": "y",
         "domain": [
          0,
          1
         ],
         "title": {
          "text": "Número de Componentes Principales"
         }
        },
        "yaxis": {
         "anchor": "x",
         "domain": [
          0,
          1
         ],
         "range": [
          0,
          1.05
         ],
         "title": {
          "text": "Varianza Explicada Acumulada"
         }
        }
       }
      }
     },
     "metadata": {},
     "output_type": "display_data"
    }
   ],
   "source": [
    "# Ajustamos PCA sin especificar n_components para mantenerlos todos\n",
    "pca_full = PCA()\n",
    "pca_full.fit(X_scaled)\n",
    "\n",
    "# Calculamos la varianza explicada acumulada\n",
    "cumulative_variance = np.cumsum(pca_full.explained_variance_ratio_)\n",
    "\n",
    "# Creamos el Scree Plot\n",
    "fig = px.area(x=range(1, cumulative_variance.shape[0] + 1),\n",
    "              y=cumulative_variance,\n",
    "              labels={\"x\": \"Número de Componentes Principales\", \"y\": \"Varianza Explicada Acumulada\"},\n",
    "              title=\"Scree Plot: Varianza Explicada por los Componentes Principales\")\n",
    "fig.update_layout(yaxis_range=[0,1.05])\n",
    "fig.add_hline(y=0.9, line_dash=\"dash\", line_color=\"red\")\n",
    "fig.add_annotation(x=40, y=0.95, text=\"95% de Varianza Explicada\", showarrow=True, arrowhead=1)\n",
    "fig.show()"
   ]
  },
  {
   "cell_type": "markdown",
   "metadata": {},
   "source": [
    "### Ejercicio 2:  **Experimenta con t-SNE:** Modifica el hiperparámetro `perplexity` en el modelo t-SNE a valores más bajos (ej. 5) y más altos (ej. 200). ¿Cómo cambia la visualización? ¿Qué parece controlar este parámetro?"
   ]
  },
  {
   "cell_type": "code",
   "execution_count": 36,
   "metadata": {},
   "outputs": [
    {
     "data": {
      "application/vnd.plotly.v1+json": {
       "config": {
        "plotlyServerURL": "https://plot.ly"
       },
       "data": [
        {
         "hovertemplate": "label=0<br>TSNE1=%{x}<br>TSNE2=%{y}<extra></extra>",
         "legendgroup": "0",
         "marker": {
          "color": "#636efa",
          "symbol": "circle"
         },
         "mode": "markers",
         "name": "0",
         "showlegend": true,
         "type": "scattergl",
         "x": {
          "bdata": "EiVvwiV9UsJMUP3BPtJ6wno41MFhnTvC/tkswhfJ/8GTiwfClUk5wvFwL8L4sAfCj6QFwtYOScLU+BnCGsEgwh1pBcJ4LiPCEjE3wtC698EUxQPCqlEVwmDJA8Ly5gfCHYstwiSAEcKfJ1nC+npWwhVxTMJOpFnC/HGCwvvvO8L/O03CM6lNwo7USMJp/lLCnd5IwvKcUMLMrk3CyHMmwp9ZMcLizBLCbV/3wU+xHcKvKS/CJTEnwkYWYsJxvQvCuR1nwju5LsKqOhjCs+Aqwt8RI8Jp807CV8Imwnm5I8Ibz03Cb40wwktRN8INIkjCAAgmwmkRSsLWECLCRSMnwpehKMIJqwnClUuMwt20CsK0gUfCaJcywu9dBMKgKTvCtLEAwh0SA8L4TgrCDKNIwnzpFsKw5ATCckKDwhCBPsKIn1zC425Own9CTsJ0hwDCrjVYwgJ4dMIF7hzC/jTwwf9rXMIBLW/Cg3F0wv54UsKH4FLCpS1FwnPyXsJtCVzCgp5dwrk5g8LCw0HCW/5iwodOXMInyW7C4eEmwnyEN8IjhkjCjMMjwtYuJsLKryjCg0E9wrluR8I0bj3CnaM3wgyScMIC9UvCxGVBwuDPa8KVUGPCncmHwjV9f8JGooDCHIx/wn+ShsLSVYvCeSKMwhFRh8ILbUPC/NaNwp2LN8LI5CbCSdIpwjpCM8IBX9LBFQ4TwtsAE8KdCXXCzgpBwrThbMJoBxXCgD0owuQR0sE+D1XCftMvwrm6TsLshj/CzORJwjEaTsLAl03CR2Yzwn3FMMKKODLC2+1Owig6QMIQnljC6Y8Rws0IFcJ0KB7CFk7QwVwGLsK1u9LBuahywg9EF8LMkfDBhbc9wvS4/MGih0DCY7E0wmxqKMJmqhrCSc5swiMaBMLv5inCcSVqwhjh9sFtwFjCk05dwidgG8JT+xbCYRcGwg==",
          "dtype": "f4"
         },
         "xaxis": "x",
         "y": {
          "bdata": "ryYuwrNuBsIuBUXCwrBAwk1BKsIyWx7Ck7tPwjPiP8JlbEXCp0BfwrniasL9j0/CxixEwpnD3sFp9wfCvPtPwoaREcK5IgbCYC51wuYcOsLT+UDCE2xOwurePcJp6k7CTXFwwiusSsK91gHCdYBdwlg+/MEQ8ADC59s1wgE/HsKAERLC2FEVwgjt5sE0XAvC4Pj0wUNfYMI5/FrC2J1pwr9tccKow0vCFW4GwsascMIr6mjCZDxRwg9dQsK76QfC3KBEwh9LZMIIsGnCkh8JwqItBcJlvhvCZgn5wazUAMKO0z3C7OUmwutZhMJVfAnCekkewjXNLcLVmf3Bh9jywcnGB8I95hnCp4gOwh19G8LeQfPBiOVxwjMFLsI9qQfC5Ok1wn8UL8LMRgnC9AblwX93KcIMDCvC1Kwxwo3VgcJ7iP/B+yYQwmdnDsKpthbCwpAIwlvaQMKUaBDCBRwtwlNVUsJnbS7Cmm8Wwnt1OMLncTnCkWgwwgkePsJ6r1LCniI7wg3rMcItDlzC9/hBwi84OMLKdhfCNMhXwgjbQMIk/zPCmQ1QwiPmQMIhMEDCr/Z9wh7JMMJ5m3vCRpiEwjhsFsKQZD/CHfouwusoHsJiyR3C6D4OwsViPcK5QELChYM+woDGDsI1DgzCdCwOwuxsDsLE+O/BQcEPwi62QMJbLiHCyrEmwvLgh8LLqi/Cl60mwqg9KcI2a0HCXKMHwpOWIcJPlCPCpbslwucaL8IOoDrC44VRwmKSGsIXFFjC8JZYwhyqVsJnq1bCq9SHwlAMgsLMmYjC8YFTwn1+WcJyjVfCurkrwiX/MsJ+fQrCW/M1wutvJsIA9jPCqmoSwlc/OMK7KTjCDd2BwlS5M8LuCQjCwrlpwlMkUsKegmvC1R8jwu+YFMIc1HLC1BIVwsVKBsK5lV/C+epbwnEQbMLk6DrCdjsQwg==",
          "dtype": "f4"
         },
         "yaxis": "y"
        },
        {
         "hovertemplate": "label=1<br>TSNE1=%{x}<br>TSNE2=%{y}<extra></extra>",
         "legendgroup": "1",
         "marker": {
          "color": "#EF553B",
          "symbol": "circle"
         },
         "mode": "markers",
         "name": "1",
         "showlegend": true,
         "type": "scattergl",
         "x": {
          "bdata": "QUXbwZ/JCMIrUvHBjo3/wd69q8GRwL3Bi5GpwcfF8ME1jffBphr/wfJY28HQfvPBPQEIwj1i78HotwzCQ9MOwtpFBMJkEArCpk39wWCPCsL1YwPChEAQwuoPDsKacwXCzDIJwhzkBcIxEfXBvgAJwthWBsL5fc/BtiK9wVEmD8KTSwHCgtEHwksHCsJY7PfBYSUWwkC1F8J6+MPBzJbHwfm6w8EOkdrBFUX1wRAqwsGBACxCaH/vwQeovcF20rfBBkX5wXSk1MHgjcbBe63ZwVLQOELs6C5C5/VFQpXoUkIUAlBCP7s8Qv7kU0I+5U9C3FJOQmJhR0LEd1VC5LygwYL2NUIA+8TBCr3EwTxxxMFTW8nB1zLJwZQd9sEfZ5vBmZPzwVoFicHYhsLBcBSbwaGzpcFVZMfBTLgXwvXyJsILsvbBBYCmwdnn08FZHC5CigDJwbv308Gti+3BbL0Jwkre+8HwWRPCbLDMwa6jL0I5HTVCRs0qQkJzN0IsCzpC0+w5QoBZNkK/SjpCiKswQrT/OUKvZS9CblkzQj+IOUK71brBL9C6wfOFE8KiBeDBJy79wbxckcHvPRfCu9bwwU+5EsJSONjBGMf2weSiBsL40/rBERyxwWeBscFmbGbBhfDOwSDIdsHPUybCeRz+wXK3FsLnaGTBYRMGwn0gBcIWTwjCQPEwwWPzucEXh3DBdoYRwmTYJMKe2CDCBQa5wbmsIMIxZK7BigsnwqHbG8I5AhbCzIscwhGnHsLLU8DB+gPTwb7p3sFWVevBKDvlwV93z8GDYs3B88bRwRAgv8HK9d7BWTvawRHP48FAo8rB/fkJwk3R7MEsweXBWBguwjifI8LhAObBH+4awrqlIsL6ECrCUv8vwmFrGcKgkyzCelAuwlRwpsFzpJ/By/nEwawSosH8o8bB2D7CwYML3MEpyKXBqOm5wUMA4cHqUcXB6AepwX78rsE=",
          "dtype": "f4"
         },
         "xaxis": "x",
         "y": {
          "bdata": "nb47QTkeg0GS7KJBBuh5QZ0KrEFXj6VBZnCmQb0PmUE6F21Bu+R3QY2jPEHU1yTB5LJxQQet6kE5+b5BlCTHQbSOwUFKWstBpXG3QX5ZeEFuzLtBbqJtQayXyEELrqlBSlCDQehWrkHOrTbAkwUZQbY8AEHcPR7BOm95wAYWcEEAYSbBJLMJQVzaFEGsNNG/No3hwBW6Yb96n17BeTECQpHbgUFzXptBOtOwQRMig0GImYzCyKKkQeMsgUHu8HtBH76UQZvrlEFIloZBiRubQRSTlcIbvYvCAZCIwjChisKNqIbCNy2MwpYyisKhg4bCwnWHwjMfiMIRuIjCxBcyweCbmcJRC87ApdRDwVjGR8GMKoNAv22CQGtxCT8MEG1AkjOKP/85XUCiz2fBtGleQHBQgEByI+w/cooEwKQmVz/1EBk+GKsDwGou5MAkx4fCADiDv2j5I8GhK2rAGnw7wVjpEsEqPgbAznl5P3tQisI0b4rC4GOIwtb0l8K+LZHCFpKPwmMzl8Kj3ZLC1TuKwkvRksKi4ZXCHs6WwlFGjsLsw3O/TLJbwEmcmMAw6onAqjElwVhDZEA/xo7AhnI+wdf6kcBo2YLAodJmv71NXsEg2inBRv2gQZ1VpkFpm5lByRDpvw6tnEFz0g3BULdDwbOHEMCUVZ1BV7RAwYPUQ8FwI2nB26+sQU6Z50FXKJxBQm/JQeDxEsHx3W7AFwqxQQKsZMA9T6pBrZZRPwoE27+8s9zAT1EvwcwIK8G9JO1BOB32QV/3u0GP3e1BbivxQetsAEK3XAJC1o0FQmxQ7EFaCLxBUy/0QW9z8kHN+wVCyuz2wE8RTMGjmWvBJoaHwFT4J8FKdWzBHN8GwZVGHcEQvgLBQO6awDBdksCAN2zAbD6IwHrNPsGIU0RAW2oywWXXNMGxO9zA6CgkwbsgqMAZeTPAAxjvvE3AcMAmeQnB0hsQwDywIsA=",
          "dtype": "f4"
         },
         "yaxis": "y"
        },
        {
         "hovertemplate": "label=2<br>TSNE1=%{x}<br>TSNE2=%{y}<extra></extra>",
         "legendgroup": "2",
         "marker": {
          "color": "#00cc96",
          "symbol": "circle"
         },
         "mode": "markers",
         "name": "2",
         "showlegend": true,
         "type": "scattergl",
         "x": {
          "bdata": "qpoKQHaDPUJT4jRCPQV/QG7gTT+8PBQ/liIHQA0dSz8ZD7q8il99Qo1JLkIufnNAvRaEQMW8ikIT5SVCbtoQQuEzCkLZ0ShCBV18QkcoC0KPiRBCQS8uQiQ0LEJx1H1CUumLQr6xCUKVflJCHkBUQpUfjkJ+bZBCCoUzQgj0U0IM8INCL51TQrG/j0JcgTRCWXZQQrQWkEI8uIZC0DM3QjDFQkJDQmlCEtg5QuDmZEKTwGBC31lEQvvROUJHf2xCbCt3QvRdbUKV6GtCX8GpwkKKE0IM0JhB8pUrQrlxBcG6gCNC6mwdQuyLI0JWATRCX5xVQlqELEKHayFCv25VQhDKH0JyHx5CC5QKQniKI0L/+AdCnF4KQpaVAUI06QFC1ZMJQo1TCkLKXJhC5mEbQlgyGUJmnh5CGReHQiZVh0LqUJdCV88rQl/Wl0JeI5dC2XyEQuDomUIR2JdCAQQGQgD+mUIRRzdCT8sdQu8oikJnwJZCAe6AQtDkf0JGtjhC77caQuMQHULAIDlCFpyQQmIcMkL/ZRZCBI6JQr2dfULgNTBCFz8WQoXsEEJJoBhC9rFCQi3xBUKuJyBCBN6JQjnnMEIzzTtCzEWHQlecHUJoiSlCqO1TQlnCIUJpHJVC7MpTQjLwgkJO/wZCb8w3Qkigl0ISwpNCRe2jwFf2DUIHtj5CmFkOQqFvBELoXgBCh8Y+QhtbAULxKFZCHkD0QXwDF0LRCwxC1FIVQscyEUI7i3FCvnWJQkOgkEI56JJCMg5wQtt6kkIiZIVCoRSPQoCBkEIcI5hCrpSQQsRpVUIRk4VCB6AzQkdRQULwrkFCexPxQY0ZgEI/tPhB2T8eQu91UUI86IZC7u5LQjeYCkLdfmdCjGskQpBDI0KBmHtCRlyTQqLUl0J0rIlCctuUQp9AKkIUiCJC5WSTQghfa0J5a3hC",
          "dtype": "f4"
         },
         "xaxis": "x",
         "y": {
          "bdata": "We4Jwrz2N8Jd/y7CWQcPwnKbEcLP1xLC6CUKwpwmD8I2VBTC8Cv0wWBZHsLhARDCbKwPwvmw08HU0QDCm5EWwhHu8sG3yPbB5t8MwgGU+cGaSRfCVlb4wZX388HfZAvCY7vWweZG8cFX/djBxMTcwbQ4sMEYdbnB+wPjwcc44sG8qPHBMrrpwSqMscHduODBr8LWwZbXr8GOg/HBDbwwwtAJPsKj4h7CofdZwn1UFMJ2XRPCgTM8whKjMcJIpxLCNSAbwoIFEsINNBzCtEWgQX70PcJPBdXByLVjwhpKtUG5/mbCT5w9wsa1ZsIQ4mDCXSLVwQYqhMLevGnCamPnwYIRZsIDF8XB52Hfwfk208EplMzBGvnYwYbSw8HgRsTBXSrQwTdc5MGVaKjBSdPRwTHd0cEWQM7BLyTdwZ5K7sFQv7fBtLf1wWsD5cG737DBjbMZwpLmx8HE9OzBIdQewpqdyMH4OCdCVaDZwVNSzcEeQPfBNEi2wW1Tt8HBTl/CTTdCwtMmSsJ53F/CbwAHwi0HMcJWZ0PCt4EBwqJR9MHxpyLCR0lLwhH3RsIrUEbCeE4/wpK/TMJRCUvCT6YDwr8+JMJK92LCXLrjwTSGP8IHtcPB2Ij8wS+c0ME8M7HBht3zwRP7s8Eb7B7C9nzbwQDSr8HBZq7BZyu/QXcuRcJKCmbC4P8bwpbjS8I37kjClwNmwup3ScKkZwbCaHpCwukTTsI7L1HC77VGwtH4T8IN7RnCQZMXwiXtCcLrDRfCig4awkhzDcK5JBrCiqMNwtDkDcINovjBBqsTwpQhBcIBDBrCQJEqwlIlRML7/kLCrq9CwgMHt8Eli0DCfW6/wW2eg8JYBt7BCA87wj7GHsIkPxXC/akDws6bBcILyw3CXMcKwnHk9cFIYhnCZ6sZwqM0wsGfoevBFNcXwrE7HcJu8hzC",
          "dtype": "f4"
         },
         "yaxis": "y"
        },
        {
         "hovertemplate": "label=3<br>TSNE1=%{x}<br>TSNE2=%{y}<extra></extra>",
         "legendgroup": "3",
         "marker": {
          "color": "#ab63fa",
          "symbol": "circle"
         },
         "mode": "markers",
         "name": "3",
         "showlegend": true,
         "type": "scattergl",
         "x": {
          "bdata": "s7t2QulbhELfgD5ChhB6Qiyaa0LQ3ndC8/F3QtpvgULS1HhCDfN2Qpg6hEKoMIFCZodYQn+7ekKlvItCEr5zQi8FdELGu4tCNMR3QoI8QEJqBnxCWTN4Qud6ekIUynpCdeZzQnpsOkKI5XVCF02WQp3PgEKrspdCtAVlQgBIl0L07JVCAUaVQmL0lkKaZY9CQ9FnQrnOaEKRJ4NCv9hoQmQunkLlanVC0Z+TQpYxgELHPYBCSrNvQn1/cUK24GxCOg1xQvsBbUKJzTFC9/9gQpBgckKpDZdBS2WZQbSJiUEqyJZBk2urQYnSQ0IKDoFBRd2MQekJrUHv14pBf+GIQRj0mkEraZpBppWaQrjJnUJWk5hC2OaUQl4SoUJpgJ1C1C6iQntklEKcyp1CMw6hQqZZT0I0Mk9CPpuaQhQXUkIu3nZCiyt0QsrAakKy3WlCdFtoQo5yTkJD1FBChPiAQlgEZkK7UnVCPB9zQgBfYEJDCoxC2liHQkV8gULH9YRCy3yJQs3ThkLPZY5CrTqQQlX+j0IwiotCF3yTQt+MhkLEJJBCDU6EQnf3hUKqFYhCoWGIQkjX/cBT5olCP2mUQvhxnUJyXZ5CQlmeQj36N0KBX59CPMmdQqx2lUILYopCU+OhQs+JRkKnRKJCULBpQhn6QUJD0IVC0VmEQuLJXkLBWFzADi6BQibohEIlAIZC7biJQgFugkKDwo5CUiFgQpL7oELNVqRCiVOQQiCdjkLHemxC782UQhVOoEJYz5VCo8hzQrT4f0Lo0GRCRbt7QnC7ZEIEoYhCQOqAQswihUJchn1C5/yTQshOekK/lYhCsZt7Qn06ZkLJjpVCk05tQnCJVkKAeFNCHPNWQtB0ecG2NQbACAl0QolHZkKZbHZCHqNgQrtnYkLEKUNC4adQQptWQ0L3YUZCieNLQlN4S0IcL0JCKZtPQmwTUEI+RFNCQHSUQkAyQ0KckX5C",
          "dtype": "f4"
         },
         "xaxis": "x",
         "y": {
          "bdata": "kWGyQUUHTUKqFSlCCDAYQm2HMUJJuBhC4CkcQu6wUUKPn1NC1PsdQq+rW0IdO1JCvJFeQipJV0KUR1RChG1XQhAKPkJDLVRChxNOQgOgKkIEcUdC4NxSQrGuIULIRUlCcPBUQo7xKUJZC69Bg+oGQliWykGppAlCVaW8QebKDkLAa91B8rzkQaycB0Ioo+RBnNnPQYWKzkGS/MxB1Ng+Qg+1EkLhzIFB7aonQXhlR0EQ4UNBITWRQV7tnUFqtYxBWeeMQdemikHITKVBmqbIQX/ae0HUHBTCV4kLwg7uCMKG0xLCC4sewhtwIkJzkgzCO2oPwt1jH8Lw8xPC/s4LwmzrDcKmsg3C0GkHQv6PA0LVswNCvG8WQpQGCUKOe/tBNsUAQuyD6EFabf5BzlT8Qfad0kFWVNJB8LL1Qf/s2EE2BNJB3brVQf5+AkJ1XQNCtVIEQvtTNUL6vjdCGSzyQbcQ1kHtIRJCMGINQmSIHkLbwmVBAW4yQTZihUEOlCtB2OlhQXndM0FCn2BBa8kNQdGRW0G6CGdBtmcnQa9JQUGBkA1BPFLOQW3TzkEWfeRB6gHnQZahtkEmCfxBlPu+QWDPtUESAqtBeHypQRA3LULqSqZB1z64QT+Yt0F/UvdB7SeeQXEVXEIcEp1B0W4+QjlgJUIm+klC93NbQqnGKELFs8JBR1ryQXV3XEJPek9C7Iz/QXw3ikEmM9RBU3khQspgC0J5cv1BC+jJQTrX10FwmzlCXiDMQY66CEIj5LVB0DynQTdGfEHXStZByCrtQZOTu0H+lrBBaWp+QW3NcUGXE8lBIk7jQU2U7UGox7FBA1jMQR5pJUI6khRCjbI4Qu2BW0Ir905CxnVcQt0InkICH/Y/3Sg4Qh6tJULPlTVCN5MjQn3+JELGK/VBMQ1LQj4u/0HG81tCiFJFQpmpRUK+eu1BW3FJQgDpP0JsiTlC30YDQmlY+UEmAEVC",
          "dtype": "f4"
         },
         "yaxis": "y"
        },
        {
         "hovertemplate": "label=4<br>TSNE1=%{x}<br>TSNE2=%{y}<extra></extra>",
         "legendgroup": "4",
         "marker": {
          "color": "#FFA15A",
          "symbol": "circle"
         },
         "mode": "markers",
         "name": "4",
         "showlegend": true,
         "type": "scattergl",
         "x": {
          "bdata": "vpmFwkOVg8I+J4rCcJmCwizNi8ICtmrC6c4/wRRaisJfEIrCRHqKwtf8asKC5mDC4XKCwoSodMKhUYLCDNuDwlbshsICMpLCM3iVwjzGhcLRk4XCZ3mVwhDihsJffYfCsXKCwmX7asIjnGbCkwJ3wvXtfsIFl3DCVkRxwt4gZ8K1NJjC049UwijWmMJymH3CHKlywn6QgsJnNZXCPqaYwhxhlMJafI7CaOeWwhyfkcKoTorCdQuXwvIej8K6JYzCmN6Rwhxhi8IYTZXC9iKRwhuzhsIkh6LC4cGSwlzqk8LeC4fC4quRwgT3lMLORpTC4jWlwmJrf8JuQJHCbduTwk5XgsLdbIDCSqWIwjDhd8JNbXjCNjqCwjhtgcKfx5PCFm0MwcdxqMKwDFbCZBWlwm3RDMHRoaPCW8+fwkySt8JjJJ/C16SYwh+9ocJCEZ3CdqO1wucBssIyzKHCsESfwuSQuML71rjC+jedws+gtsIMpp7C8G1YwmXpnsJbrZ7CPU+zwqnjTsK+BlzCNnKdwuXkVMKXVEvC+A1QwnU5UcLXsVXC5n9ZwjqSVcLbi1XCFsA9wW1SWMIfvlbCCjp9wkxGe8Lke1XCwMh+wmLFV8IrG4HCyRqcwriejMKeH53CPRWXwqmrgMIk2oPCMHeEwuRimMJKP6DC+F1awrX6jMJs9orCFaCywt4KtMJ7OLXC3qmwwuaescIYN6LCLFWjwkPCscKUtYPCxYKSwi/8kcLCdZDCHd2iwgraj8LmDKDC9tiWwhmwlsKuzKDCcxiXwodlncIc6pbCEMeVwoxwncIq0IbCqomewh8ImcK5u2fCjN1qwitef8IIx3rCL7B/wg+rAcGQqQLBYy12wgKhZ8Kgn2jC1DuAwgbi9sBW+3rCQ7SCwimhgMLsZoHCaoM4wnPzWMLBW7nCDVu5wiXhmcKsGIvCJCSFwt4QucJm5pvCcxGfwg==",
          "dtype": "f4"
         },
         "xaxis": "x",
         "y": {
          "bdata": "JT8vwDuJHEGhD7DAORsLQZ7lnECbnTxBezipQRTQe8BAeH7AizSVQaP4SkHgEItBAdUDQcR+HsGRnYXBngFRwRzXhMGcIFHBUH2GwZqBgMGBtXrBnpyFwZmvVcEf8FDBQTCFwfeNVkGmLY5BeC2kQWASlkAOEZpBOu+lQfYbj0FIKBJBs2X3QWp1/UDbGaVAvuecQcjYAUHvHHTBW6oswSrlO8HdNB/BUtE0weM+QsHbpcPA0PQ1wVKgJcHelNrAbGw+wTXxy8DV/XfB6+XaQQl+2kH6CJpBh9OzQauZpkGu7dpB9nbbQfglukGH6sVBjYSgQXLJkkEwK+BBwvrNQWogSMGV4k7B8M71wE8jF8Gv1BLBFlZCwUTFR8FWQctB0Ht8QnOTn0FI3DFCkzulQewgfEJcK35BrjVeQStAhUGxrDJBC3OJQcbsdEEPZYNAheaMQZAAhEAVrnhBAX1AQae/fEFgAnZBr7HDP9knikEwXcy/vYEIQsHXCsAMxtW/BUySQXJcF0JCpRJCoep5P60vE0J4X0xCxksSQtMCEkK26C5CPP3/QXUPLkJpcANCpHUHQnd//kHCQ/dBxFQ8QSaStkCZ0gdCcgY6QWrg70FB8hhB4NxdQN4VmUHI2M4/E8utQHx7OEFevqJA1wnSQJgFD0G40uVAmaALQs5poEBzL5ZBfM0+QFySNkBjVTZAydQIQGn4GEAH5uJAwmXiQF0MD0CCc9xA4aueQIW1n0CmaqBAey3iQEzq3UHrAZtBOQKsQZxahUGOcJ1BiYWPQSOmkkGO169BW3WoQUVPlEHYqdpBiPicQTqYh0HDU3xB+WpYQUrYykHDgJVBNnDLQRLPSEFUykZBZsKWQZ6ifkFu8G1BtcTMQbodT0FFmJVB3FpCwFRcf0B7K4BAU6pFQv+TEkKiFltB2S9bQXIOoEC9GwLAlYcuwMnZbEGaG35Ahwo0QQ==",
          "dtype": "f4"
         },
         "yaxis": "y"
        },
        {
         "hovertemplate": "label=5<br>TSNE1=%{x}<br>TSNE2=%{y}<extra></extra>",
         "legendgroup": "5",
         "marker": {
          "color": "#19d3f3",
          "symbol": "circle"
         },
         "mode": "markers",
         "name": "5",
         "showlegend": true,
         "type": "scattergl",
         "x": {
          "bdata": "zAA9QrrGt0E8zFVBZVMlQcgAvkE924BBXnt9QS9DNUG3RJ5BS5CNQaydoUGK/ZRBFwegQaYdnEFuyadB4qCxQSgCqkFlwodBmISLQa7/rEFuv5ZBwvukQfDUjEExOoJBa56rQaJBq0Em4utBKNSxQfBkf0HM3upBf+O+QL4lp0CN9u5Beb9UwBbQ6kFU2rFBXKsnQd77sUCFhXtB42n3QdUW6UHUF+tBQwz4QXuJ3EFC0ABCtg/yQb257UG4f+FBmOTeQTVM20FtpxlBRp/yQVt9nkG4I4dB7GiDQfhmG0FmAaFB1IygQaf1g0EftoNB6+WhQSjUlUG+RYNBahPaQa0CZUEUvb5ByERKQSTVRUHhPb9B01LdQCBMKUEXFBhBBVG6Qfv7ukFfws9BnTwFQTHygEAwurRBiBDBQaIQgEGnCohBUpetQQQkC0EVd8BByEkcQRNRo0F+s49BVcraQfi2jkH778hBHBaGQfnYikGdi79BPVXgQTVtyUGIBsBBt3K/QavMu0G39b9B0ZjGQWkMNEHW1tJBuQ3SQdkfTUE/GbVAM/PUQHWb6kEkJBlBNF5oQDUyGUGgBSNBBymWQfm74EDppohBd+iRQSjMnkCOppBBBNnMQJ7iz0EJEaFBi0MDQT4ezUEb279BSCO4QS+qJEFde/hA+h14QbBChUFcR7ZB1GOMQWhK2kGJnz1BLh2uQcb6MUHVw6dBVUQxQVF9tUHpwq1B/Bs+waSrhUHPuo1BQSSuQW+AR0Fkh3ZBP4feQU+EpkBIYN1BXelOQdUk5EET4pdBVgDoQdxbgEFNu5dBvjjgQYuThEE0X31BsS2TQKRbZEB5AohACnHNPpXJhEGyTF5AIuekQdvumUCEz4lBs3ckQPt7nkHoT1tAXuNaQD0QrUGEpLZBzMuoQaRuvEH33eZBHCE8QQGVsUGdvqRBgmqpQTWor0HchbxBGeykQcRuuUE=",
          "dtype": "f4"
         },
         "xaxis": "x",
         "y": {
          "bdata": "4ogQQXbMhELr2GxCalMcQj3yhUKHJXJCWnlxQqokHkJwBlNCxjZOQlqJRkJjlIZC/KRUQvsYjUL+LIRC4UyVQpFHhUJei5ZCoR6FQkUThkJ1aotCaCKSQqrlhEJ29oFCC0+MQuogjEJijBBCrE1vQhBdCkLuMBRCLbf+QbAv5kFRSRpCISTIQQ93FUL8pghCMHMIQrRS/EGbzI1CVetEQporS0JdnUpCCmhCQmvqSkIwd0NCaKBLQpbWIELyD0pC3WlsQpxhaUK5u1tClKlNQq/BEEKcUdVBGxXtQR+bGkKtVuRB8ePlQSEC7UFIXwJC2JrtQRPVuUEtcgNCHPgeQhzC5UFL0yhCZA5qQpsfaUJ+xitCacRPQg9UZEKLbVxCo6Y1QiCFNEJzKghCJHJdQn4FSkL5AZZCKdh5Qj+7ikIlyYpC9jBuQpy8WEJ0cnZCcNdYQrSabELI53ZCQx9pQsaNikIlXHRCoNOKQvSJA0KPsb9BX7ieQTCmwkHDvtxBKfq1QcHXsUErrttBjXbEQaquCEL0BLhBVeu3QZhY7EETnzRCQ4wuQnF+HEIeejtCCCA7QuqZO0KlVQlCVCErQnOCT0KeH1JCU+IpQprcNUJzIipC+kMBQi8VCEKkjI9CnrkGQuf0ckL983tCz0k2Qi8OYkLKxQVCfWaPQiPUgkKsWZZCpTCVQhHn5kG26vRBr+9AQitoAkKXEURCqyYiQrxWQ0Ii5T1CWuZ3wg/ESUKFsk1CF+U5QktyHUIFU+tB+K3fQQmU5UHdEeFBxdnsQXl53kErK71BuRjdQXoay0HiP7xBQPGeQaXSz0EJ7wVCoz5PQhhESkJoWTdCj1AyQiMbl0LJlk5CrnCSQgnhTEJ+10pCAnk3QpL8akJvWUhC9u44Qo45EEL5TxZC5u0cQlVwF0Ie8htCP+4dQlHfFkLJKhBC9LwcQhYVCkJsSw9CQL8eQjzQCkI=",
          "dtype": "f4"
         },
         "yaxis": "y"
        },
        {
         "hovertemplate": "label=6<br>TSNE1=%{x}<br>TSNE2=%{y}<extra></extra>",
         "legendgroup": "6",
         "marker": {
          "color": "#FF6692",
          "symbol": "circle"
         },
         "mode": "markers",
         "name": "6",
         "showlegend": true,
         "type": "scattergl",
         "x": {
          "bdata": "IEIJQPnVFUEsnEe/KAANQRRD8r9I3QdB43dXQbZmBT9M93o/pyU9QLImAb3AXyA/j/7WQEgp2sCIA9tAVyRHQHshAMCiJjfArnravxovNMBwQNm/AI+3uRG3A0FOjk2/u14uwWTtLsEZmYa+SYkDwKvtAUG5r0zBT5hcQLF8VUDW/nxBuIX0QPQvGsE3MgdByvLXvrIHekDYZZo/OhbNP6y6l0Ar4A5A6jZKwVofqECfytS9NB6wQNg2IcAO3dpAIDDYQDmVH0Aq5CTBT7m1wO8sOsF4FdXACGzswG6jH8HoyyvBkGfMwA2APMGKQizBYYEgweM4wsBp3bDAHv8VwSSpBkHFlrRA5ua2QO+B0r9J+YQ/OycnwXP3OkFPcr7AXnurQOcCYEEfdRPB3w93QZ9EeEFTrJ/Bbf+fwRM7fUCHBofBiblnQBXeFkD0H4jBWB+gwZL4tL/xDTFAIIZgwZahDEEorSzAVBedwHiIkcCvA0rBGh8iwa/cmcAw2DDBhGYowe8xv8DWqMHAcYNaQf5sDMGQ8x7BsyhbwYdgCcErWW/BV4YZwYutCkFuuCPAhY8KQTg3S0EQlpRB0dtlQVgJY0H5inNBGTxCv6fTHMHMMFXBrh3GwAgbXEEm/5VBkUioQbTNRkE/xRy/UxNLv763HkH4NUFBF1+AQWbJPT+1mJxBk8uuQQ1RhEH0trhBTwyzQdVZj0A8ioJAghNRQOFXrkBOEDVB9hC5QcU8J0GYx1dBhgupQXraYMFD+WPBTR1cwaIdO8H070HBHvEWwZNrmcAsNxHBve5dwXpjXcHFbVzBaupbwbi2CEH6+l1BOhlDQcLW50CgdsNAMpBMQUj9KkGjCRFBZpM6QYAnSkGomB5BhGmCQToVBEGZVAhA/VuzwAJuxb/qornAo0a/wEW4pr8acca/b8m3wJllNr/oT9e/mtuzv4jur8DwNG5A410GwQ==",
          "dtype": "f4"
         },
         "xaxis": "x",
         "y": {
          "bdata": "2/tKwpCxWcJxt03CtsdNwlKSU8LQqozCdnamwrhHrMJ9Dk/CtC5Owsu/QcIPTEPClY9Cwt/8k8J8PHbC2U9RwsV9qMJ5dJbCWT5fwgR4lsJzi6HCepaswmFxVcJTdorC62edwqeLocI1uZ7Cj8GowkXYkMJ8S6DCq8KZwovpmcIm35zCm8pWwoNMpsK/YJDC6wOfwlmxmMJ/NYbC/VKHwk1sg8Ij24fC6Y2Bwor9gsJbPInChNuCwpmzYcIcL3nCVrN+woPqgcKLoFHCCqZjwmZrfcLF723Crc1gwtv/V8LIAGrCjV5lwshee8K4OWrCRAhXwvLeZcLNuWHCwE9bwoAsosI2+KLCr9iiwg5XpMK066vCY8+jwv8mmMIkOqvCxBCjwv2LpcJflaXCPRKOwobpjcIf7pbC7KCYwsMWecKAH57C8NJowroagsKLM57ClMiWwrdZj8JzkXXC+oKPwnyCTMLF76DCBy+gwtREq8IMpqTCi/yEwp9doMJRHILCz2CHwgdLn8IjWZ/Cm+iQwjKKg8Ln4aLC7NOZwrkopsIQfZ7CEdqEwj70VsIK3GTCHC+iwhNRlMJZc6fCzPqmwjIPpMIxWJ3CW0tJwiTwncJi16TCoftbwn/zkMIqdqfCKwSjwnTalMLxkm3CGlNtwjEAksKoY5TCSlybwnX4bsKKfqfCbWKnwirUmcLxKKnCwFmowhocdMJJz3TC1G10wvRWc8JvFHHCHTOpwpFrdMJ8FXHCHlyjwic+nsJvmJ7C90uiwgiXgMJtp5vCQG2iwtZfq8K1q5XCpFmawuMsk8LVupDCjXuRwtqojcJbUmnC+ndmwmerQ8LcX2/Cl21swk10asL4y0jC5/lswmAPbMLZqEnCmuSdwl11RsJ0e0fC2wuPwp1qjMI1hJDCbK2Swu7Yi8JC10fCBEuTwuGMrcJVflHCDn1bwolnW8JEFUzCAu+Uwg==",
          "dtype": "f4"
         },
         "yaxis": "y"
        },
        {
         "hovertemplate": "label=7<br>TSNE1=%{x}<br>TSNE2=%{y}<extra></extra>",
         "legendgroup": "7",
         "marker": {
          "color": "#B6E880",
          "symbol": "circle"
         },
         "mode": "markers",
         "name": "7",
         "showlegend": true,
         "type": "scattergl",
         "x": {
          "bdata": "pngJwNEXtcETp7XB3QafwddCWMAOPrfByt6pwfwh8sDi49vBYf+7wWa3oMHXuLDBzzOUwTOKQ8GNw0PBNOiDwYg9o8GTNe3Bx7M/wcIu0MBU7n1AfX3zwJNmiMEAfVHBjS0AwQO1QMLZgRjBonJBwnhKE8GKRPPBY4uiwTnBRMI1ccjBV0DJwaFxF8ECFIzBvIDHwYQc4sEYSTXCsq46wr4RQ8KN2TjC4R4xwqcXNsKOe0fCymQ9wpusK8KyXSDBFQ9FwnVFOcLP/CvCdFJsQFa30sCC6aLBob6nwSSv6sAlL8O/NbTGwWZzCMH3GOHA4HAhwacTG8Fi/t2/9TbawKJc1sAc+cnBxyxPwgLwPcJRma3BE3iXwf4RmMELCqLBQkNOwlIAo8E+HqTB50mnwTyQGcFTAszBeM01waEtQcF9MebAhfjLwUgZ8cCuBVXBOe9iwUNxmsH7QADBt7JUwfiKXsHPie8/Ppr6wY8kD8LA1QjCwY0Lwn3LCMKRdg3CsmoNwgZR9MENSQ7C3hRAwu9ACcJPHvbBoVz7wduACcIqo6PBSawUwvYkwcG1QhXCURg1wh5X0sBnsjTCbtcGwlKCOMKYDuvAsS44ws0Al78DP5rBpwXDwUTi/D7vur+/tnAVwWAOFsAFD5s+uDrcvxlXJcEI2Ou+EtCPwTuVkcHpkURAocbJweCEmMEYZ8rB3TktwTePmMEPXC0/vJCtvGgO6MAsQbLBm6CuwfP4kcHgDiTBElsAwt0dAcLdaQPCJBnmwXal48GQUwnCW3H0wRyi28HdHc3BrVrjweGC/8FMvPjBYG7/weIKRkB/HkFAitUOweNxhD4GfbbAajJjPXWpPsGqk5W/x2NFQDUdA8GzA1DBOG94QayRtsCDr7jBUzfMwGFPEcJEGZ/BdaN8wfYZlMGmJ4PBUl+DwV4bLsFSxbc/jrOZweVwXsE=",
          "dtype": "f4"
         },
         "xaxis": "x",
         "y": {
          "bdata": "SoqMQutQl0JY12dCYq2TQmKGikLHw21CuImVQl46h0LYZW5CDa+ZQroElELQTJtCmBeBQqMipEIQSaRCgBiwQlNcaUJICnpChZuaQiwzrkL55JxCxFWsQu4kakLUFLBC2UitQr7wZUILHZtC3UtkQu5gnUKQW3VCPlFiQkxMXUKfVJVCkqiXQsXeo0JNha9CJKiXQttbcEIPVE1CcPRSQmXCVkJrn0xCTcheQuxfTUJLhVdCEuRLQpziXkKPsxZC1hNYQoFqUkKxzV5CT0ydQsG7jUL7HmVC+liZQpYDjEKzGJJCe11bQh6Yk0LcYIlCc1WdQlIlk0KK0JtCSAmNQl4SkEKRMFtCJa9MQkmWI0LwP0xCyzlfQgnFW0IIOVtCoHxMQswMVEIDHlNCrnJQQg+YkELpLJFCci2ZQihbn0LF7qVCvXqPQoVRq0KlsJ5C/DCfQmhMdUJP96dCP0ibQr2RnkI3Ep1CL8eFQtIOkULdU3xCskWPQuWBckLVDpBCqkB+QpVUikIvRH9CCydmQiegjELF9IdC9X+LQrRAjEJwf4BC1ZqJQvAUm0LSeIlCNdh9QhqXnEJFmH5CGaWQQiVKd0LZGJ1CEO53QnHvkEJJuX1CxZJbQq49kkIJHI9CWaqTQlSCkkJbDZJCTK+bQtvAlkKi1pNCLC9pQp13bUIcw6VC+ZeNQmhsiULv+otCGquOQvB2iUKQBo5C5AGPQh4YpkK2dZhCHDidQkLFX0Kbg49Cu8R5QhwMdEIh+HdC9xqLQlksjkJPyG1CEYB2QnhGi0IVg5BCE4eLQra3f0It+XRCVI9+Qu8MokI2CZ5CUp2eQl69p0LQC69CYOinQlerr0KOxKhCUuWlQlcEhkJVLLBCvT+ZQj1riEJQ725CvYiIQqtsgEKdL2JCTZKrQpN0rkKN/q9C1IusQkU+k0JBlpxCss98Qjvzr0I=",
          "dtype": "f4"
         },
         "yaxis": "y"
        },
        {
         "hovertemplate": "label=8<br>TSNE1=%{x}<br>TSNE2=%{y}<extra></extra>",
         "legendgroup": "8",
         "marker": {
          "color": "#FF97FF",
          "symbol": "circle"
         },
         "mode": "markers",
         "name": "8",
         "showlegend": true,
         "type": "scattergl",
         "x": {
          "bdata": "rCGwwHAPl8BPXtvAMEPfv6Zgi78648vALHU6wG2kIsEvwerAQ+SNwCpI9sBBPq/AqJ0Awskju0Cr8znAuyImwYsovkB/01rB8FnVwD/JWsE67zLB6G8WwW8w8sCj7+jA/OAwwQQW68AbNUtBZZMBP1eABD467wxBgh76QIp1U0GiCAZBDaOfQFq600BROtFAnhv7QG+CqD54D3RBPvdYwBkwmUEOF6Q9D8MtQYCwgUEhNEpB2YMhvZv8HEFvyhxBABoAvtkVVkEz6TJBoj1bwfpU+cBk3tDA36Jmwf7v4sD/kb/AXejhwKgm68C/eXHBOmRfwTuFAMFcOfDA5WNlwarShr/OH21ADcx3v2EzFUBxYBVAVNolQPWvMEEpYiDAjvxxwDiNEEHU9rW/CEq8v7JKjT6ddolBa2uhwe92/8DaQGtBy/ChQYAqpEFYJdnAjsSLQSCVvUHNz7tBv0hnQuuJwkEKU4hBEXSdQGbNtED4oIhAIai2QOKoJ0GgJcJA98cRQWW8c0H5eYJAkWVZQSLdwkDmY7O/AlyNwKkWFUG+mCJB01HSwFn7jcBI7RxBH1MXQVLPW7+QTjxBzPgSQMbgD0HIiRJBl1BbwDrlHsHWFADBTCUPQBlTn7+hlAjBJNXsP3IfhMBqlOjA07kRwf1QRr9f+tDAwxSTwFU5OcDVC6XA3ot5wFAxu8CavNPANdArwKSHNcDSwYzA0s/dv1hIxcAovuS/vEd9wGD1akFzN11Bm7RlQZyMj0FctnlBhKSpQRYphEHGZoBBeZabQbgwnUED+ZtBZJCbQaFLlUGQP5rBCjB/wYr6Y8EiW0rB8BZ5v0JoNsFWTFXBaRhLwVdMPMF8HCZAwKupQK/NL0BfZgjAsFSmQC+OID/aH7hAxp56wcAVBkFQBYDBgPuBwa90i8CFCgdB",
          "dtype": "f4"
         },
         "xaxis": "x",
         "y": {
          "bdata": "M/OQwQlI6L/NYLDAEDZewGubeT0chOjAfTAWwa6ooT7osCXBRNvPPkJBj8F7yuC/GOZgwdqagcDDaGjBOYl3wUn3gsBLYBLBgD+MwX4VEsHHVaXBrBxzwdQmfcGKZIzBhgOkwbQsOMH0BqnBoGUTQYYyC0HFklpAElZowTLuncEgCpXBIEq/wKepjsG1e7PBOzBowcqEDkEaPVHB/l8iwBxXOcE2wHvBDf8gwZ0zhcHw/CfB0Nyywfdpl8HPwQ3B3zx/wba6ZMFN/x/B8ZXkwUTg6MFRc+vBqlTiwchm8cEhgPbBIkn8weEj8sHYzd7B8RzowTif+MGZA/nBldLiweLdsMFjMljB4uaxwXYgNsFH5jXB/gk+waIAocGNPkrBMVaWwJcNksH8FwnBITa2wYbyJsHb9c/BPiOlQcs2GcFSVrLBwtyOwfF8jsHsEUzBsAjSweYgc8Hz9nLBGO+MQUdBc8FMmtTBPW6cwUoNq8GBnavBCLefwWXOLMFAbazBrNCMwTTxnMFz9KzBuY6mwS0mnMEpJCtBPHGXQF9y4kBGUaZADsV/wcn/l0Bej5FAzhiGQDR7L0ECu1BA+x7TP3Fm/EChsO5AnuXDQb197b34dKs8gFM8QVNjR8A1wiRBsIY3QarkAkCwxbhBTaOcPkoxE7/1gI4/79biP32hLcGoK79BQPCBwIWgt8AkfzLB9CYqwbjfY8Fw6pU/IJHUPgM6MMGC/xfB+xMgwJoMoMGU8aXB53+vwQxnRsFMlFzB7L+QwdB/eMFj2mTBE1JzwY4OasEX8VbB86d2wdRwRcGQcLdA6OdWQF/sn8HaTqLBB2MgwQ/vmMFi5J/BfTiOwafskMEVCRw/RIAfQcDysD43c6fBsS4gQXnBKkFW103ACi+ZwFJdDsCVCFvAHOd5wN8ocMGV9gzA",
          "dtype": "f4"
         },
         "yaxis": "y"
        },
        {
         "hovertemplate": "label=9<br>TSNE1=%{x}<br>TSNE2=%{y}<extra></extra>",
         "legendgroup": "9",
         "marker": {
          "color": "#FECB52",
          "symbol": "circle"
         },
         "mode": "markers",
         "name": "9",
         "showlegend": true,
         "type": "scattergl",
         "x": {
          "bdata": "7jtCQvkQJEI8ECVCdAojQiJ6MUIG5gdC5rsHwbt1NUIkNCtC0dJOQuYuVkJPlNFBN4dMQiehR0ImJjVCwrFBQs4vQUKLKF9CZCFKQk8NQEKtExRCUqcVQtG2P0IJXHJC7KQDQotJGsF9Xz3BXCggQmEMWUI0HbdBusDaQZ6GPsFPCj3BuxcnwdqZQMEjcxTCVMEXwuhRJcFrt01CjYplQn71ZUKP8W5CBmduQij58UFtl/RBrxhuQkUE7kHsNG5CdGntQWkKPEKHNu5BrU+jQQ0UGUJVHbBBmSmYQG8YRkIqRqhB6MIaQkDHwEH2TKZBOsSoQWBEGkKqYDtCiBFqQiJFOcJjFx3ClxgXwnmzHcLSugzCFk4bwgYPGMLXzxfC6xAZwpc2I8IShCXCpJo4wgJbDcIE4EtC5TBEQo8ZakLENE1CTPelQfGyOUKf8GtCEOIFQvEVSEIo9F9C7ztCQpn1QUJAQk9CQwH2QbdG40EIYfBBN5MeQgtCE0IELBVCS7j4QVSX9UGTMRNCU2ToQQaRHkJL0rFBzlzkQfG5l0Jn7w1CG7kHQigRq0G06w9CWReuQQiyC0LKt+c9kaYSQhEU20FpnC1CZ+sVQuqe1EEFGXZCcJ+rQamEdEK4hdBBAqwbQsVvyUEwYDdCZskbQnlPxUEJYBxCursaQmcMKEIfrbZB5pHaQU5j3EFVX9RBG7ATQqgGEkI5wLdBQClaQhWuJkJtyixCY54RQsvREUIKbBxCG3IWQompJ0J16xVCfMcIQm00JEIjZghCVLMTQvzcC0LhhSNCfwcQQl1nAkKQZSRCuRMkQn7pF8ICuQzCklxKwkc0DMIOxE7BHJKYPtFYE8JfvFNCIOBFwb10UEJfi1tCbnh2PnfDSsHDEeZBG2gnQpMwTUK2Ly1CofYnQg4tJkLvMf1BO3ArQuLKAEIFYgBCZ2szQtrMNEKcQwNC",
          "dtype": "f4"
         },
         "xaxis": "x",
         "y": {
          "bdata": "/vEcQYowjkFCoI1BrbyOQf4SpUFgKDVATzIsQRjxC0FkHoi/f7vXQD3IeECU+k1BhTf9wB+2zkBHBu1Ae3XtQDcs00BoFLs/oHvLQPzHCkFVpum+DZLqvirg80AeQmvACqsOwQGSD0KFGgtC5V3bwGQ1NkBCnzFBF5MtQN1XFUJbcA1CzMgPQsUjEkIMYyZCz54jQtUOEULw0PHAxeY1Pt17jz5vwlnAYcfwwJit7b8CI/6/F372wOsdpcDyxfTAoGiywMkqSsCDD6TAkVQivzsPT8GWZR5AYZXJwFP0AMFrIz0/matKwfBLwL/9ntc7yFoRP2Vqx0D6cci/+GCKP8EIIkLTxRxCO8UcQuKeG0LefhxCmX8bQsGWG0JXzgxC5VYVQh6tH0KF5CBCadMhQoD+HELQSV1AMAAawfs3+j/nAg3BHNUbwjAjBsAmFZo/xMj/wAgLB8EacrM/7qONwAspjMBU8ubANpsIQSxjf0BOUN1AqOgSQWbOH0HmX9RAS3YEQUVk/0DTFB9B2l6XQMIbE0EkMEZA+pmHQJ2H5kGvw6FBOeenQSjsNUEPUaBBFbA0QTe9o0FGtzdBThOeQVHmUkFeggNA4IqbQdmuT0Fx7XXABgCpwrhQcsA0I8y/8OWqwIdYyb+dL+JATp9Wvl9cyb8lH4q/rin4vr212cDJeTFByZGaQDbf37/h69q/wOvwwOM198BbuoG/gm4mQPdD+D9O1OjAjuubwAaQm8AdDEbBfRSEQGLJyMBqlItAZhtjQB1M2sAtRlFAAYvMQJbCokA1c9LAWFGwQAqaZMDvNg3BwugDwZ17FEL/nStCrwpYQmOpK0KmghtCiOkxQuNPJ0IePWRA0NYVQr/x4UA7/iFCQxkyQkrJF0LTF1FAkPucP+ZGZUB1w8g+r7OFwIeujcCfOhTAncmKP8ZAR8AanZq/vNrnQDi/rL/rkRHB",
          "dtype": "f4"
         },
         "yaxis": "y"
        }
       ],
       "layout": {
        "legend": {
         "title": {
          "text": "label"
         },
         "tracegroupgap": 0
        },
        "template": {
         "data": {
          "bar": [
           {
            "error_x": {
             "color": "#2a3f5f"
            },
            "error_y": {
             "color": "#2a3f5f"
            },
            "marker": {
             "line": {
              "color": "#E5ECF6",
              "width": 0.5
             },
             "pattern": {
              "fillmode": "overlay",
              "size": 10,
              "solidity": 0.2
             }
            },
            "type": "bar"
           }
          ],
          "barpolar": [
           {
            "marker": {
             "line": {
              "color": "#E5ECF6",
              "width": 0.5
             },
             "pattern": {
              "fillmode": "overlay",
              "size": 10,
              "solidity": 0.2
             }
            },
            "type": "barpolar"
           }
          ],
          "carpet": [
           {
            "aaxis": {
             "endlinecolor": "#2a3f5f",
             "gridcolor": "white",
             "linecolor": "white",
             "minorgridcolor": "white",
             "startlinecolor": "#2a3f5f"
            },
            "baxis": {
             "endlinecolor": "#2a3f5f",
             "gridcolor": "white",
             "linecolor": "white",
             "minorgridcolor": "white",
             "startlinecolor": "#2a3f5f"
            },
            "type": "carpet"
           }
          ],
          "choropleth": [
           {
            "colorbar": {
             "outlinewidth": 0,
             "ticks": ""
            },
            "type": "choropleth"
           }
          ],
          "contour": [
           {
            "colorbar": {
             "outlinewidth": 0,
             "ticks": ""
            },
            "colorscale": [
             [
              0,
              "#0d0887"
             ],
             [
              0.1111111111111111,
              "#46039f"
             ],
             [
              0.2222222222222222,
              "#7201a8"
             ],
             [
              0.3333333333333333,
              "#9c179e"
             ],
             [
              0.4444444444444444,
              "#bd3786"
             ],
             [
              0.5555555555555556,
              "#d8576b"
             ],
             [
              0.6666666666666666,
              "#ed7953"
             ],
             [
              0.7777777777777778,
              "#fb9f3a"
             ],
             [
              0.8888888888888888,
              "#fdca26"
             ],
             [
              1,
              "#f0f921"
             ]
            ],
            "type": "contour"
           }
          ],
          "contourcarpet": [
           {
            "colorbar": {
             "outlinewidth": 0,
             "ticks": ""
            },
            "type": "contourcarpet"
           }
          ],
          "heatmap": [
           {
            "colorbar": {
             "outlinewidth": 0,
             "ticks": ""
            },
            "colorscale": [
             [
              0,
              "#0d0887"
             ],
             [
              0.1111111111111111,
              "#46039f"
             ],
             [
              0.2222222222222222,
              "#7201a8"
             ],
             [
              0.3333333333333333,
              "#9c179e"
             ],
             [
              0.4444444444444444,
              "#bd3786"
             ],
             [
              0.5555555555555556,
              "#d8576b"
             ],
             [
              0.6666666666666666,
              "#ed7953"
             ],
             [
              0.7777777777777778,
              "#fb9f3a"
             ],
             [
              0.8888888888888888,
              "#fdca26"
             ],
             [
              1,
              "#f0f921"
             ]
            ],
            "type": "heatmap"
           }
          ],
          "histogram": [
           {
            "marker": {
             "pattern": {
              "fillmode": "overlay",
              "size": 10,
              "solidity": 0.2
             }
            },
            "type": "histogram"
           }
          ],
          "histogram2d": [
           {
            "colorbar": {
             "outlinewidth": 0,
             "ticks": ""
            },
            "colorscale": [
             [
              0,
              "#0d0887"
             ],
             [
              0.1111111111111111,
              "#46039f"
             ],
             [
              0.2222222222222222,
              "#7201a8"
             ],
             [
              0.3333333333333333,
              "#9c179e"
             ],
             [
              0.4444444444444444,
              "#bd3786"
             ],
             [
              0.5555555555555556,
              "#d8576b"
             ],
             [
              0.6666666666666666,
              "#ed7953"
             ],
             [
              0.7777777777777778,
              "#fb9f3a"
             ],
             [
              0.8888888888888888,
              "#fdca26"
             ],
             [
              1,
              "#f0f921"
             ]
            ],
            "type": "histogram2d"
           }
          ],
          "histogram2dcontour": [
           {
            "colorbar": {
             "outlinewidth": 0,
             "ticks": ""
            },
            "colorscale": [
             [
              0,
              "#0d0887"
             ],
             [
              0.1111111111111111,
              "#46039f"
             ],
             [
              0.2222222222222222,
              "#7201a8"
             ],
             [
              0.3333333333333333,
              "#9c179e"
             ],
             [
              0.4444444444444444,
              "#bd3786"
             ],
             [
              0.5555555555555556,
              "#d8576b"
             ],
             [
              0.6666666666666666,
              "#ed7953"
             ],
             [
              0.7777777777777778,
              "#fb9f3a"
             ],
             [
              0.8888888888888888,
              "#fdca26"
             ],
             [
              1,
              "#f0f921"
             ]
            ],
            "type": "histogram2dcontour"
           }
          ],
          "mesh3d": [
           {
            "colorbar": {
             "outlinewidth": 0,
             "ticks": ""
            },
            "type": "mesh3d"
           }
          ],
          "parcoords": [
           {
            "line": {
             "colorbar": {
              "outlinewidth": 0,
              "ticks": ""
             }
            },
            "type": "parcoords"
           }
          ],
          "pie": [
           {
            "automargin": true,
            "type": "pie"
           }
          ],
          "scatter": [
           {
            "fillpattern": {
             "fillmode": "overlay",
             "size": 10,
             "solidity": 0.2
            },
            "type": "scatter"
           }
          ],
          "scatter3d": [
           {
            "line": {
             "colorbar": {
              "outlinewidth": 0,
              "ticks": ""
             }
            },
            "marker": {
             "colorbar": {
              "outlinewidth": 0,
              "ticks": ""
             }
            },
            "type": "scatter3d"
           }
          ],
          "scattercarpet": [
           {
            "marker": {
             "colorbar": {
              "outlinewidth": 0,
              "ticks": ""
             }
            },
            "type": "scattercarpet"
           }
          ],
          "scattergeo": [
           {
            "marker": {
             "colorbar": {
              "outlinewidth": 0,
              "ticks": ""
             }
            },
            "type": "scattergeo"
           }
          ],
          "scattergl": [
           {
            "marker": {
             "colorbar": {
              "outlinewidth": 0,
              "ticks": ""
             }
            },
            "type": "scattergl"
           }
          ],
          "scattermap": [
           {
            "marker": {
             "colorbar": {
              "outlinewidth": 0,
              "ticks": ""
             }
            },
            "type": "scattermap"
           }
          ],
          "scattermapbox": [
           {
            "marker": {
             "colorbar": {
              "outlinewidth": 0,
              "ticks": ""
             }
            },
            "type": "scattermapbox"
           }
          ],
          "scatterpolar": [
           {
            "marker": {
             "colorbar": {
              "outlinewidth": 0,
              "ticks": ""
             }
            },
            "type": "scatterpolar"
           }
          ],
          "scatterpolargl": [
           {
            "marker": {
             "colorbar": {
              "outlinewidth": 0,
              "ticks": ""
             }
            },
            "type": "scatterpolargl"
           }
          ],
          "scatterternary": [
           {
            "marker": {
             "colorbar": {
              "outlinewidth": 0,
              "ticks": ""
             }
            },
            "type": "scatterternary"
           }
          ],
          "surface": [
           {
            "colorbar": {
             "outlinewidth": 0,
             "ticks": ""
            },
            "colorscale": [
             [
              0,
              "#0d0887"
             ],
             [
              0.1111111111111111,
              "#46039f"
             ],
             [
              0.2222222222222222,
              "#7201a8"
             ],
             [
              0.3333333333333333,
              "#9c179e"
             ],
             [
              0.4444444444444444,
              "#bd3786"
             ],
             [
              0.5555555555555556,
              "#d8576b"
             ],
             [
              0.6666666666666666,
              "#ed7953"
             ],
             [
              0.7777777777777778,
              "#fb9f3a"
             ],
             [
              0.8888888888888888,
              "#fdca26"
             ],
             [
              1,
              "#f0f921"
             ]
            ],
            "type": "surface"
           }
          ],
          "table": [
           {
            "cells": {
             "fill": {
              "color": "#EBF0F8"
             },
             "line": {
              "color": "white"
             }
            },
            "header": {
             "fill": {
              "color": "#C8D4E3"
             },
             "line": {
              "color": "white"
             }
            },
            "type": "table"
           }
          ]
         },
         "layout": {
          "annotationdefaults": {
           "arrowcolor": "#2a3f5f",
           "arrowhead": 0,
           "arrowwidth": 1
          },
          "autotypenumbers": "strict",
          "coloraxis": {
           "colorbar": {
            "outlinewidth": 0,
            "ticks": ""
           }
          },
          "colorscale": {
           "diverging": [
            [
             0,
             "#8e0152"
            ],
            [
             0.1,
             "#c51b7d"
            ],
            [
             0.2,
             "#de77ae"
            ],
            [
             0.3,
             "#f1b6da"
            ],
            [
             0.4,
             "#fde0ef"
            ],
            [
             0.5,
             "#f7f7f7"
            ],
            [
             0.6,
             "#e6f5d0"
            ],
            [
             0.7,
             "#b8e186"
            ],
            [
             0.8,
             "#7fbc41"
            ],
            [
             0.9,
             "#4d9221"
            ],
            [
             1,
             "#276419"
            ]
           ],
           "sequential": [
            [
             0,
             "#0d0887"
            ],
            [
             0.1111111111111111,
             "#46039f"
            ],
            [
             0.2222222222222222,
             "#7201a8"
            ],
            [
             0.3333333333333333,
             "#9c179e"
            ],
            [
             0.4444444444444444,
             "#bd3786"
            ],
            [
             0.5555555555555556,
             "#d8576b"
            ],
            [
             0.6666666666666666,
             "#ed7953"
            ],
            [
             0.7777777777777778,
             "#fb9f3a"
            ],
            [
             0.8888888888888888,
             "#fdca26"
            ],
            [
             1,
             "#f0f921"
            ]
           ],
           "sequentialminus": [
            [
             0,
             "#0d0887"
            ],
            [
             0.1111111111111111,
             "#46039f"
            ],
            [
             0.2222222222222222,
             "#7201a8"
            ],
            [
             0.3333333333333333,
             "#9c179e"
            ],
            [
             0.4444444444444444,
             "#bd3786"
            ],
            [
             0.5555555555555556,
             "#d8576b"
            ],
            [
             0.6666666666666666,
             "#ed7953"
            ],
            [
             0.7777777777777778,
             "#fb9f3a"
            ],
            [
             0.8888888888888888,
             "#fdca26"
            ],
            [
             1,
             "#f0f921"
            ]
           ]
          },
          "colorway": [
           "#636efa",
           "#EF553B",
           "#00cc96",
           "#ab63fa",
           "#FFA15A",
           "#19d3f3",
           "#FF6692",
           "#B6E880",
           "#FF97FF",
           "#FECB52"
          ],
          "font": {
           "color": "#2a3f5f"
          },
          "geo": {
           "bgcolor": "white",
           "lakecolor": "white",
           "landcolor": "#E5ECF6",
           "showlakes": true,
           "showland": true,
           "subunitcolor": "white"
          },
          "hoverlabel": {
           "align": "left"
          },
          "hovermode": "closest",
          "mapbox": {
           "style": "light"
          },
          "paper_bgcolor": "white",
          "plot_bgcolor": "#E5ECF6",
          "polar": {
           "angularaxis": {
            "gridcolor": "white",
            "linecolor": "white",
            "ticks": ""
           },
           "bgcolor": "#E5ECF6",
           "radialaxis": {
            "gridcolor": "white",
            "linecolor": "white",
            "ticks": ""
           }
          },
          "scene": {
           "xaxis": {
            "backgroundcolor": "#E5ECF6",
            "gridcolor": "white",
            "gridwidth": 2,
            "linecolor": "white",
            "showbackground": true,
            "ticks": "",
            "zerolinecolor": "white"
           },
           "yaxis": {
            "backgroundcolor": "#E5ECF6",
            "gridcolor": "white",
            "gridwidth": 2,
            "linecolor": "white",
            "showbackground": true,
            "ticks": "",
            "zerolinecolor": "white"
           },
           "zaxis": {
            "backgroundcolor": "#E5ECF6",
            "gridcolor": "white",
            "gridwidth": 2,
            "linecolor": "white",
            "showbackground": true,
            "ticks": "",
            "zerolinecolor": "white"
           }
          },
          "shapedefaults": {
           "line": {
            "color": "#2a3f5f"
           }
          },
          "ternary": {
           "aaxis": {
            "gridcolor": "white",
            "linecolor": "white",
            "ticks": ""
           },
           "baxis": {
            "gridcolor": "white",
            "linecolor": "white",
            "ticks": ""
           },
           "bgcolor": "#E5ECF6",
           "caxis": {
            "gridcolor": "white",
            "linecolor": "white",
            "ticks": ""
           }
          },
          "title": {
           "x": 0.05
          },
          "xaxis": {
           "automargin": true,
           "gridcolor": "white",
           "linecolor": "white",
           "ticks": "",
           "title": {
            "standoff": 15
           },
           "zerolinecolor": "white",
           "zerolinewidth": 2
          },
          "yaxis": {
           "automargin": true,
           "gridcolor": "white",
           "linecolor": "white",
           "ticks": "",
           "title": {
            "standoff": 15
           },
           "zerolinecolor": "white",
           "zerolinewidth": 2
          }
         }
        },
        "title": {
         "text": "Visualización del Dataset Digits con t-SNE= 5"
        },
        "xaxis": {
         "anchor": "y",
         "domain": [
          0,
          1
         ],
         "title": {
          "text": "TSNE1"
         }
        },
        "yaxis": {
         "anchor": "x",
         "domain": [
          0,
          1
         ],
         "title": {
          "text": "TSNE2"
         }
        }
       }
      }
     },
     "metadata": {},
     "output_type": "display_data"
    },
    {
     "data": {
      "application/vnd.plotly.v1+json": {
       "config": {
        "plotlyServerURL": "https://plot.ly"
       },
       "data": [
        {
         "hovertemplate": "label=0<br>TSNE1=%{x}<br>TSNE2=%{y}<extra></extra>",
         "legendgroup": "0",
         "marker": {
          "color": "#636efa",
          "symbol": "circle"
         },
         "mode": "markers",
         "name": "0",
         "showlegend": true,
         "type": "scattergl",
         "x": {
          "bdata": "nd8bwnzBC8I5g9jBB+8nwtqK4sHwEQXCHhbwweJm2sEmpNzBbSf6wfXmBcK1xtbBEi3ewVXeAsJFnujBp8Tjwcxn+8EjYQ/CYVYKwhFD1MHBNt7B9BLnwWrK3sEi29jBA64GwvWl48FqJw3CtiYDwtrVCMIOYA/CM5cmwlctBsKQRwrCgnUKwsJ1BMJbLAnC8lgGwiB6AMJlhALCl2EAwsurBsKMhebBPdruweBfAMJFfAbCtu7swT+vF8LG1QLCIQYcwupz78H9zPLB2m0Nwp23D8KvWQ7CMJUVwsO1EcJAmxHCWJoBwiR6EMJxTwzCISL5wZxsEsLaIRLCW0wYwkNMD8JR3gLCLOQjwuEIAcJm2QXCCpgGwhaF6cE2VAjCT6LZwUsb6MELUwDCcW0Dwou97cG83u7BeAAlwskZFcI9GxHCklQMwlDPDMLLUAHCmaEJwnsmJMIc/PPBcJ/owT8QG8JWfBzCrYwWwmfVE8K/MRPCcUUOwhtHGcLY/RnCz3oYwkgDJcLYdAjCSw8bwhAuGcJm4RbCZmH2wSUi4cGgSg/CyRvqwevo1sFai9TBGUMUwshaEMKWghXCv04RwpwxF8IsIA/Co7QOwhcLGsK4uB3C5ukfwoZ0J8JtvyvCtacowtlVHsLPayPC85Ejwiv0HsKCIwDCwwgmwqnD4MGz8vjB4P35wWG6DcI7TtbBGPHvwVmD7cH2+CTCJJAKwoBnGMLhrfTBl8n1wUx218HPwxTCiUX3wSC7DMJ2KwDC2AgDwnSEBsKOeAbCdSoOwhpjC8JVpAzCktQIwoG2A8K7DhfCNMLqwckK58F1U/LBuQTMwdBaAMIK7s3B3RkZwmEkz8HEes/BEjwTwod638GpEgvCYGwCwonO8ME+tffBGrAVwrUX/MEdRgTCv08Twjz57cFM+wDCBZUTwgUR+sHZk83BvKr7wQ==",
          "dtype": "f4"
         },
         "xaxis": "x",
         "y": {
          "bdata": "1eb5wUdRycH+RfPBYe31wXCB0cFz/f7BhbsKwg+27sGZVvzBKvcRwnfdFMJebwPCsAv5wU548sGnENzBJ64JwnaOy8FAduLBf1IVwnLo68FwEPXBMy4Ewowk68FgdwPCGW8Wwlrw/8G5gMXBED4NwpoH7MGizsbBPJPowWhJ/8F7TPvB+b32wWkW7MFkZ8fB8trmwWfJBcJgZAbCDuwWwqqyEsKEPgLCnIPLwZNDG8J9pRPChZ4Hwq5GB8JOctfBGkAEwj4gEMLdtRfCV0jwwczU4MEHM/rBb1vawdfT3MGVOA3COUH6wSakGsI00dDBeOPowS6vBMIrE9nBJgfWwULC6cFM0sXBTBnXwceFx8FeoeXB+f0QwvHx6sHwLNrBcrHkwTmn5sGJI9PBA3nuwa8M/sGijOXBBiUEwi9lFsICNMXBOOL2wdUv8cEW47vBiorBwT4c9cE46dnBgCDTwUSAAcJ4VvvBvWLmwQSvCsJteQnCYDoFwiN5CcKITgLCG6AMwq0cBMIvXAvCUZ0HwqCIDsJKmO/BPFwHwjaSEsJPmAnCmqEJwklGD8I0QxHC/7UZwms2BsLvvRvCJBgbwo887MFwYg/CyiwCwgIu8sEM9PDBgpTYwSgN7sGwm/HBErTuweBr2cH98NnBLu3XwXuj2cGsKebB2ovWwQTGEsLxDO/BVaT7wVZNHcKDgNjBZ7D5wS2V98Gxg/jBAZThweKF9sGKXQDCb2D2wUJu2MHmTAjClkkLwnrw+sH4awrCkAkJwh3QBcLIxQXCBgwdwucwGsK1vR3CYVsEwuXmCcK48v/BVkvywZDk9cElE9/BGzvawWHH+MH5GN3BOeXlwc/P/MFHtOnB4E0XwnOq5sEzl+HB9tgQwpJ0CMLXIBjCXyv3wYYNyME54hzCeSzwwT/wyMEJNhLCldL8wbUSGML5Fv/Be/bNwQ==",
          "dtype": "f4"
         },
         "yaxis": "y"
        },
        {
         "hovertemplate": "label=1<br>TSNE1=%{x}<br>TSNE2=%{y}<extra></extra>",
         "legendgroup": "1",
         "marker": {
          "color": "#EF553B",
          "symbol": "circle"
         },
         "mode": "markers",
         "name": "1",
         "showlegend": true,
         "type": "scattergl",
         "x": {
          "bdata": "ho56weAUq8G5S53BeuaowQ2llsH/ZpzBk6OQwe/BnsHqyZ/BrRapwXnge8HZLxPBSoaywUmQqcFFnLPBFs61wYK7qcHuPrHB8vadwUFDssHNmqvBvuy5wfCgtcGi7KTBcjOvwadSqsFvwAXBYiSuwXJoqcE23KDAoYD7wLwHuMHSpwzBWAGrwe8HrsGvwhHBsBcpwYRVPsENYbDAVBOVwaLYg8EZ0Y7BDd+XwWU+hcFHOrhBP4SZwa+whcHD4oTBtSSjwTWaicHJHYbBsveQwQ1Ho0HtpLNBPqOsQTZ1okFsqqBBTTuuQXX+nUEZjqFBqXqjQe/xqEGUpJtBwmk3wPzooEGVOdDA8yudwBNHssCvLuTAzirjwP95I8FGv7jAAxAjwZ6YzsAAh6nAYL2pwApOxMCVgdHAvxI6wb9lR8GzsiTBUINDwICCm8DZeL1Bk8vHwPUxkcD9TvTAGk8IwUA0EsFoESHBhUDqwLftuEGPZbVB+1fAQcYSoUEtO6lBiV2rQajBo0GTqaVBw463QW+OqEELUK1BWeKmQTpqr0EMYsHAKW7LwOIDKcF+7JfAX5UZwdL8zMB8OzHBO13ywPakLcFLtZfACSMUwaKxCsFcoQ7BtvOLwSrdksG0p1jBxSTdwI/pZsEEJkjBDzn9wJgRMcHZZVjBkrIFwd3ZA8EV4e3Aarw1wUeIhMFrTF/Bzh65we9sQMG2MELBihCTwXNmLsHyh5DB7j1OwZs4R8GJETXBotAewWY0KMG+54nBHIqQwaAHmMGZqqPB0AaiwY9wkcH6aZPB2paWwQRMicGDcpjBBrabwWjEn8HK25HBEU9GwdB9AcH0tPnAKldRwZUmNMH8JwnBEQIuwSoQOsF/JlbBNtxXwWxQO8GnmU7BddhTwe+kLcCy86TA0FCPwC6OOsD8zLfA1k5swJj3kMBC4EbAfIkNwfaGqsB5W5TAVyJYwI0CbsA=",
          "dtype": "f4"
         },
         "xaxis": "x",
         "y": {
          "bdata": "Nxs8wCz9+j+6Ky5AN0CWP7JJcj/RG9o/fYshPwPV4j8Qds09L0yVP+ApL8CL30fBxRwRQMbJx0DmDG5Afq6VQBPgoEDCSalAKBxoQHB5vD/SL5NAH/OdP95LmUDooVZAAx3uPz5HgUDuMwjB4VZsvwPdH8BMwjXBo7rTwI5PpT//zCPB+8AIwP1+x7+iu/fA69MmwUl2BcGbWlLBvHO/QNJE+D+930RAukotQDLg5T+qVAnC56ZNQIqomz/0bz0/7YLYP/uCM0Bq8g1AVFxIQJhgBMK+ngXCWngNwj3ADMIGkRHCj6YJwujpDcJ3oRHC7qgQwgF0EcJLiA/CN3wdwenp/8HuMQfBAm43wVtNPcGDAoLAeZeDwJDszcC+ZRzBDEXEwBwyVcHfVVnBEekZwbEDGcFhMQnB2lMRwTxU7cAEqOPAObgBwVPOA8HXPQbCuUyxwGSGRsE+tQPBVpUawdJZIsGndwrBy/+rwIrWBsIaQAjCu74HwuA0AcLiAwXCDo4GwmkrAsK4UgXCFrYGwtnbBMI4JwLCtoMBwpLeBsKSuq3AWKPfwHFgG8F68dbA74QowdFMScEjqRzBlws5wffKEcFu98DAm638wKOxPMFWeS/Bqw8NPzVJbj8wg6C/uU3bwENIS797rSrBdBU1wQniEcEh+3+/0DAqwRYoLcFRI0rBlxiuPtFnrEBCCpC/POOaQKWwLMFFVhnBW1YFQBpEBsGjXl0/ecz5wDNyEcFTLyPB4500wVTKPcFvZ7BAb0PDQNYEh0BNhstAj0HVQPql1UC0r9pAUQ3uQLkrtkDYXopAYvTMQKhi20DBv+pAFME7wVqTUsHr3FzB+qQcwcvQPMHGs1zBeGcvwXjwNMHuzCzBbfEhwWCsIMGo3xbB5EUZwVI6K8FX8hLBdJk2wQ1VIcHe8AXBZWk3wcSF4MAZTPrAZKycwPyizMDm2iTBecX8wEyG8cA=",
          "dtype": "f4"
         },
         "yaxis": "y"
        },
        {
         "hovertemplate": "label=2<br>TSNE1=%{x}<br>TSNE2=%{y}<extra></extra>",
         "legendgroup": "2",
         "marker": {
          "color": "#00cc96",
          "symbol": "circle"
         },
         "mode": "markers",
         "name": "2",
         "showlegend": true,
         "type": "scattergl",
         "x": {
          "bdata": "sKu7QPvywUE/OstBEfvYQLsbnUCabpJARcO4QKImnUDeS4VAAm/pQUSDl0FLotZARojiQGSjAEIk97BBnRurQQwSyUHF/LtB7WbzQX7P10G/kqlB1DK8QXcrwEGbP/hBiAgFQvEkx0EDGtxBu+DcQdoS9EHpzwFC+cTGQWBQ10GE2O5BCR/VQWFK/EE6vspB8jDbQU7a/UHpQPxBfT3OQWpYu0F0GN9BfYCvQSyd10H5itRBmiC/QXQO0kGBsd9BMZ3pQRHw5kFIgeNBykNFwqFdokHBO5ZBERXBQQaV40EfA8FBKB+tQcZiwUGfYbFBKxffQfDNwkENJL1BKyvYQTUZu0HHrsRBRUi3Qf/Dw0FVOalBleuyQVnWoEEaFaFBs1CtQT/UtkHPcwRCRB+8QdI2uUH23r9BGoH5QdU9AUK90QdCDCG+QViTCkJVSgVCVmj1QZB6DELe9QpClhqgQd74DEKAtobBYzm8QTfJ8kGxxwpCmYHxQa4n9UHheapBQsuyQUWOsEEhOKpBfHsGQoL8yUF42KhBZaf/QebL6EGuMcVBvJCpQZJeo0EQNKxBRH25QXYbm0Gbw7ZBRCb7QTnfxEFEcqZBe6v8QcNws0GujMxBM9vIQYAHwkHc9wNCGHbTQbKT7EEHjKFBAbDUQWPcBUKMRQFC8hvZQY14oUELn6NBm/WfQXz/mEFfnZNBXnSiQRrLmUEj28xBLhyOQdzAp0GFrZhBcQWoQaIPoEEBQ+lBjZEBQh4IBkLFggdCZX/oQTuZCEKuVvxB68IBQuW8A0JCyAtChpgBQnN9w0FMzftBOMXGQXLesUH0s7VBqhaMQTbR80FLBpJBofnHQTSYlkFxpvpBFx+7QYn1nkEqAuBBWYSqQXBmp0GUZvJBPMwJQjxmC0ItywBCEswLQslv0EGfF7BBDasIQsAt40FvS+ZB",
          "dtype": "f4"
         },
         "xaxis": "x",
         "y": {
          "bdata": "Om9owY8ewMGJwL3BfupuwcfJbsGWEm3BVDtqwWfScsHjDXLBobKYweBXg8EO4W/BeZxwwTTzhMGfSH7B+06WwSZeh8G1x4DBCvK5wUDUnsHsl5bB1SOGwbIUhcGC0rjBRumHwYuPh8HN2YbBYtGJwTB/csEgR3jB1C5+wXyWiMHWsorBTEaLwee4ccFmYHfBUPqCwSU9bsESKZLBcna8wTyruMFMbLDBsgflwVLlrcEMs6zBC+2zwXTjvMEcS6nB0CazweTupMF4963BV5wUQLe10sGuvi7BsLHjwbv3AMEt4uvBy6/KweLD68GGgerBA5qHwV2B/cG1GO/BrwqOwVHc7sHMp1HByb1OwRhcZsEPnlXBYeFTwdIRR8HPO0jBGPBYwYxJTcGVjl7ByrtjwR+XYMG/c2LBs7aEwfE4ksElVnPBiGuDweaPhMHd/2rBU2OrwfUYd8GEgYvBTAqhwZ/neMEw9axBsqpuweyYf8FgcJPBMIeSwdBElsFaqejBZRrOwX5j08FNt+jBlLCZwd0Vu8Gzo9TBIdCcwd4nmME1C8zBZW/UwWYjzMFlV87Be723wYqzysEyVdXBmpigwe/uysHVv+zB8Z2LwasyzMHgmF3BaLuXwaFnZcEGeHHBh1mQwer1gMGru6LBXzpuwaa7acET/WjB/57MwGSwxcGVmvTB1GyzwdETysHkD8rBbQDxweb3zsFa16XBIkzBwTOX2cEGZNTBv2fPwTHB2MFSKqzBr16rwWj1nMFqUqbBN1WswfZxocGlO6rBG8yjwWnvosGwEJbBuKWdwehoncHp56nBEFLEwTrNtsGE5bjBn3S/wQFrlcF91cPBHF9MwcAEFMIDFYjBTBapwUW8scFOQ6fBnCJ/wagAgcHZ+bnBj32cwSNZk8H3O7HBU9Gpwa2DWcGBD4nBgEmnwfxVrsHccLjB",
          "dtype": "f4"
         },
         "yaxis": "y"
        },
        {
         "hovertemplate": "label=3<br>TSNE1=%{x}<br>TSNE2=%{y}<extra></extra>",
         "legendgroup": "3",
         "marker": {
          "color": "#ab63fa",
          "symbol": "circle"
         },
         "mode": "markers",
         "name": "3",
         "showlegend": true,
         "type": "scattergl",
         "x": {
          "bdata": "zyvfQRtvoUFgNbVBB+m4QfUTo0GahLVBnQ2zQX7RmEFqgpNBONOvQZPFkkE/tZdBLOJ3QQUfjEEKGKBB7zqMQYdmokECS6FBlFmUQUUDtUEstJ1BEJ+TQVBhlEFcw5lB5vGNQQDLgMG/nuFBCJnOQX8V5kFLaM5BXETgQQx8xkFu9OFBaozbQQCJz0Fa/MNBT9nUQb2q1UE9kelBmDysQSIvwUFgMvBBV3cPQqV4AEJwCAJC9j3qQSVy5EGLA+tB+VftQYss60FwAB1CDULlQSyH9kH3wp1BGUaVQdIRjUGM7pxBIGalQR5Cw0Grl45BLiaXQahipkFWbZRBpbuPQSvvmUEgAJlB6LfRQW8+10FGRNRB5RqDQZGD0EEujNlBzr3dQc201EF3BdhB1QveQUEp0UHZytFB63bYQVO8zEHQy9NB3uTPQSRcuEGbNLZB6lm0QcBQuUHBbrRB6IHEQS9d0EGlx7pBUGS4QSjQpkEczANCfVgEQrwM7UGmxwVCqhoBQpGLBEJLXghCRrcLQu8MC0I3GQNCkt0OQlkOBEITKQtCc4HrQUw37kGcJOlB6LTcQTys4kHCc9BBPmL5QcnX6EHg2vFBbD3yQbWFecF9X/NBUJzrQWkV+EG+EdRBQcD4QU3tM0EMdPpBlyGpQb7AuUFgNKxBGf+UQVqCq0EQdtlBcYTFQeholEH1PKJBIQ/LQc5n8EGS+vFBI2SnQUR9y0FgQeJBz4X5QbuT7EGaAaNB6/vrQRaP0UGVKvdBfpjhQSxp8UG/n9FBZcvHQSE55kHrcvhBkjjzQfMT+kEHPd5BguDYQd95xUFJqvZBQI3XQe5/pUGDgYpB2jahQRALbUHmvV5B1xluQc+zWkFJwFy+MPOaQQ52qEHcc5ZBNuSlQe7DqkHEQ8lBeFtRQfybYUGq1jJBUwo9Qa2NOkH39A9CdJxGQdpuP0EQeK5BwYfRQXsiYEHdSaJB",
          "dtype": "f4"
         },
         "xaxis": "x",
         "y": {
          "bdata": "rH8wQLIlVkGTPVZB3v78QKGFEkFMp/xAxfkFQQrbWEF2D1BBswwMQcvYbkEePFtBibptQVu6Y0GB+mtBtUxXQYGrM0G87WlBpQ5GQdGbWkFCx0NBVntRQfHtMEFfDEVBxkhXQQWCqkFvPB9AkZv/QP9MA0GbzgZB+nyEQFn/DUHJBNVATb7YQE+hAEEw6wJBJLpnQMLjXUBrDQdBhWchQa5iHEGiuwBApHelQHCXBED9gOs/MBVGPzEEOT+/nII/XQ6sP3Ieyz/tfMVATjBdQM3hlj+Nmfa/YTyQvwly7L8WrN2/9FlTwGvVW0Hi+TG/AXTqvxn2bcCaZiXA2wbTvzV7mr9emp2/pl8WQQusKUF+qglBqSrlQF54JkEEghVBgwgrQTOf6kBoNR9BQOMiQbxMmj8+4KA/i9v1QMPI4T/OJ6RAbXSUQIWbfEDBPHhAo9RtQLqLP0FUijhB0aHcQL06Y0A/+txAV/OjQKxI00C15cFAhZRaQKYkgkAobwpAzBudQGhCSkA8LtJApPaIQAWc1EAcPb9AtamlQKufN0BhyYZAoJoXQe9CHUHmKSdBcF5CQXQg+cBU9UZB5kMKQfuePEFxUi9BZWMvQfidqEEm8zFBvXdDQbRkEkF6RkVBqnk5QTJndkFd4T1BHF0mQT/bU0GIcWdBwKxtQV8REEEoz6LAzt7WQCzCdUHJhX1BUQ5EQWyAl0CMXfVABuXbQKheJkEcWzdBt4oAQV1i70DKfB9BynLGQOFfIUFr2BZBfCi4P41MTEDQGVtA2Q6xQKCHg0AZx8RAh71pQCvckkBiUqVAmgfTQA2tokBpSNlAk5WkQMWl+kCIKPBAo8YcQbEhZUFfGFpBTRxpQTVnQkHCCAy/vdAUQSwj/0BOrQdBXPPvQD3o8UCKmhdA3k1XQRPEkkHTWnVBMixPQXZGTkG+IBdB42NUQabKWEGVrC9BMGnYQIz0kkGgPEVB",
          "dtype": "f4"
         },
         "yaxis": "y"
        },
        {
         "hovertemplate": "label=4<br>TSNE1=%{x}<br>TSNE2=%{y}<extra></extra>",
         "legendgroup": "4",
         "marker": {
          "color": "#FFA15A",
          "symbol": "circle"
         },
         "mode": "markers",
         "name": "4",
         "showlegend": true,
         "type": "scattergl",
         "x": {
          "bdata": "Y0ATwp/FGMLuiwzCtBQdwva9GMJ5OyHCVNw9wbD/DsIEcg/CWQkpwjmEI8JV/x3CaB8ewgTJ/cEygwPCF9wHwuN7CMLaNBDCPS4SwglCB8IrKQfC5WkSwrqUBsJSjgbCle4DwrmiJMLxCCPClsQrwgb0IcIIZCbCW/oxwi9HI8JQzyXCUKcUwsz7KMJiKCHCp4YqwheEHMLLERPCgX0+wtqFEMI7QgzCLFsVwlGVD8KuYQvCpRcWwm9hDcLP9ArCGPIPwsIvDMI6DxPCrMU7wiMmOMIUyDrCLaA1wjQ+LsLIuDjCtcM8wjaDOcJ90DnCNfI/whXuKcLchz7CjOI6wk3SCMKvIQrC1jYGwpTwAcIOTxHC38UKwoB6CsJDHTrCm/wAwlJXQ8J4T/TBok89wnQOAcKYzTfC5ScvwmOlO8LbcCjCWaswwsiQNcKDhSLCkcU+wmxtK8LIUTbCAagpwtLEOMIz+DfChVcewmWLPcJPsg/CYagMwqCDDsK8cw/CbnpBwsLQAsK3ywbCoA0cwjrhBsJjRtLByt0GwjVzB8JMzfbBcSYSwiVi98HBDBDCaScFwbV/EsJLmRTCN4Edwu8nHMKeDAzCn6scwryLF8KK8R7CQIogwvmXM8JYeh3CHo4kwh5WGcJ9FB3CDm8dwudYJsLTQSfCFF8KwlyJG8IR3inCzUoowi48KML3ayjCWdcmwqyCJsI6ASvC8GAswliiJsLzKh7CrWwfwoUeH8JXAB3CC/YrwtShPsIDUDjC99Q2wiOWK8KiGTrCO9kxwi8hNMK74jfCSEM1wntzNcJiPzbCN6Q3wk8ZL8KRoCXCuE8kwm+mMMLFJynCfPcvwhDhFsB9thbAaygrwqnqJcKibyTCuLEywm20DsCAUijCG14CwjecI8KdeSDC7kbFwZMhB8J4TTbCBlA2wvlzJsKnQhPCxmYUwgY+N8IP5CHCvpYlwg==",
          "dtype": "f4"
         },
         "xaxis": "x",
         "y": {
          "bdata": "wgUkQB6y+kCUghdANpD5QE/bkkCpXEBBR1YpPrynC0DFjBhAjQtKQW1aOEGPbzhBz7H7QJmGD7/OWyHA+Jayv9BmXcBejeu//jFywANqNsB6ERXATvFtwHiImb9JjLK++gocwHpTMUEM2BZBoB8kQUxb10DcXhJB0q8SQdx1FkFlRZhAE0NBQZfrrz74H+xA9W4RQbT0+UB8ojDA3OiwQFgMob/GJ4c+M9aMv2ldgr9Pf/s/q+Kdv6KiK79rV5k/IiDxvmfexj/VMEbAewsEQbJQJUGRQZVAqKX2QLfBAEGV0yBBUroAQYMC5UC2DfxAivFfQPTI6EDJqAdBauUPQaunp78df/G/5hddP4O7j77HowFBEjuTv2hnur/6BQlByiHJQZi7I0D834BBWBNQQJuvyEHjyk5AZzxvQAenr79wYURABn+hQDqRd0B5JBxAPZinv8Bmlb/H939A7QxVQNSApr8EKr+/mCFGQMPfx7/f369A6ME7QdqVs0Aom7BAFL0Kv3EqUEH6py1BqmpTQIGMREH78o5BsIBPQQmJTEGVIntB01szQU1SeUHeJUBBD7yPQWWQOEGqoTtBdGocQbqTvkBN5ENBHoESQa1ROEGV8gpBb2QdQOAoAUEo0kFAejUCP/TYB0GdKalAV8bMQOhnkEDNvQBAoTw3QZUxjEA/3UhBKkixv2V977/hMxDAjZ5Ov/BHl79T2ac/KcinP+IGrb+3vuJAYmBYP0cegz+xgKc/nzypPz/n/0CTeaNA5MfVQH3VpEB10ahAdQHAQNPQm0At49RAENLaQMLpqEATLSNBT8G3QLk+lkBjmSVB/VguQZEDMkHSlQhBfXUyQU6xREFdY0VBi7oIQQDSH0ENxyNBn2UyQQiRQ0GUSwtBY7AVQGaZuUDIV69A7WqGQY8pOkGg6BzAWjccwEIQmD80XG9ACrUnQEi48L+rRgxANKRPQA==",
          "dtype": "f4"
         },
         "yaxis": "y"
        },
        {
         "hovertemplate": "label=5<br>TSNE1=%{x}<br>TSNE2=%{y}<extra></extra>",
         "legendgroup": "5",
         "marker": {
          "color": "#19d3f3",
          "symbol": "circle"
         },
         "mode": "markers",
         "name": "5",
         "showlegend": true,
         "type": "scattergl",
         "x": {
          "bdata": "uZkXQrbqi0BnvvJAdUJrQeCgl0AxD8hAuqrNQKvccUE92DNB3hssQetrBUFDBItA0lcxQY2RS0AwDZ9AvhOKPxPHk0AK7gVAeM91QDuGeEB2e3FA+t/fPy+tiUAefZFAisE8QDSiZkBpXodBXYcCQRgOh0HTPYJBSPybQZKbsEFtdXNB+K3YQS+fgUH6eZlBQHt/QVqUnkE9Qi1AWiVNQaFYM0E3uzpBsCxYQXmdO0GHuv1BfRA+QU71Y0GvAz5BDjkmQUxRJEErAdFAtbQ6QcxlikEvm6xBuxOgQcPqZUEcB61Br7inQRuxn0ELUpRBSvCoQa/VtUHYtpJB+Vx/QePapUGbgWBBbt7yQNIZ6EADlWFBsuagQOZG1UCR8stA7WxoQaoBZ0FzRZRBGQjfQLSamEAvDCU/Yx7bQAyKNkDvBjhAeNAFQQkJvECRu+1AVaPLQJ8Z/0AGBLVAtf0fQfVSUkBnIwlBb189QMW5kEEbu7tB6sjQQT6ZvkEIrppBOJPHQWtIy0GdVJxBeD65QcP7hkE17sJBcGnDQSCZn0HV+LtAGuFSQWQjdkFt4StBtPeeQPW+KkHHK3pBjDpsQanIkEAfFx5BpsdzQVsYrkDkQW5B1kSUQaaOlEHSXRhA9A2MQSOnD0Eaib9Af01vQYS9yUBKuI5BM2/VP5iqiEBX/Ag/k/k4QKc0qUHJ9JZBRAhiQTi+jUHW4k9Bj+x1QVANWEH50X1BjnW7wHJCKkGVqCxB3ECAQRbneEECD6BBT/6tQXOAsUGcCa1BuJ2fQSzvrEELcbVB/jGvQbsNo0GTZrVBc1rPQVxWpEEYBoxBZImCQHgpgEDaF59A4jtUQBq40D+6lHBAKRq7P51liUAZSC5BNKF/QDm09UAbOoJAXRCNQHaYj0HLOoZBVpyHQQ1SfEEMdnFBCrJ2Qdw+h0GmuI1Bk/+IQSKlmEEHtJJBExGGQfWAlkE=",
          "dtype": "f4"
         },
         "xaxis": "x",
         "y": {
          "bdata": "ElJSQeiFFkKUme5BkCgQQsnAGEIvKwlCi38GQri3EkK44stBWTDeQfsx70EKEA5CRjHKQYvkEUKIGhRCQRYNQoddE0JymBlCkLsKQtwNF0KQQA9CJe8QQjGiC0LoSwRCBq4SQhvgEkLN7gNC518KQi9WB0L0mgRCN0jVQdPh00Ew0gNCXfWiwPKjBEIp3vpByqgMQk5f2EGw2Q5CiuoFQrBbBULUzQRCeWcHQrG6B0IAtfNBw9MCQr7iAEJHsQVCr5YRQq8NDkJIV/dBy/4BQujn/EE7ngVCcLwHQk9JDkJAYgFCoLUCQumtBkIL+gVChW4DQjbRB0KEeQZCEQD8QZDGC0K7E/JBM9DoQe9B6UF+6clBapTzQeSQ7EHro/RBCyrUQVUk00HNI91B6ub8QR1w60HJfQxCppgQQjd0CEIXBwxCagcJQsq7+EEnaA5C8CL9QVwxBkIUeApC1ykOQkSDC0I8NA9Cx0MKQjURBkLQcwFCbt/1QVVE+EFquAJCNuwBQpbiA0KpggJCM3L7QXesDkIZE/pBEbn5Qd4wEEKZT+dB/C8QQpIHAUIZYu9Bsn/bQQC670H/nwtCxXvmQe//+UH8E+JBY6/iQeyl40GqjOFBnqrTQdko3UFLGBNCsl7WQXJ5EEI+nBFCE6LTQSSZ7kFXEdVBub4WQjFuBkL4lAxCQtgZQjbn90FUFxRChv3aQaudEULsyNtBhqcQQh444UHNK9VBW6Eews5h2UH0sd9B4uPRQXmaFEKyRQpCpX32QY2p00Hwz/dBaD8PQmrX80EjtAZCcRzwQf9L6kExGgdCMjH2QVmk70EHpghC3uvwQbTA6kEf2OFBDWXYQVOVGkKpxu9BqiASQvPQ7kEEPdpBlTDdQUl6BEJ5nedBSn3gQerT9kFpCvFB1DvsQafL8EEu+v9Bg/ESQosM80GSjftBBBvsQUDc+UGR9+xBDi7pQeDx80E=",
          "dtype": "f4"
         },
         "yaxis": "y"
        },
        {
         "hovertemplate": "label=6<br>TSNE1=%{x}<br>TSNE2=%{y}<extra></extra>",
         "legendgroup": "6",
         "marker": {
          "color": "#FF6692",
          "symbol": "circle"
         },
         "mode": "markers",
         "name": "6",
         "showlegend": true,
         "type": "scattergl",
         "x": {
          "bdata": "FB0hPzx6rkCJMR+/BmRWQEeEkr+ZMwo/sigAQRP+y779Kwk/7VXFPx0/or2CuDq/VMkgQEW2m8DO3R9AjPqgP4jRzb/2jZQ+AEk2Py1Qvz6bWJy/MahEv4AdHEAeqDnAezxVwHkpPcD9KZO/LMHlv02V1j/wBL/ANl0EP/FECz9iiq5AHnsoQMxXg8A1dds/Gc20v7zOfT8wAijABL8NwGTCIr+P7ti/QE2NwNDK176mzSTAU06Uvjj5rr8LwAFAHQEdvJ4iR75jBZjAc3cUwLOppcCV4VDAYE+GwFUensDy0qnAsXNBwObisMC37KrAvpucwHBxK8DJCBPAx/2TwDV+/z/MH3k+d93rPd6es7+IGjy+OopjwEYbPEAPtXnAeG9/vp9z/kD8enPAp/TKQKo9ykCJ1grB2gITwU9MBj9f2eDAkRyKP15zzb5bduPAS3oOwTcXisD+AIQ/NlQUwJ8YX0Dv1vS/0rAowPOYNcCPsYjA5ZCEv1c/L8BkH5K/vPjMv9RPG8ATGzHAAwSfQGPJHb6pJlvA37iDwD63hcDVl7jAbUI1vqHjTkCImHW/R/UhQBoei0AuwwJBj+YEQeRh80A/g5xAmxQhv6rQDcAdWp3AtP9YwL1xpUBJRANBX6vvQKKCgECXEji+jJH1vlzPMEBgYnxAHvuyQJqfhb75pgZBitEKQX8LwUBj0BlBYAkTQZLAjT9xxX4/ZGunP6j/uz+2u3RAMGEaQXKdg0DaNaZA0EP4QLNEn8CwIavAd2elwIZUnMD+gZnAFrxwwOdYU8DQhTDAOBKnwAteaMDgcRnAzvMlwGlTxD/MxLxAFq6XQPZDQUA6MSFAFqyUQMhIbUCQ71hAQnN+QBquk0B7xIZA/5KqQPqMXEADcE8/Zp7GwFqEfMAv/rvA2ZyxwCQNc8DDgcW/9xipwCrVv7/CwsG/lJWdPcXmFcCUpdU/SvN/wA==",
          "dtype": "f4"
         },
         "xaxis": "x",
         "y": {
          "bdata": "lFQMwqBYKMLIgg3CnzMWwjDnEMJc7RjCOQAywmOIT8L0FQ/CQCcTwt0gBcJGuAbCEMkLwkh0NsIqsSPCXbEUwh/LTMJVeUjC340WwpsmSML+vEbCjbRPwgebFsLjPSvChCQ9wmbiP8JNTz3CnnlNwnr+McKeMkTCcsQ8woU+PMKOJTnCCPAYwp5xQsKoXjDCtIA/wkrPOsK+dSXC7bglwhGBJMJqXSbCwf0lwqdaJcLf5yfC3AcmwuI2F8KbySTCWcgowq9VIcLZwAfC2YIYwgYNIcJwShzCffoVwm+JEMIhbxjCGa8Xwgp5IMJQuxjCrsYPwmzEGMIhlxbCW/ASwuNpQcJiLULCve5CwsbdScKR+k3Ceb5EwoacO8JagU3C4kRBwswwM8K8eELC40gtwvO4LML2TzfC1E44whsKI8KlITzCHIsbwlJsIMIodTzCqPs2wmdEMMLvrSbC7gkxwnY2FMIjlEbC0ZNHwjSsTcI9OkfCTP42wm+OSMLprTTCoPE5wgZMRMKQT0TCoQAuwgT8MsKu6kDCnN87wqudRMJBzz3Cl7w2wr6gGsJH9BXCPlRBwohjL8KFTDnCQC0zwpujNcLMwjrCkQgKwndqPMKEFUbC8GMTwm2dL8K9GzrCM/Y/wjBIMMIW2xnC2asYwgHbLcIftC/CltI2wsFVHMJBHD3C/JlAwpRwNcL/9kDCzcZAwhKAIcLEjCLCVP8kwlHKIMKh9iPC499AwrkeJsJ07iLCZ51AwtxKPMIhUD7CxwtCwuxMJMJJpT3CSnc/wo7tTcLrUzjCwcg6whq5OcKtAjTC2MU0whuhLsIeAx/CwfMawqgyDcIicx/CMHEfwnVWHcKUARLCtZwgwoPtH8IZ7hfCHu85wk2CD8KXPwjC9N0uwuDFMMKKgy/CVZQywsUALsJpfQjCldozwi7BUcJ30g3CfAQSwhN4EcIzKQ/CDgc1wg==",
          "dtype": "f4"
         },
         "yaxis": "y"
        },
        {
         "hovertemplate": "label=7<br>TSNE1=%{x}<br>TSNE2=%{y}<extra></extra>",
         "legendgroup": "7",
         "marker": {
          "color": "#B6E880",
          "symbol": "circle"
         },
         "mode": "markers",
         "name": "7",
         "showlegend": true,
         "type": "scattergl",
         "x": {
          "bdata": "1S9hwcOFr8FaT9LBycq/wV9nZ8GkDsrBcOa0wQ/aisFGMNTBh8GiwVBjvMHHCJ/BeCizwZp6q8GRgq7BG7G2wU7EvsFC5qLB5Cmkwam+qsGEVF/Blt2swZwJv8Gwf5TBlNavwfufxsEq+ZHBKa3IwTN+l8FM5KbBuZfHwbsNzsEl56TBFYinwWmOpcHqV7zB2q6mwejjrsGvCrvB93TBwYSWycE3Ub7BCVS6wU2cu8Hcv9DBFr/GwQ66rMHTsCbBdCbNwSKGvcHt1azBsX5iwd+ec8G4k8PBkqOzwaDadsHDyWnBGojBwWEhg8FXPn/BiLadwSG8jcGCLIXBRMBzwUgxfcHTMMLBnSvXwTIz1sHo77bBbcXLwcSZzcE6qM/B1+/VwVwT1MFfodTB1SvYwTNeh8EchaLBSDSXwbehoMEVC6PBThSlwUDBqsFkJaTBK3WnwbfhuMH25qbBmvWrwayTpcGeAYrBLYKUwTgZh8G2+JbBb7aLwZUgpcEVwInBivmQwbMYm8EbiI/BMkjEwfi2kMGrXZfBJ+eTwReWkcGnKITBQ4OAwXDnlcGutnzBM8VjwRW5gME00GLBZQ+LwdbUv8E24ZvBry2/wSs3bMF/v7XBV0XEwUTFc8FBSm/B/hOIwa+GXcHxnXLB/ZKCwfLjjcFfBmXBwTLCwTt8ucFQkYHBF2WnwWVajcGFsqbBuUCKwdfPjsHTIXvBtFpwwaSKo8EvhKzB6UubwUsQycHIS4bBfO+hwSzRp8FGj6LBUNWfwZuJmsFtzL3BttKjwYRnpsHXpKHBlJmhwed9nMH6SKfBS5aewTX4dMGpv2jB/5uYwZzhisG/dZDBlO6MwTrsi8Fj7pnBm06BwbsPlsFRvZTB98tjP9o8dcEo6MfB2jh5wfWTisEoq8jB7UexwVuvwsFkVbjBpMe4wZKhl8EG4YbBFwi4wdTMmcE=",
          "dtype": "f4"
         },
         "xaxis": "x",
         "y": {
          "bdata": "NRoEQn91A0IsW+lB77UBQvA4EkK6lu1BXO0DQv9SDkJfq+VBOsoDQmBdAkLM3gZCwmn2QbRADUIzlw1C1TQbQl5w10H5+9pBZZUQQg9GI0J7zSNCIHMfQgSm4UGHPRxC1JAdQns7qEEgNBJCOvmjQZm/FEKZmtRBQtDZQZjpnUHumABCaK4DQrlsF0KwBhlCfH4DQqWy3UEyQ5NBmq2YQe4smUFlApNBVsCnQQKrk0FBNpdBNQ2RQSYnrUGG5IBBFRaaQcdwmEH1pqxBLJUjQjm6DkKcYtRB18X+QRovDEK4ihpCQbDJQUx4E0LZLQ9CaqEQQjgxDkL5GSBCTUYMQsgUCkLsfcZBOgWQQQI3fEHeLGhBgyTbQWi11EEvptpBcPGOQZ9G2UGstdlBacvaQWJADkI7dftBHBQRQgScEkIcqRtCtk73Qc9ZH0JTdQ1CMXoLQhZ+40EQWRpCOaUQQs6FDEIBcBhCdM3JQQCH3UEdvNNBMZDhQZksw0E4o95BqXXTQU3m50G6iNJBkImoQTwt40H9QuBBY7DqQRUw4kHvkfFB/ljmQcI5/EE/jupBO0bdQWRcF0IDMN1BTBvuQSH3skEUBBdCbECyQcB1GEJgSOtB74TNQaXZHEKH1hRCRpEQQp+7F0KzRxxCqUofQiqvEkJoCBxCaqbaQYQV2EEp/SlCu8D0QcVRA0I5z/BBiGUJQlGnA0JdgxpCfWYXQjsfHELngv5BescjQqD430EPIgxCOWbRQfP5y0HhFc5BbtHnQUpw80EwcKJBrofVQWjf7EHAbfdBeGHoQcJ7zEGGONFBKODNQfMOKkJzbyNCdCQWQjjhJ0JZRCxCB3gnQvAPHUJQ6SVC4ZoqQr+CDEIHsRxCRJ8dQhtQEEISEfJBMAMQQgm2zkGa3NlB1BsVQtjYFUI4EhtCMnUXQhM8CEILChlCP7/qQSAvHUI=",
          "dtype": "f4"
         },
         "yaxis": "y"
        },
        {
         "hovertemplate": "label=8<br>TSNE1=%{x}<br>TSNE2=%{y}<extra></extra>",
         "legendgroup": "8",
         "marker": {
          "color": "#FF97FF",
          "symbol": "circle"
         },
         "mode": "markers",
         "name": "8",
         "showlegend": true,
         "type": "scattergl",
         "x": {
          "bdata": "5LT6QHFuAsBy0R8+Vn8Pv2/YUD6KUYs/wKwbQFRSGcA3IgxA0JO1v09fa0A4bkfAoIXmwGbPsUBsmbNAN68WP8uSsECZ186/zlGQQG4yzr/u2INARlFcPyj8NEBdDHNApRuCQP00KkAr/jdB6kceQFwZK0DoKx9BylTsQFJRNUG22jJB2GhOQKZLI0EkK15B+uDwQL1/IkBE7hNBmAxcP9UM90DF9upAhbIFQapuMkEBxwBBIQgoQY1iTEFE29xAYXbJQPffFEG+7wVB8/SBQFVMvUDFd9hAyS2EQOCi0kCCLexA8DXdQBHmzkAFenZA8RaHQALE00BHFdZAZBmLQNUVIEGQEp5AcrMeQe7Cr0CNZLZAw+2YQE1bR0H7upRAn4WQPxrILkGDH3JAomcaQST7hEBb7IdBAaqSwfIKUUBf5UtBXNEuQfc/KEG7rUNAO7mHQVibBEGw2gdBtofqQccy/EA7qoZBrx05QackR0F6r0VBN6U5QU8ID0HH8ktB81QlQdpCPkFktElBx5M/QUFsMEE0oidAH5a4v9zKO0GtGj9BtNeGQDFowr9H0DhBxvIxQbqP5j+QWlxBAW4OQR7kOkGNYztBRjvZQXBgCcCDeZ2/DqFlPhEqHL/xMn+/B0XJPvpqd78zI+BBqYgAwMw3nz7EM7S/9w6Ev4udPECOINlBltHSPkUQjj7mqu8/zNUoQNVMnUCYfI6/KiBXvpaX0z+3hUJAGXjgvb+hOkGWoDtBEnhKQTGHDUH5WxhBDvRvwT2pKEHSIR5BreIaQRhEE0He/ApBXnEYQe3FBUHxV1XB9CSBwBOW3z/f/05AnLwvQPrfLkAlJSJARdqZPxvhzz/WvPFAzql8v41P5kCTSQlBTaw9v4ztmT/3rr5AR0o+wDwC6EBZcHrAwBiNwLO++j8ADu5A",
          "dtype": "f4"
         },
         "xaxis": "x",
         "y": {
          "bdata": "OcgcwHi8A79vKFrA7P8HQIYbm7/+GW7AFOMvvXSt1D9IFSPAK1YGwIghucC+9Tm+K0YwwZWrYsB+ybm/XGrDwJ3jZcArEZ/AAk6iwM3Vm8DLG//AMkOrwGs5ncD6VLTAEGv8wD/uNsA7xidAXV6SQMf1lkAc/JbA1FBgQFMETkCiP60/I8QeQL8zMz8SUyu+QBJqQCZzkECP34pATXljP+sfzEDUUPs9Nvt2PyuZrEDSqQBAWwmkvxMl4D/ukek+W68yvrKMN0Binak/2aZAwQJXJcHAkyDBVLM6wZNAK8Fgti7BF580wfqnLMGhTTbBNgBDwfymNcGH9TLB6J87wW+lHL+4AEZAxfNHvx8R6D8i1fs/vuUOQDVWBUDgCie/n87/Pwc/4D82Pkc+MQJrv2wssz+iPBHBKWAlvsh80r/YwnJA0IrYQBKd30CH/1zAKHMQwUm1BUEhUQNBtfQKvwQ3B0GFEhHBBFJeu4lNjr5JSIm/2x6ZvZgvgD+1c5c86ZLaP4dnmECAdZu/4BFXQFzy4j1jdrxAUq6EQLoZyMAQMJzAENN7wEilhECVfaLAZnigwKBJw0BXbJrAGqm3wDM128Dv8NDALo+jwJ2W2j/X/pA/drTgQMlvFUCTGllBoVfaQKPetL0q8evAO9xMP1sK3b7dfPa9F5vMvnr/Pr9U58vAReOaP72EEMCsDzvAwyDqvrpk07+UqWe/nMjSv8BVFsAc9z4+/4U3P75chECgRXhAglRlQF+uoUADQJRAItLQQE5ss0C6a7NAE9zhQNWM30BD6tFAfB/qQH6SwUBQbSfAy0zrPwDvEsF9+QfB1IkOP5BP9sA89gvBam/nwJjQ6sDcfbzAcL28QOovt8Au/AHAwCO+QCgZvkB6OojAe7lDwDohhsAor1rA7Hp7wN10ncCl5ITA",
          "dtype": "f4"
         },
         "yaxis": "y"
        },
        {
         "hovertemplate": "label=9<br>TSNE1=%{x}<br>TSNE2=%{y}<extra></extra>",
         "legendgroup": "9",
         "marker": {
          "color": "#FECB52",
          "symbol": "circle"
         },
         "mode": "markers",
         "name": "9",
         "showlegend": true,
         "type": "scattergl",
         "x": {
          "bdata": "nIwTQt3dJ0IIYSdCpiQoQpHsHULQLhxC3RDQv2xKGkJV5QRCjx0lQh2+KUKldf9BtL8HQlT7IELR0BVCSkIcQooGHkId7ChCOfoiQmi9F0KnyQpC310KQqGXGkLrYxhCj2cPQoL5EcGGUhLBb3IPQmBAK0LyJwBCBzEkQtOkKcHI7hXB0aEVwWkkIcHzSKvBwqmxwcnGGsFf6ghC9cAmQsVvJ0KpYR5CluIcQsHrHEK0jBpC0DAcQgltG0KxJB1C0e8bQoAiBEIZBhtCZUrxQS7i+kHaGehB8mM8QJunBEIdz+lBvHUAQm9EF0Kr/exBmK/qQcXqIUKYdwlCBZYqQsFMz8GU5bXB9V2wwXH0tsFLbajB5nezwf60scE0r7HBGC+ywRxsusEBz77BW1DPwZAhqsE9myVCWKH6QeVlLUK3UgdC8lCmQeNRB0IaJCxCJAASQgcrBUIwbilCYAcDQnKUAkJoDApCPSQvQrRjJUJQiylCMdoSQoS4KEJW4CZCDnIuQkVULUIhISlC/volQnMsE0LuS+ZBWbkjQqb8CEJ7tyFCFGTBQR1p+UFC1yJC3V/6QSnkIEKbmbA/l/okQp5bBELpBAdC/R4nQgouAUJtMBhCBncQQUq0F0KmMRhCK1sOQhDBGELeFRhCndkGQh/bF0IVJghCZZoIQtZ/DULUof9BolEpQqh9G0JrWxhCLNwSQpx3FELT1hVCWEsrQoEpEUJUZyJCg1oQQqmOEELXqgFCIRYWQqJ3CkJJBRhCuMIcQtMtDEKH3xxC59EmQo5rIEKrHA1CnO0gQjCEF0IH/AZC15IIQsBBr8E056jByvfTwf/6rMG03zzB1c5LQF0MqcHx+SdCs5IpwbrOJEIMJaBBTShJQLQkMMGsDCJCgAwRQp2oI0L4fBBCQJ0JQstxC0K1ShlC3oISQo9rF0KODhVC0bUTQmXNEEJLkw9C",
          "dtype": "f4"
         },
         "xaxis": "x",
         "y": {
          "bdata": "CnZWQQ4dNkFsuTdBw+o1QVFozkDMJ7JBU/hTQROHSkE7dqdB5ftcQaT8ZkF+vIRB7uzfQRyjaEHOl2lBrDdgQf27WUGyMn9BcDxoQW7JXkEa04tBBV6OQfiqXEEsjIRBZ5GCQawYhkHvWo9Bh1evQVHFdkEf5JVBT+XGQZMXikGKWY5BZ7WJQcX7jEHXE0dB2JFBQWkOiEGQqd9BTK6FQbQ6hkFPGYdBA3yNQbYwpUF+UqZBRPqOQWlEl0EKy41BSoiZQd8Vy0EF8ZlBLrm7QTsJwUHwQ65BxNcqQDo93kHVJbdBf4rCQQmQz0H+jrhBmyO3QVRBo0EyRMpBnF2KQbFyWEHyiDdBNng3QYfyMUG5Qi5B1kczQRJ1NUG6NBJBX5oiQaZfQ0FHuFFBjCNXQfpLOkGjrY5B//LeQRCsiEEZG+RBrzApwC9Ly0H+z4lBNt2KQTHL30HuX4JBhVDRQf7Bz0GtX95B65iiQWXTr0E4FKxBT/i4QT1KmUGnwKJB8EWfQegHpEFelJhBQlmyQUH7uEERWalB6aSxQdOSPEET1w9B4cDqQdL8j0F7uw9BgF6TQS9jEEEMfNBAIMgSQe3AgUEudHJB85USQQmSgkE0b4VBQa5BwuylhEGHecRBkCe6QWEkykFIcm1BUYuVQVF5zUEP65lBWWuVQQh1rEEF+ZVBdxW4QWUTwUF9WMVBwF2sQan2kEFFmtJBh+B4Qcfmn0GgTpdBM7HCQTtkw0FwasFBeL+0QbSurUHpM7RBwCezQYASr0E9DLRBY+6kQYbRu0HE5q5B+qG4QR0wqUHcm7RB/9yzQXxWKEGU+VpB7LyYQdH+WUHeTYhB443WQWWcSEHYs21BfKqLQczpVkHC9tJAmp/XQZldjEH/AKxBczidQfMIe0Gwc5ZBdIGkQTDrpUGQXqFBdaeXQaXgm0GhD6FBBrRqQbIrk0FF9YFB",
          "dtype": "f4"
         },
         "yaxis": "y"
        }
       ],
       "layout": {
        "legend": {
         "title": {
          "text": "label"
         },
         "tracegroupgap": 0
        },
        "template": {
         "data": {
          "bar": [
           {
            "error_x": {
             "color": "#2a3f5f"
            },
            "error_y": {
             "color": "#2a3f5f"
            },
            "marker": {
             "line": {
              "color": "#E5ECF6",
              "width": 0.5
             },
             "pattern": {
              "fillmode": "overlay",
              "size": 10,
              "solidity": 0.2
             }
            },
            "type": "bar"
           }
          ],
          "barpolar": [
           {
            "marker": {
             "line": {
              "color": "#E5ECF6",
              "width": 0.5
             },
             "pattern": {
              "fillmode": "overlay",
              "size": 10,
              "solidity": 0.2
             }
            },
            "type": "barpolar"
           }
          ],
          "carpet": [
           {
            "aaxis": {
             "endlinecolor": "#2a3f5f",
             "gridcolor": "white",
             "linecolor": "white",
             "minorgridcolor": "white",
             "startlinecolor": "#2a3f5f"
            },
            "baxis": {
             "endlinecolor": "#2a3f5f",
             "gridcolor": "white",
             "linecolor": "white",
             "minorgridcolor": "white",
             "startlinecolor": "#2a3f5f"
            },
            "type": "carpet"
           }
          ],
          "choropleth": [
           {
            "colorbar": {
             "outlinewidth": 0,
             "ticks": ""
            },
            "type": "choropleth"
           }
          ],
          "contour": [
           {
            "colorbar": {
             "outlinewidth": 0,
             "ticks": ""
            },
            "colorscale": [
             [
              0,
              "#0d0887"
             ],
             [
              0.1111111111111111,
              "#46039f"
             ],
             [
              0.2222222222222222,
              "#7201a8"
             ],
             [
              0.3333333333333333,
              "#9c179e"
             ],
             [
              0.4444444444444444,
              "#bd3786"
             ],
             [
              0.5555555555555556,
              "#d8576b"
             ],
             [
              0.6666666666666666,
              "#ed7953"
             ],
             [
              0.7777777777777778,
              "#fb9f3a"
             ],
             [
              0.8888888888888888,
              "#fdca26"
             ],
             [
              1,
              "#f0f921"
             ]
            ],
            "type": "contour"
           }
          ],
          "contourcarpet": [
           {
            "colorbar": {
             "outlinewidth": 0,
             "ticks": ""
            },
            "type": "contourcarpet"
           }
          ],
          "heatmap": [
           {
            "colorbar": {
             "outlinewidth": 0,
             "ticks": ""
            },
            "colorscale": [
             [
              0,
              "#0d0887"
             ],
             [
              0.1111111111111111,
              "#46039f"
             ],
             [
              0.2222222222222222,
              "#7201a8"
             ],
             [
              0.3333333333333333,
              "#9c179e"
             ],
             [
              0.4444444444444444,
              "#bd3786"
             ],
             [
              0.5555555555555556,
              "#d8576b"
             ],
             [
              0.6666666666666666,
              "#ed7953"
             ],
             [
              0.7777777777777778,
              "#fb9f3a"
             ],
             [
              0.8888888888888888,
              "#fdca26"
             ],
             [
              1,
              "#f0f921"
             ]
            ],
            "type": "heatmap"
           }
          ],
          "histogram": [
           {
            "marker": {
             "pattern": {
              "fillmode": "overlay",
              "size": 10,
              "solidity": 0.2
             }
            },
            "type": "histogram"
           }
          ],
          "histogram2d": [
           {
            "colorbar": {
             "outlinewidth": 0,
             "ticks": ""
            },
            "colorscale": [
             [
              0,
              "#0d0887"
             ],
             [
              0.1111111111111111,
              "#46039f"
             ],
             [
              0.2222222222222222,
              "#7201a8"
             ],
             [
              0.3333333333333333,
              "#9c179e"
             ],
             [
              0.4444444444444444,
              "#bd3786"
             ],
             [
              0.5555555555555556,
              "#d8576b"
             ],
             [
              0.6666666666666666,
              "#ed7953"
             ],
             [
              0.7777777777777778,
              "#fb9f3a"
             ],
             [
              0.8888888888888888,
              "#fdca26"
             ],
             [
              1,
              "#f0f921"
             ]
            ],
            "type": "histogram2d"
           }
          ],
          "histogram2dcontour": [
           {
            "colorbar": {
             "outlinewidth": 0,
             "ticks": ""
            },
            "colorscale": [
             [
              0,
              "#0d0887"
             ],
             [
              0.1111111111111111,
              "#46039f"
             ],
             [
              0.2222222222222222,
              "#7201a8"
             ],
             [
              0.3333333333333333,
              "#9c179e"
             ],
             [
              0.4444444444444444,
              "#bd3786"
             ],
             [
              0.5555555555555556,
              "#d8576b"
             ],
             [
              0.6666666666666666,
              "#ed7953"
             ],
             [
              0.7777777777777778,
              "#fb9f3a"
             ],
             [
              0.8888888888888888,
              "#fdca26"
             ],
             [
              1,
              "#f0f921"
             ]
            ],
            "type": "histogram2dcontour"
           }
          ],
          "mesh3d": [
           {
            "colorbar": {
             "outlinewidth": 0,
             "ticks": ""
            },
            "type": "mesh3d"
           }
          ],
          "parcoords": [
           {
            "line": {
             "colorbar": {
              "outlinewidth": 0,
              "ticks": ""
             }
            },
            "type": "parcoords"
           }
          ],
          "pie": [
           {
            "automargin": true,
            "type": "pie"
           }
          ],
          "scatter": [
           {
            "fillpattern": {
             "fillmode": "overlay",
             "size": 10,
             "solidity": 0.2
            },
            "type": "scatter"
           }
          ],
          "scatter3d": [
           {
            "line": {
             "colorbar": {
              "outlinewidth": 0,
              "ticks": ""
             }
            },
            "marker": {
             "colorbar": {
              "outlinewidth": 0,
              "ticks": ""
             }
            },
            "type": "scatter3d"
           }
          ],
          "scattercarpet": [
           {
            "marker": {
             "colorbar": {
              "outlinewidth": 0,
              "ticks": ""
             }
            },
            "type": "scattercarpet"
           }
          ],
          "scattergeo": [
           {
            "marker": {
             "colorbar": {
              "outlinewidth": 0,
              "ticks": ""
             }
            },
            "type": "scattergeo"
           }
          ],
          "scattergl": [
           {
            "marker": {
             "colorbar": {
              "outlinewidth": 0,
              "ticks": ""
             }
            },
            "type": "scattergl"
           }
          ],
          "scattermap": [
           {
            "marker": {
             "colorbar": {
              "outlinewidth": 0,
              "ticks": ""
             }
            },
            "type": "scattermap"
           }
          ],
          "scattermapbox": [
           {
            "marker": {
             "colorbar": {
              "outlinewidth": 0,
              "ticks": ""
             }
            },
            "type": "scattermapbox"
           }
          ],
          "scatterpolar": [
           {
            "marker": {
             "colorbar": {
              "outlinewidth": 0,
              "ticks": ""
             }
            },
            "type": "scatterpolar"
           }
          ],
          "scatterpolargl": [
           {
            "marker": {
             "colorbar": {
              "outlinewidth": 0,
              "ticks": ""
             }
            },
            "type": "scatterpolargl"
           }
          ],
          "scatterternary": [
           {
            "marker": {
             "colorbar": {
              "outlinewidth": 0,
              "ticks": ""
             }
            },
            "type": "scatterternary"
           }
          ],
          "surface": [
           {
            "colorbar": {
             "outlinewidth": 0,
             "ticks": ""
            },
            "colorscale": [
             [
              0,
              "#0d0887"
             ],
             [
              0.1111111111111111,
              "#46039f"
             ],
             [
              0.2222222222222222,
              "#7201a8"
             ],
             [
              0.3333333333333333,
              "#9c179e"
             ],
             [
              0.4444444444444444,
              "#bd3786"
             ],
             [
              0.5555555555555556,
              "#d8576b"
             ],
             [
              0.6666666666666666,
              "#ed7953"
             ],
             [
              0.7777777777777778,
              "#fb9f3a"
             ],
             [
              0.8888888888888888,
              "#fdca26"
             ],
             [
              1,
              "#f0f921"
             ]
            ],
            "type": "surface"
           }
          ],
          "table": [
           {
            "cells": {
             "fill": {
              "color": "#EBF0F8"
             },
             "line": {
              "color": "white"
             }
            },
            "header": {
             "fill": {
              "color": "#C8D4E3"
             },
             "line": {
              "color": "white"
             }
            },
            "type": "table"
           }
          ]
         },
         "layout": {
          "annotationdefaults": {
           "arrowcolor": "#2a3f5f",
           "arrowhead": 0,
           "arrowwidth": 1
          },
          "autotypenumbers": "strict",
          "coloraxis": {
           "colorbar": {
            "outlinewidth": 0,
            "ticks": ""
           }
          },
          "colorscale": {
           "diverging": [
            [
             0,
             "#8e0152"
            ],
            [
             0.1,
             "#c51b7d"
            ],
            [
             0.2,
             "#de77ae"
            ],
            [
             0.3,
             "#f1b6da"
            ],
            [
             0.4,
             "#fde0ef"
            ],
            [
             0.5,
             "#f7f7f7"
            ],
            [
             0.6,
             "#e6f5d0"
            ],
            [
             0.7,
             "#b8e186"
            ],
            [
             0.8,
             "#7fbc41"
            ],
            [
             0.9,
             "#4d9221"
            ],
            [
             1,
             "#276419"
            ]
           ],
           "sequential": [
            [
             0,
             "#0d0887"
            ],
            [
             0.1111111111111111,
             "#46039f"
            ],
            [
             0.2222222222222222,
             "#7201a8"
            ],
            [
             0.3333333333333333,
             "#9c179e"
            ],
            [
             0.4444444444444444,
             "#bd3786"
            ],
            [
             0.5555555555555556,
             "#d8576b"
            ],
            [
             0.6666666666666666,
             "#ed7953"
            ],
            [
             0.7777777777777778,
             "#fb9f3a"
            ],
            [
             0.8888888888888888,
             "#fdca26"
            ],
            [
             1,
             "#f0f921"
            ]
           ],
           "sequentialminus": [
            [
             0,
             "#0d0887"
            ],
            [
             0.1111111111111111,
             "#46039f"
            ],
            [
             0.2222222222222222,
             "#7201a8"
            ],
            [
             0.3333333333333333,
             "#9c179e"
            ],
            [
             0.4444444444444444,
             "#bd3786"
            ],
            [
             0.5555555555555556,
             "#d8576b"
            ],
            [
             0.6666666666666666,
             "#ed7953"
            ],
            [
             0.7777777777777778,
             "#fb9f3a"
            ],
            [
             0.8888888888888888,
             "#fdca26"
            ],
            [
             1,
             "#f0f921"
            ]
           ]
          },
          "colorway": [
           "#636efa",
           "#EF553B",
           "#00cc96",
           "#ab63fa",
           "#FFA15A",
           "#19d3f3",
           "#FF6692",
           "#B6E880",
           "#FF97FF",
           "#FECB52"
          ],
          "font": {
           "color": "#2a3f5f"
          },
          "geo": {
           "bgcolor": "white",
           "lakecolor": "white",
           "landcolor": "#E5ECF6",
           "showlakes": true,
           "showland": true,
           "subunitcolor": "white"
          },
          "hoverlabel": {
           "align": "left"
          },
          "hovermode": "closest",
          "mapbox": {
           "style": "light"
          },
          "paper_bgcolor": "white",
          "plot_bgcolor": "#E5ECF6",
          "polar": {
           "angularaxis": {
            "gridcolor": "white",
            "linecolor": "white",
            "ticks": ""
           },
           "bgcolor": "#E5ECF6",
           "radialaxis": {
            "gridcolor": "white",
            "linecolor": "white",
            "ticks": ""
           }
          },
          "scene": {
           "xaxis": {
            "backgroundcolor": "#E5ECF6",
            "gridcolor": "white",
            "gridwidth": 2,
            "linecolor": "white",
            "showbackground": true,
            "ticks": "",
            "zerolinecolor": "white"
           },
           "yaxis": {
            "backgroundcolor": "#E5ECF6",
            "gridcolor": "white",
            "gridwidth": 2,
            "linecolor": "white",
            "showbackground": true,
            "ticks": "",
            "zerolinecolor": "white"
           },
           "zaxis": {
            "backgroundcolor": "#E5ECF6",
            "gridcolor": "white",
            "gridwidth": 2,
            "linecolor": "white",
            "showbackground": true,
            "ticks": "",
            "zerolinecolor": "white"
           }
          },
          "shapedefaults": {
           "line": {
            "color": "#2a3f5f"
           }
          },
          "ternary": {
           "aaxis": {
            "gridcolor": "white",
            "linecolor": "white",
            "ticks": ""
           },
           "baxis": {
            "gridcolor": "white",
            "linecolor": "white",
            "ticks": ""
           },
           "bgcolor": "#E5ECF6",
           "caxis": {
            "gridcolor": "white",
            "linecolor": "white",
            "ticks": ""
           }
          },
          "title": {
           "x": 0.05
          },
          "xaxis": {
           "automargin": true,
           "gridcolor": "white",
           "linecolor": "white",
           "ticks": "",
           "title": {
            "standoff": 15
           },
           "zerolinecolor": "white",
           "zerolinewidth": 2
          },
          "yaxis": {
           "automargin": true,
           "gridcolor": "white",
           "linecolor": "white",
           "ticks": "",
           "title": {
            "standoff": 15
           },
           "zerolinecolor": "white",
           "zerolinewidth": 2
          }
         }
        },
        "title": {
         "text": "Visualización del Dataset Digits con t-SNE= 30"
        },
        "xaxis": {
         "anchor": "y",
         "domain": [
          0,
          1
         ],
         "title": {
          "text": "TSNE1"
         }
        },
        "yaxis": {
         "anchor": "x",
         "domain": [
          0,
          1
         ],
         "title": {
          "text": "TSNE2"
         }
        }
       }
      }
     },
     "metadata": {},
     "output_type": "display_data"
    },
    {
     "data": {
      "application/vnd.plotly.v1+json": {
       "config": {
        "plotlyServerURL": "https://plot.ly"
       },
       "data": [
        {
         "hovertemplate": "label=0<br>TSNE1=%{x}<br>TSNE2=%{y}<extra></extra>",
         "legendgroup": "0",
         "marker": {
          "color": "#636efa",
          "symbol": "circle"
         },
         "mode": "markers",
         "name": "0",
         "showlegend": true,
         "type": "scattergl",
         "x": {
          "bdata": "oxSOwb37ecFQVY7BYRqOwQX8fcF8SprBI3KiwXmdisGYm5XBLLuwwbCHp8EvEJzBdDKTwTQqmMH5MIjBOhyjwbKafsES3IvBvwuowT3/i8GaIJHB0hGbwfgxh8GAqpzBJ1qnwRxWlsFccnzB/3ifwQDEjMExyX7BEVuJwfj1mcG/iJnBxHyUwQCSj8GhFHvBhpqIwR49o8EV86HBfSeuwbOQocEttZjBLuiAwf4prsEnD6TB3tScwbUDn8FGEInBsz6XwXPip8F4r6DBP42UwXQhi8Fl+5XBH2SNwa4UisF9kKLBlUiTwVAJrsHlyIDBZuGRwS1Xm8F6eobBC/uGwS44ksEpO3nBA6F+wcOGfMGD7IXBGsGbwcFmj8G/+YTBphSEweGNiMF/v4LBTuCTwbspl8ED/4rBHx2VwTfKpcHOR4DBm0uVwSGZj8H83mnBf4VvwbgldMFroIXBJeGAwfQAl8FL7JDBDJhqwXSCnsHWFZzB8lSXwatFnMFmXZjBdQKhwTvJlMHsl6/BSvubwdg/o8HClI7BhvKbwcKlrcGXb6LBQ46iwVNxr8G5MbTBItmpwYSAncGcAqrBOWqtwb8RkMH2qaTBr/aRwXO/icGYs4bBurqAwROcicE2Lo7BgLWJwcVbg8EKM3/B4wKAwTB/g8G635PBTL97wao9r8F5RY7BoXiZwZM9sMGvPYLBKC2VwcRXk8HAmZHBvAmHwX07kMF44pvBzOaSwcutgsGl9ZvB3V2gwZ2omMHA9aTBIX+iweewnMGHg53BCJSuweTssMGiL7HBv4iYwTXCpsGot5XBqg6PwSg7ksEWA4nBetaAwejgksGc84TBWOBnwQSsmMFDTovB0uimwaDZicGkYYrBHLykwa2on8GLXavBl7qRwWUOgMEfxbbBZ3yLwdp0eMGUEKnBSnCJwQUnq8HbpZvBsPyAwQ==",
          "dtype": "f4"
         },
         "xaxis": "x",
         "y": {
          "bdata": "Dqq+wREMtMF+R5rB267MwX90osGxdq7BDcagwewymcEhIZfBjpKpwWXdsMHUMJPBmduYwWlBqcFkQ5/BMQaZwf5AqMGCyKzBfc+1wR5Yk8H/J5nB65yewVf5mcFgwZTBs++zwYIjncHmRrfB0omtwdL1s8ExGrvBY13Kwb7KssG6dbfBw0m2wX/rrMH4VLTBfUy0wfvipsHTQqjBu2OswfQGscEJEqDBrDuiwQHbr8E0C7HB/MufwUV8vcFLWKvBoCzBwVXonsHn05rBBJixwQjKrsHM7LfBfHbEwapur8HvcbvBJ7euwbr3vsFztLfBVNOQwenix8E8fa7BOWHSwa4gtMFkpq/B01nJwWOwq8E8QrPBJ32rwV3PocHQMrnBSQmTwTU0osEudqrB+HKpwZlDoMGl66fB2ibMwTsExsFrPb3B4+y2wRdNtcFYG6rBITiywTPSvsHWI6XB+tGdwfZNw8F2+MDB59G2wcrrvcGETbrBOASuwSIJxMH8/L/BrgTFwZe6zMF21LHB/ATEwaChycE/m7vBofGpwV2jnME1S7nBpLSewU6blsF5gZbBwynBwf2YusGqtr7B5LW/wR+avcHbGbfBEjCxwVNTv8GTMcDBIzTIwaYXzMHy3tPBsPHNwYNlxsHJPcnBMQbKwW2DxsH5Y47BkSHNwaJVnMHln6LBdBulwZVyusGcR5XBR0ulwYpYo8GjpsjBoue0wZAEv8FtLKXB3XmhwR2al8Faqr3BMbmmwUqat8FBoKjBnESrwRsWscH4vrHBad65wUxlvMH8+LjByj+0wcXSqMH+uLvB92eiwZ54nMGhmKPBoeSJwW2OqsF2vYvBaVO9waswksFK5Y7Bs+2/wbpSmcGSKrHBcPitwYQ2o8HP26XBCRC5wccqp8GdkbHBKwi7wboIoMHwI63Bfse5walJqMESyJDBYUyowQ==",
          "dtype": "f4"
         },
         "yaxis": "y"
        },
        {
         "hovertemplate": "label=1<br>TSNE1=%{x}<br>TSNE2=%{y}<extra></extra>",
         "legendgroup": "1",
         "marker": {
          "color": "#EF553B",
          "symbol": "circle"
         },
         "mode": "markers",
         "name": "1",
         "showlegend": true,
         "type": "scattergl",
         "x": {
          "bdata": "f80zwT0NicCeTHPAPaaXwGXqksBi2YTAKxOZwEgCi8C8jqvAkouWwABwNsGgYi3BfZ+FwMJQ0b8bjlvAF4ApwAOnI8DD3xzA/9VJwJ+plsAjsi3AqC2fwGVQJsAQsGPA0sWLwFQ/ScCiahjBbBC6wItSB8F8/xHBHZ8cwSCUm8Cjlh7BX+YPwQmT0MBzNR7BWcguwfk/MMF6+xPBfgHsv5dDgcDhoF/Ak3ZmwDiIgsB1k5E/DLtdwI2BkMBBIaLALoGOwLU1Z8ChMnbArTRVwN2X6z6zM5U/34bfPQyZx747L5a/GncdP0uHWr+kLpC/85pkv+X6Wb8RIZe/+Bf8wFrKBT+qdRDBST4NwSEHFcGvNv7AFuz9wEfoH8HDagzBqjwfwSvcFcFeGAvBih0IwR8wCcECqgfBd5IywQvWMcFgzyTBsHflwAcDBcGdwNk/qkH8wMS5DcExUhDB1rsiwZXjH8H24yPBjJwIwVzasD857KA/eUnYP/guCT/NUE0/vqxFP7HDHD9qYy0/Ss2qP3quUj9fTTQ/ST4xP9nyej8TwfTABjwFwcFDK8GwR/XAGhImwURnHMHKMDDB2t8cwZjMK8Ea6+zAjfUcwVhAKsEiQyPBO2uXwMZoksApkDHBfR0TwdGFLsFZE0DBaW0dwS3CK8HvfDHBaoIgwZDuHcEb6yjBQdwIQFJ8CMB3oTDBpgIowDAaPcF1xDfBXCFqwJXnLMHI5ZPAdNw4wd+AOsGKATjBSF4twVavNME+RQ7AcDzivw+PN8Ccvsy/a8u6vxuzob8ujJW/bmZIvxL3+L/u3DLApOPUv/DYnb8Bf2C/0XE6wUtFJsEjBibBYnZAwZUAN8GY+DLBb2wzwQIBOsF/20bBDMlDwVtMNMHk6D3BdWQ/wRlPAcFDXQTB5/0NwTXI/8CgHArBOxECwcrH+MCQgObAtksNwb/Z98DpbgzBItvqwA787cA=",
          "dtype": "f4"
         },
         "xaxis": "x",
         "y": {
          "bdata": "D4qfQLKTxsAZjarAMwHDwJVUmsAKoKvAWEqOwPMcqsC9iKnA/1jDwIb4iEBAzAtB5GjZwJ2208DwruDAGijlwCPEy8A9F+HAPEyzwCfF2cBYBdDAXyznwG4D6MBQSLvAKL7UwMUy08DcBuVApFbHwJY4XEAFxg5BoZWZQF435MC6CfdANUxvQO1jucBiKMpAbuv2QFlUykARISJB9bOjwCdWWcAfxonAOKifwNhFZsCg1dpBGcOgwOM4asBN8XTAu6+0wMr3ccBndWXAtx2PwPt2z0HbrtZBo5HZQZG11UHkIdhB1rvXQcay1EEgmNhByZ7YQXjV20HKwdRBmUMJQT6eykHdpdVA6rkQQfYiE0ETf6RAlmKnQPDutUBbDfJAcf6sQGTRKkGwjSlBz7IBQZeAyEBG075AX2zdQNW6ukChnMNAP9MCQaiWBEEv39tBM8XEQFnUHEG+/utA8dX1QK8F+EB+rd5AqUmuQOn+2UE0OdlBLX3eQbSBy0GpgtFBR9PTQZF0zUGIGdBB22bZQW4M0UHLJ9JBhMnNQZ601UFXPMdAAWjiQIQZ5kAp9PVAmgz3QMHHHkEAvOVATXULQU/11kCDFOJASBXUQCTdCUHPmwNBOjGBwChzk8AaIUJAY/naQAHnHEDtMOtApVkKQeZo4UCK8jFA+m8BQVW5AkHvYx9BXblSwFSEecAZXTtAjZbswNTy70ANqdhAq5yUwBc61EAHgIvAute9QOt61kArnOhADZ0BQVXjBEEV7oTA8wiawLwOpcAYIMPAfF3EwM/mmsCn1aDAXgSrwIluhcAEkqfAuoizwOIxvsBOraDA0K71QAXQFUHuJSFBbzjXQGzm/0DdDhZB8IT4QKRz+UAdDeZArGnYQO+x4kBg8NNAVCXRQCzDFEEUPtdAEosQQdp5C0EH0eZAuegWQVoCAEEc2AFB7sWjQOWf3kC4GgRB0XT6QKaj8EA=",
          "dtype": "f4"
         },
         "yaxis": "y"
        },
        {
         "hovertemplate": "label=2<br>TSNE1=%{x}<br>TSNE2=%{y}<extra></extra>",
         "legendgroup": "2",
         "marker": {
          "color": "#00cc96",
          "symbol": "circle"
         },
         "mode": "markers",
         "name": "2",
         "showlegend": true,
         "type": "scattergl",
         "x": {
          "bdata": "yqXpwE9ToECSv7tAJUbuwKU84cAim93AALbrwODm48BzjN3AACYmQeGLDEF9F+3AgPvvwMV/KUG1dQZBJ+afQP/e4EBSTfRARf4NQUz79EBeB5VAMrnSQOPI50C0XhhBff80QY5j0ECYPfFA0Ej4QESQHEGUtzJB7GHpQCrG8EALqxpBPicAQcm1KEG0dvhAiNX1QBa6LEHTbiFBoIa/QCoop0CdcvVAzsBaQBgN4EB7I+JAzGa3QPp8w0CBm/ZA6rAEQTnbCUFfnwFBDSBAwdMVIkCVZsdAy4B3QLLuakGGA1NAM1VmQBedVUBNHitABkrrQBYxK0BpZTZA4tn9QMAqHkAcXQpBR6LSQO3z60BR5q5ACiXIQOQyDUAEQhRAdse2QGwnzEA9pzRBFzXkQEnD2kBAmu5A/XUdQY3TLUHwokFBWfHjQAz4RkFQajlB/7cVQd2tTkEur0JBzE1/QPgIUEFspTBBJpT2QGJ7FEEOYkBBIIoPQZIiGEFMQRZAZryCQHBAbkBfLxdAjPgzQVittkCdKj5ADpIlQUDWD0EHs5pAyH5DQIl0O0Bw8WJAQyKlQJu6IEAPLIlAMOAYQQeumEAgqOk/73AiQZ6uhUCSZARBo4G5QNaP7EAASzhBz2sGQSyjEkGOuodA1AwJQc3+OkGPFTNBty18QR6nO0D9GKU/7BRQQOWZEkBGoeQ/hUilP8/nB0D4u9tARZjDP3kFLEAASQtAZ0NLQO+hGEBnPAdB/tUmQSKvMkE1WjNBfl8HQWyeOUEfPiFBqhcmQZG6LEFfAUNBHAMkQWVSqUAxuh5BWEamQEk+oUCNsp1AK2+rPw1rFEGDIM0/RLIVQaW+4r+nnh5B5vbQQGZiUEC6wAFBaX8BQZhWAkH/KA5BbcA9QVJjQkELKyJBuSZGQX77EEEKwr1AsME2QTonA0GcM/pA",
          "dtype": "f4"
         },
         "xaxis": "x",
         "y": {
          "bdata": "4t9APxVSwUEGKrdByjORPwiKSD6w9Hk9cFkUPweiEb7dXtm+a/avQTmxjEGVmYk/DImnP/MMrUGqZ5NBkxWeQUZApUGLsp9BLg/GQd2htkFZI5tBU1ygQUOAo0HX/MVBLGCwQaFKpEEJG65B+VOuQWG0pUFdAalBEByhQYuOqkE2cK1B/82pQSFopkH/v59BuMCqQWG0pUFj7rJB5jq8QfofxkGYcr5BDFjHQZ1Yu0Eef71B9QrCQa8dwEFBd7lBZFzBQUAhukHsvr1BR4p3wc3nuUE9qq1BqNXOQbk5g0ERDs5BsWC3QfZ5zUGeZslBI/auQa6X10E8ks1BLcetQaMkzEGIoJlB4z6WQdVdmkFz9JRBnzCVQV8GFkH6JhVBpfOTQTcpl0GjbKFB/pSXQZqXlkF0U5lB/G2pQYFJtEEfzKhBPPGgQayRrkHJxaVBkj6+QWtIqkFCB7JBK2mcQUpjq0EJYxLBqNOWQSgvqkFLcrdBDnuxQSPbtUHBhMVBTIK7QRT1ukEebcVB28e4QYxluEH+k7xBPK65QfHgs0EB+7FBB3y7Qf5gtUH167dBFujGQSMusUG8Br9ByLK7QRvKtUHzV8VBEhixQSROuEH9VZpBpTmnQWDimUEL7KhBNYuqQUPNqUFYj6BBKiCeQY/NpUFWJ6RBp6h0Qbr4sEHdTsdBaQSoQXSVsEE7b7BBV3vEQY05tUGlzrhBi3SsQSXmvkEy7bRB7Fi4QekIvEFnHb1BXdTAQaUku0Fcvr5Bpoy9QYdPvkGcar9B5+O8QeLFvUFav7hBeeu4QShOpUG/C79BqMK4QV5byUERr8hBYWSIvyVwtEFQTa9BRcCcQd0p0EH02a9B68/OQV9EqEFAr7dBON+PQYHkjUG8oMZBSJm7QSYzt0EXQsRBeu7BQQpCoUEIe5xB4na+QSM8vUHoEcVB",
          "dtype": "f4"
         },
         "yaxis": "y"
        },
        {
         "hovertemplate": "label=3<br>TSNE1=%{x}<br>TSNE2=%{y}<extra></extra>",
         "legendgroup": "3",
         "marker": {
          "color": "#ab63fa",
          "symbol": "circle"
         },
         "mode": "markers",
         "name": "3",
         "showlegend": true,
         "type": "scattergl",
         "x": {
          "bdata": "qDoxQe3vFkF/Yp1A7sENQab75ECgGwNB7moCQQ4gFkGXAxJBgvj6QJm5I0E6/RNBhSEiQTFgGkGDzihB330VQfy09UDKJSZBk10ZQZ7VrEDphxRB4ugUQZgbBUFC0A5BzqkTQUyfiEDBvDFB/JkiQTJDCEGwARtBXLM3QXhD9kAB7CBBdy4iQa4pHkE3evlAc6wyQbY5N0FeI/hAlsbiQBZ810CesjxBtUg6QRpOz0B8KsVA4Xk5QVLqMUFMVDtBrZo7QanjO0EE+0hBGIw7QYLG/ECoLJFAuI5yQMXQUED56pFA+iOYQCDPpUC822NA5maBQNjibECc5GBA8PtdQOisjUAGfYhAKQ0hQbVmJEH54CJBeaKPQDadGkHUeBxBqYMQQR/iF0F0WB5BmvYYQcpBSEE3lUZBnpQjQZvVSkHPvhtB1XoeQVka4kCfNeFACXjhQOf3h0DF65dA2aP3QNukKkHVywhBmNYHQVn2wUBAl85ATBvkQGl3MUG5HdFAN6IMQXf63ECgFjhBvjpKQdS9OUGW6spA42U6QdRG1kBIbEtBkxfvQGsH5UB6nudArvzgQNkibUFrHNlAAbgQQeZEA0GDn/5AjHD6QJWVF0HAwvBAKuYBQfDXEEFdYeFATsTzQLaFHEDiofxANG7aQMJUsUDuiihBsqAhQawZ0kD5Un5BdKz5QK77KEFWsDRByx7XQJlmNUFDUAdBWpHHQLweHEEXrAxB0r8RQXd+BUGMWt9AVecWQVijHUF/DQlBpd81Qd7KLEGnti1BjucAQej4NEFkIQ9BfE0rQXfADUEGRhVBH/UZQc4LAkGd0gFBjRcTQTLfxkC9sp5Ak5ffQAyEe0Do4FZAjCpwQJiqdEBOahdAUYPiQABu0kBT+KxAkgzLQM2w2UAEFVVBBE9oQBOmZUH3yxZAmGpVQHnkREA5cHFBPFxZQM9odkDjbbBAopAkQY0YZEFOyRpB",
          "dtype": "f4"
         },
         "xaxis": "x",
         "y": {
          "bdata": "hJYhQUwxU0ET6SpBDTE6QUIARUGLYj9BxN1GQWI0XkF++V9Bba9LQUQHbkGHxmBBRBB7QXZobUF+jmBBoxhsQdGERUH7WltBN7RZQR/qJUFsSkxBXjhhQThhVEE6iFRBvj9qQYk3KEFVEB5B4tkVQQKSHEFcFhRBRaw2QatyLEHzTiVB5W0nQUJdF0HwRi5B5iQ/QUtDQUFoqxdBn9IvQSYJKEFgZhVBC9zYvwwdaUF0am1BergEQTcdA0HHggdBGpMPQYAUE0EKNw5BndY3QVvWd0EZuNJAmo3aQBCmz0A/ot1APUDJQDDuE0ERRrZAr1vQQLT20UFAQNhA6bbJQOmB30BKJttAV90BQYJv6kAp8g1B980JQZd07ECf+AlBX+n4QBNCKkHoEf1A507/QBFgJkF21SRBVd4mQcnQM0GvajVBX5k7QQZ3VkEaRVlB509bQSqGLUHTCjdBxUInQXK5Q0HMhjVBOBk8QaIHO0GRnAJB3RRrQQ0qL0H8MXNBWFsuQVFqbEHIiPq+nu3tQPWoib9wjgNBP67Tv18MakHOLvJAMhoHQXF1/UCQrAtBVIwOQVHRgUGmYRZBa40EQRUSAkHKNgBByOUAQTxNEcEr4/ZAeBkCQWHrC0ExIBlBbGTyQOX1ZUG0FOhAfJEwQVPJKkERB1ZB66NpQc4EOkHnRGhBcNkeQSvmbkFb4l5B1UQaQcQdKUFaAw9BIqdBQXFQ5EBpjeZAEvXmQLDVHUGARDhBr44cQUG47kDChAxBg3kUQYKdG0FuUT9BcmMmQRzMK0HerxtBqaguQbnFKkFacChBQLUnQYwJKkH48hFBPzYuQRnzREFn3CJBz444Qd5hZEFwwV1B4aRnQWYiWkEC8k9BlfxDQejpRkEqw01B6VBBQUofQUFbxS9B8hpRQXDWN0FmFGRBHONDQZnYQ0GR0gnAQvJKQTxPQkG7iDhBEXIdQXlvMkEbAElB",
          "dtype": "f4"
         },
         "yaxis": "y"
        },
        {
         "hovertemplate": "label=4<br>TSNE1=%{x}<br>TSNE2=%{y}<extra></extra>",
         "legendgroup": "4",
         "marker": {
          "color": "#FFA15A",
          "symbol": "circle"
         },
         "mode": "markers",
         "name": "4",
         "showlegend": true,
         "type": "scattergl",
         "x": {
          "bdata": "0ISjwJggX8DTIJnAnFdrwJR0rsCLwwfA3QUFQNaspMCfHaHADa/evxCwGMCY9du/kvBkwBochMBvJfjA3izdwEDwBMFuXePA1OoFwd/B+cBgJPDA+9EFwdjv4sDsVc/A0un1wFLlG8DwxknA+3NAwOtTjMAKPV3AnfeDwMzXP8CcVqTA9Y5Kv66+7MBfMnbAd5ZuwJo8aMDrN/vAWDvJwCpP3MC/yrzAz0viwN4z18BPmaDAsb7pwJxf0cAu5azAKlHKwBPHp8By6QHBcQ+ZwIc1YMAHg83ALhibwNcGhMBpeW7AHw6hwJYAq8Bv6aHAZ1DpwKbslMAFJpzAYV2LwKJ+1sAwDeDArty0wO1nuMCMAiLATmDVwCjT2MA6gpLAhwkEQQQNPMHbe0BAAU7zwGBsAEEzIejAGsvIwN+bI8EoxdDAB8bAwEAby8C1PtPAivMswe/CDcF0ds/AxLTHwOZMHMFMgxzB+KSuwIksKcG5m1vAotzSvt9aR8C6IVfAoA84wSOlpj8yfjW/diKIwBls3z7lUItAUupfP39QMD97KyxA0Umkv71yJ0B27+q+U2m1PjLra7/bHGu/uAoowCuGjsDujfc8x689wEfQpb/JWVfAXj/IwFHOicBdFqDAqqX2wG+9ZsBOmaLApLqUwHfRuMCAd+PAZXfsvvAqucBl+fi/dxsPwf+pFMEhzRjB2eAHwZxQC8FJ7/TADej7wKILD8G6vYXARG3owOIg38DRTsvAYwX5wA2xoMDv6sTAYlCnwLNTrcAIv8TALW+swE3lycCF1KvALxCiwGm5wcDpu1/AJli6wB9SwMCBsCvAUvwmwAQ5LsA9NnrAcWolwNBkoD6ai6Y+6R6LwBbERMD7r0nAU6szwGWGpz7jOWzAt6HHwOvEocD0q5/AdOtrQDElTj0k4RzBU84cwTi48MB5h5rARdahwLaTHMFYsNTA2wbAwA==",
          "dtype": "f4"
         },
         "xaxis": "x",
         "y": {
          "bdata": "NVdFwdMAZcEO6yvBFXtxwcrZWMEGb33B8iBXwNr5OMF1kzjBq/qMwZMLgsGvmoXBh8B0wSqYN8HvTjnBdqg1wVj4MMEs+CfBo0kewXpzOMHWUzbBO3AewSZiK8HOVyLB7n45wYQvhcHv7IHBW3CMwXBYeMG35YTBlQaSweTKg8GcoXnB8mh+wd5KecGAvXjBnfmIwanjbsE+yyPB3hCRwVNNM8FNQTfBkg1OwZBbLcGboSbBBTpPwaolOsEjEijB5uouwYfiLMEAByHBLYuXwQGVmcFv2I7BuD6PwdrxiMF15pjBqFuYwY3zksEye5XBQlqSwSlChMHg2JvBh0mZwUL0OsFQDUPBzkYcwf7ePcHmhGjBi8I3wU2xQcFyyZfBe4QswaSdfMHJS4LBdy+OwdXuLMERfInB5pR6wbqAisFWjG/BOSWCwerKh8EkpWTBOVCKweGrbcFz44fBqhNpwbk/iMFnmobB9+lewV+iisEU8kzB2PxmwWprSMG73UvBqQuGwWonWMHEGlTBUNRXwW70XMFUaWLBYdZewRHKXsH4A4LBN35wwYvRgcGjqHDBEJGEwSxxdMFWQnrBkPJ7wQlHZ8H5AmfBGqR3wYTJgMHvtHrBs2dfwVQRj8Hy+ljBERNpwZwEaMEeWV7BvYhrwbqWecH2nW3BdtVgwcamYcFjtI7BFPdmwY+eZsF80WTBIC5nwQuQY8F5N3fBoaB6wS5GZMFRyHHB74JdwQzIXsGXmFjBpVx6wdmimcFea4zB+rqOwdeXbcFWho/BuaiFwW0uhMGu1o/BAkGNwQyeiMEQGZTBXeWMwbf1eMGHRIfBbd2EwUC8ksGC/YXBwZKRwTBBREHq6ENBV0uHwbArh8HvhYPBzwOWwfhgQkHJr4XB8sURwf7jeMGjGGjBlS5SwWi2WsHuW4LBsXCCwenHbsG5mEnBc9tHwaWmhMFVXmHBvdZpwQ==",
          "dtype": "f4"
         },
         "yaxis": "y"
        },
        {
         "hovertemplate": "label=5<br>TSNE1=%{x}<br>TSNE2=%{y}<extra></extra>",
         "legendgroup": "5",
         "marker": {
          "color": "#19d3f3",
          "symbol": "circle"
         },
         "mode": "markers",
         "name": "5",
         "showlegend": true,
         "type": "scattergl",
         "x": {
          "bdata": "QaMvQRmYuUEhJbRBZ2aiQX4DtUEPbapB1TumQZNZokEqqIVB3xmsQXScsEHvK7pBeZaHQcw9v0F9fbZBbL3IQciHt0GzK8RBV3+9QU1nukEG8bxBwJTFQS3zukGdf7pBuQjBQTquvEFSDYxBZbmqQW3plkHZZ5JBfRKKQZDXakEfPpRBXz2BQRUxlEGFGopBrg+lQWSth0Ebyb5BvYGVQQW0nkER9ZtBb0OQQYsVn0HPpIlBP56YQQGKlkFxm51Bg0qbQecbn0ExK7NBEt+ZQfFVkkECAIFBI3iGQQlOmUFiI3tByOeDQX4fh0Gmq41BQi2CQepgeEG6yo5BV9KWQVdWgUGyFp5BMgm1Qedft0HSQ6dBkA28QVH1t0GvFrZBKV+lQTPNpUH3TJJBfMywQZKwvkEJqMtB/IiyQd9vwEF7MsFBmPumQf5Vt0E3D7BBqwmyQSqPqEHSG7NBQguhQXrav0EijqdBDRnAQeiAj0Gq2G9BZKpLQdv7ZEH0GIlBMtpiQf3nYUGr6oVBXLlwQYmUmkG+hGRB2LhgQVZUgUHWwrVBE3moQWi7lUGIn7JBbpm9QfTZtEHlf6JBCZulQfZLvUFRnq1BQN6iQXRSu0GsQadBPmqWQdJWkkFwmcJBxLOgQVFapEFa+rZBVFOiQQ/1uEFbq5hB86nCQYYSu0HZPsxBBNK+QRwXhEGFVapBKvqkQVn3pkFQYadBzsOgQV59pEGpkJxBLgSywY2bsEGYYq1BwnqbQdhznkHvqYZBLgKAQSIiaUF8TYBB+Y6CQRzhgUGLZnhBHDB/QakZikHgD3pBPhdTQTtPhkHvuJlBSLfAQRAewkFppb1BBafHQQWQw0En/8FBb1PHQZAowUEFCa9BPRXEQab9rUGTpMFBBWXBQcYkkEGJDZdBRTWWQcy/oEHSzplBru+eQfHGlUF6kpFBTmqVQfQAikHLdZBB1nWWQaC6jEE=",
          "dtype": "f4"
         },
         "xaxis": "x",
         "y": {
          "bdata": "dzGvQHmOE0GSa5dAu/aDQB1TGkGOoAlBxe0LQTIVgUB2EwVBnmUZQDlUi0DYefxAqWcEQWnqC0F+ORJBDZH5QCE8DkGwix5Bx+zzQI9/GEEPBgJBr8EJQRMN/0ChTM5AJ7oLQeBhDUFp02xASgDgQOROSUAvrFpAOy0uv/datL6Va2BA8G5nQWaDRkB6lN0/CrtfQNLan76jcAZBT+GvQNkYuEB6crRAT5SnQHwTpUAiA8RAn/q2QGqYFkCDrqJAogzrQLtf00C1BapA/hu4QIbv2z+23ANAgb00QDu6fUBtGuo/CvoCQHUwH0CfoCxAjHbsP8pVJ0AQ9CZA2dvZPx52VUAYcX0/D7eGQKXFj0DuQMq/OUujQCDplkBbqaJAbBH1vsGzE7+qTy+/Agm6QLSkl0C5IPlAgofkQKwa5UBqL/pAsF3tQAbgsUDCjNZAghW9QMGp80DR4PdAuNzfQE2r7EBWNslAX7juQAuYP0CDkB1AhgH5PzCLwT9c8SxA+vkkQEueQUB4uDVAgeLvP+mKh0C2GPI/X5H1P3zegUAFwYBAEI2TQEd4E0DH5DNAfWVRQMPTL0AAL1RAyDgLP3wPukC5djlARsiLPutDfEA5kb8+rARCv6s3SL/SBw9BQhYYQB7b2ECMhwBB7XslvzrImUDWZ/W+bbUdQXWA3kA+Zv1AGcEgQTB3Ij8UbiJBCaUjPzCGWUDqVcc/VOpuQMlVB0DdxiO/iDNQPyBU1j976yBAZu6Tv96zaUBqaj5AF/ePP+q2uL6W0Z4/iQ11QJaCiT9rVihAeoIvP2ERxD77tilA3/3kPwkqhT9k/TtAfxukQDWBmUDuc3tA+5NzQAPcJUHZOaNAccQNQUCpo0C5kN8/s5F2QJzN60CymY9AHrJ9QKpOnj8xxWk/0Z0UP2Rt0j8b9gxA/D5bQEEeiD9CONk/CrgTP0kyxz/AnLU+sRr7PhSGoD8=",
          "dtype": "f4"
         },
         "yaxis": "y"
        },
        {
         "hovertemplate": "label=6<br>TSNE1=%{x}<br>TSNE2=%{y}<extra></extra>",
         "legendgroup": "6",
         "marker": {
          "color": "#FF6692",
          "symbol": "circle"
         },
         "mode": "markers",
         "name": "6",
         "showlegend": true,
         "type": "scattergl",
         "x": {
          "bdata": "yd2ZwQYBqMFzrZ7Boe+dwdqLpMFh2arB5ry7wQBjysFyVJ3B6Lmdwew1kMG10JjBCMmQwX/swcG9LaPB9wGmwQcjx8Fj/rzBGP2fwRhDu8FYqr3B227FwbDbocGEdq/BS7XEwTR2w8F627rB2FHJwYGSrcG6aNDB1oK+wXvKucEV6LfB69SnwTNZycGq+K7BTni/wcE4uMHCxY/B6VeLwVPlk8Hs2orBcByuwek3lcEbzI7BKKmWwcFGpcE0bZvBG9WQwUanmcGpiZDBI/KowWlPssE9l7HBBwurwW+CpcHnjq3B09CpwZNMs8HEOK3BmFakwWobqcFF1KnBiqqnwRK7wMFeOcPBQNXDwcSHxMEyDMzBHlHJwf4kvcGVY9HB6nPEweanvMFWAcjB4xmzwb0vscHEaNPB5VzXwR7ElcHawtLBAaCdwQ2Wm8GuWtTB/3rUwVncu8G5SZbBpxaywRb7l8GMhsPB+wHIwWuDzMFJsczB2Di6wdZ6ycEN37bBTc/AwSocw8FfjMXBQsKvwbnMtMHEbMTBFcHFwTigzcERUs3BdKS4wcmQpsG+PKTBx8u+wfGprcFcjrjBfwK8wUFNvMH6abrBp3ubwUJtv8FZec7B4YKswS6ss8FhnrfBKX2vwYHGr8E7cKbB9aGnwVN1rcExca3BSkKywcIJqMGT+LTBs9yywSCZrsHEjbTB6fyzwZA0m8HIa5nBSmeYwSFxoMGkGKTByqK0wezXpMGXwZ/B5BiwwYljx8F7bszBtk7NwRdTtcFuTcvBsBLGwaoyz8Fjm7zBY3bLwYRtxcF2I7fBqpW4we1vr8EUkZnBOdeawQACj8G9X6HBxASfwanFo8FokpXB9CWhwdKwnsHvDp/BtgytwZlhkMFmTpLBbye8wW63vMGU3rjBOpK9wajztcEyxp3Buna+wS/bxsHAEKTB8MafwZ9xrMHIz5fBjci7wQ==",
          "dtype": "f4"
         },
         "xaxis": "x",
         "y": {
          "bdata": "5fmEvzMZrsAXpB2/ZgtMwDBJfL8eWzzATZ7UwMn7xb1lSJ+/+/oFwN4ZsT5jS7c+0EmKvwF0t78Ti4LAzmcSwKXqTr97tDq/iasSwBi0Tr+TL5q/kn/JvVdHPcBFgg/ADbs8wErQGcAdJ0PAaoNNv/sbWsBUvSjAqQRiwPklWMAaKb7AeAZswMWCHMCUmGHAPLYowFxbeMBElkLAEX1fwApMaMDYPXbAV/wTwNK9cMAk3kPAYCh/wPwL0796SYjAMAOOwPMnS8BoHvo/A4ipv+4Cs7+AJKC/lLNXPtD0jD/Rp0M/OkNGv2WE+j2xDkg/b/GOP779l7+/3Yy/05osPwqTkMDfmX3AmrRqwAIbWr8SuuC+20AAwE+7lMD6tKq/Yx11wIRG2MDgxyHA+OmswCCxqMCSsp/Ac7mswMkgasCQIWLAYskgwMx6OcDRe1rAprerwMcUm7+W9JbAfwkvwPxXKcCyCcO/K/u2v3H0jL8W8Pm/ipMawPHxlb9jzBzA+uI3wGj35b/rY/2/0nyVwKp9XMB6eBXAR19EwBzJAcC4SUrAeBtswA+wisDpMdy/rruswGs7oMCXg/DAQQXfwLE208Cx96bAlN0evkCvX8BlDw3A2B4DvmUIo8AQkfTAW3/9wGtClMDyvCrA0n0QwGIvhMCUAKDA5BrFwJbcHsD1BQPBdIcLwco10cACthHBpB8PwQRKZsBHBm/AmziRwMH2XcCFa5jAEawRwaXZosAKfsDAP/UEwaQtL8AhRznAkegewOlvAMDut13AcyUfwEL1nb9k5BHAqGNRwDkzXcDyHjPAw9c0wNRaZsATzsTAiFOYwLsOsL+WaXjA+4qiwHmGfsCyWgjAYyiXwKTnpsBZ437AkgrEwDmJ0b9pHxq/HW2NPXyt97/u9iG+1SrdvkZJqr/oA8g+UvFqvw6+grwnvXS+1MK+vyI4Cb9Xe8S/P0Lhvw==",
          "dtype": "f4"
         },
         "yaxis": "y"
        },
        {
         "hovertemplate": "label=7<br>TSNE1=%{x}<br>TSNE2=%{y}<extra></extra>",
         "legendgroup": "7",
         "marker": {
          "color": "#B6E880",
          "symbol": "circle"
         },
         "mode": "markers",
         "name": "7",
         "showlegend": true,
         "type": "scattergl",
         "x": {
          "bdata": "GcRUQXfJU0H93x5BYS5IQcECb0Emuy1BEIZVQS3ZZ0EBSSJBsjxaQTa0TUH9e2BBtbBWQRNhaUH6YmxBddaEQVZNK0FyDS9BSEBzQWfokEFGYI5BrieKQR74RkGX8oJBY36GQW8l10CXD3VBnBzKQL6CekFTYidBsE0wQShAs0AlVEtBeH1XQW/QfkEkgoJBjlZXQdC7MkHqisFAsb7AQHWXs0CEAbxAbdDhQIYfwkCTnaJAJzimQN7KAUGhbcpA6MmuQBzkxkAnGwBBwweOQe8xbUF2giVBEZpRQZL6YUH62YNBhTIZQQKfeEGW+WpBNhRuQXDtaEGblIpB8UtfQUTuX0EXFRJBh22LQCkEKUDa31ZAn0U2QdHKMUH77ypBa9yKQDFIKkG8+idBnNQjQa3Ma0G4o05BLZlzQZu8dUFwAohBpu5JQd0ai0ERdmhBnh5mQSGBQ0GhC4RB/cVwQVoMZkHZA4FBzakcQfG+PEHVWyVBaJo3Qf1bEUFa6jhBYI4jQYlEQ0HfXyVBbjLbQNCONkF8gzRBbudIQVQtNEGrdk5BHXYtQbD+VUHSSjJB2p8HQd6xgkGZNAlBewBIQU/y90ABcoBBSHz5QGcwgEEb10pBlgEdQen6hkELm3dBBeVxQa4kfEEUJYdB2DSJQWKUeUHRA4ZBMXI7QXlIRkGKH5dBHgBQQVAsXkGBZEFBZrpwQRlrZEF8S4NBChF/QWnliEHGWktBWCONQacYOUG+zW1BdSolQVpxGkGVVx9BAy06QdbFP0HRC+RAHPMoQbqOP0FUnEJBIu43QQRWIEHhMCNBPyQiQcG8mUEDW41BpEh9Qaw8lUFwo5lBALaUQX1WhkEqrpJBkr+ZQSpnaUGQQIRBH6nDQQrsY0H88jlBgmFqQbjmHkG+CyxBjGd3QefZ0kB1+4RBOiKAQfSzWkFOfYJBMAxNQVV+hEE=",
          "dtype": "f4"
         },
         "xaxis": "x",
         "y": {
          "bdata": "m1kmwc1Ca8GcIi3Bxq9KwbkML8GZiELBX2dnwecnRsGwcjHBNbdswVDMVMEYaFzBXnpVwfCcasFV2nLBj8Z4wTfXQcFm1FrBUR1kwYEobcFRxCzBCXVywWH5OcGhLVfB4dtzwQQDb8HAOVHBsyZswU2HVsGS+VbB1YY6wc6OasF4mW7BSwNwwXo/asG2037BkShswZjBTsHpTlLBTjhcwYE4ZMGwCVTBQ3Jmwa4EU8HFrWfBNflZwQKNWcF69vTA8ZdnwSlMV8Fa9FjBvzkuwYFiNsHeqT3BkeNZwZqQNcEBqjPBVM9EwWQ+QcGDNTnBsnVewThXTMFRcknB51M0wf6XP8GUCETByINlwTbHU8H3XxzBJrg0wdiVNcFJnjPBDCRkwX/TLcEpNS7BtI8rwSIKRcF7pWTBnBFYwcp0YcF/72PBssJcwdnlb8G492XBRR5twQWFN8GUVGrBiO1wwQ/OZ8H8O0rBXeZswYqsfcEOwmrBGNl6wQvLYcFXy3vB91ZywVx+Y8GAXnLBdFtuwQJddMF8bG7B17pzwevyccHglH/BtU2BwbgIe8ECVYXB3XKFwYivPsEgkIbBJnOBwW69esGsNGHBU/99wYlONMER9ETBStE8wVbfOsGfeTbBEo9DwWImLcGS9TrBs45DwRAhTcGeczDB2B4xwTczJcGI2z/BtiZTwQxYTMHwqFzBiMhJwaGtVsFLxzjBSe42wQ/RZMERA2DBc2hdwRWpP8Ffkj/BeohdwZQ1VsG5ul/B2SFjwQ5BbMHvJVzBlVhcwR3BV8Ga9WXBRbNgwc4dYcFwJFbB1aJewUbCN8FjsjLBNzBcwfoDSsGR1VDB3dVNwTC4SsGrhl7B+Tk+wYvsVsHc11jBaW0yQWXLPcGCn0vBskc3wRXWecE2ZDjBr2tvwRJRMcGm137BicV/waOyVMGGt0TB0aM6wcMJYME=",
          "dtype": "f4"
         },
         "yaxis": "y"
        },
        {
         "hovertemplate": "label=8<br>TSNE1=%{x}<br>TSNE2=%{y}<extra></extra>",
         "legendgroup": "8",
         "marker": {
          "color": "#FF97FF",
          "symbol": "circle"
         },
         "mode": "markers",
         "name": "8",
         "showlegend": true,
         "type": "scattergl",
         "x": {
          "bdata": "k5wfwDbEg8DQKofAepaewJvrX8Bw06TAW/6jwFhGqMCG76rA7+vJwADXwcDon7vAMpAfwXo8VcDrZCjAiyDIwPFRZ8DAcunAkiZWwId438BMM5fAz9LRwG1kpcDOcqzAlX6YwEo1jsDzn50/D9ucv8b9l78CLADAVQOGv25ZpT//HX0/RUIVwORRXr4PIiNASVpnv5yFrr8A0Zu+s8NKwPkV6j8vGci+VajVvjVwtj/nUJe/oR2DP4mnKkABbiHArzg8wB5SUr8WpUC+PCjIwM7LoMBAmYnAudTBwHZJl8CAj47AH0CXwCbJmcArk8PAY7XCwADemcBNwZfAeXa+wHCgUD7a5A6/OiMKPjCcQ79hye2+SQSHv8Rv0j975CfAaLC4wGJLUD+M/LzA5LnwvQ254L+pkCPAWzinwCiit8ABl9E/YCvCPxqNjD/pGHvA1YwgwOyQOL4D2K89WmcIwEMM6777mTPAzqVDPzBavD8XNaE/wnCFP4mh7r1aKOo/T3XwPpOBvj+oYb4/z27RPwQCRj/F1xK/VnAbwDfRq7/y2Eu/SEpgwBfLG8BktGy/awuJv/9PPL/VDJs+qdIQwHE81L9B6b2/Sxl/QSqVosC/wZXA/Slnv+v8jsDV+yI/d9tmv3gSVsDpTHFB9x2owCllccD63oLAnoNnwBLjksCNi3xBA2WRwDnGmsBtgq7AxAOWwDyjhMDJfWzAhkFuwBoqwcALiKLAgax8wHme2D97jrY/zLnzPw/XrD6W5Oo9vqeYvzNsiD97CjM/qGJYP87pKz9FEsA+avlWP+YL/D6lOijBBn/SwCSvzcC3DKjA70GSwBIrrcAJALbALLy8wJBPucArWTLAB3rYvwlfRMD9kuK/t6S8v1Mmgr9Bek/AbD1gwPssV8CDcM/AyLfkwGiVnMAEyFTA",
          "dtype": "f4"
         },
         "xaxis": "x",
         "y": {
          "bdata": "RBPIQNIIMkFmEPhAtXlCQaDuJ0EHD+lAkiAbQVS5NkEppf5AwJ7yQL9UzECBMT5BvcQSQSxBC0E1JdVAE4rXQM1XDUFhxiBB0PPNQLKkJUHO9IFAZyTeQI+O0UBDyMNAuFeEQJ0C90Cv8K9AaIMSQWtiEUFMXiBB7g7SQLTAmEBixr1A/QwOQfiz5kAEauhA5GHDQEWSEUHIP19ApK4bQdAgF0C3IqFATSCtQLi7TUCqQJtAl6XGQFb1mUDEDf9AX/XuQLryiUBLR6VABfv9PxGpJEDzgStARwoBQNZYCkBD3us/INrvP4b+CUATkAdAa/7UP6Cf5z92su4/pb73P18oz0DjZwNBJTjNQAZW8UCqDepAroACQXWdpkBKp+9ALwMRQWWXqUBDmh1BimnOQE92AUFff4BADe2PwORnB0EG84tA//YvQKrs7z9i7cVAh3KGQJJ1iT+/p58/3l0TQArIkT8OoYJAIdHmQEHy4ED/mfRA8qncQF8NrkAIl9lAUOOzQCLedkAjzfdA9VmXQMLb1kAvTRZB8Ec2QVRNaUGdZ2JB97rjQEjKNkHtaWFBJiRdQXkWI0HEJn1BzTxSQZEtbEGfWGpBTGtoQWvJMEEVbC5By8c1QSLbREHXVCxBd4EzQSR2MUGeE4BBtJsuQcCaPEGUWi5BU/stQaGDC0GOp3RBnEIeQfYJBUGDoPVAGWYTQetS2kCQKSpBnz0iQWr0B0EfyxhBscYsQWgfh0A7w4RAtqiSQGXHZUCDOl9A+WBLwGqVM0BO1SlAmVrbP/Oi7T9jiRpAn9+oP8ezMkCNKGlAaghHQbwlgkD9xIBA5ksWQctkk0DkC4ZAKBeoQDCMnkBVR05BlRhIQYUyTkH+UMtAbkxBQXcoJEG5fQ9Bq6EAQa0EYUElry1B3bDGQG1510Dy32JB",
          "dtype": "f4"
         },
         "yaxis": "y"
        },
        {
         "hovertemplate": "label=9<br>TSNE1=%{x}<br>TSNE2=%{y}<extra></extra>",
         "legendgroup": "9",
         "marker": {
          "color": "#FECB52",
          "symbol": "circle"
         },
         "mode": "markers",
         "name": "9",
         "showlegend": true,
         "type": "scattergl",
         "x": {
          "bdata": "+2QsQQmoSEHbz0VBZddIQZ9IUkHT0hNBPXEUP3jbNUGmURNBA1g3QcoxN0HPBd1A0soFQZdKLkGpwh9B3iksQfb1MkGPayVBqhk0QZX9KEE/KQBBVsnyQJZFLEHjWKxAOkhiQLk46UDH8/dAumMMQTf5LUFuoMtAEMzMQOPf3UD7EvZANJ7vQLdX60AFhgJAeDCzP4y05UCgBQpB4YcjQRmAIUGPv7JAQsuxQI4kAkEu4vlA2wq0QK/80kAVeK1AGZXUQI6EzUDnydhAPRKOQP7jskD0+ppAoSERwFln/EBFzYFAaIy+QLegzED2f4tAFIWHQFg8EkF4KuNAuH4cQQKo2j97pHk/sa2QP6Q9Lz/Hu+s+N+ltPwM4hT/IT4y/ZUWgPT+WmT85jfA/rfvRPzIo2j/+kidBeLR5QIqLIEHZUwdBYWWdQPE96EBSyR1B6m3UQNKdAUG45CFBb/zgQF9c2UC5/gtBJ0w7QaKGGEEOWCpB0P0OQe2XGkE77SdBErk0QVY8OEFYYiVBnKIeQb+VFkF78URBt5cTQXK7V0H5BlFBLzhVQbfWw0CbZ1BBLC3BQENGUUFX39y+nJ5RQUupCkHMd/tAFM9WQVLS40CGlatADL2zwZhnpEAfH+5A20n3QGw04UCt/CNBHT3ZQMSC0UDDYe9AmhHqQJD9DEEnGstA6tUZQYvLBUFqCulAvDsAQc72AUEi7qlAvLUrQcHZBUEbKhFBXePnQP+75kBQQ79ADA0LQaDFB0G27xRBTngTQYOKBkEzbBlBXUUpQYEGH0GjPgVBj6kfQVlk+UBDLvtA3PT9QDUuST/sCTlAJqqgQIhMH0DDhLJAqK7HQRL/CEDNtjBBn7HeQCeqNUF1abNAFcPIQVkY3EB4hQtBcUX9QHKKLEFkyA1B1GYIQY0mBkH4x/dABdoNQZmP5kALIOtApswbQZ8d6UAd82ZA",
          "dtype": "f4"
         },
         "xaxis": "x",
         "y": {
          "bdata": "qXi2QDXjq0DMYa5ApACpQAu9y0CfPnhAjkc6QY9iq0AAuKZAH9tsQMZ6mD/dg7pAyHfbv+eBbUDYTZxAG+aUQOnjlkAjF+I+1AFVQHA0oUDBZZxAJlGTQLlSnkAz9NE//H/MP5bM68Bp6f7AhtDAP7hLOj+0YpNAPIUpP2CnA8GJD/7A+4v3wGfdAcF0yAHB0ZwDwXH2+cDpiLy/kDo6P7rW1D5j4Mk/kCERQHpHMkBNGT1A9r8OQClrEUBKDA1A3Xz8P5cG47+wNAtAt94uQHfA9L4NB4BAyqYSQaJh2b9IK21AkWJov1GXZEBjmFRADZ9mQFOQJkA9ezi/dNQgPEhRNMFxuwXBRQsBweaWBMGOVOzA1NcCwZHMA8EDNu/ACzj3wNp1DsEc/B3BWf8ywUw5BsE1/AVAg4UDv7BIyL4W4PS/+sa/QK//Vb9cGT2+hUsNQJjZ1r8C3NU+ZEfpv5ki5r8nhJm/i38NQNfrHUDQkyJAaYnIP0FLsj/6XxpAjI/QP0fxDkB/e68//w0zQDGHnT/unEFAP382QCDlEEHCm4JAZlJjQBK0qEAog4hADfCfQDYafkA7ISdB8YWTQCa5qkCoa7tASIWfQA67ukB0Ra8/LkYQwQAytz+YCDxA0b+YP/wrUkCXTo5ASuWJQEMsXUCczYdA/cOJQEE5nz/NhZVA5A4IQMShQ0CxTT5AGtO+P/zs5D8/LmFAu0IUP+5zY0DsQTs/+Y5jP8uDRT90I5K/vEkIQH4VDz/xiCNAj7VkQJvndj8SJHhA9Fc6QBelb0Df4Is/bllTQMp4EkALrhu+nV8hPohJ9sAccgfB3vdpwdc0DcFFTAHBmH9sQEse/sC3K88/vvoDwVHBf0CsEUVBRCJ5QNzVBsFQzC1AT0ttQHlmFED+1oJAoOmRQMFMgkDI+TxAHZl2QCOaDUCWo3JAtiKuQD9xyD8lmb0/",
          "dtype": "f4"
         },
         "yaxis": "y"
        }
       ],
       "layout": {
        "legend": {
         "title": {
          "text": "label"
         },
         "tracegroupgap": 0
        },
        "template": {
         "data": {
          "bar": [
           {
            "error_x": {
             "color": "#2a3f5f"
            },
            "error_y": {
             "color": "#2a3f5f"
            },
            "marker": {
             "line": {
              "color": "#E5ECF6",
              "width": 0.5
             },
             "pattern": {
              "fillmode": "overlay",
              "size": 10,
              "solidity": 0.2
             }
            },
            "type": "bar"
           }
          ],
          "barpolar": [
           {
            "marker": {
             "line": {
              "color": "#E5ECF6",
              "width": 0.5
             },
             "pattern": {
              "fillmode": "overlay",
              "size": 10,
              "solidity": 0.2
             }
            },
            "type": "barpolar"
           }
          ],
          "carpet": [
           {
            "aaxis": {
             "endlinecolor": "#2a3f5f",
             "gridcolor": "white",
             "linecolor": "white",
             "minorgridcolor": "white",
             "startlinecolor": "#2a3f5f"
            },
            "baxis": {
             "endlinecolor": "#2a3f5f",
             "gridcolor": "white",
             "linecolor": "white",
             "minorgridcolor": "white",
             "startlinecolor": "#2a3f5f"
            },
            "type": "carpet"
           }
          ],
          "choropleth": [
           {
            "colorbar": {
             "outlinewidth": 0,
             "ticks": ""
            },
            "type": "choropleth"
           }
          ],
          "contour": [
           {
            "colorbar": {
             "outlinewidth": 0,
             "ticks": ""
            },
            "colorscale": [
             [
              0,
              "#0d0887"
             ],
             [
              0.1111111111111111,
              "#46039f"
             ],
             [
              0.2222222222222222,
              "#7201a8"
             ],
             [
              0.3333333333333333,
              "#9c179e"
             ],
             [
              0.4444444444444444,
              "#bd3786"
             ],
             [
              0.5555555555555556,
              "#d8576b"
             ],
             [
              0.6666666666666666,
              "#ed7953"
             ],
             [
              0.7777777777777778,
              "#fb9f3a"
             ],
             [
              0.8888888888888888,
              "#fdca26"
             ],
             [
              1,
              "#f0f921"
             ]
            ],
            "type": "contour"
           }
          ],
          "contourcarpet": [
           {
            "colorbar": {
             "outlinewidth": 0,
             "ticks": ""
            },
            "type": "contourcarpet"
           }
          ],
          "heatmap": [
           {
            "colorbar": {
             "outlinewidth": 0,
             "ticks": ""
            },
            "colorscale": [
             [
              0,
              "#0d0887"
             ],
             [
              0.1111111111111111,
              "#46039f"
             ],
             [
              0.2222222222222222,
              "#7201a8"
             ],
             [
              0.3333333333333333,
              "#9c179e"
             ],
             [
              0.4444444444444444,
              "#bd3786"
             ],
             [
              0.5555555555555556,
              "#d8576b"
             ],
             [
              0.6666666666666666,
              "#ed7953"
             ],
             [
              0.7777777777777778,
              "#fb9f3a"
             ],
             [
              0.8888888888888888,
              "#fdca26"
             ],
             [
              1,
              "#f0f921"
             ]
            ],
            "type": "heatmap"
           }
          ],
          "histogram": [
           {
            "marker": {
             "pattern": {
              "fillmode": "overlay",
              "size": 10,
              "solidity": 0.2
             }
            },
            "type": "histogram"
           }
          ],
          "histogram2d": [
           {
            "colorbar": {
             "outlinewidth": 0,
             "ticks": ""
            },
            "colorscale": [
             [
              0,
              "#0d0887"
             ],
             [
              0.1111111111111111,
              "#46039f"
             ],
             [
              0.2222222222222222,
              "#7201a8"
             ],
             [
              0.3333333333333333,
              "#9c179e"
             ],
             [
              0.4444444444444444,
              "#bd3786"
             ],
             [
              0.5555555555555556,
              "#d8576b"
             ],
             [
              0.6666666666666666,
              "#ed7953"
             ],
             [
              0.7777777777777778,
              "#fb9f3a"
             ],
             [
              0.8888888888888888,
              "#fdca26"
             ],
             [
              1,
              "#f0f921"
             ]
            ],
            "type": "histogram2d"
           }
          ],
          "histogram2dcontour": [
           {
            "colorbar": {
             "outlinewidth": 0,
             "ticks": ""
            },
            "colorscale": [
             [
              0,
              "#0d0887"
             ],
             [
              0.1111111111111111,
              "#46039f"
             ],
             [
              0.2222222222222222,
              "#7201a8"
             ],
             [
              0.3333333333333333,
              "#9c179e"
             ],
             [
              0.4444444444444444,
              "#bd3786"
             ],
             [
              0.5555555555555556,
              "#d8576b"
             ],
             [
              0.6666666666666666,
              "#ed7953"
             ],
             [
              0.7777777777777778,
              "#fb9f3a"
             ],
             [
              0.8888888888888888,
              "#fdca26"
             ],
             [
              1,
              "#f0f921"
             ]
            ],
            "type": "histogram2dcontour"
           }
          ],
          "mesh3d": [
           {
            "colorbar": {
             "outlinewidth": 0,
             "ticks": ""
            },
            "type": "mesh3d"
           }
          ],
          "parcoords": [
           {
            "line": {
             "colorbar": {
              "outlinewidth": 0,
              "ticks": ""
             }
            },
            "type": "parcoords"
           }
          ],
          "pie": [
           {
            "automargin": true,
            "type": "pie"
           }
          ],
          "scatter": [
           {
            "fillpattern": {
             "fillmode": "overlay",
             "size": 10,
             "solidity": 0.2
            },
            "type": "scatter"
           }
          ],
          "scatter3d": [
           {
            "line": {
             "colorbar": {
              "outlinewidth": 0,
              "ticks": ""
             }
            },
            "marker": {
             "colorbar": {
              "outlinewidth": 0,
              "ticks": ""
             }
            },
            "type": "scatter3d"
           }
          ],
          "scattercarpet": [
           {
            "marker": {
             "colorbar": {
              "outlinewidth": 0,
              "ticks": ""
             }
            },
            "type": "scattercarpet"
           }
          ],
          "scattergeo": [
           {
            "marker": {
             "colorbar": {
              "outlinewidth": 0,
              "ticks": ""
             }
            },
            "type": "scattergeo"
           }
          ],
          "scattergl": [
           {
            "marker": {
             "colorbar": {
              "outlinewidth": 0,
              "ticks": ""
             }
            },
            "type": "scattergl"
           }
          ],
          "scattermap": [
           {
            "marker": {
             "colorbar": {
              "outlinewidth": 0,
              "ticks": ""
             }
            },
            "type": "scattermap"
           }
          ],
          "scattermapbox": [
           {
            "marker": {
             "colorbar": {
              "outlinewidth": 0,
              "ticks": ""
             }
            },
            "type": "scattermapbox"
           }
          ],
          "scatterpolar": [
           {
            "marker": {
             "colorbar": {
              "outlinewidth": 0,
              "ticks": ""
             }
            },
            "type": "scatterpolar"
           }
          ],
          "scatterpolargl": [
           {
            "marker": {
             "colorbar": {
              "outlinewidth": 0,
              "ticks": ""
             }
            },
            "type": "scatterpolargl"
           }
          ],
          "scatterternary": [
           {
            "marker": {
             "colorbar": {
              "outlinewidth": 0,
              "ticks": ""
             }
            },
            "type": "scatterternary"
           }
          ],
          "surface": [
           {
            "colorbar": {
             "outlinewidth": 0,
             "ticks": ""
            },
            "colorscale": [
             [
              0,
              "#0d0887"
             ],
             [
              0.1111111111111111,
              "#46039f"
             ],
             [
              0.2222222222222222,
              "#7201a8"
             ],
             [
              0.3333333333333333,
              "#9c179e"
             ],
             [
              0.4444444444444444,
              "#bd3786"
             ],
             [
              0.5555555555555556,
              "#d8576b"
             ],
             [
              0.6666666666666666,
              "#ed7953"
             ],
             [
              0.7777777777777778,
              "#fb9f3a"
             ],
             [
              0.8888888888888888,
              "#fdca26"
             ],
             [
              1,
              "#f0f921"
             ]
            ],
            "type": "surface"
           }
          ],
          "table": [
           {
            "cells": {
             "fill": {
              "color": "#EBF0F8"
             },
             "line": {
              "color": "white"
             }
            },
            "header": {
             "fill": {
              "color": "#C8D4E3"
             },
             "line": {
              "color": "white"
             }
            },
            "type": "table"
           }
          ]
         },
         "layout": {
          "annotationdefaults": {
           "arrowcolor": "#2a3f5f",
           "arrowhead": 0,
           "arrowwidth": 1
          },
          "autotypenumbers": "strict",
          "coloraxis": {
           "colorbar": {
            "outlinewidth": 0,
            "ticks": ""
           }
          },
          "colorscale": {
           "diverging": [
            [
             0,
             "#8e0152"
            ],
            [
             0.1,
             "#c51b7d"
            ],
            [
             0.2,
             "#de77ae"
            ],
            [
             0.3,
             "#f1b6da"
            ],
            [
             0.4,
             "#fde0ef"
            ],
            [
             0.5,
             "#f7f7f7"
            ],
            [
             0.6,
             "#e6f5d0"
            ],
            [
             0.7,
             "#b8e186"
            ],
            [
             0.8,
             "#7fbc41"
            ],
            [
             0.9,
             "#4d9221"
            ],
            [
             1,
             "#276419"
            ]
           ],
           "sequential": [
            [
             0,
             "#0d0887"
            ],
            [
             0.1111111111111111,
             "#46039f"
            ],
            [
             0.2222222222222222,
             "#7201a8"
            ],
            [
             0.3333333333333333,
             "#9c179e"
            ],
            [
             0.4444444444444444,
             "#bd3786"
            ],
            [
             0.5555555555555556,
             "#d8576b"
            ],
            [
             0.6666666666666666,
             "#ed7953"
            ],
            [
             0.7777777777777778,
             "#fb9f3a"
            ],
            [
             0.8888888888888888,
             "#fdca26"
            ],
            [
             1,
             "#f0f921"
            ]
           ],
           "sequentialminus": [
            [
             0,
             "#0d0887"
            ],
            [
             0.1111111111111111,
             "#46039f"
            ],
            [
             0.2222222222222222,
             "#7201a8"
            ],
            [
             0.3333333333333333,
             "#9c179e"
            ],
            [
             0.4444444444444444,
             "#bd3786"
            ],
            [
             0.5555555555555556,
             "#d8576b"
            ],
            [
             0.6666666666666666,
             "#ed7953"
            ],
            [
             0.7777777777777778,
             "#fb9f3a"
            ],
            [
             0.8888888888888888,
             "#fdca26"
            ],
            [
             1,
             "#f0f921"
            ]
           ]
          },
          "colorway": [
           "#636efa",
           "#EF553B",
           "#00cc96",
           "#ab63fa",
           "#FFA15A",
           "#19d3f3",
           "#FF6692",
           "#B6E880",
           "#FF97FF",
           "#FECB52"
          ],
          "font": {
           "color": "#2a3f5f"
          },
          "geo": {
           "bgcolor": "white",
           "lakecolor": "white",
           "landcolor": "#E5ECF6",
           "showlakes": true,
           "showland": true,
           "subunitcolor": "white"
          },
          "hoverlabel": {
           "align": "left"
          },
          "hovermode": "closest",
          "mapbox": {
           "style": "light"
          },
          "paper_bgcolor": "white",
          "plot_bgcolor": "#E5ECF6",
          "polar": {
           "angularaxis": {
            "gridcolor": "white",
            "linecolor": "white",
            "ticks": ""
           },
           "bgcolor": "#E5ECF6",
           "radialaxis": {
            "gridcolor": "white",
            "linecolor": "white",
            "ticks": ""
           }
          },
          "scene": {
           "xaxis": {
            "backgroundcolor": "#E5ECF6",
            "gridcolor": "white",
            "gridwidth": 2,
            "linecolor": "white",
            "showbackground": true,
            "ticks": "",
            "zerolinecolor": "white"
           },
           "yaxis": {
            "backgroundcolor": "#E5ECF6",
            "gridcolor": "white",
            "gridwidth": 2,
            "linecolor": "white",
            "showbackground": true,
            "ticks": "",
            "zerolinecolor": "white"
           },
           "zaxis": {
            "backgroundcolor": "#E5ECF6",
            "gridcolor": "white",
            "gridwidth": 2,
            "linecolor": "white",
            "showbackground": true,
            "ticks": "",
            "zerolinecolor": "white"
           }
          },
          "shapedefaults": {
           "line": {
            "color": "#2a3f5f"
           }
          },
          "ternary": {
           "aaxis": {
            "gridcolor": "white",
            "linecolor": "white",
            "ticks": ""
           },
           "baxis": {
            "gridcolor": "white",
            "linecolor": "white",
            "ticks": ""
           },
           "bgcolor": "#E5ECF6",
           "caxis": {
            "gridcolor": "white",
            "linecolor": "white",
            "ticks": ""
           }
          },
          "title": {
           "x": 0.05
          },
          "xaxis": {
           "automargin": true,
           "gridcolor": "white",
           "linecolor": "white",
           "ticks": "",
           "title": {
            "standoff": 15
           },
           "zerolinecolor": "white",
           "zerolinewidth": 2
          },
          "yaxis": {
           "automargin": true,
           "gridcolor": "white",
           "linecolor": "white",
           "ticks": "",
           "title": {
            "standoff": 15
           },
           "zerolinecolor": "white",
           "zerolinewidth": 2
          }
         }
        },
        "title": {
         "text": "Visualización del Dataset Digits con t-SNE= 100"
        },
        "xaxis": {
         "anchor": "y",
         "domain": [
          0,
          1
         ],
         "title": {
          "text": "TSNE1"
         }
        },
        "yaxis": {
         "anchor": "x",
         "domain": [
          0,
          1
         ],
         "title": {
          "text": "TSNE2"
         }
        }
       }
      }
     },
     "metadata": {},
     "output_type": "display_data"
    },
    {
     "data": {
      "application/vnd.plotly.v1+json": {
       "config": {
        "plotlyServerURL": "https://plot.ly"
       },
       "data": [
        {
         "hovertemplate": "label=0<br>TSNE1=%{x}<br>TSNE2=%{y}<extra></extra>",
         "legendgroup": "0",
         "marker": {
          "color": "#636efa",
          "symbol": "circle"
         },
         "mode": "markers",
         "name": "0",
         "showlegend": true,
         "type": "scattergl",
         "x": {
          "bdata": "/9MCwVF59sB57xrBG5IFwf8mKsFXlAHBYJIIwaOkJMES4yDBwF0pwRP2F8GZBBjBHWgcwUTrBMHJDiPB9EgTwTnoIcFxZA7Bl3YZwT77IcHigCPBSDAbwXJvKcFYDiHBgDAYwa/sGMGCBgHBheITwacyAcEhr/LAzr/vwEvq+cAGpgPBZTYHwQG1BMHaHgjBF6QIwSduCcFZ7ArBN7IjwcU8FsE03RTBqagmwV8JIMGcxRDBhpMQwaUzBsFQcA/BEcYNwYWdDcFjCCTBv1MEwePH98Awc+HAtjfgwFRa5sC/beHA3l3iwM3zHMFWounADuMWwVpOy8BpDMfA+aW/wEZ9+MDzQRHBnBDawGphGsFzigHBTAIVwcDJF8Gw8PDAM9cuweR1HMGrvBrB9pgMwU1kD8HgVRHBcWrtwCRgD8HEkPHAWf39wIhoA8FLgTLBw5swwdw9B8FPyh7Bz1EtwQdMDMFFbwPB1oDewG1N3MDj8+fAsWr3wDJG2sAIfgbBzrzOwNbR6sBswxbBl2AFwXaPvsAt0PLAmdQIwQxA98Bn2OfAmCwIwd2S88DFEN/AgPQVwUpq6MD0lxnBjHUcwWX24sATbvLA8uDrwMtw98BG7gTBai/OwO8DBMFG0ATBXKP7wJJR08COn9rAtK/WwMTj1cBkjQvBsFHVwETd7cC6ZwrBMKkEwZq6IME6iCrB2hATwVklFcGu6w3BplXmwAuJ/sBRBPvA6JgQwZM5KcEiSuPAYLkIwSpJ8MAikAHBBzALwWNlCsG8aATB4uweweh3HsEEyCHBo9IAwYSY/8AmfAnBQwQZwR19FMGY5RrBq3wrwcwNAcErgCfBIv29wLkWEsFEjyPBLxQTwSmdIcEPivnAohUTwVQED8GSUSjBxssHwYonIcGM8CrB1rfwwAPrLMFkjx7BWQURwX/VI8EqlBXB+VAgwQ==",
          "dtype": "f4"
         },
         "xaxis": "x",
         "y": {
          "bdata": "9P8pwWypKcEaZAHBJQQ/wdIYEMFsCwrBkzQAwaLCBMENtgDBXPwpwdX1IMGJG+PAJlQAwZQYC8ESnBDBU77vwKwzH8EdFh3BJNokwXtz7cCKHwbB0r4PwTE+B8E+su3AKmwnwekkB8GytDLBp88cwd+0G8H4ZDLBrPs7wTujDsFD1h/B9psgwfxoE8GCMy7BaxcewcAABsHY9grBLd4mwep5IMEYkgrBlU4XwZAgKMGvwRjBb8AFwdZMJMGmyRrBs0IswacG9cA75Q/BidgWwbaWHMEnshLBQw8nwRSJHMF2uwzBJdAKwRcAOsHzoynBYkfuwPrGFcHpYxLBewcrwRCHG8EEwzHBwYI3wdzwJMGPOBjBeB8awY+2DMFXvinBm6HwwE1nDcELix3BTf8QwZyQA8GNExLBC1g3wa94PMGJkDPBd9gawQJfH8EeSCLBwfonwTzNPMF35w/BLIELwctVLsEfWyzBOzQHwdhWEsFDWxPBCB0NwWKZIMEsOynB+1UbwTfKOME/8C7BVu8wwSkNGcGYjiHBiacOwbHb7MBwOgjBYPv4wLpK38BTW9zAzKo2wSp1EsFYMDDBIb86wYSvHsHFCQfB8VcSwdJhKsHNZzHB8bYxwf4DQMH70knBNqZAwWtWLcFWvjjBMM43wWs9LsHWWerArqM/wX2m7cBErPrAxyICwa5/NcF/nfbALMESwabcDsHq4znBOFIdwej/JsESPgHBcOUEwTEAAMGI9RjB9aoMwVyiFcELKQbBIdUQwcl1GMHcqBPBi0czwWciOMHYtjXBHi8Xwaq+BMElIyTBeecPwR9S/cCdswjBHg/GwM2xCsErANDAJhQjwUjV3sD+lN3AIjQxwUQqAMEX2BnBI2Ubwf/2CcGHWhrBHRAiwSzfGMGhlC7B4f4gwW/NF8FMfSHB100kwZ6rHMHJO9/AayQcwQ==",
          "dtype": "f4"
         },
         "yaxis": "y"
        },
        {
         "hovertemplate": "label=1<br>TSNE1=%{x}<br>TSNE2=%{y}<extra></extra>",
         "legendgroup": "1",
         "marker": {
          "color": "#EF553B",
          "symbol": "circle"
         },
         "mode": "markers",
         "name": "1",
         "showlegend": true,
         "type": "scattergl",
         "x": {
          "bdata": "FsdrvnNTi8BlWHDA5qCMwGM5WsDh6HPAIdZMwHXkbsAt8mjA3NOKwFv1nL/hXQlAeTmWwD+chMB+c5fAJZuTwEYWicCuY5bAqYF1wBJGmsAH34nAJi+fwLGAlsCWx4HAn0aWwBhWlMCQoZg/ComLwHNJ47/TOhRADDQ5v9BsnsBdgNE/TZysv+SOZsCDJCM/O8vEP6xQXz+b51NAoKtTwI8MHMCHIEvADsVkwD7wJ8DKbnRB6A5hwAicJMAlmkTA0G6AwDxkKsBdDSjADnRNwGnVaEHLU3BBCrhxQTcfa0EW82dBvBhxQSM+aUH8F2hBo0FpQVhVtMCDZmdBOIxEPwgfZEHDKl0/0BgRQDInGEDgVa++A9WOviwxhT6AJAo/COpUvb4VckD+vWhA89/PP4E9PbuORmU+8bO3P/wcAj8meiA/sBZdP3Hb/D+tQXVBNKkoP5S7RkAZIMs/WFTxP4g6zD8USKc/Qgf3vS5sc0GVL3JBdfR4QWtTZEHQAmtBL3NtQX0iZ0H/WmlBjSpzQSIVakGlxGtBblxnQXwMb0HRFdg+lGhZPyTFoj/V8uU/dBrEP2NDP0BU3KY/L6ATQHdyhj9mC+E/N4NcP5V0DUB1+/c/f44owDd2UsAAtaK+pFWcP9wl2b+Zbrw/NeMTQGJJsD9ppFlAqmf8Px0S8j+NlkhAOM2owJRBKMDe2mO/EdKZwCl6wj+VfJI/ouRTwJ2rij9N3D7AMagFPxScqz9LI6k/OP77P3VHAUAo1DPAhAxNwH1HY8CIFXrA0kB/wHqPRsAXwkvAVIJTwFRbMcApAmbABZFqwJuZcsC79kHAqIuKP2jFNEDXl0tANi6HP0826T++6ylA1fPHPzwA1D+5oag/6lloP+vdlj+Haoo/a9JrP/U8tj4Gr0k+b+oGQPon9j4Xr38/3loXQA6rAEA0mnE/rbqavjuTqz8ys4s/ZPJvP7cNhz8=",
          "dtype": "f4"
         },
         "xaxis": "x",
         "y": {
          "bdata": "4lPOQGej9ED/RvlASqbtQHTZ6kDAkvdAMknlQA+o70Bl6NhAWIHuQHgF2ECceMFAKS38QGkOHEFJdQdByu0QQU7YD0H4ehJB+rcFQfDH70BtSw5BCCvnQCphEkEiuv5A7Ev2QFnICUExM6dAQ+HPQBm0pUBQMaFAzburQL3x60A3GK9A23SwQDTrskBxJbNAqQTAQNbBykDVBKhAXz8SQUk64kDMdvhAtyf9QDDw50BI5tnAgu3+QEMX4EBAudVArjnvQK6A8EBaKupAoYH/QEyg88AqId/AamDswNeVBMFiow7BKSjpwO0vCsElXw7BTTMLwbdHAcCDaA3Bzq9yQNA+88A7cKRAfduaQE/PpECgapVAaD6TQK+nukDNwplARV3BQJass0CQNaFAyiGTQKPnmUBlNJxALwjOQMsJzUAfsb1Anp5iQC2QkEBrT83A4siUQFJdnkCJmpxAS7O5QCvSr0AmWbhAcNunQILi1sBMCtrAmu7KwLk39cBz1uzA7DzrwJ298cCXS/DAOBDZwNJ67MCtFOrAlarvwNJ85MBEToVALlySQKorv0C7kIZAy2i2QHz1sUDjasZAKRWuQBbiv0DVqoJAka6vQNM/vkADXLRAhUDjQG7n6kDEpONA7oGhQHtM40BDMttA9k+tQPHBwkBd0edAlCezQJIqr0Af2r9Anax1QMBPCUE4zd9AissRQUZ91kCZgdJASI79QGryxEALxupA4WzSQJYE2kCRI89AVynDQObGy0DzpAhBIaAQQUXWBkGAJhlBm/EZQWitFUEpxhdBVzAdQVx/DEFr9AdBD/UUQa6jG0HpYhtBMtfPQB+XvkAGZsJAkwLcQAH7z0DZi9BA5bDIQOlo0kCJj+NAR1vdQJOUy0A07tpAfBTbQOypYUDgxZBAOCiYQEe9c0CsgJhA8kaOQLLdikChxWhAR++uQP4ZjECyfpRA44R1QNHxfEA=",
          "dtype": "f4"
         },
         "yaxis": "y"
        },
        {
         "hovertemplate": "label=2<br>TSNE1=%{x}<br>TSNE2=%{y}<extra></extra>",
         "legendgroup": "2",
         "marker": {
          "color": "#00cc96",
          "symbol": "circle"
         },
         "mode": "markers",
         "name": "2",
         "showlegend": true,
         "type": "scattergl",
         "x": {
          "bdata": "sg4kwIb5SUHDgkBB9CYQwMA5OsAt5ULAcYoswCIhScAxqVPAtyRHQZQRF0E2jg/AnZj5v7HUQ0EqjiFBLyUbQY7IJ0H+OCZBA0FKQdcIMUEvIBFBJlIaQeMWKEHY+U9BAxdLQTIfEkFgEzdB+Ys4QYA+OEFAFkNBhUQhQbwGMUEkq0FBR98yQS7yPEGLzCJBwX0xQRcbPkG2/UpBQMtHQZFiOkECV0tBaNRVQV2LRUHhBEtBdZs3QeMWTEE55UNB4HBMQRACSkGkfExBleeRwN/wRUGguC5BeGlaQWgQF0H57lpBOaxGQTbkWUEaQFdBkV04QRFca0HG81xBegY4QW8ZXEFfdR9B650SQWExHUF96w1BI2MPQfKhhUBFuIRAYMsLQRYmD0EGrDhBipMVQQPrEkEkzxpBuP47QfPFUEEDk0dBDnEjQf5iT0FfO0BB8WhPQYfTTUFN/lFBPtcTQckFUEFf+iU+oqwaQSdqPEGkfFlBVs9DQYdIWEELEVVBynBKQejHRUGoZVVBweZaQZTAQ0FnKUpBKERYQZeQRUFT8zpBqjtIQdBSQEGQ20JBphk3QdniOEHi509BIzZZQbnmP0Hm31VBvF1IQcNNSEGHmh1Bp5MpQYRpG0HpE0ZBE7s1QfSPOkEqhBxBVl8iQZheQUFglj1BqpgRQYzbOUHTP1tBrfspQZW6N0EuRDZB7bJVQZ2RPkHOJEVByb0sQe1NTUFciD1BmRlDQU8GSUHI/klBKutaQRsuXEHyAV9BhMRLQUhVYEGAj1hBCG1YQZI+XUFOP1tBOQdXQfVtJEETH1dBdRtCQTWYLUGW7TVBBhIqQVtWWEHKwTRBWxEuQWMoVkFU0EVBZ1YrQRjpK0GFp0RB6GEYQS28GUGVF09B84BeQYDvWEFiZ19BX59kQezRM0GobBxB1E9cQbA3TUHA5lFB",
          "dtype": "f4"
         },
         "xaxis": "x",
         "y": {
          "bdata": "GMGBQPZsmsDtvHPAe8t2QJOsh0C/aIlAEJaIQJ3YkUCeDpRANOeOv58AaT79rnpAqUJtQK88QL9uw8C+wu1AwPbn5b96X7a/mRjrvzvr7L8DUUDAskWBv5WHob+nHI6/XPbhviK6ab/mXCzAJ8AiwBcgk79kygi+o27Hv3iZH8CPT6W/uMcLwNKeB790rOm/sHMiwIxTlb4kY5S/WjB/wI8Hn8CiuUDAOW/ZwKf7VsBte1vAvOaRwBu+gMBb/i/A0TgiwPZKDMCMZy7AAc5HQCQBy8DdAlrAC7e2wIlyJ8EoJLjA5JiywOLvtMDdZtjAPmA9wDpat8ApacHArycqwEhlycDONcC/fmPcv5w4EsAmHyjAIJ76v4IHo7+FM76/klgUwNe4s7+Z/Ra8Z4TZv9o03L/L2dm/QRiLv1W1Nb8n3tU+3VvUv74S9z6fsw0+O6/gvwoRdT9Tj+Y9EN1kwNG+fD/sBj9BPwWov541zr/2mDq+wQIQwFCgCsAHGtvA+o6kwLi/sMBR1NjA2ocwv0BAg8DQ2MLAeRSuvxj577+Z24vAtEDCwK5IxcDEPbXAvRShwClmz8CU7pjA85kOwFWtmMAceOLAMzCRvzvgocAvSRLA17ZJwDw7/r9C2Qw95DcMwFrD3r/46m3A0VMXwPS+/T1tSIY8FPYXwdICx8CSgenAi0y3wEeh1cAcmuDAdKXuwCsr2MCuQlvA7NXkwOqTyMDpbNbApnG+wAEyz8B7whfACbefv60nTb/ItG+/y3AbwKVj+77hFMa/gparv0Cujr/Gj8m8HobAvzDPXMCKiNG/FCmPwA2ptMDmU6nAMh7owIxRHMCVAuHAoad7v3+sDsGrVZ6/cX6MwH9jvMCbOibABZhYvo9sx71aUwTAfKyLvtLaBLwdvNm/MnW8PlXyqb9PISjA1Dwiv4G3KcBB1EPA",
          "dtype": "f4"
         },
         "yaxis": "y"
        },
        {
         "hovertemplate": "label=3<br>TSNE1=%{x}<br>TSNE2=%{y}<extra></extra>",
         "legendgroup": "3",
         "marker": {
          "color": "#ab63fa",
          "symbol": "circle"
         },
         "mode": "markers",
         "name": "3",
         "showlegend": true,
         "type": "scattergl",
         "x": {
          "bdata": "iTS3QIJV1UD4LcNAwTapQAATvEBOzbVAKZm7QE/w5UDZveJA5ibDQCLq+UA62uRAGc0nQag87kAtvfpAJnnrQG8PxUC0ePBA45nrQMHxx0DTAdFAeTPnQHGZ0UCradZAqKrmQCACij6QH7hArm+SQM1pmEBV0I5AUp3eQE7VlED7fptA4FmrQE+wlkBvpKNALO3eQP6f5UC3pY1A5DuuQA3ajkDD1b5A1DIxQEvHv0DdA81AP1CYQLKmSkADM6JAraCyQPIAukCGg9pAe8zdQNNkukCQTw9AfQUgQF8SDECcMx9AZuWtQLKYY0CuKUXAw1EJQFy6RkF+ZAzAxUj+P0qXLEDudyFAuoFrQNNpN0DQ+oJA5WlDQALLV0DalIZAfmVfQB4GpEBygl9AhndeQO90z0DPEstAXPmvQJGI3UB9c79AnYfFQD9WykDKpddAmRHeQMXfqUD/369ATz6hQPWY3kCbx61A9djEQFPTkkAUI4pAuKHBQG5mwUCKhNJA/huqQC+bxkA4CyRAsYacQLPXIkAGsYlAO687QJpUzkAqPqVAB45pQCL2YUDo4nVAODxwQClqFUFMKIFAB7GFQHXgdEBugW9AsyNvQJjCOj9JIFhA8gJ6QCFPkkBxDIpAi3ZkQIDj30DyI19AMSqwQPrktUBrOedA6ODwQJ3pr0BblApBuoWZQOUz/0DptPxAZTSDQKsEokDJHoNA+megQEkXXUCGYD9AD7FrQCNvmUC6XbBA8t+bQE9kVkAWiYtAZDm6QLC2rkBwlNhAvQiqQIJSx0COx6FAuCa8QGDCokBKraxAyqGnQESqt0BaCoZA0820QGcGp0BgVptAwemmQNHF3kCo09RARmbMQHCmiEAYxpxABM+0QEy5rEAE4Y1A9j+lQKn2pEAhftBAGofKQFx550Bt5ttAmga4QKSoukBCg5DAU2e/QCNcuUDh/LBAZCaqQH8K10A7HNJA",
          "dtype": "f4"
         },
         "xaxis": "x",
         "y": {
          "bdata": "fWjfwM/CjsAI20jA+I/KwCd1icDd/aTAplmXwKv1gsBHY4DABKSGwOkYdMA5j4DAJ+sCQLzUZcCJA5XArm5mwB6xiMBxJJvAp12TwIXxVsAe/ZzAySOBwG8NfsCQk4rAtJxgwGO8PUGcluHAnE+qwHA80cDbqLHA1rjdwFuVn8B5b97AQnXLwNr7tsDwPqbAixbPwK6p0MAnps7A5MuewNSRlsCYwf3AvuQ/waVwCcEmBRbBpGoFwcespMB+2gTBIOcAwauR+cBlx/7AKjTvwFNhDcHqH5nArNJ/wMYPYsDuD5bAyAkvwfPngMDlhs7ABG6GwDt//8C9FHQ/IN9kwN2Sk8CIfo/A9L2qwMxtx8A/wKLAO9xkwBlUxMAvS73AfTHSwFytsMAzH7nAtF3LwKoQ0MDdWtXAHfO0wA8qzsCpZcLAlU3FwBnisMAroK7AZlyrwH+MKMA3tUHAcxyswBjGw8AOoLTA07O9wEfrf8BxkAfBNqsNwU8U8MCpexXBXzf/wH6PEMGADDvB24gXwQYQRsEb6AfBwfpCwaIKEcH1xRXBc0HewFyx7cAtiMnAoQG3wLtqJsHahrPAyFnxwLx52cCvN+jAY5fkwK+HN0FhYOrA2q7ZwBCq58C5u67AXB/rwOfa9UD5du3AY/6UwNDxXcDW1ZzApap1wAx8hcBQ1hPB8mPDwH2Fd8Bs/qrAEk+3wKyqAMGjNfDA/4N+wJevusBVf9rAXNIAwa9lx8DLRY7AfR7swHvXzMBrf93AR1zkwJ1F78D/xNnAwGa6wND07MCWQ+/AzP7zwOxV58AxVdrAzLbGwPEkvcDT+OLAYZ7MwNJKdMDUJU/AAcKOwPXAFsBQPbk/Nab3QNdPBEGstBZAewKDwHjOgMAhwU/AlACBwLQmi8CLgMvAmdzcvwwCtb/Mqv1At4/bv3Zirb+pAhHAilPav49pC8Az1WPAxBnHwJrQqr+ETqLA",
          "dtype": "f4"
         },
         "yaxis": "y"
        },
        {
         "hovertemplate": "label=4<br>TSNE1=%{x}<br>TSNE2=%{y}<extra></extra>",
         "legendgroup": "4",
         "marker": {
          "color": "#FFA15A",
          "symbol": "circle"
         },
         "mode": "markers",
         "name": "4",
         "showlegend": true,
         "type": "scattergl",
         "x": {
          "bdata": "HTYCwTwND8FmJdnAFEEXwZTlDsEqIhTBXMWmwKOm9MARM/LAIKgrwYRlHsEF9RrBjSoZwWns6MCXN/XAVV7vwIsD8cD20uPA2ijgwE58+8Do7fTAPK3gwKsN5MBMrtbA38f1wFwVJMEfliLBVS8wwZK6HsGmICjBINw8wcvAJMFfOSPBw7gYwaQqKsFegRzBBZMuwewEFcFYw+jAgqY6wYk+98CGN+/AGlwMwQ2S6sBzxtHAZwsNwQqI+MDyltTACRzuwMqo38Chr+PAf+9EwdpHRMEtTz7B/y84wU8ILsEGTkPBlltGwU8FQMHQtkLB0phJwZKrK8HUMkvBxdFFwUDz9sBJpATBMyzMwF1D8sCJmAzBnc3zwAsCA8Fbh0TBR8uuQCxwTsHP1rbAEFxBwY1/Lb+OpTvB2s8hwUdjTMHK6h7BRSsqwevyMsHqmxrBoWRSwQV4JsE/2TPBRbkVwVL9RcHZ2kPBa1EVwdJWT8GzBfzAA9EGwfy78cC+NvnAgAhXwSDD58Cqa/XAbEMLwQCW+MAMFRfAXcr1wO7M98D4pbzAMk4QwbTvvcDVuQ3BeTF7PouZEcELbhXBd1QdwWGHFcHeZATBDlEbweqQG8HPlx3BYCUXweNUNsHBtw/BeEoiwTDrEsHHCw/BrTsXwTaDJcGtTSDB7XYEwV8rFsFO2TDBupIiwQcTJMH4qCPB+CchwcOWHsEHMCnBUYMswRikIMFLHRrBB60Wwb+3F8EZnBDBvIEswcXhR8G8fTrB4dA5wbhFGcFk4j7BPnQswbVDLsHc7zvBMl43wZlQNMGA2DvBqnQ5wTEFHcEyZyfBoMwkwTotOMGZFSvBp6I1wU8CrkBFCqxALtouwV6FKMHEUyTBqmo9wcHWskB6vCnBYqPHwCfWIsENcBXBlGY3wFDU+cDAhD/B0pY/wbTqJMFgtgLBYuoBwTHHQcHQEBjBvcUawQ==",
          "dtype": "f4"
         },
         "xaxis": "x",
         "y": {
          "bdata": "aMP9QAOiFEEniAJBiZ0TQbW5/UASuSFBgGKBQLjr/0CF9P9AzqctQRYCIUF5+ShBoksVQS8SC0HzStRAwo7gQD0TvEBTYtNAIBOyQCQezkBvydNAhO+xQOzE1kCTF+BAIUvVQOeuJEGNfx1BoG4iQc/yDEE4ixtB9qgWQdb5IEHUJQVBg/Q1QfJ61kBBJhNBznsZQZmtE0H2W8BAWnz+QIB+20BpnvZAA/reQBiH3EBcIP5AMWnYQNUi5kCuFflAknfmQJDe/ECo87dA4gsSQWL9IEFkPPxAhRAOQVvUFEHctx1BAlIPQd+7CkETmg5BsBrqQMLMDUEAPRJBzFsXQQdN5UCBzt1AExPxQGt5BUG7dR5B3uTjQAzz40B6VRRBWShYQX9r10DiMGdBC03kQNEUTkFa4N9A+T7zQMJso0DHsuhAPjL7QNq1+kD48t9A/gOhQBPHtUDXbvZA16fqQK24qUC/TKhALbz3QKpFoEBlYxZBOOg6QVsYGkGuGBdBX8WrQLOySUE5aDZByUYLQY9UREHqrnVBKUpHQTDpRUGuSmVBdDkvQS/OZEHqnzpBRicdQYNCNEG+YTRBPDoiQbwrCkH3WkBBf1EdQVCyLkF4jxhBivzkQDg9FEEluv9A4Q3MQN/oE0GibgFBQEIIQTV/+UCq99tAoGU7QfwN9UBVMStBPQOyQPi1qUCzV6NAfn28QKCMtkBootVAqELRQP4BsECCMw5BiKvNQCCW1kBY9eVA/nXTQIJzEEFYWv9AxS4LQSJtAUG03QBBK0UGQQBl9UBkpglBGV4MQRcj/UAzKB9BbF0DQfh6+UD4XSNBwsMhQefCJ0GschZBnTQpQRzX4EDnS+FAuM4QQQOaHkGBURtBe7YnQYp/3kB54BhBe8jXQJ+OBEHNmwNBY0hmQeUGQUGBIKhAslaoQHta00CscARBKgYAQWI/qEAthd5An7PyQA==",
          "dtype": "f4"
         },
         "yaxis": "y"
        },
        {
         "hovertemplate": "label=5<br>TSNE1=%{x}<br>TSNE2=%{y}<extra></extra>",
         "legendgroup": "5",
         "marker": {
          "color": "#19d3f3",
          "symbol": "circle"
         },
         "mode": "markers",
         "name": "5",
         "showlegend": true,
         "type": "scattergl",
         "x": {
          "bdata": "pxMWQO6gMEG7/hBBbJ8LQdrDMEFHuhdBx0sSQZ2zDUHEg6RAZKHnQI7xCUHA4yRBV86jQOiBMkGqWC5BALwyQccyK0GK0kFBGOkmQRzBNEHDtSlBJU83QYaHJ0FnwxdBLLQzQWl3MEHi34O+uoXwQPMsOb+Iqzm/LrSjvXpELT+a6We/UFgCQfkvdr+1Jq+/2noIQfTWXz08oi9BFHrZQD4M5UAGdt5ALViIQLtj50CjtoNAcBnTQNjVTcBCweJAmvUNQVIU80CFmwVBrELTQO1yLsAG4MS/67abvwj4u77DnIe/j+PYvy+Knb+WEHe/9PEJwHospr+UJY6/96pNwBXXtb9spDbAdvITQVPpFEGxswvB6F4MQX3/EUGLpQlBN1ozwOF0OsDy2qy/zeEEQVYwEUFaVzZBjhgZQW/cJUG7fCxB6HjcQDECCUEnYwlBUt4DQaUa10CTMxpBiO/1QCA4JkF/iwBBFy0oQbvqRr96lJq+zrkiQDJ3lz7f+Di/kX+BPmZOj0DIF/q+0teVvtrED0Fyzx2+7rOuvTpw8T2oywRBRw8FQbjV+78oZvFA5IkAQTxJ7UDE5/9AW88awMj1F0GRbvFAol4fwHayBkFkMSDAuqfav0W9wL9vXTdBjx5uv07YDkHtuiRBcA86wFz3EEF7tYq/WkRAQYx0H0GcQTlBXQg/QX9awr+I5CdBjhcEwFatFEGu69O/+uwFQRKvp78hswzA2Lq8wAnf7rxXOupAXlJGwAevBUEe7aG/CpBFv0kIQj/EUle/u1JAvr5Fir8TxFS/7Xtav33F0b8PgW2/bUkIQLauy7/trX2/ZEgRQbcCD0EaZwZBPWUCQUWyRUEUbgtB+6I7QYe6D0G5o0Y+Dp4HQTXB20Ay9w1BUOcGQVsaD8A+ox7ArBVAwGphE8A3HQDAdpkDQQn/IsAgZCDAfh9CwGfK6b+J7hPAGLoswDhzB8A=",
          "dtype": "f4"
         },
         "xaxis": "x",
         "y": {
          "bdata": "yXkowfm/a0CiQJ9A3Y0/QGUPT0DMtV5AXNF3QFkjPkDo64y/K04kQGRtkEBeaolAD7FZv3RvhUDsBFdAxHSnQKCJa0COuYBAcySVQA3UYkBLWohADNyTQDSbjEAuH59ActSLQNOigUB5kIjAc3SVQCF6Y8C75mrAfiZlwIs8osDRSFXAqohOP1tVaMA/Io/AmDk6QCnJhMD474ZAkM5nQFYNgECEN3pAYGUZwHauXkD2lRrAvAN/QHt+jsAw/mtAl+D8P5/raEDmZJxAPz1/QIDbjsD57q3AwjqmwLG0SsAR5rPAGritwFcpo8AUVYjAVU62wJDJvcB0H4TAvbKNwI1KssDsxinAwx2qQD83rkBEkI5AzKKzQEEXr0Bm5qZAlN3mv0sk2r+yVSbA8fOWQFxpvUAxVK1AXRuBQK3HoUD+LpdAZkCYQEu8qkAVs41AgOKcQHBVnECDbYpA9ux8QNM2m0DtwH1A+QGaQM1zesDnWrXAAHQTwRY0tsBCuZHAOeq6wL1UIsGEd5jAAwatwEEnH0B8e7nAohnCwBsknMAQT6NAgEB5QEMBb8A9RaVA/OC/QNuBrUART0NAjQzQvyweokD6tSFA0OgBwKe2sUDIt8K/2ckewBt5L8C3q4lAmtolwNWzWkB9IHpARYABwMRwskCGHRnAcCpyQDRonkCm6apAUaNnQFWik8BG9RxAHRv+v8NbIUCKCvO/Y/YrQEztEMB7HxHAuMiNvvn10z818zlAP2UewNg1FUC5KpzAobmZwLiYp8Bvip3AF9GcwPKikcBA0bfAVHiOwFl+S8DXUbTAKGASwaq6kcAjQ2nAggS/QGRgx0BsLrpAAc/RQLRHbkCJEsZAwYWUQDv1vkA1sPo/CFvNQHkLokAfmchARGDHQEKmicCfOmHAyNZfwKMtRcDoKkLAEMQrQNJIbcDZFpDAg/9mwBLulsDKZXfAf1pUwPhWjsA=",
          "dtype": "f4"
         },
         "yaxis": "y"
        },
        {
         "hovertemplate": "label=6<br>TSNE1=%{x}<br>TSNE2=%{y}<extra></extra>",
         "legendgroup": "6",
         "marker": {
          "color": "#FF6692",
          "symbol": "circle"
         },
         "mode": "markers",
         "name": "6",
         "showlegend": true,
         "type": "scattergl",
         "x": {
          "bdata": "QHcIwQAxAcEnPxTBfqP/wLCVHcHBFBfB+J4OwSYhScE4kgzBitwHwVt+2MBv9w7BKsvywHTpN8Gs1wfBiFcWwTNOQcHLBTTB3wkMwcH2MMH6mTPB55tCwTjnBcFOehzBLREzwb7INMGptiTBNBdEwa/+FsGLrDzBuecqwclcJMGTDxbBbO0MweS6OsFjGRfBASQuwboaIMGqexXBqJfbwH8f+sDzHdXA5VAZwRxBAcG4XRPBvsECwV1MFsGXQP/Ay/vowJWSBsHULKTAPZkawX4rI8Ea1SfBNHMkwUllIsGNaCnBq0wfwbtBJsGf4iXB6ZghwSCIG8GCvB/B/eciwexdJsGHwCzBv+cvwVM3QMH7l0fBuLA9wSCGH8GCs0nBlaYuwVI3D8EMCznBTDgOwdGxDMGA3zLBIWs2wcTb88Ch3D/Bx5UJwZ2uCsG9KkPB+hkwwWlENsHSbvLA1ckdwUm0+sC6ATjBmHI+wSmFRcEkpEHBf1cqwSKwQsEKTiXBfw4xwYeNNcEbCjjB0dYQwUu4HsHs7DXBP4MywXX2QMHxsTrBeIciwSmvB8FTJRXBCxUdwVPQDcH3BgbBL7kMwUjgEcEChR3BnrERwbpLKcGQekHB2/8qwXSQE8GStwPBkcP1wM0hE8G0WxLBLiIWwXJaEsFhfg3B0asLwbEmFMEuKfbAiYvowPKLAsFuM+PAK6nlwFGwAsFkU/3Aadv0wAEeCME7tgTBPErjwOIWAcE0yvDAignuwH7cNcEYczzBjf0/wYwQJcHfITjB0Ck3wQx+SMHjPizByJ44wYLiLcHKZCTB78AkwXkZF8G2GdfAd2XuwAOT7cBbLwjBX9v3wMnQCsFcr/nAYdMBwXIZ98ChLPnAbosIwTW47MA/HfDAmWo3wXmlLsFr6DPB1X83wTltKMG7DzbBX3g1wdo0RsFZWibBaW0PwaOSKcGH1ALBj+UuwQ==",
          "dtype": "f4"
         },
         "xaxis": "x",
         "y": {
          "bdata": "J+ClPxjjzr+dgrQ/K/HJPqZ2PD96SAS/AqRDwO2Tub5OapM/v/YyP+rnEkCQUf4/XLztPyN+IL+JIjm/1QaCvODaCb86Uie941f2PprKYb2M6yK+sgg4vOzGpz6M6DK+V8nMv3r1m79CSZa/h5wgv6kOU7/zG/q/1DXTvzNynb/twyjAORkxv1fYvr+dOXi/R3+Mv/X4vb9dVCw/08hYPjdix7q5vbi9EpFtvprWzL2P73Q/l+emvv6hAD8DgRy/6evmvrHTLT5LlSBAVP36PhRXpb7DwZU96YSZP3Ns/T+TBbo/Pc1TP64Oe76wEMQ/XKsAQGbCFT86Kg0/dt/MP1mqC8DoF/u/zprcv+9klb5Y6zS/NAiivxjCB8CqK5u/MpwBwNgUU8A1k7y/R+gGwOCw6b9r1V7AJDCQwHUfHr2MnhnAr3XePv7QST670xfAPxqFwJ3nPz2FNVe/5eQ+v+PtOz9ljCa/sNhRv+jZXb88pLS/idBbv1aZJr/jXUC/m2ziv1BRVL+Ix4+/W83Nv6EDpb9ojZq/NsbLv0wvu7/eZQLASeLFv7e6db9A9ww/+AMmwG+Y3b9YbF/A2PxVwJgpTsBIEBrApnTbP/DZ379oOtW/lTKFPwgTBsC9yGDAzlRSwCN7zr+Khkq+h0N6vQlrob8Z/d+/gjAewBVZ7r0Pu2zA9JF3wARWHsCgS4LAGgGAwLPcP77t9XG+/psrv5jWrr7MY4m//tWBwGiUp7+Iwtu/XzhqwNa2s78TyOq/xy7Wv2xCD7/POxDALYOjv9nvjL9+91O/n835v9rH77/hG4C/Ja6IvxnvhL8DkZW/DgG7PmNu/D8naQq/5cNov/aTCb8st40/hWlmvyNRib9YgdI+Yo8NwPmYyD+Fu8g/I7AJP3w4I79oeSA/+LQ0PgvDDj4e9a0/I/osvjqeA77T4YY/WeVkP8alLz+jvK0/Tb/8vg==",
          "dtype": "f4"
         },
         "yaxis": "y"
        },
        {
         "hovertemplate": "label=7<br>TSNE1=%{x}<br>TSNE2=%{y}<extra></extra>",
         "legendgroup": "7",
         "marker": {
          "color": "#B6E880",
          "symbol": "circle"
         },
         "mode": "markers",
         "name": "7",
         "showlegend": true,
         "type": "scattergl",
         "x": {
          "bdata": "9bGMQD9dQECKq5Y+wpcOQLzOs0B4Z6w/149GQEbnm0ALDHs/SM1uQLfqN0ApsoVA7rF+QCJDg0BWGYJA/dukQKX6sz8u0hRAsgWUQLGBy0CkAOlAKtauQKQ/cUARh65AetekQCZ3sL5MzqJA/HVFv4B0qEBPzvs/75eyP0Wlt79Vf0ZAuXZnQFQmoEDfo5ZAuEVjQChV+T+2qpS/7xeSv3gxt785paa/B3TEvQcdkb+EDey/88Djv611Tz8bj12904/Fv0+wgr/5HCM/nMTnQCtxrkCbNoA/s3dXQAWnokCXYdBAvllvP7ZwtEC186pAQYeRQN8Gl0BMVNFAKhOgQP5ImUBEngg/C0gYwJgQXcAfD8u/rTaxP+X9nD/DV3s/PFMYwJrBKz/TiRM/Sd+hPjtsoUCN4F9AEWubQMnOm0CwZr5AGSxMQAaVt0BRB4dAw0l4QMKiUkDmq6pAYAGLQF6af0Ds5bhA5lkJQK6dSUCWuhhAwhJOQPXYwD9itktAYd0cQAhXTUDAlyFAvvB+vseyR0DQYjZA8QF1QGsnP0CZ74FAjpNWQLLYa0C6LnpANUwGQGLeyEBVhQ9Aco1pQBztjj8dka9APQScP5qsx0AH+m9A37MwP4JU1ECLbLpAcGOqQNrOw0BNbtNA0MvRQIjNrECVRNpAUxGiPwqabEBmPftAUutoQNLPkED4xDNAvN2kQFckj0CKssxAtb3FQAW1vkBHhUBAMwDCQDBW+j93mqhAa8QDQCSosz81dvs/chA2QKzdIUB9XaC+VZQNQAN8JUClMzpAz2InQDCbAEA0AuU/xvf6P5enA0G6f91A/m6qQFdA8UAQLfRA3FrtQN2kxkC2HdpATRcEQadudUB+patAwHdNQZ+OnEDc/ANAU2KsQLYAH0DiHI0/sACQQNyIZ0ATlp9A9OqJQPXLe0CqeMJAmzeGQOzxrEA=",
          "dtype": "f4"
         },
         "xaxis": "x",
         "y": {
          "bdata": "3pllQbJPMkGO8EVBJtwyQaj7T0FuNUdB9/AxQfbPQkHKbkJB00s5QbnAMkHM4DpBK39HQXxlMUHZ/ilB3xsgQW7qVUHZZFBBPmovQbxaHkE3ZTlBjHQdQeFNVEF70TBBZKIfQcU1ekEXszpBQNZ5QXsnOEEqKFRB2LdIQcFyekG6ITxBOUY4QQq/K0FHGRxB8Ek5QTQjRkERO2pBqwJxQQ3adkGc4mpB7Id1QaeaakE+f3lByrBvQT9HakHPxSVB9B15QeG/bEEd9GlBm9s4QXlYS0E2/FFBpfY+QSQMUEH8L0NBWjFcQS1MQkHKQEpBeo43Qb81QEFflTNBRdNQQUGnS0Hmc2BBoB94QeZCY0HSHk1B3vtIQfrnTUH8HUdB5cd2QdpJSkHPaUtB9hZMQaaTQ0GF/kJBEkg1QV2sNEFzFilB9WpBQVbcHUFW+TRBzuYuQdRGY0HiRydBfEEqQRRbMkFqSTdBis1gQUE8TEEmYVxBRXNWQdRZZkFAoFRB/nthQYOkSEFgI15B/qd5QfPBVUFIfFBBKnxLQWB1VUHx8k5BApBhQYdfPEGvAWRB7BSAQTPxSUFPToBBFrlSQRsRfEGcBDJBYHl+QRqBRkE0aFJBAOBUQYcIQUEfX0hBLJ5DQdHvSUGBhj5BXQY5QchbOUGoR0JBbP5OQVn8bUFmaSpB7dxCQQb+S0GZoUFB8HZAQfasQUEE6EFBKcpEQQLsJkFkyTtB/94nQY/IREHRkUdBwyVWQSYuXEEysFxBm6RKQYfrN0FzZ2xBSyRWQYCMQEGJCUNBZldJQccYV0EGa1ZBC5RWQf3oIUG5fDRB0941Qdo4KEFFlCdBFRUmQXwbN0ESTR9Bl+AlQeeFKUENcytBWhpVQCvVSUGKn0BBo7JLQXSbaEGxzktB1R4sQc+vFkGoqRpBtUAcQbNsP0GZyztBpclYQXZyKkE=",
          "dtype": "f4"
         },
         "yaxis": "y"
        },
        {
         "hovertemplate": "label=8<br>TSNE1=%{x}<br>TSNE2=%{y}<extra></extra>",
         "legendgroup": "8",
         "marker": {
          "color": "#FF97FF",
          "symbol": "circle"
         },
         "mode": "markers",
         "name": "8",
         "showlegend": true,
         "type": "scattergl",
         "x": {
          "bdata": "Fh4gQEcskkB7vytA25+jQEU6hEACzBVA6Ch0QDzXl0AASA9AS8suQMS5lz/o6o5A56U9QKttPEAh6/Q/SWoYQGy6OUDZLS5AeLIHQIdPYUCGjYq/qmfLP2zOqj+r/mc/FJR5vxvLGUDXdek/9MF0QKuVbUDLk3dA/x4YQDR7vD99TghAF0RZQOfJN0Bp5SpAh/7PPzzVbEDdf4M/Jrl3QGnAib3/vOU/jloHQNavLj+eh+E/5D0HQO45IMA3tCtAW+4TQHwATEDK/PQ/u2kZwF/+CMBoafa/sdgcwFd1HcCIki7A+RcswJEMHsAZExXAn00rwEHNLsCxsivABAIiwKoJHkAtdV1AW9sZQMf3OkAx8ipA31ZNQNCTwz/9ixtAiJMNQE6B5D8xYlxAp7YYQGyeQ0BatcC/3cZdwKXr2T/z36A/EUMmP3vkFT74J7s/ZyWIv5RHVrvA5B89N3RzwO4A1LwojL+/jmk3QBXlOUALQE5A980vQH11A0CbxCVAKyAKQKC/ej+Iu09ArQzGP7vDKEBKUoZAjaWnQMUV0EBvT8ZAJa8PQPRmrED3FMVAxem7QL/qnkDS7+5AhQinQNLr1UAHudNA+g8LQaAylkC8cZdAcFLEQFnmrkDgr9dAOP7DQDzJnEDvrxRBsBiKQLmKm0Bh+I1AhDiOQHnWPUAC+hFBM8JoQCzjNkACgQlAto5dQDYqxz819IpAcFV4QIZvKkAMFGNAwN2QQD0/vj8Icpk/qiK8P85GjT/CvoM/z+McwFEpBD/OAwk/HI86PuF6gj7P5zQ/Tg4dPtaNRj9BSHO//xChQPDQd7/KF4O/BfVaQDXZH78mnEK/IpUsQFP/DEChVKFAvBG+QOCVl0CmRCdA3A+5QFGUmECN+nNAKANCQLjQkEDiOmxAeX7JP6IUlz+Fko5A",
          "dtype": "f4"
         },
         "xaxis": "x",
         "y": {
          "bdata": "BbfFPm8jXEAylBlAOE2EQOssEED7GEFAZodOQGf3gEANaUFAh+mFQOGuT0Dvj5lAptCrQPbMwz+xjW0/de57QP+88D/olY1A3iKDP0m2gEDQFwlAY/51QGpeLEB4ni5AipUPQL7jEUDlfdS/s3/fP4Cy4j+Ayb48clYmvaqX77+dWsq/AG2ZP14dKL/hhWDAGjckv2568D9cYCK8kakGQJerbb+GgCK+WVCnvrqRu7+Z6cM+9PULwDaB2cD5ao0/b7fEPzQhG79yxvW+e6pTQNy2D0C9tdg/Ok9AQP/FAECPyeE/IjH7PzS5BUCuDz5AHcdLQNrKBkACJARA2FA8QOpeg79pbJc+s7OBv+pOMLsa8cq+lq1oP0YgyL/Dfc0/Dho8QMDro79em2JAcDlQv/uDtD9TnQ89jK3cQLAhMUA6zQfA6JKmv1g7IL/4zb4/f2+FPjfo1j7dNOM9qXcrv7deCj/8xPU+EDXGv7YbB8Ao1vS/+jTpv/ZnPr+liSjAD+ylv1Sr77/afgzAKP0BwHnnzr+gVbg/NykJQCseIT5A8z29FFC4P7LhF0ARsJS9OmnzPQFxvT9Nkry+tjEXvlfo/j69Iao+8c8TwZQAcUBH319A/xf9P9JaX0Bzp8lAEtYRQCMuOkBnmCPBEX6CQClDI0ArvktA+EkyQC0pJEDrmBjBpKFGQMY1P0B/hlBAxW86QGSbDkA350BA8I8nQPnFdEDOSk9AOBBBQL2SFMCphuG/UDgXwBguHb9QhyO/S8IMQbrJir9TeDW/mgDdvumTi75RZQi+rJO5PXIVo74rJM1AdTWuQMfJY0D6PiRAxbs1QKkINkDH6DRA591sQGrVCEGiZa+8DZSaP/A5rz57bwi+kNW6P0s/1z8o5y8/r30JQJpfOT7bSn1AxqFwQEVJI0AiW0K9",
          "dtype": "f4"
         },
         "yaxis": "y"
        },
        {
         "hovertemplate": "label=9<br>TSNE1=%{x}<br>TSNE2=%{y}<extra></extra>",
         "legendgroup": "9",
         "marker": {
          "color": "#FECB52",
          "symbol": "circle"
         },
         "mode": "markers",
         "name": "9",
         "showlegend": true,
         "type": "scattergl",
         "x": {
          "bdata": "2FrqvxpbWEBS7FFAnRdRQKGxhkCy+/s/CBu3QN7SMECwYAdAMBj5P43B4j85+uo/1cZZv9SO3D+Nyo0/un7hP2w6CEC+KGU/eaUDQFZLtD9MrVy+wMa3vT1z+T8Y05C/hG/8v055Wj8ol5E/T+t7P3iInT9nV88+Bi9Pv/+WKD82UqI/IBOAP4Faiz/HiRzAUUpDwPIBQj8Drwu/9/aBP07KLj94omy/VIl0v+7PnT9NCmU/K4KEv4Zaib6YXKK/5msYv+RiCcCd54i+MT8CwLxTJsCIakNAkexvQFa6ir9nEwHA8EwhwBy6gz89rO+/0azzv7N2xT+0z9S/aVe4Prizg8BswVDAg3NJwL7zWcAGlkjA4bVPwNycTMBpW4PARydnwAJ3UcBB+E3AIaOFwC6DLMDUddg/Mm03wL+b1z6T21y/XZ2UQEshi79GFOQ+Qe0Uv6q3Yb+rFDM/Fk/jvygnAsD4zNW+nSQ/QEi2/D8hYipA1kB9P7vgrz9rjgpAym0cQJk3NEAVkOk/RsAZQG9Xbj/uVmVA8Cj+P+qeI0CoZVZAYumDP+XBnT8/3VtAhmR1P9OQlj8eJqlAYBBpQJdJ0j9hJgVA0cScwFHy5D9t/4G/G1bjwL2nqb9TnEQ/Di5VPogynz9PKos/Q9HXvjH7dj81awE++9aeu22+Jz/vEfI9JIZBPwh0vz+UYGE/kkiMPqVvwD7vDJK/j4GNP0OmmT92XG8+rfczPtPHmT5AvjHA3UipP1gLmD00x9s/P+r2P8DXqT4dMBlAMacdQLZhKkC70po+mU4iQGYZyj7Yx62/ow9uv/zAT8DZqfS/Nxnyv6MKIMCjiES/3lb6QJdmGMC93dg/nvw4P/Xl4z/FfIpAmSQDQUIJJj/ok9c/zP9RP0da1D/bSTk/+pZjPONtRz/fDB8/lCulPyyvHb7uVtA++IxlP175jL3nOAPA",
          "dtype": "f4"
         },
         "xaxis": "x",
         "y": {
          "bdata": "fZ4LwfV4LcF+tizBIVcvwY5/JMGZrfXA3trdQMbQJsE68ubA7sQrwbenLsHg9rDAvB0xwW8rIcHxNBjBXvwgwdW4LMElTSfBH5EhweKJG8HRCfLAkofqwNj6JMGUewXBTywAwUl4G0HC9iBBWqgMwexrKsG3FNHA54XwwBhlJ0HRCyFBq38gQWwwI0HwjjhBVPc3QbnzIUHNei7BUDkjwV22JcGMCw/BEBIIwbxAAsEO5vnABfMGwUvaCMEpwwnBQ8AMwQXIKMHH6gfB4snvwGwlEsH2UQzBbuyIP632LMEIm+HA99sbwfJX2MD5GOvAbB3jwDLpCMGN5B/ByFEmwZ4qTUFBAjdBea01QcTmM0Fe5SpBgZA0Qdd0NkHvdg5BvG0rQeszPUGbpklB1D9LQbHuOUGOZhjBOKUGwbDlL8HSzTPBQ8guwYbCIMHeHSrBwq0IwWhtLMEz7SXBxTIswSPwKcGm6SzB2gUewYDOCMEbpQ3BpBUHwcdtDcFgtQ/Bx4gcwW9mFsENgBXByboFwUm8EcEwoBvBw3sCwTAhw8DXZRPBkgzBwD+ShsBCThfBRueFwOY6wsCdRKM/Dc0hwXHE0cDj87/AgWBnwDRsuMAKaALBbA2DwNNDA8FoQfHASSb8wP2r58Ad4hvBZOfvwMnN3sAgf+7AShrtwNsAFMH819TAaZM7wXB3+MAa8+vAzEUMwcVOFcFAr+DAklspwWsi9cBiBBzBD9X5wN1e8MAEKyDBTWYDwWpxGsESGAbBhe/+wDLCEsFiRP7A/DkNweNV/8Aw6RHBZ/4CwcLNBcGa6B7ByVQbwT4XMEEFM0FBRiF7QdPtQkEGJilBfubNQKy6NUHA5yPB6B8kQa9fLsFkbmLAbJjTQAiCJkGCcAPBXTL0wHoWGMHSjw3BriYTwdGFA8FLmwHB9c4IwZOgCcFtH+rAI/EZwT4fEsFhewLB",
          "dtype": "f4"
         },
         "yaxis": "y"
        }
       ],
       "layout": {
        "legend": {
         "title": {
          "text": "label"
         },
         "tracegroupgap": 0
        },
        "template": {
         "data": {
          "bar": [
           {
            "error_x": {
             "color": "#2a3f5f"
            },
            "error_y": {
             "color": "#2a3f5f"
            },
            "marker": {
             "line": {
              "color": "#E5ECF6",
              "width": 0.5
             },
             "pattern": {
              "fillmode": "overlay",
              "size": 10,
              "solidity": 0.2
             }
            },
            "type": "bar"
           }
          ],
          "barpolar": [
           {
            "marker": {
             "line": {
              "color": "#E5ECF6",
              "width": 0.5
             },
             "pattern": {
              "fillmode": "overlay",
              "size": 10,
              "solidity": 0.2
             }
            },
            "type": "barpolar"
           }
          ],
          "carpet": [
           {
            "aaxis": {
             "endlinecolor": "#2a3f5f",
             "gridcolor": "white",
             "linecolor": "white",
             "minorgridcolor": "white",
             "startlinecolor": "#2a3f5f"
            },
            "baxis": {
             "endlinecolor": "#2a3f5f",
             "gridcolor": "white",
             "linecolor": "white",
             "minorgridcolor": "white",
             "startlinecolor": "#2a3f5f"
            },
            "type": "carpet"
           }
          ],
          "choropleth": [
           {
            "colorbar": {
             "outlinewidth": 0,
             "ticks": ""
            },
            "type": "choropleth"
           }
          ],
          "contour": [
           {
            "colorbar": {
             "outlinewidth": 0,
             "ticks": ""
            },
            "colorscale": [
             [
              0,
              "#0d0887"
             ],
             [
              0.1111111111111111,
              "#46039f"
             ],
             [
              0.2222222222222222,
              "#7201a8"
             ],
             [
              0.3333333333333333,
              "#9c179e"
             ],
             [
              0.4444444444444444,
              "#bd3786"
             ],
             [
              0.5555555555555556,
              "#d8576b"
             ],
             [
              0.6666666666666666,
              "#ed7953"
             ],
             [
              0.7777777777777778,
              "#fb9f3a"
             ],
             [
              0.8888888888888888,
              "#fdca26"
             ],
             [
              1,
              "#f0f921"
             ]
            ],
            "type": "contour"
           }
          ],
          "contourcarpet": [
           {
            "colorbar": {
             "outlinewidth": 0,
             "ticks": ""
            },
            "type": "contourcarpet"
           }
          ],
          "heatmap": [
           {
            "colorbar": {
             "outlinewidth": 0,
             "ticks": ""
            },
            "colorscale": [
             [
              0,
              "#0d0887"
             ],
             [
              0.1111111111111111,
              "#46039f"
             ],
             [
              0.2222222222222222,
              "#7201a8"
             ],
             [
              0.3333333333333333,
              "#9c179e"
             ],
             [
              0.4444444444444444,
              "#bd3786"
             ],
             [
              0.5555555555555556,
              "#d8576b"
             ],
             [
              0.6666666666666666,
              "#ed7953"
             ],
             [
              0.7777777777777778,
              "#fb9f3a"
             ],
             [
              0.8888888888888888,
              "#fdca26"
             ],
             [
              1,
              "#f0f921"
             ]
            ],
            "type": "heatmap"
           }
          ],
          "histogram": [
           {
            "marker": {
             "pattern": {
              "fillmode": "overlay",
              "size": 10,
              "solidity": 0.2
             }
            },
            "type": "histogram"
           }
          ],
          "histogram2d": [
           {
            "colorbar": {
             "outlinewidth": 0,
             "ticks": ""
            },
            "colorscale": [
             [
              0,
              "#0d0887"
             ],
             [
              0.1111111111111111,
              "#46039f"
             ],
             [
              0.2222222222222222,
              "#7201a8"
             ],
             [
              0.3333333333333333,
              "#9c179e"
             ],
             [
              0.4444444444444444,
              "#bd3786"
             ],
             [
              0.5555555555555556,
              "#d8576b"
             ],
             [
              0.6666666666666666,
              "#ed7953"
             ],
             [
              0.7777777777777778,
              "#fb9f3a"
             ],
             [
              0.8888888888888888,
              "#fdca26"
             ],
             [
              1,
              "#f0f921"
             ]
            ],
            "type": "histogram2d"
           }
          ],
          "histogram2dcontour": [
           {
            "colorbar": {
             "outlinewidth": 0,
             "ticks": ""
            },
            "colorscale": [
             [
              0,
              "#0d0887"
             ],
             [
              0.1111111111111111,
              "#46039f"
             ],
             [
              0.2222222222222222,
              "#7201a8"
             ],
             [
              0.3333333333333333,
              "#9c179e"
             ],
             [
              0.4444444444444444,
              "#bd3786"
             ],
             [
              0.5555555555555556,
              "#d8576b"
             ],
             [
              0.6666666666666666,
              "#ed7953"
             ],
             [
              0.7777777777777778,
              "#fb9f3a"
             ],
             [
              0.8888888888888888,
              "#fdca26"
             ],
             [
              1,
              "#f0f921"
             ]
            ],
            "type": "histogram2dcontour"
           }
          ],
          "mesh3d": [
           {
            "colorbar": {
             "outlinewidth": 0,
             "ticks": ""
            },
            "type": "mesh3d"
           }
          ],
          "parcoords": [
           {
            "line": {
             "colorbar": {
              "outlinewidth": 0,
              "ticks": ""
             }
            },
            "type": "parcoords"
           }
          ],
          "pie": [
           {
            "automargin": true,
            "type": "pie"
           }
          ],
          "scatter": [
           {
            "fillpattern": {
             "fillmode": "overlay",
             "size": 10,
             "solidity": 0.2
            },
            "type": "scatter"
           }
          ],
          "scatter3d": [
           {
            "line": {
             "colorbar": {
              "outlinewidth": 0,
              "ticks": ""
             }
            },
            "marker": {
             "colorbar": {
              "outlinewidth": 0,
              "ticks": ""
             }
            },
            "type": "scatter3d"
           }
          ],
          "scattercarpet": [
           {
            "marker": {
             "colorbar": {
              "outlinewidth": 0,
              "ticks": ""
             }
            },
            "type": "scattercarpet"
           }
          ],
          "scattergeo": [
           {
            "marker": {
             "colorbar": {
              "outlinewidth": 0,
              "ticks": ""
             }
            },
            "type": "scattergeo"
           }
          ],
          "scattergl": [
           {
            "marker": {
             "colorbar": {
              "outlinewidth": 0,
              "ticks": ""
             }
            },
            "type": "scattergl"
           }
          ],
          "scattermap": [
           {
            "marker": {
             "colorbar": {
              "outlinewidth": 0,
              "ticks": ""
             }
            },
            "type": "scattermap"
           }
          ],
          "scattermapbox": [
           {
            "marker": {
             "colorbar": {
              "outlinewidth": 0,
              "ticks": ""
             }
            },
            "type": "scattermapbox"
           }
          ],
          "scatterpolar": [
           {
            "marker": {
             "colorbar": {
              "outlinewidth": 0,
              "ticks": ""
             }
            },
            "type": "scatterpolar"
           }
          ],
          "scatterpolargl": [
           {
            "marker": {
             "colorbar": {
              "outlinewidth": 0,
              "ticks": ""
             }
            },
            "type": "scatterpolargl"
           }
          ],
          "scatterternary": [
           {
            "marker": {
             "colorbar": {
              "outlinewidth": 0,
              "ticks": ""
             }
            },
            "type": "scatterternary"
           }
          ],
          "surface": [
           {
            "colorbar": {
             "outlinewidth": 0,
             "ticks": ""
            },
            "colorscale": [
             [
              0,
              "#0d0887"
             ],
             [
              0.1111111111111111,
              "#46039f"
             ],
             [
              0.2222222222222222,
              "#7201a8"
             ],
             [
              0.3333333333333333,
              "#9c179e"
             ],
             [
              0.4444444444444444,
              "#bd3786"
             ],
             [
              0.5555555555555556,
              "#d8576b"
             ],
             [
              0.6666666666666666,
              "#ed7953"
             ],
             [
              0.7777777777777778,
              "#fb9f3a"
             ],
             [
              0.8888888888888888,
              "#fdca26"
             ],
             [
              1,
              "#f0f921"
             ]
            ],
            "type": "surface"
           }
          ],
          "table": [
           {
            "cells": {
             "fill": {
              "color": "#EBF0F8"
             },
             "line": {
              "color": "white"
             }
            },
            "header": {
             "fill": {
              "color": "#C8D4E3"
             },
             "line": {
              "color": "white"
             }
            },
            "type": "table"
           }
          ]
         },
         "layout": {
          "annotationdefaults": {
           "arrowcolor": "#2a3f5f",
           "arrowhead": 0,
           "arrowwidth": 1
          },
          "autotypenumbers": "strict",
          "coloraxis": {
           "colorbar": {
            "outlinewidth": 0,
            "ticks": ""
           }
          },
          "colorscale": {
           "diverging": [
            [
             0,
             "#8e0152"
            ],
            [
             0.1,
             "#c51b7d"
            ],
            [
             0.2,
             "#de77ae"
            ],
            [
             0.3,
             "#f1b6da"
            ],
            [
             0.4,
             "#fde0ef"
            ],
            [
             0.5,
             "#f7f7f7"
            ],
            [
             0.6,
             "#e6f5d0"
            ],
            [
             0.7,
             "#b8e186"
            ],
            [
             0.8,
             "#7fbc41"
            ],
            [
             0.9,
             "#4d9221"
            ],
            [
             1,
             "#276419"
            ]
           ],
           "sequential": [
            [
             0,
             "#0d0887"
            ],
            [
             0.1111111111111111,
             "#46039f"
            ],
            [
             0.2222222222222222,
             "#7201a8"
            ],
            [
             0.3333333333333333,
             "#9c179e"
            ],
            [
             0.4444444444444444,
             "#bd3786"
            ],
            [
             0.5555555555555556,
             "#d8576b"
            ],
            [
             0.6666666666666666,
             "#ed7953"
            ],
            [
             0.7777777777777778,
             "#fb9f3a"
            ],
            [
             0.8888888888888888,
             "#fdca26"
            ],
            [
             1,
             "#f0f921"
            ]
           ],
           "sequentialminus": [
            [
             0,
             "#0d0887"
            ],
            [
             0.1111111111111111,
             "#46039f"
            ],
            [
             0.2222222222222222,
             "#7201a8"
            ],
            [
             0.3333333333333333,
             "#9c179e"
            ],
            [
             0.4444444444444444,
             "#bd3786"
            ],
            [
             0.5555555555555556,
             "#d8576b"
            ],
            [
             0.6666666666666666,
             "#ed7953"
            ],
            [
             0.7777777777777778,
             "#fb9f3a"
            ],
            [
             0.8888888888888888,
             "#fdca26"
            ],
            [
             1,
             "#f0f921"
            ]
           ]
          },
          "colorway": [
           "#636efa",
           "#EF553B",
           "#00cc96",
           "#ab63fa",
           "#FFA15A",
           "#19d3f3",
           "#FF6692",
           "#B6E880",
           "#FF97FF",
           "#FECB52"
          ],
          "font": {
           "color": "#2a3f5f"
          },
          "geo": {
           "bgcolor": "white",
           "lakecolor": "white",
           "landcolor": "#E5ECF6",
           "showlakes": true,
           "showland": true,
           "subunitcolor": "white"
          },
          "hoverlabel": {
           "align": "left"
          },
          "hovermode": "closest",
          "mapbox": {
           "style": "light"
          },
          "paper_bgcolor": "white",
          "plot_bgcolor": "#E5ECF6",
          "polar": {
           "angularaxis": {
            "gridcolor": "white",
            "linecolor": "white",
            "ticks": ""
           },
           "bgcolor": "#E5ECF6",
           "radialaxis": {
            "gridcolor": "white",
            "linecolor": "white",
            "ticks": ""
           }
          },
          "scene": {
           "xaxis": {
            "backgroundcolor": "#E5ECF6",
            "gridcolor": "white",
            "gridwidth": 2,
            "linecolor": "white",
            "showbackground": true,
            "ticks": "",
            "zerolinecolor": "white"
           },
           "yaxis": {
            "backgroundcolor": "#E5ECF6",
            "gridcolor": "white",
            "gridwidth": 2,
            "linecolor": "white",
            "showbackground": true,
            "ticks": "",
            "zerolinecolor": "white"
           },
           "zaxis": {
            "backgroundcolor": "#E5ECF6",
            "gridcolor": "white",
            "gridwidth": 2,
            "linecolor": "white",
            "showbackground": true,
            "ticks": "",
            "zerolinecolor": "white"
           }
          },
          "shapedefaults": {
           "line": {
            "color": "#2a3f5f"
           }
          },
          "ternary": {
           "aaxis": {
            "gridcolor": "white",
            "linecolor": "white",
            "ticks": ""
           },
           "baxis": {
            "gridcolor": "white",
            "linecolor": "white",
            "ticks": ""
           },
           "bgcolor": "#E5ECF6",
           "caxis": {
            "gridcolor": "white",
            "linecolor": "white",
            "ticks": ""
           }
          },
          "title": {
           "x": 0.05
          },
          "xaxis": {
           "automargin": true,
           "gridcolor": "white",
           "linecolor": "white",
           "ticks": "",
           "title": {
            "standoff": 15
           },
           "zerolinecolor": "white",
           "zerolinewidth": 2
          },
          "yaxis": {
           "automargin": true,
           "gridcolor": "white",
           "linecolor": "white",
           "ticks": "",
           "title": {
            "standoff": 15
           },
           "zerolinecolor": "white",
           "zerolinewidth": 2
          }
         }
        },
        "title": {
         "text": "Visualización del Dataset Digits con t-SNE= 200"
        },
        "xaxis": {
         "anchor": "y",
         "domain": [
          0,
          1
         ],
         "title": {
          "text": "TSNE1"
         }
        },
        "yaxis": {
         "anchor": "x",
         "domain": [
          0,
          1
         ],
         "title": {
          "text": "TSNE2"
         }
        }
       }
      }
     },
     "metadata": {},
     "output_type": "display_data"
    }
   ],
   "source": [
    "perplexities = [5, 30, 100, 200]\n",
    "for perp in perplexities:\n",
    "    # Aplicamos t-SNE. Perplexity es un hiperparámetro importante.\n",
    "    tsne = TSNE(n_components=2, perplexity=perp, random_state=1)\n",
    "    X_tsne = tsne.fit_transform(X_scaled)\n",
    "\n",
    "    # Creamos el DataFrame para Plotly\n",
    "    df_tsne = pd.DataFrame(data=X_tsne, columns=['TSNE1', 'TSNE2'])\n",
    "    df_tsne['label'] = y.astype(str)\n",
    "\n",
    "    # Visualizamos\n",
    "    fig = px.scatter(df_tsne, x='TSNE1', y='TSNE2', color='label',\n",
    "                    title='Visualización del Dataset Digits con t-SNE= '+str(perp),\n",
    "                    labels={'color': 'Dígito'})\n",
    "    fig.show()"
   ]
  },
  {
   "cell_type": "markdown",
   "metadata": {},
   "source": [
    "#### Parece controlar la cantidad de clusters que se van generando, como si la cantidad de centros bajo los que se agrupa variaria. Asi a mayor preplexity se van definiendo mejor los grupos, pero un numero grande tambien hacen que los que son vecinos no se agrupen tan bien."
   ]
  },
  {
   "cell_type": "markdown",
   "metadata": {},
   "source": [
    "### 3.  **Experimenta con UMAP:** Modifica el hiperparámetro `n_neighbors` en el modelo UMAP a valores más bajos (ej. 5) y más altos (ej. 50). ¿Cómo afecta esto a la separación de los clusters y a la estructura global?\n"
   ]
  },
  {
   "cell_type": "code",
   "execution_count": 35,
   "metadata": {},
   "outputs": [
    {
     "data": {
      "application/vnd.plotly.v1+json": {
       "config": {
        "plotlyServerURL": "https://plot.ly"
       },
       "data": [
        {
         "hovertemplate": "label=0<br>UMAP1=%{x}<br>UMAP2=%{y}<extra></extra>",
         "legendgroup": "0",
         "marker": {
          "color": "#636efa",
          "symbol": "circle"
         },
         "mode": "markers",
         "name": "0",
         "showlegend": true,
         "type": "scattergl",
         "x": {
          "bdata": "xxVgQWFmXUECLE5BFFlmQYZjTkGNVltBDC5VQbsYTUHC71BBMnlZQSYsW0Honk5BUA5PQYsTWUEs5FJBDX9VQfegU0H81FRBsldcQUpbTUGLKE5BDHhTQVx5TUESS05BhldcQeBcT0Ffm15BBrlcQQxHXkEGXl9BcHhlQa/UWkGE1VxBUPBdQZSvWUHgy1xBt9xaQTv/W0HHIFtBAmZaQcz6WkGDeVNBd95SQdt0W0GFgVlBg2xVQd5UY0G/jVRBQL9gQbM6WUFn41pBlCRYQaChVEGdQl5BAd1VQRMMVUFdMmNBRi1XQX9CXkHJFltB87VVQUQHZEHaLVVBD8xVQaFDVUEe3VNBj5NqQSFuU0HHCFpBwhpaQaVHT0EiH1hBmxhNQUECT0H5TlNB9ohZQU8hUUELfFBBuphkQd8aXkGWvWBBEnxeQY4SXEFcbFRBYopdQSWNZUHtGVJBFVtOQTOyXUFbAmFBIChhQejIYkHcU2NBbshjQRAmZEF4T15BmyhkQRNNZUE+OllBHldjQcG3Y0Go+mBBuJxWQej9V0GCDGRB2uZVQT3TU0G09VRBy1xdQci5ZEFnaF1BSjdeQUrsYUGXBVdB41BjQRk8YEFXRVxBRZBqQfImZkHZNmZBgjtmQaN+akGHo2pBSZtqQRKVakFE+FlBxJVqQZI7V0FrW1ZBg1lVQYFJXkEHgk1Bs1hRQSHqUEEATGZBXz9ZQTZwYEHrllJB0uVTQXcFT0FaGGNBWIFVQVmpXUHOsFZB28NbQSBwXEEkZFtB7UpeQR0aXUHVR15B0dZdQRKeWUGi611Bft5QQYOXT0Ew4lJBASlNQT6AVkEQ4kxB74hhQTUmUEEoakxBYdNdQRX6TEFDO1hBeTxbQXZCVUE1FltBE/lfQcNxU0FuLFxBx/FfQXlwU0F+JVxBHVpdQQJuW0GAgU9B4G1TQQ==",
          "dtype": "f4"
         },
         "xaxis": "x",
         "y": {
          "bdata": "6nijP0HQSz9vrKg/Bo6LP1FUjT/jg30/yeDqP1LqoD8uGr4/sTXyPywGB0CCT7c/z7isP62ajj9c/Tc/FwjkP9uzZT+WrRs/L4AOQFWAnD9ypqw/O6bkP+dXoD/bX7I/Dl4DQL+Nsz/y9E0/yvjRP14ycz8DoFk/60d/Pz6Kij+NUmc/z3JxP5Iojj/q0UY/yTGLP/o9zz/OR8g/fDkAQNvsAkCWf9w/5mRfP5ma5D+29/8/5rrpP0WX1z+Tyyk//ADdP2uX/D/b/uk/XBg/PxfNHj9/aHM/kcgTPwXvFT9nds4/MyyNP5YIGkBKe1Q/DaaVP4k1zj++fxU/1ooLP3aqIj+1FnI/1DYOPwcifj/UZYo/mDQFQB1fiT9rnFw/3k+ZPy/nij83xFI/aSOPPyw4jz90coI/839vP1YwEkDy4Vk/3xljPx8YVz+InnE/7URKPw+9jT9iNU4/M6mRP/oeyD/oXJ4/8/KrP0sfyT9dccw/xkzPPxhA0z+VmsQ/dZLTP8Vogz+LNtY/KJXXP833zz9xtKA/ve3sP3ldxT9hCtE/5LrhP1SQ4j++L+k/UOsTQCxn0T8XchRAVBYbQF8Irj+9f+s/hrXOP2elnj/t9ow/tLQNP6f4hD//q4U/pOuEPztwDz9KxQs/iCcOPw7HDT8R8os/bBEQP4JeuD8jjI8/RfmgP927G0BAt5A/4L6IP1lEjT9LxpA/N4OJP0m/mz/9iJA/hYOaP0xSkj9BLss/2WvoPytvaT/Usts/G/bOP05tyj/gv8c/SfkbQFvzD0ANpRtAE2PEP9/r0j+ySMQ/zuKIPzNOoD8aeTs/yzWTPxUYkj+rfpQ/KfemP3GGrz9l0JY/NLgVQM/imT9NmlU/tLoCQCN97D/DP+o/GneUP/65dD/Y+vw/UGKRP90vez8HVdo/OHXKP+Rz7D8Eo68/DGpkPw==",
          "dtype": "f4"
         },
         "yaxis": "y"
        },
        {
         "hovertemplate": "label=1<br>UMAP1=%{x}<br>UMAP2=%{y}<extra></extra>",
         "legendgroup": "1",
         "marker": {
          "color": "#EF553B",
          "symbol": "circle"
         },
         "mode": "markers",
         "name": "1",
         "showlegend": true,
         "type": "scattergl",
         "x": {
          "bdata": "99atveF13r7nmv2+3//nvh4+Xb91CQW/NjFcv4qh6L5E9Am/0q3uvuVkPL+gZFa9mJzdvsTbd79D0xW/60kRvzkcFL8TeQ6/e6YLv+4W1r6hoha/QnjOvjdVDr9X7Ri/Bv3fvr3WFL/hwoq+NKbOvhsB9766YKm+limbvgpC076T2cq9pLvKvrHz0L6EdHi+Jyp7Pjzqtj5JHdm+tOuPv1KoXb+xbCC/y8kJvzXZZL8BU0fBSIATv1Y7aL/E42y/XkXfvhTjML9Lp1m/xoMdv3TCRMGNQUfB0pRKwcucTMEc20zBgFFIwQHlTMGM4kzBa6xMwSheTMHsBE3BcELsvs6vRMGEMtS+lSvVvqXL3b5QmxW/eKYXvx3NUr4MRj+/x79wvvB7Sr96Ry6/VRI8v8aqMr/qJA2/y2y7PqQjNT6EzkO+0FslvxXB+75h+0bBaWoFv1E2t75/9sa+iYtNvZsBjL24Z4I+7xkHv1IvR8HjJkfBRURHwTqpRMGXG0XBNs9FwWubRMG0IEXBijlHwR8pRcEoTUfBte5EwSPhRsE38iC/fyvSvogMfj5MiAW/QCuNvHVMNr/7mYo+11mkvqeFhD4Z0Qm/6j1gvm31Pr4grQW+80Flvx2KW78f2JC/CZ+ovl+1jb9VLMQ+4CiUvlFnnj5DWZO/dSgEvia9DL7qh0e+L2Txv83oi7+1cY+/8nwTv5j6rD4H9NE+IrFNvzv4sD5lNl2/SNCSPlff1D7KfYo+/8EqPrN1ej6q+o6/nbWPv5r9GL8KgYS/0u+Cv1Wdkr+pTJS/Cq6Tv0twjb+TFRK/uLOJv/ODi7/23JW/9xpxPr8Hc74DEkm+vwINP//YlD5oexS+yDiYPnjvpT4cKuw+/xoOP5urnT6kTgs/ciAOPz2z4r58NzO/qATMvsQq6L4dfdy+q6rAvtqWB7+j5SS/M/AZv7oa/L67gPW+q3Qmv+6xH78=",
          "dtype": "f4"
         },
         "xaxis": "x",
         "y": {
          "bdata": "Ds2CQEsxK0DKfxxA2/YtQFkcJkD6hSZAkQ8mQG+FJEBaWTFA+bEuQDX1PEBe/5RAdTsuQK4C4j918vQ/93zvP3Ww8z8oWvA/N1gOQEwjMkBLafU/uCYzQGrj7T+CAghA5/EuQIAb/T89qYxAlqlSQCu6ckAaXZhARceJQPNxMkCeNZVAAYdjQD8MWkDaMYdAum2OQAxciUCk+pZAvtXtP+eZGEDrYw9AyZsVQDNKFkAPfvY/s/MVQHx+GUBHORpAhxgmQOt5EUCV8RVALA8RQGR2C0AXSPc/D/LnP1BX3z+f4d0/oZjzP4Dn3T+nl90/UuLeP4Fc4D88Rt0/zX2UQEbwC0AKSItACuKWQLeSlkC1/IVAqDeGQM0ihUA+jIlA+uyEQA7RkEAdgpFAwPqOQAsOiUCqModA0VOJQI5nhkDKe4VAkVCBQNe3k0B0AfI/ER2IQEKQmEAJe41Ae2iWQP1olUA/oYlAkg2HQODz9T+e0/c/NOzxP+EKDEBEAglABEkFQFYWDEDVSwlARtb2P1MECUDXa/k/cGYKQLiJ/T8bmYBAJ1mJQGk3jEBYMY9Adn+TQHMjkECJVoxAmBqZQASjikCzXI9AjgqJQFgsl0ASk5ZAAmQqQP/IJkC4xzxAeEiJQAnTOUCqeZFA+EuZQOC6ikAqRDxAMJaXQFNml0BUP5dA4T41QNU2AUDnNjxA2BvvPy4plUC/FopA3IsgQBfWiED99iVAi+2HQIEQikBXHo1AJHOXQHMql0Cr3/Y/PYXtP+8sGEBg5+I/zt7hPy4s6j9hr+g/l77oP+Mg+D8TjBdAM8/lP1b45T+qauc/TC+QQAmelkC5OZVAcYiJQCn3lUADI5VA+9eRQDm3lEDwLpBAnNuJQPw9jkBKholAE7aJQGkOlkBG6oZAuyiXQBSclUDnv49AZBuXQBvmkEDVLoFAo7h7QFz2jEBkb5NAbfqAQGfngUA=",
          "dtype": "f4"
         },
         "yaxis": "y"
        },
        {
         "hovertemplate": "label=2<br>UMAP1=%{x}<br>UMAP2=%{y}<extra></extra>",
         "legendgroup": "2",
         "marker": {
          "color": "#00cc96",
          "symbol": "circle"
         },
         "mode": "markers",
         "name": "2",
         "showlegend": true,
         "type": "scattergl",
         "x": {
          "bdata": "/nOmwGpkv8Ciub7AD3SnwBaGpcCe16TAV0qmwJ9zpcDGAqXA/zHfwEB7scAmGqfAtd2pwGIX68D2CdzA9EK/wDty0cDka93AXOTcwIoS08DYfb3Ay1jcwHTu2sAnKd/AMbjnwFMW0cCincXAD/TFwLf4+MDZHfzABl7bwDf9xcBZMezAZobGwDDu+8AZPdzAlA3GwN61/MA/tuzAJC2/wKY8v8CtZNXAcnyZwERH08BNctLA8Sa/wM6Jv8A+l9XAOFjYwKzE2sB/idXA/tGzwKAxq8BNQ8jAesGYwHHW/b9fGZrAVvapwBlQmsDywZjAw6/FwAi6mcBRxJrAYr7GwOC1msC+Gd/AtOnTwEl93sCNSM/Aua3SwOQmzsBz0M3Ai57SwMrb0sBWxf7AOA7ewLjT28Bxqt7AIOHpwNmk7MCSof7AZKbbwPaG/MAdxv7AHQHlwKrr/sBC1/rAJ2O7wOAj/8ADLadAHevewB+b78BvdfnAq4fywFyr8sDo7JfAX4itwKQ6qcD9IpjACAzywDmDvsCWRavApMTvwNth3sAvh7LAjKepwMoNqsDQtavAvkO+wMsuqsAJUavAoPftwOMsucBlU5fAyKXqwFWmrMB4KuPAVbjGwBPo3sAra/7ART/IwG5A9MBKe7vAhHHdwDHO/sAcMP7A5goFwM5/qsArIJfAotK5wDksqsD8T6rA3SKXwDHpqcDls8TAypKrwGkhqMDTlanA84mqwC56qcBwUdjAo6TnwPax8cAj+O/AUH/WwAcv8cDYqejAkg7uwI7Q7cBahfjAqCPuwKsbwsCADOjAyIi7wLvhvMCdRb3A4WGswPOf8sAEjarAUBzfwNn1TMGL4ejAgTrMwIl5ucDhJdXAjV/bwEZ+28BmMNzAqYn0wL/z+cDYreXAgkvwwGd148B5H93AlEPwwIEB1cB0stfA",
          "dtype": "f4"
         },
         "xaxis": "x",
         "y": {
          "bdata": "jDImQNwglT/2qpc/7+QjQKw2KEDAqSlAGIkmQDdbKECbVilA+FCbP2R8DkA2gyRA6z8eQJCMsD9Wuw1A8o/mP2VI8j8qJgtAIAKsP+8ywT9t+OE/80kNQHxECkC+SK0/1LijP5IFAUDe5AlAo+YIQNwBuj+cGrs/GzQLQG+qB0A/aKw/eLcGQHEPuz9f8QlAczsJQHMZuz8JSKo/cjGZP6+FkD8DtZQ/ZmdyP5OClz9hcJo/0HaQPwWVlD+ShZQ/nTGaPz9VlD8AG5U/E48NQHjfcj8wTglA/feHP307NEBU748/7c2FP7gHkD+GMnw/128JQDwakT/3yJE/nh8GQPdWjz90KghA+lIGQHnRCkCnWAhAMlcGQPj+DED9hApAgsYHQEabBEDAPLo/L6cKQEdvC0ADpQlAI8i6P/KkrT/XrbY/dXsNQBfBoT9bH7o/xraCP0pjsT+224E/Z9njP6n+rD9blIxAvPAMQAVWtD8gLHE/WCKhP6Owmj/7Cm0/VL6EP9dcgD91UWw/JVF3P3DFlD/BkHo/LbOAP3dWmz+lPghA89d6P0e/cj83JYM/HqeOP5rfZT+gr3s/fPtyP2Mgrz/Qmmk/5323P6XTgz8ZCAFAFk3/P4h1CUAglbk/7dUBQE0Qqz+Qk94/HDoFQObUuT/+Zrs/UKY6QCBIeT+9qWc/o2nVP0Z+XT/Jn1o/NxRoP3khWz8aKtQ/zjtcP6gMfz9pems/CWx4P2swbD95SZo/B155P6l6az/CgGQ/VlCVP+iOZT+/x3g/xxpuPzBhbT+8dHA/nQNtP6WY5D+OhXc/mCekP1liij93l4s/TrZfPyl1nT9eZmY/F1QGQEEZ3T+J1bk/EUm0P2zq1T8aSZU/Gp8PQLtID0D2nag/74dlPxv9aj9qRXw/JgBYPyDC/T/4eAxAh2hiP/1IlD+Y5Jk/",
          "dtype": "f4"
         },
         "yaxis": "y"
        },
        {
         "hovertemplate": "label=3<br>UMAP1=%{x}<br>UMAP2=%{y}<extra></extra>",
         "legendgroup": "3",
         "marker": {
          "color": "#ab63fa",
          "symbol": "circle"
         },
         "mode": "markers",
         "name": "3",
         "showlegend": true,
         "type": "scattergl",
         "x": {
          "bdata": "rTCqQEhftECzCatAlw+8QOUVtUBpoLtAbDW8QK8UtkAS6bRA9fe7QAdat0CQRbVAFq+9QAGPtkAxB7ZAgfuyQPdqtEC8YbVAp8G0QD0jrEActLRAWQO0QKC6vEBdOrVA06ezQL6Up0COu6ZAR8SWQPpyqEBbJZVATJWgQGFYmEBzyZxAkwacQDY0lkDMyqlAwVeiQAQiokBPb6hAxlawQODOlkDBqqRACUavQCqeqkA2H61Ah/ekQO7ppkAswKRAftmkQMzwo0DpJKFAbfigQJS3pEDEq/dAf174QBWK90DszvdAwnX2QPD7qUDkkfdA4J73QO9qmcBfPfhAYZf3QAz390AcUfhA0AeTQI23kUDGNZVAQHOkQNx4kkC5j5JAVV2QQKKym0AeBZFAj6CPQLEWpkB53qVADXOXQLTCpkDCYqVABxqmQAtysECPjbRAQDy0QOLnrEDUa7hANGaqQJstokA3zrdAHEi1QPe/u0AtibJAqr+zQM2NpEABzbNAkhmzQPTes0B8VrNAg5WuQDN6sUCwdLJAFzWwQIW5s0D+wbBA/eOmQLSIpkAWbaVA4CakQDyMAMANaKdACTabQCwKnEDJcpxANx6eQJLjp0BS/5xAQKacQGS7m0CIcadAI2ydQFtxwUBVzp1AR++xQGgPrUCtCbFAkcW2QJ2CukDAXwbASfCpQJtmt0Are7VAUFqoQIZzpEAvHJxAbme7QAmxlEA5JJNAXG+XQOdzpEAU+7JA3EyeQIdFlEAWCppAc+ylQGJRpkD6JaJAfjWtQAF3oECPcaxAIfGnQNPGrkASTaxAWumdQAbPrEDygqpAIcKtQDpCu0ADa6RAAh2zQNefvUCEU75A+gG+QLS6Rj82U7q/7XC1QOXiu0AFiLZAhx+7QL+du0BXMKpAcSvAQMkQqkAP9cFA/A7AQE2WwEDMAKpAVL7AQBWsv0C1G7xAjXmWQPzpqUDCFLVA",
          "dtype": "f4"
         },
         "xaxis": "x",
         "y": {
          "bdata": "X4u6QAlxi0Ayd49AMwimQOj+mEATjqZAeKmjQJ/biECseIhAJJqiQEuTiEA1JohAZkGNQBvfiEA3r4hAXEyIQAKwlUBqm4lAOYGIQDCskUDqVYtAIt6HQKQioEAIOIpArHmIQAWrjEBSuMVAXuOvQH0vrEA2Uq1AXIe9QEG7q0Ac3rBAPX2yQBO7r0DDXKJAI0S7QKSNu0AwYqhAkMWbQANGq0AWMM1AQArKQEaOykANqMtAytrMQMGqyUBTxsxAGH7NQA2tzUArCNFAjoS+QFRfzUDMCQpBvc4JQbI0CkGJCApBqVEJQQTdmEAeNApB3iwKQekzjz82LQpB4jEKQTToCUH13glBFVOtQD1Vq0B/7a5AQgudQLwHq0BlSa1AVvWpQE6KsEDGS6tAWm+qQKtKw0CTVcJALmyxQFx2wEAO8bRAG/6zQL29sEDRP65ATdCuQKf0mEA4bJtANTqnQP5lu0CC/KpAnT+uQC1poUCl5cJADxXDQNCyxUCn9cNACqrCQFeDw0CqI8dAnqbKQDTGyEB8vMJAk3vJQObrwkCbxsdAlACoQN62pkCUBaRAxheeQLZnNkAub5pAHuWvQI2koUCcI6JApnmhQI5DikD3O6FAo1GhQFP1rkAwWJxAbIigQB2CkEBIEqBA8JOZQM1ZlEDr/45AQUSJQG86n0A+EzxAzBepQC5DiUCwOYpABTqaQGzpxECMtqlA6fShQMjuqkC7UKlAngysQJiOp0C/PZlAHHyyQLwarEBSDqZAtbjFQBkfykCAa7tAgf6sQJoRvkBJ0bdAUUfIQK/jxUCJprdAYKOxQCBvr0AEwa1A7pywQJ6goECBVJ1A8DiaQFLijUDWTJJAyx2NQLJRp8Bgs7BAC6GbQEVuoUALi55AMzegQNhNoUAawLhA0PSUQF79uEAMEZJAp6WVQCw1lkAotbhA4KOUQBDJlUCOz5pASDewQLAouUCU2I1A",
          "dtype": "f4"
         },
         "yaxis": "y"
        },
        {
         "hovertemplate": "label=4<br>UMAP1=%{x}<br>UMAP2=%{y}<extra></extra>",
         "legendgroup": "4",
         "marker": {
          "color": "#FFA15A",
          "symbol": "circle"
         },
         "mode": "markers",
         "name": "4",
         "showlegend": true,
         "type": "scattergl",
         "x": {
          "bdata": "iXEFwJJtJsBQhA7ARA8kwLF7F8CvlS/A5wLHv+3UEMB9rAzArjQuwMB7L8A4nzLA2TclwGhWEMDnlgvAW5MNwNUMCMBMQvi/qhf1vxDaC8BO7AvALAb0v1YRDcBUwwfA1d0MwCZrMcCSWzLADKIewF2mHsCApirADmodwPtrMMBeRRDA1L02wBYi+b/jqyLA08EdwJgMJ8AnFfS/WFPlvxqV+79q3Q7AFgTtv8aXAMDd+w7AZ4LqvwS8A8C5Dg7AyDgDwOmrD8BZl/O/WyQKwOM3GcA2dL6/GEAEwN0lCsBX0xXARm4JwDXLAMCGSwXARaW8vzqvGMB50AnAlxIHwK37EMDL1xDAdoYOwJ3fEcCebBTAJMkPwFx8EMA9ywbASWIawHC0qb+OKDLAxYjDv/waHMBwzKy/DojLv9h1ar/HquW/YCPiv3s4ur+hxe2/HORwv47Ne78Rs7u/wCrgvy6kbr+2w2e/V6Dtvw9Gcr/JbvK/GL83wLq89b9vbvO/TiOGv4I7NsAhFzjAEF3vvyXMNsDr/iHAzWs2wMdONsDi4DPAyOE2wMs1NMC5UTfAnHCNQAn5NsBrGjfA+JQowLsMIcA33jfAbEIpwDUzNsARyijAkcvov+X2J8AMou6/kcT3v88vKMAO0h/AVT8ewA/1BsBmGvS/Ct43wAoVDsAMhC3A/QJxv/ABcb+7GHG/4whtv9yQcL/P8Pu/nX77v/NvcL+b6iLAqU/+vxUB/78w1wLAJcr7v0E9CcBPpMa/ldX5v3Ql8r8pi8C/Bxv7vxMOzL8F4fm/MJD+vw8+zb9XKBfAjnLNvz8N4L+IizHAJKEwwGw1IMDWcBrAw1IhwFpW3b8Dg92/9PMawFpxMcBQwzHAPqkewPM43b9xCh/Ahl4DwNvdGMAIbR7AWbEiwLQVOMBOc2a/aGJlvxPQ9r/FYhfA/PIAwPodZr8Nq+6/gs3jvw==",
          "dtype": "f4"
         },
         "xaxis": "x",
         "y": {
          "bdata": "uIUvwfTFIsHIazHBQngjwVJEJsHWKR3BKSQ3QH/8L8GlJjDBXAYcwbt4HMH4XxzBSfsiwRRzN8EFbznBDjI5wTgrOcGNijbBzd83wVjYOcEIqDnB0Uk4wUD9OMH9ZDbBEps5wcj/G8E1/xrBiNkYwS0UJMFl2hrBRuEYwW4bG8EbWB7Bo9DwwItMIcGogSPBLFQZwemJI8H5ATfBo34zwVKzNcHUNjTBArE0wVALNsHDYjHBS6o0weCONcGmwzLBsBA1wQMWMsG+uTfBaJ4QwfyEDsFv3xjB9H8VwS+aFsGhzQ7BaKkQwZSCFMFkZxHBj8QYweywGcHwiRDBP8IQwcQFOcGl9DjBeowywapvN8FvgTTBOrM4wTD1OMHyyRDBhRgOwSo3GcHf9N/AXscYwYAJDsE+7RrBwRQbwWvYGsHKsyLBJuwYwSqlGsHmjSTBPJEawYDOKsGPtBnBUKkhwS7fGsG0+hrBv7cpwQVeGsH2TivB2JjtwGijK8H0NivBjdAZwdXV58BmqO3AuVwqwXHK6cA2d6bAB/bowAnt6MA+DuPA09LwwBl848Av/+7AhFENP8ZF8MA2l/DAiNwdwdBRJMG5oe3Ai7cgwQOV8sB2ayHBr4QmwcLvGsFnGSrB4G0jwbC7IcEdcSXBU6QkwfijIMH9qyLB2mztwNbCJcG8yRvB64sqwduEKsFcfirB7kwqwXaAKsGBdiLBv4kiwdKAKsGBoCPBFrEkwfuPJMGLDCXBG10iwW3HEMFPIBjBER4VwSUJGcEUPRjBNR4Xwd7/GMEIGRXB7soVwX2PGMFRBw/BvEcYwccWGcF4WRvB3P4bwd+KD8Hf2RnBuJIPwbfJvEB5Pb1AFakZwSFBG8FIiBvB2ScPwe4jvUBb0xnBEMQwweBsI8GeWSTBHySkwJh37cAuHBvBKxkbwcmJI8HbpSrBA4guwdIEG8GHdCTBdkgjwQ==",
          "dtype": "f4"
         },
         "yaxis": "y"
        },
        {
         "hovertemplate": "label=5<br>UMAP1=%{x}<br>UMAP2=%{y}<extra></extra>",
         "legendgroup": "5",
         "marker": {
          "color": "#19d3f3",
          "symbol": "circle"
         },
         "mode": "markers",
         "name": "5",
         "showlegend": true,
         "type": "scattergl",
         "x": {
          "bdata": "OiZZQFIObMAvpkbAjYoEwB3GZ8CAflbAIOtNwDETBsDXnA3Af0EPwNE8GsBA/mzANXARwFOuecB26WjA52l/wHFJa8CBTXfAuUVuwHSkcMC8tnfACDt/wEfLa8D9C13AD2N0wP8ed8A/dMi/KEpMwGL0179yIdC/an+Jv9UnYL9exNG/dPEGwKYoz7/FNpW/z7nhv6jii7+3s3jAa5zhv6T69L8fVPG/fWzRv7bv+7/6Q9q/bZHyvz6X0L8EavC/PfJMwOaPSsBP6jbANmnvv941qr8Jhoq/VNehv5/6+78yrFu/Wlp8vw9Vnr+3n7u/0+d6v3KUh7/RJLy/fbTAv63aoL/nMsW/big9wGwyPcB27sa/rV00wKhpPcD4TjjAO+zHv3wHxr8HDpG/dWo4wBz7O8AvGIDA1R9TwElYe8CKJXrA1BZMwED5N8Ce1U3AGhc3wM77TsCUNFnAWwRKwPHuesCu707AmiF7wKoSur+Q+z+/wf0lv6C1O7+cTaa/Wq9Fv3iPTL8RvpS/z1Q5vw/H279gszy/WYw6vxRhnb8IdSzA7s4cwAuS0b8fkyPAm5YywITUKMC3Lfu/3VvHv+8kMsAeng/AbJXAv6QsL8Cc3My/HoeVv76xkb+HYHzAlhbhv7XVT8DQP27AYpXGv48OPMBqRZe/X156wCioYsAUwoDAS6Z0wLOiD7/WW7G/pSHZv+PO2795yvm/id4HwFq36r8kyLu/CQiVQOzMEMDArhLAS9m+v2b/BMCUz6G/qowOv+8DUr/tCw2/k1Skv+08CL9SkIm/u1UGv2DWsL9qcIW/dhckv0O7ib/tqNm/KkI5wPx+OcCKBzHAb0IywOc6ecCVujjAJhd/wHUjOcA1CRHARZQywEbMR8C/RDnABHszwJXsnr8Aqqm/gNepv1lk7L+Zo86/De0DwNo5p79s4Zy/cyuov3IYlr+v4pe/aYGqv2KPkr8=",
          "dtype": "f4"
         },
         "xaxis": "x",
         "y": {
          "bdata": "K3wYQW98UkG3TEtBTT5HQcvNUUFryU9BOD1OQXtJR0EBJ05BzB9OQe1qTEFxR1JBh6JNQQaxU0EbbVJBICFUQeQjUkEOIlNBtChSQRGtUkESelNBIlVUQTnmUUEwBk9Bu49TQTWXU0F8+khBE7FSQVCgR0HjsUhB3cFOQQH4TEF7P0lB56U8QPPJSEHpUktBa6VGQZGdTkGoylNBsG9NQZFdT0GIc09ByWZLQbxDTkEm6ExBKW1PQZ6USUE4R09BUyFTQTDiUkE3tkhBGalPQZa5SkEjzkZBYiRGQUY2R0GPFUZBMFZGQX9GRkFmO0dBpd9GQZGQRkEGz0ZBesZLQfLmREET21BBOyBIQRyDR0HfwVFBr7hGQeLbR0HidUhBbkZSQdAuUkHEH09BaolIQacORUGZLVRB8GJTQQJtVEHxTFRB9WpSQeRySEG4CFNB9rBJQXsRUUHO8lBBJpVSQWwgVEHALlNBAENUQQYOR0FGlUZBGM9FQddxR0EuzEdBew5GQcQnRkH2eUdBufNGQZQSRkHNPEdBGKlGQTruREH5GUZBMepGQSsLSkFzT0ZBW+VBQQsqRkFNtkdBELNMQahAR0Hri0xBijhNQR1TQkHA1k1BR11PQZMnT0HO61NB++dHQQNkU0Ei5VJBDZBSQYJuR0GR8E5B6b1TQfFhUEHcZ1RB8vxSQYFfSkH5MUVBpRBRQWLPRkGp605Bz/dHQXssTkFL51BBrraAQTUFTkG8lU1BQ81RQZUvR0GKPkVBfjFKQeHgTEG8SkpBi8hEQa9ISkFqp0ZB/2RKQYKpSkE3lUZBQ7VFQSD+R0EVUEdBsPxDQRaxQ0HVukFBgg1AQWNBU0Hdr0NBF1hUQWrVQ0F5BU5BETRBQYN1UEEMcUNBBdVBQRIITEHOTk1BKmZNQXdpTkH/N0lBV+BGQZqSTUHtC0tBMZ1NQa+CS0GIe01B4hZNQQEeTEE=",
          "dtype": "f4"
         },
         "yaxis": "y"
        },
        {
         "hovertemplate": "label=6<br>UMAP1=%{x}<br>UMAP2=%{y}<extra></extra>",
         "legendgroup": "6",
         "marker": {
          "color": "#FF6692",
          "symbol": "circle"
         },
         "mode": "markers",
         "name": "6",
         "showlegend": true,
         "type": "scattergl",
         "x": {
          "bdata": "0X98QP/BgED2L4RA1PJwQEIkhkD6x49A1fSLQElrsUAQxYFACfJ9QNSNgEBgG39A4fh0QGWPpUDpCm5AYO2IQNQlskBLlaVAQCmCQE7DpUAsdatAqnWxQGaxekCiQ5hAgumtQMourUBwSaVAK6KyQOqimUAJ6ahAC5ehQDT0oEBE0o1AnCR5QMW4sEBG0pZAb2unQHfQoEBw/ohAUHCIQJlWgUCdzYFAKkCcQMSMgEB8Q5RA9BWAQN/fiUB0+XZAuOl9QLYYg0BnH4RAABCMQFV0mEB9MY9AVYuNQPAOikDh/pNACdmLQFG8lkD/HpRAqmOFQOYLjUBsv4tARCCKQITSo0B1eahAkTioQJOPsUCPgK9AMAmwQFZ+oUDVPbJAavenQJ9AjEC3x7BA6r2NQBQvjUCKHntAVBx7QHSndkDaAKdAwi15QC3Fg0D6uaZAopx5QBWnoECOXHdAOTWeQGJRbECO2q1A21+uQMQUskChYK9AktemQF7hrkCSo6BAn+asQJYyr0CD7K1ADXGNQNCwokC+kK5AAXynQM9DsEAtOahAPoykQNydekAAWYpAuX6OQC/+jUDl1I1A2UeMQFdxjECtSY5AE1WBQNOGr0BEN65A3cWLQMMTjkAo941A7juPQLN+j0BoYItA2DCLQDhEkEAP7Y5A8P2NQBnbiUBBVY9AbSqQQJF3jUDAFpFAjKCQQCLmdkAy8nRALq5zQCPAdkAftmdAUMSQQFdbZ0ATMGhA+sKPQJr5pkAeKqhA0YiqQGLBmUB5capAr12uQKIsskBSOadARtKmQEyZoUDrQ55AJDufQEzQlEBGq2VAI6llQD3+cEDL421AFidlQL3qaUCTx2xA6HVlQMWfYkCIh2pAT1COQEZlakCT8npAK6+jQGaKn0BLxqNAzJ2kQJvonEBiIYRA+6SkQNzMr0DbUIdAue2CQOaai0C+XHpA1/WiQA==",
          "dtype": "f4"
         },
         "xaxis": "x",
         "y": {
          "bdata": "rZaEQSzIh0G1SoRB1EGGQWjLg0Fpg4RBbpyKQe6ngkFpMYVB+8+EQQkKhEHX8oNB2yGFQSpZgEHo/oBBlrCEQZUQgkFZ2oFBOxCEQe4EgkG8QYFBx3+CQV3WhkGs6npB2918QbzvfUEUaIFBiP2BQfN8hEFenXpB+qeDQSJ0g0HTcotBYOiGQUDIfUGtQIVB+pGBQfiXg0G6tnpBO6J6QQzbe0GhRntBOFWAQQ95fEFreHpB78l8QfUxgkGsTn9Bxqx8QTAQfEF554JBY7qBQc6ngEFzwoFB8nqBQYT8gUGPq4BBkNKBQVjegEHnsIBBh76CQZajgUF53IFBmQWCQUwfhUENLIRBsw2EQTBQgkGIHoNB3kx+QVrwhUGuo39BDCyEQT3kikFW4X1BvvKIQa0eiUERdXpBBYl6QRKYfUGJLXlB27WCQVRbfEHo3HhB0cl6QXMHfEHD6ntBTdp8QRKBhUExl4FB1VyBQQYqgUFhpX1B086BQeQ/gUH7Z4FBiV6BQTHpgEE1JIFBLduIQZLfgkHw7n1BBO18QSc2fkGVoHlBWcCCQT/ohkEA/oFB22+JQYNRiUGRjYxBksGKQT7tikHCa4tB7F2EQeXsfUGIZnxBS9SBQYASiUHVnYxBzNGNQZ6HiUHMcIJBYj2CQTi3h0EbWolBMWqLQR9QgkFIMY5BTOKOQU5Ri0FhZI9BhTWPQbUMf0HX+n1Btml+QV9agEEIqYFBg0ePQXG1gUH4/YBBRIqOQcJrekHfKHpBidJ6QU6PgEH42XpBbE5+QQC4f0Egk39Buk17QdJfe0ERd31BqQR9QbALhUEIzoFBkeOBQTBIhUEOuoFBZNWBQZfsgkGToIVBDfaBQeehgUHDVoRB5rGLQSkChkHH1YNB0VGBQQqYekFPAYFBovKAQTAre0EEP4RBpCSBQZYqgkEr7YNB+hWEQYndgUEW6oRBKlh9QQ==",
          "dtype": "f4"
         },
         "yaxis": "y"
        },
        {
         "hovertemplate": "label=7<br>UMAP1=%{x}<br>UMAP2=%{y}<extra></extra>",
         "legendgroup": "7",
         "marker": {
          "color": "#B6E880",
          "symbol": "circle"
         },
         "mode": "markers",
         "name": "7",
         "showlegend": true,
         "type": "scattergl",
         "x": {
          "bdata": "sRxWP8hC+7t0Z7W+jIVJvbD5ZT/x1qW+YfFavDJMMz+JOQG/fpSwPVknEL2hHKU+svaFPUBzVT+isFk/+1AOP/UssL5t/0+/BRZkP8N/iD8SmLA/G8aFP46mKL7jEhQ/eHZ0P6SH/L92vyY/gEYBwNU8Qz9SvVK/hz+zvr0nG8C2b1A88YakPVAGXT9JqgE//87FPd06F78xjRvA9JoawJDSHcAjhxzAf0bwvwgfG8BeHR7AfDYgwFoD3r9eto5AiF8dwGqLGMDENPC/EKywP10aTj8RUMi+noA7PfuyQT9utJI/ppftvkIweD+Q/j8/rM5KPyANUT9e2J4/WrhCP9rvQT8akOq+Qf4iwIuAK8CMhke/DEDFvnNX2b4fP+y+7zUjwLT7Ar+dyQi/hOEJv1H1TD+j/zO9jdJjPxIKbj+VjnI/c+IIvmQugT+gB1g/VPRaP9/iXr6rzXk/6CldPy62Vj+2FLA/IZxIv5GwFL86QmC/rNYjv09YWb9qQSS/bipRv+DF+74WqFO/Tc37v+IYGb+FXga/I8PevvhTL78pge6+lcBOv7xnlL7jT1G/JBWov6g6bj9wX4G/hTkLv301vL/hVF0/+N69vyHUjz8QTA6+SHLhviATlj+DVXw/ALZSP0G+iD/BCJU/9ryZP708WT9mtZA/XHWkvrj8ab6KK60/HiVTvWpcID4JCwq+WqxEPzeWNz60ro4/RG2QP2ndeD+99ne8z6QmP3Mtsr733EU/FcBcv4WSW78Ep16/SDHMviMClr5mmFC/HZ1UvwbRSr5MwpS9AqqKvgvKWr/2X1W/dtFfvwEGsz8LTbE/d7w9P6CkpD8OWpo/CGKePwfvDT/yln0/JHu3P1DxGj8MGBI/0rK3PykCOj8NrOG9qb0/P1rQUL+AgNG+kbMMP/Ey1T5Eswc/qn8HP8woPz+8YKM/V6FJvumGDT8=",
          "dtype": "f4"
         },
         "xaxis": "x",
         "y": {
          "bdata": "xL6NwD2cnMDOkYrAMpWewEbLjMDVZIvAhbebwMHkkcAbG5PAGxiewEi6nMA8oJrAgzCXwIb6o8CmOKTAFAGhwFL9icCFM53AO+qiwOban8CmMJPAIs6gwHwCjcA2Yp/A3hqiwOxwqsDPwJvAxAqqwGB8nMD0lpzApEOJwObQqMBe/qDADbahwGFHoMAcAKLA4TehwAzbmcDwjaTAk3ulwDWMp8BhN6XAjMWlwNBNpcDXvKfAmuSlwKndo8DF1Rc/qsenwDpZpcDkbaXA5A6TwI4Qj8Ar8ojAtQyawL9cjcDMNI/AqgCIwFHPkcCXqI/A50mewGIllcDfx5PAv2aOwHxMj8DzeIjAhIKmwKK8pMC2+pTAJ/6IwKgUiMDfHIrAB1+mwEcSisDDCovAyR+MwErzk8B4PaLAvJ2awD2fosBRzqLARb+gwCsPosAnNaXATKGlwFVUjMBZNqLAhkClwHuTpcBwHJTAvL2iwKrjpcA4oqDAx8umwNTSnMBZWKbARSKjwKS9osCkk6PA9fmpwDPapcA6AqPAOpyiwJRnpcBnzZ7A+F+mwLM4o8D2OqbAs6CnwKjlk8DQPafANKymwP6Dp8DTgZzAaqmnwCsujsA5EJHAgYqHwC6hj8BUF47AYByVwHpijsA+lI7A/cCQwEEflsCFT47ABDqJwKzoicDm5ZPAJdqewJB3nMBwE6DA9/eTwO24nMC0pY3AXVKNwC6SocDdMpzAdsuawP9+icD95JPAWYKdwI1EnMDXUZ3A6ROjwMVRo8CUIpjAgGCdwPYfocBGWqPAQ46iwJoOncDtI5zANcecwEBKlMDXgZPA6g+cwNHklcDYPZnAY+SWwNkMn8CkO5rAa+qUwABImMBzn5/AFsuTwEZ1jsAaRJbAefSOwDgCpcBgu4jAUcagwDNLosAbxKHA3NahwDyulsCjTpLASxSNwNbsn8A=",
          "dtype": "f4"
         },
         "yaxis": "y"
        },
        {
         "hovertemplate": "label=8<br>UMAP1=%{x}<br>UMAP2=%{y}<extra></extra>",
         "legendgroup": "8",
         "marker": {
          "color": "#FF97FF",
          "symbol": "circle"
         },
         "mode": "markers",
         "name": "8",
         "showlegend": true,
         "type": "scattergl",
         "x": {
          "bdata": "ADv3v58erb/a6Oa/+bCtv3xYyL9AO/G/Y78AwMuQpb+opfy/ACWxv/Mt+79QQJO/mF86v5+gGMArGRPAPeHtv27cFsCwVOK/Sb8AwAfZ07+GLP+/R/Phv8I7/L/kiv6/3XAAwBGnAMBsy0PAmUDYv78w2b8nGhDAFO0swHlJR8DlQDnAEY8YwMSuIsC7ICrAYsE/wMj+1L8+vEbASKEPwG9GXcDivhvAZ7QowFliUMC2xSvAGf4owA2HQcCi5BrAUcsRwHMtPsDshi7AR3uUwOB+BkG+OAZBBBuUwLaBBkH5hwZBmYoGQTqFBkEICJTAQpKUwMCLBkEliwZBMhmUwGjRJ8C6khjAJyApwKEgBMDxSgXAaWoEwCmvQsDBcgvA9YfCv4nXOcBtDQHAS7EnwCIEA8B/g0TA0fdhv8w//79veEnAwb9VwLO8XcB0ZADAwmBEwD7oZcC4RmPA9HmkQN1FZMATP0PApeUjwK94KMAdiiTAgTwowBLzL8ClgyfAbf80wLDRScDC0ybAa/hHwDovKcBZ3dW/v/C3vy6JCcAzeQzA/x8HwIXNtb8ICQzAokcLwEU+zb83zhHAnZDNvzSnBMDSeAfAGukGwGp0qL/SPaq/GUTLvx3rsL/IiO+/f5fIv7++t7/OHAPAzIukv0pdvL9r/cK/9oq6v4DEAsA/JQbASeC5vyPX3r+VSvi/gzYBwK0HEcBSMLO/6rnCv5mT+r+y5Py/jMW1v5z6ScB9bUfAkOlJwB+CQsDz5kjAzsFdwKt4VsCSLlbASfRdwDk1XsAQg1/A4/FcwLA1XcAGKIu/GZF3vygr+b+Slf2/w6v9v0oW/7+B2fy/7xX6v88t/L/FS8m/2enRvw+P3b8RqCHAtdzPv04IzL/zaBXAUI3Ev2vwHMA568C/4tTAvxzP+L/oSCHA",
          "dtype": "f4"
         },
         "xaxis": "x",
         "y": {
          "bdata": "FWypQE80rEB/j6pAkoSrQLFBsEBnwKhAONmxQEscq0DkK65AoWqqQJh3pUD8Z6VA5VygQInxskBbP7BAdbuiQJ9jsUDYNqtAwTmnQB4IrUAbYqBAMzGjQEw8p0BXmaVA90uhQAimrEC4i71Afu3FQJ03xUD3IshAZJTBQPoUvUDpoMBAKpm6QAaGxECokspAq7m+QOlRxUDvIsNAopm4QGtcxkC2C7NAwfq8QAUIwUAs/LxA/xjHQOR7vkCW4rdA1dquQJLtwUDzzb1ArfRGQLX3LUG8wC1BZsNHQP74LUGa/S1Bq/8tQdb7LUE670dAO+pGQIMALkEqAC5BRNVHQKIOxkCoasRAbOnGQNyPu0AMVrxAOMu8QMeRvkDxLbNAy02sQByIv0A+vrRABpHGQDnyuEBt17BAidgnQBCRsUCq7LdAhi3BQCGlxUBRQKtAIO6wQGnOx0BX9sZAup7MQCvqxkDrqbBAHvPIQOfdx0BoGMlAW8nHQHfKvUDCTslAPD7CQOdhvEAmsMhA5Nq8QD9axkB4ZMVAnUCzQDnlykDJKspAdFOpQHS+sUA0D8pANJHJQLIuxkBTrMdADEaxQGhXyUBYHMpA05M8QNfZqkAXKqtAoPnGQHwnrUAqWrlAwS3HQBKtsEBh6ThA/quqQKhar0A6M61Aw4OwQNHIsEBwkTtA/kasQJGLrEBnoKtANWSxQEw4sEA0s65AKUSwQCOarkAuCLNAjeCtQM97vEA4Fr1A0HO6QOskw0BC58JAHK/FQMOoxEDwr8RAyhLGQFMMxkDXssZA0LXFQOuxxkDgOj9ASNKXQO5XoEAxs59AN3mzQA+9oED45J9ACdifQMtCoEBgQ7BAVyzEQMnNrUBeBMFAiVzFQCWrxkAvgbBAs3uhQI2JtUChMKJAxKagQCqdp0DGSLpA",
          "dtype": "f4"
         },
         "yaxis": "y"
        },
        {
         "hovertemplate": "label=9<br>UMAP1=%{x}<br>UMAP2=%{y}<extra></extra>",
         "legendgroup": "9",
         "marker": {
          "color": "#FECB52",
          "symbol": "circle"
         },
         "mode": "markers",
         "name": "9",
         "showlegend": true,
         "type": "scattergl",
         "x": {
          "bdata": "WVtWQADPZ0AxjWdAXFNnQCj5Z0CHKzJAwynivwGqV0Db1y1A4I9gQH+FZEBtcDFAeOcJQLJrXEAIclRAT/BVQA7qWUBG/GtAUbhfQK+ZWEAe6zlAcYk3QON+WECRylBAB64lQDSTjkBKCY5AwKAbQH9+Z0BGcS5AUfU8QPN/j0BSQI5AMOSNQGeUjkBx5k/AxgpQwNhzjkA7OgpA79hoQCRla0Dg71dAQ7ZOQFjGM0Cuqy5A2SxMQLDcNUDRfU1A1RozQMfhDUC1VzJAzlYjQOYKIEAR9zBAZDcZwGATCkBOuCVAgnAVQBneH0DkHiRAJdMnQOSPPkBAABdA/jduQICqQcDvn0zAKRxOwDxbTcBrQFHAO3NOwKX9TcAW+gG/bYBOwENRSsBEI0XAFalDwM11UMAORktAenATQL2wbkAHhQlAC5D3QCIiE0DuaG5AY0onQLVnCkAU8WtAjr0MQEVRDUBEXQtAfqNTQPLvPkCUnUhA36wyQBwLQEAW6kBAMU9TQIR2UkCEOkRAlV0+QCvvMkBIbkFAgmU+QFZynEDUtl5AQsxcQIkPL0C9nF9AaYYtQJ0pXkA/I8u/XPheQJoiN0AG/zZAHCxgQF/cMkB/p0lAgJCQQCC2S0Aq6SFAfTUbQD8DH0DIBVZAQjU3QBUiHkC+mzRAfeU0QGa4GkBZBy1AEQw/QI0lIkDruyBAR3QiQAa0K0BuYSFAKr5sQM15N0DQwBxASZAaQDuFGUD5yBRA2i4kQP7/GUC3MTlA2/o1QFRNGkCQJDdAUNQ8QMnHOEAN1xpAgIo5QP0TLUAYERdAaAYXQOWcUMDUh1DAYw4ewHCUUMA++Y5A6mgywIVLUMBm/mNAiUyPQKMMWUD8DLtAC1UywG+Xj0CORD1A4ZI1QEWHVkDXHDJAb5IdQMDuHkBffTBA89k3QFKGKUB4lDBAy7xUQOgRIkDvTSJA",
          "dtype": "f4"
         },
         "xaxis": "x",
         "y": {
          "bdata": "80IZQRBnKEFb5idBjRgoQQCNKUHO/SJBAXO7QD3jGEHanxxBrdweQfPnIUEKzxhBnUQWQV6fHUE+dxhBdmYZQcQVGUExLB9B1qQfQShgGEEFMhdB+hgXQZW0GEEJSRxBjxQXQWMqGD9GcxI/zhEeQdNFIUGnehZBbysoQbc0Hj8hPRQ/gncRPzfIFj//mJbA+3WWwBVEFj8AhhZBunYfQVc4H0Ej0R1B7kMfQQhuIkEY5yFBJVMfQcAHIkEZTh9Boh4iQZTOGEHySSJBrqQpQWGHJkFszypBFv66QP5eFkFYSCpB/C0fQX0PKEGq6SlBe5wqQf95I0EMpx5BH6ofQbhDncA/B5jApnCXwB23l8Av25XAcz2XwJx5l8Cd0CJA1DuXwJPBmMCUM5vAkT+cwBlQlsBukCJBM1oWQbjLH0G/OhZBZOoJQRG4GUEW3x9B0poYQc1AFkE9mx9BuVEYQVgSGUFc2xZBE1cpQV6SKUE6mylBrcAjQTWKJUG+rSRBsOsoQcYtKUGEaiRBtsYpQaF2I0HrxipBvG0pQUjbs0CNMyxBQb4sQc7jFUGWFixBruUVQRB/LEHC3sZAv6srQQ+1GkHETh1BbqUrQZxUGkH/sR1BWSmPQS0MHEEcDSVBQAMfQZxMJkGyABlBWaQXQV9wJ0FV+BdBjIoXQcTFHUFq6BVB8HApQdFmJUFofiVBnx0dQVj/G0EbfClBQ9gfQaYmHkE5dB1Bi84fQRUlIEF4Sh9ByUMgQezUHUE6ESRB920kQSfjHUHajCRBj8skQSfyJEGk3R1BRAwlQdmGHkE7mx5BwnweQUpIlsBYUJbA78mnwLlNlsAQKxo/zwxAQexulsAgRCFBjascPxitGUEZQaFACvM/QapUHz9n8ihBmBceQWOpIUHSCxtBn8wcQVJRHUGLQx9BPTgdQdEnHEHMhh9BqnkYQSdNGUGunhZB",
          "dtype": "f4"
         },
         "yaxis": "y"
        }
       ],
       "layout": {
        "legend": {
         "title": {
          "text": "label"
         },
         "tracegroupgap": 0
        },
        "template": {
         "data": {
          "bar": [
           {
            "error_x": {
             "color": "#2a3f5f"
            },
            "error_y": {
             "color": "#2a3f5f"
            },
            "marker": {
             "line": {
              "color": "#E5ECF6",
              "width": 0.5
             },
             "pattern": {
              "fillmode": "overlay",
              "size": 10,
              "solidity": 0.2
             }
            },
            "type": "bar"
           }
          ],
          "barpolar": [
           {
            "marker": {
             "line": {
              "color": "#E5ECF6",
              "width": 0.5
             },
             "pattern": {
              "fillmode": "overlay",
              "size": 10,
              "solidity": 0.2
             }
            },
            "type": "barpolar"
           }
          ],
          "carpet": [
           {
            "aaxis": {
             "endlinecolor": "#2a3f5f",
             "gridcolor": "white",
             "linecolor": "white",
             "minorgridcolor": "white",
             "startlinecolor": "#2a3f5f"
            },
            "baxis": {
             "endlinecolor": "#2a3f5f",
             "gridcolor": "white",
             "linecolor": "white",
             "minorgridcolor": "white",
             "startlinecolor": "#2a3f5f"
            },
            "type": "carpet"
           }
          ],
          "choropleth": [
           {
            "colorbar": {
             "outlinewidth": 0,
             "ticks": ""
            },
            "type": "choropleth"
           }
          ],
          "contour": [
           {
            "colorbar": {
             "outlinewidth": 0,
             "ticks": ""
            },
            "colorscale": [
             [
              0,
              "#0d0887"
             ],
             [
              0.1111111111111111,
              "#46039f"
             ],
             [
              0.2222222222222222,
              "#7201a8"
             ],
             [
              0.3333333333333333,
              "#9c179e"
             ],
             [
              0.4444444444444444,
              "#bd3786"
             ],
             [
              0.5555555555555556,
              "#d8576b"
             ],
             [
              0.6666666666666666,
              "#ed7953"
             ],
             [
              0.7777777777777778,
              "#fb9f3a"
             ],
             [
              0.8888888888888888,
              "#fdca26"
             ],
             [
              1,
              "#f0f921"
             ]
            ],
            "type": "contour"
           }
          ],
          "contourcarpet": [
           {
            "colorbar": {
             "outlinewidth": 0,
             "ticks": ""
            },
            "type": "contourcarpet"
           }
          ],
          "heatmap": [
           {
            "colorbar": {
             "outlinewidth": 0,
             "ticks": ""
            },
            "colorscale": [
             [
              0,
              "#0d0887"
             ],
             [
              0.1111111111111111,
              "#46039f"
             ],
             [
              0.2222222222222222,
              "#7201a8"
             ],
             [
              0.3333333333333333,
              "#9c179e"
             ],
             [
              0.4444444444444444,
              "#bd3786"
             ],
             [
              0.5555555555555556,
              "#d8576b"
             ],
             [
              0.6666666666666666,
              "#ed7953"
             ],
             [
              0.7777777777777778,
              "#fb9f3a"
             ],
             [
              0.8888888888888888,
              "#fdca26"
             ],
             [
              1,
              "#f0f921"
             ]
            ],
            "type": "heatmap"
           }
          ],
          "histogram": [
           {
            "marker": {
             "pattern": {
              "fillmode": "overlay",
              "size": 10,
              "solidity": 0.2
             }
            },
            "type": "histogram"
           }
          ],
          "histogram2d": [
           {
            "colorbar": {
             "outlinewidth": 0,
             "ticks": ""
            },
            "colorscale": [
             [
              0,
              "#0d0887"
             ],
             [
              0.1111111111111111,
              "#46039f"
             ],
             [
              0.2222222222222222,
              "#7201a8"
             ],
             [
              0.3333333333333333,
              "#9c179e"
             ],
             [
              0.4444444444444444,
              "#bd3786"
             ],
             [
              0.5555555555555556,
              "#d8576b"
             ],
             [
              0.6666666666666666,
              "#ed7953"
             ],
             [
              0.7777777777777778,
              "#fb9f3a"
             ],
             [
              0.8888888888888888,
              "#fdca26"
             ],
             [
              1,
              "#f0f921"
             ]
            ],
            "type": "histogram2d"
           }
          ],
          "histogram2dcontour": [
           {
            "colorbar": {
             "outlinewidth": 0,
             "ticks": ""
            },
            "colorscale": [
             [
              0,
              "#0d0887"
             ],
             [
              0.1111111111111111,
              "#46039f"
             ],
             [
              0.2222222222222222,
              "#7201a8"
             ],
             [
              0.3333333333333333,
              "#9c179e"
             ],
             [
              0.4444444444444444,
              "#bd3786"
             ],
             [
              0.5555555555555556,
              "#d8576b"
             ],
             [
              0.6666666666666666,
              "#ed7953"
             ],
             [
              0.7777777777777778,
              "#fb9f3a"
             ],
             [
              0.8888888888888888,
              "#fdca26"
             ],
             [
              1,
              "#f0f921"
             ]
            ],
            "type": "histogram2dcontour"
           }
          ],
          "mesh3d": [
           {
            "colorbar": {
             "outlinewidth": 0,
             "ticks": ""
            },
            "type": "mesh3d"
           }
          ],
          "parcoords": [
           {
            "line": {
             "colorbar": {
              "outlinewidth": 0,
              "ticks": ""
             }
            },
            "type": "parcoords"
           }
          ],
          "pie": [
           {
            "automargin": true,
            "type": "pie"
           }
          ],
          "scatter": [
           {
            "fillpattern": {
             "fillmode": "overlay",
             "size": 10,
             "solidity": 0.2
            },
            "type": "scatter"
           }
          ],
          "scatter3d": [
           {
            "line": {
             "colorbar": {
              "outlinewidth": 0,
              "ticks": ""
             }
            },
            "marker": {
             "colorbar": {
              "outlinewidth": 0,
              "ticks": ""
             }
            },
            "type": "scatter3d"
           }
          ],
          "scattercarpet": [
           {
            "marker": {
             "colorbar": {
              "outlinewidth": 0,
              "ticks": ""
             }
            },
            "type": "scattercarpet"
           }
          ],
          "scattergeo": [
           {
            "marker": {
             "colorbar": {
              "outlinewidth": 0,
              "ticks": ""
             }
            },
            "type": "scattergeo"
           }
          ],
          "scattergl": [
           {
            "marker": {
             "colorbar": {
              "outlinewidth": 0,
              "ticks": ""
             }
            },
            "type": "scattergl"
           }
          ],
          "scattermap": [
           {
            "marker": {
             "colorbar": {
              "outlinewidth": 0,
              "ticks": ""
             }
            },
            "type": "scattermap"
           }
          ],
          "scattermapbox": [
           {
            "marker": {
             "colorbar": {
              "outlinewidth": 0,
              "ticks": ""
             }
            },
            "type": "scattermapbox"
           }
          ],
          "scatterpolar": [
           {
            "marker": {
             "colorbar": {
              "outlinewidth": 0,
              "ticks": ""
             }
            },
            "type": "scatterpolar"
           }
          ],
          "scatterpolargl": [
           {
            "marker": {
             "colorbar": {
              "outlinewidth": 0,
              "ticks": ""
             }
            },
            "type": "scatterpolargl"
           }
          ],
          "scatterternary": [
           {
            "marker": {
             "colorbar": {
              "outlinewidth": 0,
              "ticks": ""
             }
            },
            "type": "scatterternary"
           }
          ],
          "surface": [
           {
            "colorbar": {
             "outlinewidth": 0,
             "ticks": ""
            },
            "colorscale": [
             [
              0,
              "#0d0887"
             ],
             [
              0.1111111111111111,
              "#46039f"
             ],
             [
              0.2222222222222222,
              "#7201a8"
             ],
             [
              0.3333333333333333,
              "#9c179e"
             ],
             [
              0.4444444444444444,
              "#bd3786"
             ],
             [
              0.5555555555555556,
              "#d8576b"
             ],
             [
              0.6666666666666666,
              "#ed7953"
             ],
             [
              0.7777777777777778,
              "#fb9f3a"
             ],
             [
              0.8888888888888888,
              "#fdca26"
             ],
             [
              1,
              "#f0f921"
             ]
            ],
            "type": "surface"
           }
          ],
          "table": [
           {
            "cells": {
             "fill": {
              "color": "#EBF0F8"
             },
             "line": {
              "color": "white"
             }
            },
            "header": {
             "fill": {
              "color": "#C8D4E3"
             },
             "line": {
              "color": "white"
             }
            },
            "type": "table"
           }
          ]
         },
         "layout": {
          "annotationdefaults": {
           "arrowcolor": "#2a3f5f",
           "arrowhead": 0,
           "arrowwidth": 1
          },
          "autotypenumbers": "strict",
          "coloraxis": {
           "colorbar": {
            "outlinewidth": 0,
            "ticks": ""
           }
          },
          "colorscale": {
           "diverging": [
            [
             0,
             "#8e0152"
            ],
            [
             0.1,
             "#c51b7d"
            ],
            [
             0.2,
             "#de77ae"
            ],
            [
             0.3,
             "#f1b6da"
            ],
            [
             0.4,
             "#fde0ef"
            ],
            [
             0.5,
             "#f7f7f7"
            ],
            [
             0.6,
             "#e6f5d0"
            ],
            [
             0.7,
             "#b8e186"
            ],
            [
             0.8,
             "#7fbc41"
            ],
            [
             0.9,
             "#4d9221"
            ],
            [
             1,
             "#276419"
            ]
           ],
           "sequential": [
            [
             0,
             "#0d0887"
            ],
            [
             0.1111111111111111,
             "#46039f"
            ],
            [
             0.2222222222222222,
             "#7201a8"
            ],
            [
             0.3333333333333333,
             "#9c179e"
            ],
            [
             0.4444444444444444,
             "#bd3786"
            ],
            [
             0.5555555555555556,
             "#d8576b"
            ],
            [
             0.6666666666666666,
             "#ed7953"
            ],
            [
             0.7777777777777778,
             "#fb9f3a"
            ],
            [
             0.8888888888888888,
             "#fdca26"
            ],
            [
             1,
             "#f0f921"
            ]
           ],
           "sequentialminus": [
            [
             0,
             "#0d0887"
            ],
            [
             0.1111111111111111,
             "#46039f"
            ],
            [
             0.2222222222222222,
             "#7201a8"
            ],
            [
             0.3333333333333333,
             "#9c179e"
            ],
            [
             0.4444444444444444,
             "#bd3786"
            ],
            [
             0.5555555555555556,
             "#d8576b"
            ],
            [
             0.6666666666666666,
             "#ed7953"
            ],
            [
             0.7777777777777778,
             "#fb9f3a"
            ],
            [
             0.8888888888888888,
             "#fdca26"
            ],
            [
             1,
             "#f0f921"
            ]
           ]
          },
          "colorway": [
           "#636efa",
           "#EF553B",
           "#00cc96",
           "#ab63fa",
           "#FFA15A",
           "#19d3f3",
           "#FF6692",
           "#B6E880",
           "#FF97FF",
           "#FECB52"
          ],
          "font": {
           "color": "#2a3f5f"
          },
          "geo": {
           "bgcolor": "white",
           "lakecolor": "white",
           "landcolor": "#E5ECF6",
           "showlakes": true,
           "showland": true,
           "subunitcolor": "white"
          },
          "hoverlabel": {
           "align": "left"
          },
          "hovermode": "closest",
          "mapbox": {
           "style": "light"
          },
          "paper_bgcolor": "white",
          "plot_bgcolor": "#E5ECF6",
          "polar": {
           "angularaxis": {
            "gridcolor": "white",
            "linecolor": "white",
            "ticks": ""
           },
           "bgcolor": "#E5ECF6",
           "radialaxis": {
            "gridcolor": "white",
            "linecolor": "white",
            "ticks": ""
           }
          },
          "scene": {
           "xaxis": {
            "backgroundcolor": "#E5ECF6",
            "gridcolor": "white",
            "gridwidth": 2,
            "linecolor": "white",
            "showbackground": true,
            "ticks": "",
            "zerolinecolor": "white"
           },
           "yaxis": {
            "backgroundcolor": "#E5ECF6",
            "gridcolor": "white",
            "gridwidth": 2,
            "linecolor": "white",
            "showbackground": true,
            "ticks": "",
            "zerolinecolor": "white"
           },
           "zaxis": {
            "backgroundcolor": "#E5ECF6",
            "gridcolor": "white",
            "gridwidth": 2,
            "linecolor": "white",
            "showbackground": true,
            "ticks": "",
            "zerolinecolor": "white"
           }
          },
          "shapedefaults": {
           "line": {
            "color": "#2a3f5f"
           }
          },
          "ternary": {
           "aaxis": {
            "gridcolor": "white",
            "linecolor": "white",
            "ticks": ""
           },
           "baxis": {
            "gridcolor": "white",
            "linecolor": "white",
            "ticks": ""
           },
           "bgcolor": "#E5ECF6",
           "caxis": {
            "gridcolor": "white",
            "linecolor": "white",
            "ticks": ""
           }
          },
          "title": {
           "x": 0.05
          },
          "xaxis": {
           "automargin": true,
           "gridcolor": "white",
           "linecolor": "white",
           "ticks": "",
           "title": {
            "standoff": 15
           },
           "zerolinecolor": "white",
           "zerolinewidth": 2
          },
          "yaxis": {
           "automargin": true,
           "gridcolor": "white",
           "linecolor": "white",
           "ticks": "",
           "title": {
            "standoff": 15
           },
           "zerolinecolor": "white",
           "zerolinewidth": 2
          }
         }
        },
        "title": {
         "text": "Visualización del Dataset Digits con UMAP n_neighbors= 5"
        },
        "xaxis": {
         "anchor": "y",
         "domain": [
          0,
          1
         ],
         "title": {
          "text": "UMAP1"
         }
        },
        "yaxis": {
         "anchor": "x",
         "domain": [
          0,
          1
         ],
         "title": {
          "text": "UMAP2"
         }
        }
       }
      }
     },
     "metadata": {},
     "output_type": "display_data"
    },
    {
     "data": {
      "application/vnd.plotly.v1+json": {
       "config": {
        "plotlyServerURL": "https://plot.ly"
       },
       "data": [
        {
         "hovertemplate": "label=0<br>UMAP1=%{x}<br>UMAP2=%{y}<extra></extra>",
         "legendgroup": "0",
         "marker": {
          "color": "#636efa",
          "symbol": "circle"
         },
         "mode": "markers",
         "name": "0",
         "showlegend": true,
         "type": "scattergl",
         "x": {
          "bdata": "IkaCQTTEgUHNv4dBCumAQeUZhUEFUoZBHziJQXGeh0GPRohBFuaHQfcWiEFPgIhBCkqIQSn/hEEU/oRBdv+IQXAfhUGVgoNBSc2HQdIciEFqwIhBuiWJQeiVh0GDk4hBENCGQc2XiEGe0IFBwgOGQQjogkE0sIFB1emAQVG3hUGWsoNBLEaDQQn0gkH1YYJBjpCCQUKYhkEQtYZBmL2HQVUkh0Eav4hBhGGFQUJehUEowIdBQWiJQU9jhEG93INBVH+DQTjCiEGpDohBcOWDQVNKg0FosINByjKCQS2hgkE2QIZB6eaEQYdwh0GIPoJBg+eEQfmQhEGsqIJBB2iBQYqsg0EZWIRBbNF+QZduhUGm54JBXGSIQcR3h0FFGoJBALyHQWa4hkGJL4RBoTqFQYIKiEGEtYRBkbKBQbSMhkFzmoFBXj2DQcijgkETHoVB6iKCQU1PgUFCfIVB46WGQT05hEEvY4JB8jmDQf+ChEElaoRBc8GFQWe6g0HdW4NBui6EQVAVgkE4ooVBI06DQY1RhEHJW4JBUWyIQbJnh0EOhIVBJb6IQf1riEHVQIhBkz2HQcawhEEcY4dBp3WHQaaogkFEbIdBIiWEQRqTgEFa9oBBWTp/QZbigEGexoBBVIaAQQc8f0Flp35BtKh+QUwTf0FjUoNBXsp+QcqEh0HT0oRBeYWHQVxvh0EqtYdB4pCHQf/zh0HeyIFBb3WCQScagUGlN4dBTx+HQQb9h0G5iYRBySiJQfKTg0GbRIhBWdSGQSsdhkFGxYVBUZSHQcOFh0GgqIdBse6EQTkrh0EciYNBxsWHQYtAiEGWuYRBB7GHQVvYhUFi/IdByGWCQSs7iEFqD4hBKSWHQXK1h0Fjz4JBF1+HQTkriUFzZ4dBWrGCQfethUEwiYZBVaeCQaZfhkFaYYZBMveDQb/8hkGCUohB4AOFQQ==",
          "dtype": "f4"
         },
         "xaxis": "x",
         "y": {
          "bdata": "YYimvxCmgL+msUm/Z6ixv0tiSr/ysZW/CKWbv48TLb+E2lm/jbm+v0qGy78BAGS/1adIv+lPh79dzFW/BpWWv/mQR79l1Ya/wAfYvzrpLL9qO0W/vMWVv4WILr9UmFy/Hr3Nv8ZoXb9TdXu/iK+yv15ahr+dG3e/H/2Xv7WMmL+2I5+/erGWv0H/hb8083i/6qCAv90Rob+SOae/l9m3v8ezyr+Lo4K/NAJIv/nKwL/aRsS/BKWVv7pUwL8NfHS/Sj/Bv2aEr79jl6i/V9mOvxxKab8OwpO/f66Pv3KFg79u1se/oYWRvwwq5r+AWHm/mD5hv/Ttqr8Xlnm/xT2Sv2/Jjr9t/l2/IY6dvzhmWb/E5HK/ksKvvy/8VL/VzHW/mGgrv6SuPL9IhUi//gaBv8p1Y79caWy/qJ6Nv3IU47/41X6/t4GQvw3fjb9bq02/o9Zqv9Xas7+LYU2/wAMnvya/wb9D97G/1zSdvz3Htr9bzrC/MF2dvzdZvr/QVb+/VS7AvyX9mr+Wla6/k3vDv5NJwL+reZu/mOGav3EeqL9Ppra/YoOcv6V4pL9/Fay/F5fkv9lvr785UeW/UFblvzVNpL/e172/rQKPv7sRoL/XZZi/9Bqav9whq78ohbG/pg+sv2TNm7/5KJu/3VOdv7uemr+ul3i/ISyfv/eWp78njmu/LKaAv3CY57/pShe/8yFqv8gNYr/Mf7y/xMOGvyYzqb8YBn6/p8Zlv59DNb/uarG/MnOnv0t1jb/YCq+/WfCnv70Lo79fqKC/Y2vlv5qJ5r+f9ui/UUalvwomrL9+trO/VCxSvzk4X7/cak6/nMUUv1/Og794JhO/sfmhv3TFY7+bPye/yZfiv7VbML/wHYG/tm3Bv2Iun7+w7Li/O4Kgv586Rr/tQMK/Z/SavyDVfb/p8La/yCatvz00wL847V2/yWhHvw==",
          "dtype": "f4"
         },
         "yaxis": "y"
        },
        {
         "hovertemplate": "label=1<br>UMAP1=%{x}<br>UMAP2=%{y}<extra></extra>",
         "legendgroup": "1",
         "marker": {
          "color": "#EF553B",
          "symbol": "circle"
         },
         "mode": "markers",
         "name": "1",
         "showlegend": true,
         "type": "scattergl",
         "x": {
          "bdata": "XjAKwNIGC8DrwhXAG7cMwP6dF8CODhbANjQYwJ3lE8AczhHAOTUOwHZcFMAJJ+K/GmcNwL6OIMCTABbA7PEXwCRUG8AsOBvAyVEawJMdCcDxYRrAolYJwBFOGMAp3xfAAi4LwLD8GMBRldy/GMIBwH5itr+npLm/Az7Lvw+uBsATIOK/jVDOv8ri5b/eaOO/DkQCwKAvCMA/bL+/0NMowEyeHMAstBrAkuYYwBbgHcBEfA3ALcMbwEw1GsCMxRjAGI0RwOgUHMA7MRzAF3IcwEcrC8A08Q3A6oEGwOvtB8CHUgLAVKELwJmxBcD7dwPANnsDwCnyAsB/0wTAeBuqvyB8C8AY9Me/pqG4v8a9w79P+L6/VT23v9Tk3L8Mr7C/Bg/dv51Fr7/xUau/5O6qv7B1sL+6frq/GcIIwF/4CcBnmuC/biypv455qL+XXA7A/0Wxv7twv7/tKc+/P/Tov8Cn4r8cLvC/1YvGv2fADcBM/A3AuVQPwGeQCcCPZQrAf0oLwN5sC8BuPAzAb7wNwBUKDMA3cAzAeSALwFftCsC3t66/kVS2v2onBcAupbC/Ow/wv8uJwb9DhAXAsFrUvwPwA8DEt6q/ezbavySR479GuuK/9xgYwPaiF8BUHg7ACIW5v/HqEsBnyA/AUzHcvzk8B8Aq0g7AMxnmv9sU4L8JKt+/SwYNwOhfKsClww/AXywawCZOCsAtVQ3AQsQbwAKSAMAw2RbAifIJwAtuDcAxUQnAbBD+v7EIAcDgzCrAkt4pwH1VIsAAgCTAlXkmwLGaK8Bl5yrAB1AqwCwbK8AZXh/AlHgmwElkKMCQVyvAZYoGwOl33L/VK9m/XD0PwK6EB8D/Xuq/hpAGwEpGB8Dmeg7AzDAPwAjGB8Bf1w/AYXQOwIEJtr8S6a6/q5e7v65Krb/pn7u/Ommyv5plpb9iAqe/AmS6v7vJs79nvLu/EDqrv/FTrL8=",
          "dtype": "f4"
         },
         "xaxis": "x",
         "y": {
          "bdata": "UOs1QDMAkz9xsJA/b7SaPww/tj/af6Y/y5q3P/tSmz9BV68/yqaaPyM03z+XxlRAMc2OP87oSj+0Nm8/bj9qPw5SZz9Rsls/G7iMPyUjkj/oOWc/4EqSP8FLZz85/44/XNCQP36Ybz8fqkRAbWOoP3EEEECJB1NAQIw9QGvYjj/hsVBAnIMBQGbfyT/yZjhAxUFNQHpcREAPFlRA/lV0P36+rT+HS5g/hzKXP0YUsj9yiS9BBjSRP0rquD/5Drc/RQWaP8y/pT/KWKg/w8iYPxFeMEH6ETBBeEUuQbsKL0HGiSxBozcvQZxcLkFyCC1B0jstQc4nLUFp9i1BVsRKQJAUMUHVrTxAu45SQDS0VkBc4TlA1T07QE6lOEDPKENAXJU4QB1ZTkCHvFBAcHdIQHMgQkD26zxA+iFGQCZmQkDXRzpABa9CQPTtSEAAAS9B+Sk6QIGoVEBLi0VAwYxQQHdtU0DdeUJAbzY6QLt8L0E7Ai9BIR8vQT6EMEEwljBBlE8wQbetMEF7NzBBHHUvQfYiMEFJHTBBjU8wQRMsMEHyRTlAyE4+QL19R0CVBERAxV9RQDCRUkCQA0VA6ZlTQMLHREBZbEBAFd07QC6cU0Cx0lRAO7bBP5Dhtj85HwRA8W87QARG6z8xRkhA0TRVQJLqRUApqwFAYTdTQMuvUUCfB1VAnAEFQFhxjz9QPP8/d6NhP721TEDbJEZAkKGdPzjWP0CqcME/rgJEQP4IRkD380hArDhSQLiZUkC3p4M/AOlxPzCUgD+8Ll4//MFcPyfZbD9T62g/12liP8WFgD8IVIk/tFJpP7LwXD/l9WY/yiJOQDGDVkBoKlZAvrNFQDMMTkAAeFVAR6VMQGeET0AtNkhALapGQFwCSkB2nEVA9aBGQJ7+UkBn7z5AvztUQE/vS0DjCz9A92BVQI0ZRkBkFkFA10Q1QOB7PkBgKU1AuHZBQLGvP0A=",
          "dtype": "f4"
         },
         "yaxis": "y"
        },
        {
         "hovertemplate": "label=2<br>UMAP1=%{x}<br>UMAP2=%{y}<extra></extra>",
         "legendgroup": "2",
         "marker": {
          "color": "#00cc96",
          "symbol": "circle"
         },
         "mode": "markers",
         "name": "2",
         "showlegend": true,
         "type": "scattergl",
         "x": {
          "bdata": "1/psvye0BcDRRQfAG2dwvzgDcL8sM2q/VDV0v3mBdr8CwHO/U84ZwK0m27+gBXC/cdZxv6ExG8C49+K/zcrXv9f39b9sot+/P+kYwKDeDMAUecW/iczjvwTL6L/BVRzAWnshwHQ9678sDgbAYr8FwMJVE8Cn3iDA+Jfjv7kxBMA5CBrADagBwByPHMDcQ+i/yjcAwC+RHMC+3R/Aj6gKwCyfBMB8dhTAdHAEwNLeD8DMIRPAkCcGwAYmC8C0MBXAiJYYwBjIF8DtpxXAZXFiv6EQ7787fAHAP/P8vwZC/b8I7/6/C8rzvzhU/L8EcwLAkZ0EwPnHB8DGGv2/QbQGwF9l/b+OG9u/CDDVv2mN278ZM8i/XTTRv1Mtwb/S17y/7HfQv5zC2L9XLx7AnInYv+Wi2L/OjNy/h+EWwBtOKcDfCCTAyiHkv8bSK8BlrCDAD04iwN9mJMDJ/yzAZFjTv4lWJsAbn4lAv2/cv4SfFcBBkDHA0IwWwD5nH8Bokv+/TGz7v8p/8L8vOQHAvQgxwAsxCMC2OPe/UR0rwHlGFMDVSADA13Pyv3TE7b+c2u6/MZICwNsd7L9wyQHA4kcowGOpAcClaQLAqYUfwFP1+L9ygeK/B6r4v7Da2b8wQyPA6IoGwDveEcCf+Ny/BKPpvxDlIMDmyiDAy98TQEr+5r8kpgPAXzXnv19M57+cg+S/wcYCwA6l6L9sPxDA6Nzjv0vM8781ZPC/DN/wvy6Z8b9z8RfAAvMswKS7MsCoozHAeMkYwIN6MsAbDSnAdHgtwOmnMMAogjTAQfowwB4I6b/3finAjxQEwGmL/L8fOADANUDlv8jWHsBWiuW//CHfvwFkAsB3uBXAlTQGwJPP57/xZBbA2AzZv0zu07/gWBzA9TwywMA9M8B8/ynAf1wywFASCcBhk9a/8lgywHtcFcBZ0BLA",
          "dtype": "f4"
         },
         "xaxis": "x",
         "y": {
          "bdata": "hqfyP0z/FkGCMBRBxur1PxMI8z9CVvQ/g4DyPzAo8D9npPE/M8sJQYcBDUGYtPQ/C073P4AtBkF7PAdB1j0LQUjtCEEVuwdBfVkNQSl/DkGG7QpBgiEIQQ/bB0FNYwxBqLYIQbbaCEHE5glBXp4JQcd0BUH6DgNB16wHQbClCUGr9QZBCegIQQ8WBEE1TAdBj98IQb06A0HsGAhBf8cUQeY1F0HY/Q9Bk/cgQWaAEUGD4A9BuKQVQZZ9FEEtbw9BhsAOQT6DDkHr8g9BOuvoPw7qHEG2rApBylQfQXzlDUHblB9BkFkcQa9GH0HMtiFB+64KQZufJ0G18h9B9oIJQbUFIEGfcwZBXdYGQbS9BkEJgAlB4k8HQZVJCEEgFQlB9qoHQZ41B0HqlgNB3p8GQQbFBkEziAZBY1kGQZpnCEEWSwNBvTUIQT6xBUEInQNBKeEMQQA+A0GMUQZBsZINQam0A0ElP44+FwIGQYbxBkH3PghBK4MJQWPgCUHsuCBBjUcbQXkbHEEUGSFBOakJQU7TFEE75hxB06gJQb2RCkGwzRNBkT4dQXlyHEGVzxxBrxEZQUV8HEHI1RpBieQKQZkgF0H9wyJBa54HQYVvG0GgEAdBjEwLQZCVBkGffgNBhicJQXqBB0HKbw1BlWAGQSNrA0HGTwNBI05VQDRtG0ExpyRBiskYQfo0HEF7mhxBNAQkQVfUHEGpgQ9BXMkbQZTyHUE6QR1BSrkcQf7aHUFV8A5BdvkKQey/CUF+/wlB/h8PQQjyCUFD3QtBXsMKQWlACkEpaQhBh9UJQdMFDkFynQtBoxYWQaqfGUFOmxlBKsEbQW39CUFM+RtByu0GQQbrKEEteQhBTqMVQYiyGUEmTg9B+v0GQZw7B0EGqA1BsloJQaivB0GN1QtBcxgKQdHwB0HGrgdByjsKQULaD0ENDhBB",
          "dtype": "f4"
         },
         "yaxis": "y"
        },
        {
         "hovertemplate": "label=3<br>UMAP1=%{x}<br>UMAP2=%{y}<extra></extra>",
         "legendgroup": "3",
         "marker": {
          "color": "#ab63fa",
          "symbol": "circle"
         },
         "mode": "markers",
         "name": "3",
         "showlegend": true,
         "type": "scattergl",
         "x": {
          "bdata": "07ekQNaMnEDIc5JAuVedQH0tmUDaBJxAhqGbQHIbnUCL3Z1AxoWbQF/wm0CIWZ1AR2iUQM/lnEC0NZ5Af3KdQL2+mEAM+p1A2seeQHOvlEChHZ5A8uadQIwCnUDk751Ad0CdQEb4jEAc4KhAKYyeQO7BmEBTf5lAsGKnQMFNmEBLCZxAf9mhQI5AnkA9XZlAfG6oQCRIqEDVQ5dAzz2ZQOoSmUAsjaxAM/+mQPVKpkDSeqhATlCuQN/crUAEx61AHzusQBC1q0DuX61AsYCqQN1hrED24jtAaMo4QPzaM0DnlTpAVa87QP6aj0AxyTdAzmQ5QCnX/L9nlzhALks4QLMCOUDUnjpAZVeXQHCQlED2PptARS+PQGC5kkBW6JRAtE+RQPLpnUC/GZNA7uCRQIBrpkBSZKdAMLCgQKn/p0ABQaVAZ3KlQFYiokApN6NAqU+iQLLhkUBWzJFA81OZQAlnqEBPcqBA5/KgQApHmUDxEqFApoKkQEt/pkBAzqVARKaiQPmqpECpZqBASCumQOi2oUDCWqBAsIClQJJOpEBO3qVAm5WRQI4wkUARzZBAoZmOQER4FEBR7ZFAuHOXQI7hj0ANOJBA1a6PQFwLjUCUmo9AEjePQFo7lkAMZJFAxxCPQIs5kUDKH5BAlKKVQNmhk0CYe5tA3iOcQKeKlkCS8hVAfHSZQG1mnUBrg5xA+mWTQL3rnkAnj5dA56KaQFUclUDlAZFAQBWWQEtfm0BRAJdAhW+eQN0klUCce5NAX22rQId3qUC9M6hAe0WgQE6QpUDuN6BADFClQNxRokAOvKFA0iihQIdGoUA4BZxA7JejQNtKmUClj5JA6jGWQErckkC/4JFAn7GSQOP7jkDWQWa+ML6XQEKEmUCZaZtA2W6ZQHUfmkBN1qhATUORQLV8p0Cx0Y9Ac82PQCW+j0A/rqhA5COQQM9CkEAovpJApwugQJRRqEBlSZ5A",
          "dtype": "f4"
         },
         "xaxis": "x",
         "y": {
          "bdata": "DoKfP9GYJz6NI8Q+/d1APxwy/j7RHSw/KMMCPzHdmz0cA5Y9EfTrPrlnOzwzD2E90ddbvJKWqjxGE6s94YLuPKznoj65GfI94Q2jPXRY0z61Jg4+qBREPT5Jfj6ZutY9yqodPe0xkj6/GbU/x1eHP4nxoj8Bkog/KACPP3PrWT+jr6M/ULWaP/4Xjz+V518/v4aFP48qij8j+qY/WZoqP6Mqdz9XmsA/3krWP7Yhxj+j4+U/wo/JPxk5xj8xpcU/ZvC+P4Nkvj9yZLs/53KUP5sNwD8qmzNAGDg0QAXSNEDC4DRAoig2QGLyQD/gUDVAEKw0QGjgH0Fn3DRAUNM0QI6iNECUNTNAHTOOP5PJkj8qsJA/P8RXPxMckj9tV5A/z9uaP3F4gD+WnJM/XdKVPwzojT+/AJY/EvSLP5LAjj9r3Ik/lUaFP77yej/JUYA/pVJ2P1fI8z4IxNg+uThZP8tBdT9IK2s/BIaKPwszMz/n+8g/Uj+/P3V8nj9ZpMk/Yde8P3R5yD/KXOU/OcjSP7xt6j/pysQ/FAPdP1bAwj/jpNQ/9rWnP9T+qj/UAqE/8xaVP6ajVEBW14M/LKCsPx4hpT/2ua0/GO6rPxkSIj4peqo/HmumP78gpz/Y2nk/sHiqP02DZj27IqA/cD8AP04xCT+0tlI+ckL3PCNNDD8/F1RAqgqCP4xm7juLeBI+DxhyP37RrT88oq0/2NctP02ikD9Kwp4/sTysP/ACmz/ulN4+OoanP5Xhmj+R6aQ/m0G8P6TSvj+I5Yg/55+EP0Ekoz9x2rk/NDK1P4DAsj/BAaw/etuRP8Kggz/EJbc/A5KSP9k4GD/y0TI/ElfyPkd7mT0rJzQ+ZnXBPJ2aiD1K9DxAmEsAP+6sEz9sayk/hBciP1FLJT9Ce4U/hloePi2bWT+Qh809ngtOPoJcNj5zlpg/vQ86PlSlaT6Bb9I+zzGOP+xZWz+RI14+",
          "dtype": "f4"
         },
         "yaxis": "y"
        },
        {
         "hovertemplate": "label=4<br>UMAP1=%{x}<br>UMAP2=%{y}<extra></extra>",
         "legendgroup": "4",
         "marker": {
          "color": "#FFA15A",
          "symbol": "circle"
         },
         "mode": "markers",
         "name": "4",
         "showlegend": true,
         "type": "scattergl",
         "x": {
          "bdata": "MTlgP1OoHT4RcHM/oJfKPbfoBT9cJai9T50OwETKcj9a92s/HtXuvXVgvL3lOWG9WQbqPbMHlT/eaKc/jxqnP/rlpT8f4aE/Mh2kP+68qD9pSqs/L8miP57hpT8lvqI/aGKtPz//Eb5XGIu9Un9qvnmuVT67dQG+Eq9IvvID373kPWY+Gz0Ov9L3ED9pK+49w0XvvbFW6T29ap4/ijClPvJBoD8SC50/ITyKPxhtoT931Ik/RlaJPzOLoj88FYs/J8SaP2Wshz9WIKA/Agc9vsICrb4fYWw+VsPrvY7C3L3BAXO+4hxIvqpny71KESm++lcyPgWp2jzMClG+A0ZMvrNZqD8P2qg/qYObP4J4mT9NLRU+otOkP2VxqD/nGlO+3KuLwIg1az6S8x/AHT1YPtC/6L6PG5c+Hn3SPn1gBD9WavA+cIhRPo3smT7d1B8/zSIEP+YDKD/I+Js+WPfpPlRdBT882Q0/9GUUP1oHAj93Pg8/9QE8vz71DT9/Ygw/eA8LP8U1h7+XcEG/dk4TP+rWeb8V3xPARPuBv4x7e7+V1ai/HSMWv0NWrL9XtCO/pOHbv+m+E7+Oe/++g3kSvoS+oT7KzE+/YVgjOiTPx75Kmxq9lScTP9q4uL1IQxQ/KyAYP91TCT6f2eE+LF6iPlJh5T7DRAc/KTk/vzy4+z7ou1y+mhI4P+l/Oz9C50M/IZEzPxurOj/JcQk/ONP9Pr4xOz/4PU8+Fo0ZP1WOED87Zg0/RCkCP7RHM76bDSU+2DiRvenEpj58SRI+122UPW1tVT4UiGC99JWIvA1lFz7I8Ju+mZO9PeClbz4GnRW+hhQaviB2pb5Z5+K9aASuvv054rx+6YK8rVpAvSsP3r2AewS+jdG0vnTVATy91ue9UaV2P/YClz6bAL8+WZwVwF0SWb8alhM/MA8VP+J/CT8CQD8/XNhXP215GT/bXh0/KPn2Pg==",
          "dtype": "f4"
         },
         "xaxis": "x",
         "y": {
          "bdata": "paHfwBIz2MCT9t3AFEjXwNqf3sDvg9jAGzsCQNUV3sDKPN7AjJTZwFUW2cDraNfAM/zXwBDM3cAB+eHAZlviwNjA5MCSnuXAB4LmwLBR48DEQ+PA7FPnwB9v48BtHuLAUQHhwNJW2MB1UdjA+rTdwJy/28DLhtnAScTkwHFi2MBur+DAUzLLwB6c7MBoC9nAKNLbwPzE18BBVufANk3ywIXu5MAcx+LAC/3nwBbR5MDoId7AL5/owGfu48BJKd/AbpzjwNCN3sDYXufAy8PswIDI58D3bPPAcrjrwMk04sDfoOrALK/twFhQ7sBkFO3A1QXzwGSD4MB18+zAiJ3swPes4sBJXePAWIPgwJL/38By/9jAOsjiwAsu4sC5NuzABWS9wF9i9MCn47DATIfywIYd4sBrAvPA5erswJEy9sDkj+nA3KftwBaO8sAYXOfAqH/2wGgK8cCyRfLAqf/mwL6r9cAG+vTAR5HjwHvj9sARr9zA4FjGwBIg3MAjjtzAhWP2wPw7v8BXlcXAPXzgwIfcwMBXWbHA7O6/wHeewMCGUrvAR8vJwAG4usDY4sjADPKIwFk7ysBf9szA+0rWwMAD2sBOkcTApOzVwP/s0MCMPtfAhQ7lwJlq6sBKuuLABNPpwODT18ACJtzAg0HcwFVF6MDQ8+rAZ/XFwAyf4cBRId/AtQfwwGhc8MDZX/HA+ojvwKsc8MAS5evA9WXrwDr078Ah9dnAFW/nwJGG58AgN+TAG4HtwKch7cB7R/LAJrfuwKmP5cByCfPAi1nuwLTP8MAS1u7ARjTuwND38cB2hObA/JPxwJgl7MDHcNnAUzDZwPzY4MAlm9vA88HgwBFrWkDMpVxAubzcwAtU2cAyg9jADHXiwF9IW0DrztrA1ErfwNIh4sBmnt3AI9etwFGvw8AprvTAzz/0wDUk6sC1itzADWjfwEFB9cBDEebA+WTmwA==",
          "dtype": "f4"
         },
         "yaxis": "y"
        },
        {
         "hovertemplate": "label=5<br>UMAP1=%{x}<br>UMAP2=%{y}<extra></extra>",
         "legendgroup": "5",
         "marker": {
          "color": "#19d3f3",
          "symbol": "circle"
         },
         "mode": "markers",
         "name": "5",
         "showlegend": true,
         "type": "scattergl",
         "x": {
          "bdata": "s33DQLnqg0AU34dAd4CXQOsehEBI+YlANvqJQDpTmEAdWpdAg0yVQEYJi0AKooRAqQmVQO73gkDvDoVAfgyBQO2ehEBlxoFAUv2EQHXlg0Cf54NAowuBQNAvhUBoNIdA0ciCQHmZg0BDxqNALFqNQCOfnkB3FqFAAHaqQDNzr0BOb59AAS8VQHuWn0C9dahAQZ2YQFg2qEDNpoVAyLWaQDbDl0D/2JhANmmcQHCbmEDcK55AjrWaQKAvokANgZpAcqaTQNj0k0BpGYhApz2aQGTPpUDLH6dADPmiQOAWmkApK6pAAyinQC0Ho0B7eqJAwsenQMYFp0BKRqBAg2mlQHgBokAW/qRAw6WIQBqDhUBao6ZA8daCQGGzhEDgJoVA+sikQG5spUBjq6dAT6eIQGfdf0BhL31AyQKLQAMAhkDWDYRA2JaNQNYQhUARr4xAsuyIQHNUjEBqrIdAhdWQQFvWhEAd345AiwqGQBmun0BCo6pAdFW9QC+OrUBf5aNAZ1OsQCjUrEDWD6dAoXurQEdDmUDxzatA87WtQCTFoEAk/YVAK1CPQNDlokBR8JFA3mh/QK09jkAR85ZAoCWkQBJPhkB96pNAjV6lQB6vgEBSu6JAwVuoQG+Fp0BSaYFAoEWeQJfWj0Ayg4ZAwxenQHgFhkAwc6VAmeaCQJqCh0A9U4BApBCCQE1rqUBiFZ1ATR2iQLNymUBc9JtA6WSYQMUWn0C6T6VATcr1QDwolEAItZNAy2WpQDe/mkBQNqJAcXapQOeqsECev6lAPUehQB3cqUBZ+ahADISqQIP4pUBUSahA6vCxQMRDqECUHZ5AJo2AQO+cgEAV1X5A65t6QGjzgEB33oFA3D6BQJ+tgED5TZRANIR7QBQhi0BMW31AqwN9QCq6qEAkZ6hA3SGqQPson0D9kqJAIgyZQDBHqECCJadAFYWpQOFUqEBcsKlAWqKoQJKLqUA=",
          "dtype": "f4"
         },
         "xaxis": "x",
         "y": {
          "bdata": "Sj5VQDQr7kB3N9xAcKHEQKNs7UC+N+RAw5HeQP3Dw0CoQstAjUvMQHpx1kAJyOtAy73PQLCk7kCmgOxAgvbtQB237EDD7u9APjTrQIob7kCyWu1AwCLvQIsp60DPgeNAc7nuQADB7UD3brtACRneQMLRwEBGVb9AG8u/QCB0r0A6WcRA9kpWQH/6wEBdK7tANz7EQAzuvUBIXOxAK5HOQHmE00ALYtNA9PnHQFUn0EBa8spAlVXRQHpixEB7N9BAuKbXQFJ+10AGutlAB/PRQFnTv0ARnbNAkJ22QCiPwUC0FLJAhsi2QIVxuECCirpApgm3QE3Es0AHjr1AGu7AQBm6tUAfC8xAiPvXQEDA3EDdhcxAOrLXQKct2kAaMNlAKA/MQP/By0CGcMVA5c7aQMcf2ECrVe5ATpviQE8x6kDIAu1A8NfeQMZc2UBiod5ACHLbQO8k4UCfKedAsZraQANw60DSp9tAhQjrQAs7vUDzIrBA1KKGQDRKrUBla7dA/6arQCkOqkAPiLNAyFOvQK1gwEDl561Ab5mqQFrftUAqbdVAO4TOQDP7wkD0ys5AJDPUQPJM0EAZHcZAj6rIQJsf2UAbPMpAyQbKQGGq1UCOzcxAcnHHQNGBxUCMIPBA0fHEQL6r3EA7yupA/j3KQG+d2kB43MZAkNDuQDQM5kAuHu5ARMXvQBQAt0BOLrlAjbjJQBU+wkD8lctAxZbEQBt/yUDJWcpAeGNiQcSWzUB3m8xAxB7EQM5WwUCuD7ZAA6m0QK6Pr0Db1rNATea1QPsKtEBzLbJAsD+1QJH/ukAygbJAF12gQCLStED+vr5A4J/XQFX410CLM9RAeebUQDkE8UBxY9hAi67vQJKh10AKrM1ANe3UQMar4UAEm9ZA32rVQO43v0B+HcJAJQvCQGE4xECL+8NANL/CQAHhwkBvqsBAl8jCQHTBu0ApssFA2U7DQOhcvkA=",
          "dtype": "f4"
         },
         "yaxis": "y"
        },
        {
         "hovertemplate": "label=6<br>UMAP1=%{x}<br>UMAP2=%{y}<extra></extra>",
         "legendgroup": "6",
         "marker": {
          "color": "#FF6692",
          "symbol": "circle"
         },
         "mode": "markers",
         "name": "6",
         "showlegend": true,
         "type": "scattergl",
         "x": {
          "bdata": "70sFQWVXBUEb2QNBrrcGQb9QAUH+XQFB+y4DQRTb40DaxgRBwhMFQUk6BEG+sANBvFQGQZEg50Bt9wJBAVACQQb640CfdelAmH0EQaAu60AJi+dA68TkQBAIBkGUkfRAfNTnQGld5kDyf+5AoLriQMC3+0B5DuVAekbuQC9d7kCwYAJBJysFQf1X5EC1YPxAhMPpQLCa70CHY/xADUX9QChiAEHC4f1AOZvzQMl0AEEj2flAOYMAQSq0AEFmbABBEEIAQaCrAEHwOWO/88j9QFUA80Bnz/lA7ZX7QEyS+0BtrPlApz38QIcN9EDtU/lAvCf7QHCT+0Do7f1AIrz6QIdI9UDaAe9A6zjuQGPc5ECtAeZAHlPjQMGM+EDdNeFAPnLuQApvA0GJyuNAfhEDQSRXA0ETkPBAv/vtQD7wAEHUVOdAaCIEQWXwAEGm+edAbN7xQIFV50AMKP9AnQjzQAfqBkFOZORAD+bhQB+64UBVIeNAsgTsQE4F4UDr/+9AY0nmQBTk4kAbIuJAjboBQXmv8kCpeuVAITLnQBC85EDM2eZABKDwQFmfBUHZLwFB3/QAQUJ4AkEEqQNBg/kCQdBOA0EvywFBBUUDQfiB7kAP8+JAbf37QJMYAkEj4QNB0FUEQamkAUGv0ABBro4AQU7uAEETKQJBesACQRaPAEG3vQRBTOIEQc5JA0Ff5QRBqOcEQa+NAUH8ngFB99kAQSo2AkGQFARB8e4EQSzRBEH9YQNBnskEQckX5kCWH+ZA+/fjQDgq8ECDyedA9+jlQBWm4ED0guhAuBTnQDTj6EA6MO5AUFDuQKou+0AH+AVBMOIFQdTNBkGEegNBQWcFQbGRBUE2KgdBz2kFQdNbBUGN5gZBWecCQRXqBkGOWAVB4gftQJYa6kCmL+xA7fjoQG6q6UBDfAFB+4rpQAeZ4kDP9gBBGykEQSNW/kAFvwVBT/DoQA==",
          "dtype": "f4"
         },
         "xaxis": "x",
         "y": {
          "bdata": "5dNjQbuxa0Hv7WFBKYJnQT+QYUHt3WZBKIpxQYoSaEGw3mJBFW1kQdX4YEFbz2BBQAdkQQd4aEHeoGpBnRRmQVRbaEE2b2dB4DhlQYUHZ0GcDmlB3TdnQVx5aEGQ7WdBalVuQQKBbUGhZWxBheJoQexEa0Giq21Bt5ZrQVKRa0HqR3JBw7tpQQDmbEFcBmxB5YNrQRrOakFCM2dBZg9nQZZcaUE3uGdBrP5mQa/OaEG7JmdBwuZoQeZGYkECnGlByyRpQXxqZ0EGvzpAxgNhQWBQZEFtB2FBgJtfQd15X0EYR2BBcIZgQWChY0F20WBBOQhfQbBnYEFShGBBUE5fQVNWbkEa92xBwAxtQfvnaEGUTWhB4ZhsQfyZbkHw1GpB+NlsQYvHckG9LWxBCvVuQa+LbkGwdW5BOlBvQbx/aEG/Lm9BPkhlQX4rZ0GihG5Be7RuQXDRaUGg2GlBfeRrQYy4ZkHmAWtBompqQelZaUG5uWxB2lhpQRjkaUFDMmhBQ39rQbbgakFojWtB9K9uQbnOaUHkn2xBmFpuQfR/bUHmO29BORFqQbEsa0H/bGNBATlwQW5Vb0FXmXNB1SFyQUryckH3U3JBeUlhQflkbEFvUW1BQ99fQYWfb0E9snNBKlZ0QYS/bkGv1WVBFeBjQaE8bUGES29BlbtxQSj6ZUE7G3VBDX11Qb5ScUEnhHVBoYd1QQztaEFlJWhBSVZpQY2paUHwtGtB0aJ1Qea3a0G712tBJUR1QTAdbkELs25BJO5uQXKGZkG7sW9BswJtQexUakE6dGhBeAxvQfRobkGtg2xBFX9sQc0UbEGA42tB0UlqQWP2ZEE3zWlBtfVqQW4BakHe9WVBk8FqQUZza0GqSGhBgEdxQbNHZUFcrmNBhz9lQWLNa0Fvv2VB7FRnQW2BZ0HLkWFBqChnQeD0Z0EvJ2FByehiQTfXYEF6LWRBPlVpQQ==",
          "dtype": "f4"
         },
         "yaxis": "y"
        },
        {
         "hovertemplate": "label=7<br>UMAP1=%{x}<br>UMAP2=%{y}<extra></extra>",
         "legendgroup": "7",
         "marker": {
          "color": "#B6E880",
          "symbol": "circle"
         },
         "mode": "markers",
         "name": "7",
         "showlegend": true,
         "type": "scattergl",
         "x": {
          "bdata": "cCmHwE7igcAlNGnAaZaBwFvjj8DTBWnAAOmCwJJnjMB+yGbALY2CwJ2XgsCnjIjAGm6AwBl2i8BmFY3AO/GVwA9gaMCt91vAWA2QwDPOl8BRNJvA6fuWwIKGccAqVZXA3hOWwLrRLMDmqJDARUQjwH1rk8DPDVXAwyllwIRjHsAQy37AjsSBwGpZk8D335TAbQmDwEriYcAYfSPApTgiwLXaHcCe5h/AvLEuwCDzIsBBmRvAfUEawDLbOcCGk9q/64AfwG+GJcAm+DTAMoCawMm5jsDSeWTAUTaBwGgAjcCbQJrAvGRewBB/k8C7qo3AjhmPwDp9jMAXTJrAWLOLwD02jcAcz13ASdIUwBQ9379U/gbACkhowFrUZcA3RWXAQKITwCGvZMDww2TAt8NlwI8SjsCRf37AnDeQwPqGjsBpA5XA/E54wDG8lsCdXYvAZC2MwKTdcMBk7ZTAdFWMwJmIjMCCTZfA1AZVwEayasDcjlbABb1fwCp5S8Aob2HAp6xWwI7tbMBXw1nA7TUqwEIhYsBvI2TAY3dowEQmYsBROXTAWoBfwIolfcBicWLAsx1awMsblsBuSl7AdeZjwJtjO8DI5pHAulQ8wMP3lsA24njAD2hhwGpPm8DQOpTAs+uOwCtSl8A9+ZnAUryZwEf5jsDxW5vArWxqwNb2c8B+G5zAww2AwBXTh8DiBXrAzuGMwGf7h8Dx3pnAO0+YwLE9l8DwAn3A+OiRwNIraMChHI3AyF9SwMu0TsCgqFDAsZltwMIsccCEwDHAMk5SwKWwdcAMXHTA4SdswMJ1UcAFsVDAB2JRwLdbncCPWZvAh7iSwB5cnMDoa5zAt36cwJlxmcC+GJjAvICdwK3+jMAI8ZXA9QiAQNVSjMBaA3rAIQiOwGdmW8DkLGXAgLKQwGiokMAxZpbAhcqUwB26hsCHSJjAkvJ9wNSplcA=",
          "dtype": "f4"
         },
         "xaxis": "x",
         "y": {
          "bdata": "/X++wJ/Nq8Aim7zAObCywL/gvsA3HbzAH6OswI9RvMBywLjAO3SqwMdyrcAu87DAmLmwwPE2rcCyjqvA4HauwFTJvMB6P6zATSSuwKvXr8CtLbvAAbuvwGE6vcC6/bHAGa+uwDj8r8BkDLfA93+wwNrttMB35KzA6i2+wAnZsMAR36jAs5qpwDqir8Dp+q3AFVuqwCQossAULq7AhzevwBWfsMCFk67Ao5CuwOcRrsDFPLHA+d6vwOhHrMCHE4jAKKWwwOIGr8AIKa3Av3K8wM2ovsAr3r3AyoytwLYEvsCmnLzAi/+7wFIxvMC67L3APg2xwMl+usC9WLnAhKq+wIkhvsADgLzAPE2xwFo3scDuyKTAv9W+wAf8vcDL4L3AvnaxwBw3vsCVE77AJm69wOXMvcDR8qnA33GzwLfWr8BtirHAjJ2swArmrsD/c6zA0jWrwIn8u8AbLK/A2pmqwDqmq8Bv1LjAdBiqwMZvpsC6DanAuPOmwPRwrMDHf6bApbGowL6rqMB9fKjAgWuvwCcqp8DH16fA9SOowFStpsA1G6rAJVamwIsMqcCd3KbAac2mwAEtuMArHqbAERimwKhwrsCxI7LARUOtwIqgvsBcVbTA9YC9wIXau8DFtr7AQrC8wEMqvsAZW73AA0C6wO2HucBdr7zAU12+wBLJvsCQ9LvAk8atwJPPs8A7fKnA2hq7wM35scBb4r3AmAq/wLFLssBS+KrAO7SwwHTuvcAkxrzAMUOrwEc6rMDig6vASKyowH3qp8AUhbDAe2urwJ+Dq8BJ0afAZSGowIZYq8Dh76vA3wmswAPou8BlWLvAlN60wNe5usDu8bnAeXy4wBt3tsDJPrPAxLO7wPGKuMAwc7LA0GPyQNupvsBTUrLAjPy+wIfkp8AzaL7A5NeuwA1+rMBKVK7A2QiuwPt0ssBSibrAvVG3wAjvsMA=",
          "dtype": "f4"
         },
         "yaxis": "y"
        },
        {
         "hovertemplate": "label=8<br>UMAP1=%{x}<br>UMAP2=%{y}<extra></extra>",
         "legendgroup": "8",
         "marker": {
          "color": "#FF97FF",
          "symbol": "circle"
         },
         "mode": "markers",
         "name": "8",
         "showlegend": true,
         "type": "scattergl",
         "x": {
          "bdata": "2tAoPt3Jlb5DHyK+lGqkvt/m9L0THrK+plICvtjO277Fd8C+QuTQvh9NzL64YgC/CnjUv7iWtTzxNLU+Ev0FvwVgnrzt80S/7x0Bvb9DFr88Vb++k/4Lv3Edkr5gB5e+qQq+viK0bL71Anw/+dyxPQsAGD4ETrI+BcAQP0XKij/Y4mU/3RwqPgDdFD9NeIQ/dn5aPzGE7z3CvHU/CEVVvcXelz/KxSQ/azkVP72Mjz8hdjM/Ntg7P59DhD+3INs+JO/IPgC2Uz+sFEY/nEEov9tY976Whti+5EIdv17E7L6HEOO+7izxvrN98b4SYB+/EHcsv+1O9b7X2PO+lwIgv25GMj9s69I+wosvP8RptT7+rQg/ZS9dPor3gz+CHzw+UuvWvrA1dD/IZHG92EooP7QQFD50a5k/XLUYwEe+tL7khZE/hMebP6wDmz8WZ4S+gfCdPwHBmz9qnps/AkuuQEpilz8/mZM/slVMP8ivYD/X/k8/alFSPwKTWj8CkWQ/S05ePwJPkD/8MFY/bu6PP/Q/Tz+f3N895aQMvmQ83D7sFgY/+/4NPOTXZr4nUOo+XefAPjyEGD3t2y4/bAiEPGuLrT44a8A+R5sTQPCNkr56prW+A5GlPDgWpr6T8po66a4zuxD9g77oJhRAlq/VvmykWr5JMq2+WiWSvndO973ChBNAQv5+vr9KoL4bHru+/tosvn6aZr2xCZu+jdOFvqAayL4GcuW9+cVevmUIjD/1C5I/Vt6QP4tfiT8m/Yo/CpqdP9ekkz+cKJE/b22aP+12nT9ahZY/zduZP4qnlz9A3AvA9oMnv1SnI78diuW+UnECvkdF6r4LFAS/ldQCv0iOCb/eKY29VMoFPkTABL2dsQc/RFc3PZyrBLz91YG8o5cDv55bvT2Tzhy/akFWv3Gxpr6fmk4+",
          "dtype": "f4"
         },
         "xaxis": "x",
         "y": {
          "bdata": "2OMqQFpbQEBqSDJAd/xAQAJ6NkBjXTNAYNxFQH0PTUBzTjhAuZc+QJ1lKUArfERA10lXQFyNLECCHCpAEJUrQOKHLEBXiUVAUu0mQFMhSUCETxZAtQcyQDVAKkDkuiNABOMXQCcFM0Drpi1AnVtJQNi1REAmAjZA5E4zQG1iJkCogi5AWEE2QPLkM0Cn6zVAResqQK/tSEB3IyBAUrQ3QFhYG0BhLiNAUggpQEFaH0AQWSNANgEzQHLAK0A7lihA2pYnQCKWJkDeUCRAllEGQNfqAED80QFA4aoFQFpBAUDJtwFANygAQMqFAUBLMghAp5sEQEFmAED6lgBAuDwEQPsTMUBhKTtAZ/kwQJgGPUAi4jhAXfFBQLkiLEAAcjtAcFc2QGxFK0CAW0lAOqgvQC09QEBXO0FAw2S3PwvEPECZkypA/0obQIJJF0CBRitAtGk9QJcyF0Aw4RdAvy/CPw2FGkCHDEFAJqYwQPgDM0ADtTRAYSU0QK/CKUADIjdAJOArQLC/JECsdDVAXZYqQL+aMkC9L0dAE8JNQC9NPEApizpAt6kpQOYuTUBYozlAwtQ6QCVCT0BGxC5Al/czQHX6PEB/Rz1A6MtUQOcQTEB8aEZAWFJRQJTuP0CcXFVALztRQJC9RkBCGVVAIadLQOTzO0CIokdA2ihIQE1PPkAqLFVAf7g/QHQAOUAmrTRA4KJBQG0aMUBdd0RAanM6QGScQECEIkZAvHw/QOh/J0A72CNAgwspQPRWHkCPvB5AgH8UQNZnG0Aj5BpAGgIYQLlWFkAEAxlAAvYXQJtqGUDS2wRAA5VOQJQuKEBGqxhAMJhBQGpPG0DqdyBAMqInQKEaJkApVzFAGs1IQG9kLECGAC9AfqBPQIaHUkCETChAqUo7QJqfKkCLtD9AV0s5QLitK0A1XCtA",
          "dtype": "f4"
         },
         "yaxis": "y"
        },
        {
         "hovertemplate": "label=9<br>UMAP1=%{x}<br>UMAP2=%{y}<extra></extra>",
         "legendgroup": "9",
         "marker": {
          "color": "#FECB52",
          "symbol": "circle"
         },
         "mode": "markers",
         "name": "9",
         "showlegend": true,
         "type": "scattergl",
         "x": {
          "bdata": "4328QNzpxkBixMdAnSHHQFDxxEBRY7NAgex8u69rxECOTbpAYy7JQDPpxkA8QrFAKda2QBrbw0C6Y8FALArEQDitxkDkicVA68XGQLjpv0BPE7tAwh21QABAxEBhgLdAa4u4QHmz279YNt6/YGq3QEfOxkCI469AWV+uQO1B3L9Rpt2/oA3dv3i23r+sQOW/cRHlv7aw279wIbdAaSrEQDS3w0AtLLlAUB20QJHcskBUla9ASoCzQMKVs0CGALVA+AKyQAnLtEB/qLFAE2emQITmqEAFP6dAslhWPZh1tUC53aNASdewQDkCp0C4MqVAC/WkQAeYuUAuurFA6UfEQCzk2b/Xoea/5YDlv4F54r9ioue/tDjjv2tU5b9OGeG/407kv3gk5L+KTve/iQ7cv8xB6L+vgcBAXuW2QKodxUBicrZAtbA8QD9gtEByqsRARL+3QHcftkAWKcVAiai1QFrEtEAELbdAOie/QBlhsUBZSrRAg9SzQEEfuEAtG7pA6RbBQOpJvkCa8L9A1CmxQLPfuUAq965A1ZiwQJ30okBoj7xA5AG6QCrmrkDe3r1AVtetQJ3oukDobX09wsy/QPo5uUAkdrdAqTu/QDdwtEBOZrRAtd0EQXZ1t0CEzqxAEkivQMWcqkAFZL9ATvWyQDAsqEA+MbNAjfuyQDn1t0Dux69As++wQBvYrEDeqKxAV8W2QOVMvUC2AKVAegrGQFhqtECda7tAE3ivQAAorkB8qrNANuuwQE56tkAaJLZAEfKyQAxmtkCAg7FAbsm3QEp9sUB6iLZA2m+yQAGusECxGbVASDq0QLtW479BZ+q/nTUbwO/l7L/HLeC/8F95QBu05L+j98VAAyrevwhwxkD2HZtAt1t6QGm14L/Ba7JAY66yQAodwkA74rlAD+64QOGotkDnL7JAPMu9QBPWsUD4drJATCi/QOinuEAzoLhA",
          "dtype": "f4"
         },
         "xaxis": "x",
         "y": {
          "bdata": "ivxWQPF7cEAvt2tAND9vQIfQdECv3mlA4jdbQAZ5WkAd50tA5YJmQO8OaUCLclBACOgzQGmEYEDcOFRAMBBZQKuNWUB+WmFA2JFqQKM5V0BQh1BAoMZWQB3LV0AyjGFA5VdXQNociMAN4ojAtTJIQOHmZkAizlFAdTJyQADCiMAfbojAoW+IwJHziMCgSJ7A59SfwHpLiMCvPzVAMWBlQL3TYkBdEGZA8XFqQC+3akABoGhAhiZoQC5HZkCX3mhAD91mQJ2eOkC3tGVAI0dyQGWBaECIlXlAjbI0QHP0OUBK7HZAjt9CQAjwaEA+/XRAEb52QK0ibUAYkEJAgw1lQIksqcDq3Z7APy2gwMyCoMCYr57Atp2fwDSfn8AkyZ7AnPafwDNRosBcrqfAEaalwGz0nsBStW5AmGBLQPneYkBmyzRA49s1QPLrOUBHpGVAgndbQHa/OEBxsmNAXRk3QE0VOkBzejdAdjN9QFpxeECICnxA49NWQJKNbUDHbHdAz8N8QMo/gUCmmHBAszx9QIwCZECQc3xAuCR4QIAKnj+dAYRAl9mKQLUUUkArk4RA5PhQQCTZhUB6IlJApdSCQEm8UUBj5FNAtx+DQMLUT0A9vGtAx5N1QZeCYkBl22hAce9WQNuAaUC3ZFhAu6RSQEsba0ACWFdADp1XQMzQSUDMIVJA3YJ3QH3wZ0Bj0WVABQhWQMWdW0CPr3JARvVkQJUOW0AI1VdAvZNSQGd3VkBiDEBAd9RXQKzGREBT8XJAkdhqQIKrR0Ac13JAFt51QPG/cUBgVkZADpF1QM6yZkC8ZD9AFlRBQDlan8C9mJ/AqUKxwAD1oMAHh4vAbwzUQBlhncDBXmlADv2IwBHCYUDeBCQ/6MTUQOl7icDpXnJA8XJdQD8wa0DvhE5AcYpGQJvrSkB0w2VAgJpcQKL0YUAidV9AgJhIQKLoT0Dq61dA",
          "dtype": "f4"
         },
         "yaxis": "y"
        }
       ],
       "layout": {
        "legend": {
         "title": {
          "text": "label"
         },
         "tracegroupgap": 0
        },
        "template": {
         "data": {
          "bar": [
           {
            "error_x": {
             "color": "#2a3f5f"
            },
            "error_y": {
             "color": "#2a3f5f"
            },
            "marker": {
             "line": {
              "color": "#E5ECF6",
              "width": 0.5
             },
             "pattern": {
              "fillmode": "overlay",
              "size": 10,
              "solidity": 0.2
             }
            },
            "type": "bar"
           }
          ],
          "barpolar": [
           {
            "marker": {
             "line": {
              "color": "#E5ECF6",
              "width": 0.5
             },
             "pattern": {
              "fillmode": "overlay",
              "size": 10,
              "solidity": 0.2
             }
            },
            "type": "barpolar"
           }
          ],
          "carpet": [
           {
            "aaxis": {
             "endlinecolor": "#2a3f5f",
             "gridcolor": "white",
             "linecolor": "white",
             "minorgridcolor": "white",
             "startlinecolor": "#2a3f5f"
            },
            "baxis": {
             "endlinecolor": "#2a3f5f",
             "gridcolor": "white",
             "linecolor": "white",
             "minorgridcolor": "white",
             "startlinecolor": "#2a3f5f"
            },
            "type": "carpet"
           }
          ],
          "choropleth": [
           {
            "colorbar": {
             "outlinewidth": 0,
             "ticks": ""
            },
            "type": "choropleth"
           }
          ],
          "contour": [
           {
            "colorbar": {
             "outlinewidth": 0,
             "ticks": ""
            },
            "colorscale": [
             [
              0,
              "#0d0887"
             ],
             [
              0.1111111111111111,
              "#46039f"
             ],
             [
              0.2222222222222222,
              "#7201a8"
             ],
             [
              0.3333333333333333,
              "#9c179e"
             ],
             [
              0.4444444444444444,
              "#bd3786"
             ],
             [
              0.5555555555555556,
              "#d8576b"
             ],
             [
              0.6666666666666666,
              "#ed7953"
             ],
             [
              0.7777777777777778,
              "#fb9f3a"
             ],
             [
              0.8888888888888888,
              "#fdca26"
             ],
             [
              1,
              "#f0f921"
             ]
            ],
            "type": "contour"
           }
          ],
          "contourcarpet": [
           {
            "colorbar": {
             "outlinewidth": 0,
             "ticks": ""
            },
            "type": "contourcarpet"
           }
          ],
          "heatmap": [
           {
            "colorbar": {
             "outlinewidth": 0,
             "ticks": ""
            },
            "colorscale": [
             [
              0,
              "#0d0887"
             ],
             [
              0.1111111111111111,
              "#46039f"
             ],
             [
              0.2222222222222222,
              "#7201a8"
             ],
             [
              0.3333333333333333,
              "#9c179e"
             ],
             [
              0.4444444444444444,
              "#bd3786"
             ],
             [
              0.5555555555555556,
              "#d8576b"
             ],
             [
              0.6666666666666666,
              "#ed7953"
             ],
             [
              0.7777777777777778,
              "#fb9f3a"
             ],
             [
              0.8888888888888888,
              "#fdca26"
             ],
             [
              1,
              "#f0f921"
             ]
            ],
            "type": "heatmap"
           }
          ],
          "histogram": [
           {
            "marker": {
             "pattern": {
              "fillmode": "overlay",
              "size": 10,
              "solidity": 0.2
             }
            },
            "type": "histogram"
           }
          ],
          "histogram2d": [
           {
            "colorbar": {
             "outlinewidth": 0,
             "ticks": ""
            },
            "colorscale": [
             [
              0,
              "#0d0887"
             ],
             [
              0.1111111111111111,
              "#46039f"
             ],
             [
              0.2222222222222222,
              "#7201a8"
             ],
             [
              0.3333333333333333,
              "#9c179e"
             ],
             [
              0.4444444444444444,
              "#bd3786"
             ],
             [
              0.5555555555555556,
              "#d8576b"
             ],
             [
              0.6666666666666666,
              "#ed7953"
             ],
             [
              0.7777777777777778,
              "#fb9f3a"
             ],
             [
              0.8888888888888888,
              "#fdca26"
             ],
             [
              1,
              "#f0f921"
             ]
            ],
            "type": "histogram2d"
           }
          ],
          "histogram2dcontour": [
           {
            "colorbar": {
             "outlinewidth": 0,
             "ticks": ""
            },
            "colorscale": [
             [
              0,
              "#0d0887"
             ],
             [
              0.1111111111111111,
              "#46039f"
             ],
             [
              0.2222222222222222,
              "#7201a8"
             ],
             [
              0.3333333333333333,
              "#9c179e"
             ],
             [
              0.4444444444444444,
              "#bd3786"
             ],
             [
              0.5555555555555556,
              "#d8576b"
             ],
             [
              0.6666666666666666,
              "#ed7953"
             ],
             [
              0.7777777777777778,
              "#fb9f3a"
             ],
             [
              0.8888888888888888,
              "#fdca26"
             ],
             [
              1,
              "#f0f921"
             ]
            ],
            "type": "histogram2dcontour"
           }
          ],
          "mesh3d": [
           {
            "colorbar": {
             "outlinewidth": 0,
             "ticks": ""
            },
            "type": "mesh3d"
           }
          ],
          "parcoords": [
           {
            "line": {
             "colorbar": {
              "outlinewidth": 0,
              "ticks": ""
             }
            },
            "type": "parcoords"
           }
          ],
          "pie": [
           {
            "automargin": true,
            "type": "pie"
           }
          ],
          "scatter": [
           {
            "fillpattern": {
             "fillmode": "overlay",
             "size": 10,
             "solidity": 0.2
            },
            "type": "scatter"
           }
          ],
          "scatter3d": [
           {
            "line": {
             "colorbar": {
              "outlinewidth": 0,
              "ticks": ""
             }
            },
            "marker": {
             "colorbar": {
              "outlinewidth": 0,
              "ticks": ""
             }
            },
            "type": "scatter3d"
           }
          ],
          "scattercarpet": [
           {
            "marker": {
             "colorbar": {
              "outlinewidth": 0,
              "ticks": ""
             }
            },
            "type": "scattercarpet"
           }
          ],
          "scattergeo": [
           {
            "marker": {
             "colorbar": {
              "outlinewidth": 0,
              "ticks": ""
             }
            },
            "type": "scattergeo"
           }
          ],
          "scattergl": [
           {
            "marker": {
             "colorbar": {
              "outlinewidth": 0,
              "ticks": ""
             }
            },
            "type": "scattergl"
           }
          ],
          "scattermap": [
           {
            "marker": {
             "colorbar": {
              "outlinewidth": 0,
              "ticks": ""
             }
            },
            "type": "scattermap"
           }
          ],
          "scattermapbox": [
           {
            "marker": {
             "colorbar": {
              "outlinewidth": 0,
              "ticks": ""
             }
            },
            "type": "scattermapbox"
           }
          ],
          "scatterpolar": [
           {
            "marker": {
             "colorbar": {
              "outlinewidth": 0,
              "ticks": ""
             }
            },
            "type": "scatterpolar"
           }
          ],
          "scatterpolargl": [
           {
            "marker": {
             "colorbar": {
              "outlinewidth": 0,
              "ticks": ""
             }
            },
            "type": "scatterpolargl"
           }
          ],
          "scatterternary": [
           {
            "marker": {
             "colorbar": {
              "outlinewidth": 0,
              "ticks": ""
             }
            },
            "type": "scatterternary"
           }
          ],
          "surface": [
           {
            "colorbar": {
             "outlinewidth": 0,
             "ticks": ""
            },
            "colorscale": [
             [
              0,
              "#0d0887"
             ],
             [
              0.1111111111111111,
              "#46039f"
             ],
             [
              0.2222222222222222,
              "#7201a8"
             ],
             [
              0.3333333333333333,
              "#9c179e"
             ],
             [
              0.4444444444444444,
              "#bd3786"
             ],
             [
              0.5555555555555556,
              "#d8576b"
             ],
             [
              0.6666666666666666,
              "#ed7953"
             ],
             [
              0.7777777777777778,
              "#fb9f3a"
             ],
             [
              0.8888888888888888,
              "#fdca26"
             ],
             [
              1,
              "#f0f921"
             ]
            ],
            "type": "surface"
           }
          ],
          "table": [
           {
            "cells": {
             "fill": {
              "color": "#EBF0F8"
             },
             "line": {
              "color": "white"
             }
            },
            "header": {
             "fill": {
              "color": "#C8D4E3"
             },
             "line": {
              "color": "white"
             }
            },
            "type": "table"
           }
          ]
         },
         "layout": {
          "annotationdefaults": {
           "arrowcolor": "#2a3f5f",
           "arrowhead": 0,
           "arrowwidth": 1
          },
          "autotypenumbers": "strict",
          "coloraxis": {
           "colorbar": {
            "outlinewidth": 0,
            "ticks": ""
           }
          },
          "colorscale": {
           "diverging": [
            [
             0,
             "#8e0152"
            ],
            [
             0.1,
             "#c51b7d"
            ],
            [
             0.2,
             "#de77ae"
            ],
            [
             0.3,
             "#f1b6da"
            ],
            [
             0.4,
             "#fde0ef"
            ],
            [
             0.5,
             "#f7f7f7"
            ],
            [
             0.6,
             "#e6f5d0"
            ],
            [
             0.7,
             "#b8e186"
            ],
            [
             0.8,
             "#7fbc41"
            ],
            [
             0.9,
             "#4d9221"
            ],
            [
             1,
             "#276419"
            ]
           ],
           "sequential": [
            [
             0,
             "#0d0887"
            ],
            [
             0.1111111111111111,
             "#46039f"
            ],
            [
             0.2222222222222222,
             "#7201a8"
            ],
            [
             0.3333333333333333,
             "#9c179e"
            ],
            [
             0.4444444444444444,
             "#bd3786"
            ],
            [
             0.5555555555555556,
             "#d8576b"
            ],
            [
             0.6666666666666666,
             "#ed7953"
            ],
            [
             0.7777777777777778,
             "#fb9f3a"
            ],
            [
             0.8888888888888888,
             "#fdca26"
            ],
            [
             1,
             "#f0f921"
            ]
           ],
           "sequentialminus": [
            [
             0,
             "#0d0887"
            ],
            [
             0.1111111111111111,
             "#46039f"
            ],
            [
             0.2222222222222222,
             "#7201a8"
            ],
            [
             0.3333333333333333,
             "#9c179e"
            ],
            [
             0.4444444444444444,
             "#bd3786"
            ],
            [
             0.5555555555555556,
             "#d8576b"
            ],
            [
             0.6666666666666666,
             "#ed7953"
            ],
            [
             0.7777777777777778,
             "#fb9f3a"
            ],
            [
             0.8888888888888888,
             "#fdca26"
            ],
            [
             1,
             "#f0f921"
            ]
           ]
          },
          "colorway": [
           "#636efa",
           "#EF553B",
           "#00cc96",
           "#ab63fa",
           "#FFA15A",
           "#19d3f3",
           "#FF6692",
           "#B6E880",
           "#FF97FF",
           "#FECB52"
          ],
          "font": {
           "color": "#2a3f5f"
          },
          "geo": {
           "bgcolor": "white",
           "lakecolor": "white",
           "landcolor": "#E5ECF6",
           "showlakes": true,
           "showland": true,
           "subunitcolor": "white"
          },
          "hoverlabel": {
           "align": "left"
          },
          "hovermode": "closest",
          "mapbox": {
           "style": "light"
          },
          "paper_bgcolor": "white",
          "plot_bgcolor": "#E5ECF6",
          "polar": {
           "angularaxis": {
            "gridcolor": "white",
            "linecolor": "white",
            "ticks": ""
           },
           "bgcolor": "#E5ECF6",
           "radialaxis": {
            "gridcolor": "white",
            "linecolor": "white",
            "ticks": ""
           }
          },
          "scene": {
           "xaxis": {
            "backgroundcolor": "#E5ECF6",
            "gridcolor": "white",
            "gridwidth": 2,
            "linecolor": "white",
            "showbackground": true,
            "ticks": "",
            "zerolinecolor": "white"
           },
           "yaxis": {
            "backgroundcolor": "#E5ECF6",
            "gridcolor": "white",
            "gridwidth": 2,
            "linecolor": "white",
            "showbackground": true,
            "ticks": "",
            "zerolinecolor": "white"
           },
           "zaxis": {
            "backgroundcolor": "#E5ECF6",
            "gridcolor": "white",
            "gridwidth": 2,
            "linecolor": "white",
            "showbackground": true,
            "ticks": "",
            "zerolinecolor": "white"
           }
          },
          "shapedefaults": {
           "line": {
            "color": "#2a3f5f"
           }
          },
          "ternary": {
           "aaxis": {
            "gridcolor": "white",
            "linecolor": "white",
            "ticks": ""
           },
           "baxis": {
            "gridcolor": "white",
            "linecolor": "white",
            "ticks": ""
           },
           "bgcolor": "#E5ECF6",
           "caxis": {
            "gridcolor": "white",
            "linecolor": "white",
            "ticks": ""
           }
          },
          "title": {
           "x": 0.05
          },
          "xaxis": {
           "automargin": true,
           "gridcolor": "white",
           "linecolor": "white",
           "ticks": "",
           "title": {
            "standoff": 15
           },
           "zerolinecolor": "white",
           "zerolinewidth": 2
          },
          "yaxis": {
           "automargin": true,
           "gridcolor": "white",
           "linecolor": "white",
           "ticks": "",
           "title": {
            "standoff": 15
           },
           "zerolinecolor": "white",
           "zerolinewidth": 2
          }
         }
        },
        "title": {
         "text": "Visualización del Dataset Digits con UMAP n_neighbors= 15"
        },
        "xaxis": {
         "anchor": "y",
         "domain": [
          0,
          1
         ],
         "title": {
          "text": "UMAP1"
         }
        },
        "yaxis": {
         "anchor": "x",
         "domain": [
          0,
          1
         ],
         "title": {
          "text": "UMAP2"
         }
        }
       }
      }
     },
     "metadata": {},
     "output_type": "display_data"
    },
    {
     "data": {
      "application/vnd.plotly.v1+json": {
       "config": {
        "plotlyServerURL": "https://plot.ly"
       },
       "data": [
        {
         "hovertemplate": "label=0<br>UMAP1=%{x}<br>UMAP2=%{y}<extra></extra>",
         "legendgroup": "0",
         "marker": {
          "color": "#636efa",
          "symbol": "circle"
         },
         "mode": "markers",
         "name": "0",
         "showlegend": true,
         "type": "scattergl",
         "x": {
          "bdata": "Pt1PQXb5S0FmWEtBMwVPQcdcSUFOr1BBju5QQYn8SkFpK01Bof9TQdMRVEHxGExBCsxLQeo7T0F2XktBphZPQcbCSUF04E1BbOxTQbmpSkHyqUtBeIVPQXVwSUGBRExBpGBUQa0/TUG0l0tBYbZRQWjMTEHD0UxBCdZOQUfLUEEmkFFBfPROQYTvTUE1/ktBogNMQTgkUkEDxFJBM4FUQcaEU0E1+E1B3c9LQfEiU0FjS1NBSslPQTp9U0FkRUxBELZSQfXXUUFDIVBBjDdQQaeZTEEm4lFBzZdQQdMXT0EyE1RBfGBQQSJRV0G+RUxBislMQScrUkF8s01Bz0tOQTD5T0HBx0pBU1hNQZuxSkHomUtBBzRQQYZ8S0F06kxBVetJQUJYSkFjuElBVnNPQUfhTEHNpUtBiRVRQeU8VUFAeU1BHJ1QQbRLTEFxf0pBMqpKQVJvTUGAfEpBY8BIQY9FU0E9605Bmz5OQYA1U0HfslNB4WhRQeo9VEGI1VNBOihUQXm2UUFc9FVBXoNTQRS+U0GjVlBBDzxQQXLEUUHgKFRBUllQQc+eT0EE6lFBz5hWQRnVU0FXFFZBAwRXQU3cT0Hc6FJBH4NPQU24TkFMw05BJblNQQRmTkGjIE9B0lROQXNrTkHR8kxBtTpNQWcJTkGUXExBX9BNQZBsUkHw8ExBHBhQQQv1VkFJwEhB6/JNQabXTEH3jk9B7XtNQbSvUEEEAE9BHltMQeC4SUEriVNBbKhRQW6rUUE7CFJBY0JUQWDpUkFcxlJBdZRWQSscV0Fw7lZBlUtRQdeEU0HRVlJBKC1LQZL8SkHqEktBZq9IQVDQTUGThEhBeQFPQVvRS0H3CkpBUZRWQfA4SUH+0kxBpcVSQUL6T0GuFlJB6aZPQc08SkHeJVNBbOdQQTAkTEHC1lFB7BhPQdJAU0ElwkxBNqVJQQ==",
          "dtype": "f4"
         },
         "xaxis": "x",
         "y": {
          "bdata": "JDtMQLEXRUAqqx5AUgRSQLEaMkBGPSpA7+UdQOCXH0BXSh5AODwkQCTYJ0CC6BZAYVAdQANbKUDlBipALB8ZQLlpN0BRfTtAcokoQIszHkCFBhpA8+waQF54IkDtUhhAGOsxQCRYG0Ay6ERAxEAtQMqwQUA4ukZAx1ZQQD5uNEBZpTdA30U7QAGvPEAttkJANmZAQAF1JUAjMyhAVtUnQAltKkDATR1A3SsrQHF4OUBH1SZAHQcdQOncPEBQmDdAwkpFQGQwHkCqWB1AWHw3QI1lPkB3HTxAwANKQIUfRUAHOjhAKzo4QCkpLkDiZUhAoIYsQFeZR0AgWERATyBPQNivQEDZ+0BAaalNQLXMMkAx8z1AzKcjQP8FIkAUOkFAYMchQETmKUDd0DdAIj4vQLULIEA36jJA19xHQF+yOkDH0EZAgCA3QGhzRUD2NzxAc9FBQP6zTkD1bjFALkQsQINjREBYS05AI0I4QFVKPUDhbTxAhm8yQOFhQ0BAd0RAne5BQBeXSkDW9ClA0IlGQAeDQUCpukVAfMshQBIKIUDbazVAP5QcQJgkHUBljSBAZJsyQO0APkCvDjJAuVQtQEarSEDM+SVAfbM1QN+uTUAH/01ATQ5TQLGnT0Ac+VBA659TQDWTVEA+91JAKH1XQNHqU0BEIztA2r5TQDfaJ0Ar7SpA1q0kQPnTLEBJryNAcdAiQHm/HUA+dlNAUIJHQGhkS0B3biZANyIjQLGYJkBJ9DpAikQgQBIQPECIoyBARYslQHfVK0D7Ay5AHksrQFO3L0A6pi5Auoc1QImVJEDrh0NAJ1MlQALQHkCPgzFAI3UfQKpEK0BG0h1AaZ1IQLcFGED0qhpAA7swQLjiJUBtFEFAP6clQNIrG0CP0SVAF9pFQIEqMkAMJDRAS7pCQNIVLUD0OjBAzi4+QJxwJkCVXRxAXDc2QA==",
          "dtype": "f4"
         },
         "yaxis": "y"
        },
        {
         "hovertemplate": "label=1<br>UMAP1=%{x}<br>UMAP2=%{y}<extra></extra>",
         "legendgroup": "1",
         "marker": {
          "color": "#EF553B",
          "symbol": "circle"
         },
         "mode": "markers",
         "name": "1",
         "showlegend": true,
         "type": "scattergl",
         "x": {
          "bdata": "n1vNv3cyAsDekgPADSYBwMmUAMC/pgPA9wL3v7U+AsDRHPm/zu4BwLWf2r84NLK/0AkDwGabEcC5mQjAlw4LwFdQDsDWtRDA/9QIwN8cAMC1Ww7AS8gDwERrDMCxBQXAsJoCwKF1CcDC95e/vtj0v3zKeL8mDo6/S5qYv/x1AsBmSqG/Y9+Mv87vir/676K/t6fBvz+t0L/oJ46/vpEOwA279b/zyfy/U9ECwDrI9r/ypCfAPQ4EwDT59L+8CvS/wF0CwMQh/r8hDPO/krwEwGyUKMAK9ijA+hokwLHQJMATpB7A6UcnwKbYIsAuSyLAjPshwIo6H8D0XyDA+udwv2p5K8BKuJm/c3iHv/6rkL/mToS/VYJ+vze3r7/rGIy/K1S1vyFTh78x/IS/J0OLv4Avj79vjYC/vwXOv0nByb8Qt7i/3r5Lv0oTdL8gHyXAViKHv4mUjb+kZJe/YiSnv8P8tL8P3bO/PKKLv7tFJ8Av1SbA5TYlwBEQKcDAjinAr/IpwF9cK8APRCvATtInwJijKcDkJyrAMvIpwKNsKMAbAXW/gSWDv+kUyL/eKl+//A+4v7qokL94d8u/FoSkv+tmyL8REVu/GV2hv4bXsL+WJ7G/w/j1vwvk+r9+eca/RNuUv6Gh9b9rx9K/0vikv0lQx78xqc2/ir6pv+xiq7/vaKq/RjC8v5UwBcBcAdG/z1YOwCm70b+KrtO/9u8EwOvbxb/l+fq/XA7Pv4EK0r+vGs6/aBS8vyFuvr+vlwnAI88PwFuxCcCOixXAzekUwEdEEcCqDxDA0LsUwHgfB8DeFwrADl0TwCUHFcD3YBTAHtzTv/Dvs7/x6ay/xvvTv9Qiyr+qLrG/sZXDv+1v0r+nY9S/qeTWv1Ac079iY9i/D/bVv2Yfgb9XiG6/EeGGv5DzZL8bZIe/z1J9v1OEYL8NP2G//QONv+e/Yr+d2nm/ZQRiv0B1XL8=",
          "dtype": "f4"
         },
         "xaxis": "x",
         "y": {
          "bdata": "PCMPPxUIvL/OirK/I5W3v6W6pL+BMq6/pdGYvxFCrr/fQZ+/AaC9vxAPpj5rkWQ/vAzAv/sAzr/SYse/LILWv19fxr/3V9S/jVi3vxQAvL/EM8i/A8DIv9jRzr84Bre/bqm9v7mAw7+r2kU/FDavv84xkT7/XoQ/FYQEP4wGwr80n04/KFtYPtncHb69PhA/7HVEPwLpHj8fvIY/w7TAv4Kdlb/hJ6K/zmCvvxN/l78YGqVAJ9evv7WZlL9sq5i/KBCzv11Nor9h2pe/0dirv2RFpUBtaKVAxcyjQPPXpEAP16JAYi+lQECbpEA5XKNAorKjQIL2o0DOXKRAKWNRPw3lpEC7BEI/FSyCP81agz/RaDA/D8YpP/VtBz8mNl8//4UEP14vdT/GvH8/XzpfP5ItTz+mMDc/dMcjP9erGD/juAs/RRFTP7AxWT9Pz6NArhUZPw8Ngj/ZuD8/bThTPwHmUD8q9B8/1m8YPxcBpUCoyqRAPnSkQGyepEDLkqVA57qlQFXLpUBmLqZAuiulQM6UpUBltqVA8o6lQGxvpUBSky4/kA43Pyz8Lz8A1kQ/gc5AP61Yij9uLzM/oF91P7uXIT/5BDQ/18ElP48LaD8zjFs/VK6Vv5PAnL9RQ4Y/KgkZP7QehL+qCC0/QCh9P6I5Mz8aF4Y/CDheP2oaaD9S5W8/lJSYP2RlqL9TmnI/bt7Pv+3oLz9Plyg/fTmpvxKtJj/KzZi/nOkZP8eUJj+EVjU/ECBiP3QoVj8F17e/JjrEv+k9tL+XJcO/EVbRvz7jxr+EkMK/w2bTv+elsb+/Jba/kPbMv4/hz7/GbMy//Jk3PzhyjD9VLok/VoUlP26FPT/FOIE/R0dNP31TNz+wyys/iu0iP84GMz8BcyA/K5UePzxhdT8LFDc/YmSDP2cFVz/p7Tw/WEmAPxcfUT/82lE/cpXaPtXfPD9hBVM/VklOP221PD8=",
          "dtype": "f4"
         },
         "yaxis": "y"
        },
        {
         "hovertemplate": "label=2<br>UMAP1=%{x}<br>UMAP2=%{y}<extra></extra>",
         "legendgroup": "2",
         "marker": {
          "color": "#00cc96",
          "symbol": "circle"
         },
         "mode": "markers",
         "name": "2",
         "showlegend": true,
         "type": "scattergl",
         "x": {
          "bdata": "15QFv78FC8CsSwXASybnvi4nDb/69AS/gIYUv6DPEb8q3Be/IM3Dv9W+078Ub/a+0yf7vudMub/yUda/GXACwLXT478aV+W/mubLv2TZ5L9KVgXA4x7mv7gk3b97XsC/Axi6v3Eq378K4Ou/O1TivzI+x7/9eK+/2i7kv4Gj8L/Kqsa/2hnkv68ps7/WUN6/bEnkv0Hwrb84LMe/7rIGwJP+CsDHd++/BsYXwBsW8b8fte6/+U8NwPavAcA6Y+y/DDjhv2jz17/nO9u/VTqjvRfYIMDkeeu/UZkVwJkWBcAG9hjAgV8cwLd6F8AGRR7AFIrrv6c6IMDhERvAXl/qvyk3HcDJceK/mUjev0Lp6L81uve/oUbqv2SOhj+fxpw/ientv+9R3b+1YKW/XOvfv1L337/Oc9+/APm6v5cPs7+wYJy/n4bkv9GDn7/tiaK//t3Gvzq/nL/jBqG//esDwNYHlL+oR5nATOTfv8e+yL+w5aO/vUvWvzPoyL/Osx3AjI4WwJa+FMBPXh3AtZerv1DcCMB5HB/Alr2yv3LD0r+B+gTAK+gdwEn5HsC12xvAM5AOwJsPH8CvUQ7A8jS/vzPxEcD1RSDARTC8vwBDGMAotOK/gTX9v+Ry5b9VLKO/s2bkv1uEyr8j2AXAE83bv1j/n78MsqS/g/quv2qFHsARtiXA04wYwM10IsCWkSHAxeYjwLdMJMB58/W/ql8hwOZdIcCulSDA8dUgwJMjIsBDzOO/n/qvv4V+pb+05LC/v+ncv7gVob/cLbi/j8Swv7agrb94jqK/2zC6v3nsBcD4zr2/dtQHwKZqFsC+LxLAXbIhwDDy1b/OXCHAMubYvyWpHMAasMG/FQwEwLfxGsAk7ue/2D7avxiZ2b+wFtK/Ssqhvwaln78kT7e/7K+Yv8w5w7/MpO+/gYagv8QA4L+oGei/",
          "dtype": "f4"
         },
         "xaxis": "x",
         "y": {
          "bdata": "s7o4PmnPi0A3X4hAJLhIPgQ5rD1XXcg957QGPkg7VT0gW6Y8rLuCQAA+VkCbgjE+HmpFPndkfUBogWJAkIJrQOYaaUDcs2RAqUSEQGMPfEDIn2VAqP1jQG5Pa0BhrIVASmOBQF2sYUApv3dArlN4QNx/dkDoYXlA3j9pQNvrc0BNB3xASZZwQMWOd0B5WGZAa05yQIhweEBtHoFA8EmLQNjHjEAPAYZAFOaXQDx3hUAyXYVAjhKLQOIFiUALiIRAb3mFQJ+Dg0BVxIRAQbD9Pg9+jkB4IWxAsnmVQMrKhkB0gJZAHW2OQPOXlECB0pdAkEN7QKJmn0A1cZZAIvh2QAG4lkC6DmRAvj9fQMoBZUBhJ2hA9CBdQDeCcD/C9F0/OJRZQMpgX0CaFXhAILhfQKHNW0DzWVxApKl2QLiKhECEontAKTlpQPnzgkCJN3pAVoWFQBWWfkCYM4RAMKZgQC1mf0CLyeW/Z8ZgQOhvfECJy4dAOF+BQJ1+g0B6nZdAKwKPQBckjkAj8JZA/LmFQGI0iUAzV5FAAj6GQJWYgEAcyoJA3syQQK++jkAonI1AUYiNQCgxjUAv1Y9A08OGQDfii0ArjJhAgsiAQMx5jUAim2RAINB2QPtnYUBVr3tAZMVyQNgYeUBRX3RAsmdnQK+Ge0C0cntAqqFeQMwCjUArTp1AZPqHQKTzjECxAo1A+GebQIXijkCRY4RA9SaKQO0Bk0DFaI5AzeiOQMV6kkBcYoNA4/uHQOqVh0C12oZAMQeFQOIzh0DfHIdAVp2HQPoIiEBohYVAGn2GQN7leEA4sIdARR2LQB7miUAoQ5BApfKJQH+xhEAJd41ARE9rQEx1nkDafYJAHe2LQG6Oh0Cqz4NA599aQF3CW0AgzYVAgX2HQCRahUCXOIdA5LWIQJwndUAkUWNACfyGQNZShUDBuYRA",
          "dtype": "f4"
         },
         "yaxis": "y"
        },
        {
         "hovertemplate": "label=3<br>UMAP1=%{x}<br>UMAP2=%{y}<extra></extra>",
         "legendgroup": "3",
         "marker": {
          "color": "#ab63fa",
          "symbol": "circle"
         },
         "mode": "markers",
         "name": "3",
         "showlegend": true,
         "type": "scattergl",
         "x": {
          "bdata": "jHIsQMQ2AkB/f/E/1msaQITpAUAqZA9Ar4YFQEFj/j80m/s/TfICQEQ1+D+Divk/QG7VP9+q+T8c2AFAiCL5P5K1AEDKIwJAMnIAQC/M7z9/HQRAvP76PzmTAUBbWwNAIcr6P/L4lsBS5y9A7VElQAQ+HkDbUx5A1KMnQNP/EEBv3iJAw5ImQGEHIEC6KQ9ArPwlQMZeJEChFR9AQNkKQGBSC0D8+zpAL6lIQI3LPkCQ2TtAJiZGQCWVO0D2xURA5jw+QLDCPECJIDhAm0IrQK/LQUCXhw1AFgUAQNZY8D/5NwpAnnMOQLqnBEC3wvs/YakDQKAcEsBSnQFAdCf+P0yEBkAxcgVAxNspQExlMECusyNARAPJPxWSKUD9tyZARScnQOIuGUBqkShAcVAmQGowK0CPGC1A8rQgQJkuKkBi9iJAmpsdQAZRG0BOkxpAb4cWQE9C6T86JfA/23wSQERzIUDPOhpAyqglQNRVBEAtJz1Aw9g5QEweL0CmBzpAczwzQBcRPUDCiUJAv+dFQDRuREA94DJATvtFQHf9N0AwJD5AlRMfQLFOIEAK4RtAxGEWQHWYG0BzyxJAqn4pQHuKH0AD+h5AW8kgQNbBmMCllSFAKkEdQN7YJ0C07BNAv8sfQAN6vz/QFiFASaQFQKUMAEDRPQRAEBr7P2I+BEBy6xRAuUgaQIYH9z9r7wVAGWsNQDBGNUCI/CdAhKIDQNKeKUBKYydAk64uQLsOHUCJPwJA1XMnQFF2LUBLFR9APEI1QG2xOUDq/SZAThcbQIsSMEDuCTFAYzIxQOE2LkCjjipAam8iQG1vIEDvMydA/EUkQCncAEBHoPg/RSAGQGl41z9CN8o/tLDAP5FmssDovrQ/lcoBQLY5AEDfLwBAcd8AQEFQCEDDViVAIxHQPxReGEDb0LU/JqTQP3FUwT8j+T9ADV/PPzvI2T/hnfI/160lQEPFEEBkOAhA",
          "dtype": "f4"
         },
         "xaxis": "x",
         "y": {
          "bdata": "GsMCv/4PUr9mtxG/rXcRvzMNML/H+TW/4dI6vzoUar8h6G+/llhLv4Uidr/CU1a/DqdWv1ddbL9UU12/tKFuv7HfOL8yIVy/V8Zxv6aJHr9wa2a/e+Vvv1lKXb8CtXK/MXFlv+Oq7b/Yxfq+FETnvhr8vr4G87m+/f0cv/hV176eaMS+YcoDv/Mx2L7XuP6+fSw4v/RWM79jF5y++WEFvwtX9L4B+eS+XVoVvpFwGL9JVh2//ml0vplalb5gEIW+IVPSvjU0176RLK6+1BI0v0e82b5RaDY/C/QrP1JsTz9TTiY/MLI7P88Xjr7vETk/lYI2P0uJlUA+Dj0/EEg8PxabHT84bC0/10UbvgHdNL2CUpm+WuvPPrrP5L3La0C+vUu4vTdj9b4A1g2+kUgnvmhACb8QQAi/hd0Hv22sLb/l1y2/kuw4v0ciK79jPUO/9ZdEv7Pu8L60/hK/fNTVvrMlQr9aVBe/Qi4Vv6EB/r7Xvyq+Yosav6+LCL+zCCK/U24Wv+rxFL9eFF49XPhBvj/ujD0rdn2+8fwhvlJMI7/kM7i+gTCqvcTw+bzI//29+GcFvtU2QDzyyn++gWpIvhLB4L1Fy4+9h3cxvZOM7b+6Zae8Lz0Kvo6Oa76YTpS+4xaKPLAGH7+HXsq9IfQUv0GgBL+rBUC/8FFmv8/sBr/7jlq8mmWpvhiher8P81u/M8CUvoKc1L7m+rG982kEv8rjZL1XSyC9tE/cvBpts74DqRK/dDnWvijtir1yZDa+34DcvqBv375Jr0a/uaMLv4f6DL9Yyqi+7X0Mvz9XE791vAW/W0ABv5dwJb+ohE6+U94ev4cjHb8pIL++P4ESv6xbOr9zzw2/wh40v4izFsD0e7u+IiMav9ROFr+KLru+w+cNv+MuEL/rBBO/kKwKvxs+ML8+rRe/eZwJv8tJ9r4LXI++qfEKv2FAE7/8Whq//ZcEvyXzB7+zxVW/",
          "dtype": "f4"
         },
         "yaxis": "y"
        },
        {
         "hovertemplate": "label=4<br>UMAP1=%{x}<br>UMAP2=%{y}<extra></extra>",
         "legendgroup": "4",
         "marker": {
          "color": "#FFA15A",
          "symbol": "circle"
         },
         "mode": "markers",
         "name": "4",
         "showlegend": true,
         "type": "scattergl",
         "x": {
          "bdata": "ylEswHGZT8D7DijAJXpTwBhMOMCzG13ANdbPv0cXLsByOSnAJA1kwMVVYMDHvl7AAfBWwNyAKcCbMxzAgCIewDVrGsDs2RzAchAbwMk+FsBVyRfAsaEawJw/HcDkyhXABqkZwJyrYsD5zFzAX05kwHiBScB+oVrAfCNcwBi2XcCZ70fAZwphwIo3NsBAkFTAEM5iwGMMT8D5aCLAYB1FwDGJG8DYEiHA/iApwO3RG8DR0yPAZ1cqwCrbG8AKTCLAhJsfwC4hIcA+URrA4G9cwMHTYsB/Ek/ABV1XwFenXMCGoWHA1e5ZwNVnVsC0v1jAB+9KwMv2VMBVFV7AHtRcwJZnGsBNMRvAUCoewKIQIcAF1FTAXsQbwPwLHMDYhFzA8n2ywOKLP8A/bIrA9gFIwF5YbMCIOkrAEbs9wD3vPcCn9jjAMwhFwK/9ScBQ+TTAR2U9wPsfMsCwz0nAPCo5wJhKPMB0GTTAPr44wIr4NcC6fzvAUOpdwNgiPcCBHzjAZksywNUmYsBrz1fAwmQ5wJsIX8BJBoLAfAhiwGMCYMBqZGjAqW1ewAClaMCbOV/AwPJ4wDngXsDysWDA5VJcwBFSScDuBF/ArzxYwGzRYcD9XVrAuoU2wJu+WMBJajXA+Fo3wL82U8BUqjnAVUpFwHqQO8CIOjbAuNRawMt2OMAQo2DARpAxwEu7L8BrLS/AirYwwDE2L8AP1zjA/408wBkPMMB0V07AFZItwBg8M8B9YDDALMQ9wAJTXcCuSU7AHV9YwB5fQ8CsAk/AKzJRwOt7RsBN/FXAiz5WwK/MS8AU2GPAowxPwDwIPMDI/GbAylViwDA8ZcCKqlvARgVlwLg1I72zFI69MexXwJLLYsBP4V/A+KNnwGL4srwZllrAPpgmwC0xRsB/cEPAfXGCwIOqXcBGozTAh2YswGXcOMD2IzXAFlUswEGxLsB9gDbAnDw8wA==",
          "dtype": "f4"
         },
         "xaxis": "x",
         "y": {
          "bdata": "dPCHwGAYhMC7TYPAO3uFwOPqiMCi1IbASJ+LP3phgsB9Y4TAdW+JwO9iiMBT2IfAY8+GwJX0gcD0RIXA9DSEwOQ7hsDOfIXAHy2HwPMSh8DB9YTA7MuHwBtAhMBbXYPAbr6EwJDwicAIcYnAJSiNwBM9i8AsOYvAwU+TwJ+AicCEpYvAQJqBwHYwksADQ4fAwCOOwECWhcDoaInA5oKWwOh9hsDld4XALUKMwI8UhsD4ooDA5T6OwJJ8hcBep4HAmJKEwMALg8AypofAX6SYwLWEk8Axq5nAv6yYwBHqj8CdtZTAlkCZwJRMmsBVj5nAzpSawMwhjsDhG5nAeL6awL0QhcA9qYXAyCSEwBbPg8Dp1YjAO5qFwE77hcD8sZjATs/nv/jJm8C1JCHA66aYwOcNhMDfxZjA8t6UwH26lsABvpDAM1OXwC2dmMBInI3A/SSXwCA1k8AiC5nAQPuPwOh3lsCnv5PAPJWMwCtmlMBkp4PAEOZ1wLZIgcBEg4LA48KWwOZVYsDkn3LAorWGwNg2acDHtiLAAjplwP/UZ8DBFFXAJ9p9wLMCVcArJXXAZlrgv8z+ecB39HvAaMuGwAQ3h8DY03LARCeEwHpRhcB9CojAYcyNwHPDlcB4VofALN2OwBRDg8D9oojAlD+KwDCdkMCPgpDAGyl3wOP7isCq5o3AiLuTwLH7k8BOOJTAuKCSwM/HkcB02JDA7RGSwOgmkcDH+ofAzNSNwHsej8DYY4zAzYqPwIF9mMBplZrA4TiYwFVykMAiB5rAcCGXwD9Sl8CWq5rA7v6XwGSXmcAUE5HAEp2ZwEt3ksBElovA67aIwFa7jcAI+4zA/LKNwHqbvT/pFsM/ydqPwI/tisDIU4nA1F+QwBs2uT9f9IzAaz6HwDJCi8ABd4nAae4ewLa1b8D2M5HAAnaQwIwhkcDZKIfAUTaGwDXUkcAOVI3ALKKNwA==",
          "dtype": "f4"
         },
         "yaxis": "y"
        },
        {
         "hovertemplate": "label=5<br>UMAP1=%{x}<br>UMAP2=%{y}<extra></extra>",
         "legendgroup": "5",
         "marker": {
          "color": "#19d3f3",
          "symbol": "circle"
         },
         "mode": "markers",
         "name": "5",
         "showlegend": true,
         "type": "scattergl",
         "x": {
          "bdata": "nWBeQCR/H0AMvD9ACNdFQNW2HkDwcylAEg0zQClWREB/t0xA+RBRQKR+RkCuBiNA4YdAQPDcH0AceB1AB3gkQBjzIEDZ6BpAxNolQC8OG0DqHSRAwsMdQGr0JEApVDBAmfgfQM1gIEBQGlVAQMMqQLuhVEDfTFJAGctWQOCrWkDohE9AzsxCQOSVUkB/kWFAb9lPQHNpWkApCCJAkhZBQD+/PECZATxAKNBCQHKJQEB+40FAmHQ8QNTsU0DEjURAb64yQE2NNUApHTxAp10+QJtFXkCtG1xAyTxeQFY8UED36F5AonRdQMC9W0AF8VlAzVlgQIIyXkCE+VhAXGZgQKuCXEBVallADURGQKpYRUDAdGFA/ipAQA9xP0CzRD1A6JpdQAJIXEAEa19AyD85QFYaQECVuSVAgs8sQDXpJkDn3yJAAtIpQIrDOkDZKixAVdM1QK4wK0DnSyhAGhQzQBb7JEAagzFA4mcmQLDYVUBBOV5AUFBbQM3GXUB/hVdA+HBfQL4JYEAR5FRAVYtcQNW8S0DWjV1AWG1eQJ6GVkAWeD5AY4Y7QI+nWEBH7EtAwWVDQNNLSkBDoEpArPBYQMxyL0Aq4lBA6ONYQM0QPkCkI1ZAeRVdQLleYkA1ACBA4CVUQNujMEAfLSNASypgQILjQEAtYVxArTEdQI0CKkBFbiZAMz0aQMGoXUCoJkhAugVdQGhtTkDOs1dAxj1MQJp7WEB3Yl5Acb5XQJWPUUDPaUlArnphQODESkBVFVxAxlpcQDPAXEB7qVpASVdYQMYgXEDdPV1AprdbQMD9XkBbYVxAqLVgQKwzXUCnslNADLM7QFmXP0CpgEBAK9s+QKcGGUBSNjtAOiUfQDQmPUCbpk9Aq2I/QDrILUBAtj9AJDlAQAWAZED+HGZAoiFkQBlZW0AH/lNAZoxIQEy/YUDXC19A/q1nQOeiYECmlmhA6bRmQPO1ZEA=",
          "dtype": "f4"
         },
         "xaxis": "x",
         "y": {
          "bdata": "d0nRPhz1fkDRIG1AL2FNQN81f0Cmm29AHz1qQB82UUBb4VhABnlZQIojZUBeNH1A1qJSQKQxgEB1b31AqAV/QN7/fUDRjIJA3Qd7QOtxgUC6T35AnzKBQB0We0C9sHZATC+AQIN6f0BUAzNAKD1pQCG3QUAaPDxA5205QJDkE0DKsT9AS1BrQAlcO0AB/DFAJmVOQDZoM0Ay131Aq7FEQKHsUkDU505AnEU6QCCPT0CdWy5AloZKQLltOkDYl01A8rJUQAn4VUBwyGtASjRMQGviN0AsYSdAoPAvQCmnQEAJziJAo6gqQB0pLEAHWzZAQVomQHC2HUCVljVAsts9QDtLJ0AAsUdASCFqQI1+bUB7uUdAvwNzQAU3b0CC/nBAl+NOQAdzTEAQzEZAHtNrQNcydEDkxYBAwRZlQHxjeUCzFX9A011lQNjpb0DzaGZAnKtqQPIgY0BfnHRABEpbQJGKe0DSIFxAjxp6QPlYPEAuqBhAphisP/pnEUCP4DBAl0QLQPUXBEBPTSxAyiYeQFTIRUBlQxFALVQMQGAfKED1jmRA47dbQOsQPkBLC1pAmo5wQN3TWECyZUxAjStRQFWJdUAeeVpAJQ5PQGx9bkBe8VRAcW1HQJa6Q0B5FIBAroxLQOBHXUAPknhA/d9NQItucUDzj01AKh+BQKoNdUDJRoBATUyCQHYoMUCeJz5AIUpPQK6ZSEAWnVNAs+VMQCeGTUAHKU5AcyoRQWvdYEDZCVtA/HtFQK8eS0B1USlAYIUvQPY1D0ABRSlAnuQpQDnPK0BAByFAPicqQLRYPUDlTCNAccz6P6CiL0CciDxAk9Z3QKdwdEDRPnFAl012QCC8gkCReHRAi/+AQEPjdEDv6V5AjVB2QJh5aUCMb3ZAKCF0QAZfOUBOkEBAQQk/QEFMR0AF6kVA+2VNQPrgOkAgJTZA8HI+QFLtLkCehT9AeAtAQA3rMUA=",
          "dtype": "f4"
         },
         "yaxis": "y"
        },
        {
         "hovertemplate": "label=6<br>UMAP1=%{x}<br>UMAP2=%{y}<extra></extra>",
         "legendgroup": "6",
         "marker": {
          "color": "#FF6692",
          "symbol": "circle"
         },
         "mode": "markers",
         "name": "6",
         "showlegend": true,
         "type": "scattergl",
         "x": {
          "bdata": "vWFyQC9YhEA9C2pA6oyCQDBiZ0Cw3nhAh7yCQOxMUEA9G3RAL1V8QM4Fa0DlT2hAIJ94QEnTVECL34BAUfpwQCBSTkBNlFFAQMdzQPIdVkCTVFFA2D9PQNW1gkCtrGZAU3JdQFURWEA0KWVAwvZPQNxheEAR/lVAdEFjQMIgZEDkGYNAsbqBQHVmW0DPzXhAaElcQN66aUBZbG9A97J0QGrSekDAUXpAqe9pQCLje0AfxHBAhJN+QD/5a0DWmX1Aws99QF/TdkDiZF5A/ItlQAQSXUBR/VpAaqhcQAXFW0A6XFhAKOhgQEIsXEAmXlhAD/tZQGOkYECXFmVAVttYQOqFb0DTx2NANiZhQFmTU0AP21VA0yVXQGHZe0CiAlFAITFlQFsIg0BYwFVAT+mAQJNTgkD+G2dAwLBnQIMsfkBfHltA5ox4QKZjdkAtclhADhVwQPRCVEADdn1AnRptQNDcgEB/UVFATq5RQDkOUEBNylVAuuJfQATDT0CNr2BAkqhZQMLjU0Am0FRA8mmCQC24aUAv01dAucdfQNHKU0ApIl1AfGZjQDc6g0DIZWxAhw52QDTLgkDG4oVAojqEQDljg0BJ4YFAd5ZpQElOZUA70FVA3OdYQDwFgkCuQYRAyMKGQM7QekALhHNAWDJwQE7Ce0BFzIFANqKDQMYWcUBpa4dAgR6JQL49hkAtJIhA1oWIQDkfeUA8QHhAd7KAQNOqf0BMPINAeFiIQLlZhEBKrIJASYmHQDEUW0BN7VhAglxXQDgiYEDBjFtAR6lVQFzbTkDKCVhA4JReQKP5Y0BhZGtAIM5nQM5VdECRf4VAEyuEQIJofUC2CIBALveDQBOagEDMSIBAM16DQJSOhEBbEoNAgpSEQLYQgECOFXJA6uhPQDfOYEC14FFAsJhRQNKQXUBw/15AIrpTQCx6TED2tWJAzkNtQORnXkDv63hArmRZQA==",
          "dtype": "f4"
         },
         "xaxis": "x",
         "y": {
          "bdata": "lVAKQRDbEUFNjAtB1UgNQSg6DEHaqw9B41oVQRoAF0HJPQtBGC4LQRC7B0HmVwlBxHIJQeyZGEFWuw9B+FsOQZMOGEGlQhZBqaILQfA2FEGoWhZBNvIWQUtzDEF3BhNBfg8bQdmuGUEZgRdB/sAYQdkmE0EvLBtB3FMZQVJNF0H4UBZByhMPQcbFGkHTdxJBjPAYQRgsFkHydw9Bo3cPQafNDUGB5Q9B5P4RQVpxDkE6CQ9BqpAPQc9CDUHw+g5B0d4OQWNGDUENfwZBXq0NQWNsE0HjFRBBRNANQW/ADEG2Tw5B28oNQX1aEkEUNw5BF/ILQYBJDUH7tw1BhdkMQQ4HGkFhVxpBdoQZQesOGEF2VxhBI1QaQa/RFkEw6BpBjO0ZQThDFkEq+BpBuzwUQabUE0FUYxhBcW0ZQTUjDkEztBpBbFgMQX3uDUGXZRpBVnoXQQ71FkEeaA9BUOQTQSLKC0Ep7BhBKVUZQVxSGUGnThpBbYAVQZNWGUGmORVBh5YYQRiTGEG7qBlBZ80TQefeFEGmKxpBM0cbQWmvGkHNtBtB9q8VQUL1DkGYOA1BZD4YQUuwE0HAYBZBNqgVQS9/FkH2mhZBJmIKQcg9GUEIGhtBYAgOQTjhFEHXExZBUMQVQf6fE0FixQ1B2BwOQaMeEkGs9RNBWfgUQeekD0GAqRZBx94WQbDQFEGcLBZBqXUWQfn1DUH0nA1B5PkPQXxHDkE9cRBBKHQWQft+EEFpORBB67sVQSzDGkG5/htBMEcbQTXgFEEaqxtBwugZQYbTGkEtoRdBYc8aQWnuGUEOnhZBoHoWQXe4EkHg+Q9BgQUOQYTqCUElig5BXoAPQbbcDUE74QpB8IgPQXyUD0FTeg1Bwy8VQa9SCkGmbAhBJJcTQS7oFUEYRxNBmBQVQa2cE0Hvbg1BRWEVQb5tGEGLZAxBTzgKQe4UDkGExAlBPzoVQQ==",
          "dtype": "f4"
         },
         "yaxis": "y"
        },
        {
         "hovertemplate": "label=7<br>UMAP1=%{x}<br>UMAP2=%{y}<extra></extra>",
         "legendgroup": "7",
         "marker": {
          "color": "#B6E880",
          "symbol": "circle"
         },
         "mode": "markers",
         "name": "7",
         "showlegend": true,
         "type": "scattergl",
         "x": {
          "bdata": "H4OpwI0EsMBLTJ7AK6WrwGP0tcCl7p7A9hqwwAostcC5HJ/AWfiwwGwpr8Ch67TAhgOuwK9MuMD+qbfA0ZG/wIxSncAmwqLAkE65wCjZwMBfw77AVzC/wJUnpMCaLb3An9y9wHfui8ACPLnAAR2KwE9PvcDVjJ3AWZGfwPKRhsAavq3ASGKzwLmCvMDVaL7A/ZGxwJj1osDYAYnAtwyIwAC3hsA6EIfAk5GLwM1OicBsxYXAuwKGwP1mlMC83HfAaLiGwHbgh8Dx94/AWJq9wFystsCU353AHcCuwOb1s8Am773A3NiXwKIku8BFrrTAgTW4wJfctsD8tb7Ab0qxwKbLs8AngpbA59CDwHaEdcB8sX3Ag8igwDPfnsBEDZ3AW6uCwHBcncBCr53AmeuawG03tcCgBK7AEdK5wOH0ucDFUr3A+O6swPkZwMBE6LbAKcazwD/+o8CKxL7AJvi6wM68s8A8urvAvdefwBknqMCbg6HALcOmwIYmm8D2eafAB6ihwIvLqcB0faTAKbqMwBP4psB7XaTAxKmqwFjypcDXNavAVaSlwGoTsMCVz6fAFjecwIvtu8BWjJ/AP26swBlzlMDMUbvAIMaVwLjKu8B12KfAfJecwKZAv8CNKbvAqIe3wCW4usDJA7/AK86+wGj2ucD8dr7ACNCgwCRlo8B2+MDAc2OswBXussAuLKrAlui5wCnLscANL73AvCu8wKEbvsDCpKzA1Xy+wBKdoMBtArbAKWmcwJsBmsAMkJ3A1ZapwJdmqcBWno7A4xKgwIwVqcB+5KnA+lOowNzxnsBhpp3A+4CdwM8jwMCvlL7Adcu7wLR0v8CTpMDAZ+y/wMQPvsBbL8DAs+TBwNcuuMDXlL3Ar5UTQKtCtMDbNqXAYtS0wN7FoMCtZp7AxGq6wMy4u8D4BsDAGn++wPuuscDlEb3Aq22pwK5rvsA=",
          "dtype": "f4"
         },
         "xaxis": "x",
         "y": {
          "bdata": "m/buv+JAC8AiuPK/J3v7v3y227/fBPi/wRYKwMo65L/0zfW/hbUNwPNXBsDqfAPA9ugGwOy+CMAy0gnA930EwJx8+r+BlQ3AvtQFwHL6AMC98di//gMGwGVm8r+50e+/NZsFwKibGcCbQ/i/GcYawO2y+L8TORHAhFjyvxV6HcDORBDAbLAPwIILBsBvKQrAh8gOwP70AsDqnhnAl04awAD/GsCfFhrA9lYawArRF8DL1R3AVBEcwDXMFMAG/Ni/zjccwBAYGcAsaRfA4NDYv058278Rv/y/yacIwF+I3b/YJNW/rZ0HwKr32b/eBN2/HE4FwFtq77+IeeC/jVLZv42k4L8e4AXAf2cgwGXxKcA5ZArAEqrqv1f587+3CPG/9+kiwLtn8b829PO/gcL5v/X737888w3AuNn9v4kJA8AXQP2/0hQJwMrdAsD/vAjAQwsKwAXy8780igHAM50KwIYaEcAeLuq/AVEUwNooF8AtWRXAWbYYwPCSFcDp8xbAvNUYwOspC8ASwBjAVH8awCX5FMD9yRXA7vsQwM+PFcAmMg7AfMsXwLK4EMCABhTA5I8fwPw+3r+Nvx7AylgUwPTTFcAgDgDAE58YwNn3z78g6QHAzZj5v0u60r/qF9S/Qhfiv5YNz7/kTNC/B9fbv4Yg7L9MEc+/4untv4Ha5b8MU8y/gaYEwO4C/r984QrA7p7iv5o1AcASN82/Z9HQv8qF978m+gnA8DABwK5n7r+b8ta/9tITwJzjEcCsdBfA3AYSwH63EcDkOhXACHISwFlYCMB7zxPAg7kOwF1MEcB13BHAmIoTwDf+zb8wVNa/zmsBwFvb279sMNa/1qHbv+M65b9oBPi/xzbGv/pVAMA1DOy/wumCQKpC4b/PQQDA8XHdv3sbFsBRQfW/VO8HwG5ZEcDBPwfA5uEQwGJoA8BGPNi/4Kvsv/Pn/b8=",
          "dtype": "f4"
         },
         "yaxis": "y"
        },
        {
         "hovertemplate": "label=8<br>UMAP1=%{x}<br>UMAP2=%{y}<extra></extra>",
         "legendgroup": "8",
         "marker": {
          "color": "#FF97FF",
          "symbol": "circle"
         },
         "mode": "markers",
         "name": "8",
         "showlegend": true,
         "type": "scattergl",
         "x": {
          "bdata": "sxjKPpLVfL6Mzue9seNLvmAC2rzklaa+WfdyvnhSjb5xHsq+I1IDv/N7BL9Q/cu+tEekvxplnz3F398+b2/pvkz6ST3+uVy/eyfDPYHu/75qDEK+mCUAvwsfkL6Bo4G+3uqEvn+SP74HA38/kCCiPZV9GD50NKw+0EMyP8B5gT9xkmA/hVR+PkkoKT/83e0/puFaP8rerj1Hz3g/p5DBPDdFiz8g0Sk/pqMiPxeUlj8xVCs/93JdP3AjnT/fSdQ+xpaMPo/1Iz9CAEE/y3q+vsXDZL4adSO+ciOuvh50f776oka+bOGBvs3fh76ma5G+jHWpvhwFcr4To4G+0oSpvrdNOj+3NuY+AtpCP6t38j4+1ig/ld6mPr1giT85Poi9vxrlvvFpZz/fss++zcEVP6nWCj4Vjuu+bfL5v0cV3762I5U/OdmXPxDPkD8Yv0S+qTbZvsDzmT+AJpM/7StDQGfejj/VDBi/44xCP5cZWD8TAzg/J1hWP7FfWz+Ekoc/dsNlP1cKjz/ot10/jl+QP6OxUD/EpS8+cpUzPCPO1z5ktAU/hbTjPVgdB70UGAc/dP/RPr+7+z1lLAs/xjRxPvV3Hz17RlA+6YQFQMWPfL77QUS+PE8PPkUDIL6dVCW9elBNPR0WB77UqJa/o9/HvuLxhr0E+IO+IldCvrz/Ib659JS/CEJOvgEsjL7zxr++NAFzvtSWh775U2G+0ls+vpI37L46ali+63jyvTAWlT+vVY8/vaCcP87ggj/Ajok/WbUGwOvXmT9eZow/z4iTP8EZkj/N84k/HnmRP1PziT97hLG/y7kOv9gm+b4zbYm+Zh9mvok3kL7bh7m+SdTRvlgZv76vw/A9YyU6PaoiXD1Q/gc/5ACSPUNhpz2oGwE+vDmDvg7IaD5oYOe+X/0xvzpYo76TZZo+",
          "dtype": "f4"
         },
         "xaxis": "x",
         "y": {
          "bdata": "0gRIP8rLiT9Qd10/5ciRPypOYD/U8k4/2i2dP+YEmz8rT2s/vz5VPyN1Jj+Jr40/atF7P0dnVT+Ncmg/jMU7P3qtTD95zW0/xDcpPxGhgz9SS90+JZg5P4bRMj9jzx4/rPPVPi+RUz98aF4/K3yYPy4ciz/d+U0/zC5sPzVuZD/0W3I/+VR/Px6iez9BVh8/z79VP+uHjT/1/ks/yWl3P9ujTT+7CGQ/BzZfP2CrRz/2nlo/kb96P8RgfD/00G8/qv5sP5z2Tz8EbGI/W4QpPjsAYz5BTYQ+TaY3Pss2QD53CUo+mm4lPl4IJj7im4A+Xb4nPqn4JD6nExE+e0w0PnkYcj8sGYQ/B2ZzP1ifiz/myYE/IhqYPxp/YT9FZI0/WdxyPzeNdT+QPpg/ikx0Pxwdiz/FYuA/FzqgvzeOcT/+WmA/uKVAP1C6QD9eiUU/eTzVP28IJz9mzTk/X7qOvvI+Pz/9a8w/vJ6AP1R/dT+ElXk/jXl9P6JfVT99W2o/LHloPzxAWz8tam0/9KdcPw2cej/rSpU/UBuXP+9ZXT+JaGA/Kc03Pw1umz8S7lg/RNJSPykLnT/n1l4/vFZRP3rjbD9gbFM/xKCqPpRmoT9/KJw//fOeP0zRlD9ytsI/wxakPz4vkz/CEUtAD4KcPw9mgD9Y9YE/npCMPy9Qjj+7NkpA4sKLPx4yaz/x3lA/epeVPwSxXz/3SYc/CxJcP/UjfD+z7qM/avWHPy2UUT8PYFA/mSlgP/+EVj8CkkY/Qiyzvx2aLj80sz0/n9MpP5PvOz+/1zo/QRggP8qyRz83c3Y/KSCeP8e0FD/Gp8U+4bCUP+8x3D4ZRw4/5CE0P7foGz/o1FE/NEiAP8mnTD9a6Fk/gpKbP8mQnj/mAkM/+RpUP8aTPT8IPFY/ZgkvP/RfOz9RpDw/",
          "dtype": "f4"
         },
         "yaxis": "y"
        },
        {
         "hovertemplate": "label=9<br>UMAP1=%{x}<br>UMAP2=%{y}<extra></extra>",
         "legendgroup": "9",
         "marker": {
          "color": "#FECB52",
          "symbol": "circle"
         },
         "mode": "markers",
         "name": "9",
         "showlegend": true,
         "type": "scattergl",
         "x": {
          "bdata": "f5BYQAu7WUBXR1lAI6xcQEtvSkCfX2VAxZ+ovb3DWUA63WxAYydgQLVyY0DcLURAWpl3QClqYUCOTmFAUlZgQGUsX0A1A2VADpBgQHBCYEBjol5AEmJgQCYmX0BFBVlA+zhTQCFKeMCyUXvAwSdpQGknZEDs2FJAqTpXQMWSe8Cxk3zAZHB7wGO1e8AoiFDACpNMwAxCecDmsnRA9chiQKs8ZkD8tF1At7FXQDy5X0BD1GFAdNFaQCbvWECl/1ZAGHReQKTlfkBkq11AFfFFQGGaa0B9DT9AKJ+APu5dd0AG7i9Am395QFCQVUCtzkJAkWM3QKXWXUDH3HZA8ddlQP0aXsB0b0vApLlJwKS6SMDin0TAQ5ZIwBbOS8BFHC3ANl9EwM1ZTsD+iF3Atr5UwB0MUMBqhWJAx75sQOZ0ZkBwdndA/rAWQFr/ekAcEmdAbepgQJQIeUBwNmhAqv96QDE3fEBQT3VAlKtOQIOcVkAHd1JAoKxsQNqbW0C+7VtA+GdTQD9NTEBDbVRAaB5XQGVNbEAw30tA39VYQISxQUArI0FAa5hHQCbiQkDgK0VAkw9GQFhIPkCUfg0+qh9GQMT/U0DmHkhA5qM/QI55Q0BOnllAsYeIQLioWkAH91pAxShnQApMWUCwqWNAYFxYQMsGWEDt4mNAAQheQJkSbEBbylBASydcQJHxYEAccGBAmrhtQCEGZEBboUxAez5lQCXUYUDTP2NA1a1wQCOBb0CQyHpAHkJqQOH7ckCK2mZABDxiQIcDc0Cvf2RAXz9hQDVfZUAHH3NAia1cQB/xYEBUu3tAAbR4QLaFR8C+gVTALCCDwDMxU8DPZm/A41Y9QMdQUcAYiWJAY3J6wAufYkALtgBATg09QAB5e8CsLFhAanhfQFBaZUDl62VAS3ttQPcva0DTkl1AgBZmQBRRZUDnG2FAHWBoQKS8akCZ/lBA",
          "dtype": "f4"
         },
         "xaxis": "x",
         "y": {
          "bdata": "LyYKP0yRuz5g1p4+v+CzPh7VrD78Z3U/1LnGP1Hrmj4fXTk/6AjCPtz0zz7Zwlo/ljkNP6cs6D4m0PE+dVbSPoWkpj5q/d0+s/XZPnVL0j5jYEI/XLRePylFxz51RjM/guM3P6VF2L/wCNe/m0RNP1mayD4N3ow/fFKLP7ni3L8prtW/3i3YvxZl178G0/y/8Nv7vy7K2L/Ghwc/wfDTPoP23j4zUBE/x6IqPwGDZj9QfoE/h3s8Pwf4LT9yFDY/9qlRPzXuRD82eDU/6OyEPz1Eez8ez4Q/Q+94P8/eJj8zYH4/0WVcP/N/nD86JYM/2/GBP0wLUz944GU/n/PpPr4CHMDNMP6/AHD8v24j/L+78va/tMv5v8BR/b/NT+G/1RL3v30tAsAVGw3AkSsVwLCsAMDG4A0/f379Pt777z6Oxxk/PcA7P58+Qz/N9+I+ZKwvPxZIGD+h6co+yhMjP5bSQD/5ARU/AQYoP75ngz+qd4I/wKBnP2GPTT/0lks/t1EdPy/1Rj9ARwk/+BuRP/9lWD/FnIM/QDeFP5zObr31bnY/oFupPz0Pjz+YyVM/FSiiP4vgez8GYqA/TI8+P7fkRj/q+yE//GRLP/6RYj88QWU/KKEWQeFEWT/KE5c/SF9xP9RKlD8/ogY/hn16P2U4mT8KDXw/0fNsP1NZSj9GPZ0/RpVxP9g/iD92748/8GhYP/UFJj9K2ZY/YrHnPrl0YD9tHDs/ow14PzabgD/yqmo/du90PwJJQD/MUnU/cmB9P9dAWz+ahXg/7aRUP2H4gz8SBkc/t36RP9Lpdz8eRlg/IBpdPwQK+b+D1/+/wEYhwGmMAcBdvt6/vgl2QL5r+r9F2+Q+5bLZv+Zjyj4cIvO+PX13QOrX27/fsXg/IkNgP0Cw/j7LDhw/395OPx1HVj8oEmQ/0gImP49tND9e0m0/ZtEBP/PfJT/UuS0/",
          "dtype": "f4"
         },
         "yaxis": "y"
        }
       ],
       "layout": {
        "legend": {
         "title": {
          "text": "label"
         },
         "tracegroupgap": 0
        },
        "template": {
         "data": {
          "bar": [
           {
            "error_x": {
             "color": "#2a3f5f"
            },
            "error_y": {
             "color": "#2a3f5f"
            },
            "marker": {
             "line": {
              "color": "#E5ECF6",
              "width": 0.5
             },
             "pattern": {
              "fillmode": "overlay",
              "size": 10,
              "solidity": 0.2
             }
            },
            "type": "bar"
           }
          ],
          "barpolar": [
           {
            "marker": {
             "line": {
              "color": "#E5ECF6",
              "width": 0.5
             },
             "pattern": {
              "fillmode": "overlay",
              "size": 10,
              "solidity": 0.2
             }
            },
            "type": "barpolar"
           }
          ],
          "carpet": [
           {
            "aaxis": {
             "endlinecolor": "#2a3f5f",
             "gridcolor": "white",
             "linecolor": "white",
             "minorgridcolor": "white",
             "startlinecolor": "#2a3f5f"
            },
            "baxis": {
             "endlinecolor": "#2a3f5f",
             "gridcolor": "white",
             "linecolor": "white",
             "minorgridcolor": "white",
             "startlinecolor": "#2a3f5f"
            },
            "type": "carpet"
           }
          ],
          "choropleth": [
           {
            "colorbar": {
             "outlinewidth": 0,
             "ticks": ""
            },
            "type": "choropleth"
           }
          ],
          "contour": [
           {
            "colorbar": {
             "outlinewidth": 0,
             "ticks": ""
            },
            "colorscale": [
             [
              0,
              "#0d0887"
             ],
             [
              0.1111111111111111,
              "#46039f"
             ],
             [
              0.2222222222222222,
              "#7201a8"
             ],
             [
              0.3333333333333333,
              "#9c179e"
             ],
             [
              0.4444444444444444,
              "#bd3786"
             ],
             [
              0.5555555555555556,
              "#d8576b"
             ],
             [
              0.6666666666666666,
              "#ed7953"
             ],
             [
              0.7777777777777778,
              "#fb9f3a"
             ],
             [
              0.8888888888888888,
              "#fdca26"
             ],
             [
              1,
              "#f0f921"
             ]
            ],
            "type": "contour"
           }
          ],
          "contourcarpet": [
           {
            "colorbar": {
             "outlinewidth": 0,
             "ticks": ""
            },
            "type": "contourcarpet"
           }
          ],
          "heatmap": [
           {
            "colorbar": {
             "outlinewidth": 0,
             "ticks": ""
            },
            "colorscale": [
             [
              0,
              "#0d0887"
             ],
             [
              0.1111111111111111,
              "#46039f"
             ],
             [
              0.2222222222222222,
              "#7201a8"
             ],
             [
              0.3333333333333333,
              "#9c179e"
             ],
             [
              0.4444444444444444,
              "#bd3786"
             ],
             [
              0.5555555555555556,
              "#d8576b"
             ],
             [
              0.6666666666666666,
              "#ed7953"
             ],
             [
              0.7777777777777778,
              "#fb9f3a"
             ],
             [
              0.8888888888888888,
              "#fdca26"
             ],
             [
              1,
              "#f0f921"
             ]
            ],
            "type": "heatmap"
           }
          ],
          "histogram": [
           {
            "marker": {
             "pattern": {
              "fillmode": "overlay",
              "size": 10,
              "solidity": 0.2
             }
            },
            "type": "histogram"
           }
          ],
          "histogram2d": [
           {
            "colorbar": {
             "outlinewidth": 0,
             "ticks": ""
            },
            "colorscale": [
             [
              0,
              "#0d0887"
             ],
             [
              0.1111111111111111,
              "#46039f"
             ],
             [
              0.2222222222222222,
              "#7201a8"
             ],
             [
              0.3333333333333333,
              "#9c179e"
             ],
             [
              0.4444444444444444,
              "#bd3786"
             ],
             [
              0.5555555555555556,
              "#d8576b"
             ],
             [
              0.6666666666666666,
              "#ed7953"
             ],
             [
              0.7777777777777778,
              "#fb9f3a"
             ],
             [
              0.8888888888888888,
              "#fdca26"
             ],
             [
              1,
              "#f0f921"
             ]
            ],
            "type": "histogram2d"
           }
          ],
          "histogram2dcontour": [
           {
            "colorbar": {
             "outlinewidth": 0,
             "ticks": ""
            },
            "colorscale": [
             [
              0,
              "#0d0887"
             ],
             [
              0.1111111111111111,
              "#46039f"
             ],
             [
              0.2222222222222222,
              "#7201a8"
             ],
             [
              0.3333333333333333,
              "#9c179e"
             ],
             [
              0.4444444444444444,
              "#bd3786"
             ],
             [
              0.5555555555555556,
              "#d8576b"
             ],
             [
              0.6666666666666666,
              "#ed7953"
             ],
             [
              0.7777777777777778,
              "#fb9f3a"
             ],
             [
              0.8888888888888888,
              "#fdca26"
             ],
             [
              1,
              "#f0f921"
             ]
            ],
            "type": "histogram2dcontour"
           }
          ],
          "mesh3d": [
           {
            "colorbar": {
             "outlinewidth": 0,
             "ticks": ""
            },
            "type": "mesh3d"
           }
          ],
          "parcoords": [
           {
            "line": {
             "colorbar": {
              "outlinewidth": 0,
              "ticks": ""
             }
            },
            "type": "parcoords"
           }
          ],
          "pie": [
           {
            "automargin": true,
            "type": "pie"
           }
          ],
          "scatter": [
           {
            "fillpattern": {
             "fillmode": "overlay",
             "size": 10,
             "solidity": 0.2
            },
            "type": "scatter"
           }
          ],
          "scatter3d": [
           {
            "line": {
             "colorbar": {
              "outlinewidth": 0,
              "ticks": ""
             }
            },
            "marker": {
             "colorbar": {
              "outlinewidth": 0,
              "ticks": ""
             }
            },
            "type": "scatter3d"
           }
          ],
          "scattercarpet": [
           {
            "marker": {
             "colorbar": {
              "outlinewidth": 0,
              "ticks": ""
             }
            },
            "type": "scattercarpet"
           }
          ],
          "scattergeo": [
           {
            "marker": {
             "colorbar": {
              "outlinewidth": 0,
              "ticks": ""
             }
            },
            "type": "scattergeo"
           }
          ],
          "scattergl": [
           {
            "marker": {
             "colorbar": {
              "outlinewidth": 0,
              "ticks": ""
             }
            },
            "type": "scattergl"
           }
          ],
          "scattermap": [
           {
            "marker": {
             "colorbar": {
              "outlinewidth": 0,
              "ticks": ""
             }
            },
            "type": "scattermap"
           }
          ],
          "scattermapbox": [
           {
            "marker": {
             "colorbar": {
              "outlinewidth": 0,
              "ticks": ""
             }
            },
            "type": "scattermapbox"
           }
          ],
          "scatterpolar": [
           {
            "marker": {
             "colorbar": {
              "outlinewidth": 0,
              "ticks": ""
             }
            },
            "type": "scatterpolar"
           }
          ],
          "scatterpolargl": [
           {
            "marker": {
             "colorbar": {
              "outlinewidth": 0,
              "ticks": ""
             }
            },
            "type": "scatterpolargl"
           }
          ],
          "scatterternary": [
           {
            "marker": {
             "colorbar": {
              "outlinewidth": 0,
              "ticks": ""
             }
            },
            "type": "scatterternary"
           }
          ],
          "surface": [
           {
            "colorbar": {
             "outlinewidth": 0,
             "ticks": ""
            },
            "colorscale": [
             [
              0,
              "#0d0887"
             ],
             [
              0.1111111111111111,
              "#46039f"
             ],
             [
              0.2222222222222222,
              "#7201a8"
             ],
             [
              0.3333333333333333,
              "#9c179e"
             ],
             [
              0.4444444444444444,
              "#bd3786"
             ],
             [
              0.5555555555555556,
              "#d8576b"
             ],
             [
              0.6666666666666666,
              "#ed7953"
             ],
             [
              0.7777777777777778,
              "#fb9f3a"
             ],
             [
              0.8888888888888888,
              "#fdca26"
             ],
             [
              1,
              "#f0f921"
             ]
            ],
            "type": "surface"
           }
          ],
          "table": [
           {
            "cells": {
             "fill": {
              "color": "#EBF0F8"
             },
             "line": {
              "color": "white"
             }
            },
            "header": {
             "fill": {
              "color": "#C8D4E3"
             },
             "line": {
              "color": "white"
             }
            },
            "type": "table"
           }
          ]
         },
         "layout": {
          "annotationdefaults": {
           "arrowcolor": "#2a3f5f",
           "arrowhead": 0,
           "arrowwidth": 1
          },
          "autotypenumbers": "strict",
          "coloraxis": {
           "colorbar": {
            "outlinewidth": 0,
            "ticks": ""
           }
          },
          "colorscale": {
           "diverging": [
            [
             0,
             "#8e0152"
            ],
            [
             0.1,
             "#c51b7d"
            ],
            [
             0.2,
             "#de77ae"
            ],
            [
             0.3,
             "#f1b6da"
            ],
            [
             0.4,
             "#fde0ef"
            ],
            [
             0.5,
             "#f7f7f7"
            ],
            [
             0.6,
             "#e6f5d0"
            ],
            [
             0.7,
             "#b8e186"
            ],
            [
             0.8,
             "#7fbc41"
            ],
            [
             0.9,
             "#4d9221"
            ],
            [
             1,
             "#276419"
            ]
           ],
           "sequential": [
            [
             0,
             "#0d0887"
            ],
            [
             0.1111111111111111,
             "#46039f"
            ],
            [
             0.2222222222222222,
             "#7201a8"
            ],
            [
             0.3333333333333333,
             "#9c179e"
            ],
            [
             0.4444444444444444,
             "#bd3786"
            ],
            [
             0.5555555555555556,
             "#d8576b"
            ],
            [
             0.6666666666666666,
             "#ed7953"
            ],
            [
             0.7777777777777778,
             "#fb9f3a"
            ],
            [
             0.8888888888888888,
             "#fdca26"
            ],
            [
             1,
             "#f0f921"
            ]
           ],
           "sequentialminus": [
            [
             0,
             "#0d0887"
            ],
            [
             0.1111111111111111,
             "#46039f"
            ],
            [
             0.2222222222222222,
             "#7201a8"
            ],
            [
             0.3333333333333333,
             "#9c179e"
            ],
            [
             0.4444444444444444,
             "#bd3786"
            ],
            [
             0.5555555555555556,
             "#d8576b"
            ],
            [
             0.6666666666666666,
             "#ed7953"
            ],
            [
             0.7777777777777778,
             "#fb9f3a"
            ],
            [
             0.8888888888888888,
             "#fdca26"
            ],
            [
             1,
             "#f0f921"
            ]
           ]
          },
          "colorway": [
           "#636efa",
           "#EF553B",
           "#00cc96",
           "#ab63fa",
           "#FFA15A",
           "#19d3f3",
           "#FF6692",
           "#B6E880",
           "#FF97FF",
           "#FECB52"
          ],
          "font": {
           "color": "#2a3f5f"
          },
          "geo": {
           "bgcolor": "white",
           "lakecolor": "white",
           "landcolor": "#E5ECF6",
           "showlakes": true,
           "showland": true,
           "subunitcolor": "white"
          },
          "hoverlabel": {
           "align": "left"
          },
          "hovermode": "closest",
          "mapbox": {
           "style": "light"
          },
          "paper_bgcolor": "white",
          "plot_bgcolor": "#E5ECF6",
          "polar": {
           "angularaxis": {
            "gridcolor": "white",
            "linecolor": "white",
            "ticks": ""
           },
           "bgcolor": "#E5ECF6",
           "radialaxis": {
            "gridcolor": "white",
            "linecolor": "white",
            "ticks": ""
           }
          },
          "scene": {
           "xaxis": {
            "backgroundcolor": "#E5ECF6",
            "gridcolor": "white",
            "gridwidth": 2,
            "linecolor": "white",
            "showbackground": true,
            "ticks": "",
            "zerolinecolor": "white"
           },
           "yaxis": {
            "backgroundcolor": "#E5ECF6",
            "gridcolor": "white",
            "gridwidth": 2,
            "linecolor": "white",
            "showbackground": true,
            "ticks": "",
            "zerolinecolor": "white"
           },
           "zaxis": {
            "backgroundcolor": "#E5ECF6",
            "gridcolor": "white",
            "gridwidth": 2,
            "linecolor": "white",
            "showbackground": true,
            "ticks": "",
            "zerolinecolor": "white"
           }
          },
          "shapedefaults": {
           "line": {
            "color": "#2a3f5f"
           }
          },
          "ternary": {
           "aaxis": {
            "gridcolor": "white",
            "linecolor": "white",
            "ticks": ""
           },
           "baxis": {
            "gridcolor": "white",
            "linecolor": "white",
            "ticks": ""
           },
           "bgcolor": "#E5ECF6",
           "caxis": {
            "gridcolor": "white",
            "linecolor": "white",
            "ticks": ""
           }
          },
          "title": {
           "x": 0.05
          },
          "xaxis": {
           "automargin": true,
           "gridcolor": "white",
           "linecolor": "white",
           "ticks": "",
           "title": {
            "standoff": 15
           },
           "zerolinecolor": "white",
           "zerolinewidth": 2
          },
          "yaxis": {
           "automargin": true,
           "gridcolor": "white",
           "linecolor": "white",
           "ticks": "",
           "title": {
            "standoff": 15
           },
           "zerolinecolor": "white",
           "zerolinewidth": 2
          }
         }
        },
        "title": {
         "text": "Visualización del Dataset Digits con UMAP n_neighbors= 50"
        },
        "xaxis": {
         "anchor": "y",
         "domain": [
          0,
          1
         ],
         "title": {
          "text": "UMAP1"
         }
        },
        "yaxis": {
         "anchor": "x",
         "domain": [
          0,
          1
         ],
         "title": {
          "text": "UMAP2"
         }
        }
       }
      }
     },
     "metadata": {},
     "output_type": "display_data"
    },
    {
     "data": {
      "application/vnd.plotly.v1+json": {
       "config": {
        "plotlyServerURL": "https://plot.ly"
       },
       "data": [
        {
         "hovertemplate": "label=0<br>UMAP1=%{x}<br>UMAP2=%{y}<extra></extra>",
         "legendgroup": "0",
         "marker": {
          "color": "#636efa",
          "symbol": "circle"
         },
         "mode": "markers",
         "name": "0",
         "showlegend": true,
         "type": "scattergl",
         "x": {
          "bdata": "imskQTPsIUFeaR5B8iclQUceHUEM+CNBR0EjQbkqHUHRpR5BF48lQQiSJUHt1R1BXRQdQXlvI0H0Sh1B0pQhQaXpHUFoMyFBBdIlQbPVG0FWzRxBbkUgQShzG0HlwxxBt5wmQTANHkE0/CFB/l4jQSqJIUFCmCBBaLkkQQ26JEEyKyVBGIkjQcXbIEH1tSJBZGIhQRMAJEHHbyRBcGklQUHHJUF+HiFB0GcdQfMOJEEOeCVBW78iQUI8KEHGlSBBJAQnQVW4JEF6ISFBEBEjQVzfH0EM6SNBkq0jQT3wIEHavSZBScEhQZApKEEMDiFBd0IeQc1JJ0FVdR5BZD0kQai1IkGe+B9B9IoiQYTPH0EvzB9Bk8AiQfAaHkE8ix9BMb0aQQYGHEH13x1BWaQgQVZxIEEQwB9BbYElQcldKEFu9iJBDJMjQeeWIkFHGSBBGikgQeplJEG8WR1BTKAbQcd/JUHZVSZBHTchQeMpJ0FWHydBqAYkQTJ4KEGCwSZBU9opQVmeJUEWNSdBXlQoQfQIKUFmsSRBf1kjQdurI0HBiCdBvFQiQdyiIkHoJyVBYP0nQZK0J0EMrSZBYgcpQXecJEHsKSZBg30jQdTZIkGI+CFByjAiQRreJEFn8yNBR18kQU2gIUHUKyJBvRciQXcuIkEqhx9B/F8iQUw/I0Gs3x1BY0kiQWG+J0EmWhtBpikhQcMwIEH/HCZBRzAhQW7eI0EruiJBvbIeQbk6HEErGSlBFsAkQTeMJUHe7CNBFW8kQUdAJEFEIiVBnDgoQX84KEF0vChBE9okQRctJUHnsyVByL4eQd09HUGl4xxBSp8ZQXWcIEGgshlBDRQhQbeZHUEpaRtBntwpQZtoG0HFmCBB03wmQensIkEgtyJBc5okQZR1HkHxiyRBMw0jQZ7FHUHRviRBOcMjQTxuIkEhRR5BovseQQ==",
          "dtype": "f4"
         },
         "xaxis": "x",
         "y": {
          "bdata": "8UtbQBJeYkDjt0dAuWZiQJP+VEDYiUtAk0c7QJqfR0Ar6kFArvQ+QGl/QkBMHj9AGmZFQBLdR0A3dlJA9Pc5QJWuT0CKol1Ad9VEQK9AQ0CUVkFAov07QFRdR0Cc/DxAzl9HQEBWP0ChP2JA6XlHQD9IYkBK1WVA565pQNTKTUA1cVxAG2tcQIA5WUDswF9A3o5fQJ3TQ0AdBEFAnys+QJq5S0CGOD5AKWtSQLVdU0BBs0JAXmM5QNkWUkD9gVhAsxpYQAaUOEBeNT1APNVVQCu8X0BPZlpA7IFgQAGBYUCyyktAUkNYQAR8RUDwe2NAdMFOQPATVkBas2FA8N9qQILNWkDGQlVAgd1oQPemUUDzEVdAMPpIQKbFRkDxGmFAEkdIQG+MS0DSflRAn1dJQLJoQED32FVA53xjQCz5UEAg22BAsVdWQD//XkCnh1pAhUFgQAE2ZUAUHVdAhe9VQMg0V0AP0l5AtbpWQBEiV0BZIFRAO6lJQP3UWEBf41VAr2lYQBnTY0AA9EVA3H5eQGdiUkDGXlpAiZE9QGX0QUDPY0xAChA5QCs3OkAAhjxA+hFDQDLqUUA9QEVAEVtIQJHhXEDrnEJAnc9WQIS/ZkBbg2NAqDtrQHU5ZkAFGWhAFuZpQFlsbUBiAWxAAQVtQEGJbkBjUFFAewtrQLuaQkBIgVFAk2VHQD4tRUBSAk1AjaREQGglREAfkmRAZMNbQJ3DX0ALd0JAPKhDQCItS0BzNlFA5Mk6QNloVkDaJzxAPM9BQNfQTUCND01A1I1EQPltQ0CvHUVAXdFQQEA5QUBHTFpAilBMQF1bQkCG9FdAYs9EQN4PTUC+akNA0a9gQFEIPUCTrz9AKS1GQLBTSEDTcmJAanBAQDxPO0CnDEFAwD9YQIZ4UEABHVJAWg9bQM4/UkA98UVAbUNQQO9ZQkBZWTxAZBBXQA==",
          "dtype": "f4"
         },
         "yaxis": "y"
        },
        {
         "hovertemplate": "label=1<br>UMAP1=%{x}<br>UMAP2=%{y}<extra></extra>",
         "legendgroup": "1",
         "marker": {
          "color": "#EF553B",
          "symbol": "circle"
         },
         "mode": "markers",
         "name": "1",
         "showlegend": true,
         "type": "scattergl",
         "x": {
          "bdata": "4aKkv9WsUz99LzU/0ClEPxEVHz+nkS4/yKgVP9ScOT/UHkQ/fM9PPzJXkr80ENG/I01cP5I6LD+w+Uk/kZI4Py+6Mj8ZizY/mRszPwbjUT97KTQ/gslfP21yRT9tMjU/7R5XP2wROz9j4sC/3mJgP5XIk7+eG+O/tYKpv9GvbT9jV82/RXOQv9ewVb8asbC/k6G6v8gDuL+PTeC/EekKP7wC9D5nFSA/xWg1P5BBCj9SWKjA/MwsP2kUET8YcBg/CVo/Pza+Fj+uaBA/T1EnPyQsqcBxganA6WumwNMtp8CCRKXAtripwJpkqcA5mqXAgoGmwCeRo8B1fKXAcBbFv70WqsAX6La/rEvdv7oK3r8y2rO/5sS2v6P0rL88AsG/QqClv/kG27+UWNe/wlXDv4sSv7/zF7O/QFm5v3Ivt79Lg7C/vDnEvyi3z7/3uKXAytm3v2wd3r/GAce/NL/Gv/SGxr9lsb2/NL2jvz6+psBX5qfABFanwDuqqcDTFqrAYWSpwNuKqsBmUqnAlYWnwCGKqsCUE6rAtYOqwHHKqcCg9ri/Cmm5v3HUur/avcq/ShbGv2pL1r95JLi/dSbZvxuur79uJci/jrCtvxHdxb/nwtK/zIMKP+xGGT97g5i/92K6v1RHsj60Bbm/UMzTv4sJvL+DfIu/vAfOv65bxL+Ectm//tOFv9OYAz+fS4+/PVhLPwmhur/ZXbW/8QQeP5Z/uL/aORU/ABO2vxLTt7/bKLS/5gPEv6qsxb/ENgE/OKEQPw/HKT/DLx4/a3QhP0AoCD935Ac/Jp8OP7dYCj+HVSE/tCodP5JgGD+qCAQ/5cy6v6M41r+Sa9u/Myi4v+EQw7+6XNC/4LG+v+aWwb/5yra/mgG4v64mt7/DT7a/6CC4v1vqyb8Gira/DG/iv81bw7/cWrq/ckvjv3DVx7/DacK/fVepv5LhxL/Fg8W/357Ev1h1vr8=",
          "dtype": "f4"
         },
         "xaxis": "x",
         "y": {
          "bdata": "wlntP8+YSj9Bf18/HzFSP8MPcT/wI2M/kn1/P/WxaT8S9WA/ocNgP1Jq5T8iOwRAfTc0PxpDID9YIjA/cQcnP6fRLD/B7RY/rNtFP1MMPz+mSSs/CK43P0RuED9ZX0k/l9s9Pw03Nj/g1wtAHoROPxeCFkBYixJAsZ0OQBwtMT/AeQdAycAQQHLMFEB//wVA9bHwP4O/6z9XCRFA3eYyPw5sij+9uV8/Oj9TPwnwgj9BNExA6IdZP3dSgT943YA/oN1aPyqDeT9jmn4/iXdaP6cJTUDeskxARg5IQLjDSEAMwEZAjONJQEQ3SEBaB0RAK6NGQNfGP0AaY0ZAVZ8cQHkZTUDyuw9Au6kLQJ6GDUDDWBlAaG8dQJj0AEBHKxBAx7YEQM3aGkAMqRlAmwwVQLE3FkA4gRJAMAvsP8iW5T+v5v4/m4YiQKv2GEBzqUhADCMZQCapEEDoGBZAqoMDQOOABEDK9P8/yocWQBvLSkDH00tA68pLQPxaTkCQMUxAHT9MQCVbTEDC+UxA9YtLQO9DTUDKFU1AaapNQBPYS0CVwRpAoDwYQJDz7z/8yx9A3K7/Pz7CEUC5d+s/w3MJQM8o7j8sxCBAVssNQG59/T/jQwdA1WyEP5riez/eHfo/arEQQIIElj/VG+Q/CO4IQDWM5j858Pg/eQUGQCcYBUDX2QhAI7kKQJeDVj/w5vM/8qUpPxiw4j/kc+Q/eW1oP5Zw8D+hqH0/4QPkP6dP4D8jOeM/DhH0Pxsr8T9u81w/Dn5PP5aFWj9PKSs/4+khP6BkMT+gbSY/aiQUP8caRz8521M/H20fPyomGz9yKhQ/mZveP5wyAkBtAwlAOFnlP4f87j/wzv4/7CTtPw/o6j9qNOA/O2LiP49z4j9r4uA/iojkPyppGUCkFRZAuOcWQADEGUD8RxhAzSQWQK8LIkBd0SRA15gLQNAuG0B+uBdADpsgQAFQIkA=",
          "dtype": "f4"
         },
         "yaxis": "y"
        },
        {
         "hovertemplate": "label=2<br>UMAP1=%{x}<br>UMAP2=%{y}<extra></extra>",
         "legendgroup": "2",
         "marker": {
          "color": "#00cc96",
          "symbol": "circle"
         },
         "mode": "markers",
         "name": "2",
         "showlegend": true,
         "type": "scattergl",
         "x": {
          "bdata": "QiCDv1X0lMCywojA1aiRv7ilcb/F/G2/ce90v7LOXr9qwmC/kNh9wHu1SMDCQIq/HFOXv6aJcsAiImLAs4J0wKGja8DZB2rAaQl7wIDPf8ASy3LAh2FhwJt7bcAu5HzAO193wPgmXcC+ZYDAKmCAwDmXdsA+9WvA751qwPUhe8BFtn3AqUF6wCSja8CxD2jA+4V3wND9acCfSn3AiNuMwNypksAYLYTA4GGdwNTDh8BufYXA75uPwPvai8AZ/ITAG7KEwKdRhMC4BIbAGe3Av4TKmcABYG/A9ymcwI5mg8AjOZ3Az0iWwL2BncBj1p3AiTyAwN7qocDJK57AsWF+wIYIn8AfpmXAmF1gwEKpbcAZGWfA5IFiwKkTD8CMlQ/A8MxjwGNPYcB05WXANAJjwPdyY8Du52bAtOlywBLYd8Bku2nA2h9swBENb8AP1GfAa86BwCW7a8DEkXTAp8htwLHza8C2aRe/WOtgwB4veMAK9HXAzyqBwEwMgcD+CZ/A/42VwEX5lMCecp7AeaJ6wM8CjMAHs5vAFhZ/wF5ggcAD6IbAijiawDCil8BMxJbAhSuTwC2fl8BD5JHAmluDwG8hkcDdOZ/AYot5wNWqlMDhEmvAsrx5wMG9aMDv0WfApyx4wE6/fMDk9H3A1MVpwOobacBR6WrAcIFpwJq9lsD7T6TAXJmQwItwmMCdZJnAw++hwN0rmsD4eIfAAzyVwGtcnMCLQZjAQlWYwIq6mcARRYTAucN9wEisfMDPunrAvvmDwEy/ecAglHzAiW58wGxZfcCntXXAJvl8wGjHf8BZxHzA7fSOwMnclMDcLJbA5EGawEnggcB7MZfAvipswLPwnMCsPXXATdeOwOB/kcAA6oXAtBhawIKtWMBfwoLAyHp3wK/AdcB9k4DAu5NywOV6dcD2+W7ASZN2wCjthMA2YYbA",
          "dtype": "f4"
         },
         "xaxis": "x",
         "y": {
          "bdata": "ugA1QAOUVUBlIVdA2GI+QFvoNkChgjVAq/g0QItRMkCcfDBAHYFHQBzdT0D7czlACOdBQBuGR0Dn8lRAKw5pQLDIW0AztF1Aa/dHQAoaS0BpF3VAaDZbQDtoUEBOt0NAP01CQEcEXUBpxFpARr1XQP0KUkAQfEVA7WNaQAk0W0AZ90tAH2lXQGYhS0BIGl9AKhxdQNOSR0ByMEdA0oNSQEorVEBsNklAq0ZRQEWvTkA3WU1AmvRWQGbBUEDm5kxALKhIQGrXS0D2JUlAhKBCQCrkXkA5r2FA65VRQMgMZ0CzE1JAGT5bQCS4VEASEFRAf7NZQNweTkC821FAM2daQOiAVUBRM2BAKexmQJnwZEAy5G9ASa1nQHC3jECtPY9APmZwQPjCY0D5EkpAGzdmQPnxZED6GWFAQudMQIY3QED4V0NAvx9cQB3fPUDONUZA4mY8QI8nP0BB+zpAcJFzQAl6PEDVwKe/AdZhQCZKU0AmsjlAlClQQMbNSEBa4lRAOi9XQL4cWkA7IFdAQdg5QMJvVkCmAlxATAQ9QIvXSECi/VpADbhaQJJbX0C0F19A7XRRQGqDZUCg+01AvYc+QKZjWUCre1lAG6xIQCXkWkB8t19AtRBiQIiXY0DWakJAaVRXQN9+U0D0W25AhuNhQPQdRUA+T0dAsfFiQNWiYUC5c1VAaZBnQGrjZUDtPGtAgBBXQOGWYUB6kFFAAU5sQIZzW0CFxWFAXKteQOJiX0ClDEdAqpk6QJYQNkAKrTlAz7dIQMQXNkDpRDtALgU5QK41NkCZZDhAbKI9QKE7ZECzNjxAMetVQPzaVkDRvlRAB05mQLUgSEDAEmlASAZaQA0KTkAmQkhAKZJJQNh5aUBKgk9ArnhaQM5zV0C8tEdAx8c3QK9JOEA/PjlAj781QKPcTkBKQ2VADcY3QJdMR0ASLFFA",
          "dtype": "f4"
         },
         "yaxis": "y"
        },
        {
         "hovertemplate": "label=3<br>UMAP1=%{x}<br>UMAP2=%{y}<extra></extra>",
         "legendgroup": "3",
         "marker": {
          "color": "#ab63fa",
          "symbol": "circle"
         },
         "mode": "markers",
         "name": "3",
         "showlegend": true,
         "type": "scattergl",
         "x": {
          "bdata": "G3hXwLSMYMCiD1TASyNbwBQ0U8C4t1rAfJJawF02ZsDzhGbALg5awOWxY8BtuF/AT91ZwMzlZsCz42LAsHxkwF+xWcAqsWXAcVplwHpYV8AQD2PAhD1nwN3xXsDNK2fAkP1iwNsFFr87uFfAh4ZFwP0+TMDtHEzA9bFYwED5RMBe2UjAl6pQwHr1S8AAN1HAqThfwIqYX8DgOUDAsslOwFWTSsAOCE7AVhs+wBe3V8DJ1FLA7D9CwJr9QMCnGUfAj3tQwEQsUcA6PEvA/oNZwPB8UMDtpRDAjFwPwK4JD8Bb+RXA/d4UwHtxRMCy+AzA/v8SwCbRm8BdKA7AVEQNwI+JFMCWmRPAMydAwKj3N8At0EnAU+QfwOXpM8AoB0bADbs1wNXnUMDZrD3Aknw6wEQ+T8BAslTAMxNSwEXkW8AKjVrA6SxcwHt7V8AHCmDAjUtewIkZSMAwWlHAdzhNwKaqYcAl3lrA8sJewPPHS8AzGT/AI95VwHg8WMD+1VzAXrJYwGzQWMDBKTLA0t9EwMykL8AdckDAGuNEwIu4XsDWyVDA1L05wDe2McBxPTbA4cg7wA57OMBqs0PASiw9wFoJO8Cy9zbAxnQ6wKznDr9EBDbAXGc+wJ9LP8DdG0PAMW05wJPWTsBxWTvA6IVTwFlxT8BpJFrAFIpjwKFEVMDsmjbAaplIwIBGZ8DsAl/A7EpIwODYUcAO4zfAZl5MwKbDPcBG4TDA6w41wETrSMDjjlPA0rBMwHTVOcD5hjzAOeVSwGIkVcCd1F/AdhZPwPePVcBft1DAmppYwAd6VcDB113AwuZYwI3WVcCLIzbAlCtUwA+PT8DPvj7A4zxSwHTxWMB3h03A9nhUwLl+V8CyRATAZDJSwKA1VsD2bUTA0NBNwPq1UcDygVbAxm9OwIz4SMATU/G++i5JwB12SsC3RTzAfZ1OwF6nT8D5elHArIVOwGx+RMCx2F/A",
          "dtype": "f4"
         },
         "xaxis": "x",
         "y": {
          "bdata": "qEW4QPoEpUB1daJAN6WwQHDwpUATDq5AMkaoQNJPpECDB6NA0tekQOhEo0DzHaRAnSKYQOsAoUBB5aZAh4eiQKWVpEAs2aZA6kanQFXkpECbEKhAD1ajQL/8pEBcrqZAFYOhQDfsh7+2lbhA8QOzQPS+tEASBq1A6JO1QJ9DrECzrLZAkA61QIvhs0BqU6tAkW+0QOEQtUCSG7VAWRqtQLi5rEBXmMFAWorGQEJuvkC4S8NA0fDEQPRovUDzBsRA5bDAQC6lv0CpHr9AlQ+7QEwrwkAz+6tAjMejQHJ0okBZEqtAm6KsQD1KrECg16VAHy6pQCipVkCHTaZA1VqjQFUIqkAi2KhAWA63QN/UvEBQ97NAOvmeQKoFu0AWW7NA0XW4QC7Kr0CTy7dA9E+3QBODt0CakLdA7w+wQKF4tECslbRA6ru1QPYnskBksLBA2piqQLQGokAir59AQdOvQNWYskCFS7VArwa2QAB2p0BNtr9AZzy/QKYiukAhYr5AvwG7QNPGvkCbdcRAmafEQMSVxkCZNr5Air7EQBzdvkC+w79AIju1QDXGs0B+E7JAQrGwQPJ8rkDJ1q1A2Ru6QCtztUCI7LVAW2m1QBxVh79k7rVAFnezQMczuEB58K1Ag9q1QK8ZlUD8ebdAqoSmQLp4pkCNUalAiGijQAiWpEB1DK1AThmzQCNZoUDRX6lAqzauQFmzukA227hAYBenQHSCvEB5DLhAqW6+QAb3sUDjjqRAZ+K7QHDrukAeFrVAhRa7QACRv0AI9LZA4OauQNjIukARer1AokW9QOeTukAalrhAHS65QEpqtkCrVLlADwK3QDnGo0APKqRAZmqlQLY8mEDiXJVA9oeRQA1FjUDxIFVAQ16jQF/HpEBK0KRAyFOkQLHXpEBmm7VA4amXQPwCn0AEFou/ScmVQPsKk0DoLcJAJ46WQN1Gm0AkdaFAiYmzQBFUoEAyMKtA",
          "dtype": "f4"
         },
         "yaxis": "y"
        },
        {
         "hovertemplate": "label=4<br>UMAP1=%{x}<br>UMAP2=%{y}<extra></extra>",
         "legendgroup": "4",
         "marker": {
          "color": "#FFA15A",
          "symbol": "circle"
         },
         "mode": "markers",
         "name": "4",
         "showlegend": true,
         "type": "scattergl",
         "x": {
          "bdata": "Yi0BQOtK4T9w6Ow/tFDkP8aR9D+pT9I/QTBpv3WH5z9Yy/k/p/3dP8De0D97b9I/J5rjPzqQ5D8NWf0/q7r7PydKAUDGlAFAOLUIQKg8AEA2gf8/JBQHQGkH/z+CV/c/pjb4P+tj2D99JN8/b33nP7Kn8T8QPOU/14b+PywH2z9zZwJAnjDFPxuYEUAwkN8/AoDqP3H/4T91YQdA+joMQPds/z9EGfg/AN0DQNT5/T9OWu4/8m4EQE1cAEBmX+o/VUv7PzGG6z9vdwhALd8CQP2r+j+fWQ1AlYUFQKVO6z8n+Ps/IzMEQCwMBkBCfARAJuINQOXH8D9QrgNAlY/9P0A0+j+M8fs/sWjyP7f88j8LZd0/mqj9P5KO/z/EMgJAesJBvyB2FkAbE8m9guwNQKCBMb7nKg5AuNcJQPHmEkCD4AlA684IQKCwD0BqIAxArgATQP3fFkC9NQtAtzoKQLp8E0BbnxFA39wDQPXBE0AGifo/FUG0P4jw3z9CduY/ASgWQAINlz/ukcI/tEP5Pz3NqD9b19U84nydP/Tnnz8nT5I/sRjDPz2UmT/4tK8/uV30vtExuj9vrrs/aXLaP+FO7z9J3ak/P8PXP0021D9Nhd0/rcMKQNOHA0A7UARAkksTQNMJ6D9Gx/s/ycD1P04/B0A5jApACeS2P8reBEBAZ+E/wbgVQNJNGUAROhhA/4YVQLXOFUBwThBAb1gNQPnpFkA7o+Y/mDsNQJ/sC0DESwVAD+4PQH1VBEAoowxAUJIGQAHbA0B77g1AoO4IQFxdDkBRHAhA0JYDQMQSCkBtWvg/XaYMQPD4BUBpO9s/B/nTPypS6D8a3Ok/1wzmP5ZBtr97RLe/fQ35Pyax3j9oTeE/acbkP9gItr89peM/GY0EQBWyAEA5Pfo/hJWWPfAvrD8LKQ9AiKsMQHheEUBEZ/g/JmsCQNjEEkC6LA5Akm8IQA==",
          "dtype": "f4"
         },
         "xaxis": "x",
         "y": {
          "bdata": "5Qobv9pkir8x3su+M0KHv6V2Ur/2cJm/ifT8P57yH79c0Q2/rI+pv7mwnL+Tipe/obuOv7w2Lb+3dfu+EH3tvijA2r5VtsS+jnm3vkH1375bK/C+OuuyvkIK6r5VMsC+5IPdvm9Ro7/tpaW/cJ60vy0jkr9/w6m/vtS+v+CKoL+dRIS/y7Wfv0pMgL+FnI6/LGasv4UUjb/o47i+25ijv4Qi4L7WBu++HHZVvxjW3L6FAbC+dj82v2DIBL+i/5y++qH5vqyAtr5tQrS+dNbCv6hmyL8Chaq/kEi2v/zLrL99Jsa/g/a+vyUTvL/0f7+/lFywv4UEpL8dOsC/gajFvzPk174AYOu+Tja1vowMCL+e+ou/ibfwvpaI+75FEcS/L2r2v1Hco78+4YK/Mcmev6a0ur9z5py/Jgl3vx98hL+4DHG/wuOXv7q4m79WNFy/L+6Bv/avO7+mWZ+/vsxYv0Xzcr+Tpl6/wHFVv2sygb8Al1S/i0SSvwX6SL/gAVK/nYqIv6MXgb8LVmi/UCJqvwjMh7+i3Hm/RY+Hvwxih78BV4K/RiSVv+xLh79i+ZK/Iibxvgsgl78Qv5i/dlqcv3uydb9xcI2/TlyUv1NapL+yI5y/NBhbv1srsr8rVVa//MBivzMfgr+lVU6//aNyvz6mdr8al16/xCuOv+18Wr/K7qq/GjBCv2e6RL/JDkG/1zNFvzZoN7/TqG2/atlsvytlRr+HuYq/rXdNvyiJWb95Zka/D9SBv/9Ix7+fp6q/z/K3vxvkg79fPKy/IUWmv7y9lL+lCbi/Y0u0v/DMpb9MJ8O/nfqrv3NNcb+2MKe/RXWevzQLur89xay/nfG0vwQaXkByD1lA3xGmv/6Eqr+p3aa/4Em3v/9fX0AESKq/Sn4Tv2Cwgb/gV2y/QGFov/V9gL/91VG/9LFPv11qXb+lLCa/zhYlvzWqar/9Rk2/ewdovw==",
          "dtype": "f4"
         },
         "yaxis": "y"
        },
        {
         "hovertemplate": "label=5<br>UMAP1=%{x}<br>UMAP2=%{y}<extra></extra>",
         "legendgroup": "5",
         "marker": {
          "color": "#19d3f3",
          "symbol": "circle"
         },
         "mode": "markers",
         "name": "5",
         "showlegend": true,
         "type": "scattergl",
         "x": {
          "bdata": "9x8bwDl57z4pXA0+lTGGvrV25D5oE5E9KMmiPDPBDb5A5gS/CQQtvuvMFTyONas+GgD0voccAT+jwd0+jFnyPiZhzz4+NAQ/5W7GPnBM6D7MZNw+Z/X/Plj9uz6V1YI+6PLvPgPF6z5BAzG/QKuIPfSvyr6IWgW/L3cPv00XlL8uNuu+3TapvWWk7r7HBSW/8WpLvioMHb8s1t0+tZvQvlWFIr7Tz2G+PM0sv6ttY743SGu/yyiYvhlUAr9bJEa+GPM3vuqYU75fWvA9Ci9ovjerC7/nwEu/Ivw6v7V26L5qHFi/2e5Gv2orPL8MOha/MndHv5aoYr9Yrh6/K2vuvuHnR79twJK+0KFbPqiQdD7uABG+Dq1sPm8kbj4g2Eg+SNRMvtXML77YQ/S+FPgsPr5jlD6qQuE+wotCPmoeoz4P1uo+Y+bTvKEXUT6Pfe4919E/PmJdijyy150+aF/DvXl+wz6DPF69JKDSPr0pFb9J+G2/RfYAwJuwlr/XwDe/FfGXv4PjpL/hGEu/M32Av2Iu276dt4i/ve2iv5ykTb/iX+49OBB7vMYOA7+wCOi9CWpLPpJhMTs8IiS+uE+Uvg3DjT6xuO69h2GNvpnXaj6wdO69KDuzvq+F+77/UvQ+Y1R7vklvs71zYr8+J+NZvu8Tdj5aCoC+abroPl2Elj4Z8tc+pw8BP9FGO78ms/W+naQ/vhY6Wr4QLS2+8siGvjMnLb6m5JC+plW8QPEPg70d2gO+YELLvlUhmb7Ypiu/sG49vxnPlL/iCE2/IPYmv7maKb9ooXG/n/o9vzzoA79kOGW/j5m2vyojKb/MSd2+DlmUPqiWmj7NrIw+f0mpPpkFAz+4AqY+VZv9PvHkrT489l2+sSKjPlSkhT1sfaA+caiIPru1Cb+wEN2+tkLBvp6CTb7gALW+3Duovl3J4r52ahS/KPDzvk4oJL/LeQq/iQLhvii/Hr8=",
          "dtype": "f4"
         },
         "xaxis": "x",
         "y": {
          "bdata": "u9vOQGrZoUDhZ61A7sy5QCM3okDC3aVACs2lQOD9t0DdQ7JAR7W3QAkCskDhf6ZA8OWtQFwRoUB4saFAyB2mQB9MokDMdqBALu+kQKldokDA0KNA7d+hQKYWpUDBGqtAuCGiQPkFokCIDMJAXUOoQLzGvEAx1rxAhNXAQJYJxkAMh7tAVlmvQErqvUBJNsRADju5QObrwUCUx6NAljWzQDqysEBfl7FADLq5QHePtUA817lAMoOuQPdPv0AqQbdAxHStQArGrkCyGrFAaZ+xQHboxECRo8ZASpbAQFbIu0CUJsdAK2rGQBnDxEACHcJAzoLGQMQsx0CPK8FAQKvFQEDsxEAvr8BALpayQLQpsECaWcBAwCOwQAgmsECBXq9Af7a/QCEAv0BB38RA4S6sQNvgsEAuf6VAt/qnQLagp0BES6RAaQ6lQBNOrUBF+6hAcHKtQAxkpkDuwaZAMwepQH+rpkBAa61AdrKkQDKdwEBMF8hAuXrMQEomyEDmHcJA1IbJQLIoykBiE8VArDzIQOb8u0C4uMdAsOnIQNljxEDa8LNAAL20QO3sv0BKPbhA9hS2QLPOtkAY57hAQ6m9QGz8rkAWe7hA6DK/QHtzs0C1eb1A47HCQFEFx0C0QqJAbCy+QFNDrkA4k6VAx3PCQLqtr0Dcub5AgBWiQHKXqED1QqVAdPmgQGCSxUCi8btArWXAQM3JukCpObpAhOG5QFA0u0Amq8JAPfitQCD2tUD2FbNADwrGQDYHu0CQlMNAAlfEQH1jxkAhTMZA1JDAQDi0w0DptcdAr+DEQM9Aw0BdO8dA9gDNQHs9wkCZ/r1A6LGvQB9TsEA7aLNA3NawQNxroEDVj65A4vahQNNIr0CikrNAQECzQO9Up0B2qbFA+layQDeHxkAFEsVAl73EQC32vEC+/7xAeJC7QLSpxUB90sRAjcXFQKQoxkAQZsZAz8HEQAxNxUA=",
          "dtype": "f4"
         },
         "yaxis": "y"
        },
        {
         "hovertemplate": "label=6<br>UMAP1=%{x}<br>UMAP2=%{y}<extra></extra>",
         "legendgroup": "6",
         "marker": {
          "color": "#FF6692",
          "symbol": "circle"
         },
         "mode": "markers",
         "name": "6",
         "showlegend": true,
         "type": "scattergl",
         "x": {
          "bdata": "w8itQFE6qUB/gbFADpWoQMs6tUAaa7JAQgWvQGr5wkChY65AvKKoQM4lq0C8drFAURenQO/dxECY065ATjazQJprxEAttcFA8YmqQH8LvkA9yMBAhnXDQC9gqUDuTblAiFfCQOgtw0BbcblAj47FQHdgtEDmw8RAd4a7QPGeukBHb69A+E+rQJ2BxECsCrRAKAbBQN5cuUCLWrhArJO2QN7LsEDfiLRAn1+3QHs9sEBTibhA72qxQKNjtEDTVLBAvwSwQMZ6r0BdhbJAzZW4QFmiukCWFL1AkM+6QB0vvECknLxAbPG5QMuSvUCf0rlAJfe5QLJAuEDxB7dACCe7QCEZuUBrI8BAL2HAQJVPw0ALd8FAcNnDQApQtEANA8ZA3sy+QGR3rUAJI8RA/TWtQEB9rUChDsNAYB7KQCgprkDds8NAPr+sQAEwr0A02sRA+7vDQIBtwkDDmLFAsg+6QGP2qkDPu8RAktDEQNzZxEC+DcZAxoO7QIAQwkBWjbxAsM/BQE4MwUDW8MJAaR2uQMZsuECCTsJAuDzDQA6AxEC3u8RAtBm5QCbCqECLD7JACNOzQEvaq0ACWq5AOXmsQLb8rkCjY7NAuTSwQMpXvkAZPsVAVye8QOAkrkD2+K5AjrisQBpWr0DfpLFAEMayQAxesEBW5K1ArxCuQOx0s0CJZqxAwN6rQDy1qEAMv6tAoWarQLvbrUB4LrBAfI2sQHa7rkBLWKtA9Z+pQFNyqkDwHKpAppqsQEwFxEDYCcVA77/FQK0wvECcIMRAztjDQDppxkDpl75Aq7XFQOCXv0ClirxA32G7QO4DtEAlpqZAxsOoQAvipkDYSaxA9V+oQBwoqECoEahAmkSnQJ/1pkD6RqhAgGesQHpCp0CiWKxAfqHBQJaZvkDXvcFAE6DBQPh7wEBngrZA3UjCQAE/xEA2SblAgzatQOUNvUA5GapA8JTBQA==",
          "dtype": "f4"
         },
         "xaxis": "x",
         "y": {
          "bdata": "1t2jQJugsEARHqJAFjKrQCztpEC6Aa1AWDO3QFq4tUA1DKdA6zqpQKJXn0A07p9A/XWkQEHKtUCluKpAGVusQM4Bt0Ar6LNAL8enQK8vsUA1nrNAT2e0QEkOrEDd8KxArVy5QMA2uUD64rVAmk62QLfPsEBEerpAwo63QAIqtkBMJ7lAp9+tQK5ruUAFILJAfIu4QPE/tECPHalACA6pQIr+qEBBTKhAnT+tQBXzqkDhR6dAHUCrQM4wqEC3SqtAuE+oQBvoqUB2AZpAaj+mQDuor0ALQqpAkIGlQKazpUB8u6hAutimQJfXrkAJZalAXs2iQJ2Mp0D4BaZAY5qkQLSGuUBRL7xAnZu5QIYitEA5zrRA+Yi4QNtKuECwdrhAOem9QMFwuUDsQrpAxiy1QKTHtECfJatApB2rQCbwqUDT6LZAHn+oQEeAp0CxFLhA2DerQC1uskAmUalA3TqyQKAiqECs77dA+Li3QLOOt0BUErlAyaayQOMLtkDxoLBAgMq5QOajtkCSW7pA8gayQL0is0Cw9LhA6By5QGUQukBvtrlAEQu2QAeErkBda6pAjOq5QPaHtECSwLpAsE24QMS0uUAFdLlAnAShQICjuUAX5rlAuZmmQIMvt0C4YLpAQK64QLz/skBv/KlA0gisQOIvr0CP/bNAuZe3QB3BqUBOorlAnmS7QHx3t0B/+LxAtl+9QNZFqUCYCqlA5fStQGXTqkB7QbBAMAO+QKWusUCaga1AKEi5QK5LuUB/wLhAtju6QMs6sEC3k7lA3i+7QJYpuUAZhrhAHjq5QEPhuEC/7bVAjJG2QOZyr0Av1q5Ai/yrQDXFpEDzpqpAaZCsQPDZrkBjfahADJyuQM9frkCA7qtAgXi1QJnBpUAQnqFAKkmtQOT5skBs3K5A+P+wQFlNrEANr6FAWQ60QEwRskCWeKNAOQilQB8hqkCTj6RAJtGyQA==",
          "dtype": "f4"
         },
         "yaxis": "y"
        },
        {
         "hovertemplate": "label=7<br>UMAP1=%{x}<br>UMAP2=%{y}<extra></extra>",
         "legendgroup": "7",
         "marker": {
          "color": "#B6E880",
          "symbol": "circle"
         },
         "mode": "markers",
         "name": "7",
         "showlegend": true,
         "type": "scattergl",
         "x": {
          "bdata": "SoFhv4g6kL+3Wg2/Sotrvw8rgb/bJya/limYv4lXiL+PviS/IEObv0QGir/NiZS/Q6mLv5lopL8q+Km/O5Wzvw6IFr+G1k+/Ki+pv4R/v7+LJqa/zSy+v1fzPL/ttqu/ccC3vz0pob7JMJi/cFx0vkqYpr/ZGku/7akQv0vWAr6DkJS/OFCcv25usr98qrS/ApKZv3QsUL+Sqj++dccpvtRBLr7LOfC9bxWcvgU2R76Su7296wGUvGjvE79RcAe/uEsQvh4GVL51gsG+7e2jv9epeL+yPw2/W6+Hv70icr9GoZq/v2v0vm/Jjb/viXy/e4ulvzS9ib/F8qa/jAZjv81/cr9/n8S++pdvvWf2lj4NpJW9IwIUv1dvDb+sXwa/6HczOyg/BL8QOgC/UZMRv6o2hL8QFYq/qzejv2qkpb9nW7O/gQd6v6vCwL/vzaS/HFijv0fnRL9qYbW/x7uuvybno788D6S/0TBMv1pYmL+d9ke/A/CHv5s0Kb9XjYm/6ppbv71WiL+LsVO/d5uYvnsvh7+YNYG/MASMv3CyhL95yZa/+jJ2v6rior8TzYq/YfN9v6dzmb/rxZK/SD2Yv2ptGb+8f6y/f4s/vyqtlr+R7We/nAfwviuwoL/NzYu/nVCJv54TlL9Pb5+/eEyovxUUl79SKKC/QCoev7clK7/c0K+/AxKEv+ZUgr/OFYS/fs6Lv6aejr+/HJu/L6+Uv1aMwr84xIy/3XmxvwcEHb9yyH6/yzpTv/KZKb9h6kS/2YSGv/hihr/cJ8m+nZlIv7kUf78Lgoe/j4B2v9TNU7+zWj6/B5VEv89vuL84h6m/+O+lvwFssr9b4K6/8Dm5v/cJpr/QccK/+7izv8QAlr8ioqq/VHgJP3Hggr8Mfli/YkyBv9IERb+RiQq/FFKlvxhtuL+rmLm/esC5vzz7gb/ump+/Zz5ZvwQLub8=",
          "dtype": "f4"
         },
         "xaxis": "x",
         "y": {
          "bdata": "Rebdv/5ZwL9hq6u/HvHJv5p0979IkLK/ZczOvxIS+b+Ss6+/cWbEv/yew7/9v9O/t4rSv6PR2L8uL+O/oYX2vzhssb9ggZ2/rGvov+sj9b+ZHgvAnk3xv6Dgy79aovm/hlnyvwtZjr8QDPu/iYGGv21Z9L+agZS/SX6tvxDzfL+z+bm/oy3GvyZj7L9D7uu/Zbq/v+xTpb/UdnG/S4t4v9eigb/D5W2/jlWFv116Zr9mUHW/L4ptv8W3iL9Qcu++MAZ8v+DUe7/q1n6/+vwMwPLu/L8IQLK/vWTDv3zJ9L8srQbA8l6avzyFAMAkev2//uDjv4qF7r9iBAPAylDvv2im8r+ka5i/vyl3v2JXVb9yWy+/4ea5v+1msr/AHKi/tSFyv+otsr/sYKe/5+ebvziA9b9kdsm/63D1vwzZ479zyfa/SXW4vyKy8L+K5tS/2svTv1woxL9RqPK/FiHdv7A6y7+fnAPAk/yTv79ap7+E1ZC/akqlvxrmj7+bxaS/wVqTv3s2s7/QCJG/SJiGv9LOs7+fBaG/tKGvvxnjpr+2x8S/7Qqdv2WuyL9ARbC/apmZv9v7BMD/n5O/tZ6zv711ob/Foei/3s6ZvwZxBsBo5Mi/+n2sv6OqCsCy2QXAxRgAwC/0BcCPGQbAb+MFwJ9q/b9LAQvAGJa4v7shwL8RIAzAqEi/v3Al379UiLK/+lH0v7ES178ZJgrAWEYJwNIH77+Rprq/Ij/tv4Baub+8HwTAdFqUv9g5j78895G/YbGwvwN2qr9dOYe/YyiYv9egpb9r07G/iFqmv5aLkL/peY6/xwyPv+dHEMDz5gnA617yv2HCCMAQ6wfAtYsCwPgnBcBdsfi/hBAOwKk64b9G/Pe/XqqdQE8X8b9O/66/eDIAwPrymb8ezLG/OzLgvyel0r+BJvC/TL/jv4x94b+5PgXAw7vWv9dvAcA=",
          "dtype": "f4"
         },
         "yaxis": "y"
        },
        {
         "hovertemplate": "label=8<br>UMAP1=%{x}<br>UMAP2=%{y}<extra></extra>",
         "legendgroup": "8",
         "marker": {
          "color": "#FF97FF",
          "symbol": "circle"
         },
         "mode": "markers",
         "name": "8",
         "showlegend": true,
         "type": "scattergl",
         "x": {
          "bdata": "lD3sv7OF6r/kv+O/hArevxkn9r+8Wcm/dBHXv7EQ478GN8i/iP3YvymLxb/hpt+/+GDZvwfA679hFOG/b3TIv2Vh77+ksuG/yIvrv2hI+L9R65O/F2DEv9eHyb/dF7G/eNaVv0Ooy7+9Y/y/IU/Nv1ADxL9aOu6/IGLWv4DS978xRvS/dK/cv2rX8L8DnRXAGavwv9tFwr9yMNm/YXXqv/kN6b/N2em/SIL8v+007r/yuO2/N0/0v/wB/L/jJ+m/L9HYvzjO6r8JMfS/tnGBv6K8gb9HSoe/QiN9v1+Eer+3XnK/oxduvygufb/8y4K/DLh1v4/Xbb8fyG+/+yp9vwYI9b8jvOO/ZiTvvxeX77+rIee/SlrTv7W2+L/FQuG/IqjGv9fW67+Bbs6/ZbDov3zb0r+adxfAol0cP9Ltzb9GvQDAxuX3v/8n5r9gVs6/63wQwGNU5r+xK+q/CGFFwHT85L+duuy/JfLyv8MxCcD6XAnAN6cDwLSxAcDoIQjA07v0vxssAMDOHQnAfl35vxAc/78m3c+/IJTxv+arDcCiawjASQbiv9lW+L+DrAbASLQBwCHj1L+XBg3ABmP+v5uQCMDdmQ3AHmknwFjc47+0nvK/fBXPv8lu7L/UG52/HWTRv9Bz9b9/Yj3AzKXpv9BIAMCvq/C/cmf8v2X52L8HYD/AqjLfvxi66L8cusq/0HrXv6tgzL/EUve/NrD6v3zyyr9hddO/rtjnv7ZL+78Q0Pm/DbsBwKE77L//Tui/4p73Pl3g6r83S+u/S//nv2eL5L/fG+y/y7jovsrC5b/uSqW/gY7jv6Hosb+1HZm/Wqvav8ZGm7+daqm/pUW6vwEFsL9+7APAqWD9v5PEAMAtvfW/s1XfvxWa0L/Q5e6/stHcv35FA8C2v92/V93Mv2Sdyr+HcwHA",
          "dtype": "f4"
         },
         "xaxis": "x",
         "y": {
          "bdata": "JXhmQJkxSUA0xExAv6NHQK9SUkDa5ENAZyFPQAtKQ0Ad/0RAmaQ3QIIvNEDM4jlAjp0KQChLXUAE3XFAkZ40QPniWEAJuiVA0wRWQGksOECe1UVA0QY2QIPdQkBK5zdAPTlDQFKxVECtvZBAUuZlQMchaUD+Z2lAJCd7QGL6kEAKJ4xA/JxnQNbqgUDOlaJA2vGKQKJWZUB634lAnydXQLFekED7Y4RAAeuDQJa+kkCVOYFAElyMQJRgl0DUYXRAoDdqQADBhUBcsodA57VCQOBsRUBQklFA+K9FQKAtSEDYgElA4qBFQOLHR0AzGU5A6BdGQOIJR0BEV0hADQNEQMIQhEAb8npAohiEQMQkgkAs5YJAGFNxQDCUkEDtz15AMdRBQBhnjUDIdFVAHGGAQPGcY0BvRIZA7vRxP63CTECbkJFA+BqTQLVTkUBsl09AtbCHQEkqkEDPyY9AgHrDQIIVjkDTxR5AMmmEQBofiECjW4NATweHQBmhh0AMlZNAd3GKQCXPlEDPtoZAksqRQJuqh0DyqG1AtLpbQI8VbUDuwXZAeMlgQAq7WkC7PnFAnz5pQLsbakBnsXdAXXFhQLCJUkBNEmBA0FqnQMUnTUCK7E9AQAVxQPQqUEBixmRA8v9rQAmGUEAIgoFAtKFBQE22VkCMnkdA2AVPQGe+WEB2QHFAnHVLQO90RkBL5j5ARUNSQIDeSkCisUlAiUdOQKK6NEBooFZAXGdPQKJflEBwPJJAs4qUQArIjUAG+Y1Al/NLP0XukUDNhI9AK62QQL2dkEAyy45ACs7Mvq0aj0DUwAZAtvQ2QOwqPECyt0RAxktPQNj7P0CvgUZAE0s+QEFoPUAqKmBAyp9ZQLfjW0DBAn1AK2dnQGYRakB/jF9A0whKQNyCZkDmSDRAgqssQPWVP0DhwHBA",
          "dtype": "f4"
         },
         "yaxis": "y"
        },
        {
         "hovertemplate": "label=9<br>UMAP1=%{x}<br>UMAP2=%{y}<extra></extra>",
         "legendgroup": "9",
         "marker": {
          "color": "#FECB52",
          "symbol": "circle"
         },
         "mode": "markers",
         "name": "9",
         "showlegend": true,
         "type": "scattergl",
         "x": {
          "bdata": "WK4KwEyBIcBiPiTAYvsfwF0DH8B7DwrAL/utv7P+HMD/6w7AjW8kwF3wHcDT2AXAxgIJwHbGG8AudhDAswobwML1HsDZKhnA2n4dwJbtGcBlJve/FP3qv8WxHsA7awXArHv5v06FCL8l8ge/DlwFwJMEFcBQFdO/iP/qvxL6Ar8M8Qy/JScMv9pKDb+KnCo+etd7PiiRAb/TqQfAzmoawH1xGsDPXQvAejUGwLMiAMCMSPK/+eUGwNiMCsAvuAbA5ScHwLJx+b/lRgHAW23rvyph5b9XK/a/S/3Uv/oEAsDjgf6/NNDmv8Hn4r+V+O6/AMzyv9S5/r/Bh+q/ihMTwHlxzD7kNJM+LyKOPszaoz6Yy60+lmCaPqFxkj6v2hw/8ju8PmoMaT7BEG8+oXfjPo2ePT7jdRPA0KoAwKMlFcA2CwjACwIQwNR3/b/I8xPAmB0CwIOEA8CA7RTAQGsEwCkc/r/KXQrAr5wSwAy89L9cZwHAe2H8v0JLBcDJfw7At24WwHiVD8BZzAfAv+fzv1auA8Bo5/+/Apv5vzsoP8B7LAbALU3Kv6OC2L/qvg7ADMjRvxM7/r8ZA8K/C9gSwNMpCMB/5xXAQ7kPwEHOBMBZTgHARCyqQNi8AMCQ0+i/ydrmvwuv5b9c+BnA9JHmv0tU57/QWfO/2tXuv633DMDgLtW/ZdH2vy5E6L8XiuG/M1sAwOd1CcBAjt+/klwbwKAi/b/3EQnAlCDrv5ik6b9vkea/OIf2vxE2BsBdZQHALvoDwN+U+r9LUw/AucoRwFLaDMAMAgDAjtcIwIEG87/Iivq/Dm76vyH9pD5kaQg+KSoBvuZaOT6ckc2+5puLPgEYCz7PfhrAERMHv+nuI8BdqEDAozixPuEBA78u4fm/lcb0v0xAGcBDDwjA/ScFwE/K9r8HNvW/EKUNwBF8+7/7aOq/NF8kwEuiAcBs9fq/",
          "dtype": "f4"
         },
         "xaxis": "x",
         "y": {
          "bdata": "U5fJQLN6zUAoQM5A6OzMQO+vx0CjcNJARX9eQLPhz0A4yNRAHvbQQOBe0kBgS79ArV3aQIiP0kDQms9ARjfQQBmx0kAQsNNAnwvSQKRHzkAhD8tAdx3KQE5G0EALq8hA4kq+QJWp1r5YSeq+/BPVQOA61ECm98RAgdrIQGKUAb+sme++S5TxvmmJ677M5FK+lI4rvv3e6r7Kj9pAENDRQCFb0EBFSMpAoY3FQKSfzUDHLsxArDvGQLKfyUBlZMNAnDrNQObz2kBsKc1AHcG+QLIx00DIbMBAEtxpQIVa20CqcLRARcHWQEpjx0DhNcBA5hO6QGPKzEDfidZAYpXTQJAKHb+UuQa++a3Jvb4auL3eIJQ8Zo6hvdEO1L15fQk/rlCtPCUxcr4wGby++wX7vsupSb5FN89AtIPNQKvw1ECeydtAlxS0QJ9S2UA9kNJABmrNQPQu3EDSp9VARrPbQNuz3EC57dpANPbJQD/iyECvGshARYrUQCoTy0AFes5AiGXQQFX6yUAnZs1AiEfJQNmt1EDIJMRA127KQOEku0AsA8NA4BTFQE7vu0DYq8JADBO+QDA9wEBfYXBA8bnDQGpyyED0YcJA12e/QAIWwED7qMpAYZK9QA9gx0Cr9MxAMdTSQFOOx0C8KNJAsl7OQLEQyEAAus9A//rLQDkC1UClPcVAmFrLQIPOykDMJ8pAEoHUQCJez0DgmcJAlxrUQMP1zUD6QdRAdX7TQHr80UBCrNlAUnzTQHu010D3BtFAgUjRQGWt1kCxZtFAw/fLQAH70kBzvNVA5HfPQOqR0UCA1tlAcNzYQKfq1ryl/4a+eTd+v9EaYb6yZb2+zw2yQI8MW762CdNAY6bpvucF0kD1rKVA1PWvQJ7Z/77StchA16TIQD510kDyWM9AZ8zXQPpC1UDeA9BAKd3NQNU/0EDzQ9BA56rPQERA0UAQ8L1A",
          "dtype": "f4"
         },
         "yaxis": "y"
        }
       ],
       "layout": {
        "legend": {
         "title": {
          "text": "label"
         },
         "tracegroupgap": 0
        },
        "template": {
         "data": {
          "bar": [
           {
            "error_x": {
             "color": "#2a3f5f"
            },
            "error_y": {
             "color": "#2a3f5f"
            },
            "marker": {
             "line": {
              "color": "#E5ECF6",
              "width": 0.5
             },
             "pattern": {
              "fillmode": "overlay",
              "size": 10,
              "solidity": 0.2
             }
            },
            "type": "bar"
           }
          ],
          "barpolar": [
           {
            "marker": {
             "line": {
              "color": "#E5ECF6",
              "width": 0.5
             },
             "pattern": {
              "fillmode": "overlay",
              "size": 10,
              "solidity": 0.2
             }
            },
            "type": "barpolar"
           }
          ],
          "carpet": [
           {
            "aaxis": {
             "endlinecolor": "#2a3f5f",
             "gridcolor": "white",
             "linecolor": "white",
             "minorgridcolor": "white",
             "startlinecolor": "#2a3f5f"
            },
            "baxis": {
             "endlinecolor": "#2a3f5f",
             "gridcolor": "white",
             "linecolor": "white",
             "minorgridcolor": "white",
             "startlinecolor": "#2a3f5f"
            },
            "type": "carpet"
           }
          ],
          "choropleth": [
           {
            "colorbar": {
             "outlinewidth": 0,
             "ticks": ""
            },
            "type": "choropleth"
           }
          ],
          "contour": [
           {
            "colorbar": {
             "outlinewidth": 0,
             "ticks": ""
            },
            "colorscale": [
             [
              0,
              "#0d0887"
             ],
             [
              0.1111111111111111,
              "#46039f"
             ],
             [
              0.2222222222222222,
              "#7201a8"
             ],
             [
              0.3333333333333333,
              "#9c179e"
             ],
             [
              0.4444444444444444,
              "#bd3786"
             ],
             [
              0.5555555555555556,
              "#d8576b"
             ],
             [
              0.6666666666666666,
              "#ed7953"
             ],
             [
              0.7777777777777778,
              "#fb9f3a"
             ],
             [
              0.8888888888888888,
              "#fdca26"
             ],
             [
              1,
              "#f0f921"
             ]
            ],
            "type": "contour"
           }
          ],
          "contourcarpet": [
           {
            "colorbar": {
             "outlinewidth": 0,
             "ticks": ""
            },
            "type": "contourcarpet"
           }
          ],
          "heatmap": [
           {
            "colorbar": {
             "outlinewidth": 0,
             "ticks": ""
            },
            "colorscale": [
             [
              0,
              "#0d0887"
             ],
             [
              0.1111111111111111,
              "#46039f"
             ],
             [
              0.2222222222222222,
              "#7201a8"
             ],
             [
              0.3333333333333333,
              "#9c179e"
             ],
             [
              0.4444444444444444,
              "#bd3786"
             ],
             [
              0.5555555555555556,
              "#d8576b"
             ],
             [
              0.6666666666666666,
              "#ed7953"
             ],
             [
              0.7777777777777778,
              "#fb9f3a"
             ],
             [
              0.8888888888888888,
              "#fdca26"
             ],
             [
              1,
              "#f0f921"
             ]
            ],
            "type": "heatmap"
           }
          ],
          "histogram": [
           {
            "marker": {
             "pattern": {
              "fillmode": "overlay",
              "size": 10,
              "solidity": 0.2
             }
            },
            "type": "histogram"
           }
          ],
          "histogram2d": [
           {
            "colorbar": {
             "outlinewidth": 0,
             "ticks": ""
            },
            "colorscale": [
             [
              0,
              "#0d0887"
             ],
             [
              0.1111111111111111,
              "#46039f"
             ],
             [
              0.2222222222222222,
              "#7201a8"
             ],
             [
              0.3333333333333333,
              "#9c179e"
             ],
             [
              0.4444444444444444,
              "#bd3786"
             ],
             [
              0.5555555555555556,
              "#d8576b"
             ],
             [
              0.6666666666666666,
              "#ed7953"
             ],
             [
              0.7777777777777778,
              "#fb9f3a"
             ],
             [
              0.8888888888888888,
              "#fdca26"
             ],
             [
              1,
              "#f0f921"
             ]
            ],
            "type": "histogram2d"
           }
          ],
          "histogram2dcontour": [
           {
            "colorbar": {
             "outlinewidth": 0,
             "ticks": ""
            },
            "colorscale": [
             [
              0,
              "#0d0887"
             ],
             [
              0.1111111111111111,
              "#46039f"
             ],
             [
              0.2222222222222222,
              "#7201a8"
             ],
             [
              0.3333333333333333,
              "#9c179e"
             ],
             [
              0.4444444444444444,
              "#bd3786"
             ],
             [
              0.5555555555555556,
              "#d8576b"
             ],
             [
              0.6666666666666666,
              "#ed7953"
             ],
             [
              0.7777777777777778,
              "#fb9f3a"
             ],
             [
              0.8888888888888888,
              "#fdca26"
             ],
             [
              1,
              "#f0f921"
             ]
            ],
            "type": "histogram2dcontour"
           }
          ],
          "mesh3d": [
           {
            "colorbar": {
             "outlinewidth": 0,
             "ticks": ""
            },
            "type": "mesh3d"
           }
          ],
          "parcoords": [
           {
            "line": {
             "colorbar": {
              "outlinewidth": 0,
              "ticks": ""
             }
            },
            "type": "parcoords"
           }
          ],
          "pie": [
           {
            "automargin": true,
            "type": "pie"
           }
          ],
          "scatter": [
           {
            "fillpattern": {
             "fillmode": "overlay",
             "size": 10,
             "solidity": 0.2
            },
            "type": "scatter"
           }
          ],
          "scatter3d": [
           {
            "line": {
             "colorbar": {
              "outlinewidth": 0,
              "ticks": ""
             }
            },
            "marker": {
             "colorbar": {
              "outlinewidth": 0,
              "ticks": ""
             }
            },
            "type": "scatter3d"
           }
          ],
          "scattercarpet": [
           {
            "marker": {
             "colorbar": {
              "outlinewidth": 0,
              "ticks": ""
             }
            },
            "type": "scattercarpet"
           }
          ],
          "scattergeo": [
           {
            "marker": {
             "colorbar": {
              "outlinewidth": 0,
              "ticks": ""
             }
            },
            "type": "scattergeo"
           }
          ],
          "scattergl": [
           {
            "marker": {
             "colorbar": {
              "outlinewidth": 0,
              "ticks": ""
             }
            },
            "type": "scattergl"
           }
          ],
          "scattermap": [
           {
            "marker": {
             "colorbar": {
              "outlinewidth": 0,
              "ticks": ""
             }
            },
            "type": "scattermap"
           }
          ],
          "scattermapbox": [
           {
            "marker": {
             "colorbar": {
              "outlinewidth": 0,
              "ticks": ""
             }
            },
            "type": "scattermapbox"
           }
          ],
          "scatterpolar": [
           {
            "marker": {
             "colorbar": {
              "outlinewidth": 0,
              "ticks": ""
             }
            },
            "type": "scatterpolar"
           }
          ],
          "scatterpolargl": [
           {
            "marker": {
             "colorbar": {
              "outlinewidth": 0,
              "ticks": ""
             }
            },
            "type": "scatterpolargl"
           }
          ],
          "scatterternary": [
           {
            "marker": {
             "colorbar": {
              "outlinewidth": 0,
              "ticks": ""
             }
            },
            "type": "scatterternary"
           }
          ],
          "surface": [
           {
            "colorbar": {
             "outlinewidth": 0,
             "ticks": ""
            },
            "colorscale": [
             [
              0,
              "#0d0887"
             ],
             [
              0.1111111111111111,
              "#46039f"
             ],
             [
              0.2222222222222222,
              "#7201a8"
             ],
             [
              0.3333333333333333,
              "#9c179e"
             ],
             [
              0.4444444444444444,
              "#bd3786"
             ],
             [
              0.5555555555555556,
              "#d8576b"
             ],
             [
              0.6666666666666666,
              "#ed7953"
             ],
             [
              0.7777777777777778,
              "#fb9f3a"
             ],
             [
              0.8888888888888888,
              "#fdca26"
             ],
             [
              1,
              "#f0f921"
             ]
            ],
            "type": "surface"
           }
          ],
          "table": [
           {
            "cells": {
             "fill": {
              "color": "#EBF0F8"
             },
             "line": {
              "color": "white"
             }
            },
            "header": {
             "fill": {
              "color": "#C8D4E3"
             },
             "line": {
              "color": "white"
             }
            },
            "type": "table"
           }
          ]
         },
         "layout": {
          "annotationdefaults": {
           "arrowcolor": "#2a3f5f",
           "arrowhead": 0,
           "arrowwidth": 1
          },
          "autotypenumbers": "strict",
          "coloraxis": {
           "colorbar": {
            "outlinewidth": 0,
            "ticks": ""
           }
          },
          "colorscale": {
           "diverging": [
            [
             0,
             "#8e0152"
            ],
            [
             0.1,
             "#c51b7d"
            ],
            [
             0.2,
             "#de77ae"
            ],
            [
             0.3,
             "#f1b6da"
            ],
            [
             0.4,
             "#fde0ef"
            ],
            [
             0.5,
             "#f7f7f7"
            ],
            [
             0.6,
             "#e6f5d0"
            ],
            [
             0.7,
             "#b8e186"
            ],
            [
             0.8,
             "#7fbc41"
            ],
            [
             0.9,
             "#4d9221"
            ],
            [
             1,
             "#276419"
            ]
           ],
           "sequential": [
            [
             0,
             "#0d0887"
            ],
            [
             0.1111111111111111,
             "#46039f"
            ],
            [
             0.2222222222222222,
             "#7201a8"
            ],
            [
             0.3333333333333333,
             "#9c179e"
            ],
            [
             0.4444444444444444,
             "#bd3786"
            ],
            [
             0.5555555555555556,
             "#d8576b"
            ],
            [
             0.6666666666666666,
             "#ed7953"
            ],
            [
             0.7777777777777778,
             "#fb9f3a"
            ],
            [
             0.8888888888888888,
             "#fdca26"
            ],
            [
             1,
             "#f0f921"
            ]
           ],
           "sequentialminus": [
            [
             0,
             "#0d0887"
            ],
            [
             0.1111111111111111,
             "#46039f"
            ],
            [
             0.2222222222222222,
             "#7201a8"
            ],
            [
             0.3333333333333333,
             "#9c179e"
            ],
            [
             0.4444444444444444,
             "#bd3786"
            ],
            [
             0.5555555555555556,
             "#d8576b"
            ],
            [
             0.6666666666666666,
             "#ed7953"
            ],
            [
             0.7777777777777778,
             "#fb9f3a"
            ],
            [
             0.8888888888888888,
             "#fdca26"
            ],
            [
             1,
             "#f0f921"
            ]
           ]
          },
          "colorway": [
           "#636efa",
           "#EF553B",
           "#00cc96",
           "#ab63fa",
           "#FFA15A",
           "#19d3f3",
           "#FF6692",
           "#B6E880",
           "#FF97FF",
           "#FECB52"
          ],
          "font": {
           "color": "#2a3f5f"
          },
          "geo": {
           "bgcolor": "white",
           "lakecolor": "white",
           "landcolor": "#E5ECF6",
           "showlakes": true,
           "showland": true,
           "subunitcolor": "white"
          },
          "hoverlabel": {
           "align": "left"
          },
          "hovermode": "closest",
          "mapbox": {
           "style": "light"
          },
          "paper_bgcolor": "white",
          "plot_bgcolor": "#E5ECF6",
          "polar": {
           "angularaxis": {
            "gridcolor": "white",
            "linecolor": "white",
            "ticks": ""
           },
           "bgcolor": "#E5ECF6",
           "radialaxis": {
            "gridcolor": "white",
            "linecolor": "white",
            "ticks": ""
           }
          },
          "scene": {
           "xaxis": {
            "backgroundcolor": "#E5ECF6",
            "gridcolor": "white",
            "gridwidth": 2,
            "linecolor": "white",
            "showbackground": true,
            "ticks": "",
            "zerolinecolor": "white"
           },
           "yaxis": {
            "backgroundcolor": "#E5ECF6",
            "gridcolor": "white",
            "gridwidth": 2,
            "linecolor": "white",
            "showbackground": true,
            "ticks": "",
            "zerolinecolor": "white"
           },
           "zaxis": {
            "backgroundcolor": "#E5ECF6",
            "gridcolor": "white",
            "gridwidth": 2,
            "linecolor": "white",
            "showbackground": true,
            "ticks": "",
            "zerolinecolor": "white"
           }
          },
          "shapedefaults": {
           "line": {
            "color": "#2a3f5f"
           }
          },
          "ternary": {
           "aaxis": {
            "gridcolor": "white",
            "linecolor": "white",
            "ticks": ""
           },
           "baxis": {
            "gridcolor": "white",
            "linecolor": "white",
            "ticks": ""
           },
           "bgcolor": "#E5ECF6",
           "caxis": {
            "gridcolor": "white",
            "linecolor": "white",
            "ticks": ""
           }
          },
          "title": {
           "x": 0.05
          },
          "xaxis": {
           "automargin": true,
           "gridcolor": "white",
           "linecolor": "white",
           "ticks": "",
           "title": {
            "standoff": 15
           },
           "zerolinecolor": "white",
           "zerolinewidth": 2
          },
          "yaxis": {
           "automargin": true,
           "gridcolor": "white",
           "linecolor": "white",
           "ticks": "",
           "title": {
            "standoff": 15
           },
           "zerolinecolor": "white",
           "zerolinewidth": 2
          }
         }
        },
        "title": {
         "text": "Visualización del Dataset Digits con UMAP n_neighbors= 100"
        },
        "xaxis": {
         "anchor": "y",
         "domain": [
          0,
          1
         ],
         "title": {
          "text": "UMAP1"
         }
        },
        "yaxis": {
         "anchor": "x",
         "domain": [
          0,
          1
         ],
         "title": {
          "text": "UMAP2"
         }
        }
       }
      }
     },
     "metadata": {},
     "output_type": "display_data"
    },
    {
     "data": {
      "application/vnd.plotly.v1+json": {
       "config": {
        "plotlyServerURL": "https://plot.ly"
       },
       "data": [
        {
         "hovertemplate": "label=0<br>UMAP1=%{x}<br>UMAP2=%{y}<extra></extra>",
         "legendgroup": "0",
         "marker": {
          "color": "#636efa",
          "symbol": "circle"
         },
         "mode": "markers",
         "name": "0",
         "showlegend": true,
         "type": "scattergl",
         "x": {
          "bdata": "sfCnQClhokBppahAaz+pQIIao0DYz7FASQO2QC0GpkBi56tAJpi3QHg4tkCTOKpATeepQCWZrkDn76dAb36zQBUupUAAQKlANJ2zQJMAp0CcLapAnCiwQHgLpUBO46tA2PWxQAVdqkCjyaNAvJGwQCcQqEA4GKhAEK6pQIO1sED+j7FAEyWvQOCHpkCU6KJASuGmQOLztECgz7NA5LK1QCwasUDlia1AOyWpQJKBrkC9OrdAydOyQDbGtkBH06ZAj+ewQMSJtEBo/LFABxOuQEoNqEAMzq5AUV+uQOqeqECNnrVAWbetQLY6uEBtR6NAnDyrQPmzskCPRKhAzBeqQDfCsEB/haRA6gGlQKnYpUAdSqRAT060QKApqkA8faRAGuWiQC54pEBXw6NAAvmoQBaFrkBQa6RAmTurQOg7skA4uqdAK7CrQPmnpkB+1KZA9HqjQL1YqEB7pKNAODWjQJ5qs0CXKKxA3l6nQPJAtUCRHLNAhzixQFc9skAhxLJAtkG1QBYiq0BmN7dAcuS0QOBxtUCg9qtAR0u0QB+0tkDF9rZAMyi1QHOetkAuAbhAfzi3QCNgtEAZaLZApqu4QJQzqUD+GbdAK2KtQP0nqEBJo6dAY3ujQHq1qUBKDahAmr2oQMt0pUBqvaNAE9+jQCdZpUAXnaVAJLWjQLUbuEBCp6hAfIazQLh7uUCDaaJAAg2uQElwrECoLKlAS+WiQJSprUB5orBAr6GsQBy+pUCP5bNAyTe0QKe1sUAHY7hACSK2QEzbskDyArZASQC6QHF0uECycLlAOjmxQK9St0B1v69AED6pQPKxqUBUP6NAyn+bQAYTrEDvYqJAjnOlQEoBrEBHkKVA4rS3QE3JpUBqwaJAnhCzQHIrtkDVjbBAU9itQINWpEDiYq9AUBesQL9Mq0DxPbBAjjysQF21sUBfwapA6y+kQA==",
          "dtype": "f4"
         },
         "xaxis": "x",
         "y": {
          "bdata": "REkdQdOEG0HdVhVB4zIgQaiSF0G6eBhBJ2oWQZjMFEGMLhZB8qEXQa2SGEGqLxJBYOQSQVpkGEFlrxVBvl4VQd22F0Gs8xhBfXIZQed4EkENFBNBwSEVQSadFEE+3hJBdXAZQTGbEkEI4BxBJNcYQU71G0HMGx5BJPAfQQOgGEEzixxBTpIaQbVYGkFAShtBZQsbQd+AF0HDVxhBMEcYQcmQGEEflxRBpFYWQXWwF0FaMhlBul4VQVwcHEHF+BhBnPgcQW2EFUHUvBVBRHwaQcfkGEEGDxxB1l0eQUG1GkFoshtBOp4aQTgDG0HrPxxBpRcWQXR+HEGsshpBuSAeQdtVG0GHIBxBvIIfQYj2GEHoLxpBRJ4WQXG4FEHv2htBeeMSQeW3FkGWDhhBdOgXQVJoFEFX5BdBfSkfQeaEHUHaeR5BECgbQfLMG0ETnxdBi0UbQXJaHkGDChdB5pUVQSA6HEHiyR1BvIkaQfgZG0FRVx1BzYoZQW0pHkE5Sh1BB1IdQRvuH0EmJBpBt5oeQZnbHEGJSxxBdgkXQQbsFkFPkhpBn/0UQWuaFUGR7RVBi9wbQR2AHkHr4htBgiIbQZ8gH0Gk7hlBSS0aQSY/HUG2chxBpZogQeuNH0HMHCBBQgIgQSzSH0HsEyFBMNsgQSi4IEH/3hdBzTUgQa3qFkF0YBZBl38WQWbzGUEQfRNBp8YVQcIHFUG8Dx9BA/8bQbjTHUEGfRVB16sUQdcjFEH+oR5BUNIXQe3DG0HrRhdBPCQYQRkTG0GYyRlB8JgaQZvHGkFrkhlBdVIbQbZUF0GntB1BlhkTQWsVE0HHWRZBoKERQWQQF0GEkBFB9d8eQfkDE0HTGRJBsDkcQZG2E0Hn2htBseIXQUqlFkFLVhZBq60dQVltF0F2YRpBYmAcQU9fF0FztRhBtEwaQcJIFkFWWBJBhQsYQQ==",
          "dtype": "f4"
         },
         "yaxis": "y"
        },
        {
         "hovertemplate": "label=1<br>UMAP1=%{x}<br>UMAP2=%{y}<extra></extra>",
         "legendgroup": "1",
         "marker": {
          "color": "#EF553B",
          "symbol": "circle"
         },
         "mode": "markers",
         "name": "1",
         "showlegend": true,
         "type": "scattergl",
         "x": {
          "bdata": "NXKVv1fyWT52Agk+r0s5Pno6JD0BnBQ+vgomvTOYtD0mB+k84guBPr43V78mrcW/AAycPpEqhD7PoqQ+3OmdPjFtmj5m96Y+RXMZPsdfmz688qo+iVWtPhX+kj79c0w+OXWKPrIJmD4L7bu/w21DPrRMgb9OMNW/f3Gmv3pjrD4MHMO/zM+Ev82iFb9xk6O/c0m0v9bhr7+h8NC/sww3PqbHPb7AzDo9c50QPqWr7b3py0XAHe1lPeqZ8L1gTFK9wNkXPnkBtLznttC9eRxXPRKMRMBceEbAE4FBwEwHQsDvOzzA3vNDwAoBQcA8oTzAEJ9AwAkdNcB1mEDA5CXHv/1vRMBP6bS/hZ/Tv0wJzr90ZLa/yp+1v2qkor+l+6q/67Gev8/Bzr+f082/P2jAvwDCq7/DuLO/l2yqv3E1rr9Jxae/HiPCv27U0r+GZkbAXD66v3Vx4b8bu8O/bOu7v6+Uxb87J7G/zjusv/UiRcCt00TAOGpGwGqPRMD7QEbAoNtEwHRPRsDa7UTAzYlIwMFWRsDJNEbAccREwNmeRcDd9re/Vfy0v8uVsL9fxcW/4uW+v1Xpwr9eabi/3lHMv8IAsL8qOMm/kCqsvz2Dw7/DusW/IDQAvjczTDvZDI2/U823vzRGBb8N2Km/RX3Sv76XtL/v63u/43HAv/xVx7+Bxcu/MmlnvxSD0Tzg9nm/EImFPjRRs7/62Ky/bCYCPjW0rb//sXg8MFauv39Lrb8Fpa2/20m3vxAyur8rmOI98d02Pgkhfz4Lx3Q+P+Y1PuT4KT7afj4+0iomPkOVcj2nWzk+FaBcPjyZSj6AfQc+T86zv2qdxr9cx8y/vq2qvxl/tb8SML6/RL+zv7IYtb+rRa+/AhCwvzUIsL9Ve6u/9fmsv+dmzr92sre/kr/Vv16Hzb/tZbW/YJfYvwanyb8EfMu/FAybvzUBx7/obNm/ZyjLv5C5xL8=",
          "dtype": "f4"
         },
         "xaxis": "x",
         "y": {
          "bdata": "n4kBQUc2BUFyXgVBYncEQdiYBEF2+ARBK0wEQWEfBEH4ewNB2ZYEQajSAUFASAJBef8EQdzBCEEZQQZByMoGQW8YB0HbbgdBcZ8FQQJsBEGeBgdBlEIFQTBNB0EAPQRBpOoEQcqaBUF56ANByOsDQUuFCEGF9gRBKMUDQT3IBEGhXQFB10gFQSm2BUFP5ARB/YT9QGtX/UAahwVB5REIQW5pBEEQ3wRBCzgFQZH1BEE8GuhAoKYEQZfTA0F/hANBk8gEQUJeBEFZjgRBhKoFQX3H5kDiPudAWinmQD4o6ECZ2ulAr6TmQNf26EC6xOlAq5jnQPRv5kCPSehAzagGQYbq5kCP6AZBNhoFQcpuBEFBgAhBcFgIQYyPAUGneQdB+xsDQSrCBkHwgAhBaYAHQZNGCEGlhAhBTmn7QLdr/UAWWgFBwa0LQazdBkFnBOhAysEIQYcbBUH/9AVBbroCQVgJA0Fvnv9AXs4GQY5X50D1K+dApoXpQD8A50DNjOdAgNTmQMb05kCmledAsUznQA9v50DsB+hAgDjmQPcZ50AhDQlBbPsHQen6/UDCjQlBRUsBQStbBEFCgP1Aqj0DQaIW/kCPqglB45cDQfFdAUG7hwFB2QQEQQNTBEHx5wNBZh4GQaieBEGRfPtAiJ8DQYSu/EDZlQRBLScCQXezAkGt0AJBw+kIQZ9PCEEy5ANB8cAGQTk+/UDTg/tAwz8FQUY5/kBEBAVB+MP8QIyA+0CN6/tAKaz+QOa9/kCBXAdBlLcHQUisBkERAQhBp2MJQSoiCUEZrQhBeAsKQRKTB0H4/wZBBXIIQUssCUGn2QpB4aD7QCvjAUFllwRBHnX6QHFV/kAx8gFBl9L8QLkR/ECtOPpAsUz7QIfn/EBLXvpAuhr6QDLFBUF8YwlBWgwFQT0SBkFzOQdBb9QGQbdLCEH6+ApB7noGQYw5CUEhLgVBbYkKQbuuCkE=",
          "dtype": "f4"
         },
         "yaxis": "y"
        },
        {
         "hovertemplate": "label=2<br>UMAP1=%{x}<br>UMAP2=%{y}<extra></extra>",
         "legendgroup": "2",
         "marker": {
          "color": "#00cc96",
          "symbol": "circle"
         },
         "mode": "markers",
         "name": "2",
         "showlegend": true,
         "type": "scattergl",
         "x": {
          "bdata": "k2GTvzo8ScBcWkjA6nOjv46EiL903nK/pp+Iv59oc7/x7Fm/2ARgwIDsHsAOMqq/LN0AwA+IXcDzgDfAR4M8wGK5QcCkZEHAPKFTwBqRTsCwLzvAFE0zwJzxOsBraGDAqbFewNA5MMDBGkzAOk1JwDgvUcDtt17A7yw7wGUKSMBlgVjAR2BMwKQPXcB4SULA/HdFwOTTW8BY/F7A//hLwJtyRMBG107A749DwP+DSsC0c0/ABNRJwIR3ScBz807AY/lRwAyPU8Bpk1PAnorjv//+TsDkKjLAZ89JwOIUNcB7l0nAyoROwAElTsDOvknAedhJwILwRsBwV0vA2IZNwIDKTMBhjk3Anb1CwFRoQ8Au4kTAq5k+wKZdHsAeDyLALNg8wMhwOsDXfFjAb147wMw3PMDOuUHAyexYwCyRZcA8fGHA1WU+wDOXZMAfW2HArXFcwBO3YMDnU2fARdM3wK/kY8CX+rDAlhM8wFV5U8Ce1WvAtJZVwEhLXMCa2kjAZMdOwPoLUcD8W0nAR2dnwFHmSsDuMk7AogRlwBD0WcB/rD3APplPwAPEUMBvQlHAoA5DwPZZUMAyGFLATAZewCCBRMBGiUnAVThdwCvRTsDqnUfAXd1KwNTWQ8DCEGTAJ2ROwKCiT8Dhx0PAAkVHwPmaXcCscl7ANStIwMuiUMCWek7AplFKwP3/UMDv4kzAHnZKwJRxUcDsTFLAPJpHwCqdT8BQfVPA+iJNwJI7UcAodVPAxnNnwELta8AjOWjAUGBSwFE8a8A7C2XAqqplwKGBZ8DpcmnA6CRiwMhoRcC9mGXA9fJEwPhvQMD+tD7A7Cc9wGhtWsCZ6k/AArxOwIuIP8CbiVbAUyo+wLsQScAYjVLAD+kvwCR4MMD+mVnAxqhrwLF1acBN82XA46ptwIFzVcCcUT/AnzdqwKxSW8DzkE/A",
          "dtype": "f4"
         },
         "xaxis": "x",
         "y": {
          "bdata": "PtMOQUG2/UCU1gNBYqsPQSzHD0HFow9B7AcOQaKDDkH4lg5Bng4LQdBLDEE+RA9BbDIPQbfsC0G+Ow5BJfcLQSNqC0G1FQ1Bsu4JQcD8B0GySgpBrhwKQal9C0EKMgpBBOQLQbGqDEEBXAhBJHoIQeg8C0HivQxBjZYMQWteCUE61wpBKaEIQex5DUHPLw5BdJkKQQTWDEGZ0gpBvjwCQdmC/ECKKwZBkWPvQKEMBkGFxQRBdoMCQWPSAUEb/wZBvDEHQeRBB0GpLAdBMsURQa7V90DWZwtBE4T1QGtdC0EqgPRAMjr7QLpz+ED++fBAHQIHQSmU7ECNF/NA51UIQeAm80A2Xg9B108PQWkhD0GYZBBB2l4QQVfRIEHRnSFBDdURQT2VDkFk1w1BOvgQQX2NEUGXlA5BLN4MQQcFCkHLug1BgAAMQSv0DEFOLg5BLU4IQe+rDkFTLgtB+34OQYouDkHRySBBqU4QQWfZCkHkPApB0aQHQRXuB0H2lPBA3pD8QCB5+0DOrvBApqcKQR7BAkGiyfdAJsYIQdMgCUEy5wNBVTn3QL/5+EA1S/tAFVj/QMzg+ECiF/xAj/EFQXPj/0CkfO5ArN8KQYHT/kAsXg9BGjAKQQ3kDkEMZwxB4JsJQWzVCUH29gpB5LYOQdD6DUG9DA1B2H0ZQbPD+UBau+xAT7YBQSJX+EBfi/ZAMBfuQPzY9kC0cAVBghb5QG1n9kDfyvhAlRr5QFiK9EDtlwdBZpQIQQfDCUFKfglB+MUGQfBkCkEK/AhBficJQZYpCUEwyQlBEA0IQSMBC0E9owhBHeoAQWIK+0DQBPlAyKT6QGAVCEH4dfpAjlANQXZa8EBCZgtBtDADQb9L/0DHxwVBKuUMQXhPDUERBwZBLxEKQZaCCkEdBAhB2pgLQfiwDEHWhA1B5UwKQbneBkE9FQdB",
          "dtype": "f4"
         },
         "yaxis": "y"
        },
        {
         "hovertemplate": "label=3<br>UMAP1=%{x}<br>UMAP2=%{y}<extra></extra>",
         "legendgroup": "3",
         "marker": {
          "color": "#ab63fa",
          "symbol": "circle"
         },
         "mode": "markers",
         "name": "3",
         "showlegend": true,
         "type": "scattergl",
         "x": {
          "bdata": "xUlcwHLOdMCryX3AeDxkwN8masB3cWrACwRuwJVHdsCRXXjAFsRuwEOkfsCfLnfAiPR7wGRQe8C4MnvA8v98wDmocMAak3jA44h0wOwNfMCfenTAIT99wH95c8AmgnXABsyAwLlUm8Dco1PAnWRWwCfQY8DhB13AushXwP2rbMCxmmbAElNfwMr4W8D11WrAIW1YwJNkWMCgS2HAiLdrwLjRaMAKfUfAmp9NwO2TS8Dkbz/AkXI9wBe6QsBQYkPAExtHwKKoRsDCV0fAW8NUwHsOR8A6GCfAvDciwGV1I8Bn0yzACGQrwPUSa8BCDyLAuL4nwMmMS8A/xCLAAW4ewLJcLsDDNSfAsvpUwIt3TsDBSVjAXbgXwKCMUcApM2HAhT9hwCaFZsCxnFvAgtJdwCmXS8CyFEfAhfpfwF8pUsALI2DAwvpfwJoUW8CXQlrANvdWwJ73eMAThHDA5h1pwEynXMB77mfAIOVdwDZsW8B27FTAofVHwIs7V8A1d0PAgW5VwHgmSsD1UkzAemhMwGRoT8C9gVfALgtOwLy9TMBdtlHAdUNiwCdOX8CqOGjAOLVqwAnTSMDL/3DAPCVhwI48aMCz6GfADuxrwJlsnMC0y2bAlnBmwI08X8A+VW3A20dmwGPTfsCg+WvAKRptwNK1dMBX9HnAGtR5wI60bcAYMknAUl9mwNPqeMB+NHbA6JluwDH5WcCyPFjA18piwDcQU8DCGmPAab1XwJfJZcAy+WfAx4ZdwNxrVMBwPmbA7LJJwN0iUcD+qlTALY5nwPQgV8CJOlbANmdVwJLgYMBKzGHAYF1hwO7nZ8BmdFHA/pdewI+EZsC0n2fAhxxkwJxedMAtD1XAQNl/wPWYgsAOzxzAj1JswMHlacCJoFPAJcZjwJFTZsAr21DA+c1mwJipT8DKeYfAjftnwJmDasAHl0HA5JhuwG/DcsBkwG/ALaNdwBJ/R8D2d27A",
          "dtype": "f4"
         },
         "xaxis": "x",
         "y": {
          "bdata": "vVA1Qc9hLkE/HSxB4uwzQT+RLUE0CTFBru4vQRqeLUFP5C1BLwEuQZdVLEG11S1B7IEmQdJXLUH+Sy9BaD0tQTQdLUEuyi9BRRouQZg3L0ERZy9BnVgtQRUUL0GPKC5BaYAtQY2MI0Fj3zRBbrwzQfiMNkG+DjVB4SwzQc0vMEFDOzdBnvQ0Qfk8M0GGszFBItcxQcG1MEGP8zVBnO8wQZRAMkE9uDZB8sw8QXAUNUGPuTNBDVg5QXlNNkEvnjhBcZI2QbNINkFd2zJBrwEzQQoDN0FkRzRBn6EvQXw4LUEREjNBvLw0QYVaM0ENfDBBneAxQdjf9kCv6C9B/AIvQYLQMkGDDzFBHQw3QUuWO0GwCTRBEIMsQb2dPEED0zZB5fE5QegvMkFvbjhBOIY5QSKPMUG9pjJB+EAzQYFoMUEC7zFBd2IzQaF7L0ETxS5BpNgsQVVPKkGerytBlGMzQQzdL0HabjFBl2YwQQUNLkGVvjpB9Sc1QVmxNkHzUTRBaQI2QUGyNEFU2T9Bfro9QbtJPkE3DzlBtW07QQxCNEEWuDpBVJg5QeAZOkGrUDdBnb03QfSvLkEVOTVBZwQ6QWiTOkE75jpBXl06QaPHIkGxoDpB6Y45QbO2OUEsdTRB7K46Qbt6JUG9KztBCgIwQfx8LUHh5TFBshktQVZKLUELkTBBBzQ2QT1JLEFQNC9BjJI1QZBRN0FYUztBZ8YrQWB/PEG+vjtByQQ9QUVgNEGEsC1B75U2QUWmO0FK1ThBSCI2QbW2N0HzIDFBFjgzQXjSNEGIGTdBSe01QSb4NEGs2zRBFfQ0Qb1oM0FEnzpBdLUyQcI4LEH3mSpBYdYsQVLlKEE/MiRBJngjQW5aI0FN8BhBMd8rQWqbLEHPHixBYicsQRLoK0GS5TFBCIsmQeefK0EM2iNBkgclQTvtIkGmCTZBIBAmQVnUKEFfFixBreYzQcyVKkHNWS9B",
          "dtype": "f4"
         },
         "yaxis": "y"
        },
        {
         "hovertemplate": "label=4<br>UMAP1=%{x}<br>UMAP2=%{y}<extra></extra>",
         "legendgroup": "4",
         "marker": {
          "color": "#FFA15A",
          "symbol": "circle"
         },
         "mode": "markers",
         "name": "4",
         "showlegend": true,
         "type": "scattergl",
         "x": {
          "bdata": "3NXfPwxP+j97Qbk/02cAQFBM9j/g4fU/HklRv1630T93E8U/whn4P5dKAkCxP/w/of/8P8ssyD+4Us0/63rNP5q6yT99KMM/U7PAP9br1z/FE9w/JSS6P+d5yj/lcco/ZobMP9RzAkCKOAJAjpMEQC54+j/xQgBASbISQFadAEBpfQZAQLXyP0qvDEAPd/8/AfIEQBol+D+HG8E/H1kWQBR5zD+V5Mg/BSv+P1UzyT+b2bY/M530P5Dfzz8Nv7Q/KnLRPxEzvj9MMsE/hd4YQKS+FkDV4BdAPUoWQEw8DUCjrhBAOQ8bQMq0GUAgyxpAp6cfQCxbDkDZLx5AdgQcQBUzzj8RxOE/kXC5P/cBzj8njfg/UbTSPxOr1j+6GhpABWDOwMlxIEAitKvA6SIXQDlvv8CPohpAN18KQJgPHED0fgZAQDETQLDmFUAHhPs/XNgYQJYPDED9HRlA9DcCQGx3D0CEPgxAdrr7P/0wFkBx+uE/j9jTP+lZ4D9uAt8/s8kYQFMbtz+C/M8/MUXxP7iPxT96FqXA3se+P2p6vD8Rnq4/bzPgPxyKqT/QEt0/8hWxv6QC4D/GDOo/ZBH8P4mT+D/H4c0/Zjr1P0ChA0C/dv4/rPUCQMO2EkB9O/4/ePYJQP6a9j9HKfQ/Wtr7Pyy3B0DqUwdAPH3VPyrV/z/31gdA0eQJQPIYDUBb4AlAphMIQCrcBUCs5w9AqwcVQAAACUAZmvw/N7b0PxjMBUBc2/0/0KURQJ/cG0AJtBpALEQWQDXrCUBgChhASUIUQBSVD0C1KhdA5kIWQORfFUD++hJAwZMZQJV9CUC+mAdAIO8DQPhaCkArPAlAnGAKQAhE0r/RBc+/UMcKQLsEBUD+JgVA2lMMQMssx7+6GwZALYbSPx+cA0B+Mv8/IB6jwBR8yT+CEwpAkG4JQA77CkCjI+c/HmLiP8GZFED+ygJAghcCQA==",
          "dtype": "f4"
         },
         "xaxis": "x",
         "y": {
          "bdata": "j8UEQWanCkHJCQVB0qYLQdzdBkGSLA1B4rMGQRlXBkF7OQZB9esQQeAPD0EuuA9B1bILQac1B0F0AQRBjhsDQWt3AkG/BwJBIv4AQfeYAUHlxgFBK4EAQWv0AkHFDQNBh2cDQb8IEEEeIw9B2MUQQVKdCkE84w5BpAEPQf5hD0EziwpBVdAQQXujBUETFw1By/gOQelyDEE7iQFBisUKQYmvAkEmWQRBJuoGQQjWAkH1gwRBtqEFQQZTA0ETCQRBFW0DQR6bBEFOIAFBZuoOQcSfEEF6BQtBYFUNQdgrDkEvEBBBtrgOQbE4DUGTSA1B8MIKQf+ADEHHgQ9BA1APQUApA0HvngJB/f0CQak3BkGOfg1Bu+8CQXkSA0EIbw5B0tQdQeyeCEGagiBBDksJQRlsI0GSWwlBM7YHQdQPBUH13AZB+dUJQcmeCkFVaAZB1AMEQQ/dA0Hv3AlBjFwFQXw0BUFtvwRBpecHQds6BUEy4whB9xkQQW7FCEH4nglBegMFQVF2EEHzDA1Bhv0IQSz0D0GnfSNBVuAQQWOvEEEu0w9BwLQPQRhWD0HOuRBBRfYnQTiIEEHPnxBB9UkOQUAkCkGjIBBB1FkNQXvNEEFjAw5BOM0FQaO8DUGFkQdBszgEQUCuC0EeeghBV3sJQThzCEFMKwVBuycPQQp+BkFioRBB67ACQWuIAkHCLAJBP3ADQS1UAkHlTwVB4HUFQdoCAkGwDgpBzO4CQYCfBEEZbgRB9KYFQY2iDkF2RAtBMLsMQScXCUEDQgxBC5ALQdYlCEEfcwxBW7gMQadZCkGAnhBBsk4LQYUYCEGciRBBNuoPQe/UEEGyfw5BDZcRQfmhHkE1bx5BBgQOQSNOEEF2DRBBUhMRQbWeIEE4bw9BREgEQbhhCkFsSAhBk90iQdIhD0FDGAVBZGsFQYqnBEE4mgdBxFYFQXUuBEGaxQRB9CMGQQ==",
          "dtype": "f4"
         },
         "yaxis": "y"
        },
        {
         "hovertemplate": "label=5<br>UMAP1=%{x}<br>UMAP2=%{y}<extra></extra>",
         "legendgroup": "5",
         "marker": {
          "color": "#19d3f3",
          "symbol": "circle"
         },
         "mode": "markers",
         "name": "5",
         "showlegend": true,
         "type": "scattergl",
         "x": {
          "bdata": "sYhDwCVHPb5Trjy/UDhgv/qAmb7rsR6/yy8+v/Y7Yr/hAK+/7AaGv4iAQL89ZKS+8pOzvxpeb75RtKa+ySW5vhGLhL4ga1K+RzSYvnjVMb5j1F++X4WBvrZQnr4MVge/FK+DvhIrbr7nAcC/EZ9Lvzenjb82np2/+lfDvzAc/b+DkZG/wjqWv7pVkL/jq7O/+Rhhv0wLwb/KDH2+Caubv9kCf7+SAJK/KLS+vxcViL9vINi/E9ycv3Ptob/9JYy/HiCGv6g5ar9odzG/+deZv2h8ob8jpsa/BbS2v/5ijb9F4NC/A/DEv1cBtr8R4J6/7AvBvzBZ2L8q85i/Shmmvx/vuL8uHpu/8+U9v6syD7+TWu8/gvIUvz3KJr8zXiG/goOQv5XVlL+5lK2/zgUxv+ZXEr9oscC+6H/tvrq26L7tM46+pOlZv8f/H7+UZxK/SGMrv0KwXL8fEOW+FyBJvzZtmL51YVO/NtGQvshTnr/mXOC/wQ00wLvw6b/ESr2/GWjwv6Gz+b9BjL6/oKTPvySCdL+nMuy/ukz1vxlCuL99iSy//e5Pv6S5kb8T+V6/P7w/vx3oSb/m43C/HaqFv4OtDb8kSXK/Q2eHv99mML+IxXe/erWsv4wYtr9bl52+6oOGv0WfSr+ypZq+OL6ev3VFFb8OTau/WZZIvjhr7L7noM2+6yA+vmdXuL/c63+/BcKCvzXma79VR46/iNZiv1IQhb/miae/WHsqQC5Eg7+ykne/Gbawv9HVcr/HK7K/9CXQv5ibBsDH9si/8xO1v/ZxuL+kqM2/wAXJvybkpb+L/tC/0YIDwKw4v7+/y42/DwILvwZcAr+wkzq/2FYdv3iPHL4HUwu/DcmVvhlfFL9GpZC/SqYav3irOL/LnBq/Au8jvxPlpr+cBZe/KK2Xv/47j7+w/Y+/Nzd3vyvKnr+9XZ6/zT+Wv6B7rr8cBau/osCnv8i9sL8=",
          "dtype": "f4"
         },
         "xaxis": "x",
         "y": {
          "bdata": "wutBQRuSOkGcrzZBqUo9QRlmOkGsbzpBpOw0QYjePUHjdjdBt2I5QSxMOEEQ7zhBUSk1QatsOUGehjpBfHs4Qb8MOkFBtDlBLbo3Qea6OkHS9TlB6KA4QYh9N0HaazZBhfc4QeOAOUGX9kBByIkzQbdzPkGLuz1BqP4+QeKoP0G01jtBQbw2QbpzPkEV2kFBoHU9QZDvQEE/FzlBFAg5QRybN0FNxTZBUuM6QdrNOEHcDDpB8Po1QenuPkHgdjpB4JU5QZUwN0GgWDdBEbA2QSupQUFGOkRBgaJCQSafP0GH60NB0nlDQSwXQ0GnmUBBb85DQUGtREF/Z0BBqWhBQW/PQ0ForTxB4To6QesDOEHuAxNBWxQ3QXn3N0HtIjdBHnk7QdcTPEFRqj1B1Rs3QR3eNkFV2DhB9bg4QWOjNkHPszhBni8zQTXUNkG3FjdBKag2QSZeMkF/wTdB9lg0QfX7N0F3IThBaIg4QcnFQEHWJURBDuNCQYEJREEQskJB2CJFQVllRUHVcENBo9VCQVoVP0HJX0NBIuhDQRTmQ0FCVDhBV9I6Qc3TPkG4oDpBSFM5Qe7uOUFUfzxBDdg8QdP1OEFI/jpB2+c9QW8tOEFu+jtBYr8+QSZJP0Gs6DdBULg9QVYFOEHyxzhB/8g8QXc6N0FzUT1Bh645QcH0NEEgGDlBGwg6QVG+QUEc1UFBMo07Qbp4PkGEUDpBiPE9QfBMPUETlT1BJri7QN3nN0EBJzpBogY+QScNP0HjEENBijBCQWXyQEHnFENB1n1DQUneQEGbqERBIBBBQdxyQUGMdUNByW9GQZoOQ0EHAT9Bhq82QfK8NUFbyjhBiCA2QbEMOkGjbDZB4+w3QT77NkG4PDZBK202QbW6MkGYzjZBnc43QYs3QkF8C0FBbNRCQVS1PkHxpz1BTu09QRfYQEGw1UFBduxCQdl1QkF4/kFBNm5AQbM+QkE=",
          "dtype": "f4"
         },
         "yaxis": "y"
        },
        {
         "hovertemplate": "label=6<br>UMAP1=%{x}<br>UMAP2=%{y}<extra></extra>",
         "legendgroup": "6",
         "marker": {
          "color": "#FF6692",
          "symbol": "circle"
         },
         "mode": "markers",
         "name": "6",
         "showlegend": true,
         "type": "scattergl",
         "x": {
          "bdata": "uEINQJ5uB0AK8xtAmHIFQLfIIECo8BVA/P8HQNveLECszQ9A6pkLQL+QCkDpkRpA82YFQA/vMkA3KQdAoaoTQDLIMkAX6itA3MwMQESSKEAk1ipA4jotQP9oBUA3ayBAyrwyQGvzMEBgOyRA/PgvQFUOE0D9cjZAWRsqQKpqHUCkjQ5AFvgIQG+PM0DlvhZA6n4qQPAhIEDgOSJAZEIUQC7BEkB3PhVAEyEcQDBxD0DtjBpAYzoNQAyMHUDgfwxAxa0TQFwVD0CrW5i/G/8eQFlcKEDYhidAOZwnQBwjLECd/DBA91EiQD5OKkA2vS1Ale8qQFJ+IEDpfCFABYYtQDt5IEBsNCNALYUoQDSyMEA7FStAVisxQCnrHEBvUDRA6WYoQCHDCUDeMzZAWvQKQJygCUDjejVAdcRAQJr4DECIujdALGMMQF/pEkBWvzRANEE9QCmtNkAIixdA8jMjQChcBEAj5C5AAiE0QBcwNEAeiTlApp8nQMfeNUAvSCRAn0EvQIONMkALVzFAVj0NQL2VHkDVbTJAF30xQAnPMkBOezZATMslQD9uBUDpuhlAgUYQQG3UCkAvAQZAI2gGQC0uBkB8bRVArPAcQOdvJ0BSDzNAad0nQHFkDEDOQgdAEc0FQPBoCkB8/RJAicIYQEYOEkBsYA9ARawIQEjOFUAQ9wNAHF0BQFULBUD8+QNA7RMEQLObCEAPnQxALAAIQIhFDUBEcgFA6R4DQGAFBECLfgZAlxoCQNiVNUC9+zZATJE1QFjMJ0CoyjZAZe8wQHmMNUBN1zFA/xc3QBRGK0BwpiVAPrIkQBvoFECxjP4/xqD8P39O/j8UJwhA5HoDQInuBECpagFABr8BQHlBAEARsP8/nf8JQLTq/D8R5gtAH0suQJMHMUAtJC9A+IMzQLR4LECbGihACfUzQFKZLUDKQShAUAQPQGyYIUCTnANAyrIwQA==",
          "dtype": "f4"
         },
         "xaxis": "x",
         "y": {
          "bdata": "oYu/QEymskC9VrpAtU66QK0zuUBgX7VAs22tQMfpqUCDy7hAPmi8QNySxkD1HMJAtDzCQHAnqECWlbdAshi1QAaBqEBMoq5ANe+7QOOJq0BUyKxAZcKoQMCxuEDQMrhAHlukQLLUp0A/9KxARieqQEBtsUCIxKRAvNWnQFzHrEDSsKhAbAm4QI/8pEAQxrFAyICnQLtmrUCJc7tAAr7CQJpDvUAl8MNAzyO0QOf4vED5Qr1AFjK9QIhXukBJ37pAhya+QNEHvkAX+g1Bqdq5QGontECLvrRA6ZO6QNblvkBtj7hAH7a6QDjvs0DghLhAlDu+QEA1u0AuJLlAQ8e8QEYcpkDlo6dA5rSoQGazqUBFNKdAqWelQJqcqEA9wKRArJimQLMNrEC2LKNAnA+wQDqFsEDT9rRAb1+5QDSkvUCC1KhALEW8QFOHvUBWuaZAKAq4QO0IrUBlnLlAgjiwQGjzu0BL7qtAVTiqQFvVpkALjKNACTWuQB2BqUD5/q5AnRioQEbfqUCdkqhA6VWvQPOHrkDt5aZALimmQB/qpECo5KVAq+erQJeAtECjILtAvnmpQCJKsUBFValASkurQCiGqEAFRKpALla/QOcaqkDDmKVAqNK5QPSVrkDxZalAkoOqQEYPsEAHTbdAWD62QP/FskCnSrFADzisQGZfuUA3ratAezKpQE7ArUDic6VAuj+oQDicu0CwWr1AetS5QJtPukAvYbZAukOpQHFgtUDIHLNAnr+oQEfopUBL3KNAkmKlQPOys0C+/KJAKw+mQOS3pUASRalATHCkQAvapkBHjaxASimuQNO+skD2vLVA+9u3QFiYwkBSrbhAxBG2QAfDt0Armr9AJk+2QF3ytkBM+LlAQKGuQAYBwkABI8hAtxKvQKJHr0CvX7FAqciqQHznsEDCIbhA7yOrQBVeqEAL1rhATMO6QP6EuECwwsFA73+rQA==",
          "dtype": "f4"
         },
         "yaxis": "y"
        },
        {
         "hovertemplate": "label=7<br>UMAP1=%{x}<br>UMAP2=%{y}<extra></extra>",
         "legendgroup": "7",
         "marker": {
          "color": "#B6E880",
          "symbol": "circle"
         },
         "mode": "markers",
         "name": "7",
         "showlegend": true,
         "type": "scattergl",
         "x": {
          "bdata": "kDrGwPEgwsA89bzA7oDDwDugzMBXubzAGTfCwAOtzcCM8LzAsrLDwG8uw8CduMXA643DwOOxxsDfPcfAqN7OwLTqvMDHB7vA8uXMwHa60sB7TtbA+OLRwAFBwcCef9DApCXPwDCZrsBv9cvAPMmrwGDgzMDwNrXA89K7wJVWqsAns8DAWgHCwBctzcA5BcvAGNvCwPsNucAxoajAbB6pwBp1qMD+F6jA1EWswP+TqcCDO6jAd0+owCzLrsD9+Lq/TZCnwAmgqsBy+K3AZIPUwAZDzcAcEbrA8vLCwCrnycAHJNPAHHm4wJH9z8DZjM7AWh3LwLHOy8Cy59LAk07JwHu5y8CGv7bAzimnwH/2fT/B1LLAVjO+wAokvMCFuLzAmN2lwF78u8Dm7bvAGRm5wFzhz8C5zcHAJIXMwEQ+ysCpK9HA0B2/wE4M0cATU8jAYEHHwELjv8A3DNHAhDfKwKHUx8BAbdLAFyO0wHtEuMChMbbAEwC4wP2ntcD1/7rAGyu2wK+Fu8Cd+bfAJGOtwIWnt8CCmLnA+Xe+wD/HucCUM73A+ji6wE52wcCj4bnAxZatwFH6z8B/UK7ARuK+wJ7cscAfkM/AxGuvwP5P0sA7bb/A7/i6wFXf08CAa8/AHR3NwN3D0cAUBdXAZBLUwCl/z8DN7dTA2RK+wJVAvcA89NbAajPCwMSmxMDnQL3AyUDOwFuixsCkeNXAmcfTwHUI0sCBKsLAwZTRwPUNwcA0rc7ATRu1wJT5ssBaL7XAOiq8wIoVu8Cdmq/Awym3wFeTvsAyQL7AS1C5wAK9s8CGqLTAJ6OzwKx41sDpi9XA+77MwBnC1cApSdfA/mjVwI/d08A+ptLAvIfWwKSTy8BK9tDAXLFwwBtGy8Csbb3ANKXNwC3zu8BiJb3AXfvJwP1ox8BkSM7AkSnLwDX2wsDzOdPA2HPBwHIoz8A=",
          "dtype": "f4"
         },
         "xaxis": "x",
         "y": {
          "bdata": "CrQdQQsyGUGE2yBB5oobQcqDHkFVtx5BBsoXQRcMHEF7gh9Bgv4WQbVwGUHB8hdBNIIaQeAUF0G4rhZB/+sVQU3jH0HZ0RtBJvwWQZKpFUGOhRpBE18UQaRUH0GjtxhB6lEUQQRBIEHWVhlBX3sgQTdaGUG49htBgUAgQbOLIUGftRdB6Z8XQYDrFkEgthRBEWoXQTC1G0FFnyFB2J0hQQe/IUHsTyJB2j4gQfukIUECKiJBAfUhQZJ4HkE+eylBcVsiQQInIUGvnR5BKVgbQTMFHUEa9iBBVAMaQbKoHUHArRtB0iQgQQflG0E6Zh1BEuYXQWnbGkEIxBlBptwdQcgeHUHOEiBBfKUiQRjiEEGTbyBBFPQfQVpaH0GmuB9BIUcjQQc9IEE7MyFBc5EgQUdIHEEPWxhBzBYZQchIF0EcXRdBy4cYQZQGFkHXeBdB4OAWQWGRHUEGjRZB8NYVQc4+FkHl9RlBgBIbQcXhF0G88RpBrakZQQKiHEGGIhhB33YaQZa9GUHzfxlBIWMgQZcpG0EJ9BhBYbYZQdabGUGOZhpBvrkZQTN7FkHnKxpBlcAdQcfjHEG+lRxBXmQYQaaDH0GWThhBxpEeQZLQG0GXIhxB0wYhQURmGkGIaRxBQ94bQVUNHEHRTBtB618aQd4UGkHJ1xtBBZ4gQUlVIEHzuhlBhkUaQZBbG0Gl9xdBi+UaQXnRGEE4xBtBaPEbQU3aFkGC+hhBSPQWQWp9HUG7bRxBxpMbQQRjHUH7XhxBL/IYQTFjF0HnWyBBu5YbQUa6GEFDDxhB/Z0YQZgEG0Eh/xtBt5wbQV15GUFvuhpBup4YQYGUGUEpchlBvscYQSRaGUH3MRdBFdIYQYPUGEGCQhhBR1gRQUELHkFrkxtBPnIdQS6yGkEkuSBBL5EWQQfOEkHaqhRB2OITQQy/GUHPbBpBIz4fQdJIF0E=",
          "dtype": "f4"
         },
         "yaxis": "y"
        },
        {
         "hovertemplate": "label=8<br>UMAP1=%{x}<br>UMAP2=%{y}<extra></extra>",
         "legendgroup": "8",
         "marker": {
          "color": "#FF97FF",
          "symbol": "circle"
         },
         "mode": "markers",
         "name": "8",
         "showlegend": true,
         "type": "scattergl",
         "x": {
          "bdata": "nPkHwKcn+r89qfm/DvXuv4JiBMATB9u/1DPsv1Pg8r/USea/NInav/l90b+x5ui/rRrRvyqP/7/nbgLAeRDSvy258b/judW/NJT7v76RAcB7A7i/82nRv0Jk27/mxda/812kvy2t6L+ONw7AVx/rv/5+5r+zDQnAFAoHwI+eEcC4gA/Acsj8v4lfBsDYhyrAMeMFwHNO579+WgPAwkAAwHsfBMDO3QfAoXsOwKq2CMDB0wbASQAPwJOsGcCM/gLA6ob8v9jTCsC5EwjAmVaQv/AjoL8Y06y/3wuVv3v6mb+mE5e/FlORv6ocl7+jpKS/vpyPv/32lr/KYpO/nxGTv1nWEMAkzQTArpAPwHtmDMAcHQrAjGQBwFngEMCpIwXA2szNv9YvD8D0sQHAu1UMwMxB/L8VrB7AG3o2POBy3r8KXA/A5w0IwGwq97/aJtK/8qoZwHdK6b9i+PW/rnE7wDww8r8vyPK/4fQTwJXzHcDZkh7ASLcYwNA2D8DcuB/ABcEOwA7fCsCqsyHAlR0TwKVpFMAL8vi/EXIJwOVqH8CrDiLAoYD1vzVaDcD6dyLAJIMXwLR397+e4irAiPkWwE2TGsAruR7A/UA+wCz78b80A/W/mrzvv9/C87+BNsW/wdDtv1KGAsCpIkHA37ztvw5PAsCTUgDAbu4CwJqe7r9jJi7AU6Hev29G6L+Q3di/chLlv+l76L8MKQDA1skCwCVq2r/sT+K/3xT7v2CiDcDX1wzA/tYTwJAgAsDqVwfA4QXeu///CMBuRQTA+N72v1DP9b+XGvq/Gxnov3Er/b/e84e/5ETevytXuL96ta+/KQLqv99Zv789nLO/pHnLvw57xb86ZRLAbtIOwHzyDcC5wAjAz6b+v+AS7b/GxwTAe8rxv7PeDcCVHPG/rSXZv9fXz78REg/A",
          "dtype": "f4"
         },
         "xaxis": "x",
         "y": {
          "bdata": "WI4aQVPKFUHUdRVBlU8XQYsKF0HVqhJBWJQXQZf+F0E7dBJBTNgOQbFnDEHHihNBhoEDQYMpGUFBUR5BAiYQQRjMFkHO/ghB8W4YQSJYEEHu4BRBjnAMQdiTEUF5pw9BM6YSQV0eF0F97ydB67kfQcMKH0EOTB9BX2QiQRiFKkEWcyhBcAcdQWX3IUGVSjFB0uUlQRgZH0HxGSdB02IYQWTJKkE9kiRBFbUkQdNrLEHnhSRBxwInQRA5LUEGkxxBu50cQSdMJ0HhHidBU98RQQ2xE0FV2BZBD0wTQe1EFEFI/hNBAgQUQUV6E0GtzBVBMuESQdXwE0GBxRNBnY4TQfeVJEEtaR9BxpglQUUzIkGKcyRBQzogQQKTKEH1iRpBaRISQa/aKEEofRNBRTojQbzbHUHAzxBBvhIEQT/BEUHpFipBhNArQci7KkGnghhBuwISQZuJKEHI0SlBwy8yQaSMJ0G3LgdBjvQlQduIJkGT0iVBy2kmQTLMJEFGxilBGy4oQY8YK0HDmCZBPVIqQWiuJ0Eclh9B7sYaQa77HEFNlR9BbLAYQTwxGkHD0h9BSH0fQQirH0GbqiBBSbwdQShHGUH+QRtBzYktQY6KF0FtpRZB+V4fQamrGEHrVSFB8qkfQWNYF0HgXB1BKv0VQb2vF0EakBZBn0oXQdp/F0FKGxdB+d0VQZbLE0ElEhFBOUUXQWLME0E6exVB1hwWQdw5D0ELfxdBewwXQRGNK0EPVitBL5QqQf3jKEGCzyhBD3oLQa+uK0GrcCtBqAIrQQTqKUH1WSlB8yYqQQfnJ0EEQgZBt24TQU7EEUEUABRB7HMXQVdGE0FOJhRBs+sRQfQsE0E30hpBBToaQUB6GUEIQCFBm9oeQYkDH0FQsRhB6y4WQbe2GEFjlhBBHYYMQWaIEEE+fRtB",
          "dtype": "f4"
         },
         "yaxis": "y"
        },
        {
         "hovertemplate": "label=9<br>UMAP1=%{x}<br>UMAP2=%{y}<extra></extra>",
         "legendgroup": "9",
         "marker": {
          "color": "#FECB52",
          "symbol": "circle"
         },
         "mode": "markers",
         "name": "9",
         "showlegend": true,
         "type": "scattergl",
         "x": {
          "bdata": "Rqk1wFEHRMAjb0bAcsxGwPADOsAVPS7A+RvIv/r/RMBFyzfAQflKwHf8RsAuLyfA39ohwH5DQsCa0UDAm8NAwDSbS8CpcUbADMFEwCg3PsDoxyLAT6IhwHOaSMB+9ifAw5sRwFt1y7+U1Ma/aEsuwJvqQcCWuBDAyZAiwCkNuL/4yMy/Zk7Fv9g9wb8DJzM+dJGPPk0jwL8k5SHAhCdEwMAIQcDG9C7AbqAowIUhLsCq5SfAp2UowIXyK8CMpy/AWiAnwBNdE8AnPSvASCMbwAh6F8BnGibA/k3vv270GsDgrRzAKYETwJP9EsC17BnAxmkbwHDAM8BMUhLAyo5CwCHrND8o148+2NeFPhMxkD7Zd4A+dVSSPvRniT4qsHA+lGONPmv9lz4Q+aA+4REmP2wNbT7HsDjA3noPwKZnQ8BkJBzAJFQnwC4gFsBO7ETADgsqwD3AGcCTzD7AEwQbwApjE8CaZC3AfkM9wNepL8DoPDbAkoQowNOlKMBJ6TzAuyU9wJ/ePMDZlj/AVvYtwFgzLsAPUCfAvlEtwF8yVsDI2CrA0AUEwJ9iD8A1RDPAbmAMwG+cIcCeDei/TVQ3wEAELcDSUDjAizowwAIYKMD6FibAVEUBQAV8IsCWaCXASA0gwBhhHsDYv0DA2dQbwBeAGcBC3h7AlGMcwGgJM8BzHhHA2IYwwFp8JcAcKiDAtWYnwF3sLcBxsBXAYbFAwN5mKsCJCjbAeq8awJt2GsDq2hTAO0QywG7aMcA5xzDA22UxwP1FLsC7bznA9ik4wADMMsAM5yvA2u04wBtMJ8CF9SfANSsdwFBCij5WFjw+J72mwBKKcz63QLK/pxE3v6VrVT7ygEDAknG2v8TtS8BwV1HAPs4Rv5Yetr91NS/AxGYmwHCyP8AdsjHAN6sswPMuLcCz7CrASIgywChRKMC8ASPAcvpEwHboMcBARBHA",
          "dtype": "f4"
         },
         "xaxis": "x",
         "y": {
          "bdata": "ctk/QVGbQEF74j9B2lJBQT/mOUHeYkRBK4YfQWmeQUEqR0ZBT0FDQVLxQ0E3uTlBLRJBQZ4GREHA0UJBn8NCQUboQkE9l0RBYEhEQSh1QEFMOEFBxWZBQZIJQUGHoEFB09k4QW9zKEEBUShBE+9GQT6yREG/Kz1BWQlCQVMHKUEiqydBnf4nQSw0KEFsHRFBRkwPQZ+4KEHpCkJB7BZDQanuREFAskJBIWBAQcTyQkHStkNB+V1AQZ1jQUHztz9BMipBQfFUP0FB00JBAdw8QR4hPkHtoD5B2r4eQeKEQUG4VzlB0NRBQdV+P0FZqztBUKE6QacEQ0FmBUVBv8FFQbK2EEG2ww5BGm4PQQrBDkGa7gxB9W4OQaA0D0EDbAlBZfAMQe0gD0EsnxBB8UsQQTYKEEGlzENB09k+QdOeRUHT7UBBEXQ2QR8uQ0Gkp0RBd7VDQegaQUFcV0ZB7wNBQR36QEFUBkdBY51BQSCoQkF8IUNB94tHQaPxQkGjJENB2RVDQd1JQkHwDkNB0qJEQTn5RkEGqD9BWqZDQebtN0GjIT1By61AQRWDOkFoZTxBtW08Qe6LPEE4kSJBWrk9QXtsQUFk6jtB8Wc7QSjtOkG2aENB0X+oQCZ5Q0EgwURB72ZGQSwbQkFLb0NBeZ1DQY5kQkGZV0VBtGRCQdlCR0Fhzj5BnPhDQV+uREEO4UVBlA1HQVghR0F83zxBzjlDQSaaREHfHUdBtdBGQaESR0G+AkdBjbBHQRAHSUF7c0VB84tGQQyPSEFz+kZBWNdDQZN4RUF8T0hByKpEQYaLR0GuOklBOYFJQYdaD0HhShFBHO8iQQLCD0HajChBzu8zQWBMEUH/90RBQ7YoQZmaREGVEStBSRY0QeOfKEHteEVB1/FDQRLNREEvzUVBZiFHQRPlRkEJdEVB8UFCQS+FRUGWFUVB7V9CQRCYRUHG6jhB",
          "dtype": "f4"
         },
         "yaxis": "y"
        }
       ],
       "layout": {
        "legend": {
         "title": {
          "text": "label"
         },
         "tracegroupgap": 0
        },
        "template": {
         "data": {
          "bar": [
           {
            "error_x": {
             "color": "#2a3f5f"
            },
            "error_y": {
             "color": "#2a3f5f"
            },
            "marker": {
             "line": {
              "color": "#E5ECF6",
              "width": 0.5
             },
             "pattern": {
              "fillmode": "overlay",
              "size": 10,
              "solidity": 0.2
             }
            },
            "type": "bar"
           }
          ],
          "barpolar": [
           {
            "marker": {
             "line": {
              "color": "#E5ECF6",
              "width": 0.5
             },
             "pattern": {
              "fillmode": "overlay",
              "size": 10,
              "solidity": 0.2
             }
            },
            "type": "barpolar"
           }
          ],
          "carpet": [
           {
            "aaxis": {
             "endlinecolor": "#2a3f5f",
             "gridcolor": "white",
             "linecolor": "white",
             "minorgridcolor": "white",
             "startlinecolor": "#2a3f5f"
            },
            "baxis": {
             "endlinecolor": "#2a3f5f",
             "gridcolor": "white",
             "linecolor": "white",
             "minorgridcolor": "white",
             "startlinecolor": "#2a3f5f"
            },
            "type": "carpet"
           }
          ],
          "choropleth": [
           {
            "colorbar": {
             "outlinewidth": 0,
             "ticks": ""
            },
            "type": "choropleth"
           }
          ],
          "contour": [
           {
            "colorbar": {
             "outlinewidth": 0,
             "ticks": ""
            },
            "colorscale": [
             [
              0,
              "#0d0887"
             ],
             [
              0.1111111111111111,
              "#46039f"
             ],
             [
              0.2222222222222222,
              "#7201a8"
             ],
             [
              0.3333333333333333,
              "#9c179e"
             ],
             [
              0.4444444444444444,
              "#bd3786"
             ],
             [
              0.5555555555555556,
              "#d8576b"
             ],
             [
              0.6666666666666666,
              "#ed7953"
             ],
             [
              0.7777777777777778,
              "#fb9f3a"
             ],
             [
              0.8888888888888888,
              "#fdca26"
             ],
             [
              1,
              "#f0f921"
             ]
            ],
            "type": "contour"
           }
          ],
          "contourcarpet": [
           {
            "colorbar": {
             "outlinewidth": 0,
             "ticks": ""
            },
            "type": "contourcarpet"
           }
          ],
          "heatmap": [
           {
            "colorbar": {
             "outlinewidth": 0,
             "ticks": ""
            },
            "colorscale": [
             [
              0,
              "#0d0887"
             ],
             [
              0.1111111111111111,
              "#46039f"
             ],
             [
              0.2222222222222222,
              "#7201a8"
             ],
             [
              0.3333333333333333,
              "#9c179e"
             ],
             [
              0.4444444444444444,
              "#bd3786"
             ],
             [
              0.5555555555555556,
              "#d8576b"
             ],
             [
              0.6666666666666666,
              "#ed7953"
             ],
             [
              0.7777777777777778,
              "#fb9f3a"
             ],
             [
              0.8888888888888888,
              "#fdca26"
             ],
             [
              1,
              "#f0f921"
             ]
            ],
            "type": "heatmap"
           }
          ],
          "histogram": [
           {
            "marker": {
             "pattern": {
              "fillmode": "overlay",
              "size": 10,
              "solidity": 0.2
             }
            },
            "type": "histogram"
           }
          ],
          "histogram2d": [
           {
            "colorbar": {
             "outlinewidth": 0,
             "ticks": ""
            },
            "colorscale": [
             [
              0,
              "#0d0887"
             ],
             [
              0.1111111111111111,
              "#46039f"
             ],
             [
              0.2222222222222222,
              "#7201a8"
             ],
             [
              0.3333333333333333,
              "#9c179e"
             ],
             [
              0.4444444444444444,
              "#bd3786"
             ],
             [
              0.5555555555555556,
              "#d8576b"
             ],
             [
              0.6666666666666666,
              "#ed7953"
             ],
             [
              0.7777777777777778,
              "#fb9f3a"
             ],
             [
              0.8888888888888888,
              "#fdca26"
             ],
             [
              1,
              "#f0f921"
             ]
            ],
            "type": "histogram2d"
           }
          ],
          "histogram2dcontour": [
           {
            "colorbar": {
             "outlinewidth": 0,
             "ticks": ""
            },
            "colorscale": [
             [
              0,
              "#0d0887"
             ],
             [
              0.1111111111111111,
              "#46039f"
             ],
             [
              0.2222222222222222,
              "#7201a8"
             ],
             [
              0.3333333333333333,
              "#9c179e"
             ],
             [
              0.4444444444444444,
              "#bd3786"
             ],
             [
              0.5555555555555556,
              "#d8576b"
             ],
             [
              0.6666666666666666,
              "#ed7953"
             ],
             [
              0.7777777777777778,
              "#fb9f3a"
             ],
             [
              0.8888888888888888,
              "#fdca26"
             ],
             [
              1,
              "#f0f921"
             ]
            ],
            "type": "histogram2dcontour"
           }
          ],
          "mesh3d": [
           {
            "colorbar": {
             "outlinewidth": 0,
             "ticks": ""
            },
            "type": "mesh3d"
           }
          ],
          "parcoords": [
           {
            "line": {
             "colorbar": {
              "outlinewidth": 0,
              "ticks": ""
             }
            },
            "type": "parcoords"
           }
          ],
          "pie": [
           {
            "automargin": true,
            "type": "pie"
           }
          ],
          "scatter": [
           {
            "fillpattern": {
             "fillmode": "overlay",
             "size": 10,
             "solidity": 0.2
            },
            "type": "scatter"
           }
          ],
          "scatter3d": [
           {
            "line": {
             "colorbar": {
              "outlinewidth": 0,
              "ticks": ""
             }
            },
            "marker": {
             "colorbar": {
              "outlinewidth": 0,
              "ticks": ""
             }
            },
            "type": "scatter3d"
           }
          ],
          "scattercarpet": [
           {
            "marker": {
             "colorbar": {
              "outlinewidth": 0,
              "ticks": ""
             }
            },
            "type": "scattercarpet"
           }
          ],
          "scattergeo": [
           {
            "marker": {
             "colorbar": {
              "outlinewidth": 0,
              "ticks": ""
             }
            },
            "type": "scattergeo"
           }
          ],
          "scattergl": [
           {
            "marker": {
             "colorbar": {
              "outlinewidth": 0,
              "ticks": ""
             }
            },
            "type": "scattergl"
           }
          ],
          "scattermap": [
           {
            "marker": {
             "colorbar": {
              "outlinewidth": 0,
              "ticks": ""
             }
            },
            "type": "scattermap"
           }
          ],
          "scattermapbox": [
           {
            "marker": {
             "colorbar": {
              "outlinewidth": 0,
              "ticks": ""
             }
            },
            "type": "scattermapbox"
           }
          ],
          "scatterpolar": [
           {
            "marker": {
             "colorbar": {
              "outlinewidth": 0,
              "ticks": ""
             }
            },
            "type": "scatterpolar"
           }
          ],
          "scatterpolargl": [
           {
            "marker": {
             "colorbar": {
              "outlinewidth": 0,
              "ticks": ""
             }
            },
            "type": "scatterpolargl"
           }
          ],
          "scatterternary": [
           {
            "marker": {
             "colorbar": {
              "outlinewidth": 0,
              "ticks": ""
             }
            },
            "type": "scatterternary"
           }
          ],
          "surface": [
           {
            "colorbar": {
             "outlinewidth": 0,
             "ticks": ""
            },
            "colorscale": [
             [
              0,
              "#0d0887"
             ],
             [
              0.1111111111111111,
              "#46039f"
             ],
             [
              0.2222222222222222,
              "#7201a8"
             ],
             [
              0.3333333333333333,
              "#9c179e"
             ],
             [
              0.4444444444444444,
              "#bd3786"
             ],
             [
              0.5555555555555556,
              "#d8576b"
             ],
             [
              0.6666666666666666,
              "#ed7953"
             ],
             [
              0.7777777777777778,
              "#fb9f3a"
             ],
             [
              0.8888888888888888,
              "#fdca26"
             ],
             [
              1,
              "#f0f921"
             ]
            ],
            "type": "surface"
           }
          ],
          "table": [
           {
            "cells": {
             "fill": {
              "color": "#EBF0F8"
             },
             "line": {
              "color": "white"
             }
            },
            "header": {
             "fill": {
              "color": "#C8D4E3"
             },
             "line": {
              "color": "white"
             }
            },
            "type": "table"
           }
          ]
         },
         "layout": {
          "annotationdefaults": {
           "arrowcolor": "#2a3f5f",
           "arrowhead": 0,
           "arrowwidth": 1
          },
          "autotypenumbers": "strict",
          "coloraxis": {
           "colorbar": {
            "outlinewidth": 0,
            "ticks": ""
           }
          },
          "colorscale": {
           "diverging": [
            [
             0,
             "#8e0152"
            ],
            [
             0.1,
             "#c51b7d"
            ],
            [
             0.2,
             "#de77ae"
            ],
            [
             0.3,
             "#f1b6da"
            ],
            [
             0.4,
             "#fde0ef"
            ],
            [
             0.5,
             "#f7f7f7"
            ],
            [
             0.6,
             "#e6f5d0"
            ],
            [
             0.7,
             "#b8e186"
            ],
            [
             0.8,
             "#7fbc41"
            ],
            [
             0.9,
             "#4d9221"
            ],
            [
             1,
             "#276419"
            ]
           ],
           "sequential": [
            [
             0,
             "#0d0887"
            ],
            [
             0.1111111111111111,
             "#46039f"
            ],
            [
             0.2222222222222222,
             "#7201a8"
            ],
            [
             0.3333333333333333,
             "#9c179e"
            ],
            [
             0.4444444444444444,
             "#bd3786"
            ],
            [
             0.5555555555555556,
             "#d8576b"
            ],
            [
             0.6666666666666666,
             "#ed7953"
            ],
            [
             0.7777777777777778,
             "#fb9f3a"
            ],
            [
             0.8888888888888888,
             "#fdca26"
            ],
            [
             1,
             "#f0f921"
            ]
           ],
           "sequentialminus": [
            [
             0,
             "#0d0887"
            ],
            [
             0.1111111111111111,
             "#46039f"
            ],
            [
             0.2222222222222222,
             "#7201a8"
            ],
            [
             0.3333333333333333,
             "#9c179e"
            ],
            [
             0.4444444444444444,
             "#bd3786"
            ],
            [
             0.5555555555555556,
             "#d8576b"
            ],
            [
             0.6666666666666666,
             "#ed7953"
            ],
            [
             0.7777777777777778,
             "#fb9f3a"
            ],
            [
             0.8888888888888888,
             "#fdca26"
            ],
            [
             1,
             "#f0f921"
            ]
           ]
          },
          "colorway": [
           "#636efa",
           "#EF553B",
           "#00cc96",
           "#ab63fa",
           "#FFA15A",
           "#19d3f3",
           "#FF6692",
           "#B6E880",
           "#FF97FF",
           "#FECB52"
          ],
          "font": {
           "color": "#2a3f5f"
          },
          "geo": {
           "bgcolor": "white",
           "lakecolor": "white",
           "landcolor": "#E5ECF6",
           "showlakes": true,
           "showland": true,
           "subunitcolor": "white"
          },
          "hoverlabel": {
           "align": "left"
          },
          "hovermode": "closest",
          "mapbox": {
           "style": "light"
          },
          "paper_bgcolor": "white",
          "plot_bgcolor": "#E5ECF6",
          "polar": {
           "angularaxis": {
            "gridcolor": "white",
            "linecolor": "white",
            "ticks": ""
           },
           "bgcolor": "#E5ECF6",
           "radialaxis": {
            "gridcolor": "white",
            "linecolor": "white",
            "ticks": ""
           }
          },
          "scene": {
           "xaxis": {
            "backgroundcolor": "#E5ECF6",
            "gridcolor": "white",
            "gridwidth": 2,
            "linecolor": "white",
            "showbackground": true,
            "ticks": "",
            "zerolinecolor": "white"
           },
           "yaxis": {
            "backgroundcolor": "#E5ECF6",
            "gridcolor": "white",
            "gridwidth": 2,
            "linecolor": "white",
            "showbackground": true,
            "ticks": "",
            "zerolinecolor": "white"
           },
           "zaxis": {
            "backgroundcolor": "#E5ECF6",
            "gridcolor": "white",
            "gridwidth": 2,
            "linecolor": "white",
            "showbackground": true,
            "ticks": "",
            "zerolinecolor": "white"
           }
          },
          "shapedefaults": {
           "line": {
            "color": "#2a3f5f"
           }
          },
          "ternary": {
           "aaxis": {
            "gridcolor": "white",
            "linecolor": "white",
            "ticks": ""
           },
           "baxis": {
            "gridcolor": "white",
            "linecolor": "white",
            "ticks": ""
           },
           "bgcolor": "#E5ECF6",
           "caxis": {
            "gridcolor": "white",
            "linecolor": "white",
            "ticks": ""
           }
          },
          "title": {
           "x": 0.05
          },
          "xaxis": {
           "automargin": true,
           "gridcolor": "white",
           "linecolor": "white",
           "ticks": "",
           "title": {
            "standoff": 15
           },
           "zerolinecolor": "white",
           "zerolinewidth": 2
          },
          "yaxis": {
           "automargin": true,
           "gridcolor": "white",
           "linecolor": "white",
           "ticks": "",
           "title": {
            "standoff": 15
           },
           "zerolinecolor": "white",
           "zerolinewidth": 2
          }
         }
        },
        "title": {
         "text": "Visualización del Dataset Digits con UMAP n_neighbors= 200"
        },
        "xaxis": {
         "anchor": "y",
         "domain": [
          0,
          1
         ],
         "title": {
          "text": "UMAP1"
         }
        },
        "yaxis": {
         "anchor": "x",
         "domain": [
          0,
          1
         ],
         "title": {
          "text": "UMAP2"
         }
        }
       }
      }
     },
     "metadata": {},
     "output_type": "display_data"
    }
   ],
   "source": [
    "n_neighbors_list = [5, 15, 50,100,200]\n",
    "for n_neighbors_i in n_neighbors_list:\n",
    "    # Aplicamos UMAP. n_neighbors y min_dist son hiperparámetros clave.\n",
    "    reducer = umap.UMAP(n_neighbors=n_neighbors_i, min_dist=0.0, n_components=2)\n",
    "    X_umap = reducer.fit_transform(X_scaled)\n",
    "\n",
    "    # Creamos el DataFrame para Plotly\n",
    "    df_umap = pd.DataFrame(data=X_umap, columns=['UMAP1', 'UMAP2'])\n",
    "    df_umap['label'] = y.astype(str)\n",
    "\n",
    "    # Visualizamos\n",
    "    fig = px.scatter(df_umap, x='UMAP1', y='UMAP2', color='label',\n",
    "                    title='Visualización del Dataset Digits con UMAP n_neighbors= '+str(n_neighbors_i),\n",
    "                    labels={'color': 'Dígito'})\n",
    "    fig.show()"
   ]
  },
  {
   "cell_type": "markdown",
   "metadata": {},
   "source": [
    "### A medida que va aumento el número de veciones los cluster se van apiñando, esto es, estan mas cerca entre ellos, por lo tanto aquellos elementos que presentan confución se mezclan mas."
   ]
  },
  {
   "cell_type": "markdown",
   "metadata": {},
   "source": [
    "### 4.  **Visualización 3D:** Adapta el código de PCA, t-SNE y UMAP para reducir los datos a 3 componentes (`n_components=3`). Utiliza `plotly.express.scatter_3d` para crear visualizaciones tridimensionales. ¿Añade la tercera dimensión una mejor perspectiva?\n"
   ]
  },
  {
   "cell_type": "code",
   "execution_count": 41,
   "metadata": {},
   "outputs": [
    {
     "data": {
      "application/vnd.plotly.v1+json": {
       "config": {
        "plotlyServerURL": "https://plot.ly"
       },
       "data": [
        {
         "hovertemplate": "label=0<br>PC1=%{x}<br>PC2=%{y}<br>PC3=%{z}<extra></extra>",
         "legendgroup": "0",
         "marker": {
          "color": "#636efa",
          "symbol": "circle"
         },
         "mode": "markers",
         "name": "0",
         "scene": "scene",
         "showlegend": true,
         "type": "scatter3d",
         "x": {
          "bdata": "G4g0gJ6g/r8qsNAmswcLwJwkWW/kAwDAAiDNEDqA+L9WYSzm5NX7v7HvJop2kPm/jD9vC0I+979KmHHPnEgGwGqcpu8k3vW/mxIdnQ8Ypb+nn6A1T+3nv9+UPJ/xtP6/k7ZOWlkV/b8mD9+aPvL1v3/zmf0G1v2/YlWMbiJT8r/oD5WcgdsGwPcI/Xzd5/2/RFcS7rCY9b8B4Y4gefwFwPcU8EE0bQXAhfomEtfW+b9p8RRDpnAMwKlYgOer3QPAuXgCXAmq979LJKDLgwMCwBtUfTWLwQXAKLqppJ5s/79sOZUmN8fzv1kp7Te63QPAS1uhSqTv87+J8hw/v7v2v/fqVZ9xqPW/JQrT+cmb+b9miyjbNx71v5mMrGXOGQXAd+qwMaXG8L8/eiRzLPT3vyMyuUcIz/S/ttIKqf5Ksb8KSvCr1HX8v47tQDT6MP6/BxeC040cBcAsjr8LK7/tv8oM8E0Xyfm/euLbXL50/784vZpzPBHnv/mcjoiWpv6/xT+VhEsq/789iimUZkjev0U8RzaTcfq/JbUdENALAcCWGF6jQezyv1qE24yDGQHAkYVM4F258b+4hW9CIcD6v39lnwo1Sum/pLjqe4lh9L9R6szNK9jzv5iZJmjGUgnAalPuq7mi+L/MPnjycgvlvxtBqh/huPS/2+VSdMqe7b9kEDrZR835v59OSEuNXALAfcEn6gqc9r8QmIUSGnAHwAGaaShK/v+/NCINdU15/L+X9UVoFGcHwP1D2vOhJva/AyFuC9s9D8BGos/Bo+EKwINqv1QDnAPAs2NVNEgn/b+5re2qch76v5YabW3E4AHAViBQKgEq+L8e0zObaHf5v7lqfzMctwHAeGiRy3NhAsCCUdRnZN4CwOe/eBjM1QDAbui9J1yKCcBvX2TsfGf/v8Z+sOEAhgXA38gjl8VfCsAIHwm5d9Xwv3DzInQyVfG/D9XdEPd1B8DA9t7jUNrovzDs2NBOdd+/TPSVGFoo87+8uT9Mo0TnvzvABOqvSfW/mLrYiUoi2j+EJwydchzwv+wN4MRvF4S/NzlJ0IFS4r+KraJvklDhPxzvMSbXrv2/7SfJfjY3+r+pFq/EPvXgvxpvqN1um8G/ck14SMx2AMDmkpdQz136v/0ZdGufLOU/nHM0xsiF6b/XKEyOxmvmv2WzNlhSmALAclCYs09Y9b+HNYW2YaD1v9V7KJMzofG/38vjWqiv8b9e0HugNgQCwBNW96V5tv+/pqz7s2rv5r/DNkaDQ6gEwIVJ21WOCOm/FeQ6rEMYAMCg4qh+F47xvynTq/enCAHA7H9nIBsO779tC+WcEDj2v3PLRU6rM/O/WBTOkAi88r831cHrgojyvw4HISst9wXAhK3g/AIyAMD9FdHq8q3vv1ZPq5O8egHA4q7uEHO4BMBIWFH0E+gEwLtwXFcQvve/5hLK22nvAMDl9qCaTUvxv/nWkK9gzem/9te9eyp7/L/NAMVQqLUDwFY65NaS4uG/ZUDnvyfi5L9DEXmUXNz3vxMfKPH6ZfG/duHLKxjx87+mGd1hLSP6v+8zYe5i4uy/pI8fAjV1479yAmUb7nLxv4TPLc3VyuW/l7/9Cg6l/L+nR+rOLdPuvxDjML/vgvW/jqv0y3wSBcALp2l/zaf/vzdO7gIWxPq/LK1mr8vWBsDseAYSp/P2v2HsVwJPAQHAL4FTMRNe7b+rWrorHpQCwLg1isRHUArAMPvr1lw7AsCoa4baMd4JwOReDzgheAHAwkRckJZ06b9qW2dOROnnv8QHjF+krPO/Db9dmG2P879ibfSIyFkHwJVuHCxAD/W/JhR4caez/b+6J+c4i4v8vyWZppZLlPa/cPjI/7z/9b+cBGKMdLzWvzk4fNMAJfC/uMOCsshiA8A=",
          "dtype": "f8"
         },
         "y": {
          "bdata": "R+6+4EaL7r+k3pPaqrrfvwDstieuHfW//5hTHgWP+7/AyGZT6Drbv1p861259wXA3XGDHb+8B8CypaMRi8Xyv5GkfxW6egPAItdBweOdCsDK0SaOOVcIwEsDdyQYSQ7AAD5Yphl4BcBUkEpjF3YEwOBrBKchbPm/CH431GLSDcDJCWYS18/2v9w8YydSqPm/Dd8lS5QOCMB++aP0Q/P9vzJ84ZNU+wbAMXO+UW70BsCm06R7mEIBwAMSdHxU3wzA+Jq8z+KVBcBlEUcpvAwHwFI+2CRTbey/E5MCW+8yAsB7XiRYbRj2v7WO7VMkace/0QpQOkPGzb/8Gg19kk8EwCIy1L5IRgPAHr+N3/tU/L+vreIjwxz7vyGGq9cqqPq/UWGfDvQx9L80W+BQIcUHwOt40PJDHgnAhZTFl3H2CMCaTG3i1H8BwNEI6QtI0gPAJqNuj+hS8b8M8lgywmoAwKOVMAW7iArAttS69nUcAsDFl4+agCQEwAVxvfsA1Oa/2xIiQMVl/b+bs2aXnDEQwAONAL5/+wbA1z13tR+v+r/UKlzCl0n2vwmbfkXvmvm/kFU9QDBZ079JE15kpdfvv5j9FhTS1QHAGPH/YlDnAcB3166r02ALwMoSY/eQ+N+/8jzSW6s5/b+mTul3dkLjv6ja9eU41ey/Bqn80rSd0T+x3DeXjUX3v8nL6WZcI/6/Bww7VJeWxT9VD16O80T9v4Gaj85qPvW/fA1oyDOcAsBf8dW0O6wDwMbrZ0XBb9m/b+hesCl84L83WLeVE8L4v9lDs3VCO+2/pVtLE1O8A8DP4Kmm0L0DwJiXEQXL//G/ggNvfm4x8L8GOE/WaXv9v5rzwcbCt+a/DYu7ogHdA8BkLovfp038vxyGdJohDf2/5lOCSIeZ0r+hwdfgNhjuv8QgpV2Syfm/6pVxrS0g2b/JqRSqgIL+v4pXX2uOwfi/eReT+o91+79ZKMel1l0CwJFpKIUX1/+/I51IoyvvAcDCHqWROvH7v15lqiY6zQHATKIhPjzIAMDzNnpbz2/xv4YIGutnZgnAMInHCqEX/b+oSdasKy4AwPNw+MrHvfe/GgB+MzLyBsA9/c0MuI0MwNuuWfjZFAbA6EWsivi/DMDQIJ6yRfgKwHjqCDSIGg3AuEFU0mWuBsAv3bOW00D/v1/PMM2ZRwvAqsZR58RrEMDviORnHLz5v5D+TaHm+QrAJ0R0yCoC/L/TcGc1UPbuv/+zOrgDvfa//sJPT7htvj/PFeBUfT/kv/DbP08Bwua/FtvloXLU0r8cyX/84zbfv6S/Yw8Zm5u/abFV6p923z8lEH1lMeyhPxO1M4JV7/+/lFAdBUT/8j9oAdtm71EKwP7YEDFCeQPA4iRl5F6sC8DMuNeHkekNwPcyliOk7uy/ttf8ehVUB8Au48V/G6sEwBT4Uc7ioPq/nPEQVRN39L9uTj+op8D4v2nuhEzHqwXAPbLikxdBBcDVC2tI7KH5v3El7nsqafm/q9rOLjAu/L+zwETLGTL5v4iN7prDnAXAH0q2nxpiBcAgXie7h1QCwBD4w6kZdwHAVTT+h+tzDMDzYQYHMFMDwEnqr95oFQzAhiE1LwHz+79iNkPB64oIwPlt+xi3Yvm/6qZqgsArA8Dnl0yhp1YEwAX/tbifePu/k3BnCTtW4b/DmzxAKzYGwKC6qtpPPwDAeOqoQyWU1r9FQAPSn+wHwKoboxZ7gAPAYwKJNXypCMCNzeYR3P79v69NCBe5NPG/E5yFj5vJA8BOLGb1VSkGwL6k9m0DvAjABY+7YwwLAsDG8mvAXAQCwOOl7ZCnmf+/KlKlJwsSAcB7wvMLOEf1vxhtdPqL8/u/wj8M0deo97/kJpA/kY0CwB/oLQSEmwrAfmrtQq/f9r8=",
          "dtype": "f8"
         },
         "z": {
          "bdata": "mWI5tHqRD8BNGiUgRj8CwI9lfeRNkQTAyXpA6SWsEcBzNOQr3VECwIXOmrTf/AHAZNnVb/iTAsAoyLQidUH7v5uFtrUXZAHAL1Z4eeDJB8DBK87Sm6YKwK/T6yb5Xve/JaKcv8a1AMCyydyzjOAHwEnul9JjgwbAig0gABN3/7+tf0bqEhAKwNsudkmjYQzAf9h9grv0CsAW3DZr2TDxvwt2mEGZOwPAExlQlPvqB8BBYeYRyg/3v+GZ3l67jfe/Zvp4b7cSDsD814xy7/cDwCQozIul/wXAfM7jlfLxBcB1aa4VYC8HwK+ZhwDuWwjA8gZx8XEVD8AvrobxPzECwH5hx8f6rAzAXiZt92r0CcAGI7X+FPoEwCd1rvtwIw3AwPTn/Uw7A8CpmX997M4BwCclUpFd+gTArspu7+kiDsBgjYRCg7YQwPVwy+AROgjA4u8M6EaQAsB1W4xecisNwM/e8KxBowvAzJGj/6flBMAwEDrD6NARwLurDCREigvAJsS4ecPWEMAchr0LTo0IwMXFnXvTAATAVw5u/5X7DMBXePgRYyUPwDiGgQvKEAvAPPNEadsGEcDNohJndGsNwHy9JAaIBRHA7aNq8/JPC8CrEl9GjcYUwNhfK0zhIgrAHC/u28qA/78xhOhy6WAQwE5q6y7sLgrAP9Wcw9gvE8CDZlQ11ewRwGPQRzOhgg3AaUQ9GbatAsCfZrMhCAIKwF5WESFFIwHAJkCb2KBwDsCarrcZslEDwC42Y7bPmgDAwyLbFKQ76L9+jGaHK4IDwCQzLjNqvQbAF1GbN84ABsA8qcTfzwMGwK9v02xI7gLAYBtVqaX0DsCSGmtX+ccVwAa0wcjUKQXAmr6kdhWVC8BFcenBg9cKwKhpmvvhjwPAxAK1OXqxBsAT1VdRKLgOwBazsvXI6AXAeXeCgLRj+7+HPDaBwYcNwLobRB126g/ATd1q5MghBcA3W6wlb1sQwHbUT6d0Lw7AL12cKwCLC8BWeCgaEIIRwDi1YXc3qQ7AJBIJobdaE8DdFc+lNN8OwBzCy8jiPgzAkMgfQ6jTEcC5h5ONxLEQwAM2MwUurgrADZDwsE6KDMAmG2KdJ/ECwF0yB2YoKg3AM9IH6+N8BMCaJacyNOT3vxIcjxcvkgDArZJzPVobE8DIiRPvLfwMwHCZ3tjlrg/Al1Gk95mtEsBhgHZrALwLwFRLi6oYiA3AQaK+KU6PC8AQh1HHI5cIwMHq397FDwPAmJUdyIsLA8ALAddbYxMSwGPsyDGovxPAvrOxBARPEcAf2IEaYTcIwLAe/pMK5QPAO/fd1WdQB8BY5qANjrUMwDIq1GajlgDAV+/z3ebMA8BpirKJ350GwJ+XCS029wPAy3pF+xmuCMAEoCBMwS8TwNQr7HiZm/O/Q+K+vL6uC8A+FAuZEVEKwK2AGlbGIxPA9T4axKyiA8ADFvisa9cOwL8lcH31xQrAfJ6Mzw3iCcAlEUx4d4j9vxzOH6KIFQ7AD4V4Pi03CMBUNXJP7uEGwKEGJjIjGQXA9gkzcqVxB8DZ2J2OpPIJwG33UC9RuwfAi0Gs7OvdEsBMOecug64TwMmxwb7sfRLAn6jQRm9ZCMCGYcaJ9H4GwF+FWva3wgrAo2v8HQBoCMC5xlIclJUFwE96mddhqvu/PjiSzGxr8z+fmwdKpA8GwMLRmPeBd9M/wMhJReu2AcB4H4HiGbPyv2Z5+VgCt9K/G7shj/FuEsCQABecYOr+v3L7KOz39QjAPKGsYMf2CMAGXD7FqKQHwLutySn2ZgDAzY0lckiUC8BsPHL7Nk4BwB15W8TMlgbALrOXnSFFB8C+zTMiPKPxv4c8LrcaqwPA1GM0/1lzA8AL5h6xIckBwPPXLcCJs+K/P4Z7p6lcCMA=",
          "dtype": "f8"
         }
        },
        {
         "hovertemplate": "label=1<br>PC1=%{x}<br>PC2=%{y}<br>PC3=%{z}<extra></extra>",
         "legendgroup": "1",
         "marker": {
          "color": "#EF553B",
          "symbol": "circle"
         },
         "mode": "markers",
         "name": "1",
         "scene": "scene",
         "showlegend": true,
         "type": "scatter3d",
         "x": {
          "bdata": "iNq+Ru3Y4r/pNETKuoEAwDBS2lc4Hvu/BbQnuv7Y/7+rIkYfnib9vx0qmgWrygPA6ZotWT8lAsAb2qMEhUz1v9LCtz1hf/6/UskBHoPR/79TyU8ohMX5v1QHhSzFwvS/4rfJNHh//b/ie5xuJNULwETplvpbGwrAMD3NzsTJBMCFw2vmiWIKwMQNvqOn5gvAFGkYb8JhBsBOqxF2R70EwCzw4RuGjArAcn/MHtuQ/L93wMnO3owHwOQZpEF6YATAzByZSYnABMDgh9RVTQ4QwJh8UA9OxNa/753XfGAs+b+yQTtpxfL/v9HG2o8BQto/YvyzjjAd4b/IkEUbkwkEwCW91OcRaKq/fkKDbItJ6L/h64N4CUTjv16A8Qn8nuO/B7mqs4VZ1j81ZjTD37LTP+vvQibiocM/jGLqM2MwAsAUjjLmS671v9+xbIgqZQbA96u9STGO/7+594H5ITXzvylPx8wgefs/2FKqr2zp+798w/Ovctf2v2HZtMR+aQHABFH4GM169L+gpDmIFxr4vxWqmxNz//G/YCGXx9vWA8B2Ai8KrjIFQDNbKeNqzAJA+JwtMwKuA0CaCFLE6Yf/P/2099p8EO4/niiaCFS+/j8wsThwX+HpP8X32GS8Xvk/d4cWSz+3/D8CKAJ3+ST0P7QjohWveARARVeN/Gps1z/G99PbSwT3PwNPF1mL2OG/ffcik4lzwD+9qMQZpVXmv39I6M4OQPq/qJOaP9aq/r/tE4eni2qfP0OuVK0TE/m/TDvaB/dP6L/DNYpYnsC5P2bfIDea3cg/dGIZnyUg7b/1LBtpo7QAwHP0emLp7fa/UR6bYWwy8D+pS6gXP2TlPyJujDb8hpS/Q73rOH3267/gj5fpFg/jP17pBdgFTAlAGQj4hZj7wD/y0JQStXb6P2WMTb4qtba/J4PDmQz1wz/P1aQST7vSPww612vt3uQ/G4mMXTEe97/0bZHuGegDQJws5XSAjwtAzMYn82198T+56h+e3gQDQPzUTlswuQVAb5er/z4NAUBNM2zvJ6oDQBiH3kacXgRAPbd4dM/3AkDzIBh5bBIGQAIThddPl/g/eelwZFEqAEDPRRNeEtwDQOmPtly/0+i/4t4n1t7K0b+H4PYK/S7VP5dNTOUDZrg/YZ3tTDTjx7/zfScMgJX0vw+Nc/KMLdU//8FA3LFcwj9v5P89z5XhP+eCZdWT5Og/Py90EogOx7+6OThodWDcv3RVprPLcdQ/Vvw0mS9a/b8qXbyoTi4FwFh9lVGf5NG/ug1IB71l3D9F220WWhzyv10kw8T6jdQ/aysJljkE5T86kR0Co/HjP2iBPemsguE/Neu71qsk0D/s4u+8DMZrvyjKt9tKGFg/dczZi2He2j8eFUwF+K0BwFNFqpziueS/JqmmzuuABcCzb2uyJEWgPyvBmmL3iuI/tTozP6PJBsC+FllYUBnlP7QGv5L0fQHAPMnP/YbF3T9Cui+nhODiP1V1PZb9quM/vSHrUKal2D8v2E2woXm3PyKEHP4a4/W/eZZPSzkK/L+SpFuvUTj/v41lv2SPiQbAD0i7M9GEAsA55IcV9pv0vxDAgVUY/v2/dmT7iHM7A8DmA+RBY931v6CT38y39v2/h8N8r1CR+r+Khx3kKM0EwEAMZZ9nZQDALEjAFcBj47/OqSb5wgLfP6hpbXo9PvC/fWuS/RkAwj8ZB4XxcWCgP+IjpcddqvG/WYSand7917/ZqXFbiDG6v2lcG7RAN8Q/Hzr97z3Wwb+dH2NCG+ehPwt84+cpSrg/10mGNmo8or+GgCtZSzDOP6naRZ1pbQDAfdBEzOfMwT+aP7lay65yPzre+jNMOOK/WCD6CnaX0T8dSox9fQucP4KQX1WNbfG/EXmVd94i4r+mbpXIxTnEP36NbKaxU++/GWO0lD0Z9L9KPD6yG2rovw==",
          "dtype": "f8"
         },
         "y": {
          "bdata": "Jiok0Z2W7T+TP2h5KCIAQElB1KRkmgBARtxWIb7a9T/QgxwPOwj5P513ayA82v8/4NzdWX2O7z+vhaljX8YEQN5SelKQowBAk5hLpFUFBEBLWtJRTl7rP+XLuafMRMS/E0IDwxmyAEBneicKtc4HQGCj3Hlb5wdATyHzAzY7BkAPeiaKJSAGQGW4zaTV/P8/SRNXP0UDBUB3P37ux4v4Pz+51jfGUAhAZbQQDQEbAEBS6aXF4SsEQM9VTeQkC/w/kJmkcMwgA0CuwMrIduUFQL/1pp2AtuY/CSJtOnfA+D/XOJtPzgTwP5HqAt2Jo9a/V0qW+9UFhL9zWeJ6HmoAQJOwEJdBtNU/wqbQSSgM/T+p7sZCI6P0Pws6/AxCR+4/XTCBXSKEr78znhZvDu75P+xMwX88bN+/WM40Bafn+z+EU2Jq7Z/zP8nl4hjalPw/0GyZw28n8z/DE6FgddXjP6jSP/weNwHA/7AyCvYP+j8xXW7+/y7tP31aqKSuX90/SzBZXENM9j8MVxC7TbcAQP4BfHZCh9o/OijJmuRz9D/ogC3nnbMLwIIWGoTq7QXAzNpNVSaYCMBy/uChYG8PwMNFGpdkDBDA7oGiQWhoDsBc526f8tcSwLjlczhSNg/A1gC0FBImC8Cn5qhkzPMMwChligXo+w7AJe64/ECl2b+cV9irXNYDwNrU8cQdNwBAg4nFC//Lbj/ZLd18axbtv9eOQB1Wog1AsrWhdDJvCEAMlT6o8fkAQAq9F12txdQ/aq9VzcK8CUAjWQK7bmb1P2vEyJ7mCuk/drUqU1n/7T+sS9E7sVj7P8PdCphvAARA6z/o9Pwa9j/11k/7L234P3ibfZoY+f8/hq7mQwwF4r/7gv9xwMHiPybSgDUiWQbAewJJJsGmAEANVKTqCBXsv6Z/BKf06uU/rDFTT/Xl9j+inrYDAj/tP3g8USvenfQ/AOHGOSUoDED8dV6Yt0sEwGP4WvXbRQXA+QvzShZQBMC+AcCseoILwFYqvBsbOAzAeC0fn1kGCsBnCF2LAfUGwO44qgoHdwvASKZDUGEpBsDE0Ux+/58HwLDVwDrFCgHAaB69u0HcCMDCl0mGToAJwFhP+5uQrf8/dXOA+eWz2z8iH4xtKf3mP0EFPrQcJ+w/cR9koVJy4D+CHtL8j0Pav0Nazxf+AvE/mHBCaQpd0j/vFOcJ+/7vP5YxRQbsqfw/WpFbqZ858j8N4xjXZBzGv57uBfnektU/gGY9lgU79z/gP3HGCbPzP4In7sjGIdI/50/7WHH+8z/ZBO/WUI/0Pw5aqVaPRfQ/NmkCjuuiob+ollSHyiH2P56+1p6cF/s/nc9u9tRr6z82s8vVSnLSP7zV6wky3uu/HSts9EWO+b8B8wBbH67zP9KP73M9XOg/AdqtH0JJ8z8xoSzX9zHmP7QWgoo9OvE/aqRmG3us5z+41Z9pE7bxPzgS8jRjcfA/XJg1Cmwv6z+miqhlPH35P+2OoO/0SNM/tukl7S9r2z+GpFgICJi/P1z1UflTGvY/PQIEzNrJ8D9A0gQmScDzP85Ss3D/mOs/edwmvNuz8D9hgCj5fomsvxITfu7W3OE/R2nzX18j7D/0PwErAg36P3gc+4qTg+0/WNnjmJdf9D+P5kSohAHvP4BZcADe1QNAKQHGLmae9j9gAef6puzhPzC+X2wFyNq/o25aED6J8j8qIjqrA0XuP+KlAfCSpOI/ic8YQ/AF1j/q3wwuKHPhP3quj1qSr/I/GpupY9gR8T98HosOC/rvP+7HmRXbDvc/b/aCo4M09T86T/k6IFznv2IvwBHEZfE/PtViiPOp6b8BBM0nYonav1Y3FnGkMeg/DclPqVfI1j+BCPVXlrLtP0tDnHEdAdQ/lF7ZiVk3/z+Vn6fIPnb+P0PnD0HZYNa/dhVPn3MD3j8Rj6ksuZbkPw==",
          "dtype": "f8"
         },
         "z": {
          "bdata": "csBU6+VlD0CGAxyHyqX4Pyrp0bQDWuw/k4r4q2Nz9D8+9Lm7LgL2P9EgfQ5ngvI/3CKYYpfJAkDS6+DAXQ73PyF3HAPLQghAFUiHiJOk+D+VhJQ4jNcOQNTyjYnpfxRAZUw6bHeu5T9CiQtoLO4EwM2TaFPtmq8/OSRJPruE7789WWA2jmL5v44aVvGT3ALAqWfWNGiR0D+nERa717z4P7SR5iiH9OC/rujk3n8o7j8njcZ/qMz3v63iITrTFfo/9yshh5eJ6j8M4JoIFZzhP4hN17JxRBJAY39umeYnCkB6lfSdB1AOQBsSMWbhTBRAwGnsMq+1EUBcEqu795z2P+zG/KhafhJAdJp6OOjPEUDqF0Q0OooNQEjSeMxLuhJA7zHSwmALFEDzF7OIXqAQQPuZopQYjg1AvbJe5YB1+79McFM8dJb8P8TrBagy3+U/wKFu+a1bxz97CkmOEVn7P1VOhMBGsQdAJsqBu7tk7T8KQY00uncFQEd054AuzQhA5hikgmMX+T/K9aTxsk/1PwW7BuzNivM/WOkRj3RU0z9GSblhUwISQCQD7DJ9kA1AaxBQNbnrEEC92uqeThMTQOVklDQCyBNAsHFG+5WLEkA+LYTrFw8UQEqhdR/iLxRAKCPEqUZTEUAXqHX3qG0QQIM0maAGRBZAl3rtJoXUCkCrZKMh0EsPQMGTWh0bUxJAs63boIGWEEA+ILjiEccQQM5jPIvliwdA6Y3hx914BkDV2vvExSwMQHPN4drX4w1A2gMOjZOWCUAOvP+AHBcGQEB50mOUqApAjRpAyL+rDkAxndlwk6oMQOH1MkwdigxAwO0WseR3EkAAXQZl3mwIQKV+fBhShxBANgeGdpYNB0DLBBJCFUEPQFtPATgX0AdAimFF5Zd/CECHSpnufO8QQPLYca4c3g9AH7hyHU9aE0DAVCdMwU8SQB4qf0r5sBJAW1blulRrC0DizpB+d68OQPUftL36PQ5ABE30P4QICkC5jHkNXy8GQO8VDkLnWgdAT5eFlg17C0DGoA9AHPgMQNrSPEUo4g9AKnoJ6uH4DkAPH6Bq0agQQBk/3LimAQxA+zAtzGJfDEC4DABWEEMLQNVPl1knPgRAQLtu9IgLD0CHgwXTP1wUQP/6Hg8t+A1AoCTT5aueE0DkyjTHbdMNQEpIYjcKKBNAlujUoMeSEkC5lDc+bf8RQOhF2QfKxghA8ucrqpjLEUBcWtaL0NARQHTx1nx/lhNAA26DEk/4AkCYN6nHGvn6P7eRTzU0IQpAJKP4fTXVD0Cb1jLyt0sEQM3JvHd23RNAiolttUP8EEB6LsVRi/0SQEgKdqJ7HQNAtbLaLYauEkATAw7y34sSQNv/gcsgxgtAMLp1eKXyB0AVS5zeh07xv8oBNUwCRAlAYT9pD74w/r+cc8Oi5R4UQG32npiC8RNATqp3AbWJ1r8Evyjw/6oRQNuC81oDL/M/vsuEwABWDUBXwfncWBMRQF/HHxVjWxRAz66TO4J5E0DUwqsGK8ERQBaWR+jZhdG/Gl7P/Jsy87+nUvGhLYPdvyH8qmEsmwfA3YQ8LKl8BsDpq1iofTkBwCh3Y3w6FQTACHpOD09mDsBuOOfcB3Hwv89bXbTQheC/6c0FjX/q+78h+OE8F3EJwLz8URYeFAHA2HbKdvHmEUAL+nbI9lgOQNHlJr3yYw5A+720zfRSE0BX9J8w3NESQPRaiLbZLRJA/gXy+E5DFUB6zMdZEhIUQHER1KTjvhBA5BLJxq+MFEDsLbwR6kcUQIkzNxbB0hJAKqy+NPnKEUDN9sI/Z6wKQHrt95eggA5A0H6FbKJdDkAM6ogE/zUMQDFCWVc8pxFAkG2bIsa5DECjd5pZOI8MQAeQbX/O7gVAQf5jsbfqBEDmIyhU3HgLQEnLD7tzTBJAsnsOwYjSB0BvwsDiw/MIQA==",
          "dtype": "f8"
         }
        },
        {
         "hovertemplate": "label=2<br>PC1=%{x}<br>PC2=%{y}<br>PC3=%{z}<extra></extra>",
         "legendgroup": "2",
         "marker": {
          "color": "#00cc96",
          "symbol": "circle"
         },
         "mode": "markers",
         "name": "2",
         "scene": "scene",
         "showlegend": true,
         "type": "scatter3d",
         "x": {
          "bdata": "74EQ6CbV9L8DVI5z//3+P5Wlneqj6ghAf8ANrWzb5b8yoxnV/o4AwNl1WfZzOQnAHWLxH4+B978oEIrKhbT2v8D67FBW1gjA/lCvRBhuEECs8jU63u/4P9pPSkJNNu6/a6BuoIZM6D/X1qyW9j0UQF/qZVD2kgtAQuFg7XIQBUDkvDsqloAOQLLqg0shXg5A+OJIG4EsCEAan/o7P9UIQL9peTST7PU/lEidKYHaAUBZvn2AWgILQE2VEu9A3hBAOgemtpydEECQZpeT0vICQM4RbcZLOg1AfO1AxpmfEUD5EVH2hXETQJ86DCkbzxdARLEDw5eWCUCfIeqqmqAQQCRf6bfXwBdAFW0f2DPXE0BnTfwKo74WQOq1+UJmmRBAffQMz9kfDkAtLIWJS4gVQEUq+jhXARpA6bw8Tz7qC0AxFpp0fmICQH2MG++YuQhAXRMI/S3rD0DOysdXUVcMQEe8HCtZjw1AFN6xcYSnBUBrD1zJCuEGQAX3OTE/VA1AtEbCjdaoCUC4j8ZQZYIQQF8A6U6rWxFA/fcZ16JG4r8odd31GyzxP085Zn+oDgBAgEVxIJ+cAkA09sKUxYwLQH3CintTtwVA5rcABW2sDEBkybXF9IUGQHjowot6BxBAMgVHmbTuEUAbNtwLXr0QQANE5zUPjxFAl5oGUN6VFUC2JbV5pt4HQI+/cqSE5RFAP+GKnwBNCkCIs20/vNYNQLpMG86pPghAiY9D5HJbBkCoRUZpAjb2P0wYKxgnm/M/2SfM/ZT1BEC5/hJQd7ADQFFp0gAFThBAymRnyiiOCkDr/M79kT8KQMMvOs9ISQ5AbCQcsxUKFUCP0V/42ykbQNMBUH2WLxZAEitKQsJ1DkBtWHZrf5sRQN4Uhm+yDRNAHzEOi2BYEkBFD7IZ9tEVQKtlatTrVBRALpjzHwa1+j/nuWs888UXQBpg34CpUuq/P9ohsPTpDECGGuApoxAVQMIDtlTbvBdAn3Dqh1hrGEDf7xor2XEZQCcsA5P0DhFApAoqV0HUD0CgF6AbZDsSQHjDWX/iKRBAt5t0f+PNGUCke2ToZzIMQCX4eiCqGAhAmWTkxvC9GUDV6wbCpCIWQEJOGPakMQdAE88hWjT3EECZVB4bQKAMQJoV6oERCwxATt8zDoeXCkAjaQqSjpMNQHbNcCSn3xdARa9FRbOeGECRCwzH20sDQJg6/NOwEAVAohkE9/Y7GEDmf+RMgcASQD5OLCMG8RJAOpiHwAoiFEC6JtajKHoQQIlGMemTuhlAQR4G+r5MF0CFV74P9foXQHBpW/8Uqg1AK+hXn+MtE0AqyflF3oUTQO3RfKOQgBZA/MnM9y/9G0AVaMuY24z9Pyuu18CZqQJAUTnDDjbY9j/IcttmJX4FQN9U2jzggPc/qNnCIFsOAUAr70CZkyoDQHaBJtZWOhRAi2Tt8Tk36z+sRc05koUJQJwyvr7F8AVA7kYbdtHQCkC6Ndmx0tUPQIc+ZGF68hFAxnZ1uvvNFUAmsbSkhuYbQAGoivTS2RdAZHXq/ZzdEkDu71YA77IaQKK9VfOmrhRAhHtcqbuKF0BZ1X49n6gaQJ/N2NiYhRhAJVPyV/JqGkCUF9J8WmARQBjv6UfX4xNAR1p/GUyRAUDWd7jTvJTYP6hzvRPzrPc/ICxdSSYv5D+vhDjwjGYaQGYK03tAic4/f1WDtZOaE0AMVg2N3Hf6P7r4bC+plRRA+zb4TWN2B0A35gNxEzUBQBdRVybT3xJAxwVAdLsX/z+1eeCNCqAEQNIriYNxdw1ALnQu6R3KG0CUGJC6dQoWQHq+AQZz5xFAxs4o/RM/FUCYsrQNnvgTQOTIdTyJOwZAj7V6aSSNFEDcc19zihcRQKhixUBYGAlA",
          "dtype": "f8"
         },
         "y": {
          "bdata": "1n2eXdJM1L+8x6b8Pwv9vw+d5x6R8fC/nqRwN6Cz4T/JGXoskFjyP1SgnM2okPw/EYGOK5md0z+kdx9nixbrP49WT57XZgZAzQ8oXAUKCcAb25HLWqHzv7jE3e5fCOs/adA9Pl00xD95tE08ccX0vw/tOvlpvLK/GNEqul328j9PrEEeDVblv+ibkVXZ08y/jKj/iFkG/7+VYfRCsoT4vya3Ys6Wr/Y/AX9Jd4dfsb+pD4+xHhDyvwHJd8aYfgXAHIPvNlEpAMD7PghvmwvSvzdwaOU0s/O//lSxmYPQ97+j5sq+sV/qvxZQIzuvNfu/ct1OhauS4r+1tnu7q5DXvxoHE24YN/2/4IzChZsD47/xaBFvKerpvw+kJj1/v5C/2cI5Reox3b9HnZlZXQnpvxDo1LUGGPC/u5016JMs9b/uWM7qsjv+v0NpanXL7Pi/mLLDbH6rAsAiX9H9Eo3hv4XimRxiGuq/yV1ztF1y3b8itwWQHTb5v4En6B/l5/K/rnWRE9Ld/L8lTHg/c4L7v7r909yxhfO/52nfmwRP8z+g4a4ah/jqv4fuQ9V37uu/oc4ZotB9/b9jwg/NV5/iv7VP234uFgHAZEdHgMlW4b9y5rwpOOX5v9Dc+Q/mCADAJ5hmA3cl+r+uykLMeboOwE3d3xTSzQLAgHeaXBYOz79jwnLRVqD8v720o3DPduS/dCO+byjg8b/H3CG5Ue/bv4cr7TahB+I/ZmWsHZM40z9sJ6feZRn2P96rLo7BGuE/tKNP9tA39j9dxwSzDWLsvy0+2Rkkc/y/BTmH8F/J5j/+XBA7bq3UP3mmT8fL3bo//eRTeFvT57/qVXLV4231v/+5QiPLmPS/3cUev9sJsr99BqrBXLIFwL8mZG/2N+S/C6bFXyXY77+xm9jq0lH8vwaxmra0jQHAWon0pqdqAkCUrL47/Bn6v4C7oVujBw9AjXyTaMacmj/UatnY+nXtv4pYnwOD/QfAbQvV2tZ857//24l2xJXgv1Idq0+S7P6/yCY90so68b8Gy00lSVLzv1zWCA9Eb/i/30nY0+ep7r+zh0E+O33qvwqP5SYgQO2/pQ6hz7j66b+mFRVMPksDwD/9vm15LOq/sOCcfO298b+IM+2NvDbhP5D+1qPuOei/kKG8II5v8b8J9rdBsRfrP+fmHLav0v2/pywNEy/C+b/U5b0+9wX1v8+NPIR3cve/FL8n5IWA9b+wwtOhbzDmv+FDUCHMKvo/3ZFZui7b2j/nA5cwR5TRP235wtMfeOu/yqKOlwhMyb8IrUxfG9TfP/G9BYMBRvA/LIHXn6RU5T9Yfi0PbX36v72DX80SeNa/sP9IyyFT5j8DDoNmyK/aP9MrpS4aKgDA4NSUuAiR8D+W7/ndWV3zPwNxzmR5oMg/ATVAs7E26r87GUyE7EjGPwfSSjpRqbE/tqIDeA4i578h2CynYerwv6UOTCaDbOO/ony1vtJT5r8RONfUGNTkv5G+4L/63P+/iW/kMZxx/79g9BqFybn6v7D8nYAS9tE/Mxh37Wij6b/jpLkA2pxuP+p0tbaBKOG/5MVvoFhw578j5xXtzK3kv4cVZsGmofm/0xgbMSc+5L+ptPepOmjqP2aItS1BBNS/6g0HD5cr979IM5ICaq7qv1ZvPqwZ1dm//GanpEdE978+3O7DnZ7gv/EHJedDh+S/uNII0qBE+7/E63XHT/X7v4E9RHy/H/C/e+JtL7HSCMD4Ig+ErcfnP2aEC/HtEOm/ZyT/LSni4r9YsnQkdqriPylWUhV0jQTAWRT88lMj6L/1svJ/epX3v73Yp5i0CwXA9BlhJYKZ9D9Np+XFJvnfP5I11wo9+8s/DVtDfE10yL+F9XJthbH1v8nab2tSlva/",
          "dtype": "f8"
         },
         "z": {
          "bdata": "VNxgLckvCEB2Kh9FM2kGQAkiKL6pnANAXUcvskfc+D8lvLQIgFb5PyCF1x15Tfo/b8szHiHLB0BUCtn62pn9Pzvj/PUPUfY/WjbkraayA0A9Zijk/Q8IQAVsguZSXPg/3ILSzgRE6j+ybzho91wDQOvp/mzktABAc8wjrnif9T/TW5Amprj/P/5emizX7wNAYCR5UtKpBUCRMjFgugMFQNDZ8DWFLvQ/wXLJ6pTPBUBj+Ob8Q9wFQNytUazCBwNAQFfRNlK3AEDvKADGBtcDQA9OLOXG7vA/JGdbjCrK9z9pHpoc8JjtPygFGjUXL/E/z67HlqI88z80cHR9NSnyP+DGZ3eqevQ/qhIxoVeQ8T+sYFmk0s3qPwWpouhTXuU/ZBBtUvIw2j/lzE4SAkL9P4ZeXqb9SQJAKZ0hL2rUCEAu3zehamz9P3ZPkvFUHwBAwmzMj6zaBkDDeDHMD4P7P0B1zBeNKe8/tqgRgBk13D8yEp19QEILQKfU7PyISQFAEZxOVIkh/T/R+haFaBYAQGebg3nyEABAbAoexpcqBEALNKKBj7L8P2+XRO3SLvk/fWDu12U28z8tqnuKB8D3Px8cZlampwJAxTckb7Ru8T9YuYT7uFgAQJ/2D63NOAFAbN6en9s67T+UipObqn8FQLCV+YTKtwdA7nK7xCFs7j+49B5sswsDQOz3Sp51qvE/uUuSRvJR4z8uVOdjmx7BPxr4bk/gFtC/GTJR4ZMP4z8pC82kNxLBP786ewQt+s2/Vo3UQjcdxT/GjD3bQRb1P+4zc+nWze8/+37jZ+DL7D+Xv5KnyNjkP6aqjoFYu/E/d95bevpSAEBnjF9QzuoCQFSDc2geUwBAYDkHpnhS/z8UODqVkE78PzRhkeQhHABAKD3rEiTjA0CEMFKJLmoGQDHXQT29UQZAsHeExA383T8blmpDA+wEQBmCC2rN2vS/SfIB3ApN1z/TJvEDG64DQPvzMhNQk/4/rBUFCFy3/T94kLt6854EQKeBiGU+5QNAM0W2Z03nBUCHWeKEymDvP4VjN6IpPglAHFxPO040B0DJOq8BZQT3P2hu0TduxQFADf5X/kJtA0BG3QEcJVb8P/lyMkoFFv4/JfJjPH/K8D+VCu+8aaTsP8tqbTjLmvQ/VubeMiwj8j/afQ3KQ6zxv6YvHLJ/PANADx5S+GoLAEDC6YZMBfsIQAgb50opwQFAe36etkKr/j8r9jfmYRUCQDw0ysckfeo/i327JN/M5z/maBFzG9nwP/jXS0O5iP4/ziUgmN6E5D+b6ItF7J/rP25T8C6Q28Q/A3gPdIzhkj+ndEvOTNT0P1YA4h4xrvA/Kcv+Hwzv4z9OlqFpVlnpP9xOVlsHDQBAggAbyg771z/AGzFw53v0vyYsk1WRmAHAWQp1t5PZ6j/XLW22UyTlv7ADhgCUROk/twqa5COq/78grKyHDUD/P0iEiN7bcPS/RXgA2qfT7T9PvdD5EXjgP23PTiT4hP4/DwEUEAfc/z+MB/xIX7sCQHCI6qvOCABAY26G3gwQ/T8Vnsy0OGf+PwIWloc8BAFARHNANB+4A0CxwGjHi9/9P1daDdHLfgBADzB3VXix/z+YiRcev2PWPyh/xOwOYP8/Ma3nWebHBEAtArAQLHnhPxSNLH2Ywv0/TU56Wexb879oc9MJJS3+P++Dznj+V78/Qd4ybsWP9z8RyLZbGrn3P50vDwh5yQVAqPhoTBSGC0BsU7fTirHbv/gGDLt0VPw/1Yg9C6XwBUBpBh2930v8P3R/3JKyuvI/aIK1V8IQBkA8cnR/IhkCQJPsTUCenwRAI9pHNXJz/j++5sLXVkXuP9bE8iFguvc/+jH5N6/KAUDTufMWS3oIQNPiT8BK6AFA",
          "dtype": "f8"
         }
        },
        {
         "hovertemplate": "label=3<br>PC1=%{x}<br>PC2=%{y}<br>PC3=%{z}<extra></extra>",
         "legendgroup": "3",
         "marker": {
          "color": "#ab63fa",
          "symbol": "circle"
         },
         "mode": "markers",
         "name": "3",
         "scene": "scene",
         "showlegend": true,
         "type": "scatter3d",
         "x": {
          "bdata": "5boukYkqCECVEEVbihAKQKPwa/C8gvc/MEf5OJooBEBKX6/w7dAIQA+RpUquUwVAbZfyeZC+BEBs0mDaDocPQPxdsXnJegRAaQkTyKnQAkCz/0bPaEUSQL3a9G9eIwxA0I88CXR+EEA6ThFbrLcJQJWS2yMD7xJA7F9wB8TXAUBu3jyzYagJQAxc0j3wLg5AjlJmcLRXCkCepGUaM3D5P8jhzs0u2QxAgve46eEhCEAb+7axKD7+Pyjd1+Y4PQZAXPYAlhkV/j8hX/McdtfCv+1NvfZtFg1AxPW6GBuoAkAdIej8WxULQG1WBPN0JAZAoeHJRvBgE0BCH8nG3tf/P9zupyVvzxBAzFGhzFe9C0ArkybgBTAIQAJYz3eEwAlAt/CXiR9tEUCUorxymgoQQLRY/TLL0QRAOnGCSnRxDEDWUqL5lK/+PxiBsgSKxw1ALZ1b2rcowL+nZtzanLoKQB+WO+XTuvM/iDKgLRmc+j87PHwE7W/5P4sNgTbFI/0/nhxr1a8RAkD4SGYw/5UDQI7YnjzIvgtAUbv3YPzkEEA1bZgrYQr8PxOCXYoy4fQ/FIxv/I+NA0COlG9MsWMAQCJe3WxuWwJAvll/lLCRAkAueHrg/gD3P72VXbWTEus/rnFfEmYW7j+80/j33pQFQH7Rl3Ojr+o/qm9v8CKj4T+A/IkV+csGQCt8B1noGAJACFgOH5X99T9IQ+w4ukX9P55RukdnbQNA+e38uyGqxb/1qZKhvGn/PyJKCPUR5whAquDwc0ZvBEAmSvwmKRsJQLlIr3bytQBAWMowBw21BEDz/qxwcNvzP9g3K5DjXv0/HhKdYTQZC0CzZHzgTsAAQKf1h3Z1OA9AKPGyG39mD0BP/cVKg/sIQBQ9Kn21sAZAR6Vs6OU/BkArLY0hOKW7P6KtRhbATPE/JbQtgMBOBUCaVgq740YPQCLZEyg6jwRALJrTFWfbAEDxa4RgI7v/P1xlTojT2gFAuPEeG5vrAkA/1HzX++gOQPAPDjVD/QVAMhuKXzqYB0Af4XWf2OgCQD08uunGKe4/mrx1IFZNAUBzpEXhs2Pev23ekurXQAZAvu+JdkSqrj9oit4wrKMCQC3Jtft0VQRApMMQgG+bBkBuBPf4FGgLQKIlQHz2iAhAg/FnJqODBkAvSJhZYmsVQNyDr0RB4QhA6kfpyVmfEkA5cinexcwRQJdIfq3UxRBAqbCkM90GEECe4Clvtt+8P5jm/9lGiA9AU9uxcrdTE0DnyvV8XwISQORbNRWpyAdA0a8CRR6UCkB86ncgb/oHQIrbnSjZyAhAsrNgUCtkC0Bv4C/U8HUEQJK60o+RPAtAqqVkPDDBEEB5k4dpv9QCQILySmxnaRRA0Y5TuyW1CUDWmR9A5CgUQJVYNPupKxhAN+bhUwp/AUD4MMrJWlwSQGMzt9nGHgxACGfUeZKXAkBPxpo6u2D/Pxcdcf4mYQhAj5Wmm9yiCkBCJh9JwdMNQGuE1ba8dAxADBGPnNzBEED6yJxapFkDQEF38Apn1BFAfOSXQrBGBkC9fal/lZMKQEpeI36F1A5AqdssBI9dCUApzC6+zN4RQAyPmeKUQgpA9PMTyj1REEC70Yf9e+gOQGrm80I0vwtApbVsPgK2CkDHDSiDJ0UMQIj9wac+jwNAeSpdBbeCDUB+MHAJp334P0VLgRgYde8/5Nun1i1jDEBhy4mqF2kMQPfYf2TqCApAoKUIHA1kCkDdXBRv7vv2PzmYrn/+IQNAtRjCLfltC0B+r5GFB5f2P/qVUQv7KwBAZDTriCwAA0CMku8aTjoBQIOE5i1aeP0/qbchfjjSAECzAaNXAZoLQNi5OzjBxsc/3IfaPoYc8j9uRUiG3P7dP/leYfKwYNu/2aEfRhOB9D9FJ2jHtV/2PxMGygEXPf8/x7EfeqN//T88b6CEHYX2P/Vlyh1qhApA",
          "dtype": "f8"
         },
         "y": {
          "bdata": "TtKHmvvM67+MUTcPaDEBQHfcOrp5SA9ASCVpRS55v78kaZ4ih5z1P/NV91wvotY/34H27tdF7T8W/dAaba0CQNN3hRIPBAZAs6Bu2bO9/j8NCNlpB+INQOig5AfJeQdASu0ZGl2GEUA5I1UnseARQCQizv3INP0/mN+scvxlDkB1wdNH0qAEQIkgn9QgLvk/vuNVoPDd8D9zZMWeWucMQCW782EOQ/s/JKUHGCDlBUDyi9XcoPQCQC39m3333AJAjAFgfPqKEkCFF+yTE40TQFqv0iopyOq/nUsUn/zY0T9LhJsQNYjUPwvM4FMxu8o/41AYiOCr5b8xehL8dHb4P7+N01rW4+Y/uaA3XadL3z8xUay2as7JP/cOG+1QCfk/6Wd150hC17+pPVjMxFbzv2oafBSiA9E/mbcyskhr9T/fqzT+nOr3P9GJ9+VrRfm/Hy6Oe72P/L98NL9unp3uvymoRKhcweC/QA3mM5f0/b/Nwf/y56vrv3INMx7pQ/q/UzEsCqGd/78q0rlT27/7v6eYcZEu8QDAS+jXaX/R87+5E1nVwTDuv9A0sUCXd/2/IZwxU5LS079Zut7lyQTwv+tHSg9wuva/la4Z7ONIAcAOtx+WSbvxPz8By/YIvOm/m2agUIAW87/GhgJteC8FwIPNMg6zfOW/83zWqFc96L+lNMAu2vnqvwN0v8y7m/S/sq2WWcDa4j8vGEykt4jkv6W9uB0ui8k/s01HIFxY8j+N+opSfLTmP+LdtxOFYuc/ylm1tQUf1T8qa6L8CI73PxZEjhMMWPU/jXRhZu+qbL+HeXTETqDSP40R5q/309a/BAehBQVG8D/QKcFK2Ancv/paOo0Oh9E/F4IFDWBKvj8oX1ayecbjPysn2C01Jec/oCZYYYdW5T9e70Pb32EQQEDBIhTDLgdAHVKTfh6F5z/ByYU2N7K+P6PE4YTEj94/EfQofC3E2L/q22AE24DkP5v3utgXlfS/Xd/MqRAN7r8G1HC9hcrnv++nRld+r/i/6i0rgYet8L9tS/9nwgXlv3vcAVy7NPa/Hq6MwduKBcB3aNkQNj36v52cT4Jom/K/fRhN4SmY+L/yzCyT92Xev+73SkuY1wLAHgyMeycG1j8mV5JsX+/gvzjKF1RWwuw/8Ni2o/Yl9z8++T8BkJnLvxgiy1X9sQFAzjqZya5D3794HNQKf7XgP7+2WKxihMC/UNaZde6/6D+hmulyn10RQNdeELKWl+M/oweLpz3X5z83EDCbmqnrv+apnUZku/U/3iUfHW131T9KVSi/mUYWQGQcoVmZVOo/7aL73N0fAkDaigXjN/QHQGWFDoLgRgJABIOqiaNgDkDqzN9WBzT/P+cC1P+bkOq/UsxChAH10j+3pTqkHocQQBLsJVWTzP4/VsVEpv5N+j8U1UKxuAnwvzD+mK0Ox+O/CEhuqGDS8D+/HxqMhjPpP2GG5iy7RcW/95854xz67b+R+c+Xwfaxv8K9gDQN8gBAbALaTzjB47+skYq5QDzov2AGsprT5NG/2MDfb0G96r8gK0gigALyv+gdhNkQHtq/4cd1i9Qmx79AQyGePfD0v1IoCHzrIvq/9vsXkEmV378Q7v2a02DAPy31O0pcjt2/Y5ZxKOidzT8skLTjoknWvwTGZBDqEeq/TI152o0Knr9y5v2hQKn2P2wyWnNCAQhAQ4WUbg1+/T+fj0ndv30PQDC9tV8T9AVARe62DfbCEED9jm7S9sMIQFHtZPOtZQRAkckDHp8pBEBoWxYi8FTxPxOSVb4ZzvE/7ddKtQbe9z/oWZQbuOnoP464jwwBeuO/WugpdJFf+z9srBaCeZDMPxZ2NsQS3BVAusxbDfMGBECNMQVsNZwMQMYyVKbAJQDAbaISsj8gC0COh681j74QQPiDyzvS5wZAezAEjV4h3b8d2mpw0RDeP9gGzm1JK/g/",
          "dtype": "f8"
         },
         "z": {
          "bdata": "/34jcOOn6b9Nb5pdsdn5v5OtqjBsoADArVHuB5Ez+7/hQepHCoqRv2TX8Ruqmf6/mfH0R0l9/b8p3nGffLvHv1Byg0UnYva/FLsD1giP/7+G8eHJ2Cq7Py8IIsaOgfm/Sh70DX6T+j8yKa5wG2vpv4o3T0vWaAHAWAb5BSyz9L+MXASvPjTwv2OhyNUWswjAdRk2v79u6L+Zj7bqJzoOwNKP4NNcHfq/M/qiwfjP8L9syuSCtuTov/ECjFSW6+K/T4P1DN1x+7+h5EnzV334v8TdrnOS/vG/1QDd0bDG6L9lGkF71EP9v71aRmGATfa/6KjVRwtEyz8jbPRTNh76v8gTMmbCNwTAgszRwLUJ978r3j9G6zT0vyOWUtvwVP+/E1ZwozV3lD/ITidgaUTPP76hhb8yIALARCZIovmj/b8SyD8JJGMCwMxcvKbcjvW/YYmxn5EzAcC53tHraKr/v1yBUa+opPS/q7WE/at6+L+DceFSSOP+v2E6HcEPbfK/QN2KdYEh9L+B1N4NWnjov7PHZWEZ+dG/3gykTKgp4r/RtS3ZAY33v/ZB462BEgHAvdF136G2/b9ZZ4Sn5dzgv3RUrxt5WPO/H4Uyg+qB8r9CxQ7JRxkKwF8zLy4asfq//PW9Ceib87/O1Algj9zJv/CWYo1XssM/dJBdEFrP5L8QcBBnqDv1vxGAYzzuova/YhpbdbaR9r9vMQVIq08HwH7dpGSZ9+i/yuMrWg1mA8CID3XWLxoMwMYTn1yI4/+/LKgGXp1IDMBEYQ5Zhtj7vxhk/l7w6wXAwquxHs8nA8AjJDg4sjnCP6igR/+e69i/xarSbII80b8JtvVF6xm6v9eeqikm9vG/M1FugeY8+r/19j0NuXD5v+bKeIpK69c/sE+LEqWquT/RZgYVKpQIwFGkLmVx/vS/DI61hnpy97/Gz6Plz7/ev316Rsl98vi/GrKDcuMK4L9KfW8IHCziv2/ADT2Y/P+/IEsEPgUw/78rFV8RsQj/v5XsekxU//C/lGo2bTVz9b92AwunJ+cDwKno6weN8QDAo9fFU5KfAcDEyKeTAdECwP+Lk05MQwPAYLt1TWH7AcBaizg1C5f6vyyr9I/DWAPAl/8ioHpWBcC8BNqU46cDwIPTGiCh/AbAdEx1FohICMC7E/XWkocOwD7Q29DrDA7A0SY6o1iLCcC1dlDxEYgMwK5uGOZvqQfApkS3i/qAC8D9vi0JDIOxv38O71tldAzApTQEanKkCMCWsa3t7iEEwI3tpmWl9AXAoEIz6LL+D8AtDE6AoKz0P25lWa8JQxPAXdY4Z2Xa+b8L7CRI7dMCwCN76CkiuxDAZV6ICdh68L/ja0h+vZ//v+psQmOSN++/jha29jef/L8qG1l/nUPsv5saTQYTJQbA6k2f8iscEMCcaKLbD/kDwECmCFv7pAXA27bE/aTH6L8p2+kk+MEKwLkMCRZBTBDA6V2hOqYSEMBpOIHW5wsAwLRr0VXyN+q/UvZTJz+JA8DAZ72UK/8GwMT9WeDOdALAP276EiiG9r9YWHQJmigBwFFeT6FqXO6/GiBBeW/j/L+nw3eDx5Xqv3TORQ3jmPi/0KtimYc6/b+ow2EVC4QIwG34A3OwRve/gm4qfDFWAMA0YRdP7tcBwNGVut0KRQPAdFfsHlwN9L9cBoF4Qbe3v0YF88+znvW/r7+j7Xq087/sq/waF6/4P5KrAZfkvfg/bwWnZPVOAEApuibzalX1P65gBp4+5fM/x20vGVbD5b92wonl0SDlv/8SgW/bw8O/zX6vRCgP5b/wY/pPMa/wv1fm5YPKJqQ//3I06dIJ9T+Lj0WXO4nzP4cbvdnu1fE/o3vWldAC1j9WYP66O1bsP8Iunf/EIeG/tVjabafX4D/pM/iqOzHCP/+M88BYTfC/JkvZXElR2r9gAdpMT2TqP060irndPeq/",
          "dtype": "f8"
         }
        },
        {
         "hovertemplate": "label=4<br>PC1=%{x}<br>PC2=%{y}<br>PC3=%{z}<extra></extra>",
         "legendgroup": "4",
         "marker": {
          "color": "#FFA15A",
          "symbol": "circle"
         },
         "mode": "markers",
         "name": "4",
         "scene": "scene",
         "showlegend": true,
         "type": "scatter3d",
         "x": {
          "bdata": "Tz5E0KQdEsCCGyHqwNUVwFHU0sVpAxDAMz5HPsHpEsAFopoCroIVwEUi4mWQ5gjA7Qw2hsZAAcDaKHb54h4RwGe8OTNKzhHA66LT9cBDBsAPywFYIiIKwK+3pZ/SmgfA9t0uLonJEcCqQ297i14PwFJjiG1VlQvA+zNnR4SmEMAMp+q4wOgIwFjYcMpPgwzAoS2szBRABcASK9+ZWBgQwJ4zOhdPMRHAh+mKGK4rBsC0aGUR8mkPwEifLiRojA/AqfSJorBFD8BlZJ9TFfYMwPKACK/AIhLAn1sNXYU8C8D+eAmGyIMTwKkZgUQy3hPAgK3mcpQfDMAtS74zF8MPwKYTsb1TNxjAt6opra5REMAEcgJbW30UwM0F+lQ22xLAYLrn9n1sEsAuyLuj1QUUwEimdFwK/grAiAI3LfC0CsAZMlt8H9gQwObAcRpwqA/AE2OjY0GuEcAr1Saliw0LwPPolcn/bBDAT/1k1gFZEMA0aMFGv0cOwOzvPyEpgBDAty1B2wsfEcDJj9UQ+FMRwIaih9Fi8QXASUnvVEbHCcBF5Wy0c/kAwMjli/ASjw3Av5CuRJxkDsDvOjKIhmUSwILRk45BpP6/swF6YpJaBcDcm4M2Pw0RwKO5qcDlzxDAfSTVHIpQDcCi0OB4G38VwFwzaF9mmAHAzLH3K0hPCcAgYtO8BwQTwNz0svWVvRXAKlQn7mVPFMDw8MejheERwGtrNKcaKhLAm6sAEi0vEsACDkUO7mwUwDdE3+mdqQ/AnYCQy9yfAMBddnGQtQQJwC4sq3wMUBnAvw8Qoq0lGMDtJu3YBTkNwGSS9WcsyQ/A4QNP1ev3EsAx/lKodgUWwDpL5ByNhxbA1Df0CvNaFsDbi5EcYwISwFrDoMyEbRnACVBiSdB3GMCWKPdGc8IQwPxMJGAPexLAPJXsYGmDFMBiEeprJiEUwK9D9SnesxXAVkDLrSjPGsCCRNCA4NIgwHXpXgUpAhrA1goZLh0WGMBjPuY2pN4UwDzD5iizRhjA0RBHqMypIMBVYy55eIEdwJtERx5KghrASv+OuMhgGcBuF3/cX6YdwEUI5C/jHRvAJmXeCPQBG8DeTgX+00sYwJv2P8wOQCDAU2MukLCpFMC/QUwOEvcjwOK+qfLZtxLAUn3w1mQf9r97ZkDH5vwRwOvpeymwFxLAxfswObdEE8CV0MiBMOMWwLUql7aFYxPA22JAVXQFFMBEGcPShxsQwMFUcsF+xRPAe/Tcn+wjG8AasQH3kcAQwDTHT6SDxRrAvnvt6akeF8AqXybJi2kZwJiqlJWqDhbA16zBVHKNFsBalJGX9ccXwHRtDeqSWBbAC5QEGlkuHcB7FBGsTCQXwNAF5LSj3QbAcKzqV+OpEcB2v7vY3tgQwKTz90ZWCAnAsV+bde26FMDiA3gfHD4SwINIaA4TWxfAQWdOVxakFcBVCgAT+WwSwI9mXvwsjRXAVdR2XcY5FsBC7ZlM7XQWwDGbPOLfNBbAZ23QuYaVGMAVmwgPC9YJwIxgUm4/CRLANok6Cxo/E8D3qw2V7OIXwEhVhX78lBDAB5Xz0lu/FMBIWJjhTTUUwOGDMzjivhTAaRODGBZGEcDxBHXRO0YVwBho9fygRgvAtIZYDIG9EsDZomTWKvYTwM4OPsSpQA7A8As8zdhRDcDontKC0IoIwASHtH3uixLAZapT9Id6A8CrAk2ErvgAQAw9jx0xQPE/UuqWDxSpEsD0K1sjy1AQwBFH8ybwlhDAKWJT0tSlAcCvvn1XuqcCQL3BRChFThPAmpB8xAHwDsDALF2izKgVwLx1EqAgNBbAl6t16U57HcCIsW0/K+UbwPWLdKcm7xfAtOcs7oHuGsDdlgq3QNcZwO3FzQiU1RPAQE6+Bj5tFMD4IaBCs5kXwH8rTjRzGBnAT8CaGh7WGcA=",
          "dtype": "f8"
         },
         "y": {
          "bdata": "Ib68xOR+8b/dihxRS7yZP6RKYp0wn9S/suYZMk/E07+7grkD9lL/v/qTP7UpTc6/EcNM+1izzj/GIB+mJGXlv2MdZ+XCSOq/rDEZU3wR079U9hop6evZv+TNMJ9D6eY/UB95NDH43b8CAORHRSTzP05wLo2+xta/Kct2sOZK4T+SJqUe91/wv4mjXndv6a4//EQIkQgX5b+7g0ObOp/tv2nuTZu9Nsq/EUaBsNWO7r/aFr6Y4ZLdP64TQM58UsE/lWSiNTryqT8uTwYolYjIP6SneU0T+dO/U8eJyTFd4L9/uHcypEjxv5/H4jFuF/G/HPSQEu8S/L/JBAaIUz/Dv3Y9vo/V/fu/3yuLcGdG+T8XQY/2gn4GwASzZD27juC/P/RmvNo4878FmoNFGAzIv5ZV4Tzfleu/AAcxcKyL5b+5zlvRaN7Fv88n2XwCsuU/9b4sj8sX4r/t5mdle8Xmv7PZ0Zz3WcQ/+VXSw1vo4r+cmk4jOD/Qv6GKMWlmA9w/crPpET+s37+yxCA8hwLPP2bdNUN46uS/5uzGg46P57+gwJcziUHOPwq/RoRx/vu/9Lyf6nFklb8iulaTejPZv2XHZDWCPce/cjTWVkTW5r8W2lDdt2vbv/VuKHhA1Mw/dES+wSsn7L+aP/J4DCGyP9iStveSUem/vJtbGkNR5T9tYU5e8OXOP1KUXzsuHeC/9sV2rVYM5z/9Ozpb4Hz1P4VmaUWUqPY/RNzYCR/W1b90xzKBJJrav/gt79Qc1tM/GKfOmB0mAkBUspvv54byv7mJbLmB3RlAFU9jDsu34z8snd1Q2vwJQE5RW11g0AbA5SkvU52x8r83jNE/G1X/v3Y9Ij86xPS/S+L2kuBs8b+U+dEIpYf7v5M2o0Q8OwDAtfm9WJO5CMBaYNdtUA0BwMKywjzDr/O/4GHzTASg9r8jO+3gBgQHwBQ/NXHA5gbAR1K4R9tM+r/F+slSXgH5v/eYVG3Cx80/1YL8+J257j+MxHk9WYnAP1J345Df8vE/mVmBOg7bBMCEg5rWXtMEQNTjtz3Zruk/k9jCSJWP2b+oCnc5zgT5P/XzOo0lyxdA94udxDv/BEACoiLNPuEIQAxRTXyzRRFAirbrcbAF5j+nQNY/7Q0UQFS6otHLS/U/vhaSWwd9BEBVCkxaCjj0P/XnLjOSDvc/T8O3LqF9dr+vJnNxwnH0v7kt2BB69fk/Kf52D6oAuL+vsosawPT3P0HBK6juY8e/uskAzcIY9b+GR6r+r7bqvxebZTau+vO/3wEINt4aB8AK8hiOdvunvyg31wnMGuS/nSRZWZYW8L8CJ045/uL2vxtn0QKrDuS/dhGq4isb5L/NIGETnIn/v9QuZk7MNNS/MhHqYmkiA8AmgQIXwIUIwJ+UpBQnM/m/4wiG77aXAMDaRElnqPkCwK4SVJUSqfS/e25s75MN9L+SZiNIZzUCwILh/Qt8+OO/rses9hHaBcDkfKfofbYEwGdPD3361QDAOe1GpUNN+b+QcOEjVB/3v05zg72+Vvq/6UL7+e387b9YcXmnI6Xmv1qZx8wHG/m/eATMWZa46b/05u9FT4n3v8zzKlHNcOq/r/9tBxon778HezzaZe/5v3qx5Mvb7b+/5/VipaRj+b8PF5XpHtfkv9WS9xzERsy/RS4woYHnyr+cS9h/DevVv1UGHzQps+G/MFxugM1h4z/ji9QMhLf9P2eU32U0u/o/dPD5gVzE+L/5AvzJYD7gvy0qX8xwruG/4essruTa4T/kQWW1GOz9P+iCYcTvAti/ajCzwq50xT8gymlldITrvzywfZSZCuS/J12VI/kyCUC/80DyAGP0P63i/+4Lk/C/hccx7xGZ9b90wPHtS8oBwPoD2XjfjfK/2/X9bE2B0r9t0I9kJF37v8Iokq/NZP2/LmzM3bWt9b8=",
          "dtype": "f8"
         },
         "z": {
          "bdata": "cpMYP84j7z92HwT1CV3HP8ilsU5MzuI/W3EXhSzn8T+V7lzOH+TZPxMyF6xv6/8/WdQceNXMCUCz0nXbATD2P3DgFx3hR+Y/PEtex2or3D/yq28N8O3fPzMgS+J7hP0/BHUL2wi+8T/ectxAYcoEQNQMAH82CAhA0xTrjO4NAkAdKW2aAGMQQPWmAchB/AdAWnFN/JfEDUDOzaO/AEUNQJlbLCZdHQtA2ENHEU/zDkCWOZRalM8LQHnevn5o2P4/zlEFr1KvB0DMTf+WtgbuP6ulEjuxnPo/dUThehuV9z9vh3cQBoTzPxLR+Wb1A+k/cFbMxNO09T+ZP0fEPqr6P5PBfpF6y+U/8bD54XfT5D9LGqlm2OXzPwZ8EKjjy/s/hQuoqz2b9D/pLZEPwjn1P2DGYdaLeQNA6QiBCo0SCkD1tvrmzzYFQHkE7HjMo/g/VDiQmMARAUBrqeWjXMUEQG6/YbBRiOE/2X7GwlUZAkD+wf8iLzQCQIXcJrqhn/A/d7RYI6qaAECSM6DsCFv3P01n6rvLfwtAnpMpJpzr+j/52qAGU0LtP602T/mN7/w/XKxpDqOV8D9N31WscF7zP1mXNhahmPc/iCwFjzOe+T9yrMQpjFfdP60at8ki9+U/AiqWj1YG3D9DaJUYxrjpP5ranC7Is+4/eHQ47bIM0T/bSwo2f/0BQLEYXx0+LwRAQisqZnyM2z97HONk54X2P1lFEdkHOMA/tVac9OcBAEDU2E3w4+gAQI1IqngxWuw/OToXSqm74D9CqUA1iKPrPzdf2iKiTL+/DgCf7zkH0T/SFfoeoX/gP5FGu7FnYQRAM62Zt9KSBkCka9FWGj34PzWzm/FX1vk/m2+CgA+B9T8Di8t0dIoCQO9rnX1IJLm/mFF4/emNBECHdVC9f88DQLzjCx2uewFA6bDy6H58A0A7dzOViu8DQJZca2eY0fI/U/6BD0VqtL96qbXxG+nPP1fyGgfA6+6/7Rd6MrrG1L8jstXdLLvkv5nV8LiZ3ca/o8bMQ+Uo279f1V89PRwBwLbokXf42NI/XbdYeprO2T9R2SRFnGv1vwR3RwlM6vG/YRDxaXTF1j8WsB/5ml3mv8qtIJCEevy/WN+9270txT/kxBYnaQsIwAOk8wJ/VOK/+YFMESDd3L9mIIAfpOGzP18T+qZOT+0/7wXxKUHiwz9opRgQaIOgv76e01yq/e+/x9/ljGpCub9RtYRIN0DrP23s7lmnCOY/F283V6ksxL/QWGOe17LfP8on/dx2X9K/2LmjhmECyD8dvKfLvaaJP0Efn1caM/g/MxZnQ9Xg0z+So+q7mUHkP0PVXghzMuA/vj5Tynqq27/0K9RsbqC6P0wcWOuZ6da/cLxJlawu7j/m0l8uaa3GvxErjXIgXOw/GY4VvzBG0z+uzo7CgFPpP1+F8CScQes/beqMt/fIwD+Y9R2IHMa1P3mJICnTXPM/MCC+/Twf2T8oKJHpNKbZP36sxaVL0tk/hZL9fOle0D9IZo9G+xvtP9vRSFsbRvo/66AL4NSl9z/Wl5cUsHLqP9S2FqJe8/k/TLQz4N8u9D9vqEYTfED2P9jmTlV5sfY/0HsLe3kH/z/RXYZz0WX3P6zXswG6r/Q/+VVr2xjN/j9BKqW1JJ8BQHa/jRNz0O8/jZp5+9V68z9ckaw8qTvqPwbMCFvE5/Q/Olc1uXBF7j+QoUoBt+f9PzLyzPq+MgFAtY7sf/uQ8z9X012h9uL6P482MBdAqPI/lOcPnA8j+z9/qTU9GuniP6IATn/OkPE/EmZA2w+14z/QbDVJFRzzP4yPQfQM+ug/8IY2HxDc1b9H35RnLbXoPyo4Jpj+XfE/RX2G/vlYxL/t+kBa2ouWv3ciPFdWqeQ/Z7Hzpp3Z1T+oFFJ4Hb79PwEAUEzUwOg/uMfNyoHV+T8=",
          "dtype": "f8"
         }
        },
        {
         "hovertemplate": "label=5<br>PC1=%{x}<br>PC2=%{y}<br>PC3=%{z}<extra></extra>",
         "legendgroup": "5",
         "marker": {
          "color": "#19d3f3",
          "symbol": "circle"
         },
         "mode": "markers",
         "name": "5",
         "scene": "scene",
         "showlegend": true,
         "type": "scatter3d",
         "x": {
          "bdata": "oewtKorU9D/kvBC1KwQPQH9px+A3HNg/jGt65JoH/T/WE6sz9eUKQMBPKB5U7ABAIbpDCidv7z+w4g5Fa9P/PwAw37w/3vQ/ITO4xi4d9T9EgV5l0j/4P1qq2N9A+glAFWzQM24c6j8eblwkE5gRQBusBvrmxRBAsM51Vby9/j9tveiFmIEKQJsKv6oK4xBA/hjsjb7/BkC35uNMmMkRQBTz//WwnAtAKynQ2GWLDUAHiOSR2joHQFA2nLg2Ivc/QfgJ6JGrBECKWgp8By8HQK3BsgBpofQ/u2tbi88QA0DxHFs5sp/0P/vs8wtORNQ/+iAdhTWJ9j8ZRgCGKbH9P3mjOq+NKOM/M1tRcIVu4D8BIdrQx/rYP68s6HD6etk/MRJKKCJnBEAQ6/QBEusBQAJ+L+7/xg9A1RscKDH57T8fQyEg9IXfP3ahxivphcS/o5uPyMdJBEDZN4qihWXyP0LlwOxCKNg/rm0KPep78L9qC2qWYkb6v+kbC8k6u+I/0HKFNWvdAUDsoGN9nRT7P9y9ET+LnfE/hDKgAfAG+b9lGvshfUTrv6OuTILQ++w/gLEBEr5L/D+KT9Cmu771P9M8rsoMces/iRfbItuWtD8qCMwBqvD2P+GobQu0ofY/jb77waYl0D9Sm+SwKMXiP45CDMcZgPc/6Pjonpne9r/jl5mKrC0AQPUn8xqGpvW/TjStVMqj8j9cbdLKx9/9P8cBhPYGcg7AA+QntD5M2T9Hcqu8rEe2v/a4qJKzvuM/co6Yoo3o979CYl+O+6MCwGTL6/u0APk/5j3K0a2L8D8LLJfGFMrkPyfeDkJISQVAv7oqWeWLCUDYPKNRNREFQDKHgOCuHw1AZsl1BvnD/j/zEbACoL26vyNAwH6lsQVA5qv1K81d+T/JxvtEI0L0Pwr1mHzDXAhA9XTk4CA5AUCM13A9WWQHQFCJjABNLQNAEYv2KWN2CkDFl+nqoYb9P1AqDhgQjgRAFrIiqpb3/z/3m+i343kFQI9GnwR0EvY/+Em/zBtlCkAdS1LB/4cQQB2jIx7TKQBAxFhCNO31/z/TMlTT5dwGQBIYIloDP/k/1Gw2ia/T8z+TwFBUSAYPQEj+pof90eU/4DyNEWPi9z+lLoJgsFLjvzDWNdtf/9W/UHYmuQ7V2z9kgjs7RCbzvyt1D+9cP/g/FnwSClXt/r9cHsdSQLT4P330BrRf5f4/zrhVeD4H9L9GiBRIRxj0Px7OF4zffPq/XMvHAkPg1D9AmfDZF1b+Pwl1K6+8bRFAO9s9yCFc7j+6LxKkSzgHQGEEgBegLRBAJmKfj99B/788sS/w1QAtP/g/9H3Yi/g/cb4UNdvtE0D7Z3EnieUBQKnUj26h4AJAnB6XtUhMFkDyt2BQTfrvP0aRTeNwlBBAcjkVa4aC3r8qoApvzBMEQD5p5g/Lb9w/htPhK3YJ+z+6doIiCS3zP/OBvXtUDKI/xXihgmhj7L8Jh8xOnhDbv0lW81A/5PI/rYRcPkFclj/9sQmIGbQEQMD/ZAJ7Rfs/vrH6YfGa9j8Y7waSutcBQAHdD37yOPs/SMlk1hzuBkDpl6lznaO0P32NMKVVFAFAIpVNwgabvz/oxR3LJCfhPxs3pr4bvPk/b170W1GV+T/x7Gb+CZHuP4b3em6q8fs/mOfRxuIl9T+bkG+72DnVvwSHDLNnovI/M8dNU4zBAUBPrp7s6nEUQBbvIUnsx8+/7FP9qK53DECgT45pi1n+PxTjKCPixde/prBhmAv//D9GgUwpsoP8P/7p8EvZSdK/Q1PxnDJB1j8bMGWSgsO2P9vDGt9y+OW/IMT3mV/nAsD2D1D28b7Cv1GPxLniFPS/SH41Tr3t5T8CWnK7vqnvv37Fhhm1OeK/hxt4DJ/c/r+KFo+L8V7hP3foRHDn0+A/HX1NO8EY+b+m2XWKFaXHPw==",
          "dtype": "f8"
         },
         "y": {
          "bdata": "32eD5/Re8r/StCNbwtoEQB+drWLEzeA/9mBC5NuqA0BVSTQ1r7YHQIVRdLKTSABAdBC5D6Rj8j+shDScuzIEQASb08b2i9m/p2ChPsgp6D+0BNXW7ljyPxTG1HBB5ARANnvnwF2o6j8sdWCKRHwEQAvHAJ6GNgRA+iJAua0m8D+CzIAW84MAQIqQcY+28QhAnCaJQdL8/j8DF1SBevcBQF4epwDKmQRAkXD5IwwOAECTG6vw5ib+P4uQ8uzmTug/NrwoB0+aAEDEs9+7c3QBQGv5DVYbo82/0uZOQINdDkCz8NgN/PbuP1gySLHNgvE/CX+29f7B+L+sBt698voBwAGxQl0wSvg/7h5SKQFM47/ZOUD9ynnyPxnU2k8SWMO/4rsYGXfu9D/XX4e0u5rlv0rOYBNztwhAxPNH+/vtBEDYTnYsmxEDQPYC547/3wRA8vzoYqOb9j/ej54i1tv0P3D5mjcRp/8/j3QgYVdzCEBYEkP+vLMCQNzYj01oQv8/s2p6xXqY/z/qZLg4nIH7P81R6A62DQJAvTuKbtFFAEAbIQ+qHtHxP/ekJlNpMtG/mnbx9Tzc8j8KZ6PG0g4EQADjJkPOoum/rYgG5Yz24j8a5ZPSZDjkP37nV/AeMNs/lSkG09ya0b95PQAjUA7nv195s3p50u8/xogJxuxeBkARs34skFTUPywvSDC/9vs/dEdFwPAMxz8J/GsaeLTfPyVYUMv/ds0/k++7oZl9AkAUnSuPqWb3P7PDp+EgugBAh3QoZNomu78VqP3uJLHwP16n48PqMPC/9s57Mgv5CUAsnlijiznyP0/7jGp5ReE/3qc5TNafD0AnpmvPZB7/P5MkAeWqpQFAG/eTkBH7EEDAwCxpWx8FQCFKs2f7Ww5AiiccAG9kC0BumaJqYmgBQGsUioxXAghATLwEBBG4B0AuyYFGvfYAQH0rPf+CNQ1ACDufgDiNAUCv3w5JtrvsP75Fuqd56/K/kdxWvlDCAMCC4npFLLIAwHBS/BPLnqQ/jFXeyIOZ9r8lGGc6SmsHwGt7qU9kJ9C/Jcti9Yg68r/zcYqTdxz3P9fOZIntHfK//hiKzd/ZAMDr6yLdx5LZv8dTJXgT/gZAqcIhAgPiCEBJHm5aw4H5P1TprKkj4PQ/0AkkTyn88j+9JOa/aSz7P2OPTkVUZvc/5NhhkdUd7z9AWld9wLwCQGL+nPEj9OM/EpKmvwnG8L+KkQOo1/r4PxGEAj9GqtO/Xqv2xhxd979Kp3T68lXzv2/xG6FL2AVAyluF0syO6T8Ap204DOAMQNP9Dc8gAAtAdQX4QBmg4L/z5OsXAt33P5cdC/OgLc2/Ev799gf3BECIdTFG/X7zPyPBDUm7/uI/bpE4gt/PBkBUedtGCELrv5FXKQYJ3Po/tgu1GC4w0T+KI+YrSt7HPwEQe+F8g+C/xMz/hgHz+z8zw1ZOIurQPyi3YHYAeP6//Nd699Nq9L/qoWRT+CS9PwHOeL8hm/M/TNdHsPyU/r+TrheJJ14AQNeiNVz+MfM/FMdKCkHV678qsqAMEjgCwBDiKxXOE9y/8Cg2fxvpxD/GtW5g4oewPzphBiH5uuW/pL+XecWG4L9m1yoa/0vZv0H9NrvGMMk/Z9g/eGgK87/dq4FbuJ7sv032h2C5YvE/v9WvYx1m8D97Mwu1n2XXP9TF8C5LWvk/96iaop8VAUBszZaVITUGQECWPsFYWvI/rk3VJ1sY8j93cAbGcLH7Py9b+zbP6bQ/ww9xC2Kz5z9hiTxKviD7P859MLUyvdM/dsYw9+C95j+bsj0MtijmP7IM3uPmWuM/BURYC+cat7+WkL5neAu+P3Ky3Wlv9Po/buHE5U759z8Ird+YoAfwP/dFCwkUtPE/f/fVqdtx5L/40heICY3fvxvReShqefK/mBifFBQS3L/9Mn4Mb5Tzvw==",
          "dtype": "f8"
         },
         "z": {
          "bdata": "vSlgW5cx+b/jmjR/h7z9P2YVFXZYsvU/2BcWomhj57/nA5fCCM3pP/TuBMY6lPI/vcS71NwNAECANUIG01jgv+8wLY3EKts/ZTv6LUWZ5T87xwW908DsPxelQ5GiJv0/YGtjbJCP5T/e50FyNP30P7vE4/a8zQNAJvpErVkN1j8lJkzPv1wDQCaQWBUmFfU/A3perh7x9j87XZ49UybyPw5ostOmvfI/4WXurAwe2z8LveN9sDn7P0BioYQaGP4/cgCfpLga/j+Qr7YePgz/Pw9ST2CIVwLA/G/WzwAE9z+q2A96BzjyvwXHYC+po/a/xIeol/bNAMAkyhcp2DsCwCLSjypX6ue/QxX3dCWJ0j8XlZmX1BPwv5yONJFa6gbAPLL4d+v75L8y2jLnrKAFwCYej7kkqPg/mWUa3qIL5b+zFaDH8CfjP36sybmDb9w/Fv3+KzoF9b8nZFm5MJfZvxeker4TVgDAozElUcx6hb8eBv3w16oFwHeKROG8lfC/1sHv+X1r3b8lneq2joK3v73jJJQdL+k/YOO366fb3j9ELfcNg2MAwFWS8wMBiQ3ALsgCSdGpDMC73b7FtFcFwFd+j+p2EAzAoCAWrxv7DcCWKmO5mhgOwHMvsrgPMQDAJ9dz46xID8Ck/C9CSREPwP8HDvDGZwPAjqJOhidWA8CjkaE+NXgPwPrJ0b5Tzeq/5QBqgvOGhj9Eo+kehFfAPyGhKbQwPda/P1klxkZM9j8+rYtLruXvP4dAM0WRIfA/vhglx0i56L//aJnCpIbTv2bx2vmTNvO/1LfoBKSP7T+VULauV9rwPzoA94eqhsG/Bigt+ssBAECtKWPzlInoP2zezgYI4e4/X0MNYcxxAECh5XxxPU/4P2//C8ld1/8/P43c0j/c8z+V7PYslYr6P1+58LX6qvg/HXstBTqb9j96YRS/wfL0PwbRJr8WJe0/rS5YRSgC9j/ifMDvqBjxv8oPLu1vdgXAuoed1RXoAcAMAL3ZFWEKwFO1VpHw1wbAO20zkkCEB8Dyrjtge2MEwHf2wS0oHgTAwzRzFfmvCcDrC2OHH6P7v6yalg0Y/wnAI7gUgyQIC8A85XPaPaIFwEP5bWsnkuM/7sQnezQMwD+N4Cl41Yf/v9pM0RkNi9c/g7G8Z4jx5D9whoywRar7P+YUC8TJce2/MGjvdoqK0L9BqJiozsrzP74GErw4aMQ/wckNOiHD8r8rwoXXnLnnP8Vsd4WdNME/5reTm6QaAcDsYwBSP78EwJTeZT/RAus//TvQSMHKAMDP39rSanDWP4PHwQSccvc/4rORYuVq9b+iJQdU+DLoPzLPEuvbPv+/lLFo1hdB8T+L02bSa0D1P3ZndS3CgdY/1n6bfO/B6D/6ycqnGukNwPurA/l2hgPAuKQ2RR3L5L8i7esdNTvxv/UVNOLRLLG/Bnv0DfA/fL9QAIBn/+T1v5Po1bkPyvu/2St+P9Az1j+zIiMbe+35P273CI2gc/I/pE5IuAKX/b+z3MvPSUX2vzt0weDBogbAp4Ub8RSTB8DzRR8j6fUGwD2GH0I/mAvAvJDQZiy6B8B7CqM7upQFwCLIknog4AvAW+G+6RHmAMDKFINjRNb8vwzlrRbbQQjAGd2YAqMYBsARaG8nMaUAwHPQ2Qmi4/y/MsinGzoS7z8V/t5LJ+T5P1LGqlTldeg/LX7pKPXC/z8daESv4jL3P8Sph5SVMvs/pnWVCICupb88bIATheD1P8LmU4lnVABAwE9kPaed+z83dGvrB0MFQP2yziaUu/M/VrXRIf3bAECNZhLWu3YIwHN3qeMkXfa/2IPS++ZM9b8/+SA/cAzfv5m5dfovXOm/YSY5B8N64b8VMR5gJO31vxqYRngkbAPAj+U5Aohn/b8ZJoCkbBwJwH+1ZomzPP6/pmUaQRRz/b9c+AApLPMAwA==",
          "dtype": "f8"
         }
        },
        {
         "hovertemplate": "label=6<br>PC1=%{x}<br>PC2=%{y}<br>PC3=%{z}<extra></extra>",
         "legendgroup": "6",
         "marker": {
          "color": "#FF6692",
          "symbol": "circle"
         },
         "mode": "markers",
         "name": "6",
         "scene": "scene",
         "showlegend": true,
         "type": "scatter3d",
         "x": {
          "bdata": "T2Kc+5Ly9r/Rx99utnvtvwNAtO9tlvS/Yrr61ln8+789fFQHWbL8v1fjPsHUdvu/9oewN85c8r9L8cRC0OG7vwToE3dTPfC/9TucuMZN9r+zAL6teEj0vwC9n1wr5gHAP6RQKdnb8r8vivK1olXiv270JQlJl/u/6cImTxRY5L+hP5xHkrbxvymVcRBzDdK/zaw/5WG6AcC7y5bsgCbuv/A2ZAgPG/i/4SBZpxEV5b/2dl11Epbzv5O9eDHSJv+/xKTYct1J2r8k9DOXKgLwv2sgWheeHvm/Q5CnGfLg7r8n+7chkKLyvyvXVILGPLO/dk6ag7WT4r80ZCLNO/Dgv7GkcJKgXPC/FQAcPrM5/b9hTSCk6Ifiv/KFo/062fG/ZwwzzY8H9r++SlzqUP72v8X8lKm/TwTAqdkG6eBcAsAGF5+/5m8BwN852yxs1ALARzL0In+W8r9+u+cWgnADwEN8bBFtNPy/+uRU+1HdAMAv6xn7Rhj9vwDEVsC80/S/gsI3dRf+AMBUlE6uJZAEwPHlEwSiiQfAomFz4/to679wxW5q6jb1vx1Vw7Eg+PG//6ey/MBS7b+m2eZ/ijn3v8DUVOU4sPu/b+z9IsICAcDuq4GXDCz9v3OajJ4EpQDALbJV7gwN/b/1X7zxyvX5v1/zAZiVpvK/x2ZIBuCwAcDgp+KNYVfov/jK6aF2Rfm/6KHIAqJK7r/7NO8D4bL+v6Un6Uz39OK/sqA58vPd8r+E8SMNus3qvy3nfXYlh+q/aqgkZsIE9783cXXIakXwvxYrt3iX2Om/jEXaGrOS/r98kgXLfV7xvwIIifre4Pq/0NQ9z8pr/r8vYh7rQhEAwMEeBeGMNe6/F9fh78aQ+L8p9pGKhEUBwLPlwXhPie+/5DMqzXsJAsDG6JtlQjwCwJGCrS8LIvS/ZoL7fgJD9L9KBBfZMWgAwA41yZh8DPy/mDQZh4W/9L/Ed40ZSK73vyMXorZlfNy/EaXcCpjf9L/okWn815Lmv3XvLyJDGvu/XNgPyHfe8b+1RNwlpznnvxkXnsjSr+a/1K16MJyK9r/pJiPZsBwCwH0MH/2Z6O+/hiPhiZ34/b8RfkaFobq2v9w01bUgbfC/GFku3fut+L+i7BWgOSH6vy+aRdcfnuy/OgMXBYC0xr9+hftnMQX0v0vFht8yieK/B1URExmO8r851hrupvvVv3kpecPfYOS/H5EhqDRD7L/NdQqXJPHxv8f50E9mH9E/cJWBlRWS+b82Z2QENdHyv+URjeo2euO/ZcDmitCw8b/9E35nQwrxv8AXrv7/yO+/0KsInpUy7r+poVWhI/X1vwURnC0GIPS/u0mPch9f8L/sEjJOcDbxvx4oCunTMvC/ja/ZnyTE278wWYV1fKi5P64S2kOpyKe/1hyqi1y7zL/2/A4d0gr2v1bySMOqhO+/esBa/Uq39L9+AKfqwE3wv11mLj1QJfS/4BjBd4s217+Gtics4Dbjv0FHRxmHqu6/uvLiCntc878/Y4p47P3xv2uzWIarDu6/zkZgQ0rq679OInWqMcP5v1Xa7i1/lfq/Xa1BBnYg9L/ZSIveudPtv4snFx53YfK/MTO8z486AcB/NwqqLM/0v2MdjFhhxfO/KNPJRHrM/L/5C3fFDjb9v6Sb+C9jWvC/Je9yE275/L9em8ZJTjr/v5iBKzAIJO+/cQwM2D7f+L+GcW1tA3f+vxo2x6ATuwHAVT/fPvxs/L8R8Zno1Bn8v1/Q4W6nC/e/5FHJoQNT+7/rPhd+BY78v2n9ryB3KPq/76qwx+BW87/2jbdtbij3v4pN6ptG1QDA01zQobNv578v7gPcwVX/v2aue4kAyvK/2PYkHdgI6b9UILuGBTrtv5RUmAnx5f2/C5Ls1Cnt/r+i4OMdicvwvyL6hOKUBgHAv547za7+9b8=",
          "dtype": "f8"
         },
         "y": {
          "bdata": "YrKYd6qpB8BZ+dr5ERkKwM1S4FJrwQ/AhVPkOeY0B8Cfe9ttvicQwJYLesvqCxHAASgP9FRKEsDHT5bmzhcTwAUUU9GzIBDAUeMjcJgACcDrqZE+qN33vzoh+l4ZOf6/Yo8P/BfbAsAXGQnd80wTwP0R65MCgQ7AUQDHjr/IEMBadO2lcD0SwEwvCcAlMBHAFfD9Dh6yC8CQnt9Dc+8QwGnCp3LA6hHAAhMrQPhNE8AHaARCml0MwInmS9JT8Q7Agr+3gFfAE8BlhyxyEHEQwH6Qqzc22w/AnSmS4RxrEsDQXRdBzkUNwCUmyByM6w/AThtgzLoEEsBrCdyjq8oPwCKI8+as+BPAGJ9Wqn3KCsBEfYEvSwwSwPg+AiFykQ7AV/zv//DWEcCe1nmJI8sQwL7oQqTAwQjAZ0Q5UoU7AMBuODVAjiYJwDnXYcybLva/HIy5V5IcBsA49/CxCiYQwBN9jcAv2AbAKV/vf1RTDcCAQwnOKaQNwILhZDQ/dQ/Ae2pE18sJDMDrQotkQDUMwDLkj7tIzbk/uRl72haPDMBt+O5gpTUIwE8UbK9ZyxHAHney7Z9sB8Ax3OFZ5aQBwJTAmpRljQbAjUNueP03DMDGBWwD5tIEwGztM25PHQLAU6FX2f5GAcC7zekinz4PwMSRdCASXxDAZYTpimYbCMAX9EOs55kSwLmmCfoichHAX8dwbwyZEMAhyJKzdCwWwNfbNJkjDxLAHICqwAXuEcDY/I1zrkkRwNlkESkbQxHAIvPR5C7LEMCKRWqtlfcUwMame0XiahPAVOfbQdRREsD4vn/ZeAERwBbm0eaBBw/AL+mows1xCcBQUPocEaIFwFZtkgQdvBHA3edP3EjXC8B4y/wRqfgMwJGprZV94RDA5cwDCRl9CsAvIu4mOdARwBw+WqrtOhDAHitc68ekEMDxlkHdybEDwKDHPJJHWhDAaKQvNZpaEMBNIJhR7OIQwG5rIeLxkg7AgAkJqi0aEsCEALHxU0cQwDq7CKWhihDATbfNMeaKEcDqlHKPQFgPwAAH4+qEFxHArUZLPZi2EMAPsP8aVJUMwMXhTPwYsBHA9Ab3EePHDsAcN6h6B3gSwLmi/l+qxhLAEyGfTzo1EMAwnFGsGEENwIVFDv1pCwvAKTVV5JAoE8BPAyg0VDIQwDOWqUouKBjA4LZntwebFcCj241VpS8WwO94jYckiBDAmp3Be1BVCsBB5ubJsh0SwOx4+77RXg/AqnbamHlcD8BgndQ0IrkRwELGSYBFsBfAxDgCzixfFMDMtPcNyeYQwEw5gJBtbhLAb1FhUezYEcDiZwMnR2oKwJSxdT6ciw/AOcHiXubMEcDyEm1K07AOwDhH/KGqNBfAWvS4V5fmEcARH66ljKoRwJPS+TuasRnAeBNJjvB6F8AuZlMPTXANwA9Id0O6OwnAf+ZjwgCIC8AqxsMjUPENwNbllql8OwPAsYRYE4SzGsDv9qdVRWoIwGoHcuJWRwjAg8HTQbHEEcBxVToNw8UQwCb09+9oTRHArkWRIt/eEcA+NBnfwhcKwIvv2o3eQRPA/GY4F3C6EMDR93KPhXwRwJX3klNLchTAr2Xhn23FEMD0CowxVgwSwMld+WHurhHAlWfpZtWkEcDHR5He1FIRwPj3YEgXbP2/INF7fUhKA8BSbbfMd9D2vwzgm3c1uQ/A012D2pElB8CZ/jI98ZwMwJ5h118AzAHAoCYB/HNQCsBU7xiJdeEKwItsTrWrPgLAchOB3KLWD8AZRsr6ld72v39FKAMnDPi/pHRXv8daEcC6aKnyKoUOwKbFKR5WNxHAjkaXNNp+EsD++gfrLhAOwJv/IQB5VQrAYivYHphVEMAmXQUW3sASwFv0QH8VjxDA/U19nczIDcDC9qSQLaIRwCCtgUM0lAbAe/WetsurEcA=",
          "dtype": "f8"
         },
         "z": {
          "bdata": "IuJRN3WmBkDHbbKYJzYLQCGSh7D/VwRAIiKlC4MPBUDQvwE/SY//PyBxqd3flAFAUJnzRn2zB0AyfVSeTA/lPz5qFhu0kglAjGxA2Db8CkC1TM2FHxQOQPHgU1ImLghAUoX2BVswDkC3ks8z77/nP5/rEsMbBvs/ZzTZKA3iBkCI+K6df+jnP9Fcu03UV/U/t6pOJ9SdB0A8Pb0btVP4P+at4+TEE+E/Np2nSeYh8D+JfV9wfQMLQOwTihQYfOo/lMuP//mz278uNYz7rSjNP3pvaBwLKOE/04junZnW2D+DhCTpeKv6P6szp0udJ6c/kpgs0MbKyD+uQ3ZKffDgP+yx9h24YP4/M26ToHOsBEAwvI3L7hHZPyHJB5hNGPQ/6wvU+Qbj2T99V5dSvXfeP48UT1kcuO0/lBMymJ1rxz+2DRxYzvjvP2kVT2F9lue/G46U38Ir8j9llCCe5BzwP1MQltU1S/E/hXxearqS6j+gmjDtPu4AQIvLo+FemvY/aRqXzzsLvT9ILSCTB9f5Py0FPhPJhQFA3NYK+YxC8z9lLM/QFvq8Px1xhelsWq6/MeX1bANq6z8CqUAB/JLwP7RvnDGHUWe/ntWsCRE38z/DC9+VtZnjv0QyvmdTi90/QvFBD8OO9j8pFjyH+xvwP6RLRCWqnvc/q/GLU03G1j9wmSpI5bf2P/o+YDNrKfA/rcL6qret8D/qnASVuzDgPy1Mq7XMoIs/snFCSu392z9OL2H2rjQAQOnqLxcaENQ/xrpSPROD3j8FA6NVvQIKQMYZo7EKw98/F1g1F8DCBkC3yQvnyZQDQCqZuhjsLPK/KWRNGR8R/r94CCRFpPHmP7bnpXSJ4tm/PoIZz8CVA0BJGt4wcYD0P7/bqzmQVNA/O+zcR8l36r/UDDWrxPDWP0hss0EXCtK/KRWPKnkN4z/OThb1tFUFQPv0dC6encc/7p3KchUx3r9QNaY513XBP17on5AnV9e/i1eKbQSbyz+s2n1KW7vXv0ygA/nBqNo/mbRMPafs1L/aNx2RI4fCP6nYkFDQc9C/LVlRZoP+A0CizWmHT6HlP8j5GRxbU9o/tX0IDS2Thj96mLzGEQPZP7FcH1lrzeW/K8b7uI2P6T8xgyuc1XgCQBFcnAvsE/8//UEkNYT++j87VpxuOBkAQBf7GQQpygVA0HeW7iZHD0AyC7fgTwcCQLJQBGAONO8/AHj7HlzMA0DAg4ysPlDYPzqxhXNUW/W/nq0hx1qk6z9asXWnHD39PyBI10DWQgFArQTxMu188D8VlUEuyO31P9tg1S8Tf/8/atzjXFXcAEBPw5cR5mTYPzaYj8RXqPI/jNUkegd2/T+uZJzQhLLzP61jq86rFgFAQHs0zJaCA0B/KHOKoq8GQDMGeNihPgFAm8d6zVrl/z/oCth4KED2P052SEd50ew/CZ/IcLwA4j/GXbW/AW/3P1ucpqxPWfc/u+odnNnuC0CfR8zXDXkBQAZY4p0houY/XAwL0JfL3L+mpvx5BznXv2icg42TYOa/stVixjNw7L8LzdgkUw7Qv77OsketBva/WjBU2+Bs5T/kD6WePO/mvyXGkZVLFuo/8o0wEIRG5L8176qbFyy9Pxfm34e4Dtc/WIKPyE4a4T/+BDGjlBL1P2o+8F+Ozv4/qk11GFge/D/mLJ1PDZgOQPUhBSK96gFAJuVU/tW/AUAzn7UWNksAQBgGmQBxRwdA3O490y5O+T8rZIsSDJn4PwYRH5FpDgFAW38zhkPY/z+L8BF4hMAJQJOWCB/+HwlAFvUc4KLQAED+g26QTs/TP49JHRiap/o/aaGw6LyW8T9fG7+HmxH0P5i9aT/NwgJAosjfxk4Q9j9M0OPdoG23v3wl6q/Q5wJAhedsyqQrB0Cd4sC2F7L0P0bWkvOw/AxAb40wey9t4T8=",
          "dtype": "f8"
         }
        },
        {
         "hovertemplate": "label=7<br>PC1=%{x}<br>PC2=%{y}<br>PC3=%{z}<extra></extra>",
         "legendgroup": "7",
         "marker": {
          "color": "#B6E880",
          "symbol": "circle"
         },
         "mode": "markers",
         "name": "7",
         "scene": "scene",
         "showlegend": true,
         "type": "scatter3d",
         "x": {
          "bdata": "e3zIwNmn47+UWAO4NqX2v5BI9n8QvQ7Aw+KF0VFZA8DDMFlFh0Thv1cfAdqI/AnAjiloxIS+9r/KwY0+v3Dxv1gOJ3lbJwrA7+Y2lphWsL+I/BeeSEz8v7lbE1bptOS/YFZO0RYd4r/ukpKEPMTgvzniu1xJeNu/XRn0REvm4r+U0V4PO0X5v4X46CmZGO2/Ffi9DY66oD9+0uFO/pytPyuuN+uD2NO/fdqEVcYG0T93RFWpkHHsv27FCiBOaMw/G6yUN4cR1L/gMbQWVeb7v91sNU7d5OC/8u6EKnbyDMDNx1CJUKHjP0OI6hPQ7P6/LCud7/P69r9SpDChGvoMwBSj3qK30tu/VuJRr7ET4L8FfJzduMLtP1hfs089Bcy/+OD7Z6R+3b8QHcoiE4IDwOVdgZn3vQbAP8ocA8vqDMCzL5V2WIEQwETkTa3xYBLAfjpiclIv7L+aafEZZ/cFwIy3dukHPRbAFc17bpcoFcB5cOmNuffbv0iC4nPM7/a/JOpbhvAHEsBlg6cZQfYJwAx+KOq3+fS/Di76asj98D+BIPPSClriP3UdltXuIv6/0xbSLvDH978BZDWahlLkvx8CYm39NtM/zcdzh4ch/b+5DU90oLPfP0EnOQngDuG/sY0cOSjC3b9y4GkY4uW/P4Bwyz3mnfU/AWjBGfEa27/y07HrBSXnv+GMxh6SHAXAhOGl9mYiHMDAQE2Ud3MbwIyIUcdHwRHAbqn1mQJgBMAlOZzeYLUDwCNdwiujqgbA+OxaQzZ9HcC5/AvXuF8NwA4yJq/PWQ3ABxlRvLJ1FMBYiJjR2XDVvzbve8TRrtC/O9CdHgz45j/ppQzG2GzuP4fjewHgRgFAbq4YX3/24r9hXzwedintP4tG4uGDquo/3+peotHW3z+hQTb+llL4v2/6RgbJR+U/dkQ71FWS2z9a/3QDS/3NP123BUxJnO0/x51pb1Be/r+Dx96jpYjlP0JJjn/74/O/nG738Ump5r998snxvnUAwMFfbNm/59G//k0ttlfv7L/LRimAxRTVv1mOt6Oii/m/t2WELssRAsCfjgTdzOHBv5ylI6PDueO/xChgQ7bd0D+R3Ocuff7av4iKgHhpDc6/tkKP7SMD4T/A9FqFhS7HP1xQd6fd0d0/S3sDAElA8T8byhFNALDUP1UxHnVhedu/c9/bGGRe3L/9LrgldyTQP3yoClluZeM/VzAA4+Ul5T98qSKwpI3ePzP3ERvubem/+z0FYqwwAMBtP68h73HmP7UsnlRjLus/OtW1YC11vT8aeW27a7zKv3QdimKEF/U/61gqmkc66z+Ztbt4i2LvP4OxYwLXePM/agkJumt7+L9IUEU9jETYv40GestQAAVAaCKi3nvXzT+waM2wGDXxP4F2Wn2hl8U/sjwMFaC99z+kszjCvwL0P1MUKIh3ytc/NBRcfQe79z+86v1/zCn9P2C1/VgQy9a/ZH0ndiiZ9j/aEPM94nnxv7kXLaXaFZI/r8H1ZbfCAsB+MmZPHRgHwM8jB0gQJv6/CpNa+nyL5r+12cYAP2v7v0KKiYDiaxDA4U53R9U79L8mG7VtWlbwv2/JXjgyJeS/M9XMRQXo8r/xPswsk+z6v4iN1Y5ULQDAVTNtPjwFAMBQ070AjAQNQPZNOYJFEPk/Xi9rCBAuwr9qZOspyFkBQHH0lfV+/9Q/HLs4NJFvCkBL/BgrpiHMv8GWDWqCnABAxGgB846SDkCWVV67SuH8v4taJome68u/q0jp8+reC0ChCXGjzDHQv+0riVscMgjAZLhVR9/y6b/zeP3Wje8CwOnSDzC0rQTAPeC1t8fw7r+4qnM1GTP1v819oVxL6Pq/7iFd5J00AMDpi2ii+rjov4RxxGoCt9s/kJfwxOGN+b+PtcFsbdatvw==",
          "dtype": "f8"
         },
         "y": {
          "bdata": "/a78w0bZFUBkl10pjEX/PyXQXfFt0wtAxKjtZU6UBUBswZCrXgYSQPrn+0AFkRFA7EddYy0PAUC4i6MEUZ8NQLuVOeRGuQZAka+LOSXoBUCSTTVfyzcDQKPGvlnLRAdAXFW6UZeGDkA2oHxIhbkEQP6ubAQDswBA7nRJKLkR+D82HYyOkQ8YQPOfQVjRIxJAZUkE8uHhBkB2mTF8wg30P+9R8XdsawpAk9dhzWxa8T9rYk50f9AUQLCEdGVu/ARAi/JYUmRJ9T99X+GlxMwgQPZfTXQMhAVA8C7DJfRfHkAQ0++zdlsGQFjr+yDzeBJAAeyCuJkvFUAwmCmTHo4hQCrGDTfmZgRAMBTm3mxpA0CJyD2h47v/PxHYq9S3UO4/gvvQ1/DoBUBHbzLTP28OQKU8hXyjnxVAqfwCwbPxGEBZY2ApcD0bQOkPk/u6uRZAyBoMkaCyGUCdGyuRLdQVQFU+smzNux9AIUAWxrn8GECO/iNyJqcUQNr1PSh23ghASm9fXsxKIEDzmFIPULkVQBDS+TRGKBNAmGNpNqnrBkBz6EqzRZkSQPaiZ3mr9BZA6ebBPueUCUCe6lzOWwwSQJo571cBZQpA2w7sN66UGEAnNn17eWcMQGI3w6sP8RBA6/7n6onfBkDQcvf2qDQNQFsJgCC5ZwFArdR+9XhRFEBrK5khMmMQQD/f1j2jJhtA2GFTHNm4I0BlXsMLndEaQH/M651TlhRAJTEAgSR3EkBGb1MLHAwUQDIa/ecHNRFAn9A2N0LTIUCaE0Pz2n8RQBX4iIqYEBNAE/t4PneTEEAHkrb3u0IOQJenckh92gxAuXreAsnUCECFcM/EmfwKQKwZXkfXPwNA1UdlNalSD0CUGrpCTMPrP9TBg2fqPAtAnSM7dWASBUCrEKv2vMYVQIOImkteXwFAgWBFn2v5AkB44v5/2+MGQLxvY9Nk+AhABBeanNcgC0DUGtu3AssDQOcg12GiaxFA2HQbtwgeCEDnpU20qAYUQEU4fN/QFwdAOrRzddBiEkAUH3oqROwOQM1QizKDxw5ABLGmM6WlGEAEmS1tDv4OQDEvgj5RIQhAZ9XtV2xiDUBTrUSqMO0PQOWTiOJ4CAdA5pd4lqgkD0DgP26BUeYDQJ+LwRNfRg5A2BytwuA8EUDiw8EbSNcJQPFQ1AWu/gpAq5ah0cZ8BEC4gS1LO8wZQBGy44mmZgJAiyBQTcXSFEBmZDh+dIEPQBnwB+MwQRJAHgmxb9hNGEDWTtNvL/cJQHWWQ44GLxFANcaNbckhDEDDIQHm494MQG2cawIyjApAZXBjF3RtA0C4RVpwVCAGQPBSkq7jywxA7sIPUZKYFkBeRm5TzIwaQFVl7IOWXAdA5/9qqe1jEEDbPGcKpIkRQNvFG1kPTw5AxUkGlVbZC0C+IPWiIwIOQL/U64DG2gpAI4hmfVY6EECZ0ZBxAz/9P4sx6P4v2whAzIcQLxS9AUC60qaONfkQQALSAXKT5Q1AK8p8s3XiD0B93L+6DDMVQOjw0hxHQBNAcg3nKPd4D0DTrbiUXnn+P/7ypWo3OxlAGBcvdkyhEkCcpvr+Z/YKQCDY99BLsQlAogKrFSSwDUAhQghf5gUOQAlYVNg0mRJASipI1ng1EEBLlY2D494CQJcemvks/gZA6006eamNBkDPi/tVhfv/P1SXgDBjSeM/bF+vDoiBA0BfZM5vde4CQLhUClEi4eQ/4iuXCOgiCUCuCLoWPKoDQMPHAyxVGP8/8BDYf+UqAkDmC/E9XHESQHiKXh9ymAtAeoJq1FzyEUC6+KWJZ1USQOFrADeR0RRA10J+5kzvAUCg/a99Kd33P2hP6h5BCtk/rU/Zo0W/8D9BsAH3Vf4NQLeU+ntnuglApj3bPKm0EkDBWwg9c6b/Pw==",
          "dtype": "f8"
         },
         "z": {
          "bdata": "WwJ8JlEQ5T8J0p2nOPDhP/lpZkuyHPm/h8b9YNzfnj9tANEISd/Avy5NGi1VTea/LreMETC5xz8A0NFEwVbuP4uif1L7gfO/W40lJNR06D+2ZIKAprLLPyg+xcc98Os/LwQr/oUixj8I76WFc472P0IbOLG7XANAXIrmxZwLAkCjmyLSe+fOv98NI9VjD+E/MOWSWo11AUDtTzSQlDoLQOuU5qyvzAJATTqt7P8SCEBGLF9EXXbaPz5xsogVZ/s/8FAI8uyWCEBUhqiAkZ/kv+Guft6ic/Q/ClIrEcWo4b/T4srjTLDtP52sP2ytXdu/RWhUYnqH1b/7WLd0n2Dwv8IVpp78Yuk/eZoIQRY+5z98w4jSsyz4P93eXqlSWQFAAUdld5mY5z9x8AeMlP7Xv670YWS+tuC/4ZCBoNer7b+9khnJugDtvybn5jKSP/q/yrjrpdCDxL9kqGKH97Xmv8qCKlTM+wDA8TgIM5F+AMDZhRLwPrG/P5wX1jblEvS/ILlI83uY+L/39gWbygz0v2yG4BPfVss/kYB9QyQc9D+mqhCEYeziP4L7Vjdly+m/tjmITW4j6D//WPBgxovhPzO52PHJ+MU/GHdywjDppr/rh4znIA3rP4hj7hyQ/uo/tXbKqTwX9z8zvn7DilrmP/V3VeN2I/Y/x6rG1PNf2T9Bbpkd9S+kP6A8I6MuYb6/noexGdPT9r+6OPjPtqPyvyP67i94nuK/2caFcmR1Vb+yfNBXOtfNv3om+6epPLu/ACXVX7j++L/UoXKP3xPJP1Wnxa2u6uG/yDnDJz+C5794oYsEEf/pP3u/Vx4rDOA/OuRX903c9z/YY1R0fujyP19uz83Db+o//gIIbCYiwT+3bYIPHNwEQPbup1Vb/+g/nGIjaYc78z+BimtK/d/bv4Z44IMS0QFAJBYEDj/C+j8QPMN/bTnzP66UcAOqzPI/8dxKiwch1r94hKKLXIzqP59XIj3Biba/8vmKvEnP6z9LDNIGjb+vv7dvtnH8i+Q/hjRMoyWH0D+2tSM3GYLdP+B+ASxUM+w/gV51G6ki4r+npncGEGKzv06b24x+j+I/I1DQtam84D9SzCXQ6M3UP3NAZzPPl+E/zSGN0vW14D+Um3SIYr3LP+YjyvmWntg/2AlLYZCi8z+3/hoOIqvgPxdbdfB85PY/1BlWjrVC3D98KaBwNHLXv4mCS9jh9+Y/X2Rp6jRY6D+b/rE8hJDUP2dOOgsjD1c/GnP/PoH657+YkbbG+FTZP071O3qsK+A/hsxdiQ5T8z/TOkPCYXLnP+NdAVdD77s/lIN8Hg7R8T95qtaHRxH2Pyj/aPSzUtE/nu4DMOdixr/JHFxVgbjhv7M73gmlz/U/m7O9X3hU27/1JDm3YEjgvzCyLkSDZPK/oGcCJV9Wzr8HShOmduG7v+S9dwvM5MA/liRPZOqz0z/ke0ayhdL9P/i8sCyuss0/usxuOe/E4T8Xlsljp+HJv4bmOYhJRdI/0zvi80bW0b+cCTipii7yv8qGi6rmatu/SEcaisyN179mQxalF1vQPw9oYS1RcO+/8+ZNeu31hr9dM4i1v3/tv4ogNFolxMM/ifxVqp8c7L9MkgKEdObov8J/4vJzcuC/OMXJExuH4b98s5rSwPkAQCFh0CWbCf0/KJ1XBJXl8z97T8Ce0J7xPypXN5nfPvs/ouSSQZst6j93Wpj6/l73PxaECv7eM/g/1nOnAbHZ5T/GaHbcd1T+PzyUwC70FQJAFHmbGG5Z9D+6w5+OEafkP5/NheriDY+/DydoNuvh9D/1mb0cK6q/P8xkyBj6e8+/BK9Sl+rz+D/w2i0eOkn/P8TfwSLAbgRAnlQTxvAxB0Bvrj8Yt1P0P1RojDXfFgBA1CpSc+YI3j9jE0qX7Ov8Pw==",
          "dtype": "f8"
         }
        },
        {
         "hovertemplate": "label=8<br>PC1=%{x}<br>PC2=%{y}<br>PC3=%{z}<extra></extra>",
         "legendgroup": "8",
         "marker": {
          "color": "#FF97FF",
          "symbol": "circle"
         },
         "mode": "markers",
         "name": "8",
         "scene": "scene",
         "showlegend": true,
         "type": "scatter3d",
         "x": {
          "bdata": "WyxuakGT8T/TEXAzEabtP6Xu3X4WUcU/SeNhnEAX0D8mvfwXtJv5P2Jjdyh7yde/SgqLWkQFAUCZVyzZ9ZXsP4Hqc0HgFJY/TpZCz2vB3D/531NF7o37P2P4bMTy29Y/6Nm/4o1G6D9/6uEg3lDlP2h4JvvUKNM/HZKgBS/Z6b/qi8j9NcPSv1xp9A/do9M/Qwj9WBh09T+/Ah76Rw35PwqxraYnOOC/yWTNM6syxL/a2kevH+a9PzsoHm3BjOQ/JRSDBRN+qb+mjkvJSyNxv0BLtEl+vO4/f8YHH38RwT/uMQIDzdrmv4tBnZ+N5tE/MqqqlA+9xz/InX6wm4zwPyvUXvFPfvU/B4+6KiMkvD9cvSjipDT5P85so6A6w/0/gBt0mOhayz+bABvMbUqkP/TI8TcuwPS/UUPxylTm4z/cAX5dG4T0v0NIWg6OFug/2cHq76RA7j+AYAADUU/Wv9f+hvMu+My/hujw4oH6fz+c3TV42YfpP5ubWFxZsdo/+h2goUDZnr9vfKdgMKquv4a/ljputuw/7GFSHOU8/L++cB46UiXLv8fzNLqyrPE/ms0ZtVgaAMCSaUPN7enIP1QzhXvTPuS/Xp9UOsgf3L8exJ/CBCfDv1g7NLd94/y/t+TRz+LLAMB8jr9fMKLbvwEwCAqvd9u/Ha3S7bfM+L9r5mCM3fj1P0I491TzseY/HhR/0tEp5z/gvkoZEFb8PwBAj6Nkaes/TAUhKYus5z8jQoXjmenwP+rnleXClvI/DfowodQV+L/HQwtW50jeP/m81rw3J8U/OH+C+24j6z9HOcbX157OvxQeZgRZ0vQ/V8vY3mpY/r8Q9j0Gx/3zvwhdDbGPcOs/2t1thecKkL9+Y4xhkc76v6EPJzjkgfA/po3YoFQ76j87PtEK9F/ov7outUJxqOy/bOuXY/wv1z9fxVuE6T/Tvy5TwCMZwcG/9Ux6QFZd/j9/98wTocsEQFe+Wm2kXgVAy1u2W5q/BUC/7Nu+AEzwP4TWAANznQVArAibk6Hf8D89t0Hvh3/WP4R1mN6VwwZABSoyIgIH8j+IcHSgTb4DQPfmN3QRt9O/ZLoGSIOaA0BGwgftWA4FQMQhVcyDOgRARzhrEVAG4j/O91aQ/FYFQK857jwJigNA7RbuLNZe+z8dnLhX1/X3P27wuqww+vw/nunzPasl8j/7AOVSL0v9P+TXoPdEwANARCDlc3+gD0C2vilJIeD/P/Q5ZXOkngNAQ2WNExSEBECEdk3zS8XwP5kKpIiIafg/PAi6GRBBCkBL8UsJKIUCQLg09qcGYxBA2HO6WPE4+z9RzVwV+AX/P7DG/CZWm/0/PNkjKi6SAUAfu6FEE8HuPzjsxPdLDQhATixBuip9t78Jfp9/4lThPyWkWmQbHtQ/6yvbW4Zg+T/9N79WiNDiP2JKhg1G5fw/GGci32ME+j/UmXj4QIfjPwkLq68wjPM/cc1RA9j68z/+n3qKTnXzPwJYcEW2Vt0/YvMbVejy9D/ldGxAtoLZv41dMEOFM86/blw0hI9VBcBlGWq1lyXcv7/Szj4LWeO/YUFyxuKR9799bKUZoy/4v10TzLoVu6m/lwBu84O0AMDZZSVTOyLhv2MXJ5xewfi/EXMAvXlezj9CfvqllqgIwNVwZOGf2PK/PZWF81Po4D9zjC4wQNzwvyAyuCTgn/+/nhrTJjZH879yu1qzndH+vwriu7UvpQFAWEbAhieYBkBiDp3EsK/7Pwvw3I0pOeg/fOqAGo86BUBP508CiLP7P+Uw9g3RC+A/y1RDP+j76T8rwqmVVqj2Pz4EIh/NhvM/vBb+xsuG3T9YhhedjVzwvzQXUnuMH/Q/",
          "dtype": "f8"
         },
         "y": {
          "bdata": "/S+znWxO5b+1rQ0ILgYCQJ/UAfU95O0/hGAHz31UAUCTERiTwUvwP+MKxbi34/c/AygF0qfe5T9nlksrhA3yPwtoX0ThtuY/6VPoIALP+D8ZIgxX5We2P4wM22ShrPU/WuxY9KvW6T8CeX2rCI6nPxitsujvHOy/UWZWtrdp4j+cGW9QQerRP12NDu1Yhmm/QzCKWZNN6r/hDJOyl6PXP1FLu2MJAPW/aTy9zmO+5T+nQQPRxoHDP4dI6xuO0NG/GmeGQW2G4r8+gUVfK0HRP/9yRROCCrO/3G1SlTwr9j9UZ/6fQu/7P2+Nf7d8DuU/QdxN13Zr8z/c1saJqOzRP9r6dNji9+m/9b0jjldx7j+zuM0Dyi3QP+LT8aJj3Pq/VumFZibK9D/0fCMnZ0kCQBSspL8t+/k/+6GjW2Mv+T+Bh3NJv//Rv89/khC53cI/ZVwu5Sgc0D/6wQNj2hnlPwboY+3kmvw/LfO39tG41L/Y2AsAGjX4v0KJPMfZsfI/7NC8JiVlAkB9642rMtBrv69zCXLbyPc/ln4tZlE18z+bZ2Dh4r7yv/eHd8gQfei/7j2r4c2F0z8vZKM7o8Lsv7HtcjGw/ei/SAOwwEbu8L/wZZ3gsR/sv4Wo2Tb0buU/117Nyv7S7T8nuyjkUDfLv2Sq6B+h0d+/SFCYHEL+5j9SjZhfVK7Uv1TEEbFJfsK/jyRiabzx3b8Q42WDIG3Wv8ZQ3jXbv+I/fw6IMBuf7j/teLvln4rlvydQ7T+zauA/zlRfqOJY8j8V+jX3z+qHP3fMGWrBHOO/vKEVF4628r9STTc9OI7cP/0K2of4zATAPrKJ7XM3vj/+aUGw3gLaP6AO1WPR7ea/XGTtJZue4T/+UmDDO5zpP7AdMxYkpuk/Eo/0gyJf879i2dgjRn33P+eX/qoAcfo/nGrqqDyi+L8wKoRY3uXHP3GD7m4bbPu/Ajb4eKbTrj8WLz9rkanuvwY5I9dXnPK/0OER705n5b+Ox8OU8lLLP6SFUFyFFPC/gumRF1jY4j+cIs7S203Dv0GqxX+rGAHAk1fD3joVwz8W/hiFRiHTv9LW3gfOR/s/yuyGTH7iAkA0GvbIzhncvy6uqi7G1Ni/3y2HOzRh7j/3ojt5CnQDQJbr/vu0fOE/6O9PeG2/5j9k7ud1dP77P7RpsHylnM2/1FTKd9FpBkCCEVJdHY3wPyL0zG37kNU/WOiKbmmf0b/qINutT97rP33C6e4rbwNA+KODAH/4/D9BBUXeNBsCQEWiEEKZJf8/KlG06Dc1CUDg/Bi5mZMAQCXSZAY1rem/+uflnuXz+D/8i7I7cyD7Pyzp41oRpgRA3ZSeJkyq7D8yfAfu7DnjP+YX9IzD6eE/R7DkTtM2AUCvTBGxiz//Py1tMemGC+4/DIttl+Lx8j8AGmCYarDXv8vtOMItivs/uRFsU6ig9j+w9G09qOH0P/g870mbZ+A/7L6Tq7cm/j8wrhvYm07aPwrAUqVaAO0/s4d0+ceQ4L+Baf27zg7sP7kkNRDZRPE/hh9o+zav7T+2BSQi6+v3P3y1YBCkQQJAojTPRHUt/j9w2egqj1X7P/HkjmtbWQJAMnHIU/GzC0DXrYcJ8C/zP6e6oqxsC8i/ONIVIOBT5D/mtqVSa/LxPzlV5AeSdc2/dt+uFLQc6T8PyRb+h6fwPxCsRoL0gdk/9npfo9JE7z+g+7A+KQABQEEATaOIhus/OK0RUwrt4T+1PsrKHRHYv0E0PHe3zfS/CjHzJ6Fy7j+wPPptlQ4CQEhu/RYnuuK/t+mS7R859z91ZxBf9oDwv08eI7Rq9fQ/4tPoL3bR+D/y0eJNvu7Cv6SCTSob0gHA",
          "dtype": "f8"
         },
         "z": {
          "bdata": "JHAmLvUApb8XBA+S4Ib4P6plxGV+JfQ/95CTrWLz8T8vls1muoz3P7jhvKP9lfM/9uxx1Ow6/j+HHPBJS432PwzBnG2LfgFAu2Lwh2xEB0BVLgiHAkAIQJvkWh+hevo/uW4Y+iLJCUAfvTroeGXyPyLq4dYXNO4/ITY77wdFBEDXqUZPk+b1PwVzXHqZuwZAYo8rSxMs6T/OE7ghhNUFQNdk1Lqhp+k/tu4npmdnCkDX/YiV4QL8P4o1Vp2TugFAxkPsYpoD8D9X1xtM54bzP/GlX/H9/uK/wAb4VJYK6j/qfdtAjBfsPxk7mLuQQaO/lNobM9yp4b/Mv4585CX9v3FlsSQJauu/8e0jcfCk1j+jJTXkcD3vv8pHBSpf7Ou/q5aZlynl8b91Ncuq/uzxP6JlSxokBMq/wQxfT4ol5D8CoSghPGfyv5uTgSszv+u/JBrHQoNUuD/pdQgzvNT7v6P7M6H5Lty/QRgHDRJk+79gOPmAM8nyv6w/T30d6bg/VBVjLzwJ4D+LNMLD1d8AwBeC/9mH0+e/pXi9LGOu+D8djO7d9QoAQCjI/fcWg/E/HAq7btpH8j9Q5pbsGbIBQErNucmpavI/cBaSoFJE9z8SxbnUXdQDQCrtkPBXl+k/G1Dx1Xrj4j+1tsXkyFIIQLQ5c2Y42wFAsiCXkjsNAEBQdRU7NpzYv4mPDzGn2eK/MBfj8kMo4r9Q1hTR5RHBP5xuNT9Pmey/JjzhUlfq3D+Evp0utkzTv3PacJfCXPU/j3UL60eFAEBQcVP5M0j2v9pBQeTCmfo/90NS5fJ6mD+kO67nwpHGP5syp83m0fU/qOXcjWX48j8QRWbjoq78P3lmzyFHJsy/Resdvx4y9L+I6nfEksjxv1xZmrPZduY/3lSzbxHg+T/XFJfbDFjHP0Jehts5VeK/G6y9N3pLz79AfzkjOXjiP43j2ykRaQdAIEuFB4b2+b9qKY9P+jq9v/23oc0sp+S/eOD98l5V97/YPDxV7R+2P0kTDqG/kfK/g2oTLDvY/r/B8dWPRT3yv9ctYH08P+q/KaN+S7Ue6r+oxJpL/9z6v1Ss3ZjMp+G/30uk+uah6T+N+eJthkKdv9TqNVqfcMO/NgXlurUL3j8NA71EM1L2P6hYM5eB3N+/g8w+A510hr9x/kqI667BPxFUrUGR3fE/DehSgMB58L8jWtGqJ+b9P3+9161d6/M/NPKjES2P87/sEpFDhd/xPxQJQ3HTYPk/Ms8eM4cgob/6crk+sKzfP/Ki4nLbLe4/W/GPO5kT5D8N4T5mK1TxP0diiInjMvg/NLzfDdo8BUCE5B2+tFn2P2eS7KtZ0fk/KiARAjXZ+z8hLGyC65v5P0gcpocGQP8/s6FWfieA+D9pZe6aF5/6P3XnQWuTWQNAdACDN60c+j8cBv173zr/P6gfdKtx7f0/bFxc7uiF9T90V0OVGu4HQMSd6u4Yfvw/zmGbI2ck8T81sy0MYqT/v95mUpazMvG/OCVfLxlr4b9keq9Z74H2vwTQfzjYTfe/YEVhrHnC7r/u+e8tbzDyv9T9ZgeT8/a/YNosLmN497+I+qBu2jrlvyazgrYz6c0/oHrK33ab1b+c69mjanHOv11gD6AdqAJACfXm9SrD4z8Jp+F7ta/1PxGiWiI6aew/ZJvmtF/W8z+L4ih6irnzP7X/uekST+o/9DtYRpE4/z+xEBzb6nz3P4uxjrZtFsC/3huCKrxd+T+y2k5kbObkPxFm/55GGKe/IAqXfmG+7j9nt1CRBRTVP1tGLu1qdPA/Ml05a5Mq+j/PgyfcICPzP9MapAywlAlAALmfbCk4B0AvgDCMgcIDQK8U+Jj1JtI/",
          "dtype": "f8"
         }
        },
        {
         "hovertemplate": "label=9<br>PC1=%{x}<br>PC2=%{y}<br>PC3=%{z}<extra></extra>",
         "legendgroup": "9",
         "marker": {
          "color": "#FECB52",
          "symbol": "circle"
         },
         "mode": "markers",
         "name": "9",
         "scene": "scene",
         "showlegend": true,
         "type": "scatter3d",
         "x": {
          "bdata": "zivnkww34T+Dw+uZu/cCQJmynLWKHQBAq6yM/wu59j99K7ekt2AJQFXtKyZRtwhAlD+GJWbaAEApCXBeH7sIQEurxHU0L/s/WVh7V8wA9D+OhNV7nq7XP5KrF+u50wFAXdQss9+rwD/3KB5zyHD0P6pU/QRYHfM/82S/nBQf7z+6XfWSPwvUPwjMwIihW9E/in0uV9ib+j/LQRzsiB7pP64mhq8IwfY/NI6wNKFA+z+deujQGGjmP2y4fi0Urcc/In/AWb3f37+71YEwLarSP+oQebqwnX4/fcGcsaINAEAoBW0YTN3lP8NwxPKRy+o/3fwU48058T9iMLvZTcHyv+AiInJ/mNs/Iy4CndE35L+0cL34jMnbPy9chGwjIwrABwOFxNrfEMBVd8ix06n5vxx+vYPpFvk/QFf0wnz58T81mu6kBuPkP0/7/Jibb9o/To/olAvKAkDSVW1tflMDQGwvVzYlzgNALKKhJ15q9T+hNvY1HHTwP9zsHrIuku4/mzD67m5d5D98F6TDGdTvv5BOCdwADPE/ssT61ohO0b91XR2iRv/nv1E1tPIMKgFArriji5Aovz+k8ORpljfxP0kvw9q8x9Y/y6LYlose6b/kjPUSPEACQAqJ8ToRgN4/C7CfXUnq1D+8RpyoUnH/PwqJLQ7dP+w/kbSGtG6Z3z/8UQ6hVXsVwCb/3HKPKRHA7TuMphznDMCQzC8GtfkRwHLjkVftVQnAzb93EsxYEMBy55u+kT4PwG4/inp/DAfAvqLEwWgeDMD+To4s+M8TwC2+jGxMoxXAcDWbn3k+FcBITZc9kEUQwGde7wehDvs/Dc8Ylxl98b9Rzs1AhSKVP1Y3QAYOruU/TcFE8lUT+T/R3b5D2JXQPwVMyp4C7MA/XhtopWLb1D9NM93WL0y6v3r5jb21dtw/JTAzJBYQ8L+bq4lrZkj0vzVHt+kgvvE/wg73HUbzBEBwBft22wwFQCf9EYQM+QpAAMup+whPBUClhWrPFDv3P46lfS8xwgNANFAXPtxf/z94L9b8TqQGQN4anCznj/E/IQc2QX0hEEDhU3rNRJL2PztBlJchBv4/s2wo3/GFDEDGw5XwZPn/P28JP+pxIfM/5UGQ9YwL+j/CcFmhuyvoP8x1NGCVtwJAVSWhyYsd0D/IYnUgy9LpP2KLZmrJLQFA+ersde80+z9N3TsEijX9P08Oz4p8kf4/cRaHOqnuzT+D8ozhg4n/P0kNN2BWnvM/OJpH2ShN9z+8qcTagprGP0NqSTxn3f4/GoBmdbFZ6D+zOWdP0a8EQMzA2DEJjPA/VBZFiDWt0T8lnDFj674BQMvbkOgY8wFAGrmFxM2n/T8EN0i8r2H8P/jgogrFXuQ/KZLj3EhuBkClI/PkPQECQOYhHzeDGQBAubZnnEvq8T/kJ20lAOPkP9sc93Hxx+Y/WwunKpQRzz9NIOCeZyv/Py6ZG6/Nvfs/OntmsGw06z9GsOGuSdb4PwjCTj5hyeC/C4225QVL/j+CrPJPKjX5P2xI5ee4DwRAsngw3WPcC0B6Xg7J/rvzP+i391i3XwtA4VydN5vDBUAS8b3EAF8RQPQ70i1K2es/ehLOJSFhD0BHJUT4kV4CQCktdmk2nMI/XN/9f4hv7T8L/Wn4sYgJwJdPk/xisATASU2N7g0QFsC7FNS1cAoNwMMSha64Ife/YW4GKOoF/z/UO9fbN5wFwOP4+nDGQe8/iiuIdu1p8r+MW2ta6NvxP3juADFe4vc/g1HYJo/xAUCltDJ8hHLmv2ukPsMmqwVAffDMFnCT+z9Qx8debWz2P9BGbtF+ROg/tfwT5+qV/z+M/OGCCXP7P7QK9XgxPANA5nH1jnJmAECfihQug4j2P3SnOUpEBv0/2YM0GTzE5j+u3w68aLW6v5mNF62FN/G/",
          "dtype": "f8"
         },
         "y": {
          "bdata": "mhr6VDjh6L/7bO6vj3QHwJkmI1LHAwPAea974OYEAcBcKfXXfVoGwK1TH4wMKdy/+u35bwyoBUDJHUM45Yj2v6R/csW/ZKs/v+fCxk9V+r/XhlYvPgMBwDUF1VLz3vA/PLf4yWEh0b+0k13XBxr3v2SWw90Gldu/HSblSTBi5b/ZQsKhBfPmv72zhA+TA+e/fLF9cgwb+78dGeINq+vyv6ClI54J3+Y/mcUBhdeq5z95rXl0sF3ovwVQq7VD8+K/yxLSHG7cyL8nXbb38gcHQLIfUpKs7RFAXwsrjc2L0j9UCCOf8z7vv3erPMGFM/k/ZOO4giOr378sa15oDOcQQCAhleegIAxAXHC+SDO/C0AatH0kuOMOQJhNmEAwMxBARLcbk0T/BkBkH3IxEtQJQC0Z8sAP0ro/5A0dAiDq+L9X08hv8SDyv0+r62Gcqe2/lwyYALWj978X1oJHIsviv8a+02C5Us6/8E8a4cBe37/l5eIt35XuvxBiQD8w4f6/NDlxYZpz87/Vl2pdYvQBQPvYSGt4euC/2LGc5wW1pj/MGzwyYRbGPwOjVdOlmfS/O3K9HW+S/j9wlm98Im7wP3EUOwHXmNm/Hc1CYOeO8z80tXk/AuLJP+ErKBCBnOe/q4iEokVY77/DN5YEa7bZv1ZykO24c/E/EkmwZACN8b+74kmYm/sTQMQbeAPc8AlAR5BqHOzBBkBBOPQ8O2QFQGcFHqgJsg5A1irlWlDaBUBkftKb9ikNQKrQ8V7+RwBAoKFitFZ/B0CxoegH6PIRQBKvl9L8qBNAc7nTz0ikEUC3ZJY5WukTQM+Wv9eO5Pe/k7NpTV+qu78VCX6luaYBwJAp1df6ttW/eCEVZSyfAcAmdDEuPiTrP6JcTHhg6fC/aehSGtkG1r+GEnJJB13pP2/g5UVVmui/UajGvhJ84D8Udp8zQm7EP03uy9lBt7a/iL5MTsdjAMBlIdXkIbP4v47neNAw3em/6CVYus9Z2z/dFMF9quniv/MD0MKy0Pe/XBqk1tnT+L/ukRdi5SX3v75bCD1x7/m/rCdTAdXq+7+RoUaVwqLzv39Tv+cpVPG/mutGC02Y67/MAjuN1BLiP9B7sq/yMt+/LfVFOJ4G8L8r6OjMpOX3P48HKxtao/a/UfBdkSUS8j+b5kvxAJ7zv5ncxbuikf8//asE7sCXAcB9ccr5IsrOP1otR2wAnuQ/Zc5+SZTD8r+CO/DJQR/3Pzi+vNamSu+/wDREt0/hCsAwI6cMwA7fvz/sJFv9xsK/23gt44uf2T8XrBb0xnfiv3gRAo0WIeu/uBt3EDyX9T+agiD5NG3jP2rpCAc+HvU/z7W18MWv9D8ONQgux+DOv7IBkHi5YfU/rZ02aWlrAMAffZJWtrfTv9g0YrrbTdA/cWp2LBMmlj8oV0yPSCjov3F2m/ywba2/6Zgu5NqP5r+PNpg/qVHEv3eOeFcTyPK/YGV99spF8z/JGBrxjT/3PzNM9I+9PfE/z+DNNKXb0j+kMs1+K2jeP0ZRTAOLYte/7yv/4GSo2L+hLpIjtYLTP0xQSXBRcuS/YAVIwUp/8b84DHUkUouJP4IRymwD8Mg/gRWbSrSV5L+7jouo1TrJvw43aR7igANAXhUg3M2Y+D+6j8jAt1ECQGOWLRVZrBRAswAFRVeBIUBhDkHKygUUQC2ZTOb60QxAMY9mxzaECkCV8d4lV4wMQNk7DUurcvW//riDIwpiDEDfS/ypdsXxv10NhR8+5tI/2Sf6L6whAEASZIXja9QOQANyCYoKiuW/EN9N+GZLzD8bzomDh/jqv8otY/9Xz7o/CdvQ0cbL7z8GJn0B78rpP1vXjMaXNPG/N0SkN3qW3b90K0u1thvSP+AHARoBK/M/6AOZ2dE20D/E0+6nUFLQP9zq6Z/EYNi/",
          "dtype": "f8"
         },
         "z": {
          "bdata": "h16CDU4a+b/RkHP7O2jYv2KXzBgpp+a/Yi7pj+Vp5L9O8co6NIrjv5Aa5Z8VqQrAOfGdFAT19z+dWq5r2L0AwPUnTscFIAnALkF1VzlEBMDtE+I6vVQAwNYvrN8AjvS/U+qlSWbDCMDmJbzrA/IGwEMqM+5E3grAx/ItydPFAsCJq5Gqs+72v9XP/iY4ywXApuxSvxIZBcBWsL2YsB/+v2GmQ21HGAXAJwyETRAsBcBSh1NyOUL/v90krWjMDwvA8jTTGPZa+7+nWEfO/Avvv/T88WflvN6/O/0nV3BPDcC0wgVdghMHwBCJBJAiNgnAwnYYppp+EcBFZYoFmTzav+EI907+gdm/a68v+sO8AMCO7yIbXYrXv6exWyyTHv+/4aCFk5JEB8D0+FgYzHzmv0rz3qceAQfAUJA22v4/AcA+HEkGqrAFwE4tXQXmEgfAHRw66IfHA8ALg67LoasLwIY7PvOWkg/Aus47jgTDA8CyFXDAx9gAwC4HWs+5LQDA1oginqmrCMBx5irmf8kNwCCT6hEZzArAFoQZzS0eDMAM4K2/+vYNwJhhmrL83gXARckGtVnL4b/TUm2EY60NwPYGZT8gNfy/Grm1A8B7EsAMsF0eRJ8JwK2g4L4zCgzArmhEbmNdBMD2UY9rZ6ULwMU+WQudTxXA+cApFXzjBcDTXT+KuCkGwC6o0bPn9PW/bkPtxvQgAMDjM9F/bebxvxUgxK9eCea/dv+Z7y4H6r++kUtI88XsvwTk9o6JRMg/OlB80i8d/L9wWhHhoXryv1cVMUbdHPa/bnCXlxC5B8DcsAynC//QP8tYwJA9/AnAuxgYM2cXCMBfMyPVWHwDwI35tBLv3wzA1ohItDVA8b9pscRs8LoRwL95fhiTdA3AfpegETAcCsD88NJamBoCwL2Bo8WWwQrAwJMdpF5aDsB9XNU0FSEPwGLN1L3uyw3AuwbiYAZnA8Cw0P+UL8cOwEi1XefkfQnArezLPOB5E8BE+0L3C7gQwKs8XTYjXwvA/LA9yaTQBsAE1cVoTisHwB+giCIlbwbAbksH863ODcB60JKOq9wPwKWTFkWOQwTALNEc3QWuCsBqT4oov4Dmv80ufuwJPgLAVdb0Kd8K/r+EO9wgs73yv4sTi+qjKPW/ZvdJuBZY/7+OW4jrDhUBwM3zKhum7/S/f27akV2Czr+V1f4OdccGwLymUXVj0/a/NtY4djGw3T++d1fZObH3v5e8y76IIxLAsuJZzOr3/b+pxwIkKHQNwANBqqpqiRLAGHBSWdaGEcBp6YOFlQELwHX/Xs19TQrAKOEp3PUbEMAxWFDTPccQwJD/feslwRPALbP8zwrBDsDJndAF4JsRwPiFf/miLAzAaVF8XK5REMDCpu7E9ggQwMnIaDNlCRPAEIq72pESEcAyJL+97poGwOdOqRZJcwnAlxnKvuqiBcC+nsBVuqsLwHn7Pu60xhDAnw4oVS73EcDGZO7XSrkQwBjdywkCPAzA6xlqCXkUEMDMcqpFzfEQwEz0P58ZVw3A98TjTfeFEMDzB6xT9lYPwCNdmBijtwzAFun4i2J3C8BUQwa4yI4OwMUorJHhpxDAPcZhQ3WiDMBrHvOc/iwRwF4+9jhoHQzAdiO8SpzeEMBz77wbSF/9v82m+PL5QALAMgKSudOcDcBbeVTk3nkFwLzVArFuyN0/kx7RTM006j8a9I6PACz2v8t0Yv/JagjA8ORBNOBe3T8FL6ayVF8JwJVuJvtx6OC/FAvO/q/K9T81FvF0HqrwP8Ax2L2k9g/All2pSBeDEMAqSzuIpWcGwIkGy+ZmTwnAQ/RBh5D6DsCBJ1fYwGYTwBo0YLhKsQ3AteDP8JBlB8D391Pwz4UQwAjxigO76AjAyfs5CXJ6B8CIn/KKeyAOwAPjulTWpAPA",
          "dtype": "f8"
         }
        }
       ],
       "layout": {
        "height": 800,
        "legend": {
         "title": {
          "text": "label"
         },
         "tracegroupgap": 0
        },
        "scene": {
         "domain": {
          "x": [
           0,
           1
          ],
          "y": [
           0,
           1
          ]
         },
         "xaxis": {
          "title": {
           "text": "PC1"
          }
         },
         "yaxis": {
          "title": {
           "text": "PC2"
          }
         },
         "zaxis": {
          "title": {
           "text": "PC3"
          }
         }
        },
        "template": {
         "data": {
          "bar": [
           {
            "error_x": {
             "color": "#2a3f5f"
            },
            "error_y": {
             "color": "#2a3f5f"
            },
            "marker": {
             "line": {
              "color": "#E5ECF6",
              "width": 0.5
             },
             "pattern": {
              "fillmode": "overlay",
              "size": 10,
              "solidity": 0.2
             }
            },
            "type": "bar"
           }
          ],
          "barpolar": [
           {
            "marker": {
             "line": {
              "color": "#E5ECF6",
              "width": 0.5
             },
             "pattern": {
              "fillmode": "overlay",
              "size": 10,
              "solidity": 0.2
             }
            },
            "type": "barpolar"
           }
          ],
          "carpet": [
           {
            "aaxis": {
             "endlinecolor": "#2a3f5f",
             "gridcolor": "white",
             "linecolor": "white",
             "minorgridcolor": "white",
             "startlinecolor": "#2a3f5f"
            },
            "baxis": {
             "endlinecolor": "#2a3f5f",
             "gridcolor": "white",
             "linecolor": "white",
             "minorgridcolor": "white",
             "startlinecolor": "#2a3f5f"
            },
            "type": "carpet"
           }
          ],
          "choropleth": [
           {
            "colorbar": {
             "outlinewidth": 0,
             "ticks": ""
            },
            "type": "choropleth"
           }
          ],
          "contour": [
           {
            "colorbar": {
             "outlinewidth": 0,
             "ticks": ""
            },
            "colorscale": [
             [
              0,
              "#0d0887"
             ],
             [
              0.1111111111111111,
              "#46039f"
             ],
             [
              0.2222222222222222,
              "#7201a8"
             ],
             [
              0.3333333333333333,
              "#9c179e"
             ],
             [
              0.4444444444444444,
              "#bd3786"
             ],
             [
              0.5555555555555556,
              "#d8576b"
             ],
             [
              0.6666666666666666,
              "#ed7953"
             ],
             [
              0.7777777777777778,
              "#fb9f3a"
             ],
             [
              0.8888888888888888,
              "#fdca26"
             ],
             [
              1,
              "#f0f921"
             ]
            ],
            "type": "contour"
           }
          ],
          "contourcarpet": [
           {
            "colorbar": {
             "outlinewidth": 0,
             "ticks": ""
            },
            "type": "contourcarpet"
           }
          ],
          "heatmap": [
           {
            "colorbar": {
             "outlinewidth": 0,
             "ticks": ""
            },
            "colorscale": [
             [
              0,
              "#0d0887"
             ],
             [
              0.1111111111111111,
              "#46039f"
             ],
             [
              0.2222222222222222,
              "#7201a8"
             ],
             [
              0.3333333333333333,
              "#9c179e"
             ],
             [
              0.4444444444444444,
              "#bd3786"
             ],
             [
              0.5555555555555556,
              "#d8576b"
             ],
             [
              0.6666666666666666,
              "#ed7953"
             ],
             [
              0.7777777777777778,
              "#fb9f3a"
             ],
             [
              0.8888888888888888,
              "#fdca26"
             ],
             [
              1,
              "#f0f921"
             ]
            ],
            "type": "heatmap"
           }
          ],
          "histogram": [
           {
            "marker": {
             "pattern": {
              "fillmode": "overlay",
              "size": 10,
              "solidity": 0.2
             }
            },
            "type": "histogram"
           }
          ],
          "histogram2d": [
           {
            "colorbar": {
             "outlinewidth": 0,
             "ticks": ""
            },
            "colorscale": [
             [
              0,
              "#0d0887"
             ],
             [
              0.1111111111111111,
              "#46039f"
             ],
             [
              0.2222222222222222,
              "#7201a8"
             ],
             [
              0.3333333333333333,
              "#9c179e"
             ],
             [
              0.4444444444444444,
              "#bd3786"
             ],
             [
              0.5555555555555556,
              "#d8576b"
             ],
             [
              0.6666666666666666,
              "#ed7953"
             ],
             [
              0.7777777777777778,
              "#fb9f3a"
             ],
             [
              0.8888888888888888,
              "#fdca26"
             ],
             [
              1,
              "#f0f921"
             ]
            ],
            "type": "histogram2d"
           }
          ],
          "histogram2dcontour": [
           {
            "colorbar": {
             "outlinewidth": 0,
             "ticks": ""
            },
            "colorscale": [
             [
              0,
              "#0d0887"
             ],
             [
              0.1111111111111111,
              "#46039f"
             ],
             [
              0.2222222222222222,
              "#7201a8"
             ],
             [
              0.3333333333333333,
              "#9c179e"
             ],
             [
              0.4444444444444444,
              "#bd3786"
             ],
             [
              0.5555555555555556,
              "#d8576b"
             ],
             [
              0.6666666666666666,
              "#ed7953"
             ],
             [
              0.7777777777777778,
              "#fb9f3a"
             ],
             [
              0.8888888888888888,
              "#fdca26"
             ],
             [
              1,
              "#f0f921"
             ]
            ],
            "type": "histogram2dcontour"
           }
          ],
          "mesh3d": [
           {
            "colorbar": {
             "outlinewidth": 0,
             "ticks": ""
            },
            "type": "mesh3d"
           }
          ],
          "parcoords": [
           {
            "line": {
             "colorbar": {
              "outlinewidth": 0,
              "ticks": ""
             }
            },
            "type": "parcoords"
           }
          ],
          "pie": [
           {
            "automargin": true,
            "type": "pie"
           }
          ],
          "scatter": [
           {
            "fillpattern": {
             "fillmode": "overlay",
             "size": 10,
             "solidity": 0.2
            },
            "type": "scatter"
           }
          ],
          "scatter3d": [
           {
            "line": {
             "colorbar": {
              "outlinewidth": 0,
              "ticks": ""
             }
            },
            "marker": {
             "colorbar": {
              "outlinewidth": 0,
              "ticks": ""
             }
            },
            "type": "scatter3d"
           }
          ],
          "scattercarpet": [
           {
            "marker": {
             "colorbar": {
              "outlinewidth": 0,
              "ticks": ""
             }
            },
            "type": "scattercarpet"
           }
          ],
          "scattergeo": [
           {
            "marker": {
             "colorbar": {
              "outlinewidth": 0,
              "ticks": ""
             }
            },
            "type": "scattergeo"
           }
          ],
          "scattergl": [
           {
            "marker": {
             "colorbar": {
              "outlinewidth": 0,
              "ticks": ""
             }
            },
            "type": "scattergl"
           }
          ],
          "scattermap": [
           {
            "marker": {
             "colorbar": {
              "outlinewidth": 0,
              "ticks": ""
             }
            },
            "type": "scattermap"
           }
          ],
          "scattermapbox": [
           {
            "marker": {
             "colorbar": {
              "outlinewidth": 0,
              "ticks": ""
             }
            },
            "type": "scattermapbox"
           }
          ],
          "scatterpolar": [
           {
            "marker": {
             "colorbar": {
              "outlinewidth": 0,
              "ticks": ""
             }
            },
            "type": "scatterpolar"
           }
          ],
          "scatterpolargl": [
           {
            "marker": {
             "colorbar": {
              "outlinewidth": 0,
              "ticks": ""
             }
            },
            "type": "scatterpolargl"
           }
          ],
          "scatterternary": [
           {
            "marker": {
             "colorbar": {
              "outlinewidth": 0,
              "ticks": ""
             }
            },
            "type": "scatterternary"
           }
          ],
          "surface": [
           {
            "colorbar": {
             "outlinewidth": 0,
             "ticks": ""
            },
            "colorscale": [
             [
              0,
              "#0d0887"
             ],
             [
              0.1111111111111111,
              "#46039f"
             ],
             [
              0.2222222222222222,
              "#7201a8"
             ],
             [
              0.3333333333333333,
              "#9c179e"
             ],
             [
              0.4444444444444444,
              "#bd3786"
             ],
             [
              0.5555555555555556,
              "#d8576b"
             ],
             [
              0.6666666666666666,
              "#ed7953"
             ],
             [
              0.7777777777777778,
              "#fb9f3a"
             ],
             [
              0.8888888888888888,
              "#fdca26"
             ],
             [
              1,
              "#f0f921"
             ]
            ],
            "type": "surface"
           }
          ],
          "table": [
           {
            "cells": {
             "fill": {
              "color": "#EBF0F8"
             },
             "line": {
              "color": "white"
             }
            },
            "header": {
             "fill": {
              "color": "#C8D4E3"
             },
             "line": {
              "color": "white"
             }
            },
            "type": "table"
           }
          ]
         },
         "layout": {
          "annotationdefaults": {
           "arrowcolor": "#2a3f5f",
           "arrowhead": 0,
           "arrowwidth": 1
          },
          "autotypenumbers": "strict",
          "coloraxis": {
           "colorbar": {
            "outlinewidth": 0,
            "ticks": ""
           }
          },
          "colorscale": {
           "diverging": [
            [
             0,
             "#8e0152"
            ],
            [
             0.1,
             "#c51b7d"
            ],
            [
             0.2,
             "#de77ae"
            ],
            [
             0.3,
             "#f1b6da"
            ],
            [
             0.4,
             "#fde0ef"
            ],
            [
             0.5,
             "#f7f7f7"
            ],
            [
             0.6,
             "#e6f5d0"
            ],
            [
             0.7,
             "#b8e186"
            ],
            [
             0.8,
             "#7fbc41"
            ],
            [
             0.9,
             "#4d9221"
            ],
            [
             1,
             "#276419"
            ]
           ],
           "sequential": [
            [
             0,
             "#0d0887"
            ],
            [
             0.1111111111111111,
             "#46039f"
            ],
            [
             0.2222222222222222,
             "#7201a8"
            ],
            [
             0.3333333333333333,
             "#9c179e"
            ],
            [
             0.4444444444444444,
             "#bd3786"
            ],
            [
             0.5555555555555556,
             "#d8576b"
            ],
            [
             0.6666666666666666,
             "#ed7953"
            ],
            [
             0.7777777777777778,
             "#fb9f3a"
            ],
            [
             0.8888888888888888,
             "#fdca26"
            ],
            [
             1,
             "#f0f921"
            ]
           ],
           "sequentialminus": [
            [
             0,
             "#0d0887"
            ],
            [
             0.1111111111111111,
             "#46039f"
            ],
            [
             0.2222222222222222,
             "#7201a8"
            ],
            [
             0.3333333333333333,
             "#9c179e"
            ],
            [
             0.4444444444444444,
             "#bd3786"
            ],
            [
             0.5555555555555556,
             "#d8576b"
            ],
            [
             0.6666666666666666,
             "#ed7953"
            ],
            [
             0.7777777777777778,
             "#fb9f3a"
            ],
            [
             0.8888888888888888,
             "#fdca26"
            ],
            [
             1,
             "#f0f921"
            ]
           ]
          },
          "colorway": [
           "#636efa",
           "#EF553B",
           "#00cc96",
           "#ab63fa",
           "#FFA15A",
           "#19d3f3",
           "#FF6692",
           "#B6E880",
           "#FF97FF",
           "#FECB52"
          ],
          "font": {
           "color": "#2a3f5f"
          },
          "geo": {
           "bgcolor": "white",
           "lakecolor": "white",
           "landcolor": "#E5ECF6",
           "showlakes": true,
           "showland": true,
           "subunitcolor": "white"
          },
          "hoverlabel": {
           "align": "left"
          },
          "hovermode": "closest",
          "mapbox": {
           "style": "light"
          },
          "paper_bgcolor": "white",
          "plot_bgcolor": "#E5ECF6",
          "polar": {
           "angularaxis": {
            "gridcolor": "white",
            "linecolor": "white",
            "ticks": ""
           },
           "bgcolor": "#E5ECF6",
           "radialaxis": {
            "gridcolor": "white",
            "linecolor": "white",
            "ticks": ""
           }
          },
          "scene": {
           "xaxis": {
            "backgroundcolor": "#E5ECF6",
            "gridcolor": "white",
            "gridwidth": 2,
            "linecolor": "white",
            "showbackground": true,
            "ticks": "",
            "zerolinecolor": "white"
           },
           "yaxis": {
            "backgroundcolor": "#E5ECF6",
            "gridcolor": "white",
            "gridwidth": 2,
            "linecolor": "white",
            "showbackground": true,
            "ticks": "",
            "zerolinecolor": "white"
           },
           "zaxis": {
            "backgroundcolor": "#E5ECF6",
            "gridcolor": "white",
            "gridwidth": 2,
            "linecolor": "white",
            "showbackground": true,
            "ticks": "",
            "zerolinecolor": "white"
           }
          },
          "shapedefaults": {
           "line": {
            "color": "#2a3f5f"
           }
          },
          "ternary": {
           "aaxis": {
            "gridcolor": "white",
            "linecolor": "white",
            "ticks": ""
           },
           "baxis": {
            "gridcolor": "white",
            "linecolor": "white",
            "ticks": ""
           },
           "bgcolor": "#E5ECF6",
           "caxis": {
            "gridcolor": "white",
            "linecolor": "white",
            "ticks": ""
           }
          },
          "title": {
           "x": 0.05
          },
          "xaxis": {
           "automargin": true,
           "gridcolor": "white",
           "linecolor": "white",
           "ticks": "",
           "title": {
            "standoff": 15
           },
           "zerolinecolor": "white",
           "zerolinewidth": 2
          },
          "yaxis": {
           "automargin": true,
           "gridcolor": "white",
           "linecolor": "white",
           "ticks": "",
           "title": {
            "standoff": 15
           },
           "zerolinecolor": "white",
           "zerolinewidth": 2
          }
         }
        },
        "title": {
         "text": "Visualización del Dataset Digits con PCA (3 Componentes)"
        },
        "width": 1000
       }
      }
     },
     "metadata": {},
     "output_type": "display_data"
    }
   ],
   "source": [
    "# 4.  **Visualización 3D:** Adapta el código de PCA, t-SNE y UMAP para reducir los datos a 3 componentes (`n_components=3`). Utiliza `plotly.express.scatter_3d` \n",
    "# para crear visualizaciones tridimensionales. ¿Añade la tercera dimensión una mejor perspectiva?\n",
    "# Ajustamos PCA para reducir a 3 dimensiones\n",
    "pca_3d = PCA(n_components=3)\n",
    "X_pca_3d = pca_3d.fit_transform(X_scaled)\n",
    "# Creamos un DataFrame para facilitar la visualización con Plotly\n",
    "df_pca_3d = pd.DataFrame(data=X_pca_3d, columns=['PC1', 'PC2','PC3'])\n",
    "df_pca_3d['label'] = y.astype(str) # Convertimos la etiqueta a string para colores discretos\n",
    "# Visualizamos\n",
    "fig = px.scatter_3d(df_pca_3d, x='PC1', y='PC2', z='PC3', color='label',\n",
    "                 title='Visualización del Dataset Digits con PCA (3 Componentes)',\n",
    "                 labels={'color': 'Dígito'})\n",
    "\n",
    "fig.update_layout(\n",
    "    width=1000,   # ancho en píxeles\n",
    "    height=800    # alto en píxeles\n",
    ")\n",
    "fig.show()\n",
    "\n"
   ]
  },
  {
   "cell_type": "markdown",
   "metadata": {},
   "source": [
    "### Al estar tan apiñados en realidad se ve mejor en 2d que en 3d asi no suma mucho"
   ]
  },
  {
   "cell_type": "markdown",
   "metadata": {},
   "source": [
    "### 5.  **Impacto en un Clasificador:** Entrena un modelo simple, como `LogisticRegression` de Scikit-learn, sobre los datos originales escalados (`X_scaled`). Luego, entrena el mismo modelo sobre los datos reducidos por PCA (usando suficientes componentes para capturar el 95% de la varianza). Compara el tiempo de entrenamiento y la precisión (accuracy) de ambos modelos. ¿Qué observas?\n"
   ]
  },
  {
   "cell_type": "code",
   "execution_count": 42,
   "metadata": {},
   "outputs": [
    {
     "name": "stdout",
     "output_type": "stream",
     "text": [
      "Datos Originales - Tiempo de Entrenamiento: 0.0326 segundos, Precisión: 0.9722\n",
      "PCA (95% Varianza) - Tiempo de Entrenamiento: 0.0333 segundos, Precisión: 0.9611\n"
     ]
    }
   ],
   "source": [
    "#5.  **Impacto en un Clasificador:** Entrena un modelo simple, como `LogisticRegression` de Scikit-learn, \n",
    "# sobre los datos originales escalados (`X_scaled`). Luego, entrena el mismo modelo sobre los datos reducidos por \n",
    "# PCA (usando suficientes componentes para capturar el 95% de la varianza). Compara el tiempo de entrenamiento y la precisión (accuracy) de ambos modelos. ¿Qué observas?\n",
    "\n",
    "from sklearn.linear_model import LogisticRegression\n",
    "from sklearn.model_selection import train_test_split\n",
    "from sklearn.metrics import accuracy_score\n",
    "import time \n",
    "# Dividimos los datos originales en conjunto de entrenamiento y prueba\n",
    "X_train, X_test, y_train, y_test = train_test_split(X_scaled, y, test_size=0.2, random_state=42)\n",
    "# Entrenamos el modelo en los datos originales\n",
    "model_original = LogisticRegression(max_iter=1000)\n",
    "start_time = time.time()\n",
    "model_original.fit(X_train, y_train)\n",
    "end_time = time.time()\n",
    "training_time_original = end_time - start_time\n",
    "# Hacemos predicciones y calculamos la precisión\n",
    "y_pred_original = model_original.predict(X_test)\n",
    "accuracy_original = accuracy_score(y_test, y_pred_original)\n",
    "print(f\"Datos Originales - Tiempo de Entrenamiento: {training_time_original:.4f} segundos, Precisión: {accuracy_original:.4f}\")\n",
    "# Ahora reducimos los datos con PCA para capturar el 95% de la varianza\n",
    "pca_95 = PCA(n_components=40) # Según el scree plot, 40 componentes capturan más del 95% de la varianza\n",
    "X_pca_95 = pca_95.fit_transform(X_scaled)\n",
    "# Dividimos los datos reducidos en conjunto de entrenamiento y prueba\n",
    "X_train_pca, X_test_pca, y_train_pca, y_test_pca = train_test_split(X_pca_95, y, test_size=0.2, random_state=42)\n",
    "# Entrenamos el modelo en los datos reducidos\n",
    "model_pca = LogisticRegression(max_iter=1000)\n",
    "start_time = time.time()\n",
    "model_pca.fit(X_train_pca, y_train_pca)\n",
    "end_time = time.time()\n",
    "training_time_pca = end_time - start_time\n",
    "# Hacemos predicciones y calculamos la precisión\n",
    "y_pred_pca = model_pca.predict(X_test_pca)\n",
    "accuracy_pca = accuracy_score(y_test_pca, y_pred_pca)\n",
    "print(f\"PCA (95% Varianza) - Tiempo de Entrenamiento: {training_time_pca:.4f} segundos, Precisión: {accuracy_pca:.4f}\")\n"
   ]
  },
  {
   "cell_type": "markdown",
   "metadata": {},
   "source": [
    "#### Aca no hubo mucha diferencia en tiempo de entrenamiento, pero si en precision, siendo mejor la del modelo con regresion logistica que con PCA, pero por muy poco.\n"
   ]
  },
  {
   "cell_type": "markdown",
   "metadata": {},
   "source": [
    "### 6.  **Interpretando los Componentes Principales:** El objeto `pca_2d` contiene los `components_` (loadings). Cada componente es un vector de 64 elementos. \"Reforma\" (`reshape`) el primer componente principal a una imagen de 8x8 y visualízalo con `plt.imshow`. ¿Qué parece representar este componente? ¿Qué píxeles son los más importantes?\n"
   ]
  },
  {
   "cell_type": "code",
   "execution_count": 47,
   "metadata": {},
   "outputs": [
    {
     "data": {
      "image/png": "[encoded data removed]",
      "text/plain": [
       "<Figure size 640x480 with 2 Axes>"
      ]
     },
     "metadata": {},
     "output_type": "display_data"
    }
   ],
   "source": [
    "#6.  **Interpretando los Componentes Principales:** El objeto `pca_2d` contiene los `components_` \n",
    "# (loadings). Cada componente es un vector de 64 elementos. \"Reforma\" (`reshape`) \n",
    "# el primer componente principal a una imagen de 8x8 y visualízalo con `plt.imshow`. ¿Qué parece representar este componente? ¿Qué píxeles son los más importantes?\n",
    "\n",
    "first_component = pca_2d.components_[0].reshape(8, 8)\n",
    "plt.imshow(first_component, cmap='viridis')\n",
    "plt.colorbar()\n",
    "plt.title('Primer Componente Principal (PCA)')\n",
    "plt.show()\n"
   ]
  },
  {
   "cell_type": "markdown",
   "metadata": {},
   "source": [
    "### Podrían ser los que estan en las puntas a la izq porque son de mas varianza"
   ]
  },
  {
   "cell_type": "markdown",
   "metadata": {},
   "source": [
    "\n",
    "### 7.  **Aplicación a otro Dataset:** Carga el dataset `load_wine` de Scikit-learn. Este dataset tiene 13 características. Aplica PCA, t-SNE y UMAP para visualizar las 3 clases de vinos. ¿Cuál técnica funciona mejor para separar las clases? le? ¿Por qué?"
   ]
  },
  {
   "cell_type": "code",
   "execution_count": 48,
   "metadata": {},
   "outputs": [
    {
     "data": {
      "application/vnd.plotly.v1+json": {
       "config": {
        "plotlyServerURL": "https://plot.ly"
       },
       "data": [
        {
         "hovertemplate": "label=0<br>PC1=%{x}<br>PC2=%{y}<extra></extra>",
         "legendgroup": "0",
         "marker": {
          "color": "#636efa",
          "symbol": "circle"
         },
         "mode": "markers",
         "name": "0",
         "orientation": "v",
         "showlegend": true,
         "type": "scatter",
         "x": {
          "bdata": "JY1bprSICkBEmz7x+6wBQFvGcahIIgRAyDcXangODkDJJZg7fSTwP0lASofrZghAGxkfU7yXA0DsBNgJunkAQK2QfUNFFgRA6dkZN24HBkA9LZgvgNYLQCzxOcd3E/w/A9mH8V7oAEDH7FsfTqoLQMYXqWxKQBFAKHPtggZxAkCawSgWKmABQK4jtpkvYv4/zu9ORvxVDED00Uj6Ga0AQDipoMHG/ghAmcrES5di8T/HvvmPI0gEQO3Tf0vfUfo/8xuNLmov/D+Qnjteuq7vP/gToYOJZ/w/1H0260vE8z+0pCYu24EBQG6alt2CDAJAGY9cW3MABEDvxLV7VmsFQF9PwPmoDvo/1V87+Wtx/j8sGEaP85D2P/msyH4Sdv4/FM9OTGUo9j/ayfLBj/TxP9Mtxhn9CPg/4vnoWgg9BEBhxudfa7QEQJVzpFk0ZOU/oy5hQQORCECvymKi1ZTdP8Vg2JmRzwBAbiL3lbwt8j+AooAqFNAFQNibTFMakgZABg3UriwUAEB8OnAz8agFQJ3wK6cmuAlA/6BiVCbfBkBFPutLegsMQJJ3XmxfzAFAru+48wctAUA6rv/QL8EDQCfCufGg7gVA8y6sR9JjAUBZiU5Xcx0JQA==",
          "dtype": "f8"
         },
         "xaxis": "x",
         "y": {
          "bdata": "QE12RmwY9z9+pq4eT1bVv5Sea4CYf/A/7QDItwwNBkBVRWFyp9XrP0/Igm+t+gBAMizSpi/M8j9CffEOUL75P9D9JFjWYO0/nw/ryxJD6T/XCF9gW9b0P41+60RRleM/aiiK5mKf5T9bsWBaDxfyP7FxqteOxABAJ2HD18+Z+j/N/JVCUp4CQCG710AWGvo/5RWeXZElBECZxS/Va/rwPw7OwtZCLuk/RCl/43Pxzj8SxnDu3YK3v68VCGRbheC/as51CStM1L98Nr5j8hnuP5GkIo4l9eU/AS+YIZj9tr9Y0SFP9BDmP5WzrSLTgcg/NnFKlHTa8z9LuV1hy4z3PyY6JucT/Ko/dKh7+gMh+j+nxV5delXmP7xn5uV2nsY/uiPq4pMT5T8iKaEYTDa9PzW9A98vn+i/ZfGcmRjZ/D9B7T3knfLoP1qmx7RHwcU/UHQ34KR+8j9gNUsM4SrVP6HSOAGkLbK/uxllKQhv/D/UvUj3tA/zPwxRgoMmruQ/gzjsKdXz8z8Gv9n5Dgj8P+s9mmL+X8U/ZDEx71LZ5z9aKA0Ews35PyQQCimwAP4/1DqtQp1E8D8yo+U3nkP1P6m3xJMa/PY/DjcAqStl8z+0/ZlNjLT7Pw==",
          "dtype": "f8"
         },
         "yaxis": "y"
        },
        {
         "hovertemplate": "label=1<br>PC1=%{x}<br>PC2=%{y}<extra></extra>",
         "legendgroup": "1",
         "marker": {
          "color": "#EF553B",
          "symbol": "circle"
         },
         "mode": "markers",
         "name": "1",
         "orientation": "v",
         "showlegend": true,
         "type": "scatter",
         "x": {
          "bdata": "3ZaFiPG27b9m8i+n/634v1ENlm5HYf2/+Nq+3WVXnz8BR8aO72YAQGI8t12BguO/NEXGnKrO7D9HZopW8fwBQMkinLYgecc/mAxQsH8C6r8dWno9JJz/P1CS2DHMJ/m/SM9BXN2F+j+lEIEnQDbnv5GDzfVwfwRABytRXzJS/T/8TIwNmcbrvzKuX+VQrtc/CAKdl2pR978jGIv69jT0P9h9dQLZEtg/Gpwz19Ni6D+tL2KgoY3wP1+lTI4PrN+/VrqyN9NPBMA5EkVQ8brqP9rxN72DNuk/FnZnq5HR6b+IrvM0fNvhv309B61+1/G/aw+JPnvI4b+FHhEqrJb1v1alq+keCPm/tdCVbr/r/r/iEzz5r+TnP1dTXW55o+4/lY9c/dVZBEBHymtCD2jhv/505wUuf/A/lnFNFukDAkCjtyKrPpD2P+Ohn6jrhuk/I11Cj8OV4b8LyQZTV6HEv8Q3E0gKHeW/zSrmqVUc2T/GdED+J1z8v47YWqTscNe/s1caXUbu+b8chNqqECG1P1ryW1ydQPk/P7jR0aa69j/Mhg4TRNbRv/m7P4mu2fS/JpW5WqpA3b/b58ysvaDfvzqxDaBO2t4/qbrC1FQv0L/lH0Y9RXO7vx+stU/PdgPA44d9h4ai4b/kW1Ob+6rnP8pz3+WSYfU/nuWWLFnV8r/8Ys+S5Zbdv7ZBWt+oT+8/CT12sIXIuL8Bu1VSlrSjP3VukxL2jfm/Z7S4CzGx3r9hfN0mcq/8vw==",
          "dtype": "f8"
         },
         "xaxis": "x",
         "y": {
          "bdata": "Adfc6X+WCMBolAiCZBr2v14nF906j+q/xK1zPl809L9RSwv97sz+v734aqtoh/6/eSiGefZx6L8n4vZySif+v1sfCpXLagPAOSUHZc05zL/hrnsc2XP2v6YI0SfIUey/3q745WKd7r8MLSkKsQTxv1PMYdIXp9A/ka1QKyab9L8peiHshI0DwItnh5QzOwHAkr3wdjUi9r/ceSuizKrov9HFTxDFbvC/zERANhwAC8Ad9BtqGzb3v3A4+mfJDAPAkJngF7Bitr8thXWSJ5T3v+B1WfeHNgDAUOLLd+LeAcD2V9bI3/sCwPAsuCYB1vy/jZCeWaRCBcCK2CzBqvEAwJqMwrGrov2/HD4agrHz+L8u4AdX4oACwIn7pEbJyQHASF7+a8WqxT8S1koWfpzXv7BxAzlJhgTAdPXDOYLs9r8/e7JZXFQBwAgG7Lv9AwPALBaC1FNYAsBOZ21DuaHyv7f/gn2PcAXAN8+h2TPKAMCES1x5A3r7vxQs3ebVWgHAbCjpNHiw9b/LQ5oeK3MCwNH2YBF+ZPe/k7Z5cfmw9r9+pzhdm+P+v5PuC1joa+i/egm9XsMnAsA1RBAaVAb/v5S4cM9p+Q7AxQ0amGqSBsDevBVc3dz+vxkgduw/HfS/Jx2YovzGAcD1EX0lFov2vwspjxqsNtA/X3DSYjc/5b88iMxKBMnjv6EeDYgOIfe/piG5oEbhAMBVUmpYqET0vwQSPFuOVPO/fMLIyH0F/78j6Nh/lGfyvw==",
          "dtype": "f8"
         },
         "yaxis": "y"
        },
        {
         "hovertemplate": "label=2<br>PC1=%{x}<br>PC2=%{y}<extra></extra>",
         "legendgroup": "2",
         "marker": {
          "color": "#00cc96",
          "symbol": "circle"
         },
         "mode": "markers",
         "name": "2",
         "orientation": "v",
         "showlegend": true,
         "type": "scatter",
         "x": {
          "bdata": "rYc58s479b++EHQsdRMDwLU+yHPafgfA8m3TUKssAcDubWEifvUCwPA7Tl6/ggjAv9hBuHZTD8DxNaiE4H0PwKGpVNYTwQjAk44c++r+AsCeQ15IAjsGwAkDkqTgSgLA0IBTz5PiB8DrJPQTZgADwOHvB/rNrQHAbcTWlUUBBcC45qLFXx8RwKJUMOE/qQzAhk/c0t10BsD0B6eXgDIHwJEsR4zekALA21GFxA1mBMCLwlBKKwD9vxNYyrbGFAbA3cpkKa/lBcAWuzl9xdYMwFqenRddHgfAKn+nuSIjC8DB7nNhWsXwv1wrxGEzwvm/lK4p2SElCcCtF/tg1+sBwKPhUDAJyAbAChpuiazHBMDd0Q1FKpgHwE1cjo6BPQzAiFQP4rY/A8B7Tiz5w24HwBKdAIuIcwHA8RQf3iMMA8Bv+85dZLEJwP5tf6ZgbA3AGGB4UXW5A8CNcfhc1fYKwDQrtTrO0ATAf89iGDdsBcDLULBqnBgDwDEHgGaJqwnA",
          "dtype": "f8"
         },
         "xaxis": "x",
         "y": {
          "bdata": "WN2eeVDPxT/7QRhSKfnXPxecs7oc49A/XFC8N32R1z9nEXAeqGrdvyzzkd5QntY/HIzEKFzJwz/0raJmKBzlPx7AoZRwU9Y/m5VBW86v0j8qMVfTAlvSP8JQmyQr19c/wvI9oVhP3z99ylQ9jt7eP+//7zaTj/I/AqEVuWkF4j8/kPTCGsrkP4C6+Y79XPQ/+a1JCegg+T9G8FKyFVQAQLlb/3TW2QJA2uyXYb1cAEDOdTHgPHH4PyjaC5CIHAFAbBEhoJM72j9TmFXVkNb8P4y5UAiyzf4/ETiOGHL99D8oXRJY5x4MQEJr5YHLQANABVL96AOf5z8d3KCwtM7yP8tVE7ccy+E/rGqA0rtV5j/KZwyni+L4P6VO8dWoPew/QiD7OyW9BEDKyZt7ImT0P9ZQ8+HLngBARqpTRZe1BECpD6ofdxTQv2cWPBbAIOs/hLcBIOaMAUDrd/HM9boBQMtvIIacHfw/nMawSFIWBkCmhsdL92ACQEhuK02/JgZA",
          "dtype": "f8"
         },
         "yaxis": "y"
        }
       ],
       "layout": {
        "legend": {
         "title": {
          "text": "label"
         },
         "tracegroupgap": 0
        },
        "template": {
         "data": {
          "bar": [
           {
            "error_x": {
             "color": "#2a3f5f"
            },
            "error_y": {
             "color": "#2a3f5f"
            },
            "marker": {
             "line": {
              "color": "#E5ECF6",
              "width": 0.5
             },
             "pattern": {
              "fillmode": "overlay",
              "size": 10,
              "solidity": 0.2
             }
            },
            "type": "bar"
           }
          ],
          "barpolar": [
           {
            "marker": {
             "line": {
              "color": "#E5ECF6",
              "width": 0.5
             },
             "pattern": {
              "fillmode": "overlay",
              "size": 10,
              "solidity": 0.2
             }
            },
            "type": "barpolar"
           }
          ],
          "carpet": [
           {
            "aaxis": {
             "endlinecolor": "#2a3f5f",
             "gridcolor": "white",
             "linecolor": "white",
             "minorgridcolor": "white",
             "startlinecolor": "#2a3f5f"
            },
            "baxis": {
             "endlinecolor": "#2a3f5f",
             "gridcolor": "white",
             "linecolor": "white",
             "minorgridcolor": "white",
             "startlinecolor": "#2a3f5f"
            },
            "type": "carpet"
           }
          ],
          "choropleth": [
           {
            "colorbar": {
             "outlinewidth": 0,
             "ticks": ""
            },
            "type": "choropleth"
           }
          ],
          "contour": [
           {
            "colorbar": {
             "outlinewidth": 0,
             "ticks": ""
            },
            "colorscale": [
             [
              0,
              "#0d0887"
             ],
             [
              0.1111111111111111,
              "#46039f"
             ],
             [
              0.2222222222222222,
              "#7201a8"
             ],
             [
              0.3333333333333333,
              "#9c179e"
             ],
             [
              0.4444444444444444,
              "#bd3786"
             ],
             [
              0.5555555555555556,
              "#d8576b"
             ],
             [
              0.6666666666666666,
              "#ed7953"
             ],
             [
              0.7777777777777778,
              "#fb9f3a"
             ],
             [
              0.8888888888888888,
              "#fdca26"
             ],
             [
              1,
              "#f0f921"
             ]
            ],
            "type": "contour"
           }
          ],
          "contourcarpet": [
           {
            "colorbar": {
             "outlinewidth": 0,
             "ticks": ""
            },
            "type": "contourcarpet"
           }
          ],
          "heatmap": [
           {
            "colorbar": {
             "outlinewidth": 0,
             "ticks": ""
            },
            "colorscale": [
             [
              0,
              "#0d0887"
             ],
             [
              0.1111111111111111,
              "#46039f"
             ],
             [
              0.2222222222222222,
              "#7201a8"
             ],
             [
              0.3333333333333333,
              "#9c179e"
             ],
             [
              0.4444444444444444,
              "#bd3786"
             ],
             [
              0.5555555555555556,
              "#d8576b"
             ],
             [
              0.6666666666666666,
              "#ed7953"
             ],
             [
              0.7777777777777778,
              "#fb9f3a"
             ],
             [
              0.8888888888888888,
              "#fdca26"
             ],
             [
              1,
              "#f0f921"
             ]
            ],
            "type": "heatmap"
           }
          ],
          "histogram": [
           {
            "marker": {
             "pattern": {
              "fillmode": "overlay",
              "size": 10,
              "solidity": 0.2
             }
            },
            "type": "histogram"
           }
          ],
          "histogram2d": [
           {
            "colorbar": {
             "outlinewidth": 0,
             "ticks": ""
            },
            "colorscale": [
             [
              0,
              "#0d0887"
             ],
             [
              0.1111111111111111,
              "#46039f"
             ],
             [
              0.2222222222222222,
              "#7201a8"
             ],
             [
              0.3333333333333333,
              "#9c179e"
             ],
             [
              0.4444444444444444,
              "#bd3786"
             ],
             [
              0.5555555555555556,
              "#d8576b"
             ],
             [
              0.6666666666666666,
              "#ed7953"
             ],
             [
              0.7777777777777778,
              "#fb9f3a"
             ],
             [
              0.8888888888888888,
              "#fdca26"
             ],
             [
              1,
              "#f0f921"
             ]
            ],
            "type": "histogram2d"
           }
          ],
          "histogram2dcontour": [
           {
            "colorbar": {
             "outlinewidth": 0,
             "ticks": ""
            },
            "colorscale": [
             [
              0,
              "#0d0887"
             ],
             [
              0.1111111111111111,
              "#46039f"
             ],
             [
              0.2222222222222222,
              "#7201a8"
             ],
             [
              0.3333333333333333,
              "#9c179e"
             ],
             [
              0.4444444444444444,
              "#bd3786"
             ],
             [
              0.5555555555555556,
              "#d8576b"
             ],
             [
              0.6666666666666666,
              "#ed7953"
             ],
             [
              0.7777777777777778,
              "#fb9f3a"
             ],
             [
              0.8888888888888888,
              "#fdca26"
             ],
             [
              1,
              "#f0f921"
             ]
            ],
            "type": "histogram2dcontour"
           }
          ],
          "mesh3d": [
           {
            "colorbar": {
             "outlinewidth": 0,
             "ticks": ""
            },
            "type": "mesh3d"
           }
          ],
          "parcoords": [
           {
            "line": {
             "colorbar": {
              "outlinewidth": 0,
              "ticks": ""
             }
            },
            "type": "parcoords"
           }
          ],
          "pie": [
           {
            "automargin": true,
            "type": "pie"
           }
          ],
          "scatter": [
           {
            "fillpattern": {
             "fillmode": "overlay",
             "size": 10,
             "solidity": 0.2
            },
            "type": "scatter"
           }
          ],
          "scatter3d": [
           {
            "line": {
             "colorbar": {
              "outlinewidth": 0,
              "ticks": ""
             }
            },
            "marker": {
             "colorbar": {
              "outlinewidth": 0,
              "ticks": ""
             }
            },
            "type": "scatter3d"
           }
          ],
          "scattercarpet": [
           {
            "marker": {
             "colorbar": {
              "outlinewidth": 0,
              "ticks": ""
             }
            },
            "type": "scattercarpet"
           }
          ],
          "scattergeo": [
           {
            "marker": {
             "colorbar": {
              "outlinewidth": 0,
              "ticks": ""
             }
            },
            "type": "scattergeo"
           }
          ],
          "scattergl": [
           {
            "marker": {
             "colorbar": {
              "outlinewidth": 0,
              "ticks": ""
             }
            },
            "type": "scattergl"
           }
          ],
          "scattermap": [
           {
            "marker": {
             "colorbar": {
              "outlinewidth": 0,
              "ticks": ""
             }
            },
            "type": "scattermap"
           }
          ],
          "scattermapbox": [
           {
            "marker": {
             "colorbar": {
              "outlinewidth": 0,
              "ticks": ""
             }
            },
            "type": "scattermapbox"
           }
          ],
          "scatterpolar": [
           {
            "marker": {
             "colorbar": {
              "outlinewidth": 0,
              "ticks": ""
             }
            },
            "type": "scatterpolar"
           }
          ],
          "scatterpolargl": [
           {
            "marker": {
             "colorbar": {
              "outlinewidth": 0,
              "ticks": ""
             }
            },
            "type": "scatterpolargl"
           }
          ],
          "scatterternary": [
           {
            "marker": {
             "colorbar": {
              "outlinewidth": 0,
              "ticks": ""
             }
            },
            "type": "scatterternary"
           }
          ],
          "surface": [
           {
            "colorbar": {
             "outlinewidth": 0,
             "ticks": ""
            },
            "colorscale": [
             [
              0,
              "#0d0887"
             ],
             [
              0.1111111111111111,
              "#46039f"
             ],
             [
              0.2222222222222222,
              "#7201a8"
             ],
             [
              0.3333333333333333,
              "#9c179e"
             ],
             [
              0.4444444444444444,
              "#bd3786"
             ],
             [
              0.5555555555555556,
              "#d8576b"
             ],
             [
              0.6666666666666666,
              "#ed7953"
             ],
             [
              0.7777777777777778,
              "#fb9f3a"
             ],
             [
              0.8888888888888888,
              "#fdca26"
             ],
             [
              1,
              "#f0f921"
             ]
            ],
            "type": "surface"
           }
          ],
          "table": [
           {
            "cells": {
             "fill": {
              "color": "#EBF0F8"
             },
             "line": {
              "color": "white"
             }
            },
            "header": {
             "fill": {
              "color": "#C8D4E3"
             },
             "line": {
              "color": "white"
             }
            },
            "type": "table"
           }
          ]
         },
         "layout": {
          "annotationdefaults": {
           "arrowcolor": "#2a3f5f",
           "arrowhead": 0,
           "arrowwidth": 1
          },
          "autotypenumbers": "strict",
          "coloraxis": {
           "colorbar": {
            "outlinewidth": 0,
            "ticks": ""
           }
          },
          "colorscale": {
           "diverging": [
            [
             0,
             "#8e0152"
            ],
            [
             0.1,
             "#c51b7d"
            ],
            [
             0.2,
             "#de77ae"
            ],
            [
             0.3,
             "#f1b6da"
            ],
            [
             0.4,
             "#fde0ef"
            ],
            [
             0.5,
             "#f7f7f7"
            ],
            [
             0.6,
             "#e6f5d0"
            ],
            [
             0.7,
             "#b8e186"
            ],
            [
             0.8,
             "#7fbc41"
            ],
            [
             0.9,
             "#4d9221"
            ],
            [
             1,
             "#276419"
            ]
           ],
           "sequential": [
            [
             0,
             "#0d0887"
            ],
            [
             0.1111111111111111,
             "#46039f"
            ],
            [
             0.2222222222222222,
             "#7201a8"
            ],
            [
             0.3333333333333333,
             "#9c179e"
            ],
            [
             0.4444444444444444,
             "#bd3786"
            ],
            [
             0.5555555555555556,
             "#d8576b"
            ],
            [
             0.6666666666666666,
             "#ed7953"
            ],
            [
             0.7777777777777778,
             "#fb9f3a"
            ],
            [
             0.8888888888888888,
             "#fdca26"
            ],
            [
             1,
             "#f0f921"
            ]
           ],
           "sequentialminus": [
            [
             0,
             "#0d0887"
            ],
            [
             0.1111111111111111,
             "#46039f"
            ],
            [
             0.2222222222222222,
             "#7201a8"
            ],
            [
             0.3333333333333333,
             "#9c179e"
            ],
            [
             0.4444444444444444,
             "#bd3786"
            ],
            [
             0.5555555555555556,
             "#d8576b"
            ],
            [
             0.6666666666666666,
             "#ed7953"
            ],
            [
             0.7777777777777778,
             "#fb9f3a"
            ],
            [
             0.8888888888888888,
             "#fdca26"
            ],
            [
             1,
             "#f0f921"
            ]
           ]
          },
          "colorway": [
           "#636efa",
           "#EF553B",
           "#00cc96",
           "#ab63fa",
           "#FFA15A",
           "#19d3f3",
           "#FF6692",
           "#B6E880",
           "#FF97FF",
           "#FECB52"
          ],
          "font": {
           "color": "#2a3f5f"
          },
          "geo": {
           "bgcolor": "white",
           "lakecolor": "white",
           "landcolor": "#E5ECF6",
           "showlakes": true,
           "showland": true,
           "subunitcolor": "white"
          },
          "hoverlabel": {
           "align": "left"
          },
          "hovermode": "closest",
          "mapbox": {
           "style": "light"
          },
          "paper_bgcolor": "white",
          "plot_bgcolor": "#E5ECF6",
          "polar": {
           "angularaxis": {
            "gridcolor": "white",
            "linecolor": "white",
            "ticks": ""
           },
           "bgcolor": "#E5ECF6",
           "radialaxis": {
            "gridcolor": "white",
            "linecolor": "white",
            "ticks": ""
           }
          },
          "scene": {
           "xaxis": {
            "backgroundcolor": "#E5ECF6",
            "gridcolor": "white",
            "gridwidth": 2,
            "linecolor": "white",
            "showbackground": true,
            "ticks": "",
            "zerolinecolor": "white"
           },
           "yaxis": {
            "backgroundcolor": "#E5ECF6",
            "gridcolor": "white",
            "gridwidth": 2,
            "linecolor": "white",
            "showbackground": true,
            "ticks": "",
            "zerolinecolor": "white"
           },
           "zaxis": {
            "backgroundcolor": "#E5ECF6",
            "gridcolor": "white",
            "gridwidth": 2,
            "linecolor": "white",
            "showbackground": true,
            "ticks": "",
            "zerolinecolor": "white"
           }
          },
          "shapedefaults": {
           "line": {
            "color": "#2a3f5f"
           }
          },
          "ternary": {
           "aaxis": {
            "gridcolor": "white",
            "linecolor": "white",
            "ticks": ""
           },
           "baxis": {
            "gridcolor": "white",
            "linecolor": "white",
            "ticks": ""
           },
           "bgcolor": "#E5ECF6",
           "caxis": {
            "gridcolor": "white",
            "linecolor": "white",
            "ticks": ""
           }
          },
          "title": {
           "x": 0.05
          },
          "xaxis": {
           "automargin": true,
           "gridcolor": "white",
           "linecolor": "white",
           "ticks": "",
           "title": {
            "standoff": 15
           },
           "zerolinecolor": "white",
           "zerolinewidth": 2
          },
          "yaxis": {
           "automargin": true,
           "gridcolor": "white",
           "linecolor": "white",
           "ticks": "",
           "title": {
            "standoff": 15
           },
           "zerolinecolor": "white",
           "zerolinewidth": 2
          }
         }
        },
        "title": {
         "text": "Visualización del Dataset Wine con PCA (2 Componentes)"
        },
        "xaxis": {
         "anchor": "y",
         "domain": [
          0,
          1
         ],
         "title": {
          "text": "PC1"
         }
        },
        "yaxis": {
         "anchor": "x",
         "domain": [
          0,
          1
         ],
         "title": {
          "text": "PC2"
         }
        }
       }
      }
     },
     "metadata": {},
     "output_type": "display_data"
    },
    {
     "data": {
      "application/vnd.plotly.v1+json": {
       "config": {
        "plotlyServerURL": "https://plot.ly"
       },
       "data": [
        {
         "hovertemplate": "label=0<br>TSNE1=%{x}<br>TSNE2=%{y}<extra></extra>",
         "legendgroup": "0",
         "marker": {
          "color": "#636efa",
          "symbol": "circle"
         },
         "mode": "markers",
         "name": "0",
         "orientation": "v",
         "showlegend": true,
         "type": "scatter",
         "x": {
          "bdata": "REunQDrolkAohxFBdVQEQTEUCEEcNw1BLunUQOHsDUGDy81AiZzTQEdDFUGqx9BAGMHiQGzfFkFn9RRBRssRQV/fH0FsWh5BlhIbQeZ6cUBxcqRATxZRQAOmt0CjY7dAhjm9QMfSDEGaD/BAoUagQLnNBUFrkbxAUU0eQdXkEUEJGdVAmQohQTl78UBNyr5A3oX5QD+220BNOJdA77NnQLBetUDqajBA2ZrgQBgxKUCVr6tAmCBGQCs6k0BGV8ZAj1kEQQWOCUE1P+VAK2r4QDOO+EDjuxRBBx6uQP83DUGtl71AIfgFQTp3+0A=",
          "dtype": "f4"
         },
         "xaxis": "x",
         "y": {
          "bdata": "35M9wd0HAsGp9AvBQiA7wYPri8ARyjDBS5wMwep9zMC9wxbBvSojwXjRIcEy5vzA+1cDwSRcTcHjdEbB+/rmwMlA8sCW1+XA6J4wwfE/JMG/bznBfEnNwEHK/8Ba/77A0euywCF6b8C5OejAL9nnwG9ArMAo+AzBDIYIwdtQHsE2fuDA+G7EwJRsxcAgss/AYCK2wPXfxsBKB+XAJasswVGqNcG63e/AQbMswTeR6sABiiHBv58KweqlG8H7bCbBYVgSwfAOJ8G7OVHBG7EJwd4pOsHv6OTAkFoowUKjE8GhDjLBzUbwwOm/LsE=",
          "dtype": "f4"
         },
         "yaxis": "y"
        },
        {
         "hovertemplate": "label=1<br>TSNE1=%{x}<br>TSNE2=%{y}<extra></extra>",
         "legendgroup": "1",
         "marker": {
          "color": "#EF553B",
          "symbol": "circle"
         },
         "mode": "markers",
         "name": "1",
         "orientation": "v",
         "showlegend": true,
         "type": "scatter",
         "x": {
          "bdata": "mRuIwD7prMAT/q3Au5tXwHbARj84fq4/8eGDQENUyr5NxOC/YCqwwD1h2b68kD/A9VG5QDNGm77NhR1BsPL0P7b5RsBoCzzAb8JFwH2lzr5+FXdAP++rv735s77LsMk/VmJLwEZUQkBOtEK/B++UP4hYA0ARuwI/FRtfP3Tb0L6e1jk9Dk1sv482JD6FrFw/pyaovqJwbMBbAo2/L2JXPwtmvb+rqhPA8ooPwBnZ6j/eIxK/rC+Gv2Z6Dr/aNJy/2rVOv5Q0Gb4KrkRAhrmUvu+5OT+KLrQ/R9jOP0Zp1T+1zjdA9Rtivw9Uuz41coLAi/Ckv9wDEkCSWwlByQR/QP5mfD+RiYM+lPmMP6RD4z9CWlBAvkmcP9weab8=",
          "dtype": "f4"
         },
         "xaxis": "x",
         "y": {
          "bdata": "4Z0lPonfj0CIWKRAoCYqv578UsBCYpZAcok8wNrbZsDfQA2/69+OQBg0JcFJKYlABpOBwJIR0j+XXILAzuJEwN7cXT/nCmO/EmdTQDpKJcEoxu0+GR+/vwVmy7/ny1FA63oOQWgT6b+d6Ji/Ln1tQDZHWUARrFBAJ3kcQM3MZEB2tmlArvt6QBRO1b+7jAzA2j8mwT8GrEDJZfe/ZOhgwBZvW8Bk0qy/tLuEPvSPIb5i5bw+ME2avs1TlECEFAo/gyVqQDI7irwb7/C/URq1wM9Fxb1qlK9ANF4jQAGLxj8hEYVA+5+APgGqYT9QdfZAI66ZPwJvlr9jBjXARqWGP7QGwMAqNbPAeRjNPZKxgz44YSZAOECQP8C3ukA=",
          "dtype": "f4"
         },
         "yaxis": "y"
        },
        {
         "hovertemplate": "label=2<br>TSNE1=%{x}<br>TSNE2=%{y}<extra></extra>",
         "legendgroup": "2",
         "marker": {
          "color": "#00cc96",
          "symbol": "circle"
         },
         "mode": "markers",
         "name": "2",
         "orientation": "v",
         "showlegend": true,
         "type": "scatter",
         "x": {
          "bdata": "MKP5wHEh9sDiq/rAldYAwf8iqsDZp6vATgpvwEWsU8CQ3IzAUCwewJ4wL8Ayra3AeZklwCj3gsCDKgDB+ni5wGeLn8AOR6rAUmLOwHH2CMFLXhrBkhoUweqnIcGueeLAyRa+wAZ/o8BfvcfAyilkwCeN/MA2y/rAbcGzwLJEWsAlhTvAKwzHwLC938BzdpfAkzQEwYPi2sD7KwfBc0AYwUSNxsCwMtXAc2HkwFH9n8Bau9HAu7MCwZJM/8CTI8XA",
          "dtype": "f4"
         },
         "xaxis": "x",
         "y": {
          "bdata": "fmnnQEIHBUEVOwhBArgDQUQo1EAo0fBA/502QVxYPkFwRRdBOgIqQdEtIkE4xw1BdholQbmQIUHnChpBuYwUQS3kI0EUVzZB+co2QU7TKEEfzixBeYEmQVvAL0HayExBF/rqQI87RkGXwENBf8FMQc/PZUH072NBZaUzQYzfIUFeFChB5u4PQVJ0MEELRipBW2VCQTGZKEF5q0NBhtw+QXchCkHLfyJBS9E9QZJhQEE5GztBw0gwQYy1N0HaQ1JB",
          "dtype": "f4"
         },
         "yaxis": "y"
        }
       ],
       "layout": {
        "legend": {
         "title": {
          "text": "label"
         },
         "tracegroupgap": 0
        },
        "template": {
         "data": {
          "bar": [
           {
            "error_x": {
             "color": "#2a3f5f"
            },
            "error_y": {
             "color": "#2a3f5f"
            },
            "marker": {
             "line": {
              "color": "#E5ECF6",
              "width": 0.5
             },
             "pattern": {
              "fillmode": "overlay",
              "size": 10,
              "solidity": 0.2
             }
            },
            "type": "bar"
           }
          ],
          "barpolar": [
           {
            "marker": {
             "line": {
              "color": "#E5ECF6",
              "width": 0.5
             },
             "pattern": {
              "fillmode": "overlay",
              "size": 10,
              "solidity": 0.2
             }
            },
            "type": "barpolar"
           }
          ],
          "carpet": [
           {
            "aaxis": {
             "endlinecolor": "#2a3f5f",
             "gridcolor": "white",
             "linecolor": "white",
             "minorgridcolor": "white",
             "startlinecolor": "#2a3f5f"
            },
            "baxis": {
             "endlinecolor": "#2a3f5f",
             "gridcolor": "white",
             "linecolor": "white",
             "minorgridcolor": "white",
             "startlinecolor": "#2a3f5f"
            },
            "type": "carpet"
           }
          ],
          "choropleth": [
           {
            "colorbar": {
             "outlinewidth": 0,
             "ticks": ""
            },
            "type": "choropleth"
           }
          ],
          "contour": [
           {
            "colorbar": {
             "outlinewidth": 0,
             "ticks": ""
            },
            "colorscale": [
             [
              0,
              "#0d0887"
             ],
             [
              0.1111111111111111,
              "#46039f"
             ],
             [
              0.2222222222222222,
              "#7201a8"
             ],
             [
              0.3333333333333333,
              "#9c179e"
             ],
             [
              0.4444444444444444,
              "#bd3786"
             ],
             [
              0.5555555555555556,
              "#d8576b"
             ],
             [
              0.6666666666666666,
              "#ed7953"
             ],
             [
              0.7777777777777778,
              "#fb9f3a"
             ],
             [
              0.8888888888888888,
              "#fdca26"
             ],
             [
              1,
              "#f0f921"
             ]
            ],
            "type": "contour"
           }
          ],
          "contourcarpet": [
           {
            "colorbar": {
             "outlinewidth": 0,
             "ticks": ""
            },
            "type": "contourcarpet"
           }
          ],
          "heatmap": [
           {
            "colorbar": {
             "outlinewidth": 0,
             "ticks": ""
            },
            "colorscale": [
             [
              0,
              "#0d0887"
             ],
             [
              0.1111111111111111,
              "#46039f"
             ],
             [
              0.2222222222222222,
              "#7201a8"
             ],
             [
              0.3333333333333333,
              "#9c179e"
             ],
             [
              0.4444444444444444,
              "#bd3786"
             ],
             [
              0.5555555555555556,
              "#d8576b"
             ],
             [
              0.6666666666666666,
              "#ed7953"
             ],
             [
              0.7777777777777778,
              "#fb9f3a"
             ],
             [
              0.8888888888888888,
              "#fdca26"
             ],
             [
              1,
              "#f0f921"
             ]
            ],
            "type": "heatmap"
           }
          ],
          "histogram": [
           {
            "marker": {
             "pattern": {
              "fillmode": "overlay",
              "size": 10,
              "solidity": 0.2
             }
            },
            "type": "histogram"
           }
          ],
          "histogram2d": [
           {
            "colorbar": {
             "outlinewidth": 0,
             "ticks": ""
            },
            "colorscale": [
             [
              0,
              "#0d0887"
             ],
             [
              0.1111111111111111,
              "#46039f"
             ],
             [
              0.2222222222222222,
              "#7201a8"
             ],
             [
              0.3333333333333333,
              "#9c179e"
             ],
             [
              0.4444444444444444,
              "#bd3786"
             ],
             [
              0.5555555555555556,
              "#d8576b"
             ],
             [
              0.6666666666666666,
              "#ed7953"
             ],
             [
              0.7777777777777778,
              "#fb9f3a"
             ],
             [
              0.8888888888888888,
              "#fdca26"
             ],
             [
              1,
              "#f0f921"
             ]
            ],
            "type": "histogram2d"
           }
          ],
          "histogram2dcontour": [
           {
            "colorbar": {
             "outlinewidth": 0,
             "ticks": ""
            },
            "colorscale": [
             [
              0,
              "#0d0887"
             ],
             [
              0.1111111111111111,
              "#46039f"
             ],
             [
              0.2222222222222222,
              "#7201a8"
             ],
             [
              0.3333333333333333,
              "#9c179e"
             ],
             [
              0.4444444444444444,
              "#bd3786"
             ],
             [
              0.5555555555555556,
              "#d8576b"
             ],
             [
              0.6666666666666666,
              "#ed7953"
             ],
             [
              0.7777777777777778,
              "#fb9f3a"
             ],
             [
              0.8888888888888888,
              "#fdca26"
             ],
             [
              1,
              "#f0f921"
             ]
            ],
            "type": "histogram2dcontour"
           }
          ],
          "mesh3d": [
           {
            "colorbar": {
             "outlinewidth": 0,
             "ticks": ""
            },
            "type": "mesh3d"
           }
          ],
          "parcoords": [
           {
            "line": {
             "colorbar": {
              "outlinewidth": 0,
              "ticks": ""
             }
            },
            "type": "parcoords"
           }
          ],
          "pie": [
           {
            "automargin": true,
            "type": "pie"
           }
          ],
          "scatter": [
           {
            "fillpattern": {
             "fillmode": "overlay",
             "size": 10,
             "solidity": 0.2
            },
            "type": "scatter"
           }
          ],
          "scatter3d": [
           {
            "line": {
             "colorbar": {
              "outlinewidth": 0,
              "ticks": ""
             }
            },
            "marker": {
             "colorbar": {
              "outlinewidth": 0,
              "ticks": ""
             }
            },
            "type": "scatter3d"
           }
          ],
          "scattercarpet": [
           {
            "marker": {
             "colorbar": {
              "outlinewidth": 0,
              "ticks": ""
             }
            },
            "type": "scattercarpet"
           }
          ],
          "scattergeo": [
           {
            "marker": {
             "colorbar": {
              "outlinewidth": 0,
              "ticks": ""
             }
            },
            "type": "scattergeo"
           }
          ],
          "scattergl": [
           {
            "marker": {
             "colorbar": {
              "outlinewidth": 0,
              "ticks": ""
             }
            },
            "type": "scattergl"
           }
          ],
          "scattermap": [
           {
            "marker": {
             "colorbar": {
              "outlinewidth": 0,
              "ticks": ""
             }
            },
            "type": "scattermap"
           }
          ],
          "scattermapbox": [
           {
            "marker": {
             "colorbar": {
              "outlinewidth": 0,
              "ticks": ""
             }
            },
            "type": "scattermapbox"
           }
          ],
          "scatterpolar": [
           {
            "marker": {
             "colorbar": {
              "outlinewidth": 0,
              "ticks": ""
             }
            },
            "type": "scatterpolar"
           }
          ],
          "scatterpolargl": [
           {
            "marker": {
             "colorbar": {
              "outlinewidth": 0,
              "ticks": ""
             }
            },
            "type": "scatterpolargl"
           }
          ],
          "scatterternary": [
           {
            "marker": {
             "colorbar": {
              "outlinewidth": 0,
              "ticks": ""
             }
            },
            "type": "scatterternary"
           }
          ],
          "surface": [
           {
            "colorbar": {
             "outlinewidth": 0,
             "ticks": ""
            },
            "colorscale": [
             [
              0,
              "#0d0887"
             ],
             [
              0.1111111111111111,
              "#46039f"
             ],
             [
              0.2222222222222222,
              "#7201a8"
             ],
             [
              0.3333333333333333,
              "#9c179e"
             ],
             [
              0.4444444444444444,
              "#bd3786"
             ],
             [
              0.5555555555555556,
              "#d8576b"
             ],
             [
              0.6666666666666666,
              "#ed7953"
             ],
             [
              0.7777777777777778,
              "#fb9f3a"
             ],
             [
              0.8888888888888888,
              "#fdca26"
             ],
             [
              1,
              "#f0f921"
             ]
            ],
            "type": "surface"
           }
          ],
          "table": [
           {
            "cells": {
             "fill": {
              "color": "#EBF0F8"
             },
             "line": {
              "color": "white"
             }
            },
            "header": {
             "fill": {
              "color": "#C8D4E3"
             },
             "line": {
              "color": "white"
             }
            },
            "type": "table"
           }
          ]
         },
         "layout": {
          "annotationdefaults": {
           "arrowcolor": "#2a3f5f",
           "arrowhead": 0,
           "arrowwidth": 1
          },
          "autotypenumbers": "strict",
          "coloraxis": {
           "colorbar": {
            "outlinewidth": 0,
            "ticks": ""
           }
          },
          "colorscale": {
           "diverging": [
            [
             0,
             "#8e0152"
            ],
            [
             0.1,
             "#c51b7d"
            ],
            [
             0.2,
             "#de77ae"
            ],
            [
             0.3,
             "#f1b6da"
            ],
            [
             0.4,
             "#fde0ef"
            ],
            [
             0.5,
             "#f7f7f7"
            ],
            [
             0.6,
             "#e6f5d0"
            ],
            [
             0.7,
             "#b8e186"
            ],
            [
             0.8,
             "#7fbc41"
            ],
            [
             0.9,
             "#4d9221"
            ],
            [
             1,
             "#276419"
            ]
           ],
           "sequential": [
            [
             0,
             "#0d0887"
            ],
            [
             0.1111111111111111,
             "#46039f"
            ],
            [
             0.2222222222222222,
             "#7201a8"
            ],
            [
             0.3333333333333333,
             "#9c179e"
            ],
            [
             0.4444444444444444,
             "#bd3786"
            ],
            [
             0.5555555555555556,
             "#d8576b"
            ],
            [
             0.6666666666666666,
             "#ed7953"
            ],
            [
             0.7777777777777778,
             "#fb9f3a"
            ],
            [
             0.8888888888888888,
             "#fdca26"
            ],
            [
             1,
             "#f0f921"
            ]
           ],
           "sequentialminus": [
            [
             0,
             "#0d0887"
            ],
            [
             0.1111111111111111,
             "#46039f"
            ],
            [
             0.2222222222222222,
             "#7201a8"
            ],
            [
             0.3333333333333333,
             "#9c179e"
            ],
            [
             0.4444444444444444,
             "#bd3786"
            ],
            [
             0.5555555555555556,
             "#d8576b"
            ],
            [
             0.6666666666666666,
             "#ed7953"
            ],
            [
             0.7777777777777778,
             "#fb9f3a"
            ],
            [
             0.8888888888888888,
             "#fdca26"
            ],
            [
             1,
             "#f0f921"
            ]
           ]
          },
          "colorway": [
           "#636efa",
           "#EF553B",
           "#00cc96",
           "#ab63fa",
           "#FFA15A",
           "#19d3f3",
           "#FF6692",
           "#B6E880",
           "#FF97FF",
           "#FECB52"
          ],
          "font": {
           "color": "#2a3f5f"
          },
          "geo": {
           "bgcolor": "white",
           "lakecolor": "white",
           "landcolor": "#E5ECF6",
           "showlakes": true,
           "showland": true,
           "subunitcolor": "white"
          },
          "hoverlabel": {
           "align": "left"
          },
          "hovermode": "closest",
          "mapbox": {
           "style": "light"
          },
          "paper_bgcolor": "white",
          "plot_bgcolor": "#E5ECF6",
          "polar": {
           "angularaxis": {
            "gridcolor": "white",
            "linecolor": "white",
            "ticks": ""
           },
           "bgcolor": "#E5ECF6",
           "radialaxis": {
            "gridcolor": "white",
            "linecolor": "white",
            "ticks": ""
           }
          },
          "scene": {
           "xaxis": {
            "backgroundcolor": "#E5ECF6",
            "gridcolor": "white",
            "gridwidth": 2,
            "linecolor": "white",
            "showbackground": true,
            "ticks": "",
            "zerolinecolor": "white"
           },
           "yaxis": {
            "backgroundcolor": "#E5ECF6",
            "gridcolor": "white",
            "gridwidth": 2,
            "linecolor": "white",
            "showbackground": true,
            "ticks": "",
            "zerolinecolor": "white"
           },
           "zaxis": {
            "backgroundcolor": "#E5ECF6",
            "gridcolor": "white",
            "gridwidth": 2,
            "linecolor": "white",
            "showbackground": true,
            "ticks": "",
            "zerolinecolor": "white"
           }
          },
          "shapedefaults": {
           "line": {
            "color": "#2a3f5f"
           }
          },
          "ternary": {
           "aaxis": {
            "gridcolor": "white",
            "linecolor": "white",
            "ticks": ""
           },
           "baxis": {
            "gridcolor": "white",
            "linecolor": "white",
            "ticks": ""
           },
           "bgcolor": "#E5ECF6",
           "caxis": {
            "gridcolor": "white",
            "linecolor": "white",
            "ticks": ""
           }
          },
          "title": {
           "x": 0.05
          },
          "xaxis": {
           "automargin": true,
           "gridcolor": "white",
           "linecolor": "white",
           "ticks": "",
           "title": {
            "standoff": 15
           },
           "zerolinecolor": "white",
           "zerolinewidth": 2
          },
          "yaxis": {
           "automargin": true,
           "gridcolor": "white",
           "linecolor": "white",
           "ticks": "",
           "title": {
            "standoff": 15
           },
           "zerolinecolor": "white",
           "zerolinewidth": 2
          }
         }
        },
        "title": {
         "text": "Visualización del Dataset Wine con t-SNE"
        },
        "xaxis": {
         "anchor": "y",
         "domain": [
          0,
          1
         ],
         "title": {
          "text": "TSNE1"
         }
        },
        "yaxis": {
         "anchor": "x",
         "domain": [
          0,
          1
         ],
         "title": {
          "text": "TSNE2"
         }
        }
       }
      }
     },
     "metadata": {},
     "output_type": "display_data"
    },
    {
     "data": {
      "application/vnd.plotly.v1+json": {
       "config": {
        "plotlyServerURL": "https://plot.ly"
       },
       "data": [
        {
         "hovertemplate": "label=0<br>UMAP1=%{x}<br>UMAP2=%{y}<extra></extra>",
         "legendgroup": "0",
         "marker": {
          "color": "#636efa",
          "symbol": "circle"
         },
         "mode": "markers",
         "name": "0",
         "orientation": "v",
         "showlegend": true,
         "type": "scatter",
         "x": {
          "bdata": "1JlFQeI6SkE6dFtBacBYQbiNVUF+5llBJJZQQc/jVkG60E5B2wtNQdCyWUEOdUxB1b9QQcY6WEE08llBb0JaQQCWXUHqzV1BhSldQQBYQUEQNERBXqY9QR18SEF/LUpBIqlKQSizVUEwclJB93lHQc4mVEHBCExBsH1eQVpTXEH54FBBFFtcQYe8U0E2GUdBQxVUQf+JTUHREkdBU4hCQcMSRkFVCkBB7ZdSQRB2PEG940RBXwk/QbOVSEFelElBkilZQdouXEH3/E5Bv/ZUQTexWEEIrltBDTtGQTcKW0HM5kZBPYpZQVV8V0E=",
          "dtype": "f4"
         },
         "xaxis": "x",
         "y": {
          "bdata": "NZIcQD1P0j+eSc0/CA8jQNOF+z6aAhxA5BHiP3lXYT/r4AFAMXsYQMIIAECZM74/cRbCPzBPBUDR+gxAHICEP5A/ij8rtFw/rv8NQONT9j+o8x9Ab7mnPy+2sT+MK4A/LyFhP7w+pj6AmYw/ikm1P51UKD+Onu0/0vClPyFp9T9ePqI/zfxMP7/3WD8aRYU/7whKP92IhD/9+as/H34CQBqHIkDsCac/G0EjQLYusj+ImRZAVejJP1Q3BEALvRdA2ajHP6XIBEDZ4QxAtYjYPwolIEBQFnc/+8kSQLD+1j/8Jh5ANr+IP/0WJkA=",
          "dtype": "f4"
         },
         "yaxis": "y"
        },
        {
         "hovertemplate": "label=1<br>UMAP1=%{x}<br>UMAP2=%{y}<extra></extra>",
         "legendgroup": "1",
         "marker": {
          "color": "#EF553B",
          "symbol": "circle"
         },
         "mode": "markers",
         "name": "1",
         "orientation": "v",
         "showlegend": true,
         "type": "scatter",
         "x": {
          "bdata": "nnMXQbVit0CvNrJAptQYQd0AH0HkAPJAHTwiQeqFIEHYORVBjlu2QCP3PEEFgcVAe1hKQQqeD0EC6VZBIuAgQdmQFUE/1RlBzG/GQPvtPEHuUxJBARoZQXDJGUHvsvVAFOmVQIZXF0EIXBdBFWH2QCba90ChvPdAjzn/QKTU6UCc6uZA/6ThQKWBGEEoFB5BpdI9QYT7lEAQkxxBqLQgQcMPGUEisRdBuNwTQSpZDkHpexBBCNMTQQbB4ECXEg9B4VHgQFd0EEFS0xhB3nkWQZT/DkH//e5AYCD4QOdkBUExJ/hArgsRQemvDEGIf5hATjkPQeHnE0Er1lRBUzYKQS3tEkFBnhVBIX0LQUKCDEGKAQJBFEEHQakBCEE=",
          "dtype": "f4"
         },
         "xaxis": "x",
         "y": {
          "bdata": "MbUawIUooD79u70+wQAYwGP0x7+kJG+/GExQv/S567/otPy/XGvyPjq6IUAZnPu+6HUvP8sKq79j3/I+zF+tv5iZGcBokhPAai35vivIIEBK4Dq/89MBwLXB5b9lc36/7wq7Pxl7br99++q/d6+CvzJRX794iCq/jMxivw+qSr+UGVC/NE88vw90vL+O/8W/lKwhQL/ss76Jifu/NJq5vyF7o79yihnAsB8KwO3HXr8bzO2/hWfuvz1wRb/0P+W/SW5Yv9N01b+pPUK/ujUxv0Gfnb/XGjm/zLZVvypogL/sDYy/Lwrgvw2lr7/pQ+U+PDzZvxO6Qb+eypA+Wv8Sv7GEw76wmxW/62SFv4Xsgb9NRTy/YFp6v13X/L4=",
          "dtype": "f4"
         },
         "yaxis": "y"
        },
        {
         "hovertemplate": "label=2<br>UMAP1=%{x}<br>UMAP2=%{y}<extra></extra>",
         "legendgroup": "2",
         "marker": {
          "color": "#00cc96",
          "symbol": "circle"
         },
         "mode": "markers",
         "name": "2",
         "orientation": "v",
         "showlegend": true,
         "type": "scatter",
         "x": {
          "bdata": "1VKOQGFUi0AYj4dA56+JQCAqqUDhCqRAekyXQCBNmUBYOZpA1AqoQGpbqUDlAZZAb/GmQIbAmkDCAIRA4uSRQDi0kEAq74pAezd6QJWIdEDJNGZAkEVvQE94ZkAhbYBA3kGhQGXViUDxTX5APySjQD9GZ0DvumlAM+uKQK4fpECxjqVAnu+TQNohfkCSFZFArQFiQFqahUBYemlA539eQHOwl0CCR4dAbxZ6QDj6h0CLBX9Asbp0QIsMbEB72HlA",
          "dtype": "f4"
         },
         "xaxis": "x",
         "y": {
          "bdata": "W3wqvqrzrb0Xwd+8am/PvSNOAD9Jzws/jG+TP0fIqD9eepw/sJaqP8KKjj8EeKY+zbWdP1lYpj+qmoc+c1+mPu8agD8awpo/soKQPzMznD7EgnM+vXlfPjKZnT4vSo4/QN35Pi5kuD8jX5k/w4C9P5QkmD+GK5c/1aaWP2oOoT8rDrM/n1RjPl+CZz/aIrI/lKg5P9C7Rz9l41A/zpEKPwEEnj7RFko/gTSFP+ZAqj/b0JM/4rUJP576Qj/xTqM/",
          "dtype": "f4"
         },
         "yaxis": "y"
        }
       ],
       "layout": {
        "legend": {
         "title": {
          "text": "label"
         },
         "tracegroupgap": 0
        },
        "template": {
         "data": {
          "bar": [
           {
            "error_x": {
             "color": "#2a3f5f"
            },
            "error_y": {
             "color": "#2a3f5f"
            },
            "marker": {
             "line": {
              "color": "#E5ECF6",
              "width": 0.5
             },
             "pattern": {
              "fillmode": "overlay",
              "size": 10,
              "solidity": 0.2
             }
            },
            "type": "bar"
           }
          ],
          "barpolar": [
           {
            "marker": {
             "line": {
              "color": "#E5ECF6",
              "width": 0.5
             },
             "pattern": {
              "fillmode": "overlay",
              "size": 10,
              "solidity": 0.2
             }
            },
            "type": "barpolar"
           }
          ],
          "carpet": [
           {
            "aaxis": {
             "endlinecolor": "#2a3f5f",
             "gridcolor": "white",
             "linecolor": "white",
             "minorgridcolor": "white",
             "startlinecolor": "#2a3f5f"
            },
            "baxis": {
             "endlinecolor": "#2a3f5f",
             "gridcolor": "white",
             "linecolor": "white",
             "minorgridcolor": "white",
             "startlinecolor": "#2a3f5f"
            },
            "type": "carpet"
           }
          ],
          "choropleth": [
           {
            "colorbar": {
             "outlinewidth": 0,
             "ticks": ""
            },
            "type": "choropleth"
           }
          ],
          "contour": [
           {
            "colorbar": {
             "outlinewidth": 0,
             "ticks": ""
            },
            "colorscale": [
             [
              0,
              "#0d0887"
             ],
             [
              0.1111111111111111,
              "#46039f"
             ],
             [
              0.2222222222222222,
              "#7201a8"
             ],
             [
              0.3333333333333333,
              "#9c179e"
             ],
             [
              0.4444444444444444,
              "#bd3786"
             ],
             [
              0.5555555555555556,
              "#d8576b"
             ],
             [
              0.6666666666666666,
              "#ed7953"
             ],
             [
              0.7777777777777778,
              "#fb9f3a"
             ],
             [
              0.8888888888888888,
              "#fdca26"
             ],
             [
              1,
              "#f0f921"
             ]
            ],
            "type": "contour"
           }
          ],
          "contourcarpet": [
           {
            "colorbar": {
             "outlinewidth": 0,
             "ticks": ""
            },
            "type": "contourcarpet"
           }
          ],
          "heatmap": [
           {
            "colorbar": {
             "outlinewidth": 0,
             "ticks": ""
            },
            "colorscale": [
             [
              0,
              "#0d0887"
             ],
             [
              0.1111111111111111,
              "#46039f"
             ],
             [
              0.2222222222222222,
              "#7201a8"
             ],
             [
              0.3333333333333333,
              "#9c179e"
             ],
             [
              0.4444444444444444,
              "#bd3786"
             ],
             [
              0.5555555555555556,
              "#d8576b"
             ],
             [
              0.6666666666666666,
              "#ed7953"
             ],
             [
              0.7777777777777778,
              "#fb9f3a"
             ],
             [
              0.8888888888888888,
              "#fdca26"
             ],
             [
              1,
              "#f0f921"
             ]
            ],
            "type": "heatmap"
           }
          ],
          "histogram": [
           {
            "marker": {
             "pattern": {
              "fillmode": "overlay",
              "size": 10,
              "solidity": 0.2
             }
            },
            "type": "histogram"
           }
          ],
          "histogram2d": [
           {
            "colorbar": {
             "outlinewidth": 0,
             "ticks": ""
            },
            "colorscale": [
             [
              0,
              "#0d0887"
             ],
             [
              0.1111111111111111,
              "#46039f"
             ],
             [
              0.2222222222222222,
              "#7201a8"
             ],
             [
              0.3333333333333333,
              "#9c179e"
             ],
             [
              0.4444444444444444,
              "#bd3786"
             ],
             [
              0.5555555555555556,
              "#d8576b"
             ],
             [
              0.6666666666666666,
              "#ed7953"
             ],
             [
              0.7777777777777778,
              "#fb9f3a"
             ],
             [
              0.8888888888888888,
              "#fdca26"
             ],
             [
              1,
              "#f0f921"
             ]
            ],
            "type": "histogram2d"
           }
          ],
          "histogram2dcontour": [
           {
            "colorbar": {
             "outlinewidth": 0,
             "ticks": ""
            },
            "colorscale": [
             [
              0,
              "#0d0887"
             ],
             [
              0.1111111111111111,
              "#46039f"
             ],
             [
              0.2222222222222222,
              "#7201a8"
             ],
             [
              0.3333333333333333,
              "#9c179e"
             ],
             [
              0.4444444444444444,
              "#bd3786"
             ],
             [
              0.5555555555555556,
              "#d8576b"
             ],
             [
              0.6666666666666666,
              "#ed7953"
             ],
             [
              0.7777777777777778,
              "#fb9f3a"
             ],
             [
              0.8888888888888888,
              "#fdca26"
             ],
             [
              1,
              "#f0f921"
             ]
            ],
            "type": "histogram2dcontour"
           }
          ],
          "mesh3d": [
           {
            "colorbar": {
             "outlinewidth": 0,
             "ticks": ""
            },
            "type": "mesh3d"
           }
          ],
          "parcoords": [
           {
            "line": {
             "colorbar": {
              "outlinewidth": 0,
              "ticks": ""
             }
            },
            "type": "parcoords"
           }
          ],
          "pie": [
           {
            "automargin": true,
            "type": "pie"
           }
          ],
          "scatter": [
           {
            "fillpattern": {
             "fillmode": "overlay",
             "size": 10,
             "solidity": 0.2
            },
            "type": "scatter"
           }
          ],
          "scatter3d": [
           {
            "line": {
             "colorbar": {
              "outlinewidth": 0,
              "ticks": ""
             }
            },
            "marker": {
             "colorbar": {
              "outlinewidth": 0,
              "ticks": ""
             }
            },
            "type": "scatter3d"
           }
          ],
          "scattercarpet": [
           {
            "marker": {
             "colorbar": {
              "outlinewidth": 0,
              "ticks": ""
             }
            },
            "type": "scattercarpet"
           }
          ],
          "scattergeo": [
           {
            "marker": {
             "colorbar": {
              "outlinewidth": 0,
              "ticks": ""
             }
            },
            "type": "scattergeo"
           }
          ],
          "scattergl": [
           {
            "marker": {
             "colorbar": {
              "outlinewidth": 0,
              "ticks": ""
             }
            },
            "type": "scattergl"
           }
          ],
          "scattermap": [
           {
            "marker": {
             "colorbar": {
              "outlinewidth": 0,
              "ticks": ""
             }
            },
            "type": "scattermap"
           }
          ],
          "scattermapbox": [
           {
            "marker": {
             "colorbar": {
              "outlinewidth": 0,
              "ticks": ""
             }
            },
            "type": "scattermapbox"
           }
          ],
          "scatterpolar": [
           {
            "marker": {
             "colorbar": {
              "outlinewidth": 0,
              "ticks": ""
             }
            },
            "type": "scatterpolar"
           }
          ],
          "scatterpolargl": [
           {
            "marker": {
             "colorbar": {
              "outlinewidth": 0,
              "ticks": ""
             }
            },
            "type": "scatterpolargl"
           }
          ],
          "scatterternary": [
           {
            "marker": {
             "colorbar": {
              "outlinewidth": 0,
              "ticks": ""
             }
            },
            "type": "scatterternary"
           }
          ],
          "surface": [
           {
            "colorbar": {
             "outlinewidth": 0,
             "ticks": ""
            },
            "colorscale": [
             [
              0,
              "#0d0887"
             ],
             [
              0.1111111111111111,
              "#46039f"
             ],
             [
              0.2222222222222222,
              "#7201a8"
             ],
             [
              0.3333333333333333,
              "#9c179e"
             ],
             [
              0.4444444444444444,
              "#bd3786"
             ],
             [
              0.5555555555555556,
              "#d8576b"
             ],
             [
              0.6666666666666666,
              "#ed7953"
             ],
             [
              0.7777777777777778,
              "#fb9f3a"
             ],
             [
              0.8888888888888888,
              "#fdca26"
             ],
             [
              1,
              "#f0f921"
             ]
            ],
            "type": "surface"
           }
          ],
          "table": [
           {
            "cells": {
             "fill": {
              "color": "#EBF0F8"
             },
             "line": {
              "color": "white"
             }
            },
            "header": {
             "fill": {
              "color": "#C8D4E3"
             },
             "line": {
              "color": "white"
             }
            },
            "type": "table"
           }
          ]
         },
         "layout": {
          "annotationdefaults": {
           "arrowcolor": "#2a3f5f",
           "arrowhead": 0,
           "arrowwidth": 1
          },
          "autotypenumbers": "strict",
          "coloraxis": {
           "colorbar": {
            "outlinewidth": 0,
            "ticks": ""
           }
          },
          "colorscale": {
           "diverging": [
            [
             0,
             "#8e0152"
            ],
            [
             0.1,
             "#c51b7d"
            ],
            [
             0.2,
             "#de77ae"
            ],
            [
             0.3,
             "#f1b6da"
            ],
            [
             0.4,
             "#fde0ef"
            ],
            [
             0.5,
             "#f7f7f7"
            ],
            [
             0.6,
             "#e6f5d0"
            ],
            [
             0.7,
             "#b8e186"
            ],
            [
             0.8,
             "#7fbc41"
            ],
            [
             0.9,
             "#4d9221"
            ],
            [
             1,
             "#276419"
            ]
           ],
           "sequential": [
            [
             0,
             "#0d0887"
            ],
            [
             0.1111111111111111,
             "#46039f"
            ],
            [
             0.2222222222222222,
             "#7201a8"
            ],
            [
             0.3333333333333333,
             "#9c179e"
            ],
            [
             0.4444444444444444,
             "#bd3786"
            ],
            [
             0.5555555555555556,
             "#d8576b"
            ],
            [
             0.6666666666666666,
             "#ed7953"
            ],
            [
             0.7777777777777778,
             "#fb9f3a"
            ],
            [
             0.8888888888888888,
             "#fdca26"
            ],
            [
             1,
             "#f0f921"
            ]
           ],
           "sequentialminus": [
            [
             0,
             "#0d0887"
            ],
            [
             0.1111111111111111,
             "#46039f"
            ],
            [
             0.2222222222222222,
             "#7201a8"
            ],
            [
             0.3333333333333333,
             "#9c179e"
            ],
            [
             0.4444444444444444,
             "#bd3786"
            ],
            [
             0.5555555555555556,
             "#d8576b"
            ],
            [
             0.6666666666666666,
             "#ed7953"
            ],
            [
             0.7777777777777778,
             "#fb9f3a"
            ],
            [
             0.8888888888888888,
             "#fdca26"
            ],
            [
             1,
             "#f0f921"
            ]
           ]
          },
          "colorway": [
           "#636efa",
           "#EF553B",
           "#00cc96",
           "#ab63fa",
           "#FFA15A",
           "#19d3f3",
           "#FF6692",
           "#B6E880",
           "#FF97FF",
           "#FECB52"
          ],
          "font": {
           "color": "#2a3f5f"
          },
          "geo": {
           "bgcolor": "white",
           "lakecolor": "white",
           "landcolor": "#E5ECF6",
           "showlakes": true,
           "showland": true,
           "subunitcolor": "white"
          },
          "hoverlabel": {
           "align": "left"
          },
          "hovermode": "closest",
          "mapbox": {
           "style": "light"
          },
          "paper_bgcolor": "white",
          "plot_bgcolor": "#E5ECF6",
          "polar": {
           "angularaxis": {
            "gridcolor": "white",
            "linecolor": "white",
            "ticks": ""
           },
           "bgcolor": "#E5ECF6",
           "radialaxis": {
            "gridcolor": "white",
            "linecolor": "white",
            "ticks": ""
           }
          },
          "scene": {
           "xaxis": {
            "backgroundcolor": "#E5ECF6",
            "gridcolor": "white",
            "gridwidth": 2,
            "linecolor": "white",
            "showbackground": true,
            "ticks": "",
            "zerolinecolor": "white"
           },
           "yaxis": {
            "backgroundcolor": "#E5ECF6",
            "gridcolor": "white",
            "gridwidth": 2,
            "linecolor": "white",
            "showbackground": true,
            "ticks": "",
            "zerolinecolor": "white"
           },
           "zaxis": {
            "backgroundcolor": "#E5ECF6",
            "gridcolor": "white",
            "gridwidth": 2,
            "linecolor": "white",
            "showbackground": true,
            "ticks": "",
            "zerolinecolor": "white"
           }
          },
          "shapedefaults": {
           "line": {
            "color": "#2a3f5f"
           }
          },
          "ternary": {
           "aaxis": {
            "gridcolor": "white",
            "linecolor": "white",
            "ticks": ""
           },
           "baxis": {
            "gridcolor": "white",
            "linecolor": "white",
            "ticks": ""
           },
           "bgcolor": "#E5ECF6",
           "caxis": {
            "gridcolor": "white",
            "linecolor": "white",
            "ticks": ""
           }
          },
          "title": {
           "x": 0.05
          },
          "xaxis": {
           "automargin": true,
           "gridcolor": "white",
           "linecolor": "white",
           "ticks": "",
           "title": {
            "standoff": 15
           },
           "zerolinecolor": "white",
           "zerolinewidth": 2
          },
          "yaxis": {
           "automargin": true,
           "gridcolor": "white",
           "linecolor": "white",
           "ticks": "",
           "title": {
            "standoff": 15
           },
           "zerolinecolor": "white",
           "zerolinewidth": 2
          }
         }
        },
        "title": {
         "text": "Visualización del Dataset Wine con UMAP"
        },
        "xaxis": {
         "anchor": "y",
         "domain": [
          0,
          1
         ],
         "title": {
          "text": "UMAP1"
         }
        },
        "yaxis": {
         "anchor": "x",
         "domain": [
          0,
          1
         ],
         "title": {
          "text": "UMAP2"
         }
        }
       }
      }
     },
     "metadata": {},
     "output_type": "display_data"
    }
   ],
   "source": [
    "\n",
    "#7.  **Aplicación a otro Dataset:** Carga el dataset `load_wine` de Scikit-learn. \n",
    "# Este dataset tiene 13 características. Aplica PCA, t-SNE y UMAP para visualizar las 3 clases de vinos. ¿Cuál técnica funciona mejor para separar las clases?\n",
    "#le? ¿Por qué?\n",
    "\n",
    "from sklearn.datasets import load_wine\n",
    "# Cargamos el dataset de vinos\n",
    "wine = load_wine()\n",
    "X_wine = wine.data\n",
    "y_wine = wine.target\n",
    "# Estandarizamos los datos\n",
    "scaler_wine = StandardScaler()\n",
    "X_wine_scaled = scaler_wine.fit_transform(X_wine)\n",
    "# Aplicamos PCA para reducir a 2 dimensiones\n",
    "pca_wine = PCA(n_components=2)\n",
    "X_wine_pca = pca_wine.fit_transform(X_wine_scaled)\n",
    "# Creamos un DataFrame para facilitar la visualización con Plotly\n",
    "df_wine_pca = pd.DataFrame(data=X_wine_pca, columns=['PC1', 'PC2'])\n",
    "df_wine_pca['label'] = y_wine.astype(str) # Convertimos la etiqueta a string para colores discretos\n",
    "# Visualizamos PCA\n",
    "fig = px.scatter(df_wine_pca, x='PC1', y='PC2', color='label',\n",
    "                 title='Visualización del Dataset Wine con PCA (2 Componentes)',\n",
    "                 labels={'color': 'Clase de Vino'})\n",
    "fig.show()\n",
    "# Aplicamos t-SNE\n",
    "tsne_wine = TSNE(n_components=2, perplexity=30, random_state=1)\n",
    "X_wine_tsne = tsne_wine.fit_transform(X_wine_scaled)\n",
    "# Creamos el DataFrame para Plotly\n",
    "df_wine_tsne = pd.DataFrame(data=X_wine_tsne, columns=['TSNE1', 'TSNE2'])\n",
    "df_wine_tsne['label'] = y_wine.astype(str)\n",
    "# Visualizamos t-SNE\n",
    "fig = px.scatter(df_wine_tsne, x='TSNE1', y='TSNE2', color='label',\n",
    "                 title='Visualización del Dataset Wine con t-SNE',\n",
    "                 labels={'color': 'Clase de Vino'})\n",
    "fig.show()\n",
    "# Aplicamos UMAP    \n",
    "reducer_wine = umap.UMAP(n_neighbors=15, min_dist=0.0, n_components=2)\n",
    "X_wine_umap = reducer_wine.fit_transform(X_wine_scaled)\n",
    "# Creamos el DataFrame para Plotly\n",
    "df_wine_umap = pd.DataFrame(data=X_wine_umap, columns=['UMAP1', 'UMAP2'])\n",
    "df_wine_umap['label'] = y_wine.astype(str)\n",
    "# Visualizamos UMAP     \n",
    "fig = px.scatter(df_wine_umap, x='UMAP1', y='UMAP2', color='label',\n",
    "                 title='Visualización del Dataset Wine con UMAP',\n",
    "                 labels={'color': 'Clase de Vino'})\n",
    "fig.show()\n"
   ]
  },
  {
   "cell_type": "markdown",
   "metadata": {},
   "source": [
    "### Markdown parece funcionar mejor porque define mas los cluster, sin embargo se filtran los rojos en otros clusters pero eso aparece en todos los métodos, en cambio en este aprecen mucho mas separados"
   ]
  }
 ],
 "metadata": {
  "kernelspec": {
   "display_name": "islp",
   "language": "python",
   "name": "python3"
  },
  "language_info": {
   "codemirror_mode": {
    "name": "ipython",
    "version": 3
   },
   "file_extension": ".py",
   "mimetype": "text/x-python",
   "name": "python",
   "nbconvert_exporter": "python",
   "pygments_lexer": "ipython3",
   "version": "3.12.11"
  }
 },
 "nbformat": 4,
 "nbformat_minor": 4
}
