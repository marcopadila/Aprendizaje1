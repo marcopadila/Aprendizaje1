{
 "cells": [
  {
   "cell_type": "markdown",
   "metadata": {},
   "source": [
    "# Taller Práctico Clase 9: Reducción de Dimensionalidad\n",
    "\n",
    "**Objetivo:** En este taller, aplicaremos y compararemos las tres técnicas de reducción de dimensionalidad vistas en clase: PCA (Análisis de Componentes Principales), t-SNE y UMAP. \n",
    "\n",
    "**Dataset:** Usaremos el dataset `digits` de Scikit-learn, que contiene imágenes de 8x8 píxeles de dígitos escritos a mano (0-9). Cada imagen está \"aplanada\" en un vector de 64 características (dimensiones), lo que lo convierte en un excelente candidato para la reducción de dimensionalidad y la visualización."
   ]
  },
  {
   "cell_type": "markdown",
   "metadata": {},
   "source": [
    "## 1. Configuración e Importación de Librerías"
   ]
  },
  {
   "cell_type": "code",
   "execution_count": 1,
   "metadata": {},
   "outputs": [
    {
     "name": "stderr",
     "output_type": "stream",
     "text": [
      "C:\\Users\\marco\\AppData\\Local\\Packages\\PythonSoftwareFoundation.Python.3.11_qbz5n2kfra8p0\\LocalCache\\local-packages\\Python311\\site-packages\\tqdm\\auto.py:21: TqdmWarning: IProgress not found. Please update jupyter and ipywidgets. See https://ipywidgets.readthedocs.io/en/stable/user_install.html\n",
      "  from .autonotebook import tqdm as notebook_tqdm\n"
     ]
    }
   ],
   "source": [
    "# Librerías para manipulación de datos\n",
    "import numpy as np\n",
    "import pandas as pd\n",
    "\n",
    "# Librerías para visualización\n",
    "import plotly.express as px\n",
    "import matplotlib.pyplot as plt\n",
    "\n",
    "# Scikit-learn para carga de datos, preprocesamiento y modelos\n",
    "from sklearn.datasets import load_digits\n",
    "from sklearn.preprocessing import StandardScaler\n",
    "from sklearn.decomposition import PCA\n",
    "from sklearn.manifold import TSNE\n",
    "\n",
    "# UMAP (es necesario instalarlo: pip install umap-learn)\n",
    "import umap\n",
    "\n",
    "# Configuraciones adicionales\n",
    "pd.options.plotting.backend = 'plotly'"
   ]
  },
  {
   "cell_type": "markdown",
   "metadata": {},
   "source": [
    "## 2. Carga y Exploración del Dataset"
   ]
  },
  {
   "cell_type": "code",
   "execution_count": 2,
   "metadata": {},
   "outputs": [
    {
     "name": "stdout",
     "output_type": "stream",
     "text": [
      "Forma de la matriz de características (X): (1797, 64)\n",
      "Forma del vector de etiquetas (y): (1797,)\n"
     ]
    }
   ],
   "source": [
    "# Cargamos el dataset de dígitos\n",
    "digits = load_digits()\n",
    "\n",
    "# X tiene los datos de las imágenes (las características)\n",
    "X = digits.data\n",
    "\n",
    "# y contiene las etiquetas verdaderas (el dígito del 0 al 9)\n",
    "y = digits.target\n",
    "\n",
    "print(f\"Forma de la matriz de características (X): {X.shape}\")\n",
    "print(f\"Forma del vector de etiquetas (y): {y.shape}\")"
   ]
  },
  {
   "cell_type": "markdown",
   "metadata": {},
   "source": [
    "Cada imagen tiene 64 píxeles (8x8), que actúan como nuestras características. Tenemos 1797 imágenes en total.\n",
    "\n",
    "Para tener una idea de cómo se ven los datos, podemos visualizar algunas de las imágenes."
   ]
  },
  {
   "cell_type": "code",
   "execution_count": 3,
   "metadata": {},
   "outputs": [
    {
     "data": {
      "text/plain": [
       "array([[ 0.,  0.,  5., 13.,  9.,  1.,  0.,  0.],\n",
       "       [ 0.,  0., 13., 15., 10., 15.,  5.,  0.],\n",
       "       [ 0.,  3., 15.,  2.,  0., 11.,  8.,  0.],\n",
       "       [ 0.,  4., 12.,  0.,  0.,  8.,  8.,  0.],\n",
       "       [ 0.,  5.,  8.,  0.,  0.,  9.,  8.,  0.],\n",
       "       [ 0.,  4., 11.,  0.,  1., 12.,  7.,  0.],\n",
       "       [ 0.,  2., 14.,  5., 10., 12.,  0.,  0.],\n",
       "       [ 0.,  0.,  6., 13., 10.,  0.,  0.,  0.]])"
      ]
     },
     "execution_count": 3,
     "metadata": {},
     "output_type": "execute_result"
    }
   ],
   "source": [
    "digits.images[0]"
   ]
  },
  {
   "cell_type": "code",
   "execution_count": 4,
   "metadata": {},
   "outputs": [
    {
     "data": {
      "text/plain": [
       "array([[ 0.,  0.,  5., ...,  0.,  0.,  0.],\n",
       "       [ 0.,  0.,  0., ..., 10.,  0.,  0.],\n",
       "       [ 0.,  0.,  0., ..., 16.,  9.,  0.],\n",
       "       ...,\n",
       "       [ 0.,  0.,  1., ...,  6.,  0.,  0.],\n",
       "       [ 0.,  0.,  2., ..., 12.,  0.,  0.],\n",
       "       [ 0.,  0., 10., ..., 12.,  1.,  0.]])"
      ]
     },
     "execution_count": 4,
     "metadata": {},
     "output_type": "execute_result"
    }
   ],
   "source": [
    "digits.data"
   ]
  },
  {
   "cell_type": "code",
   "execution_count": 5,
   "metadata": {},
   "outputs": [
    {
     "data": {
      "image/png": "[encoded data removed]",
      "text/plain": [
       "<Figure size 750x300 with 10 Axes>"
      ]
     },
     "metadata": {},
     "output_type": "display_data"
    }
   ],
   "source": [
    "plt.figure(figsize=(7.5, 3))\n",
    "for index, (image, label) in enumerate(zip(digits.images[:10], digits.target[:10])):\n",
    "    plt.subplot(2, 5, index + 1)\n",
    "    plt.imshow(image, cmap=plt.cm.gray_r, interpolation='nearest')\n",
    "    plt.axis('off')\n",
    "    plt.title('Label: %i' % label)\n",
    "plt.show()"
   ]
  },
  {
   "cell_type": "markdown",
   "metadata": {},
   "source": [
    "## 3. Preprocesamiento: Escalado de Datos\n",
    "\n",
    "Como vimos en la teoría, PCA es sensible a la escala de las características. Aunque en este caso todos los píxeles están en una escala similar (0-16), es una buena práctica estandarizar los datos para que tengan media 0 y desviación estándar 1. Esto asegura que cada característica contribuya por igual al análisis."
   ]
  },
  {
   "cell_type": "code",
   "execution_count": 6,
   "metadata": {},
   "outputs": [],
   "source": [
    "scaler = StandardScaler()\n",
    "X_scaled = scaler.fit_transform(X)"
   ]
  },
  {
   "cell_type": "markdown",
   "metadata": {},
   "source": [
    "## 4. Análisis de Componentes Principales (PCA)\n",
    "\n",
    "Comenzaremos aplicando PCA para reducir la dimensionalidad de 64 a 2 componentes para poder visualizar los datos en un gráfico de dispersión."
   ]
  },
  {
   "cell_type": "markdown",
   "metadata": {},
   "source": [
    "### 4.1. Varianza Explicada\n",
    "\n",
    "Antes de reducir a 2D, es útil ajustar PCA con todos los componentes posibles para ver cuánta varianza explica cada uno. El **Scree Plot** nos ayudará a decidir cuántos componentes son \"suficientes\"."
   ]
  },
  {
   "cell_type": "code",
   "execution_count": 7,
   "metadata": {},
   "outputs": [
    {
     "data": {
      "application/vnd.plotly.v1+json": {
       "config": {
        "plotlyServerURL": "https://plot.ly"
       },
       "data": [
        {
         "fillpattern": {
          "shape": ""
         },
         "hovertemplate": "Número de Componentes Principales=%{x}<br>Varianza Explicada Acumulada=%{y}<extra></extra>",
         "legendgroup": "",
         "line": {
          "color": "#636efa"
         },
         "marker": {
          "symbol": "circle"
         },
         "mode": "lines",
         "name": "",
         "orientation": "v",
         "showlegend": false,
         "stackgroup": "1",
         "type": "scatter",
         "x": {
          "bdata": "AQIDBAUGBwgJCgsMDQ4PEBESExQVFhcYGRobHB0eHyAhIiMkJSYnKCkqKywtLi8wMTIzNDU2Nzg5Ojs8PT4/QA==",
          "dtype": "i1"
         },
         "xaxis": "x",
         "y": {
          "bdata": "MGfTGIzOvj8PuktsPaTLP45gpCSnOdM/UUM9IFpi1z9gjtrLo37aP3VSZ8sUMd0/dsQzu/O23z/f4uFVIvHgP6IKX5a/5uE/QkE1I/DW4j9D/JHT0rrjP4Ggv5bvjeQ/iCBpKFRI5T9XDpeAx/7lPxR1lqcnsOY/2A9Oo/ZM5z/VUSKPat7nP+UKllybZOg/a7najmPn6D9+dCkpYmHpPxfWqSHPz+k/Efg1dwE46j/rztPYgpfqP9BExE0n7uo/tiRjKQ0+6z+Ijtn/bYvrP/upDbYg0us/VQssYqoW7D/VkzA5A1jsPxC/2Nwplew/VStcbJrQ7D/n6ZLaSAntP2feSk/aPu0/+kk6tFhz7T+acIDtyqPtP/jNUBKV0u0/JWr/h3r97T85+cfE8iTuP4RsgvMdSu4/SPM9Uchs7j/V3g/eC47uP9PC5FaTru4/Ssy9i8fL7j/Yk/1esufuPzqCi5ONAu8/+13rYwgc7z+2kbtArDPvP4LRKadSSu8/QToI8o1f7z/9GhVpw3LvP8Y5qpakhO8/PmkkV1KV7z/1o3yIVqXvPyh1LwBbtO8/W9N8Fx3C7z8laQF1Us/vP+rP7UNt2+8/Rk1g537m7z9qk990vvDvP6LlFR09+e8/+///////7z/7///////vP/v//////+8/+///////7z8=",
          "dtype": "f8"
         },
         "yaxis": "y"
        }
       ],
       "layout": {
        "annotations": [
         {
          "arrowhead": 1,
          "showarrow": true,
          "text": "90% de Varianza Explicada",
          "x": 30,
          "y": 0.9
         }
        ],
        "legend": {
         "tracegroupgap": 0
        },
        "shapes": [
         {
          "line": {
           "color": "red",
           "dash": "dash"
          },
          "type": "line",
          "x0": 0,
          "x1": 1,
          "xref": "x domain",
          "y0": 0.9,
          "y1": 0.9,
          "yref": "y"
         }
        ],
        "template": {
         "data": {
          "bar": [
           {
            "error_x": {
             "color": "#2a3f5f"
            },
            "error_y": {
             "color": "#2a3f5f"
            },
            "marker": {
             "line": {
              "color": "#E5ECF6",
              "width": 0.5
             },
             "pattern": {
              "fillmode": "overlay",
              "size": 10,
              "solidity": 0.2
             }
            },
            "type": "bar"
           }
          ],
          "barpolar": [
           {
            "marker": {
             "line": {
              "color": "#E5ECF6",
              "width": 0.5
             },
             "pattern": {
              "fillmode": "overlay",
              "size": 10,
              "solidity": 0.2
             }
            },
            "type": "barpolar"
           }
          ],
          "carpet": [
           {
            "aaxis": {
             "endlinecolor": "#2a3f5f",
             "gridcolor": "white",
             "linecolor": "white",
             "minorgridcolor": "white",
             "startlinecolor": "#2a3f5f"
            },
            "baxis": {
             "endlinecolor": "#2a3f5f",
             "gridcolor": "white",
             "linecolor": "white",
             "minorgridcolor": "white",
             "startlinecolor": "#2a3f5f"
            },
            "type": "carpet"
           }
          ],
          "choropleth": [
           {
            "colorbar": {
             "outlinewidth": 0,
             "ticks": ""
            },
            "type": "choropleth"
           }
          ],
          "contour": [
           {
            "colorbar": {
             "outlinewidth": 0,
             "ticks": ""
            },
            "colorscale": [
             [
              0,
              "#0d0887"
             ],
             [
              0.1111111111111111,
              "#46039f"
             ],
             [
              0.2222222222222222,
              "#7201a8"
             ],
             [
              0.3333333333333333,
              "#9c179e"
             ],
             [
              0.4444444444444444,
              "#bd3786"
             ],
             [
              0.5555555555555556,
              "#d8576b"
             ],
             [
              0.6666666666666666,
              "#ed7953"
             ],
             [
              0.7777777777777778,
              "#fb9f3a"
             ],
             [
              0.8888888888888888,
              "#fdca26"
             ],
             [
              1,
              "#f0f921"
             ]
            ],
            "type": "contour"
           }
          ],
          "contourcarpet": [
           {
            "colorbar": {
             "outlinewidth": 0,
             "ticks": ""
            },
            "type": "contourcarpet"
           }
          ],
          "heatmap": [
           {
            "colorbar": {
             "outlinewidth": 0,
             "ticks": ""
            },
            "colorscale": [
             [
              0,
              "#0d0887"
             ],
             [
              0.1111111111111111,
              "#46039f"
             ],
             [
              0.2222222222222222,
              "#7201a8"
             ],
             [
              0.3333333333333333,
              "#9c179e"
             ],
             [
              0.4444444444444444,
              "#bd3786"
             ],
             [
              0.5555555555555556,
              "#d8576b"
             ],
             [
              0.6666666666666666,
              "#ed7953"
             ],
             [
              0.7777777777777778,
              "#fb9f3a"
             ],
             [
              0.8888888888888888,
              "#fdca26"
             ],
             [
              1,
              "#f0f921"
             ]
            ],
            "type": "heatmap"
           }
          ],
          "histogram": [
           {
            "marker": {
             "pattern": {
              "fillmode": "overlay",
              "size": 10,
              "solidity": 0.2
             }
            },
            "type": "histogram"
           }
          ],
          "histogram2d": [
           {
            "colorbar": {
             "outlinewidth": 0,
             "ticks": ""
            },
            "colorscale": [
             [
              0,
              "#0d0887"
             ],
             [
              0.1111111111111111,
              "#46039f"
             ],
             [
              0.2222222222222222,
              "#7201a8"
             ],
             [
              0.3333333333333333,
              "#9c179e"
             ],
             [
              0.4444444444444444,
              "#bd3786"
             ],
             [
              0.5555555555555556,
              "#d8576b"
             ],
             [
              0.6666666666666666,
              "#ed7953"
             ],
             [
              0.7777777777777778,
              "#fb9f3a"
             ],
             [
              0.8888888888888888,
              "#fdca26"
             ],
             [
              1,
              "#f0f921"
             ]
            ],
            "type": "histogram2d"
           }
          ],
          "histogram2dcontour": [
           {
            "colorbar": {
             "outlinewidth": 0,
             "ticks": ""
            },
            "colorscale": [
             [
              0,
              "#0d0887"
             ],
             [
              0.1111111111111111,
              "#46039f"
             ],
             [
              0.2222222222222222,
              "#7201a8"
             ],
             [
              0.3333333333333333,
              "#9c179e"
             ],
             [
              0.4444444444444444,
              "#bd3786"
             ],
             [
              0.5555555555555556,
              "#d8576b"
             ],
             [
              0.6666666666666666,
              "#ed7953"
             ],
             [
              0.7777777777777778,
              "#fb9f3a"
             ],
             [
              0.8888888888888888,
              "#fdca26"
             ],
             [
              1,
              "#f0f921"
             ]
            ],
            "type": "histogram2dcontour"
           }
          ],
          "mesh3d": [
           {
            "colorbar": {
             "outlinewidth": 0,
             "ticks": ""
            },
            "type": "mesh3d"
           }
          ],
          "parcoords": [
           {
            "line": {
             "colorbar": {
              "outlinewidth": 0,
              "ticks": ""
             }
            },
            "type": "parcoords"
           }
          ],
          "pie": [
           {
            "automargin": true,
            "type": "pie"
           }
          ],
          "scatter": [
           {
            "fillpattern": {
             "fillmode": "overlay",
             "size": 10,
             "solidity": 0.2
            },
            "type": "scatter"
           }
          ],
          "scatter3d": [
           {
            "line": {
             "colorbar": {
              "outlinewidth": 0,
              "ticks": ""
             }
            },
            "marker": {
             "colorbar": {
              "outlinewidth": 0,
              "ticks": ""
             }
            },
            "type": "scatter3d"
           }
          ],
          "scattercarpet": [
           {
            "marker": {
             "colorbar": {
              "outlinewidth": 0,
              "ticks": ""
             }
            },
            "type": "scattercarpet"
           }
          ],
          "scattergeo": [
           {
            "marker": {
             "colorbar": {
              "outlinewidth": 0,
              "ticks": ""
             }
            },
            "type": "scattergeo"
           }
          ],
          "scattergl": [
           {
            "marker": {
             "colorbar": {
              "outlinewidth": 0,
              "ticks": ""
             }
            },
            "type": "scattergl"
           }
          ],
          "scattermap": [
           {
            "marker": {
             "colorbar": {
              "outlinewidth": 0,
              "ticks": ""
             }
            },
            "type": "scattermap"
           }
          ],
          "scattermapbox": [
           {
            "marker": {
             "colorbar": {
              "outlinewidth": 0,
              "ticks": ""
             }
            },
            "type": "scattermapbox"
           }
          ],
          "scatterpolar": [
           {
            "marker": {
             "colorbar": {
              "outlinewidth": 0,
              "ticks": ""
             }
            },
            "type": "scatterpolar"
           }
          ],
          "scatterpolargl": [
           {
            "marker": {
             "colorbar": {
              "outlinewidth": 0,
              "ticks": ""
             }
            },
            "type": "scatterpolargl"
           }
          ],
          "scatterternary": [
           {
            "marker": {
             "colorbar": {
              "outlinewidth": 0,
              "ticks": ""
             }
            },
            "type": "scatterternary"
           }
          ],
          "surface": [
           {
            "colorbar": {
             "outlinewidth": 0,
             "ticks": ""
            },
            "colorscale": [
             [
              0,
              "#0d0887"
             ],
             [
              0.1111111111111111,
              "#46039f"
             ],
             [
              0.2222222222222222,
              "#7201a8"
             ],
             [
              0.3333333333333333,
              "#9c179e"
             ],
             [
              0.4444444444444444,
              "#bd3786"
             ],
             [
              0.5555555555555556,
              "#d8576b"
             ],
             [
              0.6666666666666666,
              "#ed7953"
             ],
             [
              0.7777777777777778,
              "#fb9f3a"
             ],
             [
              0.8888888888888888,
              "#fdca26"
             ],
             [
              1,
              "#f0f921"
             ]
            ],
            "type": "surface"
           }
          ],
          "table": [
           {
            "cells": {
             "fill": {
              "color": "#EBF0F8"
             },
             "line": {
              "color": "white"
             }
            },
            "header": {
             "fill": {
              "color": "#C8D4E3"
             },
             "line": {
              "color": "white"
             }
            },
            "type": "table"
           }
          ]
         },
         "layout": {
          "annotationdefaults": {
           "arrowcolor": "#2a3f5f",
           "arrowhead": 0,
           "arrowwidth": 1
          },
          "autotypenumbers": "strict",
          "coloraxis": {
           "colorbar": {
            "outlinewidth": 0,
            "ticks": ""
           }
          },
          "colorscale": {
           "diverging": [
            [
             0,
             "#8e0152"
            ],
            [
             0.1,
             "#c51b7d"
            ],
            [
             0.2,
             "#de77ae"
            ],
            [
             0.3,
             "#f1b6da"
            ],
            [
             0.4,
             "#fde0ef"
            ],
            [
             0.5,
             "#f7f7f7"
            ],
            [
             0.6,
             "#e6f5d0"
            ],
            [
             0.7,
             "#b8e186"
            ],
            [
             0.8,
             "#7fbc41"
            ],
            [
             0.9,
             "#4d9221"
            ],
            [
             1,
             "#276419"
            ]
           ],
           "sequential": [
            [
             0,
             "#0d0887"
            ],
            [
             0.1111111111111111,
             "#46039f"
            ],
            [
             0.2222222222222222,
             "#7201a8"
            ],
            [
             0.3333333333333333,
             "#9c179e"
            ],
            [
             0.4444444444444444,
             "#bd3786"
            ],
            [
             0.5555555555555556,
             "#d8576b"
            ],
            [
             0.6666666666666666,
             "#ed7953"
            ],
            [
             0.7777777777777778,
             "#fb9f3a"
            ],
            [
             0.8888888888888888,
             "#fdca26"
            ],
            [
             1,
             "#f0f921"
            ]
           ],
           "sequentialminus": [
            [
             0,
             "#0d0887"
            ],
            [
             0.1111111111111111,
             "#46039f"
            ],
            [
             0.2222222222222222,
             "#7201a8"
            ],
            [
             0.3333333333333333,
             "#9c179e"
            ],
            [
             0.4444444444444444,
             "#bd3786"
            ],
            [
             0.5555555555555556,
             "#d8576b"
            ],
            [
             0.6666666666666666,
             "#ed7953"
            ],
            [
             0.7777777777777778,
             "#fb9f3a"
            ],
            [
             0.8888888888888888,
             "#fdca26"
            ],
            [
             1,
             "#f0f921"
            ]
           ]
          },
          "colorway": [
           "#636efa",
           "#EF553B",
           "#00cc96",
           "#ab63fa",
           "#FFA15A",
           "#19d3f3",
           "#FF6692",
           "#B6E880",
           "#FF97FF",
           "#FECB52"
          ],
          "font": {
           "color": "#2a3f5f"
          },
          "geo": {
           "bgcolor": "white",
           "lakecolor": "white",
           "landcolor": "#E5ECF6",
           "showlakes": true,
           "showland": true,
           "subunitcolor": "white"
          },
          "hoverlabel": {
           "align": "left"
          },
          "hovermode": "closest",
          "mapbox": {
           "style": "light"
          },
          "paper_bgcolor": "white",
          "plot_bgcolor": "#E5ECF6",
          "polar": {
           "angularaxis": {
            "gridcolor": "white",
            "linecolor": "white",
            "ticks": ""
           },
           "bgcolor": "#E5ECF6",
           "radialaxis": {
            "gridcolor": "white",
            "linecolor": "white",
            "ticks": ""
           }
          },
          "scene": {
           "xaxis": {
            "backgroundcolor": "#E5ECF6",
            "gridcolor": "white",
            "gridwidth": 2,
            "linecolor": "white",
            "showbackground": true,
            "ticks": "",
            "zerolinecolor": "white"
           },
           "yaxis": {
            "backgroundcolor": "#E5ECF6",
            "gridcolor": "white",
            "gridwidth": 2,
            "linecolor": "white",
            "showbackground": true,
            "ticks": "",
            "zerolinecolor": "white"
           },
           "zaxis": {
            "backgroundcolor": "#E5ECF6",
            "gridcolor": "white",
            "gridwidth": 2,
            "linecolor": "white",
            "showbackground": true,
            "ticks": "",
            "zerolinecolor": "white"
           }
          },
          "shapedefaults": {
           "line": {
            "color": "#2a3f5f"
           }
          },
          "ternary": {
           "aaxis": {
            "gridcolor": "white",
            "linecolor": "white",
            "ticks": ""
           },
           "baxis": {
            "gridcolor": "white",
            "linecolor": "white",
            "ticks": ""
           },
           "bgcolor": "#E5ECF6",
           "caxis": {
            "gridcolor": "white",
            "linecolor": "white",
            "ticks": ""
           }
          },
          "title": {
           "x": 0.05
          },
          "xaxis": {
           "automargin": true,
           "gridcolor": "white",
           "linecolor": "white",
           "ticks": "",
           "title": {
            "standoff": 15
           },
           "zerolinecolor": "white",
           "zerolinewidth": 2
          },
          "yaxis": {
           "automargin": true,
           "gridcolor": "white",
           "linecolor": "white",
           "ticks": "",
           "title": {
            "standoff": 15
           },
           "zerolinecolor": "white",
           "zerolinewidth": 2
          }
         }
        },
        "title": {
         "text": "Scree Plot: Varianza Explicada por los Componentes Principales"
        },
        "xaxis": {
         "anchor": "y",
         "domain": [
          0,
          1
         ],
         "title": {
          "text": "Número de Componentes Principales"
         }
        },
        "yaxis": {
         "anchor": "x",
         "domain": [
          0,
          1
         ],
         "range": [
          0,
          1.05
         ],
         "title": {
          "text": "Varianza Explicada Acumulada"
         }
        }
       }
      }
     },
     "metadata": {},
     "output_type": "display_data"
    }
   ],
   "source": [
    "# Ajustamos PCA sin especificar n_components para mantenerlos todos\n",
    "pca_full = PCA()\n",
    "pca_full.fit(X_scaled)\n",
    "\n",
    "# Calculamos la varianza explicada acumulada\n",
    "cumulative_variance = np.cumsum(pca_full.explained_variance_ratio_)\n",
    "\n",
    "# Creamos el Scree Plot\n",
    "fig = px.area(x=range(1, cumulative_variance.shape[0] + 1),\n",
    "              y=cumulative_variance,\n",
    "              labels={\"x\": \"Número de Componentes Principales\", \"y\": \"Varianza Explicada Acumulada\"},\n",
    "              title=\"Scree Plot: Varianza Explicada por los Componentes Principales\")\n",
    "fig.update_layout(yaxis_range=[0,1.05])\n",
    "fig.add_hline(y=0.9, line_dash=\"dash\", line_color=\"red\")\n",
    "fig.add_annotation(x=30, y=0.9, text=\"90% de Varianza Explicada\", showarrow=True, arrowhead=1)\n",
    "fig.show()"
   ]
  },
  {
   "cell_type": "markdown",
   "metadata": {},
   "source": [
    "**Interpretación:** Podemos ver que con aproximadamente 10 componentes ya capturamos más del 60% de la varianza, y con unos 30 componentes, superamos el 90%. Esto nos dice que hay mucha redundancia en los 64 píxeles y que podemos representar los datos con mucha menos información sin una pérdida masiva.\n",
    "\n",
    "Ahora, vamos a reducir a solo 2 componentes para la visualización."
   ]
  },
  {
   "cell_type": "markdown",
   "metadata": {},
   "source": [
    "### 4.2. Reducción a 2D y Visualización"
   ]
  },
  {
   "cell_type": "code",
   "execution_count": 8,
   "metadata": {},
   "outputs": [
    {
     "data": {
      "application/vnd.plotly.v1+json": {
       "config": {
        "plotlyServerURL": "https://plot.ly"
       },
       "data": [
        {
         "hovertemplate": "label=0<br>PC1=%{x}<br>PC2=%{y}<extra></extra>",
         "legendgroup": "0",
         "marker": {
          "color": "#636efa",
          "symbol": "circle"
         },
         "mode": "markers",
         "name": "0",
         "showlegend": true,
         "type": "scattergl",
         "x": {
          "bdata": "G4g0gJ6g/r8osNAmswcLwJskWW/kAwDAAyDNEDqA+L9TYSzm5NX7v7HvJop2kPm/iT9vC0I+979HmHHPnEgGwGmcpu8k3vW/phIdnQ8Ypb+ln6A1T+3nv+OUPJ/xtP6/krZOWlkV/b8nD9+aPvL1v37zmf0G1v2/W1WMbiJT8r/lD5WcgdsGwPII/Xzd5/2/Q1cS7rCY9b8A4Y4gefwFwPcU8EE0bQXAhfomEtfW+b9m8RRDpnAMwKlYgOer3QPAungCXAmq979KJKDLgwMCwBtUfTWLwQXAKbqppJ5s/79pOZUmN8fzv1cp7Te63QPARVuhSqTv87+I8hw/v7v2v/fqVZ9xqPW/IwrT+cmb+b9liyjbNx71v5eMrGXOGQXAe+qwMaXG8L9CeiRzLPT3vyMyuUcIz/S/v9IKqf5Ksb8JSvCr1HX8v4/tQDT6MP6/CReC040cBcAujr8LK7/tv8gM8E0Xyfm/euLbXL50/782vZpzPBHnv/mcjoiWpv6/xT+VhEsq/787iimUZkjev0s8RzaTcfq/JbUdENALAcCYGF6jQezyv1iE24yDGQHAj4VM4F258b+3hW9CIcD6v3plnwo1Sum/pbjqe4lh9L9L6szNK9jzv5eZJmjGUgnAalPuq7mi+L/KPnjycgvlvxpBqh/huPS/1uVSdMqe7b9jEDrZR835v51OSEuNXALAfcEn6gqc9r8NmIUSGnAHwAWaaShK/v+/MyINdU15/L+V9UVoFGcHwPtD2vOhJva/AyFuC9s9D8BEos/Bo+EKwIJqv1QDnAPAt2NVNEgn/b+5re2qch76v5cabW3E4AHAVCBQKgEq+L8a0zObaHf5v7dqfzMctwHAdmiRy3NhAsCAUdRnZN4CwOi/eBjM1QDAb+i9J1yKCcBtX2TsfGf/v8J+sOEAhgXA3cgjl8VfCsAKHwm5d9Xwv2/zInQyVfG/DtXdEPd1B8C69t7jUNrovyrs2NBOdd+/TfSVGFoo87+3uT9Mo0Tnv0HABOqvSfW/rbrYiUoi2j+BJwydchzwvygP4MRvF4S/MTlJ0IFS4r+OraJvklDhPx3vMSbXrv2/6yfJfjY3+r+qFq/EPvXgvwJvqN1um8G/b014SMx2AMDlkpdQz136vwIadGufLOU/knM0xsiF6b/WKEyOxmvmv2KzNlhSmALAcVCYs09Y9b+JNYW2YaD1v9R7KJMzofG/3cvjWqiv8b9e0HugNgQCwBVW96V5tv+/pqz7s2rv5r/BNkaDQ6gEwHZJ21WOCOm/FOQ6rEMYAMCe4qh+F47xvyfTq/enCAHA7n9nIBsO779rC+WcEDj2v3fLRU6rM/O/VxTOkAi88r851cHrgojyvw0HISst9wXAg63g/AIyAMD6FdHq8q3vv1dPq5O8egHA367uEHO4BMBGWFH0E+gEwLxwXFcQvve/5RLK22nvAMDh9qCaTUvxv/bWkK9gzem/99e9eyp7/L/NAMVQqLUDwFY65NaS4uG/YUDnvyfi5L9GEXmUXNz3vxIfKPH6ZfG/deHLKxjx87+lGd1hLSP6v+4zYe5i4uy/n48fAjV1479yAmUb7nLxv4PPLc3VyuW/mL/9Cg6l/L+qR+rOLdPuvxDjML/vgvW/i6v0y3wSBcANp2l/zaf/vzdO7gIWxPq/La1mr8vWBsDseAYSp/P2v2DsVwJPAQHANoFTMRNe7b+pWrorHpQCwLc1isRHUArAKfvr1lw7AsCla4baMd4JwOFeDzgheAHAwERckJZ06b9nW2dOROnnv8kHjF+krPO/Db9dmG2P879hbfSIyFkHwJhuHCxAD/W/KRR4caez/b+5J+c4i4v8vyOZppZLlPa/b/jI/7z/9b+kBGKMdLzWvzs4fNMAJfC/tsOCsshiA8A=",
          "dtype": "f8"
         },
         "xaxis": "x",
         "y": {
          "bdata": "Iu6+4EaL7r973pPaqrrfv/TrtieuHfW/7JhTHgWP+7+XyGZT6Drbv1F861259wXA03GDHb+8B8CupaMRi8Xyv4mkfxW6egPAF9dBweOdCsDB0SaOOVcIwEMDdyQYSQ7A9z1Yphl4BcBGkEpjF3YEwNBrBKchbPm/AX431GLSDcC+CWYS18/2v8s8YydSqPm/A98lS5QOCMB1+aP0Q/P9vyl84ZNU+wbAKHO+UW70BsCh06R7mEIBwPoRdHxU3wzA7pq8z+KVBcBbEUcpvAwHwEA+2CRTbey/CZMCW+8yAsBzXiRYbRj2v3qO7VMkace/fgpQOkPGzb/zGg19kk8EwBsy1L5IRgPAEr+N3/tU/L+greIjwxz7vxKGq9cqqPq/R2GfDvQx9L8pW+BQIcUHwOF40PJDHgnAepTFl3H2CMCPTG3i1H8BwMYI6QtI0gPAGqNuj+hS8b8B8lgywmoAwJmVMAW7iArAq9S69nUcAsC6l4+agCQEwOZwvfsA1Oa/yBIiQMVl/b+Xs2aXnDEQwPmMAL5/+wbAxD13tR+v+r+/KlzCl0n2v/eafkXvmvm/S1U9QDBZ078uE15kpdfvv4/9FhTS1QHADfH/YlDnAcBr166r02ALwHsSY/eQ+N+/5jzSW6s5/b94Tul3dkLjv4La9eU41ey/Van80rSd0T+b3DeXjUX3v7TL6WZcI/6/Rgw7VJeWxT9ED16O80T9v3Saj85qPvW/cQ1oyDOcAsBV8dW0O6wDwKPrZ0XBb9m/YuhesCl84L8qWLeVE8L4v8hDs3VCO+2/mVtLE1O8A8DE4Kmm0L0DwI2XEQXL//G/dANvfm4x8L/xN0/WaXv9v4nzwcbCt+a/A4u7ogHdA8BWLovfp038vwuGdJohDf2/rVOCSIeZ0r+DwdfgNhjuv7YgpV2Syfm/yZVxrS0g2b+1qRSqgIL+v3pXX2uOwfi/aBeT+o91+79OKMel1l0CwH9pKIUX1/+/GJ1IoyvvAcCsHqWROvH7v1NlqiY6zQHAQaIhPjzIAMDiNnpbz2/xv3sIGutnZgnAHInHCqEX/b+eSdasKy4AwORw+MrHvfe/DQB+MzLyBsA0/c0MuI0MwM6uWfjZFAbA3UWsivi/DMDHIJ6yRfgKwHPqCDSIGg3ArEFU0mWuBsAY3bOW00D/v1PPMM2ZRwvAo8ZR58RrEMDeiORnHLz5v4T+TaHm+QrAFkR0yCoC/L+8cGc1UPbuv/KzOrgDvfa/dMNPT7htvj+yFeBUfT/kv9bbP08Bwua/5drloXLU0r/ryH/84zbfv06+Yw8Zm5u/lbFV6p923z8pEn1lMeyhPwS1M4JV7/+/mVAdBUT/8j9dAdtm71EKwPPYEDFCeQPA1SRl5F6sC8C+uNeHkekNwOgyliOk7uy/qNf8ehVUB8Ai48V/G6sEwAD4Uc7ioPq/kPEQVRN39L9dTj+op8D4v13uhEzHqwXAMbLikxdBBcDKC2tI7KH5v2Al7nsqafm/n9rOLjAu/L+owETLGTL5v32N7prDnAXAFUq2nxpiBcAVXie7h1QCwAX4w6kZdwHARzT+h+tzDMDnYQYHMFMDwDrqr95oFQzAdiE1LwHz+79ZNkPB64oIwOpt+xi3Yvm/36ZqgsArA8Ddl0yhp1YEwP7+tbifePu/m3BnCTtW4b+6mzxAKzYGwJ+6qtpPPwDAP+qoQyWU1r89QAPSn+wHwKQboxZ7gAPAVwKJNXypCMCCzeYR3P79v6BNCBe5NPG/C5yFj5vJA8BCLGb1VSkGwLWk9m0DvAjA+Y67YwwLAsC+8mvAXAQCwNSl7ZCnmf+/H1KlJwsSAcB4wvMLOEf1vwptdPqL8/u/uj8M0deo97/cJpA/kY0CwBvoLQSEmwrAdWrtQq/f9r8=",
          "dtype": "f8"
         },
         "yaxis": "y"
        },
        {
         "hovertemplate": "label=1<br>PC1=%{x}<br>PC2=%{y}<extra></extra>",
         "legendgroup": "1",
         "marker": {
          "color": "#EF553B",
          "symbol": "circle"
         },
         "mode": "markers",
         "name": "1",
         "showlegend": true,
         "type": "scattergl",
         "x": {
          "bdata": "jNq+Ru3Y4r/rNETKuoEAwC9S2lc4Hvu/CLQnuv7Y/7+uIkYfnib9vx4qmgWrygPA6JotWT8lAsAZ2qMEhUz1v9XCtz1hf/6/VskBHoPR/79VyU8ohMX5v1oHhSzFwvS/6LfJNHh//b/je5xuJNULwEXplvpbGwrAND3NzsTJBMCFw2vmiWIKwMMNvqOn5gvAFGkYb8JhBsBQqxF2R70EwCrw4RuGjArAdH/MHtuQ/L93wMnO3owHwOMZpEF6YATAzxyZSYnABMDfh9RVTQ4QwKp8UA9OxNa/9Z3XfGAs+b+3QTtpxfL/v77G2o8BQto/c/yzjjAd4b/KkEUbkwkEwL691OcRaKq/hEKDbItJ6L/u64N4CUTjv2iA8Qn8nuO/8riqs4VZ1j8iZjTD37LTP+3vQibiocM/i2LqM2MwAsAXjjLmS671v92xbIgqZQbA+qu9STGO/7+594H5ITXzvyRPx8wgefs/01Kqr2zp+799w/Ovctf2v2LZtMR+aQHAB1H4GM169L+bpDmIFxr4vxaqmxNz//G/YCGXx9vWA8BwAi8KrjIFQDBbKeNqzAJA9pwtMwKuA0CPCFLE6Yf/P+q099p8EO4/liiaCFS+/j8asThwX+HpP7/32GS8Xvk/b4cWSz+3/D/8JwJ3+ST0P64johWveARAPleN/Gps1z+799PbSwT3PwpPF1mL2OG/efcik4lzwD/AqMQZpVXmv39I6M4OQPq/qZOaP9aq/r8EE4eni2qfP0WuVK0TE/m/UDvaB/dP6L/BNYpYnsC5P1HfIDea3cg/dmIZnyUg7b/2LBtpo7QAwHf0emLp7fa/TR6bYWwy8D+fS6gXP2TlP/xujDb8hpS/Sr3rOH3267/dj5fpFg/jP1/pBdgFTAlABgj4hZj7wD/u0JQStXb6P8eMTb4qtba/DYPDmQz1wz/E1aQST7vSPwI612vt3uQ/HYmMXTEe97/zbZHuGegDQJks5XSAjwtAzMYn82198T+x6h+e3gQDQPnUTlswuQVAaper/z4NAUBJM2zvJ6oDQBKH3kacXgRAObd4dM/3AkDvIBh5bBIGQPcShddPl/g/c+lwZFEqAEDLRRNeEtwDQO6Ptly/0+i/8N4n1t7K0b9x4PYK/S7VP2VNTOUDZrg/j53tTDTjx7/4fScMgJX0v/2Mc/KMLdU/6cFA3LFcwj9m5P89z5XhP+CCZdWT5Og/Xy90EogOx7/QOThodWDcv2RVprPLcdQ/U/w0mS9a/b8qXbyoTi4FwFJ9lVGf5NG/qg1IB71l3D9D220WWhzyv0gkw8T6jdQ/YisJljkE5T82kR0Co/HjP3eBPemsguE/Iuu71qsk0D/e6e+8DMZrv0S+t9tKGFg/ZMzZi2He2j8cFUwF+K0BwFJFqpziueS/KqmmzuuABcAib2uyJEWgPyDBmmL3iuI/tTozP6PJBsC2FllYUBnlP7IGv5L0fQHAK8nP/YbF3T88ui+nhODiP0x1PZb9quM/qCHrUKal2D/Z102woXm3PyKEHP4a4/W/f5ZPSzkK/L+OpFuvUTj/v4tlv2SPiQbAD0i7M9GEAsA95IcV9pv0vw3AgVUY/v2/c2T7iHM7A8DoA+RBY931v6GT38y39v2/icN8r1CR+r+Khx3kKM0EwD8MZZ9nZQDANkjAFcBj47/VqSb5wgLfP6lpbXo9PvC/UWuS/RkAwj8yBoXxcWCgP+cjpcddqvG/boSand79178vqnFbiDG6v0FcG7RAN8Q/Uzr97z3Wwb8CH2NCG+ehP7V74+cpSrg/nkqGNmo8or+NgCtZSzDOP6raRZ1pbQDAZdBEzOfMwT8RPrlay65yP0Le+jNMOOK/VSD6CnaX0T+0SYx9fQucP4SQX1WNbfG/GXmVd94i4r+YbpXIxTnEP4aNbKaxU++/HmO0lD0Z9L9OPD6yG2rovw==",
          "dtype": "f8"
         },
         "xaxis": "x",
         "y": {
          "bdata": "/ykk0Z2W7T+UP2h5KCIAQEpB1KRkmgBARNxWIb7a9T/MgxwPOwj5P5x3ayA82v8/0NzdWX2O7z+vhaljX8YEQNhSelKQowBAlJhLpFUFBEAgWtJRTl7rP9LMuafMRMS/FUIDwxmyAEB1eicKtc4HQGWj3Hlb5wdAViHzAzY7BkAZeiaKJSAGQHy4zaTV/P8/TRNXP0UDBUBxP37ux4v4P0e51jfGUAhAZ7QQDQEbAEBf6aXF4SsEQNBVTeQkC/w/kZmkcMwgA0CzwMrIduUFQJD1pp2AtuY//CFtOnfA+D/COJtPzgTwPwPrAt2Jo9a/7VGW+9UFhL91WeJ6HmoAQDewEJdBtNU/qqbQSSgM/T+W7sZCI6P0P9w5/AxCR+4/yzOBXSKEr78cnhZvDu75P2NNwX88bN+/bM40Bafn+z98U2Jq7Z/zP8zl4hjalPw/1GyZw28n8z+6E6FgddXjP63SP/weNwHAArEyCvYP+j8bXW7+/y7tP1BaqKSuX90/SjBZXENM9j8MVxC7TbcAQPEBfHZCh9o/OyjJmuRz9D/pgC3nnbMLwIkWGoTq7QXA0tpNVSaYCMB7/uChYG8PwMVFGpdkDBDA+IGiQWhoDsBd526f8tcSwL7lczhSNg/A2gC0FBImC8Ct5qhkzPMMwCtligXo+w7Ace64/ECl2b+dV9irXNYDwMzU8cQdNwBAjVbFC//Lbj8RLt18axbtv9KOQB1Wog1AqbWhdDJvCEAFlT6o8fkAQLu8F12txdQ/Ya9VzcK8CUAQWQK7bmb1PzTEyJ7mCuk/RbUqU1n/7T+aS9E7sVj7P7fdCphvAARA0D/o9Pwa9j/i1k/7L234P1ybfZoY+f8/qq7mQwwF4r/Kgv9xwMHiPzDSgDUiWQbAcwJJJsGmAEBIVKTqCBXsv3t/BKf06uU/jjFTT/Xl9j9snrYDAj/tP1w8USvenfQ/+ODGOSUoDEAFdl6Yt0sEwGz4WvXbRQXABQzzShZQBMC6AcCseoILwFYqvBsbOAzAeS0fn1kGCsBmCF2LAfUGwPA4qgoHdwvAU6ZDUGEpBsDI0Ux+/58HwLPVwDrFCgHAaB69u0HcCMDHl0mGToAJwElP+5uQrf8/JXOA+eWz2z/wHoxtKf3mPw4FPrQcJ+w/Ph9koVJy4D/nHtL8j0Pavyhazxf+AvE/K3BCaQpd0j+9FOcJ+/7vP4MxRQbsqfw/RJFbqZ858j+q4xjXZBzGvy7uBfnektU/cGY9lgU79z/aP3HGCbPzPzEn7sjGIdI/z0/7WHH+8z/IBO/WUI/0P/RZqVaPRfQ/V2wCjuuiob+LllSHyiH2P4i+1p6cF/s/ac9u9tRr6z/TssvVSnLSP+XV6wky3uu/Pits9EWO+b8H8wBbH67zP66P73M9XOg/ENqtH0JJ8z/+oCzX9zHmP5gWgoo9OvE/eKRmG3us5z+f1Z9pE7bxPzcS8jRjcfA/Npg1Cmwv6z+OiqhlPH35P4eOoO/0SNM/Sekl7S9r2z8Uo1gICJi/P1/1UflTGvY/RwIEzNrJ8D9H0gQmScDzPwBTs3D/mOs/jtwmvNuz8D/vfSj5fomsv0MTfu7W3OE/fmnzX18j7D8BQAErAg36P4wc+4qTg+0/adnjmJdf9D++5kSohAHvP4lZcADe1QNAEwHGLmae9j8sAef6puzhP52+X2wFyNq/i25aED6J8j/+ITqrA0XuP7ClAfCSpOI/G88YQ/AF1j+43wwuKHPhP2iuj1qSr/I/AZupY9gR8T9HHosOC/rvP9THmRXbDvc/WfaCo4M09T9mT/k6IFznv0svwBHEZfE/Y9ViiPOp6b9RBM0nYonavys3FnGkMeg/ushPqVfI1j9UCPVXlrLtP/9CnHEdAdQ/hF7ZiVk3/z96n6fIPnb+P6PnD0HZYNa/LRVPn3MD3j/wjqksuZbkPw==",
          "dtype": "f8"
         },
         "yaxis": "y"
        },
        {
         "hovertemplate": "label=2<br>PC1=%{x}<br>PC2=%{y}<extra></extra>",
         "legendgroup": "2",
         "marker": {
          "color": "#00cc96",
          "symbol": "circle"
         },
         "mode": "markers",
         "name": "2",
         "showlegend": true,
         "type": "scattergl",
         "x": {
          "bdata": "9oEQ6CbV9L//U45z//3+P5Wlneqj6ghAhsANrWzb5b8zoxnV/o4AwNp1WfZzOQnAJmLxH4+B978vEIrKhbT2v8P67FBW1gjAAFGvRBhuEECl8jU63u/4P+RPSkJNNu6/YKBuoIZM6D/Y1qyW9j0UQF/qZVD2kgtAROFg7XIQBUDovDsqloAOQLLqg0shXg5A9+JIG4EsCEAcn/o7P9UIQL1peTST7PU/kkidKYHaAUBavn2AWgILQE+VEu9A3hBAOgemtpydEECTZpeT0vICQM8RbcZLOg1Af+1AxpmfEUD7EVH2hXETQJ46DCkbzxdAR7EDw5eWCUChIeqqmqAQQCVf6bfXwBdAFm0f2DPXE0BoTfwKo74WQOy1+UJmmRBAf/QMz9kfDkAsLIWJS4gVQEMq+jhXARpA57w8Tz7qC0AwFpp0fmICQH2MG++YuQhAXBMI/S3rD0DQysdXUVcMQEu8HCtZjw1AFt6xcYSnBUBpD1zJCuEGQAX3OTE/VA1AtUbCjdaoCUC5j8ZQZYIQQF4A6U6rWxFAC/gZ16JG4r8ldd31GyzxP1E5Zn+oDgBAgUVxIJ+cAkA19sKUxYwLQH/CintTtwVA6bcABW2sDEBkybXF9IUGQHjowot6BxBAMwVHmbTuEUAcNtwLXr0QQARE5zUPjxFAlpoGUN6VFUC1JbV5pt4HQI+/cqSE5RFAQ+GKnwBNCkCKs20/vNYNQL5MG86pPghAjY9D5HJbBkCrRUZpAjb2P1EYKxgnm/M/2yfM/ZT1BEC7/hJQd7ADQFBp0gAFThBAzWRnyiiOCkDs/M79kT8KQMgvOs9ISQ5AaiQcsxUKFUCN0V/42ykbQNABUH2WLxZAFCtKQsJ1DkBsWHZrf5sRQN0Uhm+yDRNAIjEOi2BYEkBCD7IZ9tEVQKplatTrVBRAL5jzHwa1+j/kuWs888UXQBNg34CpUuq/Q9ohsPTpDECIGuApoxAVQMIDtlTbvBdAoHDqh1hrGEDg7xor2XEZQCYsA5P0DhFAowoqV0HUD0ChF6AbZDsSQHfDWX/iKRBAtpt0f+PNGUCne2ToZzIMQCT4eiCqGAhAmGTkxvC9GUDU6wbCpCIWQEFOGPakMQdAE88hWjT3EECbVB4bQKAMQJoV6oERCwxAT98zDoeXCkAoaQqSjpMNQHbNcCSn3xdAR69FRbOeGECOCwzH20sDQJM6/NOwEAVAnxkE9/Y7GEDmf+RMgcASQD5OLCMG8RJAPJiHwAoiFEC6JtajKHoQQIZGMemTuhlAQx4G+r5MF0CIV74P9foXQHJpW/8Uqg1ALOhXn+MtE0AqyflF3oUTQO3RfKOQgBZA+snM9y/9G0AXaMuY24z9Pyeu18CZqQJAUznDDjbY9j/LcttmJX4FQN9U2jzggPc/o9nCIFsOAUAr70CZkyoDQHeBJtZWOhRAhmTt8Tk36z+rRc05koUJQJ8yvr7F8AVA8UYbdtHQCkC/Ndmx0tUPQIY+ZGF68hFAyHZ1uvvNFUAksbSkhuYbQP+nivTS2RdAZnXq/ZzdEkDq71YA77IaQKK9VfOmrhRAg3tcqbuKF0BX1X49n6gaQJ3N2NiYhRhAJFPyV/JqGkCWF9J8WmARQBrv6UfX4xNARVp/GUyRAUDMd7jTvJTYP6ZzvRPzrPc/HCxdSSYv5D+whDjwjGYaQEgK03tAic4/fVWDtZOaE0AGVg2N3Hf6P7n4bC+plRRA+Tb4TWN2B0A55gNxEzUBQBZRVybT3xJAwAVAdLsX/z+zeeCNCqAEQNMriYNxdw1AK3Qu6R3KG0CVGJC6dQoWQHq+AQZz5xFAxs4o/RM/FUCZsrQNnvgTQOXIdTyJOwZAj7V6aSSNFEDdc19zihcRQKZixUBYGAlA",
          "dtype": "f8"
         },
         "xaxis": "x",
         "y": {
          "bdata": "/32eXdJM1L/Fx6b8Pwv9vxyd5x6R8fC/kKRwN6Cz4T+/GXoskFjyP1GgnM2okPw/74COK5md0z+Sdx9nixbrP49WT57XZgZA1w8oXAUKCcAq25HLWqHzv6fE3e5fCOs/ONA9Pl00xD+OtE08ccX0v/btOvlpvLK/CtEqul328j9trEEeDVblv36ckVXZ08y/oqj/iFkG/7+oYfRCsoT4vxm3Ys6Wr/Y/HIBJd4dfsb+7D4+xHhDyvw3Jd8aYfgXAJ4PvNlEpAMBFPwhvmwvSv0FwaOU0s/O/C1WxmYPQ97+65sq+sV/qvyhQIzuvNfu/ht1OhauS4r/rtnu7q5DXvyoHE24YN/2/+4zChZsD478NaRFvKerpv46mJj1/v5C/88I5Reox3b9snZlZXQnpvyno1LUGGPC/0J016JMs9b/xWM7qsjv+v09panXL7Pi/nbLDbH6rAsA6X9H9Eo3hv5rimRxiGuq/011ztF1y3b82twWQHTb5v5En6B/l5/K/u3WRE9Ld/L85THg/c4L7v8z909yxhfO/22nfmwRP8z+o4a4ah/jqv6PuQ9V37uu/os4ZotB9/b9+wg/NV5/iv7tP234uFgHAc0dHgMlW4b985rwpOOX5v9Hc+Q/mCADAMphmA3cl+r+2ykLMeboOwFXd3xTSzQLA9neaXBYOz79rwnLRVqD8v9i0o3DPduS/eyO+byjg8b/N3CG5Ue/bv3Yr7TahB+I/RWWsHZM40z9cJ6feZRn2P9SrLo7BGuE/qKNP9tA39j90xwSzDWLsvzo+2Rkkc/y/8jiH8F/J5j/RXBA7bq3UP6SlT8fL3bo/JOVTeFvT578CVnLV4231vxS6QiPLmPS/3MYev9sJsr+GBqrBXLIFwOcmZG/2N+S/M6bFXyXY77/Om9jq0lH8vxOxmra0jQHAVYn0pqdqAkC0rL47/Bn6v367oVujBw9AsnqTaMacmj/8atnY+nXtv5VYnwOD/QfAlgvV2tZ857823Il2xJXgv1Ydq0+S7P6/1iY90so68b8Py00lSVLzv2TWCA9Eb/i/EErY0+ep7r/Ih0E+O33qvxeP5SYgQO2/0g6hz7j66b+uFRVMPksDwFP9vm15LOq/teCcfO298b90M+2NvDbhP5r+1qPuOei/lKG8II5v8b//9bdBsRfrP/bmHLav0v2/uCwNEy/C+b/e5b0+9wX1v9CNPIR3cve/KL8n5IWA9b/JwtOhbzDmv85DUCHMKvo/p5FZui7b2j/DA5cwR5TRP5j5wtMfeOu/QqOOlwhMyb/MrExfG9TfP+O9BYMBRvA/F4HXn6RU5T9kfi0PbX36v+mDX80SeNa/hv9IyyFT5j/eDYNmyK/aP9MrpS4aKgDA2dSUuAiR8D+Y7/ndWV3zP1pxzmR5oMg/7jRAs7E26r9WGUyE7EjGP0zRSjpRqbE/k6IDeA4i578m2CynYerwv5wOTCaDbOO/qXy1vtJT5r8YONfUGNTkv5++4L/63P+/nG/kMZxx/7969BqFybn6v1v8nYAS9tE/Vhh37Wij6b+NcbkA2pxuPwt1tbaBKOG/DMZvoFhw579U5xXtzK3kv6IVZsGmofm//BgbMSc+5L+StPepOmjqP7WItS1BBNS/8w0HD5cr979BM5ICaq7qv2tvPqwZ1dm/72anpEdE979o3O7DnZ7gv+QHJedDh+S/xdII0qBE+7+963XHT/X7v5o9RHy/H/C/gOJtL7HSCMDuIg+ErcfnP4yEC/HtEOm/iCT/LSni4r8+snQkdqriPy9WUhV0jQTAkBT88lMj6L8Ps/J/epX3v8XYp5i0CwXA3hlhJYKZ9D8Sp+XFJvnfPzc11wo9+8s/tltDfE10yL+d9XJthbH1v9Xab2tSlva/",
          "dtype": "f8"
         },
         "yaxis": "y"
        },
        {
         "hovertemplate": "label=3<br>PC1=%{x}<br>PC2=%{y}<extra></extra>",
         "legendgroup": "3",
         "marker": {
          "color": "#ab63fa",
          "symbol": "circle"
         },
         "mode": "markers",
         "name": "3",
         "showlegend": true,
         "type": "scattergl",
         "x": {
          "bdata": "57oukYkqCECVEEVbihAKQKXwa/C8gvc/MEf5OJooBEBLX6/w7dAIQA+RpUquUwVAcZfyeZC+BEBw0mDaDocPQP1dsXnJegRAbAkTyKnQAkC0/0bPaEUSQL/a9G9eIwxA0o88CXR+EEBAThFbrLcJQJWS2yMD7xJA7V9wB8TXAUBy3jyzYagJQBBc0j3wLg5Aj1JmcLRXCkClpGUaM3D5P8nhzs0u2QxAhfe46eEhCEAd+7axKD7+Pyrd1+Y4PQZAYfYAlhkV/j8PX/McdtfCv/BNvfZtFg1Ax/W6GBuoAkAdIej8WxULQHBWBPN0JAZAoOHJRvBgE0BFH8nG3tf/P9zupyVvzxBA0FGhzFe9C0AxkybgBTAIQAVYz3eEwAlAuPCXiR9tEUCUorxymgoQQLRY/TLL0QRAP3GCSnRxDEDXUqL5lK/+PxuBsgSKxw1AR51b2rcowL+pZtzanLoKQBaWO+XTuvM/jTKgLRmc+j89PHwE7W/5P4kNgTbFI/0/ohxr1a8RAkD4SGYw/5UDQI/YnjzIvgtAUbv3YPzkEEAzbZgrYQr8PxOCXYoy4fQ/Foxv/I+NA0CQlG9MsWMAQCJe3WxuWwJAv1l/lLCRAkAveHrg/gD3P8KVXbWTEus/sHFfEmYW7j+80/j33pQFQHfRl3Ojr+o/rG9v8CKj4T+B/IkV+csGQCx8B1noGAJACVgOH5X99T9NQ+w4ukX9P6BRukdnbQNA8e38uyGqxb/7qZKhvGn/PydKCPUR5whArODwc0ZvBEArSvwmKRsJQL1Ir3bytQBAW8owBw21BEDz/qxwcNvzP9c3K5DjXv0/IRKdYTQZC0CzZHzgTsAAQKn1h3Z1OA9AKvGyG39mD0BP/cVKg/sIQBc9Kn21sAZAR6Vs6OU/BkBBLY0hOKW7P6OtRhbATPE/KLQtgMBOBUCdVgq740YPQCXZEyg6jwRALZrTFWfbAEDwa4RgI7v/P1tlTojT2gFAtfEeG5vrAkBD1HzX++gOQO0PDjVD/QVAMBuKXzqYB0Af4XWf2OgCQDk8uunGKe4/mbx1IFZNAUCBpEXhs2Pev2zekurXQAZACu+JdkSqrj9lit4wrKMCQCvJtft0VQRApcMQgG+bBkBxBPf4FGgLQKUlQHz2iAhAh/FnJqODBkAuSJhZYmsVQOKDr0RB4QhA6kfpyVmfEkA8cinexcwRQJdIfq3UxRBAq7CkM90GEEDx4Clvtt+8P53m/9lGiA9AU9uxcrdTE0DoyvV8XwISQOdbNRWpyAdA068CRR6UCkCB6ncgb/oHQJDbnSjZyAhAuLNgUCtkC0B04C/U8HUEQJa60o+RPAtArKVkPDDBEEB9k4dpv9QCQITySmxnaRRA1I5TuyW1CUDWmR9A5CgUQJRYNPupKxhAOObhUwp/AUD3MMrJWlwSQGQzt9nGHgxACmfUeZKXAkBRxpo6u2D/Pxsdcf4mYQhAkZWmm9yiCkBEJh9JwdMNQHGE1ba8dAxADBGPnNzBEED8yJxapFkDQEF38Apn1BFAfeSXQrBGBkDBfal/lZMKQEteI36F1A5Aq9ssBI9dCUAozC6+zN4RQA2PmeKUQgpA9PMTyj1REEC+0Yf9e+gOQGzm80I0vwtAqbVsPgK2CkDLDSiDJ0UMQIn9wac+jwNAeypdBbeCDUB7MHAJp334P0JLgRgYde8/69un1i1jDEBly4mqF2kMQPvYf2TqCApAoqUIHA1kCkDdXBRv7vv2PzyYrn/+IQNAvBjCLfltC0B7r5GFB5f2P/2VUQv7KwBAZTTriCwAA0CMku8aTjoBQH+E5i1aeP0/qbchfjjSAEC1AaNXAZoLQOW5OzjBxsc/34faPoYc8j96RUiG3P7dPwJfYfKwYNu/3KEfRhOB9D9GJ2jHtV/2PxcGygEXPf8/xrEfeqN//T8/b6CEHYX2P/llyh1qhApA",
          "dtype": "f8"
         },
         "xaxis": "x",
         "y": {
          "bdata": "PtKHmvvM67+PUTcPaDEBQHjcOrp5SA9AdCRpRS55v78gaZ4ih5z1PytW91wvotY/8IH27tdF7T8S/dAaba0CQNV3hRIPBAZAvKBu2bO9/j8FCNlpB+INQOeg5AfJeQdAQu0ZGl2GEUA4I1UnseARQBoizv3INP0/md+scvxlDkBzwdNH0qAEQJAgn9QgLvk/wuNVoPDd8D93ZMWeWucMQCe782EOQ/s/IqUHGCDlBUDzi9XcoPQCQCz9m3333AJAiwFgfPqKEkCGF+yTE40TQEiv0iopyOq/pUsUn/zY0T9vhJsQNYjUP0LM4FMxu8o/7FAYiOCr5b80ehL8dHb4P86N01rW4+Y/waA3XadL3z9WUay2as7JP/0OG+1QCfk//Wd150hC17+uPVjMxFbzv6safBSiA9E/nbcyskhr9T/nqzT+nOr3P8qJ9+VrRfm/Di6Oe72P/L9iNL9unp3uvxeoRKhcweC/NA3mM5f0/b+wwf/y56vrv2QNMx7pQ/q/SzEsCqGd/78j0rlT27/7v6SYcZEu8QDAS+jXaX/R87+mE1nVwTDuv740sUCXd/2/85sxU5LS079Wut7lyQTwv+BHSg9wuva/ja4Z7ONIAcAjtx+WSbvxPyYBy/YIvOm/j2agUIAW87/AhgJteC8FwHbNMg6zfOW/5HzWqFc96L+VNMAu2vnqv/pzv8y7m/S/v62WWcDa4j8OGEykt4jkv6K9uB0ui8k/vE1HIFxY8j+v+opSfLTmP/LdtxOFYuc/E1q1tQUf1T8qa6L8CI73PxtEjhMMWPU/c1phZu+qbL+HeXTETqDSP4ER5q/309a/AQehBQVG8D/VKcFK2AncvwdbOo0Oh9E/fIIFDWBKvj8zX1ayecbjPyAn2C01Jec/mCZYYYdW5T9l70Pb32EQQD7BIhTDLgdALlKTfh6F5z+8yYU2N7K+P8/E4YTEj94///MofC3E2L/m22AE24DkP4j3utgXlfS/PN/MqRAN7r/y03C9hcrnv+qnRld+r/i/3C0rgYet8L9NS/9nwgXlv2bcAVy7NPa/FK6MwduKBcBnaNkQNj36v4qcT4Jom/K/bRhN4SmY+L/FzCyT92Xev+b3SkuY1wLAVQyMeycG1j8KV5JsX+/gv0rKF1RWwuw/+Ni2o/Yl9z/i+D8BkJnLvx4iy1X9sQFAlTqZya5D37+IHNQKf7XgP1K2WKxihMC/Z9aZde6/6D+fmulyn10RQP1eELKWl+M/ugeLpz3X5z8iEDCbmqnrv+ypnUZku/U/IyYfHW131T9FVSi/mUYWQIocoVmZVOo/8qL73N0fAkDaigXjN/QHQGuFDoLgRgJA/4KqiaNgDkDvzN9WBzT/P+QC1P+bkOq/c8xChAH10j+zpTqkHocQQBLsJVWTzP4/aMVEpv5N+j8I1UKxuAnwvxP+mK0Ox+O/BkhuqGDS8D/gHxqMhjPpP+KF5iy7RcW/x5854xz67b/U+M+Xwfaxv8C9gDQN8gBAUALaTzjB47+KkYq5QDzovzEGsprT5NG/yMDfb0G96r8SK0gigALyv9EdhNkQHtq/isd1i9Qmx788QyGePfD0v0YoCHzrIvq/0fsXkEmV37+W7v2a02DAPxH1O0pcjt2/vpZxKOidzT/9j7TjoknWv+fFZBDqEeq/Dox52o0Knr9x5v2hQKn2P24yWnNCAQhAQYWUbg1+/T+Vj0ndv30PQCa9tV8T9AVAP+62DfbCEED3jm7S9sMIQEjtZPOtZQRAjckDHp8pBEBtWxYi8FTxPw6SVb4ZzvE/7ddKtQbe9z/yWZQbuOnoP5C4jwwBeuO/SOgpdJFf+z/iqxaCeZDMPxR2NsQS3BVAuMxbDfMGBECIMQVsNZwMQMAyVKbAJQDAZKISsj8gC0COh681j74QQPeDyzvS5wZAZTAEjV4h3b/r2Wpw0RDeP9cGzm1JK/g/",
          "dtype": "f8"
         },
         "yaxis": "y"
        },
        {
         "hovertemplate": "label=4<br>PC1=%{x}<br>PC2=%{y}<extra></extra>",
         "legendgroup": "4",
         "marker": {
          "color": "#FFA15A",
          "symbol": "circle"
         },
         "mode": "markers",
         "name": "4",
         "showlegend": true,
         "type": "scattergl",
         "x": {
          "bdata": "UD5E0KQdEsCEGyHqwNUVwFHU0sVpAxDAMj5HPsHpEsAFopoCroIVwEMi4mWQ5gjA6ww2hsZAAcDbKHb54h4RwGe8OTNKzhHA56LT9cBDBsANywFYIiIKwK+3pZ/SmgfA9N0uLonJEcCqQ297i14PwFNjiG1VlQvA+zNnR4SmEMAPp+q4wOgIwFzYcMpPgwzApS2szBRABcATK9+ZWBgQwJ4zOhdPMRHAi+mKGK4rBsC0aGUR8mkPwEifLiRojA/Aq/SJorBFD8BjZJ9TFfYMwPGACK/AIhLAnVsNXYU8C8D+eAmGyIMTwKkZgUQy3hPAfq3mcpQfDMAoS74zF8MPwKkTsb1TNxjAtqopra5REMAGcgJbW30UwM4F+lQ22xLAYLrn9n1sEsAuyLuj1QUUwEmmdFwK/grAiQI3LfC0CsAZMlt8H9gQwOXAcRpwqA/AEmOjY0GuEcAr1Saliw0LwPTolcn/bBDAUP1k1gFZEMA0aMFGv0cOwO3vPyEpgBDAuC1B2wsfEcDKj9UQ+FMRwIqih9Fi8QXASUnvVEbHCcBD5Wy0c/kAwMjli/ASjw3AvZCuRJxkDsDuOjKIhmUSwILRk45BpP6/tQF6YpJaBcDcm4M2Pw0RwKK5qcDlzxDAgSTVHIpQDcCk0OB4G38VwF4zaF9mmAHAybH3K0hPCcAiYtO8BwQTwN70svWVvRXALFQn7mVPFMDu8MejheERwGprNKcaKhLAmqsAEi0vEsACDkUO7mwUwDRE3+mdqQ/AmYCQy9yfAMBjdnGQtQQJwDIsq3wMUBnAwg8Qoq0lGMDpJu3YBTkNwGaS9WcsyQ/A4wNP1ev3EsAz/lKodgUWwDxL5ByNhxbA1jf0CvNaFsDbi5EcYwISwGDDoMyEbRnADlBiSdB3GMCZKPdGc8IQwP9MJGAPexLAPpXsYGmDFMBnEeprJiEUwLVD9SnesxXAWkDLrSjPGsCGRNCA4NIgwHjpXgUpAhrA2QoZLh0WGMBmPuY2pN4UwD7D5iizRhjA1hBHqMypIMBWYy55eIEdwJ9ERx5KghrATf+OuMhgGcBtF3/cX6YdwEUI5C/jHRvAKGXeCPQBG8DfTgX+00sYwJz2P8wOQCDAVmMukLCpFMC+QUwOEvcjwOS+qfLZtxLATH3w1mQf9r97ZkDH5vwRwOrpeymwFxLAxvswObdEE8CW0MiBMOMWwLUql7aFYxPA3GJAVXQFFMBEGcPShxsQwMFUcsF+xRPAgPTcn+wjG8AYsQH3kcAQwDbHT6SDxRrAwHvt6akeF8AvXybJi2kZwJyqlJWqDhbA2KzBVHKNFsBdlJGX9ccXwHhtDeqSWBbADZQEGlkuHcB6FBGsTCQXwMsF5LSj3QbAcqzqV+OpEcB5v7vY3tgQwKbz90ZWCAnAsl+bde26FMDlA3gfHD4SwIdIaA4TWxfARGdOVxakFcBWCgAT+WwSwJBmXvwsjRXAWNR2XcY5FsBD7ZlM7XQWwDObPOLfNBbAbG3QuYaVGMAXmwgPC9YJwItgUm4/CRLANok6Cxo/E8D5qw2V7OIXwElVhX78lBDAB5Xz0lu/FMBKWJjhTTUUwOKDMzjivhTAahODGBZGEcDyBHXRO0YVwBRo9fygRgvAtIZYDIG9EsDaomTWKvYTwMsOPsSpQA7A7gs8zdhRDcDlntKC0IoIwAKHtH3uixLAZKpT9Id6A8CpAk2ErvgAQAs9jx0xQPE/VOqWDxSpEsDwK1sjy1AQwBFH8ybwlhDAKGJT0tSlAcCxvn1XuqcCQL7BRChFThPAnJB8xAHwDsDDLF2izKgVwL91EqAgNBbAmat16U57HcCKsW0/K+UbwPmLdKcm7xfAuecs7oHuGsDflgq3QNcZwO7FzQiU1RPARE6+Bj5tFMD9IaBCs5kXwIIrTjRzGBnAUsCaGh7WGcA=",
          "dtype": "f8"
         },
         "xaxis": "x",
         "y": {
          "bdata": "Ib68xOR+8b9yixxRS7yZP4BKYp0wn9S/u+YZMk/E07+8grkD9lL/vzaUP7UpTc6/MsJM+1izzj/IIB+mJGXlv1sdZ+XCSOq/zzEZU3wR079t9hop6evZv87NMJ9D6eY/ax95NDH43b/4/+NHRSTzP3ZwLo2+xta/HMt2sOZK4T+mJqUe91/wv3GiXndv6a4/GkUIkQgX5b/eg0ObOp/tv+buTZu9Nsq/L0aBsNWO7r+jFr6Y4ZLdP58TQM58UsE/8WKiNTryqT8DTwYolYjIP8+neU0T+dO/aceJyTFd4L+EuHcypEjxv6fH4jFuF/G/JvSQEu8S/L8iBQaIUz/Dv3k9vo/V/fu/2SuLcGdG+T8YQY/2gn4GwBWzZD27juC/SPRmvNo4878qmoNFGAzIv6NV4Tzfleu/GwcxcKyL5b8Cz1vRaN7Fv8kn2XwCsuU/Bb8sj8sX4r/+5mdle8Xmv+bZ0Zz3WcQ/ClbSw1vo4r+7mk4jOD/Qv6mKMWlmA9w/f7PpET+s37+rxCA8hwLPP3zdNUN46uS//+zGg46P579SwJcziUHOPw6/RoRx/vu/Dr6f6nFklb89ulaTejPZv9LHZDWCPce/iDTWVkTW5r8h2lDdt2vbv8ZuKHhA1Mw/gES+wSsn7L8sP/J4DCGyP+qStveSUem/rJtbGkNR5T8mYU5e8OXOP2KUXzsuHeC//sV2rVYM5z/zOzpb4Hz1P4NmaUWUqPY/XdzYCR/W1b+RxzKBJJrav9ct79Qc1tM/FKfOmB0mAkBUspvv54byv8SJbLmB3RlAGE9jDsu34z8tnd1Q2vwJQFVRW11g0AbA8ykvU52x8r8/jNE/G1X/v349Ij86xPS/U+L2kuBs8b+c+dEIpYf7v482o0Q8OwDAvPm9WJO5CMBbYNdtUA0BwMiywjzDr/O/7GHzTASg9r8qO+3gBgQHwBY/NXHA5gbAQVK4R9tM+r/D+slSXgH5v16ZVG3Cx80/6IL8+J257j/8xHk9WYnAP1Z345Df8vE/hFmBOg7bBMCUg5rWXtMEQOrjtz3Zruk/eNjCSJWP2b+6Cnc5zgT5P/7zOo0lyxdA+YudxDv/BEAKoiLNPuEIQBZRTXyzRRFAlLbrcbAF5j+1QNY/7Q0UQFa6otHLS/U/vBaSWwd9BEBYCkxaCjj0P/DnLjOSDvc/ur+3LqF9dr+sJnNxwnH0v8Qt2BB69fk/LP52D6oAuL+msosawPT3P2LBK6juY8e/tMkAzcIY9b+QR6r+r7bqvwybZTau+vO/3QEINt4aB8DX8RiOdvunvzE31wnMGuS/oCRZWZYW8L8CJ045/uL2vxhn0QKrDuS/ZhGq4isb5L/IIGETnIn/v+cuZk7MNNS/LxHqYmkiA8AggQIXwIUIwJyUpBQnM/m/3wiG77aXAMDXRElnqPkCwKwSVJUSqfS/dm5s75MN9L+NZiNIZzUCwJLh/Qt8+OO/qces9hHaBcDhfKfofbYEwGVPD3361QDAOO1GpUNN+b+acOEjVB/3v1Vzg72+Vvq/80L7+e387b9ccXmnI6Xmv2OZx8wHG/m/jQTMWZa46b/z5u9FT4n3v9nzKlHNcOq/w/9tBxon778LezzaZe/5vyyy5Mvb7b+/8PVipaRj+b8mF5XpHtfkvwKT9xzERsy/di4woYHnyr/ZS9h/DevVv2cGHzQps+G/IVxugM1h4z/Yi9QMhLf9P1qU32U0u/o/evD5gVzE+L8NA/zJYD7gvzMqX8xwruG/xOssruTa4T/aQWW1GOz9P/+CYcTvAti/kDCzwq50xT8pymlldITrv0CwfZSZCuS/LF2VI/kyCUDI80DyAGP0P6/i/+4Lk/C/gccx7xGZ9b9vwPHtS8oBwPkD2XjfjfK/t/X9bE2B0r920I9kJF37v8Aokq/NZP2/NmzM3bWt9b8=",
          "dtype": "f8"
         },
         "yaxis": "y"
        },
        {
         "hovertemplate": "label=5<br>PC1=%{x}<br>PC2=%{y}<extra></extra>",
         "legendgroup": "5",
         "marker": {
          "color": "#19d3f3",
          "symbol": "circle"
         },
         "mode": "markers",
         "name": "5",
         "showlegend": true,
         "type": "scattergl",
         "x": {
          "bdata": "m+wtKorU9D/ovBC1KwQPQIppx+A3HNg/kWt65JoH/T/YE6sz9eUKQMFPKB5U7ABAH7pDCidv7z+74g5Fa9P/P/8v37w/3vQ/JDO4xi4d9T9HgV5l0j/4P1+q2N9A+glAD2zQM24c6j8fblwkE5gRQB2sBvrmxRBAt851Vby9/j91veiFmIEKQJwKv6oK4xBAABnsjb7/BkC45uNMmMkRQBvz//WwnAtAMCnQ2GWLDUAIiOSR2joHQFQ2nLg2Ivc/RvgJ6JGrBECNWgp8By8HQK/BsgBpofQ/vmtbi88QA0D2HFs5sp/0Pwbt8wtORNQ//yAdhTWJ9j8hRgCGKbH9P3qjOq+NKOM/SFtRcIVu4D8IIdrQx/rYP7ws6HD6etk/OhJKKCJnBEAU6/QBEusBQAJ+L+7/xg9A2hscKDH57T80QyEg9IXfP2WhxivphcS/pZuPyMdJBEDgN4qihWXyPzjlwOxCKNg/rW0KPep78L9lC2qWYkb6v/YbC8k6u+I/z3KFNWvdAUDtoGN9nRT7P+G9ET+LnfE/gTKgAfAG+b9fGvshfUTrv6yuTILQ++w/hLEBEr5L/D+ST9Cmu771P908rsoMces/+RfbItuWtD8wCMwBqvD2P+OobQu0ofY/rb77waYl0D9Xm+SwKMXiP5RCDMcZgPc/5Pjonpne9r/pl5mKrC0AQPMn8xqGpvW/VDStVMqj8j9kbdLKx9/9P8MBhPYGcg7AI+QntD5M2T/Hcau8rEe2vwa5qJKzvuM/bI6Yoo3o978/Yl+O+6MCwGrL6/u0APk/6z3K0a2L8D8fLJfGFMrkPyveDkJISQVAxLoqWeWLCUDbPKNRNREFQDSHgOCuHw1Aacl1BvnD/j+DEbACoL26vyZAwH6lsQVA7av1K81d+T/MxvtEI0L0PxD1mHzDXAhA9nTk4CA5AUCO13A9WWQHQFSJjABNLQNAFIv2KWN2CkDFl+nqoYb9P1IqDhgQjgRAGbIiqpb3/z/8m+i343kFQJJGnwR0EvY//Um/zBtlCkAeS1LB/4cQQCCjIx7TKQBAzFhCNO31/z/aMlTT5dwGQBMYIloDP/k/1mw2ia/T8z+YwFBUSAYPQFj+pof90eU/5jyNEWPi9z+fLoJgsFLjvyDWNdtf/9W/cHYmuQ7V2z9hgjs7RCbzvzN1D+9cP/g/FnwSClXt/r9hHsdSQLT4P4D0BrRf5f4/z7hVeD4H9L9PiBRIRxj0Px3OF4zffPq/bcvHAkPg1D9LmfDZF1b+Pwx1K6+8bRFATNs9yCFc7j+/LxKkSzgHQGMEgBegLRBAI2Kfj99B/78d0jDw1QAtPwFA9H3Yi/g/cb4UNdvtE0D8Z3EnieUBQK3Uj26h4AJAnx6XtUhMFkAAuGBQTfrvP0aRTeNwlBBAYDkVa4aC3r8voApvzBMEQExp5g/Lb9w/idPhK3YJ+z+9doIiCS3zP4qCvXtUDKI/zXihgmhj7L8Kh8xOnhDbv0pW81A/5PI/9IRcPkFclj8HsgmIGbQEQMb/ZAJ7Rfs/wrH6YfGa9j8e7waSutcBQAXdD37yOPs/Tclk1hzuBkARmKlznaO0P36NMKVVFAFANZVNwgabvz/pxR3LJCfhPx03pr4bvPk/c170W1GV+T/x7Gb+CZHuP4/3em6q8fs/oefRxuIl9T98kG+72DnVvw2HDLNnovI/OMdNU4zBAUBQrp7s6nEUQO/uIUnsx8+/7FP9qK53DECqT45pi1n+PxLjKCPixde/tLBhmAv//D9IgUwpsoP8P+Dp8EvZSdK/YlPxnDJB1j+BMGWSgsO2P9TDGt9y+OW/H8T3mV/nAsDfD1D28b7Cv0+PxLniFPS/V341Tr3t5T/+WXK7vqnvv3HFhhm1OeK/gxt4DJ/c/r+WFo+L8V7hP4DoRHDn0+A/Hn1NO8EY+b/F2XWKFaXHPw==",
          "dtype": "f8"
         },
         "xaxis": "x",
         "y": {
          "bdata": "zmeD5/Re8r/DtCNbwtoEQPicrWLEzeA/82BC5NuqA0BISTQ1r7YHQH1RdLKTSABAYBC5D6Rj8j+phDScuzIEQCWb08b2i9m/kGChPsgp6D+hBNXW7ljyPwfG1HBB5ARALHvnwF2o6j8cdWCKRHwEQPvGAJ6GNgRA4yJAua0m8D9xzIAW84MAQHiQcY+28QhAgCaJQdL8/j/zFlSBevcBQE8epwDKmQRAhXD5IwwOAEB5G6vw5ib+P1qQ8uzmTug/J7woB0+aAECzs9+7c3QBQCP5DVYbo82/yeZOQINdDkCy8NgN/PbuP14ySLHNgvE/BH+29f7B+L+nBt698voBwAaxQl0wSvg/Bx9SKQFM47/cOUD9ynnyP5TT2k8SWMO/2LsYGXfu9D+9X4e0u5rlvz/OYBNztwhAxPNH+/vtBEDQTnYsmxEDQPQC547/3wRA8fzoYqOb9j/Yj54i1tv0P3z5mjcRp/8/lXQgYVdzCEBhEkP+vLMCQNzYj01oQv8/rmp6xXqY/z/iZLg4nIH7P8VR6A62DQJAujuKbtFFAEAhIQ+qHtHxP7GkJlNpMtG/qHbx9Tzc8j8NZ6PG0g4EQN7iJkPOoum/0IgG5Yz24j845ZPSZDjkP43nV/AeMNs/VykG09ya0b9KPQAjUA7nv215s3p50u8/z4gJxuxeBkA5s34skFTUPy8vSDC/9vs/A0dFwPAMxz+3+2saeLTfP0ZYUMv/ds0/ie+7oZl9AkD8nCuPqWb3P6rDp+EgugBAfHQoZNomu78QqP3uJLHwP2Cn48PqMPC/8857Mgv5CUAUnlijiznyPyP7jGp5ReE/1Kc5TNafD0AXpmvPZB7/P4ckAeWqpQFAFveTkBH7EEC3wCxpWx8FQBVKs2f7Ww5AfyccAG9kC0BlmaJqYmgBQFsUioxXAghARbwEBBG4B0AhyYFGvfYAQHkrPf+CNQ1A/DqfgDiNAUC43w5JtrvsP7RFuqd56/K/idxWvlDCAMB54npFLLIAwClU/BPLnqQ/gFXeyIOZ9r8gGGc6SmsHwD97qU9kJ9C/Fsti9Yg68r/zcYqTdxz3P8HOZIntHfK/9BiKzd/ZAMDF6yLdx5LZv79TJXgT/gZAp8IhAgPiCEBYHm5aw4H5P0nprKkj4PQ/wwkkTyn88j+uJOa/aSz7P1yPTkVUZvc/6NhhkdUd7z8zWld9wLwCQET+nPEj9OM/DpKmvwnG8L93kQOo1/r4PzyEAj9GqtO/Vqv2xhxd979Ip3T68lXzv2HxG6FL2AVAzVuF0syO6T/6pm04DOAMQMX9Dc8gAAtAZwX4QBmg4L/e5OsXAt33P4YdC/OgLc2/Bf799gf3BEB2dTFG/X7zP+3ADUm7/uI/XJE4gt/PBkAsedtGCELrv5JXKQYJ3Po/rwu1GC4w0T9NI+YrSt7HPxEQe+F8g+C/vsz/hgHz+z8zw1ZOIurQPyW3YHYAeP6/BNh699Nq9L8UoWRT+CS9P/TNeL8hm/M/RddHsPyU/r+SrheJJ14AQOKiNVz+MfM/+sZKCkHV678ksqAMEjgCwNLhKxXOE9y/Pik2fxvpxD+8tm5g4oewPxhhBiH5uuW/jL+XecWG4L9X1yoa/0vZv8L9NrvGMMk/Vdg/eGgK87/Wq4FbuJ7sv072h2C5YvE/rNWvYx1m8D8ZMwu1n2XXP8PF8C5LWvk/66iaop8VAUBbzZaVITUGQCyWPsFYWvI/mk3VJ1sY8j9gcAbGcLH7P4Ra+zbP6bQ/lQ9xC2Kz5z9IiTxKviD7P4J9MLUyvdM/QsYw9+C95j+zsj0MtijmP7gM3uPmWuM/hkNYC+cat79SkL5neAu+P3ay3Wlv9Po/bOHE5U759z8Prd+YoAfwPwBGCwkUtPE/b/fVqdtx5L+10heICY3fvxLReShqefK/ZRifFBQS3L/wMn4Mb5Tzvw==",
          "dtype": "f8"
         },
         "yaxis": "y"
        },
        {
         "hovertemplate": "label=6<br>PC1=%{x}<br>PC2=%{y}<extra></extra>",
         "legendgroup": "6",
         "marker": {
          "color": "#FF6692",
          "symbol": "circle"
         },
         "mode": "markers",
         "name": "6",
         "showlegend": true,
         "type": "scattergl",
         "x": {
          "bdata": "T2Kc+5Ly9r/cx99utnvtvwZAtO9tlvS/Z7r61ln8+79AfFQHWbL8v1njPsHUdvu//IewN85c8r+P8cRC0OG7vwfoE3dTPfC/9zucuMZN9r+5AL6teEj0vwC9n1wr5gHARqRQKdnb8r82ivK1olXiv270JQlJl/u/8sImTxRY5L+jP5xHkrbxvz6VcRBzDdK/z6w/5WG6AcDCy5bsgCbuv/E2ZAgPG/i/4iBZpxEV5b/6dl11Epbzv5W9eDHSJv+/1qTYct1J2r8l9DOXKgLwv2wgWheeHvm/SJCnGfLg7r8s+7chkKLyv1/XVILGPLO/fk6ag7WT4r88ZCLNO/Dgv7ekcJKgXPC/FwAcPrM5/b9rTSCk6Ifiv/WFo/062fG/aQwzzY8H9r/CSlzqUP72v8b8lKm/TwTAqNkG6eBcAsAGF5+/5m8BwNw52yxs1ALATjL0In+W8r9+u+cWgnADwEd8bBFtNPy/++RU+1HdAMA06xn7Rhj9vwfEVsC80/S/f8I3dRf+AMBTlE6uJZAEwO/lEwSiiQfApWFz4/to679xxW5q6jb1vxxVw7Eg+PG/AKiy/MBS7b+n2eZ/ijn3v8PUVOU4sPu/buz9IsICAcDwq4GXDCz9v3OajJ4EpQDALbJV7gwN/b/2X7zxyvX5v17zAZiVpvK/xWZIBuCwAcDwp+KNYVfov/vK6aF2Rfm/7qHIAqJK7r//NO8D4bL+v6gn6Uz39OK/taA58vPd8r+L8SMNus3qvzbnfXYlh+q/bagkZsIE979BcXXIakXwvyErt3iX2Om/kEXaGrOS/r9/kgXLfV7xvwQIifre4Pq/0dQ9z8pr/r8vYh7rQhEAwMceBeGMNe6/Gdfh78aQ+L8q9pGKhEUBwLPlwXhPie+/5TMqzXsJAsDI6JtlQjwCwJKCrS8LIvS/bIL7fgJD9L9MBBfZMWgAwBE1yZh8DPy/mjQZh4W/9L/Ld40ZSK73vzIXorZlfNy/E6XcCpjf9L/skWn815Lmv3rvLyJDGvu/W9gPyHfe8b+4RNwlpznnvx4XnsjSr+a/1616MJyK9r/nJiPZsBwCwH8MH/2Z6O+/iSPhiZ34/b9vfkaFobq2v9k01bUgbfC/HVku3fut+L+h7BWgOSH6vzeaRdcfnuy/dwMXBYC0xr+BhftnMQX0v1rFht8yieK/EFURExmO8r9Y1hrupvvVv38pecPfYOS/IJEhqDRD7L/PdQqXJPHxv8f50E9mH9E/dJWBlRWS+b86Z2QENdHyv/oRjeo2euO/acDmitCw8b8BFH5nQwrxv8gXrv7/yO+/3KsInpUy7r+toVWhI/X1vwURnC0GIPS/vkmPch9f8L/xEjJOcDbxvyQoCunTMvC/sq/ZnyTE27+RWIV1fKi5P24T2kOpyKe/Jx2qi1y7zL/3/A4d0gr2v1zySMOqhO+/ecBa/Uq39L+BAKfqwE3wv19mLj1QJfS/ABnBd4s217+Ptics4Dbjv0ZHRxmHqu6/u/LiCntc879BY4p47P3xv3CzWIarDu6/0EZgQ0rq679OInWqMcP5v1na7i1/lfq/Y61BBnYg9L/kSIveudPtv48nFx53YfK/MDO8z486AcCBNwqqLM/0v2kdjFhhxfO/KtPJRHrM/L/7C3fFDjb9v6eb+C9jWvC/KO9yE275/L9em8ZJTjr/v6mBKzAIJO+/dAwM2D7f+L+KcW1tA3f+vxs2x6ATuwHAWT/fPvxs/L8S8Zno1Bn8v2PQ4W6nC/e/61HJoQNT+7/zPhd+BY78v2v9ryB3KPq/76qwx+BW87/6jbdtbij3v4tN6ptG1QDA2FzQobNv578z7gPcwVX/v2yue4kAyvK/3PYkHdgI6b9WILuGBTrtv5lUmAnx5f2/DJLs1Cnt/r+k4OMdicvwvyP6hOKUBgHAxZ47za7+9b8=",
          "dtype": "f8"
         },
         "xaxis": "x",
         "y": {
          "bdata": "abKYd6qpB8Ba+dr5ERkKwNFS4FJrwQ/Ah1PkOeY0B8Cge9ttvicQwJULesvqCxHAAigP9FRKEsDET5bmzhcTwAYUU9GzIBDAVuMjcJgACcABqpE+qN33v1Ah+l4ZOf6/aI8P/BfbAsAVGQnd80wTwPsR65MCgQ7AVADHjr/IEMBYdO2lcD0SwEwvCcAlMBHAGfD9Dh6yC8CQnt9Dc+8QwGjCp3LA6hHAAhMrQPhNE8AJaARCml0MwIbmS9JT8Q7Af7+3gFfAE8BkhyxyEHEQwHyQqzc22w/AnimS4RxrEsDRXRdBzkUNwB8myByM6w/ATRtgzLoEEsBrCdyjq8oPwCCI8+as+BPAGJ9Wqn3KCsBDfYEvSwwSwPo+AiFykQ7AVfzv//DWEcCc1nmJI8sQwL3oQqTAwQjAZ0Q5UoU7AMBrODVAjiYJwDnXYcybLva/HYy5V5IcBsA29/CxCiYQwBV9jcAv2AbAJ1/vf1RTDcCFQwnOKaQNwIDhZDQ/dQ/AdmpE18sJDMDnQotkQDUMwPzij7tIzbk/vBl72haPDMBr+O5gpTUIwE0UbK9ZyxHAIXey7Z9sB8A23OFZ5aQBwJXAmpRljQbAj0NueP03DMDDBWwD5tIEwG7tM25PHQLAW6FX2f5GAcC9zekinz4PwMWRdCASXxDAZ4TpimYbCMAW9EOs55kSwLemCfoichHAXcdwbwyZEMAgyJKzdCwWwNTbNJkjDxLAHICqwAXuEcDY/I1zrkkRwNlkESkbQxHAIvPR5C7LEMCIRWqtlfcUwMWme0XiahPAU+fbQdRREsD5vn/ZeAERwA/m0eaBBw/AJumows1xCcBPUPocEaIFwFRtkgQdvBHA3+dP3EjXC8B3y/wRqfgMwI+prZV94RDA3swDCRl9CsAuIu4mOdARwBg+WqrtOhDAHCtc68ekEMDxlkHdybEDwKDHPJJHWhDAZqQvNZpaEMBOIJhR7OIQwG5rIeLxkg7AfwkJqi0aEsCFALHxU0cQwDi7CKWhihDASrfNMeaKEcDqlHKPQFgPwP4G4+qEFxHArEZLPZi2EMANsP8aVJUMwMXhTPwYsBHA8Ab3EePHDsAdN6h6B3gSwLai/l+qxhLAECGfTzo1EMAunFGsGEENwItFDv1pCwvAKDVV5JAoE8BOAyg0VDIQwDKWqUouKBjA4LZntwebFcCg241VpS8WwO14jYckiBDAnp3Be1BVCsA+5ubJsh0SwOd4+77RXg/Ar3bamHlcD8BgndQ0IrkRwEDGSYBFsBfAwTgCzixfFMDKtPcNyeYQwE05gJBtbhLAcFFhUezYEcDdZwMnR2oKwI+xdT6ciw/AN8HiXubMEcDzEm1K07AOwDJH/KGqNBfAWfS4V5fmEcAQH66ljKoRwI/S+TuasRnAdRNJjvB6F8ApZlMPTXANwAtId0O6OwnAeuZjwgCIC8AoxsMjUPENwNXllql8OwPAroRYE4SzGsDu9qdVRWoIwGQHcuJWRwjAf8HTQbHEEcBuVToNw8UQwCb09+9oTRHAqkWRIt/eEcA7NBnfwhcKwIbv2o3eQRPA+mY4F3C6EMDQ93KPhXwRwJX3klNLchTArmXhn23FEMDzCowxVgwSwMhd+WHurhHAk2fpZtWkEcDGR5He1FIRwPX3YEgXbP2/IdF7fUhKA8BgbbfMd9D2vw/gm3c1uQ/A012D2pElB8CX/jI98ZwMwKFh118AzAHAoSYB/HNQCsBR7xiJdeEKwI9sTrWrPgLAcBOB3KLWD8AkRsr6ld72v5FFKAMnDPi/pnRXv8daEcC7aKnyKoUOwKfFKR5WNxHAjkaXNNp+EsD/+gfrLhAOwJ//IQB5VQrAYivYHphVEMAjXQUW3sASwF70QH8VjxDAAE59nczIDcDC9qSQLaIRwCetgUM0lAbAe/WetsurEcA=",
          "dtype": "f8"
         },
         "yaxis": "y"
        },
        {
         "hovertemplate": "label=7<br>PC1=%{x}<br>PC2=%{y}<extra></extra>",
         "legendgroup": "7",
         "marker": {
          "color": "#B6E880",
          "symbol": "circle"
         },
         "mode": "markers",
         "name": "7",
         "showlegend": true,
         "type": "scattergl",
         "x": {
          "bdata": "dHzIwNmn47+TWAO4NqX2v45I9n8QvQ7AweKF0VFZA8C8MFlFh0Thv1QfAdqI/AnAjyloxIS+9r/IwY0+v3Dxv1cOJ3lbJwrAp+Y2lphWsL+I/BeeSEz8v65bE1bptOS/VlZO0RYd4r/ukpKEPMTgvzviu1xJeNu/Xhn0REvm4r+O0V4PO0X5v3z46CmZGO2/EPi9DY66oD9C0uFO/pytPy+uN+uD2NO/e9qEVcYG0T9tRFWpkHHsv3XFCiBOaMw/KayUN4cR1L/aMbQWVeb7v9hsNU7d5OC/8u6EKnbyDMDUx1CJUKHjPz+I6hPQ7P6/Kiud7/P69r9QpDChGvoMwAij3qK30tu/VOJRr7ET4L8HfJzduMLtP3tfs089Bcy/7+D7Z6R+3b8OHcoiE4IDwORdgZn3vQbAP8ocA8vqDMCyL5V2WIEQwETkTa3xYBLAbjpiclIv7L+ZafEZZ/cFwI+3dukHPRbAFM17bpcoFcBqcOmNuffbv0OC4nPM7/a/JOpbhvAHEsBjg6cZQfYJwAt+KOq3+fS/DC76asj98D+KIPPSClriP3AdltXuIv6/0BbSLvDH97/4YzWahlLkvzACYm39NtM/ycdzh4ch/b/IDU90oLPfPzgnOQngDuG/qo0cOSjC3b+t4GkY4uW/P4Vwyz3mnfU/8GfBGfEa27/q07HrBSXnv96Mxh6SHAXAheGl9mYiHMDAQE2Ud3MbwI2IUcdHwRHAban1mQJgBMAiOZzeYLUDwCFdwiujqgbA+OxaQzZ9HcC1/AvXuF8NwAgyJq/PWQ3ACBlRvLJ1FMBJiJjR2XDVvy/ve8TRrtC/RtCdHgz45j/upQzG2GzuP4rjewHgRgFAaq4YX3/24r9cXzwedintP41G4uGDquo/5OpeotHW3z+bQTb+llL4v2/6RgbJR+U/bEQ71FWS2z9d/3QDS/3NP1+3BUxJnO0/w51pb1Be/r+Kx96jpYjlP0BJjn/74/O/mG738Ump5r978snxvnUAwLxfbNm/59G/+k0ttlfv7L++RimAxRTVv1iOt6Oii/m/tGWELssRAsB7jgTdzOHBv5SlI6PDueO/0ChgQ7bd0D983Ocuff7av36KgHhpDc6/uUKP7SMD4T/k9FqFhS7HP2NQd6fd0d0/TXsDAElA8T8tyhFNALDUP1sxHnVhedu/XN/bGGRe3L8UL7gldyTQP4moClluZeM/WDAA4+Ul5T+JqSKwpI3ePyj3ERvubem/+D0FYqwwAMBwP68h73HmP7wsnlRjLus/f9W1YC11vT8BeW27a7zKv3YdimKEF/U/8Fgqmkc66z+gtbt4i2LvP4axYwLXePM/YwkJumt7+L8sUEU9jETYv4wGestQAAVAiSKi3nvXzT+zaM2wGDXxP6F2Wn2hl8U/tzwMFaC99z+qszjCvwL0P2gUKIh3ytc/OxRcfQe79z+/6v1/zCn9P0i1/VgQy9a/aX0ndiiZ9j/VEPM94nnxv8QYLaXaFZI/rMH1ZbfCAsB8MmZPHRgHwMkjB0gQJv6//pJa+nyL5r+x2cYAP2v7v0GKiYDiaxDA4U53R9U79L8hG7VtWlbwv2nJXjgyJeS/L9XMRQXo8r/vPswsk+z6v4WN1Y5ULQDAUzNtPjwFAMBS070AjAQNQPdNOYJFEPk/WC9rCBAuwr9qZOspyFkBQGz0lfV+/9Q/H7s4NJFvCkBH/BgrpiHMv8SWDWqCnABAxmgB846SDkCWVV67SuH8v4JaJome68u/qkjp8+reC0CKCXGjzDHQv+wriVscMgjAYLhVR9/y6b/0eP3Wje8CwObSDzC0rQTAPuC1t8fw7r+/qnM1GTP1v9F9oVxL6Pq/7yFd5J00AMDki2ii+rjov4xxxGoCt9s/jJfwxOGN+b+mtcFsbdatvw==",
          "dtype": "f8"
         },
         "xaxis": "x",
         "y": {
          "bdata": "/K78w0bZFUBdl10pjEX/Py3QXfFt0wtAw6jtZU6UBUBqwZCrXgYSQPjn+0AFkRFA6EddYy0PAUCyi6MEUZ8NQLqVOeRGuQZAiq+LOSXoBUCOTTVfyzcDQJzGvlnLRAdAVVW6UZeGDkAwoHxIhbkEQPeubAQDswBA3HRJKLkR+D82HYyOkQ8YQPKfQVjRIxJAXUkE8uHhBkBimTF8wg30P+lR8XdsawpAg9dhzWxa8T9oYk50f9AUQKeEdGVu/ARAefJYUmRJ9T+BX+GlxMwgQO9fTXQMhAVA9y7DJfRfHkAM0++zdlsGQFnr+yDzeBJAAuyCuJkvFUA0mCmTHo4hQCPGDTfmZgRAKhTm3mxpA0B9yD2h47v/P/bXq9S3UO4/evvQ1/DoBUBFbzLTP28OQKY8hXyjnxVAsvwCwbPxGEBiY2ApcD0bQO4Pk/u6uRZAyhoMkaCyGUCeGyuRLdQVQGA+smzNux9AKUAWxrn8GECO/iNyJqcUQNv1PSh23ghATm9fXsxKIED4mFIPULkVQBLS+TRGKBNAk2NpNqnrBkBw6EqzRZkSQPmiZ3mr9BZA4ubBPueUCUCc6lzOWwwSQJc571cBZQpA2w7sN66UGEAgNn17eWcMQF83w6sP8RBA4v7n6onfBkDLcvf2qDQNQFUJgCC5ZwFArNR+9XhRFEBrK5khMmMQQELf1j2jJhtA3mFTHNm4I0BrXsMLndEaQIDM651TlhRAJTEAgSR3EkBGb1MLHAwUQDEa/ecHNRFAo9A2N0LTIUCZE0Pz2n8RQBb4iIqYEBNAE/t4PneTEEACkrb3u0IOQJCnckh92gxAsnreAsnUCEB/cM/EmfwKQKgZXkfXPwNA0EdlNalSD0B6GrpCTMPrP8/Bg2fqPAtAlyM7dWASBUCsEKv2vMYVQH2ImkteXwFAemBFn2v5AkBz4v5/2+MGQLdvY9Nk+AhAAReanNcgC0DPGtu3AssDQOcg12GiaxFA03QbtwgeCEDqpU20qAYUQEI4fN/QFwdAO7RzddBiEkATH3oqROwOQMtQizKDxw5ACrGmM6WlGEADmS1tDv4OQC4vgj5RIQhAZdXtV2xiDUBQrUSqMO0PQN+TiOJ4CAdA4Zd4lqgkD0DaP26BUeYDQJ+LwRNfRg5A2RytwuA8EUDew8EbSNcJQO1Q1AWu/gpApZah0cZ8BEC7gS1LO8wZQAqy44mmZgJAjSBQTcXSFEBiZDh+dIEPQBXwB+MwQRJAIQmxb9hNGEDRTtNvL/cJQHKWQ44GLxFALsaNbckhDEC9IQHm494MQGicawIyjApAYHBjF3RtA0CwRVpwVCAGQOtSkq7jywxA7MIPUZKYFkBgRm5TzIwaQExl7IOWXAdA5v9qqe1jEEDaPGcKpIkRQNjFG1kPTw5Aw0kGlVbZC0C5IPWiIwIOQLvU64DG2gpAIIhmfVY6EECK0ZBxAz/9P4Qx6P4v2whAxYcQLxS9AUC40qaONfkQQADSAXKT5Q1AKcp8s3XiD0CC3L+6DDMVQOjw0hxHQBNAcA3nKPd4D0DLrbiUXnn+PwLzpWo3OxlAGBcvdkyhEkCbpvr+Z/YKQBvY99BLsQlAoQKrFSSwDUAgQghf5gUOQApYVNg0mRJASSpI1ng1EEBBlY2D494CQJEemvks/gZA5E06eamNBkDDi/tVhfv/Pz6XgDBjSeM/Y1+vDoiBA0BYZM5vde4CQJhUClEi4eQ/2SuXCOgiCUCmCLoWPKoDQLPHAyxVGP8/4xDYf+UqAkDiC/E9XHESQHKKXh9ymAtAdYJq1FzyEUC6+KWJZ1USQOFrADeR0RRAz0J+5kzvAUCW/a99Kd33PyNP6h5BCtk/mk/Zo0W/8D85sAH3Vf4NQLGU+ntnuglApD3bPKm0EkCwWwg9c6b/Pw==",
          "dtype": "f8"
         },
         "yaxis": "y"
        },
        {
         "hovertemplate": "label=8<br>PC1=%{x}<br>PC2=%{y}<extra></extra>",
         "legendgroup": "8",
         "marker": {
          "color": "#FF97FF",
          "symbol": "circle"
         },
         "mode": "markers",
         "name": "8",
         "showlegend": true,
         "type": "scattergl",
         "x": {
          "bdata": "WCxuakGT8T/SEXAzEabtP5nu3X4WUcU/PuNhnEAX0D8kvfwXtJv5P2hjdyh7yde/TgqLWkQFAUCZVyzZ9ZXsP1Tqc0HgFJY/QZZCz2vB3D/131NF7o37P134bMTy29Y/5tm/4o1G6D966uEg3lDlP254JvvUKNM/JJKgBS/Z6b/7i8j9NcPSv09p9A/do9M/QQj9WBh09T++Ah76Rw35PxexraYnOOC/52TNM6syxL+12kevH+a9Py4oHm3BjOQ/7hSDBRN+qb/vjkvJSyNxv0hLtEl+vO4/qMYHH38RwT/kMQIDzdrmv4JBnZ+N5tE/YaqqlA+9xz/NnX6wm4zwPy7UXvFPfvU/PY+6KiMkvD9fvSjipDT5P89so6A6w/0/pRt0mOhayz8yARvMbUqkP/jI8TcuwPS/UEPxylTm4z/bAX5dG4T0v0tIWg6OFug/2sHq76RA7j97YAADUU/Wv+v+hvMu+My/cejw4oH6fz+h3TV42YfpP6CbWFxZsdo/3BygoUDZnr/WfKdgMKquv4+/ljputuw/8mFSHOU8/L/ncB46UiXLv8fzNLqyrPE/m80ZtVgaAMCJaUPN7enIP18zhXvTPuS/eJ9UOsgf3L8vxJ/CBCfDv1k7NLd94/y/uuTRz+LLAMCUjr9fMKLbvxAwCAqvd9u/Ha3S7bfM+L9u5mCM3fj1P0A491TzseY/IRR/0tEp5z/lvkoZEFb8PwpAj6Nkaes/WgUhKYus5z8lQoXjmenwP+znleXClvI/D/owodQV+L/cQwtW50jeP+281rw3J8U/On+C+24j6z8fOcbX157OvxceZgRZ0vQ/WMvY3mpY/r8S9j0Gx/3zvwddDbGPcOs/DN1thecKkL9+Y4xhkc76v6EPJzjkgfA/qo3YoFQ76j84PtEK9F/ov7AutUJxqOy/ZeuXY/wv1z9QxVuE6T/Tvz9TwCMZwcG/+0x6QFZd/j+B98wTocsEQFe+Wm2kXgVA0lu2W5q/BUDA7Nu+AEzwP4XWAANznQVArgibk6Hf8D9Ct0Hvh3/WP4N1mN6VwwZAByoyIgIH8j+LcHSgTb4DQObmN3QRt9O/aLoGSIOaA0BEwgftWA4FQMYhVcyDOgRARDhrEVAG4j/R91aQ/FYFQK857jwJigNA6RbuLNZe+z8jnLhX1/X3P23wuqww+vw/oOnzPasl8j/4AOVSL0v9P+LXoPdEwANASiDlc3+gD0C9vilJIeD/P/Y5ZXOkngNARWWNExSEBECEdk3zS8XwP50KpIiIafg/Qwi6GRBBCkBM8UsJKIUCQLU09qcGYxBA23O6WPE4+z9PzVwV+AX/P7LG/CZWm/0/P9kjKi6SAUAku6FEE8HuP0DsxPdLDQhAPixBuip9t78Kfp9/4lThPyGkWmQbHtQ/7yvbW4Zg+T/9N79WiNDiP2dKhg1G5fw/FWci32ME+j/WmXj4QIfjPw0Lq68wjPM/cc1RA9j68z//n3qKTnXzPwlYcEW2Vt0/Z/MbVejy9D/adGxAtoLZv4ldMEOFM86/bVw0hI9VBcBjGWq1lyXcv7bSzj4LWeO/YEFyxuKR9796bKUZoy/4vxoTzLoVu6m/lQBu84O0AMDTZSVTOyLhv2cXJ5xewfi/DXMAvXlezj8/fvqllqgIwNtwZOGf2PK/P5WF81Po4D91jC4wQNzwvyEyuCTgn/+/oBrTJjZH879zu1qzndH+vwviu7UvpQFAW0bAhieYBkBdDp3EsK/7Pw3w3I0pOeg/gOqAGo86BUBT508CiLP7P9Yw9g3RC+A/zVRDP+j76T8mwqmVVqj2Pz4EIh/NhvM/sRb+xsuG3T9chhedjVzwvywXUnuMH/Q/",
          "dtype": "f8"
         },
         "xaxis": "x",
         "y": {
          "bdata": "9i+znWxO5b+trQ0ILgYCQJbUAfU95O0/fGAHz31UAUCJERiTwUvwP9cKxbi34/c/1icF0qfe5T9RlksrhA3yP/JnX0ThtuY/2FPoIALP+D8QIQxX5We2P34M22ShrPU/MexY9KvW6T/Jd32rCI6nPyCtsujvHOy/N2ZWtrdp4j93GW9QQerRP3OoDu1Yhmm/RjCKWZNN6r+aDJOyl6PXP0xLu2MJAPW/Szy9zmO+5T90QQPRxoHDP6lI6xuO0NG/EmeGQW2G4r8YgUVfK0HRP/RyRROCCrO/zm1SlTwr9j9DZ/6fQu/7P2uNf7d8DuU/O9xN13Zr8z/z1saJqOzRP9T6dNji9+m/3L0jjldx7j+ruM0Dyi3QP9rT8aJj3Pq/WOmFZibK9D/sfCMnZ0kCQBWspL8t+/k/8qGjW2Mv+T9zh3NJv//Rv+B/khC53cI/b1wu5Sgc0D8PwgNj2hnlPwboY+3kmvw//fK39tG41L/Q2AsAGjX4v0CJPMfZsfI/5tC8JiVlAkBz3I2rMtBrv6xzCXLbyPc/jH4tZlE18z+hZ2Dh4r7yv/yHd8gQfei/5T2r4c2F0z85ZKM7o8Lsv63tcjGw/ei/SQOwwEbu8L/7ZZ3gsR/sv3Go2Tb0buU/2l7Nyv7S7T9euyjkUDfLv3Cq6B+h0d+/M1CYHEL+5j9FjZhfVK7Uv3jEEbFJfsK/fiRiabzx3b8s42WDIG3Wv8NQ3jXbv+I/Zg6IMBuf7j/qeLvln4rlvw5Q7T+zauA/ulRfqOJY8j8j/TX3z+qHP5PMGWrBHOO/vKEVF4628r8xTTc9OI7cPwEL2of4zATAULKJ7XM3vj/BaUGw3gLaP5wO1WPR7ea/ZmTtJZue4T8GU2DDO5zpP6IdMxYkpuk/HY/0gyJf879b2dgjRn33P+eX/qoAcfo/mmrqqDyi+L8GKoRY3uXHP32D7m4bbPu/kTb4eKbTrj8ULz9rkanuvwQ5I9dXnPK/weER705n5b+Mx8OU8lLLP5yFUFyFFPC/kumRF1jY4j92Is7S203Dvz2qxX+rGAHAulfD3joVwz/8/RiFRiHTv8rW3gfOR/s/xeyGTH7iAkBBGvbIzhncvzeuqi7G1Ni/3S2HOzRh7j/uojt5CnQDQJvr/vu0fOE/5O9PeG2/5j9a7ud1dP77P9ZpsHylnM2/01TKd9FpBkByEVJdHY3wP/DzzG37kNU/X+iKbmmf0b/LINutT97rP3DC6e4rbwNA6qODAH/4/D86BUXeNBsCQDOiEEKZJf8/H1G06Dc1CUDb/Bi5mZMAQFfSZAY1rem/4OflnuXz+D/oi7I7cyD7PyTp41oRpgRAwZSeJkyq7D8WfAfu7DnjP7QX9IzD6eE/PrDkTtM2AUCgTBGxiz//PxJtMemGC+4/+optl+Lx8j8vGmCYarDXv7ztOMItivs/rhFsU6ig9j+e9G09qOH0P9E870mbZ+A/376Tq7cm/j9brhvYm07aPwfAUqVaAO0/qId0+ceQ4L+Jaf27zg7sP74kNRDZRPE/jh9o+zav7T+4BSQi6+v3P361YBCkQQJApDTPRHUt/j9t2egqj1X7P+7kjmtbWQJAMnHIU/GzC0DTrYcJ8C/zPwq7oqxsC8i/GtIVIOBT5D/ZtqVSa/LxPyRV5AeSdc2/Wt+uFLQc6T8IyRb+h6fwPwesRoL0gdk/6Hpfo9JE7z+a+7A+KQABQD8ATaOIhus/Ga0RUwrt4T/APsrKHRHYv0A0PHe3zfS/8DDzJ6Fy7j+qPPptlQ4CQFBu/RYnuuK/pOmS7R859z9/ZxBf9oDwvzQeI7Rq9fQ/zNPoL3bR+D9K0uJNvu7Cv6GCTSob0gHA",
          "dtype": "f8"
         },
         "yaxis": "y"
        },
        {
         "hovertemplate": "label=9<br>PC1=%{x}<br>PC2=%{y}<extra></extra>",
         "legendgroup": "9",
         "marker": {
          "color": "#FECB52",
          "symbol": "circle"
         },
         "mode": "markers",
         "name": "9",
         "showlegend": true,
         "type": "scattergl",
         "x": {
          "bdata": "yyvnkww34T+Bw+uZu/cCQJeynLWKHQBApayM/wu59j97K7ekt2AJQFntKyZRtwhAlz+GJWbaAEApCXBeH7sIQEqrxHU0L/s/V1h7V8wA9D+GhNV7nq7XP5WrF+u50wFAPdQss9+rwD/3KB5zyHD0P6lU/QRYHfM/8mS/nBQf7z+kXfWSPwvUPwHMwIihW9E/iH0uV9ib+j/HQRzsiB7pP64mhq8IwfY/N46wNKFA+z+UeujQGGjmP324fi0Urcc/Gn/AWb3f37/Q1YEwLarSPxEbebqwnX4/f8GcsaINAEAoBW0YTN3lP8twxPKRy+o/5fwU48058T9dMLvZTcHyv/wiInJ/mNs/EC4CndE35L/TcL34jMnbPy1chGwjIwrABgOFxNrfEMBRd8ix06n5vxh+vYPpFvk/QVf0wnz58T83mu6kBuPkP1D7/Jibb9o/UI/olAvKAkDWVW1tflMDQHAvVzYlzgNAMKKhJ15q9T+lNvY1HHTwP9/sHrIuku4/ojD67m5d5D96F6TDGdTvv5ROCdwADPE/lsT61ohO0b9sXR2iRv/nv1U1tPIMKgFAubiji5Aovz+l8ORpljfxP1Yvw9q8x9Y/xKLYlose6b/njPUSPEACQBeJ8ToRgN4/F7CfXUnq1D/ARpyoUnH/PxCJLQ7dP+w/kLSGtG6Z3z/8UQ6hVXsVwCb/3HKPKRHA7DuMphznDMCQzC8GtfkRwHPjkVftVQnAz793EsxYEMB155u+kT4PwHA/inp/DAfAvqLEwWgeDMD+To4s+M8TwC6+jGxMoxXAcTWbn3k+FcBKTZc9kEUQwGde7wehDvs/Ds8Ylxl98b+kzM1AhSKVP0w3QAYOruU/TcFE8lUT+T/k3b5D2JXQPwtMyp4C7MA/aBtopWLb1D9vM93WL0y6v3r5jb21dtw/KjAzJBYQ8L+bq4lrZkj0vzNHt+kgvvE/ww73HUbzBEBzBft22wwFQCv9EYQM+QpAA8up+whPBUCphWrPFDv3P5GlfS8xwgNANlAXPtxf/z98L9b8TqQGQN4anCznj/E/Iwc2QX0hEEDlU3rNRJL2P0NBlJchBv4/t2wo3/GFDEDIw5XwZPn/P3EJP+pxIfM/5kGQ9YwL+j/BcFmhuyvoP891NGCVtwJAWSWhyYsd0D/NYnUgy9LpP2iLZmrJLQFA9ursde80+z9R3TsEijX9P00Oz4p8kf4/RRaHOqnuzT+E8ozhg4n/P04NN2BWnvM/M5pH2ShN9z/ZqcTagprGP0xqSTxn3f4/IIBmdbFZ6D+3OWdP0a8EQMvA2DEJjPA/ZBZFiDWt0T8rnDFj674BQNDbkOgY8wFAH7mFxM2n/T8IN0i8r2H8P/7gogrFXuQ/LJLj3EhuBkCnI/PkPQECQOohHzeDGQBAvrZnnEvq8T/iJ20lAOPkP+Ic93Hxx+Y/TAunKpQRzz9QIOCeZyv/PzGZG6/Nvfs/RXtmsGw06z9IsOGuSdb4PwTCTj5hyeC/D4225QVL/j+HrPJPKjX5P29I5ee4DwRAtXgw3WPcC0B6Xg7J/rvzP+m391i3XwtA4lydN5vDBUAS8b3EAF8RQPo70i1K2es/fxLOJSFhD0BLJUT4kV4CQCktdmk2nMI/Yd/9f4hv7T8K/Wn4sYgJwJVPk/xisATASU2N7g0QFsC6FNS1cAoNwMESha64Ife/bW4GKOoF/z/QO9fbN5wFwOT4+nDGQe8/hyuIdu1p8r+LW2ta6NvxP3nuADFe4vc/iFHYJo/xAUCftDJ8hHLmv26kPsMmqwVAgvDMFnCT+z9Qx8debWz2P89GbtF+ROg/ufwT5+qV/z+S/OGCCXP7P7cK9XgxPANA53H1jnJmAECkihQug4j2P3anOUpEBv0/2IM0GTzE5j+H3w68aLW6v5uNF62FN/G/",
          "dtype": "f8"
         },
         "xaxis": "x",
         "y": {
          "bdata": "jBr6VDjh6L/0bO6vj3QHwJEmI1LHAwPAca974OYEAcBZKfXXfVoGwHVTH4wMKdy/8e35bwyoBUC6HUM45Yj2v9mBcsW/ZKs/pufCxk9V+r/LhlYvPgMBwD0F1VLz3vA/7bb4yWEh0b+bk13XBxr3vwOWw90Gldu/8yXlSTBi5b+yQsKhBfPmv46zhA+TA+e/Z7F9cgwb+78MGeINq+vyv7ylI54J3+Y/sMUBhdeq5z9SrXl0sF3ov9xPq7VD8+K/cxLSHG7cyL8nXbb38gcHQK4fUpKs7RFAxQsrjc2L0j8eCCOf8z7vv4GrPMGFM/k/DeO4giOr378ra15oDOcQQB8hleegIAxAXnC+SDO/C0AXtH0kuOMOQJtNmEAwMxBAU7cbk0T/BkBjH3IxEtQJQFQa8sAP0ro/0Q0dAiDq+L9A08hv8SDyvyWr62Gcqe2/iwyYALWj97/u1YJHIsvivx6+02C5Us6/xU8a4cBe37/I5eIt35XuvwZiQD8w4f6/ITlxYZpz87/fl2pdYvQBQNbYSGt4euC/sbOc5wW1pj9QHDwyYRbGP/SiVdOlmfS/MXK9HW+S/j+Blm98Im7wP0sUOwHXmNm/Ns1CYOeO8z+2tXk/AuLJP7wrKBCBnOe/i4iEokVY779lN5YEa7bZv2xykO24c/E/+0iwZACN8b/D4kmYm/sTQNAbeAPc8AlAVJBqHOzBBkBLOPQ8O2QFQHIFHqgJsg5A3irlWlDaBUByftKb9ikNQKvQ8V7+RwBAraFitFZ/B0C3oegH6PIRQBqvl9L8qBNAfLnTz0ikEUC5ZJY5WukTQLeWv9eO5Pe/XLJpTV+qu78LCX6luaYBwDwp1df6ttW/cSEVZSyfAcBQdDEuPiTrP4hcTHhg6fC/EuhSGtkG1r+iEnJJB13pPzvg5UVVmui/g6jGvhJ84D/wdp8zQm7EPwrty9lBt7a/fb5MTsdjAMBNIdXkIbP4v2rneNAw3em/SCZYus9Z2z+qFMF9quniv9oD0MKy0Pe/Rhqk1tnT+L/YkRdi5SX3v6hbCD1x7/m/mSdTAdXq+792oUaVwqLzv29Tv+cpVPG/cutGC02Y67/YAjuN1BLiP417sq/yMt+/IvVFOJ4G8L8w6OjMpOX3P4QHKxtao/a/XvBdkSUS8j+K5kvxAJ7zv5bcxbuikf8/+KsE7sCXAcAGcsr5IsrOP24tR2wAnuQ/XM5+SZTD8r+LO/DJQR/3PwW+vNamSu+/szREt0/hCsDlIqcMwA7fv4brJFv9xsK/RXkt44uf2T/xqxb0xnfiv0YRAo0WIeu/yBt3EDyX9T/AgiD5NG3jP3/pCAc+HvU/3rW18MWv9D8+NAgux+DOv8QBkHi5YfU/oJ02aWlrAMC5fJJWtrfTv0E1YrrbTdA/QnB2LBMmlj//VkyPSCjov0d0m/ywba2/uJgu5NqP5r/qNZg/qVHEv12OeFcTyPK/cmV99spF8z/WGBrxjT/3P0ZM9I+9PfE/KeHNNKXb0j//Ms1+K2jeP/FQTAOLYte/lSv/4GSo2L8AL5IjtYLTPyhQSXBRcuS/SwVIwUp/8b/jEnUkUouJP0oSymwD8Mg/XBWbSrSV5L8Gjouo1TrJvxU3aR7igANAbxUg3M2Y+D/Dj8jAt1ECQGeWLRVZrBRAugAFRVeBIUBpDkHKygUUQC6ZTOb60QxAJ49mxzaECkCb8d4lV4wMQL47DUurcvW/+LiDIwpiDEDHS/ypdsXxv2kNhR8+5tI/zif6L6whAEANZIXja9QOQNhxCYoKiuW/0t9N+GZLzD/tzYmDh/jqv0AvY/9Xz7o/L9vQ0cbL7z87Jn0B78rpP0bXjMaXNPG/5UOkN3qW3b/JK0u1thvSP+wHARoBK/M/NQSZ2dE20D8l1O6nUFLQP5Xq6Z/EYNi/",
          "dtype": "f8"
         },
         "yaxis": "y"
        }
       ],
       "layout": {
        "legend": {
         "title": {
          "text": "label"
         },
         "tracegroupgap": 0
        },
        "template": {
         "data": {
          "bar": [
           {
            "error_x": {
             "color": "#2a3f5f"
            },
            "error_y": {
             "color": "#2a3f5f"
            },
            "marker": {
             "line": {
              "color": "#E5ECF6",
              "width": 0.5
             },
             "pattern": {
              "fillmode": "overlay",
              "size": 10,
              "solidity": 0.2
             }
            },
            "type": "bar"
           }
          ],
          "barpolar": [
           {
            "marker": {
             "line": {
              "color": "#E5ECF6",
              "width": 0.5
             },
             "pattern": {
              "fillmode": "overlay",
              "size": 10,
              "solidity": 0.2
             }
            },
            "type": "barpolar"
           }
          ],
          "carpet": [
           {
            "aaxis": {
             "endlinecolor": "#2a3f5f",
             "gridcolor": "white",
             "linecolor": "white",
             "minorgridcolor": "white",
             "startlinecolor": "#2a3f5f"
            },
            "baxis": {
             "endlinecolor": "#2a3f5f",
             "gridcolor": "white",
             "linecolor": "white",
             "minorgridcolor": "white",
             "startlinecolor": "#2a3f5f"
            },
            "type": "carpet"
           }
          ],
          "choropleth": [
           {
            "colorbar": {
             "outlinewidth": 0,
             "ticks": ""
            },
            "type": "choropleth"
           }
          ],
          "contour": [
           {
            "colorbar": {
             "outlinewidth": 0,
             "ticks": ""
            },
            "colorscale": [
             [
              0,
              "#0d0887"
             ],
             [
              0.1111111111111111,
              "#46039f"
             ],
             [
              0.2222222222222222,
              "#7201a8"
             ],
             [
              0.3333333333333333,
              "#9c179e"
             ],
             [
              0.4444444444444444,
              "#bd3786"
             ],
             [
              0.5555555555555556,
              "#d8576b"
             ],
             [
              0.6666666666666666,
              "#ed7953"
             ],
             [
              0.7777777777777778,
              "#fb9f3a"
             ],
             [
              0.8888888888888888,
              "#fdca26"
             ],
             [
              1,
              "#f0f921"
             ]
            ],
            "type": "contour"
           }
          ],
          "contourcarpet": [
           {
            "colorbar": {
             "outlinewidth": 0,
             "ticks": ""
            },
            "type": "contourcarpet"
           }
          ],
          "heatmap": [
           {
            "colorbar": {
             "outlinewidth": 0,
             "ticks": ""
            },
            "colorscale": [
             [
              0,
              "#0d0887"
             ],
             [
              0.1111111111111111,
              "#46039f"
             ],
             [
              0.2222222222222222,
              "#7201a8"
             ],
             [
              0.3333333333333333,
              "#9c179e"
             ],
             [
              0.4444444444444444,
              "#bd3786"
             ],
             [
              0.5555555555555556,
              "#d8576b"
             ],
             [
              0.6666666666666666,
              "#ed7953"
             ],
             [
              0.7777777777777778,
              "#fb9f3a"
             ],
             [
              0.8888888888888888,
              "#fdca26"
             ],
             [
              1,
              "#f0f921"
             ]
            ],
            "type": "heatmap"
           }
          ],
          "histogram": [
           {
            "marker": {
             "pattern": {
              "fillmode": "overlay",
              "size": 10,
              "solidity": 0.2
             }
            },
            "type": "histogram"
           }
          ],
          "histogram2d": [
           {
            "colorbar": {
             "outlinewidth": 0,
             "ticks": ""
            },
            "colorscale": [
             [
              0,
              "#0d0887"
             ],
             [
              0.1111111111111111,
              "#46039f"
             ],
             [
              0.2222222222222222,
              "#7201a8"
             ],
             [
              0.3333333333333333,
              "#9c179e"
             ],
             [
              0.4444444444444444,
              "#bd3786"
             ],
             [
              0.5555555555555556,
              "#d8576b"
             ],
             [
              0.6666666666666666,
              "#ed7953"
             ],
             [
              0.7777777777777778,
              "#fb9f3a"
             ],
             [
              0.8888888888888888,
              "#fdca26"
             ],
             [
              1,
              "#f0f921"
             ]
            ],
            "type": "histogram2d"
           }
          ],
          "histogram2dcontour": [
           {
            "colorbar": {
             "outlinewidth": 0,
             "ticks": ""
            },
            "colorscale": [
             [
              0,
              "#0d0887"
             ],
             [
              0.1111111111111111,
              "#46039f"
             ],
             [
              0.2222222222222222,
              "#7201a8"
             ],
             [
              0.3333333333333333,
              "#9c179e"
             ],
             [
              0.4444444444444444,
              "#bd3786"
             ],
             [
              0.5555555555555556,
              "#d8576b"
             ],
             [
              0.6666666666666666,
              "#ed7953"
             ],
             [
              0.7777777777777778,
              "#fb9f3a"
             ],
             [
              0.8888888888888888,
              "#fdca26"
             ],
             [
              1,
              "#f0f921"
             ]
            ],
            "type": "histogram2dcontour"
           }
          ],
          "mesh3d": [
           {
            "colorbar": {
             "outlinewidth": 0,
             "ticks": ""
            },
            "type": "mesh3d"
           }
          ],
          "parcoords": [
           {
            "line": {
             "colorbar": {
              "outlinewidth": 0,
              "ticks": ""
             }
            },
            "type": "parcoords"
           }
          ],
          "pie": [
           {
            "automargin": true,
            "type": "pie"
           }
          ],
          "scatter": [
           {
            "fillpattern": {
             "fillmode": "overlay",
             "size": 10,
             "solidity": 0.2
            },
            "type": "scatter"
           }
          ],
          "scatter3d": [
           {
            "line": {
             "colorbar": {
              "outlinewidth": 0,
              "ticks": ""
             }
            },
            "marker": {
             "colorbar": {
              "outlinewidth": 0,
              "ticks": ""
             }
            },
            "type": "scatter3d"
           }
          ],
          "scattercarpet": [
           {
            "marker": {
             "colorbar": {
              "outlinewidth": 0,
              "ticks": ""
             }
            },
            "type": "scattercarpet"
           }
          ],
          "scattergeo": [
           {
            "marker": {
             "colorbar": {
              "outlinewidth": 0,
              "ticks": ""
             }
            },
            "type": "scattergeo"
           }
          ],
          "scattergl": [
           {
            "marker": {
             "colorbar": {
              "outlinewidth": 0,
              "ticks": ""
             }
            },
            "type": "scattergl"
           }
          ],
          "scattermap": [
           {
            "marker": {
             "colorbar": {
              "outlinewidth": 0,
              "ticks": ""
             }
            },
            "type": "scattermap"
           }
          ],
          "scattermapbox": [
           {
            "marker": {
             "colorbar": {
              "outlinewidth": 0,
              "ticks": ""
             }
            },
            "type": "scattermapbox"
           }
          ],
          "scatterpolar": [
           {
            "marker": {
             "colorbar": {
              "outlinewidth": 0,
              "ticks": ""
             }
            },
            "type": "scatterpolar"
           }
          ],
          "scatterpolargl": [
           {
            "marker": {
             "colorbar": {
              "outlinewidth": 0,
              "ticks": ""
             }
            },
            "type": "scatterpolargl"
           }
          ],
          "scatterternary": [
           {
            "marker": {
             "colorbar": {
              "outlinewidth": 0,
              "ticks": ""
             }
            },
            "type": "scatterternary"
           }
          ],
          "surface": [
           {
            "colorbar": {
             "outlinewidth": 0,
             "ticks": ""
            },
            "colorscale": [
             [
              0,
              "#0d0887"
             ],
             [
              0.1111111111111111,
              "#46039f"
             ],
             [
              0.2222222222222222,
              "#7201a8"
             ],
             [
              0.3333333333333333,
              "#9c179e"
             ],
             [
              0.4444444444444444,
              "#bd3786"
             ],
             [
              0.5555555555555556,
              "#d8576b"
             ],
             [
              0.6666666666666666,
              "#ed7953"
             ],
             [
              0.7777777777777778,
              "#fb9f3a"
             ],
             [
              0.8888888888888888,
              "#fdca26"
             ],
             [
              1,
              "#f0f921"
             ]
            ],
            "type": "surface"
           }
          ],
          "table": [
           {
            "cells": {
             "fill": {
              "color": "#EBF0F8"
             },
             "line": {
              "color": "white"
             }
            },
            "header": {
             "fill": {
              "color": "#C8D4E3"
             },
             "line": {
              "color": "white"
             }
            },
            "type": "table"
           }
          ]
         },
         "layout": {
          "annotationdefaults": {
           "arrowcolor": "#2a3f5f",
           "arrowhead": 0,
           "arrowwidth": 1
          },
          "autotypenumbers": "strict",
          "coloraxis": {
           "colorbar": {
            "outlinewidth": 0,
            "ticks": ""
           }
          },
          "colorscale": {
           "diverging": [
            [
             0,
             "#8e0152"
            ],
            [
             0.1,
             "#c51b7d"
            ],
            [
             0.2,
             "#de77ae"
            ],
            [
             0.3,
             "#f1b6da"
            ],
            [
             0.4,
             "#fde0ef"
            ],
            [
             0.5,
             "#f7f7f7"
            ],
            [
             0.6,
             "#e6f5d0"
            ],
            [
             0.7,
             "#b8e186"
            ],
            [
             0.8,
             "#7fbc41"
            ],
            [
             0.9,
             "#4d9221"
            ],
            [
             1,
             "#276419"
            ]
           ],
           "sequential": [
            [
             0,
             "#0d0887"
            ],
            [
             0.1111111111111111,
             "#46039f"
            ],
            [
             0.2222222222222222,
             "#7201a8"
            ],
            [
             0.3333333333333333,
             "#9c179e"
            ],
            [
             0.4444444444444444,
             "#bd3786"
            ],
            [
             0.5555555555555556,
             "#d8576b"
            ],
            [
             0.6666666666666666,
             "#ed7953"
            ],
            [
             0.7777777777777778,
             "#fb9f3a"
            ],
            [
             0.8888888888888888,
             "#fdca26"
            ],
            [
             1,
             "#f0f921"
            ]
           ],
           "sequentialminus": [
            [
             0,
             "#0d0887"
            ],
            [
             0.1111111111111111,
             "#46039f"
            ],
            [
             0.2222222222222222,
             "#7201a8"
            ],
            [
             0.3333333333333333,
             "#9c179e"
            ],
            [
             0.4444444444444444,
             "#bd3786"
            ],
            [
             0.5555555555555556,
             "#d8576b"
            ],
            [
             0.6666666666666666,
             "#ed7953"
            ],
            [
             0.7777777777777778,
             "#fb9f3a"
            ],
            [
             0.8888888888888888,
             "#fdca26"
            ],
            [
             1,
             "#f0f921"
            ]
           ]
          },
          "colorway": [
           "#636efa",
           "#EF553B",
           "#00cc96",
           "#ab63fa",
           "#FFA15A",
           "#19d3f3",
           "#FF6692",
           "#B6E880",
           "#FF97FF",
           "#FECB52"
          ],
          "font": {
           "color": "#2a3f5f"
          },
          "geo": {
           "bgcolor": "white",
           "lakecolor": "white",
           "landcolor": "#E5ECF6",
           "showlakes": true,
           "showland": true,
           "subunitcolor": "white"
          },
          "hoverlabel": {
           "align": "left"
          },
          "hovermode": "closest",
          "mapbox": {
           "style": "light"
          },
          "paper_bgcolor": "white",
          "plot_bgcolor": "#E5ECF6",
          "polar": {
           "angularaxis": {
            "gridcolor": "white",
            "linecolor": "white",
            "ticks": ""
           },
           "bgcolor": "#E5ECF6",
           "radialaxis": {
            "gridcolor": "white",
            "linecolor": "white",
            "ticks": ""
           }
          },
          "scene": {
           "xaxis": {
            "backgroundcolor": "#E5ECF6",
            "gridcolor": "white",
            "gridwidth": 2,
            "linecolor": "white",
            "showbackground": true,
            "ticks": "",
            "zerolinecolor": "white"
           },
           "yaxis": {
            "backgroundcolor": "#E5ECF6",
            "gridcolor": "white",
            "gridwidth": 2,
            "linecolor": "white",
            "showbackground": true,
            "ticks": "",
            "zerolinecolor": "white"
           },
           "zaxis": {
            "backgroundcolor": "#E5ECF6",
            "gridcolor": "white",
            "gridwidth": 2,
            "linecolor": "white",
            "showbackground": true,
            "ticks": "",
            "zerolinecolor": "white"
           }
          },
          "shapedefaults": {
           "line": {
            "color": "#2a3f5f"
           }
          },
          "ternary": {
           "aaxis": {
            "gridcolor": "white",
            "linecolor": "white",
            "ticks": ""
           },
           "baxis": {
            "gridcolor": "white",
            "linecolor": "white",
            "ticks": ""
           },
           "bgcolor": "#E5ECF6",
           "caxis": {
            "gridcolor": "white",
            "linecolor": "white",
            "ticks": ""
           }
          },
          "title": {
           "x": 0.05
          },
          "xaxis": {
           "automargin": true,
           "gridcolor": "white",
           "linecolor": "white",
           "ticks": "",
           "title": {
            "standoff": 15
           },
           "zerolinecolor": "white",
           "zerolinewidth": 2
          },
          "yaxis": {
           "automargin": true,
           "gridcolor": "white",
           "linecolor": "white",
           "ticks": "",
           "title": {
            "standoff": 15
           },
           "zerolinecolor": "white",
           "zerolinewidth": 2
          }
         }
        },
        "title": {
         "text": "Visualización del Dataset Digits con PCA (2 Componentes)"
        },
        "xaxis": {
         "anchor": "y",
         "domain": [
          0,
          1
         ],
         "title": {
          "text": "PC1"
         }
        },
        "yaxis": {
         "anchor": "x",
         "domain": [
          0,
          1
         ],
         "title": {
          "text": "PC2"
         }
        }
       }
      }
     },
     "metadata": {},
     "output_type": "display_data"
    }
   ],
   "source": [
    "# Aplicamos PCA para reducir a 2 dimensiones\n",
    "pca_2d = PCA(n_components=2)\n",
    "X_pca = pca_2d.fit_transform(X_scaled)\n",
    "\n",
    "# Creamos un DataFrame para facilitar la visualización con Plotly\n",
    "df_pca = pd.DataFrame(data=X_pca, columns=['PC1', 'PC2'])\n",
    "df_pca['label'] = y.astype(str) # Convertimos la etiqueta a string para colores discretos\n",
    "\n",
    "# Visualizamos\n",
    "fig = px.scatter(df_pca, x='PC1', y='PC2', color='label',\n",
    "                 title='Visualización del Dataset Digits con PCA (2 Componentes)',\n",
    "                 labels={'color': 'Dígito'})\n",
    "fig.show()"
   ]
  },
  {
   "cell_type": "markdown",
   "metadata": {},
   "source": [
    "**Análisis de PCA:** PCA logra una separación decente para algunos dígitos (como el 0, 4 y 6), pero muchos otros se superponen significativamente. Esto es esperado, ya que PCA está limitado a proyecciones lineales."
   ]
  },
  {
   "cell_type": "markdown",
   "metadata": {},
   "source": [
    "## 5. t-SNE (t-distributed Stochastic Neighbor Embedding)\n",
    "\n",
    "Ahora, aplicaremos t-SNE, una técnica no lineal, para ver si podemos obtener una mejor separación visual de los clusters de dígitos."
   ]
  },
  {
   "cell_type": "code",
   "execution_count": 9,
   "metadata": {},
   "outputs": [
    {
     "data": {
      "application/vnd.plotly.v1+json": {
       "config": {
        "plotlyServerURL": "https://plot.ly"
       },
       "data": [
        {
         "hovertemplate": "label=0<br>TSNE1=%{x}<br>TSNE2=%{y}<extra></extra>",
         "legendgroup": "0",
         "marker": {
          "color": "#636efa",
          "symbol": "circle"
         },
         "mode": "markers",
         "name": "0",
         "showlegend": true,
         "type": "scattergl",
         "x": {
          "bdata": "MiStweu6mcGmEJvBhj+3wdMAksFBNa/BafSvwaVTl8Fyqp/BiF7BwUo8vMGHu6PBXKeewZMKq8F1RZjBuNeswU8vlcFIXqLBVU+/we3ElcE675zBB0KowXi1lMGG/KTBo6e8wZyco8ELO5zBYf6ywSF5psEXGp/BmpmuwQURscHw1rLBPNetwe2ApcHmSZrB4Q+jwUd9s8EfLLPBPgzAwbVUtsGND6fBJFOTwbNVvcFXO7nB0F+qwfQlu8Ew8J7Blge3wRO8s8EjEKvB7Perwdu3osHbCbDBAbWuwRghosEEwbzBM8+pwRZdyMFboZ7BPZiZwS6jucG4hZ7BguSvwT9fq8Ge9ZbBd8Glwfo5lsHjcaDBh7muwcUDoMGYc6LBehGPwbUUmsGIGpnB4FinwQfcpcGJ+57B25+zwVFgxcHr2qDB5QyvwVJ3qcGof43BbU6UwRwNnMGI0ZjBsSSRwY7+t8FF5rDBlo6Uwcf5ucGpe7bBNvGswZR5u8HhX7bBaFDAwZPTs8FoqMPBERu8wbyMxMGo66vBCdSuwTshucFLpbvBggOvwVc2t8HrarvBUgrGwRPnt8EhQ8TBzuDHwXwmrsGb3bzBKKSpwaikqcGrxqfB922mwduOsMHTLrnBgLCxwbi4p8EvCKbBwrCmwQ7xp8F2OJrBVl2mwaFpusGv057B/FKqwVNtyMGKO47BO6WmwZEjpMHjObrB7jyiwbxqr8Fg4qzB+NCiwUHBj8HNyrfBIVKxwZHoscGQSrbBkd20wRmmssGVxrPBSrDGwap6ysEsmMjBNqOwwWNHuMG3HbLBvQqgwTDLn8HYGpvBLH+HwU9Pp8G50IvBIm6WwV1eoMFJ/ZLBtw3DwUXWlsE4OqPBLfe3wYqkrsEe4bnBmnutwSVQlcGhr8XBN82owfpDjsHe2LrB+Y6mwc6LusHP56HBvI2WwQ==",
          "dtype": "f4"
         },
         "xaxis": "x",
         "y": {
          "bdata": "8N+TwcQTk8HyP2rBsjigwcgZg8EN5H7Bd4RgwQ9zbMGgtF3B/z5lwZj2dsFF+U/BN/liwXX3eMGjRnnBlTxTwW/6iMFxyoXBAlZ9wXQnYcFG3mXBNTxlwV1SccFizFHBgcN/wYhFZ8HhUpXB0915wW81i8EGopfB6bSfwfeDg8Fx6ofBK8+Jwbiqg8HSVZPBWX6NwTVwacEPcm3BWP1qwRUpfsHQImrB5GuDwaXrlsEw2XnBH/JkwWJUisEJ14XBnUSSwUEiWMH2oljBelKFwdh3h8Flf4nB3UKYwdhBiMH8wYXB4DuDwU/mgsFLC5TBydlXweEojsFok4jBJ/CnwZlqiMGwVpDBevijwTkpjMExtY3Brr15wTRFdsEGBpPBKp5owaRofcG1lojBytx9wYj3asEq9YHBKlqbwdM9jcF/FZnBaGeJwZ/tisFlXJDBQLOUwWTFncGCa4LBzCh+wciblMFzd5TBonaZwWlhicG3OYjBbuKAwY0ykMH9WpDBtPWNwfkrnMEvGG7Bz1iRwQ/Sj8FdwZDBCX92wT9CUMHuXYTBJThdwVmJRMGn5j/BUiSHweiqiMFMkIPBqBiDwbhDkcH1kIDBk/OFwTlelsEy0ZjBxCyiwYdcosE6e6XBVlSjwUCbn8G6h6PBdCakwTGIn8FCcVHBZeOnwbV5TsG3p3XBVl9wwXRCfcHN/m3B8651wTx2dMHVHJvBHmGOwXLHksH2vmzBNhZxweV5ccF5FIvBV+NtwSBpiMEp8WvBTGFyweTggMETxoDBimZ8wR3mgsFQHXrBvJ2FwfUmasFl9I3BrUt3wQ9SacHfu37BvohcwckQgMEycVvB12ufwdnoUsEZRVrB81SHwf4ybcHrvInBuC11wakWaMEkVmHBA12Nwcj0h8F6BpnBPK+Rwb5ThME+pXHBbeCRwbDwZcEYK07BHtGHwQ==",
          "dtype": "f4"
         },
         "yaxis": "y"
        },
        {
         "hovertemplate": "label=1<br>TSNE1=%{x}<br>TSNE2=%{y}<extra></extra>",
         "legendgroup": "1",
         "marker": {
          "color": "#EF553B",
          "symbol": "circle"
         },
         "mode": "markers",
         "name": "1",
         "showlegend": true,
         "type": "scattergl",
         "x": {
          "bdata": "h+2BQFYDBz0lt66+7Z7YPmz2yz54H0Q9KXEPPznXTz7lG5M/IGjrPj7jRECQTeZAZlSwO2A68r9Brge/bl1mvxCxpb9O6qu/jV89vwEEVz5So4K/2A6QPvJVdr82yAa/IE6yPd+bXr9/XqtAmOWfP3zNBEAi189ATm9dQCYTRz74pL9ANcgmQOFw7z91zJpAdGbLQEc2rEBoI/lAVZb+v/vBWTwNTRS/758IvyHjXbxfio1BDIshv4m75T7n9DM/qeJTPoHEyr6sMlm+t/M4vyoFgkEXVopBxvCKQU5lGsGOuhzBXx2KQfopGsFhBR3B8SodwU+JIsHG3xfBqktlQAtVfEE9L5ZADw3MQA3v1kAxDThAo6w8QFGxjEBrVIhA5omFQECECUE6IAJBmUunQAzzbkB+5nFAyrC/QF3pn0DCBJxAJG59QCkAuEBSE5FBNheIQEIb5EBOWrJAIc/GQCdhvkC5q7JAHgpmQOE0jkHCVo1BxgOTQarFfUFsyoRBraWGQefGgEF5eYNBToGNQZqzhEEWo4RBCjOBQRAIiUFUg25AH46QQEALvEDvZKpAPzLEQAPY+0BYqMBAhUvZQBtOsEBIv6lAnTGhQCTO40CWTtBAwp5RPwnEzz6tBhxAPvqkQMPx2T8gTNVA4fDYQI2pu0DEaxBAbR/OQPtyy0AfowNBBUSxwG3k7L9RcQ9AIXCTv3xN1UCJB71A0y0Ev1m3sED2vwI/wW2mQGoww0B5pcdAL3/YQPGF40CE/ea/d7QNwGgvmL/TbwnASekVwK2IKsAcPyzAf/hAwBK8A8DFGaC/2jgPwOIRI8BYxzTAYQTaQCgw9UBargRBapzDQE1Z3kBNfABBt4HSQI5u2kBs9NZAN33FQDOKwUDFy79AhXK9QED6PUC9L21AzhTLQED6VUAz35lAmjLNQLxis0AGvYNAZ/1aQPj5nkDBg6NAnbKEQLvUikA=",
          "dtype": "f4"
         },
         "xaxis": "x",
         "y": {
          "bdata": "0GjLwFluKcF8pRvBoxIowRoJE8GDkhzBdK0MwYFrG8FG6RfB0WMowVrg6sBwtYDAF4czwbYkMMG4gzfBKaM6wU9WLcHKSDjBqWQgwTHpMsGnPi/B9RU8wTVDPMG9ZSPBjkMwwZIwMME3hGXAXegnwTillcBjriTAEeudwEhAOcHM6WrAohekwFlhIsEJ64rAa9CQwNugqsAQvhDAh7MXwfHz+cBhDAzB4JYWwbY/AMG+4KdBUBAXwZWdAMHgyQLBpbMgwTKiA8EWVQDBi48OwYyWpEGDVKVBcxipQeGraUAVOFBA1limQbPXZkArtk5A0ANQQPsFO0DPnWJAXe7nv4NLpEGg4GPAZA0awJ62KsDkMVzAu5tXwOJ0ncCAeU7A/86kwI6fEsBGMOW/K6kewGsAWcArJV7A/wykwOKwtsCm0JvA8Ae7vwjuCcD+l6RBi54vwFc7BcD6IjfADg16wP2McMCb0YnAT8N7wIxLpUGwwaRB+YSmQbl4o0HugKRBVEOlQfAvpEEQiqNB/iqlQZ2wo0FMBqhBXcGkQTPwpEHhXBvAR+QtwF4Vk8DCPd+/UlqCwEc9L8C/6ZvAj99LwFxwm8A6asi/xJ2EwKGMeMD/K23A7AkFwbKKD8EtP9bA4DNYwOEK7cCBxrPASKZNwGJTlsCeRdrA8spnwP5IXsBozFPAvU2WwDiaBcG6l9/A1BY+wUThq8Cz4q7AmKsQwdGAnsByNgvB7Rq+wPUptcC33qbAIFCJwLIYk8BXngnBUO0Twal3GcHisyfB2tIowYydFME45xbBE1obwVTPCcGR0xrBBJQgwTx0JcFZChXB+v+owO6RYcDq1lbApDy+wNdzm8AQbIbAxOmXwGDQosBrusHA5o7DwMqOpMDfgbvA2Fu/wG0S878uMzzA/AYYwI/f+r9wqz/AroDhvztn3r9aM8K/VLGPwN1eA8ASry7AO3Ddvzr07L8=",
          "dtype": "f4"
         },
         "yaxis": "y"
        },
        {
         "hovertemplate": "label=2<br>TSNE1=%{x}<br>TSNE2=%{y}<extra></extra>",
         "legendgroup": "2",
         "marker": {
          "color": "#00cc96",
          "symbol": "circle"
         },
         "mode": "markers",
         "name": "2",
         "showlegend": true,
         "type": "scattergl",
         "x": {
          "bdata": "dtaRv04mi0EgOIZBVPi9v1s2rL89f6q/briVv8l3rL/rf7W/5pmTQQKsYEEP1L6/4GzNv2glkkHLyW5BJeFfQbpUeEEs23ZBTUWfQfDVjUGRsVhBtBFvQetoekEF/aFBRvaXQSaWckE27IRB8RKGQRfAiEGolZFBXbR0QQgjgkGaYY5BH+aDQYG4jEFLhnVBf+iCQWBkjUGqj5RBKuWKQYE/kEG3d5NBVYWLQbPljUECyI9BxbuOQeO1jkG6i49BobKYQdLsk0EsxJRBLwcJwRnWdUE6zHxBQFCRQRgx8EAyho1B89x6QdIvjUERb4hBHpSEQTNTkkGcOotBkkaGQeMeiEFEqm1B/e5aQf9ZZ0EyYFNBxB5YQWd2sEBefK9A1CJTQYuwWUHE1YtBEwdjQVQgX0EANWhBe9qLQR03mUF0XZVBnNtzQeFfm0EropBBC4yaQXcVmkEG3pxBxYxVQVo+m0H3VC1Bw6dnQfkKikGnkqBB0ieOQaERlEFAW4NBFZ2CQY2ugEEPU4NBXH6eQSZYhkGtin1Bph2bQe94kEFWfHtBO6N8QRnscUGZ+3pBo7aQQbJxZ0HFcYZB1kKZQbVrgEGLhYBBA3eTQTKCgEE9YWxBr7pxQZG9Z0ES/5JB7SqGQTJQiUE1qVxBc4N5QQ8zkUELyI1BtkrAQP8Ma0Fkw35BMtFgQQekZEEzJGBBz6V6QRTXakHFDYtBE2NXQXXHfkFdl2pBOYd4QVHOd0Hq15VBfFOhQR71n0FoBqNBTzGWQdcrpEHbmJ5BouedQVBkoEHzGaJBWBSaQS72akFanZ1BD5qEQYCukkELhpFBgYnSwEa7kUFhOl1BGi5/QRReCcGKgZFBHXCdQWcbYUH7lI9B+oJlQQk7ZEF4tp9BYCijQUTKoEGiEKNBqm2qQalDgkHDmmJBbqCjQVjblEH13ZlB",
          "dtype": "f4"
         },
         "xaxis": "x",
         "y": {
          "bdata": "e1U+wI0Zf0GC1mhB84IlwAQ2X8DiX2jA+aRLwOCGdMBtWoPAAZ4qQTklAUG9LSvAwDQawI2aIkHgkhFBsapQQe06P0GLsS9BjcFSQR1zT0ErylBBeSI6QSyqNkFO8kpBYTwdQTfhQUGuvkpBGQJIQV0hJkFvEBdBcGA2QcdxRUHHhy9BIeM+QcM1HEE+4C9BAB5GQTM7GEGW7C9B9ldtQeHAgEFu71pBRJqKQRdMX0F/OWFBNix3QdKnb0EUT1RBXaJVQSdPSkHn8VRBoxKxwXmBjEEaZFhBGgGPQb/JskH9fZJBeoeEQb/1kUFQZpJBW71OQXPfm0HN55RBI9hFQeS5lkHI5iNB6O0yQZlCM0Fgw0JB2rw2QYaf50CAOOtAWlQ9QUJCM0FjfQ1BbzUsQTu8LUFuKyxBhJonQaTBJ0EX7wpB/D43QaygDEHLFg5BHvdEQef5AUFPBBRBvKpdQdzpAUEBlSzBmkoiQaTZL0H6DhxB9Ng8QdzQOkHLNJNBGN+CQe0RhUHyD5NB/3YnQVXXbEG7JotBn9wzQeopPkGRxHBB8A2KQTu5h0EMyIRB4JmBQQJ3iEGH7YJBr6VAQWnKdUGsppZB7vMsQTK0gEGpliVBmd5SQaecL0HzoxJBxXA8QV85MkGY0V9BOEclQdGBDUGxshFBCpq2QdtghUEtzJtBjV98QbGeiUFs6IxBFvmZQWgejUFfrl1BIJaMQUJkjkGv4YxBB5KHQYnmjkFBa09B22o6QaMaK0FRSC5Bz/RPQSI+KEEJgT1BvMQ2QSB7MkGtmxpBXoc0QWVtWEHRDT9BISxzQQSMg0ER5oNB0HxuQBxsPEHpYo1BumAdQRbJXkBRhy1BheF1Qb+9fEHKLk5BX/ENQaKTC0ENz1NBFQ0iQf+WGUFm9EFBfHchQYTiJEEkmkJBk7gqQaQJU0E+ml9B",
          "dtype": "f4"
         },
         "yaxis": "y"
        },
        {
         "hovertemplate": "label=3<br>TSNE1=%{x}<br>TSNE2=%{y}<extra></extra>",
         "legendgroup": "3",
         "marker": {
          "color": "#ab63fa",
          "symbol": "circle"
         },
         "mode": "markers",
         "name": "3",
         "showlegend": true,
         "type": "scattergl",
         "x": {
          "bdata": "4MXGQAEqB0FWB/NAiz/RQF3i4EBpUN1AEvHmQL+fEEGUuA1BuCPtQKp7IEEcGBBB4HsqQY6DGUEtJhxB+0sVQSVx8kCJEhdBlX4PQXjs+EAcVQFBWjYQQRMbAEHjTgVBAl0RQQjsJUHY8clAXp6gQMccokCspJpAy631QPEJp0D8rqNAL6G2QJDHoUAM2blAEpH/QP++AkGyL5JAA2bUQDOxnkBAQNFAoLqvwAVbv0Df9MVA1YrtP5o0D0CGEOI/bA3KQPOzz0BORuxAnsjuQOxe00D6BZ0/YMgBQPrSDUD2F8k/kGRIP3yzlEABqsI/Qr/GP2YXkkEtJ80/jenvP1+j8z/lNOs/gTduQOmXM0Bp/I9ASdZpQEtdUUC0oIVAiTtRQFZPs0DAEWBAoVpUQIYh7EAWauhAS/2zQHrLA0FRJ9dAgL7kQKjZ90BiAwJB5REGQRr60EC1wdpAZTS6QGZnAEHFP8tA9NLnQJR2s0ADYkxAk4GqQNXxwEDgxL1AD/6YQJMPrkC2Ksw/7IaEQF32xMA2glJA/SKywNaFs0C0copAEdlgQISiOkADn3ZAWZN8QLud6UBfwI1AZzF+QOdpaECME2JA7V1eQPvXIUF650NAW4VyQMrDjEAiupZAs0I3QPksKkHNhSdA/yfWQDUw4EAZBBFBU0EcQVXj1UATV6pAZmqlQC4IJEG8RhxBjyaOQPQHpUBvp09Atx+9QJSuWECGty5AdhkbQOyyoUD6gNJAHSebQEfOQECI9IZAeqnQQIsguUAHCvZAAL7KQNbQ00ArEI9AR1S5QHHuo0BoT7pA3ui3QCpO20AiZmNA2lLJQA+lyUD2LbVAW9LJQP7dH0EUARlBlXcmQdQDE0GWawJBM4bOQM3BzkCem5RAMCDDQP/QwUBqNw1BI6YJQX6tHUE4SylBst75QKW2/EAmcSPBEDkEQe+z9kBRrdpA6NG0QDd7GUHYuQFB",
          "dtype": "f4"
         },
         "xaxis": "x",
         "y": {
          "bdata": "f4R3QRfkP0G6uB5BYCJWQcl5OkGwB0xB5gI/QSNCN0Fm6zJBVws1QQh8MEHFWjRBj8EMQTjfKEGjB0JBVE4pQcFiO0F1PkRBONY9QT2dIUE88UVBofUzQUa0MkHQtDpB+VgoQc51McEWJXlBhl5TQbQKbUHuAVRBsgKAQUe6RUFmM3RBdf5nQXCpV0GQ1kxBwl5yQSH1c0FB+WtBskZKQRG/O0FW1YZB1L7OQA8Yj0GVDJVBh+xTQbgXR0Ey+1hB5c6FQTHPg0Gi6olByDaEQYzsjUHPoJJBkKOTQRTHmUHhY5JB0E2ZQZM0GEGw5JxBvGWWQU/FkkHyVJZBsVqZQSobkkFP75JByURMQSFDUEFCN1JB7MUZQWrOTUE8KVdBgbpdQQO3VEFPe1BBKuRaQREndkFX33ZBoI1bQU2Rd0EDF2dBpDtnQbWOW0HYslxByv1bQfuYEEGgkBhBGotTQcWJakErlFZBvIJiQQ9WMUEgNIhB1N+QQdUSgkH8z5ZB+RiJQTmnkkH5p4ZB7kOQQXq0xkCNxIhBUk7OQMjuk0FCa5BBvzFxQbwQf0GDzGZBkKZbQd4ps0GgyUdBWKZ7QTuEaUHUf3JB/RJxQQtqM8GO4XJB/LhrQbYleUEYDUxB+kJyQZ4R6UCOC29BoINEQUKGI0HpVUlBj0cyQZ/5MkGYsLRBlixjQXUMMkHhLE9B11lDQW9UhUFvjoBBR+oxQR7iRUE0t2JB3rB9QYlbZ0F0EkFBgm19QdbuUkG6L3RBWch4QRefgUFSE3JBzhFfQQj1gUHAsoNBYGOEQX07gUH9VnNBG99kQShQX0Eh+oBBPdRrQaCTLUE0vR5BJ0FAQfejCUEXnf9AGIgFQcb++UCSLSRAAjE7QfTLMEFHOitBQiwyQeVBN0E+53lBZFwFQdj3dkFUxuNAnGz/QHec9kCFAfZAHR8BQSdlCEEZdyVBNptiQfc5eUEFNk1B",
          "dtype": "f4"
         },
         "yaxis": "y"
        },
        {
         "hovertemplate": "label=4<br>TSNE1=%{x}<br>TSNE2=%{y}<extra></extra>",
         "legendgroup": "4",
         "marker": {
          "color": "#FFA15A",
          "symbol": "circle"
         },
         "mode": "markers",
         "name": "4",
         "showlegend": true,
         "type": "scattergl",
         "x": {
          "bdata": "7ESbwKak/b9t6lTAg3QXwPXrXMCOmIO/rcqtwLyEbsDmZYbAJKmiv9wSvL+t71e/mm0VwDCgpr9pFee/LA0owHOU7r/+VXXAx+GbwH5PB8BnUxXAWFOcwCYENMAvQUDA4SXwv1Sh0b+zYQrA1zYcwCGHS8CHriTAjKNswNi0BcBbcn3Ab2pDPvaYwsAUnyrAqAc+wE9UEcBs+pHAg6uzwHIdZMAZtznARoh6wO2KZcBDZkfA0UyDwJ0gRcDRKzPA89VqwI1CUcDW/ZbAAk6RwIONXMBwXLjAiJaIwIJRVsAt/WfA8iqawC3am8BbQJfA0QPhwIaObMDn1JnACTKHwLLSKMA5XUTAmW8ZwFuB+7+JlY+/CT49wDumOcCr6IvAkGxPQRYDBMH9NKtADRncwHA7EUEFSsvAL32ZwGXtF8FpgKHAmaWawN91q8Axh6nAhggewfnI5sAKr7DAsgKTwHhXEMHUYw/BCbqQwDVRHMGNMZ+/AwmBPwcXXr9aRZS/2+gewbD7L0A7BpI/RwAhwMs7/j/UGABBqjkTQK+hCUCrjaFAjCc6vQMrn0Ak4EU/UWFbQE8Hbj469QE+gDnAv9tHQ8DsfbU/M5nivxbe0L5k5gzAVMWiwKDFcMDpB5DAgBvGwNXwCMDd02XAfbdNwBh8msBZBLfAX56RP3VVgcC838S/vCjkwAnq7cDn6vPAywzYwJUu2sCCmMrAyWjTwCXt4cBLNDfAWCKywKYIqsActY7AgKXQwBT1msC/XK3APCGTwG9Ed8CTrrHA2KOMwACxp8BX2JjAmzaMwCV4pcDIF03ApgGjwJn9jcA2N/m//YrmvwzaG8DFX0LAuFYSwPS4REGSNERBwOlewFeKEsBrHhDAWDoqwC8NRUEj+zTAmb+zwJe/dcBCIWjALEnkQNpv1z+alA3Bd40NwXNAw8CBm0rA436XwBF3DsGCOajAcEeTwA==",
          "dtype": "f4"
         },
         "xaxis": "x",
         "y": {
          "bdata": "8JyCwQDDmcEvM2PBEIyewSYYkcH2CarBwE+ZwFJdgcFBf3/BD1i1wZ7SqsHe8a3Bi0egwauPhcECGIDBO1d9wbVkdcEabXPBgFplwTf6fMGjT3zBrMdlwdq8dcHzL3DBSC2AwQvLrMEZ/6fB7iGywS0MoMG0HKrBLN20weStqcFLOp/BWgiowfgVmsEFdKHBCnutwSVXncHziG7BJUWuwfzZfMHgDILBSk6IwVKkd8HoNGPBf/KHwUPKgcHGRmnBPX14warSasHdTGrBTV+4wfskvcEg86zBplewwfJXrMFa/rvBxIu4wa3PssE0xLXBPxKvwfscp8FMD7zBGuq6weTDgcHXSYXBLjpiwU9Fh8E5a5vB7V1/we/zhMFcA7nBBV8RwV2er8G8bZ7Byv6owSTXT8FlM6bBcR+dwdGhm8HKm5fBZiiiwbZ3psEMQZHB4CmewTmLj8F+NqbB/muVwWQJmsFGjpjBLNiRweBCnME5UJDBbJyfwZ1bj8FCHZDBt3yjwX5smsH2uZbBO7iSwY5xnMHgRZDBMn2dwU94ncE7yp7BVfuhwWvTnsGifaPBXkiOwTcLpMFaMqbBK2elwf53mMGKVqDBRPCiwSMnqMFfV6PBcJ+PwflvscH43Y/BdcuQwZm9msEsrJLB5YiZwU3znMHJUpTB0SqdwdI5k8Gci7bB5YCLwURGisEe1YjBp7+MwaFiisESlpfBNIuYweUjisFag53BokKLwUYzjcGseY3Bu7aYwR/DucGRNqvBQ0CvwYTHmMH+U67BU5qmwao0o8Ee8K/BsEyuwdLPp8GeKLjBG0qswYmgnMFGzq3BKhOswY6SuMFQSarBL7y3wZj6+L/RE/y/lKyqwafYrMGVg6nBDGy7wT8S6r9daqrBS/p3wSbxnsGtKJfBWZOIweDvmsHdi5TBCaGUwTr3k8FxmozBbiuEwaHHlsFmV4/BNuKVwQ==",
          "dtype": "f4"
         },
         "yaxis": "y"
        },
        {
         "hovertemplate": "label=5<br>TSNE1=%{x}<br>TSNE2=%{y}<extra></extra>",
         "legendgroup": "5",
         "marker": {
          "color": "#19d3f3",
          "symbol": "circle"
         },
         "mode": "markers",
         "name": "5",
         "showlegend": true,
         "type": "scattergl",
         "x": {
          "bdata": "9LZcPwzBhUGKu1zBB4MswV/OhkHcAx/B+/EewZxWLMEOSwXBPmFOwYa1UsFkm4BBF9QIwd3ghkFA5oFBCAyMQS2AgkGop5BBeyWAQZYsh0EjHoNBgh6LQeiXfkGFu1TBWxeIQUejhkEG5w3BN0I5wf0XIcFJZRjBVZguwZzSs8A4dRrB3oCmQG7IG8EE5A/BHeU1wQG0HcHna4JByLYYwVrCLMFCfijBcXAQwXffK8HN/P/AP9GmQD/kBsG6yyrBzRoZwV3zI8GmW0rBHUWmQDNfE8HRnPDAm28AwTzrHcHdl+PAFPftwCt4AsFxixLB9avnwDyN3cBymRXBfvUTwS6T8MDmnjjBmz1fwfpvYMHlKEbByiNWwXY2XsHxbFLBrvRKwfgNS8FtCDXBivdEwaqRY8E3ao5BNH9yQbjpfUHTkoNBDl02wWcGUMH4FT7B6ElHwTMdOsHQIUnBTugmwS4Jg0EKWDHBpf6AQR/9FcGMZ9XAxxuOwINutsCF7QnBPle8wCXOt8DskwXBgNLVwPOWFcHiQr3A0wW0wPP98cAioEvBjvM5wZ25G8GX8UfBjoNuweVGScHlRTPBt7ZQwaJ1TsEAek3B3DVNwXgfWcEAEFLBUWE6wdsvNMFOSIpBZU80weZ/JcE7E3tB77lGwcFtXcEb/TnBywOPQa9RdEHd/45BqZSNQVkTBsEminNBjGBGwUIvOMGM0EfBfD0rwQk5O8Fon0DBd7eFwa82XMERElDBxyU/wdooJ8G1ZgLB6BcBwYcmscAkbv7ABA33wGpyA8F10eHAX2IBwV3zLcFhEeTAwhidwBh1BsGRFyXBz7JfwYpMZsFqoGDBnrFvwfPKkkE4Ol/BxqeNQXlBYcEbB1nBljJwwfrfP8F3ZGnBTfJrwbtfGME90CTBp94kwcKaQMHQTCTB+vEqwdhRIcFtARTBmcojwT40DsGLMiLBY58mwTsLE8E=",
          "dtype": "f4"
         },
         "xaxis": "x",
         "y": {
          "bdata": "h8BWQaKYjkBVvH9BVNF+QSgMoUBFzp1BmUCgQclofEEG9plBBx5qQceufUFKqWRA8XubQeyba0DFKpNAdFgcQPOPi0CvFoBA35lAQJ+PkUBdimNAxXFGQEhYUkAwbpNBwvNbQH4Ad0CKkW5BOzWZQULeaUF8IWxB4ZpQQQCXW0Fnsm9B7gy2QZYHaUGpdVFBvk50QQjwVUEw5WJAtQ2JQeiEi0E2bopBrZWGQRy8hkFZzoxBX/okwbDnM0HMP4ZB/QKTQVK5kEETcopBCuciwVONOEFSb1pBpvlmQXhLfkHTm1ZBLX9OQXn9YUHXOGNBrFxGQcklXUGWk2FBXq0tQXDQb0E85TJBXV18QZgxgUEkhSVBpv+JQQQgg0HMv4lBtuA7QaCyN0EEPkxB63GPQYHwiEF/PhBAz/2AQKq/HUDokDlAbUGcQeofjkErwpRBKsKQQUDonUEMb5pBeJqUQc1iNkCypJBBEkguQKGAZUFZjmtBasB6QXoPakFti2RB2BB6QSZIgUH93WhBMtBoQdYafkGjbm5BjIhuQc7UekGdsIZBw4iFQUMCVUG8y3tB+yGGQeGefkENLnRB7a9JQb6dhkHam25BhXFIQWAyiEGPUUtB8wdMQYVySkFFvmFA4rJiQa0bkkH+SYFA9Vo6QWf/hEEDRldB9KCHQKBFJkDiMRJALBuRQBtIUEGJt7RA8bFRQRd7bkF2/FxB/LR4Qd3cYkFDVkhBGkSWwP5GY0GvS21Bsf47Qd7AeEEwZWlBEE1WQaVSW0FxoFhBH7Z2QeGtVEHX3mFBfcZOQb1jV0GcymFBLgZ2QaD+WEHLcmhB26+MQQDSi0FcdIlBUQiTQWbcikDnXY5BC1tIQBAEjkEIQ2JBRiCOQbQcn0FsPopBxyqLQcvWQkH21j9Bfgc0QWXgYEFEl1lBVnF1QbchPEEnH0BBZ3kzQYTNSkFqxUJBsak2Qc1wRkE=",
          "dtype": "f4"
         },
         "yaxis": "y"
        },
        {
         "hovertemplate": "label=6<br>TSNE1=%{x}<br>TSNE2=%{y}<extra></extra>",
         "legendgroup": "6",
         "marker": {
          "color": "#FF6692",
          "symbol": "circle"
         },
         "mode": "markers",
         "name": "6",
         "showlegend": true,
         "type": "scattergl",
         "x": {
          "bdata": "9kFowUKIgcGlQnHBvo9vwQq/e8GUnYTB/oyVwcXFncEZ/23BRyZxwWcf1T97NGvBGaVHwcROmMGFXnnBPG+AwQKsnMGLs5LBeKZ0wd3vkMHdU5TBAG2ZwUEle8GMb4fBJD+ewaSCm8GwhpPBrpyewXeqh8EwzafBruKYwUBwk8HEC5PBnQ2CwQcaosFR5IjBZ32XwVTAksGk5WDBpx9VwUvJYsGH8E/BfSGHwU4TZcHGZl7BzIpowXkqfMHAZmvBTiJXwWbYacEBtL8/OKuAwd2HisHcXYnB1r6AwUvpdcGC4IHB/dmAwcs7iMHYbIHBF+d0wdV2gMFn04HBCRh5wXDjm8EXap7B8yGfwcNzmsGg55/BP7mgwYdemMEnhajBHD+fwa2glsEeCaHBr8SMwStsisHKAaTBWMqmwVpNX8FGYqjBCnpvwbqGbcEIV6rBhOGkwfWwk8Fk913Bg9KKwfMiW8E8JprBC8mdwRScocErw6PBVsqSwXTDnsHth4/ByaqZwVOFmcH2I5zBXIuJwQPEjsHvXJzBeHGcwXjApME/U6XB2cuSwW3ef8G/hnzBtGmZwf+ah8EjkZPBQriVwYLTlsFYAJXBaF1uwRIYmcEen6bB+mmDwf7DjcHYwJLBrGiLwa/PicEeDIDBV1uBwdLch8GvsofBi9CMwf30gMFEnZDBX/KOwZjxiMGdmJDBjgeQwWteasFtf2XBMihjwVuFdMGF13jBkKmQwdPte8GK9m/Btz+MwdvSncE3wqPBpqqkwVrIjcGrAabBZsKewRUKpME2N5TBjoGgwV1qm8HvFpDBs4CRwdJaicHY8mTBEbJhwelPR8FnV3XBZJhtwVUZeMHZjlXB6ElzwUbibcFx6mrBerWGwStrTMGVz1XBjL2Qwbvvk8EfLY7BReeSwXDLjMF5F4zBGkeUwRzRmsG+QH3B3URzwXmphMFOUGDB0ySTwQ==",
          "dtype": "f4"
         },
         "xaxis": "x",
         "y": {
          "bdata": "VPoewKvZqz8riUnANYJgvrJvOsBdYIG/3W4UQDlni8DRVB7Al0vNv4CSRsAmM4fALkXtvxuOMsCvjrm9fx24vy2zasCGvmXAq4rMv8UlWsDgHUvAlkOJwDjg9L4iUQrArsm9v1WwAcCCeKS/9MZswLg7IL9iqb2/7co3v+/IUL9Hqcw/KEnpvG8cyr+Luxa/WBnjv3fqoL7JHE7AKypXwJn0kL8A9U7A0mbev2mtfL/ReU7AYjpCv8ruEcCExhO+RZmuvkE6mr9A2QrAMFwmwIH1HMDlLTDAWiaFwEzUn8COXJnA5exKwKk/iMCWGJnA4ryewOo2MMAfzTTASyyTwBfWzj0+WwO/xbBCv9hfZMBtc4LAwyESwLWDqT5xqz3AKEcuv1jvGkDsTb6/Q4mhP/Zukz+/Xb3AMDnQwLh2Ob8lIW7A4q+9v3q6vL+NPmfAC47KwDJwT8B/mHK8ygHDv85cjb+X7znAnMU/wLjDXcDCriHAGjjgv3L5UcC8tNy/SOCuv4xaHMDW3BDAuZ8XP0YsN7822Pq/igDjv211qr+o4BLAZuYDv1SczT5lwwXAIiGKPyhuZT++o0xAPhwoQPMREUC2LFs/9NpkwK7NV78lXgXAuOh2wNfYcj8yPFVAjopqQBrR+j5ETZ+/uwfDv8Y/AL3kcFk/3AH3PwfTxr/KoHlAz2COQCguFkBr6ZlAXSOVQMGjJb+DqQW/Y5s/PbRmKb+R60g/wuSZQMdqhj8d6OM/YD2BQI9EEMAv+hTArc0XwJKUCMDWCNy/IW/pv4WJV8CB/gHAzrgswKtVob+q+LG/jKq7v0iO+b6zqfA/3JUUP82o27+XIB2+hfVvP1qqWD7zTrK//2cmP6qRhT8tB9g+G9n6P/trwb+fWxnABRaJwM1tJ8AQEIHADtF1wFBKRMBHdqXAKE9YwKGFjcC6KGrAqS8UwBAdXMBFrgXACXMiwA==",
          "dtype": "f4"
         },
         "yaxis": "y"
        },
        {
         "hovertemplate": "label=7<br>TSNE1=%{x}<br>TSNE2=%{y}<extra></extra>",
         "legendgroup": "7",
         "marker": {
          "color": "#B6E880",
          "symbol": "circle"
         },
         "mode": "markers",
         "name": "7",
         "showlegend": true,
         "type": "scattergl",
         "x": {
          "bdata": "yA5JQQ3HfEFcVipB+YFcQaCpYEHegERBE616QSula0E6dDFBWFuAQX26Z0ETJnhBxp1uQREvhEFKIohBMCqTQWzDQkGAYVdBy36EQfR+lUFiVHVBzsOTQT23TkH+LoVB/SOSQfKxJkGs5XtBmZsfQdS1gUF+H09BHDtAQQa4FEHo73hBtKCAQdJnikE8MpRB8WV+QWnrUEHZ7w5BGJgTQRjkEUF/Xw1BJOUnQdd8D0GFMAxBkwsHQYEdMkG+gOhAQm4RQbGsE0H/YjBBaJJ2QfeyY0FGnTtBhRVtQYN/XEGe23JB2eo2QReAckGlK2RBZeWAQRwkcUED4oRBmMVZQTVaYkEmZTBByzcBQeZNyUALWNFAmDNAQZqEPUG7ijdBVFMAQQjiMkEjizFBfLIsQdl+bUHMNXNB6BuAQRJChEFjEo1Bh7RqQYpmk0FJO4JB/yeEQRt/TEG7B41BefuIQZsrgkEcMX5B/91XQUeAeUG11FtBXxNzQanARUFLFXVBEsFfQStEakH86mBBLz8oQTG2bUEV72hBeTF5QZx6akEEzoJB3CVxQTUFhEEeQHpBEm1NQbzCakGcDlBBmf2BQe3MO0HCvIdBmj0+QUb5bkHStVlB7mA0QQfBe0GM9WpBmrtvQRT6ZUGeKHxBBt+BQavle0GGo3NB+xxBQba/QEFT9IhBBqBnQXoVbEHVj2VBraF0Qc+Rd0Hc83dBn3NxQfrpjUEIQW5BLr6NQbGASUGs1mlBEk9SQblvRUF+sk9Bw8FkQcMqcEHyRyJBTiNUQRiIYEGE0mxBWJphQa8ZUkG+lktBWjVRQcYQh0F/9XhBKeGEQdlti0FdII9B0sqMQc2WgkF+0pFB3g6KQbbOd0HxeIZBl76XQUURZEGiZlNBrLViQUv3YEEp9jtBRwaKQSdfC0FDi5VBO/WSQZlDbkFoqXtBC+dTQd9QiUE=",
          "dtype": "f4"
         },
         "xaxis": "x",
         "y": {
          "bdata": "9h4jwcM+S8Eqb03BJOU+weoyEcFzn0/BIrBHwYHZI8GfYE3BUQRHwT9fQcFFVjfBSOk8wXyPOcH3/jvByWUnwfvNUMEwbl3B3ngtwdmLDcEz4tTAyCEbwUB4N8F5OxfBYakhwT3Pi8FXYSDBqo+MwdnnH8FAcmDBz8ZHwUQgj8EsZ1PBlfpKwYiKKMFgwi7BvNRIwfHLUsHDHIPBNViHwVBwjME0VYTBwSyHwVlWg8ECKJDBj1qJwaTwesFEgTLBf4COwUF4hMEfY3vBbzDXwLa9FsHjOFLB6DFCwZOeH8FUUgDBy05gwYhDFMG1QRrBKmguwXsmJ8Gf2wLBlOIgwZXQJsF8E2XBNxuSwXi+jMEcoGbBpJRAwfpBRcG08UfBcFORwSh3RsEiyEjB4ldLwZuHIMH1RUvBwrolwayxKsGNkRbB3qpJwQIdGMGTezfBSUM9wUFyO8EWpSDBmrk3wUA9OsEWtxHBjwt2wXNGaMGVj27BgwFrwfFXdsFumGrBid10wcSDU8GhfXPBdgSLwXvPZ8GsCmXBhmdZweXoZ8FPhVzBLzt3we//U8HcxXjBzWmNwdvqAsF+xI3BXQJkwXrVisGUeSHB7eWLwSxyBsGG3TvBsiRYwXIr/8D/hw7BA6wawRLdBcHpwf7AvIQBwfkHGsGSm/TAfKY6wTVPLMGWQs7ApcM/weiTMMGBUlDBYCofwU4dMsGrfQXBjFUJwUCMFcGFhkrBqekKwR6BRMESJBvB9Q9mwe4gacGM6WvBfNJZwQW4WsEFIYLBUNBiwaUdTsHtn1TB8MZZwYZwa8F26WLBqslowX1BuMD1ztzAS94hwbww48DcU9vAQubpwEYuCsFtGgLBPTfCwEpbLMFL+hXBK6+WQNw0I8GnNkzBQsQZwbkgfsH2GkrBKi8xwR9tYMGghCrBpNQywaZGN8EmtAzB8fAzwW6jGcE=",
          "dtype": "f4"
         },
         "yaxis": "y"
        },
        {
         "hovertemplate": "label=8<br>TSNE1=%{x}<br>TSNE2=%{y}<extra></extra>",
         "legendgroup": "8",
         "marker": {
          "color": "#FF97FF",
          "symbol": "circle"
         },
         "mode": "markers",
         "name": "8",
         "showlegend": true,
         "type": "scattergl",
         "x": {
          "bdata": "A140QAdFAEHHmcRA8a4YQfJm6kBowLhAjU+/QMWND0G+oaJAr/nVQAnpWkDzWBFBE07uQNBph0B+eUtAPVbFQP9FiUCmZ+pAqAREQK2x80AzHYk/J9ObQMWmW0DErT9ATTCUPzzgmkBJst8/rFTFQAFNxEA5W7hAIE5ZQCeNmj/tHBJAKP+jQPE+c0D9JTRAuw5BQMg/w0BMw2Y/Ia7dQDq5k79fEAhAHo4NQEVeo73wouI/rpYmQJRSsT/rL39ASmd4QKfnyz+iPPs/iR9mvkAEE78gQSq/7macvpNXib/uJcC/4hSwv1u1hb8hVzW+3pnxvuYirb9Yzqe/6n7jvo5QPUBtdJpADzg7QNY+h0DUN3pACNKbQEjSxD9/dpVAFk+OQGLg7j/h8KxAyNQ+QNddoEA4EmDADx9MP7DnjkA/fQw/WNakvoIuJ792FRpAdbJNwD6xfr/5Em2/CdZuwEYkmL+KQ1zAM1dcQGk3RUDutWhAAP9GQGN6AkB5XDBAOoAMQEZ8oz79/WdAR6qEP7sHQ0BSetVAWyoIQcy0I0EGgBpBWRJiQJw9CkE58BhBi5QUQXa88EAz4z9BIHnzQLdZKEFo+yVBafipQHcHDkFKhAdBv84hQcSSGEHyoDVBUc8fQaEhAkHfzt9AxxMEQes3BUEBjvpAOqD6QApyrEAuNsBAvWPaQBACykBZg6RAZ2W8QMlEaEAY+/VAH0TkQAnYsUC/zrdAW+j5QGaaMD+Pqy8/sAxBP0WISj882UM/ypH0v2Ez6L1hbxe8FxQMv5WY7b4jdY08oBX+vlXQXT5ZSiFA+X4dQe7Zyz/ByZc/we67QOZY3z90/LU/QHTKQFWzxUBscPJAMxQZQaGt70CN6EJAqr8VQfAF6EBnRHZAfBbNQK+HCEFQfO9ABJSbQD0ZZUCgNghB",
          "dtype": "f4"
         },
         "xaxis": "x",
         "y": {
          "bdata": "j1U7QBSlmT8bP1U/BLCJPyoG+j+GZqI+4/8AQNrMJj+wfe8+CPsVv8UXDr+J9WS+3aU2wAL9B0DfpjpAHXgfv/sb4D+K4oq/xNvqP3iSFL9en7Y+Bcdtv7A1gj7/vfg9mxynPvcymj9P571AkrVjQBYfZUBSHalASYWNQJSDwUCXOMJADgN1QJiup0CdTAJBfLqSQGu6XEAYsnVAMxENQAYTo0DtiIVA3nmPQIPytECPUllACQ3GQHdB6EAJkkxAJr82QFm2bkA/XpNAArXbv/Tqj76fTKU+kJS3v/x5S74o1Ie9uOOUvtXAib7Jz66/OdDWv7qayL75Mai+5tuxv2KGsEBNCJ5A+zuvQI2VkkDMVptAlqSAQD5Q0EDUtyZAjCc8PjV/t0Aj+QdAFW2pQPPwTUCOYB1AQgkPwU4VHD9BrMxALmKuQBExl0DzB/Y/SiMeQCfFVECg4WRAoWaiQHT8SUCf6RFAO/bJQMZU4EA+Gd9ANpLQQAMjm0CVwehA+JSwQN5OwEDKS+hAvOHHQPvAxUBCWoBAg9RIQC6ppUBbraxAjn38Py2fQ0DT9KxAg6upQImWe0CPd7RA28G9QBzTmkBObKBAcQe1QUGjVz+mJZQ/zUtDQEI2zj9Up36+7sZEQPnw+z9CMrRBJ3HzPjuCCkA006E/dx3lP7603D8SvrZBNaKRPxxOQj9Sop09yanWPzE+gT+EnMA/rxS1P5qtjL7Ph/g/YEHQPzBgy0CnkL1ASBjTQKaqk0A9U41AWgHywNwLo0BTRpVA2TmJQMV/hUAWeIRAnnV4QPwHjEBXW8fAxQU1vzBmrr9AFDK+lkflP2TPDL4HUhm/7j8BvjZdKL6MNLJAxw16QAc6qkASRXNAdfhwQIS+Z0AfZwFA5JYwQII3lkFYkvQ9oBKBv0Shcj6imJZB",
          "dtype": "f4"
         },
         "yaxis": "y"
        },
        {
         "hovertemplate": "label=9<br>TSNE1=%{x}<br>TSNE2=%{y}<extra></extra>",
         "legendgroup": "9",
         "marker": {
          "color": "#FECB52",
          "symbol": "circle"
         },
         "mode": "markers",
         "name": "9",
         "showlegend": true,
         "type": "scattergl",
         "x": {
          "bdata": "4EcMP7j3Y79liku/o0RYvyZ2t79cRRzAlco9QRItRT/5e14/C+DIPlfpW75TycQ/wyVAwCU5X724Jq8+abG7PkQuPj9PLJu+pVaVveXc1T5R/Q2+m0Lzvu3lIz8Fh9i/VGlmv4vt/0BGnwhBlfiWvw8C3L6tWVy+cdKLwKnM/kAzOghBPygEQfuSBEGIIJNAf9B+QG/kAEEYmDDAvHEPv2GVLr8RdQnADlgkwNSCIcDbWizAInQkwNKSDsAaKy7AY3wjwNwwhMANshXAA1iYwINinMBmx2rAMpSsQIipTsDQgprAzm2ewCCmicDQQJXAu+aZwHjE47/5E4HA+Ld9v1oijEBv1mdADLluQPCwVkB8A0tA421kQAqaa0DyGLA/tio1QCRzeUAac5NA2lyJQEd1ikDutaa//DUTwNxgZb8IuD3A/biTPluxa8DxXmO/HFbGv8OKNsD2OiS/xtGDwNHkicClTDrAFW8CwIHSUMB5KjjAxMkTwAYI+b8OogbAXu3fvyWjE8CG69K/iqdpwGQjB8BrcGvAYthPwKKkMkDFRknAWo12wJfbyD5aMjbAc3S0PXcGVsCTV/dA5vohwCMTgj/Io/E/ZaEhwH5Oyz8iQfe/hrmPwT7X2r/nsGHAMh9HwOO1ecCbmoM8/XZSvwPkh8DQFF2/0IxOv81wdb/Ug2u+1sF0wIg5U8CzNm/AZK0BwGsTVb/rv5PAhj+5vnUJyr92JK+/gZJiwKwZbsDVLabAMd3tv+rdzb4JgQrAL3IcwBbESL/CyR/A+DYTwJ+3S8BAX4S/+Uw5wA2uHMCSu+k9niCyvoJNVkC8ha9AzosMQQVmpEBuU9ZAmipuwTcmlUD8erq+ydj+QBZ1MT/fM6JA09JvwWRf/0CUGUXAG9HMvzsmTL9Shc++IS2vvr3iML+jeg/A1UkUv5wC878zVr6/C4RpP2ADlb8aN4C/",
          "dtype": "f4"
         },
         "xaxis": "x",
         "y": {
          "bdata": "2qAqQSBijkGiqo1BRf+NQcCElUGXNFlBIJHIvz7nXkEOJEJBuNp0QYhVgkFYpSBBtIsHQbaeZkH1iFBBi7BcQYWaZEHLuG9BXx9uQT+oU0GryS9BuV0sQc1vWkG87yJBTt0BQY23JMFtcijB4AlUQSz2fkEQjBpBUDFXQWuuM8GEVijB5XsowdQHLsHLulLBSrlXwYjdK8HzZAxBalZwQWejckHMZyZBdYUqQb6YTUFr00lB/cErQcTfN0HMeClBllI4QZI7+EBlwDlBRV0pQbFJF0Gs6YBB5CCGQKF3B0E0iStB2BwQQe0cR0FYxytBzzwtQQ9AZEHAmhZBtll4QZ1Qf8HfTFnBnZlVwZpZWMGMpkrBkmNWwXtkV8HGkz7B1BZRwd4yYcGmhG3BoKx+wS+0VcEE829BlpLoQI2HgEGQmAZB+KCXQQsrEUEPAn1B9oIzQUhTBUEYw3JBQl0BQd+OAEGLXA9BXD2GQTnqaEGNLnxBMulZQbqxbkEpBXNBBKeCQfkEg0FGMnZBDsltQdKNZEEMZ4RBs5RjQRDENUFBf45BKxCKQVVWE0Gj745Bb3wTQWKtjUFjF4VAGN2QQVa7NUGD8S5BSu2UQfjvI0H+IyJBDlmYQCJVH0FmZk1B+AZCQYzXT0GFGFdBQcYjQauJSEHHdC5B8EUrQY5hUkEDYRpBsoNmQTsBVkEp0UxBC+BLQSFVVEEvdzlBjr18QTQKTkEePl5BMfg/QY8JQUGARwxBd81WQYATR0H10WBB/dBaQT/4SEH5r19BS6V0QSoycUF6iUpBIQpvQWVASEG66DpBKOA+Qe8cUMHb31jBo4yRwc7kXsGt+zzBjk6UQd63T8GnLXtBrAUzwS4yckFC3SpBAhqUQWFbNsHiTl5BKgtDQXkVaUGEJ0tB7t88QXjUQ0HZh0JBQQtTQdaRO0G01TJBn+lJQdndPEFUCgJB",
          "dtype": "f4"
         },
         "yaxis": "y"
        }
       ],
       "layout": {
        "legend": {
         "title": {
          "text": "label"
         },
         "tracegroupgap": 0
        },
        "template": {
         "data": {
          "bar": [
           {
            "error_x": {
             "color": "#2a3f5f"
            },
            "error_y": {
             "color": "#2a3f5f"
            },
            "marker": {
             "line": {
              "color": "#E5ECF6",
              "width": 0.5
             },
             "pattern": {
              "fillmode": "overlay",
              "size": 10,
              "solidity": 0.2
             }
            },
            "type": "bar"
           }
          ],
          "barpolar": [
           {
            "marker": {
             "line": {
              "color": "#E5ECF6",
              "width": 0.5
             },
             "pattern": {
              "fillmode": "overlay",
              "size": 10,
              "solidity": 0.2
             }
            },
            "type": "barpolar"
           }
          ],
          "carpet": [
           {
            "aaxis": {
             "endlinecolor": "#2a3f5f",
             "gridcolor": "white",
             "linecolor": "white",
             "minorgridcolor": "white",
             "startlinecolor": "#2a3f5f"
            },
            "baxis": {
             "endlinecolor": "#2a3f5f",
             "gridcolor": "white",
             "linecolor": "white",
             "minorgridcolor": "white",
             "startlinecolor": "#2a3f5f"
            },
            "type": "carpet"
           }
          ],
          "choropleth": [
           {
            "colorbar": {
             "outlinewidth": 0,
             "ticks": ""
            },
            "type": "choropleth"
           }
          ],
          "contour": [
           {
            "colorbar": {
             "outlinewidth": 0,
             "ticks": ""
            },
            "colorscale": [
             [
              0,
              "#0d0887"
             ],
             [
              0.1111111111111111,
              "#46039f"
             ],
             [
              0.2222222222222222,
              "#7201a8"
             ],
             [
              0.3333333333333333,
              "#9c179e"
             ],
             [
              0.4444444444444444,
              "#bd3786"
             ],
             [
              0.5555555555555556,
              "#d8576b"
             ],
             [
              0.6666666666666666,
              "#ed7953"
             ],
             [
              0.7777777777777778,
              "#fb9f3a"
             ],
             [
              0.8888888888888888,
              "#fdca26"
             ],
             [
              1,
              "#f0f921"
             ]
            ],
            "type": "contour"
           }
          ],
          "contourcarpet": [
           {
            "colorbar": {
             "outlinewidth": 0,
             "ticks": ""
            },
            "type": "contourcarpet"
           }
          ],
          "heatmap": [
           {
            "colorbar": {
             "outlinewidth": 0,
             "ticks": ""
            },
            "colorscale": [
             [
              0,
              "#0d0887"
             ],
             [
              0.1111111111111111,
              "#46039f"
             ],
             [
              0.2222222222222222,
              "#7201a8"
             ],
             [
              0.3333333333333333,
              "#9c179e"
             ],
             [
              0.4444444444444444,
              "#bd3786"
             ],
             [
              0.5555555555555556,
              "#d8576b"
             ],
             [
              0.6666666666666666,
              "#ed7953"
             ],
             [
              0.7777777777777778,
              "#fb9f3a"
             ],
             [
              0.8888888888888888,
              "#fdca26"
             ],
             [
              1,
              "#f0f921"
             ]
            ],
            "type": "heatmap"
           }
          ],
          "histogram": [
           {
            "marker": {
             "pattern": {
              "fillmode": "overlay",
              "size": 10,
              "solidity": 0.2
             }
            },
            "type": "histogram"
           }
          ],
          "histogram2d": [
           {
            "colorbar": {
             "outlinewidth": 0,
             "ticks": ""
            },
            "colorscale": [
             [
              0,
              "#0d0887"
             ],
             [
              0.1111111111111111,
              "#46039f"
             ],
             [
              0.2222222222222222,
              "#7201a8"
             ],
             [
              0.3333333333333333,
              "#9c179e"
             ],
             [
              0.4444444444444444,
              "#bd3786"
             ],
             [
              0.5555555555555556,
              "#d8576b"
             ],
             [
              0.6666666666666666,
              "#ed7953"
             ],
             [
              0.7777777777777778,
              "#fb9f3a"
             ],
             [
              0.8888888888888888,
              "#fdca26"
             ],
             [
              1,
              "#f0f921"
             ]
            ],
            "type": "histogram2d"
           }
          ],
          "histogram2dcontour": [
           {
            "colorbar": {
             "outlinewidth": 0,
             "ticks": ""
            },
            "colorscale": [
             [
              0,
              "#0d0887"
             ],
             [
              0.1111111111111111,
              "#46039f"
             ],
             [
              0.2222222222222222,
              "#7201a8"
             ],
             [
              0.3333333333333333,
              "#9c179e"
             ],
             [
              0.4444444444444444,
              "#bd3786"
             ],
             [
              0.5555555555555556,
              "#d8576b"
             ],
             [
              0.6666666666666666,
              "#ed7953"
             ],
             [
              0.7777777777777778,
              "#fb9f3a"
             ],
             [
              0.8888888888888888,
              "#fdca26"
             ],
             [
              1,
              "#f0f921"
             ]
            ],
            "type": "histogram2dcontour"
           }
          ],
          "mesh3d": [
           {
            "colorbar": {
             "outlinewidth": 0,
             "ticks": ""
            },
            "type": "mesh3d"
           }
          ],
          "parcoords": [
           {
            "line": {
             "colorbar": {
              "outlinewidth": 0,
              "ticks": ""
             }
            },
            "type": "parcoords"
           }
          ],
          "pie": [
           {
            "automargin": true,
            "type": "pie"
           }
          ],
          "scatter": [
           {
            "fillpattern": {
             "fillmode": "overlay",
             "size": 10,
             "solidity": 0.2
            },
            "type": "scatter"
           }
          ],
          "scatter3d": [
           {
            "line": {
             "colorbar": {
              "outlinewidth": 0,
              "ticks": ""
             }
            },
            "marker": {
             "colorbar": {
              "outlinewidth": 0,
              "ticks": ""
             }
            },
            "type": "scatter3d"
           }
          ],
          "scattercarpet": [
           {
            "marker": {
             "colorbar": {
              "outlinewidth": 0,
              "ticks": ""
             }
            },
            "type": "scattercarpet"
           }
          ],
          "scattergeo": [
           {
            "marker": {
             "colorbar": {
              "outlinewidth": 0,
              "ticks": ""
             }
            },
            "type": "scattergeo"
           }
          ],
          "scattergl": [
           {
            "marker": {
             "colorbar": {
              "outlinewidth": 0,
              "ticks": ""
             }
            },
            "type": "scattergl"
           }
          ],
          "scattermap": [
           {
            "marker": {
             "colorbar": {
              "outlinewidth": 0,
              "ticks": ""
             }
            },
            "type": "scattermap"
           }
          ],
          "scattermapbox": [
           {
            "marker": {
             "colorbar": {
              "outlinewidth": 0,
              "ticks": ""
             }
            },
            "type": "scattermapbox"
           }
          ],
          "scatterpolar": [
           {
            "marker": {
             "colorbar": {
              "outlinewidth": 0,
              "ticks": ""
             }
            },
            "type": "scatterpolar"
           }
          ],
          "scatterpolargl": [
           {
            "marker": {
             "colorbar": {
              "outlinewidth": 0,
              "ticks": ""
             }
            },
            "type": "scatterpolargl"
           }
          ],
          "scatterternary": [
           {
            "marker": {
             "colorbar": {
              "outlinewidth": 0,
              "ticks": ""
             }
            },
            "type": "scatterternary"
           }
          ],
          "surface": [
           {
            "colorbar": {
             "outlinewidth": 0,
             "ticks": ""
            },
            "colorscale": [
             [
              0,
              "#0d0887"
             ],
             [
              0.1111111111111111,
              "#46039f"
             ],
             [
              0.2222222222222222,
              "#7201a8"
             ],
             [
              0.3333333333333333,
              "#9c179e"
             ],
             [
              0.4444444444444444,
              "#bd3786"
             ],
             [
              0.5555555555555556,
              "#d8576b"
             ],
             [
              0.6666666666666666,
              "#ed7953"
             ],
             [
              0.7777777777777778,
              "#fb9f3a"
             ],
             [
              0.8888888888888888,
              "#fdca26"
             ],
             [
              1,
              "#f0f921"
             ]
            ],
            "type": "surface"
           }
          ],
          "table": [
           {
            "cells": {
             "fill": {
              "color": "#EBF0F8"
             },
             "line": {
              "color": "white"
             }
            },
            "header": {
             "fill": {
              "color": "#C8D4E3"
             },
             "line": {
              "color": "white"
             }
            },
            "type": "table"
           }
          ]
         },
         "layout": {
          "annotationdefaults": {
           "arrowcolor": "#2a3f5f",
           "arrowhead": 0,
           "arrowwidth": 1
          },
          "autotypenumbers": "strict",
          "coloraxis": {
           "colorbar": {
            "outlinewidth": 0,
            "ticks": ""
           }
          },
          "colorscale": {
           "diverging": [
            [
             0,
             "#8e0152"
            ],
            [
             0.1,
             "#c51b7d"
            ],
            [
             0.2,
             "#de77ae"
            ],
            [
             0.3,
             "#f1b6da"
            ],
            [
             0.4,
             "#fde0ef"
            ],
            [
             0.5,
             "#f7f7f7"
            ],
            [
             0.6,
             "#e6f5d0"
            ],
            [
             0.7,
             "#b8e186"
            ],
            [
             0.8,
             "#7fbc41"
            ],
            [
             0.9,
             "#4d9221"
            ],
            [
             1,
             "#276419"
            ]
           ],
           "sequential": [
            [
             0,
             "#0d0887"
            ],
            [
             0.1111111111111111,
             "#46039f"
            ],
            [
             0.2222222222222222,
             "#7201a8"
            ],
            [
             0.3333333333333333,
             "#9c179e"
            ],
            [
             0.4444444444444444,
             "#bd3786"
            ],
            [
             0.5555555555555556,
             "#d8576b"
            ],
            [
             0.6666666666666666,
             "#ed7953"
            ],
            [
             0.7777777777777778,
             "#fb9f3a"
            ],
            [
             0.8888888888888888,
             "#fdca26"
            ],
            [
             1,
             "#f0f921"
            ]
           ],
           "sequentialminus": [
            [
             0,
             "#0d0887"
            ],
            [
             0.1111111111111111,
             "#46039f"
            ],
            [
             0.2222222222222222,
             "#7201a8"
            ],
            [
             0.3333333333333333,
             "#9c179e"
            ],
            [
             0.4444444444444444,
             "#bd3786"
            ],
            [
             0.5555555555555556,
             "#d8576b"
            ],
            [
             0.6666666666666666,
             "#ed7953"
            ],
            [
             0.7777777777777778,
             "#fb9f3a"
            ],
            [
             0.8888888888888888,
             "#fdca26"
            ],
            [
             1,
             "#f0f921"
            ]
           ]
          },
          "colorway": [
           "#636efa",
           "#EF553B",
           "#00cc96",
           "#ab63fa",
           "#FFA15A",
           "#19d3f3",
           "#FF6692",
           "#B6E880",
           "#FF97FF",
           "#FECB52"
          ],
          "font": {
           "color": "#2a3f5f"
          },
          "geo": {
           "bgcolor": "white",
           "lakecolor": "white",
           "landcolor": "#E5ECF6",
           "showlakes": true,
           "showland": true,
           "subunitcolor": "white"
          },
          "hoverlabel": {
           "align": "left"
          },
          "hovermode": "closest",
          "mapbox": {
           "style": "light"
          },
          "paper_bgcolor": "white",
          "plot_bgcolor": "#E5ECF6",
          "polar": {
           "angularaxis": {
            "gridcolor": "white",
            "linecolor": "white",
            "ticks": ""
           },
           "bgcolor": "#E5ECF6",
           "radialaxis": {
            "gridcolor": "white",
            "linecolor": "white",
            "ticks": ""
           }
          },
          "scene": {
           "xaxis": {
            "backgroundcolor": "#E5ECF6",
            "gridcolor": "white",
            "gridwidth": 2,
            "linecolor": "white",
            "showbackground": true,
            "ticks": "",
            "zerolinecolor": "white"
           },
           "yaxis": {
            "backgroundcolor": "#E5ECF6",
            "gridcolor": "white",
            "gridwidth": 2,
            "linecolor": "white",
            "showbackground": true,
            "ticks": "",
            "zerolinecolor": "white"
           },
           "zaxis": {
            "backgroundcolor": "#E5ECF6",
            "gridcolor": "white",
            "gridwidth": 2,
            "linecolor": "white",
            "showbackground": true,
            "ticks": "",
            "zerolinecolor": "white"
           }
          },
          "shapedefaults": {
           "line": {
            "color": "#2a3f5f"
           }
          },
          "ternary": {
           "aaxis": {
            "gridcolor": "white",
            "linecolor": "white",
            "ticks": ""
           },
           "baxis": {
            "gridcolor": "white",
            "linecolor": "white",
            "ticks": ""
           },
           "bgcolor": "#E5ECF6",
           "caxis": {
            "gridcolor": "white",
            "linecolor": "white",
            "ticks": ""
           }
          },
          "title": {
           "x": 0.05
          },
          "xaxis": {
           "automargin": true,
           "gridcolor": "white",
           "linecolor": "white",
           "ticks": "",
           "title": {
            "standoff": 15
           },
           "zerolinecolor": "white",
           "zerolinewidth": 2
          },
          "yaxis": {
           "automargin": true,
           "gridcolor": "white",
           "linecolor": "white",
           "ticks": "",
           "title": {
            "standoff": 15
           },
           "zerolinecolor": "white",
           "zerolinewidth": 2
          }
         }
        },
        "title": {
         "text": "Visualización del Dataset Digits con t-SNE"
        },
        "xaxis": {
         "anchor": "y",
         "domain": [
          0,
          1
         ],
         "title": {
          "text": "TSNE1"
         }
        },
        "yaxis": {
         "anchor": "x",
         "domain": [
          0,
          1
         ],
         "title": {
          "text": "TSNE2"
         }
        }
       }
      }
     },
     "metadata": {},
     "output_type": "display_data"
    }
   ],
   "source": [
    "# Aplicamos t-SNE. Perplexity es un hiperparámetro importante.\n",
    "tsne = TSNE(n_components=2, perplexity=100, random_state=1)\n",
    "X_tsne = tsne.fit_transform(X_scaled)\n",
    "\n",
    "# Creamos el DataFrame para Plotly\n",
    "df_tsne = pd.DataFrame(data=X_tsne, columns=['TSNE1', 'TSNE2'])\n",
    "df_tsne['label'] = y.astype(str)\n",
    "\n",
    "# Visualizamos\n",
    "fig = px.scatter(df_tsne, x='TSNE1', y='TSNE2', color='label',\n",
    "                 title='Visualización del Dataset Digits con t-SNE',\n",
    "                 labels={'color': 'Dígito'})\n",
    "fig.show()"
   ]
  },
  {
   "cell_type": "markdown",
   "metadata": {},
   "source": [
    "**Análisis de t-SNE:** ¡El resultado es drásticamente mejor! t-SNE logra formar clusters muy definidos y separados para cada dígito. Esto demuestra el poder de los métodos no lineales para visualizar estructuras de datos complejas. Recordemos la advertencia: las distancias entre los clusters en t-SNE no son necesariamente significativas."
   ]
  },
  {
   "cell_type": "markdown",
   "metadata": {},
   "source": [
    "## 6. UMAP (Uniform Manifold Approximation and Projection)\n",
    "\n",
    "Finalmente, probaremos UMAP, la alternativa moderna a t-SNE."
   ]
  },
  {
   "cell_type": "code",
   "execution_count": 10,
   "metadata": {},
   "outputs": [
    {
     "data": {
      "application/vnd.plotly.v1+json": {
       "config": {
        "plotlyServerURL": "https://plot.ly"
       },
       "data": [
        {
         "hovertemplate": "label=0<br>UMAP1=%{x}<br>UMAP2=%{y}<extra></extra>",
         "legendgroup": "0",
         "marker": {
          "color": "#636efa",
          "symbol": "circle"
         },
         "mode": "markers",
         "name": "0",
         "showlegend": true,
         "type": "scattergl",
         "x": {
          "bdata": "zbuOQSlSjkHB5pRBa7OOQYuMkkEM55JBM8KVQasPlUHGcZVBrmeVQZullEHy35VBbVWVQYVwkkFhPpNBGOGVQbAVkkE8rpBBRbOUQabulEF6h5VBkqWVQZRblEHq5JVBuPSTQa92lUGEK45BSeCSQRZwj0GrLI5BeZWNQV3kkUGlb5BBcg+PQdSPkEEZlY5Bz8aPQQhMk0Hz3JNBpcCUQUfrk0Ff2ZVBVmiSQXM5kkEc2pRB7rCVQacQkUE4ipBBqn+QQXe8lUG5dZVB4TiQQUx4kEEREo9BdzKQQQFnkEGOIpJBQSOSQdC8lEEg1I5B3ieSQUFxkUEaJ5BBWWWPQehGkEGiHJFBFt2MQYuhkkHrCJBBp3SUQc98lEGWjo9ByJKUQTr8k0HPqZFBqTaRQVDwlEG24JFBtQSOQe+GkkFC/o1BUFWPQV93j0HI1ZFBdqWOQV8vj0EzR5JBnkmTQYvZkUEKf49BL6iPQeL6kEEUIZFBcPmRQWhEkEEtwJBBIrqQQQE7jkH4RJNByieQQWsJkUEoJY9BpfWUQd+FlEGxApJBRGOVQe0nlUF/BJVB2I6UQcFJkUHgvpRBFamUQVdSj0HCGpRBnVCRQZCJjkF6RI9BNBqNQdA3jkE3ho5Bb7ONQWyIjUHd64xBQuuMQe1ujUHtK5BBKvCMQabCk0FgY5JBke+TQW/TlEGbMpRBWDGUQQ0FlUENb49BLMWPQcXzjkHXb5RBsUeUQV2wlEHO9pBBFHaVQbgYj0He75RB8fWTQQVhkkEuYpJBXsWUQVCulEH5vZRBjKqRQcGflEH1O5FBeBuUQQ5TlUEuT5JBJF2UQW6zkkH2b5RBG1GPQUCKlUH/9JRB8lOUQY2zlEEUt49BfY6UQSjDlUEDlZRBcxqQQeVWkkEuopJBeiOPQUPSkkEbOZNB41SRQSFilEHHJpVBZO+RQQ==",
          "dtype": "f4"
         },
         "xaxis": "x",
         "y": {
          "bdata": "YLVkQL8Gf0D4TYhAqyhgQJ/giUDmI3VA8dpzQIXGiUDncIRAy/liQPcRWUCq04NAznuGQO+IdkD9TopAaCh0QCx9iUDguYFAlwlUQAS+i0CTu4VAioJyQMCIiUBW0oRAkRtaQHvdhUAeaX1AI55iQPvQfUCfaH5Ah8lqQIh9cEAFbW9A/492QCjkdkD2W39A43t/QLSSa0BrSmpA6RJbQKWJWUBSAXtAYbmIQB54VkBRL19AjuJzQKVWX0AdgoFAUBVaQE5Ka0CMNGdAIrd4QP29gEBXy3hAmzZ8QJuxgkALJWNAAdF9QB0fUEA9r39AOGKEQEPfbECNpoFAUb1yQKkKfUD4fYVAJL1nQCfGhUDxv35ARqpkQAbmhkBHMH9A64SLQNCuikD41odAV711QHakgkDvSYVAQUhpQEHAUEBns3tAlEV2QD5/eEAz8IZA0jSBQPiaZ0CFVYdAnCeLQAE8V0BllWNACU5wQDn1Y0CgiGhAxEJwQBoHYED5N1xAj9dfQJnTZkDnP11A1UtbQA1KYECnBGtASq9wQDr3bUBAIWZAMkdzQMyJdUAkKG9A86hRQBNya0BfmFBA2nBQQCtca0CojmRAb6x2QPXdaECbu21AdoVpQCLrZUAKAWBAqjVkQDWfakAXu2dAvJ1mQBwCa0Dot35AZb5mQMlQckBsvYJAFa+AQI0nT0BAYY1A+XWCQHyMhECzfl9AMxJ/QGxpaEDJwX5AJ7qDQKetiUChUWNAKJ5uQOBId0CKzWlAnZJnQLfHYEBqp2ZALdpPQD7FUUCx009A+GViQFkjZ0DDQFtAQcyFQLEPhUDji4dAhMyNQLLffkBUZY1AwS9tQBW8hUA/6otA0itRQLaki0BeVIFAzY9iQK7hb0CE8V1ANthpQBS5iEB4+VpAnnJpQBqlhkDr4F1AJmhhQH0DXUCDHYdAaXWIQA==",
          "dtype": "f4"
         },
         "yaxis": "y"
        },
        {
         "hovertemplate": "label=1<br>UMAP1=%{x}<br>UMAP2=%{y}<extra></extra>",
         "legendgroup": "1",
         "marker": {
          "color": "#EF553B",
          "symbol": "circle"
         },
         "mode": "markers",
         "name": "1",
         "showlegend": true,
         "type": "scattergl",
         "x": {
          "bdata": "dRCIwGeigcB2ZYbA9GOBwNcuhsDIQoXAfbCGwKFqhcBGF4PAQYmBwDZmhMCZf4DAU/iBwH12jMDhGYXAzkmGwAj1hsDwx4bA6cqHwIevgMDXV4bAI+9+wNnRhMAYsobAYwuCwNIehsAqR3fAfxd+wEHpY8AsVW7ATbtywOrJfsAjOH/AO1FwwLMXfcCsIXjAu5yJwAVmi8AiPm3Ac0CPwBLQiMBkCojA4Y+HwEVoiMBpcxvAuhiIwLA+h8B3zIbA5uyEwHqjh8BJEIjA+0mIwDVGG8ANghrAiRIgwF/UIMB15SjA8ycewF1RI8Cx5yfAOm4lwKFHKcDksSTAVaJiwGAFHMBoh2fA6UlswKI8ccAKrmbA3upjwB77e8DWUGHAAXp8wGm8Y8Dl/WLAncJcwKVsXsD/SmbABRyLwP3sisAsHoDAljFdwDEvZcAX6hzAof1mwMGScMBvN3TAi5F/wEsGgcAROIbABZ9nwFwNHMCXqxzA0asbwNI2HMCxNRrAAIMawDsvGsCLQRnAclcdwLw0GsBBmRrAQ9oawCESGsDZfWDAJmJiwD16icACdWPAO7mDwGzmZ8BUU4rAD8Z1wP+zisC0zGTA2P94wIRigMA0AX/AcByFwNlZhsAYsoHA6txqwMCag8B7Ao3As7d7wLyWisAbNIHAkyeAwLl7fcBvd3zADAKwvdT+jcBPBoLAj7KHwFs3jMDvbYvAMWSIwEw7iMDp8YbA9sSLwM2qjMBGE4vAJTSGwHqYhMD8oo/A+IOQwPgmisDmWo3A/VONwNjTj8BfsI/Aqt6PwL/Cj8BNw4rAd1COwIkcj8BC15DAV5+KwNpdfcD6lnLAFAGNwOi1isAl033AxpOKwKzQisB+eI3AzLaNwA7Ai8DU2YzABnCNwNidaMCoWV7AKFJuwOyJZMBVT2TAbQNtwO8YYcBipFvAdaFowOm0ZMCvx2bAh25awD35W8A=",
          "dtype": "f4"
         },
         "xaxis": "x",
         "y": {
          "bdata": "LVErQB7uPz/SSk8/xftEPxg2hj8rw1g/88yFP9IdVT/jA3s/nxJBP1XssT8qGUlAWvArP0pc9j5XKhI/F5H4PrHTDD8DXQI/7jU/P782Nz8b+Q0/Kfo8P32XBT9sR0U/ioc1P1scED976EBA4ZhQP3p4NEArRVJADTA4QBGnND95rUVA6zYmQKB0XD9kcjdAdjU8QPP/OED0l1FAEG4PP31tjT8VbVs/e2hMP3G+jz8tmBxBcbFKP0DTjz870Y8/SMhXPwWSdT+WzYU/46lcP+2PHEGf0xxBeHcbQbNCG0HrMxlBU+sbQSiiGkHRdBlBxScaQYEoGUE1ThpBRaxPQMleHEG7jT5ARCJSQNSrUkB9IkBAwmNAQIRmNUB0n0NAiJQzQPwMUEBj50xA0VlKQCh8QkAWoj5AuEI5QPWoNkDAgjNA4GpJQDk7SkDEMRxB6C87QJ8HUUDeF0BAHSdIQBG4RkCbxjlA4P06QKJyHEEuRBxBKYwcQR5JHEF64hxBYtEcQV3cHEF3IB1BZyIcQajhHEHvyBxBe6McQTzwHEE4PkFAz2lDQDtnPEA0cUFA2CBDQF97T0BnUTxAAX9OQMiVOUCmAD9AADc4QFvgSkBHqUpASRScP4o2hj8fYdg/YZA7QKnStj9yZjtAyRVNQAIgOUBem9A/T9NIQJbOSkDSBE5AO4uEQEULLT9ow8s/Ed/oPhgFQEAgaDhAe/xeP/6xNkD3hIk/vng3QKcdOkDM7DhAvrlGQGLBSUCh4yY/bWoZP8HCSD+G0QM/XX78PnnvDj95jA8/IHcIP1z4GT8dtTE/uDMHPyJwBj9vlgo/gOA7QCrwTEDg6VBAGeU6QPD2PkDXPU1ASaM9QCXTP0DNyDxAb647QANiOkBzmDpALzg7QH+lUECKxkRAVkBSQP/FUEC1OEFAe/tSQPGpQUATmUhANiY4QLN+P0CiuEpAq51GQJQDSUA=",
          "dtype": "f4"
         },
         "yaxis": "y"
        },
        {
         "hovertemplate": "label=2<br>UMAP1=%{x}<br>UMAP2=%{y}<extra></extra>",
         "legendgroup": "2",
         "marker": {
          "color": "#00cc96",
          "symbol": "circle"
         },
         "mode": "markers",
         "name": "2",
         "showlegend": true,
         "type": "scattergl",
         "x": {
          "bdata": "XFUhwDQxX8AAAm3AA08hwNefIMDw6h7Ap6wiwF3fIMBqYh7AO9WIwJdJZMBRpyHAOv4hwJ7XjMD3nnPA+6ZjwKeMdcCtL3TASWaFwPCkd8A3QFzAhlF0wJ3OecDwh4jA1UCNwGIXdMAKFHzAt39/wMdGisBLwJDAvq53wKerfcBKpIrAyGx9wCfkjcBACnfAu8F8wLz5kMDXYIzAFAtowOfWX8DHXoDARXlKwADud8DctHrADDZjwOhracCBiH7AnzOCwKhMgsATrH/AfiMiwItxSMCpsHjAdrQ+wL1KccCsMULA2mFNwJXTQ8D+c0HA9Mp7wOdvLsDmxEDAFheAwGuJQsB8AHLAb61vwGBXcMAYbWXAVTtswNXfW8Ah8VrAMAZowPP+cMDffpHAC4xywDG3bsACP3PAD4WLwIipj8DYhJPASHV1wPO6k8Cg15LA+56EwH3qlMBDr5PAfUBdwBcelsAPWWnA4v5xwC3AicCRFJTAoxuIwEZCjMBq+kHAWDBTwOFwT8DfS0LA2pKRwMm6ZcDt00nA3wOOwPrphsCdW1/Ax5xIwCn3SsBMF03AUnhbwBW2RsATjFPAIBOKwE8vXMBmBT7A1BSMwPBiUsCvgXPAa11pwBqOcsD4+pPAw1aBwDoFh8D9G2DAmsp3wGsjksBNWJHAvZ2FPQCeSsBIjjrAQN5NwNGYRcB7aUbA5L84wDarRcDBXXHA6lVJwPmfRcCBMEfAFxlKwM5gRcCGe4HAFHmNwAVFksCZLJDAZQuCwB0GksBCXYnAT5GOwOwMkMASO5TA9vCOwCkHZMCIL4rAOEljwONQVsDhFFnAuJdQwFvGiMDGOEnAd3xywJH3LsCNtYnAOexnwMXiTsBc4YDAZ8xtwO8AbMDzl4TAMKaSwB0jlMBwFovA5NWQwOexhMBkuWzAxXCQwMVHgMDc13/A",
          "dtype": "f4"
         },
         "xaxis": "x",
         "y": {
          "bdata": "OXWPQOKQCUGbzwZBL6aPQMOSjkAruo1ALeWPQPLVjkCQAI1Aqj0DQRvD7UC6vo9AAquQQOUpAUHfufJAQqj6QIt4+ECT5vRA7wEGQSDZAkEmX/pARUH1QNuP90DBegZBwSwEQc5Y9kBekf5A3YL+QNhp/kCuYgBBE+/2QBlr/UCtwAFB5nr8QFK2/0DbRPZAmOr8QE7Y/0DD0gJBDNYIQVj1CUGUvgdB55UNQXUfCEFweQdBjegIQbryCEGnbAdBIqMHQQvQBkFuwwdBOwKSQLRcCUGhPPxAGXkOQY2H/0DKPQ1BBHIJQdTuDEHx/Q1Bc23+QAyZFUF1uA1BBQf/QHcbDUGSe/NAodPyQJky9EClNPZATxDyQABt8kABhfNA2kv0QMXL80CCOQBB6U/zQGri8kCSaPNAsbL+QDRCBEGtrQFB/fX1QPb3A0Eu8gBB5DsHQQhfAkEjkgRBkRb9QHKVA0FAlafA44TyQHtJAEEUTwZBMMMBQfEGBEHtDg5B4LkJQQqnCUEswQ1BhYwHQeV9CEE/KwpBSJMGQUwpA0FnvQNBx1IKQT2gCEGGqglBpkcKQeCfCEGBagpBZmIHQfchCEF/vQ5B3AQCQeooCkGp9/VAsLb9QMVO80BiGAFBVjP/QKPj/0A7rv5A4Dn2QG7KAEEuHABB2lCCQPWVCEECBxBBdA4GQQ5BCEH+DglBeSMQQXCVCUGeFAVBsnIIQd+cC0HmHAlB8YAJQd2kCkHCQAdBawoIQezAB0HwSAhBs2YHQUagCEF04AdBlMUHQStnCEE0PgdBqQ8IQUIVAEE14QdBkw0IQZyRCkEppApBJwgKQUf4AkEjfwhBAEX0QIRuF0EgwQFBJnsHQclDBkEvkQdB1FDwQLfa8EAEogZB7bQHQVVfBkE06gdBm2kIQQdyA0FaAfVAqYYIQSXBB0FhtQdB",
          "dtype": "f4"
         },
         "yaxis": "y"
        },
        {
         "hovertemplate": "label=3<br>UMAP1=%{x}<br>UMAP2=%{y}<extra></extra>",
         "legendgroup": "3",
         "marker": {
          "color": "#ab63fa",
          "symbol": "circle"
         },
         "mode": "markers",
         "name": "3",
         "showlegend": true,
         "type": "scattergl",
         "x": {
          "bdata": "S/cPQEAVvT9gmKc/Yeb0P2rdzj811eE/nf/aP1CYtz/gLrg/O/zRPylxsz9WbbI/SM2eP7yytT/PLrg/YAG2P8AVwj+Dtrk/0/S6P7KJsj8oJME/kAm4PwSwzT+qMsE/p0yyP2tglz+7AB9AioMKQOsyA0A1bwJAnnIUQB2H8D97lQhAuhgNQEY0CkA4+vA/ApITQMWwE0A+cgBAnPzUP4f57D9CFCtA0z4qQJ8ALECW3i9AXNgrQGgHKkCyci1AVVkqQBEPLEBvji1AY+YYQA8GLUAH1LQ+PGmcPtrNXz6DAak+gsytPvfAxD8IrZs+roSmPvQtP8DtCp0+h4eLPhUgnz7T+7I+3gQDQO3JAEBRjAVAW1vNPxG4+z8UHwVAYyz8P7heAUCXuf8/7Sj7P0wjF0Dk7RtAoxELQIVhFUBj1whAWyIMQFQ9AkAZvgdA5vAIQPsYpz9SIqk/DUDyP3L+DkDeKgVA/nAJQJgV3z8stB9AvawjQMzgH0DJnChAUO0cQDpRJUA7PyVAuT0nQOXJJkAC2hxA3osmQJ8bKEDZXiRAd6r1P8tZ7D8dp+s/GK7iP34ukD14n9s/O3EHQD7U8D/VN/I/CGHyP76Yjz+l6e8/Hz/wP8KPBUAWtd8/1tnvP9sjiT9w9+8/YmfBP8AZtz8Hxro/LE6zP9K9yT8A/tk9SUz5P5kuuD/ZFsA/R4PhPwliGkDnnQRAbe7YP/6w7T9Ri/c/7esEQMaSAEBvP8E/iZUPQNIoA0AGzgBA9K8kQFlGIkCP2BdAuEEAQJynGkBvlBVAcvkjQLJmG0AnxxFA1ooNQDriA0BO3gRA5kgKQKqU1T9Qn9U/cuDHP/rimz87Ip8/QMeTP3sHgcAIaBfA62TNP2a32j/c0dQ/h/PTP1ra1z8MNRJAGbeaP6bLDUA6VoY/WcWQPwugjD/JGBNA+5yKP2rzkz+EYLo/E0gPQI5eDECy+M8/",
          "dtype": "f4"
         },
         "xaxis": "x",
         "y": {
          "bdata": "9MaqP18qLD/6uWo/0WeZP7kZeD+vfYQ/TzZuP0y2Dz9qQhQ/yclvPw83Ez+hkBo/6vA0P/zPDj+5KBI/GWsUP5uFVj+3oBU/YUgUP5iJZj/NVSQ/yI4PP9WQUT8jwiU/5hMQPy+sYz+v4q8/uTifP4Hsyz+Sg7M/dYeTP28apD+86sM/sueqP/24qD+W0aU/jbeOP24ckT8gSc8/BAyVP61xoz+0drU/BJvKP+MOyz+OP+U/aLuwP//isj8PHK4/XNezP8ELsj+5lrQ/fB6XP8Tytj9PllFAuDlTQBJ0V0BwvVFA9/BSQC2wrT9PolNA1ZtSQHeqDUHeIFNAEk5VQIp6U0BEG1FALkG9P7jkzD/Y5aw/hjCoP7sOzT+ue8E/TkXaP70SqT+lZdI/QxnaP0XCmj/LtJk/8K6gP9exlT9uDZw/ozOTP5k9nD87FZQ/RP6RP1ckhj8aaYQ/XHetPzTpgz8eHZg/7jyfPxhUjj+ejt8/5EHTPzeHtD9bt9g/LbjSPwQO1j9qwu4//szSP7AM7j+KkN0/EJXaP8Jk1T9QrtQ/xmnlP/8H7T+55t4/n/7SP4H8gUDRN8s/S1PXP1tm6D9PBu0//87qP8ymLT9WEOw/OeHmPzZJ1j9OuMo/WWLqP2gbYD/YWOM/M9WIP/dolj/+Djg/tcYSP1ksgz963oBAJsjDP8qTFj8uVSM/bzHDP2KqvD/Qr9Y/VkmNPxs0sT/FzuA/+fXWPx9eyj+q2Ic/uTO+P7gvxj9Jutw/15axP08Buz/GA5M/N460P54trj8Rfcw/LgPEP7DK1D+Iprw/3JmuP+fduD9xI9o/2HGvP8nihz8Slpk/1reEP1SnUD+tens/JP5GPzr5x8C6tD5AiaR5P8XLiD/DS4g/P1+JP1fhiD+h2Y8/7nZ5PxBwgT+iX20/epd6PwkOez/NB5E/pOl1Pw8jfT9HtYU/gzyePynSij9kKiw/",
          "dtype": "f4"
         },
         "yaxis": "y"
        },
        {
         "hovertemplate": "label=4<br>UMAP1=%{x}<br>UMAP2=%{y}<extra></extra>",
         "legendgroup": "4",
         "marker": {
          "color": "#FFA15A",
          "symbol": "circle"
         },
         "mode": "markers",
         "name": "4",
         "showlegend": true,
         "type": "scattergl",
         "x": {
          "bdata": "wXoSP5uGi72DyyM/yxGfvRQPmj79Wnm+rMaAwHSFHj92aQ8/TMmTvkhPk77dVGe+pEhdvT4ySD8O8Xc/ZOl1P+JTfj+mr4c/ze6APzzcgj8MKoI/WSp/PwBxfT/BCHI/sNV8Pz7vuL67m4q+uhTrvveO2bwEQbK+9hqxvj2Ep76Mc7e8XeQ1v+IJuD7q70y9893BvjuIfb0RFIA/zh3LPho3fj/XpFM/7AVYPxfYeT/DFy4/N+9BP6w5dj/o3kI/FFVsP5dSPz8DDX8/tGHXvntzEL+U5tm9lTewvpt+nr7oBPi+LRPIvjGOub6h/re+4vj1vUz3Gb5QC+G+zl3pvrOJeD9nf3s/MT1fP9VuUD9jFt09utl8P++qeD+Plua+YpmNwM6cAb1riBjA3Z02vcRjHr9VChK9UjGrPa75cT7Xd4I+hxWjvEhsLr1t4Ko+qzaCPncx4j5XWTy9lyhqPjoohT50Lpg+QGeBPj1qlD5Xap8+vvxrv2Odhz5+J4s+gvx3Pn0Yob93Nna/rUN3Pu3Nkr/WLRPAirOav9zikb8fI8a/gkM4v/m0xr9NiVi/BRvivzj6Pr/9rjW/iYmxvqrihj2tQ32/Pp5bvnTdDL+ZvVG+T0KoPjXXor6xKqI+x0e1PoGT7L0Hhnk+XquuPfhEPD5paaI+1Y10v2djhj7yecG+uh/+PkIV/j5p8AI/FN/+Pri3/T7zX6w+rJu7PgVrAj+MOei7386xPoM8vT6jupk+IbalPiESx75whxm+8juvvul51D2IyR2+auokvuUyi71Xc5O+BQGYvj02Nr44GwS/1slhvvYNuz00+8W+i2e7vqwPAb//h8C+gssJv22oCMAp4wjA052svhRfr75LCrO+AXUSv5pSB8A9hsu+MZoNPw+kbzwxYRE+/qsSwOvthb/fKp4+p+iXPnqbsD5dtL4+54P5Pn99lz58EK4+FK6PPg==",
          "dtype": "f4"
         },
         "xaxis": "x",
         "y": {
          "bdata": "8CbmwNms2cAma+LA1s7YwGlO4cB+J9fAsBHSP5Yu4sA18+HAttbXwOEg2MACgNfAPyPZwOv+4MBfQuPApHjjwPhp5cC2e+bAE83lwHVi5cDhZOTAyIDmwILx48ALKeTAKKbjwIit2MAkDdjAJi3ewBiu3MAsvtnAQfzjwJXz2MBo1+HACXzQwM5N88ANJ9vAeMPcwN7u2MDlAejA+YbuwBmQ5cDxQeHAfITpwH3w5MCNOeLAv2nqwKie48A9SOLA/+7kwKPo4cAet+bAderswL/D58AJRfXAxR7swNRh4MCwk+rAzEntwDzP7sArU+/ABCb1wGsr4MCFTezAMbLswM4l48BPsePAzgviwO1p4cAVYdvALz7jwFhk48ABGezAuQ23wNCf9sCGtcDAtyb0wEnQ4cAZJPbAhMnvwI5B+sCQkO3AuiLwwC/n88DoOuzAp1D6wKF09cBDkvTAdJntwOvh+cDmhPnAh6fowNfl+cD9CubAHlLMwCKE5MD86ObAb0n6wETMxsDboMvAU2bowDZiyMD+Yr/AuoDHwBOpyMCOzsPAJMjPwJHEw8B8qc3AV3GUwFKTz8BSVNDA6+7XwPFL3cBHBsvAyPPXwHau1MAOT9jAzgvswNYb68AzyenAO13xwBE+2MBPRODAFbXdwDIM7MBxO+7AbczLwKVw48A0O9/Aogz3wGdN98BX5/fAxPT2wHXk9sCOh/LAlfLwwIZz98CkF9vA0ZfswLpX7MAFIOjA5LvywJNY7sCv9fPAxvHuwDb96cCwMPTAsX7vwNsL9MDE6u/AcmvuwI1a8sAkSefAR9rxwGWP7sBNqNnAtnDZwLRx4cBELtzA8VfgwFRLK0BiDShAMa/dwIOU2cCN+djAzK3kwEFSKkB2b9rAz/vmwAsT4cABJuDAH4G8wE3gycBoGPnArMr5wJTF8MCfveHAFlnmwLzz+cDpvezAWCHtwA==",
          "dtype": "f4"
         },
         "yaxis": "y"
        },
        {
         "hovertemplate": "label=5<br>UMAP1=%{x}<br>UMAP2=%{y}<extra></extra>",
         "legendgroup": "5",
         "marker": {
          "color": "#19d3f3",
          "symbol": "circle"
         },
         "mode": "markers",
         "name": "5",
         "showlegend": true,
         "type": "scattergl",
         "x": {
          "bdata": "YFCgQK7LMUBJG1JAWR1dQDZCN0Bxhj9A9ZlDQH26W0A0S2hAQiNoQK8HWkAGEzVARlNdQOlJLkDVhDFAYvYqQHbOMUBmuipArBAyQAAGLkAIajFAmq4sQHmmNEAMsj9A2FIvQL9OMUAFsmpAvVE/QLRmaEBC02VA9yWBQEoWgkBCp2RAwsjEPUhKZUCFdXdApaJjQMoAfECK+DFARCVRQC6GTEAz1UxAVhhZQBYNUUCy81FAASdNQC2MY0BSjFBA16pFQA92RkA24FFAvGBOQNyXdEBLZnRAKBhuQBkZXUB4xHtA43R2QL5qcUC2EW1AUxd2QKTOc0Dx6mlAX1pwQD02bkB+TXdApLdcQOBgVkBxf3xA8P5XQN1FVUBzUlJA21d7QBUFe0C2RX5A0sJNQG+sW0CLPitAbNU+QGCYM0BQ5zBAAL4+QMP6TUBOkEFAHqRJQOtXPEAY7TlAN7FCQLOAMkAqD0VA6dIzQLAfakDx9n1AJkyQQC75gEBbwHFABo2AQJixgEBIhXJAZD5/QMeLXUBc3H1AmieCQKRtbkAbPFdAbl1XQAdoa0C5D2VA/I1bQJH+YUDllGJAf750QDL/VUC4e2VAcQ16QK8xW0AnQnVALRh9QO9bfUCqOCxACWZuQFZxREBQnjVAQSp/QCxLVUBkXnRAhJItQMpbN0D22yxAIi8vQAoIfEBJJ2FATtZ0QBO4YkA/w25A+sZcQCfSakBJ2npAj220QAHlaEAEI2FAEUqBQM2SXEBDDW5AOPJ6QF4mgkCuFnpAJRpsQMULeEB6mHRALep5QNBhckCW+nVA7mGGQGFvdUAhYWdApRhaQJsHXECm5FtAg9tdQKDcKkAQyllAn28rQK/MWkAkvmlAdV5dQMuqNkD0EVxA5s1dQJIBekDC7npA9ch7QFY6c0CfqWlAq+VfQC9LeUDLFXdApp98QN76eEA1dn1AK6V8QJLJekA=",
          "dtype": "f4"
         },
         "xaxis": "x",
         "y": {
          "bdata": "zUMvQESW4EAE19JAtai9QOT73EBDwNVAIzbVQLCQvkB6/8VAnG7FQNbZz0BUnd9A4EXHQC8G40BNReBAH33lQD6C4EBU5eRAMQnhQPTG4kA8YOFAuP/jQIkG30AkdtlAV0niQPot4UC+HbBAgIzQQFDTtEBYRbJAECKwQB7xokDLTbNAAmaCQKMUtEDiXK5AgOK/QFHNrkDJ6eBABWC8QIiMwUCVkcBAHWi2QKCOv0BPyLFAUF++QAVvtkD6TMBAS8LGQC/ExUBGmtJA6K+/QDsatECnX6pAPvWsQAT6uEDJ7qVAiCesQAsgrUAHM7FA7ParQAmOpkDRPrRA7GG0QBRHrECoOL5AtW/PQBtn1UAuGsBAiMTWQEBr1EA27dJAs5bBQI+OwECJU7dAc0/RQOXz2EAKuOVAZIfSQBRU4ECv8OFApUnQQPSt0kBqXdFALgrSQGO500CpJNpAbaXKQKEh4UAGS81ArZrgQFoMs0BgwaJAi42HQE+LoECvVaxAReieQF7EnUARkqpA5eGjQNMSuUDQa6JAtkCdQJveq0Bw9dFACQrJQNu1s0CqaMpAmaDWQJRJzkBB4L9ATEC/QJ3S1UAotsdAPTm9QKa81kASLcNA0hO5QJcqtkCZNuRA/1u/QIgpzEBvSd1A9lO/QMPX1EDi879A30njQCxf3UB8huRALWPiQFVirkCNDbVA/jfAQPTku0ARcsJAr9i+QDIHv0AI6b9ANox5QeTqxkBbUcdAzjO7QBJFvEApFqxA7AypQEOuoUDqZKhAPn6tQA0Eq0BzJqdApJupQF+JtkDn+qZA1/yWQK+CrEBMFrlAzBzYQHNV2EBbptZAIKTZQMa/5EDqztdADLzkQLad2EA/icZAZ6vYQJ3E1kDEqthAzY7ZQDenskDtrrVA0UK1QGz6u0BhHLZAxrO8QOsOtkAYKLNAihe1QHBksEBC0rNAuvi2QIWqsEA=",
          "dtype": "f4"
         },
         "yaxis": "y"
        },
        {
         "hovertemplate": "label=6<br>UMAP1=%{x}<br>UMAP2=%{y}<extra></extra>",
         "legendgroup": "6",
         "marker": {
          "color": "#FF6692",
          "symbol": "circle"
         },
         "mode": "markers",
         "name": "6",
         "showlegend": true,
         "type": "scattergl",
         "x": {
          "bdata": "2pG3QErty0Be9bVAOkHCQAw+tUB9JL9AcfLWQHSKwEAhyrhAa9u8QF9Rs0AmrLFAELS6QIHkwkDv/spAf+O8QMqtv0DYgb9AbRu8QFbFvkCiT79Aq2++QPdNwUAsCcJASDfMQJYeykBYAclAx6DAQLMvyECDMs1AhNLGQPovx0Akl9hA1fzFQEh1ykBOn8hAjYLHQDIlxkDXGcJA92PCQFYyxEBnzMFAUIC/QPixwkB+dcJArkXCQLENtEBCmMNAurTCQHduwUAGszHAA22yQMY4t0CorrNAU2GwQL7Dr0DJnLBAQZ2wQNpnt0DFwrBAxwSvQBCksEBf4rFAi4SvQOQEyUBxSclAx6bHQFoLv0BJsMFAsNjHQN/IzEBCOMhAeK7LQKvU10DNkMtAuNDRQDVUz0CM9M9Ayi3RQFz5w0Bkv85AS0a9QIntwEA9Ms5AJt7PQLfDw0CYBMZAwIfGQD7Lv0BvJ8BALhXEQF+Iw0C9J8lAm63BQEvzw0DKi8FAAMTFQNLbxUD5o8dA4aTPQN0EwkD3CspA0YTNQGA9y0BUms5AaDzDQAoYyED0TLhAU8jRQCc9z0Ct4NtA6wvYQM5M2ED//NdAFfqzQIiiy0COoMtAjTOwQIF70EBsfdtAgB7cQAuO0UCTob1AQZ64QPI/y0BraM5Aw7fWQO9Yu0AIKN1A7UrfQKN31kC4L99AZhXfQCxpwUDabsFATaXDQIcJwkCNy8pAgZTeQBSnykChjMlAGZPdQCJMzECrTM5Ar1/NQCdXu0Ax0s1AnDHLQJlSx0BGEcNA5NTNQOpjzUC6+sVAZ0vHQBJTyEDshslAZ5rHQAevvEC8PMNA2TPIQDzlxUDvOL9AugXKQFnzyEC8cMRAno/WQOl8vUBngrdA8TW8QNIXyECFJb1A/vq/QPmmwkDwY7NAgEK/QJmyv0B4QbRAAnu4QAnasUBMdrtAQZrCQA==",
          "dtype": "f4"
         },
         "xaxis": "x",
         "y": {
          "bdata": "EeJuQa6Kb0HLCHBBodxtQdBrckEZZHNBYVZxQY34gEGdX29BolNuQfwVbkEWZ29B9OBtQeFAgEEMvHBBCflxQaAMgUGJm39B2cNwQWfifkGVz4BBbPmAQVWZbUFN13hBCnSAQR+egEGQqntBZk6BQYOSdkFS7oBBmBJ9QYlnfEF8sXFBSIduQaExgUGvnXZBEyN/QXoVfEEi8XVBk0N2QfgzdEGH13VBLl16QY2pc0EgXHdBL21zQWdldEE+VXJBXKxzQTQ/c0F47llAoSV1QajWekF6TXhBntN1QTnVdUGMHXdB/uh1QbXqekESW3dBNF12QRgbdkGWNnVBcN91QdTQe0HfJH5B/px+QfzXgEF6fIBBrYmBQXMneUGRuIFBMWd+QdpncUFZSoFBJxJxQU6icEGWqntBDnV8QT+oc0GcA4BB9VRwQewQc0EUH4BB0y56QbsdgEFnyHRBXLV6QbIcbkEa8IBBnW+BQUnIgUEqooFBt2R+QQdxgUEoF3xBjYyAQdLqgEGqSYFBxNpwQXLpe0Ez3YBBHx2AQUqygUFzWYBBaep8QdgxbkFyTHNBma50QWm8cEEabHBByvNwQQO7cUEtCXJBGLhvQc6uf0GRjIFBp7F1QfFTcUG6lnBBC2BwQdA0ckH9AnNBrVdzQY3ic0GDpXFBZCpxQT2/dEH+VnBBwZxvQX+ocEE4tG9BGeFvQRDpcUFhynJBA1FyQT6ZckGFKHBB7vFvQQwKcEHurXFB7StwQcKigEFq2IBBowKBQT6Qe0HXnIBByJGAQaetgUH76X9BnySAQTkvfkFTE3tBBsB7QVvldUFBWW5BjStuQfM9bUH5bHBBBAZuQQiSbkFTi21BNnNuQak8bkF2dm1BMipxQUnUbEG0/mxBXy5/QTz7fkH1JH9BxQuAQRY1f0G5uHFBmSiAQbpMgUEyN3JBIw1wQaaEdUEDK25BWsN/QQ==",
          "dtype": "f4"
         },
         "yaxis": "y"
        },
        {
         "hovertemplate": "label=7<br>UMAP1=%{x}<br>UMAP2=%{y}<extra></extra>",
         "legendgroup": "7",
         "marker": {
          "color": "#B6E880",
          "symbol": "circle"
         },
         "mode": "markers",
         "name": "7",
         "showlegend": true,
         "type": "scattergl",
         "x": {
          "bdata": "dS+LwLMVgsDIO2zAROGBwN75kcA/7G3ANZmAwNDLjsDFX2zAAEGAwJQtgMCTcYbAsO9+wIOYicAQYIrA2tmUwCV5bcD6KVvA3cqNwNJCl8CNZ5rAsFCVwF6zdMAOlJXAjOGTwHk5JcAzKJHAtf8iwAkekMAW+FTAe9ZswFLCGsCqTX3AOSKAwAEMj8A1LJLAZY2AwCFVY8CnWB/A+PIcwJM/G8B2QhvA0+0mwApdH8CdnhfAhasYwBLsN8B+veO/QhQbwCh8IsCnSDLApHmcwLOfkMDfi2nA4VeAwHzKj8BRcZrAmEdlwBnzk8BPaJDArn2MwPCkjsBI2JnAqYeOwB5fjsBk4GXAFmATwFmQ/L8JCSXAJItswH7pasAZZ2nAEDARwJtaasCJ8mrAa9dowL+okMAqv3rAj3uPwPdDjcCjHpLA20d3wA6OlMAYf4fAEV6HwK+FdcCrppLADBWKwBNThsA0upbAPAVWwMXuZsBqqFTADUFewH4gUMChDl/AYexUwHO0asDKMVjAoTAlwKf6X8CQ0V/AL7dlwI/9YMCgRHDAJppawJuoe8C+fmHAdSBQwG8FlcDPfFbAOvJlwKo2NcABDJDA17U3wMxAmcAD53nA0mBqwF/Im8BJmZXAhTGQwAF/mcCMsJvAKsWawCO2kMCZS5zAW3FvwGJkdMDD/Z7APeN6wExihcC7xXTAWdWPwJRrh8C7I5rAPJGZwB66lMAku37AXbKSwE9/bMDQY5DA44FTwPdqUMDDm1HAEl9swNGtb8DQUjfA1UlXwDQ4c8BQQHTAmjNuwMAYU8BDeFLAyXFSwDyJoMBr4prAIWGOwDomn8BW2J7AY9qdwCYumMD/iJjAscGgwM//jcDNSJXA754lQJgmjsB8kHPAPzaQwEmrWMAHLmnAbpiRwOx9jcAwx5TAHiiRwF+XhcCLTZTA+tN8wBqOlcA=",
          "dtype": "f4"
         },
         "xaxis": "x",
         "y": {
          "bdata": "0naywGavw8DrxazA+qu+wDY6tMDjQq7A8KLCwKMZtsBopK3ATmTDwOlAwcCXSMDA86a8wI4uxcD/VsbAP77FwLV8rcAeqb3AZe/EwO9MxsC0rbnA0qnGwH/BrcBPMcLAlq7GwEv3v8BfTr3A7gDAwI/zvMC+yrvAjTeswLAVwMA2osPAw+PEwO/xw8BFSMfA697EwPm3tMCiFb3A6bm+wML9vsCm8LzAYV++wGpKvcAAHcDA/GK+wF8YvcARXZXAkcW/wPNOvcACZLzAXNy4wH61tMDnp6vAicS/wBz9s8BMwbfAxgCtwOdyt8C0vrTAw5nCwBSqt8DTFb/AEcWywHaks8BPdK3AFH+/wJ9ku8BOka3A/a2rwJyzq8CmG6vAEqq/wOSGq8Cm26rAnimrwDZ2tcDe7cLA+Fu9wP2ywcAm1cLAFGHAwMjzxcCKRcXAR2HFwKJiscDLCsXAQ97HwCS6xcBHdLnAJJu+wMRKwsDEBb/ARRzCwBzGvMCYEcLAprq/wF9kwcB5ZsDAMZK/wLqGwcCy8MDAjlfBwKjKwcDwIsDABrPAwKLHw8AhScHAtHPBwOyBucD+28HAO7fCwOUEv8CtN7/A/mi/wGNxtsC4lLXA30qrwDOPucARi7TAXRu2wMKetsAkK7jAr1O6wGqducCQDbfAUAmswPMWr8CbF7rAgTq+wEcvu8D/gMDANwK4wGp8vcBTiLbAJKu2wMNRxMD/B8HACCvCwCsvrMBd6rXAAQG8wEhtusBwJLzAzu/AwAZ+wcC+/rrAK2+8wEz0vsDuFMLARbDAwNAavMBNjLvAxMa7wAfYucDXh7nAWdy+wHZYvMCQx7zAhwO9wHQKv8DOvcPA9jq6wASiu8CIKMPAcd/mQBgEs8B1XLTAkJ+0wEFlvsDoxqrAMNPDwIHtyMArwsbANoLHwHP9vsCXpLnAmHC1wDx4xMA=",
          "dtype": "f4"
         },
         "yaxis": "y"
        },
        {
         "hovertemplate": "label=8<br>UMAP1=%{x}<br>UMAP2=%{y}<extra></extra>",
         "legendgroup": "8",
         "marker": {
          "color": "#FF97FF",
          "symbol": "circle"
         },
         "mode": "markers",
         "name": "8",
         "showlegend": true,
         "type": "scattergl",
         "x": {
          "bdata": "Oizyv+EYHcDHjhfA3TkdwGfFEsBUZBzAnIkNwPcGHsCf+RbAaX8mwJKhF8APXDDA3O55wFW39b+Jq+e/gKogwD/l/r/EWjHAwjIGwG9dKMBX8xTAf10lwNTOF8AjexjAgi4WwP+3DsAILJW/6EAGwEKzAMBS/ty/QNHGv2XKhb8FwZ6/y0Pyv6Djwb+GRpW/DBesvx6NA8Dg6H+/X1QJwFhCWr+FkaW/jsqmv9gOcr9NUqG/v4mtv8gSkb8SMr+/G8Pkvx1GoL9ds6G/YGMYwL3vE8BWSQvAnXcXwNgOEcBjUBDAk8oSwIKREcDFDRXAnQgYwKC1EsDXahPAcpcXwIA+tL8PrtS/Afe3v1VI1r+zxcG/fm3rv89nkr+FCQDAPXEdwJp2mr9DkhDAACO8vxt1AMDt3LK/U6aGwEY6GcBZs4K/a/Jav76sU782UxTAs6+xvwuoRr/RpVC/E4wsQNluWL/Y67e/EZuov4Glo7/5lqq/pqimv5N4nb89RZm/f8Wfv/qbhL+lwKO/WtqFvzqqq7+yi/u/xdYOwMy/3b/Rt9G/b8gHwIwYD8CT6tS/AYXbv9pQBcBA+82/MGwMwBmG7r+TGOS/63OrPTj8GsAx7xnAHrQGwA7fGcDU1QDAeXEHwMdvF8AJK3w90bYcwB3sF8AjXRnA8zIbwMpeDcCZnmc9ZOwYwO5iF8CxTRjAO+0PwAS4CsDvOhvAr8sWwK5eF8DlBA3AqrYXwAwCgb+sIX6/vh2JvyBLcb9TsYC/lJVOvwVCa7/lQWC/jH1Uv52ASr9MM1q/J1NKvzEkYL/riIDAINk2wExaJcCrWxfAI/gOwJp4GcCMrRzAk5IewL0LHsCnrAzAXiIIwJQpBsAXfsu/3gYHwD5yBcCKdQTAK6kmwJEG8b+azC/ACwg/wMGyHMCtteu/",
          "dtype": "f4"
         },
         "xaxis": "x",
         "y": {
          "bdata": "xL9jQGL0RkClU1tAexpFQCPRS0CkoWRAvdZTQPBrRUAIrlxA09RLQKU+Z0BprEVA9GVOQO/AUkD6tGFAMG5hQDNjU0DgOktA0wdoQATERkC7YHdAKnRcQP0BZUBfWGlAopJ4QG+qXUD6VmVADwRMQFKYUUCJpllAZ/peQChZZEBiQmZACjZWQLVIY0AxXGpAxAxgQBdtT0Dvj1dAfVxLQJxkWkC7eVhADlpVQDASXUB3hVRAgYxlQE9+aEBFmVZAeAhZQLZmWkBqG1dAKhqHQAIsh0AHFINADA+HQDm1hUC8x4VAommGQLJChUD2I4VArWCHQCOahkAV1IZAmMyHQK5tZUDPk2JAsdFmQGw/X0ACN2FAbKVYQITsaEDBSVxALv9bQCOAYkDfNlVAfClsQL7VVkCPgHxAhkSGP+fNWkAnkmpAL/tdQMiOWkBYl19ANBd7QJtWWEB5KllAxmmxPx97WkCbhXtARi1mQHmIZ0DZEmZAO99mQPpEYEC6mWdAwOBhQKqSZUCB72dASGpmQP6IZkAHuVJArGA6QGNOS0A95k1AULxgQI7xOUBDVExAcA1OQBdsPkCveUtAYxxJQB2DRkBeNElAi+aAQHIVREDVAUZAQHs4QIGpQ0DQ9jtAKPs3QJQ9QEAeS4JA5/ZFQAGVRkCuQkVAgYVDQG/SVUABE4JAOt1MQCUPV0Be2FlA+55UQH/5XkBYLENAiAFKQLDBVUBs6FFAPrRDQAR6YkAj/GFALqNpQDBKWECGO1hALV9YQOPkWkCP8ldAgrNZQDcUWkAF+1pAQPtWQGC9WkATcNs/8PFDQBjBZ0AC3HdAzsFUQBybdEABv3BAB85oQDxObUAcs0xABuNCQHMWTkDZ5GRAoYU8QPDHO0AM1lBAd6FOQKhwTkDHHkdAbE1HQJ8UX0A/zk1A",
          "dtype": "f4"
         },
         "yaxis": "y"
        },
        {
         "hovertemplate": "label=9<br>UMAP1=%{x}<br>UMAP2=%{y}<extra></extra>",
         "legendgroup": "9",
         "marker": {
          "color": "#FECB52",
          "symbol": "circle"
         },
         "mode": "markers",
         "name": "9",
         "showlegend": true,
         "type": "scattergl",
         "x": {
          "bdata": "2MifQInKpUCbp6VACjimQFWXoECR/JJA9VEHwMyzoEC1YI9A1+ylQHdqpUBo4pFAuxiFQNX2okCFyJ5AoECgQFEsokCAbqRALG2kQBXbn0Ctf5VAsMKVQMZNoEDhDZpAjleaQOLx5L+1POe/SB+OQCN/pEAEK5FAIYiTQGvv5b+msOi/ZtbjvxhJ5L/r0wHANCsCwK8N5L9gyIVA2aOkQIa1o0Azx51A25mcQLQlmUB4/JVAfMGbQESTmkB6uJxAhnqZQMkjh0DVJJlAMpeOQGK/jECXwJJACdL4v274hEAw0oxAuzaKQLPSjEBoYY5AQEKNQG/wmUDyFYhALt6jQFUY+r91wQHAEnUCwGU7AsCQtwLACHICwAteAsD2fQXAJYUCwFaXA8DAwQTAvUAAwIPKAcBNGqNA/X6UQCbEo0Dy3YRA+EG4PgsviEDjuaNAJtyYQJwEhUA7Z6NAOCSGQGHbh0BTsYZAb+WeQE9elkCRa5hAXQmPQHnTlkCm5ppAenGgQA44nUCJeJ5ASRCXQK3rkUAWIZZAdXGWQPQzE0AyT5xA+YKYQB8ekEBYA51AdHyOQPvBmkB0AAXA24KeQADOk0BLeppAiaeeQMHgkkD2IJhAVMzeQJdbmkAPjJFAgUqNQPEfj0B6155AOAaTQLeZjUCoT5BA3hKTQGTqjUDTXpBAXbiVQHDDkUDUwo9A1CGQQF2wlkCEGIxAPRejQHlEk0DfAJhAwhaMQJyEjUBJPIlAmzWNQFu2jECYdZRAy5+UQNnqjECvKpNAt4iZQHLBlEAIgI1AesSXQEVBlUALf4pAbGGKQJTZAcCKqAXArEkXwMttBcCwoOm/DcdgQK1kAcBd5aNAgK3jv6MSpUBRVNc/S+VhQD5I5r8ZHZdAINiUQD1JokBLC5VAnUmOQIWejUAECpdAnmaZQB5MlkAK0pZAZ+qbQPaek0DZ+JlA",
          "dtype": "f4"
         },
         "xaxis": "x",
         "y": {
          "bdata": "WAYwQOcwUkC2sU9ARIlVQG25ZUB/LExAqYgqQE8CM0CvkzxAuolGQLtFS0DFKTBA6Wo1QMrEQUCoNzBA7JoyQEIQOUBAzkZAUyxJQCaeMEDtIS9ACKA1QDgMMUDJ+jxAxKIyQMU6lMB/xZPA1pM6QAB+SkDYiTBAvJFfQNfJlcAghpPAdYKUwOrylMBxhabADCSowKTalMDCxTVAL9dFQNk1RkDJ0ENAmgVGQEfMR0CYpElAeVtAQIZCQECiGEFAR+ZCQG93PkBZakFA6eNeQCfbV0DHcGRAbJhXQMDCNUByMmZAZcdFQJdKWEAZXmJA2oVoQI7iTUCsmj9AEShGQAQEscCyaafAGxOowMvQp8DZMafAUaqnwNh0p8DJTKTALxenwHNtqcDGh63AAj2twCz2psCLMkxAz2k1QM3BR0BjlDRAPh5SQDDkPECO20dA8UE6QJ9wM0DmR0dAAzA4QMykP0CxDjdAMpFiQE79XEDLSGFA8XFJQBB/VUBBaFlAklhfQBRaYkAyjFpAktxgQChBS0CEcmNANANcQPvTqj/cgHFAZpF9QObILUDD821Am84sQOEUdUAWIzpAnW1qQKL0MUAHBzVAm6VsQLr+L0AU/k5ASuxvQWR+PUCEZlZA6qdBQGGGWEChlzJA5cQ0QBYMWEC3kTxAIyY3QFEyPkCkTjBA45tYQC8bU0Dt0FNAyaI+QFw4OUBeqWBAMPlJQAb4PkCZ50NAn65HQIhKS0DZ9UJADsdHQA2YO0Dg8lVAlulRQNMEOkDkcFVA4aZaQHp3WEAHfz1AVK5ZQKwTRUCYcTxATW89QAbrpsCcc6bAxvq/wLfhqMC5GpfA5uzaQBxapcB1kkpAp6KVwO2tPkBuhYs/2/7aQGWqlcDVIFpAeGw+QPaITUAmkzZAnps8QProPEBo9UJAm7o6QDPIPUAeOkBABxUtQMbSPUDvGjZA",
          "dtype": "f4"
         },
         "yaxis": "y"
        }
       ],
       "layout": {
        "legend": {
         "title": {
          "text": "label"
         },
         "tracegroupgap": 0
        },
        "template": {
         "data": {
          "bar": [
           {
            "error_x": {
             "color": "#2a3f5f"
            },
            "error_y": {
             "color": "#2a3f5f"
            },
            "marker": {
             "line": {
              "color": "#E5ECF6",
              "width": 0.5
             },
             "pattern": {
              "fillmode": "overlay",
              "size": 10,
              "solidity": 0.2
             }
            },
            "type": "bar"
           }
          ],
          "barpolar": [
           {
            "marker": {
             "line": {
              "color": "#E5ECF6",
              "width": 0.5
             },
             "pattern": {
              "fillmode": "overlay",
              "size": 10,
              "solidity": 0.2
             }
            },
            "type": "barpolar"
           }
          ],
          "carpet": [
           {
            "aaxis": {
             "endlinecolor": "#2a3f5f",
             "gridcolor": "white",
             "linecolor": "white",
             "minorgridcolor": "white",
             "startlinecolor": "#2a3f5f"
            },
            "baxis": {
             "endlinecolor": "#2a3f5f",
             "gridcolor": "white",
             "linecolor": "white",
             "minorgridcolor": "white",
             "startlinecolor": "#2a3f5f"
            },
            "type": "carpet"
           }
          ],
          "choropleth": [
           {
            "colorbar": {
             "outlinewidth": 0,
             "ticks": ""
            },
            "type": "choropleth"
           }
          ],
          "contour": [
           {
            "colorbar": {
             "outlinewidth": 0,
             "ticks": ""
            },
            "colorscale": [
             [
              0,
              "#0d0887"
             ],
             [
              0.1111111111111111,
              "#46039f"
             ],
             [
              0.2222222222222222,
              "#7201a8"
             ],
             [
              0.3333333333333333,
              "#9c179e"
             ],
             [
              0.4444444444444444,
              "#bd3786"
             ],
             [
              0.5555555555555556,
              "#d8576b"
             ],
             [
              0.6666666666666666,
              "#ed7953"
             ],
             [
              0.7777777777777778,
              "#fb9f3a"
             ],
             [
              0.8888888888888888,
              "#fdca26"
             ],
             [
              1,
              "#f0f921"
             ]
            ],
            "type": "contour"
           }
          ],
          "contourcarpet": [
           {
            "colorbar": {
             "outlinewidth": 0,
             "ticks": ""
            },
            "type": "contourcarpet"
           }
          ],
          "heatmap": [
           {
            "colorbar": {
             "outlinewidth": 0,
             "ticks": ""
            },
            "colorscale": [
             [
              0,
              "#0d0887"
             ],
             [
              0.1111111111111111,
              "#46039f"
             ],
             [
              0.2222222222222222,
              "#7201a8"
             ],
             [
              0.3333333333333333,
              "#9c179e"
             ],
             [
              0.4444444444444444,
              "#bd3786"
             ],
             [
              0.5555555555555556,
              "#d8576b"
             ],
             [
              0.6666666666666666,
              "#ed7953"
             ],
             [
              0.7777777777777778,
              "#fb9f3a"
             ],
             [
              0.8888888888888888,
              "#fdca26"
             ],
             [
              1,
              "#f0f921"
             ]
            ],
            "type": "heatmap"
           }
          ],
          "histogram": [
           {
            "marker": {
             "pattern": {
              "fillmode": "overlay",
              "size": 10,
              "solidity": 0.2
             }
            },
            "type": "histogram"
           }
          ],
          "histogram2d": [
           {
            "colorbar": {
             "outlinewidth": 0,
             "ticks": ""
            },
            "colorscale": [
             [
              0,
              "#0d0887"
             ],
             [
              0.1111111111111111,
              "#46039f"
             ],
             [
              0.2222222222222222,
              "#7201a8"
             ],
             [
              0.3333333333333333,
              "#9c179e"
             ],
             [
              0.4444444444444444,
              "#bd3786"
             ],
             [
              0.5555555555555556,
              "#d8576b"
             ],
             [
              0.6666666666666666,
              "#ed7953"
             ],
             [
              0.7777777777777778,
              "#fb9f3a"
             ],
             [
              0.8888888888888888,
              "#fdca26"
             ],
             [
              1,
              "#f0f921"
             ]
            ],
            "type": "histogram2d"
           }
          ],
          "histogram2dcontour": [
           {
            "colorbar": {
             "outlinewidth": 0,
             "ticks": ""
            },
            "colorscale": [
             [
              0,
              "#0d0887"
             ],
             [
              0.1111111111111111,
              "#46039f"
             ],
             [
              0.2222222222222222,
              "#7201a8"
             ],
             [
              0.3333333333333333,
              "#9c179e"
             ],
             [
              0.4444444444444444,
              "#bd3786"
             ],
             [
              0.5555555555555556,
              "#d8576b"
             ],
             [
              0.6666666666666666,
              "#ed7953"
             ],
             [
              0.7777777777777778,
              "#fb9f3a"
             ],
             [
              0.8888888888888888,
              "#fdca26"
             ],
             [
              1,
              "#f0f921"
             ]
            ],
            "type": "histogram2dcontour"
           }
          ],
          "mesh3d": [
           {
            "colorbar": {
             "outlinewidth": 0,
             "ticks": ""
            },
            "type": "mesh3d"
           }
          ],
          "parcoords": [
           {
            "line": {
             "colorbar": {
              "outlinewidth": 0,
              "ticks": ""
             }
            },
            "type": "parcoords"
           }
          ],
          "pie": [
           {
            "automargin": true,
            "type": "pie"
           }
          ],
          "scatter": [
           {
            "fillpattern": {
             "fillmode": "overlay",
             "size": 10,
             "solidity": 0.2
            },
            "type": "scatter"
           }
          ],
          "scatter3d": [
           {
            "line": {
             "colorbar": {
              "outlinewidth": 0,
              "ticks": ""
             }
            },
            "marker": {
             "colorbar": {
              "outlinewidth": 0,
              "ticks": ""
             }
            },
            "type": "scatter3d"
           }
          ],
          "scattercarpet": [
           {
            "marker": {
             "colorbar": {
              "outlinewidth": 0,
              "ticks": ""
             }
            },
            "type": "scattercarpet"
           }
          ],
          "scattergeo": [
           {
            "marker": {
             "colorbar": {
              "outlinewidth": 0,
              "ticks": ""
             }
            },
            "type": "scattergeo"
           }
          ],
          "scattergl": [
           {
            "marker": {
             "colorbar": {
              "outlinewidth": 0,
              "ticks": ""
             }
            },
            "type": "scattergl"
           }
          ],
          "scattermap": [
           {
            "marker": {
             "colorbar": {
              "outlinewidth": 0,
              "ticks": ""
             }
            },
            "type": "scattermap"
           }
          ],
          "scattermapbox": [
           {
            "marker": {
             "colorbar": {
              "outlinewidth": 0,
              "ticks": ""
             }
            },
            "type": "scattermapbox"
           }
          ],
          "scatterpolar": [
           {
            "marker": {
             "colorbar": {
              "outlinewidth": 0,
              "ticks": ""
             }
            },
            "type": "scatterpolar"
           }
          ],
          "scatterpolargl": [
           {
            "marker": {
             "colorbar": {
              "outlinewidth": 0,
              "ticks": ""
             }
            },
            "type": "scatterpolargl"
           }
          ],
          "scatterternary": [
           {
            "marker": {
             "colorbar": {
              "outlinewidth": 0,
              "ticks": ""
             }
            },
            "type": "scatterternary"
           }
          ],
          "surface": [
           {
            "colorbar": {
             "outlinewidth": 0,
             "ticks": ""
            },
            "colorscale": [
             [
              0,
              "#0d0887"
             ],
             [
              0.1111111111111111,
              "#46039f"
             ],
             [
              0.2222222222222222,
              "#7201a8"
             ],
             [
              0.3333333333333333,
              "#9c179e"
             ],
             [
              0.4444444444444444,
              "#bd3786"
             ],
             [
              0.5555555555555556,
              "#d8576b"
             ],
             [
              0.6666666666666666,
              "#ed7953"
             ],
             [
              0.7777777777777778,
              "#fb9f3a"
             ],
             [
              0.8888888888888888,
              "#fdca26"
             ],
             [
              1,
              "#f0f921"
             ]
            ],
            "type": "surface"
           }
          ],
          "table": [
           {
            "cells": {
             "fill": {
              "color": "#EBF0F8"
             },
             "line": {
              "color": "white"
             }
            },
            "header": {
             "fill": {
              "color": "#C8D4E3"
             },
             "line": {
              "color": "white"
             }
            },
            "type": "table"
           }
          ]
         },
         "layout": {
          "annotationdefaults": {
           "arrowcolor": "#2a3f5f",
           "arrowhead": 0,
           "arrowwidth": 1
          },
          "autotypenumbers": "strict",
          "coloraxis": {
           "colorbar": {
            "outlinewidth": 0,
            "ticks": ""
           }
          },
          "colorscale": {
           "diverging": [
            [
             0,
             "#8e0152"
            ],
            [
             0.1,
             "#c51b7d"
            ],
            [
             0.2,
             "#de77ae"
            ],
            [
             0.3,
             "#f1b6da"
            ],
            [
             0.4,
             "#fde0ef"
            ],
            [
             0.5,
             "#f7f7f7"
            ],
            [
             0.6,
             "#e6f5d0"
            ],
            [
             0.7,
             "#b8e186"
            ],
            [
             0.8,
             "#7fbc41"
            ],
            [
             0.9,
             "#4d9221"
            ],
            [
             1,
             "#276419"
            ]
           ],
           "sequential": [
            [
             0,
             "#0d0887"
            ],
            [
             0.1111111111111111,
             "#46039f"
            ],
            [
             0.2222222222222222,
             "#7201a8"
            ],
            [
             0.3333333333333333,
             "#9c179e"
            ],
            [
             0.4444444444444444,
             "#bd3786"
            ],
            [
             0.5555555555555556,
             "#d8576b"
            ],
            [
             0.6666666666666666,
             "#ed7953"
            ],
            [
             0.7777777777777778,
             "#fb9f3a"
            ],
            [
             0.8888888888888888,
             "#fdca26"
            ],
            [
             1,
             "#f0f921"
            ]
           ],
           "sequentialminus": [
            [
             0,
             "#0d0887"
            ],
            [
             0.1111111111111111,
             "#46039f"
            ],
            [
             0.2222222222222222,
             "#7201a8"
            ],
            [
             0.3333333333333333,
             "#9c179e"
            ],
            [
             0.4444444444444444,
             "#bd3786"
            ],
            [
             0.5555555555555556,
             "#d8576b"
            ],
            [
             0.6666666666666666,
             "#ed7953"
            ],
            [
             0.7777777777777778,
             "#fb9f3a"
            ],
            [
             0.8888888888888888,
             "#fdca26"
            ],
            [
             1,
             "#f0f921"
            ]
           ]
          },
          "colorway": [
           "#636efa",
           "#EF553B",
           "#00cc96",
           "#ab63fa",
           "#FFA15A",
           "#19d3f3",
           "#FF6692",
           "#B6E880",
           "#FF97FF",
           "#FECB52"
          ],
          "font": {
           "color": "#2a3f5f"
          },
          "geo": {
           "bgcolor": "white",
           "lakecolor": "white",
           "landcolor": "#E5ECF6",
           "showlakes": true,
           "showland": true,
           "subunitcolor": "white"
          },
          "hoverlabel": {
           "align": "left"
          },
          "hovermode": "closest",
          "mapbox": {
           "style": "light"
          },
          "paper_bgcolor": "white",
          "plot_bgcolor": "#E5ECF6",
          "polar": {
           "angularaxis": {
            "gridcolor": "white",
            "linecolor": "white",
            "ticks": ""
           },
           "bgcolor": "#E5ECF6",
           "radialaxis": {
            "gridcolor": "white",
            "linecolor": "white",
            "ticks": ""
           }
          },
          "scene": {
           "xaxis": {
            "backgroundcolor": "#E5ECF6",
            "gridcolor": "white",
            "gridwidth": 2,
            "linecolor": "white",
            "showbackground": true,
            "ticks": "",
            "zerolinecolor": "white"
           },
           "yaxis": {
            "backgroundcolor": "#E5ECF6",
            "gridcolor": "white",
            "gridwidth": 2,
            "linecolor": "white",
            "showbackground": true,
            "ticks": "",
            "zerolinecolor": "white"
           },
           "zaxis": {
            "backgroundcolor": "#E5ECF6",
            "gridcolor": "white",
            "gridwidth": 2,
            "linecolor": "white",
            "showbackground": true,
            "ticks": "",
            "zerolinecolor": "white"
           }
          },
          "shapedefaults": {
           "line": {
            "color": "#2a3f5f"
           }
          },
          "ternary": {
           "aaxis": {
            "gridcolor": "white",
            "linecolor": "white",
            "ticks": ""
           },
           "baxis": {
            "gridcolor": "white",
            "linecolor": "white",
            "ticks": ""
           },
           "bgcolor": "#E5ECF6",
           "caxis": {
            "gridcolor": "white",
            "linecolor": "white",
            "ticks": ""
           }
          },
          "title": {
           "x": 0.05
          },
          "xaxis": {
           "automargin": true,
           "gridcolor": "white",
           "linecolor": "white",
           "ticks": "",
           "title": {
            "standoff": 15
           },
           "zerolinecolor": "white",
           "zerolinewidth": 2
          },
          "yaxis": {
           "automargin": true,
           "gridcolor": "white",
           "linecolor": "white",
           "ticks": "",
           "title": {
            "standoff": 15
           },
           "zerolinecolor": "white",
           "zerolinewidth": 2
          }
         }
        },
        "title": {
         "text": "Visualización del Dataset Digits con UMAP"
        },
        "xaxis": {
         "anchor": "y",
         "domain": [
          0,
          1
         ],
         "title": {
          "text": "UMAP1"
         }
        },
        "yaxis": {
         "anchor": "x",
         "domain": [
          0,
          1
         ],
         "title": {
          "text": "UMAP2"
         }
        }
       }
      }
     },
     "metadata": {},
     "output_type": "display_data"
    }
   ],
   "source": [
    "# Aplicamos UMAP. n_neighbors y min_dist son hiperparámetros clave.\n",
    "reducer = umap.UMAP(n_neighbors=15, min_dist=0.0, n_components=2)\n",
    "X_umap = reducer.fit_transform(X_scaled)\n",
    "\n",
    "# Creamos el DataFrame para Plotly\n",
    "df_umap = pd.DataFrame(data=X_umap, columns=['UMAP1', 'UMAP2'])\n",
    "df_umap['label'] = y.astype(str)\n",
    "\n",
    "# Visualizamos\n",
    "fig = px.scatter(df_umap, x='UMAP1', y='UMAP2', color='label',\n",
    "                 title='Visualización del Dataset Digits con UMAP',\n",
    "                 labels={'color': 'Dígito'})\n",
    "fig.show()"
   ]
  },
  {
   "cell_type": "markdown",
   "metadata": {},
   "source": [
    "**Análisis de UMAP:** UMAP también produce una excelente separación de los clusters, similar a t-SNE. A menudo, UMAP es mucho más rápido que t-SNE (aunque en este dataset pequeño la diferencia no es tan notable) y puede preservar mejor la estructura global de los datos. Observa cómo algunos clusters (como el '4' y el '7') pueden aparecer más cercanos entre sí, lo que podría reflejar una mayor similitud intrínseca."
   ]
  },
  {
   "cell_type": "markdown",
   "metadata": {},
   "source": [
    "## 7. Conclusiones del Taller\n",
    "\n",
    "- **PCA** es una herramienta rápida y útil para una reducción de dimensionalidad lineal. Es excelente como paso de preprocesamiento, pero puede no ser la mejor para la visualización de estructuras complejas.\n",
    "- **t-SNE** es excepcional para revelar la estructura de clusters locales en los datos, produciendo visualizaciones muy claras y separadas.\n",
    "- **UMAP** ofrece resultados de visualización de alta calidad, a menudo comparables o superiores a los de t-SNE, pero con la ventaja de ser significativamente más rápido y, a menudo, preservar mejor la estructura global de los datos."
   ]
  },
  {
   "cell_type": "markdown",
   "metadata": {},
   "source": [
    "---"
   ]
  },
  {
   "cell_type": "markdown",
   "metadata": {},
   "source": [
    "## ✍️ Ejercicios Propuestos\n",
    "\n",
    "1.  **Varianza en PCA:** ¿Cuántos componentes principales son necesarios para explicar el 95% de la varianza en el dataset `digits`? Vuelve a ejecutar el análisis del Scree Plot y encuentra el número exacto.\n",
    "\n",
    "2.  **Experimenta con t-SNE:** Modifica el hiperparámetro `perplexity` en el modelo t-SNE a valores más bajos (ej. 5) y más altos (ej. 200). ¿Cómo cambia la visualización? ¿Qué parece controlar este parámetro?\n",
    "\n",
    "3.  **Experimenta con UMAP:** Modifica el hiperparámetro `n_neighbors` en el modelo UMAP a valores más bajos (ej. 5) y más altos (ej. 50). ¿Cómo afecta esto a la separación de los clusters y a la estructura global?\n",
    "\n",
    "4.  **Visualización 3D:** Adapta el código de PCA, t-SNE y UMAP para reducir los datos a 3 componentes (`n_components=3`). Utiliza `plotly.express.scatter_3d` para crear visualizaciones tridimensionales. ¿Añade la tercera dimensión una mejor perspectiva?\n",
    "\n",
    "5.  **Impacto en un Clasificador:** Entrena un modelo simple, como `LogisticRegression` de Scikit-learn, sobre los datos originales escalados (`X_scaled`). Luego, entrena el mismo modelo sobre los datos reducidos por PCA (usando suficientes componentes para capturar el 95% de la varianza). Compara el tiempo de entrenamiento y la precisión (accuracy) de ambos modelos. ¿Qué observas?\n",
    "\n",
    "6.  **Interpretando los Componentes Principales:** El objeto `pca_2d` contiene los `components_` (loadings). Cada componente es un vector de 64 elementos. \"Reforma\" (`reshape`) el primer componente principal a una imagen de 8x8 y visualízalo con `plt.imshow`. ¿Qué parece representar este componente? ¿Qué píxeles son los más importantes?\n",
    "\n",
    "7.  **Aplicación a otro Dataset:** Carga el dataset `load_wine` de Scikit-learn. Este dataset tiene 13 características. Aplica PCA, t-SNE y UMAP para visualizar las 3 clases de vinos. ¿Cuál técnica funciona mejor para separar las clases?\n",
    "le? ¿Por qué?\n"
   ]
  },
  {
   "cell_type": "markdown",
   "metadata": {},
   "source": [
    "**Observación sobre el punto 5:**\n",
    "En mi PC observé los siguientes datos de accuracy y tiempo, como para darles una referencia:\n",
    "\n",
    "| Métrica                     | Modelo Original | Modelo con PCA |\n",
    "|-----------------------------|----------------|---------------|\n",
    "| Número de Características   | 64             | 39            |\n",
    "| Tiempo de Entrenamiento     | 0.0340         | 0.0062        |\n",
    "| Precisión (Accuracy)        | 0.9796         | 0.9630        |"
   ]
  },
  {
   "cell_type": "markdown",
   "metadata": {},
   "source": [
    "-------------\n",
    "\n",
    "##### 1.  **Varianza en PCA:** ¿Cuántos componentes principales son necesarios para explicar el 95% de la varianza en el dataset `digits`? Vuelve a ejecutar el análisis del Scree Plot y encuentra el número exacto.\n",
    "\n",
    "`Respuesta`:"
   ]
  },
  {
   "cell_type": "code",
   "execution_count": 17,
   "metadata": {},
   "outputs": [
    {
     "data": {
      "text/plain": [
       "'**Número de componentes** principales necesarios para explicar el 95% de la varianza: 40'"
      ]
     },
     "metadata": {},
     "output_type": "display_data"
    },
    {
     "data": {
      "application/vnd.plotly.v1+json": {
       "config": {
        "plotlyServerURL": "https://plot.ly"
       },
       "data": [
        {
         "fillpattern": {
          "shape": ""
         },
         "hovertemplate": "Núm. Componentes Principales=%{x}<br>Varianza Explicada Acumulada=%{y}<extra></extra>",
         "legendgroup": "",
         "line": {
          "color": "#636efa"
         },
         "marker": {
          "symbol": "circle"
         },
         "mode": "lines",
         "name": "",
         "orientation": "v",
         "showlegend": false,
         "stackgroup": "1",
         "type": "scatter",
         "x": {
          "bdata": "AQIDBAUGBwgJCgsMDQ4PEBESExQVFhcYGRobHB0eHyAhIiMkJSYnKA==",
          "dtype": "i1"
         },
         "xaxis": "x",
         "y": {
          "bdata": "MGfTGIzOvj8PuktsPaTLP45gpCSnOdM/UUM9IFpi1z9gjtrLo37aP3VSZ8sUMd0/dsQzu/O23z/f4uFVIvHgP6IKX5a/5uE/QkE1I/DW4j9D/JHT0rrjP4Ggv5bvjeQ/iCBpKFRI5T9XDpeAx/7lPxR1lqcnsOY/2A9Oo/ZM5z/VUSKPat7nP+UKllybZOg/a7najmPn6D9+dCkpYmHpPxfWqSHPz+k/Efg1dwE46j/rztPYgpfqP9BExE0n7uo/tiRjKQ0+6z+Ijtn/bYvrP/upDbYg0us/VQssYqoW7D/VkzA5A1jsPxC/2Nwplew/VStcbJrQ7D/n6ZLaSAntP2feSk/aPu0/+kk6tFhz7T+acIDtyqPtP/jNUBKV0u0/JWr/h3r97T85+cfE8iTuP4RsgvMdSu4/SPM9Uchs7j8=",
          "dtype": "f8"
         },
         "yaxis": "y"
        }
       ],
       "layout": {
        "annotations": [
         {
          "arrowhead": 1,
          "showarrow": true,
          "text": "95% de Varianza Explicada",
          "x": 35,
          "y": 0.95
         }
        ],
        "legend": {
         "tracegroupgap": 0
        },
        "shapes": [
         {
          "line": {
           "color": "red",
           "dash": "dash"
          },
          "type": "line",
          "x0": 0,
          "x1": 1,
          "xref": "x domain",
          "y0": 0.95,
          "y1": 0.95,
          "yref": "y"
         }
        ],
        "template": {
         "data": {
          "bar": [
           {
            "error_x": {
             "color": "#2a3f5f"
            },
            "error_y": {
             "color": "#2a3f5f"
            },
            "marker": {
             "line": {
              "color": "#E5ECF6",
              "width": 0.5
             },
             "pattern": {
              "fillmode": "overlay",
              "size": 10,
              "solidity": 0.2
             }
            },
            "type": "bar"
           }
          ],
          "barpolar": [
           {
            "marker": {
             "line": {
              "color": "#E5ECF6",
              "width": 0.5
             },
             "pattern": {
              "fillmode": "overlay",
              "size": 10,
              "solidity": 0.2
             }
            },
            "type": "barpolar"
           }
          ],
          "carpet": [
           {
            "aaxis": {
             "endlinecolor": "#2a3f5f",
             "gridcolor": "white",
             "linecolor": "white",
             "minorgridcolor": "white",
             "startlinecolor": "#2a3f5f"
            },
            "baxis": {
             "endlinecolor": "#2a3f5f",
             "gridcolor": "white",
             "linecolor": "white",
             "minorgridcolor": "white",
             "startlinecolor": "#2a3f5f"
            },
            "type": "carpet"
           }
          ],
          "choropleth": [
           {
            "colorbar": {
             "outlinewidth": 0,
             "ticks": ""
            },
            "type": "choropleth"
           }
          ],
          "contour": [
           {
            "colorbar": {
             "outlinewidth": 0,
             "ticks": ""
            },
            "colorscale": [
             [
              0,
              "#0d0887"
             ],
             [
              0.1111111111111111,
              "#46039f"
             ],
             [
              0.2222222222222222,
              "#7201a8"
             ],
             [
              0.3333333333333333,
              "#9c179e"
             ],
             [
              0.4444444444444444,
              "#bd3786"
             ],
             [
              0.5555555555555556,
              "#d8576b"
             ],
             [
              0.6666666666666666,
              "#ed7953"
             ],
             [
              0.7777777777777778,
              "#fb9f3a"
             ],
             [
              0.8888888888888888,
              "#fdca26"
             ],
             [
              1,
              "#f0f921"
             ]
            ],
            "type": "contour"
           }
          ],
          "contourcarpet": [
           {
            "colorbar": {
             "outlinewidth": 0,
             "ticks": ""
            },
            "type": "contourcarpet"
           }
          ],
          "heatmap": [
           {
            "colorbar": {
             "outlinewidth": 0,
             "ticks": ""
            },
            "colorscale": [
             [
              0,
              "#0d0887"
             ],
             [
              0.1111111111111111,
              "#46039f"
             ],
             [
              0.2222222222222222,
              "#7201a8"
             ],
             [
              0.3333333333333333,
              "#9c179e"
             ],
             [
              0.4444444444444444,
              "#bd3786"
             ],
             [
              0.5555555555555556,
              "#d8576b"
             ],
             [
              0.6666666666666666,
              "#ed7953"
             ],
             [
              0.7777777777777778,
              "#fb9f3a"
             ],
             [
              0.8888888888888888,
              "#fdca26"
             ],
             [
              1,
              "#f0f921"
             ]
            ],
            "type": "heatmap"
           }
          ],
          "histogram": [
           {
            "marker": {
             "pattern": {
              "fillmode": "overlay",
              "size": 10,
              "solidity": 0.2
             }
            },
            "type": "histogram"
           }
          ],
          "histogram2d": [
           {
            "colorbar": {
             "outlinewidth": 0,
             "ticks": ""
            },
            "colorscale": [
             [
              0,
              "#0d0887"
             ],
             [
              0.1111111111111111,
              "#46039f"
             ],
             [
              0.2222222222222222,
              "#7201a8"
             ],
             [
              0.3333333333333333,
              "#9c179e"
             ],
             [
              0.4444444444444444,
              "#bd3786"
             ],
             [
              0.5555555555555556,
              "#d8576b"
             ],
             [
              0.6666666666666666,
              "#ed7953"
             ],
             [
              0.7777777777777778,
              "#fb9f3a"
             ],
             [
              0.8888888888888888,
              "#fdca26"
             ],
             [
              1,
              "#f0f921"
             ]
            ],
            "type": "histogram2d"
           }
          ],
          "histogram2dcontour": [
           {
            "colorbar": {
             "outlinewidth": 0,
             "ticks": ""
            },
            "colorscale": [
             [
              0,
              "#0d0887"
             ],
             [
              0.1111111111111111,
              "#46039f"
             ],
             [
              0.2222222222222222,
              "#7201a8"
             ],
             [
              0.3333333333333333,
              "#9c179e"
             ],
             [
              0.4444444444444444,
              "#bd3786"
             ],
             [
              0.5555555555555556,
              "#d8576b"
             ],
             [
              0.6666666666666666,
              "#ed7953"
             ],
             [
              0.7777777777777778,
              "#fb9f3a"
             ],
             [
              0.8888888888888888,
              "#fdca26"
             ],
             [
              1,
              "#f0f921"
             ]
            ],
            "type": "histogram2dcontour"
           }
          ],
          "mesh3d": [
           {
            "colorbar": {
             "outlinewidth": 0,
             "ticks": ""
            },
            "type": "mesh3d"
           }
          ],
          "parcoords": [
           {
            "line": {
             "colorbar": {
              "outlinewidth": 0,
              "ticks": ""
             }
            },
            "type": "parcoords"
           }
          ],
          "pie": [
           {
            "automargin": true,
            "type": "pie"
           }
          ],
          "scatter": [
           {
            "fillpattern": {
             "fillmode": "overlay",
             "size": 10,
             "solidity": 0.2
            },
            "type": "scatter"
           }
          ],
          "scatter3d": [
           {
            "line": {
             "colorbar": {
              "outlinewidth": 0,
              "ticks": ""
             }
            },
            "marker": {
             "colorbar": {
              "outlinewidth": 0,
              "ticks": ""
             }
            },
            "type": "scatter3d"
           }
          ],
          "scattercarpet": [
           {
            "marker": {
             "colorbar": {
              "outlinewidth": 0,
              "ticks": ""
             }
            },
            "type": "scattercarpet"
           }
          ],
          "scattergeo": [
           {
            "marker": {
             "colorbar": {
              "outlinewidth": 0,
              "ticks": ""
             }
            },
            "type": "scattergeo"
           }
          ],
          "scattergl": [
           {
            "marker": {
             "colorbar": {
              "outlinewidth": 0,
              "ticks": ""
             }
            },
            "type": "scattergl"
           }
          ],
          "scattermap": [
           {
            "marker": {
             "colorbar": {
              "outlinewidth": 0,
              "ticks": ""
             }
            },
            "type": "scattermap"
           }
          ],
          "scattermapbox": [
           {
            "marker": {
             "colorbar": {
              "outlinewidth": 0,
              "ticks": ""
             }
            },
            "type": "scattermapbox"
           }
          ],
          "scatterpolar": [
           {
            "marker": {
             "colorbar": {
              "outlinewidth": 0,
              "ticks": ""
             }
            },
            "type": "scatterpolar"
           }
          ],
          "scatterpolargl": [
           {
            "marker": {
             "colorbar": {
              "outlinewidth": 0,
              "ticks": ""
             }
            },
            "type": "scatterpolargl"
           }
          ],
          "scatterternary": [
           {
            "marker": {
             "colorbar": {
              "outlinewidth": 0,
              "ticks": ""
             }
            },
            "type": "scatterternary"
           }
          ],
          "surface": [
           {
            "colorbar": {
             "outlinewidth": 0,
             "ticks": ""
            },
            "colorscale": [
             [
              0,
              "#0d0887"
             ],
             [
              0.1111111111111111,
              "#46039f"
             ],
             [
              0.2222222222222222,
              "#7201a8"
             ],
             [
              0.3333333333333333,
              "#9c179e"
             ],
             [
              0.4444444444444444,
              "#bd3786"
             ],
             [
              0.5555555555555556,
              "#d8576b"
             ],
             [
              0.6666666666666666,
              "#ed7953"
             ],
             [
              0.7777777777777778,
              "#fb9f3a"
             ],
             [
              0.8888888888888888,
              "#fdca26"
             ],
             [
              1,
              "#f0f921"
             ]
            ],
            "type": "surface"
           }
          ],
          "table": [
           {
            "cells": {
             "fill": {
              "color": "#EBF0F8"
             },
             "line": {
              "color": "white"
             }
            },
            "header": {
             "fill": {
              "color": "#C8D4E3"
             },
             "line": {
              "color": "white"
             }
            },
            "type": "table"
           }
          ]
         },
         "layout": {
          "annotationdefaults": {
           "arrowcolor": "#2a3f5f",
           "arrowhead": 0,
           "arrowwidth": 1
          },
          "autotypenumbers": "strict",
          "coloraxis": {
           "colorbar": {
            "outlinewidth": 0,
            "ticks": ""
           }
          },
          "colorscale": {
           "diverging": [
            [
             0,
             "#8e0152"
            ],
            [
             0.1,
             "#c51b7d"
            ],
            [
             0.2,
             "#de77ae"
            ],
            [
             0.3,
             "#f1b6da"
            ],
            [
             0.4,
             "#fde0ef"
            ],
            [
             0.5,
             "#f7f7f7"
            ],
            [
             0.6,
             "#e6f5d0"
            ],
            [
             0.7,
             "#b8e186"
            ],
            [
             0.8,
             "#7fbc41"
            ],
            [
             0.9,
             "#4d9221"
            ],
            [
             1,
             "#276419"
            ]
           ],
           "sequential": [
            [
             0,
             "#0d0887"
            ],
            [
             0.1111111111111111,
             "#46039f"
            ],
            [
             0.2222222222222222,
             "#7201a8"
            ],
            [
             0.3333333333333333,
             "#9c179e"
            ],
            [
             0.4444444444444444,
             "#bd3786"
            ],
            [
             0.5555555555555556,
             "#d8576b"
            ],
            [
             0.6666666666666666,
             "#ed7953"
            ],
            [
             0.7777777777777778,
             "#fb9f3a"
            ],
            [
             0.8888888888888888,
             "#fdca26"
            ],
            [
             1,
             "#f0f921"
            ]
           ],
           "sequentialminus": [
            [
             0,
             "#0d0887"
            ],
            [
             0.1111111111111111,
             "#46039f"
            ],
            [
             0.2222222222222222,
             "#7201a8"
            ],
            [
             0.3333333333333333,
             "#9c179e"
            ],
            [
             0.4444444444444444,
             "#bd3786"
            ],
            [
             0.5555555555555556,
             "#d8576b"
            ],
            [
             0.6666666666666666,
             "#ed7953"
            ],
            [
             0.7777777777777778,
             "#fb9f3a"
            ],
            [
             0.8888888888888888,
             "#fdca26"
            ],
            [
             1,
             "#f0f921"
            ]
           ]
          },
          "colorway": [
           "#636efa",
           "#EF553B",
           "#00cc96",
           "#ab63fa",
           "#FFA15A",
           "#19d3f3",
           "#FF6692",
           "#B6E880",
           "#FF97FF",
           "#FECB52"
          ],
          "font": {
           "color": "#2a3f5f"
          },
          "geo": {
           "bgcolor": "white",
           "lakecolor": "white",
           "landcolor": "#E5ECF6",
           "showlakes": true,
           "showland": true,
           "subunitcolor": "white"
          },
          "hoverlabel": {
           "align": "left"
          },
          "hovermode": "closest",
          "mapbox": {
           "style": "light"
          },
          "paper_bgcolor": "white",
          "plot_bgcolor": "#E5ECF6",
          "polar": {
           "angularaxis": {
            "gridcolor": "white",
            "linecolor": "white",
            "ticks": ""
           },
           "bgcolor": "#E5ECF6",
           "radialaxis": {
            "gridcolor": "white",
            "linecolor": "white",
            "ticks": ""
           }
          },
          "scene": {
           "xaxis": {
            "backgroundcolor": "#E5ECF6",
            "gridcolor": "white",
            "gridwidth": 2,
            "linecolor": "white",
            "showbackground": true,
            "ticks": "",
            "zerolinecolor": "white"
           },
           "yaxis": {
            "backgroundcolor": "#E5ECF6",
            "gridcolor": "white",
            "gridwidth": 2,
            "linecolor": "white",
            "showbackground": true,
            "ticks": "",
            "zerolinecolor": "white"
           },
           "zaxis": {
            "backgroundcolor": "#E5ECF6",
            "gridcolor": "white",
            "gridwidth": 2,
            "linecolor": "white",
            "showbackground": true,
            "ticks": "",
            "zerolinecolor": "white"
           }
          },
          "shapedefaults": {
           "line": {
            "color": "#2a3f5f"
           }
          },
          "ternary": {
           "aaxis": {
            "gridcolor": "white",
            "linecolor": "white",
            "ticks": ""
           },
           "baxis": {
            "gridcolor": "white",
            "linecolor": "white",
            "ticks": ""
           },
           "bgcolor": "#E5ECF6",
           "caxis": {
            "gridcolor": "white",
            "linecolor": "white",
            "ticks": ""
           }
          },
          "title": {
           "x": 0.05
          },
          "xaxis": {
           "automargin": true,
           "gridcolor": "white",
           "linecolor": "white",
           "ticks": "",
           "title": {
            "standoff": 15
           },
           "zerolinecolor": "white",
           "zerolinewidth": 2
          },
          "yaxis": {
           "automargin": true,
           "gridcolor": "white",
           "linecolor": "white",
           "ticks": "",
           "title": {
            "standoff": 15
           },
           "zerolinecolor": "white",
           "zerolinewidth": 2
          }
         }
        },
        "title": {
         "text": "Screen Plot: Varianza Explicada por los Componentes Principales"
        },
        "xaxis": {
         "anchor": "y",
         "domain": [
          0,
          1
         ],
         "title": {
          "text": "Núm. Componentes Principales"
         }
        },
        "yaxis": {
         "anchor": "x",
         "domain": [
          0,
          1
         ],
         "range": [
          0,
          1.05
         ],
         "title": {
          "text": "Varianza Explicada Acumulada"
         }
        }
       }
      }
     },
     "metadata": {},
     "output_type": "display_data"
    }
   ],
   "source": [
    "pca_95 = PCA(n_components=0.95)\n",
    "pca_95.fit(X_scaled)\n",
    "n_components_95 = pca_95.n_components_\n",
    "display(f\"**Número de componentes** principales necesarios para explicar el 95% de la varianza: {n_components_95}\")\n",
    "\n",
    "# Calculamos la varianza explicada acumulada\n",
    "cumulative_variance_95 = np.cumsum(pca_95.explained_variance_ratio_)\n",
    "\n",
    "# Creamos el Scree Plot\n",
    "fig = px.area(x=range(1, cumulative_variance_95.shape[0] + 1),\n",
    "              y=cumulative_variance_95,\n",
    "              labels={\"x\": \"Núm. Componentes Principales\", \"y\": \"Varianza Explicada Acumulada\"},\n",
    "              title=\"Screen Plot: Varianza Explicada por los Componentes Principales\")\n",
    "fig.update_layout(yaxis_range=[0,1.05])\n",
    "fig.add_hline(y=0.95, line_dash=\"dash\", line_color=\"red\")\n",
    "fig.add_annotation(x=35, y=0.95, text=\"95% de Varianza Explicada\", showarrow=True, arrowhead=1)\n",
    "fig.show()"
   ]
  },
  {
   "cell_type": "markdown",
   "metadata": {},
   "source": [
    "-------------\n",
    "\n",
    "##### 2.  **Experimenta con t-SNE:** Modifica el hiperparámetro `perplexity` en el modelo t-SNE a valores más bajos (ej. 5) y más altos (ej. 200). ¿Cómo cambia la visualización? ¿Qué parece controlar este parámetro?\n",
    "\n",
    "`Respuesta`:"
   ]
  },
  {
   "cell_type": "code",
   "execution_count": 18,
   "metadata": {},
   "outputs": [
    {
     "data": {
      "application/vnd.plotly.v1+json": {
       "config": {
        "plotlyServerURL": "https://plot.ly"
       },
       "data": [
        {
         "hovertemplate": "label=0<br>TSNE1=%{x}<br>TSNE2=%{y}<extra></extra>",
         "legendgroup": "0",
         "marker": {
          "color": "#636efa",
          "symbol": "circle"
         },
         "mode": "markers",
         "name": "0",
         "showlegend": true,
         "type": "scattergl",
         "x": {
          "bdata": "MjZjwljSPMIMFwjCoBV+wtihzcHOkjTCuNA0wlZQB8L8gw/CaRJGwmw8TsKl6BjC4vANwmOELMLUxwrCNo40wn5l+sGVxBHCMN9NwqvsAMKtkgvC5gMlwrxdCsJDsBjCIF5VwtRYH8IUX0HCo6ZTwhppNMKcf0HC0JmAwuD7NMKTazzC3XY9wpCVLcK6ET/C6ecvwnFBTsJQZETCO1BQwmoVU8L4LSHC3sfiwZavWsJdzUvCFxs0wo1UdMIr+/7BcM1zwi5jR8JTAFnCre4Zwqw1EcInyT/CuDYQwlWuD8LJsW7CB6sqwjjUgsKjczTCapMewqCuecKYRQ3CRBUPws9CF8LSgwPCnahrwk8ABcJqTi7C5AZSwq0PAsIgISjC7M36wYRSAcL/Zf3ByRgtwjMwFMLjMQHCgGyAwupihMJCv0PCgKo8wlznO8KBMPTBBdtCwgtueMIrHxHCT2QIwmXQXcLHUWPCNMJkwomMdMJP3HPCEgJ0wra8d8JXM13CzbB6wu1ygMKUkUPCqBt1wuLefMKiG1/CSsk8wljRN8I+YHXC3ZE0wrdfK8KhcyvCwnSGwuHbdcLLhofCiiWDwhoTYcL9lGzCY8Zwwj1NW8L8WFLCamJkwhQVgMImKILCHm6AwiDtYsI3m2jCKy5rwl/LY8L14SnCU9huwsrQN8I3HSDC/UEkwnvegsJnr9TBep0Pwn1qEMJdgnnC5SAtwuRpW8JWhBDCqYYiwhbn1cGRf3PCosY2wlZeP8J670DC/SxJwiBOSMKDPEfCwueCwlkNfsLvvYLCBgRIwqM3QsJfKVbCuNwPwggFFcKXdg/CULXVwTQxKMIgzdbBV2JjwsAmGMLi7PnBm2uEwr7PAMLN1CzCf8ZPwmN4NMJGDljCRKRawhe3+cGbT1nCs6Vawts34sFu0lXCekVUwmAfWMLhGxrCtbb6wQ==",
          "dtype": "f4"
         },
         "xaxis": "x",
         "y": {
          "bdata": "Kx5JwrIUZ8KQIRDCFSJHwlSpIcL/fUTCuzMYwhI/FcIFaRHCFhIfwqYjEcKp0A/CgiYTwvsYesLXw1LCwiMMws7xQsJGYVjCA8MLwuOrGMLqMhbCaTAWwgmQGcLiYhDCS4AOwgNyF8I3/G3CoPQ2whc8bcKGA2/C+UBWwnCdRMJEZVrC0kVXwvAfdsKZtWLCR3JvwhXyMsI1cDbCS+MawtgXC8LmHBfCp0xNwsEeKMId9RDC1QYTwohcM8I8Lk7CmjE5wkijEcJ0EyDCbWVYwjABWcL8o1HC6XxiwnA7XcLI9yHCgug6wjLG8MFu+2DCkxFBwr/SE8LkQF7Ck2BlwgrQWMJMGTzCd5KDwqjUOsI+zm/Ce6cJwq1ZJ8J5pF3CZqkfwvfrJcJ8T0zCyvV2wiPGMcLhXirCYqdawoYcAMK1VXHC5JZcwssqXsLRnDzCBmlnwm4zRMJ7L0zC2zwewsnQPMK/2kjCS3hdwr2/JMIwfyXCGJATwrQqL8IGWT3C8uIswhtoWsI6HCnCyCc0wnJ1KsLQ8lzCG6cQwryJ7sFZLRjC78UOwp3wBcLOUAPCResCwl70FMJYfATCLF3wwebYXcJJ9CDCGR0RwnOwVsIts1jCQ+OAwkaVTMKjcEnC5KNLwuPMf8Jt8oPCN5yDwo6EgMIxLHDCvwuEwoN17sFDbz7CSKU5wrq94MEYxB3CZjAzwt3EMMLaiEPC0rBgwsEIU8InszbC3C86wlijHsIu8CfCVuwawn2dUsKnXCXCfCY0wqmYOMKnnjjCIAjhwX7Y78FRKt3B7vk7wl1KJsJO9DvCwvYtwmNZKMLKGlLCi3YXwpC9OsKJsBnCXqthwiIdJMKlPxjCZw7/wVZNH8IlAmDCgEUUwuRnFMIliCLCNXlRwrSeP8ISIw/C0oNfwhljTcIgXTXCBMs+wq7yIsIbBiLCYWNEwg==",
          "dtype": "f4"
         },
         "yaxis": "y"
        },
        {
         "hovertemplate": "label=1<br>TSNE1=%{x}<br>TSNE2=%{y}<extra></extra>",
         "legendgroup": "1",
         "marker": {
          "color": "#EF553B",
          "symbol": "circle"
         },
         "mode": "markers",
         "name": "1",
         "showlegend": true,
         "type": "scattergl",
         "x": {
          "bdata": "RgbcwSp9CsKQZPPBMTkBwsCrsMGPc8LB5BKuwVtp8sFEJ/rBDP0AwpMd3ME/oPXBOY0Jwr4k+sH4+w7C7EkRwp1sBsLlpQzCFIAAwsgvDMKlVAXCeNQRwkWQEML93wbCJ+MKwodzB8Li6/bB+XEKwi+UB8LnA9HBtiK/wfy6EMJyVQLCvx8JwpB3C8Iv/vnBvo8XwpOtGcKiosXBThHVweWhxcFwSNzB17n4wQ4WxMH74CtCNYXxwUWSv8FV0bnBeRf7weIJ1sFZn8jBvGPbwZI3PEKggi5C6+lEQlxhUkJPiE5CW3I8QgM7U0LfYU5C7wZNQt46RkL+XVRCFUGiwX+2O0Jci8bBLVLGwcMGxsHLJ83BDvrMwcMh+MHpLp/BKYD1wbAHjcEiPMTBOa+ewZP7qcGm9MnBGskZwnzSKMJDvfjBTV6oweJY1cHo2yxCY7HKweKO1cEcYu/B+MsKwuvk/cGneBXCh/XOwRvvLkLmYjRCVa0pQpw/PEJYNTtC44o6QvnFOkJQGDxCqvAvQjbdO0IldjNCQK83QnzJOUJxv7zBjs68wfA6FcJp4OHBcUH/wUValcH5+xjC5b/ywR9zFMITEtrB7O34waKgB8KB6fzBXNC1wfKYtsFXrmrB0GHQwZk0e8GaayfCdRMAwpC8GMKM8mjBixQHwkEhBsJbRQnCGv02wd2IxMGC9HTB8AsUwhvoJcKN7SLCcTO+wXLDIsLRV7PBueoowsr3HcKkcRfCn34dwhKcH8LCVsvBXvPewZkz48G+dPbBzMDwwTFw3ME42NrBuQHgwacWysGqQOPByPXlwSZl78EhCNnBsj8LwmnI7sE/xefBFpcvwsh6JMI0BOjBpjYcwnKYI8KYOSvCrW0xwtslG8IfKS7CBM8vwnbGp8G5QqPBRn7GwSmNo8EWP8jBa8PDwaHt3cHZfqfB5dG7wfnR4sE7CcfBX9uqwaSzsME=",
          "dtype": "f4"
         },
         "xaxis": "x",
         "y": {
          "bdata": "0dQrQRBOcUEFV5lBQuJmQVd0qEGjBKFBS6iiQdGRj0G3HFtBgfhkQeawLEEkzzbBXhZdQc1h3kFPUrNBlkO7QTWdtkFP+r9ByBitQT9PY0EsAbFBiIBYQQPOvEFVoJ5Bz79xQXxCo0G/hHDAH9wMQSiR6ECI3TDB2jmdwBv5WkEgEjjB0Kn7QBA3CEFx9SLAz0oEwWUzB8BDt3DBE2T8QfJldkEdZJFB/LKmQUYWeUG4vYzCriSbQauddUEvxW9B66yLQfFei0GphX9BOUCRQUi5lMLrv4vCijaHwlmViMLA1ITCVDmLwp8XiMIIsYTC0reFwuO0hsKgg4bCkulCwWIAmcI48vLAejdWweQoWsEw1EZAiWlFQHraxr5RSklAqc4SPvvFQkAy9XnB3gY7QIOQVUBR9mE/kDBTwNo5vb7kaka/t4lAwMjlA8Ei0ofCVF4BwIVzNsHc/JHAVEhNwcqWJMFJnFHAf00xvHtHisIEBIrCLamIwkg0l8IiSpDC+LiOwqmflsLz5pHCOyKKwsPjkcI+TJbCXaWWwgx6jcIKAfS/euyNwLAJv8AgrKnAMu82wUBWRUDQ0rXAwJBQwQYmuMDOAaTAcn7nv1wDcMHGkjvBaE+dQaFzokFBZ5dBSNM2wCw2mkEbkiPBHntVwSWzXsAcLptB0WFSwRV4VcF2/XrBONerQQ+w4EHzzJlB3D29QRifKMEiwqHAyKKsQWrtnMAJqaZBukXIvlI8PsAK2gHBkhBEwcDtP8H53OVBMPHsQU9vsUHGEOJBbP3lQRDU90ES9vtB2NoAQqAe5UEpf7FBaiPqQa1f50FjvQFCzzQNwfxDXsF70X3BaqiwwBZePcEern7BVlEbwbvEMsHDuxjBhnPEwIbKucA8yp7AAWqxwJr7T8HQ9iBAROhEwfS8RcGzdADBy/I2wQxUyMC/SnDAiiV7v3IfmMDnLhzBWp5NwL8rYcA=",
          "dtype": "f4"
         },
         "yaxis": "y"
        },
        {
         "hovertemplate": "label=2<br>TSNE1=%{x}<br>TSNE2=%{y}<extra></extra>",
         "legendgroup": "2",
         "marker": {
          "color": "#00cc96",
          "symbol": "circle"
         },
         "mode": "markers",
         "name": "2",
         "showlegend": true,
         "type": "scattergl",
         "x": {
          "bdata": "CM8gQHLzOUJGYTFCCi6JQJPvhz/aRlA/bkMdQMTYjD/e5lI+V2F9Qqt8LELMToNAareNQPUCi0LVGydC/TUOQrXCDELNFSpCl0Z8QpXCDUKB3Q1Cy2UvQt9tLUIhy31C5S2MQvVEDEKN2lJC5zJUQndljkJRxZBCq2c0QgFqU0JTCoRCGYFSQisIkEL0XTVC/xBRQqdckELy14ZCUXEzQnw1P0Lmq2hC8rU3Qs/xY0Kdn19COtZAQpPcNUIHqmtClYN2QqyFbEKCSmtC1Leows6pEUKJGp9BBBcqQvDlC8GqvSFCkHIbQn7IIULlFDJC/UVWQmXPKkIzwR9CRlJUQvwKHkLoCh9CB0gMQt2/JEI7+AhCnM8LQseGAkKA2gJCMa4KQkQ+DEKjm5hCG4UcQg9XGkKWsx9CtkuHQs52h0JSf5dCtActQgsMmEJJXZdC5HeEQm0AmkKEBZhCKe0CQtwUmkLGNC5CuiEfQqB1ikLQ65ZCL2eBQphpgEIRtDZCOe0YQu8xG0JWIzdCbM2QQqZmLkJ/ixRCab6JQimmfULA+S1Cm1UUQkEHD0IRxRZCRx0/QjQIBEJeSx5C6Q6KQpGJLkJ97DlCNHCHQja3G0I7nSpCvyxSQorpIkLIVpVCAT1SQoxqg0KW5gNCvpo4QsPcl0Kb/pNCfdCuwC0WDELb7zxClXQLQnaIAkKY0/xB0/88QlTn/kHWo1RCk9fvQckeFULmSgpCgXMTQm1VD0IP9HBCPYOJQtDLkEIyBpNCc3FvQlugkkIZWoVC1jqPQsGnkELETphC57SQQmTLU0LuiIVCVsQwQmyXPUKJ+z1Cj6nsQbCQgEL5FvRBhO0eQqtoT0ImGodCUjlIQkyIB0I9omZCm6UlQsqFJEJheXtCv4WTQo8AmEJWs4lCqvqUQhZJK0IHFyRCjYKTQtXDakJ1tndC",
          "dtype": "f4"
         },
         "xaxis": "x",
         "y": {
          "bdata": "N7EKwuNOOsJWwzDCSOgPwp8eEsKMUBPCZuMKwiGwD8ITzBTChDPxwfOXH8Lo2xDC5o8QwoIK0sFA8gHCHakXws2998FLj/jB+HQLwtpm/sFKXBjCX2n6wfUh9sFqBgrC4SXVwZ0a9sGk1dnBm0XewbP8rcENBbfB9cHkwcmY48GEb+/BQQzrwSQrr8FSaOLBsM7WwRh1rcGQie/B884ywg+zQML+gRzCZWBZwglQEsLfwRHCaPI+wuIYNMLxOBDCxAYZwt+RD8LTyxnCxQ+hQXFCPsLj9tHBTPRjwti3tUHtvGfC4sc9ws1zZ8JqvWDCA0LXwR9OhMJai2rCaArpwU/mZsLyVMfBWlTkwZna1MHmMdLBwQrewX24ycFcLcrBXIHVwSNQ6cHmn6XBtkTUwd2J1MFdYNDB003bwQNp7MHA67TBGsH3wQYd48GMC67BVlEYwo2TxcGYF+vB8UAfwk5OxsHuNi1CHKnbwX6oy8HQYvXBLcezwb/PtMFX5l7Cy35Cwjt5SsIfcV/CRDgGwjFyMsIgsEPCw6sAwlZi8cF3DyTCv4lLwrYsR8K3kkbCmP9BwkKtTMI2bUvCq8sCwvm0JcIxdWLCY+rhwb62P8KtscTByjf+wQhv0sFTOq7BZFb1wVyKscFaZx/CIwrdwdUHrcHLPavBEfS+QWFoRcIaa2XCG/McwpvRS8Im00jC6WNlwqxcScKLMAfCTOtCwkBNTsK6a1HCZ/RGwvceUMK8eBfC9XwWwnUkCcJFWRbCh5cXwjy3DMIW1hjCgtMMwhkdDcKfwfbB4+sSwuDsBcKHwRjCshkswnevRsLxj0XCPTdDws+DtMGi4UDC0cTBwZ28gcI8KtzBZEs9wrp8H8Li+xLCrdQEwlXMBsJfVwzCJg8KwsIH9MEqUBjC6fIYwsIxw8FGV+zBiSMXwlnQGsKz5xrC",
          "dtype": "f4"
         },
         "yaxis": "y"
        },
        {
         "hovertemplate": "label=3<br>TSNE1=%{x}<br>TSNE2=%{y}<extra></extra>",
         "legendgroup": "3",
         "marker": {
          "color": "#ab63fa",
          "symbol": "circle"
         },
         "mode": "markers",
         "name": "3",
         "showlegend": true,
         "type": "scattergl",
         "x": {
          "bdata": "UF9fQtYufUIETDVCtkdvQjvaYUKADm1CC7tsQu/0dkJo92xCEXxrQh90fELdZnZCF35MQguGbkIz/4VCKZRnQoUzakKe/YVChzZsQgnyNkIyAnFCWmVsQvDSbkIhq29CPO5nQsYvMULBDV9CR1CTQhD6f0JgC5VC79B+QqpalUIKwYpCfUCKQscHlELceIxCN5p3Qq6meEI+y4FCmqZfQhEAnUIBKWVCC2KQQoOYeULKqXlCpP9dQmvOXEJ87VtCjP9fQlZbXELJ/ThC3F93QnZQY0LC6ZdBBvGcQZUkjkH38pdBnxKrQRHROkIxw4RBrJSPQYKgrEEO7otBkLSMQUyznUElOJ1B0W6XQgX9mUJW+ZRCVRCUQqQpnkLDB5lCPOydQpzWikJNfJlCjH6cQiu4XkKteV5CGTSWQpyYYkI8D3hCTI12Qg1wYULFdmBCudpeQi6PREKIEkdCbLp4QtIzdEIzYWtCw51pQn8dVkJl24lCmvGDQv/8e0IUaoFCjT6HQsBwg0ING4xC62CMQoaRjUKRYolCsDuQQq9og0KuSYxCMMuCQugwhELdi4ZCJNiGQjdiBcEBTodCigWTQt49nUKI6Z1CBtadQpWNLkIL355C8JidQtSglELG94dCsyqhQmLjOkLNgqFC6Y5gQpfrOELgIIBCaLh8Qm/KU0JA/HbA5CJ5QrvSfUL2J4BCffyGQrvNfUJ50Y9Cp69VQq54nkLOeZ9CyluSQpPkjkL8tWNCP9GNQspinULRKZVC9c5dQpMLekLMb3NC+UBzQqfkfkKWb4pCUGx7Qo+ggUJZi3xC54yKQjjBcUIkd4pCisZ6QueYW0LneZRCLZNkQo/USkJrtEhCuiRLQjydcMHjY/S/uy9rQqCkW0Im1W1CshtWQoGvV0IwvElC2D5GQjBoR0KovTpCgwhCQp6aQUKEnUpCL0xFQgUyRkK2rklCogGRQuvBSELNvHNC",
          "dtype": "f4"
         },
         "xaxis": "x",
         "y": {
          "bdata": "E//DQX0MWUIFei9CgvAhQkO9OkLjQCJCB6clQuxyXUL19F5CjV4nQhZ4Z0IA+F1C80tmQoXqYkKJn19CmVNiQvUSSEJkhF9CmGtZQgshMUKytFJCZyFeQuR9K0KkdlRCZt9fQvwZMEI1gsBBHK0KQoF790ElmgxCsr+9QQLoEUKrONdBpHreQSkMC0Jfk+9Be33MQY/PzUHqIP1BLIdHQouXEULhqpdBYNU/QTO/eUH6BnZBkOyjQRAmsEErZ55BLWOgQT1XnEH68KtBJA26QZg6kkG0shTClGMMwvSTCMJUZxPC1qgfwqQZKUI8iQvCtjYPwliJIMIkkBPCeV0Lwr3YDsIClw7CrRUJQkYRBELWUQZCT3YaQgqVBkLfzfxBhBL8Qf7e5EFwhv9Bw7v5Qc7f4EH3heBBP4T5QRIt5UEgXelBlXXkQVf0CkJEtwtCUYMMQpivO0IP8z1C1cAIQj2ry0ECLBtCb1EWQgEPJ0LJ24NBRB5fQehPnUHbx1tBIpODQY4+YUGgsX5B+HYsQQ7ed0FrsYRBWtc/QU3xbkGpYyxB4SgAQifsAULlmQpC7t0LQi0Rt0GV0xVChpXPQQtozUH/t8FBfxrAQZs+M0JD+rxBgh/PQYgIy0GgrhNCrC20QaaIYkLA7bJBGzZHQmL4K0K6JlZCvj9nQs93MUJCMsRBPAMJQrhCaEImvltCdnYXQqg8oUHxoOtBfP4pQsvhCEIiWvNBFoLjQXdl7UFHj0JCpELLQQ6sBkIQ/8lBioa5QSAtlEEafMlB/RoEQjDEu0HUkKdBQbOVQTclj0G3BfNBuUHgQWLOA0LzWKhBMLXxQd7gLUInTxhCUblBQhcCY0IdWVVCLQBkQrFlp0JGIgBAhO9BQi1NLkIlpT9CPA0sQnbLLUKqwuxByWhRQsXe9UGLZWJCZlpLQs+rS0IhPuVBXLxPQpz9RUJfhz9CvYsIQsKf8EFSdFBC",
          "dtype": "f4"
         },
         "yaxis": "y"
        },
        {
         "hovertemplate": "label=4<br>TSNE1=%{x}<br>TSNE2=%{y}<extra></extra>",
         "legendgroup": "4",
         "marker": {
          "color": "#FFA15A",
          "symbol": "circle"
         },
         "mode": "markers",
         "name": "4",
         "showlegend": true,
         "type": "scattergl",
         "x": {
          "bdata": "HNOBwh6EgMIbo4bCs8x+wkBqiMLKrWbCFXpFwe3chsLPkYbCLpOJwr+SZ8Iw6F/Ckml+whUocMI89n/CyeWBwieVhMLpeo/C3ZeTwgd6g8LZUYPCIJKTwg/chMLpeIXCLh6Awm4GaMLavWXC5PZ2wvQDeML5MnDCR15xwp5MZsIHq5XClv1LwmHilcKhvXbCIF9ywux4fsK5AZPClnGVwi5gkcKvXYvCbMqTwpa6jsLo3IbCYfGTwmwIjMKL3IjCy+mOwpv7h8LJJpPC+luRwgjshsItTqHCwNqRwmjmksJeRIfCW+WRwqg4lMK4uJPCuSmkwn51fsKsuZHChWKTwld3gMI5G33CY2KFwl1ac8IK23PCc2qAwgQnf8LcVZPCaCMAwYxmp8JNDlLCsiWkwt5uAMGd+KHCR9GdwuMxtsKftZzCSSGXwhsBoML7s5nCVEi0wgsArsI4GaDCDvucwqo0t8JMd7fCqvKZwjc5tcIihpvCwJBRwqvKm8J0jZvC4e6xwk91ScKMHlbCJTKawnEHT8I/HUTClhtKwixAS8KHn1HCPX5RwoZ4UcIbF07CHN1kwexGUMKrME7CGkR4wlKHdMJsik7ChsB5whWzTsJHBHzCH8CYwmu5i8Kj2JnCqduTwh5EfMIuaoDCcxmBwtbIlcKNN53CxMtTwpOWicLdEIrCSBSuwoJjr8Jwk7DCrM+rwgjXrMKdKJ/C0kWgwl7qrMILXoDCGzSPwjasjsL2II3C4s2fwgFIkMKf0J7Cj+SVwtEglcK+mp/CRqWVwrHxm8IGAJbChsmUwn0EnMJOB4fCjFedwmZ/l8IbLGbCg/5nwuZuf8LbCnrCXcR/whrg4sD2ZeXArp51wkUrZsLrqGbC5EaAwjVl1cB9OXrC8OR9wtdGesL90HvCxrYwwqwMU8Iy4bfCj+C3wihylsLKcofC0lyBwumpt8JDiZjCRaecwg==",
          "dtype": "f4"
         },
         "xaxis": "x",
         "y": {
          "bdata": "YNPFv5CxKUF3koXAessYQa5ktkDL+1VBVQaoQUbDI8Dq9CbAmcibQc7vY0G90phBdasRQZf4EsFwbnvBsUNBwYE2e8G/zDrBLA10wd9LcsH672vBqENywbOYSMEFWkTBhJ56wbhcb0FGV5tB0Y6vQTwLsUAzWKZBiQ+yQfc2nEF4fSBBzpwAQk+RDEGWW8BAt+GoQXiMD0HvbVvBavkRwV7yI8FE+AnBkjUbwU5HLMGYFpnAaTwcwWMSEMGVSa3AoWMowTzwn8D9NF/BrmjjQSNT5kE/OZ5BZJ67QXKXrkEiseZBoYjjQYKnwUEQCs1BJ7SjQWeim0HNdOhBM/nUQQ6sN8GDpz3BkC7LwFY9C8FK8gbBrHgxwUewNsG3ddJBe6CEQun6oEHnEzVCB5aoQUBxhEJWCoRBHi1qQbYegEFVXj9BCHOQQam1f0E7AqBAkA6IQSpFhkC3sIFBihBNQZekckEF6mtB5I0ZQLsHhUGNtjq/TNQMQmdvpr+Rek2/14iOQfw5HEITnhZC2qrsP/SqF0Jxd0xCnxUXQhG3FkIIJTJClTIEQhxNMUJyCghCcBgPQtaWA0IFNwBCWvxMQd+V0kDFawxC/ApKQZrq+EFjjidBjE+LQDeen0HAsB5AF6PKQER1R0H4sb1A4pzsQNw1HUGXTv5AP9sPQl+xukBuwJxBw85AQKanMEBCVCpAZWwWQMDiIEAeOvlAaZr3QF5ZFkC5QfdAK0K7QEYFvEATHbxAy9j3QCaA50G/BaBBQIuzQafIjEH6LqJBeNGWQSuYmEGKXrdBdymwQYU2mkEXguZBCWGiQRyAjkG0RItBDUxxQS2S10HFiZ9BNCXYQS7AS0GE3klBsz2iQbBqjEFd7oNBc2vZQfKlUUHjgJ9Bx5rzvyB2mkC77JpAIs1GQuzIFkKyKlFBvyZRQQZTvEDtmCm/VK3Gv1K/YkGVTptAiMVAQQ==",
          "dtype": "f4"
         },
         "yaxis": "y"
        },
        {
         "hovertemplate": "label=5<br>TSNE1=%{x}<br>TSNE2=%{y}<extra></extra>",
         "legendgroup": "5",
         "marker": {
          "color": "#19d3f3",
          "symbol": "circle"
         },
         "mode": "markers",
         "name": "5",
         "showlegend": true,
         "type": "scattergl",
         "x": {
          "bdata": "S1NVQlNAr0Fi6URBw/8iQX/WtUGtTXVBQ3twQRLhMUFnXYtBCtFwQd+siUE734xBFqaNQSm4l0GEBJ9BrWGzQWLboUE4AYtBJgiCQcQ9pUECVJFBnfijQYMYg0F7um1B8XWmQbj+pUGrjcVBZB6lQaQXtEEh7sJBLgkEQYL3qkB1cM1Bj6FzwLPTwkGqEmhBp4pTQSzPAEEEd3VBvDrbQZOHzEHVhc5BpvnbQcDCv0EAi+VB+UrVQcOmzkGsxcRBHZDQQTS6y0E25gNB8arVQSuaVUHwE6lBOUOYQQYXGUGBEpdBIKCVQYs+mUEe16NB0hqOQZwttUFWxqRBNSLbQd7Nh0E2YqBBogs3QTERMkEkoZ9BSJOiQH1HFEHtYAJBOAaaQTG7mkEFQhhBOPbgQJWs/j9D0bZBgha2QYwUdUGka4JBKMugQTyr6ECtvbRBCf8FQYOJlkETd4hBYh7LQXLViEGtjbxBLYeAQfv4q0ELcdpByxPxQaNz5EE6pcVBhF/ZQdI71UFd+MVBCZ3hQTKjWUHxhuxB1rXrQbkdgEGl51xA+pqOQF/yzUFUVtRAjGqxP1IZ1UDyf01BMEqPQKiepUBvRmlBzRqGQBzaLkDzuINAb8sJQVRKGEFcRJ5BWqMsQb9qwEGPVrVBJtyXQXKFD0HZYiVBdZN0QeP4dEHCjLhBCGaOQbNW2kEx83dBzxKTQV0WakFecI5B8/ovQYXRm0FhhZBBfShHwXE3YUFuunBBKeKNQUh5Q0Fz2ZBBRhjiQZTrqEBQHeBBymGAQU285kFdc7dBnHPqQWbgtEFzK7dBbvzwQXI/r0GHOqRBK3EvQNuUxT+3+ABAk37cvzeXiEGNcc4/chmkQXDBN0BLUWhBnxuvPuEmkUHr6Ko/OnWYP28tUEFZ0TZB4sUaQZVgLkHec8dBgSs4QXZmOkE0XFVBoJ0YQSuEZEGZXEdBe3cXQYLfWkE=",
          "dtype": "f4"
         },
         "xaxis": "x",
         "y": {
          "bdata": "cUXlQBtDfkJfh2xCFxMmQj8KgEJe5GxCznpsQkL5J0KgyEdCkGREQoamO0LM3IFCjTJJQvpBiELdLX5C1bOPQoQWgEJXnpJCnfmAQtHGgEIawoZC9/KMQhG8gEKmPnxCCP2GQrvShkLvXAdCy09kQslGCkJ7WQtC7zQIQuexAUJROBBCBLbJQUhoDELUJb9BYvsRQns+BkIhV4pC8aE0QiyUOkJbKTpC5RUyQq3AOUI6czNC+l87QgGiF0KwjjlC0klfQuW9XEIwYF1Cd2Q9Qrr010EepN9BeCvyQR4rJEJNqtBBALLQQQrw8UGmHwJCwm/NQXGaw0GVHwNCyt4SQp69+kEKjB9CNnBqQg+3aULXmSFCyoxTQoAWZkJoKF5CCwAqQmPVKEJPZvZB8JVfQksYUUIHR5BC50xuQkAqh0Ig04ZCS1NjQiLMWkLZ72pCaGZaQkwiYkLeoHBCr4RcQjVEhkIxdGhCtPCGQmLYAUK9DbtB+g2RQRccvUEid/tB35yxQaUbrkGAC/tBbMq+QQJbDkKDxLBB9uOwQaaJA0I6gDtCdZg1QpbcEkI1Mz9CLSFCQnpaP0IERhJCYjMZQuUlU0KBoUBCmtgWQujEPEImqBZC4lEKQtdg9kHxjopCoqYOQibPZkIQdXBCWqAqQp29Y0KTrQ1CCwaMQtn1fUKxjZBCXwyRQnXM4EG+5QhCk/s0QhTREkLGuzhCrF4sQv9DNkJdHTJCeLRzwiBBSUL+SUVCpDwuQuwNJ0KO3PVB2AziQWeKAUImteFBwX0DQutI5UFbAMdBNtjmQcH84UF7DcZB0UqRQe/y30FYIAZCcdpVQuCtUUK3Sj5CpEE5Qq5Sk0J1/FVCpESNQgA/U0JGzUdCD3U+QjOxYEKY2k9C2+U/QsERyUEMM8JBv+jMQTsUvEFYsRNC8cgnQkQ3yEGhr9FBkU3LQXwJwkHT7bxBTNjQQWvsuEE=",
          "dtype": "f4"
         },
         "yaxis": "y"
        },
        {
         "hovertemplate": "label=6<br>TSNE1=%{x}<br>TSNE2=%{y}<extra></extra>",
         "legendgroup": "6",
         "marker": {
          "color": "#FF6692",
          "symbol": "circle"
         },
         "mode": "markers",
         "name": "6",
         "showlegend": true,
         "type": "scattergl",
         "x": {
          "bdata": "gGAyQH2tIkFrCSW+cu8UQS+dsr/nfv5AP79fQXXMkD9hsMQ/fW5eQE2gbj9e/cU/ZOXlQGLZpsDisphAjCBjQNzWz79l/km/H56+vy50PL/x08i/sDYkP1JaEEHz05HAb1sowZX3LsGTv20/LfbVvyxw+0DlJ0nBg62NQNCQikDHtHlBe2IGQWMWIsEaaAJBR+tNP646mUCtyCnA7FwSwO5Goj/f8dW/3sdWwU785z9kPXnAIMQEQI6ZFcBGgJNAXMKGQC3Ofr9I7SLB1k60wIrGRME9u9nAmyvmwEbtHcH4EjHBQVjMwKGERsH2jTHB3sAewSx2wsABnq3AyDgUwYANBkHQ47FAT3ezQI5drr8g6s4/qpkqwdDIOkGBWrDA82apQGtJZ0GnZBrBloZ0QQK8dUEQvJXBsIaXwaVtUz9+0YLBAa4cQH8TkL+X+YPBZRGWwd24278LINU/l7lCwUQVFEFz1zfAoU2kwKO3g8Bho03BHx4ywXdSocAQ6T3BJ5s6wZwvxcBTUcjAM69WQe6vG8EzPSHBQOFMwe1fEcFnBWjBPW4pwXzmFkH1RRvAR8QJQZUhR0Fi2ZZBK49uQYXRaEHBf3BB1KrFu+dmGMHmx1jBfAK+wG1SWEEnQ5hBY+inQRPyQkFfer08XHQNvi2CGkEl4zxBv1R8QT26zz9xxJ5B5TiwQVVwgUGkArtBs/S0QYFGB0DjJu0/b1f5PzzGNkC3rhVBhmG7QeYzB0HcqThBa82oQVNzWcHn+1zBk2ZbwQruRsEPIjjBN+AYwSmAi8ApYffABUlQwRqBRsG2q0HBhoxCwR3oAEFsAkFBUYsmQdRo9kCfTnNAwNguQeyoDUHhYRdBV5IcQXlrLEGHVSRBvgKBQcy/CkGGZThA9XI8wINXq8Bth2nAjMyFwInVoMAOJD+/aXGCwGXUljtgfY+/GgSRvzKQp8CUcolAW6vgwA==",
          "dtype": "f4"
         },
         "xaxis": "x",
         "y": {
          "bdata": "2URKwvm0W8KrOUvCP7VPwtx1UMKSoIjCzhmiwvm3rcLJjk3C6+pNwrzQP8IVtUHCSUBEwkY9l8LQMnjC5zNRwgi5qsI0CJnChClcwkoFmcKnyqPCTyquwihxV8Kuq4vCpxeewjwuosK6vqDCcP6qwgXdjMLKMqDCrEeZwkN1mcI435fCSaBYwpJ2p8KfT4zC2eSgwuYJmMIJwYbCTOOHwobjhMIMc4jCxZ1+wjijhMKURorCKpKEwpBRXsJtKHvCEqKAwiOKgsIrYU3C2uJewv9HecIuV2jCGGZbwoO9U8I5IGbCMHdgwp8ud8IZVWbCNsZSwjQKYcL4DF3CkQpXwm2OoMJMqKLCQXmiwqg9psJ5Nq3Ck6akwlEXk8LC463CfuCiwj8RocJI7abCvU2JwqUlicJKNJTCGdqVwuwueMIdVpzC18ZkwhmvgsKDW5zC5guUwgwiocJGu3zC2ESPwphwTsLO76PCoKGjwlG2rcK5gqTCOQ6DwnTho8JyHYDCAWSFwv2gosJLrKLC6Q2MwvrfgcIl+6PCPEiZwhzMp8JOZ53CAhGDwpT9WMJTf2HCQnmgwrBRj8JK5aHCSWOiwmWOn8JkdpjCQeBGwscPn8I+aKTC6hNXwiIYjMJK3KHC3racwjvlj8JOMWrCP71pwrGJjcIocI/CNE+Wwm2BbsJsqKHCXPCgwhCrlMI6XqLCH8ChwsLWdcIbdXfCCfZ6wsUzc8JYk3TC8WSiwhfBd8L8FnXC/QidwlKGncKryJ3CVbyhwgoAfcKt4JvCC8CjwgnarcLVPJfCQruZwjD1ksKRjpDCAE6RwpicicK3PG3C2nlqwhJuRcJhR3DCVmBwwgDAbcIrkUrCn5Nwwuzxb8InOEvCh8uYwhNPSMLOyUbCBvKTwiaAjcIZsZTCg4mWwobtjMKHAkXC8yeXwkNPr8JjeU7CR3JYwle2VsILPEzCZK+Wwg==",
          "dtype": "f4"
         },
         "yaxis": "y"
        },
        {
         "hovertemplate": "label=7<br>TSNE1=%{x}<br>TSNE2=%{y}<extra></extra>",
         "legendgroup": "7",
         "marker": {
          "color": "#B6E880",
          "symbol": "circle"
         },
         "mode": "markers",
         "name": "7",
         "showlegend": true,
         "type": "scattergl",
         "x": {
          "bdata": "ljvYv5MZtcEv8LLBFLyowVBAOcDwLLTBYXOuwaBE5MBA9trBsyC2weaMqcGXQ6nBjyePwenleMGFEHrBu4V8wSvrn8HIY+3B7X1HwYpbzcARNJpADOzwwOQohcGeBUjB7xf+wF4VO8KRjxvBZaI7wvNSFMEwJvPBdqGfwV0xPsLXqcnBLpfGwQrqCsF6vobBq9/EwZUx4cFE0S3CkG8zwsr+O8KxWjHC8v0qwjyhLsLpckDCN9E1wmucJcJ6CU3BRBI+wn4GMsLi6yXC0m2QQH+5x8B03p/Bi/ykwdl33cC4FpK/afPBwRPcCMGvR9TANvUiwT+eGsGUA5q/NCTOwB03z8BJNMXBve1HwpzUOMJls6jBeKuUwep5lcEFNZ/BDwZHwnKCn8HSfqDBaUCjwTrbFsG0M9fBQmY8wezyPsFMId7AnTnXwd5F7sDoM1PBAYtiwb5ulsEfGv/A45BUwW7TXMGSZi5AigUAwqAaFMLUxQjCe0UQwnafCMLxRxLCz1gNwqcP/MEqSQ7CXn46wj+XDcLOw/zBCdIBwvzEDcIgUJ7B0q4Ywpp8t8GoSxnCVCQzwmcD18Ae2jLC+9gLwi2mNcLYru/A22k1wvtGSb86GJXB30O+wVKjXD8W7om/N5IVwdzV/L/GjSs/3TaYvyf2KsEajwK+i52MwSoXjsGmUzJA967VwRvZhMFhRtXBlFEpwRHfhMEKnY8/xgHRPtM54MCqC7DBoTukwYsqj8EwviDBP0IAwp7KAMKNRwPCqrXuwUy27cGLQAnCoFX0wW1r5MFLndfBRy3swW1j/8F+hvjBhUr/wdAMX0BpKXJAKIkQwXtq/DzFLrPAnrU3vpVMOMG0Abe/DcIxQBne98BIbkbBC0uCQbnQqMBvgbXBg56+wEB+EcLmGZzBL8J1wftQj8F4InvBjet/wduNLcHbzBNAvYqUwdTmU8E=",
          "dtype": "f4"
         },
         "xaxis": "x",
         "y": {
          "bdata": "FQWTQmJKmEIeA3BCfViSQpoHkUJM+nVC/0yVQk1xjUL+1HVC40KbQnnYkkKHUZtCBneEQmFMoEI3U6BCvIi1Qn6OcEI8bYBC/xCgQj6vskK3/aJCds2wQgTycEKyj7NCwL6xQlkUZ0JenqBCIVRlQo/eokIGanxCd45pQjrXXUJ3P5lCE4ubQqrup0KfSLVCrEWbQn2md0LEtU5C6RJUQpBlV0L01E1CvJJgQjS6TkLG3VdCetBMQp4fYUJa8B5ChpZYQvOcU0IYA2FCMk6jQusQlEKqVmxCaE2YQiNAkkIpkZhC3+ZiQthRmUJKoo9Che2iQvC5mEKpHqJCAleTQv1nlkJ7rGJCIsJMQt9WKEKN+lJCrkRmQtzbYkK0cWJCr5BMQvUaW0JgI1pCuFtXQlgtlkIuQZZCpLqeQmh+pkKMk6pCJHuUQgLKr0JcqqVCAdykQiMxfEJLYKxCdLChQm8ppUKUnqJCQ0OJQgI8k0JssoFClZCRQhaeeULqSZJC9ouCQsvrjUKpBINCA1xnQswUj0Kpg4tCgNaOQhOwjkKt0YNCgICLQh3jnEJVVotCjg2AQmSnoUK9coBCMv6SQuwaeULXRKJCLcp5Qm9xl0LELoJCRypjQmLmmEJXmZVCQkSZQgjsmELZtZhCz/yhQiNanEL9TppCZw1wQqFhdEL3JKtCs6OSQm3tjEIGBJFCqhOUQgf4jELQqpRCHpaVQoWzqkLSyZhCQdGcQomrZkKwBpVCBm+AQsX5ekKy/H5C6yOPQh5CkkI66HRCXIN9QmOej0KPe5VCKKePQr1tg0Jh+HtCLtuCQni4p0JI2KNCxvWjQteerEJ3grNCTsCsQlw6skIibK1CsUWrQu82jEIIkrNCdtOVQvK/jkIkMXdCJNSOQl+hg0IXXGlCK/GwQrGBtEJxbbVCgAyyQh2pmELtEaJC77uBQgwrtEI=",
          "dtype": "f4"
         },
         "yaxis": "y"
        },
        {
         "hovertemplate": "label=8<br>TSNE1=%{x}<br>TSNE2=%{y}<extra></extra>",
         "legendgroup": "8",
         "marker": {
          "color": "#FF97FF",
          "symbol": "circle"
         },
         "mode": "markers",
         "name": "8",
         "showlegend": true,
         "type": "scattergl",
         "x": {
          "bdata": "2zOhwP65k8C1/tnA0J3Xv5Fdcr+rvsnAFeQ1wGE8IMFH8uTAwRCJwK+D6MC6xavAP5wBwhXivEAk+SPA7achwb3Sv0DtT1vBpsfHwDZIW8ESkivBVjISwaZ/5sCBZ9vARpUpwe6i5MDCAVJBqYqpP39nbD9G2CJBBGkEQZY4WkH8fwxB4w2jQBOH4UCQgOhAveQEQVYSkT/dc3hBwE5TwPm9m0FLpzY/Ryw0QX6Jg0G9alBBud0HP6VQJEHVbSJBtOftPhUhW0FuTTlBay9LwcI32MDWl67Arr5VwXHavsBuFJrAxty5wEbOxsC6wF/B2P9PwQ1B2sD5YsnAn3JUwVZj/L5/GYZAd4nNvucvF0AkehZAxyY6QBkJOEHtqQ/AXdBuwAfgFkFw9rK/fUdhv+wlwT6upo9BJCSmwQMg+sCv33JB9qaiQf7tpEF/btLAbBWSQVFQv0EQkr1By3VWQmk2xEGSwI5ByS+vQG8FykC8QJ5A1NDIQDEzLkGButdAXHAXQVHgeUEXaphAlntgQe3/00CVfAu/gemGwIe4KEG1VTlBWmTGwN6Yh8CWEzNBWWktQRzbATtmYFFBiyEbQBegIkEwxCVBDfN2wIFgHMFeivvAZpdJQBWvlr8G7/zAyAMwQEwffMBvcvXAy2kPwd06Jr92NMzAvSmNwHFpL8DqBrDA45N1wCRCucCvZ83A9bQiwKIEIMBwW4fAY6LKv74Kv8BXD9u/Bod3wPhqcUEeNmRB9EdtQafNkUGO431BKVqqQVwThkGxaoJBWCSdQXjonkFb851B/xOdQU+Ll0FIC5/Bp5iDwQPbXMHQC0PBFS1fv7yzL8FaH07B9QpFwVsHNsHTlTVA4m3GQCLFQEAjW9G/vzbDQHhvwD+uV7lA4sd5wYR9BUG0cYDBcReCwR8wgMB/dwZB",
          "dtype": "f4"
         },
         "xaxis": "x",
         "y": {
          "bdata": "jKKQwWCB1r+6DqvAqRhXwOeI5D1qS+PAxSMTwd/p5T48aCTBwnkRPx13j8GMnc2/1ytywb0KgMBR2WXBqhN5wYtWgcBHFhrB9jyMwWTSGcFOUKbBzxx0wdmLfcEZiYzBBPikwXq8NsHEd6bB6q0KQfXBAkGzPylAjAxgwfdKm8FZMpHBoE6+wDN/i8FwlLDBwuhfwTTyBUGEREjBHpcawOnbMcFOXXfBHfEVwe1NgcFUYR3B03GuwfN+ksGeYAPBHwR6wYpQW8E86RTBCaTswYNU4sHdB+TBT37pwW1c6sGepO7BJi71wZBH68G2beXBZcDvwVkk8sG+QPLBN/TpwYwjrcErLUvByBquwUpcMcG9YTHB89szwaChnMGAj0fBdySSwP/FjcEUoATBT6uywZnnIMEHfc3Bo56hQfUiGMFiRK/BA+GLwQh8i8HQzUrBfX/PwZ0tccHUt3DBXGmcQcEpcsENK9LBjViawWihqMHE86nBwRedwSLLIcFlzanB+ZeIwY+BmcGzYKvBhr2jwbdImcE1dCNBjuCbQJ3MxUCF0ItAbJV/wXN+nEA3RW9Az1xZQGx0J0E6LxFA6qS+P/Lc3kAPndFAR2jFQaABYTw32Uc+YOMxQbelQMBNwihBr3gtQfvxDEAuLLlBvALxPqP/Br8HOKI/9ZH3P8B1KsHx+b5BZ1J7wN1assBBDTHBKd4mwRNfYcHaiao//IX4Ps2zLsE3zxPBtdcXwAzunMH5SaPBBZKswZdKPsHc21PBpMWNwVlRcMFcUFzB9BVswe7VYsFUkU/BS2hvwdqlPcFrBaVAFmZCQPi2ocHmj6PBvnEbwffwmcFOU6HBVoePwSoIksEspAE/4bwQQZj2fj51K6TBT3sRQd6/IUHln0rAAF6nwE0BC8D+Q3nAin2MwC1tbsHIiAnA",
          "dtype": "f4"
         },
         "yaxis": "y"
        },
        {
         "hovertemplate": "label=9<br>TSNE1=%{x}<br>TSNE2=%{y}<extra></extra>",
         "legendgroup": "9",
         "marker": {
          "color": "#FECB52",
          "symbol": "circle"
         },
         "mode": "markers",
         "name": "9",
         "showlegend": true,
         "type": "scattergl",
         "x": {
          "bdata": "ziBbQm+kJ0JJpyhCmpkmQpOdOEKR1B1Cwg/5wIm2TkJ6fTJCfylkQnVyakLUFcpBewRTQm/LXEKD50tCOMpXQohKVkJlCW9CmidfQpa/V0KBsjlC2t43QjUyVkI3VzJCwWcsQsaHRMHWsWXBSzwdQgACbEJ9brJBasfoQdjQasHtMmbBkVZRwbepa8EBLw/CVNYSws75T8FKn1RC3eJvQoVzcEIlJC9C6PIhQhlTFEI5jBVCGO4gQnshFkKsSSFCnGgWQvfDQUImDRZC/cPbQSJx7UFwFM5BdeCbQMCNTEKxvdRBlxHxQZ7S80EH1NhBo0jWQUz3BULlMztCQS51QolBNMJf0BjC/N4SwoN/GcLe3wjC4CAXwqfiE8J4QRXCoIcVwlYDH8L3WCHCa5ozwllvCcJU7l9CM8FIQsU5eEI2oFJC5silQaV+PUJZPXZC/NMoQpgVTkI8Tm9Cc2dIQu8nSEJlkVZCbN3jQeCf3UHJ8+FBu/gNQhkVAkKSPQlCcgfnQePW5EGMIQJCfZjZQWDoDUL3EstBe8LaQYl6h0I8pxFC/9IKQvwvpkFIshNC20GpQWVPD0JjuoE/HoQWQlpr00Fx9T1CjNgZQuEZzUHv4jVCOwiuQVdpNEKAPwFCVMASQo7a+0FhNE1C3OAxQj0p+EHyVjBCJOQyQnuJI0KZ+7FBdzDSQYk7B0ILYQNCiGQnQsHgKEJQpepBvMdsQoZlN0IH5CZC4hIKQo9CCkIcQfRBr0YPQkVkI0LLAg9CytYaQsvtH0I/ExxCPTMLQv1iFELx6B9CsBwQQj/kHkLvrRtCN/UcQpCJFMIJsQbCnlFDwkIuBsK48H3BGZ3pv2T2DcKkuGdCTCdywdwFZkJ2JVFC7h3xv0fOd8F5LuFBE683QjJEYUJO/DhCaVooQjS0J0KDeRlCyqs5QugRHkK59hZCZRxKQumcO0J7IS1C",
          "dtype": "f4"
         },
         "xaxis": "x",
         "y": {
          "bdata": "Z8rzQKYonkGlnp1BvbOeQXDRq0G5VQdB5/IvQfZh/0Dld94/Zwd7QPFqcz/ygUlBwC/twHgxgUAorttA8bCrQPK6kkAzLwXAbNdyQFji1UD9fAhB/q8IQQ6otkClcUjB9s3QwPP5F0JxuRJCg5YiQGAsfb6zLS1BGkvQP9cCHUJJDxVCy+0XQpjGGUJdHClC1cQmQgM6GUIXbeXA6wh4wIsDeMCXdkXBJdpEwRo3xcAiprnA2vVBwRMpC8EIeUPBiZ4RwT40HcCN1wnBrFq5wNSDBMHC9h/APq/IwBhG48CwGo3ASfsJwdSBRsBhtaHAMI+OwBww3EA4tSLAw0CPwKVyJkK4QSBCOP4fQr8kH0Kphh5CHd8eQi3RHkIYAxBC75UYQm1dI0J/sSRC/jImQkkWH0LEt1g/l3QGwS4lg8C4FwXBruEcwhGeAsAnPpzAbhC6wFCn8sBvzRHAL+ZbwAmNWMC/29/A1yLeQJtaLkBnLKZA6PgzQW6XIEGmoe5A7xHZQBcDzUCv7h9BDdFiQMJPNEE3Jv2/TwE1QMHl2UFsq65BuiezQdC1LUGwfK1BI2ktQU4isEFR9C5BD6erQeYGT0HfpzxAw3ipQQJtS0HW7UzBIqaiwg8DS8F8uRXAptmiP/ZyLcChRshAENkPQdxDOMB1VgNBceEJQR0mrD/G6CxB+asFQPurN8DmEBjA1Pn4vxjqEMC8jmfA5d8MvyS0eUCYRfo+FcNsP6EYXj+Bnw7BUBOjQJzx+T9OP6xArYgGQTJ6xj8MGgdB1FvtQMCw+0D1HcY/V6vpQO3unsD9OyA+Z8QhP1ykF0KZTS1CpxhYQr5DLUI+tiJCf9g4QjrlKUKZ0Tc/gWgdQkc2hUCLLSpC7AQ5QlgzH0K0NiBAz6ZaQH+VcT+H0vs/+aptQBleTkDU1q/AdQMnQG/iscCIZY7A0IPeQMkLab9KT9XA",
          "dtype": "f4"
         },
         "yaxis": "y"
        }
       ],
       "layout": {
        "legend": {
         "title": {
          "text": "label"
         },
         "tracegroupgap": 0
        },
        "template": {
         "data": {
          "bar": [
           {
            "error_x": {
             "color": "#2a3f5f"
            },
            "error_y": {
             "color": "#2a3f5f"
            },
            "marker": {
             "line": {
              "color": "#E5ECF6",
              "width": 0.5
             },
             "pattern": {
              "fillmode": "overlay",
              "size": 10,
              "solidity": 0.2
             }
            },
            "type": "bar"
           }
          ],
          "barpolar": [
           {
            "marker": {
             "line": {
              "color": "#E5ECF6",
              "width": 0.5
             },
             "pattern": {
              "fillmode": "overlay",
              "size": 10,
              "solidity": 0.2
             }
            },
            "type": "barpolar"
           }
          ],
          "carpet": [
           {
            "aaxis": {
             "endlinecolor": "#2a3f5f",
             "gridcolor": "white",
             "linecolor": "white",
             "minorgridcolor": "white",
             "startlinecolor": "#2a3f5f"
            },
            "baxis": {
             "endlinecolor": "#2a3f5f",
             "gridcolor": "white",
             "linecolor": "white",
             "minorgridcolor": "white",
             "startlinecolor": "#2a3f5f"
            },
            "type": "carpet"
           }
          ],
          "choropleth": [
           {
            "colorbar": {
             "outlinewidth": 0,
             "ticks": ""
            },
            "type": "choropleth"
           }
          ],
          "contour": [
           {
            "colorbar": {
             "outlinewidth": 0,
             "ticks": ""
            },
            "colorscale": [
             [
              0,
              "#0d0887"
             ],
             [
              0.1111111111111111,
              "#46039f"
             ],
             [
              0.2222222222222222,
              "#7201a8"
             ],
             [
              0.3333333333333333,
              "#9c179e"
             ],
             [
              0.4444444444444444,
              "#bd3786"
             ],
             [
              0.5555555555555556,
              "#d8576b"
             ],
             [
              0.6666666666666666,
              "#ed7953"
             ],
             [
              0.7777777777777778,
              "#fb9f3a"
             ],
             [
              0.8888888888888888,
              "#fdca26"
             ],
             [
              1,
              "#f0f921"
             ]
            ],
            "type": "contour"
           }
          ],
          "contourcarpet": [
           {
            "colorbar": {
             "outlinewidth": 0,
             "ticks": ""
            },
            "type": "contourcarpet"
           }
          ],
          "heatmap": [
           {
            "colorbar": {
             "outlinewidth": 0,
             "ticks": ""
            },
            "colorscale": [
             [
              0,
              "#0d0887"
             ],
             [
              0.1111111111111111,
              "#46039f"
             ],
             [
              0.2222222222222222,
              "#7201a8"
             ],
             [
              0.3333333333333333,
              "#9c179e"
             ],
             [
              0.4444444444444444,
              "#bd3786"
             ],
             [
              0.5555555555555556,
              "#d8576b"
             ],
             [
              0.6666666666666666,
              "#ed7953"
             ],
             [
              0.7777777777777778,
              "#fb9f3a"
             ],
             [
              0.8888888888888888,
              "#fdca26"
             ],
             [
              1,
              "#f0f921"
             ]
            ],
            "type": "heatmap"
           }
          ],
          "histogram": [
           {
            "marker": {
             "pattern": {
              "fillmode": "overlay",
              "size": 10,
              "solidity": 0.2
             }
            },
            "type": "histogram"
           }
          ],
          "histogram2d": [
           {
            "colorbar": {
             "outlinewidth": 0,
             "ticks": ""
            },
            "colorscale": [
             [
              0,
              "#0d0887"
             ],
             [
              0.1111111111111111,
              "#46039f"
             ],
             [
              0.2222222222222222,
              "#7201a8"
             ],
             [
              0.3333333333333333,
              "#9c179e"
             ],
             [
              0.4444444444444444,
              "#bd3786"
             ],
             [
              0.5555555555555556,
              "#d8576b"
             ],
             [
              0.6666666666666666,
              "#ed7953"
             ],
             [
              0.7777777777777778,
              "#fb9f3a"
             ],
             [
              0.8888888888888888,
              "#fdca26"
             ],
             [
              1,
              "#f0f921"
             ]
            ],
            "type": "histogram2d"
           }
          ],
          "histogram2dcontour": [
           {
            "colorbar": {
             "outlinewidth": 0,
             "ticks": ""
            },
            "colorscale": [
             [
              0,
              "#0d0887"
             ],
             [
              0.1111111111111111,
              "#46039f"
             ],
             [
              0.2222222222222222,
              "#7201a8"
             ],
             [
              0.3333333333333333,
              "#9c179e"
             ],
             [
              0.4444444444444444,
              "#bd3786"
             ],
             [
              0.5555555555555556,
              "#d8576b"
             ],
             [
              0.6666666666666666,
              "#ed7953"
             ],
             [
              0.7777777777777778,
              "#fb9f3a"
             ],
             [
              0.8888888888888888,
              "#fdca26"
             ],
             [
              1,
              "#f0f921"
             ]
            ],
            "type": "histogram2dcontour"
           }
          ],
          "mesh3d": [
           {
            "colorbar": {
             "outlinewidth": 0,
             "ticks": ""
            },
            "type": "mesh3d"
           }
          ],
          "parcoords": [
           {
            "line": {
             "colorbar": {
              "outlinewidth": 0,
              "ticks": ""
             }
            },
            "type": "parcoords"
           }
          ],
          "pie": [
           {
            "automargin": true,
            "type": "pie"
           }
          ],
          "scatter": [
           {
            "fillpattern": {
             "fillmode": "overlay",
             "size": 10,
             "solidity": 0.2
            },
            "type": "scatter"
           }
          ],
          "scatter3d": [
           {
            "line": {
             "colorbar": {
              "outlinewidth": 0,
              "ticks": ""
             }
            },
            "marker": {
             "colorbar": {
              "outlinewidth": 0,
              "ticks": ""
             }
            },
            "type": "scatter3d"
           }
          ],
          "scattercarpet": [
           {
            "marker": {
             "colorbar": {
              "outlinewidth": 0,
              "ticks": ""
             }
            },
            "type": "scattercarpet"
           }
          ],
          "scattergeo": [
           {
            "marker": {
             "colorbar": {
              "outlinewidth": 0,
              "ticks": ""
             }
            },
            "type": "scattergeo"
           }
          ],
          "scattergl": [
           {
            "marker": {
             "colorbar": {
              "outlinewidth": 0,
              "ticks": ""
             }
            },
            "type": "scattergl"
           }
          ],
          "scattermap": [
           {
            "marker": {
             "colorbar": {
              "outlinewidth": 0,
              "ticks": ""
             }
            },
            "type": "scattermap"
           }
          ],
          "scattermapbox": [
           {
            "marker": {
             "colorbar": {
              "outlinewidth": 0,
              "ticks": ""
             }
            },
            "type": "scattermapbox"
           }
          ],
          "scatterpolar": [
           {
            "marker": {
             "colorbar": {
              "outlinewidth": 0,
              "ticks": ""
             }
            },
            "type": "scatterpolar"
           }
          ],
          "scatterpolargl": [
           {
            "marker": {
             "colorbar": {
              "outlinewidth": 0,
              "ticks": ""
             }
            },
            "type": "scatterpolargl"
           }
          ],
          "scatterternary": [
           {
            "marker": {
             "colorbar": {
              "outlinewidth": 0,
              "ticks": ""
             }
            },
            "type": "scatterternary"
           }
          ],
          "surface": [
           {
            "colorbar": {
             "outlinewidth": 0,
             "ticks": ""
            },
            "colorscale": [
             [
              0,
              "#0d0887"
             ],
             [
              0.1111111111111111,
              "#46039f"
             ],
             [
              0.2222222222222222,
              "#7201a8"
             ],
             [
              0.3333333333333333,
              "#9c179e"
             ],
             [
              0.4444444444444444,
              "#bd3786"
             ],
             [
              0.5555555555555556,
              "#d8576b"
             ],
             [
              0.6666666666666666,
              "#ed7953"
             ],
             [
              0.7777777777777778,
              "#fb9f3a"
             ],
             [
              0.8888888888888888,
              "#fdca26"
             ],
             [
              1,
              "#f0f921"
             ]
            ],
            "type": "surface"
           }
          ],
          "table": [
           {
            "cells": {
             "fill": {
              "color": "#EBF0F8"
             },
             "line": {
              "color": "white"
             }
            },
            "header": {
             "fill": {
              "color": "#C8D4E3"
             },
             "line": {
              "color": "white"
             }
            },
            "type": "table"
           }
          ]
         },
         "layout": {
          "annotationdefaults": {
           "arrowcolor": "#2a3f5f",
           "arrowhead": 0,
           "arrowwidth": 1
          },
          "autotypenumbers": "strict",
          "coloraxis": {
           "colorbar": {
            "outlinewidth": 0,
            "ticks": ""
           }
          },
          "colorscale": {
           "diverging": [
            [
             0,
             "#8e0152"
            ],
            [
             0.1,
             "#c51b7d"
            ],
            [
             0.2,
             "#de77ae"
            ],
            [
             0.3,
             "#f1b6da"
            ],
            [
             0.4,
             "#fde0ef"
            ],
            [
             0.5,
             "#f7f7f7"
            ],
            [
             0.6,
             "#e6f5d0"
            ],
            [
             0.7,
             "#b8e186"
            ],
            [
             0.8,
             "#7fbc41"
            ],
            [
             0.9,
             "#4d9221"
            ],
            [
             1,
             "#276419"
            ]
           ],
           "sequential": [
            [
             0,
             "#0d0887"
            ],
            [
             0.1111111111111111,
             "#46039f"
            ],
            [
             0.2222222222222222,
             "#7201a8"
            ],
            [
             0.3333333333333333,
             "#9c179e"
            ],
            [
             0.4444444444444444,
             "#bd3786"
            ],
            [
             0.5555555555555556,
             "#d8576b"
            ],
            [
             0.6666666666666666,
             "#ed7953"
            ],
            [
             0.7777777777777778,
             "#fb9f3a"
            ],
            [
             0.8888888888888888,
             "#fdca26"
            ],
            [
             1,
             "#f0f921"
            ]
           ],
           "sequentialminus": [
            [
             0,
             "#0d0887"
            ],
            [
             0.1111111111111111,
             "#46039f"
            ],
            [
             0.2222222222222222,
             "#7201a8"
            ],
            [
             0.3333333333333333,
             "#9c179e"
            ],
            [
             0.4444444444444444,
             "#bd3786"
            ],
            [
             0.5555555555555556,
             "#d8576b"
            ],
            [
             0.6666666666666666,
             "#ed7953"
            ],
            [
             0.7777777777777778,
             "#fb9f3a"
            ],
            [
             0.8888888888888888,
             "#fdca26"
            ],
            [
             1,
             "#f0f921"
            ]
           ]
          },
          "colorway": [
           "#636efa",
           "#EF553B",
           "#00cc96",
           "#ab63fa",
           "#FFA15A",
           "#19d3f3",
           "#FF6692",
           "#B6E880",
           "#FF97FF",
           "#FECB52"
          ],
          "font": {
           "color": "#2a3f5f"
          },
          "geo": {
           "bgcolor": "white",
           "lakecolor": "white",
           "landcolor": "#E5ECF6",
           "showlakes": true,
           "showland": true,
           "subunitcolor": "white"
          },
          "hoverlabel": {
           "align": "left"
          },
          "hovermode": "closest",
          "mapbox": {
           "style": "light"
          },
          "paper_bgcolor": "white",
          "plot_bgcolor": "#E5ECF6",
          "polar": {
           "angularaxis": {
            "gridcolor": "white",
            "linecolor": "white",
            "ticks": ""
           },
           "bgcolor": "#E5ECF6",
           "radialaxis": {
            "gridcolor": "white",
            "linecolor": "white",
            "ticks": ""
           }
          },
          "scene": {
           "xaxis": {
            "backgroundcolor": "#E5ECF6",
            "gridcolor": "white",
            "gridwidth": 2,
            "linecolor": "white",
            "showbackground": true,
            "ticks": "",
            "zerolinecolor": "white"
           },
           "yaxis": {
            "backgroundcolor": "#E5ECF6",
            "gridcolor": "white",
            "gridwidth": 2,
            "linecolor": "white",
            "showbackground": true,
            "ticks": "",
            "zerolinecolor": "white"
           },
           "zaxis": {
            "backgroundcolor": "#E5ECF6",
            "gridcolor": "white",
            "gridwidth": 2,
            "linecolor": "white",
            "showbackground": true,
            "ticks": "",
            "zerolinecolor": "white"
           }
          },
          "shapedefaults": {
           "line": {
            "color": "#2a3f5f"
           }
          },
          "ternary": {
           "aaxis": {
            "gridcolor": "white",
            "linecolor": "white",
            "ticks": ""
           },
           "baxis": {
            "gridcolor": "white",
            "linecolor": "white",
            "ticks": ""
           },
           "bgcolor": "#E5ECF6",
           "caxis": {
            "gridcolor": "white",
            "linecolor": "white",
            "ticks": ""
           }
          },
          "title": {
           "x": 0.05
          },
          "xaxis": {
           "automargin": true,
           "gridcolor": "white",
           "linecolor": "white",
           "ticks": "",
           "title": {
            "standoff": 15
           },
           "zerolinecolor": "white",
           "zerolinewidth": 2
          },
          "yaxis": {
           "automargin": true,
           "gridcolor": "white",
           "linecolor": "white",
           "ticks": "",
           "title": {
            "standoff": 15
           },
           "zerolinecolor": "white",
           "zerolinewidth": 2
          }
         }
        },
        "title": {
         "text": "Visualización del Dataset Digits con t-SNE (Perplexity=5)"
        },
        "xaxis": {
         "anchor": "y",
         "domain": [
          0,
          1
         ],
         "title": {
          "text": "TSNE1"
         }
        },
        "yaxis": {
         "anchor": "x",
         "domain": [
          0,
          1
         ],
         "title": {
          "text": "TSNE2"
         }
        }
       }
      }
     },
     "metadata": {},
     "output_type": "display_data"
    },
    {
     "data": {
      "application/vnd.plotly.v1+json": {
       "config": {
        "plotlyServerURL": "https://plot.ly"
       },
       "data": [
        {
         "hovertemplate": "label=0<br>TSNE1=%{x}<br>TSNE2=%{y}<extra></extra>",
         "legendgroup": "0",
         "marker": {
          "color": "#636efa",
          "symbol": "circle"
         },
         "mode": "markers",
         "name": "0",
         "showlegend": true,
         "type": "scattergl",
         "x": {
          "bdata": "CO/uwDwK6cDE8RHBAEDmwPD+/sDgoAjBTt0WwSLUG8F7jCXBGMMhwe4SGMFxKiHB3vgawUncB8Fr6x3B14YowVxdIsG7JATBsMkXwVKgGsGneiHBra8dwVAJI8F2uyjBye4WwSPlGMGGhNzAfk4VwVcp9sCOfNTAPMPOwMoSAcEJ4QLB45gDwd3c/cDV5+3AHrz5wAElGcG9GRPBtn0gwY2oFcFY3xXBs1IlwWTdIMEFuBLBHR0VwaCKBsGq9gLBXREHwdjEKMFeiybBqZYDwUvI7cAyw+jAzavWwM0/4sCtRQXBALjnwCj0E8GyWNfACoUFwd+DyMDroM3A00+ywHJE98AmXwPBIxm/wBbCHsHxSfLAR2EUwfzEE8HQYtvA1F0gwZ7ZDcHBRBrBaY0JwenOEMH6UgXBWBnawCSsBMHpNdfAWgv9wG0Q+8Dj9zDBMbsxwRaW5MCsOwbBvycgwZqVBsFNXvHAX6nkwOtK98B01/rAL38BwRFY8cBY3wHBVDv6wNWq1sDxgBLBdQz9wIhq+cBQoevAEaEMwetOAcGkDwnBd+wUwR8d/cCxBefA74wNwTFW/8BZwxLBYKESwdSX48Dz6QzB7RPwwEGk4cCrPtzAuqy4wH6b3cC4WODA7YPTwBZGwsBUBL7AOEq8wGAJw8DK4vvArye1wD5U+cCvowLBFuUJwQHMGcFmHRPBKsMRwflmEsE9Av/A7R7iwAhg8MAO4wzBWjELwUT8EcHKGPnAWfwPwbHt9sDLnxDBFDkSwSEhC8HKHgnBEOYXweB6GMHxiBvBDCkCwfO0EMGz5wXBxG0TwZcoD8FVNQfBs5AYwXytAcE3iRjBnSPEwN1vEcFZUh3B7iMMwbhYF8E51fDAaBMVwSG8FcFvNSfBGpUCwSAKIMGxIynBZ6LmwBYjLMGwAyDBa6wOwXKaI8HvRxbBuBogwQ==",
          "dtype": "f4"
         },
         "xaxis": "x",
         "y": {
          "bdata": "7LwlwSULBcG/Gv7ASNw7wQao/8D/PhXBdYgQwc8W/8BGywXBAZswwWOIKMGbB+/A99MBwVWND8Hj+QrBIN4GwUuyHMHtKRTBybAqwY5m6sBxWAXB3UIRwdD1AcGV9vzAlKwrwXh2CMEaZCXB7ZofwfFEFMFxOiHBRywxwbDcGMH2CiXBkUohwSCrC8F9JSjBlA4QwRYZHMGxCBnBAl8swbIeJMGJWw3BSWMUwQQkK8HYoSTBIm0MwaG9LMGq9BDBGbUvwUuVEMHv5xHBC9oYwZ9kEMH44xjB8SgdwWAeEMHebSzB67QJwTB0PcE32BTB71PwwAVjE8GKjwnBiSkawVTqGsEy0jbBXi0mwVCzHsHTZAfBjoocwVdPCsEpsRfBC5HfwG8aBMHJ1xfBEUcPwdrzB8FVZArBfmAxwc1RPsGNbinB/WsewXi2GsH0oSTB4RklwfREOcHMowPBUvf8wFhiMsFROCvBIaACwfp7K8Hk4yLBFe8SwcIxMMH8bS3Bu+M2wSQ8MsG9oDPBQ+4zwReJQcGigRzBLAkXwV6z4cCMISrBWhAHwVvL0cCQyc3Aqt46wcbfIMG2yzXBkfY9wV0jGcG6DyrBZNATwW8cIcF78CbBR3gewc24OsG1SEbBhCM4wehgG8F/NyfBnPcmwdD2HcEmLvbAjb8twWI34MB9zf/AKvsIwYKiOcEKfeLAW2kTwQogDsHe4TvBF3ILwYgcJMGU5RPBJwIGwc4w7cBbUSjBqQEZwVpzIcGMjx7B5gwfwSvHHsGxEh/B90k3we7MO8El5DnB6vsbwXhGIMHhaiXB0bALwS1k/cC/RgHBZTK8wLQQCsG1j8jAuBgHwZCz4sDuvNvAmmM1wboG+MCZyg7BD/EjwQ6fFMETRB/BMk0hwfLiFMETtDHBLOEPwSNdFsFMOCTBU2UkwRU9IcHrrOXAgOUWwQ==",
          "dtype": "f4"
         },
         "yaxis": "y"
        },
        {
         "hovertemplate": "label=1<br>TSNE1=%{x}<br>TSNE2=%{y}<extra></extra>",
         "legendgroup": "1",
         "marker": {
          "color": "#EF553B",
          "symbol": "circle"
         },
         "mode": "markers",
         "name": "1",
         "showlegend": true,
         "type": "scattergl",
         "x": {
          "bdata": "bgVBvoYAisCvHm3ApkOLwExwV8BJoHDAovZJwEHha8BJsmXAWXuJwKkzlr/Wjw1AJNqUwF/SgsCP8JXAaR6SwKGph8CM6pTAGlpywO8vmcA2cIjANlSewKAPlcAHT4DAfAOVwFDIksAlb54/XzWKwI/J3r/RzBdAgskvvz5+ncCJtdc/rMqovw56ZMCxNS0/NuHMP0eVbT/DYVdA5FhQwIwiGcDAUkjAOgFhwPzZJMA/GXpBF1BdwNPKIcDz3UHAOtZ9wJx/J8Dj4iTAWA5KwDhtbkFO9XVByWJ3Qf/DcEFsh21BIcJ2QTnebkG0qm1BkNZuQWUKrMCK/GxBiAlOP8XEaUF0wGY/M74UQIC9G0A8tZu+Bb11vifhnD60chM/6g0wuxjNdUDO92tA43XWP2YYFT2F5YQ+76HAP8tLED9G6ys/ZzdlPwqcAUAHs3pBmDUvP+WfSUAeh88/X/L3P41H0z+fU60/sKCbvfr5eEFLxndByGR+QXn6aUH0q3BBwRxzQdPBbEHv/G5BD7t4QZq3b0Gqb3FB1vpsQcG1dEEOUeg+XnhiPwA5qj8Ew+o/S5bLP7I8Q0AJ0q4/z7cXQKzBjD8O+OQ/FCtnP6CKEUBKO/8/GL0lwMqGT8BYC4y+Gi2hP0o807+nMsQ/6e0XQLLttz+lemdA/KwBQJ6F+T9MtExAd/enwJZeJMBxDVi/YXSYwPoeyj8j85g/JVxQwFSEkT/OwDvAuokTP+61sj8Nw7M/1C8CQJeZBUAiADDAl5hJwB+RX8ASh3bAlqx7wDE1Q8ArhkjA6mxQwOqgLcAoQ2LAKzdnwK4ob8A+kD7A0GOTP/wBOUAe2U9A0OuOP0Mp8D/XnC1AwnjQPz3c2z+6KrA/76x3P/nfnz+R8JE/0+Z8Pzftyz6vLnA+6icLQFw0BT/5poU/K8gaQIIWA0D59Xk/Erd8vgeAsD9ndpI/OYF4P1fbij8=",
          "dtype": "f4"
         },
         "xaxis": "x",
         "y": {
          "bdata": "npbNQLoh9UC87PlApfztQEQq60A2DfhAXHrlQFUr8EBXENlAiNruQDGJ10Dee8BArOn8QIthHEEAuwdBeTsRQTctEEGgyxJBGgYGQTxv8EDClA5BFSPoQPevEkGMX/9APDD3QD7uCUGdWKZAah7QQDHcpEC2HaBAs+SqQCzD7ECH8a1ASqevQPdGs0DFmrJAYx+/QJOgykA016ZALowSQfBR4kCAr/hAHLD9QE0M6EBWedTAFHv/QHgg4EA9wdVAOqvvQHPN8EAyXOpA/97/QD9H7sC6idnADq7nwDriAcFk+QvBfK7jwAqIB8G0tgvBf5IIwecN07/FtwrBJN9wQG3B7cAEzKNAlfCZQKu0o0C8LpRAlQSSQJPTuUAx2ZhARknAQBttskC2859A2DySQH7ZmEAVPptAITXNQAFwzED5N71AU/hgQGDHj0AWvcfA8/6TQIkFnUCJiptAVmu4QEnBrkCZsLdAvb6mQL880cBblNTAEyjFwO6878ARYufAE7/lwH1i7MDl6urAVWHTwKQF58BD++TAEFDqwMrz3sBwf4RAW2uRQNx4vkBKgoVAh3S1QL6/sECxwsVA+TGtQJg8v0D/bIFA5h2vQKVHvUAxSLNA0jbjQBQk60AUzOJAPtGgQNnf4kCThtpAw22sQJ4dwkD/BeRAqQ2yQFwqrkCwub5AasJ1QD91CUGtIN9AsR0SQefV1UCz09FAhA/+QDtuxEDS9upAusXRQF5Y2UDgaM5A2i7CQDwey0Bf2QhBuecQQYdGB0GTahlB1jgaQWvyFUHeExhBGHsdQZC2DEGhWwhBEz4VQQDnG0EkpxtBMkrPQP1svUDlQcFAnlvbQPE5z0B6ys9AV+THQCiL0UBW5OJAKIncQDr4ykCgQ9pAPVXaQHd6X0BrwY9AfGKXQHuRcUDDh5dA1FqNQB/FiUBwKGdA7VCtQGA0i0ApiZNARLpzQEYKe0A=",
          "dtype": "f4"
         },
         "yaxis": "y"
        },
        {
         "hovertemplate": "label=2<br>TSNE1=%{x}<br>TSNE2=%{y}<extra></extra>",
         "legendgroup": "2",
         "marker": {
          "color": "#00cc96",
          "symbol": "circle"
         },
         "mode": "markers",
         "name": "2",
         "showlegend": true,
         "type": "scattergl",
         "x": {
          "bdata": "aHoiwJnsSkFYFURB85IOwIOPOMAySkHAwe0qwGNZR8Df51HAgbtXQRxSF0Fm/A3A2MD2v47QV0G4WSFB8EseQVbGKkGUBilBMaQ8QTapMkEBfRNBEF8fQQRzK0EDmkhB3KtXQffeFUHZZz1Bo5VAQTHyXkFmE2VB1VckQblPNkFf1llBVaw2QUa0YkEwkiVBl0Q4QR2JZUEV0lVBDZ1IQd4uO0G1XEFB7a5aQfosREE/XUlBZ+83QTQpSkGXDD9BmVo8QU+2R0EMAkRBOQuRwJCzS0GCvjFBKORfQQPYHUH3GWBBOLVMQT/tXkEU71xB+Y9DQRFvcEEAYmJBUvA/QZSbYUGtWyNB1UwWQTudIEGDeBBBNYoSQalviUDqoohA5pkOQey7EkH8VWlBF4AYQe/KFUHs7B1B27BVQVZCV0ES72dBQeUmQWVnZEHwbmZBK3VDQZiJa0HO815Ble0WQfnyaUFCcoM+q5McQVhvV0E7VVhBr/tSQajfVEFBlVpBXOlOQaz4SkG371pBQbJVQRV8R0HDgE9Bjh9QQasqTkEMIUNBIcpNQVc6RkE1EEhB1ns4QZkuP0GwOlRBif5MQcX9REGyjVtB8Z1TQUG3TkFYIiBBm44tQZmqHkF9hmRB9JE4QVxQWUG29R9B9n8jQb1qZkFcvGlBAiQXQTIBQEHo7mBBykYvQSkcPkE7vDxByVpbQZ/YREEBCUhBZ98yQWroUkGc4ENBkHhIQVMdT0H+QUFBYo1KQdPXUUFD0UpBilNBQQqATkFHlURBjt1LQUIHTEEdIldBBA9OQRIeKEEVQkRBCLRFQegQMUFvOThBYSEwQYqbVUGrFjtB/novQZO4W0HaCk9Bw3srQaCTMUEc00NBFNwaQQMCHUErdz5BTl9TQWriWEFYM0hBGi9MQfWjN0G6ESBB0OxLQfISREE/dzhB",
          "dtype": "f4"
         },
         "xaxis": "x",
         "y": {
          "bdata": "bQGBQI1HlsBkH2zA7H91QEwih0Dx64hAb+iHQGdrkUBx0ZNAo36vv1rIYT5LZXlAHUtsQFtehL+uMsq+/rQ9wO722L8Xg8G/+Wt3vyZbs7/hmjrAoweDv/kApL+SNxm/hHLrvuepYb/DSTPAKqMtwO3gCsAT4Hu/0ZPWvyraKcAlqOa/A5MWwBzSuL+FHwLAUNs0wMAgpL+6QK6/Byp1wCc3nMBvNgzAfjLWwDAfQsBCbEXA1WWOwMf8eMAGdQfAMz+5v0sB47/M5Pi/bENLQFscxcD5R1PArSqvwK4HJcHlAbHAuA6rwBD1rcBIOdLAsOVHwDE/scAlcrrAaqMzwO2CwsBW5a2/w8vPv4yVDsC8lSPANtbwv2iYq78s1ca/j4EQwAbFqb+wWWu/ZIPav/NT278OX9i/IDTPv0BTK79LvV6+vLLYv2u5Yz74kRu/fIWCv0/qzj7UTcE9jRFjwLnwCT8DST5BNb+0v8WwHcDttFw+KwohwN3HDMASWtXAkFOewF23qsBF8tLA7x9YvuChe8BRr7zApXdcv7+D878InYvAQwG8wPG7v8Bjo6/A6CuewKoOy8AyTJDAfnzcv8lilcAmc9zAGFyfv/RGmcDvqhPAtwBGwGBP/L/qLyS/IOoZwAjSHcCblG3A4dgzwAI2F7+k1I6/3yIWwZuBwsDSwePAsWK2wBZv0cDde9zAliPpwHoh08Bcv0fASJ3hwH0/wsBw89DAYca4wKChyMCzmtS/m/60vqYI1b1pHZs9kMbPv1Rk4j7b/g6/140dvzN0P76Eh/U++yKGv8aUWcA0oiy/3zqLwIDzssCjuqbA1gXlwKl/IMDSJt3AdOBhv54pDMGty6a/X7WKwK1ku8CApwvAIVNhvg76jL0oL4C/olXpPs6JuD5fK/K+rauTP8T3Jb+E2hvAM7VCPnNI8r+Deca/",
          "dtype": "f4"
         },
         "yaxis": "y"
        },
        {
         "hovertemplate": "label=3<br>TSNE1=%{x}<br>TSNE2=%{y}<extra></extra>",
         "legendgroup": "3",
         "marker": {
          "color": "#ab63fa",
          "symbol": "circle"
         },
         "mode": "markers",
         "name": "3",
         "showlegend": true,
         "type": "scattergl",
         "x": {
          "bdata": "8Ba/QBKH3EAQJclAR6ewQE0Dw0Bncb1AAAfDQO0A7UCHyOlAskzKQFNfAEHl8etATRUsQanz9EAA8wBBESTyQOc5zEBdu/dA6r3yQPQQzkAoTdhAvSzuQGTj2EBzoN1AR0XtQDeguT5M/b9AkBOaQLM5oECQcJZAubvmQPD/m0BPqKNA0kyzQBp8nkBV5qpAM9LmQNqT7UCtbJVAsli1QBm+lUAuF8dAO1s+QHkoyUC1INdAgGmgQIeOVkDaXKpAcOG6QBMXwkD50uJA9jXmQDOMw0A+7xxAGl4sQCDGF0DCvCxA/ZS4QJbTb0Bk6jXAQGsWQOsvTEFtAwnAGVsLQAzdOUDVmS5AAjR5QOmdRkBnq4lA00FPQL2eZkBg/o1AHcFuQEzdq0BO7W1AotRtQEII10AvsNJA6jO4QOtc5UApTcdAMIrNQE350UBcTt9Ar6TlQGu2r0D29LVAX8yoQD855kAWk7VA8dnMQO5smUBNxJJAIDnLQH3CyUAyidxAlIuyQMRK0ECURzFAaJimQL/MLkDRVZJAtetHQCct2EAfRq9A2mR6QHCickC5h4JAZ0B/QDcNHEHM1ohA19qNQGs4gkCb9H9A9XF/QDzaTz8gO2hAfcGEQCKVmkAnoZFAm010QDGc5UBwrm5AA9y2QFH8u0DzEO9AzrT3QJiGtkARBhBBhHGhQBX6AkExNQJB7OmKQCqkqkAUM4tAnAinQO9oa0D0hU9AgDl8QDAuoUA5OrdACOCjQIyfZUCXj5NAGRLCQJ/NtkC2oeBAyQiyQHKmz0BH2alA0sbEQGfQqkAQh7RA+oOvQH8GwEB9Q45A24m8QHmsrUCH8aBAGd+tQGHo5EDyxNhAdIrQQJK+ikDcZp5AvsO7QB19s0AkBZRAfe6rQLjaq0D3KNhAKMPQQF6V7UB8qeFAxEC+QIXrwEArFI3A2YfFQHCAv0BwfrdAglayQMJz3UD1Y9lA",
          "dtype": "f4"
         },
         "xaxis": "x",
         "y": {
          "bdata": "2iPhwPG1j8BkeUrAecHMwKOLisB6LKbA3lmYwLSkg8D2B4HA28SHwEA6dMDCO4HArS8GQBhNZsCWyJXAuvhmwBaricD145vArrmTwJz4V8ApzJ3A1qqBwOb7f8AwcYvANTdhwB0SPUHBQOPAVmSswEEg08ALrrPA2I7ewKMyocCZe+DAaJzNwK4QucDy1KfALg3QwCO40cAOP9DAXemfwOIymMBfNP/ARRlCwY0qCsFSmhbBMm4GwfwZqMBpzwXBYbcBwWMI+8AZVf/AdPPvwDM3DsGGNJzA+ueCwHfMZ8BlEpnAI0kwwd5ng8BvBtXA63qJwHz3+sDtNmg/KM9qwBuKlsCjgpLAVOSswFVXycAkiKTAbq5pwBhsxsATJ7/AeUDUwLR3ssBtObvA+3nNwBc00cDaitbAsrq2wBIWz8AV6MPA02/GwIQkssBz1q/AL4uswN9OK8C//kPANratwD6exMAiL7bA9Le+wC7dgcCYvQjBD2QOwbNf8cAVHhbBNXIAwc4xEcHfUz3BC3AYwQxSSMEAKgnBJkZFwa6dEcHrtBbBJhXgwHCn78B25MrAzUm4wMAbJMGSJ7TAS0HzwM5Q28BEQurAUZvmwGM3N0EPZezAEInbwKVV6cCUmK/A7efswCpd90BOIu/AfyGWwDtTYMDW7Z3AD0p2wBvChsBbThLBAvzEwABSd8DzqKvATrC3wKGbAcHxLfLA8+yAwK3GvMD87NzAv8cBwfIjycBSU4/AyQ/uwOP6zsAMNd/ABxLmwGzt8MCupdrA0927wPci7sAaLfHAbJ71wMd+6cCeMdzAKcHIwMwCvsBJguTABV/OwKdqd8ATIFPA9AuQwIxOGMDOXao/8zr4QMa9BEGD3RRAqv6DwBQXgsDUFFTAy3iCwBFwjMAB8czAxx/hvyWps788Bf9A2ejhv3nos79EoRTAHlfgv9vODcBv6GXAo2jJwHaQqr8HD6PA",
          "dtype": "f4"
         },
         "yaxis": "y"
        },
        {
         "hovertemplate": "label=4<br>TSNE1=%{x}<br>TSNE2=%{y}<extra></extra>",
         "legendgroup": "4",
         "marker": {
          "color": "#FFA15A",
          "symbol": "circle"
         },
         "mode": "markers",
         "name": "4",
         "showlegend": true,
         "type": "scattergl",
         "x": {
          "bdata": "Tc4BwaBZDsEsFNjAH3cWwUB0DsFQ9xLBXvelwGyO88BHJ/HA+tcqwViGHcHQMhrBS2QYwc7658BwqvTALpHuwDeo8MCG+uLA/bLfwLLw+sBIVPTAMjngwFNM48B9wNXAtzb1wEs7I8HW0iHBE2kvwf4eHsHAZyfB9D48wUrxI8F4vSLBj5wXweUWKsEqwxvBd+ItwSU2FMG9DOjAZGw6waNz9sDpKu7AihQMwfuP6cAbvtDAq8sMwQOl98B6sdPApRLtwCyp3sCtB+PAxXZEwTeZQ8EfCj7Bl8E3weBkLcGkrELBZfNFwfKaP8HWRULBl35JwfsyK8EZxErBAEZFwRIq9sA+XwTBdTjLwP5U8cAHjwvBogPzwFqrAsEYCETBeP2wQOI+TsExprTA3l9BwXs3H78jfTvBnJwhwehHTMFSwx7BP/QpwTSpMsFlXhrBskxSwcJ/JsEfnDPBAIoVwSjgRcFKu0PBDfIUweA9T8GPpvrAErEFwbJd8MA70/fABvFWwZw85cCOJfPA4+sKwSAj9sCljRLAY0nzwN1V9cCcdrrALUgPwVnAu8A/mAzBoUe+PvOEEMGUWBTB/nccwWbZFMHOMgPBfXAawT+RGsFk0BzBY/4WwZ/LNcHhXg/BZTciwUEnEsFyjw7BrqUWwW8vJcFLNiDBkE0DwUrSFcHKEzDBB50iwRkeJMG/xiPBfBAhwT6SHsFeEinB8GkswQGmIMF+axnBFpUWwYyOF8GAaxDBVmcswet7R8EFMTrBCGs5wWbnGMFJkz7BUAAswUcHLsE6kDvBnPk2wTMENMELHDvBlx05wf/nHMFgjybBZuwjwe5RN8E0ayrB38M0wR60sEDcu65ARFUuwZfGJ8F2iCPBnJQ8wbWHtUCWDCnBTLLGwOBVIsEQ3RTBMf4ywPxi98AYYD/B1XE/wc7IJMFlOgLB3ogBwYClQcHk2xfBtY0awQ==",
          "dtype": "f4"
         },
         "xaxis": "x",
         "y": {
          "bdata": "m1P+QF5XFUEG3QJB2mYUQdDE/kAtkyJBCHKBQOxNAEGjRwBBzc4uQdMXIkFGIypBLC0WQaeQC0GuSdRAI+ngQI9TvEDDxNNA9mOyQPtRzkAHANRAI0OyQDMe10BAreBAJWrVQEDXJUFwlh5BEpcjQRHfDUHwuhxBM/gXQb4eIkFbEQZB3Pc2QRVX2EC2CRRB9bMaQZtwFEE4rMBAvV4AQff820DgJPdAaQXgQEMC3UCy2f5AMWPZQF2l5kCJyvlAMwPnQEmO/UDPNbhAa1MTQdNiIkEbgP5Aw0APQdT3FUFoIh9BeY8QQRX1C0HA3w9BazPsQLbpDkHUixNBhq4YQee45UBHVN5A+eHxQPT7BUGa/h5Bx13kQPlk5EDooRVBksNYQap72UCf0GdBg4jmQP33TUHq9OFAjen0QGrbpEDbMepALB39QHi1/EAFVuFA/YiiQGtat0BOcPhArPXrQBgvq0Dqw6lAHPf4QBO6oUACmRZBTsk7QR5BGkEAThdBgnetQJ5QSkHeDjdBLmwLQSoMRUGOy3VBv/lHQXmjRkG262VB9BowQRdvZUE9gztBPr0cQW4zNUFBWjVBf1IjQTboCkHdLUFB41keQf2+L0FDgBlBhiXmQKiNFUHxPwBBRHzNQM6TFEElAQJBz/4IQdhY+0DMbd1AsCo8QQNd9kBpWyxBemezQAYcq0C1saRAZg6+QAPst0CVWddAOgHTQEZksUAMAw9B8MfOQO6610D/BOdAojXVQBSzEUGPxwBBSVAMQR86AkGlAwJBAzgHQY5o90D70gpB+I0NQawz/0AMgiBBtnwEQcEf+0ARiyRB0OUiQWj3KEGHrRdBBGUqQaZX4ED2yOBAnvwRQejMH0HLaxxBjwIpQe/w3UCPHhpBPY7YQOWCBUHjVQRB13BmQce9QUGEiKlAnMCpQFvh1ECU1ARB400AQVGwqUCPud9AUBT0QA==",
          "dtype": "f4"
         },
         "yaxis": "y"
        },
        {
         "hovertemplate": "label=5<br>TSNE1=%{x}<br>TSNE2=%{y}<extra></extra>",
         "legendgroup": "5",
         "marker": {
          "color": "#19d3f3",
          "symbol": "circle"
         },
         "mode": "markers",
         "name": "5",
         "showlegend": true,
         "type": "scattergl",
         "x": {
          "bdata": "wtkpQDuHMUGcXhJBjdIMQcWxMUHjQRlBM/MTQQLJDkEa2qhAPafpQAXnCkHdjCVBQcOnQJJQM0Ggry9BNX0zQQU9LEFrx0JBtZInQRe+NUEhUipB8g84QYFTKEFNrhhBjXY0QTdQMUGjOwa+1X7zQHEdHL/fTR2/pVltPfUxVz8GqEy/AFgDQTJeWr/6q5+//pwJQaC8Rz6OWjBBGUbcQNX250AeXeFAePiNQLUf6kBz5YdAUw3WQNRIRcCqgeVAb/kQQTjT9kAEpgZB/DXWQDpVJ8BbwbC/2mSJvyZpgL4d82O/cEPFvzP/ir/ftlu/PT7+v+JMkr+KDIC/q7dFwBRMor8I8TDABVYVQZzIFUE67QvB0BwMQcY3E0H1TQpBAOgswJwqNMAL656/LuYGQfhvEEFcJTdBKNoZQVV5JkHwCi1B7GXeQFb+CUFYzAtBWCAFQdts2EAi6BpBIMv5QEzEJkFpmQJB3rEoQZCeLL8gbRa+jMs1QL+F7D5ZKha/BOPOPuelnEApSLK+NWYHvvbvEEFBIIY75VmqPc3biT7/VwVBZ4gGQRWx7r9EaPJAcn/+QDD27UDRAwFBFHQUwCdrF0HgR/NAOBEZwMxLBkHNqxnAfenNv5sZs78jOThBAxpPv6p+EEHBiyVBvkkzwPCtEUGMeHe/57ZBQWtSIEE0BjpBWPQ/QQltr7+maidBIkL7v5L9FUGKnsa/6hkHQfF9mr+ZUwbAwcu7wJbaCz0HIuxAzD0+wDjCBkGEQ4+/mU0cvxH9bD96AS6/Ek0HvR67bL8CCS2/i74tv56jxL8MGUW/ouEbQK0vu7/ng2C/luQPQX+HDUFwawVBQ1cAQQMER0EY6AlBllU8QYkmDkFMAH4+O4cFQfFB3EB0bwxBczsFQW52B8CcdxjAflQ6wDobDsB2w/O/uIQEQTKfHMBrshjANmU8wN/F2L/9ng3AEXQmwID8/r8=",
          "dtype": "f4"
         },
         "xaxis": "x",
         "y": {
          "bdata": "QgkqwSnIaEA3KqFAzao6QEYDTEDc31pAHLlzQH3mOECD/5a/quccQCpAj0CFbohA2/pvvwh7hEAMbFRAykmmQCD5aEBxaoBAJo+UQNp0YEByT4dA2yGTQEI5jEC9BKBAMQuLQP+MgEBo8IrAC0iRQA5tacCF9nDAuPJqwKOcpMBWM1zAb6o/P1XDbsDEh5LAlp00QO3/hsCkiYZANxRfQEKNeEAhKHJAuXIcwIzIV0Aw7yDAHNV1QJsilMB1g2RACHb7PzoUYkBJvJlAIxV2QAJDlMCaI7HAtjmpwOhGUcA3y7bAzPWwwJw3psCJkIvAFs25wH3VwMB6b4fApe6SwCZNtcB7TzLANl6tQFDhr0B1S49ABRWxQLW1sECD6aRA8Gr0vzsR6L8d4ivAlruTQFZxvEDDEaxAMimAQLSAoEBDMJZAKwOUQGB+qEBx0opAlqeZQO2mmECHUYlA4NF1QC4ImkDs6nZAT+CYQN5PgMDKN7jA9ckUwfFquMAUnJTABVO9wFMUJsHRHZvAp8avwBqWG0DqQ7zAAazEwH1SnsDWcZ9A3DhzQCnYdsDc7Z9AFfi6QJECqECUND1AtzXbvyiznkAIihpA3iAHwE/+rUB7Cc6/Wi0kwDkDNcDI3ohAUA4rwO9OVkDI5HdA+ScIwBvGskDTVB7A3xt0QHHfnkAptalAok5lQDHklsAsNBhAEeQEwLADHkDVff2/HsAlQPyxFcCR3xbA/2BivjEayT9UBTNANoIkwK0aDkB4U5/AYIOcwJDRqcDgXqDA7CSfwKd1lMAin7rAQ+aQwN4tT8COXrfAHZ4TwdkJlcCWcm/A5sC9QLfvxUBblrZAAqHNQBn0bkCaB8RAdfmTQA3bvED1FvA/rUnJQBP/nkA+xcZAh6/DQE72jcDMVmnAe7howL4CTcBzbUrA59EkQKqjdcC7upTA3wNwwI6xmsD9in/AbmZcwLdmksA=",
          "dtype": "f4"
         },
         "yaxis": "y"
        },
        {
         "hovertemplate": "label=6<br>TSNE1=%{x}<br>TSNE2=%{y}<extra></extra>",
         "legendgroup": "6",
         "marker": {
          "color": "#FF6692",
          "symbol": "circle"
         },
         "mode": "markers",
         "name": "6",
         "showlegend": true,
         "type": "scattergl",
         "x": {
          "bdata": "OPMHwYi6AMHdyBPB1Dj+wFAMHcEOnhbB0PcNwSCxSMGmAAzBax4HwewY1sDPkw7BQoPxwFuXN8GBVAfBMN0VwQv3QMEglzPBan8LwTh5MMEiMjPBGzFCwfw1BcGVzBvBnvQywVyTNMGYcCTBcs5DwfiOFsGTvTzBK8EqwSobJMHu1hXBwmcMwbSSOsEErhbBQe0twa/4H8E/rhTB1njawHk6+cD9FNTA1bwYwRDOAMEHTBLBY1ICwTjPFcFwWv7AbNfnwMTxBcH2QJ/AHxgawdSmIsEjWifBj/YjwQHZIcHj5ijBC8QewY3DJcE2WiXB2AkhwXkIG8GoKR/BvWIiwZhZJsEsmizBP7EvwVnEP8GnUEfBhno9wZR2H8FriEnBkoQuwcuODsEt3zjBew0OwXRtDMELGDPBwKU2wSni8sAu5z/B3u8IwWspCsEkKkPB8qEwwd7VNcFDUvHAfVcdwUhH+cCfvDfBnDY+weVJRcHYekHBevgpwbp1QsEX9iTB8vgwwbFnNcGY2zfBjooQwa94HsGXuDXBglkywTXMQMEkuzrBpkwiwYYwB8EUtRTBmNscwQCADcEw3ATBdd0LwcxSEcESch3B7kIRwUcnKcHDcUHB3HsqweBcE8HwdwLBqhHzwJTXEsEI3BHBnawVwd7rEcFsPA3BETULwfSlE8Fw8/LAYsXkwDXaAcGd8N7AnaLhwG8kAsHeU/zAH8DzwL2VB8GWOQTBGwzfwKeLAMEDWu/AUb7qwN2/NcEAcjzBr/I/wcWcJMHRLzjBtPY2wSNOSMEp9SvBAJc4wQrKLcFeDCTBaXIkwYikFsF6edXA1gHtwH4m7MBVjAfBlFz2wCNCCsFNIPjAdDEBwQXg9cD3qvfA2ewHwbYq68AYKu7Aj+M2wWFBLsHabzPBpw83wR/vJ8HHWzXB2R41wZTsRcE5yyXBaekOwbAZKcGNLwLBbYouwQ==",
          "dtype": "f4"
         },
         "xaxis": "x",
         "y": {
          "bdata": "zQOnP5RRz7/YJrU/GwzLPpdYPz8XigW/sbtDwAfBrr7yx5Q/z1g0P7N+EkANfv4/CGfuPxjFH7+3JTq/wrfWux87Bb+5K/u8f7L1Pk8mVL1NzRq+glquOwVOsj7bkDi+RBvNv4ULm7/G0JW/9yMcv9KvVb9Zuvm/5AXTvzeJnr+nVSnAg744vzX+vb9yFHq/dPiLv2vmvr9XxiU/6y5hPg9fhruIAaS9FUB2vs7+y70JXG8/ezamvk6MAT/Qrh6/HM3kvjQWKz5eiB1A9Yr7PowAp75GT5A9hrKZP2LG/T/KSLo/H3pUPzZ3db6wVMQ/fNIAQBgyFj8cxA0/a93MP4ztC8BD9Pq/qt/av5XkjL4cOy+/3A+hv0NPCMALpZm/O5YBwIkAU8C3y7u/FPoHwAtk679FTmDAc1mRwN1PMb28uhnAMyjdPkyCRT6QzRfADN2FwLS3Yj2nqVa/idpAv5NMPD8GtyS/oF9Pv1mRWr9BqrK/gPlav67fI79Qgj+/qO7jvxVLUr/l4o6/GXrPv795pb9QqZm/dwnMv1jyub/4dwLAGInGvwyNeL903Q4/KJ8mwB623r+m013AEdZVwBz4TcBdoxrARBncP+jb378OQNS/NaiFP6WUBsDyzV7AQw5OwL2Xz7+SE1K+NUl/vbRWor8RAOG/RhkewIqP8b3lyGjAYkFywOpTHcDD4n7ARmN6wBTlQb5eYHK+rIMsvz1Brr6Ucom/xPV9wA8CqL/akNq/wzRlwPZOs7+1T+q/MmDVv6kjDr9raBDAXoiivwAUi79gnlS/nBH6v8yE77+Zm36/cgqIv7crhr+kFZW/LFi4Ph0D/T/35Am/Urtov76UCr96/Y0/C21mv6Mqib8Nmc8+x94MwDaVyD/bI8c/RL8MP1vdIL+GmiI/7T9APqQqDT4L6LA/+4sivmcQ5r0B2Ic/iEVoP0ZdMT9CGa8/UIb6vg==",
          "dtype": "f4"
         },
         "yaxis": "y"
        },
        {
         "hovertemplate": "label=7<br>TSNE1=%{x}<br>TSNE2=%{y}<extra></extra>",
         "legendgroup": "7",
         "marker": {
          "color": "#B6E880",
          "symbol": "circle"
         },
         "mode": "markers",
         "name": "7",
         "showlegend": true,
         "type": "scattergl",
         "x": {
          "bdata": "vs2OQCqARkCAhqc+GpoUQEZwtkCx9LM/d8dMQEXVnkBwy4E/atB0QJL0PUBzkYhATCCCQPTAhkBll4VAMn+oQDvBvD+nvBlA+3+XQOJUz0Afc+xAA7yyQPqNdkBqu7FAOYaoQLYchL61DaZA4Swwv4Tnq0BPXwJAzIO6P0XJrb9fIkxAfXltQC2Po0BdX5pAWjdpQDQrAUCo9oq/0heIv0Jrrb8c/5y/MBdyvBVph78DqeK/1orav2lNZz+YkXo9FNy7v/6gcb+kfDs/JDTrQHoDsUBecog/lG9dQHEBpUC3OdNAtPGBP5Vgt0DolK1A46yUQO/2mUB+9dRAEF6iQKPjm0DqRxw/S70TwEQoWcBYpsG/0Ei4Pyk4pD+l5oM/DM4TwFgTNj/Mxx4/Cya5PjtepEB7Z2VALaGeQJEbn0D10sFAZqxRQLNju0CMXIpAqhl/QBzsV0CLW65AJZuOQAc9g0BYBLxAId0OQBZeTkBPjB1ASgdTQNedyz/twFBAptYhQEdmUkDfcSZAeHsmvsWETEBpbDtAwzN6QPYKREBNSIRA7PxaQMoqcUCLVH5AW4wIQCCUy0CJwRFAI8JtQOr0lT9A4LJA1IWiPwRuykAPOnVAFlZCP/JG10Dp/LxAJTWtQNp1xkBCetZAwDXVQIEdsEAFNd1AhYGqP4wockDD5/5AbnRuQPuJk0A2aThAT+inQHjvkUBzi89AloLIQKpwwkD9LEZAwsvFQAvcAUBhZqtAvmwIQNYlvT/HZAJA3Qg7QBq2J0DyDW6+GVYSQLSBKkBJKT9AYlEsQMQ0BUDdBe4/GgoCQPGKBUFhIOFA1w+uQLLc9EBy2fdA3vnwQBT/yUDv+N1AP/MFQYSRe0AQx65AFARPQdIhn0BHowhAK/euQKFsI0Apt5Q/qpmTQH3tbkDcZKNA8qmNQE60gEBGlMVAVT+IQHE0sEA=",
          "dtype": "f4"
         },
         "xaxis": "x",
         "y": {
          "bdata": "QNRlQYkqMkE830VBNbkyQa5nUEFE/EZB2bgxQboaQ0FRhkJBQgk5QZ+jMkHH3TpB+HxHQTNYMUFM3ClBqA4gQaHXVUEyYFBBDY0vQcmmHkHrIzpBOYEdQRqTVEHp6jBBqJ8fQY1RekFM+DpBTfl5QShhOEEzFVRBHJhIQXGVekEe0jtBwvI3QXS+K0Fk/RtBJP84QS7yRUFCUGpBOx5xQan5dkHx+GpBCqR1QZuwakGvnXlBaslvQSU7akHaTCVBiD55QafabEHD9GlBb5c5QQi/S0FvClJBUtk+QdJcUEEt10NBRlRcQarAQkHvmUpBn603QQ1rQEE9FTRBSSpRQZboS0E8gmBB8kF4QWKOY0HkO01BffxIQcrpTUGxLEdBwOl2QT9/SkHrkEtBoS1MQXLbQ0GYwUJBvGY1QdDBNEFeTylBLSdBQVT0HUFh6zRBf9UuQRw2Y0EhWidBEDUqQR5OMkGHxDdBQLVgQWmuS0EATlxBvBNWQc05ZkEPKlRB/WphQZp5SEEzB15Bo8V5QZx5VUEWUFBBZ15LQQRKVUH8zU5BuHthQe7eO0G6D2RBujGAQb9/SkETcIBByQxSQdMkfEHiITJBpZB+QYQeR0E2eFJBavtUQaKyQUGG7khBXfZDQZqBSkHHLT9B94I5QWCxOUE8B0NB8e1OQVEQbkGs5ypBXK1CQVEfTEH3TkFBE7xAQUawQUHLl0JBJmpFQQQfJ0HijjtBNyUoQZmZREEx/kdBZihWQbNIXEH9tFxBz5dKQRynN0FGemxBDCpWQd9ZQEG7y0JBzlNJQTsaV0GIa1ZBlalWQfVtIkENNTVBzwo2QT69KEFzFihBj5UmQbSqN0Etth9B8GgmQcFHKUGkfStBbvhWQPwXSkGTW0BBqxNMQUi/aEF9w0tBPyQsQQNfFkEenxpBvxccQYZKP0EuczxBWt1YQXt+KkE=",
          "dtype": "f4"
         },
         "yaxis": "y"
        },
        {
         "hovertemplate": "label=8<br>TSNE1=%{x}<br>TSNE2=%{y}<extra></extra>",
         "legendgroup": "8",
         "marker": {
          "color": "#FF97FF",
          "symbol": "circle"
         },
         "mode": "markers",
         "name": "8",
         "showlegend": true,
         "type": "scattergl",
         "x": {
          "bdata": "4zQkQFiNk0BsHi5AYqqlQAuphUBG0RdA1ip3QKa1mUCqxBFA8Q4yQMY8nT/W0JBAKptBQPInQEAQxf0/c9AaQOWrPED5vDFAe98KQOWRZECrL4W/UIjQPzlPrz/XkXE/P8Juv5PFHEBH5Po/GyZ6QH93c0A5y31AaoQfQHdEzT8z3hBABw9eQKwvP0AXjDVANkDhPx5bckBVF5A/dfl6QHYzPT1CUPI/5yoOQJ9mTj+9Ru0/OH8QQHeYDsA20DBAU0MYQKg9U0C1sQFA0UYXwPVOBsBcTvG/Kc8awIaiGsDnvSvAuDopwJk6G8DAQRPANh8pwAPsK8AvzSjACN8fwI/2JUCGImNA/u4hQGPGQEDb3zFAYu5SQN/R1D9hzB9A7VUOQG+29D9rAF9A3LMgQB85SEBSzLO/hmJbwC0v3j9vZbI/bAhFP1KWgz6+G8I/VUB1vz1kvD0yMQ0+DxpowA86kj3WBrK/Cos/QP90QkDtblZARSs4QDDKCkAZBy9A81ESQIIvjj+yGFhA4mjXPyLgMEDNqIhAkU2pQITu0EDJ0MdAvycTQHr6rUCkZsZALOu8QK+6oEAT9vNANQKpQFji1kDhhdRAYIIQQenil0Bx6phA6GLFQANxsECOcthAxTnFQK5ankBBDxtBxO6LQMQanUAImY9AQOuPQCRSQUAOjBdBueJrQO+zOUBeCgxAQdlgQCoUzj9BsIxAG9l7QH+rLUC7NmZAtGqSQP450D9lrKo/t8rOP0y+mz/qIZI/24sYwEJTIj/7hyU/LnySPq+ktz60fE8/bY1/PmiPYT+noWS/CGujQJHfbb+Yt3y/okpeQKalFL88dzm/v+gtQBnDEUA6uaNA5Gy/QHMAmkC0Qy1AM2q6QEt3mkBYiHdA6O9GQF1Jk0BYOW9AMH7NP5Qpmz+TIZFA",
          "dtype": "f4"
         },
         "xaxis": "x",
         "y": {
          "bdata": "LiuwPi3cWUD/KhZApoiDQO5YDkD9Ij5AVGhLQBxof0At5T5AQUqEQOHVTUDRAZlAyYyqQPZYvj86b2I/a6N4QL6j7D/hYYxA0tJ+P54+f0BIJgZAXgp0QJPuKUDLTixA8pMMQMHiDkDQsd+/rrPXP9Y12j97AfK80mPNvUun+7/JPda/QpKTP4iUNL/JJWXAwEo5vxpa6D/epOi9vvUDQJfWgr+nYXe+m7fNvjIfyb8RGaE+VLkQwFA838CAz4c/p6a+PwDiK7/TfA6/eXxRQMfkDEC/HNM/Rfg9QEus+z/ZqNs/DCP1P2jGAkCNyjtAYqNJQMvHA0C3IAFAt/A5QOagjr/xFnU+8UKNv3gYML2kgOW+WPNbPyZA1b8mUMg/vXE5QHILsL9eIl9Aqcpnv1zzrD8/3Zm7j/zcQD4qLkDfJg7Au6yzv1AIPb8EGLc/XzxlPpSKpj5eBTw8chQxv3Uy6z403OU+LozRv5/FDMCyIgDAdRb1v9OJVr8jFS7ApwGxv6bC/L/OXxLANioIwDB12r8Nz7A/cHkHQJ6j0D3aRse9fhe0P8U7FkCGYAC+PQ+KPWGutj+eIb++1hxuvjN54z7Oyo4+GkISwSG8bkA8uV1ABwT0P20jXkACxsdAjlkNQIQUOEAKYSHBn5KBQF6hIUDoVElAKxwwQN85IUB4vhbBlUpDQOMUPEDC5k1ALhc3QAHfC0D9yj5AovAkQA+8ckCS5EtAg2o+QKSxGsAWvu2/72cdwFioN78Ijz+/OfgMQc5Amb9/HFO/VNAKv+MVwr6o53C+MO+mvFB72L437stA98KsQO5GYECYZSFAPjkyQGZjM0CtWjJA89FoQOFKCEHIfeq9D8SVPzZyhz5t6T6+qzG1P9Dh0D9/JyE/aGYGQCO72j2uIntAaGBvQA/lIEANbPK9",
          "dtype": "f4"
         },
         "yaxis": "y"
        },
        {
         "hovertemplate": "label=9<br>TSNE1=%{x}<br>TSNE2=%{y}<extra></extra>",
         "legendgroup": "9",
         "marker": {
          "color": "#FECB52",
          "symbol": "circle"
         },
         "mode": "markers",
         "name": "9",
         "showlegend": true,
         "type": "scattergl",
         "x": {
          "bdata": "W7nHv1wAa0A0e2RAELdjQIc+kECJhw5A9uS5QNutQ0CrURdA88IOQLcKA0DMvgJA1kkav0NiAUDwULc/1OkEQIQUHEAQMpY/79EWQIXJ4T+OV7Y9xLVaPn3FEEBSCFe/aCDcv9mQez/G0qE/QMmiPy7VwD9OgCo/CMsEv5lkSD8zu7I/2G6QP2N5mz8u+BjAYLI/wIbeYT9ub5a+IYWmP35Odj8coxq/NvUkv0QXwD9ifJQ/PxY6v7COGj1CPHW/0kKSvpPG87/DHAo9CQrcv8mCFMDdhFhAcZl0QJKZVr+WOty/v04QwIQBoj8iZ8i/cRPNv3az6D9aWbO/UGokP649gsDdUU3AHttFwGR/VsC13kTAxTpMwOIUScBRT4LADpxjwDAFTsA6eErAqRqEwEvPKMBNDf8/uf8mwHq2MD/1zR6/QDOeQEVgVb/3PTg/J2iOvjhNIb89cHo/ESzEvzTQ5L8eWSK+medSQO/iD0BBFz1AOhiiP/9o1D9BJB1Ani4wQOW3R0C1wAdAhd8rQB9AnD+2FXtAK1cQQEHwL0DjrGtADwedPxIPtT8+d3BA7RySPzkvsD9dN6tAVnx9QHwp7z8K4hNA3HCZwOw0AEB9QDi/AlDfwLB8hL/k7YI/7OD4Pkkpvz8qPrQ/O+YPvjCZmj82ANM+uKSRPnJacz9FCMo+UPB+PzTE4D+2pJE/J04RP+v6LT/WtVS/srywP/pgvD9bgQk/LBbiPoHBED8hWyHAHvPLPwpVwj7K5P4/NxoMQARKHz+mvSlAOSAwQGgvO0A1jxg/EuAzQKqTLj+RsYy/oJYqv53RS8DJtuy/0Nvov1f4G8C8OCq/yQf3QIHyFMBm8fw/92xZP9RZBEBLwJBA0gYBQeW9RT8EHvk/YHCLP6d8+j831IE/kjGkPgLhhz92OmU/1tnJPyjZFz7WxDE/xTudPxN0Zj6/BOW/",
          "dtype": "f4"
         },
         "xaxis": "x",
         "y": {
          "bdata": "67UMwdh9L8FrsC7BxmIxwbe3JcHIi/jA14fcQGeNKMFtxunAjpotwXt8MMFvlbPAplQywan7IsGLJhrBqsoiwXBZLsEjCCnBGEAjwVGgHcFffPPA5ZfswJynJsEDJgfBWdgBwfEQG0FYoSBBgoIOwQQjLMHM7tLA8Dj0wI70JkGfuSBB3CIgQXLQIkHexjhBtkk4QfuUIUFetS/BzwYlwd98J8E9/hDBd88JwQ7oA8ECUP3AerMIwdGQCsHJowvB6JkOwbyFKcHUlQnBU9HzwIxaE8FmmQ7BHYaCP4YbLsGq2uXA8A4dwQTZ2sAVHe/AVCPnwNqBCsGRACHB0AkowSiRTUHYYTdBT/o1QY9GNEE4LitBzeI0QZLINkG86A5BiMErQZ+NPUGe8klBsaVLQcEgOkHz3hnBvQMIwTiYMcGT+DTB1YUwwdAQIsEt4CvBPYMKwa6MLcHOpCfB4zwtwZHjKsH0Sy7BosUfwQpBCsF5+w7BYPEIwVYOD8GZDBHBc/QdwU/mF8GryxbB7UwHwbqeE8F9RB7BTOsDwZKaysCMyhXBK9vCwPibicCOkxnBLD6JwHzAw8CI55s/VeYjwSgv1MCyfsHAV1BawC3MusB4KQTBKzWAwGv4BMHxwfTAs9X/wOtp6sCh3B3BdAvzwBKI4cBEvfHAhdnvwKnFFcFs39bATUw9wcX5+sDFPu/AlxkOwbdmF8H7zePAzwgrwSeR98DCxR3BZHf9wFQT9MDYYCHB3AUFwSE3HMFHiwfBL+kAwaucFMGQZwDB/JAOwYQBAcHmvhPB9HQEwRV3B8FrLCDBFs8cwTt8MEE+T0FBVEB7QXIfQ0EejShB2uLJQFH6NUEQ1CXBA7MjQSEOMMHF8GbABVTPQEn+JUFf6ATBqCb3wLGeGcH+cQ/B38IUwVclBcGrPQPBrIwKwagbC8EekezAQOMbwRbcE8FbHwTB",
          "dtype": "f4"
         },
         "yaxis": "y"
        }
       ],
       "layout": {
        "legend": {
         "title": {
          "text": "label"
         },
         "tracegroupgap": 0
        },
        "template": {
         "data": {
          "bar": [
           {
            "error_x": {
             "color": "#2a3f5f"
            },
            "error_y": {
             "color": "#2a3f5f"
            },
            "marker": {
             "line": {
              "color": "#E5ECF6",
              "width": 0.5
             },
             "pattern": {
              "fillmode": "overlay",
              "size": 10,
              "solidity": 0.2
             }
            },
            "type": "bar"
           }
          ],
          "barpolar": [
           {
            "marker": {
             "line": {
              "color": "#E5ECF6",
              "width": 0.5
             },
             "pattern": {
              "fillmode": "overlay",
              "size": 10,
              "solidity": 0.2
             }
            },
            "type": "barpolar"
           }
          ],
          "carpet": [
           {
            "aaxis": {
             "endlinecolor": "#2a3f5f",
             "gridcolor": "white",
             "linecolor": "white",
             "minorgridcolor": "white",
             "startlinecolor": "#2a3f5f"
            },
            "baxis": {
             "endlinecolor": "#2a3f5f",
             "gridcolor": "white",
             "linecolor": "white",
             "minorgridcolor": "white",
             "startlinecolor": "#2a3f5f"
            },
            "type": "carpet"
           }
          ],
          "choropleth": [
           {
            "colorbar": {
             "outlinewidth": 0,
             "ticks": ""
            },
            "type": "choropleth"
           }
          ],
          "contour": [
           {
            "colorbar": {
             "outlinewidth": 0,
             "ticks": ""
            },
            "colorscale": [
             [
              0,
              "#0d0887"
             ],
             [
              0.1111111111111111,
              "#46039f"
             ],
             [
              0.2222222222222222,
              "#7201a8"
             ],
             [
              0.3333333333333333,
              "#9c179e"
             ],
             [
              0.4444444444444444,
              "#bd3786"
             ],
             [
              0.5555555555555556,
              "#d8576b"
             ],
             [
              0.6666666666666666,
              "#ed7953"
             ],
             [
              0.7777777777777778,
              "#fb9f3a"
             ],
             [
              0.8888888888888888,
              "#fdca26"
             ],
             [
              1,
              "#f0f921"
             ]
            ],
            "type": "contour"
           }
          ],
          "contourcarpet": [
           {
            "colorbar": {
             "outlinewidth": 0,
             "ticks": ""
            },
            "type": "contourcarpet"
           }
          ],
          "heatmap": [
           {
            "colorbar": {
             "outlinewidth": 0,
             "ticks": ""
            },
            "colorscale": [
             [
              0,
              "#0d0887"
             ],
             [
              0.1111111111111111,
              "#46039f"
             ],
             [
              0.2222222222222222,
              "#7201a8"
             ],
             [
              0.3333333333333333,
              "#9c179e"
             ],
             [
              0.4444444444444444,
              "#bd3786"
             ],
             [
              0.5555555555555556,
              "#d8576b"
             ],
             [
              0.6666666666666666,
              "#ed7953"
             ],
             [
              0.7777777777777778,
              "#fb9f3a"
             ],
             [
              0.8888888888888888,
              "#fdca26"
             ],
             [
              1,
              "#f0f921"
             ]
            ],
            "type": "heatmap"
           }
          ],
          "histogram": [
           {
            "marker": {
             "pattern": {
              "fillmode": "overlay",
              "size": 10,
              "solidity": 0.2
             }
            },
            "type": "histogram"
           }
          ],
          "histogram2d": [
           {
            "colorbar": {
             "outlinewidth": 0,
             "ticks": ""
            },
            "colorscale": [
             [
              0,
              "#0d0887"
             ],
             [
              0.1111111111111111,
              "#46039f"
             ],
             [
              0.2222222222222222,
              "#7201a8"
             ],
             [
              0.3333333333333333,
              "#9c179e"
             ],
             [
              0.4444444444444444,
              "#bd3786"
             ],
             [
              0.5555555555555556,
              "#d8576b"
             ],
             [
              0.6666666666666666,
              "#ed7953"
             ],
             [
              0.7777777777777778,
              "#fb9f3a"
             ],
             [
              0.8888888888888888,
              "#fdca26"
             ],
             [
              1,
              "#f0f921"
             ]
            ],
            "type": "histogram2d"
           }
          ],
          "histogram2dcontour": [
           {
            "colorbar": {
             "outlinewidth": 0,
             "ticks": ""
            },
            "colorscale": [
             [
              0,
              "#0d0887"
             ],
             [
              0.1111111111111111,
              "#46039f"
             ],
             [
              0.2222222222222222,
              "#7201a8"
             ],
             [
              0.3333333333333333,
              "#9c179e"
             ],
             [
              0.4444444444444444,
              "#bd3786"
             ],
             [
              0.5555555555555556,
              "#d8576b"
             ],
             [
              0.6666666666666666,
              "#ed7953"
             ],
             [
              0.7777777777777778,
              "#fb9f3a"
             ],
             [
              0.8888888888888888,
              "#fdca26"
             ],
             [
              1,
              "#f0f921"
             ]
            ],
            "type": "histogram2dcontour"
           }
          ],
          "mesh3d": [
           {
            "colorbar": {
             "outlinewidth": 0,
             "ticks": ""
            },
            "type": "mesh3d"
           }
          ],
          "parcoords": [
           {
            "line": {
             "colorbar": {
              "outlinewidth": 0,
              "ticks": ""
             }
            },
            "type": "parcoords"
           }
          ],
          "pie": [
           {
            "automargin": true,
            "type": "pie"
           }
          ],
          "scatter": [
           {
            "fillpattern": {
             "fillmode": "overlay",
             "size": 10,
             "solidity": 0.2
            },
            "type": "scatter"
           }
          ],
          "scatter3d": [
           {
            "line": {
             "colorbar": {
              "outlinewidth": 0,
              "ticks": ""
             }
            },
            "marker": {
             "colorbar": {
              "outlinewidth": 0,
              "ticks": ""
             }
            },
            "type": "scatter3d"
           }
          ],
          "scattercarpet": [
           {
            "marker": {
             "colorbar": {
              "outlinewidth": 0,
              "ticks": ""
             }
            },
            "type": "scattercarpet"
           }
          ],
          "scattergeo": [
           {
            "marker": {
             "colorbar": {
              "outlinewidth": 0,
              "ticks": ""
             }
            },
            "type": "scattergeo"
           }
          ],
          "scattergl": [
           {
            "marker": {
             "colorbar": {
              "outlinewidth": 0,
              "ticks": ""
             }
            },
            "type": "scattergl"
           }
          ],
          "scattermap": [
           {
            "marker": {
             "colorbar": {
              "outlinewidth": 0,
              "ticks": ""
             }
            },
            "type": "scattermap"
           }
          ],
          "scattermapbox": [
           {
            "marker": {
             "colorbar": {
              "outlinewidth": 0,
              "ticks": ""
             }
            },
            "type": "scattermapbox"
           }
          ],
          "scatterpolar": [
           {
            "marker": {
             "colorbar": {
              "outlinewidth": 0,
              "ticks": ""
             }
            },
            "type": "scatterpolar"
           }
          ],
          "scatterpolargl": [
           {
            "marker": {
             "colorbar": {
              "outlinewidth": 0,
              "ticks": ""
             }
            },
            "type": "scatterpolargl"
           }
          ],
          "scatterternary": [
           {
            "marker": {
             "colorbar": {
              "outlinewidth": 0,
              "ticks": ""
             }
            },
            "type": "scatterternary"
           }
          ],
          "surface": [
           {
            "colorbar": {
             "outlinewidth": 0,
             "ticks": ""
            },
            "colorscale": [
             [
              0,
              "#0d0887"
             ],
             [
              0.1111111111111111,
              "#46039f"
             ],
             [
              0.2222222222222222,
              "#7201a8"
             ],
             [
              0.3333333333333333,
              "#9c179e"
             ],
             [
              0.4444444444444444,
              "#bd3786"
             ],
             [
              0.5555555555555556,
              "#d8576b"
             ],
             [
              0.6666666666666666,
              "#ed7953"
             ],
             [
              0.7777777777777778,
              "#fb9f3a"
             ],
             [
              0.8888888888888888,
              "#fdca26"
             ],
             [
              1,
              "#f0f921"
             ]
            ],
            "type": "surface"
           }
          ],
          "table": [
           {
            "cells": {
             "fill": {
              "color": "#EBF0F8"
             },
             "line": {
              "color": "white"
             }
            },
            "header": {
             "fill": {
              "color": "#C8D4E3"
             },
             "line": {
              "color": "white"
             }
            },
            "type": "table"
           }
          ]
         },
         "layout": {
          "annotationdefaults": {
           "arrowcolor": "#2a3f5f",
           "arrowhead": 0,
           "arrowwidth": 1
          },
          "autotypenumbers": "strict",
          "coloraxis": {
           "colorbar": {
            "outlinewidth": 0,
            "ticks": ""
           }
          },
          "colorscale": {
           "diverging": [
            [
             0,
             "#8e0152"
            ],
            [
             0.1,
             "#c51b7d"
            ],
            [
             0.2,
             "#de77ae"
            ],
            [
             0.3,
             "#f1b6da"
            ],
            [
             0.4,
             "#fde0ef"
            ],
            [
             0.5,
             "#f7f7f7"
            ],
            [
             0.6,
             "#e6f5d0"
            ],
            [
             0.7,
             "#b8e186"
            ],
            [
             0.8,
             "#7fbc41"
            ],
            [
             0.9,
             "#4d9221"
            ],
            [
             1,
             "#276419"
            ]
           ],
           "sequential": [
            [
             0,
             "#0d0887"
            ],
            [
             0.1111111111111111,
             "#46039f"
            ],
            [
             0.2222222222222222,
             "#7201a8"
            ],
            [
             0.3333333333333333,
             "#9c179e"
            ],
            [
             0.4444444444444444,
             "#bd3786"
            ],
            [
             0.5555555555555556,
             "#d8576b"
            ],
            [
             0.6666666666666666,
             "#ed7953"
            ],
            [
             0.7777777777777778,
             "#fb9f3a"
            ],
            [
             0.8888888888888888,
             "#fdca26"
            ],
            [
             1,
             "#f0f921"
            ]
           ],
           "sequentialminus": [
            [
             0,
             "#0d0887"
            ],
            [
             0.1111111111111111,
             "#46039f"
            ],
            [
             0.2222222222222222,
             "#7201a8"
            ],
            [
             0.3333333333333333,
             "#9c179e"
            ],
            [
             0.4444444444444444,
             "#bd3786"
            ],
            [
             0.5555555555555556,
             "#d8576b"
            ],
            [
             0.6666666666666666,
             "#ed7953"
            ],
            [
             0.7777777777777778,
             "#fb9f3a"
            ],
            [
             0.8888888888888888,
             "#fdca26"
            ],
            [
             1,
             "#f0f921"
            ]
           ]
          },
          "colorway": [
           "#636efa",
           "#EF553B",
           "#00cc96",
           "#ab63fa",
           "#FFA15A",
           "#19d3f3",
           "#FF6692",
           "#B6E880",
           "#FF97FF",
           "#FECB52"
          ],
          "font": {
           "color": "#2a3f5f"
          },
          "geo": {
           "bgcolor": "white",
           "lakecolor": "white",
           "landcolor": "#E5ECF6",
           "showlakes": true,
           "showland": true,
           "subunitcolor": "white"
          },
          "hoverlabel": {
           "align": "left"
          },
          "hovermode": "closest",
          "mapbox": {
           "style": "light"
          },
          "paper_bgcolor": "white",
          "plot_bgcolor": "#E5ECF6",
          "polar": {
           "angularaxis": {
            "gridcolor": "white",
            "linecolor": "white",
            "ticks": ""
           },
           "bgcolor": "#E5ECF6",
           "radialaxis": {
            "gridcolor": "white",
            "linecolor": "white",
            "ticks": ""
           }
          },
          "scene": {
           "xaxis": {
            "backgroundcolor": "#E5ECF6",
            "gridcolor": "white",
            "gridwidth": 2,
            "linecolor": "white",
            "showbackground": true,
            "ticks": "",
            "zerolinecolor": "white"
           },
           "yaxis": {
            "backgroundcolor": "#E5ECF6",
            "gridcolor": "white",
            "gridwidth": 2,
            "linecolor": "white",
            "showbackground": true,
            "ticks": "",
            "zerolinecolor": "white"
           },
           "zaxis": {
            "backgroundcolor": "#E5ECF6",
            "gridcolor": "white",
            "gridwidth": 2,
            "linecolor": "white",
            "showbackground": true,
            "ticks": "",
            "zerolinecolor": "white"
           }
          },
          "shapedefaults": {
           "line": {
            "color": "#2a3f5f"
           }
          },
          "ternary": {
           "aaxis": {
            "gridcolor": "white",
            "linecolor": "white",
            "ticks": ""
           },
           "baxis": {
            "gridcolor": "white",
            "linecolor": "white",
            "ticks": ""
           },
           "bgcolor": "#E5ECF6",
           "caxis": {
            "gridcolor": "white",
            "linecolor": "white",
            "ticks": ""
           }
          },
          "title": {
           "x": 0.05
          },
          "xaxis": {
           "automargin": true,
           "gridcolor": "white",
           "linecolor": "white",
           "ticks": "",
           "title": {
            "standoff": 15
           },
           "zerolinecolor": "white",
           "zerolinewidth": 2
          },
          "yaxis": {
           "automargin": true,
           "gridcolor": "white",
           "linecolor": "white",
           "ticks": "",
           "title": {
            "standoff": 15
           },
           "zerolinecolor": "white",
           "zerolinewidth": 2
          }
         }
        },
        "title": {
         "text": "Visualización del Dataset Digits con t-SNE (Perplexity=200)"
        },
        "xaxis": {
         "anchor": "y",
         "domain": [
          0,
          1
         ],
         "title": {
          "text": "TSNE1"
         }
        },
        "yaxis": {
         "anchor": "x",
         "domain": [
          0,
          1
         ],
         "title": {
          "text": "TSNE2"
         }
        }
       }
      }
     },
     "metadata": {},
     "output_type": "display_data"
    }
   ],
   "source": [
    "# Aplicamos t-SNE. Perplexity es un hiperparámetro importante.\n",
    "tsne_5 = TSNE(n_components=2, perplexity=5, random_state=1)\n",
    "X_tsne_5 = tsne_5.fit_transform(X_scaled)\n",
    "\n",
    "# Creamos el DataFrame para Plotly\n",
    "df_tsne_5 = pd.DataFrame(data=X_tsne_5, columns=['TSNE1', 'TSNE2'])\n",
    "df_tsne_5['label'] = y.astype(str)\n",
    "\n",
    "# Visualizamos\n",
    "fig = px.scatter(df_tsne_5, x='TSNE1', y='TSNE2', color='label',\n",
    "                 title='Visualización del Dataset Digits con t-SNE (Perplexity=5)',\n",
    "                 labels={'color': 'Dígito'})\n",
    "fig.show()\n",
    "\n",
    "# ---------------------------------------------------------------------\n",
    "\n",
    "# Aplicamos t-SNE. Perplexity es un hiperparámetro importante.\n",
    "tsne_200 = TSNE(n_components=2, perplexity=200, random_state=1)\n",
    "X_tsne_200 = tsne_200.fit_transform(X_scaled)\n",
    "\n",
    "# Creamos el DataFrame para Plotly\n",
    "df_tsne_200 = pd.DataFrame(data=X_tsne_200, columns=['TSNE1', 'TSNE2'])\n",
    "df_tsne_200['label'] = y.astype(str)\n",
    "\n",
    "# Visualizamos\n",
    "fig = px.scatter(df_tsne_200, x='TSNE1', y='TSNE2', color='label',\n",
    "                 title='Visualización del Dataset Digits con t-SNE (Perplexity=200)',\n",
    "                 labels={'color': 'Dígito'})\n",
    "fig.show()"
   ]
  },
  {
   "cell_type": "markdown",
   "metadata": {},
   "source": [
    "**Análisis de t-SNE**: a simple vista, t-SNE, con un perplexity de 5 o de 200, no mejoran a uno de 100. Si bien los clusters siguen estando más o menos bien definidos, disminuye la densidad de los mismos."
   ]
  },
  {
   "cell_type": "markdown",
   "metadata": {},
   "source": [
    "-------------\n",
    "\n",
    "##### 3.  **Experimenta con UMAP:** Modifica el hiperparámetro `n_neighbors` en el modelo UMAP a valores más bajos (ej. 5) y más altos (ej. 50). ¿Cómo afecta esto a la separación de los clusters y a la estructura global?"
   ]
  },
  {
   "cell_type": "code",
   "execution_count": 19,
   "metadata": {},
   "outputs": [
    {
     "data": {
      "application/vnd.plotly.v1+json": {
       "config": {
        "plotlyServerURL": "https://plot.ly"
       },
       "data": [
        {
         "hovertemplate": "label=0<br>UMAP1=%{x}<br>UMAP2=%{y}<extra></extra>",
         "legendgroup": "0",
         "marker": {
          "color": "#636efa",
          "symbol": "circle"
         },
         "mode": "markers",
         "name": "0",
         "showlegend": true,
         "type": "scattergl",
         "x": {
          "bdata": "MdFQQYR8W0EwnltBfTFSQW6FX0EDBFdBd3RQQXY7XEEis1hBxQxMQYA7SkHmtVpBalZbQesmWEGKl2FBYMNRQS+KXkGk6mBBscRIQXVQXkGek1tBkB1RQfZgXUERulpBw2hKQVNSWkFbKltBcVhNQYsrWUEU9llBUy5TQbynVkGG5lhBnjJZQWEoWEG7UltB5SVYQe0iTkEfcE9BFM1KQfaLSkH6UFFBv+JcQR/rS0G64UtBOipQQSvcS0Go42BB00xMQZlwS0FtL0xBCOhdQZLSYEG2uFhBenpgQSe/YEHgbktB1ZpYQVO4RUHlM1xBVIFaQbFQTEFQhWBBOc9gQZL2X0Ecjl5BjXRdQcvMXkEQY1hB+3VKQYlhX0ELwl1BA/ZeQUxsX0ESQGBBkwNYQdhNXUHST19BVe5TQTwNR0HvBFpB2b5YQeZlW0GnzV1BSWhbQXsVUkHD72BB8EZeQek0TkHRb1FBp3BSQaL6TEEyR0xBspVMQdAPTEFfEE5BG+VLQXh0U0F4yU5BMclLQZbHS0EO6VJBbulPQQ4EUkFU40tBmc5RQbbQUkHqWlJBAQZHQW9mTEFkzEZBEZtFQWstUkHti1BBn5VNQSYgU0FMnFVBmXhdQWSNUkEfeFJBuopSQU9hXUFcdl1B3XZdQRl4XUEEb1hBe3BdQay0U0G4rFpBkARYQZt0RUFH0l9BIWJeQYeTXkG/cVFBWoBaQbugUkHs+VxB4+tZQQz7XkEOTUxBjDJQQer/WEHgG09BzZlOQfVDT0GCXk9B8HpFQZQQSEHBk0VBT3dPQe27TkHfSE5BFs5eQdUvW0GMWWFB/B5gQanvWEFZTGBBX7RSQXVvWkGV/l5B4INGQfPDXkFLml5BWs9KQdQXUEF7E0xBL8RTQWwBX0HJJ0tB+ZxUQTrfW0G8X0xBdsJNQQouTEGf5lpBQnVfQQ==",
          "dtype": "f4"
         },
         "xaxis": "x",
         "y": {
          "bdata": "SVF7QHLac0BeMptAQwNeQF74l0Ay/YBA/BaYQLPhm0DmfJlAOQGUQC/xlUADB51AiFOaQFHQhEA88IRAb7CXQGcDjUAhN3tAsI6XQCz8mUB9kZxAG/GZQKd1mkC1Cp1AupOTQDAxm0Bz5m1AXGaJQE72eEDV/WpAfzxdQOh3gkA4wHhAfvV0QOcXhEDp0XRAipGEQMP+iEACEYdAbtKUQB1ilEBmZJlANBeTQEesj0DnWJVAnrqYQPyzdUBvP39AZJGBQIEll0BPQZBAHBp6QB21fEB6O3JArLJ5QOE2ekCS13RAj4CJQIzQm0Dv+XhAd7WMQDopcUARc3pAR1p4QCfrekAgw4pAoZs+QGuhjUAM4YNAWeyWQHrTkkBhEYRAxOCXQOgllECVP4dAMMyDQPVLkkC60YpA2ZJeQCsxmECga2tAlrFyQFeodkCt5opAlxRxQNcVYEAUq4VAcyyXQLULhUDhLHdAcZt2QCejcEDnlXBAz0NxQDWgckDXcYNA90tyQH1+XkCcb41AavZ4QF8WcUB+EHZAGOOWQBJ+jUAGSXJAroaWQDP7l0C7D5dApNyYQAlKcUAgTplAKu+bQA73dUCSwpVAMBNvQNh0d0BVU4BAMsA+QDFeXUDWy1xAVUBdQDNdP0DKjT5Av5A+QPLLPkAp+IVApJQ+QDWni0AIO4xAIhSOQHBynEAmzphAYHCRQC6hkUBPpGBAuWKDQM9EdkD5jJFAlSmPQGowlkBDcXFAQyuXQEqZckBSrZFAURCKQEkyh0An6IhAamCcQAU+mEBfR5xAkJaFQFmkjUB4RIVA9omRQN7GlUACEYRAUWmaQOF1ikAfZJpAejx2QAizmECDgJlARnaZQKkbmEDJG4FAZ6OSQFo4mEDdVI9AYgp3QHnQjUDUGZFA+y12QKVckkByQ41AgS+FQAO9j0DLgJlAy6GKQA==",
          "dtype": "f4"
         },
         "yaxis": "y"
        },
        {
         "hovertemplate": "label=1<br>UMAP1=%{x}<br>UMAP2=%{y}<extra></extra>",
         "legendgroup": "1",
         "marker": {
          "color": "#EF553B",
          "symbol": "circle"
         },
         "mode": "markers",
         "name": "1",
         "showlegend": true,
         "type": "scattergl",
         "x": {
          "bdata": "zd3YvwCbDsAIZB3A2RoOwJmEBsBJYhLAMsQHwMh/FsBNjwXAIUwNwGG54L+j6Ig/UCwOwJTUPcBDsjvAWFY9wJyLOsAqqjvAsq0jwIPzCcByxjjA5PoJwCifPcDbBCzAYusMwIVbNsDpvHI/L5kEwK422j5eFEc/dHBQP4ZmCsAepYg/8lf9vyoSAsAN7ms/Iia/P7pbuD93VT4/t4g5wOcgFsDqESTAXEkhwHvvFsAtK8g+VPIfwIE0E8CJKBLAr44UwORiI8APsBnACgskwGz1Wj6kpug+MgeMPo98fD43C30+po6fPj7WeT6KAn0+QVh7PnBkgD5E63k+IGI7PwSNOz5mMD4/O3ZBPyFBPz/jQh8/AscbPxVMhz/Pluk+rUGCPyBPuT5XVAQ/PC/jPslE7T4rsBw/2oy2P7wIpD/TGok/uL0ZP92GPj9+6Oc+H6YrPwzQSz/tMVs/mA6hPzp5kD9X5po/UeQvPz2t0T6uMcU+i8XUPiJQSz7Nm4I+AxmJPps0TD4JbX8+QLfKPsKQfD65Cbs+ZHNfPqUZpj7eURs/Jts7P7/utD9qMk8/AieVP2PFDT/dnrQ/LB5kPw8vsT8nu0o/8O1pP6Luhj9GtIY/tI0AwBs2CMBrh8u/OPxaP4bF0L8fRcU/5a9tP2Vpsz9OeMi/SFqIP9+piT+zzIA/A7qIv59EK8Aio8y/UyxAwJRBxD9/2Lw/k5INwHYvsz9BxAfApv+zP3rnwD+/ero/6++zPxqKvD9U/zDAQck2wK36H8AV1j3AEv88wMlmOsBBOTvAnSw8wI44L8C2YCDAblg8wF3fO8CwjzvA8UOwP1Nbcj+HPXc/A7zKP7ywwD+8MoI/+8bBPxlcxD+d9tI/uRjNP+fktT/sk8k/kQrLPxg0PD+EtOM+ThJIP+vdOT9qdio/ffBFP45LRj8cRRY/vpgSwNBMUT9NUjg/OG0aP8ijGj8=",
          "dtype": "f4"
         },
         "xaxis": "x",
         "y": {
          "bdata": "Y/sDQPspEEC3gAJAtyQNQCDa6j9gQQZAoHroP03sBUAlHAhAfxQOQMO2/z8z3K5A+sUPQDhoxT/KCOw/j3PqPwd07T+eTu0/QGj8PzVOFkBORe0/IYAVQLVP6j/ozPU/yOYRQPYR7z9i6aJAKgYdQODEpkAJWrJAHP+iQNAbFUATVKtAJZ8jQCPRH0BAu6FAcd6kQGZ7nkBeh7FAmMOyP5ZR5z/N3PU/vNUAQICE5D9LfxLAXsH8P3eg5j9Tbeg/+XEJQHC/9D9MkOM/12j3P25gCMAQhhbAMPojwLEoKMAM9SnAq80YwMakKcAS9inA8cIpwMYEKcBG7SnANa6xQLYMBsA7v6dAI06yQP9PskDoRKNAgvujQKvNnEAMualAiX6dQDFNq0AA/KxArIeqQHM0qUA8s6VA9VueQNkXnEAGYp1A3n6cQKoArEA9EBHAkrGeQIHfskD7/aFAmG+qQHoOrkBbwp1AeWyiQP4ZEsC6URPA8L8RwMfRBsAzbAvANkUMwLdcBsCIAQvAuy0TwMHOCsC+wxDAQ4AIwN/IEMCo3JxAdKKiQBktokAbfqFAjuGrQP1IrEDrqaFAQD2xQN1+oEBZFaFAXPygQEAtrUCPea9A6srnP7cp6j8opNo/3PqfQJ7Z2j+5DqVAjT2wQIv/nkA9Dtg/6q2tQBO5rUA6Jq9A0+C5P6FCwj/QWds/5OTiP5L/pUBDg55AkEjmP3xGnkAu++c/FWueQOY4n0B7pqJAUdqpQDrbp0AHhLs/bE63P27M/D8M97s/rb+5P95Ssj+Kj7E/16CwP8bkvT+taP0/pHK4P5C7sz8LsLA/+RWnQIsRsUAtW7BABgeeQCt2p0Al5q9A5RmnQDVMpkDiwqFAJQKeQObMokAJCZ5AiSieQFx7skCplahArAKzQNCRskBZ7alAqxGzQBUzo0A955tA15zrP2yYoEDmArFAEI2cQPGUnEA=",
          "dtype": "f4"
         },
         "yaxis": "y"
        },
        {
         "hovertemplate": "label=2<br>UMAP1=%{x}<br>UMAP2=%{y}<extra></extra>",
         "legendgroup": "2",
         "marker": {
          "color": "#00cc96",
          "symbol": "circle"
         },
         "mode": "markers",
         "name": "2",
         "showlegend": true,
         "type": "scattergl",
         "x": {
          "bdata": "O6JJQHUBPUAl3j9AL/dLQGhrSEBS3UdAg3dJQCVWSEAmCUhAEVmAQNZ3V0CNcEtAVEhOQDeUjEA3MX5Ao5tlQO2XgEA9f4BA7l+DQLUddED3OV1A79WAQH0cgUCwE4VAlJCHQHwhgUB4TYRAo+ODQGH4kUDqTpRAQZGCQD/eg0Co/IxAvPiCQKKTlEAJ/IJASHmEQPddlUB8RoxA3UQ9QD6bOEBhSG5An+3aPy0BakAinWpAUdE5QE+HPkA0W21AZtdyQCVnckDYb25AhoFeQMTvEkCti4JAU8nQPyAeeb/SBtA/QsIOQFqf0D/cu9c/7yuEQHu7wz83V88/zquCQIIr0j9ndYFAvnV9QEuKgkBKdHFAuud6QE1ZbkC5AW5AeTlzQMhgf0B66pdAwnmDQK0pg0AKgoNAT36NQAPHjEBn0ZZAI2eAQK/7kEDuUphAP8t4QOZdlUBFLYtAhRpdQIYHlUAXZ+bAwmOCQD0Bj0B3iolA6W2MQDGpikBrHdo/AnIUQCNfDUAWudo/zSWFQCMVPkC9iA5Aw2GFQPMzgEABNlRAQhMNQCmaDkDHbxBA60o1QLjKEECEUBBApTOEQCF6QEDpUNM/DTCNQEWNEEBrKoNAM3ZzQKpOg0BNNZdAKzuBQM9dj0DYblxA4EKDQN3Kl0ASFpdAQA5Wv6bFEUDeK9E/EM5WQDbIEUDeTxRAu7vTP4UXEkC4kGdAG20cQHsqDEAX/w9AqwEOQK/PDUBs23FAt9p/QP7uhEDdO4JAOQZvQDncgkCdAn9AyNSCQC3EgkDdR4lAaFGEQO42aEBjCn5ANwc/QLmWMEDTuTNAHKweQGo4jECHmBdAOtSBQMIdgD5FpYxAsB5VQGc/VkD42GxAv7x9QGMQfEA5iIJACyWEQGVCikBKZn5A6fiBQGoug0C+QYFA7ViBQIOKbkA1xW9A",
          "dtype": "f4"
         },
         "xaxis": "x",
         "y": {
          "bdata": "xrQqPoA4m79tFZe/IgTgPeo6Tz6aEWc+mhgxPmb0Uj5SOl4+PODPv0gU4r2IQAE+/+83Pab43r97OEK+ARsYvwY9Pb98r26+ArXSvzf0or9/JAu/IACYvhSboL4B1NW/UB7lv4NJLL89ZzS/5Ys1v6yL97+bpQHA2LnAvtOePr8mm+S/10w+vzjLAcDqiMm+w0Iuv5ybA8ARGue/sjeVv+Srqb8VB8W/sVeWv1qpv78i2by/sQ2tv0Gjmb/QEMO/wObJvxFxx79FasW/7TrNvadIhb8b2C2/+yOCv3QIsT/BxnW/dz6Av+Y7cr/nSpK/f5w0vygve7/XGXW/ZSRGv2N8c79q+Ie+egwPv6Mjir77cgy/WooLv/aQA7+8UAu/O88FvzgyG79zNwjAfTejvh9Jor6VU4y+PLPWv77O479e5AnAffCQvhVxD8CmZwnA3JLmv0BzDcDEDRXAHlsUv22YDsDTN/ZA3qaHvkL657/AkhXAKAH1vxsu/b+zQ5e/GIiHv8OngL/VZpS/WbYOwFK9lb/OVX+/GbcEwLUbzb9jPUa+SV+AvzOueb/wtYC/eQStv0hQdL/l7oO/7UgEwHwmgL/Qapu/X9bbv+WGg7/2FYy+KjVFvybjlr4WOAnAwdRHv5UX8r9A4B6/2xjfvuqcCcDJSwjA1NfAPyIxfr99SJq/njgYvyOXeb/W4IC/A9qXv968e7+zRYS/8nGNvzl4fr/n9Ha/SzmBvwpceb8zXMi/zUv9vywrDsBAZAjA3gnHv3tmCsAY8vi/qlkGwD/TB8Da6BTAMeYGwAQGUL9V5fm/NCGSv/pFqr83eKq/ibyQv2oT+b8Bj4i/79iSvlVhKsBTLte/CZ+kv9PaHL/ircK/3ytIvuoqOL4EtdG/FtwNwJEuFsAz7fa/qv4IwDzKjb5wg4G+39kGwAHwxb+7X8e/",
          "dtype": "f4"
         },
         "yaxis": "y"
        },
        {
         "hovertemplate": "label=3<br>UMAP1=%{x}<br>UMAP2=%{y}<extra></extra>",
         "legendgroup": "3",
         "marker": {
          "color": "#ab63fa",
          "symbol": "circle"
         },
         "mode": "markers",
         "name": "3",
         "showlegend": true,
         "type": "scattergl",
         "x": {
          "bdata": "mmHQwHiU5MBkU+TAAszMwO542MAJaszAqU/NwDUa5cDzBubAcJbNwNk85MB9jeXAvqjcwBFl5cCSM+XAXvPmwPMW3sBj6uTAs0flwIMC5MDRNuLAryPmwHCwzcDqMOPArBbnwDgt5sBSPtDAb2/jwN4718Cyp+bA25fWwDIu5sDBDuHAv1PhwGQC5sD7Pd/AgFvUwECe1MDjrdrAhODbwG0m58CwY87AAuPDwPqax8DG8MHANgPQwEY4z8AdPdDAEmDOwBTVzsAIc8vAjgDVwKkhz8DOijs/ySpWPwSjSz+EgUo/isZPP/6B4cDEoVQ/zM9MP6j5zT/LJk0/QzJRP59+TT/ZU00/0jDowGvN6MAfR+fADlfiwDyf6cAyNurAW9/qwLDw4sAdt+rAHDXrwDe50sAAn9LAHx3kwItC08BcrNTAvwHVwBXF0MAA2M7AVMvNwHlC3sBasdrA5I3awEix1MDpXc3A34DNwNoC0MDv1MHA/sPBwE/J0MBiKMHAJBXDwFCkwcCAur7AgYDDwBORv8BajcLAZ/TCwBvLwcAqYsPAlAfcwOMg3cC9q97AOMDhwHD+aL87i+HAL4PgwFh15sCJ0ebAQx7mwGJb58AMkObA0xLnwBKZ3sAuv+DAe+3mwPkH2sAm2+bA7HrdwOLZ4MDMFuTADvLkwEwn08CaW1e/mSrawLEd5cCLmOXALZfhwBX9z8D/V+HAvNbPwKdm6MDk1erA5FDkwHhK4MDjAd3AWpTcwDL858DvMeLANFjRwIS7zMDlS9XAgkjVwCyF1sCRRcnAC2fLwJL0xcCNTc7AhgjgwLCY1MA9itbA6XnQwC3nzsCut+HAT4fawNbh2sCXXNjAKwzbwH8vv8Bn3Pe+eV/YwL/mzsCtldbAio/QwDBP0MDx+NDAFV7WwL3b0MDKmtjA2njWwLd21sCRzNDAdXHWwLsj18Cl69jAG7/lwJF50MCDhuHA",
          "dtype": "f4"
         },
         "xaxis": "x",
         "y": {
          "bdata": "qwkRQYKP8kBEaflAPEACQUZL+0BoYgJBbBoBQXYe7kDwpO1A6c0AQTww7UAA5O1A2UzpQJpt7EDGyu5ANN3tQDR0+EBc2+5AdWfuQN/J+kCZlvNAZgztQDfSAEG+C/FA4WHtQCZE9kCJaBdBQvgSQUBnCkHXgRJBMi8RQXyuEUF7bxBBny4RQbERE0FQBgVBMAkPQZQDD0HArghBZKD8QO4vEUF05BlBFvwYQSNlF0F1QhZB2F0aQRwkGUGdThpBrmUaQf77GUEHCBxB5bAQQeV4GkGoQwVAHBL9P5hRAUBGfwFA6Eb+P4nuAUFv5/0/zN4AQOpVbL/zxQBAlZz/P0iuAECjuABAcW0SQXA7EkHD6hJBPx8GQZlEEUHLihFBluQQQebGEEFhfBFBI0QRQWFnFkHugxZBktsRQeTlFEHwCw5B0zcNQe0nCEHXXwZBxcYFQXFM/0AHwftAz34HQX/mDkGECAVBhvQFQcai/UC9sxRBQ6AVQZnEFEFlBRZBSSEVQbazFUF8kxdBwrAYQUaaGEEB1BRBr9MYQQqVFUGoahdBbLYIQQujCEFS0gdBiEMGQTCRuT/18QJBgmQPQd2/CUHVyglBIHUJQfwk8kAYswlBnmcJQXweD0GrcQRBRzsJQZAO6UArQglBJ6H6QCRW/EAX5vdABznuQICg/EBjUME/VMoHQRYt7kCY4vFAmdsBQZvxFEFdqQxBJNb9QIwzEUHfwQ5B8JQOQXJ/CkHsrPhAg4sPQRN3EUEGvgtBClwYQe50F0HR6A5BVzcJQQuuEUHAnRFBXX0WQZ23FUGbYg9BnvUPQTwhCUGJ9AlBW0ILQWwf/EAWWAZBk2v7QLZI6kDZXOtASmjpQMjujcAtbq5ATdD6QPtP/EAfJf5AhlD8QMPe/EDWXRBBTdTsQL00D0EPuelAm3ftQBg87UBmbRFBot7sQDMy8UCvV/hA8yQTQftHD0H77/VA",
          "dtype": "f4"
         },
         "yaxis": "y"
        },
        {
         "hovertemplate": "label=4<br>UMAP1=%{x}<br>UMAP2=%{y}<extra></extra>",
         "legendgroup": "4",
         "marker": {
          "color": "#FFA15A",
          "symbol": "circle"
         },
         "mode": "markers",
         "name": "4",
         "showlegend": true,
         "type": "scattergl",
         "x": {
          "bdata": "LdiLP6a02j7fFJ8/InXYPhf6Aj/KcgK+kTemv/sdmT/7RZU//pJavr0sKb5OQEC+vnzIPgU8zj/9mNw/jYraPy5I2D+7wr8/tjDFP3b33T/wRd0/gubEP6yH1z8dj8A/G8zcP/5VUr7E6WS+v5S4vkANwT6xoHq+vTe7vvm5bL71xIq9fOGSPvmtPj7lKsM+dxqyvtAY2z4Gv8E/p+OkP8jcvD/jZLk/9ZSvP32gwT+ktKU/puquPyRbvT/qoas/3lO6P9yypj+b5sk/+Ztfv5KHir9D1Lm+GxkMv3vb/r6W4Ie/e/Vev9ygG7/T3lq/7jDCvnx3kr7VBF+/TGJjvyaH2T8qhts/bf+qP1GmzD99wL4/75DYP39O2j99VF+/8diRv7iDwr5nj6c97l64vhLcjr957qK+snHUvZAS3b7fp54+0zWKvtrkmL6AP+I+7DLdvlMYUD/OcaS+g62NPuba2r597dy+tYg7P69r3b5m0VQ/Fm1RPknlVz9az00/etzavsgyJT6CilQ+6H5GP+l+Lz41nNvALp0nPrxZDD58kgk+m/OOPqCNHz5iJYY+9zTGwO57jD5KyZM+CvKHPp5v1z5jIUI+g3WqPihVmz5+xK8+GV4JP1Dcrr48JkU/4sWyPk8x1T7a9/0+X8fcPoj4Tz5L+6E+TvxSPjIG6j74SG6+mqZOP77nTj9yAE8/UzlNP4ZwTj9WyKQ+eu+vPjlhTj/B2OI+F7C+Pnamuj7UzLg+Vg6pPrYpXL9Lu7y+Xm4Av4N6j74rxb2+YLjRvqgDnL4PdAa/p8EFvxkhtL6EP4i/uWu+vvALhb5htGS+U1VAvra4ib947Zu+fFqJv2jrgL9vUoC/Mc+fvlhFYL6fV12+bSyJv6q4f78YlKG+aPONP6NRkT5ukM0+kSjbwN84Tj5Fftq+OyTcvnQxvD44+E0/8G+FP/+M3b6uldo+X4e0Pg==",
          "dtype": "f4"
         },
         "xaxis": "x",
         "y": {
          "bdata": "qIcPwRflBMGj7A/BBG8FwQwHCcG34AXBljHEP61eD8EYIA/BSFUHwYX+BcHDhATB67EFwW5kEcF/7hLBCXUSwSEJFMFg2hbBt+4XwbgYE8HI8hLBk9cXwRB0EsEAJhPBqQoTwTuZBcFhJAXB9KIKwZNFB8FLjgbBjzwLwUY5BcEPVQ3BYmb0wNT6EsHUtQbBlD0LwRZDBcEyyxfBfuwYwXbgFsG1BxLBXWUYwQGJFsFNSxDBt6EYwdceFsEUEBHB+FIVwQeAEMFfvBjBUZ8OwQu9CcG/eRnBUBURwcgVEMFnXgrBAuQOwSxdEcEvDg/BzL0ZwXmXDMHF3g7Bj5EOwQUZEsHAFBLBwckQwUr9EMHbpg/Bi2QSwXs3EsHT3g7B/lcIwapuGsEp1OjAf+wYweWACMH2zRrB9uEWwU3JIMH5ERPBGjYVwY7AGcHYfBHB84ogweEMKcF/MhrBqDkTwQikIMHfziDBDdEPwf/FIMEvGQ7BUa/twJ4qDsGI4Q3BexgfwYJ468Bxj+3AlSAPwWvr68CKoA7AKafrwOBQ6sC4kurAt1/0wOw268Am/vHAkhSYQFFa88CutPTARO8CwZhAB8HQ8+zAd0cDwael98CO0wPBMyIRwbUPDMHAvA/BQcYQwbDqBMEPHgjBEmwHwZrFEMFdWRHBeabtwM5WCsHfswfBtogpwQaZKcEZpCnBjG8pwYeKKcHBKRHBEgIRwYSLKcFrpgbBR4wPwauODsG0ew7BhxARwdT9DsG0DRnBxJESwU0rFMEzORnB4/gSwSSLF8GLMBLBet4RwdHAF8GbHgrB4WcYwZkhFcEjHQXBk2cFwQ9iCMEfcwvBmUEIwTx0kUBMwJFAhb8LwQw5BcFKTQXB4I8IwZ3RkUDsiQrBYnAQwSixC8GNcQjB0ukRwI5C7cDY1SDBMOAgwexFEcFFewvB09QPwWIDIcFxZhHB0ZcSwQ==",
          "dtype": "f4"
         },
         "yaxis": "y"
        },
        {
         "hovertemplate": "label=5<br>UMAP1=%{x}<br>UMAP2=%{y}<extra></extra>",
         "legendgroup": "5",
         "marker": {
          "color": "#19d3f3",
          "symbol": "circle"
         },
         "mode": "markers",
         "name": "5",
         "showlegend": true,
         "type": "scattergl",
         "x": {
          "bdata": "gYJswNGUv0A4rs9AMOf1QHvDwECxcslAWhfMQDZT9ECOvetAuWTrQLgi5UAyAL5A/qfrQBKctkBEk8JAdAqzQOZFvkDtarRAMbK9QGm4ukBdPbpAm4GzQN+7vECxpMRADHa5QPSAt0C6FgJB8WrOQP89AEFIQwFBeSMFQdIkC0EFRwFBuuFWv1AHAkG8+wVB/AT9QOsnBUH9HbhAbFD5QCPZ9ECm6vVAHAv9QDCg8kBaoPhASF/1QGfXAUGwY/VAxPHQQDXj0EACS9pAhFL1QC+dA0ExZQdBfZ4EQWDR+kAmgQlBLk4IQYYwBUExvQJBjyAIQU2EB0EBUwJBkwIDQQz8BEEupP1ANdHTQBCe1kBh2fxALe7bQBvc1EDma9hAicb7QH21/ECU3wRBgTrYQLhP2kCHAbNAuDbLQNcat0AVGLlAIzbOQCgP2UCr8c1A5orWQPHoy0By+8hApCvRQKBquUCNFs1AoAK4QE07AkG35gpBmhYMQYJ3C0E0DwVBXyULQcW6CkHbaQZB5I8LQSnD/kBnKQtBwGcLQcnuBEFMx+NARlbpQOSWAkHvLulAlWPfQEWs5UA0yPhARdUAQSx73EBkeOxAtAMBQbv/4EChJv5AWNYDQeuwBEEmt7VAGcv9QB/rzEBzT8FABWT9QP5w1kBcdQNB9WW2QC4kwkB+zbJAzaG1QFMKEEHt/wJB3Uv6QFCj/UBM/PJAo+zyQCyw+EB23/5A5L29QO2R6kAtZ+lArz/+QKrR9EDo8QRBc0IQQZNzC0HbBxBBs9YDQfRMEEFFdwdBIVcQQe8O+kAHjAdBXA4MQWztBkGbnP1AzQ/bQDX92kB2mt9Aw+vfQCOGtEDypNpA6DW0QLcF20DPUOpAHz7fQGixykCg1txACb7eQJQHBUFV0wNB8tEEQT83+0BG0QFBqK/1QBWTA0F6DwVBtxUFQdHVBkH+5ARBF/kEQWr4BUE=",
          "dtype": "f4"
         },
         "xaxis": "x",
         "y": {
          "bdata": "I58pQbhgH0Fp1RpB88oZQfigHkGiyxxBgk0cQcfTGUFaeR9BPSsfQcY4HkH4gR1BIp8fQSc/HkGQHCBBRtkeQTJCH0GuJR9BaCMdQSN8H0ELCB5BXdYeQYjMHUGjKxxBScYdQaNVHkHWax5BiB4gQSJAHUFgWx5BD7QiQYDhHkEmTh9B8ljBP9u7HkHsVCJBnXEbQd1PIkEtph1Bk98jQfCNJEEsPSVB/Q4iQb+SIkE+7yNBdPIkQYhYIUEppSRBlowiQbFYIkF5YRpBgSklQZYoIkEAWxpBnrMaQbQkGkEKJRxBSpUcQa2WG0HOIR1BxfgcQYlvGkFErBxBtpgiQeqpGUFK5yZB6uoYQcINGUEvbSdBQP4XQWAUGUFjHRpBhe4nQfx6J0F0ZSNB3fkZQXC+FkEIyh5BULcgQWRbHUFMNx1BouUfQa/TGUGfISBBuTsbQVxwHkGCLx1BCzsiQelGHkGz1CBBC4cdQdC0HEHEvxtBQ9cbQb0MHEEGGx1BBHsbQeEmG0HQhBxBy84bQcNAGkFkDBxBH+MbQfmSGUGlwxdB/OMXQdOrIUGPaRlBxN0TQe6kGEEtJhxBCfsiQdgPGEFczx1BJqMjQXA0FEEYTyNBWiUkQTgDJEGNbx5BLIkdQVuCIUGutx9B5SEnQS4dGUG95SJBbT0eQZwEHUGn3x5BuHYfQVhIGkH7IRlBAygkQb99G0HwbCFBPmkaQYsaIkGC7yVBuAKHQVUMH0Hiah5BrRMnQePoGUHMOhpBwygaQVryHkHODxpBWqMZQXkfGkHbbxpBAR8aQZMsIUGoEhpBx+QbQcOGGkFmYhxBeVkWQeohFkHi4BNB+SESQb8FH0EIhRZBdoAeQXZHFkHwVR9B3SETQZGUHUE9EhVBCMUTQXZMI0HDnCRBc3AlQUttIUH/MCFB2DoaQTjIJEHVNyNBLZklQSFlIUEYIiRBAhslQVY0I0E=",
          "dtype": "f4"
         },
         "yaxis": "y"
        },
        {
         "hovertemplate": "label=6<br>UMAP1=%{x}<br>UMAP2=%{y}<extra></extra>",
         "legendgroup": "6",
         "marker": {
          "color": "#FF6692",
          "symbol": "circle"
         },
         "mode": "markers",
         "name": "6",
         "showlegend": true,
         "type": "scattergl",
         "x": {
          "bdata": "ZTHCQNNfxUBw/sBATQ7GQPS9v0BI4L1AUheoQCiyy0D5R8BA11LDQF0mwEBie79A2yTCQPmd0UAxkdNAC8XCQKiBzkBRg8pAI4LCQL7RyEDT48tAWLfMQGhoxUCnf9ZAiprWQBbb0kAEaMdAmqXOQE+XvUAjV9VAKZm9QBUawEA0IaVA71rFQKfS00B5l7lAxo3IQFQ6v0AM1thAP/3YQL/s1kApLdhAtF3EQN3n10B3C9hArHfXQDKZvEChmNZAI8XYQM3R10BgXbpA7Lq6QKhJv0DXv7pAsCy6QCYIuUBqRLtACS+6QMe/vkAq5rtAABG6QLx2ukAjg7pAVwS4QJU2uUAwVL9A+/e/QKPUzUBRxshAqhzTQBEutkB5YdVAohLAQBntpkDLKtRAvuitQJ2PrkBO5d1AfBHfQBBn10BXbdpAK1rMQJd410CxxNpArLzdQCan10CSSNpA8OvNQK2kxUAwZ8pA29nKQEJC0kCCBNZAtIHGQAXzykDjacNAz8jJQJwDy0ADwMpA4aCuQNulwUD+eNJAWhrUQH/100BKm9lA6ZHCQACyxUD5EbxAYe2vQLqjrEBIIZ5A6WinQEMXpUD9G6ZAPUTBQPct0kD/pddANCO6QMz7rUAyE55AUMufQJYzrUAUsb5AM6u8QL3WskC3L61AppGmQMYzwECYqJtAuLSYQDVdp0BXR5ZANc2WQMlM1kDHf9dA4AXYQJrs00CfKtNAz3OWQH4W00DtdtVA7lSbQJtF2ECY99hA2zrYQOcZwkDJHNdAa7HSQMg51UAOa9BAi0DZQPvi00BzLM1AbE7RQE57uEB7jdJAmJXSQE4DxECXEdNAJnfSQOf4z0BW8cVA2o3SQMsc00Cjc8tAJO2kQHqDxUCg4sFAnhfNQAKG2EDnJ81Ac0TPQAVe10AVCcJA9C3OQLOazUBTWMNAXyPCQLT4uUAFyMJA7HjTQA==",
          "dtype": "f4"
         },
         "xaxis": "x",
         "y": {
          "bdata": "ik+BQZDlfkELeYJBl6V9QQKTg0HGeYVBqoWJQYmfjUHJmYJB5aiBQWxAgUEti4FBUJWAQaCIiUHj04BBa3yEQX86jUEPvopB33GCQTm/ikFft4tBII+NQWStfkFwYodBKbKLQSxxi0FxW4tBf2CNQSAGikFhXYtBYNWKQRF1ikFcdopBg6l+QX86jEEWvolBIZ6LQTOcikHP0oRBLmGEQVo6gkEKyoJBMiOIQciNgkHRF4ZBAiyCQddphEEuxoFBEneCQcpHg0EtzoFByMWEQX2Dh0F/V4VB6UiFQbXqg0FbZIZB/KOEQYVUh0GPe4ZBi2eDQS21hEH0uIRBTCSEQeq8i0EDOIxBGDKMQUq5jEFGgI1BPOaMQax0i0EeKY1BcySMQf3WiUG2MIxBZMCJQSLSiUGkR4RBLpaEQT9RgkH7E4pBJ3WBQaI6g0EG1YlBFSyEQdS3iEGbxIJBOpKIQRpkfUED0otBfO2LQWMzjUGGioxBlV2KQTb/i0GSJolBhzKLQRrli0Gcu4tBVtCJQZY7ikFiE4xB1rCKQeNCjEHKPYpBWUyKQfFwfkHBgoRB35eKQdH2iUEY24pBdraJQasuikGhdopB89yBQbT9i0FrHoxB3L6EQXXziUEZ3YpBS6aKQR83ikFVFoVBt8eEQWatiUFmP4pBfVSKQU+0hEHdBItBmUOLQdgLikF1jYtBTHiLQWjvgUHe6IFBof+BQZ+/gUFOGIBBd3qLQbkFgEHMQoBBiAmLQbk+ikFZZ4pBj3uLQc8ziEELAotBteiLQbcfjUHNMItBtsKJQZg9iUF4a4hBB9+IQfxjiUFUCn9B7zR/QR0sfkHp9IBBdjJ/QWX/fkE/A31BMbh/QeRzf0Ei131BVXCKQTY2fUG994BBcv6HQdi+iEGxG4hB4UaJQQdHiEGoSIJBUOiJQUXijEF6boNB5MmCQcbwhEFwYIFBtBSJQQ==",
          "dtype": "f4"
         },
         "yaxis": "y"
        },
        {
         "hovertemplate": "label=7<br>UMAP1=%{x}<br>UMAP2=%{y}<extra></extra>",
         "legendgroup": "7",
         "marker": {
          "color": "#B6E880",
          "symbol": "circle"
         },
         "mode": "markers",
         "name": "7",
         "showlegend": true,
         "type": "scattergl",
         "x": {
          "bdata": "mQLBwO2JzMAgbuLALX7NwNU5wcAoW9/Acp/NwGmDxMByMuLA6S7KwEBJzsDnYMfAT9jQwMTXvMBl7LzA9k+1wBTC4MAspdnAYWa7wGCgs8DuUrPAS9uzwJtR3cB39rTAkfKzwEoU2sDPsLzAL3rawMAgvcAjCt3Ax6LjwLoc28DiFcnAGcPIwMoCu8B43rXA8d7IwJOZ3cBvb9vA52DbwOEL28AX99rAHLrbwC1d28A6ftvAI0/bwLRW3cDe1MbAwzXbwN3S28DjONzARVazwNKYxMBakePACp/NwBi0xMDf77nAQGvkwOwavsBxg8TAoN29wNbpwMB8ubbA9mTEwOJOxcBCl+TAl6HbwAfb2sDhAeLArJPkwDvx5MC10uTAHJ3bwEaw5sCs/ubAqyHmwJlmwcDJK8vAUG+9wKaLu8Aq9rjAMVXMwIRPtMCzSr3ATUe8wAKd3MCVHrnAhSe8wFskvcCVgbPAorjWwF1wzsDdyNnAq1HQwKdy3cCyO9DAWwTZwJpn0MAAztjA4ofawDMN0MBES9HAVRrQwBDE0sD1atPATTbTwInIzMC57tLA1ADVwCeYu8DxA9PAb1zPwPq218CBMbzAqY/XwKboucDd9tjAeZzjwGezuMCzmLzAr1TAwBAfusDmfrjAZM+3wAd4vsCEG7rAMpzgwOHJ3sBdxa/Aq8rOwNGxzsAjrM/AkV/CwMlazcCTmrnAQMG5wP/wuMD/DM7ARVrBwE9f5MAHhsHAIZ3cwG/83cBE3NzAnw/PwI1BzcAlzeDAhjDcwIZIzsADhsnAvRXOwAx23MBvcN3AmJLcwE4JsMALAbLA+z2+wL34scB9v7HAeN20wDA3tcAhDrrA4FOuwFZvwcBa9rTA68+swLZMxcCMR9PAeQTFwAeZ2MDwMePAekS5wPd0tsDa/LXAxC62wA0AwsDxR7XAnoDdwH1KtcA=",
          "dtype": "f4"
         },
         "xaxis": "x",
         "y": {
          "bdata": "EEqtwNThh8CCnIrAvbyKwIDGrMA6IozAHNyJwJQ8qMDCcoXALlmHwBB7isAoEpDA4uaNwH24ksDbeJHA7gGZwGnfi8DR2mzAxyqUwN8TlcCdW6vANR6UwC4tjsDY6pnA0h2UwHQ5KsA4pZzAhv4nwCuVmsAsdmjAInmKwNTYFMCGr4XAWZ+GwAO6lMA+MpjAYeqGwJfpd8A+1RXAAB4VwJdrE8BhNRTAafotwFPDFMAr9xDAQDMSwHriNMDOxJhAkHcTwMxoGsAx/i7A03CswMUcq8AEIIrAin+MwE14qMCKf7HAI4SHwKKfqMCT8ajAWtiawDAgpcCLyqnA30CqwM5mq8ALJYbArNINwJEI/r9koG7AeiiKwFnsicCBAInAiKsMwMIgiMA6cYfAqaWGwMibpsBs0YTA7V2gwEMKk8B9xJLAWIyEwCDUk8Dci5HACFKSwLM7jsBhu5HAbxCTwBB7kcC2sKnAUjRmwJqsbMCCB2DAdohowLdmZcAPXGnAnvhfwF7kdsBo/1/AcDwqwGuZa8DNDHLA6wR0wNwWZsDgaHTAFSFewO2CgMDly1vAOjtIwGLWqsBErFTAv35swA2RP8A+0prAknI/wL7escAvyozAMwGJwOglscDNIq/AUx6nwEpYscAX5LDA9XavwJ6jpMDe9LHAzlmMwPphjsA6Y6vAiPuJwB9akcCoH4jA55WlwLHnkMDLz7HAP6yxwHimksC9nojA79CUwDboisA1M6bAvF5mwDb1ZcDNxGTA/3t4wHKyfsB63WvAFHlnwFPfgsDBD4PA3ZF+wJtoZMBBYGfAh5dlwGBCq8ByHavAVBacwExEqcDs2abAGCumwJn5mcD0BZrAnZWrwEocn8D7LJnArK2rwB3nqMCnEIvAuNWowEIsX8Dfy4nAjwaawPKIl8D005jAxc+YwEpPpMDfp6nAzIyNwHCTmcA=",
          "dtype": "f4"
         },
         "yaxis": "y"
        },
        {
         "hovertemplate": "label=8<br>UMAP1=%{x}<br>UMAP2=%{y}<extra></extra>",
         "legendgroup": "8",
         "marker": {
          "color": "#FF97FF",
          "symbol": "circle"
         },
         "mode": "markers",
         "name": "8",
         "showlegend": true,
         "type": "scattergl",
         "x": {
          "bdata": "tVNiv5Guq764JTy/b13HvvgkDL+v2zG/wzWEv78Ikb4NrWG/uFTCvp8gT7+KAxW+YnP+PlY6pr8z4rq/7lIkvy6Tnr/VGx2/3ZZkv3MgHL8q40C/QKclv70RYb/NZFy/xpk8v9z6X783gA7AvUFSv+S/Vr9Q7ce/6p/wv/oTD8D+egnAm8asvyes6L8Q9e2/DT4KwEdJUb8y8RHAQ2env3ZuKcAlpOK/bVTrv8JDHMDl/um/Na7xvyDFCcDk2r6/u9vKv/yuAsCN4O+/y9M9QAqSEcBoeBLAr8A9QKmGE8AVxhPAhd4TwAS8E8CBZz1A4Qk+QGQCFMBk4BPAJ8w9QOhw7r9FZ9C/2YHxv/NOo785raa/2Ruiv4whCsCodJa/AL/qvj4kA8Dk+om/hcjwv2U5l7+4VQHAfxoHwB/Pfb+phgvADfMcwGPKKMC+tmu/0ckBwEt0MMAKtzDA+dvSwLQxL8D8ZADAxf7nvyTM7L+Uxua/bsnuv3Lc87+/xO2/Gr39vzAKEcAAdey/Z28PwEr98b+PjVe/MJvWvvajur8A38O/DLx4v77Uvr7R1L+/yli8v7rEQr99uci/LPAVv036sr+q7Le/UHJXvxRSjb4IsLu+Ub1Fv8Izyr6P346/qB5Fv79Jyb5761y/5kGFvtnr/L5hHdW+q5bLvsuDhb8u9FS/WgDnvvySHL8fqFS/7JmEv1Gsp7/lobu+tX4AvxdmgL+BHIS/p3vmviOdEMCKlw/AppsPwH77D8CxEBTAlcoqwMjiIcDoISfAhR0qwHuxKsBvFinAgRsrwOLmKcD1ANC/4tdQPnitHb+iWDq/ztaEvwI6Ob/RIS2/MhIiv+5SLL/Tkg2/kvVTv/r0Hr/JpuG/VpRHv1wnRb838Zy/bftpvug5s7/5/Di+4DoXvk7AWb/FIMu/",
          "dtype": "f4"
         },
         "xaxis": "x",
         "y": {
          "bdata": "ERK3QLuzrUD05LJA6eivQNHHrkDNi7RAzvOqQBNGrkBqia9AQbisQGyju0Cvva5A0jCwQPZrt0B8Fq9AlOa2QLneuEAhzqpAslK5QI7sqEBdQ79AUbC1QB1Tt0BQJ7xAWnS/QDy9sEDqvKlAFy6dQFMNnUBQ6JhA+ROjQAhBqkAQH6pAJH+0QFBSo0AWaZ5A9YinQOOfnUDTtLJASVK0QBFzrkDi9K9AUHWuQEJbrUDaXbJA0IehQC4dqkAP0bJAPz+wQPbrsEDSV7BAC4U/P3pwikC4LopAZ01AP46XiUDZgolATWuJQJ5+iUCB/UQ/PtU8P2JdiUCTYIlA0hZAPzeLoUASxaJAOpihQDdbpUBWkaRAgLWkQLcaqkBPp6tA+XiuQMOrqkA1+6lA8qWgQIqlp0DrYrFAI83nP5VOrUCD86xAXKSrQL0QrkCJMbRATAOxQDDUq0AeDqxAovMaQZsGrEAm17FAQI2fQCvMn0AAV51AbXCgQPzQrEBGUJ5A5NqnQBJ1q0D6MZ5AfDKqQP5yokCUqJ1A+yGnQNQalkBWuJdAWg24QNU3qEAUzJZAjnmWQEzwm0C895hALlyuQHgdl0BvbJZA4lvBP3BkrUAFUq5AQqebQNnGr0ArOqJAfjOcQHWZqUBKkL4/uAGtQLlMr0B32qxAqmGpQArHrEBtYsE/BKmwQLLvsUDep7BAoGSrQPvArEAGx6pAykWvQHWZrUDuEKpAC1uvQE20q0AfmapAVeyqQGNsskAKiLFAPTGuQKSQr0CkNLBAB+iuQM/ArkAvPK9AnR6vQBNhsEAGWd4/FN6tQFo/vkCtBcBAMwSqQJYRv0DgHb9A3Ru9QJ0zvUAn0q9A0S+dQCnGsUBRKaVARPibQOSam0Bwg7hA2SCmQD1uuEAOIaZAkdmlQLTWskAya7dA",
          "dtype": "f4"
         },
         "yaxis": "y"
        },
        {
         "hovertemplate": "label=9<br>UMAP1=%{x}<br>UMAP2=%{y}<extra></extra>",
         "legendgroup": "9",
         "marker": {
          "color": "#FECB52",
          "symbol": "circle"
         },
         "mode": "markers",
         "name": "9",
         "showlegend": true,
         "type": "scattergl",
         "x": {
          "bdata": "sqlqwEMGj8AAeo7AZW+NwLc8lMCGK1DAdHqBv2zfbsDFpEPAB02AwF9KgcCgmUjAlNEzwOede8DhVGvAX/BwwNVPc8AIbILAWcqAwOIsb8D83VjA0FVYwCRxcMATk2rAKB5LwC5GxsC1xMbAfkYwwPCxgcA7F0nAm2lZwCDIxsALesbA42jGwCCgxsDBZtbAydLWwOdtxsBIxTPAdheBwP2NgcCs3nPA+CdywOHiYMDjMVXAj69vwHEuZcDionDALrtjwDoiNcD+4GLA66dGwN/lQ8A4Q0zAx3qsv4AnNcBFykjAOvE2wFf5Q8BZhEbAp7RHwO9oVsATPUPAH6+CwAD22MC1PtjAnuHWwCND18DnfdbAU+LWwEpd18CGihfAlSfWwMDe18BBVtjAccrYwKKQ1sAaYXHAuBM+wO/YgsCbRzTAVF1FP0euPMB4GYPA35BNwFFtNMB1D4LA6vs2wEYBNsC4GDXAId1xwBnEXMB+3WXARo5PwJ8eWsA4LFjAKUBywO6kcMDWk13ALSlcwEenUcBrB1vAAcNbwKxg4cCGvJLAYU6SwBB3ScBCP5LAX2tJwPkPk8D0/z2/3n2QwAMzTMCsH0/AaueQwGw/ScC5PmPANWCXQLtwY8CguUXA4GA4wHwHRMDAB23A36JXwMhcRMDYLVbActJXwMplMcDAS0nARbtcwPMyScAvcUXAAmo4wPPPR8DUyETA9KqDwMsCUMBzrjLAkRY4wLcXO8DHojLA64I9wALTMMBqoFLAAFVSwEXXMMAn01DAAYhVwPZRUMCN9jHArFhTwMn0UMAqyy7A6XUvwJD51cBh4NbAvjzbwLPi1sB618bAah7gQD6g1sA2DYHAjsbGwDMpdsCwadDABsrfQB/XxsC9U1/ARPtOwGPudsD890vAkFcywPF+M8AAWFfA8J5PwJd2UcDOgFjAvGhrwO2wRsDT3UbA",
          "dtype": "f4"
         },
         "xaxis": "x",
         "y": {
          "bdata": "o18rQawqMEGF6C9BwrIvQQwVMUEPqTdBj3eTQGCbKUFCZi9B/RcrQR5/LEFK/ilBjAYlQfurK0H3RilB1hAqQfcnKkGINC1BCDgsQWXcKUHV3CpBwBwrQcN3KUFsPS9B8d8pQZ5nmEB4tphAtA4wQe4BLUGMCShBfe86QbK0mECYbZhAvGGYQF+OmEAms5S/P+uYvzp5mEDuMyVBkVMuQeoULkGY7y9BvS40QZkZOEE/aTZBtdw0QYXZN0EKeTRBQdM3QXUgJ0HXojdB0ms+QVGcPEGGKj5BVwC1QHd3JUGLNT9BXE0yQUmuO0Efgj5BP7A+QazFM0G9tDBBgDAuQczAwr+ulKG/zhuYvzB5m7/VVZW/lEiYv3Himr8ILARAtxiUv1mspL/f5LG/B3u7v1HDlb+gbDBBS/omQbgjLkExDiVBgpICQMcLKUFHQy5BS98rQY4ZJUE3pS1BN+wmQeM6J0HZQyVBuus5QVQuPEGxDjtBt+E0QaoFNkHNezRB4LQ5QdL4OUEd5zRBbP87QVekNEHYZzxB9Mg7QVKCEUEA9TJBi8MyQWOoJ0EKnTJB0cAnQVAwM0G9JJtApycyQc2tKkFQlS5BEwAyQZ8QKkG/TjFB0GCLQZsQMEGaYThBUQoyQboSOkH4vSlBb8ArQanmOkGoDCxB0ZYrQdtfMEGuEyhBiaw7QerrOEFRwjlBtzQwQak9LkFkYz1BPgctQVSPL0FpcTBBK7kyQaBuM0FUpTFBXmYzQcOBMEGAZDVBUqs3QTdlMEGujTdBW2k1QdMEOEFllzBB93Y2QeGtMUHFtzBBqLwwQdKjkr/uIpa/NEUSwAmIlr90vJhAtUESQVx0lb/l7ixBtrWYQMnvKUFRX/1AJC8SQcvGmECdFTtBgBcvQUL7L0ENhyxBVv4vQUZjMEGy2DNBTEwuQekpMEFLHDNBjA0pQTupKkGWkylB",
          "dtype": "f4"
         },
         "yaxis": "y"
        }
       ],
       "layout": {
        "legend": {
         "title": {
          "text": "label"
         },
         "tracegroupgap": 0
        },
        "template": {
         "data": {
          "bar": [
           {
            "error_x": {
             "color": "#2a3f5f"
            },
            "error_y": {
             "color": "#2a3f5f"
            },
            "marker": {
             "line": {
              "color": "#E5ECF6",
              "width": 0.5
             },
             "pattern": {
              "fillmode": "overlay",
              "size": 10,
              "solidity": 0.2
             }
            },
            "type": "bar"
           }
          ],
          "barpolar": [
           {
            "marker": {
             "line": {
              "color": "#E5ECF6",
              "width": 0.5
             },
             "pattern": {
              "fillmode": "overlay",
              "size": 10,
              "solidity": 0.2
             }
            },
            "type": "barpolar"
           }
          ],
          "carpet": [
           {
            "aaxis": {
             "endlinecolor": "#2a3f5f",
             "gridcolor": "white",
             "linecolor": "white",
             "minorgridcolor": "white",
             "startlinecolor": "#2a3f5f"
            },
            "baxis": {
             "endlinecolor": "#2a3f5f",
             "gridcolor": "white",
             "linecolor": "white",
             "minorgridcolor": "white",
             "startlinecolor": "#2a3f5f"
            },
            "type": "carpet"
           }
          ],
          "choropleth": [
           {
            "colorbar": {
             "outlinewidth": 0,
             "ticks": ""
            },
            "type": "choropleth"
           }
          ],
          "contour": [
           {
            "colorbar": {
             "outlinewidth": 0,
             "ticks": ""
            },
            "colorscale": [
             [
              0,
              "#0d0887"
             ],
             [
              0.1111111111111111,
              "#46039f"
             ],
             [
              0.2222222222222222,
              "#7201a8"
             ],
             [
              0.3333333333333333,
              "#9c179e"
             ],
             [
              0.4444444444444444,
              "#bd3786"
             ],
             [
              0.5555555555555556,
              "#d8576b"
             ],
             [
              0.6666666666666666,
              "#ed7953"
             ],
             [
              0.7777777777777778,
              "#fb9f3a"
             ],
             [
              0.8888888888888888,
              "#fdca26"
             ],
             [
              1,
              "#f0f921"
             ]
            ],
            "type": "contour"
           }
          ],
          "contourcarpet": [
           {
            "colorbar": {
             "outlinewidth": 0,
             "ticks": ""
            },
            "type": "contourcarpet"
           }
          ],
          "heatmap": [
           {
            "colorbar": {
             "outlinewidth": 0,
             "ticks": ""
            },
            "colorscale": [
             [
              0,
              "#0d0887"
             ],
             [
              0.1111111111111111,
              "#46039f"
             ],
             [
              0.2222222222222222,
              "#7201a8"
             ],
             [
              0.3333333333333333,
              "#9c179e"
             ],
             [
              0.4444444444444444,
              "#bd3786"
             ],
             [
              0.5555555555555556,
              "#d8576b"
             ],
             [
              0.6666666666666666,
              "#ed7953"
             ],
             [
              0.7777777777777778,
              "#fb9f3a"
             ],
             [
              0.8888888888888888,
              "#fdca26"
             ],
             [
              1,
              "#f0f921"
             ]
            ],
            "type": "heatmap"
           }
          ],
          "histogram": [
           {
            "marker": {
             "pattern": {
              "fillmode": "overlay",
              "size": 10,
              "solidity": 0.2
             }
            },
            "type": "histogram"
           }
          ],
          "histogram2d": [
           {
            "colorbar": {
             "outlinewidth": 0,
             "ticks": ""
            },
            "colorscale": [
             [
              0,
              "#0d0887"
             ],
             [
              0.1111111111111111,
              "#46039f"
             ],
             [
              0.2222222222222222,
              "#7201a8"
             ],
             [
              0.3333333333333333,
              "#9c179e"
             ],
             [
              0.4444444444444444,
              "#bd3786"
             ],
             [
              0.5555555555555556,
              "#d8576b"
             ],
             [
              0.6666666666666666,
              "#ed7953"
             ],
             [
              0.7777777777777778,
              "#fb9f3a"
             ],
             [
              0.8888888888888888,
              "#fdca26"
             ],
             [
              1,
              "#f0f921"
             ]
            ],
            "type": "histogram2d"
           }
          ],
          "histogram2dcontour": [
           {
            "colorbar": {
             "outlinewidth": 0,
             "ticks": ""
            },
            "colorscale": [
             [
              0,
              "#0d0887"
             ],
             [
              0.1111111111111111,
              "#46039f"
             ],
             [
              0.2222222222222222,
              "#7201a8"
             ],
             [
              0.3333333333333333,
              "#9c179e"
             ],
             [
              0.4444444444444444,
              "#bd3786"
             ],
             [
              0.5555555555555556,
              "#d8576b"
             ],
             [
              0.6666666666666666,
              "#ed7953"
             ],
             [
              0.7777777777777778,
              "#fb9f3a"
             ],
             [
              0.8888888888888888,
              "#fdca26"
             ],
             [
              1,
              "#f0f921"
             ]
            ],
            "type": "histogram2dcontour"
           }
          ],
          "mesh3d": [
           {
            "colorbar": {
             "outlinewidth": 0,
             "ticks": ""
            },
            "type": "mesh3d"
           }
          ],
          "parcoords": [
           {
            "line": {
             "colorbar": {
              "outlinewidth": 0,
              "ticks": ""
             }
            },
            "type": "parcoords"
           }
          ],
          "pie": [
           {
            "automargin": true,
            "type": "pie"
           }
          ],
          "scatter": [
           {
            "fillpattern": {
             "fillmode": "overlay",
             "size": 10,
             "solidity": 0.2
            },
            "type": "scatter"
           }
          ],
          "scatter3d": [
           {
            "line": {
             "colorbar": {
              "outlinewidth": 0,
              "ticks": ""
             }
            },
            "marker": {
             "colorbar": {
              "outlinewidth": 0,
              "ticks": ""
             }
            },
            "type": "scatter3d"
           }
          ],
          "scattercarpet": [
           {
            "marker": {
             "colorbar": {
              "outlinewidth": 0,
              "ticks": ""
             }
            },
            "type": "scattercarpet"
           }
          ],
          "scattergeo": [
           {
            "marker": {
             "colorbar": {
              "outlinewidth": 0,
              "ticks": ""
             }
            },
            "type": "scattergeo"
           }
          ],
          "scattergl": [
           {
            "marker": {
             "colorbar": {
              "outlinewidth": 0,
              "ticks": ""
             }
            },
            "type": "scattergl"
           }
          ],
          "scattermap": [
           {
            "marker": {
             "colorbar": {
              "outlinewidth": 0,
              "ticks": ""
             }
            },
            "type": "scattermap"
           }
          ],
          "scattermapbox": [
           {
            "marker": {
             "colorbar": {
              "outlinewidth": 0,
              "ticks": ""
             }
            },
            "type": "scattermapbox"
           }
          ],
          "scatterpolar": [
           {
            "marker": {
             "colorbar": {
              "outlinewidth": 0,
              "ticks": ""
             }
            },
            "type": "scatterpolar"
           }
          ],
          "scatterpolargl": [
           {
            "marker": {
             "colorbar": {
              "outlinewidth": 0,
              "ticks": ""
             }
            },
            "type": "scatterpolargl"
           }
          ],
          "scatterternary": [
           {
            "marker": {
             "colorbar": {
              "outlinewidth": 0,
              "ticks": ""
             }
            },
            "type": "scatterternary"
           }
          ],
          "surface": [
           {
            "colorbar": {
             "outlinewidth": 0,
             "ticks": ""
            },
            "colorscale": [
             [
              0,
              "#0d0887"
             ],
             [
              0.1111111111111111,
              "#46039f"
             ],
             [
              0.2222222222222222,
              "#7201a8"
             ],
             [
              0.3333333333333333,
              "#9c179e"
             ],
             [
              0.4444444444444444,
              "#bd3786"
             ],
             [
              0.5555555555555556,
              "#d8576b"
             ],
             [
              0.6666666666666666,
              "#ed7953"
             ],
             [
              0.7777777777777778,
              "#fb9f3a"
             ],
             [
              0.8888888888888888,
              "#fdca26"
             ],
             [
              1,
              "#f0f921"
             ]
            ],
            "type": "surface"
           }
          ],
          "table": [
           {
            "cells": {
             "fill": {
              "color": "#EBF0F8"
             },
             "line": {
              "color": "white"
             }
            },
            "header": {
             "fill": {
              "color": "#C8D4E3"
             },
             "line": {
              "color": "white"
             }
            },
            "type": "table"
           }
          ]
         },
         "layout": {
          "annotationdefaults": {
           "arrowcolor": "#2a3f5f",
           "arrowhead": 0,
           "arrowwidth": 1
          },
          "autotypenumbers": "strict",
          "coloraxis": {
           "colorbar": {
            "outlinewidth": 0,
            "ticks": ""
           }
          },
          "colorscale": {
           "diverging": [
            [
             0,
             "#8e0152"
            ],
            [
             0.1,
             "#c51b7d"
            ],
            [
             0.2,
             "#de77ae"
            ],
            [
             0.3,
             "#f1b6da"
            ],
            [
             0.4,
             "#fde0ef"
            ],
            [
             0.5,
             "#f7f7f7"
            ],
            [
             0.6,
             "#e6f5d0"
            ],
            [
             0.7,
             "#b8e186"
            ],
            [
             0.8,
             "#7fbc41"
            ],
            [
             0.9,
             "#4d9221"
            ],
            [
             1,
             "#276419"
            ]
           ],
           "sequential": [
            [
             0,
             "#0d0887"
            ],
            [
             0.1111111111111111,
             "#46039f"
            ],
            [
             0.2222222222222222,
             "#7201a8"
            ],
            [
             0.3333333333333333,
             "#9c179e"
            ],
            [
             0.4444444444444444,
             "#bd3786"
            ],
            [
             0.5555555555555556,
             "#d8576b"
            ],
            [
             0.6666666666666666,
             "#ed7953"
            ],
            [
             0.7777777777777778,
             "#fb9f3a"
            ],
            [
             0.8888888888888888,
             "#fdca26"
            ],
            [
             1,
             "#f0f921"
            ]
           ],
           "sequentialminus": [
            [
             0,
             "#0d0887"
            ],
            [
             0.1111111111111111,
             "#46039f"
            ],
            [
             0.2222222222222222,
             "#7201a8"
            ],
            [
             0.3333333333333333,
             "#9c179e"
            ],
            [
             0.4444444444444444,
             "#bd3786"
            ],
            [
             0.5555555555555556,
             "#d8576b"
            ],
            [
             0.6666666666666666,
             "#ed7953"
            ],
            [
             0.7777777777777778,
             "#fb9f3a"
            ],
            [
             0.8888888888888888,
             "#fdca26"
            ],
            [
             1,
             "#f0f921"
            ]
           ]
          },
          "colorway": [
           "#636efa",
           "#EF553B",
           "#00cc96",
           "#ab63fa",
           "#FFA15A",
           "#19d3f3",
           "#FF6692",
           "#B6E880",
           "#FF97FF",
           "#FECB52"
          ],
          "font": {
           "color": "#2a3f5f"
          },
          "geo": {
           "bgcolor": "white",
           "lakecolor": "white",
           "landcolor": "#E5ECF6",
           "showlakes": true,
           "showland": true,
           "subunitcolor": "white"
          },
          "hoverlabel": {
           "align": "left"
          },
          "hovermode": "closest",
          "mapbox": {
           "style": "light"
          },
          "paper_bgcolor": "white",
          "plot_bgcolor": "#E5ECF6",
          "polar": {
           "angularaxis": {
            "gridcolor": "white",
            "linecolor": "white",
            "ticks": ""
           },
           "bgcolor": "#E5ECF6",
           "radialaxis": {
            "gridcolor": "white",
            "linecolor": "white",
            "ticks": ""
           }
          },
          "scene": {
           "xaxis": {
            "backgroundcolor": "#E5ECF6",
            "gridcolor": "white",
            "gridwidth": 2,
            "linecolor": "white",
            "showbackground": true,
            "ticks": "",
            "zerolinecolor": "white"
           },
           "yaxis": {
            "backgroundcolor": "#E5ECF6",
            "gridcolor": "white",
            "gridwidth": 2,
            "linecolor": "white",
            "showbackground": true,
            "ticks": "",
            "zerolinecolor": "white"
           },
           "zaxis": {
            "backgroundcolor": "#E5ECF6",
            "gridcolor": "white",
            "gridwidth": 2,
            "linecolor": "white",
            "showbackground": true,
            "ticks": "",
            "zerolinecolor": "white"
           }
          },
          "shapedefaults": {
           "line": {
            "color": "#2a3f5f"
           }
          },
          "ternary": {
           "aaxis": {
            "gridcolor": "white",
            "linecolor": "white",
            "ticks": ""
           },
           "baxis": {
            "gridcolor": "white",
            "linecolor": "white",
            "ticks": ""
           },
           "bgcolor": "#E5ECF6",
           "caxis": {
            "gridcolor": "white",
            "linecolor": "white",
            "ticks": ""
           }
          },
          "title": {
           "x": 0.05
          },
          "xaxis": {
           "automargin": true,
           "gridcolor": "white",
           "linecolor": "white",
           "ticks": "",
           "title": {
            "standoff": 15
           },
           "zerolinecolor": "white",
           "zerolinewidth": 2
          },
          "yaxis": {
           "automargin": true,
           "gridcolor": "white",
           "linecolor": "white",
           "ticks": "",
           "title": {
            "standoff": 15
           },
           "zerolinecolor": "white",
           "zerolinewidth": 2
          }
         }
        },
        "title": {
         "text": "Visualización del Dataset Digits con UMAP (5)"
        },
        "xaxis": {
         "anchor": "y",
         "domain": [
          0,
          1
         ],
         "title": {
          "text": "UMAP1"
         }
        },
        "yaxis": {
         "anchor": "x",
         "domain": [
          0,
          1
         ],
         "title": {
          "text": "UMAP2"
         }
        }
       }
      }
     },
     "metadata": {},
     "output_type": "display_data"
    },
    {
     "data": {
      "application/vnd.plotly.v1+json": {
       "config": {
        "plotlyServerURL": "https://plot.ly"
       },
       "data": [
        {
         "hovertemplate": "label=0<br>UMAP1=%{x}<br>UMAP2=%{y}<extra></extra>",
         "legendgroup": "0",
         "marker": {
          "color": "#636efa",
          "symbol": "circle"
         },
         "mode": "markers",
         "name": "0",
         "showlegend": true,
         "type": "scattergl",
         "x": {
          "bdata": "XGF1QbZldkFIOH5B4h5zQQnfeUHxnHpBXHSAQQVPfkEKpn9B6rd/Qd8if0HcsIBBtGB/QTZgfkHtTX1B8qiAQTkbekG40HhBvcF9QVPnfkF6IoBBjQmAQaexfkGrKIFBn198QQ9LgEEtGHVB5eR8QV4qdkGlAnVBr3pyQYBIeUHh4XdBS0x2QQoKekHklnZBzZx4QRJwfUH1V35BUTR/QVrxfEG9GoBBIPF5QcMSfEExEn5B/UGAQThPeEHi03hBPy93QUsLgEFRcYBB2Bx6QWlyeUE/FnlBTnR1QRKLd0GMcHpBpYd6QUKbe0HTHXVB2jd9QTK3dkEMlnZBMVxzQdK7eEEsqndBJh1zQR7TekEM6HZBhH59QYeXfkE4UXZBqSZ+QUB5fUEWf3lBkUh7QXkZf0FwCnlB/yRzQZODeUEjPnRBs4J3QVqxdkGHe3hBfT92QblGdUFzH3tBACx8Qd/+dkGAMXRBZYF2QSbvd0Hua3dBFKd6QUQfd0FKmHZBS993QXSSc0GCxnxBBGF3QctmeEEhtnRBYGd/QavjfkHGKnpBgkSAQd+wf0GjjX9B8mB7QZsQeEEwPXtBFJ17QbFqdkFocn1BGgV5QZK6dEEwY3RBRb1yQfcsc0EML3RByKNyQbO5ckFwPXJBxF5xQVqzckHYEnxBY+9xQepqfkHja3xB401/QYGlfEHVin1B+iZ+QRLafUH5QHNBv+J2QQc5dUE6K35Bfi5+QVXPe0H+THdB7zKAQY91d0FACX9BBmJ+QWPafEEPrXtBZlh8QfQLfEEYfnxBVPR4QaLpfkHQGXdB2q98QesUf0F+g3tBZPB9QXkoe0GC5H5BqDx1QffJf0F9VH9BmzV7QRXWfkEsZXdBr1N/QYoxgEFzNYBBdjh3QV5KekET5HlBvA12QTKmekFL/XtBfQt4QUUff0HdOIBBqO95QQ==",
          "dtype": "f4"
         },
         "xaxis": "x",
         "y": {
          "bdata": "AfpaQA3NSEANckNA88FZQJdLQEA9JVpAwyFYQOCcPUBP4UVAT41iQMvcZ0DXOkhAL5JCQLZOVUDB+D5AwwZOQA+zP0CMXFBAbnJiQJItO0CDRUFAd45NQPy3OEDyw0dAUXBiQAJJSEAnJUhAL+xcQGKjSEDMJkxAXK1RQDmiWkD3HGRAkqZVQC1mSkBTwkxAkZ9IQAUrXECOrF5AUxFhQKCUXUDCvExAM5FDQBJiXkBnTmRATS9SQF2YaEDKIUxAO6BmQNssX0AmolRAGkBZQDJNSEAxLmNAt8xbQHxDU0A8fGlAMDNYQASNb0Be9UxASOxBQBcNYUDkZFBAwHlXQOkFVkAqPUhAuBZUQGnTQEAsC0xAGsNWQMqrQUDop09A5c84QMQxP0D5bEJAQjhOQKkOSkBAlUlA2ShTQNP4bkCIgk9APSJeQAcAUkBICkVAXPFFQAtrVkCCED9A06A5QI01ZUA0GllAqXxTQEGHZUARQGdA5XZfQNCVZ0C4BGZAecluQJIWWkCfAGpA5qNpQDyKb0BoRlxArgRZQCkhXkBwCGtAluVSQC9gX0D+ymFABwVvQACIaUBlW21AgwNwQASeW0CgbmlAE5xfQN2+WUDXrVdA1zlWQGRwVEC1jFtAHBlYQBjwV0Bp0lNAz/BUQEyoVkAhe0hAsKNUQHQnYkC0eEVA8RJWQKqvcUDqfDZATYtKQLy9QkAOKVpAiIBLQIZ+W0BKT1JAJd9GQG+YOUAyS2ZAx6lbQLfYXEDMcmJAPx1hQN1MYUBh0WFAaOZwQMolbEARF3FA3VxfQKtQY0D0LWJA/bQ/QCggQkATTTpAVjE2QP0dT0BdjTZAZz1WQHcmREDdBjtAZF9uQL1tOUBoq0xA4ulgQEZlWEDa4lZAnYlUQHAwQkBdg1pAviteQEMHSkAMeFlAwihWQPlcWEBHJUVA+OxCQA==",
          "dtype": "f4"
         },
         "yaxis": "y"
        },
        {
         "hovertemplate": "label=1<br>UMAP1=%{x}<br>UMAP2=%{y}<extra></extra>",
         "legendgroup": "1",
         "marker": {
          "color": "#EF553B",
          "symbol": "circle"
         },
         "mode": "markers",
         "name": "1",
         "showlegend": true,
         "type": "scattergl",
         "x": {
          "bdata": "aOlqv6wIlb/4dJa/PxySv7Oai7+VMJS/TiOOvzhNkL+QOYG/gg6Ov8KmaL810Dm/STCTv47bsr/2f6a/LTarvxebsL9GvK2/3F6fv/dIkr8Isay/s02ZvzWDrr9X3Zi/SeWXvxQoqL+urAW/LpN4v6/rkL5cgte+4v4Zvx/Ajb/n2SW/EGrovrEOS7/kjCm/ddxmv8w3db/nHdS+bR6rv+lUj7/IiJa/GmaXv8Uxkb91fEW/ZMKYvyrljr9QaYy/ZqORvzsFmL/IuJC/25KcvwG2Q7/A9E2/RmA3v7WFNb8oPim/Fj48vzdaNb/2Iy6/NT0xv3kpK7/+6zG/lK+RvundRL/Zle++scbXvu/x3r616cy+fEe3vlSDO7+/T96+VXdBv/kFwb5ZD46+bl3Bvn/ix74PzbW+iNh3vwqSZr/rHEu/EAQzvlCSu74/IUm/DRG9vnGm3L7utfq+vI4mv6R2Mb9mIFC/O2rLvgjKSL8Nm0a/JadFv4okQ7+USEm/Umw9v9GUQr9zjkO/PFtJv/KuRb/rKUq/Kx5FvzAPRr+FJ5q++L7CvloZaL/URz2+tJBDvzWH9b5kmm2/J28Uv/CQbL+iTYm+o9Mjv25gMr/Z5jC/hEqMv802jL+Md1C/91Pzvs+Yhb8q8oe/ttkfvzfccL9IBmG/1b85v2g0KL+Xoha/8JQsvxKiob/c92O/0bqsv/cshb/E1oS/W0Wav7C2Zr9M3pG/5SaBv0wCe7/P636/mwBYvwPGbb91KqS/jy60v3pCor+uAri/Cze2vz9Dtr8FEbe/XXbDvxK7pL95cp+/bp+0v2RJtr+PQ7u/3C9yv/X+Kb+UKyu/PDOFv26adL/FX0S/Cq1sv6VvgL+KPYm/ePiLvy1te79RCYS/MAGMv4+arr7V8LK+UmDIvgkjob748cC+wPC6vocqb76wUZ++eYTivrWkhr7Vvsq+wuiJvvwVbL4=",
          "dtype": "f4"
         },
         "xaxis": "x",
         "y": {
          "bdata": "JwQNPmKw/r9iIfG/ahwAwF5i479STPC/fGfdv9oE779k9OG/3cUAwFQ94r27C/Y+2u0EwHztB8B78QbANWkKwO9aB8CXownA4+D4v/RuBcCyLgjAQmQGwJPPCsBlBfW/TBYGwO/JBcDh38s+JwT8v2OdHT3j6yM/HHZXPoS6CsB0Qd0+nvmQPIYyz7/suXI+GfWgPo3jgz53kCc/PhX6v8hZ0r+CxOe/5qryv1lT2r/A2qVABTjzv1oh0r+6q9i/RXD5v81h4b8PNtq/imjqv7fUpkBR0qVAWvimQMGapkCCjaVAbo+mQAddpkBle6ZAqyanQKg2p0D1J6ZAOU8BP5vxpkB2wbg+3QkpP3LzIT/gupE+28GWPjCVaD6/6OE+gZ9FPjOZFT9mihA/7hL3PqAc3z4vF6E+l5eaPgfIXz7mqVc+63UEPz1TET+DP6RAP72GPlhgIj9Miqk+j9LqPraN3j65K6U+MoxyPiYwpUA3rqVANBqlQLDopkCbsqdAEKClQLanpkBnyaZABzylQLXPpkDe8qZAdyCnQP7YpUDknLM+KrPGPpjaoD4/Tb4+LPDCPnfCAz91r6A+qNEXP9VXkj4hv5c+pmBqPg0CBD89JfI+CFHWvzH63L8v1Sq9ZSmZPoIypr9yTaU+dCoQP+8SnD5h3EK+XYHgPlsqAD9JDBE/YYNPPwBQ7L/lIQm+siEKwPyjpj6Dtog+Vq3vv3Ebjj68sdq/PANPPjL6hz6i/IU+8bbUPq0Ezj5eSem/+WT6vw8W9b/XiwfAUtYHwFKx/r/ZawDAch0FwL9J779ite2/nyMFwCepBcCFUQHAFnuOPn+TBT9ZsRo/IECJPmZEqD6dfQw/1H+xPoGurz6WdZo+6GGhPjtSkT4mkIk+oDtzPgrmKj997t4+HkMmP+gLFT/AZMU+WygiP5GLBT8oFgk/LEITPkqToj6hLxU/qQLuPs5F4D4=",
          "dtype": "f4"
         },
         "yaxis": "y"
        },
        {
         "hovertemplate": "label=2<br>UMAP1=%{x}<br>UMAP2=%{y}<extra></extra>",
         "legendgroup": "2",
         "marker": {
          "color": "#00cc96",
          "symbol": "circle"
         },
         "mode": "markers",
         "name": "2",
         "showlegend": true,
         "type": "scattergl",
         "x": {
          "bdata": "+3yqPsr5Fb/omg+/PUm/PnRkmz4UbaQ+K+KaPptxkj6kZJA+GTxjv89qzL7Stq0+y6rEPmCqWb8HPMu+zFyPvrXSxr52BdO++e1Mv3qp/L6N+ke+czS9vpgv8L5qQmy/kzJdv+sCpr5Bjgi/X5wGv51kL79DY1a/u4PSvkyy+77VUVC/rVAEvwxuRL8oKay+JF34virRWL/gY2u/HhkXv+vxF79cJUG/008nv/b0Kb+bUzC/FHQPv/QDK7+F6Dq/UiFSv9CeWb9+tlC/rPg7PykK4b6Mkry+WYwivxAa6b6TPia/Bjvkvn1/Ir9dgCe/CrAQvym9Nr8Dlii/2l0Uv4qpJb9qeKS+2GKOvsoomL55f0y+Qq10vidp6z/sGfs/JkQJvn6Tkr7KpFG/pGx8vhLGcL6Ag2W+DIs4v94Whb8HKGy/tmq0vlD5fr/ynWK/Z51tv9YSgr8wqoW/R2wfvk1Efr8BdoHARpOYvqDUNr8wVZS/CPE9v8J2eL8kjCC/TAMAv8zo/r7CRhu/Dk6Nv9QGDb8uFeu+DoSHvwI2Ur/sQPe+iu33vuS16b6+L/C+O4gYv4eCsb71Xha/b3l/v053Db9SayO/Rr9pv62sBb+I8I++T6jGvr6Vkb4AOmu/M5UKv9PSJL9J74K+QaOivqf6Xr/TCVW/cfD6vWiG1b6ZATG/CXWkvtBZtb7SH8C+AIoiv6zly74Uaxi/xnekvh+QBL8Ueca+ZzTsvlzm6r7v3U2/bLeLv/LElL+m8o2/oI9Jv6VVlb+IFIa/T+SNvwdLkr9xt46/kLmGv33Mr74nCoe/BiYQvwop6r7HfAa/n++5vsKcT7/MYr++acrBvuKLFb/CMFe/pvgjvx/Kob5AZDS/jVaavlLN074SOVe/eFiUv07WlL9TeoK/4R2Wvy48G7/IZJy+vpOLvyXRP7+3+Ei/",
          "dtype": "f4"
         },
         "xaxis": "x",
         "y": {
          "bdata": "WQYcvsbQiUB6PIVAFBEDvvSBbr77XV6+7C5nvr7jg751PJO+OV1lQO+GTEBb/R6+ZxOIvedmXkCwoVNARr1uQJ89YUA/iFtA/rhtQLwVbECITnFAj7lbQJErXEBFQmhAHk5eQDxHWkBEGW9AbmduQNhGX0Cio1hAmjtcQLG4akC1/mRAxoNqQC/qWkB8X1hAFxtpQEM5VUDw7WRAbleHQAEPiUBKbHtAi+SXQFgyfkDeoHxA89GGQCyDg0BbKXVAVAl0QPnbcEDEGHdAge5+vf38kUBZkWlAtIKVQG7qfUAkcJZAGtKPQDdJlEDpIZpAD+dwQN8kmkDjb5dAIeluQL3yl0D9f1hAqsRZQMlCXUBbGmRAoPZcQFWbSD8hb1A/U35gQKGmWUAl0lRA/+FWQBn5VkBQcVRAvGBcQCMkYUBq2lRA6A9cQMcRWEDmtVJA9KtuQB2uVEDuJlZAksdqQNPkWECW/kHAx6dYQLpUYECs/GFAjJJsQKnPakCL+ZlAHP6OQP8MjkBTYphAiyRjQLzhhUCtQ5NAna5lQBIIa0Dx2HxAF9mSQFPbj0AvZo9AG/aKQDwOkUDch4pAYR1wQOxtikBCPZtAy6VgQM/7jEDroVpA4YlzQEggW0Bg9FRAm8ZrQAnhZED8a3JA0O9XQM3RVEApulNAz/JJQC1BkEBl4qFAfQCLQEVukkAPfJJApqKcQCQAlUBXU4FAoCySQHQxlUCF7pFADvqRQBiRk0BaYHVAdcxoQGuWY0AxP2VAD3d1QIkFY0Dc4WtAj8VnQIjhZUBNbl9AG1RpQNyPdECUT2tA2bqIQNuFjEBkMI9Aul+RQND+bEAVCpJA5IldQDF0nUDQzmNArzaDQBh2i0DCzndAzUFOQAQDWEAeHXFAMkJhQLyvX0Bb6G9ADPhdQLmAYUAwyV1AvIJiQCLkeEDtk3RA",
          "dtype": "f4"
         },
         "yaxis": "y"
        },
        {
         "hovertemplate": "label=3<br>UMAP1=%{x}<br>UMAP2=%{y}<extra></extra>",
         "legendgroup": "3",
         "marker": {
          "color": "#ab63fa",
          "symbol": "circle"
         },
         "mode": "markers",
         "name": "3",
         "showlegend": true,
         "type": "scattergl",
         "x": {
          "bdata": "/Xp5QME+WECkU0dAbT5mQHNiTUBs1l1A/qhWQJkfVECp21FA7DRRQKbFVED0iFNA0dlGQCMHUkD9iVVAV7hSQIqKUEA0U1hANqdWQEW9SkBR9VpAM0RTQJi0VkChUlRAC55SQLdpOEAig3pALKBpQGcbZEBkpGdAQtduQL2fXUALv2dALPpvQMhjY0D5sVtAeVpxQL5fcUBtUmJAu5xYQJxxWEB8yINAtIaDQFMMg0C4sYdAWOOBQByyfUB/8YNAXwiEQIKBgUC0TYJAF4l7QKsQhEBvCD5AhpMzQCmiKEDLQjxAYiQ/QF8RS0DHezFA2E00QNaEHr+aHDRA0jQuQDz3OUARODlAhHJpQMANb0Cyw2dAymUcQOhiaUAl5mZAI9RkQLzbYEBsdWhA2BtpQIG4dECgFnZATQVoQFRddUB6cmtAPLhqQMBNakDQz2xArtxoQPXRQEDE9kVATmJbQJpib0BS7WZAwNVxQDZZTUBF7ndAnIiAQJEWekBO4oJANgB4QE5ggUACgntA2peDQCw1fUDluXRAsvKCQAqbgkCDBoFASPhgQLjJYUC711hAh41UQLmIW0Dr/FhA7H9uQDzfXUCptF1AkbRcQHFSccAM4V9AKYNbQPPFakACEFZA6StfQBOROEDjy11Ag0FQQLjcSkAR+lRALStRQNZVUUCL6FhA7YhiQIh6U0AMNllA9dVYQFDofEBtXmtAlQBMQFfzakD+lmdAt85wQHI5Y0DR5kxAp8dqQN9nbEBui2JAlvl/QE1ifECUrHlA19RcQDfOd0DGvHVAMQp6QO4lbkA8fm5AjxFrQMl2aUDFQGhAJxxvQI8CTUCTiUtAICFOQIOuQ0Cw8z1A8qM4QEuONECo/0E/nPRNQNp+UEA2elhAjztNQNRmVECjcnlA7r49QMHRbECM7i9ARyI4QCtOMkCNZoZAeQ06QH9GPECMn0tATA5rQD3BakDIqWBA",
          "dtype": "f4"
         },
         "xaxis": "x",
         "y": {
          "bdata": "RC1Ivi+HKr/PSBO/Hni6vhITGL/b4Bi/K6QZv8TTTL/afVi/+CMTv47Dab8wX06/nBFtv1T+Xb8SVlC/O2Zbv0/WGL+fNkm/KLVEv1XjFr8OvTy/GXpSvy4LMb8yIUa/5F9Vv5QCD79guH6+Fr0tvmiXtL3jn7G95mzFvt7tpb5HFRu+XiuTvjZjTb7d0bG+vN//vgdm4L4Hkam9Cpyzvnivrb4lhxA7wShiPrrwHr5CRaS9IMN8PaenGD7c9aM9zBM9vBj4g72HHZ+7VfCsvqKBSL0mRFI/PatFP3W1Xz91Z0U/PcNXP5gYUr7KEks/QE1MP1AelkDEoUs/4uFVP1BEPT/Ru0g/U2KRPXgpCj7XiiO9oN2BPiJ97TxYivg8RxPoPStmq76B4ak9of+KPYjBiL5Oip6+wWKBvvz40L7D7du+NWDsvu5T1L7+F/e+t8oBv+Aj/r729wm/UuaQvn6rB793n7u+8xOxvlrEyL4Vr3E+tQ5Svtd8ZL4rD2++5wpVvv2var45usI+U5TzPeRy1z4pM3Q+H99BPg46d74nbrC9dMoWPhaSKj5IHdA9e2HsvEM8hD6v2sq9jiDDPZ2Aqz06oA4+xGDlPckERcCsGmA+81Y0PSPJtD0+7CG+lNTmPZemRr+KS8+8+2/ovkdG/L6Lui6/jYxWvzlP+b5NvxI+HoeivRYqUr8Ji0K/PI9ZvjE/H74+G2I+YGzGvrAi/LyBcRU+YEUhPrBr9L2gP+2+TtX6veb0AD7khI493tGZvSTav70jWuu+4vGiviCHfL5ty5+9NdJrvr4MWL4h1TW+0Zx9vgFosb5X0vM9/iuCvkLL5L4fe6i+76zgvsc8R79P2iq/uDVcv8YeMr+WYAk/zrfnvq7O9b6yA4W+m1f3vtn95r63fq2+gDghv+YGDb82zDy/rpEiv283G78exyq+Y7wjv5P1Ir9izwK/e0Fyvg2dub6DozC/",
          "dtype": "f4"
         },
         "yaxis": "y"
        },
        {
         "hovertemplate": "label=4<br>UMAP1=%{x}<br>UMAP2=%{y}<extra></extra>",
         "legendgroup": "4",
         "marker": {
          "color": "#FFA15A",
          "symbol": "circle"
         },
         "mode": "markers",
         "name": "4",
         "showlegend": true,
         "type": "scattergl",
         "x": {
          "bdata": "RBqMv+8h0r91TYK/hXrTv6ECnb+KneO/XjtkvwTwi7+0Z4K/uP7vv4Ei7L9G7ea/EOzav2pXmL896mu/HLdlv1cnPb+IFVi/4GdHv53nVb8zDFi/9CFJv3iaU780BWW/XAhovzY39b+gU+i/Imn0v3Q0z7+g5eW/FzTkv3V967/IHre/t7/4vz/jm78GgNW/Xynlvwu00r9Zr1G/STnAvxu8WL+OqXC/aGaQv/2QXb8whHy/GHGCvzRAXr82L3O/1xRmv832c78pAFC/0d7mvzUA9L+pZ8C/2O7avy7D4b8ytO+/J0njv0Zj2b+hGd6/aZK7v8jN3r94U+K/bADov313X797/0m/JVlsv6Gdeb+hn9a/zT9cv7Imar/pJeW/YT2cwOzsqb+zlEPAAM65v0qRD8Az5bq/8yqnvxXFnr9T2pm/61Kvv1VjvL8OVJi/z+ubv3bHe78SnbC/rrmTv9H1nL/pgJa/0yCdv+XUjr+CGbO//LH6v6G3tb+WDLW/TAmSv5ZfCsC6tu6/CUCjvycAAsARVkHA+lgHwAKyBcCAIxPA/JLzv9ReEsCL4/y/aRcrwON7/L+SXPq/KcPov+RcvL8P1/+/T/Xlv05T8r/t/N6/w0mTvzo637/PrJ+/V4yGvy6I0b/bjaG/aHOzv0HwpL/085W/EFv2v8ginr8AAfC/GIV9v73Cab/3mXK/16+Hv8BBhL9fGZa/BimRv0iBe7/qx8m/aTyJv0+2k78eVY6/GLaUvzYQ4r+PSsi/RcfZv4SLqb+I98e/RJfMv4eXsL/0RtG/zm7Vvxtbu78fD/C/2p3Ovzedo7/epPG/+HPuvx8b9b+4uuW/IbX7v8vUBT/Xrvs+gI3Vv25i+r/Oa++//sb9v7VSFj9s6uy/m859v6cTub8X4q6/Jqk2wGoeAMCPzI2/rqqLv6cXkb/305m/XuOJv8Yhkr8HZoy/n0uZvw==",
          "dtype": "f4"
         },
         "xaxis": "x",
         "y": {
          "bdata": "eruXwGXsl8BemJLAYoOZwL00l8CBZJrAq6CHvjLRkcC8vpLAj4CcwITlm8C9W5nAoaiZwKkPkMBiBJPAVf+SwNqrlcC+dJTAHG2VwKqVksA+kJPA3zuWwDlVk8AjyJLAioORwCI/nMAlpJrAHnSewCG/nMCBhZrAnEukwCAVm8CIhZ/ARmKVwKZ5psCVnJnA69+gwCdZmMAHWJfA38GqwGszlMA2eZLAlGadwE6flMBVSo/AvXGbwIAQlcCYCpHA6ZKUwOVfkMByjJfAZ6KswDHIqMDorqzAjPqpwCtjocAvYKrA2bGswKyTrMCUj6zAeOKswCkqocCa163AKxWtwJ1fk8BSaZXAJxmRwDtFkcCGjZfAFMeTwKnkk8DkrqzAfEFdwC0OrcDR/GfAMJ2swL28msCLb6zALvSkwCD/qMC7LqPARgCpwHY3q8CFvp3ArOiowIhgpMDGU6rAcTujwDLCqMDuoKfAGHedwFhApsAsB5bAYlGPwFpBlMB175TA9aWowPr9hcCwy43AdQCcwLHpisDnJWfAuj+IwBS1iMDQbYLAmj2TwGsng8CQu5DAXVk/wCUSksDO15PASsuYwG5rmMAoMI7A+C+YwK6YmMA0CZrAmLOewFZpqcDkEJvAR5+jwFUZmMBkEJvAmXmawKbnosCxa6HAO8ePwDrAncCW0J/AbXCjwKN2pMBlk6TA9VWjwGc5ocD4aaPATqylwDDwocANjpnAmuWewAfJn8CCAZvAsMWkwEzprMCrC6zAkYeqwKk5n8DmMK3AaGunwOFIqMCzdqrA1aiqwNucqsAOgKfAYm+swIifocBUYZvAW2qcwOQnocDCkJ/AbMKhwP+8ij/X5Iw/RpSlwAYIncCukZzAQumiwE6rjz+UOp3AiM2WwMGQncDUQZzAeqZqwAiNi8ATb6TAu9ulwG+Po8A2gJfAulaWwBYNp8AvVZ3ATy+gwA==",
          "dtype": "f4"
         },
         "yaxis": "y"
        },
        {
         "hovertemplate": "label=5<br>UMAP1=%{x}<br>UMAP2=%{y}<extra></extra>",
         "legendgroup": "5",
         "marker": {
          "color": "#19d3f3",
          "symbol": "circle"
         },
         "mode": "markers",
         "name": "5",
         "showlegend": true,
         "type": "scattergl",
         "x": {
          "bdata": "6AGQQMX7QECfgV9AKKJwQM8iQkAXQlFAcQNUQKePa0BlLmpAarB1QBWaaUBzWkhALaFkQNaLQUDwkkJAMq5GQECVQkDrgj9AYVVHQGU1PkBTOkdAfblCQIHxREBgFVdA4/I7QDduQECdroBAqgZVQPnQdkA4HXlAY8iDQFwLhkBGwXRAFdJwQGb5fEBmhYRALNxwQMT1g0BPV0NA6DJuQOX/aEBJ92tAeVtyQOQUdECfdnJAd5pnQPsegEBvtHNAAkdeQEYqXEBd9mFA86ttQFuQhkCBXYdAgPuDQMcbfUAbGIdAmcqGQNVohUCOJoFAXtCHQNbdiEBinYJAUQ6DQEuLhkDfloBAzzRtQFl4aUCAxYVAc1dlQJDyZEBgHWVAOOqCQCzhgUBwJ4NAqCliQN/aZkCwYExAf31UQH8ES0DFv0VAP1BUQFlVY0Da7FFAq4xhQFXLUkBJ1UxAjXRXQNm+RkDkx1tABchJQIEbgEDOPYdA4zWGQENih0AojIFA7T6IQNgYiUAJIIRAUteFQGNzckBhZ4dAvY2IQH90gkAAWWtAbu9nQJXzgUDV7XRAzTptQN2FckCUi3JA39qBQK/eXUAHwXBAhs+EQEL1Z0A+WoFA8+GEQE6GhkC0AUJAM059QJAKWkDeQEVAHsqDQEuwZkBfdYNAquo+QGpZTEAWLklAJZ08QPdnhkAD0G9A/6eBQPeFdUAJpYBA7aRwQHkYgEBLqYNAUjeUQEt8c0CkgmpABPeFQGWAc0DYBoVARMSGQDWIh0C2wYZA6KqDQDdnhUA894dA+x+FQAmThEA7RIdAYFCIQO3ZhkB6gXhA8OVhQIgXZUBkW2ZAS/RkQN0hPEBMlWNAgc1BQC+sYkDF13VASAVmQEyfU0A/P2dAoJNpQDvCh0CVhoZADyqHQGL7gUDT439AO7V2QIKnhkBRzoZA5pOIQHm2h0COTohAriuHQM/0ikA=",
          "dtype": "f4"
         },
         "xaxis": "x",
         "y": {
          "bdata": "3fxNPyxQcUCn5mpAxvxRQGyFcEBf+2BA4QVjQKcHV0D6Q0RAVnlYQJA+Y0DhSXFAZk1EQIMDdEBDdnBAGJF2QKmYcEBss3RACEZyQKrfcUDsKnJA7TV1QGNuckC6a3BALZp4QKzidEDCaTRAKDZmQAuKQkA2Hj5Acl1CQN2YGUAipkhAtyJsQEaVQUA+mjdAWTZXQBk0OkDFmnNA3U5LQB9IWEBZEFJAdftBQHB5UEDuESxAwb5OQA/xPEB21k9AgoZRQBrpUECH321A62BRQNKnPEDYxyxAdXc0QAusQ0AOjyZAuIAtQIE+M0D/SDxA7fMrQIP8IEBhBDtAfyRCQJR1KkDrIFRADG5mQEfZb0CGH1NAIiV1QNpDcEBuRG9AbIBVQIDCVUBskFFA09drQIqPd0Cw1XdAwPxmQEPtckCrDnRA9QldQKySc0DJf2pAwEBuQNTXYUDjyWxAE39bQGMQdEB6Sl1ABKVzQDcOQEBxIh5A4SbSPxg4FkDndzZACpQRQOFYCkAONi9A64okQKIMTED1pxlAvbgNQEItL0AReWhAGwNgQKSZQkCvcWFAFbR2QI9vY0Ciq1JA1tpTQOX+cEDZ815APx9PQBFKcEBroVtAxttLQBTETkCIf3RACFtQQFqkWUBPd3BARqlTQJzQckAP1lBA/IZzQPuqcEBZK3dA71pzQOqWN0DcbUNAlT1VQONPTUA8HlZAo1RSQLqVTkBzU1JAG/heQXbaX0Bzn1dA9s1KQLK+TUBwsDJAAew0QOhhEEBevy5AUu0uQIQVNEA/diVArSwyQI4URUDzXSVA/JMHQFDeMUDkGEpAq4p5QC65e0Dy3HNAF6J6QBspdUAJ9XdASS51QAB8eEBSOWJA8RR4QF87ZkA7t3dAtHR7QDg5QUDo00hA/a1FQKJYUkD9jEhA2jBMQGWFRED3TkFAMzJFQClLNUBWD0RAnydGQBTLPEA=",
          "dtype": "f4"
         },
         "yaxis": "y"
        },
        {
         "hovertemplate": "label=6<br>UMAP1=%{x}<br>UMAP2=%{y}<extra></extra>",
         "legendgroup": "6",
         "marker": {
          "color": "#FF6692",
          "symbol": "circle"
         },
         "mode": "markers",
         "name": "6",
         "showlegend": true,
         "type": "scattergl",
         "x": {
          "bdata": "SL+RQOkrg0BZbZRAYOCKQF4IlEBMWIpAT0F7QBseh0ArVZFAc0GPQNkGlUB3U5ZAyZ6PQAYYiUBSQYhAHJiMQK+JiUCoQY5ApTyOQJnzi0A8jYxAB4CJQInri0Be1o9ASCGGQP61iEA03oZAV96IQFIKhkCqfIZAmgqEQFr3g0DPVXtAUPqGQAz5hEAFAYZAENKGQPLJh0DY+JFAvB2TQHpbj0D+g5FAB3qMQLYTjUA+3JNAXQePQAWpk0CKWIpAS2qMQG5Tj0BZ1x0+r2CUQN68jUCsO5NAOYeXQF9cmUA0oZdA4kGUQJVLj0A5wZZAr4mZQGhmlECyPpVA1NaYQJbVgEAq+4BA2fOCQEmJjEAYFYVA2VSGQNBnf0C3mIVArtiCQJDqekDObYVAXFKBQHmLgkARQJNAWfeSQAf3i0DCU4tALeiOQOmYj0AZM4tA78iSQMGJj0BH9YpApOOKQM3OjEAwp4lACjOIQMCEiUBGxoZAYhWIQHfOiEAk4YlARA+FQPLDh0DqT4ZAawOCQDAPh0AKJYZACCWKQH+7hUAy4YlAAE+GQH24hEDdtJFAaxCBQB5rgUAZZnZAqZx5QFVBdkBJ7HtAj6+VQB4zhEDuzoVAUZaXQOVNgED1rnZAe713QHCDgEBO9ZBAV9iNQA44hEDiWYBAe417QO8wjUBLL3RAHNh0QNB6fEB+5HNAcshzQPYrjUCO945AK9eKQP+Ti0DProRAv3pyQDdQg0BH3YRA+zV1QEiNh0DpFYhASsWFQJSZjECef4dAanqHQBuRh0B5RotAbeyLQMyyh0DC94dAncmIQHoqhUCDdIVAJdWJQLMzkEDuoYpAUfyGQBOHiUBoc4xA6zyGQJnHhkDGpIpAkmp9QFuDjUBgEpNACUCSQFLFjkCWl5JAY6WQQLmBkEDeKpVA7G2OQJ1ziEBQZpVAG0SSQOV2l0Dgh5FAoLaMQA==",
          "dtype": "f4"
         },
         "xaxis": "x",
         "y": {
          "bdata": "X9hVQSD0VkHZKFhBHvFUQVujWUHhc1hBrZVaQTAIZUGc8lVB4GdUQR//U0EOHlZB83hTQRWNZUHNPldBnXdYQcV9ZkE5BGNBgz5WQSPvYUEmPWRBJJBmQbVdVEG8KV5BwqtkQY8YZUEj3mBBwqllQZwIXEEHAmZBNJtiQQ19YEE1DVtBUWhWQdmmZUHBY1tBlO1jQawXXkFu6VpBJ+BZQRDvV0HiLVlB9vVcQezrV0G/QlpB2lJYQbaBWUGHx1ZB3h9XQX7xV0EGmgs/JzhaQbTDX0HWpF1Bni5cQXq1XEGj7l1BudpaQYJhYEFFYV1Bk9RbQXTEWkHxv1pBnG1cQc6/YEG/3GFB/YNiQTEYZUHI1WNBAixmQRt1XUEJf2ZBgzNiQSiPW0Ec1GVBE8xZQSERWUFP4mBBHAJjQUncV0EfqmVBwGRWQbnuV0GuJ2ZBzGthQT9tY0FPYVlBOYxdQVoRVEFWoGRBOpdlQe+cZkFfEWdB0g1hQS+sZkEeFWFBMVdjQfj/ZUG8VGVB/nxZQXe6X0FkCWVB7CxkQfbAZUHW4WVBaGBgQUijVUGDvllBdHleQXP3WEF5mFpB5BFbQSfLW0EVNVxBqARXQRu6YkEyiWZBSKpcQR8lWkF9QFpBcM5ZQZ1RWUGy81hBSHlXQWXmWkGgclpBmUdaQSRTWkFc0FlBTh1ZQXO/WUF1jlhBrz1ZQX5OV0FYS1dBrzZXQZ7BVkGWM1dBzDNZQbCkVkHZ6lZBT31ZQQz7ZUF+5WZB9b5mQe6FYEEkD2ZBWb1kQe08ZkFzV2NBjItlQTwjZEEEbF9BBI1gQV5QW0EzPVZBFrRUQR+RU0EzbFdBMipWQav4VUE74FNBR8JVQdmxVEGTa1RBk6BYQVAEU0FLoVRBW7xiQbahYUFYpGFBthFjQYgsYUFJzV1BE5ZjQbgMZkHanFpBnhRXQQulW0F3oFRBHlBjQQ==",
          "dtype": "f4"
         },
         "yaxis": "y"
        },
        {
         "hovertemplate": "label=7<br>UMAP1=%{x}<br>UMAP2=%{y}<extra></extra>",
         "legendgroup": "7",
         "marker": {
          "color": "#B6E880",
          "symbol": "circle"
         },
         "mode": "markers",
         "name": "7",
         "showlegend": true,
         "type": "scattergl",
         "x": {
          "bdata": "cdWTwDmkksBRx4PAQVCNwIMAocBQfIbA6GqSwE4nmsBYyoPA0WyQwGGykMBkppTAwp+OwDQRmcBUh5jA+9ugwFMvg8AHI4HAjWabwG2iosDcxKXAI92fwBl7i8DuaqHAeHGewKxpTsAX3J3A2YVJwNphncAuFX7AuuGDwEzZRsDk3I3Ay+OQwDlxnMD/F5vAqryPwKqVg8CwSUrAh4FNwES3RcBoDEfA0oRPwJWJSMCGD0XAiQxFwDe5X8C/+CjAOrlHwNj1ScBiDlzA1qCnwEsmn8AtTIHAWKSSwOw8m8BmE6bArrZ0wOwGo8DxJZ7AJKCbwK67nMCLUKbAAO2awCSUnMDC227AN4xAwL7GI8CQoErAF/iFwCXBg8BR6YLACA5BwFYlgsA9qYHAqbeAwJggncCGe4zAB0WdwMZ8m8B0JJ7A1daLwG0tn8Dag5XAEGqVwOEOiMC+Mp/AiLaZwJHBlcC6oKDA+raAwAVUiMDnRoDA8g2FwLtlc8BZSYfA+7p+wInOicAgJoDADSdOwAzjhcD2aYXA9l6LwCjehcDikIzALNaCwAESjcA1zYLACbF8wGKNo8CwzHjAMrSHwI10ZcCWdJrAOB1owKmgpMBzp4zARiGAwN9bpcBdG6HAXjOfwLGgo8Bj5KXA0+ylwPNhoMAxwaXAgTqHwI4oiMDlGajA2uuPwHUVlsASvYvA1uudwNDOlMDqBqXAXjOkwH1Ln8AYmY/A5YScwJ9gh8DRrZ7AxlJ4wFpyc8CEeXjAeXWHwB7UicDZfVfAnYB+wL78iMBurIjAf82HwBc9fcBaynnAcWd6wFgOqMD4kqbAKhefwNu/psCoDKbAriWnwLYRpMDBtqHA8PmowFxvmcC2QqLAx0o1QNrvncBZ/ovAxk+ewBa7gMBf+4PA3g2bwFUqlcCps5rAe6eZwDvolcDtW6PAztaOwOUxosA=",
          "dtype": "f4"
         },
         "xaxis": "x",
         "y": {
          "bdata": "4OZawJucaMByzEzAZhBgwCLdX8CWn1LARiRqwEplW8DHPFDAbzNuwP/HZsCp8GbAjQdmwJnacMBRfXHAC/l1wEO7TcCnKF/Ag+ZvwNObdMAbLmrALAN3wGZGT8AfbW/A6J11wMXYZMCihmjALGRmwCCibsBffVvASDxOwFbKZcA5IWzAccxswOtodcB673jAx8ZswN81WMDHLWXAEztjwHpKZcCy82TAdNRkwOEtZcCPTWbASUtmwCmGYsBxLjbAhL1kwCB5ZMCqn2HAJthowJS5W8DXw0zAk7JlwOsoWMDMdWXAwp1SwOpWX8Cc2lnAeNxuwKkfYMBNiWjAo6hWwCoqWsDep1PA3IdmwNpRb8Ar6U/A/qJNwDZ4TsCc/kvARQNowP/uSsBjXkrA3utKwAyAW8CZU2rA519pwCzib8D413PAaXJkwNobd8BpCG7AqmVtwEAZUMDE+HTADr11wJvYbcCMh2TAVnxlwLyWasDximXADf1twIgIYsAVq27AD/plwHyrZcChVGXA99FlwMsSa8B1tWbAo+9qwFMla8BEB23AR6RuwEK5a8C2Rm/AyFhvwE+GZcCHY2/AmmhwwOsvZMDwjHDACTBnwBLsY8A/vF7AvpBKwM/WZcCrPGDAaKJcwL5OX8AaE2fA1sNpwHgoY8CdhGTAUDdKwAj1S8DiDGzAFxxkwCHIZ8BZUmbAzWhgwPeTaMDqqmTAFhlgwEsIdcC5kmjAog5xwAy3UMCNaF7A7FhgwKksXcCIl2PAHqhkwMrPZcDd3V/A5atfwEsfZcBFQGnAh+dmwLS3Y8D2DVzAGG9fwFhAbcB1tmrAtHFxwM8Ub8Cr5W/A+7xwwH5rasAg33bAiTFuwIUgaMCgc3DAheZ3QHXpVcD4HlvAdx9YwNJ6YMAmCkzA3Bt0wEyIdsBm/HzA/6p5wE8jZcB4VWXAobtYwKzFd8A=",
          "dtype": "f4"
         },
         "yaxis": "y"
        },
        {
         "hovertemplate": "label=8<br>UMAP1=%{x}<br>UMAP2=%{y}<extra></extra>",
         "legendgroup": "8",
         "marker": {
          "color": "#FF97FF",
          "symbol": "circle"
         },
         "mode": "markers",
         "name": "8",
         "showlegend": true,
         "type": "scattergl",
         "x": {
          "bdata": "HU6NPxBu5j6lYx0/fTryPsJ/Pz+FtdA+t2r8PmmT7D4OPcA+bDlCPtU0Jz5fHE8+AQkWvzBsaD+pY5U/sCCXPnOOOz8tudK970NZPzPOZj6+1R0/StCMPqeW5j5vYes+ry8HP1klAz+vEuM/PfhKP0CzWz8ivoU/wrS1P+Xa7T+jJ9c/X8J9PykKrj8RSSZAJoXMP+F9RT/oY+E/eRZMPy2m6T+q0b0/TiqwPzN18z8T87Y//GvDP3O67z8DqI8/y6l7P4eByT8j+cA/8pvTPkSvIz/cfjQ/IScCPx93ID/q0iY/B7UXP+ZbGD8xLRk/+fXxPoS2FD9JyQ8/OlEDP4iPvD/M7IU/JA++P9mIpD8ZV68/3st+P/PU4T/E/2Q/0trwPjGV2z99Tr4+RfmqP/zraT8Jdaw/hPiMv/qCrz69p/Y/amz5P7Cv7z/BJA4/72ClP6hN8j+QOvE/+KmBQGp38T9cZ5s/EufBP/OuxD8pfrE/TgbJP06xvj+/Fuo/I1LXP14S8j+CwcI/sMj1P2opyT8lRlc/6OIeP0Z3iD8Ou5o/wn9NP8iSBz/LCaE/0XeGP8OPRT9ySLA/ySxuP3vmUD8RXoI/ke1IQHXf8z7wdQc/PFxXP95zGz/MnhM/UgJMP8oZGj/9wuk8FuOaPu8JMD+9LBU/yVgPP407JD+gwpE8YU0HP2sR2j66nMI+/4j6PjKHFj/JOA0/WXEgP+LBUz71BgE/+ZsSPxyL9z+ZA/Y/lcv4PxpF3z9CleI//uiev6A68T8tLe0/JbjtP9gs8D/z/OY/VB/qPx0U5j94giy/ojNVPqgHsj4OzQo/jcgOP9RZBD8r2d8+a9XDPihZvT7LXms/6LBqPwSxYz+oHac/lZ8/P3EUQD9jMWM/6AGzPpCXej8cc3I+zFRavXq8uj4u/Ys/",
          "dtype": "f4"
         },
         "xaxis": "x",
         "y": {
          "bdata": "kwn0Pu1ZLT9e5/s+VUk7P1LxEz8o2tg+p99sP8TMUD+rJAU/NennPvo0tD6/GUA/91IdP3bUDD8emyg/7Vi5PqRfCz//0x4/Hn2nPiiDPj8hoLI9YivFPg7orj681I8+Nl8FPdB8DT812Dk/U792P8FQWz9UUwM/q5kuP3n2LT9gGDg/8tgrP6+HPj8tjTc/6sEgP/BKZT/j1QY/ltIfPxq7Fz81OiI/UxUlP/wFET8t0Rw/IR4/P23JSz9U/iQ/BLkYP83v8z7kbx8/ayNJvrW5kr1Fduc89YHRvY8kpL09eM+9SAMSvlPdB75T9Ni82wIivlQBB76dhh++J0oTvr+yRj/twEc/VGs2P2ZfZD8KoFE/dM9tPycJQD8uRWI/e9kRP93IND97bnA/3dMoP4r6Wj+++qQ/XaHfv2W+JT/kHEA/ZiwVPw6f9D6nPuA+coSaPwZg6z4dFAE/+7z+PV1ZDz9ya5o/lnAxP4ioOj+/UDY/knQ/P2JGIT8rAU4/5u83P/f5LT8lryg/ICk2P8OYPD/7wHQ/sadSP01XEz/PMiU/1BS/PqJmZT9xABQ/tHkXP5utfz+wVCU/Jk/uPhtUIj9+MRc/9WzFPoyEcD842EM/U2CEPzCuQj8PUJU/tPaEP4U7QD9VmT5AOXFHP9RXIz+iizI/2Mk8PzuuSz9AYj1A0K4xPxLt6j6ifQY/FBNWPzRnQT9KdDE/RIwHP+2WJD863Gw//gMxP85OKj+6pyo/AS1APwL0FT8X/gM/sqzovzdzCD+4RQc/lYH/Pvc6AT+2zBg/gazSPoK0+z4e0mo9K09jP2TrSD4egrA9YfJLPz5U3D1C6WY+31KoPvyQeD4o4vA+TINSPyTf1j5dexY/Bll3P07SfD9yD+A+aVPyPhym2j7j0gI/13jOPvLHrj5FPto+",
          "dtype": "f4"
         },
         "yaxis": "y"
        },
        {
         "hovertemplate": "label=9<br>UMAP1=%{x}<br>UMAP2=%{y}<extra></extra>",
         "legendgroup": "9",
         "marker": {
          "color": "#FECB52",
          "symbol": "circle"
         },
         "mode": "markers",
         "name": "9",
         "showlegend": true,
         "type": "scattergl",
         "x": {
          "bdata": "XjiOQC2Dh0BpNIdA3BaGQAN4gED0gZNAEWTmPkXzjUAJ8ZdAEfCIQENliEAQcI9AmBKaQHpjjkAQ0pBAzbyOQDrijkDXPI5AGluKQAzXjkDAxpJAU2CWQIjLjkCgQY5AcUWNQONjKsCE+ivA5B+XQBiLiEDl05dAt0GKQJhnLMAfuCzA5a8swIHHLcDP5QfAT50FwLpdK8CPeplAn8+LQDh/jkB+v4xAHweMQOLYkECr25BAh9eNQFJ3jUAxdYtAsQ6OQHWWnECDLI9AcvaEQHVolUCi14BAIRV6P1yNmkAHWnZAQLScQGxxj0CowYFA15x5QFBli0Dq9plA43yMQPZ0EcAdJgLAl40CwLGx/7+mwvq/FdQAwMh5AcCWjMa/KHX8v/iMA8BBHhDAfZULwO+yBMAJx4tAmH+TQB4AjUAzy5lASCNLQE6nm0DZAI1AM6SSQL7qmEDrE49AiyCaQKPSmkCUR5lA+0uFQL9niUDrPIdAzlCVQE1MiUC6wIZAZVqHQNLLgkCFhIVAGT2IQBQ8lUAHH4FAEciJQAsOeUDfWoFApNOEQMvZlUDMaYBAi5yXQCc0gEBf9Vc/jAeAQPE+jkDALIpAe/N8QNwqjkDvqItA2aNzQC0Tj0BYuZJAFmGXQIhsjUBkWY9ASqOVQBYfjkBxxZdA24GXQPeqlkBfeZdALzGNQKuOjkCXQI9AwSKaQH2hk0Cj64dAnmaKQKIekUCci5NAnyeZQKx1mEDKM59Arp+RQOQrmUAPWpBAUnGUQAYymUCQBJVAKXKMQMrwkUBV25hAoQaPQGIYk0AP2J5AnAKbQDHaAcBYbQnApDZFwB4jB8CiPSPAonxiQM1BB8CTr4lAS+krwCVvjUDEdkpAUehkQFVZLMAtsItAP7SRQDrYi0A7o5NAC6SYQJn8l0C64pJAGMeSQGFtlUAwVpNAfqeQQJL4lEDcLItA",
          "dtype": "f4"
         },
         "xaxis": "x",
         "y": {
          "bdata": "w6RwP1nIVD9/H0I/BplJP7ioPj9446E/ebuQP+XsPz+P940/q8hGP6yMVT/jK5w/j9dhP12TWT8r3lo/IeJLP+UyPD+jXEo/oFdaP7AHUD/uDJU/P1CrP+BsRz+thpc/lgSQP+MdOMBJNznARuCYPwV4Tj91B7c/c6e2P+lWOMBUfDnAmLA5wPd+OcB9Yy/Alf4twPwLOcBeN2k/gXNbP+gxXT+W5I8/hkCSPzdLqT89yaw/ADWTP+VLhD9yXJA/RiyOPw86cD+JMpE/TQ60P8I8jT/Fma8/pVwWP+IpcT+rG6U/qneJP+yqxT8a+64/oP+tP6iZpD+GkpQ/OUxcP1pxZMAyDCzAmwwtwBfYKsCXdyfA2s8qwM6FK8ChyxHAry4pwD66McDXQ0PAghxVwOxdLsAmenU/6ilWP1bwVT8hmV4/e0ljP6rpez/esVo/2IqQP0T3Zj/kCFM/SuFnP7JCbz/+yWQ/tCCTP0gOsz8H/Ko/UuylPyF4pT/x1pk/nNSOPzIxlj98SY4/Qv2/P4hNmz+farM/nWy3PyQ5TTvaq6k/ZsTuP3j1tD8U9Z8/w4G4PwwjrT+eHok/31KcP23qiD+j1nc/mwSdP7D1mT8JNas/HH5ZQaUgoT+6w7E/wlenP+MYyD8/TFM/OV6lP0lOwz/yzqg/6qipP7cLkD9vO7k//hKtPxhXxj+rC8A/dK6TP4E0gz/90MM/8UpgP7/Qpj+EnYQ/rF+dP/pZqj/SRIk/8m2oP3Ibhj9aBq8/JhGmP3gKkD+eA6M/fUGoP1rmrD+PVY4/17yyP9+ZqD9n6Hg/zzaKP6jiK8CvzTDAPQxlwJBBMMABwTTAnFh2QE5zLsDRkmI/5Nw4wFHdSz/FErq+HHt6QLFKOcDRqrI/5wWlP7YSaj8f8YQ//ySWP8ydoD8fiqI/50eDPwpjij9fKqI/iL9IP5wYfj8ON2s/",
          "dtype": "f4"
         },
         "yaxis": "y"
        }
       ],
       "layout": {
        "legend": {
         "title": {
          "text": "label"
         },
         "tracegroupgap": 0
        },
        "template": {
         "data": {
          "bar": [
           {
            "error_x": {
             "color": "#2a3f5f"
            },
            "error_y": {
             "color": "#2a3f5f"
            },
            "marker": {
             "line": {
              "color": "#E5ECF6",
              "width": 0.5
             },
             "pattern": {
              "fillmode": "overlay",
              "size": 10,
              "solidity": 0.2
             }
            },
            "type": "bar"
           }
          ],
          "barpolar": [
           {
            "marker": {
             "line": {
              "color": "#E5ECF6",
              "width": 0.5
             },
             "pattern": {
              "fillmode": "overlay",
              "size": 10,
              "solidity": 0.2
             }
            },
            "type": "barpolar"
           }
          ],
          "carpet": [
           {
            "aaxis": {
             "endlinecolor": "#2a3f5f",
             "gridcolor": "white",
             "linecolor": "white",
             "minorgridcolor": "white",
             "startlinecolor": "#2a3f5f"
            },
            "baxis": {
             "endlinecolor": "#2a3f5f",
             "gridcolor": "white",
             "linecolor": "white",
             "minorgridcolor": "white",
             "startlinecolor": "#2a3f5f"
            },
            "type": "carpet"
           }
          ],
          "choropleth": [
           {
            "colorbar": {
             "outlinewidth": 0,
             "ticks": ""
            },
            "type": "choropleth"
           }
          ],
          "contour": [
           {
            "colorbar": {
             "outlinewidth": 0,
             "ticks": ""
            },
            "colorscale": [
             [
              0,
              "#0d0887"
             ],
             [
              0.1111111111111111,
              "#46039f"
             ],
             [
              0.2222222222222222,
              "#7201a8"
             ],
             [
              0.3333333333333333,
              "#9c179e"
             ],
             [
              0.4444444444444444,
              "#bd3786"
             ],
             [
              0.5555555555555556,
              "#d8576b"
             ],
             [
              0.6666666666666666,
              "#ed7953"
             ],
             [
              0.7777777777777778,
              "#fb9f3a"
             ],
             [
              0.8888888888888888,
              "#fdca26"
             ],
             [
              1,
              "#f0f921"
             ]
            ],
            "type": "contour"
           }
          ],
          "contourcarpet": [
           {
            "colorbar": {
             "outlinewidth": 0,
             "ticks": ""
            },
            "type": "contourcarpet"
           }
          ],
          "heatmap": [
           {
            "colorbar": {
             "outlinewidth": 0,
             "ticks": ""
            },
            "colorscale": [
             [
              0,
              "#0d0887"
             ],
             [
              0.1111111111111111,
              "#46039f"
             ],
             [
              0.2222222222222222,
              "#7201a8"
             ],
             [
              0.3333333333333333,
              "#9c179e"
             ],
             [
              0.4444444444444444,
              "#bd3786"
             ],
             [
              0.5555555555555556,
              "#d8576b"
             ],
             [
              0.6666666666666666,
              "#ed7953"
             ],
             [
              0.7777777777777778,
              "#fb9f3a"
             ],
             [
              0.8888888888888888,
              "#fdca26"
             ],
             [
              1,
              "#f0f921"
             ]
            ],
            "type": "heatmap"
           }
          ],
          "histogram": [
           {
            "marker": {
             "pattern": {
              "fillmode": "overlay",
              "size": 10,
              "solidity": 0.2
             }
            },
            "type": "histogram"
           }
          ],
          "histogram2d": [
           {
            "colorbar": {
             "outlinewidth": 0,
             "ticks": ""
            },
            "colorscale": [
             [
              0,
              "#0d0887"
             ],
             [
              0.1111111111111111,
              "#46039f"
             ],
             [
              0.2222222222222222,
              "#7201a8"
             ],
             [
              0.3333333333333333,
              "#9c179e"
             ],
             [
              0.4444444444444444,
              "#bd3786"
             ],
             [
              0.5555555555555556,
              "#d8576b"
             ],
             [
              0.6666666666666666,
              "#ed7953"
             ],
             [
              0.7777777777777778,
              "#fb9f3a"
             ],
             [
              0.8888888888888888,
              "#fdca26"
             ],
             [
              1,
              "#f0f921"
             ]
            ],
            "type": "histogram2d"
           }
          ],
          "histogram2dcontour": [
           {
            "colorbar": {
             "outlinewidth": 0,
             "ticks": ""
            },
            "colorscale": [
             [
              0,
              "#0d0887"
             ],
             [
              0.1111111111111111,
              "#46039f"
             ],
             [
              0.2222222222222222,
              "#7201a8"
             ],
             [
              0.3333333333333333,
              "#9c179e"
             ],
             [
              0.4444444444444444,
              "#bd3786"
             ],
             [
              0.5555555555555556,
              "#d8576b"
             ],
             [
              0.6666666666666666,
              "#ed7953"
             ],
             [
              0.7777777777777778,
              "#fb9f3a"
             ],
             [
              0.8888888888888888,
              "#fdca26"
             ],
             [
              1,
              "#f0f921"
             ]
            ],
            "type": "histogram2dcontour"
           }
          ],
          "mesh3d": [
           {
            "colorbar": {
             "outlinewidth": 0,
             "ticks": ""
            },
            "type": "mesh3d"
           }
          ],
          "parcoords": [
           {
            "line": {
             "colorbar": {
              "outlinewidth": 0,
              "ticks": ""
             }
            },
            "type": "parcoords"
           }
          ],
          "pie": [
           {
            "automargin": true,
            "type": "pie"
           }
          ],
          "scatter": [
           {
            "fillpattern": {
             "fillmode": "overlay",
             "size": 10,
             "solidity": 0.2
            },
            "type": "scatter"
           }
          ],
          "scatter3d": [
           {
            "line": {
             "colorbar": {
              "outlinewidth": 0,
              "ticks": ""
             }
            },
            "marker": {
             "colorbar": {
              "outlinewidth": 0,
              "ticks": ""
             }
            },
            "type": "scatter3d"
           }
          ],
          "scattercarpet": [
           {
            "marker": {
             "colorbar": {
              "outlinewidth": 0,
              "ticks": ""
             }
            },
            "type": "scattercarpet"
           }
          ],
          "scattergeo": [
           {
            "marker": {
             "colorbar": {
              "outlinewidth": 0,
              "ticks": ""
             }
            },
            "type": "scattergeo"
           }
          ],
          "scattergl": [
           {
            "marker": {
             "colorbar": {
              "outlinewidth": 0,
              "ticks": ""
             }
            },
            "type": "scattergl"
           }
          ],
          "scattermap": [
           {
            "marker": {
             "colorbar": {
              "outlinewidth": 0,
              "ticks": ""
             }
            },
            "type": "scattermap"
           }
          ],
          "scattermapbox": [
           {
            "marker": {
             "colorbar": {
              "outlinewidth": 0,
              "ticks": ""
             }
            },
            "type": "scattermapbox"
           }
          ],
          "scatterpolar": [
           {
            "marker": {
             "colorbar": {
              "outlinewidth": 0,
              "ticks": ""
             }
            },
            "type": "scatterpolar"
           }
          ],
          "scatterpolargl": [
           {
            "marker": {
             "colorbar": {
              "outlinewidth": 0,
              "ticks": ""
             }
            },
            "type": "scatterpolargl"
           }
          ],
          "scatterternary": [
           {
            "marker": {
             "colorbar": {
              "outlinewidth": 0,
              "ticks": ""
             }
            },
            "type": "scatterternary"
           }
          ],
          "surface": [
           {
            "colorbar": {
             "outlinewidth": 0,
             "ticks": ""
            },
            "colorscale": [
             [
              0,
              "#0d0887"
             ],
             [
              0.1111111111111111,
              "#46039f"
             ],
             [
              0.2222222222222222,
              "#7201a8"
             ],
             [
              0.3333333333333333,
              "#9c179e"
             ],
             [
              0.4444444444444444,
              "#bd3786"
             ],
             [
              0.5555555555555556,
              "#d8576b"
             ],
             [
              0.6666666666666666,
              "#ed7953"
             ],
             [
              0.7777777777777778,
              "#fb9f3a"
             ],
             [
              0.8888888888888888,
              "#fdca26"
             ],
             [
              1,
              "#f0f921"
             ]
            ],
            "type": "surface"
           }
          ],
          "table": [
           {
            "cells": {
             "fill": {
              "color": "#EBF0F8"
             },
             "line": {
              "color": "white"
             }
            },
            "header": {
             "fill": {
              "color": "#C8D4E3"
             },
             "line": {
              "color": "white"
             }
            },
            "type": "table"
           }
          ]
         },
         "layout": {
          "annotationdefaults": {
           "arrowcolor": "#2a3f5f",
           "arrowhead": 0,
           "arrowwidth": 1
          },
          "autotypenumbers": "strict",
          "coloraxis": {
           "colorbar": {
            "outlinewidth": 0,
            "ticks": ""
           }
          },
          "colorscale": {
           "diverging": [
            [
             0,
             "#8e0152"
            ],
            [
             0.1,
             "#c51b7d"
            ],
            [
             0.2,
             "#de77ae"
            ],
            [
             0.3,
             "#f1b6da"
            ],
            [
             0.4,
             "#fde0ef"
            ],
            [
             0.5,
             "#f7f7f7"
            ],
            [
             0.6,
             "#e6f5d0"
            ],
            [
             0.7,
             "#b8e186"
            ],
            [
             0.8,
             "#7fbc41"
            ],
            [
             0.9,
             "#4d9221"
            ],
            [
             1,
             "#276419"
            ]
           ],
           "sequential": [
            [
             0,
             "#0d0887"
            ],
            [
             0.1111111111111111,
             "#46039f"
            ],
            [
             0.2222222222222222,
             "#7201a8"
            ],
            [
             0.3333333333333333,
             "#9c179e"
            ],
            [
             0.4444444444444444,
             "#bd3786"
            ],
            [
             0.5555555555555556,
             "#d8576b"
            ],
            [
             0.6666666666666666,
             "#ed7953"
            ],
            [
             0.7777777777777778,
             "#fb9f3a"
            ],
            [
             0.8888888888888888,
             "#fdca26"
            ],
            [
             1,
             "#f0f921"
            ]
           ],
           "sequentialminus": [
            [
             0,
             "#0d0887"
            ],
            [
             0.1111111111111111,
             "#46039f"
            ],
            [
             0.2222222222222222,
             "#7201a8"
            ],
            [
             0.3333333333333333,
             "#9c179e"
            ],
            [
             0.4444444444444444,
             "#bd3786"
            ],
            [
             0.5555555555555556,
             "#d8576b"
            ],
            [
             0.6666666666666666,
             "#ed7953"
            ],
            [
             0.7777777777777778,
             "#fb9f3a"
            ],
            [
             0.8888888888888888,
             "#fdca26"
            ],
            [
             1,
             "#f0f921"
            ]
           ]
          },
          "colorway": [
           "#636efa",
           "#EF553B",
           "#00cc96",
           "#ab63fa",
           "#FFA15A",
           "#19d3f3",
           "#FF6692",
           "#B6E880",
           "#FF97FF",
           "#FECB52"
          ],
          "font": {
           "color": "#2a3f5f"
          },
          "geo": {
           "bgcolor": "white",
           "lakecolor": "white",
           "landcolor": "#E5ECF6",
           "showlakes": true,
           "showland": true,
           "subunitcolor": "white"
          },
          "hoverlabel": {
           "align": "left"
          },
          "hovermode": "closest",
          "mapbox": {
           "style": "light"
          },
          "paper_bgcolor": "white",
          "plot_bgcolor": "#E5ECF6",
          "polar": {
           "angularaxis": {
            "gridcolor": "white",
            "linecolor": "white",
            "ticks": ""
           },
           "bgcolor": "#E5ECF6",
           "radialaxis": {
            "gridcolor": "white",
            "linecolor": "white",
            "ticks": ""
           }
          },
          "scene": {
           "xaxis": {
            "backgroundcolor": "#E5ECF6",
            "gridcolor": "white",
            "gridwidth": 2,
            "linecolor": "white",
            "showbackground": true,
            "ticks": "",
            "zerolinecolor": "white"
           },
           "yaxis": {
            "backgroundcolor": "#E5ECF6",
            "gridcolor": "white",
            "gridwidth": 2,
            "linecolor": "white",
            "showbackground": true,
            "ticks": "",
            "zerolinecolor": "white"
           },
           "zaxis": {
            "backgroundcolor": "#E5ECF6",
            "gridcolor": "white",
            "gridwidth": 2,
            "linecolor": "white",
            "showbackground": true,
            "ticks": "",
            "zerolinecolor": "white"
           }
          },
          "shapedefaults": {
           "line": {
            "color": "#2a3f5f"
           }
          },
          "ternary": {
           "aaxis": {
            "gridcolor": "white",
            "linecolor": "white",
            "ticks": ""
           },
           "baxis": {
            "gridcolor": "white",
            "linecolor": "white",
            "ticks": ""
           },
           "bgcolor": "#E5ECF6",
           "caxis": {
            "gridcolor": "white",
            "linecolor": "white",
            "ticks": ""
           }
          },
          "title": {
           "x": 0.05
          },
          "xaxis": {
           "automargin": true,
           "gridcolor": "white",
           "linecolor": "white",
           "ticks": "",
           "title": {
            "standoff": 15
           },
           "zerolinecolor": "white",
           "zerolinewidth": 2
          },
          "yaxis": {
           "automargin": true,
           "gridcolor": "white",
           "linecolor": "white",
           "ticks": "",
           "title": {
            "standoff": 15
           },
           "zerolinecolor": "white",
           "zerolinewidth": 2
          }
         }
        },
        "title": {
         "text": "Visualización del Dataset Digits con UMAP (50)"
        },
        "xaxis": {
         "anchor": "y",
         "domain": [
          0,
          1
         ],
         "title": {
          "text": "UMAP1"
         }
        },
        "yaxis": {
         "anchor": "x",
         "domain": [
          0,
          1
         ],
         "title": {
          "text": "UMAP2"
         }
        }
       }
      }
     },
     "metadata": {},
     "output_type": "display_data"
    }
   ],
   "source": [
    "# Aplicamos UMAP. n_neighbors y min_dist son hiperparámetros clave.\n",
    "reducer_5 = umap.UMAP(n_neighbors=5, min_dist=0.0, n_components=2)\n",
    "X_umap_5 = reducer_5.fit_transform(X_scaled)\n",
    "\n",
    "# Creamos el DataFrame para Plotly\n",
    "df_umap_5 = pd.DataFrame(data=X_umap_5, columns=['UMAP1', 'UMAP2'])\n",
    "df_umap_5['label'] = y.astype(str)\n",
    "\n",
    "# Visualizamos\n",
    "fig = px.scatter(df_umap_5, x='UMAP1', y='UMAP2', color='label',\n",
    "                 title='Visualización del Dataset Digits con UMAP (5)',\n",
    "                 labels={'color': 'Dígito'})\n",
    "fig.show()\n",
    "\n",
    "# ---------------------------------------------------------------------\n",
    "\n",
    "# Aplicamos UMAP. n_neighbors y min_dist son hiperparámetros clave.\n",
    "reducer_50 = umap.UMAP(n_neighbors=50, min_dist=0.0, n_components=2)\n",
    "X_umap_50 = reducer_50.fit_transform(X_scaled)\n",
    "\n",
    "# Creamos el DataFrame para Plotly\n",
    "df_umap_50 = pd.DataFrame(data=X_umap_50, columns=['UMAP1', 'UMAP2'])\n",
    "df_umap_50['label'] = y.astype(str)\n",
    "\n",
    "# Visualizamos\n",
    "fig = px.scatter(df_umap_50, x='UMAP1', y='UMAP2', color='label',\n",
    "                 title='Visualización del Dataset Digits con UMAP (50)',\n",
    "                 labels={'color': 'Dígito'})\n",
    "fig.show()\n"
   ]
  },
  {
   "cell_type": "markdown",
   "metadata": {},
   "source": [
    "**Análisis de UMAP**: si bien los clústers se diferencian bien (o se agrupan bien), creo que en la medida que n_neighbors crece, los clústers se acercan más. En algunos casos se superponen. "
   ]
  },
  {
   "cell_type": "markdown",
   "metadata": {},
   "source": [
    "-------------\n",
    "\n",
    "##### 4.  **Visualización 3D:** Adapta el código de PCA, t-SNE y UMAP para reducir los datos a 3 componentes (`n_components=3`). Utiliza `plotly.express.scatter_3d` para crear visualizaciones tridimensionales. ¿Añade la tercera dimensión una mejor perspectiva?"
   ]
  },
  {
   "cell_type": "code",
   "execution_count": 20,
   "metadata": {},
   "outputs": [
    {
     "data": {
      "application/vnd.plotly.v1+json": {
       "config": {
        "plotlyServerURL": "https://plot.ly"
       },
       "data": [
        {
         "hovertemplate": "label=0<br>PC1=%{x}<br>PC2=%{y}<br>PC3=%{z}<extra></extra>",
         "legendgroup": "0",
         "marker": {
          "color": "#636efa",
          "symbol": "circle"
         },
         "mode": "markers",
         "name": "0",
         "scene": "scene",
         "showlegend": true,
         "type": "scatter3d",
         "x": {
          "bdata": "G4g0gJ6g/r8osNAmswcLwJskWW/kAwDAAyDNEDqA+L9TYSzm5NX7v7HvJop2kPm/iT9vC0I+979HmHHPnEgGwGmcpu8k3vW/phIdnQ8Ypb+ln6A1T+3nv+OUPJ/xtP6/krZOWlkV/b8nD9+aPvL1v37zmf0G1v2/W1WMbiJT8r/lD5WcgdsGwPII/Xzd5/2/Q1cS7rCY9b8A4Y4gefwFwPcU8EE0bQXAhfomEtfW+b9m8RRDpnAMwKlYgOer3QPAungCXAmq979KJKDLgwMCwBtUfTWLwQXAKbqppJ5s/79pOZUmN8fzv1cp7Te63QPARVuhSqTv87+I8hw/v7v2v/fqVZ9xqPW/IwrT+cmb+b9liyjbNx71v5eMrGXOGQXAe+qwMaXG8L9CeiRzLPT3vyMyuUcIz/S/v9IKqf5Ksb8JSvCr1HX8v4/tQDT6MP6/CReC040cBcAujr8LK7/tv8gM8E0Xyfm/euLbXL50/782vZpzPBHnv/mcjoiWpv6/xT+VhEsq/787iimUZkjev0s8RzaTcfq/JbUdENALAcCYGF6jQezyv1iE24yDGQHAj4VM4F258b+3hW9CIcD6v3plnwo1Sum/pbjqe4lh9L9L6szNK9jzv5eZJmjGUgnAalPuq7mi+L/KPnjycgvlvxpBqh/huPS/1uVSdMqe7b9jEDrZR835v51OSEuNXALAfcEn6gqc9r8NmIUSGnAHwAWaaShK/v+/MyINdU15/L+V9UVoFGcHwPtD2vOhJva/AyFuC9s9D8BEos/Bo+EKwIJqv1QDnAPAt2NVNEgn/b+5re2qch76v5cabW3E4AHAVCBQKgEq+L8a0zObaHf5v7dqfzMctwHAdmiRy3NhAsCAUdRnZN4CwOi/eBjM1QDAb+i9J1yKCcBtX2TsfGf/v8J+sOEAhgXA3cgjl8VfCsAKHwm5d9Xwv2/zInQyVfG/DtXdEPd1B8C69t7jUNrovyrs2NBOdd+/TfSVGFoo87+3uT9Mo0Tnv0HABOqvSfW/rbrYiUoi2j+BJwydchzwvygP4MRvF4S/MTlJ0IFS4r+OraJvklDhPx3vMSbXrv2/6yfJfjY3+r+qFq/EPvXgvwJvqN1um8G/b014SMx2AMDlkpdQz136vwIadGufLOU/knM0xsiF6b/WKEyOxmvmv2KzNlhSmALAcVCYs09Y9b+JNYW2YaD1v9R7KJMzofG/3cvjWqiv8b9e0HugNgQCwBVW96V5tv+/pqz7s2rv5r/BNkaDQ6gEwHZJ21WOCOm/FOQ6rEMYAMCe4qh+F47xvyfTq/enCAHA7n9nIBsO779rC+WcEDj2v3fLRU6rM/O/VxTOkAi88r851cHrgojyvw0HISst9wXAg63g/AIyAMD6FdHq8q3vv1dPq5O8egHA367uEHO4BMBGWFH0E+gEwLxwXFcQvve/5RLK22nvAMDh9qCaTUvxv/bWkK9gzem/99e9eyp7/L/NAMVQqLUDwFY65NaS4uG/YUDnvyfi5L9GEXmUXNz3vxIfKPH6ZfG/deHLKxjx87+lGd1hLSP6v+4zYe5i4uy/n48fAjV1479yAmUb7nLxv4PPLc3VyuW/mL/9Cg6l/L+qR+rOLdPuvxDjML/vgvW/i6v0y3wSBcANp2l/zaf/vzdO7gIWxPq/La1mr8vWBsDseAYSp/P2v2DsVwJPAQHANoFTMRNe7b+pWrorHpQCwLc1isRHUArAKfvr1lw7AsCla4baMd4JwOFeDzgheAHAwERckJZ06b9nW2dOROnnv8kHjF+krPO/Db9dmG2P879hbfSIyFkHwJhuHCxAD/W/KRR4caez/b+5J+c4i4v8vyOZppZLlPa/b/jI/7z/9b+kBGKMdLzWvzs4fNMAJfC/tsOCsshiA8A=",
          "dtype": "f8"
         },
         "y": {
          "bdata": "Iu6+4EaL7r973pPaqrrfv/TrtieuHfW/7JhTHgWP+7+XyGZT6Drbv1F861259wXA03GDHb+8B8CupaMRi8Xyv4mkfxW6egPAF9dBweOdCsDB0SaOOVcIwEMDdyQYSQ7A9z1Yphl4BcBGkEpjF3YEwNBrBKchbPm/AX431GLSDcC+CWYS18/2v8s8YydSqPm/A98lS5QOCMB1+aP0Q/P9vyl84ZNU+wbAKHO+UW70BsCh06R7mEIBwPoRdHxU3wzA7pq8z+KVBcBbEUcpvAwHwEA+2CRTbey/CZMCW+8yAsBzXiRYbRj2v3qO7VMkace/fgpQOkPGzb/zGg19kk8EwBsy1L5IRgPAEr+N3/tU/L+greIjwxz7vxKGq9cqqPq/R2GfDvQx9L8pW+BQIcUHwOF40PJDHgnAepTFl3H2CMCPTG3i1H8BwMYI6QtI0gPAGqNuj+hS8b8B8lgywmoAwJmVMAW7iArAq9S69nUcAsC6l4+agCQEwOZwvfsA1Oa/yBIiQMVl/b+Xs2aXnDEQwPmMAL5/+wbAxD13tR+v+r+/KlzCl0n2v/eafkXvmvm/S1U9QDBZ078uE15kpdfvv4/9FhTS1QHADfH/YlDnAcBr166r02ALwHsSY/eQ+N+/5jzSW6s5/b94Tul3dkLjv4La9eU41ey/Van80rSd0T+b3DeXjUX3v7TL6WZcI/6/Rgw7VJeWxT9ED16O80T9v3Saj85qPvW/cQ1oyDOcAsBV8dW0O6wDwKPrZ0XBb9m/YuhesCl84L8qWLeVE8L4v8hDs3VCO+2/mVtLE1O8A8DE4Kmm0L0DwI2XEQXL//G/dANvfm4x8L/xN0/WaXv9v4nzwcbCt+a/A4u7ogHdA8BWLovfp038vwuGdJohDf2/rVOCSIeZ0r+DwdfgNhjuv7YgpV2Syfm/yZVxrS0g2b+1qRSqgIL+v3pXX2uOwfi/aBeT+o91+79OKMel1l0CwH9pKIUX1/+/GJ1IoyvvAcCsHqWROvH7v1NlqiY6zQHAQaIhPjzIAMDiNnpbz2/xv3sIGutnZgnAHInHCqEX/b+eSdasKy4AwORw+MrHvfe/DQB+MzLyBsA0/c0MuI0MwM6uWfjZFAbA3UWsivi/DMDHIJ6yRfgKwHPqCDSIGg3ArEFU0mWuBsAY3bOW00D/v1PPMM2ZRwvAo8ZR58RrEMDeiORnHLz5v4T+TaHm+QrAFkR0yCoC/L+8cGc1UPbuv/KzOrgDvfa/dMNPT7htvj+yFeBUfT/kv9bbP08Bwua/5drloXLU0r/ryH/84zbfv06+Yw8Zm5u/lbFV6p923z8pEn1lMeyhPwS1M4JV7/+/mVAdBUT/8j9dAdtm71EKwPPYEDFCeQPA1SRl5F6sC8C+uNeHkekNwOgyliOk7uy/qNf8ehVUB8Ai48V/G6sEwAD4Uc7ioPq/kPEQVRN39L9dTj+op8D4v13uhEzHqwXAMbLikxdBBcDKC2tI7KH5v2Al7nsqafm/n9rOLjAu/L+owETLGTL5v32N7prDnAXAFUq2nxpiBcAVXie7h1QCwAX4w6kZdwHARzT+h+tzDMDnYQYHMFMDwDrqr95oFQzAdiE1LwHz+79ZNkPB64oIwOpt+xi3Yvm/36ZqgsArA8Ddl0yhp1YEwP7+tbifePu/m3BnCTtW4b+6mzxAKzYGwJ+6qtpPPwDAP+qoQyWU1r89QAPSn+wHwKQboxZ7gAPAVwKJNXypCMCCzeYR3P79v6BNCBe5NPG/C5yFj5vJA8BCLGb1VSkGwLWk9m0DvAjA+Y67YwwLAsC+8mvAXAQCwNSl7ZCnmf+/H1KlJwsSAcB4wvMLOEf1vwptdPqL8/u/uj8M0deo97/cJpA/kY0CwBvoLQSEmwrAdWrtQq/f9r8=",
          "dtype": "f8"
         },
         "z": {
          "bdata": "tGI5tHqRD8BgGiUgRj8CwJ5lfeRNkQTA3HpA6SWsEcCLNOQr3VECwJvOmrTf/AHAd9nVb/iTAsBMyLQidUH7v66FtrUXZAHARVZ4eeDJB8DeK87Sm6YKwMTT6yb5Xve/OKKcv8a1AMDHydyzjOAHwF7ul9JjgwbAtA0gABN3/7/Jf0bqEhAKwPgudkmjYQzAndh9grv0CsAo3DZr2TDxvx92mEGZOwPALRlQlPvqB8BiYeYRyg/3vwCa3l67jfe/h/p4b7cSDsAQ2Ixy7/cDwD0ozIul/wXAlM7jlfLxBcCLaa4VYC8HwMmZhwDuWwjAEwdx8XEVD8BBrobxPzECwJlhx8f6rAzAeSZt92r0CcAZI7X+FPoEwD51rvtwIw3A1vTn/Uw7A8C7mX997M4BwD0lUpFd+gTAy8pu7+kiDsBwjYRCg7YQwA5xy+AROgjA/e8M6EaQAsCNW4xecisNwOne8KxBowvA35Gj/6flBMA/EDrD6NARwNarDCREigvANcS4ecPWEMAxhr0LTo0IwNjFnXvTAATAbw5u/5X7DMBuePgRYyUPwEyGgQvKEAvASvNEadsGEcDmohJndGsNwIi9JAaIBRHA/qNq8/JPC8C/El9GjcYUwOxfK0zhIgrAOS/u28qA/788hOhy6WAQwGFq6y7sLgrATNWcw9gvE8CSZlQ11ewRwIDQRzOhgg3AgEQ9GbatAsC7ZrMhCAIKwG9WESFFIwHAQUCb2KBwDsCtrrcZslEDwEM2Y7bPmgDA3CLbFKQ76L+QjGaHK4IDwEAzLjNqvQbAK1GbN84ABsBPqcTfzwMGwMNv02xI7gLAextVqaX0DsCoGmtX+ccVwBy0wcjUKQXAtb6kdhWVC8BgcenBg9cKwLlpmvvhjwPA1gK1OXqxBsAv1VdRKLgOwCqzsvXI6AXAnneCgLRj+7+ePDaBwYcNwNUbRB126g/AWt1q5MghBcBEW6wlb1sQwI7UT6d0Lw7ARl2cKwCLC8BleCgaEIIRwE+1YXc3qQ7ANhIJobdaE8D3Fc+lNN8OwDPCy8jiPgzAosgfQ6jTEcDIh5ONxLEQwBs2MwUurgrAJpDwsE6KDMA2G2KdJ/ECwHUyB2YoKg3ARdIH6+N8BMCmJacyNOT3vyAcjxcvkgDAvpJzPVobE8DeiRPvLfwMwImZ3tjlrg/AqVGk95mtEsB5gHZrALwLwHBLi6oYiA3AWqK+KU6PC8Aph1HHI5cIwNXq397FDwPArpUdyIsLA8AeAddbYxMSwHbsyDGovxPA0bOxBARPEcA52IEaYTcIwMge/pMK5QPAU/fd1WdQB8Bz5qANjrUMwEAq1GajlgDAcO/z3ebMA8B5irKJ350GwK+XCS029wPA3npF+xmuCMAYoCBMwS8TwOgr7HiZm/O/W+K+vL6uC8BWFAuZEVEKwMKAGlbGIxPABD8axKyiA8AjFvisa9cOwNMlcH31xQrAkp6Mzw3iCcBCEUx4d4j9vzTOH6KIFQ7AJIV4Pi03CMBnNXJP7uEGwLQGJjIjGQXADAozcqVxB8Dw2J2OpPIJwIP3UC9RuwfAnUGs7OvdEsBiOecug64TwNyxwb7sfRLAs6jQRm9ZCMCZYcaJ9H4GwHmFWva3wgrAuWv8HQBoCMDJxlIclJUFwHd6mddhqvu/QjiSzGxr8z+zmwdKpA8GwLjRmPeBd9M/zshJReu2AcCHH4HiGbPyv4x5+VgCt9K/Lrshj/FuEsCwABecYOr+v4j7KOz39QjAVaGsYMf2CMAeXD7FqKQHwNGtySn2ZgDA540lckiUC8CBPHL7Nk4BwDx5W8TMlgbARbOXnSFFB8DszTMiPKPxv6M8LrcaqwPA8WM0/1lzA8Aj5h6xIckBwBjYLcCJs+K/XYZ7p6lcCMA=",
          "dtype": "f8"
         }
        },
        {
         "hovertemplate": "label=1<br>PC1=%{x}<br>PC2=%{y}<br>PC3=%{z}<extra></extra>",
         "legendgroup": "1",
         "marker": {
          "color": "#EF553B",
          "symbol": "circle"
         },
         "mode": "markers",
         "name": "1",
         "scene": "scene",
         "showlegend": true,
         "type": "scatter3d",
         "x": {
          "bdata": "jNq+Ru3Y4r/rNETKuoEAwC9S2lc4Hvu/CLQnuv7Y/7+uIkYfnib9vx4qmgWrygPA6JotWT8lAsAZ2qMEhUz1v9XCtz1hf/6/VskBHoPR/79VyU8ohMX5v1oHhSzFwvS/6LfJNHh//b/je5xuJNULwEXplvpbGwrAND3NzsTJBMCFw2vmiWIKwMMNvqOn5gvAFGkYb8JhBsBQqxF2R70EwCrw4RuGjArAdH/MHtuQ/L93wMnO3owHwOMZpEF6YATAzxyZSYnABMDfh9RVTQ4QwKp8UA9OxNa/9Z3XfGAs+b+3QTtpxfL/v77G2o8BQto/c/yzjjAd4b/KkEUbkwkEwL691OcRaKq/hEKDbItJ6L/u64N4CUTjv2iA8Qn8nuO/8riqs4VZ1j8iZjTD37LTP+3vQibiocM/i2LqM2MwAsAXjjLmS671v92xbIgqZQbA+qu9STGO/7+594H5ITXzvyRPx8wgefs/01Kqr2zp+799w/Ovctf2v2LZtMR+aQHAB1H4GM169L+bpDmIFxr4vxaqmxNz//G/YCGXx9vWA8BwAi8KrjIFQDBbKeNqzAJA9pwtMwKuA0CPCFLE6Yf/P+q099p8EO4/liiaCFS+/j8asThwX+HpP7/32GS8Xvk/b4cWSz+3/D/8JwJ3+ST0P64johWveARAPleN/Gps1z+799PbSwT3PwpPF1mL2OG/efcik4lzwD/AqMQZpVXmv39I6M4OQPq/qZOaP9aq/r8EE4eni2qfP0WuVK0TE/m/UDvaB/dP6L/BNYpYnsC5P1HfIDea3cg/dmIZnyUg7b/2LBtpo7QAwHf0emLp7fa/TR6bYWwy8D+fS6gXP2TlP/xujDb8hpS/Sr3rOH3267/dj5fpFg/jP1/pBdgFTAlABgj4hZj7wD/u0JQStXb6P8eMTb4qtba/DYPDmQz1wz/E1aQST7vSPwI612vt3uQ/HYmMXTEe97/zbZHuGegDQJks5XSAjwtAzMYn82198T+x6h+e3gQDQPnUTlswuQVAaper/z4NAUBJM2zvJ6oDQBKH3kacXgRAObd4dM/3AkDvIBh5bBIGQPcShddPl/g/c+lwZFEqAEDLRRNeEtwDQO6Ptly/0+i/8N4n1t7K0b9x4PYK/S7VP2VNTOUDZrg/j53tTDTjx7/4fScMgJX0v/2Mc/KMLdU/6cFA3LFcwj9m5P89z5XhP+CCZdWT5Og/Xy90EogOx7/QOThodWDcv2RVprPLcdQ/U/w0mS9a/b8qXbyoTi4FwFJ9lVGf5NG/qg1IB71l3D9D220WWhzyv0gkw8T6jdQ/YisJljkE5T82kR0Co/HjP3eBPemsguE/Iuu71qsk0D/e6e+8DMZrv0S+t9tKGFg/ZMzZi2He2j8cFUwF+K0BwFJFqpziueS/KqmmzuuABcAib2uyJEWgPyDBmmL3iuI/tTozP6PJBsC2FllYUBnlP7IGv5L0fQHAK8nP/YbF3T88ui+nhODiP0x1PZb9quM/qCHrUKal2D/Z102woXm3PyKEHP4a4/W/f5ZPSzkK/L+OpFuvUTj/v4tlv2SPiQbAD0i7M9GEAsA95IcV9pv0vw3AgVUY/v2/c2T7iHM7A8DoA+RBY931v6GT38y39v2/icN8r1CR+r+Khx3kKM0EwD8MZZ9nZQDANkjAFcBj47/VqSb5wgLfP6lpbXo9PvC/UWuS/RkAwj8yBoXxcWCgP+cjpcddqvG/boSand79178vqnFbiDG6v0FcG7RAN8Q/Uzr97z3Wwb8CH2NCG+ehP7V74+cpSrg/nkqGNmo8or+NgCtZSzDOP6raRZ1pbQDAZdBEzOfMwT8RPrlay65yP0Le+jNMOOK/VSD6CnaX0T+0SYx9fQucP4SQX1WNbfG/GXmVd94i4r+YbpXIxTnEP4aNbKaxU++/HmO0lD0Z9L9OPD6yG2rovw==",
          "dtype": "f8"
         },
         "y": {
          "bdata": "/ykk0Z2W7T+UP2h5KCIAQEpB1KRkmgBARNxWIb7a9T/MgxwPOwj5P5x3ayA82v8/0NzdWX2O7z+vhaljX8YEQNhSelKQowBAlJhLpFUFBEAgWtJRTl7rP9LMuafMRMS/FUIDwxmyAEB1eicKtc4HQGWj3Hlb5wdAViHzAzY7BkAZeiaKJSAGQHy4zaTV/P8/TRNXP0UDBUBxP37ux4v4P0e51jfGUAhAZ7QQDQEbAEBf6aXF4SsEQNBVTeQkC/w/kZmkcMwgA0CzwMrIduUFQJD1pp2AtuY//CFtOnfA+D/COJtPzgTwPwPrAt2Jo9a/7VGW+9UFhL91WeJ6HmoAQDewEJdBtNU/qqbQSSgM/T+W7sZCI6P0P9w5/AxCR+4/yzOBXSKEr78cnhZvDu75P2NNwX88bN+/bM40Bafn+z98U2Jq7Z/zP8zl4hjalPw/1GyZw28n8z+6E6FgddXjP63SP/weNwHAArEyCvYP+j8bXW7+/y7tP1BaqKSuX90/SjBZXENM9j8MVxC7TbcAQPEBfHZCh9o/OyjJmuRz9D/pgC3nnbMLwIkWGoTq7QXA0tpNVSaYCMB7/uChYG8PwMVFGpdkDBDA+IGiQWhoDsBd526f8tcSwL7lczhSNg/A2gC0FBImC8Ct5qhkzPMMwCtligXo+w7Ace64/ECl2b+dV9irXNYDwMzU8cQdNwBAjVbFC//Lbj8RLt18axbtv9KOQB1Wog1AqbWhdDJvCEAFlT6o8fkAQLu8F12txdQ/Ya9VzcK8CUAQWQK7bmb1PzTEyJ7mCuk/RbUqU1n/7T+aS9E7sVj7P7fdCphvAARA0D/o9Pwa9j/i1k/7L234P1ybfZoY+f8/qq7mQwwF4r/Kgv9xwMHiPzDSgDUiWQbAcwJJJsGmAEBIVKTqCBXsv3t/BKf06uU/jjFTT/Xl9j9snrYDAj/tP1w8USvenfQ/+ODGOSUoDEAFdl6Yt0sEwGz4WvXbRQXABQzzShZQBMC6AcCseoILwFYqvBsbOAzAeS0fn1kGCsBmCF2LAfUGwPA4qgoHdwvAU6ZDUGEpBsDI0Ux+/58HwLPVwDrFCgHAaB69u0HcCMDHl0mGToAJwElP+5uQrf8/JXOA+eWz2z/wHoxtKf3mPw4FPrQcJ+w/Ph9koVJy4D/nHtL8j0Pavyhazxf+AvE/K3BCaQpd0j+9FOcJ+/7vP4MxRQbsqfw/RJFbqZ858j+q4xjXZBzGvy7uBfnektU/cGY9lgU79z/aP3HGCbPzPzEn7sjGIdI/z0/7WHH+8z/IBO/WUI/0P/RZqVaPRfQ/V2wCjuuiob+LllSHyiH2P4i+1p6cF/s/ac9u9tRr6z/TssvVSnLSP+XV6wky3uu/Pits9EWO+b8H8wBbH67zP66P73M9XOg/ENqtH0JJ8z/+oCzX9zHmP5gWgoo9OvE/eKRmG3us5z+f1Z9pE7bxPzcS8jRjcfA/Npg1Cmwv6z+OiqhlPH35P4eOoO/0SNM/Sekl7S9r2z8Uo1gICJi/P1/1UflTGvY/RwIEzNrJ8D9H0gQmScDzPwBTs3D/mOs/jtwmvNuz8D/vfSj5fomsv0MTfu7W3OE/fmnzX18j7D8BQAErAg36P4wc+4qTg+0/adnjmJdf9D++5kSohAHvP4lZcADe1QNAEwHGLmae9j8sAef6puzhP52+X2wFyNq/i25aED6J8j/+ITqrA0XuP7ClAfCSpOI/G88YQ/AF1j+43wwuKHPhP2iuj1qSr/I/AZupY9gR8T9HHosOC/rvP9THmRXbDvc/WfaCo4M09T9mT/k6IFznv0svwBHEZfE/Y9ViiPOp6b9RBM0nYonavys3FnGkMeg/ushPqVfI1j9UCPVXlrLtP/9CnHEdAdQ/hF7ZiVk3/z96n6fIPnb+P6PnD0HZYNa/LRVPn3MD3j/wjqksuZbkPw==",
          "dtype": "f8"
         },
         "z": {
          "bdata": "i8BU6+VlD0C6AxyHyqX4P4Xp0bQDWuw/v4r4q2Nz9D9l9Lm7LgL2PwAhfQ5ngvI/8yKYYpfJAkAA7ODAXQ73Pzx3HAPLQghARUiHiJOk+D+vhJQ4jNcOQN7yjYnpfxRAyEw6bHeu5T88iQtoLO4EwAqZaFPtmq8/9iNJPruE778fWWA2jmL5v4MaVvGT3ALAWGjWNGiR0D/XERa717z4P2mR5iiH9OC/Cenk3n8o7j8LjcZ/qMz3v97iITrTFfo/WSwhh5eJ6j9a4JoIFZzhP5RN17JxRBJAg39umeYnCkCVlfSdB1AOQCISMWbhTBRA0GnsMq+1EUCQEqu795z2P/jG/KhafhJAgpp6OOjPEUAJGEQ0OooNQFTSeMxLuhJA+jHSwmALFEAAGLOIXqAQQAGaopQYjg1AqLJe5YB1+79ycFM8dJb8PwzsBagy3+U/D6Nu+a1bxz+iCkmOEVn7P21OhMBGsQdAi8qBu7tk7T8hQY00uncFQGF054AuzQhAGhmkgmMX+T/u9aTxsk/1Pya7BuzNivM/6ukRj3RU0z9YSblhUwISQD0D7DJ9kA1AeRBQNbnrEEDM2uqeThMTQPRklDQCyBNAvHFG+5WLEkBPLYTrFw8UQFqhdR/iLxRANyPEqUZTEUAiqHX3qG0QQJk0maAGRBZAq3rtJoXUCkDTZKMh0EsPQM2TWh0bUxJAuK3boIGWEEBFILjiEccQQOBjPIvliwdA/I3hx914BkDv2vvExSwMQIXN4drX4w1A9wMOjZOWCUATvP+AHBcGQER50mOUqApAmxpAyL+rDkBBndlwk6oMQPX1MkwdigxAze0WseR3EkAXXQZl3mwIQLJ+fBhShxBAPweGdpYNB0DdBBJCFUEPQGZPATgX0AdAoWFF5Zd/CECLSpnufO8QQAPZca4c3g9AKbhyHU9aE0DKVCdMwU8SQCoqf0r5sBJAdlblulRrC0D0zpB+d68OQAogtL36PQ5ADk30P4QICkDZjHkNXy8GQAkWDkLnWgdAbZeFlg17C0DroA9AHPgMQP3SPEUo4g9APXoJ6uH4DkAeH6Bq0agQQDs/3LimAQxAHzEtzGJfDEDSDABWEEMLQOdPl1knPgRAWbtu9IgLD0CUgwXTP1wUQA/7Hg8t+A1AqyTT5aueE0DuyjTHbdMNQFlIYjcKKBNAnujUoMeSEkDElDc+bf8RQPdF2QfKxghAAOgrqpjLEUBmWtaL0NARQH/x1nx/lhNAF26DEk/4AkC+N6nHGvn6P8SRTzU0IQpAOqP4fTXVD0Cs1jLyt0sEQNzJvHd23RNAkolttUP8EECGLsVRi/0SQE8KdqJ7HQNAvrLaLYauEkAeAw7y34sSQOT/gcsgxgtAJ7p1eKXyB0AOS5zeh07xv9sBNUwCRAlATj9pD74w/r+qc8Oi5R4UQHr2npiC8RNA36l3AbWJ1r8Rvyjw/6oRQPqC81oDL/M/28uEwABWDUBmwfncWBMRQG3HHxVjWxRA266TO4J5E0DewqsGK8ERQJ6VR+jZhdG/AF7P/Jsy878UUvGhLYPdvxr8qmEsmwfA04Q8LKl8BsDjq1iofTkBwCJ3Y3w6FQTAB3pOD09mDsBXOOfcB3Hwv4NbXbTQheC/zs0FjX/q+78d+OE8F3EJwLf8URYeFAHA5nbKdvHmEUAZ+nbI9lgOQNvlJr3yYw5ACL60zfRSE0Bk9J8w3NESQP5aiLbZLRJADAby+E5DFUCIzMdZEhIUQIAR1KTjvhBA9BLJxq+MFED6LbwR6kcUQJczNxbB0hJAOKy+NPnKEUDb9sI/Z6wKQI/t95eggA5A4X6FbKJdDkAi6ogE/zUMQDtCWVc8pxFAom2bIsa5DECwd5pZOI8MQBCQbX/O7gVAVf5jsbfqBED6IyhU3HgLQFLLD7tzTBJAv3sOwYjSB0B/wsDiw/MIQA==",
          "dtype": "f8"
         }
        },
        {
         "hovertemplate": "label=2<br>PC1=%{x}<br>PC2=%{y}<br>PC3=%{z}<extra></extra>",
         "legendgroup": "2",
         "marker": {
          "color": "#00cc96",
          "symbol": "circle"
         },
         "mode": "markers",
         "name": "2",
         "scene": "scene",
         "showlegend": true,
         "type": "scatter3d",
         "x": {
          "bdata": "9oEQ6CbV9L//U45z//3+P5Wlneqj6ghAhsANrWzb5b8zoxnV/o4AwNp1WfZzOQnAJmLxH4+B978vEIrKhbT2v8P67FBW1gjAAFGvRBhuEECl8jU63u/4P+RPSkJNNu6/YKBuoIZM6D/Y1qyW9j0UQF/qZVD2kgtAROFg7XIQBUDovDsqloAOQLLqg0shXg5A9+JIG4EsCEAcn/o7P9UIQL1peTST7PU/kkidKYHaAUBavn2AWgILQE+VEu9A3hBAOgemtpydEECTZpeT0vICQM8RbcZLOg1Af+1AxpmfEUD7EVH2hXETQJ46DCkbzxdAR7EDw5eWCUChIeqqmqAQQCVf6bfXwBdAFm0f2DPXE0BoTfwKo74WQOy1+UJmmRBAf/QMz9kfDkAsLIWJS4gVQEMq+jhXARpA57w8Tz7qC0AwFpp0fmICQH2MG++YuQhAXBMI/S3rD0DQysdXUVcMQEu8HCtZjw1AFt6xcYSnBUBpD1zJCuEGQAX3OTE/VA1AtUbCjdaoCUC5j8ZQZYIQQF4A6U6rWxFAC/gZ16JG4r8ldd31GyzxP1E5Zn+oDgBAgUVxIJ+cAkA19sKUxYwLQH/CintTtwVA6bcABW2sDEBkybXF9IUGQHjowot6BxBAMwVHmbTuEUAcNtwLXr0QQARE5zUPjxFAlpoGUN6VFUC1JbV5pt4HQI+/cqSE5RFAQ+GKnwBNCkCKs20/vNYNQL5MG86pPghAjY9D5HJbBkCrRUZpAjb2P1EYKxgnm/M/2yfM/ZT1BEC7/hJQd7ADQFBp0gAFThBAzWRnyiiOCkDs/M79kT8KQMgvOs9ISQ5AaiQcsxUKFUCN0V/42ykbQNABUH2WLxZAFCtKQsJ1DkBsWHZrf5sRQN0Uhm+yDRNAIjEOi2BYEkBCD7IZ9tEVQKplatTrVBRAL5jzHwa1+j/kuWs888UXQBNg34CpUuq/Q9ohsPTpDECIGuApoxAVQMIDtlTbvBdAoHDqh1hrGEDg7xor2XEZQCYsA5P0DhFAowoqV0HUD0ChF6AbZDsSQHfDWX/iKRBAtpt0f+PNGUCne2ToZzIMQCT4eiCqGAhAmGTkxvC9GUDU6wbCpCIWQEFOGPakMQdAE88hWjT3EECbVB4bQKAMQJoV6oERCwxAT98zDoeXCkAoaQqSjpMNQHbNcCSn3xdAR69FRbOeGECOCwzH20sDQJM6/NOwEAVAnxkE9/Y7GEDmf+RMgcASQD5OLCMG8RJAPJiHwAoiFEC6JtajKHoQQIZGMemTuhlAQx4G+r5MF0CIV74P9foXQHJpW/8Uqg1ALOhXn+MtE0AqyflF3oUTQO3RfKOQgBZA+snM9y/9G0AXaMuY24z9Pyeu18CZqQJAUznDDjbY9j/LcttmJX4FQN9U2jzggPc/o9nCIFsOAUAr70CZkyoDQHeBJtZWOhRAhmTt8Tk36z+rRc05koUJQJ8yvr7F8AVA8UYbdtHQCkC/Ndmx0tUPQIY+ZGF68hFAyHZ1uvvNFUAksbSkhuYbQP+nivTS2RdAZnXq/ZzdEkDq71YA77IaQKK9VfOmrhRAg3tcqbuKF0BX1X49n6gaQJ3N2NiYhRhAJFPyV/JqGkCWF9J8WmARQBrv6UfX4xNARVp/GUyRAUDMd7jTvJTYP6ZzvRPzrPc/HCxdSSYv5D+whDjwjGYaQEgK03tAic4/fVWDtZOaE0AGVg2N3Hf6P7n4bC+plRRA+Tb4TWN2B0A55gNxEzUBQBZRVybT3xJAwAVAdLsX/z+zeeCNCqAEQNMriYNxdw1AK3Qu6R3KG0CVGJC6dQoWQHq+AQZz5xFAxs4o/RM/FUCZsrQNnvgTQOXIdTyJOwZAj7V6aSSNFEDdc19zihcRQKZixUBYGAlA",
          "dtype": "f8"
         },
         "y": {
          "bdata": "/32eXdJM1L/Fx6b8Pwv9vxyd5x6R8fC/kKRwN6Cz4T+/GXoskFjyP1GgnM2okPw/74COK5md0z+Sdx9nixbrP49WT57XZgZA1w8oXAUKCcAq25HLWqHzv6fE3e5fCOs/ONA9Pl00xD+OtE08ccX0v/btOvlpvLK/CtEqul328j9trEEeDVblv36ckVXZ08y/oqj/iFkG/7+oYfRCsoT4vxm3Ys6Wr/Y/HIBJd4dfsb+7D4+xHhDyvw3Jd8aYfgXAJ4PvNlEpAMBFPwhvmwvSv0FwaOU0s/O/C1WxmYPQ97+65sq+sV/qvyhQIzuvNfu/ht1OhauS4r/rtnu7q5DXvyoHE24YN/2/+4zChZsD478NaRFvKerpv46mJj1/v5C/88I5Reox3b9snZlZXQnpvyno1LUGGPC/0J016JMs9b/xWM7qsjv+v09panXL7Pi/nbLDbH6rAsA6X9H9Eo3hv5rimRxiGuq/011ztF1y3b82twWQHTb5v5En6B/l5/K/u3WRE9Ld/L85THg/c4L7v8z909yxhfO/22nfmwRP8z+o4a4ah/jqv6PuQ9V37uu/os4ZotB9/b9+wg/NV5/iv7tP234uFgHAc0dHgMlW4b985rwpOOX5v9Hc+Q/mCADAMphmA3cl+r+2ykLMeboOwFXd3xTSzQLA9neaXBYOz79rwnLRVqD8v9i0o3DPduS/eyO+byjg8b/N3CG5Ue/bv3Yr7TahB+I/RWWsHZM40z9cJ6feZRn2P9SrLo7BGuE/qKNP9tA39j90xwSzDWLsvzo+2Rkkc/y/8jiH8F/J5j/RXBA7bq3UP6SlT8fL3bo/JOVTeFvT578CVnLV4231vxS6QiPLmPS/3MYev9sJsr+GBqrBXLIFwOcmZG/2N+S/M6bFXyXY77/Om9jq0lH8vxOxmra0jQHAVYn0pqdqAkC0rL47/Bn6v367oVujBw9AsnqTaMacmj/8atnY+nXtv5VYnwOD/QfAlgvV2tZ857823Il2xJXgv1Ydq0+S7P6/1iY90so68b8Py00lSVLzv2TWCA9Eb/i/EErY0+ep7r/Ih0E+O33qvxeP5SYgQO2/0g6hz7j66b+uFRVMPksDwFP9vm15LOq/teCcfO298b90M+2NvDbhP5r+1qPuOei/lKG8II5v8b//9bdBsRfrP/bmHLav0v2/uCwNEy/C+b/e5b0+9wX1v9CNPIR3cve/KL8n5IWA9b/JwtOhbzDmv85DUCHMKvo/p5FZui7b2j/DA5cwR5TRP5j5wtMfeOu/QqOOlwhMyb/MrExfG9TfP+O9BYMBRvA/F4HXn6RU5T9kfi0PbX36v+mDX80SeNa/hv9IyyFT5j/eDYNmyK/aP9MrpS4aKgDA2dSUuAiR8D+Y7/ndWV3zP1pxzmR5oMg/7jRAs7E26r9WGUyE7EjGP0zRSjpRqbE/k6IDeA4i578m2CynYerwv5wOTCaDbOO/qXy1vtJT5r8YONfUGNTkv5++4L/63P+/nG/kMZxx/7969BqFybn6v1v8nYAS9tE/Vhh37Wij6b+NcbkA2pxuPwt1tbaBKOG/DMZvoFhw579U5xXtzK3kv6IVZsGmofm//BgbMSc+5L+StPepOmjqP7WItS1BBNS/8w0HD5cr979BM5ICaq7qv2tvPqwZ1dm/72anpEdE979o3O7DnZ7gv+QHJedDh+S/xdII0qBE+7+963XHT/X7v5o9RHy/H/C/gOJtL7HSCMDuIg+ErcfnP4yEC/HtEOm/iCT/LSni4r8+snQkdqriPy9WUhV0jQTAkBT88lMj6L8Ps/J/epX3v8XYp5i0CwXA3hlhJYKZ9D8Sp+XFJvnfPzc11wo9+8s/tltDfE10yL+d9XJthbH1v9Xab2tSlva/",
          "dtype": "f8"
         },
         "z": {
          "bdata": "adxgLckvCECEKh9FM2kGQBQiKL6pnANAZ0cvskfc+D8+vLQIgFb5PzyF1x15Tfo/hcszHiHLB0B2Ctn62pn9P17j/PUPUfY/XTbkraayA0BLZijk/Q8IQBhsguZSXPg/7oLSzgRE6j+2bzho91wDQPPp/mzktABAf8wjrnif9T/iW5Amprj/PwlfmizX7wNAZyR5UtKpBUCZMjFgugMFQOHZ8DWFLvQ/zXLJ6pTPBUBr+Ob8Q9wFQNutUazCBwNAPVfRNlK3AED4KADGBtcDQBNOLOXG7vA/JWdbjCrK9z9lHpoc8JjtPx4FGjUXL/E/0q7HlqI88z80cHR9NSnyP9bGZ3eqevQ/pRIxoVeQ8T+hYFmk0s3qPwipouhTXuU/ZBBtUvIw2j/mzE4SAkL9P4peXqb9SQJAOJ0hL2rUCEBF3zehamz9P3tPkvFUHwBA0WzMj6zaBkDSeDHMD4P7P0R1zBeNKe8/wKgRgBk13D9FEp19QEILQKvU7PyISQFAFJxOVIkh/T/Q+haFaBYAQGubg3nyEABAcgoexpcqBEAoNKKBj7L8P3SXRO3SLvk/iGDu12U28z83qnuKB8D3PyocZlampwJA0Tckb7Ru8T9iuYT7uFgAQKv2D63NOAFAdd6en9s67T+YipObqn8FQLuV+YTKtwdA8HK7xCFs7j/G9B5sswsDQOX3Sp51qvE/sUuSRvJR4z8TVOdjmx7BPyv4bk/gFtC/ETJR4ZMP4z8pC82kNxLBP606ewQt+s2/MY3UQjcdxT/IjD3bQRb1P94zc+nWze8//H7jZ+DL7D+Qv5KnyNjkP6SqjoFYu/E/f95bevpSAEBsjF9QzuoCQFWDc2geUwBAcDkHpnhS/z8DODqVkE78PzhhkeQhHABALD3rEiTjA0CJMFKJLmoGQDbXQT29UQZAzHeExA383T8dlmpDA+wEQCCCC2rN2vS/LvIB3ApN1z/dJvEDG64DQPfzMhNQk/4/shUFCFy3/T+AkLt6854EQLmBiGU+5QNAQEW2Z03nBUCcWeKEymDvP5xjN6IpPglAI1xPO040B0DYOq8BZQT3P3du0TduxQFAEP5X/kJtA0BD3QEcJVb8PwhzMkoFFv4/MPJjPH/K8D+iCu+8aaTsP9xqbTjLmvQ/ZObeMiwj8j/ofQ3KQ6zxv7MvHLJ/PANAEh5S+GoLAEDU6YZMBfsIQBgb50opwQFAfH6etkKr/j859jfmYRUCQD40ysckfeo/lH27JN/M5z/qaBFzG9nwP/zXS0O5iP4/yiUgmN6E5D+m6ItF7J/rP5xT8C6Q28Q/xXgPdIzhkj+odEvOTNT0P1sA4h4xrvA/J8v+Hwzv4z9nlqFpVlnpP/JOVlsHDQBAsAAbyg771z/GGzFw53v0vywsk1WRmAHAkAp1t5PZ6j/WLW22UyTlv7ADhgCUROk/ugqa5COq/784rKyHDUD/P1OEiN7bcPS/W3gA2qfT7T9avdD5EXjgP3TPTiT4hP4/CQEUEAfc/z+MB/xIX7sCQHWI6qvOCABAZm6G3gwQ/T8Nnsy0OGf+PwUWloc8BAFASXNANB+4A0CqwGjHi9/9P1FaDdHLfgBAFjB3VXix/z+ciRcev2PWPyZ/xOwOYP8/P63nWebHBEBIArAQLHnhPyiNLH2Ywv0/V056Wexb879uc9MJJS3+P+2Eznj+V78/QN4ybsWP9z80yLZbGrn3P6YvDwh5yQVAu/hoTBSGC0BqU7fTirHbvwAHDLt0VPw/34g9C6XwBUBuBh2930v8P21/3JKyuvI/a4K1V8IQBkA6cnR/IhkCQJjsTUCenwRAGNpHNXJz/j+r5sLXVkXuP9rE8iFguvc//TH5N6/KAUDbufMWS3oIQNziT8BK6AFA",
          "dtype": "f8"
         }
        },
        {
         "hovertemplate": "label=3<br>PC1=%{x}<br>PC2=%{y}<br>PC3=%{z}<extra></extra>",
         "legendgroup": "3",
         "marker": {
          "color": "#ab63fa",
          "symbol": "circle"
         },
         "mode": "markers",
         "name": "3",
         "scene": "scene",
         "showlegend": true,
         "type": "scatter3d",
         "x": {
          "bdata": "57oukYkqCECVEEVbihAKQKXwa/C8gvc/MEf5OJooBEBLX6/w7dAIQA+RpUquUwVAcZfyeZC+BEBw0mDaDocPQP1dsXnJegRAbAkTyKnQAkC0/0bPaEUSQL/a9G9eIwxA0o88CXR+EEBAThFbrLcJQJWS2yMD7xJA7V9wB8TXAUBy3jyzYagJQBBc0j3wLg5Aj1JmcLRXCkClpGUaM3D5P8nhzs0u2QxAhfe46eEhCEAd+7axKD7+Pyrd1+Y4PQZAYfYAlhkV/j8PX/McdtfCv/BNvfZtFg1Ax/W6GBuoAkAdIej8WxULQHBWBPN0JAZAoOHJRvBgE0BFH8nG3tf/P9zupyVvzxBA0FGhzFe9C0AxkybgBTAIQAVYz3eEwAlAuPCXiR9tEUCUorxymgoQQLRY/TLL0QRAP3GCSnRxDEDXUqL5lK/+PxuBsgSKxw1AR51b2rcowL+pZtzanLoKQBaWO+XTuvM/jTKgLRmc+j89PHwE7W/5P4kNgTbFI/0/ohxr1a8RAkD4SGYw/5UDQI/YnjzIvgtAUbv3YPzkEEAzbZgrYQr8PxOCXYoy4fQ/Foxv/I+NA0CQlG9MsWMAQCJe3WxuWwJAv1l/lLCRAkAveHrg/gD3P8KVXbWTEus/sHFfEmYW7j+80/j33pQFQHfRl3Ojr+o/rG9v8CKj4T+B/IkV+csGQCx8B1noGAJACVgOH5X99T9NQ+w4ukX9P6BRukdnbQNA8e38uyGqxb/7qZKhvGn/PydKCPUR5whArODwc0ZvBEArSvwmKRsJQL1Ir3bytQBAW8owBw21BEDz/qxwcNvzP9c3K5DjXv0/IRKdYTQZC0CzZHzgTsAAQKn1h3Z1OA9AKvGyG39mD0BP/cVKg/sIQBc9Kn21sAZAR6Vs6OU/BkBBLY0hOKW7P6OtRhbATPE/KLQtgMBOBUCdVgq740YPQCXZEyg6jwRALZrTFWfbAEDwa4RgI7v/P1tlTojT2gFAtfEeG5vrAkBD1HzX++gOQO0PDjVD/QVAMBuKXzqYB0Af4XWf2OgCQDk8uunGKe4/mbx1IFZNAUCBpEXhs2Pev2zekurXQAZACu+JdkSqrj9lit4wrKMCQCvJtft0VQRApcMQgG+bBkBxBPf4FGgLQKUlQHz2iAhAh/FnJqODBkAuSJhZYmsVQOKDr0RB4QhA6kfpyVmfEkA8cinexcwRQJdIfq3UxRBAq7CkM90GEEDx4Clvtt+8P53m/9lGiA9AU9uxcrdTE0DoyvV8XwISQOdbNRWpyAdA068CRR6UCkCB6ncgb/oHQJDbnSjZyAhAuLNgUCtkC0B04C/U8HUEQJa60o+RPAtArKVkPDDBEEB9k4dpv9QCQITySmxnaRRA1I5TuyW1CUDWmR9A5CgUQJRYNPupKxhAOObhUwp/AUD3MMrJWlwSQGQzt9nGHgxACmfUeZKXAkBRxpo6u2D/Pxsdcf4mYQhAkZWmm9yiCkBEJh9JwdMNQHGE1ba8dAxADBGPnNzBEED8yJxapFkDQEF38Apn1BFAfeSXQrBGBkDBfal/lZMKQEteI36F1A5Aq9ssBI9dCUAozC6+zN4RQA2PmeKUQgpA9PMTyj1REEC+0Yf9e+gOQGzm80I0vwtAqbVsPgK2CkDLDSiDJ0UMQIn9wac+jwNAeypdBbeCDUB7MHAJp334P0JLgRgYde8/69un1i1jDEBly4mqF2kMQPvYf2TqCApAoqUIHA1kCkDdXBRv7vv2PzyYrn/+IQNAvBjCLfltC0B7r5GFB5f2P/2VUQv7KwBAZTTriCwAA0CMku8aTjoBQH+E5i1aeP0/qbchfjjSAEC1AaNXAZoLQOW5OzjBxsc/34faPoYc8j96RUiG3P7dPwJfYfKwYNu/3KEfRhOB9D9GJ2jHtV/2PxcGygEXPf8/xrEfeqN//T8/b6CEHYX2P/llyh1qhApA",
          "dtype": "f8"
         },
         "y": {
          "bdata": "PtKHmvvM67+PUTcPaDEBQHjcOrp5SA9AdCRpRS55v78gaZ4ih5z1PytW91wvotY/8IH27tdF7T8S/dAaba0CQNV3hRIPBAZAvKBu2bO9/j8FCNlpB+INQOeg5AfJeQdAQu0ZGl2GEUA4I1UnseARQBoizv3INP0/md+scvxlDkBzwdNH0qAEQJAgn9QgLvk/wuNVoPDd8D93ZMWeWucMQCe782EOQ/s/IqUHGCDlBUDzi9XcoPQCQCz9m3333AJAiwFgfPqKEkCGF+yTE40TQEiv0iopyOq/pUsUn/zY0T9vhJsQNYjUP0LM4FMxu8o/7FAYiOCr5b80ehL8dHb4P86N01rW4+Y/waA3XadL3z9WUay2as7JP/0OG+1QCfk//Wd150hC17+uPVjMxFbzv6safBSiA9E/nbcyskhr9T/nqzT+nOr3P8qJ9+VrRfm/Di6Oe72P/L9iNL9unp3uvxeoRKhcweC/NA3mM5f0/b+wwf/y56vrv2QNMx7pQ/q/SzEsCqGd/78j0rlT27/7v6SYcZEu8QDAS+jXaX/R87+mE1nVwTDuv740sUCXd/2/85sxU5LS079Wut7lyQTwv+BHSg9wuva/ja4Z7ONIAcAjtx+WSbvxPyYBy/YIvOm/j2agUIAW87/AhgJteC8FwHbNMg6zfOW/5HzWqFc96L+VNMAu2vnqv/pzv8y7m/S/v62WWcDa4j8OGEykt4jkv6K9uB0ui8k/vE1HIFxY8j+v+opSfLTmP/LdtxOFYuc/E1q1tQUf1T8qa6L8CI73PxtEjhMMWPU/c1phZu+qbL+HeXTETqDSP4ER5q/309a/AQehBQVG8D/VKcFK2AncvwdbOo0Oh9E/fIIFDWBKvj8zX1ayecbjPyAn2C01Jec/mCZYYYdW5T9l70Pb32EQQD7BIhTDLgdALlKTfh6F5z+8yYU2N7K+P8/E4YTEj94///MofC3E2L/m22AE24DkP4j3utgXlfS/PN/MqRAN7r/y03C9hcrnv+qnRld+r/i/3C0rgYet8L9NS/9nwgXlv2bcAVy7NPa/FK6MwduKBcBnaNkQNj36v4qcT4Jom/K/bRhN4SmY+L/FzCyT92Xev+b3SkuY1wLAVQyMeycG1j8KV5JsX+/gv0rKF1RWwuw/+Ni2o/Yl9z/i+D8BkJnLvx4iy1X9sQFAlTqZya5D37+IHNQKf7XgP1K2WKxihMC/Z9aZde6/6D+fmulyn10RQP1eELKWl+M/ugeLpz3X5z8iEDCbmqnrv+ypnUZku/U/IyYfHW131T9FVSi/mUYWQIocoVmZVOo/8qL73N0fAkDaigXjN/QHQGuFDoLgRgJA/4KqiaNgDkDvzN9WBzT/P+QC1P+bkOq/c8xChAH10j+zpTqkHocQQBLsJVWTzP4/aMVEpv5N+j8I1UKxuAnwvxP+mK0Ox+O/BkhuqGDS8D/gHxqMhjPpP+KF5iy7RcW/x5854xz67b/U+M+Xwfaxv8C9gDQN8gBAUALaTzjB47+KkYq5QDzovzEGsprT5NG/yMDfb0G96r8SK0gigALyv9EdhNkQHtq/isd1i9Qmx788QyGePfD0v0YoCHzrIvq/0fsXkEmV37+W7v2a02DAPxH1O0pcjt2/vpZxKOidzT/9j7TjoknWv+fFZBDqEeq/Dox52o0Knr9x5v2hQKn2P24yWnNCAQhAQYWUbg1+/T+Vj0ndv30PQCa9tV8T9AVAP+62DfbCEED3jm7S9sMIQEjtZPOtZQRAjckDHp8pBEBtWxYi8FTxPw6SVb4ZzvE/7ddKtQbe9z/yWZQbuOnoP5C4jwwBeuO/SOgpdJFf+z/iqxaCeZDMPxR2NsQS3BVAuMxbDfMGBECIMQVsNZwMQMAyVKbAJQDAZKISsj8gC0COh681j74QQPeDyzvS5wZAZTAEjV4h3b/r2Wpw0RDeP9cGzm1JK/g/",
          "dtype": "f8"
         },
         "z": {
          "bdata": "534jcOOn6b9Kb5pdsdn5v5itqjBsoADAqFHuB5Ez+7+7POpHCoqRv17X8Ruqmf6/lPH0R0l9/b/b3XGffLvHv1Byg0UnYva/ErsD1giP/7+58eHJ2Cq7PzgIIsaOgfm/Wx70DX6T+j8vKa5wG2vpv483T0vWaAHAWAb5BSyz9L+EXASvPjTwv2qhyNUWswjAchk2v79u6L+lj7bqJzoOwNKP4NNcHfq/NfqiwfjP8L9hyuSCtuTov94CjFSW6+K/VoP1DN1x+7+m5EnzV334v8LdrnOS/vG/wgDd0bDG6L9lGkF71EP9v71aRmGATfa/HqnVRwtEyz8ibPRTNh76v8sTMmbCNwTAgszRwLUJ978m3j9G6zT0vySWUtvwVP+/JVhwozV3lD/pTidgaUTPP72hhb8yIALARSZIovmj/b8UyD8JJGMCwNdcvKbcjvW/Z4mxn5EzAcDF3tHraKr/v16BUa+opPS/sLWE/at6+L+OceFSSOP+v146HcEPbfK/Rt2KdYEh9L981N4NWnjov5jHZWEZ+dG/5wykTKgp4r/ftS3ZAY33v/hB462BEgHAxNF136G2/b9SZ4Sn5dzgv21Urxt5WPO/HoUyg+qB8r9KxQ7JRxkKwGgzLy4asfq/+/W9Ceib879f1Algj9zJv6GXYo1XssM/cpBdEFrP5L8LcBBnqDv1vxaAYzzuova/YRpbdbaR9r95MQVIq08HwHzdpGSZ9+i/zeMrWg1mA8CPD3XWLxoMwM0Tn1yI4/+/M6gGXp1IDMBDYQ5Zhtj7vx9k/l7w6wXAx6uxHs8nA8BtJDg4sjnCP4ygR/+e69i/pKrSbII80b+LtfVF6xm6v8+eqikm9vG/MVFugeY8+r/09j0NuXD5vxbLeIpK69c/5U+LEqWquT/TZgYVKpQIwEikLmVx/vS/A461hnpy97+sz6Plz7/ev3J6Rsl98vi/DrKDcuMK4L8sfW8IHCziv27ADT2Y/P+/IksEPgUw/78vFV8RsQj/v5rsekxU//C/jGo2bTVz9b97AwunJ+cDwKfo6weN8QDAptfFU5KfAcDJyKeTAdECwP6Lk05MQwPAZLt1TWH7AcBcizg1C5f6vzGr9I/DWAPAl/8ioHpWBcC+BNqU46cDwIjTGiCh/AbAfEx1FohICMDIE/XWkocOwEXQ29DrDA7A2iY6o1iLCcC+dlDxEYgMwLJuGOZvqQfArUS3i/qAC8AHvy0JDIOxv4cO71tldAzAqzQEanKkCMCZsa3t7iEEwJHtpmWl9AXAp0Iz6LL+D8A8DE6AoKz0P3hlWa8JQxPAVtY4Z2Xa+b8T7CRI7dMCwCh76CkiuxDAal6ICdh68L/ka0h+vZ//v9FsQmOSN++/gRa29jef/L88G1l/nUPsv6EaTQYTJQbA702f8iscEMCjaKLbD/kDwD6mCFv7pAXA0rbE/aTH6L8t2+kk+MEKwMAMCRZBTBDA7l2hOqYSEMBpOIHW5wsAwK5r0VXyN+q/VfZTJz+JA8DHZ72UK/8GwMX9WeDOdALARW76EiiG9r9dWHQJmigBwFZeT6FqXO6/GyBBeW/j/L+qw3eDx5Xqv3XORQ3jmPi/2qtimYc6/b+sw2EVC4QIwGr4A3OwRve/g24qfDFWAMA7YRdP7tcBwNWVut0KRQPAb1fsHlwN9L+7BIF4Qbe3v0kF88+znvW/p7+j7Xq0878FrPwaF6/4P6GrAZfkvfg/ewWnZPVOAEA7uibzalX1P8NgBp4+5fM/uG0vGVbD5b9Vwonl0SDlv9cSgW/bw8O/sn6vRCgP5b/oY/pPMa/wvwzo5YPKJqQ/FXM06dIJ9T+Uj0WXO4nzP5obvdnu1fE/5HvWldAC1j9zYP66O1bsP60unf/EIeG/1ljabafX4D+eNPiqOzHCP+yM88BYTfC/5ErZXElR2r9yAdpMT2TqPzS0irndPeq/",
          "dtype": "f8"
         }
        },
        {
         "hovertemplate": "label=4<br>PC1=%{x}<br>PC2=%{y}<br>PC3=%{z}<extra></extra>",
         "legendgroup": "4",
         "marker": {
          "color": "#FFA15A",
          "symbol": "circle"
         },
         "mode": "markers",
         "name": "4",
         "scene": "scene",
         "showlegend": true,
         "type": "scatter3d",
         "x": {
          "bdata": "UD5E0KQdEsCEGyHqwNUVwFHU0sVpAxDAMj5HPsHpEsAFopoCroIVwEMi4mWQ5gjA6ww2hsZAAcDbKHb54h4RwGe8OTNKzhHA56LT9cBDBsANywFYIiIKwK+3pZ/SmgfA9N0uLonJEcCqQ297i14PwFNjiG1VlQvA+zNnR4SmEMAPp+q4wOgIwFzYcMpPgwzApS2szBRABcATK9+ZWBgQwJ4zOhdPMRHAi+mKGK4rBsC0aGUR8mkPwEifLiRojA/Aq/SJorBFD8BjZJ9TFfYMwPGACK/AIhLAnVsNXYU8C8D+eAmGyIMTwKkZgUQy3hPAfq3mcpQfDMAoS74zF8MPwKkTsb1TNxjAtqopra5REMAGcgJbW30UwM4F+lQ22xLAYLrn9n1sEsAuyLuj1QUUwEmmdFwK/grAiQI3LfC0CsAZMlt8H9gQwOXAcRpwqA/AEmOjY0GuEcAr1Saliw0LwPTolcn/bBDAUP1k1gFZEMA0aMFGv0cOwO3vPyEpgBDAuC1B2wsfEcDKj9UQ+FMRwIqih9Fi8QXASUnvVEbHCcBD5Wy0c/kAwMjli/ASjw3AvZCuRJxkDsDuOjKIhmUSwILRk45BpP6/tQF6YpJaBcDcm4M2Pw0RwKK5qcDlzxDAgSTVHIpQDcCk0OB4G38VwF4zaF9mmAHAybH3K0hPCcAiYtO8BwQTwN70svWVvRXALFQn7mVPFMDu8MejheERwGprNKcaKhLAmqsAEi0vEsACDkUO7mwUwDRE3+mdqQ/AmYCQy9yfAMBjdnGQtQQJwDIsq3wMUBnAwg8Qoq0lGMDpJu3YBTkNwGaS9WcsyQ/A4wNP1ev3EsAz/lKodgUWwDxL5ByNhxbA1jf0CvNaFsDbi5EcYwISwGDDoMyEbRnADlBiSdB3GMCZKPdGc8IQwP9MJGAPexLAPpXsYGmDFMBnEeprJiEUwLVD9SnesxXAWkDLrSjPGsCGRNCA4NIgwHjpXgUpAhrA2QoZLh0WGMBmPuY2pN4UwD7D5iizRhjA1hBHqMypIMBWYy55eIEdwJ9ERx5KghrATf+OuMhgGcBtF3/cX6YdwEUI5C/jHRvAKGXeCPQBG8DfTgX+00sYwJz2P8wOQCDAVmMukLCpFMC+QUwOEvcjwOS+qfLZtxLATH3w1mQf9r97ZkDH5vwRwOrpeymwFxLAxvswObdEE8CW0MiBMOMWwLUql7aFYxPA3GJAVXQFFMBEGcPShxsQwMFUcsF+xRPAgPTcn+wjG8AYsQH3kcAQwDbHT6SDxRrAwHvt6akeF8AvXybJi2kZwJyqlJWqDhbA2KzBVHKNFsBdlJGX9ccXwHhtDeqSWBbADZQEGlkuHcB6FBGsTCQXwMsF5LSj3QbAcqzqV+OpEcB5v7vY3tgQwKbz90ZWCAnAsl+bde26FMDlA3gfHD4SwIdIaA4TWxfARGdOVxakFcBWCgAT+WwSwJBmXvwsjRXAWNR2XcY5FsBD7ZlM7XQWwDObPOLfNBbAbG3QuYaVGMAXmwgPC9YJwItgUm4/CRLANok6Cxo/E8D5qw2V7OIXwElVhX78lBDAB5Xz0lu/FMBKWJjhTTUUwOKDMzjivhTAahODGBZGEcDyBHXRO0YVwBRo9fygRgvAtIZYDIG9EsDaomTWKvYTwMsOPsSpQA7A7gs8zdhRDcDlntKC0IoIwAKHtH3uixLAZKpT9Id6A8CpAk2ErvgAQAs9jx0xQPE/VOqWDxSpEsDwK1sjy1AQwBFH8ybwlhDAKGJT0tSlAcCxvn1XuqcCQL7BRChFThPAnJB8xAHwDsDDLF2izKgVwL91EqAgNBbAmat16U57HcCKsW0/K+UbwPmLdKcm7xfAuecs7oHuGsDflgq3QNcZwO7FzQiU1RPARE6+Bj5tFMD9IaBCs5kXwIIrTjRzGBnAUsCaGh7WGcA=",
          "dtype": "f8"
         },
         "y": {
          "bdata": "Ib68xOR+8b9yixxRS7yZP4BKYp0wn9S/u+YZMk/E07+8grkD9lL/vzaUP7UpTc6/MsJM+1izzj/IIB+mJGXlv1sdZ+XCSOq/zzEZU3wR079t9hop6evZv87NMJ9D6eY/ax95NDH43b/4/+NHRSTzP3ZwLo2+xta/HMt2sOZK4T+mJqUe91/wv3GiXndv6a4/GkUIkQgX5b/eg0ObOp/tv+buTZu9Nsq/L0aBsNWO7r+jFr6Y4ZLdP58TQM58UsE/8WKiNTryqT8DTwYolYjIP8+neU0T+dO/aceJyTFd4L+EuHcypEjxv6fH4jFuF/G/JvSQEu8S/L8iBQaIUz/Dv3k9vo/V/fu/2SuLcGdG+T8YQY/2gn4GwBWzZD27juC/SPRmvNo4878qmoNFGAzIv6NV4Tzfleu/GwcxcKyL5b8Cz1vRaN7Fv8kn2XwCsuU/Bb8sj8sX4r/+5mdle8Xmv+bZ0Zz3WcQ/ClbSw1vo4r+7mk4jOD/Qv6mKMWlmA9w/f7PpET+s37+rxCA8hwLPP3zdNUN46uS//+zGg46P579SwJcziUHOPw6/RoRx/vu/Dr6f6nFklb89ulaTejPZv9LHZDWCPce/iDTWVkTW5r8h2lDdt2vbv8ZuKHhA1Mw/gES+wSsn7L8sP/J4DCGyP+qStveSUem/rJtbGkNR5T8mYU5e8OXOP2KUXzsuHeC//sV2rVYM5z/zOzpb4Hz1P4NmaUWUqPY/XdzYCR/W1b+RxzKBJJrav9ct79Qc1tM/FKfOmB0mAkBUspvv54byv8SJbLmB3RlAGE9jDsu34z8tnd1Q2vwJQFVRW11g0AbA8ykvU52x8r8/jNE/G1X/v349Ij86xPS/U+L2kuBs8b+c+dEIpYf7v482o0Q8OwDAvPm9WJO5CMBbYNdtUA0BwMiywjzDr/O/7GHzTASg9r8qO+3gBgQHwBY/NXHA5gbAQVK4R9tM+r/D+slSXgH5v16ZVG3Cx80/6IL8+J257j/8xHk9WYnAP1Z345Df8vE/hFmBOg7bBMCUg5rWXtMEQOrjtz3Zruk/eNjCSJWP2b+6Cnc5zgT5P/7zOo0lyxdA+YudxDv/BEAKoiLNPuEIQBZRTXyzRRFAlLbrcbAF5j+1QNY/7Q0UQFa6otHLS/U/vBaSWwd9BEBYCkxaCjj0P/DnLjOSDvc/ur+3LqF9dr+sJnNxwnH0v8Qt2BB69fk/LP52D6oAuL+msosawPT3P2LBK6juY8e/tMkAzcIY9b+QR6r+r7bqvwybZTau+vO/3QEINt4aB8DX8RiOdvunvzE31wnMGuS/oCRZWZYW8L8CJ045/uL2vxhn0QKrDuS/ZhGq4isb5L/IIGETnIn/v+cuZk7MNNS/LxHqYmkiA8AggQIXwIUIwJyUpBQnM/m/3wiG77aXAMDXRElnqPkCwKwSVJUSqfS/dm5s75MN9L+NZiNIZzUCwJLh/Qt8+OO/qces9hHaBcDhfKfofbYEwGVPD3361QDAOO1GpUNN+b+acOEjVB/3v1Vzg72+Vvq/80L7+e387b9ccXmnI6Xmv2OZx8wHG/m/jQTMWZa46b/z5u9FT4n3v9nzKlHNcOq/w/9tBxon778LezzaZe/5vyyy5Mvb7b+/8PVipaRj+b8mF5XpHtfkvwKT9xzERsy/di4woYHnyr/ZS9h/DevVv2cGHzQps+G/IVxugM1h4z/Yi9QMhLf9P1qU32U0u/o/evD5gVzE+L8NA/zJYD7gvzMqX8xwruG/xOssruTa4T/aQWW1GOz9P/+CYcTvAti/kDCzwq50xT8pymlldITrv0CwfZSZCuS/LF2VI/kyCUDI80DyAGP0P6/i/+4Lk/C/gccx7xGZ9b9vwPHtS8oBwPkD2XjfjfK/t/X9bE2B0r920I9kJF37v8Aokq/NZP2/NmzM3bWt9b8=",
          "dtype": "f8"
         },
         "z": {
          "bdata": "mZMYP84j7z+JHwT1CV3HPwqmsU5MzuI/YnEXhSzn8T+i7lzOH+TZPygyF6xv6/8/WtQceNXMCUDT0nXbATD2P6rgFx3hR+Y/EEtex2or3D/yq28N8O3fPz4gS+J7hP0/CnUL2wi+8T/yctxAYcoEQOQMAH82CAhA5RTrjO4NAkAoKW2aAGMQQAynAchB/AdAb3FN/JfEDUDfzaO/AEUNQKtbLCZdHQtA70NHEU/zDkCyOZRalM8LQKbevn5o2P4/3VEFr1KvB0DOTf+WtgbuP66lEjuxnPo/akThehuV9z9xh3cQBoTzP/DQ+Wb1A+k/WVbMxNO09T+YP0fEPqr6P33BfpF6y+U/1LD54XfT5D9CGqlm2OXzPw98EKjjy/s/dAuoqz2b9D/xLZEPwjn1P3HGYdaLeQNA8wiBCo0SCkAHt/rmzzYFQJIE7HjMo/g/XTiQmMARAUCBqeWjXMUEQKu/YbBRiOE/4n7GwlUZAkAOwv8iLzQCQKzcJrqhn/A/ibRYI6qaAECwM6DsCFv3P2Fn6rvLfwtAlpMpJpzr+j/h2qAGU0LtP6k2T/mN7/w/W6xpDqOV8D9J31WscF7zP0+XNhahmPc/gCwFjzOe+T8prMQpjFfdP50at8ki9+U/wymWj1YG3D8kaJUYxrjpP37anC7Is+4/InQ47bIM0T/rSwo2f/0BQL4YXx0+LwRApCsqZnyM2z+SHONk54X2P3lFEdkHOMA/xVac9OcBAEDg2E3w4+gAQH1IqngxWuw/NjoXSqm74D8SqUA1iKPrPw9g2iKiTL+/0f+e7zkH0T/MFfoeoX/gP4xGu7FnYQRAO62Zt9KSBkCTa9FWGj34Pzmzm/FX1vk/n2+CgA+B9T8Di8t0dIoCQA9snX1IJLm/mVF4/emNBECLdVC9f88DQL7jCx2uewFA9LDy6H58A0A8dzOViu8DQJFca2eY0fI/f/6BD0VqtL9xqbXxG+nPP0/yGgfA6+6/9Bd6MrrG1L/+sdXdLLvkvyfV8LiZ3ca/AMfMQ+Uo279Z1V89PRwBwPjokXf42NI/WLdYeprO2T9b2SRFnGv1vwp3RwlM6vG/WBDxaXTF1j8asB/5ml3mv9StIJCEevy/V9+9270txT/oxBYnaQsIwCqk8wJ/VOK/RoJMESDd3L9LIIAfpOGzP1YT+qZOT+0/nQXxKUHiwz/+pRgQaIOgv9ee01yq/e+/x+DljGpCub9ItYRIN0DrP2Ls7lmnCOY/H283V6ksxL+zWGOe17LfP8gn/dx2X9K/abmjhmECyD+Jt6fLvaaJP1Efn1caM/g/LBZnQ9Xg0z97o+q7mUHkP0LVXghzMuA/GD9Tynqq27+pK9RsbqC6P6gcWOuZ6da/fbxJlawu7j9H018uaa3GvxorjXIgXOw//I0VvzBG0z/Gzo7CgFPpP0uF8CScQes/8emMt/fIwD/B9R2IHMa1P3qJICnTXPM/ViC+/Twf2T86KJHpNKbZP6SsxaVL0tk/KpL9fOle0D8iZo9G+xvtP9rRSFsbRvo/6KAL4NSl9z/ll5cUsHLqP8y2FqJe8/k/TrQz4N8u9D9xqEYTfED2P9PmTlV5sfY/0nsLe3kH/z/QXYZz0WX3P6jXswG6r/Q/91Vr2xjN/j9MKqW1JJ8BQG+/jRNz0O8/jJp5+9V68z8nkaw8qTvqP/rLCFvE5/Q/J1c1uXBF7j+eoUoBt+f9PznyzPq+MgFAp47sf/uQ8z9c012h9uL6P5U2MBdAqPI/jecPnA8j+z9zqTU9GuniP5cATn/OkPE/RmZA2w+14z/MbDVJFRzzP5uPQfQM+ug/+IY2HxDc1b9Z35RnLbXoPzo4Jpj+XfE/J32G/vlYxL9b/0Ba2ouWv6YiPFdWqeQ/vLHzpp3Z1T+4FFJ4Hb79PxIAUEzUwOg/vMfNyoHV+T8=",
          "dtype": "f8"
         }
        },
        {
         "hovertemplate": "label=5<br>PC1=%{x}<br>PC2=%{y}<br>PC3=%{z}<extra></extra>",
         "legendgroup": "5",
         "marker": {
          "color": "#19d3f3",
          "symbol": "circle"
         },
         "mode": "markers",
         "name": "5",
         "scene": "scene",
         "showlegend": true,
         "type": "scatter3d",
         "x": {
          "bdata": "m+wtKorU9D/ovBC1KwQPQIppx+A3HNg/kWt65JoH/T/YE6sz9eUKQMFPKB5U7ABAH7pDCidv7z+74g5Fa9P/P/8v37w/3vQ/JDO4xi4d9T9HgV5l0j/4P1+q2N9A+glAD2zQM24c6j8fblwkE5gRQB2sBvrmxRBAt851Vby9/j91veiFmIEKQJwKv6oK4xBAABnsjb7/BkC45uNMmMkRQBvz//WwnAtAMCnQ2GWLDUAIiOSR2joHQFQ2nLg2Ivc/RvgJ6JGrBECNWgp8By8HQK/BsgBpofQ/vmtbi88QA0D2HFs5sp/0Pwbt8wtORNQ//yAdhTWJ9j8hRgCGKbH9P3qjOq+NKOM/SFtRcIVu4D8IIdrQx/rYP7ws6HD6etk/OhJKKCJnBEAU6/QBEusBQAJ+L+7/xg9A2hscKDH57T80QyEg9IXfP2WhxivphcS/pZuPyMdJBEDgN4qihWXyPzjlwOxCKNg/rW0KPep78L9lC2qWYkb6v/YbC8k6u+I/z3KFNWvdAUDtoGN9nRT7P+G9ET+LnfE/gTKgAfAG+b9fGvshfUTrv6yuTILQ++w/hLEBEr5L/D+ST9Cmu771P908rsoMces/+RfbItuWtD8wCMwBqvD2P+OobQu0ofY/rb77waYl0D9Xm+SwKMXiP5RCDMcZgPc/5Pjonpne9r/pl5mKrC0AQPMn8xqGpvW/VDStVMqj8j9kbdLKx9/9P8MBhPYGcg7AI+QntD5M2T/Hcau8rEe2vwa5qJKzvuM/bI6Yoo3o978/Yl+O+6MCwGrL6/u0APk/6z3K0a2L8D8fLJfGFMrkPyveDkJISQVAxLoqWeWLCUDbPKNRNREFQDSHgOCuHw1Aacl1BvnD/j+DEbACoL26vyZAwH6lsQVA7av1K81d+T/MxvtEI0L0PxD1mHzDXAhA9nTk4CA5AUCO13A9WWQHQFSJjABNLQNAFIv2KWN2CkDFl+nqoYb9P1IqDhgQjgRAGbIiqpb3/z/8m+i343kFQJJGnwR0EvY//Um/zBtlCkAeS1LB/4cQQCCjIx7TKQBAzFhCNO31/z/aMlTT5dwGQBMYIloDP/k/1mw2ia/T8z+YwFBUSAYPQFj+pof90eU/5jyNEWPi9z+fLoJgsFLjvyDWNdtf/9W/cHYmuQ7V2z9hgjs7RCbzvzN1D+9cP/g/FnwSClXt/r9hHsdSQLT4P4D0BrRf5f4/z7hVeD4H9L9PiBRIRxj0Px3OF4zffPq/bcvHAkPg1D9LmfDZF1b+Pwx1K6+8bRFATNs9yCFc7j+/LxKkSzgHQGMEgBegLRBAI2Kfj99B/78d0jDw1QAtPwFA9H3Yi/g/cb4UNdvtE0D8Z3EnieUBQK3Uj26h4AJAnx6XtUhMFkAAuGBQTfrvP0aRTeNwlBBAYDkVa4aC3r8voApvzBMEQExp5g/Lb9w/idPhK3YJ+z+9doIiCS3zP4qCvXtUDKI/zXihgmhj7L8Kh8xOnhDbv0pW81A/5PI/9IRcPkFclj8HsgmIGbQEQMb/ZAJ7Rfs/wrH6YfGa9j8e7waSutcBQAXdD37yOPs/Tclk1hzuBkARmKlznaO0P36NMKVVFAFANZVNwgabvz/pxR3LJCfhPx03pr4bvPk/c170W1GV+T/x7Gb+CZHuP4/3em6q8fs/oefRxuIl9T98kG+72DnVvw2HDLNnovI/OMdNU4zBAUBQrp7s6nEUQO/uIUnsx8+/7FP9qK53DECqT45pi1n+PxLjKCPixde/tLBhmAv//D9IgUwpsoP8P+Dp8EvZSdK/YlPxnDJB1j+BMGWSgsO2P9TDGt9y+OW/H8T3mV/nAsDfD1D28b7Cv0+PxLniFPS/V341Tr3t5T/+WXK7vqnvv3HFhhm1OeK/gxt4DJ/c/r+WFo+L8V7hP4DoRHDn0+A/Hn1NO8EY+b/F2XWKFaXHPw==",
          "dtype": "f8"
         },
         "y": {
          "bdata": "zmeD5/Re8r/DtCNbwtoEQPicrWLEzeA/82BC5NuqA0BISTQ1r7YHQH1RdLKTSABAYBC5D6Rj8j+phDScuzIEQCWb08b2i9m/kGChPsgp6D+hBNXW7ljyPwfG1HBB5ARALHvnwF2o6j8cdWCKRHwEQPvGAJ6GNgRA4yJAua0m8D9xzIAW84MAQHiQcY+28QhAgCaJQdL8/j/zFlSBevcBQE8epwDKmQRAhXD5IwwOAEB5G6vw5ib+P1qQ8uzmTug/J7woB0+aAECzs9+7c3QBQCP5DVYbo82/yeZOQINdDkCy8NgN/PbuP14ySLHNgvE/BH+29f7B+L+nBt698voBwAaxQl0wSvg/Bx9SKQFM47/cOUD9ynnyP5TT2k8SWMO/2LsYGXfu9D+9X4e0u5rlvz/OYBNztwhAxPNH+/vtBEDQTnYsmxEDQPQC547/3wRA8fzoYqOb9j/Yj54i1tv0P3z5mjcRp/8/lXQgYVdzCEBhEkP+vLMCQNzYj01oQv8/rmp6xXqY/z/iZLg4nIH7P8VR6A62DQJAujuKbtFFAEAhIQ+qHtHxP7GkJlNpMtG/qHbx9Tzc8j8NZ6PG0g4EQN7iJkPOoum/0IgG5Yz24j845ZPSZDjkP43nV/AeMNs/VykG09ya0b9KPQAjUA7nv215s3p50u8/z4gJxuxeBkA5s34skFTUPy8vSDC/9vs/A0dFwPAMxz+3+2saeLTfP0ZYUMv/ds0/ie+7oZl9AkD8nCuPqWb3P6rDp+EgugBAfHQoZNomu78QqP3uJLHwP2Cn48PqMPC/8857Mgv5CUAUnlijiznyPyP7jGp5ReE/1Kc5TNafD0AXpmvPZB7/P4ckAeWqpQFAFveTkBH7EEC3wCxpWx8FQBVKs2f7Ww5AfyccAG9kC0BlmaJqYmgBQFsUioxXAghARbwEBBG4B0AhyYFGvfYAQHkrPf+CNQ1A/DqfgDiNAUC43w5JtrvsP7RFuqd56/K/idxWvlDCAMB54npFLLIAwClU/BPLnqQ/gFXeyIOZ9r8gGGc6SmsHwD97qU9kJ9C/Fsti9Yg68r/zcYqTdxz3P8HOZIntHfK/9BiKzd/ZAMDF6yLdx5LZv79TJXgT/gZAp8IhAgPiCEBYHm5aw4H5P0nprKkj4PQ/wwkkTyn88j+uJOa/aSz7P1yPTkVUZvc/6NhhkdUd7z8zWld9wLwCQET+nPEj9OM/DpKmvwnG8L93kQOo1/r4PzyEAj9GqtO/Vqv2xhxd979Ip3T68lXzv2HxG6FL2AVAzVuF0syO6T/6pm04DOAMQMX9Dc8gAAtAZwX4QBmg4L/e5OsXAt33P4YdC/OgLc2/Bf799gf3BEB2dTFG/X7zP+3ADUm7/uI/XJE4gt/PBkAsedtGCELrv5JXKQYJ3Po/rwu1GC4w0T9NI+YrSt7HPxEQe+F8g+C/vsz/hgHz+z8zw1ZOIurQPyW3YHYAeP6/BNh699Nq9L8UoWRT+CS9P/TNeL8hm/M/RddHsPyU/r+SrheJJ14AQOKiNVz+MfM/+sZKCkHV678ksqAMEjgCwNLhKxXOE9y/Pik2fxvpxD+8tm5g4oewPxhhBiH5uuW/jL+XecWG4L9X1yoa/0vZv8L9NrvGMMk/Vdg/eGgK87/Wq4FbuJ7sv072h2C5YvE/rNWvYx1m8D8ZMwu1n2XXP8PF8C5LWvk/66iaop8VAUBbzZaVITUGQCyWPsFYWvI/mk3VJ1sY8j9gcAbGcLH7P4Ra+zbP6bQ/lQ9xC2Kz5z9IiTxKviD7P4J9MLUyvdM/QsYw9+C95j+zsj0MtijmP7gM3uPmWuM/hkNYC+cat79SkL5neAu+P3ay3Wlv9Po/bOHE5U759z8Prd+YoAfwPwBGCwkUtPE/b/fVqdtx5L+10heICY3fvxLReShqefK/ZRifFBQS3L/wMn4Mb5Tzvw==",
          "dtype": "f8"
         },
         "z": {
          "bdata": "uClgW5cx+b/WmjR/h7z9P1wVFXZYsvU/DhgWomhj57/QA5fCCM3pP/LuBMY6lPI/vcS71NwNAECwNUIG01jgv/wwLY3EKts/WDv6LUWZ5T8ixwW908DsPwmlQ5GiJv0/aGtjbJCP5T/C50FyNP30P7vE4/a8zQNAUPlErVkN1j8kJkzPv1wDQPePWBUmFfU/8Hlerh7x9j8jXZ49UybyP/hnstOmvfI/MGXurAwe2z/8vON9sDn7PzBioYQaGP4/YwCfpLga/j+Br7YePgz/PxlST2CIVwLA+m/WzwAE9z+62A96BzjyvxLHYC+po/a/0Yeol/bNAMAvyhcp2DsCwCXSjypX6ue/+BT3dCWJ0j8klZmX1BPwv6WONJFa6gbAZrL4d+v75L872jLnrKAFwBEej7kkqPg/omUa3qIL5b+jFaDH8CfjP3isybmDb9w/Jv3+KzoF9b9cZFm5MJfZvyGker4TVgDA9y8lUcx6hb8nBv3w16oFwIiKROG8lfC/MMLv+X1r3b/nneq2joK3v5zjJJQdL+k/UOO366fb3j9SLfcNg2MAwGeS8wMBiQ3AQcgCSdGpDMDN3b7FtFcFwGZ+j+p2EAzAsSAWrxv7DcCoKmO5mhgOwH4vsrgPMQDAPNdz46xID8C0/C9CSREPwA0IDvDGZwPAnaJOhidWA8C5kaE+NXgPwBrK0b5Tzeq/ifRpgvOGhj9JoukehFfAP2ehKbQwPda/LlklxkZM9j8PrYtLruXvP3pAM0WRIfA/8Rglx0i56L8faZnCpIbTv3bx2vmTNvO/wLfoBKSP7T96ULauV9rwP/8B94eqhsG/BSgt+ssBAEB4KWPzlInoPzTezgYI4e4/aUMNYcxxAECW5XxxPU/4P3L/C8ld1/8/No3c0j/c8z+h7PYslYr6P1m58LX6qvg/G3stBTqb9j9eYRS/wfL0PwrRJr8WJe0/mC5YRSgC9j/rfMDvqBjxv9kPLu1vdgXAvYed1RXoAcAaAL3ZFWEKwF21VpHw1wbARW0zkkCEB8D/rjtge2MEwIH2wS0oHgTA0TRzFfmvCcAJDGOHH6P7v7Walg0Y/wnALrgUgyQIC8BJ5XPaPaIFwCz5bWsnkuM/scQnezQMwD+d4Cl41Yf/v7BM0RkNi9c/erG8Z4jx5D9yhoywRar7PwMVC8TJce2/GmjvdoqK0L8zqJiozsrzP0EGErw4aMQ/zMkNOiHD8r8KwoXXnLnnP21sd4WdNME/9LeTm6QaAcAAZABSP78EwFbeZT/RAus/CTzQSMHKAMDG39rSanDWP37HwQSccvc/8rORYuVq9b90JQdU+DLoP1DPEuvbPv+/drFo1hdB8T9802bSa0D1P7RmdS3CgdY/kX6bfO/B6D8NysqnGukNwBGsA/l2hgPA1KQ2RR3L5L9E7esdNTvxv58WNOLRLLG/boT0DfA/fL9tAIBn/+T1v6zo1bkPyvu/1it+P9Az1j++IiMbe+35P3D3CI2gc/I/sk5IuAKX/b/Q3MvPSUX2v0t0weDBogbAtIUb8RSTB8ACRh8j6fUGwE6GH0I/mAvAzZDQZiy6B8CJCqM7upQFwC/Iknog4AvAYuG+6RHmAMDiFINjRNb8vxnlrRbbQQjAH92YAqMYBsAhaG8nMaUAwIrQ2Qmi4/y/A8inGzoS7z8C/t5LJ+T5PzbGqlTldeg/KH7pKPXC/z8AaESv4jL3P7+ph5SVMvs/3nuVCICupb8obIATheD1P8zmU4lnVABAtE9kPaed+z88dGvrB0MFQO6yziaUu/M/VLXRIf3bAECfZhLWu3YIwIZ3qeMkXfa/5IPS++ZM9b+K+SA/cAzfv525dfovXOm/iiY5B8N64b8gMR5gJO31vyeYRngkbAPAoOU5Aohn/b8lJoCkbBwJwJe1ZomzPP6/qmUaQRRz/b9m+AApLPMAwA==",
          "dtype": "f8"
         }
        },
        {
         "hovertemplate": "label=6<br>PC1=%{x}<br>PC2=%{y}<br>PC3=%{z}<extra></extra>",
         "legendgroup": "6",
         "marker": {
          "color": "#FF6692",
          "symbol": "circle"
         },
         "mode": "markers",
         "name": "6",
         "scene": "scene",
         "showlegend": true,
         "type": "scatter3d",
         "x": {
          "bdata": "T2Kc+5Ly9r/cx99utnvtvwZAtO9tlvS/Z7r61ln8+79AfFQHWbL8v1njPsHUdvu//IewN85c8r+P8cRC0OG7vwfoE3dTPfC/9zucuMZN9r+5AL6teEj0vwC9n1wr5gHARqRQKdnb8r82ivK1olXiv270JQlJl/u/8sImTxRY5L+jP5xHkrbxvz6VcRBzDdK/z6w/5WG6AcDCy5bsgCbuv/E2ZAgPG/i/4iBZpxEV5b/6dl11Epbzv5W9eDHSJv+/1qTYct1J2r8l9DOXKgLwv2wgWheeHvm/SJCnGfLg7r8s+7chkKLyv1/XVILGPLO/fk6ag7WT4r88ZCLNO/Dgv7ekcJKgXPC/FwAcPrM5/b9rTSCk6Ifiv/WFo/062fG/aQwzzY8H9r/CSlzqUP72v8b8lKm/TwTAqNkG6eBcAsAGF5+/5m8BwNw52yxs1ALATjL0In+W8r9+u+cWgnADwEd8bBFtNPy/++RU+1HdAMA06xn7Rhj9vwfEVsC80/S/f8I3dRf+AMBTlE6uJZAEwO/lEwSiiQfApWFz4/to679xxW5q6jb1vxxVw7Eg+PG/AKiy/MBS7b+n2eZ/ijn3v8PUVOU4sPu/buz9IsICAcDwq4GXDCz9v3OajJ4EpQDALbJV7gwN/b/2X7zxyvX5v17zAZiVpvK/xWZIBuCwAcDwp+KNYVfov/vK6aF2Rfm/7qHIAqJK7r//NO8D4bL+v6gn6Uz39OK/taA58vPd8r+L8SMNus3qvzbnfXYlh+q/bagkZsIE979BcXXIakXwvyErt3iX2Om/kEXaGrOS/r9/kgXLfV7xvwQIifre4Pq/0dQ9z8pr/r8vYh7rQhEAwMceBeGMNe6/Gdfh78aQ+L8q9pGKhEUBwLPlwXhPie+/5TMqzXsJAsDI6JtlQjwCwJKCrS8LIvS/bIL7fgJD9L9MBBfZMWgAwBE1yZh8DPy/mjQZh4W/9L/Ld40ZSK73vzIXorZlfNy/E6XcCpjf9L/skWn815Lmv3rvLyJDGvu/W9gPyHfe8b+4RNwlpznnvx4XnsjSr+a/1616MJyK9r/nJiPZsBwCwH8MH/2Z6O+/iSPhiZ34/b9vfkaFobq2v9k01bUgbfC/HVku3fut+L+h7BWgOSH6vzeaRdcfnuy/dwMXBYC0xr+BhftnMQX0v1rFht8yieK/EFURExmO8r9Y1hrupvvVv38pecPfYOS/IJEhqDRD7L/PdQqXJPHxv8f50E9mH9E/dJWBlRWS+b86Z2QENdHyv/oRjeo2euO/acDmitCw8b8BFH5nQwrxv8gXrv7/yO+/3KsInpUy7r+toVWhI/X1vwURnC0GIPS/vkmPch9f8L/xEjJOcDbxvyQoCunTMvC/sq/ZnyTE27+RWIV1fKi5P24T2kOpyKe/Jx2qi1y7zL/3/A4d0gr2v1zySMOqhO+/ecBa/Uq39L+BAKfqwE3wv19mLj1QJfS/ABnBd4s217+Ptics4Dbjv0ZHRxmHqu6/u/LiCntc879BY4p47P3xv3CzWIarDu6/0EZgQ0rq679OInWqMcP5v1na7i1/lfq/Y61BBnYg9L/kSIveudPtv48nFx53YfK/MDO8z486AcCBNwqqLM/0v2kdjFhhxfO/KtPJRHrM/L/7C3fFDjb9v6eb+C9jWvC/KO9yE275/L9em8ZJTjr/v6mBKzAIJO+/dAwM2D7f+L+KcW1tA3f+vxs2x6ATuwHAWT/fPvxs/L8S8Zno1Bn8v2PQ4W6nC/e/61HJoQNT+7/zPhd+BY78v2v9ryB3KPq/76qwx+BW87/6jbdtbij3v4tN6ptG1QDA2FzQobNv578z7gPcwVX/v2yue4kAyvK/3PYkHdgI6b9WILuGBTrtv5lUmAnx5f2/DJLs1Cnt/r+k4OMdicvwvyP6hOKUBgHAxZ47za7+9b8=",
          "dtype": "f8"
         },
         "y": {
          "bdata": "abKYd6qpB8Ba+dr5ERkKwNFS4FJrwQ/Ah1PkOeY0B8Cge9ttvicQwJULesvqCxHAAigP9FRKEsDET5bmzhcTwAYUU9GzIBDAVuMjcJgACcABqpE+qN33v1Ah+l4ZOf6/aI8P/BfbAsAVGQnd80wTwPsR65MCgQ7AVADHjr/IEMBYdO2lcD0SwEwvCcAlMBHAGfD9Dh6yC8CQnt9Dc+8QwGjCp3LA6hHAAhMrQPhNE8AJaARCml0MwIbmS9JT8Q7Af7+3gFfAE8BkhyxyEHEQwHyQqzc22w/AnimS4RxrEsDRXRdBzkUNwB8myByM6w/ATRtgzLoEEsBrCdyjq8oPwCCI8+as+BPAGJ9Wqn3KCsBDfYEvSwwSwPo+AiFykQ7AVfzv//DWEcCc1nmJI8sQwL3oQqTAwQjAZ0Q5UoU7AMBrODVAjiYJwDnXYcybLva/HYy5V5IcBsA29/CxCiYQwBV9jcAv2AbAJ1/vf1RTDcCFQwnOKaQNwIDhZDQ/dQ/AdmpE18sJDMDnQotkQDUMwPzij7tIzbk/vBl72haPDMBr+O5gpTUIwE0UbK9ZyxHAIXey7Z9sB8A23OFZ5aQBwJXAmpRljQbAj0NueP03DMDDBWwD5tIEwG7tM25PHQLAW6FX2f5GAcC9zekinz4PwMWRdCASXxDAZ4TpimYbCMAW9EOs55kSwLemCfoichHAXcdwbwyZEMAgyJKzdCwWwNTbNJkjDxLAHICqwAXuEcDY/I1zrkkRwNlkESkbQxHAIvPR5C7LEMCIRWqtlfcUwMWme0XiahPAU+fbQdRREsD5vn/ZeAERwA/m0eaBBw/AJumows1xCcBPUPocEaIFwFRtkgQdvBHA3+dP3EjXC8B3y/wRqfgMwI+prZV94RDA3swDCRl9CsAuIu4mOdARwBg+WqrtOhDAHCtc68ekEMDxlkHdybEDwKDHPJJHWhDAZqQvNZpaEMBOIJhR7OIQwG5rIeLxkg7AfwkJqi0aEsCFALHxU0cQwDi7CKWhihDASrfNMeaKEcDqlHKPQFgPwP4G4+qEFxHArEZLPZi2EMANsP8aVJUMwMXhTPwYsBHA8Ab3EePHDsAdN6h6B3gSwLai/l+qxhLAECGfTzo1EMAunFGsGEENwItFDv1pCwvAKDVV5JAoE8BOAyg0VDIQwDKWqUouKBjA4LZntwebFcCg241VpS8WwO14jYckiBDAnp3Be1BVCsA+5ubJsh0SwOd4+77RXg/Ar3bamHlcD8BgndQ0IrkRwEDGSYBFsBfAwTgCzixfFMDKtPcNyeYQwE05gJBtbhLAcFFhUezYEcDdZwMnR2oKwI+xdT6ciw/AN8HiXubMEcDzEm1K07AOwDJH/KGqNBfAWfS4V5fmEcAQH66ljKoRwI/S+TuasRnAdRNJjvB6F8ApZlMPTXANwAtId0O6OwnAeuZjwgCIC8AoxsMjUPENwNXllql8OwPAroRYE4SzGsDu9qdVRWoIwGQHcuJWRwjAf8HTQbHEEcBuVToNw8UQwCb09+9oTRHAqkWRIt/eEcA7NBnfwhcKwIbv2o3eQRPA+mY4F3C6EMDQ93KPhXwRwJX3klNLchTArmXhn23FEMDzCowxVgwSwMhd+WHurhHAk2fpZtWkEcDGR5He1FIRwPX3YEgXbP2/IdF7fUhKA8BgbbfMd9D2vw/gm3c1uQ/A012D2pElB8CX/jI98ZwMwKFh118AzAHAoSYB/HNQCsBR7xiJdeEKwI9sTrWrPgLAcBOB3KLWD8AkRsr6ld72v5FFKAMnDPi/pnRXv8daEcC7aKnyKoUOwKfFKR5WNxHAjkaXNNp+EsD/+gfrLhAOwJ//IQB5VQrAYivYHphVEMAjXQUW3sASwF70QH8VjxDAAE59nczIDcDC9qSQLaIRwCetgUM0lAbAe/WetsurEcA=",
          "dtype": "f8"
         },
         "z": {
          "bdata": "L+JRN3WmBkDjbbKYJzYLQCWSh7D/VwRANiKlC4MPBUDRvwE/SY//Pyhxqd3flAFAXpnzRn2zB0AXfVSeTA/lP09qFhu0kglAn2xA2Db8CkDDTM2FHxQOQPPgU1ImLghAaYX2BVswDkCqks8z77/nP7LrEsMbBvs/czTZKA3iBkBl+K6df+jnP8Zcu03UV/U/w6pOJ9SdB0A8Pb0btVP4P8ut4+TEE+E/I52nSeYh8D+jfV9wfQMLQOQTihQYfOo/0MuP//mz27+kNIz7rSjNP3ZvaBwLKOE/dYjunZnW2D+KhCTpeKv6P6Yyp0udJ6c/P5gs0MbKyD+mQ3ZKffDgP/6x9h24YP4/QW6ToHOsBEACvI3L7hHZPyXJB5hNGPQ/xwvU+Qbj2T9gV5dSvXfeP4UUT1kcuO0/aRMymJ1rxz/GDRxYzvjvP34VT2F9lue/Io6U38Ir8j9slCCe5BzwP0wQltU1S/E/kHxearqS6j+lmjDtPu4AQKLLo+FemvY/oRqXzzsLvT9SLSCTB9f5PywFPhPJhQFA3tYK+YxC8z/bK8/QFvq8P+pyhelsWq6/JeX1bANq6z/3qEAB/JLwP9uLnDGHUWe/ntWsCRE38z/oC9+VtZnjvyUyvmdTi90/MvFBD8OO9j8sFjyH+xvwP6VLRCWqnvc/hPGLU03G1j92mSpI5bf2P/0+YDNrKfA/rcL6qret8D/HnASVuzDgP1lFq7XMoIs/fHFCSu392z9ZL2H2rjQAQK7qLxcaENQ/xrpSPROD3j8ZA6NVvQIKQKEZo7EKw98/JVg1F8DCBkDHyQvnyZQDQECZuhjsLPK/TGRNGR8R/r+QCCRFpPHmPwDopXSJ4tm/SoIZz8CVA0BMGt4wcYD0P5rbqzmQVNA/R+zcR8l36r+YDDWrxPDWP0hss0EXCtK/MxWPKnkN4z/jThb1tFUFQIH0dC6encc/Rp7KchUx3r/BNKY513XBP6/on5AnV9e/GVeKbQSbyz//2n1KW7vXvymgA/nBqNo/2LRMPafs1L9fNx2RI4fCP+XYkFDQc9C/OVlRZoP+A0CqzWmHT6HlP575GRxbU9o/iXgIDS2Thj9QmLzGEQPZP9RcH1lrzeW/Ksb7uI2P6T9Dgyuc1XgCQBhcnAvsE/8/CEIkNYT++j9IVpxuOBkAQCT7GQQpygVA5HeW7iZHD0A8C7fgTwcCQMJQBGAONO8/Bnj7HlzMA0Cug4ysPlDYP1OxhXNUW/W/f60hx1qk6z9usXWnHD39PytI10DWQgFAuQTxMu188D8olUEuyO31P+tg1S8Tf/8/dNzjXFXcAEBsw5cR5mTYP0eYj8RXqPI/otUkegd2/T+1ZJzQhLLzP7xjq86rFgFAWns0zJaCA0CYKHOKoq8GQEcGeNihPgFAusd6zVrl/z/2Cth4KED2P152SEd50ew/Hp/IcLwA4j/bXbW/AW/3P22cpqxPWfc/1eodnNnuC0CzR8zXDXkBQBlY4p0houY/bAwL0JfL3L/mpvx5BznXv4ycg42TYOa/6NVixjNw7L8uzdgkUw7Qv9XOsketBva/VzBU2+Bs5T8dEKWePO/mvxvGkZVLFuo/Fo4wEIRG5L8R76qbFyy9Pxrm34e4Dtc/W4KPyE4a4T8KBTGjlBL1P5w+8F+Ozv4/vE11GFge/D/9LJ1PDZgOQAYiBSK96gFAOeVU/tW/AUA/n7UWNksAQCsGmQBxRwdA8O490y5O+T9GZIsSDJn4PxMRH5FpDgFAdn8zhkPY/z+f8BF4hMAJQKGWCB/+HwlAFvUc4KLQAEDGg26QTs/TP4pJHRiap/o/XqGw6LyW8T9YG7+HmxH0P5W9aT/NwgJAnMjfxk4Q9j+30ePdoG23v3sl6q/Q5wJAkedsyqQrB0CY4sC2F7L0P1vWkvOw/AxAXY0wey9t4T8=",
          "dtype": "f8"
         }
        },
        {
         "hovertemplate": "label=7<br>PC1=%{x}<br>PC2=%{y}<br>PC3=%{z}<extra></extra>",
         "legendgroup": "7",
         "marker": {
          "color": "#B6E880",
          "symbol": "circle"
         },
         "mode": "markers",
         "name": "7",
         "scene": "scene",
         "showlegend": true,
         "type": "scatter3d",
         "x": {
          "bdata": "dHzIwNmn47+TWAO4NqX2v45I9n8QvQ7AweKF0VFZA8C8MFlFh0Thv1QfAdqI/AnAjyloxIS+9r/IwY0+v3Dxv1cOJ3lbJwrAp+Y2lphWsL+I/BeeSEz8v65bE1bptOS/VlZO0RYd4r/ukpKEPMTgvzviu1xJeNu/Xhn0REvm4r+O0V4PO0X5v3z46CmZGO2/EPi9DY66oD9C0uFO/pytPy+uN+uD2NO/e9qEVcYG0T9tRFWpkHHsv3XFCiBOaMw/KayUN4cR1L/aMbQWVeb7v9hsNU7d5OC/8u6EKnbyDMDUx1CJUKHjPz+I6hPQ7P6/Kiud7/P69r9QpDChGvoMwAij3qK30tu/VOJRr7ET4L8HfJzduMLtP3tfs089Bcy/7+D7Z6R+3b8OHcoiE4IDwORdgZn3vQbAP8ocA8vqDMCyL5V2WIEQwETkTa3xYBLAbjpiclIv7L+ZafEZZ/cFwI+3dukHPRbAFM17bpcoFcBqcOmNuffbv0OC4nPM7/a/JOpbhvAHEsBjg6cZQfYJwAt+KOq3+fS/DC76asj98D+KIPPSClriP3AdltXuIv6/0BbSLvDH97/4YzWahlLkvzACYm39NtM/ycdzh4ch/b/IDU90oLPfPzgnOQngDuG/qo0cOSjC3b+t4GkY4uW/P4Vwyz3mnfU/8GfBGfEa27/q07HrBSXnv96Mxh6SHAXAheGl9mYiHMDAQE2Ud3MbwI2IUcdHwRHAban1mQJgBMAiOZzeYLUDwCFdwiujqgbA+OxaQzZ9HcC1/AvXuF8NwAgyJq/PWQ3ACBlRvLJ1FMBJiJjR2XDVvy/ve8TRrtC/RtCdHgz45j/upQzG2GzuP4rjewHgRgFAaq4YX3/24r9cXzwedintP41G4uGDquo/5OpeotHW3z+bQTb+llL4v2/6RgbJR+U/bEQ71FWS2z9d/3QDS/3NP1+3BUxJnO0/w51pb1Be/r+Kx96jpYjlP0BJjn/74/O/mG738Ump5r978snxvnUAwLxfbNm/59G/+k0ttlfv7L++RimAxRTVv1iOt6Oii/m/tGWELssRAsB7jgTdzOHBv5SlI6PDueO/0ChgQ7bd0D983Ocuff7av36KgHhpDc6/uUKP7SMD4T/k9FqFhS7HP2NQd6fd0d0/TXsDAElA8T8tyhFNALDUP1sxHnVhedu/XN/bGGRe3L8UL7gldyTQP4moClluZeM/WDAA4+Ul5T+JqSKwpI3ePyj3ERvubem/+D0FYqwwAMBwP68h73HmP7wsnlRjLus/f9W1YC11vT8BeW27a7zKv3YdimKEF/U/8Fgqmkc66z+gtbt4i2LvP4axYwLXePM/YwkJumt7+L8sUEU9jETYv4wGestQAAVAiSKi3nvXzT+zaM2wGDXxP6F2Wn2hl8U/tzwMFaC99z+qszjCvwL0P2gUKIh3ytc/OxRcfQe79z+/6v1/zCn9P0i1/VgQy9a/aX0ndiiZ9j/VEPM94nnxv8QYLaXaFZI/rMH1ZbfCAsB8MmZPHRgHwMkjB0gQJv6//pJa+nyL5r+x2cYAP2v7v0GKiYDiaxDA4U53R9U79L8hG7VtWlbwv2nJXjgyJeS/L9XMRQXo8r/vPswsk+z6v4WN1Y5ULQDAUzNtPjwFAMBS070AjAQNQPdNOYJFEPk/WC9rCBAuwr9qZOspyFkBQGz0lfV+/9Q/H7s4NJFvCkBH/BgrpiHMv8SWDWqCnABAxmgB846SDkCWVV67SuH8v4JaJome68u/qkjp8+reC0CKCXGjzDHQv+wriVscMgjAYLhVR9/y6b/0eP3Wje8CwObSDzC0rQTAPuC1t8fw7r+/qnM1GTP1v9F9oVxL6Pq/7yFd5J00AMDki2ii+rjov4xxxGoCt9s/jJfwxOGN+b+mtcFsbdatvw==",
          "dtype": "f8"
         },
         "y": {
          "bdata": "/K78w0bZFUBdl10pjEX/Py3QXfFt0wtAw6jtZU6UBUBqwZCrXgYSQPjn+0AFkRFA6EddYy0PAUCyi6MEUZ8NQLqVOeRGuQZAiq+LOSXoBUCOTTVfyzcDQJzGvlnLRAdAVVW6UZeGDkAwoHxIhbkEQPeubAQDswBA3HRJKLkR+D82HYyOkQ8YQPKfQVjRIxJAXUkE8uHhBkBimTF8wg30P+lR8XdsawpAg9dhzWxa8T9oYk50f9AUQKeEdGVu/ARAefJYUmRJ9T+BX+GlxMwgQO9fTXQMhAVA9y7DJfRfHkAM0++zdlsGQFnr+yDzeBJAAuyCuJkvFUA0mCmTHo4hQCPGDTfmZgRAKhTm3mxpA0B9yD2h47v/P/bXq9S3UO4/evvQ1/DoBUBFbzLTP28OQKY8hXyjnxVAsvwCwbPxGEBiY2ApcD0bQO4Pk/u6uRZAyhoMkaCyGUCeGyuRLdQVQGA+smzNux9AKUAWxrn8GECO/iNyJqcUQNv1PSh23ghATm9fXsxKIED4mFIPULkVQBLS+TRGKBNAk2NpNqnrBkBw6EqzRZkSQPmiZ3mr9BZA4ubBPueUCUCc6lzOWwwSQJc571cBZQpA2w7sN66UGEAgNn17eWcMQF83w6sP8RBA4v7n6onfBkDLcvf2qDQNQFUJgCC5ZwFArNR+9XhRFEBrK5khMmMQQELf1j2jJhtA3mFTHNm4I0BrXsMLndEaQIDM651TlhRAJTEAgSR3EkBGb1MLHAwUQDEa/ecHNRFAo9A2N0LTIUCZE0Pz2n8RQBb4iIqYEBNAE/t4PneTEEACkrb3u0IOQJCnckh92gxAsnreAsnUCEB/cM/EmfwKQKgZXkfXPwNA0EdlNalSD0B6GrpCTMPrP8/Bg2fqPAtAlyM7dWASBUCsEKv2vMYVQH2ImkteXwFAemBFn2v5AkBz4v5/2+MGQLdvY9Nk+AhAAReanNcgC0DPGtu3AssDQOcg12GiaxFA03QbtwgeCEDqpU20qAYUQEI4fN/QFwdAO7RzddBiEkATH3oqROwOQMtQizKDxw5ACrGmM6WlGEADmS1tDv4OQC4vgj5RIQhAZdXtV2xiDUBQrUSqMO0PQN+TiOJ4CAdA4Zd4lqgkD0DaP26BUeYDQJ+LwRNfRg5A2RytwuA8EUDew8EbSNcJQO1Q1AWu/gpApZah0cZ8BEC7gS1LO8wZQAqy44mmZgJAjSBQTcXSFEBiZDh+dIEPQBXwB+MwQRJAIQmxb9hNGEDRTtNvL/cJQHKWQ44GLxFALsaNbckhDEC9IQHm494MQGicawIyjApAYHBjF3RtA0CwRVpwVCAGQOtSkq7jywxA7MIPUZKYFkBgRm5TzIwaQExl7IOWXAdA5v9qqe1jEEDaPGcKpIkRQNjFG1kPTw5Aw0kGlVbZC0C5IPWiIwIOQLvU64DG2gpAIIhmfVY6EECK0ZBxAz/9P4Qx6P4v2whAxYcQLxS9AUC40qaONfkQQADSAXKT5Q1AKcp8s3XiD0CC3L+6DDMVQOjw0hxHQBNAcA3nKPd4D0DLrbiUXnn+PwLzpWo3OxlAGBcvdkyhEkCbpvr+Z/YKQBvY99BLsQlAoQKrFSSwDUAgQghf5gUOQApYVNg0mRJASSpI1ng1EEBBlY2D494CQJEemvks/gZA5E06eamNBkDDi/tVhfv/Pz6XgDBjSeM/Y1+vDoiBA0BYZM5vde4CQJhUClEi4eQ/2SuXCOgiCUCmCLoWPKoDQLPHAyxVGP8/4xDYf+UqAkDiC/E9XHESQHKKXh9ymAtAdYJq1FzyEUC6+KWJZ1USQOFrADeR0RRAz0J+5kzvAUCW/a99Kd33PyNP6h5BCtk/mk/Zo0W/8D85sAH3Vf4NQLGU+ntnuglApD3bPKm0EkCwWwg9c6b/Pw==",
          "dtype": "f8"
         },
         "z": {
          "bdata": "cgJ8JlEQ5T8e0p2nOPDhP/hpZkuyHPm/fcn9YNzfnj+DANEISd/AvzxNGi1VTea/+baMETC5xz8a0NFEwVbuP5Oif1L7gfO/bY0lJNR06D8aZYKAprLLPzQ+xcc98Os/NQQr/oUixj8c76WFc472P00bOLG7XANAY4rmxZwLAkCXmyLSe+fOv/oNI9VjD+E/PuWSWo11AUD4TzSQlDoLQPWU5qyvzAJAXDqt7P8SCEBcLF9EXXbaP0hxsogVZ/s//1AI8uyWCEBahqiAkZ/kv+yuft6ic/Q/IlIrEcWo4b/w4srjTLDtP3ysP2ytXdu/H2hUYnqH1b8IWbd0n2Dwv8sVpp78Yuk/gpoIQRY+5z+Iw4jSsyz4P+HeXqlSWQFAE0dld5mY5z9y8AeMlP7Xv7j0YWS+tuC/9pCBoNer7b/fkhnJugDtvzfn5jKSP/q/O7nrpdCDxL9zqGKH97Xmv9aCKlTM+wDA/TgIM5F+AMAlhhLwPrG/P60X1jblEvS/NLlI83uY+L8K9wWbygz0v5eG4BPfVss/mIB9QyQc9D+4qhCEYeziP3z7Vjdly+m/vjmITW4j6D8cWfBgxovhP0G52PHJ+MU/HnZywjDppr8DiIznIA3rP6xj7hyQ/uo/yHbKqTwX9z9Ovn7DilrmP/53VeN2I/Y/8qrG1PNf2T+Sbpkd9S+kPw88I6MuYb6/moexGdPT9r+4OPjPtqPyvwL67i94nuK/t6uFcmR1Vb9HfNBXOtfNv0cl+6epPLu/AiXVX7j++L8JonKP3xPJP02nxa2u6uG/zjnDJz+C57+aoYsEEf/pP4+/Vx4rDOA/SuRX903c9z/wY1R0fujyP3huz83Db+o/RQMIbCYiwT/FbYIPHNwEQB7vp1Vb/+g/tWIjaYc78z9cimtK/d/bv5V44IMS0QFAMxYEDj/C+j8nPMN/bTnzP8KUcAOqzPI/D91Kiwch1r98hKKLXIzqP59XIj3Biba/9/mKvEnP6z++C9IGjb+vv75vtnH8i+Q/gTRMoyWH0D/itSM3GYLdP+5+ASxUM+w/ol51G6ki4r/jpncGEGKzv1ab24x+j+I/NFDQtam84D9YzCXQ6M3UP3pAZzPPl+E/0iGN0vW14D+Lm3SIYr3LPwAkyvmWntg/0glLYZCi8z+5/hoOIqvgPxdbdfB85PY/rxlWjrVC3D+2KaBwNHLXv5aCS9jh9+Y/ZWRp6jRY6D/A/rE8hJDUP0lsOgsjD1c/FHP/PoH657/AkbbG+FTZP131O3qsK+A/lMxdiQ5T8z/qOkPCYXLnPy1eAVdD77s/ooN8Hg7R8T+EqtaHRxH2Pzb/aPSzUtE/be4DMOdixr/AHFxVgbjhv7g73gmlz/U/kLO9X3hU27/qJDm3YEjgvzayLkSDZPK/f2cCJV9Wzr/HSROmduG7v969dwvM5MA/oiRPZOqz0z/0e0ayhdL9P/m8sCyuss0/q8xuOe/E4T8llsljp+HJv67mOYhJRdI/yjvi80bW0b+hCTipii7yv8iGi6rmatu/OUcaisyN179qQxalF1vQPxZoYS1RcO+/N+NNeu31hr9gM4i1v3/tv6cgNFolxMM/kvxVqp8c7L9XkgKEdObov65/4vJzcuC/OMXJExuH4b+As5rSwPkAQDZh0CWbCf0/Op1XBJXl8z+AT8Ce0J7xPzJXN5nfPvs/ouSSQZst6j+AWpj6/l73PxaECv7eM/g/x3OnAbHZ5T/QaHbcd1T+Pz+UwC70FQJABXmbGG5Z9D/Yw5+OEafkP7fOheriDY+/ISdoNuvh9D+pmb0cK6q/P3dkyBj6e8+/Da9Sl+rz+D/+2i0eOkn/P83fwSLAbgRAqlQTxvAxB0CDrj8Yt1P0P2BojDXfFgBADCtSc+YI3j9sE0qX7Ov8Pw==",
          "dtype": "f8"
         }
        },
        {
         "hovertemplate": "label=8<br>PC1=%{x}<br>PC2=%{y}<br>PC3=%{z}<extra></extra>",
         "legendgroup": "8",
         "marker": {
          "color": "#FF97FF",
          "symbol": "circle"
         },
         "mode": "markers",
         "name": "8",
         "scene": "scene",
         "showlegend": true,
         "type": "scatter3d",
         "x": {
          "bdata": "WCxuakGT8T/SEXAzEabtP5nu3X4WUcU/PuNhnEAX0D8kvfwXtJv5P2hjdyh7yde/TgqLWkQFAUCZVyzZ9ZXsP1Tqc0HgFJY/QZZCz2vB3D/131NF7o37P134bMTy29Y/5tm/4o1G6D966uEg3lDlP254JvvUKNM/JJKgBS/Z6b/7i8j9NcPSv09p9A/do9M/QQj9WBh09T++Ah76Rw35PxexraYnOOC/52TNM6syxL+12kevH+a9Py4oHm3BjOQ/7hSDBRN+qb/vjkvJSyNxv0hLtEl+vO4/qMYHH38RwT/kMQIDzdrmv4JBnZ+N5tE/YaqqlA+9xz/NnX6wm4zwPy7UXvFPfvU/PY+6KiMkvD9fvSjipDT5P89so6A6w/0/pRt0mOhayz8yARvMbUqkP/jI8TcuwPS/UEPxylTm4z/bAX5dG4T0v0tIWg6OFug/2sHq76RA7j97YAADUU/Wv+v+hvMu+My/cejw4oH6fz+h3TV42YfpP6CbWFxZsdo/3BygoUDZnr/WfKdgMKquv4+/ljputuw/8mFSHOU8/L/ncB46UiXLv8fzNLqyrPE/m80ZtVgaAMCJaUPN7enIP18zhXvTPuS/eJ9UOsgf3L8vxJ/CBCfDv1k7NLd94/y/uuTRz+LLAMCUjr9fMKLbvxAwCAqvd9u/Ha3S7bfM+L9u5mCM3fj1P0A491TzseY/IRR/0tEp5z/lvkoZEFb8PwpAj6Nkaes/WgUhKYus5z8lQoXjmenwP+znleXClvI/D/owodQV+L/cQwtW50jeP+281rw3J8U/On+C+24j6z8fOcbX157OvxceZgRZ0vQ/WMvY3mpY/r8S9j0Gx/3zvwddDbGPcOs/DN1thecKkL9+Y4xhkc76v6EPJzjkgfA/qo3YoFQ76j84PtEK9F/ov7AutUJxqOy/ZeuXY/wv1z9QxVuE6T/Tvz9TwCMZwcG/+0x6QFZd/j+B98wTocsEQFe+Wm2kXgVA0lu2W5q/BUDA7Nu+AEzwP4XWAANznQVArgibk6Hf8D9Ct0Hvh3/WP4N1mN6VwwZAByoyIgIH8j+LcHSgTb4DQObmN3QRt9O/aLoGSIOaA0BEwgftWA4FQMYhVcyDOgRARDhrEVAG4j/R91aQ/FYFQK857jwJigNA6RbuLNZe+z8jnLhX1/X3P23wuqww+vw/oOnzPasl8j/4AOVSL0v9P+LXoPdEwANASiDlc3+gD0C9vilJIeD/P/Y5ZXOkngNARWWNExSEBECEdk3zS8XwP50KpIiIafg/Qwi6GRBBCkBM8UsJKIUCQLU09qcGYxBA23O6WPE4+z9PzVwV+AX/P7LG/CZWm/0/P9kjKi6SAUAku6FEE8HuP0DsxPdLDQhAPixBuip9t78Kfp9/4lThPyGkWmQbHtQ/7yvbW4Zg+T/9N79WiNDiP2dKhg1G5fw/FWci32ME+j/WmXj4QIfjPw0Lq68wjPM/cc1RA9j68z//n3qKTnXzPwlYcEW2Vt0/Z/MbVejy9D/adGxAtoLZv4ldMEOFM86/bVw0hI9VBcBjGWq1lyXcv7bSzj4LWeO/YEFyxuKR9796bKUZoy/4vxoTzLoVu6m/lQBu84O0AMDTZSVTOyLhv2cXJ5xewfi/DXMAvXlezj8/fvqllqgIwNtwZOGf2PK/P5WF81Po4D91jC4wQNzwvyEyuCTgn/+/oBrTJjZH879zu1qzndH+vwviu7UvpQFAW0bAhieYBkBdDp3EsK/7Pw3w3I0pOeg/gOqAGo86BUBT508CiLP7P9Yw9g3RC+A/zVRDP+j76T8mwqmVVqj2Pz4EIh/NhvM/sRb+xsuG3T9chhedjVzwvywXUnuMH/Q/",
          "dtype": "f8"
         },
         "y": {
          "bdata": "9i+znWxO5b+trQ0ILgYCQJbUAfU95O0/fGAHz31UAUCJERiTwUvwP9cKxbi34/c/1icF0qfe5T9RlksrhA3yP/JnX0ThtuY/2FPoIALP+D8QIQxX5We2P34M22ShrPU/MexY9KvW6T/Jd32rCI6nPyCtsujvHOy/N2ZWtrdp4j93GW9QQerRP3OoDu1Yhmm/RjCKWZNN6r+aDJOyl6PXP0xLu2MJAPW/Szy9zmO+5T90QQPRxoHDP6lI6xuO0NG/EmeGQW2G4r8YgUVfK0HRP/RyRROCCrO/zm1SlTwr9j9DZ/6fQu/7P2uNf7d8DuU/O9xN13Zr8z/z1saJqOzRP9T6dNji9+m/3L0jjldx7j+ruM0Dyi3QP9rT8aJj3Pq/WOmFZibK9D/sfCMnZ0kCQBWspL8t+/k/8qGjW2Mv+T9zh3NJv//Rv+B/khC53cI/b1wu5Sgc0D8PwgNj2hnlPwboY+3kmvw//fK39tG41L/Q2AsAGjX4v0CJPMfZsfI/5tC8JiVlAkBz3I2rMtBrv6xzCXLbyPc/jH4tZlE18z+hZ2Dh4r7yv/yHd8gQfei/5T2r4c2F0z85ZKM7o8Lsv63tcjGw/ei/SQOwwEbu8L/7ZZ3gsR/sv3Go2Tb0buU/2l7Nyv7S7T9euyjkUDfLv3Cq6B+h0d+/M1CYHEL+5j9FjZhfVK7Uv3jEEbFJfsK/fiRiabzx3b8s42WDIG3Wv8NQ3jXbv+I/Zg6IMBuf7j/qeLvln4rlvw5Q7T+zauA/ulRfqOJY8j8j/TX3z+qHP5PMGWrBHOO/vKEVF4628r8xTTc9OI7cPwEL2of4zATAULKJ7XM3vj/BaUGw3gLaP5wO1WPR7ea/ZmTtJZue4T8GU2DDO5zpP6IdMxYkpuk/HY/0gyJf879b2dgjRn33P+eX/qoAcfo/mmrqqDyi+L8GKoRY3uXHP32D7m4bbPu/kTb4eKbTrj8ULz9rkanuvwQ5I9dXnPK/weER705n5b+Mx8OU8lLLP5yFUFyFFPC/kumRF1jY4j92Is7S203Dvz2qxX+rGAHAulfD3joVwz/8/RiFRiHTv8rW3gfOR/s/xeyGTH7iAkBBGvbIzhncvzeuqi7G1Ni/3S2HOzRh7j/uojt5CnQDQJvr/vu0fOE/5O9PeG2/5j9a7ud1dP77P9ZpsHylnM2/01TKd9FpBkByEVJdHY3wP/DzzG37kNU/X+iKbmmf0b/LINutT97rP3DC6e4rbwNA6qODAH/4/D86BUXeNBsCQDOiEEKZJf8/H1G06Dc1CUDb/Bi5mZMAQFfSZAY1rem/4OflnuXz+D/oi7I7cyD7PyTp41oRpgRAwZSeJkyq7D8WfAfu7DnjP7QX9IzD6eE/PrDkTtM2AUCgTBGxiz//PxJtMemGC+4/+optl+Lx8j8vGmCYarDXv7ztOMItivs/rhFsU6ig9j+e9G09qOH0P9E870mbZ+A/376Tq7cm/j9brhvYm07aPwfAUqVaAO0/qId0+ceQ4L+Jaf27zg7sP74kNRDZRPE/jh9o+zav7T+4BSQi6+v3P361YBCkQQJApDTPRHUt/j9t2egqj1X7P+7kjmtbWQJAMnHIU/GzC0DTrYcJ8C/zPwq7oqxsC8i/GtIVIOBT5D/ZtqVSa/LxPyRV5AeSdc2/Wt+uFLQc6T8IyRb+h6fwPwesRoL0gdk/6Hpfo9JE7z+a+7A+KQABQD8ATaOIhus/Ga0RUwrt4T/APsrKHRHYv0A0PHe3zfS/8DDzJ6Fy7j+qPPptlQ4CQFBu/RYnuuK/pOmS7R859z9/ZxBf9oDwvzQeI7Rq9fQ/zNPoL3bR+D9K0uJNvu7Cv6GCTSob0gHA",
          "dtype": "f8"
         },
         "z": {
          "bdata": "Pm8mLvUApb8oBA+S4Ib4P7ZlxGV+JfQ/8ZCTrWLz8T8+ls1muoz3P8fhvKP9lfM/7+xx1Ow6/j9+HPBJS432PxfBnG2LfgFAzmLwh2xEB0BrLgiHAkAIQKXkWh+hevo/xG4Y+iLJCUAhvTroeGXyPybq4dYXNO4/LzY77wdFBEDaqUZPk+b1PxZzXHqZuwZAgo8rSxMs6T/YE7ghhNUFQA1l1Lqhp+k/y+4npmdnCkDx/YiV4QL8P5s1Vp2TugFA5EPsYpoD8D9Z1xtM54bzP+alX/H9/uK/yAb4VJYK6j/pfdtAjBfsPx46mLuQQaO/n9obM9yp4b/av4585CX9v3plsSQJauu/2e0jcfCk1j+4JTXkcD3vv8RHBSpf7Ou/rpaZlynl8b92Ncuq/uzxP1dlSxokBMq/ygxfT4ol5D8WoSghPGfyv7mTgSszv+u/pxrHQoNUuD/wdQgzvNT7v3T7M6H5Lty/ThgHDRJk+79uOPmAM8nyv5E/T30d6bg/TxVjLzwJ4D+WNMLD1d8AwB6C/9mH0+e/wni9LGOu+D8rjO7d9QoAQEHI/fcWg/E/MQq7btpH8j9k5pbsGbIBQGjNucmpavI/lBaSoFJE9z8txbnUXdQDQD7tkPBXl+k/WVDx1Xrj4j/StsXkyFIIQM05c2Y42wFAwyCXkjsNAEBQdRU7NpzYv6OPDzGn2eK/NBfj8kMo4r8H1hTR5RHBP79uNT9Pmey/LDzhUlfq3D+Mvp0utkzTv3TacJfCXPU/k3UL60eFAEBhcVP5M0j2v9RBQeTCmfo/dURS5fJ6mD88O67nwpHGP5oyp83m0fU/xOXcjWX48j8URWbjoq78P0FmzyFHJsy/TOsdvx4y9L+I6nfEksjxv3RZmrPZduY/7FSzbxHg+T9XFZfbDFjHP0Behts5VeK/E6y9N3pLz79QfzkjOXjiP6Dj2ykRaQdAMkuFB4b2+b8rKY9P+jq9vxK4oc0sp+S/heD98l5V9791PTxV7R+2P08TDqG/kfK/lWoTLDvY/r/C8dWPRT3yv+gtYH08P+q/GaN+S7Ue6r+2xJpL/9z6v3Cs3ZjMp+G/9Euk+uah6T9b++JthkKdvzHrNVqfcMO/YgXlurUL3j8eA71EM1L2P6pYM5eB3N+/N8s+A510hr9l/kqI667BPyZUrUGR3fE/DehSgMB58L8yWtGqJ+b9P4K9161d6/M/QvKjES2P87/eEpFDhd/xPxAJQ3HTYPk//tAeM4cgob/ocrk+sKzfP+Ki4nLbLe4/UvGPO5kT5D8W4T5mK1TxPzxiiInjMvg/OLzfDdo8BUCP5B2+tFn2P3KS7KtZ0fk/OCARAjXZ+z8nLGyC65v5P0QcpocGQP8/uKFWfieA+D98Ze6aF5/6P4LnQWuTWQNAdgCDN60c+j8uBv173zr/P7kfdKtx7f0/gFxc7uiF9T99V0OVGu4HQLyd6u4Yfvw/0GGbI2ck8T9Asy0MYqT/v9tmUpazMvG/MCVfLxlr4b9teq9Z74H2vwbQfzjYTfe/S0VhrHnC7r/n+e8tbzDyv9n9ZgeT8/a/bNosLmN497+J+qBu2jrlvzqzgrYz6c0/mXrK33ab1b/D69mjanHOv2ZgD6AdqAJA5/Tm9SrD4z8Mp+F7ta/1Pz+iWiI6aew/YJvmtF/W8z+o4ih6irnzP9L/uekST+o/BjxYRpE4/z/CEBzb6nz3P2OxjrZtFsC/3xuCKrxd+T+92k5kbObkP6Zl/55GGKe/DQqXfmG+7j9wt1CRBRTVP2dGLu1qdPA/Pl05a5Mq+j/SgyfcICPzP98apAywlAlAErmfbCk4B0A5gDCMgcIDQLIU+Jj1JtI/",
          "dtype": "f8"
         }
        },
        {
         "hovertemplate": "label=9<br>PC1=%{x}<br>PC2=%{y}<br>PC3=%{z}<extra></extra>",
         "legendgroup": "9",
         "marker": {
          "color": "#FECB52",
          "symbol": "circle"
         },
         "mode": "markers",
         "name": "9",
         "scene": "scene",
         "showlegend": true,
         "type": "scatter3d",
         "x": {
          "bdata": "yyvnkww34T+Bw+uZu/cCQJeynLWKHQBApayM/wu59j97K7ekt2AJQFntKyZRtwhAlz+GJWbaAEApCXBeH7sIQEqrxHU0L/s/V1h7V8wA9D+GhNV7nq7XP5WrF+u50wFAPdQss9+rwD/3KB5zyHD0P6lU/QRYHfM/8mS/nBQf7z+kXfWSPwvUPwHMwIihW9E/iH0uV9ib+j/HQRzsiB7pP64mhq8IwfY/N46wNKFA+z+UeujQGGjmP324fi0Urcc/Gn/AWb3f37/Q1YEwLarSPxEbebqwnX4/f8GcsaINAEAoBW0YTN3lP8twxPKRy+o/5fwU48058T9dMLvZTcHyv/wiInJ/mNs/EC4CndE35L/TcL34jMnbPy1chGwjIwrABgOFxNrfEMBRd8ix06n5vxh+vYPpFvk/QVf0wnz58T83mu6kBuPkP1D7/Jibb9o/UI/olAvKAkDWVW1tflMDQHAvVzYlzgNAMKKhJ15q9T+lNvY1HHTwP9/sHrIuku4/ojD67m5d5D96F6TDGdTvv5ROCdwADPE/lsT61ohO0b9sXR2iRv/nv1U1tPIMKgFAubiji5Aovz+l8ORpljfxP1Yvw9q8x9Y/xKLYlose6b/njPUSPEACQBeJ8ToRgN4/F7CfXUnq1D/ARpyoUnH/PxCJLQ7dP+w/kLSGtG6Z3z/8UQ6hVXsVwCb/3HKPKRHA7DuMphznDMCQzC8GtfkRwHPjkVftVQnAz793EsxYEMB155u+kT4PwHA/inp/DAfAvqLEwWgeDMD+To4s+M8TwC6+jGxMoxXAcTWbn3k+FcBKTZc9kEUQwGde7wehDvs/Ds8Ylxl98b+kzM1AhSKVP0w3QAYOruU/TcFE8lUT+T/k3b5D2JXQPwtMyp4C7MA/aBtopWLb1D9vM93WL0y6v3r5jb21dtw/KjAzJBYQ8L+bq4lrZkj0vzNHt+kgvvE/ww73HUbzBEBzBft22wwFQCv9EYQM+QpAA8up+whPBUCphWrPFDv3P5GlfS8xwgNANlAXPtxf/z98L9b8TqQGQN4anCznj/E/Iwc2QX0hEEDlU3rNRJL2P0NBlJchBv4/t2wo3/GFDEDIw5XwZPn/P3EJP+pxIfM/5kGQ9YwL+j/BcFmhuyvoP891NGCVtwJAWSWhyYsd0D/NYnUgy9LpP2iLZmrJLQFA9ursde80+z9R3TsEijX9P00Oz4p8kf4/RRaHOqnuzT+E8ozhg4n/P04NN2BWnvM/M5pH2ShN9z/ZqcTagprGP0xqSTxn3f4/IIBmdbFZ6D+3OWdP0a8EQMvA2DEJjPA/ZBZFiDWt0T8rnDFj674BQNDbkOgY8wFAH7mFxM2n/T8IN0i8r2H8P/7gogrFXuQ/LJLj3EhuBkCnI/PkPQECQOohHzeDGQBAvrZnnEvq8T/iJ20lAOPkP+Ic93Hxx+Y/TAunKpQRzz9QIOCeZyv/PzGZG6/Nvfs/RXtmsGw06z9IsOGuSdb4PwTCTj5hyeC/D4225QVL/j+HrPJPKjX5P29I5ee4DwRAtXgw3WPcC0B6Xg7J/rvzP+m391i3XwtA4lydN5vDBUAS8b3EAF8RQPo70i1K2es/fxLOJSFhD0BLJUT4kV4CQCktdmk2nMI/Yd/9f4hv7T8K/Wn4sYgJwJVPk/xisATASU2N7g0QFsC6FNS1cAoNwMESha64Ife/bW4GKOoF/z/QO9fbN5wFwOT4+nDGQe8/hyuIdu1p8r+LW2ta6NvxP3nuADFe4vc/iFHYJo/xAUCftDJ8hHLmv26kPsMmqwVAgvDMFnCT+z9Qx8debWz2P89GbtF+ROg/ufwT5+qV/z+S/OGCCXP7P7cK9XgxPANA53H1jnJmAECkihQug4j2P3anOUpEBv0/2IM0GTzE5j+H3w68aLW6v5uNF62FN/G/",
          "dtype": "f8"
         },
         "y": {
          "bdata": "jBr6VDjh6L/0bO6vj3QHwJEmI1LHAwPAca974OYEAcBZKfXXfVoGwHVTH4wMKdy/8e35bwyoBUC6HUM45Yj2v9mBcsW/ZKs/pufCxk9V+r/LhlYvPgMBwD0F1VLz3vA/7bb4yWEh0b+bk13XBxr3vwOWw90Gldu/8yXlSTBi5b+yQsKhBfPmv46zhA+TA+e/Z7F9cgwb+78MGeINq+vyv7ylI54J3+Y/sMUBhdeq5z9SrXl0sF3ov9xPq7VD8+K/cxLSHG7cyL8nXbb38gcHQK4fUpKs7RFAxQsrjc2L0j8eCCOf8z7vv4GrPMGFM/k/DeO4giOr378ra15oDOcQQB8hleegIAxAXnC+SDO/C0AXtH0kuOMOQJtNmEAwMxBAU7cbk0T/BkBjH3IxEtQJQFQa8sAP0ro/0Q0dAiDq+L9A08hv8SDyvyWr62Gcqe2/iwyYALWj97/u1YJHIsvivx6+02C5Us6/xU8a4cBe37/I5eIt35XuvwZiQD8w4f6/ITlxYZpz87/fl2pdYvQBQNbYSGt4euC/sbOc5wW1pj9QHDwyYRbGP/SiVdOlmfS/MXK9HW+S/j+Blm98Im7wP0sUOwHXmNm/Ns1CYOeO8z+2tXk/AuLJP7wrKBCBnOe/i4iEokVY779lN5YEa7bZv2xykO24c/E/+0iwZACN8b/D4kmYm/sTQNAbeAPc8AlAVJBqHOzBBkBLOPQ8O2QFQHIFHqgJsg5A3irlWlDaBUByftKb9ikNQKvQ8V7+RwBAraFitFZ/B0C3oegH6PIRQBqvl9L8qBNAfLnTz0ikEUC5ZJY5WukTQLeWv9eO5Pe/XLJpTV+qu78LCX6luaYBwDwp1df6ttW/cSEVZSyfAcBQdDEuPiTrP4hcTHhg6fC/EuhSGtkG1r+iEnJJB13pPzvg5UVVmui/g6jGvhJ84D/wdp8zQm7EPwrty9lBt7a/fb5MTsdjAMBNIdXkIbP4v2rneNAw3em/SCZYus9Z2z+qFMF9quniv9oD0MKy0Pe/Rhqk1tnT+L/YkRdi5SX3v6hbCD1x7/m/mSdTAdXq+792oUaVwqLzv29Tv+cpVPG/cutGC02Y67/YAjuN1BLiP417sq/yMt+/IvVFOJ4G8L8w6OjMpOX3P4QHKxtao/a/XvBdkSUS8j+K5kvxAJ7zv5bcxbuikf8/+KsE7sCXAcAGcsr5IsrOP24tR2wAnuQ/XM5+SZTD8r+LO/DJQR/3PwW+vNamSu+/szREt0/hCsDlIqcMwA7fv4brJFv9xsK/RXkt44uf2T/xqxb0xnfiv0YRAo0WIeu/yBt3EDyX9T/AgiD5NG3jP3/pCAc+HvU/3rW18MWv9D8+NAgux+DOv8QBkHi5YfU/oJ02aWlrAMC5fJJWtrfTv0E1YrrbTdA/QnB2LBMmlj//VkyPSCjov0d0m/ywba2/uJgu5NqP5r/qNZg/qVHEv12OeFcTyPK/cmV99spF8z/WGBrxjT/3P0ZM9I+9PfE/KeHNNKXb0j//Ms1+K2jeP/FQTAOLYte/lSv/4GSo2L8AL5IjtYLTPyhQSXBRcuS/SwVIwUp/8b/jEnUkUouJP0oSymwD8Mg/XBWbSrSV5L8Gjouo1TrJvxU3aR7igANAbxUg3M2Y+D/Dj8jAt1ECQGeWLRVZrBRAugAFRVeBIUBpDkHKygUUQC6ZTOb60QxAJ49mxzaECkCb8d4lV4wMQL47DUurcvW/+LiDIwpiDEDHS/ypdsXxv2kNhR8+5tI/zif6L6whAEANZIXja9QOQNhxCYoKiuW/0t9N+GZLzD/tzYmDh/jqv0AvY/9Xz7o/L9vQ0cbL7z87Jn0B78rpP0bXjMaXNPG/5UOkN3qW3b/JK0u1thvSP+wHARoBK/M/NQSZ2dE20D8l1O6nUFLQP5Xq6Z/EYNi/",
          "dtype": "f8"
         },
         "z": {
          "bdata": "jl6CDU4a+b+BkHP7O2jYvzyXzBgpp+a/KC7pj+Vp5L9J8co6NIrjv5sa5Z8VqQrARPGdFAT19z+eWq5r2L0AwPwnTscFIAnAL0F1VzlEBMDmE+I6vVQAwNgvrN8AjvS/WeqlSWbDCMDjJbzrA/IGwEkqM+5E3grAyPItydPFAsB4q5Gqs+72v9TP/iY4ywXAquxSvxIZBcBYsL2YsB/+v2umQ21HGAXANAyETRAsBcBQh1NyOUL/v+skrWjMDwvAAzXTGPZa+7+3WEfO/AvvvzD98WflvN6/Rf0nV3BPDcCwwgVdghMHwBuJBJAiNgnAyXYYppp+EcA+ZYoFmTzav/kI907+gdm/da8v+sO8AMCk7yIbXYrXv66xWyyTHv+/5qCFk5JEB8AA+VgYzHzmv1Hz3qceAQfAUpA22v4/AcBBHEkGqrAFwFUtXQXmEgfAJxw66IfHA8AVg67LoasLwJI7PvOWkg/AyM47jgTDA8C5FXDAx9gAwDkHWs+5LQDA54ginqmrCMB/5irmf8kNwC2T6hEZzArAJYQZzS0eDMAc4K2/+vYNwKBhmrL83gXATskGtVnL4b/cUm2EY60NwAIHZT8gNfy/I7m1A8B7EsAVsF0eRJ8JwLug4L4zCgzAtmhEbmNdBMD7UY9rZ6ULwNA+WQudTxXA/MApFXzjBcDSXT+KuCkGwCSo0bPn9PW/bUPtxvQgAMDWM9F/bebxv9sfxK9eCea/WP+Z7y4H6r+WkUtI88Xsvwnl9o6JRMg/LFB80i8d/L9kWhHhoXryv1EVMUbdHPa/a3CXlxC5B8A+sQynC//QP89YwJA9/AnAvxgYM2cXCMBgMyPVWHwDwJX5tBLv3wzAzIhItDVA8b9yscRs8LoRwMR5fhiTdA3Ai5egETAcCsD/8NJamBoCwMCBo8WWwQrAyZMdpF5aDsCIXNU0FSEPwGrN1L3uyw3AuQbiYAZnA8C70P+UL8cOwEy1XefkfQnAtOzLPOB5E8BK+0L3C7gQwLE8XTYjXwvA/bA9yaTQBsAD1cVoTisHwCOgiCIlbwbAeUsH863ODcCG0JKOq9wPwKuTFkWOQwTANNEc3QWuCsBqT4oov4Dmv8wufuwJPgLAXNb0Kd8K/r+KO9wgs73yv4QTi+qjKPW/cfdJuBZY/7+PW4jrDhUBwN7zKhum7/S/323akV2Czr+Y1f4OdccGwLSmUXVj0/a/wdY4djGw3T+4d1fZObH3v6C8y76IIxLAnOJZzOr3/b+5xwIkKHQNwA9BqqpqiRLAIXBSWdaGEcB06YOFlQELwHn/Xs19TQrAMOEp3PUbEMA5WFDTPccQwJz/feslwRPAO7P8zwrBDsDQndAF4JsRwAeGf/miLAzAcFF8XK5REMDGpu7E9ggQwNLIaDNlCRPAGYq72pESEcA3JL+97poGwPNOqRZJcwnAlxnKvuqiBcDHnsBVuqsLwIL7Pu60xhDAqA4oVS73EcDOZO7XSrkQwCndywkCPAzA8BlqCXkUEMDScqpFzfEQwFP0P58ZVw3A/8TjTfeFEMD7B6xT9lYPwC9dmBijtwzAG+n4i2J3C8BjQwa4yI4OwMworJHhpxDASMZhQ3WiDMB1HvOc/iwRwGo+9jhoHQzAfiO8SpzeEMBl77wbSF/9v8ym+PL5QALAOQKSudOcDcBbeVTk3nkFwPrVArFuyN0/kB7RTM006j8Y9I6PACz2v8d0Yv/JagjAE+VBNOBe3T8EL6ayVF8JwIhuJvtx6OC/CgvO/q/K9T9BFvF0HqrwP8kx2L2k9g/AnF2pSBeDEMArSzuIpWcGwI8Gy+ZmTwnAUvRBh5D6DsCKJ1fYwGYTwCs0YLhKsQ3AueDP8JBlB8AC+FPwz4UQwBPxigO76AjAz/s5CXJ6B8CRn/KKeyAOwAvjulTWpAPA",
          "dtype": "f8"
         }
        }
       ],
       "layout": {
        "legend": {
         "title": {
          "text": "label"
         },
         "tracegroupgap": 0
        },
        "scene": {
         "domain": {
          "x": [
           0,
           1
          ],
          "y": [
           0,
           1
          ]
         },
         "xaxis": {
          "title": {
           "text": "PC1"
          }
         },
         "yaxis": {
          "title": {
           "text": "PC2"
          }
         },
         "zaxis": {
          "title": {
           "text": "PC3"
          }
         }
        },
        "template": {
         "data": {
          "bar": [
           {
            "error_x": {
             "color": "#2a3f5f"
            },
            "error_y": {
             "color": "#2a3f5f"
            },
            "marker": {
             "line": {
              "color": "#E5ECF6",
              "width": 0.5
             },
             "pattern": {
              "fillmode": "overlay",
              "size": 10,
              "solidity": 0.2
             }
            },
            "type": "bar"
           }
          ],
          "barpolar": [
           {
            "marker": {
             "line": {
              "color": "#E5ECF6",
              "width": 0.5
             },
             "pattern": {
              "fillmode": "overlay",
              "size": 10,
              "solidity": 0.2
             }
            },
            "type": "barpolar"
           }
          ],
          "carpet": [
           {
            "aaxis": {
             "endlinecolor": "#2a3f5f",
             "gridcolor": "white",
             "linecolor": "white",
             "minorgridcolor": "white",
             "startlinecolor": "#2a3f5f"
            },
            "baxis": {
             "endlinecolor": "#2a3f5f",
             "gridcolor": "white",
             "linecolor": "white",
             "minorgridcolor": "white",
             "startlinecolor": "#2a3f5f"
            },
            "type": "carpet"
           }
          ],
          "choropleth": [
           {
            "colorbar": {
             "outlinewidth": 0,
             "ticks": ""
            },
            "type": "choropleth"
           }
          ],
          "contour": [
           {
            "colorbar": {
             "outlinewidth": 0,
             "ticks": ""
            },
            "colorscale": [
             [
              0,
              "#0d0887"
             ],
             [
              0.1111111111111111,
              "#46039f"
             ],
             [
              0.2222222222222222,
              "#7201a8"
             ],
             [
              0.3333333333333333,
              "#9c179e"
             ],
             [
              0.4444444444444444,
              "#bd3786"
             ],
             [
              0.5555555555555556,
              "#d8576b"
             ],
             [
              0.6666666666666666,
              "#ed7953"
             ],
             [
              0.7777777777777778,
              "#fb9f3a"
             ],
             [
              0.8888888888888888,
              "#fdca26"
             ],
             [
              1,
              "#f0f921"
             ]
            ],
            "type": "contour"
           }
          ],
          "contourcarpet": [
           {
            "colorbar": {
             "outlinewidth": 0,
             "ticks": ""
            },
            "type": "contourcarpet"
           }
          ],
          "heatmap": [
           {
            "colorbar": {
             "outlinewidth": 0,
             "ticks": ""
            },
            "colorscale": [
             [
              0,
              "#0d0887"
             ],
             [
              0.1111111111111111,
              "#46039f"
             ],
             [
              0.2222222222222222,
              "#7201a8"
             ],
             [
              0.3333333333333333,
              "#9c179e"
             ],
             [
              0.4444444444444444,
              "#bd3786"
             ],
             [
              0.5555555555555556,
              "#d8576b"
             ],
             [
              0.6666666666666666,
              "#ed7953"
             ],
             [
              0.7777777777777778,
              "#fb9f3a"
             ],
             [
              0.8888888888888888,
              "#fdca26"
             ],
             [
              1,
              "#f0f921"
             ]
            ],
            "type": "heatmap"
           }
          ],
          "histogram": [
           {
            "marker": {
             "pattern": {
              "fillmode": "overlay",
              "size": 10,
              "solidity": 0.2
             }
            },
            "type": "histogram"
           }
          ],
          "histogram2d": [
           {
            "colorbar": {
             "outlinewidth": 0,
             "ticks": ""
            },
            "colorscale": [
             [
              0,
              "#0d0887"
             ],
             [
              0.1111111111111111,
              "#46039f"
             ],
             [
              0.2222222222222222,
              "#7201a8"
             ],
             [
              0.3333333333333333,
              "#9c179e"
             ],
             [
              0.4444444444444444,
              "#bd3786"
             ],
             [
              0.5555555555555556,
              "#d8576b"
             ],
             [
              0.6666666666666666,
              "#ed7953"
             ],
             [
              0.7777777777777778,
              "#fb9f3a"
             ],
             [
              0.8888888888888888,
              "#fdca26"
             ],
             [
              1,
              "#f0f921"
             ]
            ],
            "type": "histogram2d"
           }
          ],
          "histogram2dcontour": [
           {
            "colorbar": {
             "outlinewidth": 0,
             "ticks": ""
            },
            "colorscale": [
             [
              0,
              "#0d0887"
             ],
             [
              0.1111111111111111,
              "#46039f"
             ],
             [
              0.2222222222222222,
              "#7201a8"
             ],
             [
              0.3333333333333333,
              "#9c179e"
             ],
             [
              0.4444444444444444,
              "#bd3786"
             ],
             [
              0.5555555555555556,
              "#d8576b"
             ],
             [
              0.6666666666666666,
              "#ed7953"
             ],
             [
              0.7777777777777778,
              "#fb9f3a"
             ],
             [
              0.8888888888888888,
              "#fdca26"
             ],
             [
              1,
              "#f0f921"
             ]
            ],
            "type": "histogram2dcontour"
           }
          ],
          "mesh3d": [
           {
            "colorbar": {
             "outlinewidth": 0,
             "ticks": ""
            },
            "type": "mesh3d"
           }
          ],
          "parcoords": [
           {
            "line": {
             "colorbar": {
              "outlinewidth": 0,
              "ticks": ""
             }
            },
            "type": "parcoords"
           }
          ],
          "pie": [
           {
            "automargin": true,
            "type": "pie"
           }
          ],
          "scatter": [
           {
            "fillpattern": {
             "fillmode": "overlay",
             "size": 10,
             "solidity": 0.2
            },
            "type": "scatter"
           }
          ],
          "scatter3d": [
           {
            "line": {
             "colorbar": {
              "outlinewidth": 0,
              "ticks": ""
             }
            },
            "marker": {
             "colorbar": {
              "outlinewidth": 0,
              "ticks": ""
             }
            },
            "type": "scatter3d"
           }
          ],
          "scattercarpet": [
           {
            "marker": {
             "colorbar": {
              "outlinewidth": 0,
              "ticks": ""
             }
            },
            "type": "scattercarpet"
           }
          ],
          "scattergeo": [
           {
            "marker": {
             "colorbar": {
              "outlinewidth": 0,
              "ticks": ""
             }
            },
            "type": "scattergeo"
           }
          ],
          "scattergl": [
           {
            "marker": {
             "colorbar": {
              "outlinewidth": 0,
              "ticks": ""
             }
            },
            "type": "scattergl"
           }
          ],
          "scattermap": [
           {
            "marker": {
             "colorbar": {
              "outlinewidth": 0,
              "ticks": ""
             }
            },
            "type": "scattermap"
           }
          ],
          "scattermapbox": [
           {
            "marker": {
             "colorbar": {
              "outlinewidth": 0,
              "ticks": ""
             }
            },
            "type": "scattermapbox"
           }
          ],
          "scatterpolar": [
           {
            "marker": {
             "colorbar": {
              "outlinewidth": 0,
              "ticks": ""
             }
            },
            "type": "scatterpolar"
           }
          ],
          "scatterpolargl": [
           {
            "marker": {
             "colorbar": {
              "outlinewidth": 0,
              "ticks": ""
             }
            },
            "type": "scatterpolargl"
           }
          ],
          "scatterternary": [
           {
            "marker": {
             "colorbar": {
              "outlinewidth": 0,
              "ticks": ""
             }
            },
            "type": "scatterternary"
           }
          ],
          "surface": [
           {
            "colorbar": {
             "outlinewidth": 0,
             "ticks": ""
            },
            "colorscale": [
             [
              0,
              "#0d0887"
             ],
             [
              0.1111111111111111,
              "#46039f"
             ],
             [
              0.2222222222222222,
              "#7201a8"
             ],
             [
              0.3333333333333333,
              "#9c179e"
             ],
             [
              0.4444444444444444,
              "#bd3786"
             ],
             [
              0.5555555555555556,
              "#d8576b"
             ],
             [
              0.6666666666666666,
              "#ed7953"
             ],
             [
              0.7777777777777778,
              "#fb9f3a"
             ],
             [
              0.8888888888888888,
              "#fdca26"
             ],
             [
              1,
              "#f0f921"
             ]
            ],
            "type": "surface"
           }
          ],
          "table": [
           {
            "cells": {
             "fill": {
              "color": "#EBF0F8"
             },
             "line": {
              "color": "white"
             }
            },
            "header": {
             "fill": {
              "color": "#C8D4E3"
             },
             "line": {
              "color": "white"
             }
            },
            "type": "table"
           }
          ]
         },
         "layout": {
          "annotationdefaults": {
           "arrowcolor": "#2a3f5f",
           "arrowhead": 0,
           "arrowwidth": 1
          },
          "autotypenumbers": "strict",
          "coloraxis": {
           "colorbar": {
            "outlinewidth": 0,
            "ticks": ""
           }
          },
          "colorscale": {
           "diverging": [
            [
             0,
             "#8e0152"
            ],
            [
             0.1,
             "#c51b7d"
            ],
            [
             0.2,
             "#de77ae"
            ],
            [
             0.3,
             "#f1b6da"
            ],
            [
             0.4,
             "#fde0ef"
            ],
            [
             0.5,
             "#f7f7f7"
            ],
            [
             0.6,
             "#e6f5d0"
            ],
            [
             0.7,
             "#b8e186"
            ],
            [
             0.8,
             "#7fbc41"
            ],
            [
             0.9,
             "#4d9221"
            ],
            [
             1,
             "#276419"
            ]
           ],
           "sequential": [
            [
             0,
             "#0d0887"
            ],
            [
             0.1111111111111111,
             "#46039f"
            ],
            [
             0.2222222222222222,
             "#7201a8"
            ],
            [
             0.3333333333333333,
             "#9c179e"
            ],
            [
             0.4444444444444444,
             "#bd3786"
            ],
            [
             0.5555555555555556,
             "#d8576b"
            ],
            [
             0.6666666666666666,
             "#ed7953"
            ],
            [
             0.7777777777777778,
             "#fb9f3a"
            ],
            [
             0.8888888888888888,
             "#fdca26"
            ],
            [
             1,
             "#f0f921"
            ]
           ],
           "sequentialminus": [
            [
             0,
             "#0d0887"
            ],
            [
             0.1111111111111111,
             "#46039f"
            ],
            [
             0.2222222222222222,
             "#7201a8"
            ],
            [
             0.3333333333333333,
             "#9c179e"
            ],
            [
             0.4444444444444444,
             "#bd3786"
            ],
            [
             0.5555555555555556,
             "#d8576b"
            ],
            [
             0.6666666666666666,
             "#ed7953"
            ],
            [
             0.7777777777777778,
             "#fb9f3a"
            ],
            [
             0.8888888888888888,
             "#fdca26"
            ],
            [
             1,
             "#f0f921"
            ]
           ]
          },
          "colorway": [
           "#636efa",
           "#EF553B",
           "#00cc96",
           "#ab63fa",
           "#FFA15A",
           "#19d3f3",
           "#FF6692",
           "#B6E880",
           "#FF97FF",
           "#FECB52"
          ],
          "font": {
           "color": "#2a3f5f"
          },
          "geo": {
           "bgcolor": "white",
           "lakecolor": "white",
           "landcolor": "#E5ECF6",
           "showlakes": true,
           "showland": true,
           "subunitcolor": "white"
          },
          "hoverlabel": {
           "align": "left"
          },
          "hovermode": "closest",
          "mapbox": {
           "style": "light"
          },
          "paper_bgcolor": "white",
          "plot_bgcolor": "#E5ECF6",
          "polar": {
           "angularaxis": {
            "gridcolor": "white",
            "linecolor": "white",
            "ticks": ""
           },
           "bgcolor": "#E5ECF6",
           "radialaxis": {
            "gridcolor": "white",
            "linecolor": "white",
            "ticks": ""
           }
          },
          "scene": {
           "xaxis": {
            "backgroundcolor": "#E5ECF6",
            "gridcolor": "white",
            "gridwidth": 2,
            "linecolor": "white",
            "showbackground": true,
            "ticks": "",
            "zerolinecolor": "white"
           },
           "yaxis": {
            "backgroundcolor": "#E5ECF6",
            "gridcolor": "white",
            "gridwidth": 2,
            "linecolor": "white",
            "showbackground": true,
            "ticks": "",
            "zerolinecolor": "white"
           },
           "zaxis": {
            "backgroundcolor": "#E5ECF6",
            "gridcolor": "white",
            "gridwidth": 2,
            "linecolor": "white",
            "showbackground": true,
            "ticks": "",
            "zerolinecolor": "white"
           }
          },
          "shapedefaults": {
           "line": {
            "color": "#2a3f5f"
           }
          },
          "ternary": {
           "aaxis": {
            "gridcolor": "white",
            "linecolor": "white",
            "ticks": ""
           },
           "baxis": {
            "gridcolor": "white",
            "linecolor": "white",
            "ticks": ""
           },
           "bgcolor": "#E5ECF6",
           "caxis": {
            "gridcolor": "white",
            "linecolor": "white",
            "ticks": ""
           }
          },
          "title": {
           "x": 0.05
          },
          "xaxis": {
           "automargin": true,
           "gridcolor": "white",
           "linecolor": "white",
           "ticks": "",
           "title": {
            "standoff": 15
           },
           "zerolinecolor": "white",
           "zerolinewidth": 2
          },
          "yaxis": {
           "automargin": true,
           "gridcolor": "white",
           "linecolor": "white",
           "ticks": "",
           "title": {
            "standoff": 15
           },
           "zerolinecolor": "white",
           "zerolinewidth": 2
          }
         }
        },
        "title": {
         "text": "PCA 3D - Digits"
        }
       }
      }
     },
     "metadata": {},
     "output_type": "display_data"
    },
    {
     "data": {
      "application/vnd.plotly.v1+json": {
       "config": {
        "plotlyServerURL": "https://plot.ly"
       },
       "data": [
        {
         "hovertemplate": "label=0<br>TSNE1=%{x}<br>TSNE2=%{y}<br>TSNE3=%{z}<extra></extra>",
         "legendgroup": "0",
         "marker": {
          "color": "#636efa",
          "symbol": "circle"
         },
         "mode": "markers",
         "name": "0",
         "scene": "scene",
         "showlegend": true,
         "type": "scatter3d",
         "x": {
          "bdata": "/0ZYwUaXPsHRTCfB4AVywUQCM8E+/TXBpM09wXsJMsHr8TzBZDFbwewzXcGtFCnB3f4wweLAMcH6VkbB9gQ6wShdU8EfPkfBcvFjwa/qI8H6GjrBZblHwZ8LOsEOBTTBShBlwQmAOMEKdE7BrENTwUYhPsEy1EXBwO1kwSg6OsFAL1HBawxOwcYdMcESDFjBM6BBwT1BNcG6UUDBc9FgwTXfWcFI1j/B4HZPwTzbbMEBS1jBvFU7wSSjXcG6S0LBQj1mwZKmTcH6aU/BJPFCwTqkN8FNCUfBYuxBwQFDNcGI0lPBXhYowahucsHfOzfBj0cTwdnIOMGviC3B1Ik9wQUFQcEsiWHBvOxTwVblWMEgxinB4fhOwXbzOcFM1EDBGu0nwcUYNcEWyUXBdC02wYmxLsGKmTbBsGBiwRipdcEIcE7BPIxJwR51RsEe4mfB9DRTwdGVa8FhEzDBKpA5wcjyZ8F+CV7BmngewQveTsGkAEvBggM2wXgXXcHhfl/BE9RfwZEYY8GPfVfB6Z1mwb7BX8FwNEfBuT9DwSd0OcFfrUfBNXA2wcJCNsFq6DvBQpl0wSbYO8FQKXDBcDxwwUJRO8FYkFfB55M0wfO3T8E/YlfBV3VJwQKda8GT+nzBROttwcNtRMFYcVXB83ZUwZt/SMFX1RLBIgtcwe+TN8ELrh7B/5IrwQYWcsFPiBzB7s07wc3SOsGCAXDB0YUrwXKtUsEqzCXBIO0nwRkOHsHERFHB2TpLwWEbTcGGv0nBbKhKwa67TMEuXEnBEplswVRIdsHUp3LBYXJFwZafScE6lFjBSiE9wXbMJcF0aCnBptANwc3KKsGs9BLBbacfwYCBHcFL6RzB6N5rwQdwK8E/cjXBvkpVwRXhRcFaUVvBSAFRwYBvUsEXS3DBLQgzwWSIV8EoIV7BgzRYwZ1cXMHJLh7B5C1KwQ==",
          "dtype": "f4"
         },
         "y": {
          "bdata": "+iAtwfxyGMGljwfBp14uwcAeC8FmCy/BsZ4Swdwl88BliOHAEMgVwXfjFMFTv/TAimP8wNYyJ8E9w/fA2FMBwTncBsHwjBrB5IEaweqG8MCSNvDAuJgDwVxR68C8h+fAt+oVwSFCBcHRyB3BYAkWwfhAKMFSZCTBqYpAwUIBNcFehjLBkacowct+JcGyLBrBqg4kwfDcIsHuXyHB3nIIwTtHFMHeCQnB56j1wG/EEMGfDB7B7eoMwXMENMGUSRjB0oUlwfJjBsG8nvHAt/Eowd/oMsFJmEfBwi5JwQAIPMFcvjzBtzg7wQLEJ8GIuCfBzX4cwXcLUMHYtUDB3GxTwTXGNMFcIxbBpB9CwQVND8GK6ybBgD4RwYXGC8F/wSvBJCrkwPn1CcE9Yw7BfEUgwWp+EsFccBfBGfNKwVrkMsGODyfBBZo2wRkzK8EZjQLBRCMSwf5dHsGDNRLBrk74wP8OLsEkOC/BAgk9wVoSR8He8D7B+/04wQomR8FB1zPBGjJHwbK3SsE8jy7BIdQ7waXjTcHJ+zvBo2EcwQQsMcECsD7BvwgUwd+YHcH8Sx/BRp0owdZNRMHbTjXB5X4rwaBpQ8GL9jDBAdA5wWOtNsGDvy3B4K5GwUVSKsGcjTbBG/o1wb/NRcE7+z/Ba0BEwYdhRMFw3CHBqV9GwU5VNMEZLCPBfz8iwViNG8EvnwDB+qkWwQKPEcHoHyLBeGkxwc4oNsFbtyLBBDMZwTVdBsHBZUHBvTgUwUfnRMGa3CHBzyshwbYqJcHnBCvBoOwewbGTGMF4IhbBYp8wwTcwKMFisibBT1AMwVFtDsGsaBbBH5XrwL0FLMGu7u3Ah2tHwWxmBsEbIuvAq9MtwcGi/8BTSyvBRcIVwTcVDsH8J/fA+BspwVowB8Gv/gPBTgROwW4K7MC2VwbBnBQWwT71/8D+ywbBmKkGwQ==",
          "dtype": "f4"
         },
         "z": {
          "bdata": "jsWXv7+IDT9vLBvAaWRYv0CaAr42an/AigyewNpG+r8ij1PA9u6qwHKSc8CAEoTAfCtCwBrPVcCCTPq/y9SYwLYYZr/pj8W/VWxbwO/2H8AirCrAEMdSwJCH3r/ncnnAqukywLhlSMAlG4M+jAgjwNiyvb/whCY/LqCsvjQkfcARGjnARfwXwDudB8DeczA+LT11vxa2ksAjS4jAUHeIwG8bL8BjKFLAS+K4v4fp/b+0XXjAbh9+wLvVTsCGCoW/gNoGwF+EoMBONWrAKPUgwJ3eir/beivAl4aGv0IHW79lmInAHNxBwMXhhsDeb5s+ov8BwKeQS8AfEMi+KYQAv1RSBsBUJgi/jpoeP+AAQ79bCpG/ZuUywGG/CsDSz3S+PyOrvxKrsL8SUhC/BEUqwLJkZsBgbrK/+xa2v7wGMcAwHXU/J6gkwM/35r/UpaC+enJPP+O5aL63/Da/yM0uv1/d/7/C366/ieT6v74IbcAfXl/AG9lMwBsVMsBosxbAlWJpwDJfq7+j36zAK/gkwH/fe8BKqtS/jwRkwFsdtMCcFJPA3X+WwEatw8BV3tTA2gNTwHztY8Ck0YnAaEOOwIrg7r9kb47AX7wawHCsTL/dYbG+YgOyPhcJUz3Dah+/PMhFvlYbHj0RrwY/gGICP2Oger1aIC7AKAFdPzUttMAJ/AvAhpt0wCsuicBzk5u/OSI2wHo/KsBRSJa/3caZv8titb/YU4/AChQ3wDg6oL9h5VDA10CQwCGdJ8D0nJrANCmEwIfRUMDLEW3A6bKPwJnwV8DiE4bAUYZJwFOinMApfBDA+8kLwB2aO8CdX6m/oybFv0E2NcAQdPK/DwGovyH0asCyjCzAfpBdwE5x77/nopu/bGVtwOHTgMAGAWDAWJfpv2gdlr823QfARk/8v+3j3794Px3A6zrTv7dETcBgO4PAi4spvw==",
          "dtype": "f4"
         }
        },
        {
         "hovertemplate": "label=1<br>TSNE1=%{x}<br>TSNE2=%{y}<br>TSNE3=%{z}<extra></extra>",
         "legendgroup": "1",
         "marker": {
          "color": "#EF553B",
          "symbol": "circle"
         },
         "mode": "markers",
         "name": "1",
         "scene": "scene",
         "showlegend": true,
         "type": "scatter3d",
         "x": {
          "bdata": "/vyJP2/oFsCtXibAQBdGwHtHccBGME7A9zJywHXVaMCEwFzATO1AwHy5HD/pPPc/AmwkwIjj+L9b8QbAHcENwAWv078NdQPAfZQMwOXYGMA/JOu/SUPSv1HaA8ASecu/T/kRwFAuob8CuSRA+qcWwEheAr/SRcQ/U7uGPxz37r/OqiJAGssHv0kP97/ohwxA3PH+PzuiY0DvwfI/T5EXwOvYJMDWde+/DKEzwACdO8AXMP5AXlsqwAgaQcBK6DPAtZhAwH+4BsACtynANT0ZwIu9+EAkGwJBjIHuQI7XkcBvIJ7AHokBQV8LlMBwq57ADLydwJTDpcA5mpXA9s5oPEQS60C4Qa0/1r2JPw4hgT/yFL4+dxi+PiOELEDavqY+ckghQKyqQkBv5xRAJmptPw8GE729mBA/SDR0QD8oSEAi0jdA8+CVPu8f8D8wzg5BUL4UQMxnnj/+1UJARQJiQB/C+D/puU5AILe2PwAeCUGSdAlBU+kMQfpm9EBBKwJB5g8CQT6j9UB70gRBJLYJQUHUAUGFb+dA3AvuQEYDBEEwq5M//gC1PwKIHkBYaiFALvMEQNXSIUDmxzFAQA8AQDRWGUBxekhA5a4QQC2FUEDhZgpAcwxtwLLXdcBCcC0+tRYhQFCJkL5ON3FAhHQaQJ1hU0Dir6W8YwI2QPgwHUBDDUhAyuTyvhopbsAcEmg6ujUrwAUVY0Bd2lBAhdJmwItjWkA2LITAVbUtQFiDgUCN1xZAnvNGQDlwU0CTcEDAkU5HwO1iT8AnXhnAOQ8qwMmXPsCPyi3Alv4cwDRxQ8Bt0lHAuLw+wHl4KcA6uhDAPGMbQIC2vT92svY/gRxYQEq2d0DcRRJAC3spQFfyVUA8cH5AnNFIQKnVM0B1gm5A+9lWQDX19b4E3Y8+jwoyP3NCVL5xi7I/DBmWP0fUE0B6ywQ/WRkGQEiCIUBXfkY/NN8pP4cEjj8=",
          "dtype": "f4"
         },
         "y": {
          "bdata": "BcHivz6LkMDmcXDA5vSXwNjBYcAL6n7AXy5FwEFeh8AgkYLAdVaXwNLvz7//XIQ+556owCqUl8CC66nAZeuswKJPh8BcYKjAGWh0wAL6pcAutJLAk+imwGhJsMC1yHDAbjyhwN4CjsANFwS/i1SWwKdpNsC+0oI/qGk3wBTkpsB3a3u+aaFNwLYdjcAZVNW/6iRnvysiA8CA4QtAMpJLwLGbBMDpajnAt/NYwI3ACsDG+GNBTxNZwGF4GsCUPjzAlGOGwIgrFsBevQXAbgE0wO/yYEFtUGFBflBgQR4XmT9uG7U/bZlpQcXguD9kDbM/uYeoP+oAjz9wgOM/SYRGPxE5WkFlYJC/rgqRP4nuhz902BDAzoUJwHHQGcCXLvy+rKsvwBCQIUCEOCNAE2QBPrwbi7/1ctK/09iavxaFMcAyQALAFhO3Pm8pLj/OfWRBOlHHvwO3/z8sFPO7/NF9vbh7wr6WhoC/VC0WwLSCZEHZVWJBmaVnQb0nWkEJ52BBOcpkQQeuXEHyd19Bdl5lQUWiXEEU71xBpwVbQcxcYkHXVJm/Xvczv8I1lb944po+EbX+vjRl9z+Crpa/qwNAP5bT4r9VgKm+Xs2lv1ggLj+Xb+I9QFEpwHe1TcB2OMU+wBd9vy1By7y6sZG/Cn1JP92dib+Dd+U+PvVRPptCoT4AZ9Q/D08UQJXxD8AdR7k9VcGzwKGyY7+19+C/dzdCwFVUt79r9DfAiqsuwA1mzL8MGNO/iNegvQAesj2A+xLAbBxBwP81a8DG04rAk2WPwC9gPcCR4UXAlBRYwDwgEsD7PHXAOdh6wMLAhsBjbjrAfYNkv/aWiT/OYeI/UEQAwDLjqr6BHIA/0p8bvzgtD7+sxLe/z1Tzv9PZr78H6QbAImIOwAGjkD/9Yzm/reiXP2qJOD8hlfu+pH7MP+w0Nj8b+cc+OroTwE9m+L7hlIw+jZeyPTzArr0=",
          "dtype": "f4"
         },
         "z": {
          "bdata": "tSX4wPBZwD+CWANAsPGZP58dzT+8PfY/ly2lP/FqAkCD6Ag/pN+YP6vnAcGkLfPA75HvP2URiEC2fhxAlSVMQB3qTkDgu19AVUkvQKl+iD/wLkRAlQowP9qvUUC0T/k/OEu9PywFGEC8DrLAGyzfvRVmXsCqD8HAGwfHwITAVD93z8XAbJx0wMKcXL9Y17nAt8LtwIAGysB1hcrAoxV/QNyjxT+arARAm5EVQG8T0z8VMBK8a1YeQHOolz/QdSA/+tXCP7MgAkDTC+8/ciogQNub+z/zXx8/6HlFPk4mN8E8GS3BYCZPPzkbOMGoPyzB7IMswcctJMF3eTbBLGKdwKiuG0CGFLTAVsW9wKAA0cA3QZbAlEWWwKIOqsDdRcHARpWowMhNycC+frXAFHqywN1Tu8BwdKrAcHnWwCdizsCxx7jAM+aGwP86o8DGuPu9ieaJwH2Aw8AoKKTAY8zGwOT0z8BwdL7ARACZwOwDLz708LI+uPz4vg5sGkC6Tso/CzOqP+eaBkAe5O8/+amyPgUdwj83aIk/rGrnP2xbcD9FyILADn2XwKvW2cDORJDAYUXbwNwu1sAq1+HA72DTwHlJ2MB+9IbArXa5wNH038DbvtrAZOikP9Ps1D9ZqgnBfbKhwKHLDcFLKfnA5dvMwIPjz8D5vw3BbevKwK1Vy8DIk+fAHZkWwRGwYkAn6QrBU1lZQC/49sCQm+TAHpUhQLxgy8CByu0/Cf7hwCBL4sCsA/XALcTiwGTc8sCfM2ZA0eGFQEiCSkBPsItA1eKRQFRHl0AOh5lAOAinQFwFd0C9qk9Aox2LQOrBmUAZxZxAefwCwRSJ8sBhIPPAFfj5wKQu5MBM+ADBBAX3wIdc+cD68ALBkmMDwZP16sDoc+rATBv0wMU7tMCx9qLAhHXAwLVkpsDLJqrAlVKiwC5OlsB8E4XAUyuEwPTai8CQ/rbA6GiJwMUjiMA=",
          "dtype": "f4"
         }
        },
        {
         "hovertemplate": "label=2<br>TSNE1=%{x}<br>TSNE2=%{y}<br>TSNE3=%{z}<extra></extra>",
         "legendgroup": "2",
         "marker": {
          "color": "#00cc96",
          "symbol": "circle"
         },
         "mode": "markers",
         "name": "2",
         "scene": "scene",
         "showlegend": true,
         "type": "scatter3d",
         "x": {
          "bdata": "DJJ6PRfE/EBE0gFBaI2DPxr9Sz3ZiAI8aL9JvEZRwr6dbD++GSgfQb5m80AagoE/m5ClP/ucJUGwdANB5OLxQFjG8EDJzAZBIfYNQR+U+kAnHOZAafXuQPJEAkHP8BpB8bcjQWw43UAVvxJBwlQYQQ9rL0HmOTdBv38AQc4kEUHEbC9B4jAXQU+1MUHyHAlB/rMSQbBdNEHVVDRBpVUGQQRP70DRcQ5B/gr/QCtBD0GPBBhBvab+QKKgAkESbApBYbsKQWvzF0H2WRRB4uQCwW/+AUG3Us5AYYwjQQA36kCnNiNB/wYWQdbXIkEdtBFBHFwZQSBiHUHXhB1BtE8fQav+GUHddQlBhtnUQPmwAUGtuuFAI3XXQPtjPEC/ETlAApLdQFlv0UDofChBDM/xQD/K6EDQRv1ANEQhQdICOEHONDpBkeMAQQ0IN0Ev7TFBQswdQYwzQ0HUGDVBf3YAQWYWREHfBLlA9kf6QOrpKUGPzjZB9V0tQXR7NEEV/wRBzfwJQdzWD0FtrQVBIoxCQW3cB0FMSQVBulY2QSrsIEFCnd9A0EAPQXBWCUGRKQdBkevrQPD5DUGMcBlBs7EsQchq4kAyyARBD3QqQS76EEHVsAtBi/YSQeyu/0CeTztBA1gfQQMsMEHf6gRBlO8ZQX1eMUG2qjpBQ2e+QNaZ/kDNJAJBVzf2QChoCkHAdAZBKa0AQTiXCUEC3SBBkPb7QJJQDEH70BhBCLUGQZbZFUF/khFBPrkqQVH1OUGRVEFBxfcTQVFjQUELHClBvcouQfjPNkGLpTxBPss2QarMCEHdTSdBEXXuQIGq10CD++FATpJ3wF0VM0ExbPZAS/oTQU8dmMBhbx9B8rLeQDLvAUEkexVBAYP0QDZE8UCVPg5BgK5DQRHHPEEXbiRB0z9QQTlAFkF6n/RANN1EQdVcF0HZNgRB",
          "dtype": "f4"
         },
         "y": {
          "bdata": "CCJswHcNKEHRwxBB/bN2wM/hgsAHgILAXnx1wCqLicD3t43AdhDgQPl9l0DQeXjAXH54wN8dz0BeCqlALNfrQG0k50CWkMVAPifwQFFn+0DAO+1A+kvRQCyE10BwMutAVp7UQMKV50CMgPxAmd/5QB7XyECoeMJAv6fVQMjf7kAD9OVAin3iQIUOwECL9ctAwXfwQHKRuUAV6/JA8SUaQZp3L0FdvBZBeVg+QagmFEEtbx1BqnQpQeRpHkFnygZBYM8JQUzGAEEpyRBBNOcDwUHyLUGyAQVB5D4/QfMe9kDijz9BOlodQWzkPUE0akJBel0EQWz5VkGd2kVBp+/4QK5fRUHGtaBAdJDNQMOrv0DOucVA2NvGQESInz/ZuqQ/SwbBQF+a1UBmrKFABta0QJnktUDIPLVApZXMQEiU60DKQbFAjhHRQCrWwEAMeatAy6oGQVOArUAm29FAHV7kQJwEsUASwAPAzLqpQKzF2kBiZ+xAqpkDQcjbCUHTH0BBxHYiQdv4JEEbzj9B14/4QE52FEFZpC1BnaIIQW3X90DB7RVBkbUqQakBIUGqhCBBzuExQREsHUGQACVBPIwUQbrWGkFtr0NB/BLmQL6VGUFeSatA5i/iQN+eukCw77xAWMngQDGf5UCzlOtAYw+3QOvaqUDG961ARp7PQEcBHEGFXUtB2CsLQdRHH0HtAiZBevVGQcMFKkFg7hdB9VYkQV1NNEGLwyVBrcokQaGlMEHSbQVByukEQRT1AEGE3w5Bq7oJQYo3CUH5kxBBTyIHQeFQDEFSXvBA6Q4KQZMw7kB7PBBBcT4ZQVD0NEFJkTRBxWKXQDcyCkEPyidBrSqiQOR9MkA4H9xAC/kcQQJ2CUG7xAdBkG2gQB4mnEA8PPhAdwL/QNu+5kCKGwtBfW8RQUbmrEB2ldVAzyQNQfB+EkGothFB",
          "dtype": "f4"
         },
         "z": {
          "bdata": "NGUXwA0dOr4LLUq+28QOwOkAy7++dqi/6KoUwHC+0r/Hkoe/o8shwHzyYcA0KAnAm6EPwNHnDMAS/QfAf122P+qWi79CSqm/jklRwI6lBcAde9o/9jjmvyp13r9ty2PAMpZNwMjJrr+B1we+FEJrvrcjc74TId+/t2NRv/IYoLzu0VG/hNruvRYhgL8tqrC+UpUvPqosi79cBaa/u60Mv9J8QL/NGPy/PTwOPp7Igb8OEpS/MKqDv87sh7/S8cS/OGcrwDPY9L/xxfW/rpFHQL4RFUBJH6W/u3NVPsLh1cD42JE/cqTVPyzAlT+r2yc/5E++Pi0Hhj5Rgac/uyygPkNx6j99aae+z6DNvurJtj6T8Kg/z2VMPhTUU0BXu1hAbx+BP52sPL/RRv2/z4tBvpZOK72id6q+B9ylv6OYAsDQmCbADpGcvzEdXMCDkAfAxlIvwAvVTcAAWVzAaKAtQIkzVcDNjZBABxRrvwC7y74pRmjAT0eavqCBNr/0RJE/pbBKP08ylD8OOpg/BNUUwEHeBj7qgdY/PIviv075tL+2tVI/NhLiP5KoFEAMvsY/Dw9Hv+c6QkCw/MU+uETGv5oLIz+gO+0/A5Djv4Xvhj9E9UE/xHe1P5Njcjya2PG/RIYVP19oUj6OqxxAJZBbPzmgDsBB956/5P7YwEjdIUBh6RBAytkkQP5UUkCwvGtAy0IgQBDBRED4H+y+An6BQPmK8T/stT5Au3HrPzpgF0AmJRPAdsFXwOF7NsDNkRnAUGoRwEWdRsAy1TXAkxMkwBUXLcDXQm3ADD/Tv2cF0D/JiTDA7fvyPagiTr/QnzG/bMciwYUE1L6aqmNAbuBlv2ReLMGMBeu/tvcswJWRMEC2uKC/mV8YwNAmJsBRw1rArD9NwFJVYMAAImzAi6M1wAAMKj0rFEc/VkEhwNG2/L+qIjbA",
          "dtype": "f4"
         }
        },
        {
         "hovertemplate": "label=3<br>TSNE1=%{x}<br>TSNE2=%{y}<br>TSNE3=%{z}<extra></extra>",
         "legendgroup": "3",
         "marker": {
          "color": "#ab63fa",
          "symbol": "circle"
         },
         "mode": "markers",
         "name": "3",
         "scene": "scene",
         "showlegend": true,
         "type": "scatter3d",
         "x": {
          "bdata": "QeA8QNHkvUCH66dACdijQHWJqUCcN6NAYIK0QGIn20Cno+JAbz6/QC9Y+EAoVNpASmICQdx59kAzc+RALfDoQGLErkBiT9tAr9nnQL7Kp0Ac0cBAzifkQOFB1kAsU81AUp3cQA6BrkBhizZAj5eDQLY9IEBZYHZAP46WQLolh0CHolpAbyV/QLWZdkCx/oFAUTqYQK7hnUAwuQhAm49fQAPsjkABICFAD0A5P3BGKkAZ/CZAtW3CP2DOzz8Hyus/rukBQALIEkD2Qwc/FIOGQJm0E0DPXGG+53vRPiyXWr4ddhg+nA8lv6suWkAySzq/HJl4vhahL0Een9G/7XWovp8V4j7ilpM+nmt6QFeNSkAwLI5ANokOQDpvUUAI42pAtuMiQLVOjUBXpmFAHk8+QJJia0CDRmRAaFWWQAJCikCW8YFAJdqIQBjAdUB5GIVAS5CKQNMAoEBDjKVAEwJcQHGZnkA204VAK8lpQLxwfUAbLTQ/RRzvP2u4ZEAsoBNA0lbEP+Xa9z/mIRc9FnCtPzkAELv+fTY/bN5JPzo29j/rZsM/3EfDP8upbT8J9Ps/DiMYQOvw5EAPaklAz1UCQLyO6T/3N6M/J562P5wQtkA5G4s/uHatP8GmEUBJb0NAbY3TP8/b7UDCeQRAgy13QO/Vj0Bbw7BA3zTqQA4ym0CvyKJAyGo1QP0n+EDhadJAbfJhQPaxO0CJ3dI/praMQGviZ0C7Z/o//tm9PyfaMkBtQohAJG4oQN6lQkBCyAdA0IEcQH0qMkDUaYtAbyRBQBqdfUBcfdw/fuU/QDzXEUDI/jdAeIJzQKBZN0A0nrY/ZsRRQFfap0Cv4GtAW+CJQAzD8EDcUNlA8u78QOrj40ACi7tAi1KuQKA7rUB8XKZAQoOZQMijmEDfUFlAkXnEQPL6X0CTKehAQtexQFGUtUAkg9/Al1fCQFOXtECFVZ5A0GeWQHqJU0D1QbxA",
          "dtype": "f4"
         },
         "y": {
          "bdata": "euXgQBLvcECW0+E/TJe5QCxDfEDPGKlA7g6hQHwJf0CbS4JAJvuVQC63X0DNP29A0FYnQNiTTUD1y5JAfMQvQMyXbUCFOZZAFVGeQO2yB0BkEZ1AW+aBQKt5nEDZWZBAB5kqQIHmaL7kBOdA44m0QKSHtUD466pAEwv5QCZ3lUDLittACRDUQA/ss0DHkZVAWuXxQJ629kBx36hAftx8QBI1gUBb/gZB/tsIQcCAFUFZPCFBul71QLRO3EAjSv5A7wEBQbodAUGMkQxBkUMIQV2BFEE726RAWgyEQBcThkCHtqRAhS+yQJf53D9YJmdAu5GTQLAkQ0EiEu0+U7eCQJGamEBFWJRAkL+kQO7un0AXwrdA5JueP1/okkADN7hA+oufQIQyr0DLJadATMm3QInf9UCC9/VAhKXLQGnA9UBeQcxAM8rUQOPcskBAcbdAF1a3QFBCYz89u+g/sz2YQKVK5kBb1rBAR1HDQF1CgkCudupAK1wSQUe8/kCBHyNBmsT3QI//FkHDNPhAhboJQZzxAkGNvOdAGmYJQdpJHEFtZApBQcSaQD5roUDWdIRAwERpQPAp8kCi0llAvkDIQI+qlkBL+ZdAkrqRQP6BiL+9ZohAH6OVQO1uwUDOgXJAYTxwQNftKj93tl9A4nJbQCSDFkBL30hA9+NYQFPHdUCotNlA5taXQCCHVUDD+mtAVMFWQFLF/UC6OMFAJ52LQKFSiEB33Z5AkTjIQGgrskDwE2BAhU/YQC3dpEAam7BAPdHnQHSl+UCxK/dADXeoQC62/EAz49hAuy0CQfFV7UAzzNBACVbFQOOrq0BS979A8z3IQL9tiECIEdg/OS1cQLgSJ0BNXj1AimIZQB+y8D/l+iZAtJhbQL9UkkD4W4ZAZX2EQNuOk0DD9/ZA5zMcQAADAUHmb+o+ciG5P94Ajz8VrppAEFnTPxG1zD/SMCdAt0/VQH2o+kAkjqxA",
          "dtype": "f4"
         },
         "z": {
          "bdata": "FrCSQOFixEAx+rpA0V+jQMqIiUBSv5VAo4OXQHNJt0BelKxAcV+PQCoRy0CHdrlA+5eGQB7BrEAtYd9AK9+6QDgwp0BiftxAb120QMP+ykCWa7hApm2zQA16kkB1Ra1AsP68QP0xp0BhWJBA427QQEJSpkDZntZAdru4QIJax0DlO9tAWPDJQNwszEB70K9Ac1OXQKG+j0Ci26VAOWiTQFLG0kD1tZBAlRoGQSDwrkBW8a9AAc91QCAQaUDJ0XpAReaHQJY0hEDwUIhAOM2lQAuZhkBYTm9ABo9PQDVHGkDYf29ARcxJQIBnzUA8TjxA6ONMQJOwXT8dJZW+PaItQHdAZkAlyWBAZmD6QJrHDkElD/JAfliZQJCN+UDLYfdAhHb6QAabxEDHUwVBqNAHQUcyTUBDq1JAoTrbQG7/TUDgVJ5AjPeZQM0KPUBJGi5A56McQGmVrkAZPJpAPHegQISAj0DQIpdAAk9iQDMkW0Ceq8FADVrFQImJv0AcyMVAtXa3QMUmxkDgDttAP0XvQFoF7ED2p7xAt3wCQQ6lwEDc++lAgIOrQOAuqUBdk7FAYX28QHsp18Asu85Ak4TqQHe34kA90spAmYTIQDEao0AbQMRAx9TjQLAL3kBpNsBAk/PXQNoQdEA4fOxAlXyeQObttkCTh+FAA8DOQPL1mEB7ieLA7YGhQLma2UCfefZADa/UQHnf3EBlNMdA5rJXQDnn7EB14ARBwWvzQFSnskDwQZFAUFnPQEgg90DfONNAu3B0QMaQrUCs/pJAWBaOQE6svkA0ZKlAhrK7QE9pxEBefKBA9hG6QKgBeEA0TalAzZ6WQJ/EYUBH7KFArFCQQNu7ZkC6TRlAmhlnQBarIUAP7O0/IqSGQMuccUBJHwdA20xsQDRTgEAI6fs/QZI6QHJchD+PUXRAL/RQQBO4TEBye7U913dWQJ7NfUD/w5NASNXPQBHolz9VP7xA",
          "dtype": "f4"
         }
        },
        {
         "hovertemplate": "label=4<br>TSNE1=%{x}<br>TSNE2=%{y}<br>TSNE3=%{z}<extra></extra>",
         "legendgroup": "4",
         "marker": {
          "color": "#FFA15A",
          "symbol": "circle"
         },
         "mode": "markers",
         "name": "4",
         "scene": "scene",
         "showlegend": true,
         "type": "scatter3d",
         "x": {
          "bdata": "Ftt0wBV/x798AEXAaIGWv9drJMAqYqM++/Pavly6KsAi50fAUG9KPxBfGD5MqoA/Aw5zv8ftKr/wZL+/mAMSwGh3LcAXhmzAYpuHwF9wEcBfshXASbyIwExjM8AsPUTAQAfJvy7c0j7do9W+U/QdPnOP7r+s7ju/izZAv1S4Qr6+/C/APgs+P+9biMArQKW/TblMv1Pol7+2VoXAqT4VwNd8VsBJNALAFApBwGYFXcCuLETAbIxSwLdUIsAZuSbABTJdwDIBMcAdmIfA8b8Zv8zjMD9oYiPATGFZv0YGab9Gcr0+1p1SvzfDqL+9J0q/th9AwMdXCcCBhwm/AjlZPJr8BMBbgiDAaeRhwCuXjb8DIa++PFslwNkMDcCx9GK+wqU5QBjJAcFiuEVA535mwHsMMkCPrHDAAtM3wN144sBe02DAaxITwFNFN8BK0YfAjVrwwLz4rMBXOEPAaJ9cwIFO08BAcs3AG61rwETT6cD0TUTA+AMCvmahOcD8J0HApjD8wMsfLD8blae/LbBWwL+bSj0nHyxAlDcfP3EY7z5h2jVAKPZFvoLTMEA4/Ms+qUZWQNimgz4+GRk/SOe6vpDUF8BWoZk+outWv+C5Yz8rt2G/Ch6GwONlrL7pGW/AsQyXwFF/3b/BMzTACtEGwLYtSMBmRYLAIUYcv1RTTMBP2DM/jvu5wJj0xMC1C83A3+etwJAptsDjUIXApaqGwOWvvMAcHNe/hyKYwKtQjcAESHbAKOKFwGUkZb+SFRzAjy2yv76yDsC58hLAhbnYv6rZNMDcU7y/H+Cqv/CPHcA/sXI+XFwAwBn1DMBz16A+bO4LPk6VaD+MDJu/MjyDP2IR40BYv+JAbR3Dv/ySS73kk72+87KNPwMN40CELX6/4YicwNpvK8B4LjPArUEGQPnT5r7NlLrAf2m6wH9Oj8Djcy7AxQd6wOxJxcAteonAj4dawA==",
          "dtype": "f4"
         },
         "y": {
          "bdata": "Ll4GwVvQHsFIduzAr6ofwZhWE8FFeBrBOtUDQFPyAMH87/7AlXIlwTswJcHdvBzBJ6wgwaSJ+8C7tPbANRPxwIqW98ClivDA3AzpwFxV/cDdZ/TAktjqwDj/4MDOsNbAFND2wD3NL8GWgTnBAl5FwcJ9LsGb/j/BKNRMwW+HP8Hr3znBkGsxwUOWNsGjACvBb5FHwZIWHcG49vjA7WMnwdrjAsGot/7AlvAXwTwZ98BoeOLApv4XwX/iA8FzquDAxtb4wHyE7MAsYPTAEV1GwXbDSMFQZD3B18sxwR+dOMH92kjBnvlGwSNVPsFjazzBeVxMwX+qRcH1n03BGQREwZr8+8BEugnBjvLSwEznA8Gpsg3Bn9b6wCLjCcGROj7BJV4xwTzyB8GF9y3BDa9MwQEnM8EJVzjBmM8gwYvoMMHHFCfBYpgnwfYrLcHTjSbB9DYowRpGM8FAdDHBq78bwdDxNMGfXjPBmJ4kwaOfK8HU4xbBlj4iwS6eEcF9pBXB00MawTmXDcFfRhrB/gQjwSOKF8FYdAPBgeUUwWUDFsHCiy/BeZwnwfPIL8EcDifBN0JUwHsXKcGh0CvB+zMvwTGYJcFfaB/BH5ouwRrJK8FMVSzB8WEgwc/jLcFBqiDB+KsnwS45KsEVgRjB8kEfwUCeN8HALzLB2iQiwR22GsH6YCnBefoxwaF4NMHGCzbBo0gvwWtELMEUZj3BS0lCwTppLsFIEiTBeBMXwQS5GMGSfBPBO2xBwSJzTsH0HzzBAvY6wdtMHsG3y0PB52ArwfBiM8GRWjvBbPU6wdQmN8EcwUTBsQo2wZ4cHMHo7jfBFkUvwcp4RsF9DEHBcYVCwXT3k7/6qpe/a4xIwXyFOsFP7TDB6eVGwW/ijb/XeT3B40b0wGJBN8HxTijBElffwDPHGcEBYCjB6XUowfr+MMEefgrBVrIKwaMaL8EV4h/BsyslwQ==",
          "dtype": "f4"
         },
         "z": {
          "bdata": "MxHSPyVOFEBd3dU/YUqtP2gTVz9bkyc/+GUVwRkCiT+yQLQ/sWQEvytbID+VESc/y7qBP+nI5rw9ys6/+dZov0r/HMD1+4G/IBEOwOoW+r/3wc2/ZZAMwCZ2jb9UTs6+hw3Kv97yXj+LuLU//JT1PtigZD+0CJs/ZEcmvwltxD+G1YY/VMcwQPOrj74IZnI/f4IXP17Xqz+RZcy/x+EawO5xhb+26RA+fmXTvxFTNL/pNqw/O2Dhv59tHL/9QDk/h9tFvma1dz++hPG/qt3ov4l2ob8rKwbAtHy3v6t3872Nnq2/Z2gNwJQg8r8r+gnAzIj5v/EiMj999BHANfn5v7+LN7+VrZi/WTnLPlc+Ur0pJ3o+Y0Aevy+Lab9CHQHAS1ocPhiqREBr+pxAvReJvzA9aj6CHPu/wx+EvwozREB4xni+3m11v0pM5L/fKb4/mG9RQLW9Mb/I3NK/bxzDvt93LkC0GCpA9xEJQAIYUEAXYlVA8+t3QMDdY0DOQ1hA7+9KQI27pUC1aZNAsAMxQAkpmUC/La5A21mXQCnLlEAndZ5A1P87QK4Xn0DItGBAxvHEPxDDQECQhjBAehHzP7gO6D+lgoJA6VX5P4Y+BUBE/rU/kAXJP9bbhb/1MRNAGoCKvQCYFUAHYKg/S7Z2P8l9BT/oSZA/G4CJQL74ET9xbTK/BfQKPqMAwj1uU+G8hv3rPs0kvT5WMVc/lo2AP9hBrz5droc/lOySPnRKZz4Ai3o+p6luP9U26L/4vc2/sK+cv3zghjxTc9m/O3E+v7cuYL9A4bq//fpxvx1ajb86DTi/EVjXv5nFWL8ajlw/b4lMP2vXxzs3Ly8/r08JPqr6NMCvGjXAn5zDPpybPD8zbx0/SFrlvjRTMMAYiDo/6+iPP7PViD/Yiaw/GdezQME3mECJ7zNAlTozQNLfHj+UJts/fV/yP0FULEAgboo/fo8fPw==",
          "dtype": "f4"
         }
        },
        {
         "hovertemplate": "label=5<br>TSNE1=%{x}<br>TSNE2=%{y}<br>TSNE3=%{z}<extra></extra>",
         "legendgroup": "5",
         "marker": {
          "color": "#19d3f3",
          "symbol": "circle"
         },
         "mode": "markers",
         "name": "5",
         "scene": "scene",
         "showlegend": true,
         "type": "scatter3d",
         "x": {
          "bdata": "3oZIv4wDEUDwm52/0Ozdv13aPEAOnxtA9qMqQCxXxr9ziCRA7CImwH4D2r/sLZI/F1sgQFfA2D/3rP8/A/4fP1e5BEClsB5AllB1P8piIkAlKpQ/cma1P8UquD8mazU+4Pv4PwIOCUDyOuW/DZBPP+h+JsD/C/m/rV6hwNshnsDylNu/Mc6dQFnzDcDpvGfAe2oxwCUdl8D7Z4o/2B3KvtWK875PRA6/rtvcvhyZlL9dL6M+9erwvt6hy7/OTZy/ce18P2uEBj9nBXm/Nqkev4TvScBzYHjAeWs1wE1utb8/l27AT1xlwEZzTMAO5z/AUXCCwPU1aMBo90rAUHsnwIliQcAXHyTAVccLwL7+AMBdYQ6/RMydv7C/p7/+cJy/omifwBH6oMDoOqvAvk/Jvp5t67/te/0+rgEJP2NqBj6HOUA/qSGSP3ofK78GOpM+WjWmvjdToD8nUbM/RhtiP0Vz7z5oUgM+WMHYPvNMM8BPCi3AKghQwApCZsBDWTHA2D4SwFIo1L+guSjAD69TwBlUKMCmx1TAe6NRwDhAQMDG6NC/0k2kv9OyE8DJzxfA1KxBwBK+EsCCUSjA9CB5wETlLb9pykDAR1aMwK08AMBr/IjAZSSkwGHhrsB0/e4/3wBywPe0MT9MImc/TtKnwP3Ex7+e3Y/AJprpP3xnOT+y3hE/bRYyQCVAoMAJEybAXLyIwFlZTcDcEWjA88Xdv8kWZsAotaPAac71wF45KMDIwQzA16K7wKcGvr+5E07A45uRwCDunsAreY3AgM1DwMhqmMAQuFjAYv2lwOMNncB21ljAKvJjwIs0j8CblkHAiZmjv9oM7r+Iyw3A6CQPwMT8MUD77Kq/5YTTP3Atqb9vPCHAwPckwJUMeT8f8A7AWQQjwM3/f8A1XYLAGjuLwFPTZsBR/BnAUI7uvyeIcMCtYFnAnGiNwNJXgcCtqZvAju2OwNg1jsA=",
          "dtype": "f4"
         },
         "y": {
          "bdata": "4Ii5QPLiIkHqSOdAvC4YQdJfGEExVgRBn8fzQAw0F0EjhulA1v/TQKmP7EDolhZBjSrnQNmGJUHJ+yFBg8snQa41G0ED5zVBW8QUQfMOJkFeix5BLG4rQfMfEEF5sAFBq8AdQVBrGkHMtPFAoBv0QIK6/0A05O5AB3YIQdoGzEDTFuFAE2raQIDX7kDPN+VAC6YQQcmiB0Fi0CxBY8jjQId/4kDBu91AKAPxQIYj70ByJOJARPbNQB+FvUD4m+ZALV8MQYRM/kD5zwFBFr3IQLCLuUAHhQ5B8WkLQTx5EEHoA+1ANZniQKsmBUGc3gBBEPvMQOAOEkGGqwFBPOeqQPz/GkFqtsBAkdHvQDyB+EBakBnB4DcOQXI+9UCd2AJBkHDaQP8K1UCF7fRA4zH6QDG4DEEm4StBWAQYQWwHJUG36iNBCpzkQBlrBEEHpg5B1AYFQcR14ECdfQdBzcH9QI3wG0E7gglBv10iQV3mAEHy9P9ASDbnQLRc4kBeVfpARVn1QAsO+UCkb/1A1Vz4QLtnG0HVU/JAwgLuQF/iI0E/YQ5BrrMXQXrCzUDvnf1AQ6oUQV5d/kA9bQlBoQC2QK4QF0FyqupAw/+3QFIaFEEfSbpABXACQVNz90Aa8yhBqt4KQT4rDkGibB9BhrfYQDQKAUH0NwdB4eg5QaAgBUFpZS1BBnwxQUE6/0CNFTBBt27lQC6lH0F2HuNACOcOQeJv+0BwoOxAnOsNP1xRukCgA81AM7bgQBKYGEHp9hFBtKsAQQjwykBc7wNBcz8gQU+2A0Ew+A1BOMwDQa2sF0HsOQ5BkjDrQBiSE0G1BAZBLgQUQVKEEkF2ThZBLzUpQTzLOkFbhRNBZQUvQXO4GEGX0rdAv+0fQXBS5UDg7hJB6sgXQQ7i0UC3Rc5Al3WxQHn/3kARftFAbggMQYtdwkD2C8ZALLyvQA+K4ECQ5tlAOUa0QCxr0UA=",
          "dtype": "f4"
         },
         "z": {
          "bdata": "PQ0hQUZgccASDp3Aos6yv87/ccCC+F/An3hgwLSipL+UeKy9vWpUwO/ye8BAQ4fAzfcMv//fkMDPOUnAPne7wMEYbMB6oaDAeH+dwDUNe8B51IfAGTWswDqlncB2WabAB1SmwJgOlsAksYE/7FdHwJAXFL8y29c9ugF6vy8LYUAil4W+nHDjwKDC7L3qxXc/2BfZvx+co77heXjABV0pv0wu+7/+T8y/Nep/PXCk6L9ifew+noqyvxaJFb3g/dm/DCeAv1VtyL8XdGvA47DXv08m7z5WT+0/8d2hP0FkxTtNjBFAQ+HpP1qzlD8UV9g+VgH/P3QyMUDbykA+rWw0Pd+evT/PXbi/yuqcwOran8Ac/GLA4R+MwPSKqcAWFITAlo01wAVtO8Aa41e/Vo5lwLfEocDhysXACLs7wK5rjMDw1JfAL5JHwBrgicDOGEPASVlgwPqtbMDEJHvAlqvrv3C0mcC/xRTA066QwNHD/j0ghi1ACJiiQM5yYUBgaJY/BEZmQCzYaEAgRMw/cJIvQOzq777/EWRA7EVvQCvXSD81uFDAZmkVwPWoJr4D0jXAoxN0wJ6APMCl1da/KtMIwDTrgsAbBmrAsPgAwGGla8BTHR7A2LXFvzhES78KSqHAN1/Ov2vc+7+pHFDA3QgfwO/GncBpuNu/a6OEwPuIpsDSLsjA5OeJwLWrVj9h1/i9A10cwA5qkL/SbSbAiVyNv2d5CsCCe/q/Z5o4wPBgdcBwqlbABznkv3IVMr/nfHA/CIzSPzQvZEB4V80/UnJEP2DFzT+DbSRA0E3mP7ZGDj+9viVAZQ6VQITJlz9t+hi//q+lwC8vrcCWR3vAloWIwFTcnMDRJ6/AWYezwGPUmcBVZWbAa5GQwBCoksAGb6fA+YSSwPjppz5CjA+/H0rMviBNp79boTW/4ZqKv82upb49+Rs/Dw+NvnLCdD9vDdC9fA0rvwfZLD8=",
          "dtype": "f4"
         }
        },
        {
         "hovertemplate": "label=6<br>TSNE1=%{x}<br>TSNE2=%{y}<br>TSNE3=%{z}<extra></extra>",
         "legendgroup": "6",
         "marker": {
          "color": "#FF6692",
          "symbol": "circle"
         },
         "mode": "markers",
         "name": "6",
         "scene": "scene",
         "showlegend": true,
         "type": "scatter3d",
         "x": {
          "bdata": "ON2UwOhVvsBs+qfAfI2kwDGAxMBKUNnAQxvawNldEcH5PqbAodqlwEDhSMA51ozA9jtswA82DsF9E9vAVYzNwFz2FcFmNv/AwI6zwKjz+sCLbwjBvxsKwV/rq8BOYO/A598dwWZdGsGV9ArBt/oZwfdC6sC+RzTBVsgMweDiAsG8xgXB+269wIu3KMHIdPLAzWIPwbJh+MDEdtvATNDQwGo9zMCuAdLAi18BwaeK18Dru9DALRvgwBAfw8AcJuHArxDjwHyVw8CNvH7AHjnOwNR4+8DdpfDA2SXQwCPXscDJZNzAGiDNwLAqAMEAudvAxxeswOoKzcDmmdHAAga+wB3RC8Fv3BfBRvsXwbaYEsFT8RXBF3UjwZqPD8HZ2SrBMAUdwdmj4cDg7CHBTLLLwKwwyMBI8RbBH+IfwYqCvsCMrSTBYISxwMXNxsAIUijBWUQXwWM2DcGs1u7AEDkBwVc6mcCxyhXBioYhwYCQIsHOjyvB0swJwSDPIsFJ8QXBTU4kwbUfGcEwpSDBywvdwBkoDsE0DxvBGy8bwYf7KcHDjifBtagKwbmHwMBuU7rA4iP9wE6T6MD8F/PAMI/ZwKyT9MBQrhDBaCKYwHNwFsHVczDBo/DUwF6F6sCFpvTAkUMBwX0S98DewNHAC5vRwDAN/sBBDPbABML6wB8D2cBSsfvAbsUBwbIn48BeXAPBCnUCwcBXxsBSjMbAYdbUwFS/0cDyh+LAt1MDwaeQ1cAmJO3A+X4CwYGpHMFr8ibBfDkrwW+yBsFk6CnBCDUdwZhbKsH7TQfBejccwQf4GMEPpQXB+IYLwcR988DNx7TAZYulwLc2aMD0rsbAcqS/wNs0tsDx5Y3AsFTKwAJ1xcDE25/AyFEEwZgUesBzgn7AJnLswGFQEcGv9+/ApIoAwbvn98AgUa7AcgoEwRPcDsEyTsLAVbyvwDbh1cDC/I7A+S8IwQ==",
          "dtype": "f4"
         },
         "y": {
          "bdata": "5G2EvtTMIsAWBCU//CARwEnrBD8ey3m/qFT+vuPDvj8OGJ69rfmOv73zlj6GmzY/GAh5v54sCT/eWybAa94OvpENpz+q9m0/cz6Yvx1XTz8XwFc/TI7XP0SOzb+2UcO/OWl+v7EFzL4nWJe/+yHCPykBnr+8GFS/zJSjvnmmz77Dl/u/TdvJv5Zkzr7mo9K/gMnBvkYdEb4E27S/4lwAwMEcG8D7PyDAkifBv9OJIcCIzsC/5rcqwODj2b66I0PA5YtUwBBy/7+HDKk/0wKEvnM+oT3GYzA+m1BzP7IJqz+PQoo/avpEPmLBfD71o3s/BL6sP0rJWL4ihF8+ibJmP7Ks173kimm+6qsCPeCc0z/nk4w/qEKdPq9Lp78JO4g/EmtNv53xIr/I90y+Dt53v9Rsjr886knAUW9gwHLtNMB3Nee/DOjEv1maz7/ftsW/+nRmwJOEKj9PIGXA7GXwvyyZD8AFtkQ/PnV0PwCBrT9RE58+8srSvvK+nD+x4GK/pDfjv6K+1j6K2oc+nvLWv5m5IcDU7VG+D/mev4WQHz41tau/RzrFvzMHFMAA4ou+ajdAvi7aH8CKKNq/PH1Nv6hkY7+a5RzAjsVSP40zvr/9uta7T3KeP0Ktwr+Kk/G/f+dRwA23E8BMn5C/bjMNv3b2LsCTvTTAnjoewEG2mb/EqR7A1j1EwAI5L8BCQjvAksM9wFE0JsBUrzfAOcRiwOayDcAFjlnAHis6wJYUVcCbjo7AhAZWwCJpVb8vIWa/KMHdvk6CB7+638K/6Z6fvoHeqD+/876+A1OtvzBn57+fUKC/lSLHv8195r/yZIrA5ZZdwJqhx7+kpinAD8JswI7lLMBLWwLAjGpTwF8PdsDV1TfAcbRHwCTx9L8t6gO/DYnaP9OJZb+0tdQ/ySCzP41oUL/FgOQ/zrZhP+grCEBFU6I/T2GDvr8Bdz+um2S/40xZvQ==",
          "dtype": "f4"
         },
         "z": {
          "bdata": "39vEwM84A8GMGMvAy9vLwDOLx8DuEdnA90UZwe1l8MCETurAi3nUwB2susDpEaTATSbUwGZoycBpVsbAyOXjwIa7zsB/mdfA9YzBwAXg3cAYF6zAQ0XgwFSB58AcGpHAQiLLwOWNtcD9iMjAJ2TKwIUs3MBIeL/AdEjqwDst4sDuZw7B7KHvwLE808CTQdHAriLNwDiB88Dx1GHADctCwOJpg8C0GEHACW9wwEpRisBdrV/AKKWSwPs1sMAbkK3A9yR5wG1El8CV24bApLeewHK4cMD6xZnAH86HwCvVd8DF8F3AF3CSwCBsU8B9l1jAqip+wIEel8BRs6zAGpJ7wK7dA8Fj4PfAE7rvwD7pqcDU8vHAuJrFwHkSA8Gi/9zAXn7vwNlnHcHtZNnAUXQJwZQmBsHOB4PAHU9ywHALj8CHIYfAu5GtwMQSmcCPeoDAlMKBwJNqjMBvqJbAxumqwNunuMBH+6vA/emfwBmoxsD5ULjALG2lwKKpnsCkHaHA/BPRwDM6qMBsuqTAaUH+wKUky8Asc8DACNOvwEDx4cCWiqPAZWPlwJmW7MAGib/AgcEMwaPF+8A/XSXBDkkgwcWgG8GTgAPBqvvEwDHc28B7cbLA742dwCNVBcFMPCbBoI4gwRtr8cDkFMTA+OTMwAfQ0cAOoPHATDkNwWJXscDRzCrBgYQwweyWEcG52zrBa482wTvEpsCG5p3AULWjwJxNtMAC8NTAghc7wYWV68A4Z8LAuwgmwa1go8BC8KPAQjKpwKDPf8C4jLzAivrKwMevv8ClqbnABaWXwM7qt8AitrzAlJKzwOZR1cAs0OzAcbm6wF/jy8BnDcLAHzfPwHgi2sC0D8fA3wPRwBZi0sCiCs3AIdQHwRtMvsAg6qTAY8bNwFUIj8Aur6/Amqu3wDzrjsBYA8zA+zu/wDhm0cAn3r7AkD3awG55x8DgBdTAqNGowA==",
          "dtype": "f4"
         }
        },
        {
         "hovertemplate": "label=7<br>TSNE1=%{x}<br>TSNE2=%{y}<br>TSNE3=%{z}<extra></extra>",
         "legendgroup": "7",
         "marker": {
          "color": "#B6E880",
          "symbol": "circle"
         },
         "mode": "markers",
         "name": "7",
         "scene": "scene",
         "showlegend": true,
         "type": "scatter3d",
         "x": {
          "bdata": "3gTVQOjLIEERs/1AFgceQbqc+0A40ABBy44kQQ6+GkFC3AZBTRIUQSyAH0Hr1h9BgB/8QJ8oHkFEZCJBGtg6QQKsz0AIGuRA7PUeQRywMUHpsw5BAywvQZuZ8EB3mCtBmskxQVEeiEB/Rx5BmMyFQFIAFEERM+JACRLwQOxTekD2thBBGJwXQbkkHUEkqztBMVIWQcQtAkHci2FAskttQFKsbUCaslVAmieAQC6sYUAck2NAHcA/QLpjkkA5rCFAG/hxQOfcbEB2SI9A7wQPQe4+C0FjYdVApVEWQXD4B0Hb2hBBVWK9QBeRE0GJog9BchEWQfjDE0GIDSRBCG4EQUi3EEFA8LNAjg42QCtesT+KqRBAg4/+QO649UCpb/pA864uQFzH9UCHU/BA73fwQIFYEkFl6AdBwBMdQVJhEEHTEBtBMLAIQUZpK0HsTA9Byn4UQdy/zUCKASFBE9YkQWkLFEFg2BNBneroQKjI/UBZldRA8vfjQNQ+tkDie+5A6PrHQMQW+kByb9NA582IQPTP4UCkW/NAlKLwQAva3kCpk+RAQvnDQEkNB0E2dMNABLuQQIwRAkHhf5FATSnxQI5WiEAbiApBB0GIQPwlD0ECf+ZAkjDHQLC7GUHMwgdBtDYZQTaZCUE3XxpB+uMfQdL5JEHkORBB/IzgQAikyEBS5ClBYukGQTo49EAu8gtB06oHQTIAAUGiDiJBWKwXQdKUIEFu7xNBHnI+QcWwA0ENkxxBnU/gQCWXyUDOfs1A+rP7QDnyDEFneZ5ALYjZQNZTCUEajAdBuHH/QEDh5EDZJ9hA55HkQEi7I0Gp8A9BT6YJQdNMM0GFBS9B/303QTNhJ0E3FEBB5/osQblTLEFkJTBBtSlhQMkZBUGgPA5BLv8OQWUIxkCxC+lAWoAuQTwHPUH2bT9Bjlg7QQ8MEkGZKxtBEq3gQIdDMEE=",
          "dtype": "f4"
         },
         "y": {
          "bdata": "Oc0wwF26yMDMQJTAWXScwAFKHcACd6PALmy+wERmZMDTIZTAR+C9wNm2p8CWiJjAN/OWwBvYrsBELbzA3z6UwJirhcB9U7HAXbyZwLe7ZcAcqAjAoDCUwCCCbMCo7W3AR4CYwPUo8cByCXDAVev1wOFkesBGEbjAyAyHwPUZAcEIPdnARijQwNTEn8DNRLLA9J3GwLOZrMBKJMTA8C7ZwHTY8cD5gcvARLLRwAtXxcC/6ALBVkTlwM8msMA8ahbAdyn9wAKKysANrbDAu24BwAXeGsAPBIbAB0igwE9nL8BoRu+//LCRwGcKNsCGTSvAi7uTwKBSecCpyCjA+oMwwERJXMDxCJLAVcMIwX3cAsGeHKPAvppgwCqAW8BsfH7Al+EGwe5LX8Any2jAPaxrwDo2WcDpRbzA+xqGwFyUlcC8PYXAmOGwwCuuj8A576bAPGi4wDE2gcCK0ZPA4fe0wGknrcDjMUjA/A73wI8r8cBBd9nAX7vdwC7DzsABLenAeU/ewBtItMCzGenArK/rwJeuzcAwIOLAstqzwL4Qy8DVAbDAr7PCwDtc0cAx2LrAcvHYwMbTHsDXkNjAOeXYwMxf3sBNd5DANrbewOQN8b8jCozA+Bx9wEnO1r/HKBjAr2JEwJJWxb8uztO/fXwUwOHAUcBTY6e/JHtVwAVbPsAZNoe/OPacwG3yg8Dq78TAqfhkwAI2kMB+z+W/hPjrv2xzgsARk7nAD95GwLLEhcBmVS3A0rPJwMUHvsCI7crAz/DEwEcI6cCemdHARaO6wHaztcBUms7AnLzIwC8Q3cAWnbfAhfPUwEfqOL/mnQTAM+yAwDLX2r9GAh7AgMLuv51VL8C80SzAYGNLv3DSh8C8/2/A2AJAQRpzUsDkP6vARbwkwISK/cAVkYLAEV6ewAhO0cAd9ZvA5+KuwF/VksDYEzLAfj9zwEp7gMA=",
          "dtype": "f4"
         },
         "z": {
          "bdata": "w+LrP695H0COZ7NA1opzQJYntT8JGp1ADOocQDR5CUD3CaRA3+i0P725UEAvXfw/m/bEP2CNaj9IAQU/IPMsvdUyY0A6uEFANMbhPjgq5r+e+ca/a2Gnv9iaN0BDxPU+slE8v4lVckDcgI0/dxCHQIxTHT501m9AOt2BQCR9mUDJzfQ/6jKrP7Ro7r60ScG8m3vHP5SjgED0iKlACcydQBlroEBJ6adA5BhxQBp7p0DWB6pAbU+qQNPEcEBkC2ZAhYmhQFnpnECC7nVAFF6zv2SS7D/+mohApTUsQD71IkAmk5M+zQGHQDq/eD9iLAFAlF1XPwIG0T9TIQ2/0XYmQGUxK0AX5pBAgx21QC+aqUDuxZ5AZC18QFHYg0C1NJRAAQmyQJ9InkCkrqJARSSvQBso0T8F9s4/kQZaP8tIFr2uppG/4y0OQAv6u7+RAgs/3HbkPp0fKUCvYlG/gu+nPvpvPz9Y2D2+3GBUQDwrsz+MIzZAUbOvP9B0a0C5Qbg/4jMgQCW8BUC/wB1AO0ttQJHZ1D86IRdAcUWOP4/t7z+NstM+T0GdP/oe4D6fMS8/UA6lPxXV7bybO40/tvzdPvaSHkDv0Fa/0b8RQByAPz/faAJA7POPQDDB5D0334A/i7rDP21njj8XeXg9TXikvlOFnT9JEN49zBdjQG9jPEBKnYe/YHkMQALRPT/5IURAgLxBPz/oDz8zAWk/5q+MP3jxjL9dfCxAdHshvbIca0A05gpAPyxoQB73hUDDvGBAuiwpQAKMLEAk/5dAyl5MQFgHTUAdTQ9AUJZAQCDkdkBVWndAibV3QEE50r99Epq/PEi/vgKBfr/+UQHAd2hnvxGxgT6J7FW/YOibv5muB0AeLwk/Vq2jwB616j/+wY9A11oKQGzIFEDCRYtArktrP/6uAT9BKs2902mrPr2PCEAeoJ0++TkHQPpKWz4=",
          "dtype": "f4"
         }
        },
        {
         "hovertemplate": "label=8<br>TSNE1=%{x}<br>TSNE2=%{y}<br>TSNE3=%{z}<extra></extra>",
         "legendgroup": "8",
         "marker": {
          "color": "#FF97FF",
          "symbol": "circle"
         },
         "mode": "markers",
         "name": "8",
         "scene": "scene",
         "showlegend": true,
         "type": "scatter3d",
         "x": {
          "bdata": "xTRiP5i9l0BhrlZAO5eYQBlji0Bt9EJAghoKQO0TaEBKUgxAJMx4QLRcnz+wppVAGzNoQHckRUCutIk/1oxNQK1WUkCGKZxAmr52P+J9pEDcG8Y+U/0NQAsYzz/Hr4o/rJrdPm8JEEAV3Qk/77SBQCXxd0BtBItAQ7REQMbYFj9QTZw+0jM/QIz0sT++AbM/6CY+QJITd0CDlPw/qnZwQCyfAr8/eso/ikDiP+66gD/5sPk/BEouv6R6fr+pGydAoBgpQP8lR0A4cs8/zHtdPQCYOb8OYGe/iPRXPUbSob+9YOC/6IXPv4CmnL8Dk74+VS4avn2+0b+9Pcm/sw4+vvT70z5kRwZA2kIHPvwBaj9il2s/TdewP7/9576HSoY/ZRQ6QFvWpD6TKI4/X/SPPBKKxT98T/u/+RmKwEFsAT8u6kU/TK82PrW+gD4QXgJAcJXavwrNHb/BoY2+snBiwGC+bL9Smuq/pNbYP0Llyj+fS+0/2T6WPwPn1z/xVaY/kceLP4+NUz+z6/E/0wkmP7wITz8LvJZATWS0QKd+6kB+x+dArPT1P9lot0DyK95ALz3TQFfZp0BbRw1BBVeoQP4e7UD3aetA5jOiQNahUUCBknBAS7nIQCKonEA/aeY/q7XAQN/xoEDm99pAzFZjQK3glEBybYhA/w2YQH388T8CIL5AmBNcQNtMUkAy5RFAQ4kPQDqPUj9lX5FAQO98QNTjE0BHxfM/3j2KQEsuiz9Xo0w/bNAnP9+5mD/eLvQ/MF4hvz/mxT+UIdg/emCAP/kWOj9cJT4/2V+uP8yVIT/5IAq+zjpxQM5DFUDcKmM/GdsZQMZIxj+l2cI/8LI4QEJWMkBUHaNACVbPQClYm0D7lgg/K8HKQEU8oEBgFGtAvbN9QD9QgkBle5RA2UpNQBkxZj8tPoJA",
          "dtype": "f4"
         },
         "y": {
          "bdata": "kXt5PwhgAEAgfw0/QoVXQC+MEkBqyZO+ztNYQN6MUED/j48/JWcYP8uyrL58gxRAov6aPzYmNUCOaNk/VhEbv+1VPUBvUy++1o0hP/SQRj7LkxS/5g9ivvf/JT7dvhi+C+sev0lomD+w0B1ApwrTPfaHK74sEB9A701aP2Cw6T8nTyZA3UAyQMe8OkDTsZFAREpeP/JIKT0ktpO7K6kCQJo4+j6KqK8/CwG6Pzq/Iz9dnrs+hEEyQM3wFkCvUu0/vpyEPzh7EECKuZw/p5UcwIu4k7/Mfia+Gk8QwMRZVr9+ywK/uyxzv13hc7+h8w7A0ewiwKnelL+L44e/Ge0NwJF5FUCuIXJAQTgNQCuaTkBBcEVAIZFPQK5j7D8StCZA7AFPvwdi9D+JoVtAePEEQC/JSEDoLyRAtpFYwM3aFkDDaQpA5hSMPlqRCb8R8OM+UIcfQOPCe78WNmS/1JECQLJ9Gr/1fxtAm99QQK9EZUCT94FAPH9UQG4c5z+Tu2hA29oJQBFGpj+aj4pAjlwEQICRREB2ZTK/M0BzP6n/MkBW4yhAjBSbP10uXz9o1S5A+2EvQJAhv73lWPM/7jU2QGjZJ0Adli1AD6bZQJVbVUBi/S9ABe4vPwidZkAkTZ1ARLUmP3E71j8eA+pAprEUQCYnRkBSHc0/cDW9P2nmEECf9c9A8WARQE3wgj/KAEs//bciQLaj0j8HqK0/9+ijP6aTuj8V5k1Af18aQDwx2T+sl7w/0tYTQD0P8T6OH4M+nvDNv8P84D14h2K+0yRWv5jvNb9FWJe+MFCmvwmcSD275Sm+duhgQJf+CMBnvJa/3nY3QP6gp78K/sC/sYuwvxNRzr8FY1FA7lTSP5ORXkDeur8/9iyfP3PN8T4JoGdAekI8PxE1kUB2h+S+ROrGv/9lTz+ZfZVA",
          "dtype": "f4"
         },
         "z": {
          "bdata": "3SROvxdLbsB/CgbA0Zl/wAslBMCaQBbAF15qwI+Tj8AVd0DA1TCEwB9DRcAZJ5vAoeS8wLTKvb8tSqK/nPBHwPtv1r9zC57AwtbAv7GcjsB1x9i/M8djwGfUH8BFQR3AOybnv3gaDcCITABApZGhvRTuJz5/sLU+D8Z0PzZrE0BOp6A/I1MgvwpuCj66ORpAsri/P7N09bx+peU/g9/Mv5gDEUDBAQs+t3wuPyhkYkDSkD4/m/8fPypt/D8LESC/PNIWv4BXlD+x1nw/mleTvyeuzr+fJIq/4W9iv540sL9kZ5W/o0K2v4iutb849du+Kixtv9stvb+89LW/m6Nwv9OxpT4rYQ+/bVh2PucXcr913Pe+2AWYv8rI4j/uwhPA4ZBkv3k8rz+TzGrA7noKvWAW67/U6knAfb9/P/EGZMCceUpA7ZdXQCb9XkAWJa2/FXlEwCcvH0Bx0CdAWKMjvwLyDkBN2lLAYN5OP2HbyT/81Io/TW2QP2OLoD+NEPY/HFqdP+CZVECfLZs/0cQpQLiiYD9DdIk+0gMgwPccyL/i/DC/QybBv8ITJ8CRtiu/rV0av9JtX74UnpK+NslrvZ2WBcAP9ua/SI7iwEvhhMB+QmbA0MAYvxIEZcAm1WPAVBUfvz7PPcC9J9jAiLSNwJXCH8AWs0PAO541wJXGOMBBS9nAfcdCwGt5NsBEXUXAUPpKwHUkI8BME0zAWLoowGcGecDN6VbAnho/wPH3OkA/uzNAr/NEQEFX8T8FUhFABO90QKx4XUAKT0JA9XdOQAmTNEAPvxFAFytLQJYSAkDz3+nAZYW1wBMXgb+cm72/h742wC2s/b+MNqG/mmcMwDtjA8DEj2W/wCbdvzPjk7+ECgq/6DfBv0i77r7uJrC/iGaXvxDbj79X1VLAe2d7wMHON8CwGIO/",
          "dtype": "f4"
         }
        },
        {
         "hovertemplate": "label=9<br>TSNE1=%{x}<br>TSNE2=%{y}<br>TSNE3=%{z}<extra></extra>",
         "legendgroup": "9",
         "marker": {
          "color": "#FECB52",
          "symbol": "circle"
         },
         "mode": "markers",
         "name": "9",
         "scene": "scene",
         "showlegend": true,
         "type": "scatter3d",
         "x": {
          "bdata": "UtOHv+rh+78IVu2/UEYDwGweAr6LnB6/r1LlQF3wwb6EdyI9rU8PwLzvQ8CsF6g+zV7DwJgy978iL2e/ilaqv3L7m7+/sV7AmP4BwMwror/d21u/o5aOv1eEiL8nvinAlG+Nv/AvVUAo33VADgZiwBgFbcDAeJu/juFdwCZyTEDaTHdAsJpjQLIvZkBUios/HUYQP1UuUEDwVr3A/11RwIgMZcAVdWLAQAdCwBck4b/9Idu/UzA5wKTmIMBTjkbAgnY4wLa+tsC9tCbAsGJIwOhricDULRTAugxYQGjwwcAuZQzAanWUwI+0rb/3TiHAwagSwL2AG8CB6ZvAmS+DwBAZCT/VI38+eFNiPr6ZgTzftpy+7r0hPsVmhj7/uzS/Mnsyv/NaGD8wJ5E/58rPPkiRhT8O6iXAYsEawNQyk8DrI8vAAYGGv1RxosBdO4/AWODPv5qfw8B9pXHAbLC+wJukvMA5BrHAChswwMI7GcCpbRbAoXNswLZPasDMIRrAkspOwAa1LMDYRWLAUFwCwPLZf8B4uhvAoBvovyfOmUBKkQnANL8fwEkaIr85fwPACYJ6v4RfDsCPhrFApsoDwBgLqz6kwcY+O+sLwGxJ6D5uhEPAfV8Bwa1QMsA5sAnAWnY4wIPW17/TNuC/gu7wv7qbzL8hhA3AWIPWv2wxZcC746e/TmWRwPhKsL/W6AjATq5BwOxnHMB3gv2/v7ZywLCkhb8F6HnAQtVQwO+sScC2QpjAjLE1wJNhgMD/qhfATzaBv92DbsCkuhC/jLvjvxt8G7+6rmLAMDGPv40AFMDVEo3AhpGFwJMGYL6kgs0/pcVvQEWrvD/ymA9A8mEKwJjUhT+wODnAQolNQLbQDcCOP4lAQkcIwB2/TkDKtwDAKwKyvwtGHMAuQ7+/nARCwJ3bJsAgisq/gwDIv+dCAsDVbWC/IHZevvsK+L8rv5e/",
          "dtype": "f4"
         },
         "y": {
          "bdata": "8fGWQDBeCUHEagdBoI8JQShvD0ERhKNAOk20vwE7y0BTEJVAb+PnQDoy70AbXrk/gWqSQLT3ykCU4KRA24zCQBBz2EA7acdAx/jaQEexqUCqKDVAtuApQDebwUDIlzhAFFpCQJrJA8DmOTPAlJeOQGuo2UDNFtY/Qo2OQBTqQMBUeC3ANS8cwLGCOcBdZYDA8YuSwJKnHcAPEZVAnEi8QC2zuED7Zo5AmIR+QDElkkDcBYJA9CN6QLTyiED0IoFAN0GDQG/QIkBinoRAJQc7QIk8JEB2HpZAkdM4QCPrjUDtFkdAa5ocQAKrUUCNP0JAiWNIQL4orECD1nJApT6xQBl97MAOuaPAcdOSwGPGpcCHeH7AxmmbwAYLncA0YZrASXubwBkss8Cu2cTAqU7qwDxwk8CiDMJA0i/qO8u+vkBXG51Ays60QPaFa0CK371Ai9hgQJ0TkUA6kr9A9OpEQBdON0AXK5dAs8TxQO8mrEAFy8dA2rWQQOIhtkCDvslAGrvjQIW240Cz/cZAptm3QMH8o0ACb6hAbLimQIbl9EAFwg5BULIJQc+MVT+fWA1B1gN0PzKGDkEpITs+2XwPQY4ZHkDT1yZA6SYZQaX62j/ABxdAGlRBwFUcG0A7MmpATUcoQLU8cUDX3KxAxlHnPzoFT0AiY/8/Xi0RQEL6hUA4xMM/PlBDQGUxhUD60lVA8/F/QGYHoEDyCEFA/fLTQDEhYUDRZJVA4xFFQIOSPEAE2gxA3zeHQKIOVUBLRKJApQumQMPsYEBEmLJArgnPQL+Hw0D3qGhABlvAQKK7bUBlXhRABtotQFRGicA444DA3AwGwdSqlcB9IV3Av24qQTqVcsBtLN5A4SFEwDRg50A+YYFABcMrQc/vU8BNkZ9AkydaQLrgx0DWGphA1KMqQFMtO0Cl1n9AmGCdQFeSaEBsF1NAJVycQMnshUBNn0FA",
          "dtype": "f4"
         },
         "z": {
          "bdata": "2iQrQdim/kBNGgJBvFL+QKfHjkD/kN1AzVAJwBInFUG+rQRB9I0NQZY/A0ELquhA2ErjQMJ9B0HqbRFBOE8PQfJqFEGJOwZBL/QCQUeOGkENfw1BXQkIQS0gFUEQOx9BpOQhQTEsGUBOhQpAoZHiQF4S+0Abt9VApYeVQO3iTkAYbBRADd4cQBISNUBy/ZJADxebQKXkLUDRYexA+Z8OQXV5D0E4zB5BQUomQQin30C4ndpAqKMiQYhqE0EnZiZBbo4QQSvzwkBXCwtBP6FtQEUGkUBfEXpAT+52vkoDyEAFoEdAKVCnQJ2/oUDprltA5LlRQI+u1kBfGbVATfsPQXH0okAjP5FAEwuaQDBCiUBt7IBATkaOQES/k0AbZVBAp2yKQH9wmECla6FAX2SiQDJjh0BXyO1Ace6cQFKJD0GjE9xAkxBgQJ1wxUBLOwpB9RcVQYrK1UC1+ANB4NjSQNNdz0A59O9AoRfOQL5lrUAUCbBAUmrFQK8Fw0Dvms5A/iTVQCYnwkAv6M9AQCCjQMzFzkBRMnpAfQ20QN86+kAT865AwpKVQIWm4UCRTbVAGrzWQFdbp0DJPQK98OrFQJsjAUHOWdhAU5LRQF027EAdHB5BvTw2wUHJH0GxXrlAraXMQBcdqkArjxRBYNAAQRE8pkAS/vVAN///QKgB9UBSWtdAdGccQe75vkDwubZA8YXiQITzBUGCrYpAqxH6QE8L1UBYpwJBDiq+QOibuEASI7FA3YXNQBla+kBeRs5A40nWQLU060CRDtlAvvPOQMqXwkCgv+lAsejBQE366kA6L+1AhdrnQPZ1lkBa7LZACJ6vQAlRsUBSymxA4XWAwD5ilEADKvpAy1NJQMJKFkGnySNAkBeLwB3bU0C7Jb1A4Y3lQDwn9UCMbQRBNVoCQdKa7EC1PfZAIVz9QDLrB0EJWvhA4LESQSzrCUHCbyNB",
          "dtype": "f4"
         }
        }
       ],
       "layout": {
        "legend": {
         "title": {
          "text": "label"
         },
         "tracegroupgap": 0
        },
        "scene": {
         "domain": {
          "x": [
           0,
           1
          ],
          "y": [
           0,
           1
          ]
         },
         "xaxis": {
          "title": {
           "text": "TSNE1"
          }
         },
         "yaxis": {
          "title": {
           "text": "TSNE2"
          }
         },
         "zaxis": {
          "title": {
           "text": "TSNE3"
          }
         }
        },
        "template": {
         "data": {
          "bar": [
           {
            "error_x": {
             "color": "#2a3f5f"
            },
            "error_y": {
             "color": "#2a3f5f"
            },
            "marker": {
             "line": {
              "color": "#E5ECF6",
              "width": 0.5
             },
             "pattern": {
              "fillmode": "overlay",
              "size": 10,
              "solidity": 0.2
             }
            },
            "type": "bar"
           }
          ],
          "barpolar": [
           {
            "marker": {
             "line": {
              "color": "#E5ECF6",
              "width": 0.5
             },
             "pattern": {
              "fillmode": "overlay",
              "size": 10,
              "solidity": 0.2
             }
            },
            "type": "barpolar"
           }
          ],
          "carpet": [
           {
            "aaxis": {
             "endlinecolor": "#2a3f5f",
             "gridcolor": "white",
             "linecolor": "white",
             "minorgridcolor": "white",
             "startlinecolor": "#2a3f5f"
            },
            "baxis": {
             "endlinecolor": "#2a3f5f",
             "gridcolor": "white",
             "linecolor": "white",
             "minorgridcolor": "white",
             "startlinecolor": "#2a3f5f"
            },
            "type": "carpet"
           }
          ],
          "choropleth": [
           {
            "colorbar": {
             "outlinewidth": 0,
             "ticks": ""
            },
            "type": "choropleth"
           }
          ],
          "contour": [
           {
            "colorbar": {
             "outlinewidth": 0,
             "ticks": ""
            },
            "colorscale": [
             [
              0,
              "#0d0887"
             ],
             [
              0.1111111111111111,
              "#46039f"
             ],
             [
              0.2222222222222222,
              "#7201a8"
             ],
             [
              0.3333333333333333,
              "#9c179e"
             ],
             [
              0.4444444444444444,
              "#bd3786"
             ],
             [
              0.5555555555555556,
              "#d8576b"
             ],
             [
              0.6666666666666666,
              "#ed7953"
             ],
             [
              0.7777777777777778,
              "#fb9f3a"
             ],
             [
              0.8888888888888888,
              "#fdca26"
             ],
             [
              1,
              "#f0f921"
             ]
            ],
            "type": "contour"
           }
          ],
          "contourcarpet": [
           {
            "colorbar": {
             "outlinewidth": 0,
             "ticks": ""
            },
            "type": "contourcarpet"
           }
          ],
          "heatmap": [
           {
            "colorbar": {
             "outlinewidth": 0,
             "ticks": ""
            },
            "colorscale": [
             [
              0,
              "#0d0887"
             ],
             [
              0.1111111111111111,
              "#46039f"
             ],
             [
              0.2222222222222222,
              "#7201a8"
             ],
             [
              0.3333333333333333,
              "#9c179e"
             ],
             [
              0.4444444444444444,
              "#bd3786"
             ],
             [
              0.5555555555555556,
              "#d8576b"
             ],
             [
              0.6666666666666666,
              "#ed7953"
             ],
             [
              0.7777777777777778,
              "#fb9f3a"
             ],
             [
              0.8888888888888888,
              "#fdca26"
             ],
             [
              1,
              "#f0f921"
             ]
            ],
            "type": "heatmap"
           }
          ],
          "histogram": [
           {
            "marker": {
             "pattern": {
              "fillmode": "overlay",
              "size": 10,
              "solidity": 0.2
             }
            },
            "type": "histogram"
           }
          ],
          "histogram2d": [
           {
            "colorbar": {
             "outlinewidth": 0,
             "ticks": ""
            },
            "colorscale": [
             [
              0,
              "#0d0887"
             ],
             [
              0.1111111111111111,
              "#46039f"
             ],
             [
              0.2222222222222222,
              "#7201a8"
             ],
             [
              0.3333333333333333,
              "#9c179e"
             ],
             [
              0.4444444444444444,
              "#bd3786"
             ],
             [
              0.5555555555555556,
              "#d8576b"
             ],
             [
              0.6666666666666666,
              "#ed7953"
             ],
             [
              0.7777777777777778,
              "#fb9f3a"
             ],
             [
              0.8888888888888888,
              "#fdca26"
             ],
             [
              1,
              "#f0f921"
             ]
            ],
            "type": "histogram2d"
           }
          ],
          "histogram2dcontour": [
           {
            "colorbar": {
             "outlinewidth": 0,
             "ticks": ""
            },
            "colorscale": [
             [
              0,
              "#0d0887"
             ],
             [
              0.1111111111111111,
              "#46039f"
             ],
             [
              0.2222222222222222,
              "#7201a8"
             ],
             [
              0.3333333333333333,
              "#9c179e"
             ],
             [
              0.4444444444444444,
              "#bd3786"
             ],
             [
              0.5555555555555556,
              "#d8576b"
             ],
             [
              0.6666666666666666,
              "#ed7953"
             ],
             [
              0.7777777777777778,
              "#fb9f3a"
             ],
             [
              0.8888888888888888,
              "#fdca26"
             ],
             [
              1,
              "#f0f921"
             ]
            ],
            "type": "histogram2dcontour"
           }
          ],
          "mesh3d": [
           {
            "colorbar": {
             "outlinewidth": 0,
             "ticks": ""
            },
            "type": "mesh3d"
           }
          ],
          "parcoords": [
           {
            "line": {
             "colorbar": {
              "outlinewidth": 0,
              "ticks": ""
             }
            },
            "type": "parcoords"
           }
          ],
          "pie": [
           {
            "automargin": true,
            "type": "pie"
           }
          ],
          "scatter": [
           {
            "fillpattern": {
             "fillmode": "overlay",
             "size": 10,
             "solidity": 0.2
            },
            "type": "scatter"
           }
          ],
          "scatter3d": [
           {
            "line": {
             "colorbar": {
              "outlinewidth": 0,
              "ticks": ""
             }
            },
            "marker": {
             "colorbar": {
              "outlinewidth": 0,
              "ticks": ""
             }
            },
            "type": "scatter3d"
           }
          ],
          "scattercarpet": [
           {
            "marker": {
             "colorbar": {
              "outlinewidth": 0,
              "ticks": ""
             }
            },
            "type": "scattercarpet"
           }
          ],
          "scattergeo": [
           {
            "marker": {
             "colorbar": {
              "outlinewidth": 0,
              "ticks": ""
             }
            },
            "type": "scattergeo"
           }
          ],
          "scattergl": [
           {
            "marker": {
             "colorbar": {
              "outlinewidth": 0,
              "ticks": ""
             }
            },
            "type": "scattergl"
           }
          ],
          "scattermap": [
           {
            "marker": {
             "colorbar": {
              "outlinewidth": 0,
              "ticks": ""
             }
            },
            "type": "scattermap"
           }
          ],
          "scattermapbox": [
           {
            "marker": {
             "colorbar": {
              "outlinewidth": 0,
              "ticks": ""
             }
            },
            "type": "scattermapbox"
           }
          ],
          "scatterpolar": [
           {
            "marker": {
             "colorbar": {
              "outlinewidth": 0,
              "ticks": ""
             }
            },
            "type": "scatterpolar"
           }
          ],
          "scatterpolargl": [
           {
            "marker": {
             "colorbar": {
              "outlinewidth": 0,
              "ticks": ""
             }
            },
            "type": "scatterpolargl"
           }
          ],
          "scatterternary": [
           {
            "marker": {
             "colorbar": {
              "outlinewidth": 0,
              "ticks": ""
             }
            },
            "type": "scatterternary"
           }
          ],
          "surface": [
           {
            "colorbar": {
             "outlinewidth": 0,
             "ticks": ""
            },
            "colorscale": [
             [
              0,
              "#0d0887"
             ],
             [
              0.1111111111111111,
              "#46039f"
             ],
             [
              0.2222222222222222,
              "#7201a8"
             ],
             [
              0.3333333333333333,
              "#9c179e"
             ],
             [
              0.4444444444444444,
              "#bd3786"
             ],
             [
              0.5555555555555556,
              "#d8576b"
             ],
             [
              0.6666666666666666,
              "#ed7953"
             ],
             [
              0.7777777777777778,
              "#fb9f3a"
             ],
             [
              0.8888888888888888,
              "#fdca26"
             ],
             [
              1,
              "#f0f921"
             ]
            ],
            "type": "surface"
           }
          ],
          "table": [
           {
            "cells": {
             "fill": {
              "color": "#EBF0F8"
             },
             "line": {
              "color": "white"
             }
            },
            "header": {
             "fill": {
              "color": "#C8D4E3"
             },
             "line": {
              "color": "white"
             }
            },
            "type": "table"
           }
          ]
         },
         "layout": {
          "annotationdefaults": {
           "arrowcolor": "#2a3f5f",
           "arrowhead": 0,
           "arrowwidth": 1
          },
          "autotypenumbers": "strict",
          "coloraxis": {
           "colorbar": {
            "outlinewidth": 0,
            "ticks": ""
           }
          },
          "colorscale": {
           "diverging": [
            [
             0,
             "#8e0152"
            ],
            [
             0.1,
             "#c51b7d"
            ],
            [
             0.2,
             "#de77ae"
            ],
            [
             0.3,
             "#f1b6da"
            ],
            [
             0.4,
             "#fde0ef"
            ],
            [
             0.5,
             "#f7f7f7"
            ],
            [
             0.6,
             "#e6f5d0"
            ],
            [
             0.7,
             "#b8e186"
            ],
            [
             0.8,
             "#7fbc41"
            ],
            [
             0.9,
             "#4d9221"
            ],
            [
             1,
             "#276419"
            ]
           ],
           "sequential": [
            [
             0,
             "#0d0887"
            ],
            [
             0.1111111111111111,
             "#46039f"
            ],
            [
             0.2222222222222222,
             "#7201a8"
            ],
            [
             0.3333333333333333,
             "#9c179e"
            ],
            [
             0.4444444444444444,
             "#bd3786"
            ],
            [
             0.5555555555555556,
             "#d8576b"
            ],
            [
             0.6666666666666666,
             "#ed7953"
            ],
            [
             0.7777777777777778,
             "#fb9f3a"
            ],
            [
             0.8888888888888888,
             "#fdca26"
            ],
            [
             1,
             "#f0f921"
            ]
           ],
           "sequentialminus": [
            [
             0,
             "#0d0887"
            ],
            [
             0.1111111111111111,
             "#46039f"
            ],
            [
             0.2222222222222222,
             "#7201a8"
            ],
            [
             0.3333333333333333,
             "#9c179e"
            ],
            [
             0.4444444444444444,
             "#bd3786"
            ],
            [
             0.5555555555555556,
             "#d8576b"
            ],
            [
             0.6666666666666666,
             "#ed7953"
            ],
            [
             0.7777777777777778,
             "#fb9f3a"
            ],
            [
             0.8888888888888888,
             "#fdca26"
            ],
            [
             1,
             "#f0f921"
            ]
           ]
          },
          "colorway": [
           "#636efa",
           "#EF553B",
           "#00cc96",
           "#ab63fa",
           "#FFA15A",
           "#19d3f3",
           "#FF6692",
           "#B6E880",
           "#FF97FF",
           "#FECB52"
          ],
          "font": {
           "color": "#2a3f5f"
          },
          "geo": {
           "bgcolor": "white",
           "lakecolor": "white",
           "landcolor": "#E5ECF6",
           "showlakes": true,
           "showland": true,
           "subunitcolor": "white"
          },
          "hoverlabel": {
           "align": "left"
          },
          "hovermode": "closest",
          "mapbox": {
           "style": "light"
          },
          "paper_bgcolor": "white",
          "plot_bgcolor": "#E5ECF6",
          "polar": {
           "angularaxis": {
            "gridcolor": "white",
            "linecolor": "white",
            "ticks": ""
           },
           "bgcolor": "#E5ECF6",
           "radialaxis": {
            "gridcolor": "white",
            "linecolor": "white",
            "ticks": ""
           }
          },
          "scene": {
           "xaxis": {
            "backgroundcolor": "#E5ECF6",
            "gridcolor": "white",
            "gridwidth": 2,
            "linecolor": "white",
            "showbackground": true,
            "ticks": "",
            "zerolinecolor": "white"
           },
           "yaxis": {
            "backgroundcolor": "#E5ECF6",
            "gridcolor": "white",
            "gridwidth": 2,
            "linecolor": "white",
            "showbackground": true,
            "ticks": "",
            "zerolinecolor": "white"
           },
           "zaxis": {
            "backgroundcolor": "#E5ECF6",
            "gridcolor": "white",
            "gridwidth": 2,
            "linecolor": "white",
            "showbackground": true,
            "ticks": "",
            "zerolinecolor": "white"
           }
          },
          "shapedefaults": {
           "line": {
            "color": "#2a3f5f"
           }
          },
          "ternary": {
           "aaxis": {
            "gridcolor": "white",
            "linecolor": "white",
            "ticks": ""
           },
           "baxis": {
            "gridcolor": "white",
            "linecolor": "white",
            "ticks": ""
           },
           "bgcolor": "#E5ECF6",
           "caxis": {
            "gridcolor": "white",
            "linecolor": "white",
            "ticks": ""
           }
          },
          "title": {
           "x": 0.05
          },
          "xaxis": {
           "automargin": true,
           "gridcolor": "white",
           "linecolor": "white",
           "ticks": "",
           "title": {
            "standoff": 15
           },
           "zerolinecolor": "white",
           "zerolinewidth": 2
          },
          "yaxis": {
           "automargin": true,
           "gridcolor": "white",
           "linecolor": "white",
           "ticks": "",
           "title": {
            "standoff": 15
           },
           "zerolinecolor": "white",
           "zerolinewidth": 2
          }
         }
        },
        "title": {
         "text": "t-SNE 3D - Digits"
        }
       }
      }
     },
     "metadata": {},
     "output_type": "display_data"
    },
    {
     "data": {
      "application/vnd.plotly.v1+json": {
       "config": {
        "plotlyServerURL": "https://plot.ly"
       },
       "data": [
        {
         "hovertemplate": "label=0<br>UMAP1=%{x}<br>UMAP2=%{y}<br>UMAP3=%{z}<extra></extra>",
         "legendgroup": "0",
         "marker": {
          "color": "#636efa",
          "symbol": "circle"
         },
         "mode": "markers",
         "name": "0",
         "scene": "scene",
         "showlegend": true,
         "type": "scatter3d",
         "x": {
          "bdata": "YqyEQboVhkEWeoFB2ciEQWBRg0FnZINBBD+AQSSpgUEELYFBsrV/QQ2KfkFm+YBBRUCBQbMKg0F0XYNB9K5/QcoIg0FDmIRB6C1+QTaNgUE/8YBBFhqAQey3gUHGxoBBhzSAQXfigEEXUYZB+FiBQexShUGEh4ZBxjyGQViyg0FuRYRBd32EQW6XhEHCuIVBXlKFQShsgUEnKIFB/Sp/QfwSgEFCRIBBolKDQT8qgUFLlX9B1yeAQW3PgkFaZIRBDXeCQenlfkFVln9BIRmEQUvyhEENnIRBCn6FQRRchUEBcIJBc0iEQQwBfkEK7YVBhAuEQdDDg0EIfIVBIsyFQZMrhEGfo4NBQCuHQT3jgkFGFoVBum6AQYYNgkHrF4ZBKQuCQS6tgkE8mYNBd/uDQTqggUHGpYRBb+WFQcOlgEH7UIZBdaqEQXhohUH5B4NBIdeFQfdghEEfPoRB17CCQcU/gkF564NBJkyFQZsfg0FKgYNBzvmCQaB7g0GHA4NBIlSDQfwvhUGPt4FBExCDQYVTg0GSNoVBKbGAQavagEEK7YJBaFeAQSOXgEEdq4BBgi1+QUCIg0Gm8X1B2rB9QWlchUFvQoFBYTKEQeqUhUE1y4RBBTWHQagMhUEeA4VBC5uFQTDyhkHFHYdBGR6HQcD6hkERhoRBsAWHQTPXgUES34NBrCqCQam6fUHHRIJBBBqCQbTJgUFRQ4RBclmFQZqZhEFmAoJB56WCQekwgkFwOINBU0SAQd6ChEEmRoBBXi2BQZvIgUHB3YFB1tZ9QVRSfkEg0n1BuJ6CQXtagUEg4YJBofCBQec5gUEynoRBTR6CQfqqg0G/BYJB8/yFQcM5gUEZx4FBHzR+QWwQgkFPkYVBlgyAQZIsgEGasH9BJTyEQdLxgkGDJ4FBZhiFQUd6gkEvx4BBj5yCQSHyf0G/TYFB61SDQQ==",
          "dtype": "f4"
         },
         "y": {
          "bdata": "4naBvoXUhrxKVwY/XnOtvmlLwD5CJAw+QatHPvfeET+v4/Q+wHuJvLSE0b3U3vg+VOIBP7QdYz6Jj54+hCExPoomXz4D07M980RjvpFvJT8sBAI/sNBzPomlCz/f6v8+SG80vgpX/D4YYjS9HQW5vfITGbyZu3C9veKLvtagMT7kcOa85DVivWNXgD434d47tNozPZOI/TyCwPs7VnL7vDru5b0WcZw+7PWKPpPd4r1+mGu9D7VdPmhaf74JThI+L+aiviTWJj0jLyo+DcegPWdcIj5wTUa9LxLtvceAjD0h4a69FnFePiyOnr5aasg9e+7FPnp0wb0Mkos9ehjpvVRqpT2rF1w75Ny3vva6iT6oGDU+L1KWPZRf3j6isg4+6u0PPxZm6z5qJoM+NwV6Pg+K4D5oMJU+Bvwivm6t1r4VY8a9PySKvAB/Dz0LCCU8u/dNPUxUib6FD64+J1HQPrkKab4IRqe+2YwFu2tH+L1+87q9QraJPUVwTb6xeJe+Q7ZSvo+Iar6z0CW+IGS2vmLsP767wwm+JvNSPt8y7j3w7eq9e7xqPm8scT63+Tk+kxCbvoUOs71H5KO+kRSlvvy7/r0UYfA9l3DNPYUfdb66XC2+Pdisvucijb5fkKe+cgixvjnZn77tzrO+oam8vgZKnL6NP2k+JVG4vmUQtT0KHcg+NTHSPpzvj74ang4/68rDPgnb5T7OFry+c07kPc7Tor6ciNA+EbDpPrqtAj/PtlG+9HzvPQepQ73tIS09NYcBvUf5ub1UVRG9j/+RvsIJgL4WbY6+JgMLvl9PVb1t24a+C0zkPkqsDT8Pppk+PesePzOSnT4iKCQ/4SwLve6SCT/tRSA/qfyevg61Cz8/XAs+gWbdvLg1Kz4bYJA8TW9ovlJygz4PfPm9VhuZvbUhZz544sq9zGc3vmy+hrxLMQg/8eJ6Pg==",
          "dtype": "f4"
         },
         "z": {
          "bdata": "DNz6QKef/EBWpvRAEoD3QNBA9EBLjQFB7fH+QBD98EBsCfVAlPn/QBDw+kBj9vZAh7P0QEVcAEFFmPNAAsf9QGoH8UCW7vZAloz6QHrq70BiQvNAPhn5QMQd8ECM1vRA+F/4QA4C9UClTPxAZ9r9QO+F/0BUFf1Adlb7QLDDAUH0twFBzp8BQVRdAEGiXvtAeGT8QPxiAEEFaQFBEI75QLpP+EDRU/lACXfwQFqb90AWQvxAPgD9QPB8AEH+KfVAW/D6QPTS/EBVVvdAeJr8QBeF9kDVrAFByn/1QFXY9kA4yAJBJ6r/QAMg+kBfdPxAZln8QM5oAEEgnPZAlzr2QDNi+kANQvJAr1X3QBVE8kAMmP1A3VT5QA+S9EARt/VAqCrxQMv98kCTG/FAXlT/QLuI+ECClvRAmgn+QEqa+kBinf1A2UIBQXwJ/kDEbfNARjL6QKxB9kC3O/RA50DwQMJ//ECgNfpA9Fn/QHPXAkEcrQJBS9v/QFwUAkG3lf1AxtoCQdFoAEHUMwFBiQkAQZ+vAkFmbv9AwZz9QMJIAUHePwJBvkkAQRSaAEGZkgFBeIP6QBhkAUHrO/tAw4f6QOST/kByaQBBG2f9QIYB+0D4S/pAcoz3QFpY90BTkPZAZgL3QBzR90CcofdAdJv3QPCa90AkKf5A1KX3QDTGAUFmdPxACRv9QOw0+0AZYPFAS8T3QOAr9kBPPfZAPr78QH6s+EDM7PlAGBD6QGX69EAKpAJB0vf+QHrmAUHMHwBBwuEAQbDwAEFOYgFBDYv6QJT3+EDebPpAdiABQYb8AUGCOvtArujzQOTG90AkPPVAkCTxQCuy/kCer/BAXpn9QJJQ+ECnQvBAh4D6QGuo8UBYRfpAEO78QN8V/kBIR/hAtE/7QPQo8UC1zvVAik8AQUpV8UA9ofhAdHv8QAYX90B7iPhA2UrxQA==",
          "dtype": "f4"
         }
        },
        {
         "hovertemplate": "label=1<br>UMAP1=%{x}<br>UMAP2=%{y}<br>UMAP3=%{z}<extra></extra>",
         "legendgroup": "1",
         "marker": {
          "color": "#EF553B",
          "symbol": "circle"
         },
         "mode": "markers",
         "name": "1",
         "scene": "scene",
         "showlegend": true,
         "type": "scatter3d",
         "x": {
          "bdata": "dz0gv+Wk3r9MqdG/ETfdv8s6vb+Xn9O/iBm1v5NM1r9zpsq/IZ7ev2Onlb/eLn++0LXov5x63b+LQ+i/EPLmv/lS4r/A1OW/8KfRv5IE679kVuq/+y7qvzpV57/67NG/+c7mv50R5b/9se++WaHlv2KkOL8l0B2+y0cMv1ex6L8XuJC+6WM/vw3t478qXRS/eG/AvoZZ/r45+Dy+GZPIvyDJs79hbsa/pLfMvyursr+K1PG/fDHMv2V1sL9n2rC/mAzav8lbvL9YP7W/VjjEv8er5L/KOu6/BAbwv6zY7r8DDvK/DW/vv0nA8r+Ax/G/B4Lxvw+A8L8erfS/bCauvhyh6L8RSu++6TFDvhIXO76hkA6/ZPUJv7LREb/ZfNq+HgIWv1haaL5D7G6+4XvFvgsT475pM/m+isDivuBnE7/kchO/BTLrvtOTm75DF/K/cTgNv50tDb6efde+KT+Vvg6zmb63jei+ZecZv0ZU8b+a0++/nR7xvx1B6L8l6+m/Nw/sv4FX5L+rpum/ak3vv2B66r/FS+2/B6LsvzBk7b+Jjwe/xL35vnGN6L5D5c6+M72Xvub6dL4xL9e+2wQ/vvkG6r7TTui+Q5MUv/92Xb5KWnW+RgOtv2P4tr9qeHi/fNIEvw8+l78St+2+L9IOvg/D4r4sC4C/tVRzvq5zfb7TgDe+wclpvy/fv79v9Ye/Pu7ov+2z674H7Oq+mazAv6UN974qjbO/+nUIv4dI7r4tx/G+FNGUvuo4nb5Skb6/UmPLv6uBy78fhde/oRzWvzPNyb/XB8i/jt7Iv3J5wr+Jfcq/RdDOv3S80r/mL8e/jnTGvvAES75LQza+pIj6vjrCz76juUK+j8bBvmQ+0L7TRum+Ui7tvpHg4L5YyPa+wgL8vh09mb5ykAC/oO8vvlgfv74cZ/G+Lv5Hvot81r4vvvC+xPocv9Hb6b7sTZO+rqLvvo43574=",
          "dtype": "f4"
         },
         "y": {
          "bdata": "KJuUQM2MX0BhB15ALiFgQHqJZkCTLGBA2DlpQFJRYEAYLWRAHUpgQEE1dUCF9o5A4rpXQOf8T0BiTVRAoNpQQCMpU0A89lBAHEVZQNXVW0BOKFFAiDFaQGGQUEBLS19AU0BcQI95VUACX5BAKSheQLeOi0DeRYpABNORQAxgWkCX8I5AYmWNQNAdYkAqppNAhvSXQKXTnEAp1ohAwMlSQHaDZkBGa2FAk6hfQH2aZ0AxpthAFVxeQBc7akClcGpAcbNeQIZcZEAAKWZAcpNhQAAx2kDOXdlACxDYQDhr10DAodRAHU3YQKOg1EDYI9VAy03VQOYA1kAWKNRAbGSLQN692UAheIpAl6qJQInliUC2S41AeyuMQOkllUBmi4ZAo7WUQO36hUAHcIhAgxyHQD7ih0DVe4pAYB6bQNfVmkBnppRAIjKMQJjSikCJNthAMTCQQGqWikCkW49AdjiQQBmJkECSHJhAX6WNQL7d2EAU+NhAByLZQCNB2UCgstlAeinaQJPv2kDz49lAA23ZQFy22UB6+dlAXdjYQGuT2UBtmI1AezWNQFOamEDcFZBAQumRQDPhhkDJa5pAOpSMQKvMmEBFpI9AyOCTQHMAj0D+GI9AFBxsQGKmaEAIj3lAPDSRQMPPcUCOVJ1Af6eLQNvnmkBF4XZAFPWOQM0djkDeNYxAdaB2QAW0VkDCY3ZApC5QQDm0m0DA5JxAYrRgQB3Lm0ArRmlAkMCbQELHnECor5pASAuTQKPklUA9zllAD0xVQNR4XUDgV1FAVwVRQKdUUkCRXFJA3NJQQBPyVUD7H1xA6oZSQLayT0CliVFA39OXQJhJjEAXYItA72ydQMEvmkA2ao1AMraYQF4xm0CmzZ1A3v2eQGE7mkBm2p1AlJmdQLmki0D7yolAAGCKQIcCjUBRQolAzrKJQEmcjkDEYIxA/BGRQEoUj0DkrolAAsOMQHBhjkA=",
          "dtype": "f4"
         },
         "z": {
          "bdata": "Ek2rQHG7k0DaJpFA6yOUQJOIlUACKpNAHteWQBobk0D/MJVAvkyUQJqCnUBwY7VABOqPQITPiEB5w4xA6UOKQDwzi0D+G4pADGmOQLzhkkAO2IpAWqCRQJcUikAeIJJAq2GSQKA/jUBkz7tAJFaUQDqWv0AWvb1A3uy7QACjkUCYQ7dAjsO6QFm3l0Bz37hAVSyvQOW2rUBfor1ACUWIQFyqlUAo35JASwSSQKjUlUCqDUdBW8GQQJiNl0A3rpdA432SQNlilEBgVZVA/L6SQCMPSEEwckdBBrNGQd5VRkE1B0VBuuxGQdLrREGtOEVBHm5FQQBQRUF/nkRB71TCQL7cR0FlrrxAItS9QH5rvECDvb9AWv/AQOpMt0Af8b5AjLm3QGSev0AV/b9ATETAQLhZwEBQdb9A6VyuQB5ksUDxkrdAlOHDQNo5wkCg9kZBmSHCQDS3vED9c79AxA62QJ3ztUBSTLJADwy/QCsYR0FPO0dBsklHQcfDR0G2s0dBI4RHQbN/SEHHu0dBvWtHQceuR0GX4kdB1WVHQQZ9R0G/ZcNAvynCQHRlsECFHsVAeju0QIQTvUDYHa5AH2e5QLU4sECc8cNApmi4QIestEA4C7ZA/bGYQL6SlkBwGaNAxHXAQMPInEA28KtAsWm4QGnyrUBICKJATvK1QDTztkBWzbdA3dSkQGy6ikCtiKBAWf2JQHOvrEC7XqxAu+GRQMV0rkCM5JZA3POuQG+2rEAMrq1Ao/axQK8ur0AbsYxAO+KJQE4WkEBjAolADJqIQLoRiECttIdAj9yGQIksikBP/o5Ad5yIQLM/h0AcJIdAI16vQJqstkC+oLdAQUmsQHNNrUDHzbRAf/+tQJtfrECFkqtA+p+qQFY4rkBI5qtAJ3KsQNtLwUAHecFAX+S9QHVewkBXQsBAeMW/QBXoxEDQycNAUHe+QLl3w0AM9r9A7uHDQCRHxUA=",
          "dtype": "f4"
         }
        },
        {
         "hovertemplate": "label=2<br>UMAP1=%{x}<br>UMAP2=%{y}<br>UMAP3=%{z}<extra></extra>",
         "legendgroup": "2",
         "marker": {
          "color": "#00cc96",
          "symbol": "circle"
         },
         "mode": "markers",
         "name": "2",
         "scene": "scene",
         "showlegend": true,
         "type": "scatter3d",
         "x": {
          "bdata": "ck6Jv600DMAkuxDAjheJv95Rhr8VM4W/wNeIv9FXiL8Kroe/mTYxwBQRBMBUUom/dmqKv+7fOMCHgQvA5s/5v7orEcC5mQzAzQAswOhhG8A18PO/kEkNwA4FEcBD3zfALls6wL5nD8B2IxXAv1cXwO7hL8BWBD7AiGAOwICcF8Af3jDAHTcXwJgQOcD8LAzAijEVwNpAPsDB2jPAcVwUwJhCCcCNCifASrX7vyaaIMD5KSLAHBkKwIcfFMCbECXA8ZwqwLSfKcCMDirAAh6Lv1276L+gURPArI/xv6XfBcD3cfG/Y+nwv+jv8b/tKfG/fbATwCdz879Ni++/5AYZwGNd8b++7gjAFHMCwHVtBMCrQfa/LsEAwIx17L901+q/6fT6v6YrBsBhMULAKCIHwKOSAcDpBgjAfkIvwKmDP8CjP0PANgUMwCuNSMAoKULA+r00wNZFScDCsUnAvjryvwAzS8DCDxg+HrMGwOJaLsB4iEjAYqwswOooNMAMt/G/qhH0v3de9b/WnvO/tGJHwCyXDsDfuu2/8SdDwEFLLMAB/QXAXDntv0bM5780Euy/EjEFwO6q5L+f8f6/tLg+wOvABsAJE/C/+R01wLb097+bgAvAi8kIwJD1B8CJv0PAL/8XwKMeKsC2gfm/C7MQwLWbQsAvqD/AE2AtP5LI6b+0re6/IT3ov5vr4L+ni9m/QzHuvxt547+rgRrA8p3iv3FX7L/viei/HJXtv0Xg6b9u7inAs9Y9wOPeRcC1PEXAwUwrwCfQRsCRYT3AorJAwE3aRMAfSknA9jxCwPSZAMCs9jrAD6kJwA8yAcCEiAHA2j3ev1U1McBMm+S/6xQJwJX6879j1jHA6tAMwBpP6r92RSXAh6wIwFxOCcCvcC3ApthHwIHLS8A0hTvAVz9HwG5lHMCOoAXAM7xFwNNWKMD0ryXA",
          "dtype": "f4"
         },
         "y": {
          "bdata": "fGmRQK0btECKLa9A3FaRQKfCkED0ipBAZy2RQAMLkUCN5ZBAiFOkQL4doUCFbpFAlm+RQHVbnUArcJtAx9+gQPJvnUAt2JtAmXWrQBYcp0CuA59AdHedQAwbnkANQ6dAWkyhQNPanUA7BZ5AF9adQG3sm0ByZZlAJyacQOjXnUB7cJxAEE2dQBqamkCz7JpACNmbQB6rmUDoxp5Apw6yQOqMtUCcCaxAu9PBQIMBrkB3RqxAQ8e0QHtrsUBH1qpAt/GrQAAUqkBILqxA31+RQBmIuECOPJ9AEwHAQFCdoEA1kr1Aqdm2QPalvECyq8BAC66eQLG9xkCUZ71Aaz+dQJ2ZvEA1eJlAgEuZQIGamUAnaJxAY/OaQMaVmkCZDZtAMOebQF0Dm0DayJhAA2SaQCk+mUD3zJlA75KbQENEoUAYMZpAW56cQNbHnUAsYJlA0B+rQPHOmkCCgqBAr2ShQKeknEAnzYQ+x86aQCu4nkAnk6RAwsKfQLBZoUCUdMFAY4G3QMy8t0Ddm8BA+BClQJMRsUC3hLhAOPSlQD8co0Ci2q5Ae3+4QM+gtkCgXbhAYlq4QNSXtkBCRbdAkHOmQH/qskBancNA8heeQIhQtUDPi5pAjfSeQHU1mkCPRJlAnbWcQKOfnEA1r6JARuyaQNQMmUCqL5lAgr3tP+rktkAoisZAB9WyQHYttkBinbVAgi/FQPDCt0C846hAE8e1QByuuUAoALhA5lC3QMtduEB3GKpAPVqpQNOqpkCB4KZA+i6rQAElp0B9QapAa4OoQLbcp0A7TqVA5BGnQBG3okCQCapAzGGyQHTpt0BD4blAIR+0QEj7oEC7SLZAUkyaQPzqz0A6xZ9ADve0QMKPs0CnOalAD9+bQEO0nEAewapAGSSmQMF6o0BHnapAQ8emQNmvm0BOnptAjbGmQC/eq0CRU6xA",
          "dtype": "f4"
         },
         "z": {
          "bdata": "GTbzQLvrPEE6VzxBTQ3zQAfh8UA9MfFAkyryQEGY8UAQGvFAxI45QZT8L0EUAfNAyMn0QFwTN0HCnjFBmL42Qe47NUG7WTNBlYk5QZUoN0EmajVBzMUzQasENEHCmjlB8C84QVNiNEHFkjhBRYo4QS/uN0Gu1TZBoaszQULpOEHxDjhBOSs4QThON0EIrjRB0q03QYPoNkEaszhBmDY9QUhUPUH5UDpBMGtBQTA4O0FTnjpBpR89QbyTPEFmyzlBINQ5QQ7eOUEfZzpBfcj0QNhoQUE8tDZBX5ZCQWktOkHcMUJBxI9AQTT1QUHFoUJBfvo4QandQ0HLWEJB+Is4QccIQkHfoDNBtgQ0QYG6M0EhxzRB9NAzQeBeM0HbszNBs/gzQXqWM0GykzZB2BkzQas0NEFkujJBsNY2QbdiOUGh+DZBrLQzQSv9N0FCyTZByWg6QSxaN0E6tDhBG6c2QeHCN0GqYxxB3IQyQSCyOEFzLDpBV845QbvUOkFJrEJB0IRAQXRZQEHBTUJB3IQ6QVT2PEHKEEFBDDE7QWJNOUHXRTtB4QNBQbfvQEGhMkFBnCk+QXIjQUG3wD9BLos7QWI7PUFdO0NBqho4QYscQEFOrjNBOjo3Qb/xMkEMyTZBnR04QUipOEE7IThBk8s0QSejNkEd0DZBflkYQch3QEFl50NB8ik/QQ9sQUG5CUJBgqBDQWGIQUF3XTpBg+pAQSJzQUEqXUFBn8VAQW1aQUH+mzlB9tM6QUbjOkGG9jpBWyc6QXj/OkGVuzpBjfo6Qbv3OkG4ZzpBxiA7QQMnOEE2iDpBg8Y8Qf8+PkFhsT5BEUdAQdljOkEh+UBBZEQzQVPRQ0FIqTdB5sM7QTiMP0EwTzpB2iQxQTJSMkFQvjlBFL46QTXUOUFo/TpB8dk6Qe+uNEFnnzNB0cM6QalIOkHvlDlB",
          "dtype": "f4"
         }
        },
        {
         "hovertemplate": "label=3<br>UMAP1=%{x}<br>UMAP2=%{y}<br>UMAP3=%{z}<extra></extra>",
         "legendgroup": "3",
         "marker": {
          "color": "#ab63fa",
          "symbol": "circle"
         },
         "mode": "markers",
         "name": "3",
         "scene": "scene",
         "showlegend": true,
         "type": "scatter3d",
         "x": {
          "bdata": "IWSyP/cz6T7T19E+pcljPx8FID+ECz4/dhMsPz25wz6Yx70+1AodPzI2rj5Y27s+EmFiPlLvqj6F4MU+wQCyPrFq+T7eSMo+IKzTPsbq3j6SUe8+UsLEPib0Ej/cBNY+hY6sPsXbgD5RHL4/hPikP0J2kz8GC5w/pfOrPwnKaT+zL5w/6iKwPzhxoj+C7Wg/ZyKjP8mmnz/etI8/Z6U9PxB8bT80ito/oWjhP8eL2T/pVuQ/aAvhP98J3T9emeA/g6DcP8Se2T/j384/uhm8PxGM4z+7cSY/lOAcP8DcFD/KRyM/qXUhP7fTLT/Llhs/iZYhP1Cv8L9+MR8/33YXP1HAJD+ffR0/bSagP1f5nj9+YqQ/GOEwPyoOmD9+OZ4/rQGSPzZ6kj/vbJw/mCqcPwuRuz+++sE/lI6oP1YKtz+cIZk/mpmTP3IpjT/OnZA/QsmLPz4/0T7xq8g+vkphP9Venj8i2oQ/okWQP9zlLT9kVsE/X/TJP5DDwz9TS84/1Fy+P/9Byz/9T9c/trvUP5ze2z8a77Y/aHPaP/eXyT8dTc8/HHuGP0KwhT9lV4I/tpRuPzPPKz/VLF8/3++WP0L2hT/PcIk/HSWHP+9Ubj70OoY/9E+BPyEKmT+mi2s/pauFPznfCj5VC4s/TIQbP28JFD/QmQY/ApGzPnnSHz9/XTc/ynqEP2cwsD6zXd4+9fhhP9GNwD903I4/OOs3PxXCiT/UM5M/d/mZP8tXiz8JyBc/8x6dPzNYnj9zIIc/DbHMP8qb0j95abI/ucWJP+wjwT8G1Ks/bSfHP7vKuj9e06U/QTahP2tFkD9L+ZM/ayOYP9P0IT+KsCY/i1wcPxaYTT7RNKg+4iQgPheJGj3b1QQ9/JUWP6wzIz+nGzM/awUpP2NwQj+fnrQ/aJOEPjF4oj9+1B0+lnNXPgkiNj6sTr8/xwFZPi4jjz60XOA+JXWsP/rlpT/0XyE/",
          "dtype": "f4"
         },
         "y": {
          "bdata": "/Ub+PmKEiT1peYI+gwi/Pta8lD7z1qc+maGBPpDB07tCAIq84ieBPvuo5bwBa9S8QqugO4BpJ72sxiq8KRAgvcJoKj5MD7u8YZTVOss7cj6WJ+o8wTgBvWJjJj6UrnM6ANwrvRG3fT42lAY/BibWPrTdOj+xZt0+u4fGPpnTzj7VxyI/7bDrPm623T7NevI+2hHVPq+C0j4rhEU/7erwPgzK1j7UpAw/Fno/P+k+Sz+O4HE/2ewKP4urCT/lugg/HnsMP5TqCD+VoCE/abz0PtryEj+EITFAcF4zQKlZNUBEETJABe4yQIiWDD+nzjNApXUyQImbwEAHOzNA6hQ1QITZMEC7UzNAzi72PsViET/FRdc+ljYjPxS1Cj80FAg/dcQ9P3gizD5kzhE/gCseP55Bvj63h7c+X52pPld5qT53hNs+wz7lPjIjID+LFxY/uIIVP3l1lj678ZU+yuwRPytE0T5grtY+G/EJP4Z8sj6EGm0/kiNPPzIpED8enlA/PhRMP9qQUT9Os4E/JPNOP05dgT+YVmY/qa9fP55HUT+8VVs/Jo1jP7AYbT/fqVw/glFNP48j6j8g/yI/BfxFPzskZD/OTmw/otxlP5t8Xj5NTGk/6bFiP6j5Tj+t+Tc/5CFoPyvRFj7MMkk/so/KPkvW1T5NPjU+nWTNvP6lsj4vneU/waw8P+9bN70oQ448kd4HPwwJND/1Pks/M6/GPvCl9z6tUEA/DOdBP1hPPj8vkb8+a8kqPx0HFT/1NmE/HlfzPviyFD9Wquo+is8fP+oQCz+jSkY/EBUpP6bMSD/RJSs/1MT/PrJjKD8AXlE/nZsPP2KIhz7ulOU+hXfEPqmNmj0lNZY+8E3APUhBuj0wT3tAb7uvPuQMlz6p4cE+1HqoPuSiuj6SlJI+PTp8PllJaD7Oszs+K6uSPsWNeD6KnZc+jTpqPuG/hT6lAJ4+PNq+PpepUj7USvU9",
          "dtype": "f4"
         },
         "z": {
          "bdata": "EQIjQUepJUHZLSBBvG0kQUdNJEGUdSRBpSYlQT58JkELnSZBWa0kQXlsJkHnuyZBibYkQaViJkGwsiZBTb8mQWFQJEGtKidBUgknQZlPIUHA6CZBLWEnQf7WJUHxACdBWwEnQcZVHkHiuyNB44YeQV83IkHh2h5BQakkQUvtH0EvriBBacchQYvvH0GOBiJB3ZwlQU0OJkGn/yFBb/4iQT03IEEbdyNBMfkiQdRpJkG6UydBRxojQc6+IkF04CJBXFcjQaZVI0FKBSRBYwAlQa8HJEFY9hVBFVkVQajcFEFFxxVBXLsVQezcHkFXOhVBU7EVQaOiQkHygBVBXfMUQULpFUGsZBVB9E4dQZq3HEEYhB5BNl4dQcN0HUEBPR5BrskdQcpvIEHm6RxBycMcQXikIkHbKyJB2PcfQQYuI0EHuiRBq4IlQfJhJkGaqCZBx4EmQZz9H0GEXiBB9D0jQU4IJkGnNyVB8xcmQYV7I0EtCiVBb/cmQdVEJEE5OSdBFR0nQXdnJ0GACyRBu+0kQeDkI0ELLSVB3iEkQWKQJ0ErgCVBafsfQYUvIEGVph9ByF8fQaRyGEEvJh9BakgfQSPPHkFu8h5BC6IfQep+HkEWRB9BNqoeQXsXH0FEWx9B1eweQSRkIUEZAh9B5VsiQS4jIEHw9SNBtnAmQZupIkHa2hhBohoiQZWFJkG1PCZBElofQboJJEFMMSBBwYIjQftpHUHvEh5B0q0fQTMFIkGwSyJBxZQhQU67HUFIJx9BKN8iQfiTI0GWvSVBB5IkQT0QJEGkzyNBmeQkQXPvJUFJNiRBwAQiQQR8JUGBASNB6uokQZ62JEG0RB9Bv4wiQacrI0HupyBB1WwiQa6CIEEGT+JAfdkhQc4mJEFi4CFBtH4jQdz9I0FRgCFBfCggQbIrIkFFpyBB1VUfQfC5H0EmzyBBCD0gQQ5DIEGApiFBYuAfQR1FIUHs7CVB",
          "dtype": "f4"
         }
        },
        {
         "hovertemplate": "label=4<br>UMAP1=%{x}<br>UMAP2=%{y}<br>UMAP3=%{z}<extra></extra>",
         "legendgroup": "4",
         "marker": {
          "color": "#FFA15A",
          "symbol": "circle"
         },
         "mode": "markers",
         "name": "4",
         "scene": "scene",
         "showlegend": true,
         "type": "scatter3d",
         "x": {
          "bdata": "uWQOv+lmeL/JCgS/0xxtvxlkML9at2i/Czx4v/SU8b5Mav6+xQtavymWbb/6LGK/EUBpv50oQ77MHei9AvkovrwNnL0Z9fi9+OkJvUt5n70jbtq9+m3KvJIiH76FWEC+bDC8vVyeX7/LUF6/ealBvzVXYL/+rly/9YcOvz1EYb94sDy/gUyfv4hiGr+3lWu/UBVGv2cmbL+8p6692JqhvdbA/L1svYC+UirpvV0COL74N9m+bFTPvZ6sGr6fBce+W8tuvhXK0L4fRBe9t1KDvlV23L7GIhO+2nyZvmofF7/fTsO+UmyJvhsob74DL4K+acwZvslrOr9bqoy+MLGQvvehC74qXsa9nEmjvuhUb76RHRy/jVcKvplP272Kh5C+CX9owBlASr4y5h3AqDZNvhR6Jb/ulCu+MyCTvvxwm764kQa/ZatKvgbrMr631i6/rSyQvhy4C7+g1h++dbgAv+OmmL75U8K+G6pCvxPkpb52nVq/uzO8v/yhY7+3tl+/zJ+XvnLV3r+oJca/Jl5Mv+Qi1L9JexjAGMXYv/g21b8Uaum/d3+rv0896b9F/LS/CJjxv7UXq79/W6K/jJh5v9XLab9EVMK/B1R9v7p2jb+grnC/aDY3v13mw77j2z2/tw0hv+Kmdr+nC1K/4ZhTv05cLb9wJy2/HnPDv59/Lr+tGz6//5IXv3m4Fb8X2hO/76MYv2IWEb9NTCa/UzEov4n7Fb/yLWq/Nngov/W6I79f5iW/ddYov0UDgb6p5hW+s9BPvv3X5759PxO+qSU6vqMpKr5w5iy+ZGhbvnbsCL6E7uu+pfYWviQVL76PrVq/bzhlvx+zML+qYVC/ENctv9OmoL2d4LW91J9Fv235Wr9EJWC//vkjv6WNmb2AEFG/j84Fv8LERr+6vVC/j4UZwCl8zr9RGMO+fSTbvqzsH79RBSy/XQIavyXTxL5oIDG/VO8kvw==",
          "dtype": "f4"
         },
         "y": {
          "bdata": "89AIwHX/EMAqcgLA2YMPwHdqD8B2DRDASq12QBKIAcDGSgPAh0YRwOl1D8B2kw7AC0kPwFNx8b/cY/K/KnHxvz+R+L/Rsfq/Qev7v4Ul87+49PG/I3D8v/Xc8L/BS/S/+kDvv8w1E8CXBxTAfW8VwBZlFcCL8BTA7ZYfwCOHE8DTTyPARQsPwMv8McDChRHA77AZwHBaDsAoVP2/mIwawCXk9793ifi/9+wNwHcJ9r/Frfy/HcURwO+V9b+cA/y/Gbb8vxq5/b8l8P6/MtYkwHktIsBKFynAuosiwFGWHMDZSSPAor8kwGX7JMAXwyTApH8swOPCH8DVqiTAq5kkwIOW8r/bcvW/0GH5v0z3+L+uAQbAGLPzvyrJ87/iYiTA3200wGajLsBpeBXADFopwAYRH8BsoCrAgSofwHeXNMA6XiXA59ghwPsSJcBYhyXAx8M0wJ/kNMDkwCbAFYAfwE7fM8AAjDXAUDQfwH3hNsA0VRfAYVMLwAv8E8DEiRXAjJk0wOF0BsDuygnAZTUewO/TB8BB4g/AHw0HwLVXB8DK4QbAJQQNwDIxB8AtkAzAh8JwvypJDcCSpg7AsAQQwAj/EMCmVwrAypcOwDNWEcDmcxDAvMUiwGeIHsAK8iDAnrwtwKMtEMAUexHAjVkRwJ+BJsBFpSrAdzAKwFqJFsAbxRXAA5M3wB0wN8B5HzfAde01wBykNcC+PzDAvm8wwEl/NsCgIBHAgvMkwOwCIsAQGB3AkFsuwFIwJcD0KCjAo0wlwLvCF8DrgynAh64iwAuXJsAp3yXAUCwkwITBJsCVHSHAyUYnwLRoGcDZOhTA8GESwKb2GsB6+BjAj7gawBFaXkCVh11AqEcbwJ/vFMAMuRPAni0cwCXDXEC1/BfAiFcKwFs2IMDPdhXAB4oLwEJ2CMCutzTA3h8ywEB+L8BR0QjAos0NwIV4NcAiMyXAlesgwA==",
          "dtype": "f4"
         },
         "z": {
          "bdata": "JAepvj0Mgj5VuqO+1FaTPsQkab1hqMo+CZWiQDD8nr6jcKa+TDLQPiq1yz5ljQY/WRKSPmqsoL5h29C+xt7Dvjnc5L7HDOe+IoEBv9Ws174IeNa+XHcBv5jm2r7xrNq+Wf/Dvjmv/D5/DP4+9mYXPxMgUT7gtAQ/S+/8PlbxAj+sdrg9gdF8P6nSib43fnM+6AoCP1j3gD7ifem+s3r0vewR2b67hMS+U8OHvgAg6b414r6+DSd+vhYI075HTrW+enTOvryft75/pPu+7n7RPtESFT/xc6U8FUa4Pk0P2D665Qw/f+/fPvYSsj7txdE+nWRrPAFowz7wDeg+/AzuPrHhzL4ZCNS+drLEvqOpoL65IyA+piXXvqdB0b4US+Q+X9SQQKicY7xQHzZAXoaKO2TjOT8Z0oW91zcevpUCmL4dUWS+I9usPEiow71SU4u+ZJKNvi9Brr4Aljy9p9dPvqi7k77yILi+WzBzvjmBrr5+eyu+ETqjP7y0+L3OdQu+n06Kvq+/2j8rIa8/RURMvmNRyD8k2S5AuWjQPwjayj+sZ+w/hPKIP/h66z8uBJo/9CxeQFutij8PooA/4S/yPpPHND5h060/pGLVPoBiTz/cKNU+AH+Cvjv4qT69G4a+Pv+hvoQyez5gYXU9mbvgPZQIvLxHSmq+IwOtP+Hk5b3Bl9s+lxm8vo+cu77Lprm+n0q0vmE5xb4zy2u+wFFdvjHlur4xOVk+lNKPvtC1fb4lpmC+Cn9HvsCg2D4w5V89SbiDPnnfML1R6ak9N1PkPR/1Dj06F1k+gjJUPpdbtD14/Q0/IobuPUP88L0pwwk/uYT/PjYEFz9brv0+Af8hP9ur2UBKYdlAo7rwPnUJAj+TZfs+pF0dP7LX2UAoRgA/oVjDvnEptT2W+Wo9LG4yQMd8vT8zare+pBavvkGNjb7eoQa+FN2qvhSQur7GwaG+SyZ5vg==",
          "dtype": "f4"
         }
        },
        {
         "hovertemplate": "label=5<br>UMAP1=%{x}<br>UMAP2=%{y}<br>UMAP3=%{z}<extra></extra>",
         "legendgroup": "5",
         "marker": {
          "color": "#19d3f3",
          "symbol": "circle"
         },
         "mode": "markers",
         "name": "5",
         "scene": "scene",
         "showlegend": true,
         "type": "scatter3d",
         "x": {
          "bdata": "iqRhQJrcwUBFW7BAVrOmQFlDwUBja7tAasK0QA9np0CXj6dA3VmoQAbJrUDRhsBAuu2pQOMqw0AOjMFAenfBQEHJwEDdksVAt4PAQHGtwkAzUsJADFjEQJMSwEDlV7lAWU3CQGd+wkAs5aVAI6a1QKf8pUAFtadA39KhQAO0mkAN4ahAZ7o0P70gqEDx1aZAvt6lQK1GokDAaMRAYVywQKhIskBzV7JAle6tQAvSr0BsF69A1aCyQH1Jq0AnqbFAmaCzQGQEtEAWKbFAxkCyQEQtqkD9Zp9AMnKhQHj3pkC8zqBA8HyjQDzDokDtm6VAN6qjQP0ynkBAtKVAQ7SqQCp/oEAEBK5AqhyvQHAnr0D+1a5AHyKvQMImr0BSDbBANVOsQNKFrUD9sqRAg4GyQDVWrUCuCMFA8LW6QOFzwUAsW8JAcke2QJ4MsEDEirlAipeyQJ3wtkCkm7tAbqW0QD4gwUAC7rVAuzTCQDtCpUCyK51AylOBQGV9mkCN6KJAekaYQI/rl0APuqFAyVCdQClNpEDYuplA5laYQAYjoUCv7a1AMEitQMUUq0DRR6xAn/SoQPktrUCjXqdAM32sQKIzsUAkKKhAlVOrQM22qkBTGqxAcaOkQH9MpEBeJsVArIilQMdQtkAKb8BA6zirQLKLr0AataVAgi7FQEZ2vECYR8JAbwbFQN68oUA82aJApW2pQO9qpUASAqlAHxSnQM2Op0BZfahAI12GQE64qEBsfqlAJr2nQCjqpkDkmKJAGZmgQAoJm0CxTp9AVIWhQL2yoEBZrZ5AApOgQAFeokCnG55AK0GRQG9mn0Be+aVAzlGtQBN3q0BXnqpAYl2oQJ7+xkCPdqxATSjEQIl4rEAooqdAgr6oQLl/t0Cg9atAJaOpQOM/qkChUKtAeearQCotqEDBW6pAUwmnQKYyrEAZfqpAxi2sQOrvp0AF4qlA+a6sQIsHqEA=",
          "dtype": "f4"
         },
         "y": {
          "bdata": "a4e5Pxh7nEDGkphA5nB6QNham0B46JdA0kaWQOILekA5EItAk8iKQCBPkUAQ45xAoxSNQOjxnkA3k5xAQo6hQN7/m0CgZ55ArcqdQCADnUBthZ5AJ0ugQFIMnUAcZ5tAMFCeQN2EnkCxXWhAUWCSQBB6b0Bm621AOjtwQEZ4U0CWWGxA3j3tP7pybUBbvGVAm2F9QDnxbECOqJ9AJ919QPjKg0CH94JAQJh2QOaJgUAiHnRA52uBQKk8cECsNYJAyQuIQMSCh0CPKJZA7YyCQGina0AIM1pAo4ReQGhAckC2slRAU+VaQLKIYED86GZAJbVbQCWIVkDihmhATQRtQBsjYUBwZ39Aqx+XQCb4mUCv8YFAYg2aQKv/mUBlUphA52aEQJIeg0DsYnlARKGWQLKGm0BMQ6JAu+2VQDmYn0D7BKBAw7SQQGUDmkB8PpRAYmiXQHTNk0DCeZhAaWiLQPV/nkDYKI9A0k6fQL6DZ0A1IlNAtM8GQFQfTkAS1WBAs3tHQG5ZRkCsXFxAsA9UQH6dckDrrEpAGaVGQMR0YUAIDJZAGxONQBZbb0AunI9Al8GXQHxMk0AF8H5AoruBQER3l0COwIpAQPSBQO0TmUAQ44RAmWR9QNvmeEAYbZ9AojN7QMrei0BmiJpA9PKBQE4jmkBVoIBAejGfQFltnUAsxqBAfR6eQM3SYkC4pmpAJsmCQPzseEAYUYhAbId7QCEqgUB+YIFA/bw+Qf+RjEBQaYxA28J8QF7teEBHI2BAe/9cQCJeU0DbCVtAbOZiQL0MXkAje1dA1GpeQA9kbUDTslVABJEyQAP1XkAhYHZA4O2bQOBRnUCD2plAiXOcQG5onUCVxZxAhgehQGH1m0AZ5otALLSaQFX1lEA9tJtAx06bQHObaUAbyXBAVj1xQGqGf0A6VXJA5cR4QL83cUBI7mtAFJxvQGznZUChO29AmMF2QN+hZkA=",
          "dtype": "f4"
         },
         "z": {
          "bdata": "caYeQYceA0E6LAdBNHYIQd0qA0EVpQRB9lMGQWS3CEEmhgtBoe4KQa8ACUEqfwNBsesJQR7jAkGZMwNBWOkDQU5dA0Hy+QFBZpwDQbSMAkEpMQNBW6MCQXXsA0FyWQVB0z8DQbsJA0F7mQxBxsAEQYKCCkEIYQtBTpwQQXkyE0G+BgxBSmIYQTWfC0Fs1w9BRUwJQWQaEEHKUQJBl00IQTZXB0GmiQdBSfMIQeffB0GCMwlBD7sHQfGUDEHM1gdBl4wFQVqwBUFy6wZBhfEHQcITDkEvWA5BsTMNQY/9CUEtNhFBWJYPQSMcDUFBOAxBzgQQQckHD0HyQgxBjxUOQTg/DEHcZA5Bgt0HQbeIB0ECIg9B0YUHQRsdB0EP3gZBUvgOQe3RDkE6ORBB6REGQSZVB0HEGQRBmwMEQTzQAkHULQNBgBEFQeucBkHB/QNBMA8GQc4uBUFviQRBAWQFQSeHA0F33gRBhvkCQQL0C0HJBBFBGukfQZTPEkHiig1BsnsTQVWoE0E9cA5BJPgQQUiuCEEkcxJBm58TQd5vDEE7yAdBk0cHQQ2lDUGSZwpBeJ4IQde0CUGqxAlBrhwPQTDXB0F0zApBF78PQV0oCEGuCw9BPkYQQSLqD0EiMAJB0iYLQcvdBEEoSQNB9yEQQcIiB0HFyw1B9BICQYPbBEGCdgNB7RECQVlLEEHBSApBpVcOQfGgCUGmaAxBOacIQdXwC0GcaA9BriX1P7qpCkFCEApB4PAQQdt/CEE4/QxBsEAQQbf8EkHh/Q9BKA4MQTbBD0ElJw9BdN0PQb67DUFCgw9B4zAXQZT9DUF4owlBL3MHQU3FB0EFtQdBRPoGQYVOAUFVsQdBwQcDQZ6bB0HRFgtBoN8HQT0UBUHjagdBSr4HQelkEEFbWRBBLgsRQRy6DUHkBg1BKKoIQUtWEEFFMw9BGxsRQWtYEEHmnxBBvaURQaYoEEE=",
          "dtype": "f4"
         }
        },
        {
         "hovertemplate": "label=6<br>UMAP1=%{x}<br>UMAP2=%{y}<br>UMAP3=%{z}<extra></extra>",
         "legendgroup": "6",
         "marker": {
          "color": "#FF6692",
          "symbol": "circle"
         },
         "mode": "markers",
         "name": "6",
         "scene": "scene",
         "showlegend": true,
         "type": "scatter3d",
         "x": {
          "bdata": "/wmZQCW7nkBCoZVASFaeQI0SkkCUB5ZAUNidQDx2eUACQZtAk0ibQLe8lkD9KJZA4P6aQBM9eUATAJpA9TOVQPzndkAmKoBAEU2ZQN2sgUAvbHZAd6t4QCjlnUD7yYhARNh6QGhGd0Bk/YVA/kB2QPtYkEAKFnNA72uEQIVhh0B0UJxAhbidQDSpdEAraZJAN/9/QOfBh0DGqoxAgHiMQNqHk0DHMpBAAGuFQA4Ak0BOo4xAgiKUQL39kUDLepVAMzGVQHuqkkC43PG+81qOQEMxhUBDsoZAauGLQHAcjEDgyIlAFMyLQMzXhEAYEIpATr6KQI0hjEC40I5AiTSLQO8+i0CVb4RAZxmEQKZwdUAWbn1AL1dyQBM0jUDPWHNAJ5WDQGqSnUCKOnhA1oidQEHqnUCl94BAxTB8QPEFlEB0NnhA05OYQNUqkkBmL3ZA++uBQGp7eUDniZJAsHiEQPSOnUAfK3NAT3RzQBM8ckAJW3FAmW+AQGeFcUBwB4NAOvR3QDvbc0AUK3JATf+bQAOMhEDaYHZA+u17QP8qdUAMHXdApZmEQJSHn0BqGpNAcXOVQDFvm0DwPKBAedadQKbMnUA7OZxAI+uVQPI6g0AqEnJAISeNQFxSnEBhtaBArRShQIxZmkBUrpRAKbiTQFpGl0DX85pAoX+dQIySkUBhV6NAsfKjQHCFn0ApqqNATyakQJk+lkBEBJVA2D6XQHlrlkDoZJxAubejQFElnkD9tppAJsOiQCKhd0Ar/HVAgzxyQNNkhEAPenhARch5QOnXb0CGC3pAedx3QKmLfED4kIRAXDuCQDWTkkANuZ9Ah5aeQIv8nEA/DppABHGeQBeFnUCTh51ANNqdQA+hnkAEap5Afw2dQE+4nUAP75hAYvKCQN8FfkCc8YFAyO9+QKw7f0Ct85JAyYJ8QJetdkCCMZFABFOYQLr9j0A1cZpAlch7QA==",
          "dtype": "f4"
         },
         "y": {
          "bdata": "NJg/QWbGOkGNEz9Bqro+QVrlPkEnMT1BWNw1QQvmNkFn9D5B7ks/QcHrP0EjsT9BGFlAQV6HOEGM+D1B2lI+QZJFN0G+DzlBrGU/QYnwOEFb5DlB6Bw3QRBZPUEPnj9BlgE4QWjhN0Et9jhB9UQ3QcGUOkFnfzdBPsU2QSpJN0EptzVBJF08QVZPNkGhKjtBOZ03QZVrN0ES8EFBIMxCQX5IQUGmWEJBvX89QcOsQUHXpUFBQ0JBQSy2P0GG9UBB2v9BQVmEQUH2iYVAsZI/QdMEPkEpBj5BKes/QbEiQEGOqT9BlhJAQRTkPUHXnj9BZZtAQSrWP0FnqT9B+TBAQe7FNUG1DDZBM3A2QYziOEGzlzZBDhk2QUhUNkH4sDVBNYE2QaYlNUGjPTZBQRo4QVshOUGYPDxBNQs7QclvQUFS5DlBzyJAQadlQUEkijlB3Wg8QbemOkEUrUBBlpo8QY4iQEHSPzdBgN02QQaINkEORjZBsCQ6Qe17NkFbtDtBUzg4QSCfNkEYmDZBC804QZeQOkHRBTdBjiY4QaMmNkH4BDlBSW05Qa80PEE5Wj9BhBc1QS0zOUH61DNB+XY0QYEGNEGifDVBP1E/QfmcN0F37DZBsZk/QXKaN0Fl3TNB1g00QSg+OEFP0j5B59o+QT1+OkHacDlBvdY1QT8XP0EpijJBjWYyQdy+NkGtezJB3jAyQdrLQEHM80BBsjRAQVolQEFToTxBJ2wyQS7bPEF0Lz5BaiczQQcaOUHGsThBJXI3QVOkPUGwwzhBApQ3QXP+NUFmIjlBOpI5QX+qOUGJqzpBdx87QZmSOkHOzT1Bnho/QSqIQEGYNT9BbFA+QbYgPkFFL0BBL8o9QSPyPUEhKj9BJCg3QUOEQEGPb0BBZDg6QXy1O0FovjpBcpQ5QQx5PEFDHT5Bhh85QfAMN0FUWj5B0+0+QS0aP0EX8j9BzJA6QQ==",
          "dtype": "f4"
         },
         "z": {
          "bdata": "dmwAQIWgyj8UrgRAAyHVP3ZgBEDACeQ/inPSP9lE7D9s7/g/k7vyPzvGCEBNlAlApB/5P7H83T//kr0/1O7nP5wR6T++F/U/iHPtP6mc9z/KneA/VSDuP32J3j8MyL4/zVXDP8jkyT8Wico/5ubmPxTl1D/lK8Q/YOPVP9ma2j++6sI/KSDYP5Y+yT8WiM4/ATHTP2cy2z8LiLk/Jqm1P6ieuj+BpbM/XO7YP8qWtz/0rbc/Pd60P8ND+z98PLY/5kWwP3WMvj+msM9AIjIBQDss7z89lfg/LYYHQKRZCUBhJwZAo5gGQE2o7T8O7ARATEsNQOlIBECE8ANAezQJQFjo0T9ZJs8/NybUPwnI4T8Rm+o/TP7OP8pdyT/ENdM/g93KPxznzz9tMs0/TIvQP/VS0T/buag/rrumP2l7tj/gGrM/kanWP5bCxD8Vi7U/+JumP6dR1j94JbA/JGO/P12v1j8M8dg/oN/YP42+3T9lWtI/WP/eP17W2j+Cdts/QkLVP2i02D+X7tg/g7zKPxdO2D93Bs4/+bTDP7bSzT+YFLo/M6nWP2ydzj+0D/U/WyLTP4FdwT9HccM/lCPTPwhkzT+fr78/lbMGQE1lzD9xPss/RAkHQEbEyD/RDMM/gBi+P5+xvz8xveM/WcPuPyUivz8TPb8/LB2/PzP24T9uhLo/K+W5P1f3xD9oqLo/QIi5P/qstz/Rgrg/pui1PzJTvz/WiLs/fGC6Pwjsuz9xXbI/RcS5P6UwvT+Edrs/O+/CP8wT4z/2srk/1GHCP0Qo1T8Je9U/cvOyP4P7uz96dMY/E87DP8nXzT9ZK7s/9aW+PyCO7D9rgcA//LC8P0nHxj860eM/NpW6P4CDtj9hicw/OmC8P5VC5D9IqgBADjb8P3t+vD/1yfk/6+ruP8jPzj8UugdAiRjrPxJ06T8yfgVArBP8P1pOB0BgV/U/pA7YPw==",
          "dtype": "f4"
         }
        },
        {
         "hovertemplate": "label=7<br>UMAP1=%{x}<br>UMAP2=%{y}<br>UMAP3=%{z}<extra></extra>",
         "legendgroup": "7",
         "marker": {
          "color": "#B6E880",
          "symbol": "circle"
         },
         "mode": "markers",
         "name": "7",
         "scene": "scene",
         "showlegend": true,
         "type": "scatter3d",
         "x": {
          "bdata": "nc9jwAuEWMBPJEfAX79YwJXwbsC1R0rAd4dWwBQcasDvc0fA3r1XwAR9V8AXsWHAC85VwGbuYsBrymXAnXFwwHYpS8DiND/AkxJmwMm/b8CP+HjAFWpuwAitTcDjU3LANUNswB0jJsC+W2vAwFwiwLava8BnXDzAesxGwGCyHcBaMlPAMAJVwBVqa8C7Fm3AMddXwKfQRsCKgiXAVQUgwDtCHsDBxyDAZxQowE02IcAmQRzAFD8cwF+lMMDhRPS/u40dwN78IsC0ai7AP2R4wCUWb8CUuUbAqB9XwFOIacAPdHXAiG5BwC8ob8C4ymvAkmNlwAX5acBUuXXAsfxnwOhJasA0BEPAAewYwOUEA8D8bhLAV0tIwPVURcATsUbA0xYXwJT6RMBOZUTAd9xCwA8ga8Cus1HAW3hqwBl5ZsDrb3DAdVFRwNvFb8A+8GPA8HFkwC+dT8Ak+mzATgFkwN6PYMDBJHXAoso9wASjSsDywTzAnd5BwAPgOMBhu0LA4QA+wHw+SMCIeD3AmB4pwDXCQcAd+EPA9iNHwPG3QsCDKknA8MU/wIqyWcCF3ELAfQ85wDuUcMCDAD3AX91GwLyjMMCY5WnApSAxwKsvdcCTQlHAalpGwCUOd8DGC3TA2D9swFd+dcCrRnfAuLB2wOZSbMCe+XfAo3lKwG63UMDz5H3A3cZUwNOIXsC64U/Ag8BowOm4XsCZM3PAh952wBEabsDqn1XAUTBuwFkFSsD2rGrA7f06wFfVOMAXozrAut9IwHFlTMBV1SvArQ88wArlTsD72U/AR9dJwASXOsAorDrAzDg8wEVCfsDz6nrAl65rwGQ7e8CVkXrATPR1wHaCdsBxDnHA3md+wKXqacCC+3HATy7IQLMcbcAjhU/AeVduwO5/P8CrxkbA36dqwPppZMA/F2/AOdFrwLNrXsCsY3bATBRUwEELccA=",
          "dtype": "f4"
         },
         "y": {
          "bdata": "I5QrwEKpRcC4lRjA8Dk7wI++McACbxzAyp9DwLsRNcDuIh/AidhHwEaNQcBInUXAgWk4wN7PTcDoTVHAxIRWwIveHMAtyS3AKKlPwKIfU8BFi0TALMNVwGErHcB3e0/AQdhVwBBUGcB6nkPAAFcWwAGiR8Ct3SrAWzUWwLBBFsBM6ETALD1GwBi6UMB+nFfAYRNIwDGPKMAFaxDAhUwSwMbyEsC+LhDAgQ4bwBaoEMDghBPAV00QwALcIMAfaHi/rj0VwD3XE8BRgB7AWnZDwDZ1McCwFRfA/6o+wOqkMMAyqzzAZ/YVwHLAOsDNojHAi0BKwEzXN8B44UXABA8vwGieMcAiPBbAcy4QwHZz/L+CAN2/10EXwFApFcD2mRXAI00PwC5DFMC7qxPAGNURwDPpNcAhrz/AR6JFwKIRS8BKxlDAHS4+wFJmVsBl9k7Aq/NQwJT7JcDuBlTAA9VPwCZhTsDRHEXA6YIwwDfcPsCbJy/A8Vk3wN7nKcDqszjAerwxwHx/OcD6pTLAa4gcwNaENcC+CzfAbFw5wOJ7NsCusTnATDs0wDB7SMCU8TbAReEwwKAePMCDzTPATAg7wFgHJMBMGEzAXEUkwKn0OcCrUy7ADooWwM++PcD+6TXADDg3wGnDOcD7wT3A4QtDwC/DQcAzIj7Aa30awA3KIcAjCkbAdZI9wGngO8BHRj3AJI06wCSOQcDvTDnAlYg7wF2lU8DvU0HACENQwFGcG8AXkTXAAeoqwBguJ8ARvSrAypg5wPu4PcADQxrAqGIqwLllO8CmYT7AViU7wCBbKsBnDinA9fYrwPhIR8CA20XAkENFwK4wScDXXEjAmAVOwDmeSMCQZlXAkwhEwFo7RMCGJlHAT2mcQE4WMMB3mzDAAsMvwBH7McAtXRbAMcFOwMTQU8B4/VXAFHJVwNl0QMAyXEDA63gswP7rUsA=",
          "dtype": "f4"
         },
         "z": {
          "bdata": "s7GQQNHXgkC2wIRAdPiFQO9TlkAhyIVAd56CQI/akUAZzoJAz8eBQOKfg0A6UolAdViEQPZciUDqk4pA7XWQQMJihUAv02pAGZSLQIY+kUDe3plAB5+QQBsNiEBg85JA9MOPQFvOQUCBOpBAWn08QAxPkECSZGhAe66FQDufNUACun1A8BiAQPuzjkC1BI5AvsyBQIYYfUDvRkFAPfg5QCmtNkBPXjtA5+NFQBJZPECF0jNAArs0QFJ1U0CWzl1AeN41QAeJP0CTl1BAi8aZQCnBlUBZv4RAhQmEQMaPkkDQEZpAg4GAQDzulEAK4pNAS5SLQBhYkUC/oJdAnB2SQGO7kkCjlIFAyGUvQDrmE0CU/DtAGiKGQIaYhEAKYYVAAwotQO36hEC6FoVAoNKEQH1GkkB1X39Aw2OPQNqFjEDdyJFAnEF/QORAkUC8Q4pAMFuKQN58hUDtoI9AHOKJQHBPiECRZJdA3fpkQJBQckBY9WNAB5xnQJm3YEB1H2hAbwdiQL4NcUBq3mJAMg1GQER5aEDsN2tAPstuQNBJaUCpjHFABdtkQGMZg0Cp52dAK6RaQBollkBjiV9A/I9tQJ0/UUDwPY9Al1RRQF48mkB2B4RA3VSEQGUdm0BBjZlAse2SQPJmmkCL/5pA9C2ZQOoBkUDKXptAumGGQE0hiEA8i51AVYaCQJqaiUBeLn1AUeWPQHPQiECMGplAM/maQGJhkEBg/YFAfoqQQGuAhUAZK5JAXO1mQHpIZECZjGRAxb9yQGGKdkBRnE5AkNZnQNRNfEAxXHxAKm5zQJINZUCqjmdA0ApnQMlYnUBjs5pA0reQQG5cm0AK2ppA0AaXQDKol0A8WJJA5+KeQMAqj0DSf5JAiKUAQe3wlEDS0IJAszaVQGg8ZkArRoVANhWOQOnIiECY3I9AGeGNQNCjh0CSd5hATs6GQHmtkUA=",
          "dtype": "f4"
         }
        },
        {
         "hovertemplate": "label=8<br>UMAP1=%{x}<br>UMAP2=%{y}<br>UMAP3=%{z}<extra></extra>",
         "legendgroup": "8",
         "marker": {
          "color": "#FF97FF",
          "symbol": "circle"
         },
         "mode": "markers",
         "name": "8",
         "scene": "scene",
         "showlegend": true,
         "type": "scatter3d",
         "x": {
          "bdata": "iM2LvnaDPb161Ty+yCa6vRzXFb02udq+97LKvgkgo7191/C+EYJMviqD2r4EqPy9YrQhvhZI1b2V6MG+wuHjvig1pb3y/3m+WVGavpG1A77TDiq/ML7Xvisd3L5Mt9C+Gcghv6bG074PSzG+1xadvoshqr56B/S96RiKvstRPL4ALSK+IRA4vjuWWb5vlR49JjSTvi1lq74iGJO+bdAIvjb+wr4q23q+/FAxvmq6mr7nVlu+xbwsvpIxEb7FZDm+v12tvtt3Zb4YE1i+hntqv7aEWr+aDVW/mrNkv1h/Wb+qyWe/VWFiv5y6Wb9fEl6/hpFzv35lYr8wc2K/17Vsv8wBVr6SVW2+GvpdvnDTnr50pI2+qdqYvgrVKb4si82+yCTovgnxNr7v0uu+Q0N1vg2ExL7tXZi+c0G1vwhR9r7640y+mpiZvuocwr7c++e+m7WWvt0Vyr5Xz8e+R+LjP0Yxxr6W/pu+JrMIvpbu4L3H3Q29lvXLvUYSbb5Z2by9fy4+vkLngL4VLeO8Irw1vl8qCb6UIp++oatGPZcTXD1jm188ZLSZvrVkcz1ZDTo9/KD3OquW5L1V3BC9qufWvC/7qz3imoE95aYzP7VEGL6iv/G9FsvkvUK9pbzIMWG+7lW6vTrUcrwxqCc/EtOsvWQk7ztNbS29MBkevWv72L65nSw/BAohvm1AmL7VL96+oaO/vg4+377E+Me8L9YKvV6y0L70WL++KCKNvegOWL76c4K+elQdvoTcp74yx5++627HvuEXmL6jbbi+rOO+vh4Fxb7dasK+6dLWvm4sxb5VK22/nrYVviPiIr93si2/47G2vlLBIL/c2ya/COURv0y2Gb8a1EO882w8PYe157zjRFO+YK2ZPHb/EL5DhLC94OCqvr3B17x6Wmm+vei7vpcy775nEiu6",
          "dtype": "f4"
         },
         "y": {
          "bdata": "A8h0QHaMf0DPyn5AtdZ4QKqtfECG7IJAPk5vQAgHekADRH5A3CWEQPUJhUDBSoBAbAmNQJAGeUBM1GxA7XeHQEjMekCNYYdAGxB+QKfPg0D+KYlAZPyFQAQig0B9H4RAeS2IQPrEe0AV0UxA7klkQKlyZECtsWlAFypYQBBWSECecFFAe5RsQMCxW0DqQFRAnpZSQB+iZUAc6UBAfrRvQEx5MkA1OFRAJtRSQNneOkBP109AtDtZQJzhSUA6N19Ai9ZnQILcTEB1j01ArruNQE1mjEAKpYtA/Q6NQMRNjEDpCI5A2VqNQFBrjEBSp4tA5ZaOQHhkjUBZWo1A486NQKyQW0DulV9ATnxdQHcXXkBjTllAYMFhQGgRTED/JWpAHg1/QGQ6TEBNwm9AFBtfQHxkZ0BTNldAa5tpQIeQekBhqUhAei46QAB5MkBXXn9AAyVXQLKrMkDffjJAIDwMP+KBNEDnO1hA/3BWQIByVUB7MFtAsVNXQNDTT0Cio1JA6RFOQLVhP0AjzFlA2XxHQBi8VUCgimRAihNvQHUXbkBlTGdA4Il6QGCTckD/v2pArlJsQNpYZEBswl1Aay14QICNckBCBnBAMdbtP06Rc0CZSnlAU29mQGN1ekC18WBANIVmQPlCeUAoie8/Nkt5QBbQekDob3xAPdd7QMrybUCS/O0/vol6QBxBgUA3LIFAGLVsQFCwdECAzX5AaOp/QNAlfEBqwmxA/0l6QFI0RUB8yUFA4ElJQB3UPEA1o0BAydowQB5aOkDTIjVAJ6AzQFy0MkAgIzRAymouQOGJNED9EX5A+tyAQFOLh0CUX4lAtChuQAJ0iEDWZ4hAl1WIQLKriECuA35Al3FzQKSJf0DuQmZAY9NpQPreY0AMdXxAz3iCQNxSe0Bn3oRAM/mHQKwxhED0nnhA",
          "dtype": "f4"
         },
         "z": {
          "bdata": "y+PvQOZD30BoHuZAtSDdQE4Q50Cs3+NA0kPfQEA520C27eBAqlndQHTV30B1vNVA7xy3QBQX60BolO9AKaHiQLOb60BJMtNAEaHtQEUg2ECnYe1AxSTeQJZd5kBcf+dAJ3rsQI165UDSy/9AYmPiQPYl5EBYtvJASpX2QOMEAUFfaf1Ak1PrQAyV9kCfvgBBj374QB8840AqYPxA49PnQIY//0Aqk/dAmU/2QG4GAEEH+fZAHcP7QOhBAUFJI/JAX9vuQH5M+0AwqvlAq6DuQFwQ9UDYJPZAK+/uQMBf9kAtQ/dAiuz1QLg19UC8SO1Aat/uQCcl9kCp9fVAFnrvQH0X+kD/Fu9AY9T5QGuW7kD8FvNAdH/nQFq/AEE1FOdADvreQE1E/0BNg91AxgP6QJZS5EBpRgRBPgOXQOlC3UA6CAJBeokAQQ5y/0C3dORA7xkEQUKz/kDzBP9AHCEiQV7Q/kDkGQRBQPH7QPk1/UA+M/xA5uD8QEHT+kDWof9Aarr9QCBVAUEAj/1AH30BQcCk/EAkp+NAnX3hQD1t80Dbn/ZAn/nrQB0E4ECMB/VAITbzQEt94ECQFfhAcs7qQGn670CnC/JAVVEYQSWs2kDBMNxAUXbgQDgP4EAVudtAF8HfQOkN30AvCxhB7kXbQHM940DGg99AjxrfQHh44UD7NxhB9A3fQEiA4kAMXuFAyEXgQGby5UD+Et9AOVvjQJJz3EBM+t5AdFnfQHfMAEGUFwFBPfIBQbFv/UBIM/1ACb7+QI0wAEGhNf9AKg3/QPIT/0ABG/9AQ1T+QLm9/kB2TKhAl7TOQI0X4kBGxutAvMzfQKvY6UCxvOZArTnlQCs45kCrhuhALmrlQAXt6EDSHfZAV4fhQAW130Bl6utA2bTaQCPz7EAwfNlAfdrUQBH74UAGR/BA",
          "dtype": "f4"
         }
        },
        {
         "hovertemplate": "label=9<br>UMAP1=%{x}<br>UMAP2=%{y}<br>UMAP3=%{z}<extra></extra>",
         "legendgroup": "9",
         "marker": {
          "color": "#FECB52",
          "symbol": "circle"
         },
         "mode": "markers",
         "name": "9",
         "scene": "scene",
         "showlegend": true,
         "type": "scatter3d",
         "x": {
          "bdata": "KEZjQIuOeEA3WnRAfdF2QBzneUAGC2VAbgvLvTd4Y0BV21NA7LtxQD0HdUCJW1NAZ7g4QClea0BiTmBAGQdkQFQ1ZkAllWxAq4VxQLVnYUBkwFdA5xFXQDT0Y0BpqGVAZdVcQO9087+PbPO/qgxUQN4RdUBi71BA1o1mQEPo9r8UjPW/idryv8vh87+LlQPAIQoEwFNe87+zqjhAQddyQD/ackAvk2xA15NrQHzYZUDM9WBAJOlmQFWrZEDu+WhA8g9mQA2nP0CQxGFAXMtVQIzUS0DdPl5AEJM6vsqaOUC2llVAriNKQFjdWUB03FZAWQ5XQAmwaECBSExAcypzQE6gAMCHDATAi9QDwP/LA8AHWAPA2ngDwPEQBMBp7gLA32oDwKIfBcCkpwfAZlUBwBScBcDL/nNAnadHQPV1dUAZaTVAvAQmPwE2QkCjB3JAm9pdQATZOEAYqXNA7/o+QNscQ0C02j1A8DZ7QAFHbEBQZXRAhN5XQLlmbEC+IXJAOWh6QM3dd0Bg+3JAZQ9uQFcDZUArIGtAjJxqQOvnvj9TOn5AT1+CQGp1UEBv0X1A28xQQGc2fkDTEMC99V9+QAGYWUCYlFtAq89/QOlBWEAMFWpA3/2jQNNvZkDUK2BAzFVTQEONXkAdAmJAoQJUQKKkW0DU3FdAwBpXQL68VEDG9VBAwadqQFfWYUD6Ol9AISVVQNsmYEBP01ZA6AtxQEUvXkBbnmVAFBxVQOkyV0AGhUlAF31WQOIBUUBViGdAe5ZiQHQ9UECsSmhAeCxwQPX1Z0D0RVFAvpFpQJVjYkCLnU1AMH1MQKk5A8DhGwXAWuQbwEWeBcCWfPe/UW+oQFXKAsCHGXZAtSrxv1GDa0Bf7jQ/BJapQKgw8r/8VmpAyr5dQK0wc0BHtldA4xhTQIWIU0CghmNAKWVjQBX8XkAFD1xABbhTQLgLUUAtH15A",
          "dtype": "f4"
         },
         "y": {
          "bdata": "/qW9Pz744z/PIdc/Y5HeP9SZ9T/y8vs/gwddQKctvj8l7OQ/fdLIP+da1T/stNE/UmXiPyz4xj9fvcA/Lhm9P8x/vj+VlcQ/jW/OPxLQuT9FRcc/fQbGPwhEvT+VHcw/QhfDP11mbr8WxG6/lE/uP3mK0T9sft0/gTwEQF0Tgr/BWG2/y2Btv9GPdL8/Rr2/jLnAv7B4c7+DaOU/R3HJPwBPxz/gLc0/ej3bP1lw9D/kgvM/ZTXSP9tt1j9pvdI/nrDbP5Vt8D///dc/HLYJQEynA0AWNwtAz3ZsQLVD4T+hYwxAYJD5PzTvBkCvzApAB7kLQCG38D8dafo/dNXGP06Y4b+Fh7+/TlDCv7GTwL/umL2/1QC/v0tDwL9cebi/3Gu8v5tMxr8SR9e/HOXTv9hOw78w3do/0KbOPybzwz+VAN8/qF4yQCUw6z+5pcc/7BHLP0Wm3z+xpss/TxzrP2rz8z8Lw+U/XOH6P2jBAkABhgJARRv+Py+G/T9OJ/c/dIn2P3Cj/D9T6/Y/Pf0CQOYZ+j8EeAZAtGQBQCv+6z5ikwVAKN4MQPOP0D+ApANAl77ZP+F7BkAxtWJAgSECQCRg2D8zLcA/4iEDQM850j/TYuE/oE8yQe4P0j//MP4/2Y7wP9KEA0D6gL8/vBXZPyIGBUAUx+I/JoTVP4Co7T8gz9g/HrP/P+fT+D9bxv8/iK3wP2IN1T/XuQlAXN7QP0po4T95bNw/ILkBQPEc/T+i3/g/uUH7P4LB7j8bVP0/RFX9PzIF8D+4jwFAv4D6PxbLAkD8y/A/95ICQMII8T8lye8/LBL0P3egvb8DQ8G/Tj8SwAE0xb8mTYW/GS6cQOLxuL85vNc/jL58v8ldxz/lVNI+tf6bQDAnf78Ifvs/UZfiP7Oi4D8HBdY/JJ7jP0AY7T+q3+Y/lLLNP+7+1z9Eyuc/MG/KP7s12T85Z8M/",
          "dtype": "f4"
         },
         "z": {
          "bdata": "cXwgQSxmHkHJdB5BI5weQY7IHUFUzCNBXxDZQHl8HkFN8iFBcX4fQVNlIEGGKiNBGowiQT0VIEHtfR9B7dIeQTqxHkFAWSFBKtQfQXyqH0E/ZiRBH5ElQaXyHkE7mCZBcCQmQX4BYEClsl9AAkshQac6IUG31iRBIdEnQcdvW0AbumBAiFFgQD/AXkBEdy1ASQwsQNfGXkD2RSJBA1UiQVNDIkHLwSVBqFUpQaaqKEHvAylBC98oQc1BKEFJfShBGc8oQXvYIkHcOyhBzgYpQTiEJkHJCylBWkfrQH8hI0HkRSlBAhIkQeAnKUHgJClBZxspQSJzJUHt4iNBCNAiQRhKGEB7ECxAJKAqQDJqK0DzeSxAYPYrQC3eK0BiNC1AMqksQMNGK0BXdyhAGRwfQF7ZKkAdaiFBikwkQX1CIkHMRiJB0tcVQVkcI0G5xCFB4agmQQWmIkFOyCFBlrwiQWE5I0HQfiJBOq0hQbiSJ0HUICVBIzYjQZgDJEHxdyJB39chQchtIkHzayJBtrgnQUO2IkFNpidBlaYnQfLGIEGRQR5BaVwcQZpmJEEJTR5By7QkQWUuHkEmo99AWwYeQfUhIUEs2SBBYHsdQQGlIUH2EChB44m6Py3nJ0EwuihBjMskQTJGKUGCtB9B09wlQRcPKUHnYCVBvzMmQfxRIUFQ3CRBDxEoQe9JKEFLpShBc7IjQVu0I0GLiSlBVxkhQZtuJUGGKiNBSx8mQSKnJUHMeyNBsO4jQeZYIUGCySNB61gkQR0JIUEKLyNBaYMiQfAHJEGsiSJB+ZQjQU16KEHvTiFB+rIhQdVoLEBVKC9AkiIzQNBaLkDjQFdAJgkHQVl7MEB7+x9B5XdcQJJKH0EVFSNBMlkHQXFdXEDZAShBhOYmQVVGIEF4GCJBYgohQUdcIkE3oChB7O4iQe7EJ0FwdyhBIaAgQUiuIkGjsSZB",
          "dtype": "f4"
         }
        }
       ],
       "layout": {
        "legend": {
         "title": {
          "text": "label"
         },
         "tracegroupgap": 0
        },
        "scene": {
         "domain": {
          "x": [
           0,
           1
          ],
          "y": [
           0,
           1
          ]
         },
         "xaxis": {
          "title": {
           "text": "UMAP1"
          }
         },
         "yaxis": {
          "title": {
           "text": "UMAP2"
          }
         },
         "zaxis": {
          "title": {
           "text": "UMAP3"
          }
         }
        },
        "template": {
         "data": {
          "bar": [
           {
            "error_x": {
             "color": "#2a3f5f"
            },
            "error_y": {
             "color": "#2a3f5f"
            },
            "marker": {
             "line": {
              "color": "#E5ECF6",
              "width": 0.5
             },
             "pattern": {
              "fillmode": "overlay",
              "size": 10,
              "solidity": 0.2
             }
            },
            "type": "bar"
           }
          ],
          "barpolar": [
           {
            "marker": {
             "line": {
              "color": "#E5ECF6",
              "width": 0.5
             },
             "pattern": {
              "fillmode": "overlay",
              "size": 10,
              "solidity": 0.2
             }
            },
            "type": "barpolar"
           }
          ],
          "carpet": [
           {
            "aaxis": {
             "endlinecolor": "#2a3f5f",
             "gridcolor": "white",
             "linecolor": "white",
             "minorgridcolor": "white",
             "startlinecolor": "#2a3f5f"
            },
            "baxis": {
             "endlinecolor": "#2a3f5f",
             "gridcolor": "white",
             "linecolor": "white",
             "minorgridcolor": "white",
             "startlinecolor": "#2a3f5f"
            },
            "type": "carpet"
           }
          ],
          "choropleth": [
           {
            "colorbar": {
             "outlinewidth": 0,
             "ticks": ""
            },
            "type": "choropleth"
           }
          ],
          "contour": [
           {
            "colorbar": {
             "outlinewidth": 0,
             "ticks": ""
            },
            "colorscale": [
             [
              0,
              "#0d0887"
             ],
             [
              0.1111111111111111,
              "#46039f"
             ],
             [
              0.2222222222222222,
              "#7201a8"
             ],
             [
              0.3333333333333333,
              "#9c179e"
             ],
             [
              0.4444444444444444,
              "#bd3786"
             ],
             [
              0.5555555555555556,
              "#d8576b"
             ],
             [
              0.6666666666666666,
              "#ed7953"
             ],
             [
              0.7777777777777778,
              "#fb9f3a"
             ],
             [
              0.8888888888888888,
              "#fdca26"
             ],
             [
              1,
              "#f0f921"
             ]
            ],
            "type": "contour"
           }
          ],
          "contourcarpet": [
           {
            "colorbar": {
             "outlinewidth": 0,
             "ticks": ""
            },
            "type": "contourcarpet"
           }
          ],
          "heatmap": [
           {
            "colorbar": {
             "outlinewidth": 0,
             "ticks": ""
            },
            "colorscale": [
             [
              0,
              "#0d0887"
             ],
             [
              0.1111111111111111,
              "#46039f"
             ],
             [
              0.2222222222222222,
              "#7201a8"
             ],
             [
              0.3333333333333333,
              "#9c179e"
             ],
             [
              0.4444444444444444,
              "#bd3786"
             ],
             [
              0.5555555555555556,
              "#d8576b"
             ],
             [
              0.6666666666666666,
              "#ed7953"
             ],
             [
              0.7777777777777778,
              "#fb9f3a"
             ],
             [
              0.8888888888888888,
              "#fdca26"
             ],
             [
              1,
              "#f0f921"
             ]
            ],
            "type": "heatmap"
           }
          ],
          "histogram": [
           {
            "marker": {
             "pattern": {
              "fillmode": "overlay",
              "size": 10,
              "solidity": 0.2
             }
            },
            "type": "histogram"
           }
          ],
          "histogram2d": [
           {
            "colorbar": {
             "outlinewidth": 0,
             "ticks": ""
            },
            "colorscale": [
             [
              0,
              "#0d0887"
             ],
             [
              0.1111111111111111,
              "#46039f"
             ],
             [
              0.2222222222222222,
              "#7201a8"
             ],
             [
              0.3333333333333333,
              "#9c179e"
             ],
             [
              0.4444444444444444,
              "#bd3786"
             ],
             [
              0.5555555555555556,
              "#d8576b"
             ],
             [
              0.6666666666666666,
              "#ed7953"
             ],
             [
              0.7777777777777778,
              "#fb9f3a"
             ],
             [
              0.8888888888888888,
              "#fdca26"
             ],
             [
              1,
              "#f0f921"
             ]
            ],
            "type": "histogram2d"
           }
          ],
          "histogram2dcontour": [
           {
            "colorbar": {
             "outlinewidth": 0,
             "ticks": ""
            },
            "colorscale": [
             [
              0,
              "#0d0887"
             ],
             [
              0.1111111111111111,
              "#46039f"
             ],
             [
              0.2222222222222222,
              "#7201a8"
             ],
             [
              0.3333333333333333,
              "#9c179e"
             ],
             [
              0.4444444444444444,
              "#bd3786"
             ],
             [
              0.5555555555555556,
              "#d8576b"
             ],
             [
              0.6666666666666666,
              "#ed7953"
             ],
             [
              0.7777777777777778,
              "#fb9f3a"
             ],
             [
              0.8888888888888888,
              "#fdca26"
             ],
             [
              1,
              "#f0f921"
             ]
            ],
            "type": "histogram2dcontour"
           }
          ],
          "mesh3d": [
           {
            "colorbar": {
             "outlinewidth": 0,
             "ticks": ""
            },
            "type": "mesh3d"
           }
          ],
          "parcoords": [
           {
            "line": {
             "colorbar": {
              "outlinewidth": 0,
              "ticks": ""
             }
            },
            "type": "parcoords"
           }
          ],
          "pie": [
           {
            "automargin": true,
            "type": "pie"
           }
          ],
          "scatter": [
           {
            "fillpattern": {
             "fillmode": "overlay",
             "size": 10,
             "solidity": 0.2
            },
            "type": "scatter"
           }
          ],
          "scatter3d": [
           {
            "line": {
             "colorbar": {
              "outlinewidth": 0,
              "ticks": ""
             }
            },
            "marker": {
             "colorbar": {
              "outlinewidth": 0,
              "ticks": ""
             }
            },
            "type": "scatter3d"
           }
          ],
          "scattercarpet": [
           {
            "marker": {
             "colorbar": {
              "outlinewidth": 0,
              "ticks": ""
             }
            },
            "type": "scattercarpet"
           }
          ],
          "scattergeo": [
           {
            "marker": {
             "colorbar": {
              "outlinewidth": 0,
              "ticks": ""
             }
            },
            "type": "scattergeo"
           }
          ],
          "scattergl": [
           {
            "marker": {
             "colorbar": {
              "outlinewidth": 0,
              "ticks": ""
             }
            },
            "type": "scattergl"
           }
          ],
          "scattermap": [
           {
            "marker": {
             "colorbar": {
              "outlinewidth": 0,
              "ticks": ""
             }
            },
            "type": "scattermap"
           }
          ],
          "scattermapbox": [
           {
            "marker": {
             "colorbar": {
              "outlinewidth": 0,
              "ticks": ""
             }
            },
            "type": "scattermapbox"
           }
          ],
          "scatterpolar": [
           {
            "marker": {
             "colorbar": {
              "outlinewidth": 0,
              "ticks": ""
             }
            },
            "type": "scatterpolar"
           }
          ],
          "scatterpolargl": [
           {
            "marker": {
             "colorbar": {
              "outlinewidth": 0,
              "ticks": ""
             }
            },
            "type": "scatterpolargl"
           }
          ],
          "scatterternary": [
           {
            "marker": {
             "colorbar": {
              "outlinewidth": 0,
              "ticks": ""
             }
            },
            "type": "scatterternary"
           }
          ],
          "surface": [
           {
            "colorbar": {
             "outlinewidth": 0,
             "ticks": ""
            },
            "colorscale": [
             [
              0,
              "#0d0887"
             ],
             [
              0.1111111111111111,
              "#46039f"
             ],
             [
              0.2222222222222222,
              "#7201a8"
             ],
             [
              0.3333333333333333,
              "#9c179e"
             ],
             [
              0.4444444444444444,
              "#bd3786"
             ],
             [
              0.5555555555555556,
              "#d8576b"
             ],
             [
              0.6666666666666666,
              "#ed7953"
             ],
             [
              0.7777777777777778,
              "#fb9f3a"
             ],
             [
              0.8888888888888888,
              "#fdca26"
             ],
             [
              1,
              "#f0f921"
             ]
            ],
            "type": "surface"
           }
          ],
          "table": [
           {
            "cells": {
             "fill": {
              "color": "#EBF0F8"
             },
             "line": {
              "color": "white"
             }
            },
            "header": {
             "fill": {
              "color": "#C8D4E3"
             },
             "line": {
              "color": "white"
             }
            },
            "type": "table"
           }
          ]
         },
         "layout": {
          "annotationdefaults": {
           "arrowcolor": "#2a3f5f",
           "arrowhead": 0,
           "arrowwidth": 1
          },
          "autotypenumbers": "strict",
          "coloraxis": {
           "colorbar": {
            "outlinewidth": 0,
            "ticks": ""
           }
          },
          "colorscale": {
           "diverging": [
            [
             0,
             "#8e0152"
            ],
            [
             0.1,
             "#c51b7d"
            ],
            [
             0.2,
             "#de77ae"
            ],
            [
             0.3,
             "#f1b6da"
            ],
            [
             0.4,
             "#fde0ef"
            ],
            [
             0.5,
             "#f7f7f7"
            ],
            [
             0.6,
             "#e6f5d0"
            ],
            [
             0.7,
             "#b8e186"
            ],
            [
             0.8,
             "#7fbc41"
            ],
            [
             0.9,
             "#4d9221"
            ],
            [
             1,
             "#276419"
            ]
           ],
           "sequential": [
            [
             0,
             "#0d0887"
            ],
            [
             0.1111111111111111,
             "#46039f"
            ],
            [
             0.2222222222222222,
             "#7201a8"
            ],
            [
             0.3333333333333333,
             "#9c179e"
            ],
            [
             0.4444444444444444,
             "#bd3786"
            ],
            [
             0.5555555555555556,
             "#d8576b"
            ],
            [
             0.6666666666666666,
             "#ed7953"
            ],
            [
             0.7777777777777778,
             "#fb9f3a"
            ],
            [
             0.8888888888888888,
             "#fdca26"
            ],
            [
             1,
             "#f0f921"
            ]
           ],
           "sequentialminus": [
            [
             0,
             "#0d0887"
            ],
            [
             0.1111111111111111,
             "#46039f"
            ],
            [
             0.2222222222222222,
             "#7201a8"
            ],
            [
             0.3333333333333333,
             "#9c179e"
            ],
            [
             0.4444444444444444,
             "#bd3786"
            ],
            [
             0.5555555555555556,
             "#d8576b"
            ],
            [
             0.6666666666666666,
             "#ed7953"
            ],
            [
             0.7777777777777778,
             "#fb9f3a"
            ],
            [
             0.8888888888888888,
             "#fdca26"
            ],
            [
             1,
             "#f0f921"
            ]
           ]
          },
          "colorway": [
           "#636efa",
           "#EF553B",
           "#00cc96",
           "#ab63fa",
           "#FFA15A",
           "#19d3f3",
           "#FF6692",
           "#B6E880",
           "#FF97FF",
           "#FECB52"
          ],
          "font": {
           "color": "#2a3f5f"
          },
          "geo": {
           "bgcolor": "white",
           "lakecolor": "white",
           "landcolor": "#E5ECF6",
           "showlakes": true,
           "showland": true,
           "subunitcolor": "white"
          },
          "hoverlabel": {
           "align": "left"
          },
          "hovermode": "closest",
          "mapbox": {
           "style": "light"
          },
          "paper_bgcolor": "white",
          "plot_bgcolor": "#E5ECF6",
          "polar": {
           "angularaxis": {
            "gridcolor": "white",
            "linecolor": "white",
            "ticks": ""
           },
           "bgcolor": "#E5ECF6",
           "radialaxis": {
            "gridcolor": "white",
            "linecolor": "white",
            "ticks": ""
           }
          },
          "scene": {
           "xaxis": {
            "backgroundcolor": "#E5ECF6",
            "gridcolor": "white",
            "gridwidth": 2,
            "linecolor": "white",
            "showbackground": true,
            "ticks": "",
            "zerolinecolor": "white"
           },
           "yaxis": {
            "backgroundcolor": "#E5ECF6",
            "gridcolor": "white",
            "gridwidth": 2,
            "linecolor": "white",
            "showbackground": true,
            "ticks": "",
            "zerolinecolor": "white"
           },
           "zaxis": {
            "backgroundcolor": "#E5ECF6",
            "gridcolor": "white",
            "gridwidth": 2,
            "linecolor": "white",
            "showbackground": true,
            "ticks": "",
            "zerolinecolor": "white"
           }
          },
          "shapedefaults": {
           "line": {
            "color": "#2a3f5f"
           }
          },
          "ternary": {
           "aaxis": {
            "gridcolor": "white",
            "linecolor": "white",
            "ticks": ""
           },
           "baxis": {
            "gridcolor": "white",
            "linecolor": "white",
            "ticks": ""
           },
           "bgcolor": "#E5ECF6",
           "caxis": {
            "gridcolor": "white",
            "linecolor": "white",
            "ticks": ""
           }
          },
          "title": {
           "x": 0.05
          },
          "xaxis": {
           "automargin": true,
           "gridcolor": "white",
           "linecolor": "white",
           "ticks": "",
           "title": {
            "standoff": 15
           },
           "zerolinecolor": "white",
           "zerolinewidth": 2
          },
          "yaxis": {
           "automargin": true,
           "gridcolor": "white",
           "linecolor": "white",
           "ticks": "",
           "title": {
            "standoff": 15
           },
           "zerolinecolor": "white",
           "zerolinewidth": 2
          }
         }
        },
        "title": {
         "text": "UMAP 3D - Digits"
        }
       }
      }
     },
     "metadata": {},
     "output_type": "display_data"
    }
   ],
   "source": [
    "# Punto 4: Visualización 3D con PCA, t-SNE y UMAP\n",
    "\n",
    "# PCA 3D\n",
    "pca_3d = PCA(n_components=3)\n",
    "X_pca_3d = pca_3d.fit_transform(X_scaled)\n",
    "df_pca_3d = pd.DataFrame(X_pca_3d, columns=['PC1', 'PC2', 'PC3'])\n",
    "df_pca_3d['label'] = y.astype(str)\n",
    "fig = px.scatter_3d(df_pca_3d, x='PC1', y='PC2', z='PC3', color='label',\n",
    "                    title='PCA 3D - Digits', labels={'color': 'Dígito'})\n",
    "fig.show()\n",
    "\n",
    "# ---------------------------------------------------------------------\n",
    "\n",
    "# t-SNE 3D\n",
    "tsne_3d = TSNE(n_components=3, perplexity=100, random_state=1)\n",
    "X_tsne_3d = tsne_3d.fit_transform(X_scaled)\n",
    "df_tsne_3d = pd.DataFrame(X_tsne_3d, columns=['TSNE1', 'TSNE2', 'TSNE3'])\n",
    "df_tsne_3d['label'] = y.astype(str)\n",
    "fig = px.scatter_3d(df_tsne_3d, x='TSNE1', y='TSNE2', z='TSNE3', color='label',\n",
    "                    title='t-SNE 3D - Digits', labels={'color': 'Dígito'})\n",
    "fig.show()\n",
    "\n",
    "# UMAP 3D\n",
    "reducer_3d = umap.UMAP(n_neighbors=15, min_dist=0.0, n_components=3)\n",
    "X_umap_3d = reducer_3d.fit_transform(X_scaled)\n",
    "df_umap_3d = pd.DataFrame(X_umap_3d, columns=['UMAP1', 'UMAP2', 'UMAP3'])\n",
    "df_umap_3d['label'] = y.astype(str)\n",
    "fig = px.scatter_3d(df_umap_3d, x='UMAP1', y='UMAP2', z='UMAP3', color='label',\n",
    "                    title='UMAP 3D - Digits', labels={'color': 'Dígito'})\n",
    "fig.show()"
   ]
  },
  {
   "cell_type": "markdown",
   "metadata": {},
   "source": [
    "-------------\n",
    "\n",
    "##### 5.  **Impacto en un Clasificador:** Entrena un modelo simple, como `LogisticRegression` de Scikit-learn, sobre los datos originales escalados (`X_scaled`). Luego, entrena el mismo modelo sobre los datos reducidos por PCA (usando suficientes componentes para capturar el 95% de la varianza). Compara el tiempo de entrenamiento y la precisión (accuracy) de ambos modelos. ¿Qué observas?\n",
    "\n",
    "`Respuesta`:\n"
   ]
  },
  {
   "cell_type": "code",
   "execution_count": 21,
   "metadata": {},
   "outputs": [
    {
     "name": "stdout",
     "output_type": "stream",
     "text": [
      "Modelo original: accuracy=0.9722, tiempo entrenamiento=0.0320 s\n",
      "Modelo con PCA: accuracy=0.9611, tiempo entrenamiento=0.0240 s\n"
     ]
    }
   ],
   "source": [
    "import time\n",
    "from sklearn.linear_model import LogisticRegression\n",
    "from sklearn.model_selection import train_test_split\n",
    "from sklearn.metrics import accuracy_score\n",
    "\n",
    "# División de datos\n",
    "X_train, X_test, y_train, y_test = train_test_split(X_scaled, y, test_size=0.2, random_state=42)\n",
    "\n",
    "# ---------------------------------------------------------------------\n",
    "\n",
    "# Modelo con datos originales\n",
    "start = time.time()\n",
    "clf_orig = LogisticRegression(max_iter=1000, random_state=42)\n",
    "clf_orig.fit(X_train, y_train)\n",
    "train_time_orig = time.time() - start\n",
    "acc_orig = accuracy_score(y_test, clf_orig.predict(X_test))\n",
    "\n",
    "# ---------------------------------------------------------------------\n",
    "\n",
    "# Modelo con datos reducidos por PCA\n",
    "X_pca_95 = pca_95.transform(X_scaled)\n",
    "X_train_pca, X_test_pca, y_train_pca, y_test_pca = train_test_split(X_pca_95, y, test_size=0.2, random_state=42)\n",
    "\n",
    "start = time.time()\n",
    "clf_pca = LogisticRegression(max_iter=1000, random_state=42)\n",
    "clf_pca.fit(X_train_pca, y_train_pca)\n",
    "train_time_pca = time.time() - start\n",
    "acc_pca = accuracy_score(y_test_pca, clf_pca.predict(X_test_pca))\n",
    "print(f\"Modelo original: accuracy={acc_orig:.4f}, tiempo entrenamiento={train_time_orig:.4f} s\")\n",
    "print(f\"Modelo con PCA: accuracy={acc_pca:.4f}, tiempo entrenamiento={train_time_pca:.4f} s\")"
   ]
  },
  {
   "cell_type": "markdown",
   "metadata": {},
   "source": [
    "-------------\n",
    "\n",
    "##### 6.  **Interpretando los Componentes Principales:** El objeto `pca_2d` contiene los `components_` (loadings). Cada componente es un vector de 64 elementos. \"Reforma\" (`reshape`) el primer componente principal a una imagen de 8x8 y visualízalo con `plt.imshow`. ¿Qué parece representar este componente? ¿Qué píxeles son los más importantes?"
   ]
  },
  {
   "cell_type": "code",
   "execution_count": 23,
   "metadata": {},
   "outputs": [
    {
     "data": {
      "image/png": "[encoded data removed]",
      "text/plain": [
       "<Figure size 400x400 with 2 Axes>"
      ]
     },
     "metadata": {},
     "output_type": "display_data"
    }
   ],
   "source": [
    "# Punto 6: Visualizar el primer componente principal como imagen 8x8\n",
    "plt.figure(figsize=(4,4))\n",
    "plt.imshow(pca_2d.components_[0].reshape(8,8), cmap='viridis')\n",
    "plt.colorbar()\n",
    "plt.title('Primer comp. principal (PCA) 8x8')\n",
    "plt.axis('off')\n",
    "plt.show()"
   ]
  },
  {
   "cell_type": "markdown",
   "metadata": {},
   "source": [
    "**Interpretación**: Los píxeles más importantes son los que aparecen más brillantes o más oscuros. Tienen mayor valor absoluto en el vector del primer componente."
   ]
  }
 ],
 "metadata": {
  "kernelspec": {
   "display_name": "Python 3",
   "language": "python",
   "name": "python3"
  },
  "language_info": {
   "codemirror_mode": {
    "name": "ipython",
    "version": 3
   },
   "file_extension": ".py",
   "mimetype": "text/x-python",
   "name": "python",
   "nbconvert_exporter": "python",
   "pygments_lexer": "ipython3",
   "version": "3.11.9"
  }
 },
 "nbformat": 4,
 "nbformat_minor": 4
}
