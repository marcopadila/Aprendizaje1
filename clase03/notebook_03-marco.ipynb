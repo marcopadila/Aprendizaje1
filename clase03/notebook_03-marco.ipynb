{
 "cells": [
  {
   "cell_type": "markdown",
   "metadata": {
    "id": "jEX29wNNQQiQ"
   },
   "source": [
    "# Taller Práctico: Regresión Logística (Versión Completa y Corregida)\n",
    "\n",
    "**Curso:** Maestría en Machine Learning\n",
    "\n",
    "**Nota:** Esta versión incorpora las correcciones de preprocesamiento discutidas: la correcta creación de variables dummy (0/1) y la estandarización de features numéricos, presentando el flujo de trabajo metodológicamente correcto y completo."
   ]
  },
  {
   "cell_type": "markdown",
   "metadata": {
    "id": "XtXka06yQQiS"
   },
   "source": [
    "## 1. Importación de Librerías"
   ]
  },
  {
   "cell_type": "code",
   "execution_count": 160,
   "metadata": {
    "id": "teOFJP_hQRTu"
   },
   "outputs": [],
   "source": [
    "#!pip install ISLP"
   ]
  },
  {
   "cell_type": "code",
   "execution_count": 1,
   "metadata": {
    "id": "BzWFrvFzQQiS"
   },
   "outputs": [],
   "source": [
    "# Librerías para manipulación de datos\n",
    "import pandas as pd\n",
    "import numpy as np\n",
    "\n",
    "# Librerías para visualización\n",
    "import plotly.express as px\n",
    "import plotly.graph_objects as go\n",
    "from matplotlib import pyplot as plt\n",
    "\n",
    "# Librerías de Machine Learning (scikit-learn)\n",
    "from sklearn.model_selection import train_test_split\n",
    "from sklearn.preprocessing import StandardScaler\n",
    "from sklearn.linear_model import LogisticRegression\n",
    "from sklearn.metrics import (\n",
    "    confusion_matrix,\n",
    "    ConfusionMatrixDisplay,\n",
    "    classification_report,\n",
    "    roc_curve,\n",
    "    roc_auc_score\n",
    ")\n",
    "\n",
    "# Librería para cargar el dataset\n",
    "from ISLP import load_data"
   ]
  },
  {
   "cell_type": "markdown",
   "metadata": {
    "id": "rx1a4IQ7QQiT"
   },
   "source": [
    "## 2. Carga y Preprocesamiento de Datos"
   ]
  },
  {
   "cell_type": "code",
   "execution_count": 2,
   "metadata": {
    "id": "35soQHJIQQiT"
   },
   "outputs": [
    {
     "name": "stdout",
     "output_type": "stream",
     "text": [
      "Primeras filas de los datos preprocesados:\n"
     ]
    },
    {
     "data": {
      "text/html": [
       "<div>\n",
       "<style scoped>\n",
       "    .dataframe tbody tr th:only-of-type {\n",
       "        vertical-align: middle;\n",
       "    }\n",
       "\n",
       "    .dataframe tbody tr th {\n",
       "        vertical-align: top;\n",
       "    }\n",
       "\n",
       "    .dataframe thead th {\n",
       "        text-align: right;\n",
       "    }\n",
       "</style>\n",
       "<table border=\"1\" class=\"dataframe\">\n",
       "  <thead>\n",
       "    <tr style=\"text-align: right;\">\n",
       "      <th></th>\n",
       "      <th>balance</th>\n",
       "      <th>income</th>\n",
       "      <th>student_Yes</th>\n",
       "    </tr>\n",
       "  </thead>\n",
       "  <tbody>\n",
       "    <tr>\n",
       "      <th>0</th>\n",
       "      <td>729.526495</td>\n",
       "      <td>44361.625074</td>\n",
       "      <td>0</td>\n",
       "    </tr>\n",
       "    <tr>\n",
       "      <th>1</th>\n",
       "      <td>817.180407</td>\n",
       "      <td>12106.134700</td>\n",
       "      <td>1</td>\n",
       "    </tr>\n",
       "    <tr>\n",
       "      <th>2</th>\n",
       "      <td>1073.549164</td>\n",
       "      <td>31767.138947</td>\n",
       "      <td>0</td>\n",
       "    </tr>\n",
       "    <tr>\n",
       "      <th>3</th>\n",
       "      <td>529.250605</td>\n",
       "      <td>35704.493935</td>\n",
       "      <td>0</td>\n",
       "    </tr>\n",
       "    <tr>\n",
       "      <th>4</th>\n",
       "      <td>785.655883</td>\n",
       "      <td>38463.495879</td>\n",
       "      <td>0</td>\n",
       "    </tr>\n",
       "  </tbody>\n",
       "</table>\n",
       "</div>"
      ],
      "text/plain": [
       "       balance        income  student_Yes\n",
       "0   729.526495  44361.625074            0\n",
       "1   817.180407  12106.134700            1\n",
       "2  1073.549164  31767.138947            0\n",
       "3   529.250605  35704.493935            0\n",
       "4   785.655883  38463.495879            0"
      ]
     },
     "metadata": {},
     "output_type": "display_data"
    }
   ],
   "source": [
    "# Carga de datos\n",
    "default_df = load_data('Default')\n",
    "\n",
    "# Conversión de categóricas a numéricas\n",
    "df_processed = pd.get_dummies(default_df, columns=['student'], drop_first=True, dtype=int)\n",
    "df_processed['default'] = df_processed['default'].apply(lambda x: 1 if x == 'Yes' else 0)\n",
    "\n",
    "# Definición de features y target\n",
    "X = df_processed[['balance', 'income', 'student_Yes']]\n",
    "y = df_processed['default']\n",
    "\n",
    "print(\"Primeras filas de los datos preprocesados:\")\n",
    "display(X.head())"
   ]
  },
  {
   "cell_type": "markdown",
   "metadata": {
    "id": "9s0jwOTsQQiU"
   },
   "source": [
    "### División en Conjuntos de Entrenamiento y Prueba\n",
    "\n",
    "Dividimos los datos ANTES de cualquier preprocesamiento que \"aprenda\" de los datos, como la estandarización, para evitar fuga de información."
   ]
  },
  {
   "cell_type": "code",
   "execution_count": 3,
   "metadata": {
    "id": "eGhZA41sQQiU"
   },
   "outputs": [
    {
     "name": "stdout",
     "output_type": "stream",
     "text": [
      "Forma de X_train: (8000, 3)\n",
      "Forma de X_test: (2000, 3)\n"
     ]
    }
   ],
   "source": [
    "X_train, X_test, y_train, y_test = train_test_split(\n",
    "    X, y,\n",
    "    test_size=0.2,\n",
    "    random_state=42,\n",
    "    stratify=y\n",
    ")\n",
    "\n",
    "print(f\"Forma de X_train: {X_train.shape}\")\n",
    "print(f\"Forma de X_test: {X_test.shape}\")\n",
    "\n",
    "    # # Muestra las primeras filas del conjunto de entrenamiento\n",
    "    # print(\"Primeras filas de X_train:\")\n",
    "    # display(X_train.head())\n",
    "\n",
    "    # # Muestra las primeras filas del conjunto de prueba\n",
    "    # print(\"Primeras filas de X_test:\")\n",
    "    # display(X_test.head())"
   ]
  },
  {
   "cell_type": "markdown",
   "metadata": {
    "id": "iMwv7uO-QQiU"
   },
   "source": [
    "### Estandarización de Features Numéricos\n",
    "\n",
    "**Este es un paso crucial.** Estandarizamos las variables `balance` e `income` para que tengan media 0 y desviación estándar 1. Esto asegura que la regularización del modelo se aplique de manera justa.\n",
    "\n",
    "**Importante:** Ajustamos el `StandardScaler` **únicamente** con los datos de entrenamiento (`X_train`) y luego lo usamos para transformar tanto el conjunto de entrenamiento como el de prueba."
   ]
  },
  {
   "cell_type": "code",
   "execution_count": 5,
   "metadata": {
    "id": "F92uEGLTQQiV"
   },
   "outputs": [
    {
     "name": "stdout",
     "output_type": "stream",
     "text": [
      "Primeras filas de los datos de entrenamiento escalados:\n"
     ]
    },
    {
     "data": {
      "text/html": [
       "<div>\n",
       "<style scoped>\n",
       "    .dataframe tbody tr th:only-of-type {\n",
       "        vertical-align: middle;\n",
       "    }\n",
       "\n",
       "    .dataframe tbody tr th {\n",
       "        vertical-align: top;\n",
       "    }\n",
       "\n",
       "    .dataframe thead th {\n",
       "        text-align: right;\n",
       "    }\n",
       "</style>\n",
       "<table border=\"1\" class=\"dataframe\">\n",
       "  <thead>\n",
       "    <tr style=\"text-align: right;\">\n",
       "      <th></th>\n",
       "      <th>balance</th>\n",
       "      <th>income</th>\n",
       "      <th>student_Yes</th>\n",
       "    </tr>\n",
       "  </thead>\n",
       "  <tbody>\n",
       "    <tr>\n",
       "      <th>2720</th>\n",
       "      <td>-0.018061</td>\n",
       "      <td>-0.331140</td>\n",
       "      <td>1</td>\n",
       "    </tr>\n",
       "    <tr>\n",
       "      <th>6168</th>\n",
       "      <td>-1.687480</td>\n",
       "      <td>2.194023</td>\n",
       "      <td>0</td>\n",
       "    </tr>\n",
       "    <tr>\n",
       "      <th>7723</th>\n",
       "      <td>-0.123917</td>\n",
       "      <td>-0.288274</td>\n",
       "      <td>0</td>\n",
       "    </tr>\n",
       "    <tr>\n",
       "      <th>8128</th>\n",
       "      <td>0.155670</td>\n",
       "      <td>0.992420</td>\n",
       "      <td>0</td>\n",
       "    </tr>\n",
       "    <tr>\n",
       "      <th>3565</th>\n",
       "      <td>0.449485</td>\n",
       "      <td>-1.673192</td>\n",
       "      <td>1</td>\n",
       "    </tr>\n",
       "  </tbody>\n",
       "</table>\n",
       "</div>"
      ],
      "text/plain": [
       "       balance    income  student_Yes\n",
       "2720 -0.018061 -0.331140            1\n",
       "6168 -1.687480  2.194023            0\n",
       "7723 -0.123917 -0.288274            0\n",
       "8128  0.155670  0.992420            0\n",
       "3565  0.449485 -1.673192            1"
      ]
     },
     "metadata": {},
     "output_type": "display_data"
    }
   ],
   "source": [
    "# Instanciamos el escalador\n",
    "scaler = StandardScaler()\n",
    "\n",
    "# Columnas a escalar\n",
    "cols_to_scale = ['balance', 'income']\n",
    "\n",
    "# Creamos copias para no modificar los dataframes originales\n",
    "X_train_scaled = X_train.copy()\n",
    "X_test_scaled = X_test.copy()\n",
    "\n",
    "# Ajustamos y transformamos los datos de entrenamiento\n",
    "X_train_scaled[cols_to_scale] = scaler.fit_transform(X_train[cols_to_scale])\n",
    "\n",
    "# Transformamos los datos de prueba con el escalador ya ajustado\n",
    "X_test_scaled[cols_to_scale] = scaler.transform(X_test[cols_to_scale])\n",
    "\n",
    "print(\"Primeras filas de los datos de entrenamiento escalados:\")\n",
    "display(X_train_scaled.head())"
   ]
  },
  {
   "cell_type": "markdown",
   "metadata": {
    "id": "p4vON1LBQQiV"
   },
   "source": [
    "## 3. Entrenamiento del Modelo de Regresión Logística\n",
    "\n",
    "Ahora entrenaremos el modelo usando los datos estandarizados."
   ]
  },
  {
   "cell_type": "code",
   "execution_count": 6,
   "metadata": {
    "id": "LsDmZG1RQQiW"
   },
   "outputs": [
    {
     "name": "stdout",
     "output_type": "stream",
     "text": [
      "¡Modelo entrenado exitosamente con datos escalados!\n"
     ]
    }
   ],
   "source": [
    "# Instanciamos y entrenamos el modelo con los datos escalados\n",
    "log_reg = LogisticRegression(random_state=42)#, solver='liblinear')\n",
    "log_reg.fit(X_train_scaled, y_train)\n",
    "\n",
    "print(\"¡Modelo entrenado exitosamente con datos escalados!\")"
   ]
  },
  {
   "cell_type": "markdown",
   "metadata": {
    "id": "dl5Of2i0QQiW"
   },
   "source": [
    "## 4. Evaluación del Modelo\n",
    "\n",
    "Procedemos a la evaluación completa del modelo sobre el conjunto de prueba escalado."
   ]
  },
  {
   "cell_type": "markdown",
   "metadata": {
    "id": "zfC7MO6ZQQiW"
   },
   "source": [
    "### 4.1. Matriz de Confusión y Métricas Clave"
   ]
  },
  {
   "cell_type": "code",
   "execution_count": 7,
   "metadata": {
    "id": "EPnbLgxFQQiW"
   },
   "outputs": [
    {
     "data": {
      "image/png": "[encoded data removed]",
      "text/plain": [
       "<Figure size 600x400 with 2 Axes>"
      ]
     },
     "metadata": {},
     "output_type": "display_data"
    },
    {
     "name": "stdout",
     "output_type": "stream",
     "text": [
      "\n",
      "Reporte de Clasificación:\n",
      "              precision    recall  f1-score   support\n",
      "\n",
      "  No Default       0.98      1.00      0.99      1933\n",
      "     Default       0.72      0.31      0.44        67\n",
      "\n",
      "    accuracy                           0.97      2000\n",
      "   macro avg       0.85      0.65      0.71      2000\n",
      "weighted avg       0.97      0.97      0.97      2000\n",
      "\n"
     ]
    }
   ],
   "source": [
    "# Realizamos predicciones sobre el conjunto de prueba escalado\n",
    "y_pred = log_reg.predict(X_test_scaled)\n",
    "\n",
    "# Calculamos y visualizamos la matriz de confusión\n",
    "cm = confusion_matrix(y_test, y_pred)\n",
    "disp = ConfusionMatrixDisplay(confusion_matrix=cm, display_labels=['No Default', 'Default'])\n",
    "fig, ax = plt.subplots(figsize=(6, 4))\n",
    "disp.plot(cmap='Blues', ax=ax)\n",
    "ax.set_title('Matriz de Confusión')\n",
    "plt.show()\n",
    "\n",
    "# Imprimimos el reporte de clasificación completo\n",
    "print(\"\\nReporte de Clasificación:\")\n",
    "\n",
    " \n",
    " \n",
    "\n",
    "print(classification_report(y_test, y_pred, target_names=['No Default', 'Default']))"
   ]
  },
  {
   "cell_type": "markdown",
   "metadata": {
    "id": "VcNJ8WokQQiW"
   },
   "source": [
    "### 4.2. El Impacto del Umbral de Decisión"
   ]
  },
  {
   "cell_type": "code",
   "execution_count": 9,
   "metadata": {
    "id": "V2Bc0-MaQQiW"
   },
   "outputs": [
    {
     "name": "stdout",
     "output_type": "stream",
     "text": [
      "Reporte de Clasificación con Umbral = 0.2:\n",
      "              precision    recall  f1-score   support\n",
      "\n",
      "  No Default       0.99      0.97      0.98      1933\n",
      "     Default       0.39      0.63      0.48        67\n",
      "\n",
      "    accuracy                           0.95      2000\n",
      "   macro avg       0.69      0.80      0.73      2000\n",
      "weighted avg       0.97      0.95      0.96      2000\n",
      "\n"
     ]
    },
    {
     "data": {
      "image/png": "[encoded data removed]",
      "text/plain": [
       "<Figure size 600x400 with 2 Axes>"
      ]
     },
     "metadata": {},
     "output_type": "display_data"
    }
   ],
   "source": [
    "# Obtenemos las probabilidades de predicción para la clase positiva (Default)\n",
    "y_pred_proba = log_reg.predict_proba(X_test_scaled)[:, 1]\n",
    "\n",
    "# Aplicamos un nuevo umbral de 0.2 para aumentar el Recall\n",
    "umbral = 0.2\n",
    "y_pred_nuevo_umbral = (y_pred_proba >= umbral).astype(int)\n",
    "\n",
    "print(f\"Reporte de Clasificación con Umbral = {umbral}:\")\n",
    "print(classification_report(y_test, y_pred_nuevo_umbral, target_names=['No Default', 'Default']))\n",
    "\n",
    "# Visualizamos la nueva matriz de confusión\n",
    "cm_nuevo = confusion_matrix(y_test, y_pred_nuevo_umbral)\n",
    "disp_nuevo = ConfusionMatrixDisplay(confusion_matrix=cm_nuevo, display_labels=['No Default', 'Default'])\n",
    "fig, ax = plt.subplots(figsize=(6, 4))\n",
    "disp_nuevo.plot(cmap='Greens', ax=ax)\n",
    "ax.set_title(f'Matriz de Confusión con Umbral = {umbral}')\n",
    "plt.show()"
   ]
  },
  {
   "cell_type": "markdown",
   "metadata": {
    "id": "-PsV6LgfQQiX"
   },
   "source": [
    "### 4.3. Curva ROC y AUC"
   ]
  },
  {
   "cell_type": "code",
   "execution_count": 10,
   "metadata": {
    "id": "-xauP270QQiX"
   },
   "outputs": [
    {
     "data": {
      "application/vnd.plotly.v1+json": {
       "config": {
        "plotlyServerURL": "https://plot.ly"
       },
       "data": [
        {
         "mode": "lines",
         "name": "Curva ROC (AUC = 0.9485)",
         "type": "scatter",
         "x": {
          "bdata": "AAAAAAAAAAAAAAAAAAAAAAAAAAAAAAAAsIbj8q7zQD+whuPyrvNAP7CG4/Ku81A/sIbj8q7zUD+whuPyrvNgP7CG4/Ku82A/XGicr5owZT9caJyvmjBlP7CG4/Ku83A/sIbj8q7zcD8ISlVshm15PwhKVWyGbXk/3rqxSvyLez/eurFK/It7P4b3P9EkEoM/hvc/0SQSgz9caJyvmjCFP1xonK+aMIU/Mtn4jRBPhz8y2fiNEE+HP50RJ31LXog/nREnfUteiD9zgoNbwXyKP3OCg1vBfIo/3rqxSvyLiz/eurFK/IuLP7QrDilyqo0/tCsOKXKqjT8fZDwYrbmOPx9kPBituY4/e2pMexFskD97akx7EWyQP+aiempMe5E/5qJ6akx7kT9R26hZh4qSP1HbqFmHipI/XGicr5owlT9caJyvmjCVPz5m7OMj9Zk/Pmbs4yP1mT+0Kw4pcqqdP7QrDilyqp0/yxSvrn03oT/LFK+ufTehPzZN3Z24RqI/Nk3dnbhGoj9R26hZh4qiP1HbqFmHiqI/a2l0FVbOoj9raXQVVs6iPxdLLdJBC6c/F0st0kELpz+Cg1vBfBqoP4KDW8F8Gqg/CEpVbIZtqT8ISlVshm2pP1j0t5/yOKo/WPS3n/I4qj/DLOaOLUirP8Ms5o4tSKs/tCsOKXKqrT+0Kw4pcqqtP/NpYMgznbE/82lgyDOdsT8ZhR/aFYe0PxmFH9oVh7Q/CoRHdFrptj8KhEd0Wum2P4gxMtn4jcA/iDEy2fiNwD+U2x4z9vHBP5TbHjP28cE/J0wFOP2oxD8nTAU4/ajEP5z0LXlhoMk/nPQteWGgyT9lnqT575zLP2WepPnvnMs/6keloA8yzj/qR6WgDzLOPx9kPBituc4/H2Q8GK25zj+AokkkJmDSP4CiSSQmYNI/VhOmApx+1D9WE6YCnH7UP6a9CDYIStU/pr0INghK1T8AAAAAAADwPw==",
          "dtype": "f8"
         },
         "y": {
          "bdata": "AAAAAAAAAABnt/CrMZGOP2e38KsxkZ4/Z7fwqzGRnj+NifRA5ezGP42J9EDl7MY/BJWzW/jVyD8ElbNb+NXIP3qgcnYLv8o/eqBydgu/yj/l7BZ+NSbSP+XsFn41JtI/XPjVmEgP1D9c+NWYSA/UPxd+NSbSA9U/F341JtID1T+NifRA5ezWP42J9EDl7NY/SQ9Uzm7h1z9JD1TObuHXPwSVs1v41dg/BJWzW/jV2D+/GhPpgcrZP78aE+mBytk/eqBydgu/2j96oHJ2C7/aPzUm0gOVs9s/NSbSA5Wz2z+sMZEeqJzdP6wxkR6onN0/Z7fwqzGR3j9nt/CrMZHePyI9UDm7hd8/Ij1QObuF3z9v4VdjIj3gP2/hV2MiPeA/TKQHKme34D9MpAcqZ7fgPypnt/CrMeE/Kme38Ksx4T8IKme38KvhPwgqZ7fwq+E/5ewWfjUm4j/l7BZ+NSbiP6Bydgu/GuM/oHJ2C78a4z9c+NWYSA/kP1z41ZhID+Q/ObuFX42J5D85u4VfjYnkPxd+NSbSA+U/F341JtID5T/1QOXsFn7lP/VA5ewWfuU/0gOVs1v45T/SA5WzW/jlP42J9EDl7OY/jYn0QOXs5j9rTKQHKmfnP2tMpAcqZ+c/JtIDlbNb6D8m0gOVs1voP+FXYyI9UOk/4VdjIj1Q6T+/GhPpgcrpP78aE+mByuk/nd3Cr8ZE6j+d3cKvxkTqP3qgcnYLv+o/eqBydgu/6j9YYyI9UDnrP1hjIj1QOes/NSbSA5Wz6z81JtIDlbPrPxPpgcrZLew/E+mBytkt7D/xqzGRHqjsP/GrMZEeqOw/zm7hV2Mi7T/ObuFXYyLtP6wxkR6onO0/rDGRHqic7T+K9EDl7BbuP4r0QOXsFu4/Z7fwqzGR7j9nt/CrMZHuP0V6oHJ2C+8/RXqgcnYL7z8iPVA5u4XvPyI9UDm7he8/AAAAAAAA8D8AAAAAAADwPw==",
          "dtype": "f8"
         }
        },
        {
         "line": {
          "dash": "dash"
         },
         "mode": "lines",
         "name": "Clasificador Aleatorio",
         "type": "scatter",
         "x": [
          0,
          1
         ],
         "y": [
          0,
          1
         ]
        }
       ],
       "layout": {
        "template": {
         "data": {
          "bar": [
           {
            "error_x": {
             "color": "#2a3f5f"
            },
            "error_y": {
             "color": "#2a3f5f"
            },
            "marker": {
             "line": {
              "color": "white",
              "width": 0.5
             },
             "pattern": {
              "fillmode": "overlay",
              "size": 10,
              "solidity": 0.2
             }
            },
            "type": "bar"
           }
          ],
          "barpolar": [
           {
            "marker": {
             "line": {
              "color": "white",
              "width": 0.5
             },
             "pattern": {
              "fillmode": "overlay",
              "size": 10,
              "solidity": 0.2
             }
            },
            "type": "barpolar"
           }
          ],
          "carpet": [
           {
            "aaxis": {
             "endlinecolor": "#2a3f5f",
             "gridcolor": "#C8D4E3",
             "linecolor": "#C8D4E3",
             "minorgridcolor": "#C8D4E3",
             "startlinecolor": "#2a3f5f"
            },
            "baxis": {
             "endlinecolor": "#2a3f5f",
             "gridcolor": "#C8D4E3",
             "linecolor": "#C8D4E3",
             "minorgridcolor": "#C8D4E3",
             "startlinecolor": "#2a3f5f"
            },
            "type": "carpet"
           }
          ],
          "choropleth": [
           {
            "colorbar": {
             "outlinewidth": 0,
             "ticks": ""
            },
            "type": "choropleth"
           }
          ],
          "contour": [
           {
            "colorbar": {
             "outlinewidth": 0,
             "ticks": ""
            },
            "colorscale": [
             [
              0,
              "#0d0887"
             ],
             [
              0.1111111111111111,
              "#46039f"
             ],
             [
              0.2222222222222222,
              "#7201a8"
             ],
             [
              0.3333333333333333,
              "#9c179e"
             ],
             [
              0.4444444444444444,
              "#bd3786"
             ],
             [
              0.5555555555555556,
              "#d8576b"
             ],
             [
              0.6666666666666666,
              "#ed7953"
             ],
             [
              0.7777777777777778,
              "#fb9f3a"
             ],
             [
              0.8888888888888888,
              "#fdca26"
             ],
             [
              1,
              "#f0f921"
             ]
            ],
            "type": "contour"
           }
          ],
          "contourcarpet": [
           {
            "colorbar": {
             "outlinewidth": 0,
             "ticks": ""
            },
            "type": "contourcarpet"
           }
          ],
          "heatmap": [
           {
            "colorbar": {
             "outlinewidth": 0,
             "ticks": ""
            },
            "colorscale": [
             [
              0,
              "#0d0887"
             ],
             [
              0.1111111111111111,
              "#46039f"
             ],
             [
              0.2222222222222222,
              "#7201a8"
             ],
             [
              0.3333333333333333,
              "#9c179e"
             ],
             [
              0.4444444444444444,
              "#bd3786"
             ],
             [
              0.5555555555555556,
              "#d8576b"
             ],
             [
              0.6666666666666666,
              "#ed7953"
             ],
             [
              0.7777777777777778,
              "#fb9f3a"
             ],
             [
              0.8888888888888888,
              "#fdca26"
             ],
             [
              1,
              "#f0f921"
             ]
            ],
            "type": "heatmap"
           }
          ],
          "histogram": [
           {
            "marker": {
             "pattern": {
              "fillmode": "overlay",
              "size": 10,
              "solidity": 0.2
             }
            },
            "type": "histogram"
           }
          ],
          "histogram2d": [
           {
            "colorbar": {
             "outlinewidth": 0,
             "ticks": ""
            },
            "colorscale": [
             [
              0,
              "#0d0887"
             ],
             [
              0.1111111111111111,
              "#46039f"
             ],
             [
              0.2222222222222222,
              "#7201a8"
             ],
             [
              0.3333333333333333,
              "#9c179e"
             ],
             [
              0.4444444444444444,
              "#bd3786"
             ],
             [
              0.5555555555555556,
              "#d8576b"
             ],
             [
              0.6666666666666666,
              "#ed7953"
             ],
             [
              0.7777777777777778,
              "#fb9f3a"
             ],
             [
              0.8888888888888888,
              "#fdca26"
             ],
             [
              1,
              "#f0f921"
             ]
            ],
            "type": "histogram2d"
           }
          ],
          "histogram2dcontour": [
           {
            "colorbar": {
             "outlinewidth": 0,
             "ticks": ""
            },
            "colorscale": [
             [
              0,
              "#0d0887"
             ],
             [
              0.1111111111111111,
              "#46039f"
             ],
             [
              0.2222222222222222,
              "#7201a8"
             ],
             [
              0.3333333333333333,
              "#9c179e"
             ],
             [
              0.4444444444444444,
              "#bd3786"
             ],
             [
              0.5555555555555556,
              "#d8576b"
             ],
             [
              0.6666666666666666,
              "#ed7953"
             ],
             [
              0.7777777777777778,
              "#fb9f3a"
             ],
             [
              0.8888888888888888,
              "#fdca26"
             ],
             [
              1,
              "#f0f921"
             ]
            ],
            "type": "histogram2dcontour"
           }
          ],
          "mesh3d": [
           {
            "colorbar": {
             "outlinewidth": 0,
             "ticks": ""
            },
            "type": "mesh3d"
           }
          ],
          "parcoords": [
           {
            "line": {
             "colorbar": {
              "outlinewidth": 0,
              "ticks": ""
             }
            },
            "type": "parcoords"
           }
          ],
          "pie": [
           {
            "automargin": true,
            "type": "pie"
           }
          ],
          "scatter": [
           {
            "fillpattern": {
             "fillmode": "overlay",
             "size": 10,
             "solidity": 0.2
            },
            "type": "scatter"
           }
          ],
          "scatter3d": [
           {
            "line": {
             "colorbar": {
              "outlinewidth": 0,
              "ticks": ""
             }
            },
            "marker": {
             "colorbar": {
              "outlinewidth": 0,
              "ticks": ""
             }
            },
            "type": "scatter3d"
           }
          ],
          "scattercarpet": [
           {
            "marker": {
             "colorbar": {
              "outlinewidth": 0,
              "ticks": ""
             }
            },
            "type": "scattercarpet"
           }
          ],
          "scattergeo": [
           {
            "marker": {
             "colorbar": {
              "outlinewidth": 0,
              "ticks": ""
             }
            },
            "type": "scattergeo"
           }
          ],
          "scattergl": [
           {
            "marker": {
             "colorbar": {
              "outlinewidth": 0,
              "ticks": ""
             }
            },
            "type": "scattergl"
           }
          ],
          "scattermap": [
           {
            "marker": {
             "colorbar": {
              "outlinewidth": 0,
              "ticks": ""
             }
            },
            "type": "scattermap"
           }
          ],
          "scattermapbox": [
           {
            "marker": {
             "colorbar": {
              "outlinewidth": 0,
              "ticks": ""
             }
            },
            "type": "scattermapbox"
           }
          ],
          "scatterpolar": [
           {
            "marker": {
             "colorbar": {
              "outlinewidth": 0,
              "ticks": ""
             }
            },
            "type": "scatterpolar"
           }
          ],
          "scatterpolargl": [
           {
            "marker": {
             "colorbar": {
              "outlinewidth": 0,
              "ticks": ""
             }
            },
            "type": "scatterpolargl"
           }
          ],
          "scatterternary": [
           {
            "marker": {
             "colorbar": {
              "outlinewidth": 0,
              "ticks": ""
             }
            },
            "type": "scatterternary"
           }
          ],
          "surface": [
           {
            "colorbar": {
             "outlinewidth": 0,
             "ticks": ""
            },
            "colorscale": [
             [
              0,
              "#0d0887"
             ],
             [
              0.1111111111111111,
              "#46039f"
             ],
             [
              0.2222222222222222,
              "#7201a8"
             ],
             [
              0.3333333333333333,
              "#9c179e"
             ],
             [
              0.4444444444444444,
              "#bd3786"
             ],
             [
              0.5555555555555556,
              "#d8576b"
             ],
             [
              0.6666666666666666,
              "#ed7953"
             ],
             [
              0.7777777777777778,
              "#fb9f3a"
             ],
             [
              0.8888888888888888,
              "#fdca26"
             ],
             [
              1,
              "#f0f921"
             ]
            ],
            "type": "surface"
           }
          ],
          "table": [
           {
            "cells": {
             "fill": {
              "color": "#EBF0F8"
             },
             "line": {
              "color": "white"
             }
            },
            "header": {
             "fill": {
              "color": "#C8D4E3"
             },
             "line": {
              "color": "white"
             }
            },
            "type": "table"
           }
          ]
         },
         "layout": {
          "annotationdefaults": {
           "arrowcolor": "#2a3f5f",
           "arrowhead": 0,
           "arrowwidth": 1
          },
          "autotypenumbers": "strict",
          "coloraxis": {
           "colorbar": {
            "outlinewidth": 0,
            "ticks": ""
           }
          },
          "colorscale": {
           "diverging": [
            [
             0,
             "#8e0152"
            ],
            [
             0.1,
             "#c51b7d"
            ],
            [
             0.2,
             "#de77ae"
            ],
            [
             0.3,
             "#f1b6da"
            ],
            [
             0.4,
             "#fde0ef"
            ],
            [
             0.5,
             "#f7f7f7"
            ],
            [
             0.6,
             "#e6f5d0"
            ],
            [
             0.7,
             "#b8e186"
            ],
            [
             0.8,
             "#7fbc41"
            ],
            [
             0.9,
             "#4d9221"
            ],
            [
             1,
             "#276419"
            ]
           ],
           "sequential": [
            [
             0,
             "#0d0887"
            ],
            [
             0.1111111111111111,
             "#46039f"
            ],
            [
             0.2222222222222222,
             "#7201a8"
            ],
            [
             0.3333333333333333,
             "#9c179e"
            ],
            [
             0.4444444444444444,
             "#bd3786"
            ],
            [
             0.5555555555555556,
             "#d8576b"
            ],
            [
             0.6666666666666666,
             "#ed7953"
            ],
            [
             0.7777777777777778,
             "#fb9f3a"
            ],
            [
             0.8888888888888888,
             "#fdca26"
            ],
            [
             1,
             "#f0f921"
            ]
           ],
           "sequentialminus": [
            [
             0,
             "#0d0887"
            ],
            [
             0.1111111111111111,
             "#46039f"
            ],
            [
             0.2222222222222222,
             "#7201a8"
            ],
            [
             0.3333333333333333,
             "#9c179e"
            ],
            [
             0.4444444444444444,
             "#bd3786"
            ],
            [
             0.5555555555555556,
             "#d8576b"
            ],
            [
             0.6666666666666666,
             "#ed7953"
            ],
            [
             0.7777777777777778,
             "#fb9f3a"
            ],
            [
             0.8888888888888888,
             "#fdca26"
            ],
            [
             1,
             "#f0f921"
            ]
           ]
          },
          "colorway": [
           "#636efa",
           "#EF553B",
           "#00cc96",
           "#ab63fa",
           "#FFA15A",
           "#19d3f3",
           "#FF6692",
           "#B6E880",
           "#FF97FF",
           "#FECB52"
          ],
          "font": {
           "color": "#2a3f5f"
          },
          "geo": {
           "bgcolor": "white",
           "lakecolor": "white",
           "landcolor": "white",
           "showlakes": true,
           "showland": true,
           "subunitcolor": "#C8D4E3"
          },
          "hoverlabel": {
           "align": "left"
          },
          "hovermode": "closest",
          "mapbox": {
           "style": "light"
          },
          "paper_bgcolor": "white",
          "plot_bgcolor": "white",
          "polar": {
           "angularaxis": {
            "gridcolor": "#EBF0F8",
            "linecolor": "#EBF0F8",
            "ticks": ""
           },
           "bgcolor": "white",
           "radialaxis": {
            "gridcolor": "#EBF0F8",
            "linecolor": "#EBF0F8",
            "ticks": ""
           }
          },
          "scene": {
           "xaxis": {
            "backgroundcolor": "white",
            "gridcolor": "#DFE8F3",
            "gridwidth": 2,
            "linecolor": "#EBF0F8",
            "showbackground": true,
            "ticks": "",
            "zerolinecolor": "#EBF0F8"
           },
           "yaxis": {
            "backgroundcolor": "white",
            "gridcolor": "#DFE8F3",
            "gridwidth": 2,
            "linecolor": "#EBF0F8",
            "showbackground": true,
            "ticks": "",
            "zerolinecolor": "#EBF0F8"
           },
           "zaxis": {
            "backgroundcolor": "white",
            "gridcolor": "#DFE8F3",
            "gridwidth": 2,
            "linecolor": "#EBF0F8",
            "showbackground": true,
            "ticks": "",
            "zerolinecolor": "#EBF0F8"
           }
          },
          "shapedefaults": {
           "line": {
            "color": "#2a3f5f"
           }
          },
          "ternary": {
           "aaxis": {
            "gridcolor": "#DFE8F3",
            "linecolor": "#A2B1C6",
            "ticks": ""
           },
           "baxis": {
            "gridcolor": "#DFE8F3",
            "linecolor": "#A2B1C6",
            "ticks": ""
           },
           "bgcolor": "white",
           "caxis": {
            "gridcolor": "#DFE8F3",
            "linecolor": "#A2B1C6",
            "ticks": ""
           }
          },
          "title": {
           "x": 0.05
          },
          "xaxis": {
           "automargin": true,
           "gridcolor": "#EBF0F8",
           "linecolor": "#EBF0F8",
           "ticks": "",
           "title": {
            "standoff": 15
           },
           "zerolinecolor": "#EBF0F8",
           "zerolinewidth": 2
          },
          "yaxis": {
           "automargin": true,
           "gridcolor": "#EBF0F8",
           "linecolor": "#EBF0F8",
           "ticks": "",
           "title": {
            "standoff": 15
           },
           "zerolinecolor": "#EBF0F8",
           "zerolinewidth": 2
          }
         }
        },
        "title": {
         "text": "Curva ROC para el Modelo de Regresión Logística"
        },
        "xaxis": {
         "title": {
          "text": "Tasa de Falsos Positivos (FPR)"
         }
        },
        "yaxis": {
         "title": {
          "text": "Tasa de Verdaderos Positivos (TPR)"
         }
        }
       }
      }
     },
     "metadata": {},
     "output_type": "display_data"
    }
   ],
   "source": [
    "# Calculamos la tasa de verdaderos positivos (tpr) y la tasa de falsos positivos (fpr)\n",
    "fpr, tpr, umbrales = roc_curve(y_test, y_pred_proba)\n",
    "auc = roc_auc_score(y_test, y_pred_proba)\n",
    "\n",
    "# Creamos el gráfico con Plotly\n",
    "fig = go.Figure()\n",
    "fig.add_trace(go.Scatter(x=fpr, y=tpr, mode='lines', name=f'Curva ROC (AUC = {auc:.4f})'))\n",
    "fig.add_trace(go.Scatter(x=[0, 1], y=[0, 1], mode='lines', name='Clasificador Aleatorio', line=dict(dash='dash')))\n",
    "fig.update_layout(\n",
    "    title='Curva ROC para el Modelo de Regresión Logística',\n",
    "    xaxis_title='Tasa de Falsos Positivos (FPR)',\n",
    "    yaxis_title='Tasa de Verdaderos Positivos (TPR)',\n",
    "    template='plotly_white'\n",
    ")\n",
    "fig.show()"
   ]
  },
  {
   "cell_type": "code",
   "execution_count": 11,
   "metadata": {
    "id": "wWqZ5lm5QQiX"
   },
   "outputs": [
    {
     "data": {
      "text/html": [
       "<div>\n",
       "<style scoped>\n",
       "    .dataframe tbody tr th:only-of-type {\n",
       "        vertical-align: middle;\n",
       "    }\n",
       "\n",
       "    .dataframe tbody tr th {\n",
       "        vertical-align: top;\n",
       "    }\n",
       "\n",
       "    .dataframe thead th {\n",
       "        text-align: right;\n",
       "    }\n",
       "</style>\n",
       "<table border=\"1\" class=\"dataframe\">\n",
       "  <thead>\n",
       "    <tr style=\"text-align: right;\">\n",
       "      <th></th>\n",
       "      <th>Umbral</th>\n",
       "      <th>FPR</th>\n",
       "      <th>TPR</th>\n",
       "    </tr>\n",
       "  </thead>\n",
       "  <tbody>\n",
       "    <tr>\n",
       "      <th>0</th>\n",
       "      <td>inf</td>\n",
       "      <td>0.000000</td>\n",
       "      <td>0.000000</td>\n",
       "    </tr>\n",
       "    <tr>\n",
       "      <th>1</th>\n",
       "      <td>0.904982</td>\n",
       "      <td>0.000000</td>\n",
       "      <td>0.014925</td>\n",
       "    </tr>\n",
       "    <tr>\n",
       "      <th>2</th>\n",
       "      <td>0.876104</td>\n",
       "      <td>0.000000</td>\n",
       "      <td>0.029851</td>\n",
       "    </tr>\n",
       "    <tr>\n",
       "      <th>3</th>\n",
       "      <td>0.861995</td>\n",
       "      <td>0.000517</td>\n",
       "      <td>0.029851</td>\n",
       "    </tr>\n",
       "    <tr>\n",
       "      <th>4</th>\n",
       "      <td>0.723316</td>\n",
       "      <td>0.000517</td>\n",
       "      <td>0.179104</td>\n",
       "    </tr>\n",
       "    <tr>\n",
       "      <th>...</th>\n",
       "      <td>...</td>\n",
       "      <td>...</td>\n",
       "      <td>...</td>\n",
       "    </tr>\n",
       "    <tr>\n",
       "      <th>87</th>\n",
       "      <td>0.007660</td>\n",
       "      <td>0.320228</td>\n",
       "      <td>0.970149</td>\n",
       "    </tr>\n",
       "    <tr>\n",
       "      <th>88</th>\n",
       "      <td>0.007620</td>\n",
       "      <td>0.320228</td>\n",
       "      <td>0.985075</td>\n",
       "    </tr>\n",
       "    <tr>\n",
       "      <th>89</th>\n",
       "      <td>0.007012</td>\n",
       "      <td>0.332644</td>\n",
       "      <td>0.985075</td>\n",
       "    </tr>\n",
       "    <tr>\n",
       "      <th>90</th>\n",
       "      <td>0.007008</td>\n",
       "      <td>0.332644</td>\n",
       "      <td>1.000000</td>\n",
       "    </tr>\n",
       "    <tr>\n",
       "      <th>91</th>\n",
       "      <td>0.000014</td>\n",
       "      <td>1.000000</td>\n",
       "      <td>1.000000</td>\n",
       "    </tr>\n",
       "  </tbody>\n",
       "</table>\n",
       "<p>92 rows × 3 columns</p>\n",
       "</div>"
      ],
      "text/plain": [
       "      Umbral       FPR       TPR\n",
       "0        inf  0.000000  0.000000\n",
       "1   0.904982  0.000000  0.014925\n",
       "2   0.876104  0.000000  0.029851\n",
       "3   0.861995  0.000517  0.029851\n",
       "4   0.723316  0.000517  0.179104\n",
       "..       ...       ...       ...\n",
       "87  0.007660  0.320228  0.970149\n",
       "88  0.007620  0.320228  0.985075\n",
       "89  0.007012  0.332644  0.985075\n",
       "90  0.007008  0.332644  1.000000\n",
       "91  0.000014  1.000000  1.000000\n",
       "\n",
       "[92 rows x 3 columns]"
      ]
     },
     "execution_count": 11,
     "metadata": {},
     "output_type": "execute_result"
    }
   ],
   "source": [
    "pd.DataFrame({\n",
    "    'Umbral': umbrales,\n",
    "    'FPR': fpr,\n",
    "    'TPR': tpr\n",
    "})  # Mostramos las primeras filas de los umbrales y sus correspondientes FPR y TPR"
   ]
  },
  {
   "cell_type": "markdown",
   "metadata": {
    "id": "ey7AUT45QQiX"
   },
   "source": [
    "## 5. Regularización\n",
    "\n",
    "El hiperparámetro `C` en `scikit-learn` es el inverso de la fuerza de regularización $\\lambda$. Un valor de `C` pequeño implica una regularización más fuerte. Ahora que los datos están escalados, la comparación de coeficientes es mucho más justa."
   ]
  },
  {
   "cell_type": "code",
   "execution_count": 170,
   "metadata": {
    "id": "zpZrqn2cQQiX"
   },
   "outputs": [
    {
     "name": "stdout",
     "output_type": "stream",
     "text": [
      "Comparación de Coeficientes con Regularización (Datos Escalados):\n"
     ]
    },
    {
     "data": {
      "text/html": [
       "<div>\n",
       "<style scoped>\n",
       "    .dataframe tbody tr th:only-of-type {\n",
       "        vertical-align: middle;\n",
       "    }\n",
       "\n",
       "    .dataframe tbody tr th {\n",
       "        vertical-align: top;\n",
       "    }\n",
       "\n",
       "    .dataframe thead th {\n",
       "        text-align: right;\n",
       "    }\n",
       "</style>\n",
       "<table border=\"1\" class=\"dataframe\">\n",
       "  <thead>\n",
       "    <tr style=\"text-align: right;\">\n",
       "      <th></th>\n",
       "      <th>Predictor</th>\n",
       "      <th>Coef_L2 (C=1.0)</th>\n",
       "      <th>Coef_L1 (C=1.0)</th>\n",
       "      <th>Coef_L2_fuerte (C=0.1)</th>\n",
       "      <th>Coef_L1_fuerte (C=0.1)</th>\n",
       "    </tr>\n",
       "  </thead>\n",
       "  <tbody>\n",
       "    <tr>\n",
       "      <th>0</th>\n",
       "      <td>balance</td>\n",
       "      <td>2.594626</td>\n",
       "      <td>2.709366</td>\n",
       "      <td>1.921343</td>\n",
       "      <td>2.389894</td>\n",
       "    </tr>\n",
       "    <tr>\n",
       "      <th>1</th>\n",
       "      <td>income</td>\n",
       "      <td>-0.054058</td>\n",
       "      <td>-0.004069</td>\n",
       "      <td>-0.106268</td>\n",
       "      <td>0.002709</td>\n",
       "    </tr>\n",
       "    <tr>\n",
       "      <th>2</th>\n",
       "      <td>student_Yes</td>\n",
       "      <td>-0.658059</td>\n",
       "      <td>-0.561404</td>\n",
       "      <td>-0.670900</td>\n",
       "      <td>-0.323989</td>\n",
       "    </tr>\n",
       "  </tbody>\n",
       "</table>\n",
       "</div>"
      ],
      "text/plain": [
       "     Predictor  Coef_L2 (C=1.0)  Coef_L1 (C=1.0)  Coef_L2_fuerte (C=0.1)  \\\n",
       "0      balance         2.594626         2.709366                1.921343   \n",
       "1       income        -0.054058        -0.004069               -0.106268   \n",
       "2  student_Yes        -0.658059        -0.561404               -0.670900   \n",
       "\n",
       "   Coef_L1_fuerte (C=0.1)  \n",
       "0                2.389894  \n",
       "1                0.002709  \n",
       "2               -0.323989  "
      ]
     },
     "metadata": {},
     "output_type": "display_data"
    }
   ],
   "source": [
    "# Modelo con regularización L2 (Ridge) - C=1.0 (default)\n",
    "log_reg_l2 = LogisticRegression(penalty='l2', C=1.0, solver='liblinear', random_state=42).fit(X_train_scaled, y_train)\n",
    "\n",
    "# Modelo con regularización L1 (Lasso) - C=1.0 (default)\n",
    "log_reg_l1 = LogisticRegression(penalty='l1', C=1.0, solver='liblinear', random_state=42).fit(X_train_scaled, y_train)\n",
    "\n",
    "# Ahora con regularización más fuerte (C=0.1)\n",
    "log_reg_l2_strong = LogisticRegression(penalty='l2', C=0.1, solver='liblinear', random_state=42).fit(X_train_scaled, y_train)\n",
    "log_reg_l1_strong = LogisticRegression(penalty='l1', C=0.1, solver='liblinear', random_state=42).fit(X_train_scaled, y_train)\n",
    "\n",
    "# Creamos un DataFrame para comparar los coeficientes\n",
    "coef_df = pd.DataFrame({\n",
    "    'Predictor': X.columns,\n",
    "    'Coef_L2 (C=1.0)': log_reg_l2.coef_[0],\n",
    "    'Coef_L1 (C=1.0)': log_reg_l1.coef_[0],\n",
    "    'Coef_L2_fuerte (C=0.1)': log_reg_l2_strong.coef_[0],\n",
    "    'Coef_L1_fuerte (C=0.1)': log_reg_l1_strong.coef_[0]\n",
    "})\n",
    "\n",
    "print(\"Comparación de Coeficientes con Regularización (Datos Escalados):\")\n",
    "display(coef_df)"
   ]
  },
  {
   "cell_type": "markdown",
   "metadata": {
    "id": "-os9B39dQQiX"
   },
   "source": [
    "**Análisis:**\n",
    "- Ahora los coeficientes son directamente comparables en magnitud.\n",
    "- Se puede observar claramente cómo al aumentar la fuerza de la regularización (disminuir `C`), los coeficientes se \"encogen\" hacia cero.\n",
    "- La regularización L1 es más agresiva y puede llevar coeficientes a cero, realizando una selección de variables."
   ]
  },
  {
   "cell_type": "markdown",
   "metadata": {
    "id": "wo5kcoNhQQiX"
   },
   "source": [
    "## 6. Preguntas y Desafíos para Experimentar\n",
    "\n",
    "Ahora te toca a ti. Intenta responder a las siguientes preguntas modificando el código anterior para solidificar tu aprendizaje:\n",
    "\n",
    "1.  **Fuerza de Regularización vs. Rendimiento:** Crea un gráfico que muestre cómo cambia el AUC del modelo a medida que varías el hiperparámetro `C` (p. ej. `[0.001, 0.01, 0.1, 1, 10, 100]`). ¿Encuentras un valor óptimo para `C`?\n",
    "2.  **Otros Escaladores:** En lugar de `StandardScaler`, prueba con `MinMaxScaler` de `sklearn.preprocessing`. ¿Cambian los resultados de rendimiento? ¿Y los coeficientes del modelo?\n",
    "3.  **Selección de Predictores:** Entrena el modelo usando solo `balance` y `student_Yes` (ambos escalados). ¿Cuánto cae el rendimiento (AUC) al quitar la variable `income`? ¿Confirma esto que `income` es el predictor menos importante?"
   ]
  },
  {
   "cell_type": "markdown",
   "metadata": {
    "id": "tzQ4eRD6QQiY"
   },
   "source": [
    "## 7. Ejercicios Propuestos\n",
    "\n",
    "1.  Explica con tus propias palabras por qué el accuracy no es una buena métrica para evaluar un modelo en un dataset desbalanceado como `Default`.\n",
    "2.  Si un banco te pide un modelo que minimice la cantidad de clientes en default que no son detectados, ¿en qué métrica te enfocarías (Precisión o Recall)? ¿Y cómo ajustarías el umbral de decisión?\n",
    "3.  Carga un nuevo dataset de clasificación de `scikit-learn` (por ejemplo, `load_breast_cancer`) y realiza un análisis completo: estandarización, entrenamiento, evaluación con matriz de confusión y reporte de clasificación.\n",
    "4.  ¿Qué representa un punto en la esquina superior izquierda de la curva ROC? ¿Y un punto en la línea diagonal?\n",
    "5.  ¿Por qué es fundamental ajustar (`fit`) el `StandardScaler` únicamente con los datos de entrenamiento y no con todo el dataset?\n",
    "6.  Crea un bucle `for` que itere sobre una lista de umbrales (ej. `[0.1, 0.2, 0.3, 0.4, 0.5, 0.6, 0.7, 0.8, 0.9]`). Para cada umbral, calcula y guarda la Precisión y el Recall para la clase 'Default'. Luego, grafica cómo cambian estas dos métricas a medida que varía el umbral (Precision-Recall Curve).\n",
    "7.  Usando los coeficientes del modelo `log_reg` (entrenado con datos escalados), interpreta el coeficiente de la variable `balance`. ¿Qué significa un aumento de una desviación estándar en el `balance` en términos del odds ratio de default?\n",
    "8.  Explica la diferencia fundamental entre la regularización L1 y L2 en términos de su efecto sobre los coeficientes del modelo.\n",
    "9.  Si tuvieras dos modelos, uno con AUC de 0.85 y otro con AUC de 0.75, ¿cuál elegirías y por qué? ¿Bajo qué circunstancias podrías preferir el de 0.75?\n",
    "10. Investiga el parámetro `class_weight` de `LogisticRegression` en `scikit-learn`. ¿Cómo podrías usarlo para manejar el desbalanceo de clases en el dataset `Default`? Pruébalo (con los datos escalados) y compara los resultados (recall, precisión) con la técnica de ajustar el umbral."
   ]
  },
  {
   "cell_type": "markdown",
   "metadata": {
    "id": "gHXsgaHMQQiY"
   },
   "source": [
    "----------\n",
    "\n",
    "### 1.  Explica con tus propias palabras por qué el accuracy no es una buena métrica para evaluar un modelo en un dataset desbalanceado como `Default`.\n",
    "\n",
    "`Respuesta`: El accuracy puede ser engañoso en un dataset desbalanceado porque se basa en el porcentaje total de aciertos (TP + TN), sin importar la distribución de clases. Si la mayoría de los casos son \"No Default\", el modelo será bueno prediciendo esa clase, pero podria fallar en predecir los \"Default\".\n",
    "\n",
    "---------------------------------------"
   ]
  },
  {
   "cell_type": "markdown",
   "metadata": {},
   "source": [
    "----------\n",
    "\n",
    "### 2.  Si un banco te pide un modelo que minimice la cantidad de clientes en default que no son detectados, ¿en qué métrica te enfocarías (Precisión o Recall)? ¿Y cómo ajustarías el umbral de decisión?\n",
    "\n",
    "`Respuesta`: Recall, porque mide la capacidad de encontrar todos los positivos. Se podría intentar minimizar los falsos negativos.\n",
    "\n",
    "---------------------------------------"
   ]
  },
  {
   "cell_type": "markdown",
   "metadata": {},
   "source": [
    "----------\n",
    "\n",
    "### 3.  Carga un nuevo dataset de clasificación de `scikit-learn` (por ejemplo, `load_breast_cancer`) y realiza un análisis completo: estandarización, entrenamiento, evaluación con matriz de confusión y reporte de clasificación.\n",
    "\n",
    "`Respuesta`:\n",
    "\n",
    "#### A) Carga y procesamiento de datos"
   ]
  },
  {
   "cell_type": "code",
   "execution_count": 16,
   "metadata": {},
   "outputs": [
    {
     "name": "stdout",
     "output_type": "stream",
     "text": [
      "Primeras filas de los datos preprocesados:\n"
     ]
    },
    {
     "data": {
      "text/html": [
       "<div>\n",
       "<style scoped>\n",
       "    .dataframe tbody tr th:only-of-type {\n",
       "        vertical-align: middle;\n",
       "    }\n",
       "\n",
       "    .dataframe tbody tr th {\n",
       "        vertical-align: top;\n",
       "    }\n",
       "\n",
       "    .dataframe thead th {\n",
       "        text-align: right;\n",
       "    }\n",
       "</style>\n",
       "<table border=\"1\" class=\"dataframe\">\n",
       "  <thead>\n",
       "    <tr style=\"text-align: right;\">\n",
       "      <th></th>\n",
       "      <th>mean radius</th>\n",
       "      <th>mean texture</th>\n",
       "      <th>mean perimeter</th>\n",
       "      <th>mean area</th>\n",
       "      <th>mean smoothness</th>\n",
       "      <th>mean compactness</th>\n",
       "      <th>mean concavity</th>\n",
       "      <th>mean concave points</th>\n",
       "      <th>mean symmetry</th>\n",
       "      <th>mean fractal dimension</th>\n",
       "      <th>...</th>\n",
       "      <th>worst radius</th>\n",
       "      <th>worst texture</th>\n",
       "      <th>worst perimeter</th>\n",
       "      <th>worst area</th>\n",
       "      <th>worst smoothness</th>\n",
       "      <th>worst compactness</th>\n",
       "      <th>worst concavity</th>\n",
       "      <th>worst concave points</th>\n",
       "      <th>worst symmetry</th>\n",
       "      <th>worst fractal dimension</th>\n",
       "    </tr>\n",
       "  </thead>\n",
       "  <tbody>\n",
       "    <tr>\n",
       "      <th>0</th>\n",
       "      <td>17.99</td>\n",
       "      <td>10.38</td>\n",
       "      <td>122.80</td>\n",
       "      <td>1001.0</td>\n",
       "      <td>0.11840</td>\n",
       "      <td>0.27760</td>\n",
       "      <td>0.3001</td>\n",
       "      <td>0.14710</td>\n",
       "      <td>0.2419</td>\n",
       "      <td>0.07871</td>\n",
       "      <td>...</td>\n",
       "      <td>25.38</td>\n",
       "      <td>17.33</td>\n",
       "      <td>184.60</td>\n",
       "      <td>2019.0</td>\n",
       "      <td>0.1622</td>\n",
       "      <td>0.6656</td>\n",
       "      <td>0.7119</td>\n",
       "      <td>0.2654</td>\n",
       "      <td>0.4601</td>\n",
       "      <td>0.11890</td>\n",
       "    </tr>\n",
       "    <tr>\n",
       "      <th>1</th>\n",
       "      <td>20.57</td>\n",
       "      <td>17.77</td>\n",
       "      <td>132.90</td>\n",
       "      <td>1326.0</td>\n",
       "      <td>0.08474</td>\n",
       "      <td>0.07864</td>\n",
       "      <td>0.0869</td>\n",
       "      <td>0.07017</td>\n",
       "      <td>0.1812</td>\n",
       "      <td>0.05667</td>\n",
       "      <td>...</td>\n",
       "      <td>24.99</td>\n",
       "      <td>23.41</td>\n",
       "      <td>158.80</td>\n",
       "      <td>1956.0</td>\n",
       "      <td>0.1238</td>\n",
       "      <td>0.1866</td>\n",
       "      <td>0.2416</td>\n",
       "      <td>0.1860</td>\n",
       "      <td>0.2750</td>\n",
       "      <td>0.08902</td>\n",
       "    </tr>\n",
       "    <tr>\n",
       "      <th>2</th>\n",
       "      <td>19.69</td>\n",
       "      <td>21.25</td>\n",
       "      <td>130.00</td>\n",
       "      <td>1203.0</td>\n",
       "      <td>0.10960</td>\n",
       "      <td>0.15990</td>\n",
       "      <td>0.1974</td>\n",
       "      <td>0.12790</td>\n",
       "      <td>0.2069</td>\n",
       "      <td>0.05999</td>\n",
       "      <td>...</td>\n",
       "      <td>23.57</td>\n",
       "      <td>25.53</td>\n",
       "      <td>152.50</td>\n",
       "      <td>1709.0</td>\n",
       "      <td>0.1444</td>\n",
       "      <td>0.4245</td>\n",
       "      <td>0.4504</td>\n",
       "      <td>0.2430</td>\n",
       "      <td>0.3613</td>\n",
       "      <td>0.08758</td>\n",
       "    </tr>\n",
       "    <tr>\n",
       "      <th>3</th>\n",
       "      <td>11.42</td>\n",
       "      <td>20.38</td>\n",
       "      <td>77.58</td>\n",
       "      <td>386.1</td>\n",
       "      <td>0.14250</td>\n",
       "      <td>0.28390</td>\n",
       "      <td>0.2414</td>\n",
       "      <td>0.10520</td>\n",
       "      <td>0.2597</td>\n",
       "      <td>0.09744</td>\n",
       "      <td>...</td>\n",
       "      <td>14.91</td>\n",
       "      <td>26.50</td>\n",
       "      <td>98.87</td>\n",
       "      <td>567.7</td>\n",
       "      <td>0.2098</td>\n",
       "      <td>0.8663</td>\n",
       "      <td>0.6869</td>\n",
       "      <td>0.2575</td>\n",
       "      <td>0.6638</td>\n",
       "      <td>0.17300</td>\n",
       "    </tr>\n",
       "    <tr>\n",
       "      <th>4</th>\n",
       "      <td>20.29</td>\n",
       "      <td>14.34</td>\n",
       "      <td>135.10</td>\n",
       "      <td>1297.0</td>\n",
       "      <td>0.10030</td>\n",
       "      <td>0.13280</td>\n",
       "      <td>0.1980</td>\n",
       "      <td>0.10430</td>\n",
       "      <td>0.1809</td>\n",
       "      <td>0.05883</td>\n",
       "      <td>...</td>\n",
       "      <td>22.54</td>\n",
       "      <td>16.67</td>\n",
       "      <td>152.20</td>\n",
       "      <td>1575.0</td>\n",
       "      <td>0.1374</td>\n",
       "      <td>0.2050</td>\n",
       "      <td>0.4000</td>\n",
       "      <td>0.1625</td>\n",
       "      <td>0.2364</td>\n",
       "      <td>0.07678</td>\n",
       "    </tr>\n",
       "  </tbody>\n",
       "</table>\n",
       "<p>5 rows × 30 columns</p>\n",
       "</div>"
      ],
      "text/plain": [
       "   mean radius  mean texture  mean perimeter  mean area  mean smoothness  \\\n",
       "0        17.99         10.38          122.80     1001.0          0.11840   \n",
       "1        20.57         17.77          132.90     1326.0          0.08474   \n",
       "2        19.69         21.25          130.00     1203.0          0.10960   \n",
       "3        11.42         20.38           77.58      386.1          0.14250   \n",
       "4        20.29         14.34          135.10     1297.0          0.10030   \n",
       "\n",
       "   mean compactness  mean concavity  mean concave points  mean symmetry  \\\n",
       "0           0.27760          0.3001              0.14710         0.2419   \n",
       "1           0.07864          0.0869              0.07017         0.1812   \n",
       "2           0.15990          0.1974              0.12790         0.2069   \n",
       "3           0.28390          0.2414              0.10520         0.2597   \n",
       "4           0.13280          0.1980              0.10430         0.1809   \n",
       "\n",
       "   mean fractal dimension  ...  worst radius  worst texture  worst perimeter  \\\n",
       "0                 0.07871  ...         25.38          17.33           184.60   \n",
       "1                 0.05667  ...         24.99          23.41           158.80   \n",
       "2                 0.05999  ...         23.57          25.53           152.50   \n",
       "3                 0.09744  ...         14.91          26.50            98.87   \n",
       "4                 0.05883  ...         22.54          16.67           152.20   \n",
       "\n",
       "   worst area  worst smoothness  worst compactness  worst concavity  \\\n",
       "0      2019.0            0.1622             0.6656           0.7119   \n",
       "1      1956.0            0.1238             0.1866           0.2416   \n",
       "2      1709.0            0.1444             0.4245           0.4504   \n",
       "3       567.7            0.2098             0.8663           0.6869   \n",
       "4      1575.0            0.1374             0.2050           0.4000   \n",
       "\n",
       "   worst concave points  worst symmetry  worst fractal dimension  \n",
       "0                0.2654          0.4601                  0.11890  \n",
       "1                0.1860          0.2750                  0.08902  \n",
       "2                0.2430          0.3613                  0.08758  \n",
       "3                0.2575          0.6638                  0.17300  \n",
       "4                0.1625          0.2364                  0.07678  \n",
       "\n",
       "[5 rows x 30 columns]"
      ]
     },
     "metadata": {},
     "output_type": "display_data"
    }
   ],
   "source": [
    "# Librería para cargar el dataset\n",
    "from sklearn.datasets import load_breast_cancer\n",
    "\n",
    "# Carga del dataset de cáncer de mama\n",
    "data_cancer = load_breast_cancer()\n",
    "\n",
    "# Conversión de los datos a DataFrame y Series \n",
    "# ---> X: variables predictoras\n",
    "# ---> y: variable objetivo\n",
    "X = pd.DataFrame(data_cancer.data, columns=data_cancer.feature_names)\n",
    "y = pd.Series(data_cancer.target, name='target')\n",
    "\n",
    "print(\"Primeras filas de los datos preprocesados:\")\n",
    "display(X.head())"
   ]
  },
  {
   "cell_type": "markdown",
   "metadata": {},
   "source": [
    "#### B) División en Conjuntos de Entrenamiento y Prueba"
   ]
  },
  {
   "cell_type": "code",
   "execution_count": 18,
   "metadata": {},
   "outputs": [
    {
     "name": "stdout",
     "output_type": "stream",
     "text": [
      "X_train (muestras de entrenamiento, cant. de vbles predictoras) >> (455, 30)\n",
      "X_test (muestras para pruebas, cant. de vbles predictoras) >> (114, 30)\n"
     ]
    }
   ],
   "source": [
    "# Usamos train_test_split para separar los datos.\n",
    "# ---> separamos el 20% de los datos para pruebas\n",
    "# ---> usamos 42 como semilla para la aleatoriedad\n",
    "# ---> usamos stratify para mantener la proporción de clases en y\n",
    "X_train, X_test, y_train, y_test = train_test_split(\n",
    "    X, y,\n",
    "    test_size=0.2,\n",
    "    random_state=42,\n",
    "    stratify=y\n",
    ")\n",
    "\n",
    "print(f\"X_train (muestras de entrenamiento, cant. de vbles predictoras) >> {X_train.shape}\")\n",
    "print(f\"X_test (muestras para pruebas, cant. de vbles predictoras) >> {X_test.shape}\")"
   ]
  },
  {
   "cell_type": "markdown",
   "metadata": {},
   "source": [
    "#### C) Estandarización de Features Numéricos"
   ]
  },
  {
   "cell_type": "code",
   "execution_count": 19,
   "metadata": {},
   "outputs": [
    {
     "name": "stdout",
     "output_type": "stream",
     "text": [
      "Primeras filas de los datos de entrenamiento escalados:\n"
     ]
    },
    {
     "data": {
      "text/html": [
       "<div>\n",
       "<style scoped>\n",
       "    .dataframe tbody tr th:only-of-type {\n",
       "        vertical-align: middle;\n",
       "    }\n",
       "\n",
       "    .dataframe tbody tr th {\n",
       "        vertical-align: top;\n",
       "    }\n",
       "\n",
       "    .dataframe thead th {\n",
       "        text-align: right;\n",
       "    }\n",
       "</style>\n",
       "<table border=\"1\" class=\"dataframe\">\n",
       "  <thead>\n",
       "    <tr style=\"text-align: right;\">\n",
       "      <th></th>\n",
       "      <th>mean radius</th>\n",
       "      <th>mean texture</th>\n",
       "      <th>mean perimeter</th>\n",
       "      <th>mean area</th>\n",
       "      <th>mean smoothness</th>\n",
       "      <th>mean compactness</th>\n",
       "      <th>mean concavity</th>\n",
       "      <th>mean concave points</th>\n",
       "      <th>mean symmetry</th>\n",
       "      <th>mean fractal dimension</th>\n",
       "      <th>...</th>\n",
       "      <th>worst radius</th>\n",
       "      <th>worst texture</th>\n",
       "      <th>worst perimeter</th>\n",
       "      <th>worst area</th>\n",
       "      <th>worst smoothness</th>\n",
       "      <th>worst compactness</th>\n",
       "      <th>worst concavity</th>\n",
       "      <th>worst concave points</th>\n",
       "      <th>worst symmetry</th>\n",
       "      <th>worst fractal dimension</th>\n",
       "    </tr>\n",
       "  </thead>\n",
       "  <tbody>\n",
       "    <tr>\n",
       "      <th>546</th>\n",
       "      <td>-1.072001</td>\n",
       "      <td>-0.658425</td>\n",
       "      <td>-1.088080</td>\n",
       "      <td>-0.939274</td>\n",
       "      <td>-0.135940</td>\n",
       "      <td>-1.008718</td>\n",
       "      <td>-0.968359</td>\n",
       "      <td>-1.102032</td>\n",
       "      <td>0.281062</td>\n",
       "      <td>-0.113231</td>\n",
       "      <td>...</td>\n",
       "      <td>-1.034094</td>\n",
       "      <td>-0.623497</td>\n",
       "      <td>-1.070773</td>\n",
       "      <td>-0.876534</td>\n",
       "      <td>-0.169982</td>\n",
       "      <td>-1.038836</td>\n",
       "      <td>-1.078995</td>\n",
       "      <td>-1.350527</td>\n",
       "      <td>-0.352658</td>\n",
       "      <td>-0.541380</td>\n",
       "    </tr>\n",
       "    <tr>\n",
       "      <th>432</th>\n",
       "      <td>1.748743</td>\n",
       "      <td>0.066502</td>\n",
       "      <td>1.751157</td>\n",
       "      <td>1.745559</td>\n",
       "      <td>1.274468</td>\n",
       "      <td>0.842288</td>\n",
       "      <td>1.519852</td>\n",
       "      <td>1.994664</td>\n",
       "      <td>-0.293045</td>\n",
       "      <td>-0.320180</td>\n",
       "      <td>...</td>\n",
       "      <td>1.228342</td>\n",
       "      <td>-0.092833</td>\n",
       "      <td>1.187467</td>\n",
       "      <td>1.104386</td>\n",
       "      <td>1.517001</td>\n",
       "      <td>0.249655</td>\n",
       "      <td>1.178594</td>\n",
       "      <td>1.549916</td>\n",
       "      <td>0.191078</td>\n",
       "      <td>-0.173739</td>\n",
       "    </tr>\n",
       "    <tr>\n",
       "      <th>174</th>\n",
       "      <td>-0.974734</td>\n",
       "      <td>-0.931124</td>\n",
       "      <td>-0.997709</td>\n",
       "      <td>-0.867589</td>\n",
       "      <td>-0.613515</td>\n",
       "      <td>-1.138154</td>\n",
       "      <td>-1.092292</td>\n",
       "      <td>-1.243358</td>\n",
       "      <td>0.434395</td>\n",
       "      <td>-0.429247</td>\n",
       "      <td>...</td>\n",
       "      <td>-0.973231</td>\n",
       "      <td>-1.036772</td>\n",
       "      <td>-1.008044</td>\n",
       "      <td>-0.834168</td>\n",
       "      <td>-1.097823</td>\n",
       "      <td>-1.167260</td>\n",
       "      <td>-1.282241</td>\n",
       "      <td>-1.707442</td>\n",
       "      <td>-0.307734</td>\n",
       "      <td>-1.213033</td>\n",
       "    </tr>\n",
       "    <tr>\n",
       "      <th>221</th>\n",
       "      <td>-0.145103</td>\n",
       "      <td>-1.215186</td>\n",
       "      <td>-0.123013</td>\n",
       "      <td>-0.253192</td>\n",
       "      <td>0.664482</td>\n",
       "      <td>0.286762</td>\n",
       "      <td>-0.129729</td>\n",
       "      <td>-0.098605</td>\n",
       "      <td>0.555635</td>\n",
       "      <td>0.029395</td>\n",
       "      <td>...</td>\n",
       "      <td>-0.251266</td>\n",
       "      <td>-1.369643</td>\n",
       "      <td>-0.166633</td>\n",
       "      <td>-0.330292</td>\n",
       "      <td>0.234006</td>\n",
       "      <td>0.096874</td>\n",
       "      <td>-0.087521</td>\n",
       "      <td>-0.344838</td>\n",
       "      <td>0.242198</td>\n",
       "      <td>-0.118266</td>\n",
       "    </tr>\n",
       "    <tr>\n",
       "      <th>289</th>\n",
       "      <td>-0.771617</td>\n",
       "      <td>-0.081211</td>\n",
       "      <td>-0.803700</td>\n",
       "      <td>-0.732927</td>\n",
       "      <td>-0.672282</td>\n",
       "      <td>-1.006099</td>\n",
       "      <td>-0.798502</td>\n",
       "      <td>-0.684484</td>\n",
       "      <td>0.737495</td>\n",
       "      <td>-0.457213</td>\n",
       "      <td>...</td>\n",
       "      <td>-0.801135</td>\n",
       "      <td>0.079230</td>\n",
       "      <td>-0.824381</td>\n",
       "      <td>-0.741830</td>\n",
       "      <td>-0.911367</td>\n",
       "      <td>-0.984612</td>\n",
       "      <td>-0.933190</td>\n",
       "      <td>-0.777604</td>\n",
       "      <td>0.555118</td>\n",
       "      <td>-0.761639</td>\n",
       "    </tr>\n",
       "  </tbody>\n",
       "</table>\n",
       "<p>5 rows × 30 columns</p>\n",
       "</div>"
      ],
      "text/plain": [
       "     mean radius  mean texture  mean perimeter  mean area  mean smoothness  \\\n",
       "546    -1.072001     -0.658425       -1.088080  -0.939274        -0.135940   \n",
       "432     1.748743      0.066502        1.751157   1.745559         1.274468   \n",
       "174    -0.974734     -0.931124       -0.997709  -0.867589        -0.613515   \n",
       "221    -0.145103     -1.215186       -0.123013  -0.253192         0.664482   \n",
       "289    -0.771617     -0.081211       -0.803700  -0.732927        -0.672282   \n",
       "\n",
       "     mean compactness  mean concavity  mean concave points  mean symmetry  \\\n",
       "546         -1.008718       -0.968359            -1.102032       0.281062   \n",
       "432          0.842288        1.519852             1.994664      -0.293045   \n",
       "174         -1.138154       -1.092292            -1.243358       0.434395   \n",
       "221          0.286762       -0.129729            -0.098605       0.555635   \n",
       "289         -1.006099       -0.798502            -0.684484       0.737495   \n",
       "\n",
       "     mean fractal dimension  ...  worst radius  worst texture  \\\n",
       "546               -0.113231  ...     -1.034094      -0.623497   \n",
       "432               -0.320180  ...      1.228342      -0.092833   \n",
       "174               -0.429247  ...     -0.973231      -1.036772   \n",
       "221                0.029395  ...     -0.251266      -1.369643   \n",
       "289               -0.457213  ...     -0.801135       0.079230   \n",
       "\n",
       "     worst perimeter  worst area  worst smoothness  worst compactness  \\\n",
       "546        -1.070773   -0.876534         -0.169982          -1.038836   \n",
       "432         1.187467    1.104386          1.517001           0.249655   \n",
       "174        -1.008044   -0.834168         -1.097823          -1.167260   \n",
       "221        -0.166633   -0.330292          0.234006           0.096874   \n",
       "289        -0.824381   -0.741830         -0.911367          -0.984612   \n",
       "\n",
       "     worst concavity  worst concave points  worst symmetry  \\\n",
       "546        -1.078995             -1.350527       -0.352658   \n",
       "432         1.178594              1.549916        0.191078   \n",
       "174        -1.282241             -1.707442       -0.307734   \n",
       "221        -0.087521             -0.344838        0.242198   \n",
       "289        -0.933190             -0.777604        0.555118   \n",
       "\n",
       "     worst fractal dimension  \n",
       "546                -0.541380  \n",
       "432                -0.173739  \n",
       "174                -1.213033  \n",
       "221                -0.118266  \n",
       "289                -0.761639  \n",
       "\n",
       "[5 rows x 30 columns]"
      ]
     },
     "metadata": {},
     "output_type": "display_data"
    }
   ],
   "source": [
    "# Instanciamos el escalador\n",
    "scaler = StandardScaler()\n",
    "\n",
    "# Creamos copias de los conjuntos de entrenamiento y prueba para no modificar los originales\n",
    "X_train_scaled = X_train.copy()\n",
    "X_test_scaled = X_test.copy()\n",
    "\n",
    "# Ajustamos y transformamos los datos de entrenamiento\n",
    "X_train_scaled[:] = scaler.fit_transform(X_train)\n",
    "\n",
    "# Transformamos los datos de prueba con el escalador ya ajustado\n",
    "X_test_scaled[:] = scaler.transform(X_test)\n",
    "\n",
    "print(\"Primeras filas de los datos de entrenamiento escalados:\")\n",
    "display(X_train_scaled.head())"
   ]
  },
  {
   "cell_type": "markdown",
   "metadata": {},
   "source": [
    "#### D) Entrenamiento del Modelo de Regresión Logística"
   ]
  },
  {
   "cell_type": "code",
   "execution_count": 20,
   "metadata": {},
   "outputs": [
    {
     "name": "stdout",
     "output_type": "stream",
     "text": [
      "¡Modelo entrenado exitosamente con datos escalados!\n"
     ]
    }
   ],
   "source": [
    "# Instanciamos el modelo de regresión logística\n",
    "log_reg = LogisticRegression(random_state=42, max_iter=1000)  # Aumentamos max_iter para convergencia\n",
    "\n",
    "# Entrenamos el modelo con los datos escalados\n",
    "log_reg.fit(X_train_scaled, y_train)    \n",
    "\n",
    "print(\"¡Modelo entrenado exitosamente con datos escalados!\")"
   ]
  },
  {
   "cell_type": "markdown",
   "metadata": {},
   "source": [
    "#### E) Evaluación del modelo, con matriz y reporte"
   ]
  },
  {
   "cell_type": "code",
   "execution_count": 175,
   "metadata": {},
   "outputs": [
    {
     "data": {
      "image/png": "[encoded data removed]",
      "text/plain": [
       "<Figure size 800x600 with 2 Axes>"
      ]
     },
     "metadata": {},
     "output_type": "display_data"
    },
    {
     "name": "stdout",
     "output_type": "stream",
     "text": [
      "\n",
      "Reporte de Clasificación:\n",
      "              precision    recall  f1-score   support\n",
      "\n",
      "     Maligno       0.98      0.98      0.98        42\n",
      "     Benigno       0.99      0.99      0.99        72\n",
      "\n",
      "    accuracy                           0.98       114\n",
      "   macro avg       0.98      0.98      0.98       114\n",
      "weighted avg       0.98      0.98      0.98       114\n",
      "\n"
     ]
    }
   ],
   "source": [
    "# Realizamos predicciones sobre el conjunto de prueba escalado\n",
    "y_pred = log_reg.predict(X_test_scaled)  \n",
    "\n",
    "# Calculamos y visualizamos la matriz de confusión\n",
    "matriz = confusion_matrix(y_test, y_pred)\n",
    "\n",
    "# Visualizamos la matriz de confusión\n",
    "visualizacion = ConfusionMatrixDisplay(confusion_matrix=matriz, display_labels=['Maligno', 'Benigno'])\n",
    "fig, ax = plt.subplots(figsize=(8, 6))\n",
    "visualizacion.plot(cmap='Reds', ax=ax)\n",
    "ax.set_title('Matriz de Confusión')\n",
    "plt.show()\n",
    "\n",
    "# Imprimimos el reporte de clasificación completo\n",
    "print(\"\\nReporte de Clasificación:\")\n",
    "print(classification_report(y_test, y_pred, target_names=['Maligno', 'Benigno']))\n"
   ]
  },
  {
   "cell_type": "markdown",
   "metadata": {},
   "source": [
    "---------------------------------------\n",
    "\n",
    "#### 4.  ¿Qué representa un punto en la esquina superior izquierda de la curva ROC? ¿Y un punto en la línea diagonal?\n",
    "\n",
    "`Respuesta`: \n",
    "- Punto en esquina superior izquierda >>> representa un modelo casi perfecto, que clasifica correctamente todos los `default` y los `no default` (para el set de datos de cáncer de mama, clasifica correctamente todos los `Maligno` y los `Benigno`)\n",
    "\n",
    "- Punto sobre la diagonal >>> indica que el modelo es aleatorio, es decir que existe la misma probabilidad de detectar un `default` que un `no default` (para el set de datos de cáncer de mama, `Maligno` y `Benigno`)\n",
    "\n",
    "---------------------------------------"
   ]
  },
  {
   "cell_type": "markdown",
   "metadata": {},
   "source": [
    "#### 5.  ¿Por qué es fundamental ajustar (`fit`) el `StandardScaler` únicamente con los datos de entrenamiento y no con todo el dataset?\n",
    "\n",
    "`Respuesta`: si usamos los datos de test durante el proceo de ajuste del escalador, el modelo los utilizará para calcular la media y la desviación estándar. Esto llevará a que el modelo de la sensación de alto rendimiento, cuando en realidad lo que sucede, es que ya conoce los datos con los que está siendo testeado.\n",
    "\n",
    "-----------------------------------------------"
   ]
  },
  {
   "cell_type": "markdown",
   "metadata": {},
   "source": [
    "#### 6. Crea un bucle `for` que itere sobre una lista de umbrales (ej. `[0.1, 0.2, 0.3, 0.4, 0.5, 0.6, 0.7, 0.8, 0.9]`). Para cada umbral, calcula y guarda la Precisión y el Recall para la clase 'Default'. Luego, grafica cómo cambian estas dos métricas a medida que varía el umbral (Precision-Recall Curve).\n",
    "\n",
    "`Respuesta`:"
   ]
  },
  {
   "cell_type": "code",
   "execution_count": 176,
   "metadata": {},
   "outputs": [
    {
     "name": "stdout",
     "output_type": "stream",
     "text": [
      "\n",
      "Reporte de Clasificación (Umbral = 0.1):\n",
      "              precision    recall  f1-score   support\n",
      "\n",
      "     Benigno       1.00      0.88      0.94        42\n",
      "     Maligno       0.94      1.00      0.97        72\n",
      "\n",
      "    accuracy                           0.96       114\n",
      "   macro avg       0.97      0.94      0.95       114\n",
      "weighted avg       0.96      0.96      0.96       114\n",
      "\n",
      "\n",
      "Reporte de Clasificación (Umbral = 0.2):\n",
      "              precision    recall  f1-score   support\n",
      "\n",
      "     Benigno       1.00      0.95      0.98        42\n",
      "     Maligno       0.97      1.00      0.99        72\n",
      "\n",
      "    accuracy                           0.98       114\n",
      "   macro avg       0.99      0.98      0.98       114\n",
      "weighted avg       0.98      0.98      0.98       114\n",
      "\n",
      "\n",
      "Reporte de Clasificación (Umbral = 0.3):\n",
      "              precision    recall  f1-score   support\n",
      "\n",
      "     Benigno       1.00      0.95      0.98        42\n",
      "     Maligno       0.97      1.00      0.99        72\n",
      "\n",
      "    accuracy                           0.98       114\n",
      "   macro avg       0.99      0.98      0.98       114\n",
      "weighted avg       0.98      0.98      0.98       114\n",
      "\n",
      "\n",
      "Reporte de Clasificación (Umbral = 0.4):\n",
      "              precision    recall  f1-score   support\n",
      "\n",
      "     Benigno       0.98      0.98      0.98        42\n",
      "     Maligno       0.99      0.99      0.99        72\n",
      "\n",
      "    accuracy                           0.98       114\n",
      "   macro avg       0.98      0.98      0.98       114\n",
      "weighted avg       0.98      0.98      0.98       114\n",
      "\n",
      "\n",
      "Reporte de Clasificación (Umbral = 0.5):\n",
      "              precision    recall  f1-score   support\n",
      "\n",
      "     Benigno       0.98      0.98      0.98        42\n",
      "     Maligno       0.99      0.99      0.99        72\n",
      "\n",
      "    accuracy                           0.98       114\n",
      "   macro avg       0.98      0.98      0.98       114\n",
      "weighted avg       0.98      0.98      0.98       114\n",
      "\n",
      "\n",
      "Reporte de Clasificación (Umbral = 0.6):\n",
      "              precision    recall  f1-score   support\n",
      "\n",
      "     Benigno       0.91      0.98      0.94        42\n",
      "     Maligno       0.99      0.94      0.96        72\n",
      "\n",
      "    accuracy                           0.96       114\n",
      "   macro avg       0.95      0.96      0.95       114\n",
      "weighted avg       0.96      0.96      0.96       114\n",
      "\n",
      "\n",
      "Reporte de Clasificación (Umbral = 0.7):\n",
      "              precision    recall  f1-score   support\n",
      "\n",
      "     Benigno       0.89      0.98      0.93        42\n",
      "     Maligno       0.99      0.93      0.96        72\n",
      "\n",
      "    accuracy                           0.95       114\n",
      "   macro avg       0.94      0.95      0.94       114\n",
      "weighted avg       0.95      0.95      0.95       114\n",
      "\n",
      "\n",
      "Reporte de Clasificación (Umbral = 0.8):\n",
      "              precision    recall  f1-score   support\n",
      "\n",
      "     Benigno       0.87      0.98      0.92        42\n",
      "     Maligno       0.99      0.92      0.95        72\n",
      "\n",
      "    accuracy                           0.94       114\n",
      "   macro avg       0.93      0.95      0.94       114\n",
      "weighted avg       0.94      0.94      0.94       114\n",
      "\n",
      "\n",
      "Reporte de Clasificación (Umbral = 0.9):\n",
      "              precision    recall  f1-score   support\n",
      "\n",
      "     Benigno       0.79      0.98      0.87        42\n",
      "     Maligno       0.98      0.85      0.91        72\n",
      "\n",
      "    accuracy                           0.89       114\n",
      "   macro avg       0.89      0.91      0.89       114\n",
      "weighted avg       0.91      0.89      0.90       114\n",
      "\n"
     ]
    },
    {
     "data": {
      "image/png": "[encoded data removed]",
      "text/plain": [
       "<Figure size 640x480 with 1 Axes>"
      ]
     },
     "metadata": {},
     "output_type": "display_data"
    }
   ],
   "source": [
    "from sklearn.metrics import precision_score, recall_score\n",
    "\n",
    "umbrales = [0.1, 0.2, 0.3, 0.4, 0.5, 0.6, 0.7, 0.8, 0.9]\n",
    "precisiones = []\n",
    "recalls = []\n",
    "\n",
    "for umbral in umbrales:\n",
    "    # Calculamos las probabilidades de predicción para la clase positiva (Maligno)\n",
    "    y_pred_proba = log_reg.predict_proba(X_test_scaled)[:, 1]\n",
    "\n",
    "    # Aplicamos el umbral\n",
    "    y_pred_nuevo_umbral = (y_pred_proba >= umbral).astype(int)\n",
    "    \n",
    "    # Imprimimos el reporte de clasificación\n",
    "    print(f\"\\nReporte de Clasificación (Umbral = {umbral}):\")\n",
    "    print(classification_report(y_test, y_pred_nuevo_umbral, target_names=['Benigno', 'Maligno']))\n",
    "    \n",
    "    # # Visualizamos la matriz de confusión\n",
    "    # matriz_nueva = confusion_matrix(y_test, y_pred_nuevo_umbral)\n",
    "    # visualizacion_nueva = ConfusionMatrixDisplay(confusion_matrix=matriz_nueva, display_labels=['Banigno', 'Maligno'])\n",
    "    # fig, ax = plt.subplots(figsize=(8, 6))\n",
    "    # visualizacion_nueva.plot(cmap='Grays', ax=ax)\n",
    "    # ax.set_title(f'Matriz de Confusión con Umbral = {umbral}')\n",
    "    # plt.show()\n",
    "\n",
    "    # Guardamos Precisión y Recall para graficar luego\n",
    "    precisiones.append(precision_score(y_test, y_pred_nuevo_umbral))\n",
    "    recalls.append(recall_score(y_test, y_pred_nuevo_umbral))\n",
    "\n",
    "plt.plot(umbrales, recalls, marker='s', label='Recall')\n",
    "plt.plot(umbrales, precisiones, marker='o', label='Precisión')\n",
    "plt.xlabel('Umbral de decisión')\n",
    "plt.ylabel('Precision/Recall')\n",
    "plt.title('Curva Precision-Recall para distintos umbrales')\n",
    "plt.legend()\n",
    "plt.grid(True)\n",
    "plt.show()"
   ]
  },
  {
   "cell_type": "markdown",
   "metadata": {},
   "source": [
    "----------------------------------"
   ]
  },
  {
   "cell_type": "markdown",
   "metadata": {},
   "source": [
    "#### 7.  Usando los coeficientes del modelo `log_reg` (entrenado con datos escalados), interpreta el coeficiente de la variable `balance`. ¿Qué significa un aumento de una desviación estándar en el `balance` en términos del odds ratio de default?\n",
    "\n",
    "`Respuesta`: el coef de la vble \"balance\", en el modelo de regresión logística, indica cuánto cambia el logaritmo del odds, de estar en default cuando el balance o saldo se incrementa en una desviación estándar (siempre que se mantengan las demás variables constantes). Por ejemplo: \n",
    "- si el coeficiente de \"balance\" fuera 2.0, entonces, la probabilidad de estar en dafault se multiplica por `exp(2.0)`\n",
    "- es decir que el riesgo de caer en default aumenta en aproximadamente 7 veces (~ exp(2.0))\n",
    "\n",
    "\n",
    "------------------------------"
   ]
  },
  {
   "cell_type": "markdown",
   "metadata": {},
   "source": [
    "#### 8. Explica la diferencia fundamental entre la regularización L1 y L2 en términos de su efecto sobre los coeficientes del modelo.\n",
    "\n",
    "`Respuesta`:\n",
    "- L1 genera modelos más simples y puede eliminar variables poco importantes. Tiende a llevar a cero algunos coeficientes.\n",
    "- L2 mantiene todas las variables, pero reduce su impacto, ya que los coeficientes se minimizan bastante pero sin llevarlos a cero.\n",
    "\n",
    "________________________"
   ]
  },
  {
   "cell_type": "markdown",
   "metadata": {},
   "source": [
    "#### 9.  Si tuvieras dos modelos, uno con AUC de 0.85 y otro con AUC de 0.75, ¿cuál elegirías y por qué? ¿Bajo qué circunstancias podrías preferir el de 0.75?\n",
    "\n",
    "`Respuesta`: un modelo con un AUC de 0.85, se asume como un modelo más eficiente a la hora de clasificar (default/no default, maligno/benigno, etc), frente a uno con una AUC de 0.75.\n",
    "Lo que podría llevarnos a inclinarnos por el modelo de 0.75, depende del contexto del problema. Por ejemplo, si éste fuera más eficiente en alguna métrica de interés _(si lo quiero es minimizar los falsos positvos, quizás me conviene optar por el modelo que mejora el Recall, aún cuando su AUC no sea el mejor)_\n",
    "\n",
    "\n",
    "_____________________________\n"
   ]
  },
  {
   "cell_type": "markdown",
   "metadata": {},
   "source": [
    "#### 10. Investiga el parámetro `class_weight` de `LogisticRegression` en `scikit-learn`. ¿Cómo podrías usarlo para manejar el desbalanceo de clases en el dataset `Default`? Pruébalo (con los datos escalados) y compara los resultados (recall, precisión) con la técnica de ajustar el umbral.\n",
    "\n",
    "`Respuesta`: el parámetro `class_weight` permite asignar un peso diferente a cada clase (default/no default) durante el entrenamiento. Esto es útil en datasets desbalanceados, ya que permite penalizar más los errores en la clase minoritaria, ayudando al modelo a prestar más atención a esa clase.\n",
    "\n",
    "Según la documentación de scikit-learn, en su modo `balanced`, este parámetro permite durante la \n",
    "regresión, ajustar automáticamente los pesos de las clases de manera inversamente proporcional a la frecuencia de sus datos.\n",
    "\n",
    "Por lo tanto, podemos concluir que en nuestro ejercicio de evaluación de estudiantes, podríamos usar `class_weight = balanced` para gestionar el desbalanceo del dataset."
   ]
  },
  {
   "cell_type": "code",
   "execution_count": 181,
   "metadata": {},
   "outputs": [
    {
     "name": "stdout",
     "output_type": "stream",
     "text": [
      "Primeras filas de los datos preprocesados:\n"
     ]
    },
    {
     "data": {
      "text/html": [
       "<div>\n",
       "<style scoped>\n",
       "    .dataframe tbody tr th:only-of-type {\n",
       "        vertical-align: middle;\n",
       "    }\n",
       "\n",
       "    .dataframe tbody tr th {\n",
       "        vertical-align: top;\n",
       "    }\n",
       "\n",
       "    .dataframe thead th {\n",
       "        text-align: right;\n",
       "    }\n",
       "</style>\n",
       "<table border=\"1\" class=\"dataframe\">\n",
       "  <thead>\n",
       "    <tr style=\"text-align: right;\">\n",
       "      <th></th>\n",
       "      <th>balance</th>\n",
       "      <th>income</th>\n",
       "      <th>student_Yes</th>\n",
       "    </tr>\n",
       "  </thead>\n",
       "  <tbody>\n",
       "    <tr>\n",
       "      <th>0</th>\n",
       "      <td>729.526495</td>\n",
       "      <td>44361.625074</td>\n",
       "      <td>0</td>\n",
       "    </tr>\n",
       "    <tr>\n",
       "      <th>1</th>\n",
       "      <td>817.180407</td>\n",
       "      <td>12106.134700</td>\n",
       "      <td>1</td>\n",
       "    </tr>\n",
       "    <tr>\n",
       "      <th>2</th>\n",
       "      <td>1073.549164</td>\n",
       "      <td>31767.138947</td>\n",
       "      <td>0</td>\n",
       "    </tr>\n",
       "    <tr>\n",
       "      <th>3</th>\n",
       "      <td>529.250605</td>\n",
       "      <td>35704.493935</td>\n",
       "      <td>0</td>\n",
       "    </tr>\n",
       "    <tr>\n",
       "      <th>4</th>\n",
       "      <td>785.655883</td>\n",
       "      <td>38463.495879</td>\n",
       "      <td>0</td>\n",
       "    </tr>\n",
       "  </tbody>\n",
       "</table>\n",
       "</div>"
      ],
      "text/plain": [
       "       balance        income  student_Yes\n",
       "0   729.526495  44361.625074            0\n",
       "1   817.180407  12106.134700            1\n",
       "2  1073.549164  31767.138947            0\n",
       "3   529.250605  35704.493935            0\n",
       "4   785.655883  38463.495879            0"
      ]
     },
     "metadata": {},
     "output_type": "display_data"
    },
    {
     "name": "stdout",
     "output_type": "stream",
     "text": [
      "X_train (muestras de entrenamiento, cant. de vbles predictoras) >> (8000, 3)\n",
      "X_test (muestras para pruebas, cant. de vbles predictoras) >> (2000, 3)\n",
      "Primeras filas de los datos de entrenamiento escalados:\n"
     ]
    },
    {
     "data": {
      "text/html": [
       "<div>\n",
       "<style scoped>\n",
       "    .dataframe tbody tr th:only-of-type {\n",
       "        vertical-align: middle;\n",
       "    }\n",
       "\n",
       "    .dataframe tbody tr th {\n",
       "        vertical-align: top;\n",
       "    }\n",
       "\n",
       "    .dataframe thead th {\n",
       "        text-align: right;\n",
       "    }\n",
       "</style>\n",
       "<table border=\"1\" class=\"dataframe\">\n",
       "  <thead>\n",
       "    <tr style=\"text-align: right;\">\n",
       "      <th></th>\n",
       "      <th>balance</th>\n",
       "      <th>income</th>\n",
       "      <th>student_Yes</th>\n",
       "    </tr>\n",
       "  </thead>\n",
       "  <tbody>\n",
       "    <tr>\n",
       "      <th>2720</th>\n",
       "      <td>-0.018061</td>\n",
       "      <td>-0.331140</td>\n",
       "      <td>1</td>\n",
       "    </tr>\n",
       "    <tr>\n",
       "      <th>6168</th>\n",
       "      <td>-1.687480</td>\n",
       "      <td>2.194023</td>\n",
       "      <td>0</td>\n",
       "    </tr>\n",
       "    <tr>\n",
       "      <th>7723</th>\n",
       "      <td>-0.123917</td>\n",
       "      <td>-0.288274</td>\n",
       "      <td>0</td>\n",
       "    </tr>\n",
       "    <tr>\n",
       "      <th>8128</th>\n",
       "      <td>0.155670</td>\n",
       "      <td>0.992420</td>\n",
       "      <td>0</td>\n",
       "    </tr>\n",
       "    <tr>\n",
       "      <th>3565</th>\n",
       "      <td>0.449485</td>\n",
       "      <td>-1.673192</td>\n",
       "      <td>1</td>\n",
       "    </tr>\n",
       "  </tbody>\n",
       "</table>\n",
       "</div>"
      ],
      "text/plain": [
       "       balance    income  student_Yes\n",
       "2720 -0.018061 -0.331140            1\n",
       "6168 -1.687480  2.194023            0\n",
       "7723 -0.123917 -0.288274            0\n",
       "8128  0.155670  0.992420            0\n",
       "3565  0.449485 -1.673192            1"
      ]
     },
     "metadata": {},
     "output_type": "display_data"
    },
    {
     "name": "stdout",
     "output_type": "stream",
     "text": [
      "¡Modelo entrenado exitosamente con datos escalados con el parámetro class_weight='balanced'!\n"
     ]
    },
    {
     "data": {
      "image/png": "[encoded data removed]",
      "text/plain": [
       "<Figure size 800x600 with 2 Axes>"
      ]
     },
     "metadata": {},
     "output_type": "display_data"
    },
    {
     "name": "stdout",
     "output_type": "stream",
     "text": [
      "\n",
      "Reporte de Clasificación:\n",
      "              precision    recall  f1-score   support\n",
      "\n",
      "  No Default       1.00      0.85      0.92      1933\n",
      "     Default       0.17      0.88      0.29        67\n",
      "\n",
      "    accuracy                           0.85      2000\n",
      "   macro avg       0.58      0.87      0.60      2000\n",
      "weighted avg       0.97      0.85      0.90      2000\n",
      "\n",
      "\n",
      "Curva Precision/Recall para regresión logísitca con class_weight='balanced':\n"
     ]
    },
    {
     "data": {
      "image/png": "[encoded data removed]",
      "text/plain": [
       "<Figure size 640x480 with 1 Axes>"
      ]
     },
     "metadata": {},
     "output_type": "display_data"
    }
   ],
   "source": [
    "# Nueva carga y procesamiento de datos\n",
    "data_default = load_data('Default')\n",
    "\n",
    "# Nueva conversión de los datos a DataFrame y Series \n",
    "# ------> x: valriables predictoras\n",
    "# ------> y: variable objetivo\n",
    "# ------> Conversión de categóricas a numéricas\n",
    "data_default_processed = pd.get_dummies(data_default, columns=['student'], drop_first=True, dtype=int)\n",
    "data_default_processed['default'] = data_default_processed['default'].apply(lambda x: 1 if x == 'Yes' else 0)\n",
    "X = data_default_processed[['balance', 'income', 'student_Yes']]\n",
    "y = data_default_processed['default']\n",
    "\n",
    "print(\"Primeras filas de los datos preprocesados:\")\n",
    "display(X.head())\n",
    "# ------------------------------------------------------------------------------------------\n",
    "\n",
    "# Nueva división de los datos (entrenamiento y tests)\n",
    "# ------> Usamos train_test_split para separar los datos.\n",
    "# ------> separamos el 20% de los datos para pruebas\n",
    "# ------> usamos 42 como semilla para la aleatoriedad\n",
    "# ------> usamos stratify para mantener la proporción de clases en y\n",
    "X_train, X_test, y_train, y_test = train_test_split(\n",
    "    X, y,\n",
    "    test_size=0.2,\n",
    "    random_state=42,\n",
    "    stratify=y\n",
    ")\n",
    "\n",
    "print(f\"X_train (muestras de entrenamiento, cant. de vbles predictoras) >> {X_train.shape}\")\n",
    "print(f\"X_test (muestras para pruebas, cant. de vbles predictoras) >> {X_test.shape}\")\n",
    "# ------------------------------------------------------------------------------------------\n",
    "\n",
    "# Nueva estandarización de los datos\n",
    "# ------> Instanciamos el escalador\n",
    "scaler = StandardScaler()\n",
    "cols_to_scale = ['balance', 'income']\n",
    "# ------> Creamos copias de los conjuntos de entrenamiento y prueba para no modificar los originales\n",
    "X_train_scaled = X_train.copy()\n",
    "X_test_scaled = X_test.copy()\n",
    "# ------> Ajustamos y transformamos los datos de entrenamiento\n",
    "X_train_scaled[cols_to_scale] = scaler.fit_transform(X_train[cols_to_scale])\n",
    "# ------> Transformamos los datos de prueba con el escalador ya ajustado\n",
    "X_test_scaled[cols_to_scale] = scaler.transform(X_test[cols_to_scale])\n",
    "\n",
    "print(\"Primeras filas de los datos de entrenamiento escalados:\")\n",
    "display(X_train_scaled.head())\n",
    "# ------------------------------------------------------------------------------------------\n",
    "\n",
    "# Instanciamos el modelo de regresión logística\n",
    "log_reg = LogisticRegression(random_state=42, class_weight='balanced')\n",
    "log_reg.fit(X_train_scaled, y_train)\n",
    "\n",
    "print(\"¡Modelo entrenado exitosamente con datos escalados con el parámetro class_weight='balanced'!\")\n",
    "# ------------------------------------------------------------------------------------------\n",
    "\n",
    "# Realizamos predicciones sobre el conjunto de prueba escalado\n",
    "y_pred = log_reg.predict(X_test_scaled)  \n",
    "# ------> Calculamos y visualizamos la matriz de confusión\n",
    "matriz_data_default = confusion_matrix(y_test, y_pred)\n",
    "visualizacion_data_default = ConfusionMatrixDisplay(confusion_matrix=matriz_data_default, display_labels=['Default', 'No default'])\n",
    "fig, ax = plt.subplots(figsize=(8, 6))\n",
    "visualizacion_data_default.plot(cmap='Reds', ax=ax)\n",
    "ax.set_title('Matriz de Confusión')\n",
    "plt.show()\n",
    "# ------> Imprimimos el reporte de clasificación completo\n",
    "print(\"\\nReporte de Clasificación:\")\n",
    "print(classification_report(y_test, y_pred, target_names=['No Default', 'Default']))\n",
    "# ------------------------------------------------------------------------------------------\n",
    "\n",
    "# Técnica de ajuste de umbral\n",
    "from sklearn.metrics import precision_score, recall_score\n",
    "umbrales = [0.1, 0.2, 0.3, 0.4, 0.5, 0.6, 0.7, 0.8, 0.9]\n",
    "precisiones = []\n",
    "recalls = []\n",
    "\n",
    "for umbral in umbrales:\n",
    "    y_pred_proba = log_reg.predict_proba(X_test_scaled)[:, 1]\n",
    "    y_pred_nuevo_umbral = (y_pred_proba >= umbral).astype(int)\n",
    "    # ------> Guardamos Precisión y Recall para graficar luego\n",
    "    precisiones.append(precision_score(y_test, y_pred_nuevo_umbral))\n",
    "    recalls.append(recall_score(y_test, y_pred_nuevo_umbral))\n",
    "\n",
    "print(\"\\nCurva Precision/Recall para regresión logísitca con class_weight='balanced':\")\n",
    "plt.plot(umbrales, recalls, marker='s', label='Recall')\n",
    "plt.plot(umbrales, precisiones, marker='o', label='Precisión')\n",
    "plt.xlabel('Umbral de decisión')\n",
    "plt.ylabel('Precision/Recall')\n",
    "plt.title('Curva Precision-Recall para distintos umbrales')\n",
    "plt.legend()\n",
    "plt.grid(True)\n",
    "plt.show()\n"
   ]
  }
 ],
 "metadata": {
  "colab": {
   "provenance": []
  },
  "kernelspec": {
   "display_name": "Python 3",
   "language": "python",
   "name": "python3"
  },
  "language_info": {
   "codemirror_mode": {
    "name": "ipython",
    "version": 3
   },
   "file_extension": ".py",
   "mimetype": "text/x-python",
   "name": "python",
   "nbconvert_exporter": "python",
   "pygments_lexer": "ipython3",
   "version": "3.11.9"
  }
 },
 "nbformat": 4,
 "nbformat_minor": 0
}
