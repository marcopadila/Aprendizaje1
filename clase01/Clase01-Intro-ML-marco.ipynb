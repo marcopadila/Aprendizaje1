{
 "cells": [
  {
   "cell_type": "markdown",
   "metadata": {},
   "source": [
    "# Taller Práctico Clase 1: Introducción a Machine Learning\n",
    "\n",
    "**Objetivo:** En este notebook, aplicaremos los conceptos fundamentales vistos en clase. Nos familiarizaremos con las herramientas básicas y realizaremos el paso más crucial antes de entrenar cualquier modelo: la preparación y división de nuestros datos.\n",
    "\n",
    "**Pasos a seguir:**\n",
    "1.  **Importar librerías:** Cargar las herramientas que necesitaremos.\n",
    "2.  **Cargar el dataset:** Usaremos el famoso dataset \"Iris\".\n",
    "3.  **Exploración de Datos (EDA):** Entenderemos la estructura y contenido de nuestros datos.\n",
    "4.  **Visualización simple:** Crearemos gráficos para observar las relaciones entre variables.\n",
    "5.  **División Train-Test:** Separaremos nuestros datos en conjuntos de entrenamiento y prueba."
   ]
  },
  {
   "cell_type": "markdown",
   "metadata": {},
   "source": [
    "---"
   ]
  },
  {
   "cell_type": "markdown",
   "metadata": {},
   "source": [
    "### 1. Importar Librerías\n",
    "\n",
    "Primero, importamos las librerías que usaremos. Es una buena práctica hacerlo al inicio del notebook.\n",
    "- **pandas:** Para manipulación de datos en formato de tabla (DataFrame).\n",
    "- **scikit-learn:** La librería de Machine Learning por excelencia en Python. La usaremos para cargar el dataset y para dividir los datos.\n",
    "- **matplotlib:** Para crear visualizaciones."
   ]
  },
  {
   "cell_type": "code",
   "execution_count": 1,
   "metadata": {
    "ExecuteTime": {
     "end_time": "2025-06-10T19:30:52.350302Z",
     "start_time": "2025-06-10T19:30:51.492871Z"
    }
   },
   "outputs": [
    {
     "name": "stdout",
     "output_type": "stream",
     "text": [
      "Librerías importadas correctamente!\n"
     ]
    }
   ],
   "source": [
    "import matplotlib.pyplot as plt\n",
    "import pandas as pd\n",
    "from sklearn.datasets import load_iris\n",
    "from sklearn.model_selection import train_test_split\n",
    "import numpy as np\n",
    "\n",
    "print(\"Librerías importadas correctamente!\")"
   ]
  },
  {
   "cell_type": "markdown",
   "metadata": {},
   "source": [
    "---"
   ]
  },
  {
   "cell_type": "markdown",
   "metadata": {},
   "source": [
    "### 2. Cargar el Dataset\n",
    "\n",
    "Vamos a cargar el dataset **Iris**, que viene incluido en `scikit-learn`. Este dataset contiene mediciones de 3 especies diferentes de flores de Iris.\n",
    "\n",
    "El objeto que carga `scikit-learn` tiene varias partes útiles:\n",
    "- `data`: Contiene las características (features) de las flores (largo y ancho de sépalo y pétalo).\n",
    "- `target`: Contiene la etiqueta o especie de cada flor (la variable que queremos predecir).\n",
    "- `feature_names`: Los nombres de las columnas en `data`.\n",
    "- `target_names`: Los nombres de las especies en `target`."
   ]
  },
  {
   "cell_type": "code",
   "execution_count": 2,
   "metadata": {
    "ExecuteTime": {
     "end_time": "2025-06-10T19:30:56.123619Z",
     "start_time": "2025-06-10T19:30:56.113903Z"
    }
   },
   "outputs": [],
   "source": [
    "# Cargamos el dataset\n",
    "iris_raw = load_iris()\n",
    "\n",
    "# Convertimos los datos a un DataFrame de pandas para facilitar su manipulación\n",
    "# Las columnas serán los nombres de las características\n",
    "iris_df = pd.DataFrame(data=iris_raw.data, columns=iris_raw.feature_names)\n",
    "\n",
    "# Añadimos la columna 'species' (nuestro objetivo o target)\n",
    "iris_df['species'] = iris_raw.target\n",
    "\n",
    "# Mapeamos los números del target a los nombres de las especies para mayor claridad\n",
    "species_map = {0: 'setosa', 1: 'versicolor', 2: 'virginica'}\n",
    "iris_df['species_name'] = iris_df['species'].map(species_map)"
   ]
  },
  {
   "cell_type": "markdown",
   "metadata": {},
   "source": [
    "---"
   ]
  },
  {
   "cell_type": "markdown",
   "metadata": {},
   "source": [
    "### 3. Exploración de Datos (EDA)\n",
    "\n",
    "Antes de hacer cualquier modelo, debemos entender nuestros datos. ¿Cómo se ven? ¿Cuántos datos tenemos? ¿Hay valores faltantes?"
   ]
  },
  {
   "cell_type": "code",
   "execution_count": 3,
   "metadata": {
    "ExecuteTime": {
     "end_time": "2025-06-10T19:31:02.267006Z",
     "start_time": "2025-06-10T19:31:02.257205Z"
    }
   },
   "outputs": [
    {
     "name": "stdout",
     "output_type": "stream",
     "text": [
      "Primeras 5 filas del dataset:\n"
     ]
    },
    {
     "data": {
      "text/html": [
       "<div>\n",
       "<style scoped>\n",
       "    .dataframe tbody tr th:only-of-type {\n",
       "        vertical-align: middle;\n",
       "    }\n",
       "\n",
       "    .dataframe tbody tr th {\n",
       "        vertical-align: top;\n",
       "    }\n",
       "\n",
       "    .dataframe thead th {\n",
       "        text-align: right;\n",
       "    }\n",
       "</style>\n",
       "<table border=\"1\" class=\"dataframe\">\n",
       "  <thead>\n",
       "    <tr style=\"text-align: right;\">\n",
       "      <th></th>\n",
       "      <th>sepal length (cm)</th>\n",
       "      <th>sepal width (cm)</th>\n",
       "      <th>petal length (cm)</th>\n",
       "      <th>petal width (cm)</th>\n",
       "      <th>species</th>\n",
       "      <th>species_name</th>\n",
       "    </tr>\n",
       "  </thead>\n",
       "  <tbody>\n",
       "    <tr>\n",
       "      <th>0</th>\n",
       "      <td>5.1</td>\n",
       "      <td>3.5</td>\n",
       "      <td>1.4</td>\n",
       "      <td>0.2</td>\n",
       "      <td>0</td>\n",
       "      <td>setosa</td>\n",
       "    </tr>\n",
       "    <tr>\n",
       "      <th>1</th>\n",
       "      <td>4.9</td>\n",
       "      <td>3.0</td>\n",
       "      <td>1.4</td>\n",
       "      <td>0.2</td>\n",
       "      <td>0</td>\n",
       "      <td>setosa</td>\n",
       "    </tr>\n",
       "    <tr>\n",
       "      <th>2</th>\n",
       "      <td>4.7</td>\n",
       "      <td>3.2</td>\n",
       "      <td>1.3</td>\n",
       "      <td>0.2</td>\n",
       "      <td>0</td>\n",
       "      <td>setosa</td>\n",
       "    </tr>\n",
       "    <tr>\n",
       "      <th>3</th>\n",
       "      <td>4.6</td>\n",
       "      <td>3.1</td>\n",
       "      <td>1.5</td>\n",
       "      <td>0.2</td>\n",
       "      <td>0</td>\n",
       "      <td>setosa</td>\n",
       "    </tr>\n",
       "    <tr>\n",
       "      <th>4</th>\n",
       "      <td>5.0</td>\n",
       "      <td>3.6</td>\n",
       "      <td>1.4</td>\n",
       "      <td>0.2</td>\n",
       "      <td>0</td>\n",
       "      <td>setosa</td>\n",
       "    </tr>\n",
       "  </tbody>\n",
       "</table>\n",
       "</div>"
      ],
      "text/plain": [
       "   sepal length (cm)  sepal width (cm)  petal length (cm)  petal width (cm)  \\\n",
       "0                5.1               3.5                1.4               0.2   \n",
       "1                4.9               3.0                1.4               0.2   \n",
       "2                4.7               3.2                1.3               0.2   \n",
       "3                4.6               3.1                1.5               0.2   \n",
       "4                5.0               3.6                1.4               0.2   \n",
       "\n",
       "   species species_name  \n",
       "0        0       setosa  \n",
       "1        0       setosa  \n",
       "2        0       setosa  \n",
       "3        0       setosa  \n",
       "4        0       setosa  "
      ]
     },
     "execution_count": 3,
     "metadata": {},
     "output_type": "execute_result"
    }
   ],
   "source": [
    "# Visualizamos las primeras 5 filas del DataFrame\n",
    "print(\"Primeras 5 filas del dataset:\")\n",
    "iris_df.head()"
   ]
  },
  {
   "cell_type": "code",
   "execution_count": 4,
   "metadata": {
    "ExecuteTime": {
     "end_time": "2025-06-10T19:31:03.602082Z",
     "start_time": "2025-06-10T19:31:03.594681Z"
    }
   },
   "outputs": [
    {
     "name": "stdout",
     "output_type": "stream",
     "text": [
      "Información general del dataset:\n",
      "<class 'pandas.core.frame.DataFrame'>\n",
      "RangeIndex: 150 entries, 0 to 149\n",
      "Data columns (total 6 columns):\n",
      " #   Column             Non-Null Count  Dtype  \n",
      "---  ------             --------------  -----  \n",
      " 0   sepal length (cm)  150 non-null    float64\n",
      " 1   sepal width (cm)   150 non-null    float64\n",
      " 2   petal length (cm)  150 non-null    float64\n",
      " 3   petal width (cm)   150 non-null    float64\n",
      " 4   species            150 non-null    int32  \n",
      " 5   species_name       150 non-null    object \n",
      "dtypes: float64(4), int32(1), object(1)\n",
      "memory usage: 6.6+ KB\n"
     ]
    }
   ],
   "source": [
    "# Obtenemos información general del DataFrame\n",
    "# Nos muestra el tipo de datos por columna y si hay valores nulos.\n",
    "print(\"Información general del dataset:\")\n",
    "iris_df.info()"
   ]
  },
  {
   "cell_type": "code",
   "execution_count": 5,
   "metadata": {
    "ExecuteTime": {
     "end_time": "2025-06-10T19:31:05.045024Z",
     "start_time": "2025-06-10T19:31:05.033898Z"
    }
   },
   "outputs": [
    {
     "name": "stdout",
     "output_type": "stream",
     "text": [
      "Resumen estadístico:\n"
     ]
    },
    {
     "data": {
      "text/html": [
       "<div>\n",
       "<style scoped>\n",
       "    .dataframe tbody tr th:only-of-type {\n",
       "        vertical-align: middle;\n",
       "    }\n",
       "\n",
       "    .dataframe tbody tr th {\n",
       "        vertical-align: top;\n",
       "    }\n",
       "\n",
       "    .dataframe thead th {\n",
       "        text-align: right;\n",
       "    }\n",
       "</style>\n",
       "<table border=\"1\" class=\"dataframe\">\n",
       "  <thead>\n",
       "    <tr style=\"text-align: right;\">\n",
       "      <th></th>\n",
       "      <th>sepal length (cm)</th>\n",
       "      <th>sepal width (cm)</th>\n",
       "      <th>petal length (cm)</th>\n",
       "      <th>petal width (cm)</th>\n",
       "      <th>species</th>\n",
       "    </tr>\n",
       "  </thead>\n",
       "  <tbody>\n",
       "    <tr>\n",
       "      <th>count</th>\n",
       "      <td>150.000000</td>\n",
       "      <td>150.000000</td>\n",
       "      <td>150.000000</td>\n",
       "      <td>150.000000</td>\n",
       "      <td>150.000000</td>\n",
       "    </tr>\n",
       "    <tr>\n",
       "      <th>mean</th>\n",
       "      <td>5.843333</td>\n",
       "      <td>3.057333</td>\n",
       "      <td>3.758000</td>\n",
       "      <td>1.199333</td>\n",
       "      <td>1.000000</td>\n",
       "    </tr>\n",
       "    <tr>\n",
       "      <th>std</th>\n",
       "      <td>0.828066</td>\n",
       "      <td>0.435866</td>\n",
       "      <td>1.765298</td>\n",
       "      <td>0.762238</td>\n",
       "      <td>0.819232</td>\n",
       "    </tr>\n",
       "    <tr>\n",
       "      <th>min</th>\n",
       "      <td>4.300000</td>\n",
       "      <td>2.000000</td>\n",
       "      <td>1.000000</td>\n",
       "      <td>0.100000</td>\n",
       "      <td>0.000000</td>\n",
       "    </tr>\n",
       "    <tr>\n",
       "      <th>25%</th>\n",
       "      <td>5.100000</td>\n",
       "      <td>2.800000</td>\n",
       "      <td>1.600000</td>\n",
       "      <td>0.300000</td>\n",
       "      <td>0.000000</td>\n",
       "    </tr>\n",
       "    <tr>\n",
       "      <th>50%</th>\n",
       "      <td>5.800000</td>\n",
       "      <td>3.000000</td>\n",
       "      <td>4.350000</td>\n",
       "      <td>1.300000</td>\n",
       "      <td>1.000000</td>\n",
       "    </tr>\n",
       "    <tr>\n",
       "      <th>75%</th>\n",
       "      <td>6.400000</td>\n",
       "      <td>3.300000</td>\n",
       "      <td>5.100000</td>\n",
       "      <td>1.800000</td>\n",
       "      <td>2.000000</td>\n",
       "    </tr>\n",
       "    <tr>\n",
       "      <th>max</th>\n",
       "      <td>7.900000</td>\n",
       "      <td>4.400000</td>\n",
       "      <td>6.900000</td>\n",
       "      <td>2.500000</td>\n",
       "      <td>2.000000</td>\n",
       "    </tr>\n",
       "  </tbody>\n",
       "</table>\n",
       "</div>"
      ],
      "text/plain": [
       "       sepal length (cm)  sepal width (cm)  petal length (cm)  \\\n",
       "count         150.000000        150.000000         150.000000   \n",
       "mean            5.843333          3.057333           3.758000   \n",
       "std             0.828066          0.435866           1.765298   \n",
       "min             4.300000          2.000000           1.000000   \n",
       "25%             5.100000          2.800000           1.600000   \n",
       "50%             5.800000          3.000000           4.350000   \n",
       "75%             6.400000          3.300000           5.100000   \n",
       "max             7.900000          4.400000           6.900000   \n",
       "\n",
       "       petal width (cm)     species  \n",
       "count        150.000000  150.000000  \n",
       "mean           1.199333    1.000000  \n",
       "std            0.762238    0.819232  \n",
       "min            0.100000    0.000000  \n",
       "25%            0.300000    0.000000  \n",
       "50%            1.300000    1.000000  \n",
       "75%            1.800000    2.000000  \n",
       "max            2.500000    2.000000  "
      ]
     },
     "execution_count": 5,
     "metadata": {},
     "output_type": "execute_result"
    }
   ],
   "source": [
    "# Obtenemos un resumen estadístico de las columnas numéricas\n",
    "print(\"Resumen estadístico:\")\n",
    "iris_df.describe()"
   ]
  },
  {
   "cell_type": "code",
   "execution_count": 6,
   "metadata": {
    "ExecuteTime": {
     "end_time": "2025-06-10T19:31:08.343460Z",
     "start_time": "2025-06-10T19:31:08.337620Z"
    }
   },
   "outputs": [
    {
     "name": "stdout",
     "output_type": "stream",
     "text": [
      "Distribución de especies:\n"
     ]
    },
    {
     "data": {
      "text/plain": [
       "species_name\n",
       "setosa        50\n",
       "versicolor    50\n",
       "virginica     50\n",
       "Name: count, dtype: int64"
      ]
     },
     "execution_count": 6,
     "metadata": {},
     "output_type": "execute_result"
    }
   ],
   "source": [
    "# Contamos cuántas muestras tenemos de cada especie\n",
    "# Esto es importante para saber si el dataset está balanceado\n",
    "print(\"Distribución de especies:\")\n",
    "iris_df['species_name'].value_counts()"
   ]
  },
  {
   "cell_type": "markdown",
   "metadata": {},
   "source": [
    "> **Observación:** El dataset está perfectamente balanceado, con 50 muestras de cada especie. Esto es ideal, pero no es común en problemas del mundo real."
   ]
  },
  {
   "cell_type": "markdown",
   "metadata": {},
   "source": [
    "---"
   ]
  },
  {
   "cell_type": "markdown",
   "metadata": {},
   "source": [
    "### 4. Visualización Simple\n",
    "\n",
    "Una imagen vale más que mil palabras. Usemos `matplotlib` para visualizar la relación entre dos de las características más informativas: el largo y el ancho del pétalo. Colorearemos cada punto según su especie para ver si son visualmente separables."
   ]
  },
  {
   "cell_type": "code",
   "execution_count": 7,
   "metadata": {
    "ExecuteTime": {
     "end_time": "2025-06-10T19:31:14.370627Z",
     "start_time": "2025-06-10T19:31:14.255728Z"
    }
   },
   "outputs": [
    {
     "data": {
      "image/png": "[encoded data removed]",
      "text/plain": [
       "<Figure size 800x600 with 1 Axes>"
      ]
     },
     "metadata": {},
     "output_type": "display_data"
    }
   ],
   "source": [
    "# Preparamos la figura y los ejes para el gráfico\n",
    "fig, ax = plt.subplots(figsize=(8, 6))\n",
    "\n",
    "# Definimos colores para cada especie\n",
    "colors = {'setosa': 'red', 'versicolor': 'green', 'virginica': 'blue'}\n",
    "\n",
    "# Iteramos sobre cada especie para pintarla de un color diferente\n",
    "for species_name, group in iris_df.groupby('species_name'):\n",
    "    ax.scatter(group['petal length (cm)'], group['petal width (cm)'],\n",
    "               c=colors[species_name], label=species_name, alpha=0.7)\n",
    "\n",
    "# Añadimos etiquetas, título y leyenda\n",
    "ax.set_xlabel('Largo del Pétalo (cm)')\n",
    "ax.set_ylabel('Ancho del Pétalo (cm)')\n",
    "ax.set_title('Relación entre Largo y Ancho del Pétalo por Especie')\n",
    "ax.legend()\n",
    "ax.grid(True)\n",
    "\n",
    "# Mostramos el gráfico\n",
    "plt.show()"
   ]
  },
  {
   "cell_type": "markdown",
   "metadata": {},
   "source": [
    "> **Análisis Visual:** Observa cómo la especie 'setosa' (puntos rojos) forma un grupo claramente separado de las otras dos. 'Versicolor' (verde) y 'virginica' (azul) están más cerca e incluso tienen cierta superposición. Esto nos da una intuición sobre la dificultad del problema: separar 'setosa' será fácil, pero distinguir entre 'versicolor' y 'virginica' será más desafiante."
   ]
  },
  {
   "cell_type": "markdown",
   "metadata": {},
   "source": [
    "---"
   ]
  },
  {
   "cell_type": "markdown",
   "metadata": {},
   "source": [
    "### 5. División Train-Test\n",
    "\n",
    "Este es el paso más importante de hoy. Como vimos en clase, **NUNCA** debemos evaluar nuestro modelo con los mismos datos que usamos para entrenarlo. Para simular un escenario realista, dividimos nuestros datos en un conjunto de entrenamiento y uno de prueba.\n",
    "\n",
    "- `X`: Contendrá nuestras características (features).\n",
    "- `y`: Contendrá nuestra variable objetivo (target)."
   ]
  },
  {
   "cell_type": "code",
   "execution_count": 8,
   "metadata": {
    "ExecuteTime": {
     "end_time": "2025-06-10T19:31:55.252110Z",
     "start_time": "2025-06-10T19:31:55.244818Z"
    }
   },
   "outputs": [],
   "source": [
    "# Separamos las características (X) de la variable objetivo (y)\n",
    "X = iris_df.drop(columns=['species', 'species_name'])\n",
    "y = iris_df['species']  # Usamos la versión numérica del target"
   ]
  },
  {
   "cell_type": "code",
   "execution_count": 9,
   "metadata": {
    "ExecuteTime": {
     "end_time": "2025-06-10T19:31:57.822416Z",
     "start_time": "2025-06-10T19:31:57.820007Z"
    }
   },
   "outputs": [
    {
     "name": "stdout",
     "output_type": "stream",
     "text": [
      "Dimensiones de X (features): (150, 4)\n",
      "Dimensiones de y (target): (150,)\n"
     ]
    }
   ],
   "source": [
    "# Verificamos las dimensiones de X e y\n",
    "print(\"Dimensiones de X (features):\", X.shape)\n",
    "print(\"Dimensiones de y (target):\", y.shape)"
   ]
  },
  {
   "cell_type": "code",
   "execution_count": 10,
   "metadata": {
    "ExecuteTime": {
     "end_time": "2025-06-10T19:32:00.947635Z",
     "start_time": "2025-06-10T19:32:00.942565Z"
    }
   },
   "outputs": [],
   "source": [
    "# Usamos la función train_test_split de scikit-learn\n",
    "# test_size=0.2 significa que el 20% de los datos se usará para el conjunto de prueba\n",
    "# random_state=42 asegura que la división sea siempre la misma. Esto es crucial para la reproducibilidad.\n",
    "\n",
    "X_train, X_test, y_train, y_test = train_test_split(X, y, test_size=0.3, random_state=42, stratify=y)\n",
    "\n",
    "# El parámetro 'stratify=y' es importante en clasificación. \n",
    "# Asegura que la proporción de cada clase en el target sea la misma en el conjunto de entrenamiento y de prueba."
   ]
  },
  {
   "cell_type": "code",
   "execution_count": 11,
   "metadata": {
    "ExecuteTime": {
     "end_time": "2025-06-10T19:32:06.051750Z",
     "start_time": "2025-06-10T19:32:06.048900Z"
    }
   },
   "outputs": [
    {
     "name": "stdout",
     "output_type": "stream",
     "text": [
      "Dimensiones de X_train: (105, 4)\n",
      "Dimensiones de X_test: (45, 4)\n",
      "Dimensiones de y_train: (105,)\n",
      "Dimensiones de y_test: (45,)\n"
     ]
    }
   ],
   "source": [
    "# Verifiquemos las dimensiones de los conjuntos resultantes\n",
    "print(\"Dimensiones de X_train:\", X_train.shape)\n",
    "print(\"Dimensiones de X_test:\", X_test.shape)\n",
    "print(\"Dimensiones de y_train:\", y_train.shape)\n",
    "print(\"Dimensiones de y_test:\", y_test.shape)"
   ]
  },
  {
   "cell_type": "markdown",
   "metadata": {},
   "source": [
    "---"
   ]
  },
  {
   "cell_type": "markdown",
   "metadata": {},
   "source": [
    "### 🏆 Desafíos y Próximos Pasos\n",
    "\n",
    "¡Felicidades! Has completado los primeros pasos de cualquier proyecto de Machine Learning.\n",
    "\n",
    "Ahora, experimenta un poco:\n",
    "\n",
    "1.  **Cambia el tamaño del test:** Vuelve a la celda de `train_test_split` y cambia el `test_size` a `0.3` (30%). Vuelve a ejecutar las celdas y observa cómo cambian las dimensiones de los conjuntos. ¿Qué implicaciones tiene usar un conjunto de prueba más grande o más pequeño?\n",
    "\n",
    "2.  **Explora los datos de entrenamiento:** Calcula el promedio (`.mean()`) de la característica 'sepal width (cm)' pero **solo para el conjunto de entrenamiento** (`X_train`). ¿Por qué es importante hacer este tipo de cálculos solo sobre los datos de entrenamiento?\n",
    "\n",
    "3.  **Comprueba la estratificación:** Usa `.value_counts(normalize=True)` tanto en `y_train` como en `y_test` para verificar que la proporción de cada especie es aproximadamente la misma en ambos conjuntos."
   ]
  },
  {
   "cell_type": "code",
   "execution_count": 12,
   "metadata": {
    "ExecuteTime": {
     "end_time": "2025-06-10T19:32:45.694718Z",
     "start_time": "2025-06-10T19:32:45.685390Z"
    }
   },
   "outputs": [
    {
     "name": "stdout",
     "output_type": "stream",
     "text": [
      "El promedio de 'sepal width (cm)' en el entrenamiento es: 3.06\n",
      "\n",
      "Proporción de clases en y_train:\n",
      "species\n",
      "1    0.333333\n",
      "0    0.333333\n",
      "2    0.333333\n",
      "Name: proportion, dtype: float64\n",
      "\n",
      "Proporción de clases en y_test:\n",
      "species\n",
      "2    0.333333\n",
      "1    0.333333\n",
      "0    0.333333\n",
      "Name: proportion, dtype: float64\n"
     ]
    }
   ],
   "source": [
    "# Espacio para resolver los desafíos\n",
    "\n",
    "# Desafío 2: Promedio de 'sepal width (cm)' en X_train\n",
    "mean_sepal_width_train = X_train['sepal width (cm)'].mean()\n",
    "print(f\"El promedio de 'sepal width (cm)' en el entrenamiento es: {mean_sepal_width_train:.2f}\")\n",
    "\n",
    "# Desafío 3: Comprobar la estratificación\n",
    "print(\"\\nProporción de clases en y_train:\")\n",
    "print(y_train.value_counts(normalize=True))\n",
    "\n",
    "print(\"\\nProporción de clases en y_test:\")\n",
    "print(y_test.value_counts(normalize=True))"
   ]
  },
  {
   "cell_type": "markdown",
   "metadata": {},
   "source": [
    "--- \n",
    "## ✏️ Ejercicios Adicionales para Completar\n",
    "\n",
    "Usa las celdas de código a continuación para resolver los siguientes ejercicios. El objetivo es que practiques y te familiarices con las operaciones que hemos aprendido.\n",
    "\n",
    "**1. Estadísticas Descriptivas:**\n",
    "   - Calcula la media, mediana y desviación estándar de la característica `sepal length (cm)` para todo el dataset.\n",
    "\n",
    "**2. Filtrado y Agrupación:**\n",
    "   - Filtra el DataFrame para seleccionar únicamente las flores de la especie `virginica`.\n",
    "   - Sobre este subconjunto de datos, calcula el valor promedio de `petal width (cm)`.\n",
    "\n",
    "**3. Creación de Histogramas:**\n",
    "   - Usando `matplotlib`, crea un histograma para la característica `sepal width (cm)`.\n",
    "   - Experimenta cambiando el número de `bins` (por ejemplo, a 10, 20 o 30) para ver cómo cambia la visualización de la distribución.\n",
    "\n",
    "**4. Otra Visualización:**\n",
    "   - Crea un nuevo gráfico de dispersión (scatter plot) que compare `sepal length (cm)` vs `sepal width (cm)`.\n",
    "   - Asegúrate de colorear los puntos según la especie y de añadir una leyenda y etiquetas a los ejes.\n",
    "\n",
    "**5. Búsqueda por Condición:**\n",
    "   - ¿Cuántas flores en el dataset tienen un `petal length (cm)` mayor que 6.0? Crea un nuevo DataFrame que contenga solo estas flores.\n",
    "\n",
    "**6. Re-división de Datos:**\n",
    "   - Realiza un nuevo `train_test_split` sobre `X` e `y`.\n",
    "   - Esta vez, utiliza un `test_size` del 33% (`0.33`) y un `random_state` de `100`.\n",
    "   - Imprime las dimensiones de los nuevos conjuntos para verificar el resultado.\n",
    "\n",
    "**7. Ingeniería de Características Simple:**\n",
    "   - Crea una nueva columna en `iris_df` llamada `petal_area`.\n",
    "   - El valor de esta columna debe ser el resultado de multiplicar `petal length (cm)` por `petal width (cm)`.\n",
    "   - ¿Cuál es la media del área del pétalo (`petal_area`) para todo el dataset?\n",
    "\n",
    "**8. Análisis de Correlación:**\n",
    "   - Calcula la matriz de correlación para las cuatro características numéricas (`X`).\n",
    "   - (Pista: los DataFrames de pandas tienen un método `.corr()`).\n",
    "   - ¿Qué par de características tiene la correlación positiva más alta? ¿Qué significa esto?\n",
    "\n",
    "**9. El Efecto de la Estratificación:**\n",
    "   - Realiza un `train_test_split` pero esta vez **sin** el parámetro `stratify=y`.\n",
    "   - Compara la distribución de clases (usando `value_counts(normalize=True)`) en el `y_train` y `y_test` resultantes con la que obtuvimos en el ejercicio guiado (que sí usaba estratificación).\n",
    "   - ¿Notas alguna diferencia importante? ¿Por qué la estratificación es útil?\n",
    "\n",
    "**10. Generalizando el Proceso:**\n",
    "   - `scikit-learn` tiene otros datasets. Carga el dataset de vinos (`load_wine`).\n",
    "   - Conviértelo en un DataFrame de pandas como hicimos con Iris.\n",
    "   - Realiza los 3 primeros pasos de la exploración de datos: muestra las primeras filas (`.head()`), obtén la información general (`.info()`) y el resumen estadístico (`.describe()`)."
   ]
  },
  {
   "cell_type": "markdown",
   "metadata": {},
   "source": [
    "----------\n",
    "\n",
    "**1. Estadísticas Descriptivas:**\n",
    "   - Calcula la media, mediana y desviación estándar de la característica `sepal length (cm)` para todo el dataset."
   ]
  },
  {
   "cell_type": "code",
   "execution_count": 15,
   "metadata": {},
   "outputs": [
    {
     "name": "stdout",
     "output_type": "stream",
     "text": [
      "Media de 'sepal length (cm)': 5.84\n",
      "Mediana de 'sepal length (cm)': 5.80\n",
      "Desviación estándar de 'sepal length (cm)': 0.83\n",
      "\n",
      "\n"
     ]
    }
   ],
   "source": [
    "# Ejercicio 1:\n",
    "media_sepal_length = iris_df['sepal length (cm)'].mean()\n",
    "mediana_sepal_length = iris_df['sepal length (cm)'].median()\n",
    "std_sepal_length = iris_df['sepal length (cm)'].std()\n",
    "\n",
    "print(f\"Media de 'sepal length (cm)': {media_sepal_length:.2f}\")\n",
    "print(f\"Mediana de 'sepal length (cm)': {mediana_sepal_length:.2f}\")\n",
    "print(f\"Desviación estándar de 'sepal length (cm)': {std_sepal_length:.2f}\")\n",
    "print(\"\\n\")"
   ]
  },
  {
   "cell_type": "markdown",
   "metadata": {},
   "source": [
    "----------\n",
    "\n",
    "**2. Filtrado y Agrupación:**\n",
    "   - Filtra el DataFrame para seleccionar únicamente las flores de la especie `virginica`.\n",
    "   - Sobre este subconjunto de datos, calcula el valor promedio de `petal width (cm)`."
   ]
  },
  {
   "cell_type": "code",
   "execution_count": 16,
   "metadata": {},
   "outputs": [
    {
     "name": "stdout",
     "output_type": "stream",
     "text": [
      "Promedio de 'petal width (cm)' para virginica: 2.03\n",
      "\n",
      "\n"
     ]
    }
   ],
   "source": [
    "# Ejercicio 2:\n",
    "virginica_df = iris_df[iris_df['species_name'] == 'virginica']\n",
    "mean_petal_width_virginica = virginica_df['petal width (cm)'].mean()\n",
    "\n",
    "print(f\"Promedio de 'petal width (cm)' para virginica: {mean_petal_width_virginica:.2f}\")\n",
    "print(\"\\n\")\n"
   ]
  },
  {
   "cell_type": "markdown",
   "metadata": {},
   "source": [
    "----------\n",
    "\n",
    "**3. Creación de Histogramas:**\n",
    "   - Usando `matplotlib`, crea un histograma para la característica `sepal width (cm)`.\n",
    "   - Experimenta cambiando el número de `bins` (por ejemplo, a 10, 20 o 30) para ver cómo cambia la visualización de la distribución.\n",
    "\n",
    "`IMPORTANTE`:\n",
    "\n",
    "Un histograma es un gráfico que muestra cómo se distribuyen los valores de una variable numérica. Divide el rango de valores en intervalos (bins) y cuenta cuántos datos caen en cada uno.\n",
    "\n",
    "¿Cómo se lee?\n",
    "* El eje X muestra los intervalos de valores de la variable.\n",
    "* El eje Y muestra la frecuencia (cantidad de datos) en cada intervalo.\n",
    "* Cada barra representa cuántos datos hay en ese rango.\n",
    "* Así, puedes ver si los datos están concentrados en ciertos valores, si hay simetría, sesgo, o valores atípicos.\n"
   ]
  },
  {
   "cell_type": "code",
   "execution_count": 23,
   "metadata": {},
   "outputs": [
    {
     "data": {
      "image/png": "[encoded data removed]",
      "text/plain": [
       "<Figure size 800x400 with 1 Axes>"
      ]
     },
     "metadata": {},
     "output_type": "display_data"
    },
    {
     "data": {
      "image/png": "[encoded data removed]",
      "text/plain": [
       "<Figure size 800x400 with 1 Axes>"
      ]
     },
     "metadata": {},
     "output_type": "display_data"
    },
    {
     "data": {
      "image/png": "[encoded data removed]",
      "text/plain": [
       "<Figure size 800x400 with 1 Axes>"
      ]
     },
     "metadata": {},
     "output_type": "display_data"
    }
   ],
   "source": [
    "# 10 bins\n",
    "plt.figure(figsize=(8, 4))\n",
    "plt.hist(iris_df['sepal width (cm)'], bins=10, color='skyblue', edgecolor='black')\n",
    "plt.title(\"Histograma de 'sepal width (cm)' (10 bins)\")\n",
    "plt.xlabel('sepal width (cm)')\n",
    "plt.ylabel('Frecuencia')\n",
    "plt.show()\n",
    "\n",
    "# 20 bins\n",
    "plt.figure(figsize=(8, 4))\n",
    "plt.hist(iris_df['sepal width (cm)'], bins=20, color='lightgreen', edgecolor='black')\n",
    "plt.title(\"Histograma de 'sepal width (cm)' (20 bins)\")\n",
    "plt.xlabel('sepal width (cm)')\n",
    "plt.ylabel('Frecuencia')\n",
    "plt.show()\n",
    "\n",
    "# 30 bins\n",
    "plt.figure(figsize=(8, 4))\n",
    "plt.hist(iris_df['sepal width (cm)'], bins=30, color='salmon', edgecolor='black')\n",
    "plt.title(\"Histograma de 'sepal width (cm)' (30 bins)\")\n",
    "plt.xlabel('sepal width (cm)')\n",
    "plt.ylabel('Frecuencia')\n",
    "plt.show()\n"
   ]
  },
  {
   "cell_type": "markdown",
   "metadata": {},
   "source": [
    "----------\n",
    "\n",
    "**4. Otra Visualización:**\n",
    "   - Crea un nuevo gráfico de dispersión (scatter plot) que compare `sepal length (cm)` vs `sepal width (cm)`.\n",
    "   - Asegúrate de colorear los puntos según la especie y de añadir una leyenda y etiquetas a los ejes.\n",
    "\n",
    "`IMPORTANTE`:\n",
    "\n",
    "Un gráfico de dispersión (scatter plot) es un gráfico que muestra la relación entre dos variables numéricas. Cada punto representa una observación, con su posición determinada por los valores de ambas variables (eje X y eje Y).\n",
    "\n",
    "¿Cómo se lee?\n",
    "* El eje X representa una variable y el eje Y la otra.\n",
    "* Cada punto es un dato del conjunto.\n",
    "* Permite ver si existe alguna relación, tendencia, agrupamiento o patrón entre las dos variables (por ejemplo, si al aumentar una, la otra también aumenta).\n",
    "* Si los puntos se agrupan siguiendo una línea o curva, indica que hay relación entre las variables. Si están dispersos sin patrón, no hay relación clara."
   ]
  },
  {
   "cell_type": "code",
   "execution_count": 24,
   "metadata": {},
   "outputs": [
    {
     "data": {
      "image/png": "[encoded data removed]",
      "text/plain": [
       "<Figure size 800x600 with 1 Axes>"
      ]
     },
     "metadata": {},
     "output_type": "display_data"
    },
    {
     "name": "stdout",
     "output_type": "stream",
     "text": [
      "\n",
      "\n"
     ]
    }
   ],
   "source": [
    "fig, ax = plt.subplots(figsize=(8, 6))\n",
    "\n",
    "colors = {'setosa': 'red', 'versicolor': 'green', 'virginica': 'blue'}\n",
    "\n",
    "for species, group in iris_df.groupby('species_name'):\n",
    "    ax.scatter(group['sepal length (cm)'], group['sepal width (cm)'],\n",
    "               c=colors[species], label=species, alpha=0.7)\n",
    "\n",
    "ax.set_xlabel('sepal length (cm)')\n",
    "ax.set_ylabel('sepal width (cm)')\n",
    "ax.set_title('Relación entre sepal length (cm) vs sepal width (cm)')\n",
    "ax.legend()\n",
    "ax.grid(True)\n",
    "plt.show()\n",
    "print(\"\\n\")\n"
   ]
  },
  {
   "cell_type": "markdown",
   "metadata": {},
   "source": [
    "----------\n",
    "\n",
    "**5. Búsqueda por Condición:**\n",
    "   - ¿Cuántas flores en el dataset tienen un `petal length (cm)` mayor que 6.0? Crea un nuevo DataFrame que contenga solo estas flores."
   ]
  },
  {
   "cell_type": "code",
   "execution_count": 26,
   "metadata": {},
   "outputs": [
    {
     "name": "stdout",
     "output_type": "stream",
     "text": [
      "Cant. de flores con 'petal length (cm)' > 6.0: 9\n",
      "\n",
      "\n"
     ]
    }
   ],
   "source": [
    "petal_length_mayor_6 = iris_df[iris_df['petal length (cm)'] > 6.0]\n",
    "\n",
    "print(f\"Cant. de flores con 'petal length (cm)' > 6.0: {petal_length_mayor_6.shape[0]}\")\n",
    "petal_length_mayor_6.head()\n",
    "print(\"\\n\")"
   ]
  },
  {
   "cell_type": "markdown",
   "metadata": {},
   "source": [
    "----------\n",
    "\n",
    "**6. Re-división de Datos:**\n",
    "   - Realiza un nuevo `train_test_split` sobre `X` e `y`.\n",
    "   - Esta vez, utiliza un `test_size` del 33% (`0.33`) y un `random_state` de `100`.\n",
    "   - Imprime las dimensiones de los nuevos conjuntos para verificar el resultado.\n",
    "\n",
    "`IMPORTANTE`:\n",
    "\n",
    "*train_test_split* divide los datos en conjuntos de entrenamiento y prueba. Específicamente:\n",
    "* X_train2 y y_train2 contienen el 67% de los datos (para entrenar el modelo).\n",
    "* X_test2 y y_test2 contienen el 33% de los datos (para probar el modelo).\n",
    "* random_state=100 asegura que la división sea siempre igual si se repite el código.\n",
    "* stratify=y garantiza que la proporción de cada clase en *y* se mantenga igual en ambos conjuntos.\n",
    "\n",
    "En resumen: separa X e y en entrenamiento y prueba, manteniendo la distribución de clases."
   ]
  },
  {
   "cell_type": "code",
   "execution_count": 27,
   "metadata": {},
   "outputs": [
    {
     "name": "stdout",
     "output_type": "stream",
     "text": [
      "Dimensiones de X_train2: (100, 4)\n",
      "Dimensiones de X_test2: (50, 4)\n",
      "Dimensiones de y_train2: (100,)\n",
      "Dimensiones de y_test2: (50,)\n",
      "\n",
      "\n"
     ]
    }
   ],
   "source": [
    "from sklearn.model_selection import train_test_split\n",
    "\n",
    "X_train2, X_test2, y_train2, y_test2 = train_test_split(X, y, test_size=0.33, random_state=100, stratify=y)\n",
    "\n",
    "print(\"Dimensiones de X_train2:\", X_train2.shape)\n",
    "print(\"Dimensiones de X_test2:\", X_test2.shape)\n",
    "print(\"Dimensiones de y_train2:\", y_train2.shape)\n",
    "print(\"Dimensiones de y_test2:\", y_test2.shape)\n",
    "print(\"\\n\")"
   ]
  },
  {
   "cell_type": "markdown",
   "metadata": {},
   "source": [
    "----------\n",
    "\n",
    "**7. Ingeniería de Características Simple:**\n",
    "   - Crea una nueva columna en `iris_df` llamada `petal_area`.\n",
    "   - El valor de esta columna debe ser el resultado de multiplicar `petal length (cm)` por `petal width (cm)`.\n",
    "   - ¿Cuál es la media del área del pétalo (`petal_area`) para todo el dataset?"
   ]
  },
  {
   "cell_type": "code",
   "execution_count": 28,
   "metadata": {},
   "outputs": [
    {
     "name": "stdout",
     "output_type": "stream",
     "text": [
      "Media del área del pétalo (petal_area): 5.79\n",
      "\n",
      "\n"
     ]
    }
   ],
   "source": [
    "iris_df['petal_area'] = iris_df['petal length (cm)'] * iris_df['petal width (cm)']\n",
    "\n",
    "mean_petal_area = iris_df['petal_area'].mean()\n",
    "\n",
    "print(f\"Media del área del pétalo (petal_area): {mean_petal_area:.2f}\")\n",
    "print(\"\\n\")"
   ]
  },
  {
   "cell_type": "markdown",
   "metadata": {},
   "source": [
    "----------\n",
    "\n",
    "**8. Análisis de Correlación:**\n",
    "   - Calcula la matriz de correlación para las cuatro características numéricas (`X`).\n",
    "   - (Pista: los DataFrames de pandas tienen un método `.corr()`).\n",
    "   - ¿Qué par de características tiene la correlación positiva más alta? ¿Qué significa esto?\n",
    "\n",
    "`IMPORTANTE`: \n",
    "\n",
    "La correlación mide la relación lineal entre dos variables numéricas. Su valor va de -1 a 1:\n",
    "* Si la correlación es cercana a 1, significa que cuando una variable aumenta, la otra también tiende a aumentar (relación positiva fuerte).\n",
    "* Si es cercana a -1, cuando una variable aumenta, la otra tiende a disminuir (relación negativa fuerte).\n",
    "* Si es cercana a 0, no hay relación lineal clara entre las variables.\n",
    "\n",
    "En la matriz de correlación, cada celda muestra el valor de correlación entre dos variables. Se lee buscando pares de variables con valores altos (positivos o negativos), lo que indica que están fuertemente relacionadas."
   ]
  },
  {
   "cell_type": "code",
   "execution_count": 29,
   "metadata": {},
   "outputs": [
    {
     "name": "stdout",
     "output_type": "stream",
     "text": [
      "Matriz de correlación:\n"
     ]
    },
    {
     "data": {
      "text/html": [
       "<div>\n",
       "<style scoped>\n",
       "    .dataframe tbody tr th:only-of-type {\n",
       "        vertical-align: middle;\n",
       "    }\n",
       "\n",
       "    .dataframe tbody tr th {\n",
       "        vertical-align: top;\n",
       "    }\n",
       "\n",
       "    .dataframe thead th {\n",
       "        text-align: right;\n",
       "    }\n",
       "</style>\n",
       "<table border=\"1\" class=\"dataframe\">\n",
       "  <thead>\n",
       "    <tr style=\"text-align: right;\">\n",
       "      <th></th>\n",
       "      <th>sepal length (cm)</th>\n",
       "      <th>sepal width (cm)</th>\n",
       "      <th>petal length (cm)</th>\n",
       "      <th>petal width (cm)</th>\n",
       "    </tr>\n",
       "  </thead>\n",
       "  <tbody>\n",
       "    <tr>\n",
       "      <th>sepal length (cm)</th>\n",
       "      <td>1.000000</td>\n",
       "      <td>-0.117570</td>\n",
       "      <td>0.871754</td>\n",
       "      <td>0.817941</td>\n",
       "    </tr>\n",
       "    <tr>\n",
       "      <th>sepal width (cm)</th>\n",
       "      <td>-0.117570</td>\n",
       "      <td>1.000000</td>\n",
       "      <td>-0.428440</td>\n",
       "      <td>-0.366126</td>\n",
       "    </tr>\n",
       "    <tr>\n",
       "      <th>petal length (cm)</th>\n",
       "      <td>0.871754</td>\n",
       "      <td>-0.428440</td>\n",
       "      <td>1.000000</td>\n",
       "      <td>0.962865</td>\n",
       "    </tr>\n",
       "    <tr>\n",
       "      <th>petal width (cm)</th>\n",
       "      <td>0.817941</td>\n",
       "      <td>-0.366126</td>\n",
       "      <td>0.962865</td>\n",
       "      <td>1.000000</td>\n",
       "    </tr>\n",
       "  </tbody>\n",
       "</table>\n",
       "</div>"
      ],
      "text/plain": [
       "                   sepal length (cm)  sepal width (cm)  petal length (cm)  \\\n",
       "sepal length (cm)           1.000000         -0.117570           0.871754   \n",
       "sepal width (cm)           -0.117570          1.000000          -0.428440   \n",
       "petal length (cm)           0.871754         -0.428440           1.000000   \n",
       "petal width (cm)            0.817941         -0.366126           0.962865   \n",
       "\n",
       "                   petal width (cm)  \n",
       "sepal length (cm)          0.817941  \n",
       "sepal width (cm)          -0.366126  \n",
       "petal length (cm)          0.962865  \n",
       "petal width (cm)           1.000000  "
      ]
     },
     "metadata": {},
     "output_type": "display_data"
    },
    {
     "name": "stdout",
     "output_type": "stream",
     "text": [
      "\n",
      "El par de características con la correlación positiva más alta es: ('petal length (cm)', 'petal width (cm)') (0.96)\n",
      "\n",
      "Conclusión:\n",
      "Esto significa que estas dos variables parecen aumentar juntas.\n",
      "\n",
      "\n"
     ]
    }
   ],
   "source": [
    "correlation_mat = X.corr()\n",
    "\n",
    "print(\"Matriz de correlación:\")\n",
    "display(correlation_mat)\n",
    "\n",
    "# Hay que excluir la diagonal porque en una matriz de correlación la diagonal representa la \n",
    "# correlación de cada variable consigo misma, que siempre es 1 (correlación perfecta).\n",
    "corr_pairs = correlation_mat.where(~np.eye(correlation_mat.shape[0],dtype=bool))\n",
    "max_corr = corr_pairs.max().max()\n",
    "max_pair = corr_pairs.stack().idxmax()\n",
    "\n",
    "print(f\"\\nEl par de características con la correlación positiva más alta es: {max_pair} ({max_corr:.2f})\")\n",
    "print(\"\\nConclusión:\")\n",
    "print(\"Esto significa que estas dos variables parecen aumentar juntas.\")\n",
    "print(\"\\n\")\n"
   ]
  },
  {
   "cell_type": "markdown",
   "metadata": {},
   "source": [
    "----------\n",
    "\n",
    "**9. El Efecto de la Estratificación:**\n",
    "   - Realiza un `train_test_split` pero esta vez **sin** el parámetro `stratify=y`.\n",
    "   - Compara la distribución de clases (usando `value_counts(normalize=True)`) en el `y_train` y `y_test` resultantes con la que obtuvimos en el ejercicio guiado (que sí usaba estratificación).\n",
    "   - ¿Notas alguna diferencia importante? ¿Por qué la estratificación es útil?"
   ]
  },
  {
   "cell_type": "code",
   "execution_count": 34,
   "metadata": {},
   "outputs": [
    {
     "name": "stdout",
     "output_type": "stream",
     "text": [
      "Proporción de clases en y_train:\n",
      ">>> Con estratificación: species\n",
      "1    0.34\n",
      "0    0.33\n",
      "2    0.33\n",
      "Name: proportion, dtype: float64\n",
      ">>> Sin estratificar: species\n",
      "1    0.38\n",
      "2    0.32\n",
      "0    0.30\n",
      "Name: proportion, dtype: float64\n",
      "\n",
      "Proporción de clases en y_test:\n",
      ">>> Con estratificación: species\n",
      "0    0.34\n",
      "2    0.34\n",
      "1    0.32\n",
      "Name: proportion, dtype: float64\n",
      ">>> Sin estratificar: species\n",
      "0    0.40\n",
      "2    0.36\n",
      "1    0.24\n",
      "Name: proportion, dtype: float64\n",
      "\n",
      "Conclusión:\n",
      "Sin estratificación, la distribución de los datos en y_train y en y_test es dispareja.\n",
      "\n",
      "\n"
     ]
    }
   ],
   "source": [
    "# X_train2, X_test2, y_train2, y_test2 = train_test_split(X, y, test_size=0.33, random_state=100, stratify=y)\n",
    "X_train_ss, X_test_ss, y_train_ss, y_test_ss = train_test_split(X, y, test_size=0.33, random_state=100)\n",
    "\n",
    "print(\"Proporción de clases en y_train:\")\n",
    "print(f\">>> Con estratificación: {y_train2.value_counts(normalize=True)}\")\n",
    "print(f\">>> Sin estratificar: {y_train_ss.value_counts(normalize=True)}\")\n",
    "\n",
    "print(\"\\nProporción de clases en y_test:\")\n",
    "print(f\">>> Con estratificación: {y_test2.value_counts(normalize=True)}\")\n",
    "print(f\">>> Sin estratificar: {y_test_ss.value_counts(normalize=True)}\")\n",
    "\n",
    "print(\"\\nConclusión:\")\n",
    "print(\"Sin estratificación, la distribución de los datos en y_train y en y_test es dispareja.\")\n",
    "print(\"\\n\")"
   ]
  },
  {
   "cell_type": "markdown",
   "metadata": {},
   "source": [
    "----------\n",
    "\n",
    "**10. Generalizando el Proceso:**\n",
    "   - `scikit-learn` tiene otros datasets. Carga el dataset de vinos (`load_wine`).\n",
    "   - Conviértelo en un DataFrame de pandas como hicimos con Iris.\n",
    "   - Realiza los 3 primeros pasos de la exploración de datos: muestra las primeras filas (`.head()`), obtén la información general (`.info()`) y el resumen estadístico (`.describe()`)."
   ]
  },
  {
   "cell_type": "code",
   "execution_count": 35,
   "metadata": {
    "ExecuteTime": {
     "end_time": "2025-06-10T19:30:10.961371Z",
     "start_time": "2025-06-10T19:30:10.959654Z"
    }
   },
   "outputs": [
    {
     "name": "stdout",
     "output_type": "stream",
     "text": [
      "Primeras 5 filas del dataset de vinos:\n"
     ]
    },
    {
     "data": {
      "text/html": [
       "<div>\n",
       "<style scoped>\n",
       "    .dataframe tbody tr th:only-of-type {\n",
       "        vertical-align: middle;\n",
       "    }\n",
       "\n",
       "    .dataframe tbody tr th {\n",
       "        vertical-align: top;\n",
       "    }\n",
       "\n",
       "    .dataframe thead th {\n",
       "        text-align: right;\n",
       "    }\n",
       "</style>\n",
       "<table border=\"1\" class=\"dataframe\">\n",
       "  <thead>\n",
       "    <tr style=\"text-align: right;\">\n",
       "      <th></th>\n",
       "      <th>alcohol</th>\n",
       "      <th>malic_acid</th>\n",
       "      <th>ash</th>\n",
       "      <th>alcalinity_of_ash</th>\n",
       "      <th>magnesium</th>\n",
       "      <th>total_phenols</th>\n",
       "      <th>flavanoids</th>\n",
       "      <th>nonflavanoid_phenols</th>\n",
       "      <th>proanthocyanins</th>\n",
       "      <th>color_intensity</th>\n",
       "      <th>hue</th>\n",
       "      <th>od280/od315_of_diluted_wines</th>\n",
       "      <th>proline</th>\n",
       "      <th>target</th>\n",
       "    </tr>\n",
       "  </thead>\n",
       "  <tbody>\n",
       "    <tr>\n",
       "      <th>0</th>\n",
       "      <td>14.23</td>\n",
       "      <td>1.71</td>\n",
       "      <td>2.43</td>\n",
       "      <td>15.6</td>\n",
       "      <td>127.0</td>\n",
       "      <td>2.80</td>\n",
       "      <td>3.06</td>\n",
       "      <td>0.28</td>\n",
       "      <td>2.29</td>\n",
       "      <td>5.64</td>\n",
       "      <td>1.04</td>\n",
       "      <td>3.92</td>\n",
       "      <td>1065.0</td>\n",
       "      <td>0</td>\n",
       "    </tr>\n",
       "    <tr>\n",
       "      <th>1</th>\n",
       "      <td>13.20</td>\n",
       "      <td>1.78</td>\n",
       "      <td>2.14</td>\n",
       "      <td>11.2</td>\n",
       "      <td>100.0</td>\n",
       "      <td>2.65</td>\n",
       "      <td>2.76</td>\n",
       "      <td>0.26</td>\n",
       "      <td>1.28</td>\n",
       "      <td>4.38</td>\n",
       "      <td>1.05</td>\n",
       "      <td>3.40</td>\n",
       "      <td>1050.0</td>\n",
       "      <td>0</td>\n",
       "    </tr>\n",
       "    <tr>\n",
       "      <th>2</th>\n",
       "      <td>13.16</td>\n",
       "      <td>2.36</td>\n",
       "      <td>2.67</td>\n",
       "      <td>18.6</td>\n",
       "      <td>101.0</td>\n",
       "      <td>2.80</td>\n",
       "      <td>3.24</td>\n",
       "      <td>0.30</td>\n",
       "      <td>2.81</td>\n",
       "      <td>5.68</td>\n",
       "      <td>1.03</td>\n",
       "      <td>3.17</td>\n",
       "      <td>1185.0</td>\n",
       "      <td>0</td>\n",
       "    </tr>\n",
       "    <tr>\n",
       "      <th>3</th>\n",
       "      <td>14.37</td>\n",
       "      <td>1.95</td>\n",
       "      <td>2.50</td>\n",
       "      <td>16.8</td>\n",
       "      <td>113.0</td>\n",
       "      <td>3.85</td>\n",
       "      <td>3.49</td>\n",
       "      <td>0.24</td>\n",
       "      <td>2.18</td>\n",
       "      <td>7.80</td>\n",
       "      <td>0.86</td>\n",
       "      <td>3.45</td>\n",
       "      <td>1480.0</td>\n",
       "      <td>0</td>\n",
       "    </tr>\n",
       "    <tr>\n",
       "      <th>4</th>\n",
       "      <td>13.24</td>\n",
       "      <td>2.59</td>\n",
       "      <td>2.87</td>\n",
       "      <td>21.0</td>\n",
       "      <td>118.0</td>\n",
       "      <td>2.80</td>\n",
       "      <td>2.69</td>\n",
       "      <td>0.39</td>\n",
       "      <td>1.82</td>\n",
       "      <td>4.32</td>\n",
       "      <td>1.04</td>\n",
       "      <td>2.93</td>\n",
       "      <td>735.0</td>\n",
       "      <td>0</td>\n",
       "    </tr>\n",
       "  </tbody>\n",
       "</table>\n",
       "</div>"
      ],
      "text/plain": [
       "   alcohol  malic_acid   ash  alcalinity_of_ash  magnesium  total_phenols  \\\n",
       "0    14.23        1.71  2.43               15.6      127.0           2.80   \n",
       "1    13.20        1.78  2.14               11.2      100.0           2.65   \n",
       "2    13.16        2.36  2.67               18.6      101.0           2.80   \n",
       "3    14.37        1.95  2.50               16.8      113.0           3.85   \n",
       "4    13.24        2.59  2.87               21.0      118.0           2.80   \n",
       "\n",
       "   flavanoids  nonflavanoid_phenols  proanthocyanins  color_intensity   hue  \\\n",
       "0        3.06                  0.28             2.29             5.64  1.04   \n",
       "1        2.76                  0.26             1.28             4.38  1.05   \n",
       "2        3.24                  0.30             2.81             5.68  1.03   \n",
       "3        3.49                  0.24             2.18             7.80  0.86   \n",
       "4        2.69                  0.39             1.82             4.32  1.04   \n",
       "\n",
       "   od280/od315_of_diluted_wines  proline  target  \n",
       "0                          3.92   1065.0       0  \n",
       "1                          3.40   1050.0       0  \n",
       "2                          3.17   1185.0       0  \n",
       "3                          3.45   1480.0       0  \n",
       "4                          2.93    735.0       0  "
      ]
     },
     "metadata": {},
     "output_type": "display_data"
    },
    {
     "name": "stdout",
     "output_type": "stream",
     "text": [
      "\n",
      "Información general del dataset de vinos:\n",
      "<class 'pandas.core.frame.DataFrame'>\n",
      "RangeIndex: 178 entries, 0 to 177\n",
      "Data columns (total 14 columns):\n",
      " #   Column                        Non-Null Count  Dtype  \n",
      "---  ------                        --------------  -----  \n",
      " 0   alcohol                       178 non-null    float64\n",
      " 1   malic_acid                    178 non-null    float64\n",
      " 2   ash                           178 non-null    float64\n",
      " 3   alcalinity_of_ash             178 non-null    float64\n",
      " 4   magnesium                     178 non-null    float64\n",
      " 5   total_phenols                 178 non-null    float64\n",
      " 6   flavanoids                    178 non-null    float64\n",
      " 7   nonflavanoid_phenols          178 non-null    float64\n",
      " 8   proanthocyanins               178 non-null    float64\n",
      " 9   color_intensity               178 non-null    float64\n",
      " 10  hue                           178 non-null    float64\n",
      " 11  od280/od315_of_diluted_wines  178 non-null    float64\n",
      " 12  proline                       178 non-null    float64\n",
      " 13  target                        178 non-null    int32  \n",
      "dtypes: float64(13), int32(1)\n",
      "memory usage: 18.9 KB\n",
      "\n",
      "Resumen estadístico del dataset de vinos:\n"
     ]
    },
    {
     "data": {
      "text/html": [
       "<div>\n",
       "<style scoped>\n",
       "    .dataframe tbody tr th:only-of-type {\n",
       "        vertical-align: middle;\n",
       "    }\n",
       "\n",
       "    .dataframe tbody tr th {\n",
       "        vertical-align: top;\n",
       "    }\n",
       "\n",
       "    .dataframe thead th {\n",
       "        text-align: right;\n",
       "    }\n",
       "</style>\n",
       "<table border=\"1\" class=\"dataframe\">\n",
       "  <thead>\n",
       "    <tr style=\"text-align: right;\">\n",
       "      <th></th>\n",
       "      <th>alcohol</th>\n",
       "      <th>malic_acid</th>\n",
       "      <th>ash</th>\n",
       "      <th>alcalinity_of_ash</th>\n",
       "      <th>magnesium</th>\n",
       "      <th>total_phenols</th>\n",
       "      <th>flavanoids</th>\n",
       "      <th>nonflavanoid_phenols</th>\n",
       "      <th>proanthocyanins</th>\n",
       "      <th>color_intensity</th>\n",
       "      <th>hue</th>\n",
       "      <th>od280/od315_of_diluted_wines</th>\n",
       "      <th>proline</th>\n",
       "      <th>target</th>\n",
       "    </tr>\n",
       "  </thead>\n",
       "  <tbody>\n",
       "    <tr>\n",
       "      <th>count</th>\n",
       "      <td>178.000000</td>\n",
       "      <td>178.000000</td>\n",
       "      <td>178.000000</td>\n",
       "      <td>178.000000</td>\n",
       "      <td>178.000000</td>\n",
       "      <td>178.000000</td>\n",
       "      <td>178.000000</td>\n",
       "      <td>178.000000</td>\n",
       "      <td>178.000000</td>\n",
       "      <td>178.000000</td>\n",
       "      <td>178.000000</td>\n",
       "      <td>178.000000</td>\n",
       "      <td>178.000000</td>\n",
       "      <td>178.000000</td>\n",
       "    </tr>\n",
       "    <tr>\n",
       "      <th>mean</th>\n",
       "      <td>13.000618</td>\n",
       "      <td>2.336348</td>\n",
       "      <td>2.366517</td>\n",
       "      <td>19.494944</td>\n",
       "      <td>99.741573</td>\n",
       "      <td>2.295112</td>\n",
       "      <td>2.029270</td>\n",
       "      <td>0.361854</td>\n",
       "      <td>1.590899</td>\n",
       "      <td>5.058090</td>\n",
       "      <td>0.957449</td>\n",
       "      <td>2.611685</td>\n",
       "      <td>746.893258</td>\n",
       "      <td>0.938202</td>\n",
       "    </tr>\n",
       "    <tr>\n",
       "      <th>std</th>\n",
       "      <td>0.811827</td>\n",
       "      <td>1.117146</td>\n",
       "      <td>0.274344</td>\n",
       "      <td>3.339564</td>\n",
       "      <td>14.282484</td>\n",
       "      <td>0.625851</td>\n",
       "      <td>0.998859</td>\n",
       "      <td>0.124453</td>\n",
       "      <td>0.572359</td>\n",
       "      <td>2.318286</td>\n",
       "      <td>0.228572</td>\n",
       "      <td>0.709990</td>\n",
       "      <td>314.907474</td>\n",
       "      <td>0.775035</td>\n",
       "    </tr>\n",
       "    <tr>\n",
       "      <th>min</th>\n",
       "      <td>11.030000</td>\n",
       "      <td>0.740000</td>\n",
       "      <td>1.360000</td>\n",
       "      <td>10.600000</td>\n",
       "      <td>70.000000</td>\n",
       "      <td>0.980000</td>\n",
       "      <td>0.340000</td>\n",
       "      <td>0.130000</td>\n",
       "      <td>0.410000</td>\n",
       "      <td>1.280000</td>\n",
       "      <td>0.480000</td>\n",
       "      <td>1.270000</td>\n",
       "      <td>278.000000</td>\n",
       "      <td>0.000000</td>\n",
       "    </tr>\n",
       "    <tr>\n",
       "      <th>25%</th>\n",
       "      <td>12.362500</td>\n",
       "      <td>1.602500</td>\n",
       "      <td>2.210000</td>\n",
       "      <td>17.200000</td>\n",
       "      <td>88.000000</td>\n",
       "      <td>1.742500</td>\n",
       "      <td>1.205000</td>\n",
       "      <td>0.270000</td>\n",
       "      <td>1.250000</td>\n",
       "      <td>3.220000</td>\n",
       "      <td>0.782500</td>\n",
       "      <td>1.937500</td>\n",
       "      <td>500.500000</td>\n",
       "      <td>0.000000</td>\n",
       "    </tr>\n",
       "    <tr>\n",
       "      <th>50%</th>\n",
       "      <td>13.050000</td>\n",
       "      <td>1.865000</td>\n",
       "      <td>2.360000</td>\n",
       "      <td>19.500000</td>\n",
       "      <td>98.000000</td>\n",
       "      <td>2.355000</td>\n",
       "      <td>2.135000</td>\n",
       "      <td>0.340000</td>\n",
       "      <td>1.555000</td>\n",
       "      <td>4.690000</td>\n",
       "      <td>0.965000</td>\n",
       "      <td>2.780000</td>\n",
       "      <td>673.500000</td>\n",
       "      <td>1.000000</td>\n",
       "    </tr>\n",
       "    <tr>\n",
       "      <th>75%</th>\n",
       "      <td>13.677500</td>\n",
       "      <td>3.082500</td>\n",
       "      <td>2.557500</td>\n",
       "      <td>21.500000</td>\n",
       "      <td>107.000000</td>\n",
       "      <td>2.800000</td>\n",
       "      <td>2.875000</td>\n",
       "      <td>0.437500</td>\n",
       "      <td>1.950000</td>\n",
       "      <td>6.200000</td>\n",
       "      <td>1.120000</td>\n",
       "      <td>3.170000</td>\n",
       "      <td>985.000000</td>\n",
       "      <td>2.000000</td>\n",
       "    </tr>\n",
       "    <tr>\n",
       "      <th>max</th>\n",
       "      <td>14.830000</td>\n",
       "      <td>5.800000</td>\n",
       "      <td>3.230000</td>\n",
       "      <td>30.000000</td>\n",
       "      <td>162.000000</td>\n",
       "      <td>3.880000</td>\n",
       "      <td>5.080000</td>\n",
       "      <td>0.660000</td>\n",
       "      <td>3.580000</td>\n",
       "      <td>13.000000</td>\n",
       "      <td>1.710000</td>\n",
       "      <td>4.000000</td>\n",
       "      <td>1680.000000</td>\n",
       "      <td>2.000000</td>\n",
       "    </tr>\n",
       "  </tbody>\n",
       "</table>\n",
       "</div>"
      ],
      "text/plain": [
       "          alcohol  malic_acid         ash  alcalinity_of_ash   magnesium  \\\n",
       "count  178.000000  178.000000  178.000000         178.000000  178.000000   \n",
       "mean    13.000618    2.336348    2.366517          19.494944   99.741573   \n",
       "std      0.811827    1.117146    0.274344           3.339564   14.282484   \n",
       "min     11.030000    0.740000    1.360000          10.600000   70.000000   \n",
       "25%     12.362500    1.602500    2.210000          17.200000   88.000000   \n",
       "50%     13.050000    1.865000    2.360000          19.500000   98.000000   \n",
       "75%     13.677500    3.082500    2.557500          21.500000  107.000000   \n",
       "max     14.830000    5.800000    3.230000          30.000000  162.000000   \n",
       "\n",
       "       total_phenols  flavanoids  nonflavanoid_phenols  proanthocyanins  \\\n",
       "count     178.000000  178.000000            178.000000       178.000000   \n",
       "mean        2.295112    2.029270              0.361854         1.590899   \n",
       "std         0.625851    0.998859              0.124453         0.572359   \n",
       "min         0.980000    0.340000              0.130000         0.410000   \n",
       "25%         1.742500    1.205000              0.270000         1.250000   \n",
       "50%         2.355000    2.135000              0.340000         1.555000   \n",
       "75%         2.800000    2.875000              0.437500         1.950000   \n",
       "max         3.880000    5.080000              0.660000         3.580000   \n",
       "\n",
       "       color_intensity         hue  od280/od315_of_diluted_wines      proline  \\\n",
       "count       178.000000  178.000000                    178.000000   178.000000   \n",
       "mean          5.058090    0.957449                      2.611685   746.893258   \n",
       "std           2.318286    0.228572                      0.709990   314.907474   \n",
       "min           1.280000    0.480000                      1.270000   278.000000   \n",
       "25%           3.220000    0.782500                      1.937500   500.500000   \n",
       "50%           4.690000    0.965000                      2.780000   673.500000   \n",
       "75%           6.200000    1.120000                      3.170000   985.000000   \n",
       "max          13.000000    1.710000                      4.000000  1680.000000   \n",
       "\n",
       "           target  \n",
       "count  178.000000  \n",
       "mean     0.938202  \n",
       "std      0.775035  \n",
       "min      0.000000  \n",
       "25%      0.000000  \n",
       "50%      1.000000  \n",
       "75%      2.000000  \n",
       "max      2.000000  "
      ]
     },
     "metadata": {},
     "output_type": "display_data"
    },
    {
     "name": "stdout",
     "output_type": "stream",
     "text": [
      "\n",
      "\n"
     ]
    }
   ],
   "source": [
    "from sklearn.datasets import load_wine\n",
    "\n",
    "# Carga de dataset de vinos\n",
    "wine_raw = load_wine()\n",
    "\n",
    "# Convertir a DataFrame\n",
    "wine_df = pd.DataFrame(data=wine_raw.data, columns=wine_raw.feature_names)\n",
    "wine_df['target'] = wine_raw.target\n",
    "\n",
    "# 1. Mostrar las primeras filas\n",
    "print(\"Primeras 5 filas del dataset de vinos:\")\n",
    "display(wine_df.head())\n",
    "\n",
    "# 2. Información general\n",
    "print(\"\\nInformación general del dataset de vinos:\")\n",
    "wine_df.info()\n",
    "\n",
    "# 3. Resumen estadístico\n",
    "print(\"\\nResumen estadístico del dataset de vinos:\")\n",
    "display(wine_df.describe())\n",
    "print(\"\\n\")"
   ]
  }
 ],
 "metadata": {
  "kernelspec": {
   "display_name": "Python 3",
   "language": "python",
   "name": "python3"
  },
  "language_info": {
   "codemirror_mode": {
    "name": "ipython",
    "version": 3
   },
   "file_extension": ".py",
   "mimetype": "text/x-python",
   "name": "python",
   "nbconvert_exporter": "python",
   "pygments_lexer": "ipython3",
   "version": "3.11.9"
  }
 },
 "nbformat": 4,
 "nbformat_minor": 4
}
