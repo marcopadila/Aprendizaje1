{
 "cells": [
  {
   "cell_type": "code",
   "execution_count": 1,
   "id": "JVgeG8VnCn2K",
   "metadata": {
    "id": "JVgeG8VnCn2K"
   },
   "outputs": [],
   "source": [
    "# Importación de Librerías Esenciales\n",
    "\n",
    "import numpy as np\n",
    "import pandas as pd\n",
    "import plotly.express as px\n",
    "import plotly.graph_objects as go\n",
    "import matplotlib.pyplot as plt\n",
    "\n",
    "from sklearn.datasets import fetch_openml\n",
    "from sklearn.model_selection import train_test_split, KFold, cross_val_score, GridSearchCV\n",
    "from sklearn.preprocessing import StandardScaler\n",
    "from sklearn.linear_model import LinearRegression, Ridge, Lasso, RidgeCV, LassoCV\n",
    "from sklearn.metrics import mean_squared_error, mean_absolute_error, r2_score\n"
   ]
  },
  {
   "cell_type": "markdown",
   "id": "Xlq_PwqkCn2N",
   "metadata": {
    "id": "Xlq_PwqkCn2N"
   },
   "source": [
    "<div class=\"alert alert-block alert-info\">\n",
    "    <h1>Taller Práctico: Regresión Lineal, Ridge y Lasso</h1>\n",
    "    <p><strong>Objetivos de la sesión:</strong></p>\n",
    "    <ul>\n",
    "        <li>Aplicar los conceptos de regresión lineal en un problema práctico.</li>\n",
    "        <li>Implementar y comparar modelos de Regresión Lineal, Ridge y Lasso.</li>\n",
    "        <li>Utilizar la validación cruzada para encontrar el hiperparámetro de regularización óptimo.</li>\n",
    "        <li>Evaluar el rendimiento de los modelos utilizando métricas como MSE, MAE y R².</li>\n",
    "    </ul>\n",
    "    <p><strong>Dataset:</strong> Utilizaremos el dataset \"Ames Housing\", que contiene información sobre la venta de casas en Ames, Iowa. Nuestro objetivo será predecir el precio de venta (<code>SalePrice</code>) de las casas.</p>\n",
    "</div>"
   ]
  },
  {
   "cell_type": "markdown",
   "id": "q43DIERcCn2O",
   "metadata": {
    "id": "q43DIERcCn2O"
   },
   "source": [
    "### 1. Carga y Exploración de Datos (EDA)\n",
    "\n",
    "<p>El primer paso en cualquier proyecto de Machine Learning es entender nuestros datos. Cargaremos el dataset, veremos su estructura y realizaremos algunas visualizaciones iniciales.</p>"
   ]
  },
  {
   "cell_type": "code",
   "execution_count": 2,
   "id": "sVKpIUd1Cn2O",
   "metadata": {
    "id": "sVKpIUd1Cn2O"
   },
   "outputs": [
    {
     "name": "stdout",
     "output_type": "stream",
     "text": [
      "\n",
      "Dimensiones del subconjunto de datos: (1460, 7)\n",
      "\n",
      "Descripción estadística del subconjunto:\n",
      "         GrLivArea  OverallQual    YearBuilt  TotalBsmtSF     FullBath  \\\n",
      "count  1460.000000  1460.000000  1460.000000  1460.000000  1460.000000   \n",
      "mean   1515.463699     6.099315  1971.267808  1057.429452     1.565068   \n",
      "std     525.480383     1.382997    30.202904   438.705324     0.550916   \n",
      "min     334.000000     1.000000  1872.000000     0.000000     0.000000   \n",
      "25%    1129.500000     5.000000  1954.000000   795.750000     1.000000   \n",
      "50%    1464.000000     6.000000  1973.000000   991.500000     2.000000   \n",
      "75%    1776.750000     7.000000  2000.000000  1298.250000     2.000000   \n",
      "max    5642.000000    10.000000  2010.000000  6110.000000     3.000000   \n",
      "\n",
      "        GarageCars      SalePrice  \n",
      "count  1460.000000    1460.000000  \n",
      "mean      1.767123  180921.195890  \n",
      "std       0.747315   79442.502883  \n",
      "min       0.000000   34900.000000  \n",
      "25%       1.000000  129975.000000  \n",
      "50%       2.000000  163000.000000  \n",
      "75%       2.000000  214000.000000  \n",
      "max       4.000000  755000.000000  \n"
     ]
    }
   ],
   "source": [
    "# Cargar el dataset Ames Housing desde OpenML\n",
    "housing = fetch_openml(name=\"house_prices\", as_frame=True)\n",
    "df = housing.frame\n",
    "\n",
    "# Seleccionamos un subconjunto de características numéricas para simplificar el taller\n",
    "# y la variable objetivo 'SalePrice'\n",
    "numeric_features = ['GrLivArea', 'OverallQual', 'YearBuilt', 'TotalBsmtSF', 'FullBath', 'GarageCars']\n",
    "target_variable = 'SalePrice'\n",
    "\n",
    "# Creamos un DataFrame más pequeño y manejamos valores faltantes de forma simple\n",
    "df_subset = df[numeric_features + [target_variable]].dropna()\n",
    "\n",
    "print(f\"\\nDimensiones del subconjunto de datos: {df_subset.shape}\")\n",
    "print(\"\\nDescripción estadística del subconjunto:\")\n",
    "print(df_subset.describe())"
   ]
  },
  {
   "cell_type": "markdown",
   "id": "PKgRKIIDCn2P",
   "metadata": {
    "id": "PKgRKIIDCn2P"
   },
   "source": [
    "<p>Ahora, visualicemos la distribución de nuestra variable objetivo y la relación entre el área de la vivienda y su precio. La distribución de precios está sesgada, por lo que una transformación logarítmica será útil.</p>"
   ]
  },
  {
   "cell_type": "code",
   "execution_count": 3,
   "id": "-sj-Mr1JCn2P",
   "metadata": {
    "id": "-sj-Mr1JCn2P"
   },
   "outputs": [
    {
     "data": {
      "application/vnd.plotly.v1+json": {
       "config": {
        "plotlyServerURL": "https://plot.ly"
       },
       "data": [
        {
         "bingroup": "x",
         "hovertemplate": "SalePrice=%{x}<br>count=%{y}<extra></extra>",
         "legendgroup": "",
         "marker": {
          "color": "#636efa",
          "pattern": {
           "shape": ""
          }
         },
         "name": "",
         "nbinsx": 50,
         "orientation": "v",
         "showlegend": false,
         "type": "histogram",
         "x": {
          "bdata": "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",
          "dtype": "i4"
         },
         "xaxis": "x",
         "yaxis": "y"
        }
       ],
       "layout": {
        "barmode": "relative",
        "legend": {
         "tracegroupgap": 0
        },
        "template": {
         "data": {
          "bar": [
           {
            "error_x": {
             "color": "#2a3f5f"
            },
            "error_y": {
             "color": "#2a3f5f"
            },
            "marker": {
             "line": {
              "color": "#E5ECF6",
              "width": 0.5
             },
             "pattern": {
              "fillmode": "overlay",
              "size": 10,
              "solidity": 0.2
             }
            },
            "type": "bar"
           }
          ],
          "barpolar": [
           {
            "marker": {
             "line": {
              "color": "#E5ECF6",
              "width": 0.5
             },
             "pattern": {
              "fillmode": "overlay",
              "size": 10,
              "solidity": 0.2
             }
            },
            "type": "barpolar"
           }
          ],
          "carpet": [
           {
            "aaxis": {
             "endlinecolor": "#2a3f5f",
             "gridcolor": "white",
             "linecolor": "white",
             "minorgridcolor": "white",
             "startlinecolor": "#2a3f5f"
            },
            "baxis": {
             "endlinecolor": "#2a3f5f",
             "gridcolor": "white",
             "linecolor": "white",
             "minorgridcolor": "white",
             "startlinecolor": "#2a3f5f"
            },
            "type": "carpet"
           }
          ],
          "choropleth": [
           {
            "colorbar": {
             "outlinewidth": 0,
             "ticks": ""
            },
            "type": "choropleth"
           }
          ],
          "contour": [
           {
            "colorbar": {
             "outlinewidth": 0,
             "ticks": ""
            },
            "colorscale": [
             [
              0,
              "#0d0887"
             ],
             [
              0.1111111111111111,
              "#46039f"
             ],
             [
              0.2222222222222222,
              "#7201a8"
             ],
             [
              0.3333333333333333,
              "#9c179e"
             ],
             [
              0.4444444444444444,
              "#bd3786"
             ],
             [
              0.5555555555555556,
              "#d8576b"
             ],
             [
              0.6666666666666666,
              "#ed7953"
             ],
             [
              0.7777777777777778,
              "#fb9f3a"
             ],
             [
              0.8888888888888888,
              "#fdca26"
             ],
             [
              1,
              "#f0f921"
             ]
            ],
            "type": "contour"
           }
          ],
          "contourcarpet": [
           {
            "colorbar": {
             "outlinewidth": 0,
             "ticks": ""
            },
            "type": "contourcarpet"
           }
          ],
          "heatmap": [
           {
            "colorbar": {
             "outlinewidth": 0,
             "ticks": ""
            },
            "colorscale": [
             [
              0,
              "#0d0887"
             ],
             [
              0.1111111111111111,
              "#46039f"
             ],
             [
              0.2222222222222222,
              "#7201a8"
             ],
             [
              0.3333333333333333,
              "#9c179e"
             ],
             [
              0.4444444444444444,
              "#bd3786"
             ],
             [
              0.5555555555555556,
              "#d8576b"
             ],
             [
              0.6666666666666666,
              "#ed7953"
             ],
             [
              0.7777777777777778,
              "#fb9f3a"
             ],
             [
              0.8888888888888888,
              "#fdca26"
             ],
             [
              1,
              "#f0f921"
             ]
            ],
            "type": "heatmap"
           }
          ],
          "histogram": [
           {
            "marker": {
             "pattern": {
              "fillmode": "overlay",
              "size": 10,
              "solidity": 0.2
             }
            },
            "type": "histogram"
           }
          ],
          "histogram2d": [
           {
            "colorbar": {
             "outlinewidth": 0,
             "ticks": ""
            },
            "colorscale": [
             [
              0,
              "#0d0887"
             ],
             [
              0.1111111111111111,
              "#46039f"
             ],
             [
              0.2222222222222222,
              "#7201a8"
             ],
             [
              0.3333333333333333,
              "#9c179e"
             ],
             [
              0.4444444444444444,
              "#bd3786"
             ],
             [
              0.5555555555555556,
              "#d8576b"
             ],
             [
              0.6666666666666666,
              "#ed7953"
             ],
             [
              0.7777777777777778,
              "#fb9f3a"
             ],
             [
              0.8888888888888888,
              "#fdca26"
             ],
             [
              1,
              "#f0f921"
             ]
            ],
            "type": "histogram2d"
           }
          ],
          "histogram2dcontour": [
           {
            "colorbar": {
             "outlinewidth": 0,
             "ticks": ""
            },
            "colorscale": [
             [
              0,
              "#0d0887"
             ],
             [
              0.1111111111111111,
              "#46039f"
             ],
             [
              0.2222222222222222,
              "#7201a8"
             ],
             [
              0.3333333333333333,
              "#9c179e"
             ],
             [
              0.4444444444444444,
              "#bd3786"
             ],
             [
              0.5555555555555556,
              "#d8576b"
             ],
             [
              0.6666666666666666,
              "#ed7953"
             ],
             [
              0.7777777777777778,
              "#fb9f3a"
             ],
             [
              0.8888888888888888,
              "#fdca26"
             ],
             [
              1,
              "#f0f921"
             ]
            ],
            "type": "histogram2dcontour"
           }
          ],
          "mesh3d": [
           {
            "colorbar": {
             "outlinewidth": 0,
             "ticks": ""
            },
            "type": "mesh3d"
           }
          ],
          "parcoords": [
           {
            "line": {
             "colorbar": {
              "outlinewidth": 0,
              "ticks": ""
             }
            },
            "type": "parcoords"
           }
          ],
          "pie": [
           {
            "automargin": true,
            "type": "pie"
           }
          ],
          "scatter": [
           {
            "fillpattern": {
             "fillmode": "overlay",
             "size": 10,
             "solidity": 0.2
            },
            "type": "scatter"
           }
          ],
          "scatter3d": [
           {
            "line": {
             "colorbar": {
              "outlinewidth": 0,
              "ticks": ""
             }
            },
            "marker": {
             "colorbar": {
              "outlinewidth": 0,
              "ticks": ""
             }
            },
            "type": "scatter3d"
           }
          ],
          "scattercarpet": [
           {
            "marker": {
             "colorbar": {
              "outlinewidth": 0,
              "ticks": ""
             }
            },
            "type": "scattercarpet"
           }
          ],
          "scattergeo": [
           {
            "marker": {
             "colorbar": {
              "outlinewidth": 0,
              "ticks": ""
             }
            },
            "type": "scattergeo"
           }
          ],
          "scattergl": [
           {
            "marker": {
             "colorbar": {
              "outlinewidth": 0,
              "ticks": ""
             }
            },
            "type": "scattergl"
           }
          ],
          "scattermap": [
           {
            "marker": {
             "colorbar": {
              "outlinewidth": 0,
              "ticks": ""
             }
            },
            "type": "scattermap"
           }
          ],
          "scattermapbox": [
           {
            "marker": {
             "colorbar": {
              "outlinewidth": 0,
              "ticks": ""
             }
            },
            "type": "scattermapbox"
           }
          ],
          "scatterpolar": [
           {
            "marker": {
             "colorbar": {
              "outlinewidth": 0,
              "ticks": ""
             }
            },
            "type": "scatterpolar"
           }
          ],
          "scatterpolargl": [
           {
            "marker": {
             "colorbar": {
              "outlinewidth": 0,
              "ticks": ""
             }
            },
            "type": "scatterpolargl"
           }
          ],
          "scatterternary": [
           {
            "marker": {
             "colorbar": {
              "outlinewidth": 0,
              "ticks": ""
             }
            },
            "type": "scatterternary"
           }
          ],
          "surface": [
           {
            "colorbar": {
             "outlinewidth": 0,
             "ticks": ""
            },
            "colorscale": [
             [
              0,
              "#0d0887"
             ],
             [
              0.1111111111111111,
              "#46039f"
             ],
             [
              0.2222222222222222,
              "#7201a8"
             ],
             [
              0.3333333333333333,
              "#9c179e"
             ],
             [
              0.4444444444444444,
              "#bd3786"
             ],
             [
              0.5555555555555556,
              "#d8576b"
             ],
             [
              0.6666666666666666,
              "#ed7953"
             ],
             [
              0.7777777777777778,
              "#fb9f3a"
             ],
             [
              0.8888888888888888,
              "#fdca26"
             ],
             [
              1,
              "#f0f921"
             ]
            ],
            "type": "surface"
           }
          ],
          "table": [
           {
            "cells": {
             "fill": {
              "color": "#EBF0F8"
             },
             "line": {
              "color": "white"
             }
            },
            "header": {
             "fill": {
              "color": "#C8D4E3"
             },
             "line": {
              "color": "white"
             }
            },
            "type": "table"
           }
          ]
         },
         "layout": {
          "annotationdefaults": {
           "arrowcolor": "#2a3f5f",
           "arrowhead": 0,
           "arrowwidth": 1
          },
          "autotypenumbers": "strict",
          "coloraxis": {
           "colorbar": {
            "outlinewidth": 0,
            "ticks": ""
           }
          },
          "colorscale": {
           "diverging": [
            [
             0,
             "#8e0152"
            ],
            [
             0.1,
             "#c51b7d"
            ],
            [
             0.2,
             "#de77ae"
            ],
            [
             0.3,
             "#f1b6da"
            ],
            [
             0.4,
             "#fde0ef"
            ],
            [
             0.5,
             "#f7f7f7"
            ],
            [
             0.6,
             "#e6f5d0"
            ],
            [
             0.7,
             "#b8e186"
            ],
            [
             0.8,
             "#7fbc41"
            ],
            [
             0.9,
             "#4d9221"
            ],
            [
             1,
             "#276419"
            ]
           ],
           "sequential": [
            [
             0,
             "#0d0887"
            ],
            [
             0.1111111111111111,
             "#46039f"
            ],
            [
             0.2222222222222222,
             "#7201a8"
            ],
            [
             0.3333333333333333,
             "#9c179e"
            ],
            [
             0.4444444444444444,
             "#bd3786"
            ],
            [
             0.5555555555555556,
             "#d8576b"
            ],
            [
             0.6666666666666666,
             "#ed7953"
            ],
            [
             0.7777777777777778,
             "#fb9f3a"
            ],
            [
             0.8888888888888888,
             "#fdca26"
            ],
            [
             1,
             "#f0f921"
            ]
           ],
           "sequentialminus": [
            [
             0,
             "#0d0887"
            ],
            [
             0.1111111111111111,
             "#46039f"
            ],
            [
             0.2222222222222222,
             "#7201a8"
            ],
            [
             0.3333333333333333,
             "#9c179e"
            ],
            [
             0.4444444444444444,
             "#bd3786"
            ],
            [
             0.5555555555555556,
             "#d8576b"
            ],
            [
             0.6666666666666666,
             "#ed7953"
            ],
            [
             0.7777777777777778,
             "#fb9f3a"
            ],
            [
             0.8888888888888888,
             "#fdca26"
            ],
            [
             1,
             "#f0f921"
            ]
           ]
          },
          "colorway": [
           "#636efa",
           "#EF553B",
           "#00cc96",
           "#ab63fa",
           "#FFA15A",
           "#19d3f3",
           "#FF6692",
           "#B6E880",
           "#FF97FF",
           "#FECB52"
          ],
          "font": {
           "color": "#2a3f5f"
          },
          "geo": {
           "bgcolor": "white",
           "lakecolor": "white",
           "landcolor": "#E5ECF6",
           "showlakes": true,
           "showland": true,
           "subunitcolor": "white"
          },
          "hoverlabel": {
           "align": "left"
          },
          "hovermode": "closest",
          "mapbox": {
           "style": "light"
          },
          "paper_bgcolor": "white",
          "plot_bgcolor": "#E5ECF6",
          "polar": {
           "angularaxis": {
            "gridcolor": "white",
            "linecolor": "white",
            "ticks": ""
           },
           "bgcolor": "#E5ECF6",
           "radialaxis": {
            "gridcolor": "white",
            "linecolor": "white",
            "ticks": ""
           }
          },
          "scene": {
           "xaxis": {
            "backgroundcolor": "#E5ECF6",
            "gridcolor": "white",
            "gridwidth": 2,
            "linecolor": "white",
            "showbackground": true,
            "ticks": "",
            "zerolinecolor": "white"
           },
           "yaxis": {
            "backgroundcolor": "#E5ECF6",
            "gridcolor": "white",
            "gridwidth": 2,
            "linecolor": "white",
            "showbackground": true,
            "ticks": "",
            "zerolinecolor": "white"
           },
           "zaxis": {
            "backgroundcolor": "#E5ECF6",
            "gridcolor": "white",
            "gridwidth": 2,
            "linecolor": "white",
            "showbackground": true,
            "ticks": "",
            "zerolinecolor": "white"
           }
          },
          "shapedefaults": {
           "line": {
            "color": "#2a3f5f"
           }
          },
          "ternary": {
           "aaxis": {
            "gridcolor": "white",
            "linecolor": "white",
            "ticks": ""
           },
           "baxis": {
            "gridcolor": "white",
            "linecolor": "white",
            "ticks": ""
           },
           "bgcolor": "#E5ECF6",
           "caxis": {
            "gridcolor": "white",
            "linecolor": "white",
            "ticks": ""
           }
          },
          "title": {
           "x": 0.05
          },
          "xaxis": {
           "automargin": true,
           "gridcolor": "white",
           "linecolor": "white",
           "ticks": "",
           "title": {
            "standoff": 15
           },
           "zerolinecolor": "white",
           "zerolinewidth": 2
          },
          "yaxis": {
           "automargin": true,
           "gridcolor": "white",
           "linecolor": "white",
           "ticks": "",
           "title": {
            "standoff": 15
           },
           "zerolinecolor": "white",
           "zerolinewidth": 2
          }
         }
        },
        "title": {
         "text": "Distribución del Precio de Venta de las Casas (Original)"
        },
        "xaxis": {
         "anchor": "y",
         "domain": [
          0,
          1
         ],
         "title": {
          "text": "Precio de Venta (USD)"
         }
        },
        "yaxis": {
         "anchor": "x",
         "domain": [
          0,
          1
         ],
         "title": {
          "text": "Frecuencia"
         }
        }
       }
      }
     },
     "metadata": {},
     "output_type": "display_data"
    },
    {
     "data": {
      "application/vnd.plotly.v1+json": {
       "config": {
        "plotlyServerURL": "https://plot.ly"
       },
       "data": [
        {
         "bingroup": "x",
         "hovertemplate": "x=%{x}<br>count=%{y}<extra></extra>",
         "legendgroup": "",
         "marker": {
          "color": "#636efa",
          "pattern": {
           "shape": ""
          }
         },
         "name": "",
         "nbinsx": 50,
         "orientation": "v",
         "showlegend": false,
         "type": "histogram",
         "x": {
          "bdata": "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",
          "dtype": "f8"
         },
         "xaxis": "x",
         "yaxis": "y"
        }
       ],
       "layout": {
        "barmode": "relative",
        "legend": {
         "tracegroupgap": 0
        },
        "template": {
         "data": {
          "bar": [
           {
            "error_x": {
             "color": "#2a3f5f"
            },
            "error_y": {
             "color": "#2a3f5f"
            },
            "marker": {
             "line": {
              "color": "#E5ECF6",
              "width": 0.5
             },
             "pattern": {
              "fillmode": "overlay",
              "size": 10,
              "solidity": 0.2
             }
            },
            "type": "bar"
           }
          ],
          "barpolar": [
           {
            "marker": {
             "line": {
              "color": "#E5ECF6",
              "width": 0.5
             },
             "pattern": {
              "fillmode": "overlay",
              "size": 10,
              "solidity": 0.2
             }
            },
            "type": "barpolar"
           }
          ],
          "carpet": [
           {
            "aaxis": {
             "endlinecolor": "#2a3f5f",
             "gridcolor": "white",
             "linecolor": "white",
             "minorgridcolor": "white",
             "startlinecolor": "#2a3f5f"
            },
            "baxis": {
             "endlinecolor": "#2a3f5f",
             "gridcolor": "white",
             "linecolor": "white",
             "minorgridcolor": "white",
             "startlinecolor": "#2a3f5f"
            },
            "type": "carpet"
           }
          ],
          "choropleth": [
           {
            "colorbar": {
             "outlinewidth": 0,
             "ticks": ""
            },
            "type": "choropleth"
           }
          ],
          "contour": [
           {
            "colorbar": {
             "outlinewidth": 0,
             "ticks": ""
            },
            "colorscale": [
             [
              0,
              "#0d0887"
             ],
             [
              0.1111111111111111,
              "#46039f"
             ],
             [
              0.2222222222222222,
              "#7201a8"
             ],
             [
              0.3333333333333333,
              "#9c179e"
             ],
             [
              0.4444444444444444,
              "#bd3786"
             ],
             [
              0.5555555555555556,
              "#d8576b"
             ],
             [
              0.6666666666666666,
              "#ed7953"
             ],
             [
              0.7777777777777778,
              "#fb9f3a"
             ],
             [
              0.8888888888888888,
              "#fdca26"
             ],
             [
              1,
              "#f0f921"
             ]
            ],
            "type": "contour"
           }
          ],
          "contourcarpet": [
           {
            "colorbar": {
             "outlinewidth": 0,
             "ticks": ""
            },
            "type": "contourcarpet"
           }
          ],
          "heatmap": [
           {
            "colorbar": {
             "outlinewidth": 0,
             "ticks": ""
            },
            "colorscale": [
             [
              0,
              "#0d0887"
             ],
             [
              0.1111111111111111,
              "#46039f"
             ],
             [
              0.2222222222222222,
              "#7201a8"
             ],
             [
              0.3333333333333333,
              "#9c179e"
             ],
             [
              0.4444444444444444,
              "#bd3786"
             ],
             [
              0.5555555555555556,
              "#d8576b"
             ],
             [
              0.6666666666666666,
              "#ed7953"
             ],
             [
              0.7777777777777778,
              "#fb9f3a"
             ],
             [
              0.8888888888888888,
              "#fdca26"
             ],
             [
              1,
              "#f0f921"
             ]
            ],
            "type": "heatmap"
           }
          ],
          "histogram": [
           {
            "marker": {
             "pattern": {
              "fillmode": "overlay",
              "size": 10,
              "solidity": 0.2
             }
            },
            "type": "histogram"
           }
          ],
          "histogram2d": [
           {
            "colorbar": {
             "outlinewidth": 0,
             "ticks": ""
            },
            "colorscale": [
             [
              0,
              "#0d0887"
             ],
             [
              0.1111111111111111,
              "#46039f"
             ],
             [
              0.2222222222222222,
              "#7201a8"
             ],
             [
              0.3333333333333333,
              "#9c179e"
             ],
             [
              0.4444444444444444,
              "#bd3786"
             ],
             [
              0.5555555555555556,
              "#d8576b"
             ],
             [
              0.6666666666666666,
              "#ed7953"
             ],
             [
              0.7777777777777778,
              "#fb9f3a"
             ],
             [
              0.8888888888888888,
              "#fdca26"
             ],
             [
              1,
              "#f0f921"
             ]
            ],
            "type": "histogram2d"
           }
          ],
          "histogram2dcontour": [
           {
            "colorbar": {
             "outlinewidth": 0,
             "ticks": ""
            },
            "colorscale": [
             [
              0,
              "#0d0887"
             ],
             [
              0.1111111111111111,
              "#46039f"
             ],
             [
              0.2222222222222222,
              "#7201a8"
             ],
             [
              0.3333333333333333,
              "#9c179e"
             ],
             [
              0.4444444444444444,
              "#bd3786"
             ],
             [
              0.5555555555555556,
              "#d8576b"
             ],
             [
              0.6666666666666666,
              "#ed7953"
             ],
             [
              0.7777777777777778,
              "#fb9f3a"
             ],
             [
              0.8888888888888888,
              "#fdca26"
             ],
             [
              1,
              "#f0f921"
             ]
            ],
            "type": "histogram2dcontour"
           }
          ],
          "mesh3d": [
           {
            "colorbar": {
             "outlinewidth": 0,
             "ticks": ""
            },
            "type": "mesh3d"
           }
          ],
          "parcoords": [
           {
            "line": {
             "colorbar": {
              "outlinewidth": 0,
              "ticks": ""
             }
            },
            "type": "parcoords"
           }
          ],
          "pie": [
           {
            "automargin": true,
            "type": "pie"
           }
          ],
          "scatter": [
           {
            "fillpattern": {
             "fillmode": "overlay",
             "size": 10,
             "solidity": 0.2
            },
            "type": "scatter"
           }
          ],
          "scatter3d": [
           {
            "line": {
             "colorbar": {
              "outlinewidth": 0,
              "ticks": ""
             }
            },
            "marker": {
             "colorbar": {
              "outlinewidth": 0,
              "ticks": ""
             }
            },
            "type": "scatter3d"
           }
          ],
          "scattercarpet": [
           {
            "marker": {
             "colorbar": {
              "outlinewidth": 0,
              "ticks": ""
             }
            },
            "type": "scattercarpet"
           }
          ],
          "scattergeo": [
           {
            "marker": {
             "colorbar": {
              "outlinewidth": 0,
              "ticks": ""
             }
            },
            "type": "scattergeo"
           }
          ],
          "scattergl": [
           {
            "marker": {
             "colorbar": {
              "outlinewidth": 0,
              "ticks": ""
             }
            },
            "type": "scattergl"
           }
          ],
          "scattermap": [
           {
            "marker": {
             "colorbar": {
              "outlinewidth": 0,
              "ticks": ""
             }
            },
            "type": "scattermap"
           }
          ],
          "scattermapbox": [
           {
            "marker": {
             "colorbar": {
              "outlinewidth": 0,
              "ticks": ""
             }
            },
            "type": "scattermapbox"
           }
          ],
          "scatterpolar": [
           {
            "marker": {
             "colorbar": {
              "outlinewidth": 0,
              "ticks": ""
             }
            },
            "type": "scatterpolar"
           }
          ],
          "scatterpolargl": [
           {
            "marker": {
             "colorbar": {
              "outlinewidth": 0,
              "ticks": ""
             }
            },
            "type": "scatterpolargl"
           }
          ],
          "scatterternary": [
           {
            "marker": {
             "colorbar": {
              "outlinewidth": 0,
              "ticks": ""
             }
            },
            "type": "scatterternary"
           }
          ],
          "surface": [
           {
            "colorbar": {
             "outlinewidth": 0,
             "ticks": ""
            },
            "colorscale": [
             [
              0,
              "#0d0887"
             ],
             [
              0.1111111111111111,
              "#46039f"
             ],
             [
              0.2222222222222222,
              "#7201a8"
             ],
             [
              0.3333333333333333,
              "#9c179e"
             ],
             [
              0.4444444444444444,
              "#bd3786"
             ],
             [
              0.5555555555555556,
              "#d8576b"
             ],
             [
              0.6666666666666666,
              "#ed7953"
             ],
             [
              0.7777777777777778,
              "#fb9f3a"
             ],
             [
              0.8888888888888888,
              "#fdca26"
             ],
             [
              1,
              "#f0f921"
             ]
            ],
            "type": "surface"
           }
          ],
          "table": [
           {
            "cells": {
             "fill": {
              "color": "#EBF0F8"
             },
             "line": {
              "color": "white"
             }
            },
            "header": {
             "fill": {
              "color": "#C8D4E3"
             },
             "line": {
              "color": "white"
             }
            },
            "type": "table"
           }
          ]
         },
         "layout": {
          "annotationdefaults": {
           "arrowcolor": "#2a3f5f",
           "arrowhead": 0,
           "arrowwidth": 1
          },
          "autotypenumbers": "strict",
          "coloraxis": {
           "colorbar": {
            "outlinewidth": 0,
            "ticks": ""
           }
          },
          "colorscale": {
           "diverging": [
            [
             0,
             "#8e0152"
            ],
            [
             0.1,
             "#c51b7d"
            ],
            [
             0.2,
             "#de77ae"
            ],
            [
             0.3,
             "#f1b6da"
            ],
            [
             0.4,
             "#fde0ef"
            ],
            [
             0.5,
             "#f7f7f7"
            ],
            [
             0.6,
             "#e6f5d0"
            ],
            [
             0.7,
             "#b8e186"
            ],
            [
             0.8,
             "#7fbc41"
            ],
            [
             0.9,
             "#4d9221"
            ],
            [
             1,
             "#276419"
            ]
           ],
           "sequential": [
            [
             0,
             "#0d0887"
            ],
            [
             0.1111111111111111,
             "#46039f"
            ],
            [
             0.2222222222222222,
             "#7201a8"
            ],
            [
             0.3333333333333333,
             "#9c179e"
            ],
            [
             0.4444444444444444,
             "#bd3786"
            ],
            [
             0.5555555555555556,
             "#d8576b"
            ],
            [
             0.6666666666666666,
             "#ed7953"
            ],
            [
             0.7777777777777778,
             "#fb9f3a"
            ],
            [
             0.8888888888888888,
             "#fdca26"
            ],
            [
             1,
             "#f0f921"
            ]
           ],
           "sequentialminus": [
            [
             0,
             "#0d0887"
            ],
            [
             0.1111111111111111,
             "#46039f"
            ],
            [
             0.2222222222222222,
             "#7201a8"
            ],
            [
             0.3333333333333333,
             "#9c179e"
            ],
            [
             0.4444444444444444,
             "#bd3786"
            ],
            [
             0.5555555555555556,
             "#d8576b"
            ],
            [
             0.6666666666666666,
             "#ed7953"
            ],
            [
             0.7777777777777778,
             "#fb9f3a"
            ],
            [
             0.8888888888888888,
             "#fdca26"
            ],
            [
             1,
             "#f0f921"
            ]
           ]
          },
          "colorway": [
           "#636efa",
           "#EF553B",
           "#00cc96",
           "#ab63fa",
           "#FFA15A",
           "#19d3f3",
           "#FF6692",
           "#B6E880",
           "#FF97FF",
           "#FECB52"
          ],
          "font": {
           "color": "#2a3f5f"
          },
          "geo": {
           "bgcolor": "white",
           "lakecolor": "white",
           "landcolor": "#E5ECF6",
           "showlakes": true,
           "showland": true,
           "subunitcolor": "white"
          },
          "hoverlabel": {
           "align": "left"
          },
          "hovermode": "closest",
          "mapbox": {
           "style": "light"
          },
          "paper_bgcolor": "white",
          "plot_bgcolor": "#E5ECF6",
          "polar": {
           "angularaxis": {
            "gridcolor": "white",
            "linecolor": "white",
            "ticks": ""
           },
           "bgcolor": "#E5ECF6",
           "radialaxis": {
            "gridcolor": "white",
            "linecolor": "white",
            "ticks": ""
           }
          },
          "scene": {
           "xaxis": {
            "backgroundcolor": "#E5ECF6",
            "gridcolor": "white",
            "gridwidth": 2,
            "linecolor": "white",
            "showbackground": true,
            "ticks": "",
            "zerolinecolor": "white"
           },
           "yaxis": {
            "backgroundcolor": "#E5ECF6",
            "gridcolor": "white",
            "gridwidth": 2,
            "linecolor": "white",
            "showbackground": true,
            "ticks": "",
            "zerolinecolor": "white"
           },
           "zaxis": {
            "backgroundcolor": "#E5ECF6",
            "gridcolor": "white",
            "gridwidth": 2,
            "linecolor": "white",
            "showbackground": true,
            "ticks": "",
            "zerolinecolor": "white"
           }
          },
          "shapedefaults": {
           "line": {
            "color": "#2a3f5f"
           }
          },
          "ternary": {
           "aaxis": {
            "gridcolor": "white",
            "linecolor": "white",
            "ticks": ""
           },
           "baxis": {
            "gridcolor": "white",
            "linecolor": "white",
            "ticks": ""
           },
           "bgcolor": "#E5ECF6",
           "caxis": {
            "gridcolor": "white",
            "linecolor": "white",
            "ticks": ""
           }
          },
          "title": {
           "x": 0.05
          },
          "xaxis": {
           "automargin": true,
           "gridcolor": "white",
           "linecolor": "white",
           "ticks": "",
           "title": {
            "standoff": 15
           },
           "zerolinecolor": "white",
           "zerolinewidth": 2
          },
          "yaxis": {
           "automargin": true,
           "gridcolor": "white",
           "linecolor": "white",
           "ticks": "",
           "title": {
            "standoff": 15
           },
           "zerolinecolor": "white",
           "zerolinewidth": 2
          }
         }
        },
        "title": {
         "text": "Distribución del log(Precio de Venta)"
        },
        "xaxis": {
         "anchor": "y",
         "domain": [
          0,
          1
         ],
         "title": {
          "text": "log(1 + Precio de Venta)"
         }
        },
        "yaxis": {
         "anchor": "x",
         "domain": [
          0,
          1
         ],
         "title": {
          "text": "Frecuencia"
         }
        }
       }
      }
     },
     "metadata": {},
     "output_type": "display_data"
    }
   ],
   "source": [
    "# Ahora puedes mostrar los gráficos sin error\n",
    "fig_hist = px.histogram(df_subset, x='SalePrice', nbins=50, title='Distribución del Precio de Venta de las Casas (Original)')\n",
    "fig_hist.update_layout(xaxis_title='Precio de Venta (USD)', yaxis_title='Frecuencia')\n",
    "fig_hist.show()\n",
    "\n",
    "fig_hist_log = px.histogram(x=np.log1p(df_subset['SalePrice']), nbins=50, title='Distribución del log(Precio de Venta)')\n",
    "fig_hist_log.update_layout(xaxis_title='log(1 + Precio de Venta)', yaxis_title='Frecuencia')\n",
    "fig_hist_log.show()"
   ]
  },
  {
   "cell_type": "markdown",
   "id": "sQ7YA9fACn2P",
   "metadata": {
    "id": "sQ7YA9fACn2P"
   },
   "source": [
    "### 2. Preparación de Datos\n",
    "\n",
    "<p>Ahora aplicaremos los cambios necesarios: división de datos, transformación logarítmica del objetivo y escalado de características.</p>"
   ]
  },
  {
   "cell_type": "code",
   "execution_count": 4,
   "id": "mTa4Ct-uCn2P",
   "metadata": {
    "id": "mTa4Ct-uCn2P"
   },
   "outputs": [
    {
     "name": "stdout",
     "output_type": "stream",
     "text": [
      "Tamaño del set de entrenamiento: (1168, 6)\n",
      "Tamaño del set de prueba: (292, 6)\n"
     ]
    }
   ],
   "source": [
    "# 1. Definir características (X) y objetivo (y)\n",
    "X = df_subset[numeric_features]\n",
    "y_raw = df_subset[target_variable] # Guardamos el 'y' original para evaluación final\n",
    "\n",
    "# !! CAMBIO CLAVE !!\n",
    "# Aplicamos la transformación logarítmica a la variable objetivo 'y'\n",
    "# Esto estabiliza la varianza y normaliza la escala del problema.\n",
    "y = np.log1p(y_raw)\n",
    "\n",
    "# 2. Dividir en conjuntos de entrenamiento y prueba (80% entrenamiento, 20% prueba)\n",
    "X_train, X_test, y_train, y_test = train_test_split(X, y, test_size=0.2, random_state=42)\n",
    "\n",
    "print(f\"Tamaño del set de entrenamiento: {X_train.shape}\")\n",
    "print(f\"Tamaño del set de prueba: {X_test.shape}\")\n",
    "\n",
    "# 3. Escalar las características numéricas\n",
    "scaler = StandardScaler()\n",
    "\n",
    "# Ajustamos el escalador SOLO con los datos de entrenamiento para evitar fuga de datos (data leakage)\n",
    "X_train_scaled = scaler.fit_transform(X_train)\n",
    "# Aplicamos la misma transformación a los datos de prueba\n",
    "X_test_scaled = scaler.transform(X_test)\n",
    "\n",
    "# Convertimos los arrays de numpy de vuelta a DataFrames de pandas para mejor legibilidad\n",
    "X_train_scaled = pd.DataFrame(X_train_scaled, columns=numeric_features)\n",
    "X_test_scaled = pd.DataFrame(X_test_scaled, columns=numeric_features)"
   ]
  },
  {
   "cell_type": "markdown",
   "id": "mgyMAHyNCn2Q",
   "metadata": {
    "id": "mgyMAHyNCn2Q"
   },
   "source": [
    "### 3. Regresión Lineal (Mínimos Cuadrados Ordinarios)\n",
    "\n",
    "<p>Entrenamos nuestro modelo base con los datos transformados. El MSE será un número pequeño y manejable.</p>"
   ]
  },
  {
   "cell_type": "code",
   "execution_count": 5,
   "id": "QutSXzv6Cn2Q",
   "metadata": {
    "id": "QutSXzv6Cn2Q"
   },
   "outputs": [
    {
     "name": "stdout",
     "output_type": "stream",
     "text": [
      "--- Evaluación del Modelo de Regresión Lineal (OLS) ---\n",
      "Error Cuadrático Medio (MSE en escala log): 0.0303\n",
      "Coeficiente de Determinación (R²): 0.8375\n",
      "\n",
      "Coeficientes del modelo OLS:\n",
      "             Coeficiente_OLS\n",
      "GrLivArea           0.126585\n",
      "OverallQual         0.138404\n",
      "YearBuilt           0.074407\n",
      "TotalBsmtSF         0.044540\n",
      "FullBath           -0.006889\n",
      "GarageCars          0.071504\n"
     ]
    }
   ],
   "source": [
    "# Crear y entrenar el modelo de Regresión Lineal\n",
    "ols_model = LinearRegression()\n",
    "ols_model.fit(X_train_scaled, y_train)\n",
    "\n",
    "# Realizar predicciones en el conjunto de prueba (las predicciones estarán en escala logarítmica)\n",
    "y_pred_ols = ols_model.predict(X_test_scaled)\n",
    "\n",
    "# Evaluar el modelo\n",
    "mse_ols = mean_squared_error(y_test, y_pred_ols)\n",
    "r2_ols = r2_score(y_test, y_pred_ols)\n",
    "\n",
    "print(\"--- Evaluación del Modelo de Regresión Lineal (OLS) ---\")\n",
    "print(f\"Error Cuadrático Medio (MSE en escala log): {mse_ols:.4f}\")\n",
    "print(f\"Coeficiente de Determinación (R²): {r2_ols:.4f}\")\n",
    "\n",
    "# Ver los coeficientes del modelo\n",
    "coef_df = pd.DataFrame(ols_model.coef_, index=numeric_features, columns=['Coeficiente_OLS'])\n",
    "print(\"\\nCoeficientes del modelo OLS:\")\n",
    "print(coef_df)"
   ]
  },
  {
   "cell_type": "markdown",
   "id": "CRQlbm0CCn2Q",
   "metadata": {
    "id": "CRQlbm0CCn2Q"
   },
   "source": [
    "### 4. Regresión con Regularización: Ridge (L2) y Lasso (L1)\n",
    "\n",
    "<p>Con el objetivo ya transformado, ahora `alpha` tendrá el efecto esperado. Usaremos un valor pequeño para ver el contraste.</p>"
   ]
  },
  {
   "cell_type": "code",
   "execution_count": 6,
   "id": "_gJ__IM-Cn2Q",
   "metadata": {
    "id": "_gJ__IM-Cn2Q"
   },
   "outputs": [
    {
     "name": "stdout",
     "output_type": "stream",
     "text": [
      "--- Evaluación del Modelo Ridge (alpha=100.) ---\n",
      "Error Cuadrático Medio (MSE en escala log): 0.0310\n",
      "Coeficiente de Determinación (R²): 0.8340\n",
      "\n",
      "--- Evaluación del Modelo Lasso (alpha=0.1) ---\n",
      "Error Cuadrático Medio (MSE en escala log): 0.0579\n",
      "Coeficiente de Determinación (R²): 0.6895\n",
      "\n",
      "--- Comparación de Coeficientes ---\n",
      "             Coeficiente_OLS  Coef_Ridge_alpha100  Coef_Lasso_alpha0.1\n",
      "GrLivArea             0.1266               0.1120               0.0567\n",
      "OverallQual           0.1384               0.1285               0.1479\n",
      "YearBuilt             0.0744               0.0673               0.0050\n",
      "TotalBsmtSF           0.0445               0.0499               0.0060\n",
      "FullBath             -0.0069               0.0080               0.0000\n",
      "GarageCars            0.0715               0.0723               0.0486\n"
     ]
    }
   ],
   "source": [
    "# --- Ridge Regression (L2) ---\n",
    "ridge_model = Ridge(alpha=100.) # Alpha grande\n",
    "ridge_model.fit(X_train_scaled, y_train)\n",
    "y_pred_ridge = ridge_model.predict(X_test_scaled)\n",
    "\n",
    "mse_ridge = mean_squared_error(y_test, y_pred_ridge)\n",
    "r2_ridge = r2_score(y_test, y_pred_ridge)\n",
    "\n",
    "print(\"--- Evaluación del Modelo Ridge (alpha=100.) ---\")\n",
    "print(f\"Error Cuadrático Medio (MSE en escala log): {mse_ridge:.4f}\")\n",
    "print(f\"Coeficiente de Determinación (R²): {r2_ridge:.4f}\")\n",
    "\n",
    "# --- Lasso Regression (L1) ---\n",
    "lasso_model = Lasso(alpha=0.1) # Alpha pequeño\n",
    "lasso_model.fit(X_train_scaled, y_train)\n",
    "y_pred_lasso = lasso_model.predict(X_test_scaled)\n",
    "\n",
    "mse_lasso = mean_squared_error(y_test, y_pred_lasso)\n",
    "r2_lasso = r2_score(y_test, y_pred_lasso)\n",
    "\n",
    "print(\"\\n--- Evaluación del Modelo Lasso (alpha=0.1) ---\")\n",
    "print(f\"Error Cuadrático Medio (MSE en escala log): {mse_lasso:.4f}\")\n",
    "print(f\"Coeficiente de Determinación (R²): {r2_lasso:.4f}\")\n",
    "\n",
    "# Comparar coeficientes\n",
    "coef_df['Coef_Ridge_alpha100'] = ridge_model.coef_\n",
    "coef_df['Coef_Lasso_alpha0.1'] = lasso_model.coef_\n",
    "print(\"\\n--- Comparación de Coeficientes ---\")\n",
    "print(coef_df.round(4))"
   ]
  },
  {
   "cell_type": "markdown",
   "id": "MflacAq2Cn2Q",
   "metadata": {
    "id": "MflacAq2Cn2Q"
   },
   "source": [
    "<p>¡Ahora sí! Observa cómo los coeficientes de Ridge son sistemáticamente más pequeños (encogidos) que los de OLS. Y más importante, mira los coeficientes de Lasso: con un `alpha` de solo 0.1, ¡ya ha reducido el coeficiente de `FullBath` casi a cero, demostrando su poder de selección de características!</p>"
   ]
  },
  {
   "cell_type": "markdown",
   "id": "lpR5Xe_RCn2Q",
   "metadata": {
    "id": "lpR5Xe_RCn2Q"
   },
   "source": [
    "### 5. Selección de Hiperparámetros con Validación Cruzada\n",
    "\n",
    "<p>Finalmente, usamos `RidgeCV` y `LassoCV` para encontrar el `alpha` óptimo de manera automática.</p>"
   ]
  },
  {
   "cell_type": "code",
   "execution_count": 7,
   "id": "OBVzAKiECn2R",
   "metadata": {
    "id": "OBVzAKiECn2R"
   },
   "outputs": [
    {
     "name": "stdout",
     "output_type": "stream",
     "text": [
      "--- Búsqueda del mejor Alpha para Ridge ---\n",
      "Mejor alpha encontrado para Ridge: 86.9749\n",
      "MSE de Ridge con CV: 0.0309\n",
      "R² de Ridge con CV: 0.8346\n",
      "\n",
      "--- Búsqueda del mejor Alpha para Lasso ---\n",
      "Mejor alpha encontrado para Lasso: 0.0043\n",
      "MSE de Lasso con CV: 0.0307\n",
      "R² de Lasso con CV: 0.8357\n",
      "\n",
      "--- Comparación Final de Coeficientes ---\n",
      "             Coeficiente_OLS  Coef_Ridge_alpha100  Coef_Lasso_alpha0.1  \\\n",
      "GrLivArea             0.1266               0.1120               0.0567   \n",
      "OverallQual           0.1384               0.1285               0.1479   \n",
      "YearBuilt             0.0744               0.0673               0.0050   \n",
      "TotalBsmtSF           0.0445               0.0499               0.0060   \n",
      "FullBath             -0.0069               0.0080               0.0000   \n",
      "GarageCars            0.0715               0.0723               0.0486   \n",
      "\n",
      "             Coef_Ridge_CV  Coef_Lasso_CV  \n",
      "GrLivArea           0.1135         0.1199  \n",
      "OverallQual         0.1297         0.1385  \n",
      "YearBuilt           0.0680         0.0690  \n",
      "TotalBsmtSF         0.0494         0.0437  \n",
      "FullBath            0.0065         0.0000  \n",
      "GarageCars          0.0723         0.0702  \n"
     ]
    }
   ],
   "source": [
    "from sklearn.linear_model import RidgeCV\n",
    "\n",
    "# Definir un rango de alphas para probar\n",
    "alphas = np.logspace(-4, 2, 100)\n",
    "\n",
    "# --- RidgeCV ---\n",
    "# ridge_cv = RidgeCV(alphas=alphas, store_cv_values=True)\n",
    "ridge_cv = RidgeCV(alphas=alphas, store_cv_results=True)\n",
    "ridge_cv.fit(X_train_scaled, y_train)\n",
    "\n",
    "print(\"--- Búsqueda del mejor Alpha para Ridge ---\")\n",
    "print(f\"Mejor alpha encontrado para Ridge: {ridge_cv.alpha_:.4f}\")\n",
    "\n",
    "# Evaluar el modelo Ridge final con el mejor alpha\n",
    "y_pred_ridge_cv = ridge_cv.predict(X_test_scaled)\n",
    "mse_ridge_cv = mean_squared_error(y_test, y_pred_ridge_cv)\n",
    "r2_ridge_cv = r2_score(y_test, y_pred_ridge_cv)\n",
    "print(f\"MSE de Ridge con CV: {mse_ridge_cv:.4f}\")\n",
    "print(f\"R² de Ridge con CV: {r2_ridge_cv:.4f}\")\n",
    "\n",
    "# --- LassoCV ---\n",
    "lasso_cv = LassoCV(alphas=alphas, cv=5, random_state=42)\n",
    "lasso_cv.fit(X_train_scaled, y_train)\n",
    "\n",
    "print(\"\\n--- Búsqueda del mejor Alpha para Lasso ---\")\n",
    "print(f\"Mejor alpha encontrado para Lasso: {lasso_cv.alpha_:.4f}\")\n",
    "\n",
    "# Evaluar el modelo Lasso final\n",
    "y_pred_lasso_cv = lasso_cv.predict(X_test_scaled)\n",
    "mse_lasso_cv = mean_squared_error(y_test, y_pred_lasso_cv)\n",
    "r2_lasso_cv = r2_score(y_test, y_pred_lasso_cv)\n",
    "print(f\"MSE de Lasso con CV: {mse_lasso_cv:.4f}\")\n",
    "print(f\"R² de Lasso con CV: {r2_lasso_cv:.4f}\")\n",
    "\n",
    "# Añadir los coeficientes finales al DataFrame\n",
    "coef_df['Coef_Ridge_CV'] = ridge_cv.coef_\n",
    "coef_df['Coef_Lasso_CV'] = lasso_cv.coef_\n",
    "print(\"\\n--- Comparación Final de Coeficientes ---\")\n",
    "print(coef_df.round(4))"
   ]
  },
  {
   "cell_type": "markdown",
   "id": "9dh7yoCICn2R",
   "metadata": {
    "id": "9dh7yoCICn2R"
   },
   "source": [
    "### 6. Desafíos para Experimentar\n",
    "\n",
    "<p>Ahora es tu turno de experimentar. Responde a las siguientes preguntas modificando el código anterior:</p>\n",
    "<ol>\n",
    "    <li><strong>Añadir más características:</strong> Elige otras 2 o 3 características numéricas del `df` original, añádelas a la lista `numeric_features` y vuelve a ejecutar todo el notebook. ¿Mejora el R² del modelo final?</li>\n",
    "    <li><strong>Interpretación de coeficientes:</strong> Observa los coeficientes finales del modelo `LassoCV`. ¿Qué característica parece ser la más importante según este modelo? ¿Cuáles ha descartado (coeficiente cercano a cero)?</li>\n",
    "    <li><strong>Evaluación en escala original:</strong> Las predicciones (`y_pred_lasso_cv`) están en escala logarítmica. Usa `np.expm1()` para convertirlas de nuevo a dólares. Luego, calcula el Error Absoluto Medio (MAE) entre las predicciones revertidas y el `y_test` original (que deberías haber guardado como `y_raw`). ¿Cuál es el error promedio en dólares de tu mejor modelo?</li>\n",
    "</ol>"
   ]
  },
  {
   "cell_type": "markdown",
   "id": "PCTnFW4PCn2R",
   "metadata": {
    "id": "PCTnFW4PCn2R"
   },
   "source": [
    "### 7. Ejercicios Propuestos\n",
    "\n",
    "<div class=\"alert alert-block alert-warning\">\n",
    "<h4>Ejercicios para Solidificar Conceptos</h4>\n",
    "<ol>\n",
    "    <li><strong>Evaluación de Residuos:</strong> Para el mejor modelo que encontraste (probablemente RidgeCV o LassoCV), calcula los residuos ($y_{test} - \\hat{y}$) y crea un gráfico de dispersión de los valores predichos vs. los residuos. ¿Observas algún patrón? Un patrón podría indicar que la relación no es puramente lineal.</li>\n",
    "    <li><strong>Cambiar la Métrica de CV:</strong> En `LassoCV` y `RidgeCV`, el scoring por defecto es el error cuadrático negativo. Investiga cómo podrías usar el \"mean_absolute_error\" en su lugar. ¿Cambia el `alpha` seleccionado?</li>\n",
    "    <li><strong>Implementar K-Fold a Mano:</strong> En lugar de usar `RidgeCV`, instancia un `KFold(n_splits=5)`, itera sobre los pliegues, entrena un modelo `Ridge` para un alpha fijo en cada pliegue y calcula el error promedio. Compara tu resultado con el de la clase `RidgeCV`.</li>\n",
    "    <li><strong>Características Polinómicas:</strong> Sospechamos que la relación entre `GrLivArea` y `SalePrice` no es perfectamente lineal. Usa `sklearn.preprocessing.PolynomialFeatures` para crear una característica `GrLivArea` al cuadrado y añádela al modelo. ¿Mejora el R²?</li>\n",
    "    <li><strong>Impacto de Outliers:</strong> Encuentra la casa más cara en el `df_subset`. Elimínala y vuelve a entrenar el modelo OLS (con el target logarítmico). ¿Cómo cambian los coeficientes y el R²?</li>\n",
    "    <li><strong>Comparar MAE vs MSE:</strong> Calcula el `mean_absolute_error` (MAE) para todos los modelos finales (OLS, RidgeCV, LassoCV) en la escala logarítmica. ¿Por qué el MAE es menor que el MSE?</li>\n",
    "    <li><strong>Importancia de Características:</strong> Ordena los coeficientes del modelo `RidgeCV` final de mayor a menor en valor absoluto. ¿Cuáles son las 3 características más influyentes según este modelo?</li>\n",
    "    <li><strong>Efecto del Alpha en Lasso:</strong> Crea un gráfico que muestre cómo cambian los coeficientes de Lasso a medida que `alpha` aumenta. Puedes usar la información almacenada en `lasso_cv.path_`.</li>\n",
    "    <li><strong>Regresión Lineal Simple vs. Múltiple:</strong> Entrena un modelo de regresión lineal simple para cada una de las características en `numeric_features` por separado. Compara el coeficiente de cada característica en su modelo simple con su coeficiente en el modelo múltiple (OLS). ¿Por qué son diferentes?</li>\n",
    "    <li><strong>Modelo para Producción:</strong> Si tuvieras que elegir uno de los modelos entrenados para ponerlo en producción y predecir precios de casas para un cliente, ¿cuál elegirías y por qué? Justifica tu respuesta basándote en el rendimiento (R², MSE), la interpretabilidad (coeficientes) y la simplicidad del modelo.</li>\n",
    "</ol>\n",
    "</div>"
   ]
  },
  {
   "cell_type": "markdown",
   "id": "8c656d1b",
   "metadata": {},
   "source": [
    "----------\n",
    "\n",
    "### **1. Evaluación de Residuos:**\n",
    "\n",
    "#### Para el mejor modelo que encontraste (probablemente RidgeCV o LassoCV), calcula los residuos $(y_{test} - \\hat{y})$ y crea un gráfico de dispersión de los valores predichos vs. los residuos. ¿Observas algún patrón? Un patrón podría indicar que la relación no es puramente lineal.\n",
    "\n",
    "`IMPOTANTE`:\n",
    "\n",
    "Guía para aplicar modelos de regresión\n",
    "**1. Cargar el DataFrame**\n",
    "\n",
    "* Consiste en importar los datos a un DataFrame de pandas. Ejemplo: leer un archivo CSV o cargar un dataset de sklearn.\n",
    "* Objetivo: Tener los datos en memoria para analizarlos y procesarlos.\n",
    "\n",
    "**2. Seleccionar las características y la variable objetivo**\n",
    "\n",
    "* Elige las columnas (features) que usarás como variables predictoras y la columna que quieres predecir (target).\n",
    "* Ejemplo: numeric_features = ['GrLivArea', 'OverallQual', ...], target_variable = 'SalePrice'.\n",
    "\n",
    "**3. Limpiar y preparar los datos**\n",
    "\n",
    "* Elimina o imputa valores faltantes, corrige tipos de datos, y asegúrate de que los datos sean numéricos si es necesario.\n",
    "* Ejemplo: df = df[numeric_features + [target_variable]].dropna()\n",
    "\n",
    "**4. (Opcional) Transformar la variable objetivo**\n",
    "\n",
    "* Si la variable objetivo está sesgada, puedes aplicar una transformación (como logaritmo) para mejorar el ajuste del modelo.\n",
    "* Ejemplo: y = np.log1p(df[target_variable])\n",
    "\n",
    "**5. Separar los datos en entrenamiento y prueba**\n",
    "\n",
    "* Divide el dataset en dos partes: una para entrenar el modelo y otra para evaluarlo.\n",
    "* Ejemplo: X_train, X_test, y_train, y_test = train_test_split(X, y, test_size=0.2)\n",
    "\n",
    "**6. Escalar las características**\n",
    "\n",
    "* Normaliza o estandariza las variables predictoras para que todas tengan la misma escala. Esto es fundamental para Ridge y Lasso.*\n",
    "* Ejemplo:\n",
    "    - scaler = StandardScaler();\n",
    "    - X_train_scaled = scaler.fit_transform(X_train);\n",
    "    - X_test_scaled = scaler.transform(X_test);\n",
    "\n",
    "**7. Crear y entrenar el modelo**\n",
    "\n",
    "* Elige el modelo que quieres usar:\n",
    "\n",
    "    - OLS: LinearRegression()\n",
    "    - Ridge: Ridge(alpha=valor)\n",
    "    - Lasso: Lasso(alpha=valor)\n",
    "    - RidgeCV: RidgeCV(alphas=lista_de_alphas)\n",
    "    - LassoCV: LassoCV(alphas=lista_de_alphas)\n",
    "    - Entrena el modelo con los datos de entrenamiento: modelo.fit(X_train_scaled, y_train)\n",
    "\n",
    "**8. Hacer predicciones**\n",
    "\n",
    "* Usa el modelo entrenado para predecir los valores del conjunto de prueba: y_pred = modelo.predict(X_test_scaled)\n",
    "\n",
    "**9. Evaluar el modelo**\n",
    "\n",
    "* Calcula métricas como MSE, MAE y R² para medir el desempeño del modelo.\n",
    "* Ejemplo:\n",
    "    - mean_squared_error(y_test, y_pred)\n",
    "    - mean_absolute_error(y_test, y_pred)\n",
    "    - r2_score(y_test, y_pred)\n",
    "\n",
    "**10. Interpretar los coeficientes**\n",
    "\n",
    "* Analiza los coeficientes del modelo para entender la importancia de cada variable.\n",
    "* Ejemplo: modelo.coef_\n",
    "\n",
    "**11. (Opcional) Ajustar hiperparámetros**\n",
    "\n",
    "* Para RidgeCV y LassoCV, el modelo selecciona automáticamente el mejor valor de alpha usando validación cruzada."
   ]
  },
  {
   "cell_type": "code",
   "execution_count": 11,
   "id": "65033742",
   "metadata": {},
   "outputs": [
    {
     "data": {
      "application/vnd.plotly.v1+json": {
       "config": {
        "plotlyServerURL": "https://plot.ly"
       },
       "data": [
        {
         "hovertemplate": "Predicciones LassoCV=%{x}<br>Residuos=%{y}<extra></extra>",
         "legendgroup": "",
         "marker": {
          "color": "#636efa",
          "symbol": "circle"
         },
         "mode": "markers",
         "name": "",
         "orientation": "v",
         "showlegend": false,
         "type": "scatter",
         "x": {
          "bdata": "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",
          "dtype": "f8"
         },
         "xaxis": "x",
         "y": {
          "bdata": "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",
          "dtype": "f8"
         },
         "yaxis": "y"
        }
       ],
       "layout": {
        "legend": {
         "tracegroupgap": 0
        },
        "shapes": [
         {
          "line": {
           "color": "red",
           "dash": "dash"
          },
          "type": "line",
          "x0": 0,
          "x1": 1,
          "xref": "x domain",
          "y0": 0,
          "y1": 0,
          "yref": "y"
         }
        ],
        "template": {
         "data": {
          "bar": [
           {
            "error_x": {
             "color": "#2a3f5f"
            },
            "error_y": {
             "color": "#2a3f5f"
            },
            "marker": {
             "line": {
              "color": "#E5ECF6",
              "width": 0.5
             },
             "pattern": {
              "fillmode": "overlay",
              "size": 10,
              "solidity": 0.2
             }
            },
            "type": "bar"
           }
          ],
          "barpolar": [
           {
            "marker": {
             "line": {
              "color": "#E5ECF6",
              "width": 0.5
             },
             "pattern": {
              "fillmode": "overlay",
              "size": 10,
              "solidity": 0.2
             }
            },
            "type": "barpolar"
           }
          ],
          "carpet": [
           {
            "aaxis": {
             "endlinecolor": "#2a3f5f",
             "gridcolor": "white",
             "linecolor": "white",
             "minorgridcolor": "white",
             "startlinecolor": "#2a3f5f"
            },
            "baxis": {
             "endlinecolor": "#2a3f5f",
             "gridcolor": "white",
             "linecolor": "white",
             "minorgridcolor": "white",
             "startlinecolor": "#2a3f5f"
            },
            "type": "carpet"
           }
          ],
          "choropleth": [
           {
            "colorbar": {
             "outlinewidth": 0,
             "ticks": ""
            },
            "type": "choropleth"
           }
          ],
          "contour": [
           {
            "colorbar": {
             "outlinewidth": 0,
             "ticks": ""
            },
            "colorscale": [
             [
              0,
              "#0d0887"
             ],
             [
              0.1111111111111111,
              "#46039f"
             ],
             [
              0.2222222222222222,
              "#7201a8"
             ],
             [
              0.3333333333333333,
              "#9c179e"
             ],
             [
              0.4444444444444444,
              "#bd3786"
             ],
             [
              0.5555555555555556,
              "#d8576b"
             ],
             [
              0.6666666666666666,
              "#ed7953"
             ],
             [
              0.7777777777777778,
              "#fb9f3a"
             ],
             [
              0.8888888888888888,
              "#fdca26"
             ],
             [
              1,
              "#f0f921"
             ]
            ],
            "type": "contour"
           }
          ],
          "contourcarpet": [
           {
            "colorbar": {
             "outlinewidth": 0,
             "ticks": ""
            },
            "type": "contourcarpet"
           }
          ],
          "heatmap": [
           {
            "colorbar": {
             "outlinewidth": 0,
             "ticks": ""
            },
            "colorscale": [
             [
              0,
              "#0d0887"
             ],
             [
              0.1111111111111111,
              "#46039f"
             ],
             [
              0.2222222222222222,
              "#7201a8"
             ],
             [
              0.3333333333333333,
              "#9c179e"
             ],
             [
              0.4444444444444444,
              "#bd3786"
             ],
             [
              0.5555555555555556,
              "#d8576b"
             ],
             [
              0.6666666666666666,
              "#ed7953"
             ],
             [
              0.7777777777777778,
              "#fb9f3a"
             ],
             [
              0.8888888888888888,
              "#fdca26"
             ],
             [
              1,
              "#f0f921"
             ]
            ],
            "type": "heatmap"
           }
          ],
          "histogram": [
           {
            "marker": {
             "pattern": {
              "fillmode": "overlay",
              "size": 10,
              "solidity": 0.2
             }
            },
            "type": "histogram"
           }
          ],
          "histogram2d": [
           {
            "colorbar": {
             "outlinewidth": 0,
             "ticks": ""
            },
            "colorscale": [
             [
              0,
              "#0d0887"
             ],
             [
              0.1111111111111111,
              "#46039f"
             ],
             [
              0.2222222222222222,
              "#7201a8"
             ],
             [
              0.3333333333333333,
              "#9c179e"
             ],
             [
              0.4444444444444444,
              "#bd3786"
             ],
             [
              0.5555555555555556,
              "#d8576b"
             ],
             [
              0.6666666666666666,
              "#ed7953"
             ],
             [
              0.7777777777777778,
              "#fb9f3a"
             ],
             [
              0.8888888888888888,
              "#fdca26"
             ],
             [
              1,
              "#f0f921"
             ]
            ],
            "type": "histogram2d"
           }
          ],
          "histogram2dcontour": [
           {
            "colorbar": {
             "outlinewidth": 0,
             "ticks": ""
            },
            "colorscale": [
             [
              0,
              "#0d0887"
             ],
             [
              0.1111111111111111,
              "#46039f"
             ],
             [
              0.2222222222222222,
              "#7201a8"
             ],
             [
              0.3333333333333333,
              "#9c179e"
             ],
             [
              0.4444444444444444,
              "#bd3786"
             ],
             [
              0.5555555555555556,
              "#d8576b"
             ],
             [
              0.6666666666666666,
              "#ed7953"
             ],
             [
              0.7777777777777778,
              "#fb9f3a"
             ],
             [
              0.8888888888888888,
              "#fdca26"
             ],
             [
              1,
              "#f0f921"
             ]
            ],
            "type": "histogram2dcontour"
           }
          ],
          "mesh3d": [
           {
            "colorbar": {
             "outlinewidth": 0,
             "ticks": ""
            },
            "type": "mesh3d"
           }
          ],
          "parcoords": [
           {
            "line": {
             "colorbar": {
              "outlinewidth": 0,
              "ticks": ""
             }
            },
            "type": "parcoords"
           }
          ],
          "pie": [
           {
            "automargin": true,
            "type": "pie"
           }
          ],
          "scatter": [
           {
            "fillpattern": {
             "fillmode": "overlay",
             "size": 10,
             "solidity": 0.2
            },
            "type": "scatter"
           }
          ],
          "scatter3d": [
           {
            "line": {
             "colorbar": {
              "outlinewidth": 0,
              "ticks": ""
             }
            },
            "marker": {
             "colorbar": {
              "outlinewidth": 0,
              "ticks": ""
             }
            },
            "type": "scatter3d"
           }
          ],
          "scattercarpet": [
           {
            "marker": {
             "colorbar": {
              "outlinewidth": 0,
              "ticks": ""
             }
            },
            "type": "scattercarpet"
           }
          ],
          "scattergeo": [
           {
            "marker": {
             "colorbar": {
              "outlinewidth": 0,
              "ticks": ""
             }
            },
            "type": "scattergeo"
           }
          ],
          "scattergl": [
           {
            "marker": {
             "colorbar": {
              "outlinewidth": 0,
              "ticks": ""
             }
            },
            "type": "scattergl"
           }
          ],
          "scattermap": [
           {
            "marker": {
             "colorbar": {
              "outlinewidth": 0,
              "ticks": ""
             }
            },
            "type": "scattermap"
           }
          ],
          "scattermapbox": [
           {
            "marker": {
             "colorbar": {
              "outlinewidth": 0,
              "ticks": ""
             }
            },
            "type": "scattermapbox"
           }
          ],
          "scatterpolar": [
           {
            "marker": {
             "colorbar": {
              "outlinewidth": 0,
              "ticks": ""
             }
            },
            "type": "scatterpolar"
           }
          ],
          "scatterpolargl": [
           {
            "marker": {
             "colorbar": {
              "outlinewidth": 0,
              "ticks": ""
             }
            },
            "type": "scatterpolargl"
           }
          ],
          "scatterternary": [
           {
            "marker": {
             "colorbar": {
              "outlinewidth": 0,
              "ticks": ""
             }
            },
            "type": "scatterternary"
           }
          ],
          "surface": [
           {
            "colorbar": {
             "outlinewidth": 0,
             "ticks": ""
            },
            "colorscale": [
             [
              0,
              "#0d0887"
             ],
             [
              0.1111111111111111,
              "#46039f"
             ],
             [
              0.2222222222222222,
              "#7201a8"
             ],
             [
              0.3333333333333333,
              "#9c179e"
             ],
             [
              0.4444444444444444,
              "#bd3786"
             ],
             [
              0.5555555555555556,
              "#d8576b"
             ],
             [
              0.6666666666666666,
              "#ed7953"
             ],
             [
              0.7777777777777778,
              "#fb9f3a"
             ],
             [
              0.8888888888888888,
              "#fdca26"
             ],
             [
              1,
              "#f0f921"
             ]
            ],
            "type": "surface"
           }
          ],
          "table": [
           {
            "cells": {
             "fill": {
              "color": "#EBF0F8"
             },
             "line": {
              "color": "white"
             }
            },
            "header": {
             "fill": {
              "color": "#C8D4E3"
             },
             "line": {
              "color": "white"
             }
            },
            "type": "table"
           }
          ]
         },
         "layout": {
          "annotationdefaults": {
           "arrowcolor": "#2a3f5f",
           "arrowhead": 0,
           "arrowwidth": 1
          },
          "autotypenumbers": "strict",
          "coloraxis": {
           "colorbar": {
            "outlinewidth": 0,
            "ticks": ""
           }
          },
          "colorscale": {
           "diverging": [
            [
             0,
             "#8e0152"
            ],
            [
             0.1,
             "#c51b7d"
            ],
            [
             0.2,
             "#de77ae"
            ],
            [
             0.3,
             "#f1b6da"
            ],
            [
             0.4,
             "#fde0ef"
            ],
            [
             0.5,
             "#f7f7f7"
            ],
            [
             0.6,
             "#e6f5d0"
            ],
            [
             0.7,
             "#b8e186"
            ],
            [
             0.8,
             "#7fbc41"
            ],
            [
             0.9,
             "#4d9221"
            ],
            [
             1,
             "#276419"
            ]
           ],
           "sequential": [
            [
             0,
             "#0d0887"
            ],
            [
             0.1111111111111111,
             "#46039f"
            ],
            [
             0.2222222222222222,
             "#7201a8"
            ],
            [
             0.3333333333333333,
             "#9c179e"
            ],
            [
             0.4444444444444444,
             "#bd3786"
            ],
            [
             0.5555555555555556,
             "#d8576b"
            ],
            [
             0.6666666666666666,
             "#ed7953"
            ],
            [
             0.7777777777777778,
             "#fb9f3a"
            ],
            [
             0.8888888888888888,
             "#fdca26"
            ],
            [
             1,
             "#f0f921"
            ]
           ],
           "sequentialminus": [
            [
             0,
             "#0d0887"
            ],
            [
             0.1111111111111111,
             "#46039f"
            ],
            [
             0.2222222222222222,
             "#7201a8"
            ],
            [
             0.3333333333333333,
             "#9c179e"
            ],
            [
             0.4444444444444444,
             "#bd3786"
            ],
            [
             0.5555555555555556,
             "#d8576b"
            ],
            [
             0.6666666666666666,
             "#ed7953"
            ],
            [
             0.7777777777777778,
             "#fb9f3a"
            ],
            [
             0.8888888888888888,
             "#fdca26"
            ],
            [
             1,
             "#f0f921"
            ]
           ]
          },
          "colorway": [
           "#636efa",
           "#EF553B",
           "#00cc96",
           "#ab63fa",
           "#FFA15A",
           "#19d3f3",
           "#FF6692",
           "#B6E880",
           "#FF97FF",
           "#FECB52"
          ],
          "font": {
           "color": "#2a3f5f"
          },
          "geo": {
           "bgcolor": "white",
           "lakecolor": "white",
           "landcolor": "#E5ECF6",
           "showlakes": true,
           "showland": true,
           "subunitcolor": "white"
          },
          "hoverlabel": {
           "align": "left"
          },
          "hovermode": "closest",
          "mapbox": {
           "style": "light"
          },
          "paper_bgcolor": "white",
          "plot_bgcolor": "#E5ECF6",
          "polar": {
           "angularaxis": {
            "gridcolor": "white",
            "linecolor": "white",
            "ticks": ""
           },
           "bgcolor": "#E5ECF6",
           "radialaxis": {
            "gridcolor": "white",
            "linecolor": "white",
            "ticks": ""
           }
          },
          "scene": {
           "xaxis": {
            "backgroundcolor": "#E5ECF6",
            "gridcolor": "white",
            "gridwidth": 2,
            "linecolor": "white",
            "showbackground": true,
            "ticks": "",
            "zerolinecolor": "white"
           },
           "yaxis": {
            "backgroundcolor": "#E5ECF6",
            "gridcolor": "white",
            "gridwidth": 2,
            "linecolor": "white",
            "showbackground": true,
            "ticks": "",
            "zerolinecolor": "white"
           },
           "zaxis": {
            "backgroundcolor": "#E5ECF6",
            "gridcolor": "white",
            "gridwidth": 2,
            "linecolor": "white",
            "showbackground": true,
            "ticks": "",
            "zerolinecolor": "white"
           }
          },
          "shapedefaults": {
           "line": {
            "color": "#2a3f5f"
           }
          },
          "ternary": {
           "aaxis": {
            "gridcolor": "white",
            "linecolor": "white",
            "ticks": ""
           },
           "baxis": {
            "gridcolor": "white",
            "linecolor": "white",
            "ticks": ""
           },
           "bgcolor": "#E5ECF6",
           "caxis": {
            "gridcolor": "white",
            "linecolor": "white",
            "ticks": ""
           }
          },
          "title": {
           "x": 0.05
          },
          "xaxis": {
           "automargin": true,
           "gridcolor": "white",
           "linecolor": "white",
           "ticks": "",
           "title": {
            "standoff": 15
           },
           "zerolinecolor": "white",
           "zerolinewidth": 2
          },
          "yaxis": {
           "automargin": true,
           "gridcolor": "white",
           "linecolor": "white",
           "ticks": "",
           "title": {
            "standoff": 15
           },
           "zerolinecolor": "white",
           "zerolinewidth": 2
          }
         }
        },
        "title": {
         "text": "Residuos vs Predicciones LassoCV"
        },
        "xaxis": {
         "anchor": "y",
         "domain": [
          0,
          1
         ],
         "title": {
          "text": "Predicciones LassoCV"
         }
        },
        "yaxis": {
         "anchor": "x",
         "domain": [
          0,
          1
         ],
         "title": {
          "text": "Residuos"
         }
        }
       }
      }
     },
     "metadata": {},
     "output_type": "display_data"
    },
    {
     "name": "stdout",
     "output_type": "stream",
     "text": [
      "\n",
      "Conclusión:\n",
      ">>> Los residuos se distribuyen alrededor del 0, aleatoriamente.\n",
      ">>> El modelo está capturando bien la relación lineal entre las variables y la variable objetivo.\n",
      ">>> Los errores no dependen del valor predicho, lo que es deseable en un buen modelo lineal.\n"
     ]
    }
   ],
   "source": [
    "# Elijo LassoCV como el mejor modelo\n",
    "best_model = lasso_cv\n",
    "\n",
    "residuos = y_test - y_pred_lasso_cv\n",
    "\n",
    "fig = px.scatter(x=y_pred_lasso_cv, y=residuos,\n",
    "                 labels={'x': 'Predicciones LassoCV', 'y': 'Residuos'},\n",
    "                 title='Residuos vs Predicciones LassoCV') \n",
    "fig.add_hline(y=0, line_dash=\"dash\", line_color=\"red\")\n",
    "fig.show()\n",
    "\n",
    "print(\"\\nConclusión:\"\n",
    "        f\"\\n>>> Los residuos se distribuyen alrededor del 0, aleatoriamente.\"\n",
    "        f\"\\n>>> El modelo está capturando bien la relación lineal entre las variables y la variable objetivo.\"\n",
    "        f\"\\n>>> Los errores no dependen del valor predicho, lo que es deseable en un buen modelo lineal.\")"
   ]
  },
  {
   "cell_type": "markdown",
   "id": "5cb52512",
   "metadata": {},
   "source": [
    "----------\n",
    "\n",
    "### **2. Cambiar la Métrica de CV:** \n",
    "\n",
    "#### En `LassoCV` y `RidgeCV`, el scoring por defecto es el error cuadrático negativo. Investiga cómo podrías usar el \"mean_absolute_error\" en su lugar. ¿Cambia el `alpha` seleccionado?\n",
    "\n",
    "`IMPOTANTE`:\n",
    "\n",
    "**OLS (Ordinary Least Squares)**\n",
    "\n",
    "* Qué es: Es la regresión lineal clásica. Busca encontrar la línea recta (o hiperplano) que minimiza la suma de los cuadrados de los errores (diferencias entre valores reales y predichos).\n",
    "* Interpretación: Los coeficientes indican cuánto cambia la variable dependiente por cada unidad de cambio en la independiente, manteniendo las demás constantes. No aplica regularización.\n",
    "\n",
    "**Ridge**\n",
    "* Qué es: Es una regresión lineal con regularización L2. Añade una penalización proporcional al cuadrado de los coeficientes para evitar que sean demasiado grandes.\n",
    "* Interpretación: Reduce el sobreajuste (overfitting) al limitar la magnitud de los coeficientes. Los coeficientes tienden a ser pequeños, pero rara vez exactamente cero.\n",
    "\n",
    "**Lasso**\n",
    "* Qué es: Es una regresión lineal con regularización L1. Añade una penalización proporcional al valor absoluto de los coeficientes.\n",
    "* Interpretación: Además de reducir el sobreajuste, puede llevar algunos coeficientes exactamente a cero, realizando selección de variables automáticamente.\n",
    "\n",
    "**RidgeCV**\n",
    "* Qué es: Es Ridge con validación cruzada (cross-validation) para elegir automáticamente el mejor valor de la penalización (alpha).\n",
    "* Interpretación: El modelo selecciona el alpha que da mejor desempeño según la métrica elegida, equilibrando ajuste y regularización.\n",
    "\n",
    "**LassoCV**\n",
    "* Qué es: Es Lasso con validación cruzada para elegir el mejor alpha.\n",
    "* Interpretación: Igual que RidgeCV, pero con la posibilidad de seleccionar variables (coeficientes en cero). El alpha óptimo se elige para maximizar el desempeño y la simplicidad del modelo.\n"
   ]
  },
  {
   "cell_type": "code",
   "execution_count": 23,
   "id": "1cf6f269",
   "metadata": {},
   "outputs": [
    {
     "name": "stdout",
     "output_type": "stream",
     "text": [
      "Mejor alpha para RidgeCV (MAE): 21.5443\n",
      "Mejor alpha para RidgeCV (MSE): 86.9749\n",
      "---\n",
      "Mejor alpha para Lasso (MAE): 0.0001\n",
      "Mejor alpha para LassoCV (MSE): 0.0043\n",
      "---\n",
      "\n",
      "--- Conclusión: \n",
      ">>> Los alphas seleccionados con MAE difieren de los seleccionados con MSE. \n",
      ">>> Esto se debe a que cada métrica penaliza de manera diferente a los errores.\n"
     ]
    }
   ],
   "source": [
    "from sklearn.model_selection import GridSearchCV\n",
    "from sklearn.linear_model import Lasso\n",
    "\n",
    "# El rango de alphas ya se había definido antes. Era: np.logspace(-4, 2, 100)\n",
    "# print(alphas)\n",
    "\n",
    "# RidgeCV con MAE\n",
    "ridge_cv_mae = RidgeCV(alphas=alphas, scoring=\"neg_mean_absolute_error\", store_cv_results=True)\n",
    "ridge_cv_mae.fit(X_train_scaled, y_train)\n",
    "print(f\"Mejor alpha para RidgeCV (MAE): {ridge_cv_mae.alpha_:.4f}\")\n",
    "print(f\"Mejor alpha para RidgeCV (MSE): {ridge_cv.alpha_:.4f}\")\n",
    "print(\"---\")\n",
    "\n",
    "# Lasso con GridSearchCV y MAE\n",
    "param_grid = {'alpha': alphas}\n",
    "lasso_grid_mae = GridSearchCV(Lasso(max_iter=10000, random_state=42), param_grid, scoring=\"neg_mean_absolute_error\", cv=5)\n",
    "lasso_grid_mae.fit(X_train_scaled, y_train)\n",
    "print(f\"Mejor alpha para Lasso (MAE): {lasso_grid_mae.best_params_['alpha']:.4f}\")\n",
    "print(f\"Mejor alpha para LassoCV (MSE): {lasso_cv.alpha_:.4f}\")\n",
    "print(\"---\")\n",
    "\n",
    "print(\"\\nConclusión: \"\n",
    "      f\"\\n>>> Los alphas seleccionados con MAE difieren de los seleccionados con MSE. \"\n",
    "      f\"\\n>>> Esto se debe a que cada métrica penaliza de manera diferente a los errores.\")"
   ]
  },
  {
   "cell_type": "markdown",
   "id": "c9801e10",
   "metadata": {},
   "source": [
    "----------\n",
    "\n",
    "### **3. Implementar K-Fold a Mano:**\n",
    "\n",
    "#### En lugar de usar `RidgeCV`, instancia un `KFold(n_splits=5)`, itera sobre los pliegues, entrena un modelo `Ridge` para un alpha fijo en cada pliegue y calcula el error promedio. Compara tu resultado con el de la clase `RidgeCV`.\n",
    "\n",
    "KFold es una técnica de validación cruzada utilizada para evaluar el rendimiento de un modelo de machine learning de manera más robusta.\n",
    "\n",
    "`IMPOTANTE`:\n",
    "\n",
    "**¿Qué es?**\n",
    "\n",
    "KFold divide el conjunto de datos en K partes (o \"folds\") de tamaño similar. El modelo se entrena K veces: en cada iteración, se usa una parte diferente como conjunto de prueba y las K-1 partes restantes como conjunto de entrenamiento.\n",
    "\n",
    "**¿Para qué sirve?**\n",
    "\n",
    "Permite estimar el rendimiento del modelo de forma más confiable, ya que se prueba en diferentes subconjuntos de los datos.\n",
    "Ayuda a detectar sobreajuste o subajuste.\n",
    "Se usa para comparar modelos y seleccionar hiperparámetros (como alpha en Ridge o Lasso).\n",
    "En resumen: KFold te da una evaluación más realista del modelo, usando todos los datos tanto para entrenar como para validar, pero nunca al mismo tiempo."
   ]
  },
  {
   "cell_type": "code",
   "execution_count": 25,
   "id": "8dece407",
   "metadata": {},
   "outputs": [
    {
     "name": "stdout",
     "output_type": "stream",
     "text": [
      "Usando alpha fijo: 86.9749\n",
      "MSE promedio manual con KFold y Ridge: 0.0324\n",
      "MSE de RidgeCV (en test): 0.0309\n"
     ]
    }
   ],
   "source": [
    "# Elijo un valor fijo para alpha\n",
    "alpha_fijo = ridge_cv.alpha_\n",
    "print(f\"Usando alpha fijo: {alpha_fijo:.4f}\")\n",
    "\n",
    "kf = KFold(n_splits=5, shuffle=True, random_state=42)\n",
    "mse_folds = []\n",
    "\n",
    "for train_idx, val_idx in kf.split(X_train_scaled):\n",
    "    X_tr, X_val = X_train_scaled.iloc[train_idx], X_train_scaled.iloc[val_idx]\n",
    "    y_tr, y_val = y_train.iloc[train_idx], y_train.iloc[val_idx]\n",
    "    \n",
    "    ridge = Ridge(alpha=alpha_fijo)\n",
    "    ridge.fit(X_tr, y_tr)\n",
    "    y_pred = ridge.predict(X_val)\n",
    "    mse = mean_squared_error(y_val, y_pred)\n",
    "    mse_folds.append(mse)\n",
    "\n",
    "mse_promedio = np.mean(mse_folds)\n",
    "print(f\"MSE promedio manual con KFold y Ridge: {mse_promedio:.4f}\")\n",
    "print(f\"MSE de RidgeCV (en test): {mse_ridge_cv:.4f}\")"
   ]
  },
  {
   "cell_type": "markdown",
   "id": "da4d8f0b",
   "metadata": {},
   "source": [
    "----------\n",
    "\n",
    "### **4. Características Polinómicas:**\n",
    "\n",
    "#### Sospechamos que la relación entre `GrLivArea` y `SalePrice` no es perfectamente lineal. Usa `sklearn.preprocessing.PolynomialFeatures` para crear una característica `GrLivArea` al cuadrado y añádela al modelo. ¿Mejora el R²?"
   ]
  },
  {
   "cell_type": "code",
   "execution_count": 31,
   "id": "35c9bc5d",
   "metadata": {},
   "outputs": [
    {
     "name": "stdout",
     "output_type": "stream",
     "text": [
      "Coeficiente de Determinación de Ridge (R²): 0.8340\n",
      ">>> Con un alpha fijo (en este caso, 0.8340), el modelo explica el 83.4% de la varianza de los precios de las casas en el set de test\n",
      "---\n",
      "Coeficiente de Determinación de Ridge CV (R²): 0.8346\n",
      ">>> Usando el mejor alpha encontrado por validación cruzada (RidgeCV), el resulatdo es muy similar al anterior (0.8346), lo que indica que el ajuste automático de alpha no cambió mucho el desempeño\n",
      "---\n",
      "Coeficiente de Determinación de Lasso (R²): 0.6895\n",
      ">>> Con un alpha fijo (0.6895), el coeficiente es mucho menor que Ridge y RidgeCV. Lo que indica que, con ese alpha, el modelo Lasso no está capturando tan bien la varianza de los datos\n",
      "---\n",
      "Coeficiente de Determinación de Lasso CV (R²): 0.8357\n",
      ">>> Usando el mejor alpha encontrado por validación cruzada (LassoCV), el coeficiente mejora mucho (0.8357), casi igualando a Ridge, lo que muestra la importancia de elegir bien el alpha\n",
      "---\n",
      "Coeficiente de Determinación con GrLivArea y GrLivArea^2: 0.8349\n",
      ">>> El valor (0.8349) es prácticamente igual al de Ridge y RidgeCV, lo que indica que agregar el término cuadrático mejora el ajuste respecto a un modelo lineal simple.\n",
      "---\n",
      "Conclusión:\n",
      ">>> Agregar términos polinómicos y ajustar bien los hiperparámetros puede mejorar el desempeño de los modelos de regresión.\n"
     ]
    }
   ],
   "source": [
    "# Creo una nueva característica polinómica GrLivArea^2\n",
    "df_poly = df_subset.copy()\n",
    "df_poly['GrLivArea2'] = df_poly['GrLivArea'] ** 2\n",
    "\n",
    "# Actualizo las características\n",
    "features_poly = numeric_features + ['GrLivArea2']\n",
    "\n",
    "# print(df.columns)\n",
    "# print(df_subset.columns)\n",
    "# print(df_poly.columns)\n",
    "\n",
    "# Proparo los datos\n",
    "X_poly = df_poly[features_poly]\n",
    "y_poly = np.log1p(df_poly[target_variable])\n",
    "\n",
    "X_train_p, X_test_p, y_train_p, y_test_p = train_test_split(X_poly, y_poly, test_size=0.2, random_state=42)\n",
    "\n",
    "scaler_p = StandardScaler()\n",
    "X_train_p_scaled = scaler_p.fit_transform(X_train_p)\n",
    "X_test_p_scaled = scaler_p.transform(X_test_p)\n",
    "\n",
    "# Entreno el modelo lineal con la nueva característica\n",
    "ols_poly = LinearRegression()\n",
    "ols_poly.fit(X_train_p_scaled, y_train_p)\n",
    "y_pred_poly = ols_poly.predict(X_test_p_scaled)\n",
    "\n",
    "# Evaluación del modelo con la característica polinómica\n",
    "r2_poly = r2_score(y_test_p, y_pred_poly)\n",
    "\n",
    "print(f\"Coeficiente de Determinación de Ridge (R²): {r2_ridge:.4f}\")\n",
    "print(\">>> Con un alpha fijo (en este caso, 0.8340), el modelo explica el 83.4% de la varianza de los precios de las casas en el set de test\")\n",
    "print(\"---\")\n",
    "print(f\"Coeficiente de Determinación de Ridge CV (R²): {r2_ridge_cv:.4f}\")\n",
    "print(\">>> Usando el mejor alpha encontrado por validación cruzada (RidgeCV), el resulatdo es muy similar al anterior (0.8346), \" \\\n",
    "\"lo que indica que el ajuste automático de alpha no cambió mucho el desempeño\")\n",
    "print(\"---\")\n",
    "print(f\"Coeficiente de Determinación de Lasso (R²): {r2_lasso:.4f}\")\n",
    "print(\">>> Con un alpha fijo (0.6895), el coeficiente es mucho menor que Ridge y RidgeCV. Lo que indica que, con ese alpha,\" \\\n",
    "\" el modelo Lasso no está capturando tan bien la varianza de los datos\")\n",
    "print(\"---\")\n",
    "print(f\"Coeficiente de Determinación de Lasso CV (R²): {r2_lasso_cv:.4f}\")\n",
    "print(\">>> Usando el mejor alpha encontrado por validación cruzada (LassoCV), el coeficiente mejora mucho (0.8357), casi igualando a Ridge, \" \\\n",
    "\"lo que muestra la importancia de elegir bien el alpha\")\n",
    "print(\"---\")\n",
    "print(f\"Coeficiente de Determinación con GrLivArea y GrLivArea^2: {r2_poly:.4f}\")\n",
    "print(\">>> El valor (0.8349) es prácticamente igual al de Ridge y RidgeCV, lo que indica que agregar el término cuadrático mejora el ajuste respecto \" \\\n",
    "\"a un modelo lineal simple.\")\n",
    "print(\"---\")\n",
    "print(\"Conclusión:\"\n",
    "      f\"\\n>>> Agregar términos polinómicos y ajustar bien los hiperparámetros puede mejorar el desempeño de los modelos de regresión.\")"
   ]
  },
  {
   "cell_type": "markdown",
   "id": "ff485469",
   "metadata": {},
   "source": [
    "----------\n",
    "\n",
    "### **5. Impacto de Outliers:** \n",
    "\n",
    "#### Encuentra la casa más cara en el `df_subset`. Elimínala y vuelve a entrenar el modelo OLS (con el target logarítmico). ¿Cómo cambian los coeficientes y el R²?"
   ]
  },
  {
   "cell_type": "code",
   "execution_count": 33,
   "id": "556f1109",
   "metadata": {},
   "outputs": [
    {
     "name": "stdout",
     "output_type": "stream",
     "text": [
      "R² original: 0.8375326156605083\n",
      "R² sin la casa más cara: 0.8426571109420886\n",
      "---\n",
      "Coeficientes originales:\n",
      "GrLivArea      0.126585\n",
      "OverallQual    0.138404\n",
      "YearBuilt      0.074407\n",
      "TotalBsmtSF    0.044540\n",
      "FullBath      -0.006889\n",
      "GarageCars     0.071504\n",
      "Name: Coeficiente_OLS, dtype: float64\n",
      "---\n",
      "Coeficientes sin outlier:\n",
      "             Coef_sin\n",
      "GrLivArea    0.125544\n",
      "OverallQual  0.139523\n",
      "YearBuilt    0.072556\n",
      "TotalBsmtSF  0.048065\n",
      "FullBath    -0.005993\n",
      "GarageCars   0.070626\n",
      "---\n",
      "Conclusión:\n",
      ">>> Al eliminar el outlier, el modelo OLS mejora su R² de 0.8346 a 0.8357, lo que indica que la presencia de ese \n",
      "    outlier afectaba negativamente al modelo.\n"
     ]
    }
   ],
   "source": [
    "# Encuentor el índice de la casa más cara\n",
    "idx_max = df_subset['SalePrice'].idxmax()\n",
    "\n",
    "# Elimino esa fila del DataFrame\n",
    "df_sin_outlier = df_subset.drop(idx_max)\n",
    "\n",
    "# Preparo los datos como antes\n",
    "X_sin = df_sin_outlier[numeric_features]\n",
    "y_sin = np.log1p(df_sin_outlier[target_variable])\n",
    "\n",
    "X_train_sin, X_test_sin, y_train_sin, y_test_sin = train_test_split(X_sin, y_sin, test_size=0.2, random_state=42)\n",
    "\n",
    "scaler_sin = StandardScaler()\n",
    "X_train_sin_scaled = scaler_sin.fit_transform(X_train_sin)\n",
    "X_test_sin_scaled = scaler_sin.transform(X_test_sin)\n",
    "\n",
    "# Entreno el modelo OLS sin el outlier\n",
    "ols_sin = LinearRegression()\n",
    "ols_sin.fit(X_train_sin_scaled, y_train_sin)\n",
    "y_pred_sin = ols_sin.predict(X_test_sin_scaled)\n",
    "\n",
    "# Evaluo el modelo\n",
    "r2_sin = r2_score(y_test_sin, y_pred_sin)\n",
    "coef_sin = pd.DataFrame(ols_sin.coef_, index=numeric_features, columns=['Coef_sin'])\n",
    "\n",
    "# Comparo contra el modelo original\n",
    "print(\"R² original:\", r2_ols)\n",
    "print(\"R² sin la casa más cara:\", r2_sin)\n",
    "print(\"---\")\n",
    "print(\"Coeficientes originales:\")\n",
    "print(coef_df['Coeficiente_OLS'])\n",
    "print(\"---\")\n",
    "print(\"Coeficientes sin outlier:\")\n",
    "print(coef_sin)\n",
    "\n",
    "print(\"---\")\n",
    "print(\"Conclusión:\"\n",
    "      f\"\\n>>> Al eliminar el outlier, el modelo OLS mejora su R² de 0.8346 a 0.8357, lo que indica que la presencia de ese \"\n",
    "      f\"\\n    outlier afectaba negativamente al modelo.\")"
   ]
  },
  {
   "cell_type": "markdown",
   "id": "ade8b880",
   "metadata": {},
   "source": [
    "----------\n",
    "\n",
    "### **6. Comparar MAE vs MSE:**\n",
    "\n",
    "#### Calcula el `mean_absolute_error` (MAE) para todos los modelos finales (OLS, RidgeCV, LassoCV) en la escala logarítmica. ¿Por qué el MAE es menor que el MSE?"
   ]
  },
  {
   "cell_type": "code",
   "execution_count": 36,
   "id": "e6a39fe7",
   "metadata": {},
   "outputs": [
    {
     "name": "stdout",
     "output_type": "stream",
     "text": [
      "MAE OLS: 0.1213\n",
      "MAE RidgeCV: 0.1219\n",
      "MAE LassoCV: 0.1219\n",
      "\n",
      "¿Por qué el MAE es menor que el MSE?\n",
      "\n",
      "El MAE es el promedio del valor absoluto de los errores, mientras que el MSE eleva los errores al cuadrado\n",
      "antes de promediarlos. Por eso, el MSE penaliza más los errores grandes y suele ser mayor que el MAE.\n"
     ]
    }
   ],
   "source": [
    "mae_ols = mean_absolute_error(y_test, y_pred_ols)\n",
    "mae_ridgecv = mean_absolute_error(y_test, y_pred_ridge_cv)\n",
    "mae_lassocv = mean_absolute_error(y_test, y_pred_lasso_cv)\n",
    "\n",
    "print(f\"MAE OLS: {mae_ols:.4f}\")\n",
    "print(f\"MAE RidgeCV: {mae_ridgecv:.4f}\")\n",
    "print(f\"MAE LassoCV: {mae_lassocv:.4f}\")\n",
    "\n",
    "print(\"\\n¿Por qué el MAE es menor que el MSE?\")\n",
    "print(\"\\nEl MAE es el promedio del valor absoluto de los errores, mientras que el MSE eleva los errores al cuadrado\"\n",
    "    f\"\\nantes de promediarlos. Por eso, el MSE penaliza más los errores grandes y suele ser mayor que el MAE.\")"
   ]
  },
  {
   "cell_type": "markdown",
   "id": "839cbe47",
   "metadata": {},
   "source": [
    "----------\n",
    "\n",
    "### **7. Importancia de Características:**\n",
    "\n",
    "#### Ordena los coeficientes del modelo `RidgeCV` final de mayor a menor en valor absoluto. ¿Cuáles son las 3 características más influyentes según este modelo?"
   ]
  },
  {
   "cell_type": "code",
   "execution_count": 14,
   "id": "f3118875",
   "metadata": {},
   "outputs": [
    {
     "name": "stdout",
     "output_type": "stream",
     "text": [
      "Coeficientes de RidgeCV ordenados por importancia (valor absoluto):\n",
      "OverallQual    0.129720\n",
      "GrLivArea      0.113471\n",
      "GarageCars     0.072278\n",
      "YearBuilt      0.067968\n",
      "TotalBsmtSF    0.049380\n",
      "FullBath       0.006507\n",
      "dtype: float64\n",
      "\n",
      "Las 3 características más influyentes según RidgeCV son:\n",
      "OverallQual    0.129720\n",
      "GrLivArea      0.113471\n",
      "GarageCars     0.072278\n",
      "dtype: float64\n"
     ]
    }
   ],
   "source": [
    "coef_ridgecv = pd.Series(ridge_cv.coef_, index=numeric_features)\n",
    "coef_ordenados = coef_ridgecv.abs().sort_values(ascending=False)\n",
    "\n",
    "print(\"Coeficientes de RidgeCV ordenados por importancia (valor absoluto):\")\n",
    "print(coef_ordenados)\n",
    "\n",
    "print(\"\\nLas 3 características más influyentes según RidgeCV son:\")\n",
    "print(coef_ordenados.head(3))"
   ]
  },
  {
   "cell_type": "markdown",
   "id": "2111037e",
   "metadata": {},
   "source": [
    "----------\n",
    "\n",
    "### **8. Efecto del Alpha en Lasso:**\n",
    "\n",
    "#### Crea un gráfico que muestre cómo cambian los coeficientes de Lasso a medida que `alpha` aumenta. Puedes usar la información almacenada en `lasso_cv.path_`."
   ]
  },
  {
   "cell_type": "code",
   "execution_count": 15,
   "id": "9e9010bf",
   "metadata": {},
   "outputs": [
    {
     "data": {
      "image/png": "[encoded data removed]",
      "text/plain": [
       "<Figure size 800x600 with 1 Axes>"
      ]
     },
     "metadata": {},
     "output_type": "display_data"
    }
   ],
   "source": [
    "from sklearn.linear_model import lasso_path\n",
    "\n",
    "# Calcula el camino de Lasso para los mismos datos y alphas\n",
    "alphas_lasso, coefs_lasso, _ = lasso_path(X_train_scaled, y_train, alphas=alphas)\n",
    "\n",
    "plt.figure(figsize=(8, 6))\n",
    "for i, feature in enumerate(numeric_features):\n",
    "    plt.plot(alphas_lasso, coefs_lasso[i], label=feature)\n",
    "plt.xscale('log')\n",
    "plt.xlabel('Alpha')\n",
    "plt.ylabel('Coeficiente')\n",
    "plt.title('Coeficientes de Lasso vs Alpha')\n",
    "plt.legend()\n",
    "plt.grid(True)\n",
    "plt.show()"
   ]
  },
  {
   "cell_type": "markdown",
   "id": "2a554295",
   "metadata": {},
   "source": [
    "----------\n",
    "\n",
    "### **9. Regresión Lineal Simple vs. Múltiple:**\n",
    "\n",
    "#### Entrena un modelo de regresión lineal simple para cada una de las características en `numeric_features` por separado. Compara el coeficiente de cada característica en su modelo simple con su coeficiente en el modelo múltiple (OLS). ¿Por qué son diferentes?"
   ]
  },
  {
   "cell_type": "code",
   "execution_count": 38,
   "id": "8e499f04",
   "metadata": {},
   "outputs": [
    {
     "name": "stdout",
     "output_type": "stream",
     "text": [
      "Comparación de coeficientes (simple vs múltiple):\n",
      "             Coef_simple  Coef_multiple\n",
      "GrLivArea       0.269017       0.126585\n",
      "OverallQual     0.315453       0.138404\n",
      "YearBuilt       0.225176       0.074407\n",
      "TotalBsmtSF     0.233176       0.044540\n",
      "FullBath        0.227917      -0.006889\n",
      "GarageCars      0.267236       0.071504\n",
      "\n",
      "¿Por qué son diferentes?\n",
      "En la regresión simple, cada coeficiente mide el efecto de esa variable sin controlar por las demás. \n",
      "En la múltiple, cada coeficiente mide el efecto de esa variable manteniendo las otras constantes. \n",
      "Si las variables están correlacionadas entre sí, los coeficientes pueden diferir significativamente entre los dos enfoques.\n"
     ]
    }
   ],
   "source": [
    "coef_simple = {}\n",
    "\n",
    "for feature in numeric_features:\n",
    "    X_train_f = X_train_scaled[[feature]]\n",
    "    X_test_f = X_test_scaled[[feature]]\n",
    "    model_simple = LinearRegression()\n",
    "    model_simple.fit(X_train_f, y_train)\n",
    "    coef_simple[feature] = model_simple.coef_[0]\n",
    "\n",
    "# DataFrame para comparar\n",
    "df_comparacion = pd.DataFrame({\n",
    "    'Coef_simple': pd.Series(coef_simple),\n",
    "    'Coef_multiple': ols_model.coef_\n",
    "}, index=numeric_features)\n",
    "\n",
    "print(\"Comparación de coeficientes (simple vs múltiple):\")\n",
    "print(df_comparacion)\n",
    "\n",
    "print(\"\\n¿Por qué son diferentes?\")\n",
    "print(\"En la regresión simple, cada coeficiente mide el efecto de esa variable sin controlar por las demás. \"\n",
    "      f\"\\nEn la múltiple, cada coeficiente mide el efecto de esa variable manteniendo las otras constantes. \"\n",
    "      f\"\\nSi las variables están correlacionadas entre sí, los coeficientes pueden diferir significativamente entre los dos enfoques.\")"
   ]
  },
  {
   "cell_type": "markdown",
   "id": "5f6a6eba",
   "metadata": {},
   "source": [
    "----------\n",
    "\n",
    "### **10. Modelo para Producción:**\n",
    "\n",
    "#### Si tuvieras que elegir uno de los modelos entrenados para ponerlo en producción y predecir precios de casas para un cliente, ¿cuál elegirías y por qué? Justifica tu respuesta basándote en el rendimiento (R², MSE), la interpretabilidad (coeficientes) y la simplicidad del modelo."
   ]
  },
  {
   "cell_type": "markdown",
   "id": "864ff62d",
   "metadata": {},
   "source": [
    "**Respuesta**: Si tuviera que elegir un modelo para producción, elegiría **LassoCV**.  \n",
    "\n",
    "**Justificación:**\n",
    "\n",
    "- **Rendimiento:** LassoCV obtiene un R² y un MSE muy similares a RidgeCV y OLS, por lo que su capacidad predictiva es alta.\n",
    "- **Interpretabilidad:** LassoCV realiza selección automática de variables, dejando coeficientes exactamente en cero para las variables menos relevantes. Esto facilita explicar el modelo al cliente y centrarse solo en las variables importantes.\n",
    "- **Simplicidad:** Al eliminar variables irrelevantes, el modelo es más simple y menos propenso al sobreajuste.\n",
    "\n",
    "**En resumen:**  \n",
    "LassoCV ofrece un buen equilibrio entre precisión, interpretabilidad y simplicidad, lo que lo hace ideal para producción en este caso."
   ]
  }
 ],
 "metadata": {
  "colab": {
   "provenance": []
  },
  "kernelspec": {
   "display_name": "Python 3",
   "language": "python",
   "name": "python3"
  },
  "language_info": {
   "codemirror_mode": {
    "name": "ipython",
    "version": 3
   },
   "file_extension": ".py",
   "mimetype": "text/x-python",
   "name": "python",
   "nbconvert_exporter": "python",
   "pygments_lexer": "ipython3",
   "version": "3.11.9"
  }
 },
 "nbformat": 4,
 "nbformat_minor": 5
}
